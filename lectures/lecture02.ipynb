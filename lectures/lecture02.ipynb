{
 "cells": [
  {
   "cell_type": "markdown",
   "id": "c4acde88",
   "metadata": {},
   "source": [
    "# Julia for Data Analysis\n",
    "\n",
    "## Bogumił Kamiński"
   ]
  },
  {
   "cell_type": "markdown",
   "id": "ee04587f",
   "metadata": {},
   "source": [
    "# Lecture 2. Getting started with Julia"
   ]
  },
  {
   "cell_type": "markdown",
   "id": "fded7616",
   "metadata": {},
   "source": [
    "I recommend you refer to the [Julia Manual](https://docs.julialang.org/en/v1/) for\n",
    "a complete introduction to Julia programming."
   ]
  },
  {
   "cell_type": "markdown",
   "id": "0f820158",
   "metadata": {},
   "source": [
    "## Representing values"
   ]
  },
  {
   "cell_type": "code",
   "execution_count": null,
   "id": "2338b85b",
   "metadata": {},
   "outputs": [],
   "source": [
    "using Pkg\n",
    "Pkg.activate(Base.current_project())"
   ]
  },
  {
   "cell_type": "code",
   "execution_count": 1,
   "id": "54e865e9",
   "metadata": {},
   "outputs": [
    {
     "data": {
      "text/plain": [
       "1"
      ]
     },
     "execution_count": 1,
     "metadata": {},
     "output_type": "execute_result"
    }
   ],
   "source": [
    "1"
   ]
  },
  {
   "cell_type": "code",
   "execution_count": 2,
   "id": "6860fbe4",
   "metadata": {},
   "outputs": [
    {
     "data": {
      "text/plain": [
       "true"
      ]
     },
     "execution_count": 2,
     "metadata": {},
     "output_type": "execute_result"
    }
   ],
   "source": [
    "true"
   ]
  },
  {
   "cell_type": "code",
   "execution_count": 3,
   "id": "c1ae867b",
   "metadata": {},
   "outputs": [
    {
     "data": {
      "text/plain": [
       "\"Hello world!\""
      ]
     },
     "execution_count": 3,
     "metadata": {},
     "output_type": "execute_result"
    }
   ],
   "source": [
    "\"Hello world!\""
   ]
  },
  {
   "cell_type": "code",
   "execution_count": 4,
   "id": "aaf3d077",
   "metadata": {},
   "outputs": [
    {
     "data": {
      "text/plain": [
       "0.1"
      ]
     },
     "execution_count": 4,
     "metadata": {},
     "output_type": "execute_result"
    }
   ],
   "source": [
    "0.1"
   ]
  },
  {
   "cell_type": "code",
   "execution_count": 5,
   "id": "b6e89c20",
   "metadata": {},
   "outputs": [
    {
     "data": {
      "text/plain": [
       "3-element Vector{Int64}:\n",
       " 1\n",
       " 2\n",
       " 3"
      ]
     },
     "execution_count": 5,
     "metadata": {},
     "output_type": "execute_result"
    }
   ],
   "source": [
    "[1, 2, 3]"
   ]
  },
  {
   "cell_type": "markdown",
   "id": "15e776c8",
   "metadata": {},
   "source": [
    "## Checking type of value"
   ]
  },
  {
   "cell_type": "code",
   "execution_count": 6,
   "id": "89c21c24",
   "metadata": {},
   "outputs": [
    {
     "data": {
      "text/plain": [
       "Int64"
      ]
     },
     "execution_count": 6,
     "metadata": {},
     "output_type": "execute_result"
    }
   ],
   "source": [
    "typeof(1)"
   ]
  },
  {
   "cell_type": "code",
   "execution_count": 7,
   "id": "7f86d528",
   "metadata": {},
   "outputs": [
    {
     "data": {
      "text/plain": [
       "Bool"
      ]
     },
     "execution_count": 7,
     "metadata": {},
     "output_type": "execute_result"
    }
   ],
   "source": [
    "typeof(true)"
   ]
  },
  {
   "cell_type": "code",
   "execution_count": 8,
   "id": "366f678b",
   "metadata": {},
   "outputs": [
    {
     "data": {
      "text/plain": [
       "String"
      ]
     },
     "execution_count": 8,
     "metadata": {},
     "output_type": "execute_result"
    }
   ],
   "source": [
    "typeof(\"Hello world!\")"
   ]
  },
  {
   "cell_type": "code",
   "execution_count": 9,
   "id": "7ec5997f",
   "metadata": {},
   "outputs": [
    {
     "data": {
      "text/plain": [
       "Float64"
      ]
     },
     "execution_count": 9,
     "metadata": {},
     "output_type": "execute_result"
    }
   ],
   "source": [
    "typeof(0.1)"
   ]
  },
  {
   "cell_type": "code",
   "execution_count": 10,
   "id": "9d32b5e5",
   "metadata": {},
   "outputs": [
    {
     "data": {
      "text/plain": [
       "Vector{Int64} (alias for Array{Int64, 1})"
      ]
     },
     "execution_count": 10,
     "metadata": {},
     "output_type": "execute_result"
    }
   ],
   "source": [
    "typeof([1, 2, 3])"
   ]
  },
  {
   "cell_type": "markdown",
   "id": "aa2c9ec2",
   "metadata": {},
   "source": [
    "## Checking binary representation of a value"
   ]
  },
  {
   "cell_type": "code",
   "execution_count": 11,
   "id": "e711650d",
   "metadata": {},
   "outputs": [
    {
     "data": {
      "text/plain": [
       "\"0000000000000000000000000000000000000000000000000000000000000001\""
      ]
     },
     "execution_count": 11,
     "metadata": {},
     "output_type": "execute_result"
    }
   ],
   "source": [
    "bitstring(1)"
   ]
  },
  {
   "cell_type": "code",
   "execution_count": 12,
   "id": "422f0b8f",
   "metadata": {},
   "outputs": [
    {
     "data": {
      "text/plain": [
       "\"0011111111110000000000000000000000000000000000000000000000000000\""
      ]
     },
     "execution_count": 12,
     "metadata": {},
     "output_type": "execute_result"
    }
   ],
   "source": [
    "bitstring(1.0)"
   ]
  },
  {
   "cell_type": "code",
   "execution_count": 13,
   "id": "13b6d5a1",
   "metadata": {},
   "outputs": [
    {
     "data": {
      "text/plain": [
       "\"00000001\""
      ]
     },
     "execution_count": 13,
     "metadata": {},
     "output_type": "execute_result"
    }
   ],
   "source": [
    "bitstring(Int8(1))"
   ]
  },
  {
   "cell_type": "markdown",
   "id": "0f4083d1",
   "metadata": {},
   "source": [
    "### Testing type of a value using `isa`"
   ]
  },
  {
   "cell_type": "code",
   "execution_count": 14,
   "id": "43177efc",
   "metadata": {},
   "outputs": [
    {
     "data": {
      "text/plain": [
       "true"
      ]
     },
     "execution_count": 14,
     "metadata": {},
     "output_type": "execute_result"
    }
   ],
   "source": [
    "[1, 2, 3] isa Vector{Int}"
   ]
  },
  {
   "cell_type": "code",
   "execution_count": 15,
   "id": "11095158",
   "metadata": {},
   "outputs": [
    {
     "data": {
      "text/plain": [
       "true"
      ]
     },
     "execution_count": 15,
     "metadata": {},
     "output_type": "execute_result"
    }
   ],
   "source": [
    "[1, 2, 3] isa Array{Int64, 1}"
   ]
  },
  {
   "cell_type": "markdown",
   "id": "5edd8f93",
   "metadata": {},
   "source": [
    "## Binding of variable names to values (no copying of data is pefromed)"
   ]
  },
  {
   "cell_type": "code",
   "execution_count": 16,
   "id": "e984adcb",
   "metadata": {},
   "outputs": [
    {
     "data": {
      "text/plain": [
       "1"
      ]
     },
     "execution_count": 16,
     "metadata": {},
     "output_type": "execute_result"
    }
   ],
   "source": [
    "x = 1"
   ]
  },
  {
   "cell_type": "code",
   "execution_count": 17,
   "id": "dc2124b0",
   "metadata": {},
   "outputs": [
    {
     "data": {
      "text/plain": [
       "3-element Vector{Int64}:\n",
       " 1\n",
       " 2\n",
       " 3"
      ]
     },
     "execution_count": 17,
     "metadata": {},
     "output_type": "execute_result"
    }
   ],
   "source": [
    "y = [1, 2, 3]"
   ]
  },
  {
   "cell_type": "markdown",
   "id": "f7f96dab",
   "metadata": {},
   "source": [
    "### Using Unicode in variable names"
   ]
  },
  {
   "cell_type": "code",
   "execution_count": 18,
   "id": "870fda7e",
   "metadata": {},
   "outputs": [
    {
     "data": {
      "text/plain": [
       "1"
      ]
     },
     "execution_count": 18,
     "metadata": {},
     "output_type": "execute_result"
    }
   ],
   "source": [
    "Kamiński = 1"
   ]
  },
  {
   "cell_type": "code",
   "execution_count": 19,
   "id": "79e9da7e",
   "metadata": {},
   "outputs": [
    {
     "data": {
      "text/plain": [
       "0.5"
      ]
     },
     "execution_count": 19,
     "metadata": {},
     "output_type": "execute_result"
    }
   ],
   "source": [
    "x₁ = 0.5"
   ]
  },
  {
   "cell_type": "code",
   "execution_count": 20,
   "id": "c1ce5653",
   "metadata": {},
   "outputs": [
    {
     "data": {
      "text/plain": [
       "0.0001"
      ]
     },
     "execution_count": 20,
     "metadata": {},
     "output_type": "execute_result"
    }
   ],
   "source": [
    "ε = 0.0001"
   ]
  },
  {
   "cell_type": "code",
   "execution_count": 21,
   "id": "4ac73c27",
   "metadata": {},
   "outputs": [
    {
     "name": "stdout",
     "output_type": "stream",
     "text": [
      "\"\u001b[36m₁\u001b[39m\" can be typed by \u001b[36m\\_1<tab>\u001b[39m\n",
      "\n",
      "search: x\u001b[0m\u001b[1m₁\u001b[22m\n",
      "\n",
      "Couldn't find \u001b[36m₁\u001b[39m\n",
      "Perhaps you meant x₁, x, y, ε, !, %, &, ', *, +, -, /, :, <, >, \\, ^, |, ~ or ÷\n"
     ]
    },
    {
     "data": {
      "text/latex": [
       "No documentation found.\n",
       "\n",
       "Binding \\texttt{₁} does not exist.\n",
       "\n"
      ],
      "text/markdown": [
       "No documentation found.\n",
       "\n",
       "Binding `₁` does not exist.\n"
      ],
      "text/plain": [
       "  No documentation found.\n",
       "\n",
       "  Binding \u001b[36m₁\u001b[39m does not exist."
      ]
     },
     "execution_count": 21,
     "metadata": {},
     "output_type": "execute_result"
    }
   ],
   "source": [
    "? ₁"
   ]
  },
  {
   "cell_type": "code",
   "execution_count": 22,
   "id": "96a89bc0",
   "metadata": {},
   "outputs": [
    {
     "name": "stdout",
     "output_type": "stream",
     "text": [
      "\"\u001b[36mε\u001b[39m\" can be typed by \u001b[36m\\varepsilon<tab>\u001b[39m\n",
      "\n",
      "search: \u001b[0m\u001b[1mε\u001b[22m\n",
      "\n"
     ]
    },
    {
     "data": {
      "text/latex": [
       "No documentation found.\n",
       "\n",
       "\\texttt{ε} is of type \\texttt{Float64}.\n",
       "\n",
       "\\section{Summary}\n",
       "\\begin{verbatim}\n",
       "primitive type Float64\n",
       "\\end{verbatim}\n",
       "\\section{Supertype Hierarchy}\n",
       "\\begin{verbatim}\n",
       "Float64 <: AbstractFloat <: Real <: Number <: Any\n",
       "\\end{verbatim}\n"
      ],
      "text/markdown": [
       "No documentation found.\n",
       "\n",
       "`ε` is of type `Float64`.\n",
       "\n",
       "# Summary\n",
       "\n",
       "```\n",
       "primitive type Float64\n",
       "```\n",
       "\n",
       "# Supertype Hierarchy\n",
       "\n",
       "```\n",
       "Float64 <: AbstractFloat <: Real <: Number <: Any\n",
       "```\n"
      ],
      "text/plain": [
       "  No documentation found.\n",
       "\n",
       "  \u001b[36mε\u001b[39m is of type \u001b[36mFloat64\u001b[39m.\n",
       "\n",
       "\u001b[1m  Summary\u001b[22m\n",
       "\u001b[1m  ≡≡≡≡≡≡≡≡≡\u001b[22m\n",
       "\n",
       "\u001b[36m  primitive type Float64\u001b[39m\n",
       "\n",
       "\u001b[1m  Supertype Hierarchy\u001b[22m\n",
       "\u001b[1m  ≡≡≡≡≡≡≡≡≡≡≡≡≡≡≡≡≡≡≡≡≡\u001b[22m\n",
       "\n",
       "\u001b[36m  Float64 <: AbstractFloat <: Real <: Number <: Any\u001b[39m"
      ]
     },
     "execution_count": 22,
     "metadata": {},
     "output_type": "execute_result"
    }
   ],
   "source": [
    "? ε"
   ]
  },
  {
   "cell_type": "markdown",
   "id": "e8fe4b4d",
   "metadata": {},
   "source": [
    "## Most important control flow constructs"
   ]
  },
  {
   "cell_type": "markdown",
   "id": "5bb53ef1",
   "metadata": {},
   "source": [
    "### Performing computations depending on Boolean condition"
   ]
  },
  {
   "cell_type": "markdown",
   "id": "e985b76b",
   "metadata": {},
   "source": [
    "#### Conditional evaluation"
   ]
  },
  {
   "cell_type": "code",
   "execution_count": 23,
   "id": "13b32e07",
   "metadata": {},
   "outputs": [
    {
     "data": {
      "text/plain": [
       "-7"
      ]
     },
     "execution_count": 23,
     "metadata": {},
     "output_type": "execute_result"
    }
   ],
   "source": [
    "x = -7"
   ]
  },
  {
   "cell_type": "code",
   "execution_count": 24,
   "id": "53899ab0",
   "metadata": {},
   "outputs": [
    {
     "name": "stdout",
     "output_type": "stream",
     "text": [
      "negative\n"
     ]
    }
   ],
   "source": [
    "if x > 0\n",
    "    println(\"positive\")\n",
    "elseif x < 0\n",
    "    println(\"negative\")\n",
    "elseif x == 0\n",
    "    println(\"zero\")\n",
    "else\n",
    "    println(\"unexpected condition\")\n",
    "end"
   ]
  },
  {
   "cell_type": "code",
   "execution_count": 25,
   "id": "2711551b",
   "metadata": {},
   "outputs": [
    {
     "data": {
      "text/plain": [
       "-7"
      ]
     },
     "execution_count": 25,
     "metadata": {},
     "output_type": "execute_result"
    }
   ],
   "source": [
    "x = -7"
   ]
  },
  {
   "cell_type": "code",
   "execution_count": 26,
   "id": "084bf6ad",
   "metadata": {},
   "outputs": [
    {
     "ename": "LoadError",
     "evalue": "TypeError: non-boolean (Int64) used in boolean context",
     "output_type": "error",
     "traceback": [
      "TypeError: non-boolean (Int64) used in boolean context",
      "",
      "Stacktrace:",
      " [1] top-level scope",
      "   @ In[26]:1",
      " [2] eval",
      "   @ .\\boot.jl:373 [inlined]",
      " [3] include_string(mapexpr::typeof(REPL.softscope), mod::Module, code::String, filename::String)",
      "   @ Base .\\loading.jl:1196"
     ]
    }
   ],
   "source": [
    "if x\n",
    "    println(\"condition was true\")\n",
    "end"
   ]
  },
  {
   "cell_type": "markdown",
   "id": "e086630f",
   "metadata": {},
   "source": [
    "#### Comparisons of floating point values"
   ]
  },
  {
   "cell_type": "code",
   "execution_count": 27,
   "id": "126bfe3e",
   "metadata": {},
   "outputs": [
    {
     "data": {
      "text/plain": [
       "false"
      ]
     },
     "execution_count": 27,
     "metadata": {},
     "output_type": "execute_result"
    }
   ],
   "source": [
    "NaN > 0"
   ]
  },
  {
   "cell_type": "code",
   "execution_count": 28,
   "id": "82a9362d",
   "metadata": {},
   "outputs": [
    {
     "data": {
      "text/plain": [
       "false"
      ]
     },
     "execution_count": 28,
     "metadata": {},
     "output_type": "execute_result"
    }
   ],
   "source": [
    "NaN >= 0"
   ]
  },
  {
   "cell_type": "code",
   "execution_count": 29,
   "id": "5494df67",
   "metadata": {},
   "outputs": [
    {
     "data": {
      "text/plain": [
       "false"
      ]
     },
     "execution_count": 29,
     "metadata": {},
     "output_type": "execute_result"
    }
   ],
   "source": [
    "NaN < 0"
   ]
  },
  {
   "cell_type": "code",
   "execution_count": 30,
   "id": "91a505af",
   "metadata": {},
   "outputs": [
    {
     "data": {
      "text/plain": [
       "false"
      ]
     },
     "execution_count": 30,
     "metadata": {},
     "output_type": "execute_result"
    }
   ],
   "source": [
    "NaN <= 0"
   ]
  },
  {
   "cell_type": "code",
   "execution_count": 31,
   "id": "c9a5bc42",
   "metadata": {},
   "outputs": [
    {
     "data": {
      "text/plain": [
       "false"
      ]
     },
     "execution_count": 31,
     "metadata": {},
     "output_type": "execute_result"
    }
   ],
   "source": [
    "NaN == 0"
   ]
  },
  {
   "cell_type": "code",
   "execution_count": 32,
   "id": "cc753ada",
   "metadata": {},
   "outputs": [
    {
     "data": {
      "text/plain": [
       "true"
      ]
     },
     "execution_count": 32,
     "metadata": {},
     "output_type": "execute_result"
    }
   ],
   "source": [
    "NaN != 0"
   ]
  },
  {
   "cell_type": "code",
   "execution_count": 33,
   "id": "cc79a61b",
   "metadata": {},
   "outputs": [
    {
     "data": {
      "text/plain": [
       "true"
      ]
     },
     "execution_count": 33,
     "metadata": {},
     "output_type": "execute_result"
    }
   ],
   "source": [
    "NaN != NaN"
   ]
  },
  {
   "cell_type": "code",
   "execution_count": 34,
   "id": "9d496c94",
   "metadata": {},
   "outputs": [
    {
     "data": {
      "text/plain": [
       "false"
      ]
     },
     "execution_count": 34,
     "metadata": {},
     "output_type": "execute_result"
    }
   ],
   "source": [
    "0.1 + 0.2 == 0.3"
   ]
  },
  {
   "cell_type": "code",
   "execution_count": 35,
   "id": "4e3efef5",
   "metadata": {},
   "outputs": [
    {
     "data": {
      "text/plain": [
       "0.30000000000000004"
      ]
     },
     "execution_count": 35,
     "metadata": {},
     "output_type": "execute_result"
    }
   ],
   "source": [
    "0.1 + 0.2"
   ]
  },
  {
   "cell_type": "code",
   "execution_count": 36,
   "id": "cec4ff59",
   "metadata": {},
   "outputs": [
    {
     "data": {
      "text/plain": [
       "true"
      ]
     },
     "execution_count": 36,
     "metadata": {},
     "output_type": "execute_result"
    }
   ],
   "source": [
    "isapprox(0.1 + 0.2, 0.3)"
   ]
  },
  {
   "cell_type": "code",
   "execution_count": 37,
   "id": "fbb49845",
   "metadata": {},
   "outputs": [
    {
     "data": {
      "text/plain": [
       "true"
      ]
     },
     "execution_count": 37,
     "metadata": {},
     "output_type": "execute_result"
    }
   ],
   "source": [
    "0.1 + 0.2 ≈ 0.3"
   ]
  },
  {
   "cell_type": "code",
   "execution_count": 38,
   "id": "a3bfc4ed",
   "metadata": {},
   "outputs": [
    {
     "name": "stdout",
     "output_type": "stream",
     "text": [
      "\"\u001b[36m≈\u001b[39m\" can be typed by \u001b[36m\\approx<tab>\u001b[39m\n",
      "\n",
      "search: \u001b[0m\u001b[1m≈\u001b[22m\n",
      "\n"
     ]
    },
    {
     "data": {
      "text/latex": [
       "\\begin{verbatim}\n",
       "isapprox(x, y; atol::Real=0, rtol::Real=atol>0 ? 0 : √eps, nans::Bool=false[, norm::Function])\n",
       "\\end{verbatim}\n",
       "Inexact equality comparison. Two numbers compare equal if their relative distance \\emph{or} their absolute distance is within tolerance bounds: \\texttt{isapprox} returns \\texttt{true} if \\texttt{norm(x-y) <= max(atol, rtol*max(norm(x), norm(y)))}. The default \\texttt{atol} is zero and the default \\texttt{rtol} depends on the types of \\texttt{x} and \\texttt{y}. The keyword argument \\texttt{nans} determines whether or not NaN values are considered equal (defaults to false).\n",
       "\n",
       "For real or complex floating-point values, if an \\texttt{atol > 0} is not specified, \\texttt{rtol} defaults to the square root of \\href{@ref}{\\texttt{eps}} of the type of \\texttt{x} or \\texttt{y}, whichever is bigger (least precise). This corresponds to requiring equality of about half of the significand digits. Otherwise, e.g. for integer arguments or if an \\texttt{atol > 0} is supplied, \\texttt{rtol} defaults to zero.\n",
       "\n",
       "The \\texttt{norm} keyword defaults to \\texttt{abs} for numeric \\texttt{(x,y)} and to \\texttt{LinearAlgebra.norm} for arrays (where an alternative \\texttt{norm} choice is sometimes useful). When \\texttt{x} and \\texttt{y} are arrays, if \\texttt{norm(x-y)} is not finite (i.e. \\texttt{±Inf} or \\texttt{NaN}), the comparison falls back to checking whether all elements of \\texttt{x} and \\texttt{y} are approximately equal component-wise.\n",
       "\n",
       "The binary operator \\texttt{≈} is equivalent to \\texttt{isapprox} with the default arguments, and \\texttt{x ≉ y} is equivalent to \\texttt{!isapprox(x,y)}.\n",
       "\n",
       "Note that \\texttt{x ≈ 0} (i.e., comparing to zero with the default tolerances) is equivalent to \\texttt{x == 0} since the default \\texttt{atol} is \\texttt{0}.  In such cases, you should either supply an appropriate \\texttt{atol} (or use \\texttt{norm(x) ≤ atol}) or rearrange your code (e.g. use \\texttt{x ≈ y} rather than \\texttt{x - y ≈ 0}).   It is not possible to pick a nonzero \\texttt{atol} automatically because it depends on the overall scaling (the \"units\") of your problem: for example, in \\texttt{x - y ≈ 0}, \\texttt{atol=1e-9} is an absurdly small tolerance if \\texttt{x} is the \\href{https://en.wikipedia.org/wiki/Earth_radius}{radius of the Earth} in meters, but an absurdly large tolerance if \\texttt{x} is the \\href{https://en.wikipedia.org/wiki/Bohr_radius}{radius of a Hydrogen atom} in meters.\n",
       "\n",
       "\\begin{quote}\n",
       "\\textbf{compat}\n",
       "\n",
       "Julia 1.6\n",
       "\n",
       "Passing the \\texttt{norm} keyword argument when comparing numeric (non-array) arguments requires Julia 1.6 or later.\n",
       "\n",
       "\\end{quote}\n",
       "\\section{Examples}\n",
       "\\begin{verbatim}\n",
       "julia> isapprox(0.1, 0.15; atol=0.05)\n",
       "true\n",
       "\n",
       "julia> isapprox(0.1, 0.15; rtol=0.34)\n",
       "true\n",
       "\n",
       "julia> isapprox(0.1, 0.15; rtol=0.33)\n",
       "false\n",
       "\n",
       "julia> 0.1 + 1e-10 ≈ 0.1\n",
       "true\n",
       "\n",
       "julia> 1e-10 ≈ 0\n",
       "false\n",
       "\n",
       "julia> isapprox(1e-10, 0, atol=1e-8)\n",
       "true\n",
       "\n",
       "julia> isapprox([10.0^9, 1.0], [10.0^9, 2.0]) # using `norm`\n",
       "true\n",
       "\\end{verbatim}\n",
       "\\rule{\\textwidth}{1pt}\n",
       "\\begin{verbatim}\n",
       "isapprox(x; kwargs...) / ≈(x; kwargs...)\n",
       "\\end{verbatim}\n",
       "Create a function that compares its argument to \\texttt{x} using \\texttt{≈}, i.e. a function equivalent to \\texttt{y -> y ≈ x}.\n",
       "\n",
       "The keyword arguments supported here are the same as those in the 2-argument \\texttt{isapprox}.\n",
       "\n",
       "\\begin{quote}\n",
       "\\textbf{compat}\n",
       "\n",
       "Julia 1.5\n",
       "\n",
       "This method requires Julia 1.5 or later.\n",
       "\n",
       "\\end{quote}\n"
      ],
      "text/markdown": [
       "```\n",
       "isapprox(x, y; atol::Real=0, rtol::Real=atol>0 ? 0 : √eps, nans::Bool=false[, norm::Function])\n",
       "```\n",
       "\n",
       "Inexact equality comparison. Two numbers compare equal if their relative distance *or* their absolute distance is within tolerance bounds: `isapprox` returns `true` if `norm(x-y) <= max(atol, rtol*max(norm(x), norm(y)))`. The default `atol` is zero and the default `rtol` depends on the types of `x` and `y`. The keyword argument `nans` determines whether or not NaN values are considered equal (defaults to false).\n",
       "\n",
       "For real or complex floating-point values, if an `atol > 0` is not specified, `rtol` defaults to the square root of [`eps`](@ref) of the type of `x` or `y`, whichever is bigger (least precise). This corresponds to requiring equality of about half of the significand digits. Otherwise, e.g. for integer arguments or if an `atol > 0` is supplied, `rtol` defaults to zero.\n",
       "\n",
       "The `norm` keyword defaults to `abs` for numeric `(x,y)` and to `LinearAlgebra.norm` for arrays (where an alternative `norm` choice is sometimes useful). When `x` and `y` are arrays, if `norm(x-y)` is not finite (i.e. `±Inf` or `NaN`), the comparison falls back to checking whether all elements of `x` and `y` are approximately equal component-wise.\n",
       "\n",
       "The binary operator `≈` is equivalent to `isapprox` with the default arguments, and `x ≉ y` is equivalent to `!isapprox(x,y)`.\n",
       "\n",
       "Note that `x ≈ 0` (i.e., comparing to zero with the default tolerances) is equivalent to `x == 0` since the default `atol` is `0`.  In such cases, you should either supply an appropriate `atol` (or use `norm(x) ≤ atol`) or rearrange your code (e.g. use `x ≈ y` rather than `x - y ≈ 0`).   It is not possible to pick a nonzero `atol` automatically because it depends on the overall scaling (the \"units\") of your problem: for example, in `x - y ≈ 0`, `atol=1e-9` is an absurdly small tolerance if `x` is the [radius of the Earth](https://en.wikipedia.org/wiki/Earth_radius) in meters, but an absurdly large tolerance if `x` is the [radius of a Hydrogen atom](https://en.wikipedia.org/wiki/Bohr_radius) in meters.\n",
       "\n",
       "!!! compat \"Julia 1.6\"\n",
       "    Passing the `norm` keyword argument when comparing numeric (non-array) arguments requires Julia 1.6 or later.\n",
       "\n",
       "\n",
       "# Examples\n",
       "\n",
       "```jldoctest\n",
       "julia> isapprox(0.1, 0.15; atol=0.05)\n",
       "true\n",
       "\n",
       "julia> isapprox(0.1, 0.15; rtol=0.34)\n",
       "true\n",
       "\n",
       "julia> isapprox(0.1, 0.15; rtol=0.33)\n",
       "false\n",
       "\n",
       "julia> 0.1 + 1e-10 ≈ 0.1\n",
       "true\n",
       "\n",
       "julia> 1e-10 ≈ 0\n",
       "false\n",
       "\n",
       "julia> isapprox(1e-10, 0, atol=1e-8)\n",
       "true\n",
       "\n",
       "julia> isapprox([10.0^9, 1.0], [10.0^9, 2.0]) # using `norm`\n",
       "true\n",
       "```\n",
       "\n",
       "---\n",
       "\n",
       "```\n",
       "isapprox(x; kwargs...) / ≈(x; kwargs...)\n",
       "```\n",
       "\n",
       "Create a function that compares its argument to `x` using `≈`, i.e. a function equivalent to `y -> y ≈ x`.\n",
       "\n",
       "The keyword arguments supported here are the same as those in the 2-argument `isapprox`.\n",
       "\n",
       "!!! compat \"Julia 1.5\"\n",
       "    This method requires Julia 1.5 or later.\n",
       "\n"
      ],
      "text/plain": [
       "\u001b[36m  isapprox(x, y; atol::Real=0, rtol::Real=atol>0 ? 0 : √eps, nans::Bool=false[, norm::Function])\u001b[39m\n",
       "\n",
       "  Inexact equality comparison. Two numbers compare equal if their relative\n",
       "  distance \u001b[4mor\u001b[24m their absolute distance is within tolerance bounds: \u001b[36misapprox\u001b[39m\n",
       "  returns \u001b[36mtrue\u001b[39m if \u001b[36mnorm(x-y) <= max(atol, rtol*max(norm(x), norm(y)))\u001b[39m. The\n",
       "  default \u001b[36matol\u001b[39m is zero and the default \u001b[36mrtol\u001b[39m depends on the types of \u001b[36mx\u001b[39m and \u001b[36my\u001b[39m.\n",
       "  The keyword argument \u001b[36mnans\u001b[39m determines whether or not NaN values are\n",
       "  considered equal (defaults to false).\n",
       "\n",
       "  For real or complex floating-point values, if an \u001b[36matol > 0\u001b[39m is not specified,\n",
       "  \u001b[36mrtol\u001b[39m defaults to the square root of \u001b[36meps\u001b[39m of the type of \u001b[36mx\u001b[39m or \u001b[36my\u001b[39m, whichever is\n",
       "  bigger (least precise). This corresponds to requiring equality of about half\n",
       "  of the significand digits. Otherwise, e.g. for integer arguments or if an\n",
       "  \u001b[36matol > 0\u001b[39m is supplied, \u001b[36mrtol\u001b[39m defaults to zero.\n",
       "\n",
       "  The \u001b[36mnorm\u001b[39m keyword defaults to \u001b[36mabs\u001b[39m for numeric \u001b[36m(x,y)\u001b[39m and to \u001b[36mLinearAlgebra.norm\u001b[39m\n",
       "  for arrays (where an alternative \u001b[36mnorm\u001b[39m choice is sometimes useful). When \u001b[36mx\u001b[39m\n",
       "  and \u001b[36my\u001b[39m are arrays, if \u001b[36mnorm(x-y)\u001b[39m is not finite (i.e. \u001b[36m±Inf\u001b[39m or \u001b[36mNaN\u001b[39m), the\n",
       "  comparison falls back to checking whether all elements of \u001b[36mx\u001b[39m and \u001b[36my\u001b[39m are\n",
       "  approximately equal component-wise.\n",
       "\n",
       "  The binary operator \u001b[36m≈\u001b[39m is equivalent to \u001b[36misapprox\u001b[39m with the default arguments,\n",
       "  and \u001b[36mx ≉ y\u001b[39m is equivalent to \u001b[36m!isapprox(x,y)\u001b[39m.\n",
       "\n",
       "  Note that \u001b[36mx ≈ 0\u001b[39m (i.e., comparing to zero with the default tolerances) is\n",
       "  equivalent to \u001b[36mx == 0\u001b[39m since the default \u001b[36matol\u001b[39m is \u001b[36m0\u001b[39m. In such cases, you should\n",
       "  either supply an appropriate \u001b[36matol\u001b[39m (or use \u001b[36mnorm(x) ≤ atol\u001b[39m) or rearrange your\n",
       "  code (e.g. use \u001b[36mx ≈ y\u001b[39m rather than \u001b[36mx - y ≈ 0\u001b[39m). It is not possible to pick a\n",
       "  nonzero \u001b[36matol\u001b[39m automatically because it depends on the overall scaling (the\n",
       "  \"units\") of your problem: for example, in \u001b[36mx - y ≈ 0\u001b[39m, \u001b[36matol=1e-9\u001b[39m is an\n",
       "  absurdly small tolerance if \u001b[36mx\u001b[39m is the radius of the Earth\n",
       "  (https://en.wikipedia.org/wiki/Earth_radius) in meters, but an absurdly\n",
       "  large tolerance if \u001b[36mx\u001b[39m is the radius of a Hydrogen atom\n",
       "  (https://en.wikipedia.org/wiki/Bohr_radius) in meters.\n",
       "\n",
       "\u001b[39m\u001b[1m  │ \u001b[22m\u001b[39m\u001b[1mJulia 1.6\u001b[22m\n",
       "\u001b[39m\u001b[1m  │\u001b[22m\n",
       "\u001b[39m\u001b[1m  │\u001b[22m  Passing the \u001b[36mnorm\u001b[39m keyword argument when comparing numeric\n",
       "\u001b[39m\u001b[1m  │\u001b[22m  (non-array) arguments requires Julia 1.6 or later.\n",
       "\n",
       "\u001b[1m  Examples\u001b[22m\n",
       "\u001b[1m  ≡≡≡≡≡≡≡≡≡≡\u001b[22m\n",
       "\n",
       "\u001b[36m  julia> isapprox(0.1, 0.15; atol=0.05)\u001b[39m\n",
       "\u001b[36m  true\u001b[39m\n",
       "\u001b[36m  \u001b[39m\n",
       "\u001b[36m  julia> isapprox(0.1, 0.15; rtol=0.34)\u001b[39m\n",
       "\u001b[36m  true\u001b[39m\n",
       "\u001b[36m  \u001b[39m\n",
       "\u001b[36m  julia> isapprox(0.1, 0.15; rtol=0.33)\u001b[39m\n",
       "\u001b[36m  false\u001b[39m\n",
       "\u001b[36m  \u001b[39m\n",
       "\u001b[36m  julia> 0.1 + 1e-10 ≈ 0.1\u001b[39m\n",
       "\u001b[36m  true\u001b[39m\n",
       "\u001b[36m  \u001b[39m\n",
       "\u001b[36m  julia> 1e-10 ≈ 0\u001b[39m\n",
       "\u001b[36m  false\u001b[39m\n",
       "\u001b[36m  \u001b[39m\n",
       "\u001b[36m  julia> isapprox(1e-10, 0, atol=1e-8)\u001b[39m\n",
       "\u001b[36m  true\u001b[39m\n",
       "\u001b[36m  \u001b[39m\n",
       "\u001b[36m  julia> isapprox([10.0^9, 1.0], [10.0^9, 2.0]) # using `norm`\u001b[39m\n",
       "\u001b[36m  true\u001b[39m\n",
       "\n",
       "  ────────────────────────────────────────────────────────────────────────────\n",
       "\n",
       "\u001b[36m  isapprox(x; kwargs...) / ≈(x; kwargs...)\u001b[39m\n",
       "\n",
       "  Create a function that compares its argument to \u001b[36mx\u001b[39m using \u001b[36m≈\u001b[39m, i.e. a function\n",
       "  equivalent to \u001b[36my -> y ≈ x\u001b[39m.\n",
       "\n",
       "  The keyword arguments supported here are the same as those in the 2-argument\n",
       "  \u001b[36misapprox\u001b[39m.\n",
       "\n",
       "\u001b[39m\u001b[1m  │ \u001b[22m\u001b[39m\u001b[1mJulia 1.5\u001b[22m\n",
       "\u001b[39m\u001b[1m  │\u001b[22m\n",
       "\u001b[39m\u001b[1m  │\u001b[22m  This method requires Julia 1.5 or later."
      ]
     },
     "execution_count": 38,
     "metadata": {},
     "output_type": "execute_result"
    }
   ],
   "source": [
    "? ≈"
   ]
  },
  {
   "cell_type": "markdown",
   "id": "ad7ef4e0",
   "metadata": {},
   "source": [
    "#### Combining several logical conditions"
   ]
  },
  {
   "cell_type": "code",
   "execution_count": 39,
   "id": "3647b527",
   "metadata": {},
   "outputs": [
    {
     "data": {
      "text/plain": [
       "-7"
      ]
     },
     "execution_count": 39,
     "metadata": {},
     "output_type": "execute_result"
    }
   ],
   "source": [
    "x = -7"
   ]
  },
  {
   "cell_type": "code",
   "execution_count": 40,
   "id": "380e21c0",
   "metadata": {},
   "outputs": [
    {
     "data": {
      "text/plain": [
       "false"
      ]
     },
     "execution_count": 40,
     "metadata": {},
     "output_type": "execute_result"
    }
   ],
   "source": [
    "x > 0 && x < 10"
   ]
  },
  {
   "cell_type": "code",
   "execution_count": 41,
   "id": "9a8dcebb",
   "metadata": {},
   "outputs": [
    {
     "data": {
      "text/plain": [
       "false"
      ]
     },
     "execution_count": 41,
     "metadata": {},
     "output_type": "execute_result"
    }
   ],
   "source": [
    "0 < x < 10"
   ]
  },
  {
   "cell_type": "code",
   "execution_count": 42,
   "id": "7af29fc5",
   "metadata": {},
   "outputs": [
    {
     "data": {
      "text/plain": [
       "true"
      ]
     },
     "execution_count": 42,
     "metadata": {},
     "output_type": "execute_result"
    }
   ],
   "source": [
    "x < 0 || log(x) > 10"
   ]
  },
  {
   "cell_type": "markdown",
   "id": "ef47906a",
   "metadata": {},
   "source": [
    "#### Short-circut evaluation"
   ]
  },
  {
   "cell_type": "code",
   "execution_count": 43,
   "id": "c974c7cd",
   "metadata": {},
   "outputs": [
    {
     "data": {
      "text/plain": [
       "-7"
      ]
     },
     "execution_count": 43,
     "metadata": {},
     "output_type": "execute_result"
    }
   ],
   "source": [
    "x = -7"
   ]
  },
  {
   "cell_type": "code",
   "execution_count": 44,
   "id": "72437716",
   "metadata": {},
   "outputs": [
    {
     "ename": "LoadError",
     "evalue": "DomainError with -7.0:\nlog will only return a complex result if called with a complex argument. Try log(Complex(x)).",
     "output_type": "error",
     "traceback": [
      "DomainError with -7.0:\nlog will only return a complex result if called with a complex argument. Try log(Complex(x)).",
      "",
      "Stacktrace:",
      " [1] throw_complex_domainerror(f::Symbol, x::Float64)",
      "   @ Base.Math .\\math.jl:33",
      " [2] _log(x::Float64, base::Val{:ℯ}, func::Symbol)",
      "   @ Base.Math .\\special\\log.jl:304",
      " [3] log",
      "   @ .\\special\\log.jl:269 [inlined]",
      " [4] log(x::Int64)",
      "   @ Base.Math .\\math.jl:1221",
      " [5] top-level scope",
      "   @ In[44]:1",
      " [6] eval",
      "   @ .\\boot.jl:373 [inlined]",
      " [7] include_string(mapexpr::typeof(REPL.softscope), mod::Module, code::String, filename::String)",
      "   @ Base .\\loading.jl:1196"
     ]
    }
   ],
   "source": [
    "log(x)"
   ]
  },
  {
   "cell_type": "code",
   "execution_count": 45,
   "id": "d1deaca1",
   "metadata": {},
   "outputs": [
    {
     "data": {
      "text/plain": [
       "false"
      ]
     },
     "execution_count": 45,
     "metadata": {},
     "output_type": "execute_result"
    }
   ],
   "source": [
    "x > 0 && println(x)"
   ]
  },
  {
   "cell_type": "code",
   "execution_count": 46,
   "id": "4d5643a3",
   "metadata": {},
   "outputs": [],
   "source": [
    "if x > 0\n",
    "    println(x)\n",
    "end"
   ]
  },
  {
   "cell_type": "code",
   "execution_count": 47,
   "id": "0a71ba31",
   "metadata": {},
   "outputs": [
    {
     "name": "stdout",
     "output_type": "stream",
     "text": [
      "-7\n"
     ]
    }
   ],
   "source": [
    "x > 0 || println(x)"
   ]
  },
  {
   "cell_type": "code",
   "execution_count": 48,
   "id": "2510696b",
   "metadata": {},
   "outputs": [
    {
     "name": "stdout",
     "output_type": "stream",
     "text": [
      "-7\n"
     ]
    }
   ],
   "source": [
    "if !(x > 0)\n",
    "    println(x)\n",
    "end"
   ]
  },
  {
   "cell_type": "code",
   "execution_count": 49,
   "id": "bfb8b7f6",
   "metadata": {},
   "outputs": [
    {
     "data": {
      "text/plain": [
       "-7"
      ]
     },
     "execution_count": 49,
     "metadata": {},
     "output_type": "execute_result"
    }
   ],
   "source": [
    "x = -7"
   ]
  },
  {
   "cell_type": "code",
   "execution_count": 50,
   "id": "af4f4d9f",
   "metadata": {},
   "outputs": [
    {
     "name": "stdout",
     "output_type": "stream",
     "text": [
      "49\n"
     ]
    }
   ],
   "source": [
    "x < 0 && println(x^2)"
   ]
  },
  {
   "cell_type": "code",
   "execution_count": 51,
   "id": "8802ab71",
   "metadata": {},
   "outputs": [
    {
     "name": "stdout",
     "output_type": "stream",
     "text": [
      "49\n"
     ]
    }
   ],
   "source": [
    "if x < 0\n",
    "    println(x^2)\n",
    "end"
   ]
  },
  {
   "cell_type": "code",
   "execution_count": 52,
   "id": "f4b6066f",
   "metadata": {},
   "outputs": [
    {
     "name": "stdout",
     "output_type": "stream",
     "text": [
      "x is odd\n"
     ]
    }
   ],
   "source": [
    "iseven(x) || println(\"x is odd\")"
   ]
  },
  {
   "cell_type": "code",
   "execution_count": 53,
   "id": "70320002",
   "metadata": {},
   "outputs": [
    {
     "name": "stdout",
     "output_type": "stream",
     "text": [
      "x is odd\n"
     ]
    }
   ],
   "source": [
    "if !iseven(x)\n",
    "    println(\"x is odd\")\n",
    "end"
   ]
  },
  {
   "cell_type": "code",
   "execution_count": 54,
   "id": "81465d6b",
   "metadata": {},
   "outputs": [
    {
     "data": {
      "text/plain": [
       "-7"
      ]
     },
     "execution_count": 54,
     "metadata": {},
     "output_type": "execute_result"
    }
   ],
   "source": [
    "x = -7"
   ]
  },
  {
   "cell_type": "code",
   "execution_count": 55,
   "id": "fc7ec959",
   "metadata": {},
   "outputs": [
    {
     "ename": "LoadError",
     "evalue": "TypeError: non-boolean (Int64) used in boolean context",
     "output_type": "error",
     "traceback": [
      "TypeError: non-boolean (Int64) used in boolean context",
      "",
      "Stacktrace:",
      " [1] top-level scope",
      "   @ In[55]:1",
      " [2] eval",
      "   @ .\\boot.jl:373 [inlined]",
      " [3] include_string(mapexpr::typeof(REPL.softscope), mod::Module, code::String, filename::String)",
      "   @ Base .\\loading.jl:1196"
     ]
    }
   ],
   "source": [
    "if x < 0 && x^2\n",
    "    println(\"inside if\")\n",
    "end"
   ]
  },
  {
   "cell_type": "markdown",
   "id": "ad518402",
   "metadata": {},
   "source": [
    "#### Ternary operator"
   ]
  },
  {
   "cell_type": "code",
   "execution_count": 56,
   "id": "7193c932",
   "metadata": {},
   "outputs": [
    {
     "data": {
      "text/plain": [
       "2.6457513110645907"
      ]
     },
     "execution_count": 56,
     "metadata": {},
     "output_type": "execute_result"
    }
   ],
   "source": [
    "x > 0 ? sqrt(x) : sqrt(-x)"
   ]
  },
  {
   "cell_type": "code",
   "execution_count": 57,
   "id": "b38e7847",
   "metadata": {},
   "outputs": [
    {
     "data": {
      "text/plain": [
       "2.6457513110645907"
      ]
     },
     "execution_count": 57,
     "metadata": {},
     "output_type": "execute_result"
    }
   ],
   "source": [
    "if x > 0\n",
    "    sqrt(x)\n",
    "else\n",
    "    sqrt(-x)\n",
    "end"
   ]
  },
  {
   "cell_type": "code",
   "execution_count": 58,
   "id": "2dabf3fc",
   "metadata": {},
   "outputs": [
    {
     "data": {
      "text/plain": [
       "-7"
      ]
     },
     "execution_count": 58,
     "metadata": {},
     "output_type": "execute_result"
    }
   ],
   "source": [
    "x = -7"
   ]
  },
  {
   "cell_type": "code",
   "execution_count": 59,
   "id": "c36f1b20",
   "metadata": {},
   "outputs": [
    {
     "name": "stdout",
     "output_type": "stream",
     "text": [
      "x is not positive\n"
     ]
    }
   ],
   "source": [
    "x > 0 ? println(\"x is positive\") : println(\"x is not positive\")"
   ]
  },
  {
   "cell_type": "markdown",
   "id": "9e26bdd9",
   "metadata": {},
   "source": [
    "#### Conditional expressions have value"
   ]
  },
  {
   "cell_type": "code",
   "execution_count": 60,
   "id": "7101a28b",
   "metadata": {},
   "outputs": [
    {
     "data": {
      "text/plain": [
       "-4.0"
      ]
     },
     "execution_count": 60,
     "metadata": {},
     "output_type": "execute_result"
    }
   ],
   "source": [
    "x = -4.0"
   ]
  },
  {
   "cell_type": "code",
   "execution_count": 61,
   "id": "95ed3db9",
   "metadata": {},
   "outputs": [
    {
     "data": {
      "text/plain": [
       "2.0"
      ]
     },
     "execution_count": 61,
     "metadata": {},
     "output_type": "execute_result"
    }
   ],
   "source": [
    "y = if x > 0\n",
    "        sqrt(x)\n",
    "    else\n",
    "        sqrt(-x)\n",
    "    end"
   ]
  },
  {
   "cell_type": "code",
   "execution_count": 62,
   "id": "61e9e9da",
   "metadata": {},
   "outputs": [
    {
     "data": {
      "text/plain": [
       "2.0"
      ]
     },
     "execution_count": 62,
     "metadata": {},
     "output_type": "execute_result"
    }
   ],
   "source": [
    "y"
   ]
  },
  {
   "cell_type": "code",
   "execution_count": 63,
   "id": "448a4256",
   "metadata": {},
   "outputs": [
    {
     "data": {
      "text/plain": [
       "9.0"
      ]
     },
     "execution_count": 63,
     "metadata": {},
     "output_type": "execute_result"
    }
   ],
   "source": [
    "x = 9.0"
   ]
  },
  {
   "cell_type": "code",
   "execution_count": 64,
   "id": "5482a8ab",
   "metadata": {},
   "outputs": [
    {
     "data": {
      "text/plain": [
       "3.0"
      ]
     },
     "execution_count": 64,
     "metadata": {},
     "output_type": "execute_result"
    }
   ],
   "source": [
    "y = x > 0 ? sqrt(x) : sqrt(-x)"
   ]
  },
  {
   "cell_type": "code",
   "execution_count": 65,
   "id": "15319ede",
   "metadata": {},
   "outputs": [
    {
     "data": {
      "text/plain": [
       "3.0"
      ]
     },
     "execution_count": 65,
     "metadata": {},
     "output_type": "execute_result"
    }
   ],
   "source": [
    "y"
   ]
  },
  {
   "cell_type": "markdown",
   "id": "111543cd",
   "metadata": {},
   "source": [
    "## Loops"
   ]
  },
  {
   "cell_type": "markdown",
   "id": "7d7c5563",
   "metadata": {},
   "source": [
    "### `for` loop"
   ]
  },
  {
   "cell_type": "code",
   "execution_count": 66,
   "id": "6e9f5d4b",
   "metadata": {},
   "outputs": [
    {
     "name": "stdout",
     "output_type": "stream",
     "text": [
      "1 is odd\n",
      "2 is even\n",
      "3 is odd\n"
     ]
    }
   ],
   "source": [
    "for i in [1, 2, 3]\n",
    "    println(i, \" is \", isodd(i) ? \"odd\" : \"even\")\n",
    "end"
   ]
  },
  {
   "cell_type": "markdown",
   "id": "1a2b587d",
   "metadata": {},
   "source": [
    "### `while` loop"
   ]
  },
  {
   "cell_type": "code",
   "execution_count": 67,
   "id": "fcd63a4e",
   "metadata": {},
   "outputs": [
    {
     "data": {
      "text/plain": [
       "1"
      ]
     },
     "execution_count": 67,
     "metadata": {},
     "output_type": "execute_result"
    }
   ],
   "source": [
    "i = 1"
   ]
  },
  {
   "cell_type": "code",
   "execution_count": 68,
   "id": "01ee34d7",
   "metadata": {},
   "outputs": [
    {
     "name": "stdout",
     "output_type": "stream",
     "text": [
      "1 is odd\n",
      "2 is even\n",
      "3 is odd\n"
     ]
    }
   ],
   "source": [
    "while i < 4\n",
    "    println(i, \" is \", isodd(i) ? \"odd\" : \"even\")\n",
    "    global i += 1\n",
    "end"
   ]
  },
  {
   "cell_type": "markdown",
   "id": "489da201",
   "metadata": {},
   "source": [
    "### `continue` and `break` keywords"
   ]
  },
  {
   "cell_type": "code",
   "execution_count": 69,
   "id": "a0bb9471",
   "metadata": {},
   "outputs": [
    {
     "data": {
      "text/plain": [
       "0"
      ]
     },
     "execution_count": 69,
     "metadata": {},
     "output_type": "execute_result"
    }
   ],
   "source": [
    "i = 0"
   ]
  },
  {
   "cell_type": "code",
   "execution_count": 70,
   "id": "4513e78c",
   "metadata": {},
   "outputs": [
    {
     "name": "stdout",
     "output_type": "stream",
     "text": [
      "2 is even\n",
      "4 is even\n",
      "6 is even\n"
     ]
    }
   ],
   "source": [
    "while true\n",
    "    global i += 1\n",
    "    i > 6 && break\n",
    "    isodd(i) && continue\n",
    "    println(i, \" is even\")\n",
    "end"
   ]
  },
  {
   "cell_type": "markdown",
   "id": "ed0882b0",
   "metadata": {},
   "source": [
    "## Compound expressions"
   ]
  },
  {
   "cell_type": "code",
   "execution_count": 71,
   "id": "9248490f",
   "metadata": {},
   "outputs": [
    {
     "data": {
      "text/plain": [
       "-7"
      ]
     },
     "execution_count": 71,
     "metadata": {},
     "output_type": "execute_result"
    }
   ],
   "source": [
    "x = -7"
   ]
  },
  {
   "cell_type": "code",
   "execution_count": 72,
   "id": "acdcc695",
   "metadata": {},
   "outputs": [
    {
     "name": "stdout",
     "output_type": "stream",
     "text": [
      "-7\n",
      "-6\n"
     ]
    },
    {
     "data": {
      "text/plain": [
       "-12"
      ]
     },
     "execution_count": 72,
     "metadata": {},
     "output_type": "execute_result"
    }
   ],
   "source": [
    "x < 0 && begin\n",
    "    println(x)\n",
    "    x += 1\n",
    "    println(x)\n",
    "    2 * x\n",
    "end"
   ]
  },
  {
   "cell_type": "code",
   "execution_count": 73,
   "id": "d61101b3",
   "metadata": {},
   "outputs": [
    {
     "name": "stdout",
     "output_type": "stream",
     "text": [
      "-5\n"
     ]
    },
    {
     "data": {
      "text/plain": [
       "-5"
      ]
     },
     "execution_count": 73,
     "metadata": {},
     "output_type": "execute_result"
    }
   ],
   "source": [
    "x > 0 ? (println(x); x) : (x += 1; println(x); x)"
   ]
  },
  {
   "cell_type": "markdown",
   "id": "2764fb9d",
   "metadata": {},
   "source": [
    "## First approach to calculating the winsorized mean"
   ]
  },
  {
   "cell_type": "code",
   "execution_count": 74,
   "id": "98c552db",
   "metadata": {},
   "outputs": [
    {
     "data": {
      "text/plain": [
       "5-element Vector{Int64}:\n",
       " 8\n",
       " 3\n",
       " 1\n",
       " 5\n",
       " 7"
      ]
     },
     "execution_count": 74,
     "metadata": {},
     "output_type": "execute_result"
    }
   ],
   "source": [
    "x = [8, 3, 1, 5, 7]"
   ]
  },
  {
   "cell_type": "code",
   "execution_count": 75,
   "id": "521d6b41",
   "metadata": {},
   "outputs": [
    {
     "data": {
      "text/plain": [
       "1"
      ]
     },
     "execution_count": 75,
     "metadata": {},
     "output_type": "execute_result"
    }
   ],
   "source": [
    "k = 1"
   ]
  },
  {
   "cell_type": "code",
   "execution_count": 76,
   "id": "2991b513",
   "metadata": {},
   "outputs": [
    {
     "data": {
      "text/plain": [
       "5-element Vector{Int64}:\n",
       " 1\n",
       " 3\n",
       " 5\n",
       " 7\n",
       " 8"
      ]
     },
     "execution_count": 76,
     "metadata": {},
     "output_type": "execute_result"
    }
   ],
   "source": [
    "y = sort(x)"
   ]
  },
  {
   "cell_type": "code",
   "execution_count": 77,
   "id": "16b4bccd",
   "metadata": {},
   "outputs": [],
   "source": [
    "for i in 1:k\n",
    "    y[i] = y[k + 1]\n",
    "    y[end - i + 1] = y[end - k]\n",
    "end"
   ]
  },
  {
   "cell_type": "code",
   "execution_count": 78,
   "id": "e1c775d2",
   "metadata": {},
   "outputs": [
    {
     "data": {
      "text/plain": [
       "5-element Vector{Int64}:\n",
       " 3\n",
       " 3\n",
       " 5\n",
       " 7\n",
       " 7"
      ]
     },
     "execution_count": 78,
     "metadata": {},
     "output_type": "execute_result"
    }
   ],
   "source": [
    "y"
   ]
  },
  {
   "cell_type": "code",
   "execution_count": 79,
   "id": "d01535e8",
   "metadata": {},
   "outputs": [
    {
     "data": {
      "text/plain": [
       "0"
      ]
     },
     "execution_count": 79,
     "metadata": {},
     "output_type": "execute_result"
    }
   ],
   "source": [
    "s = 0"
   ]
  },
  {
   "cell_type": "code",
   "execution_count": 80,
   "id": "dc9d5a8c",
   "metadata": {},
   "outputs": [],
   "source": [
    "for v in y\n",
    "    global s += v\n",
    "end"
   ]
  },
  {
   "cell_type": "code",
   "execution_count": 81,
   "id": "ea068799",
   "metadata": {},
   "outputs": [
    {
     "data": {
      "text/plain": [
       "25"
      ]
     },
     "execution_count": 81,
     "metadata": {},
     "output_type": "execute_result"
    }
   ],
   "source": [
    "s"
   ]
  },
  {
   "cell_type": "code",
   "execution_count": 82,
   "id": "1e471a7b",
   "metadata": {},
   "outputs": [
    {
     "data": {
      "text/plain": [
       "5.0"
      ]
     },
     "execution_count": 82,
     "metadata": {},
     "output_type": "execute_result"
    }
   ],
   "source": [
    "s / length(y)"
   ]
  },
  {
   "cell_type": "markdown",
   "id": "42caa8de",
   "metadata": {},
   "source": [
    "## Defining functions"
   ]
  },
  {
   "cell_type": "markdown",
   "id": "29c93a7b",
   "metadata": {},
   "source": [
    "### `function` keyword"
   ]
  },
  {
   "cell_type": "code",
   "execution_count": 83,
   "id": "6e6f6cf4",
   "metadata": {},
   "outputs": [
    {
     "data": {
      "text/plain": [
       "times_two (generic function with 1 method)"
      ]
     },
     "execution_count": 83,
     "metadata": {},
     "output_type": "execute_result"
    }
   ],
   "source": [
    "function times_two(x)\n",
    "    return 2 * x\n",
    "end"
   ]
  },
  {
   "cell_type": "code",
   "execution_count": 84,
   "id": "f0e413e7",
   "metadata": {},
   "outputs": [
    {
     "data": {
      "text/plain": [
       "20"
      ]
     },
     "execution_count": 84,
     "metadata": {},
     "output_type": "execute_result"
    }
   ],
   "source": [
    "times_two(10)"
   ]
  },
  {
   "cell_type": "markdown",
   "id": "33861b92",
   "metadata": {},
   "source": [
    "### Positional and keyword arguments"
   ]
  },
  {
   "cell_type": "code",
   "execution_count": 85,
   "id": "9ff29e8c",
   "metadata": {},
   "outputs": [
    {
     "data": {
      "text/plain": [
       "compose (generic function with 2 methods)"
      ]
     },
     "execution_count": 85,
     "metadata": {},
     "output_type": "execute_result"
    }
   ],
   "source": [
    "function compose(x, y=10; a, b=10)\n",
    "    return x, y, a, b\n",
    "end"
   ]
  },
  {
   "cell_type": "code",
   "execution_count": 86,
   "id": "1e994c9f",
   "metadata": {},
   "outputs": [
    {
     "data": {
      "text/plain": [
       "(1, 2, 3, 4)"
      ]
     },
     "execution_count": 86,
     "metadata": {},
     "output_type": "execute_result"
    }
   ],
   "source": [
    "compose(1, 2; a=3, b=4)"
   ]
  },
  {
   "cell_type": "code",
   "execution_count": 87,
   "id": "344f56bc",
   "metadata": {},
   "outputs": [
    {
     "data": {
      "text/plain": [
       "(1, 2, 3, 10)"
      ]
     },
     "execution_count": 87,
     "metadata": {},
     "output_type": "execute_result"
    }
   ],
   "source": [
    "compose(1, 2; a=3)"
   ]
  },
  {
   "cell_type": "code",
   "execution_count": 88,
   "id": "1cfe5e9e",
   "metadata": {},
   "outputs": [
    {
     "data": {
      "text/plain": [
       "(1, 10, 3, 10)"
      ]
     },
     "execution_count": 88,
     "metadata": {},
     "output_type": "execute_result"
    }
   ],
   "source": [
    "compose(1; a=3)"
   ]
  },
  {
   "cell_type": "code",
   "execution_count": 89,
   "id": "32f72b0b",
   "metadata": {},
   "outputs": [
    {
     "ename": "LoadError",
     "evalue": "UndefKeywordError: keyword argument a not assigned",
     "output_type": "error",
     "traceback": [
      "UndefKeywordError: keyword argument a not assigned",
      "",
      "Stacktrace:",
      " [1] compose(x::Int64, y::Int64) (repeats 2 times)",
      "   @ Main .\\In[85]:2",
      " [2] top-level scope",
      "   @ In[89]:1",
      " [3] eval",
      "   @ .\\boot.jl:373 [inlined]",
      " [4] include_string(mapexpr::typeof(REPL.softscope), mod::Module, code::String, filename::String)",
      "   @ Base .\\loading.jl:1196"
     ]
    }
   ],
   "source": [
    "compose(1) # missing keyword argument that is required"
   ]
  },
  {
   "cell_type": "code",
   "execution_count": 90,
   "id": "51fe4cb2",
   "metadata": {},
   "outputs": [
    {
     "ename": "LoadError",
     "evalue": "MethodError: no method matching compose(; a=3)\n\u001b[0mClosest candidates are:\n\u001b[0m  compose(\u001b[91m::Any\u001b[39m) at In[85]:1\u001b[91m got unsupported keyword argument \"a\"\u001b[39m\n\u001b[0m  compose(\u001b[91m::Any\u001b[39m, \u001b[91m::Any\u001b[39m; a, b) at In[85]:1",
     "output_type": "error",
     "traceback": [
      "MethodError: no method matching compose(; a=3)\n\u001b[0mClosest candidates are:\n\u001b[0m  compose(\u001b[91m::Any\u001b[39m) at In[85]:1\u001b[91m got unsupported keyword argument \"a\"\u001b[39m\n\u001b[0m  compose(\u001b[91m::Any\u001b[39m, \u001b[91m::Any\u001b[39m; a, b) at In[85]:1",
      "",
      "Stacktrace:",
      " [1] top-level scope",
      "   @ In[90]:1",
      " [2] eval",
      "   @ .\\boot.jl:373 [inlined]",
      " [3] include_string(mapexpr::typeof(REPL.softscope), mod::Module, code::String, filename::String)",
      "   @ Base .\\loading.jl:1196"
     ]
    }
   ],
   "source": [
    "compose(; a=3)  # missing positional argument that is required"
   ]
  },
  {
   "cell_type": "markdown",
   "id": "b8d20dc5",
   "metadata": {},
   "source": [
    "### Passing arguments to functions does not copy them"
   ]
  },
  {
   "cell_type": "code",
   "execution_count": 91,
   "id": "b3037fcf",
   "metadata": {},
   "outputs": [
    {
     "data": {
      "text/plain": [
       "f! (generic function with 1 method)"
      ]
     },
     "execution_count": 91,
     "metadata": {},
     "output_type": "execute_result"
    }
   ],
   "source": [
    "function f!(x)\n",
    "    x[1] = 10\n",
    "    return x\n",
    "end"
   ]
  },
  {
   "cell_type": "code",
   "execution_count": 92,
   "id": "162c0b0d",
   "metadata": {},
   "outputs": [
    {
     "data": {
      "text/plain": [
       "3-element Vector{Int64}:\n",
       " 1\n",
       " 2\n",
       " 3"
      ]
     },
     "execution_count": 92,
     "metadata": {},
     "output_type": "execute_result"
    }
   ],
   "source": [
    "x = [1, 2, 3]"
   ]
  },
  {
   "cell_type": "code",
   "execution_count": 93,
   "id": "cdc7340c",
   "metadata": {},
   "outputs": [
    {
     "data": {
      "text/plain": [
       "3-element Vector{Int64}:\n",
       " 10\n",
       "  2\n",
       "  3"
      ]
     },
     "execution_count": 93,
     "metadata": {},
     "output_type": "execute_result"
    }
   ],
   "source": [
    "f!(x)"
   ]
  },
  {
   "cell_type": "code",
   "execution_count": 94,
   "id": "32fb359f",
   "metadata": {},
   "outputs": [
    {
     "data": {
      "text/plain": [
       "3-element Vector{Int64}:\n",
       " 10\n",
       "  2\n",
       "  3"
      ]
     },
     "execution_count": 94,
     "metadata": {},
     "output_type": "execute_result"
    }
   ],
   "source": [
    "x"
   ]
  },
  {
   "cell_type": "markdown",
   "id": "e7a583df",
   "metadata": {},
   "source": [
    "### Short syntax for defining functions using `=`"
   ]
  },
  {
   "cell_type": "code",
   "execution_count": 95,
   "id": "68bb871c",
   "metadata": {},
   "outputs": [
    {
     "data": {
      "text/plain": [
       "times_two (generic function with 1 method)"
      ]
     },
     "execution_count": 95,
     "metadata": {},
     "output_type": "execute_result"
    }
   ],
   "source": [
    "times_two(x) = 2 * x"
   ]
  },
  {
   "cell_type": "code",
   "execution_count": 96,
   "id": "276c6ed9",
   "metadata": {},
   "outputs": [
    {
     "data": {
      "text/plain": [
       "compose (generic function with 2 methods)"
      ]
     },
     "execution_count": 96,
     "metadata": {},
     "output_type": "execute_result"
    }
   ],
   "source": [
    "compose(x, y=10; a, b=10) = x, y, a, b"
   ]
  },
  {
   "cell_type": "markdown",
   "id": "76889071",
   "metadata": {},
   "source": [
    "### Functions are values and can be passed as arguments"
   ]
  },
  {
   "cell_type": "code",
   "execution_count": 97,
   "id": "38cdf692",
   "metadata": {},
   "outputs": [
    {
     "data": {
      "text/plain": [
       "3-element Vector{Int64}:\n",
       " 2\n",
       " 4\n",
       " 6"
      ]
     },
     "execution_count": 97,
     "metadata": {},
     "output_type": "execute_result"
    }
   ],
   "source": [
    "map(times_two, [1, 2, 3])"
   ]
  },
  {
   "cell_type": "markdown",
   "id": "7fd1e653",
   "metadata": {},
   "source": [
    "### Anonymous functions"
   ]
  },
  {
   "cell_type": "code",
   "execution_count": 98,
   "id": "18c3bd59",
   "metadata": {},
   "outputs": [
    {
     "data": {
      "text/plain": [
       "3-element Vector{Int64}:\n",
       " 2\n",
       " 4\n",
       " 6"
      ]
     },
     "execution_count": 98,
     "metadata": {},
     "output_type": "execute_result"
    }
   ],
   "source": [
    "map(x -> 2 * x, [1, 2, 3])"
   ]
  },
  {
   "cell_type": "code",
   "execution_count": 99,
   "id": "a0304fd3",
   "metadata": {},
   "outputs": [
    {
     "data": {
      "text/plain": [
       "14"
      ]
     },
     "execution_count": 99,
     "metadata": {},
     "output_type": "execute_result"
    }
   ],
   "source": [
    "sum(x -> x ^ 2, [1, 2, 3])"
   ]
  },
  {
   "cell_type": "markdown",
   "id": "132e42bf",
   "metadata": {},
   "source": [
    "### `do` blocks"
   ]
  },
  {
   "cell_type": "code",
   "execution_count": 100,
   "id": "0cac3c8a",
   "metadata": {},
   "outputs": [
    {
     "name": "stdout",
     "output_type": "stream",
     "text": [
      "processing 1\n",
      "processing 2\n",
      "processing 3\n"
     ]
    },
    {
     "data": {
      "text/plain": [
       "14"
      ]
     },
     "execution_count": 100,
     "metadata": {},
     "output_type": "execute_result"
    }
   ],
   "source": [
    "sum([1, 2, 3]) do x\n",
    "    println(\"processing \", x)\n",
    "    return x ^ 2\n",
    "end"
   ]
  },
  {
   "cell_type": "markdown",
   "id": "20687df0",
   "metadata": {},
   "source": [
    "### Functions modifying their argument have names ending with `!` by convention"
   ]
  },
  {
   "cell_type": "code",
   "execution_count": 101,
   "id": "8ee522dd",
   "metadata": {},
   "outputs": [
    {
     "data": {
      "text/plain": [
       "4-element Vector{Int64}:\n",
       " 5\n",
       " 1\n",
       " 3\n",
       " 2"
      ]
     },
     "execution_count": 101,
     "metadata": {},
     "output_type": "execute_result"
    }
   ],
   "source": [
    "x = [5, 1, 3, 2]"
   ]
  },
  {
   "cell_type": "code",
   "execution_count": 102,
   "id": "ca447394",
   "metadata": {},
   "outputs": [
    {
     "data": {
      "text/plain": [
       "4-element Vector{Int64}:\n",
       " 1\n",
       " 2\n",
       " 3\n",
       " 5"
      ]
     },
     "execution_count": 102,
     "metadata": {},
     "output_type": "execute_result"
    }
   ],
   "source": [
    "sort(x)"
   ]
  },
  {
   "cell_type": "code",
   "execution_count": 103,
   "id": "00f0d727",
   "metadata": {},
   "outputs": [
    {
     "data": {
      "text/plain": [
       "4-element Vector{Int64}:\n",
       " 5\n",
       " 1\n",
       " 3\n",
       " 2"
      ]
     },
     "execution_count": 103,
     "metadata": {},
     "output_type": "execute_result"
    }
   ],
   "source": [
    "x"
   ]
  },
  {
   "cell_type": "code",
   "execution_count": 104,
   "id": "73bfccb0",
   "metadata": {},
   "outputs": [
    {
     "data": {
      "text/plain": [
       "4-element Vector{Int64}:\n",
       " 1\n",
       " 2\n",
       " 3\n",
       " 5"
      ]
     },
     "execution_count": 104,
     "metadata": {},
     "output_type": "execute_result"
    }
   ],
   "source": [
    "sort!(x)"
   ]
  },
  {
   "cell_type": "code",
   "execution_count": 105,
   "id": "0f8b98ee",
   "metadata": {},
   "outputs": [
    {
     "data": {
      "text/plain": [
       "4-element Vector{Int64}:\n",
       " 1\n",
       " 2\n",
       " 3\n",
       " 5"
      ]
     },
     "execution_count": 105,
     "metadata": {},
     "output_type": "execute_result"
    }
   ],
   "source": [
    "x"
   ]
  },
  {
   "cell_type": "markdown",
   "id": "ef8ef245",
   "metadata": {},
   "source": [
    "### A simplified definition of a function computing Winsorized mean"
   ]
  },
  {
   "cell_type": "code",
   "execution_count": 106,
   "id": "b2b9df3c",
   "metadata": {},
   "outputs": [
    {
     "data": {
      "text/plain": [
       "winsorized_mean (generic function with 1 method)"
      ]
     },
     "execution_count": 106,
     "metadata": {},
     "output_type": "execute_result"
    }
   ],
   "source": [
    "function winsorized_mean(x, k)\n",
    "    y = sort(x)\n",
    "    for i in 1:k\n",
    "        y[i] = y[k + 1]\n",
    "        y[end - i + 1] = y[end - k]\n",
    "    end\n",
    "    s = 0\n",
    "    for v in y\n",
    "        s += v\n",
    "    end\n",
    "    return s / length(y)\n",
    "end"
   ]
  },
  {
   "cell_type": "code",
   "execution_count": 107,
   "id": "7a64fc45",
   "metadata": {},
   "outputs": [
    {
     "data": {
      "text/plain": [
       "5.0"
      ]
     },
     "execution_count": 107,
     "metadata": {},
     "output_type": "execute_result"
    }
   ],
   "source": [
    "winsorized_mean([8, 3, 1, 5, 7], 1)"
   ]
  },
  {
   "cell_type": "markdown",
   "id": "330a96e8",
   "metadata": {},
   "source": [
    "## The `nothing` value"
   ]
  },
  {
   "cell_type": "code",
   "execution_count": 108,
   "id": "56a450eb",
   "metadata": {},
   "outputs": [
    {
     "data": {
      "text/plain": [
       "nothing1 (generic function with 1 method)"
      ]
     },
     "execution_count": 108,
     "metadata": {},
     "output_type": "execute_result"
    }
   ],
   "source": [
    "nothing1() = return"
   ]
  },
  {
   "cell_type": "code",
   "execution_count": 109,
   "id": "1c5895a5",
   "metadata": {},
   "outputs": [],
   "source": [
    "nothing1()"
   ]
  },
  {
   "cell_type": "code",
   "execution_count": 110,
   "id": "cc501f91",
   "metadata": {},
   "outputs": [
    {
     "data": {
      "text/plain": [
       "nothing2 (generic function with 1 method)"
      ]
     },
     "execution_count": 110,
     "metadata": {},
     "output_type": "execute_result"
    }
   ],
   "source": [
    "nothing2() = for i in 1:5\n",
    "    print(i)\n",
    "end"
   ]
  },
  {
   "cell_type": "code",
   "execution_count": 111,
   "id": "0899724a",
   "metadata": {},
   "outputs": [
    {
     "name": "stdout",
     "output_type": "stream",
     "text": [
      "12345"
     ]
    }
   ],
   "source": [
    "nothing2()"
   ]
  }
 ],
 "metadata": {
  "kernelspec": {
   "display_name": "Julia 1.7.3",
   "language": "julia",
   "name": "julia-1.7"
  },
  "language_info": {
   "file_extension": ".jl",
   "mimetype": "application/julia",
   "name": "julia",
   "version": "1.7.3"
  }
 },
 "nbformat": 4,
 "nbformat_minor": 5
}
