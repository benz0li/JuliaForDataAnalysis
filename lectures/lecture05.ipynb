{
 "cells": [
  {
   "cell_type": "markdown",
   "id": "51ada5e3",
   "metadata": {},
   "source": [
    "# Julia for Data Analysis\n",
    "\n",
    "## Bogumił Kamiński"
   ]
  },
  {
   "cell_type": "markdown",
   "id": "d5d9476b",
   "metadata": {},
   "source": [
    "# Lecture 5. Advanced topics on handling collections"
   ]
  },
  {
   "cell_type": "markdown",
   "id": "adb4de68",
   "metadata": {},
   "source": [
    "## Vectorizing your code using broadcasting"
   ]
  },
  {
   "cell_type": "markdown",
   "id": "7729af0e",
   "metadata": {},
   "source": [
    "### Syntax and meaning of broadcasting in Julia"
   ]
  },
  {
   "cell_type": "code",
   "execution_count": null,
   "id": "1d9574f4",
   "metadata": {},
   "outputs": [],
   "source": [
    "using Pkg\n",
    "Pkg.activate(Base.current_project())"
   ]
  },
  {
   "cell_type": "code",
   "execution_count": 1,
   "id": "f1d0576d",
   "metadata": {},
   "outputs": [
    {
     "data": {
      "text/plain": [
       "1×3 Matrix{Int64}:\n",
       " 1  2  3"
      ]
     },
     "execution_count": 1,
     "metadata": {},
     "output_type": "execute_result"
    }
   ],
   "source": [
    "x = [1 2 3]"
   ]
  },
  {
   "cell_type": "code",
   "execution_count": 2,
   "id": "6d78d59c",
   "metadata": {},
   "outputs": [
    {
     "data": {
      "text/plain": [
       "3-element Vector{Int64}:\n",
       " 1\n",
       " 2\n",
       " 3"
      ]
     },
     "execution_count": 2,
     "metadata": {},
     "output_type": "execute_result"
    }
   ],
   "source": [
    "y = [1, 2, 3]"
   ]
  },
  {
   "cell_type": "code",
   "execution_count": 3,
   "id": "c8e554a6",
   "metadata": {},
   "outputs": [
    {
     "data": {
      "text/plain": [
       "1-element Vector{Int64}:\n",
       " 14"
      ]
     },
     "execution_count": 3,
     "metadata": {},
     "output_type": "execute_result"
    }
   ],
   "source": [
    "x * y"
   ]
  },
  {
   "cell_type": "code",
   "execution_count": 4,
   "id": "d8143ad0",
   "metadata": {},
   "outputs": [
    {
     "data": {
      "text/plain": [
       "3-element Vector{Int64}:\n",
       " 1\n",
       " 2\n",
       " 3"
      ]
     },
     "execution_count": 4,
     "metadata": {},
     "output_type": "execute_result"
    }
   ],
   "source": [
    "a = [1, 2, 3]"
   ]
  },
  {
   "cell_type": "code",
   "execution_count": 5,
   "id": "afc15305",
   "metadata": {},
   "outputs": [
    {
     "data": {
      "text/plain": [
       "3-element Vector{Int64}:\n",
       " 4\n",
       " 5\n",
       " 6"
      ]
     },
     "execution_count": 5,
     "metadata": {},
     "output_type": "execute_result"
    }
   ],
   "source": [
    "b = [4, 5, 6]"
   ]
  },
  {
   "cell_type": "code",
   "execution_count": 6,
   "id": "b5f68adf",
   "metadata": {},
   "outputs": [
    {
     "ename": "LoadError",
     "evalue": "MethodError: no method matching *(::Vector{Int64}, ::Vector{Int64})\n\u001b[0mClosest candidates are:\n\u001b[0m  *(::Any, ::Any, \u001b[91m::Any\u001b[39m, \u001b[91m::Any...\u001b[39m) at C:\\WORK\\julia-1.7.3\\share\\julia\\base\\operators.jl:655\n\u001b[0m  *(\u001b[91m::StridedMatrix{T}\u001b[39m, ::StridedVector{S}) where {T<:Union{Float32, Float64, ComplexF32, ComplexF64}, S<:Real} at C:\\WORK\\julia-1.7.3\\share\\julia\\stdlib\\v1.7\\LinearAlgebra\\src\\matmul.jl:44\n\u001b[0m  *(::StridedVecOrMat, \u001b[91m::LinearAlgebra.Adjoint{<:Any, <:LinearAlgebra.LQPackedQ}\u001b[39m) at C:\\WORK\\julia-1.7.3\\share\\julia\\stdlib\\v1.7\\LinearAlgebra\\src\\lq.jl:266\n\u001b[0m  ...",
     "output_type": "error",
     "traceback": [
      "MethodError: no method matching *(::Vector{Int64}, ::Vector{Int64})\n\u001b[0mClosest candidates are:\n\u001b[0m  *(::Any, ::Any, \u001b[91m::Any\u001b[39m, \u001b[91m::Any...\u001b[39m) at C:\\WORK\\julia-1.7.3\\share\\julia\\base\\operators.jl:655\n\u001b[0m  *(\u001b[91m::StridedMatrix{T}\u001b[39m, ::StridedVector{S}) where {T<:Union{Float32, Float64, ComplexF32, ComplexF64}, S<:Real} at C:\\WORK\\julia-1.7.3\\share\\julia\\stdlib\\v1.7\\LinearAlgebra\\src\\matmul.jl:44\n\u001b[0m  *(::StridedVecOrMat, \u001b[91m::LinearAlgebra.Adjoint{<:Any, <:LinearAlgebra.LQPackedQ}\u001b[39m) at C:\\WORK\\julia-1.7.3\\share\\julia\\stdlib\\v1.7\\LinearAlgebra\\src\\lq.jl:266\n\u001b[0m  ...",
      "",
      "Stacktrace:",
      " [1] top-level scope",
      "   @ In[6]:1",
      " [2] eval",
      "   @ .\\boot.jl:373 [inlined]",
      " [3] include_string(mapexpr::typeof(REPL.softscope), mod::Module, code::String, filename::String)",
      "   @ Base .\\loading.jl:1196"
     ]
    }
   ],
   "source": [
    "a * b"
   ]
  },
  {
   "cell_type": "code",
   "execution_count": 7,
   "id": "d9e1cbaa",
   "metadata": {},
   "outputs": [
    {
     "data": {
      "text/plain": [
       "3-element Vector{Int64}:\n",
       "  4\n",
       " 10\n",
       " 18"
      ]
     },
     "execution_count": 7,
     "metadata": {},
     "output_type": "execute_result"
    }
   ],
   "source": [
    "a .* b"
   ]
  },
  {
   "cell_type": "code",
   "execution_count": 8,
   "id": "d5eb7449",
   "metadata": {},
   "outputs": [
    {
     "data": {
      "text/plain": [
       "3-element Vector{Int64}:\n",
       "  4\n",
       " 10\n",
       " 18"
      ]
     },
     "execution_count": 8,
     "metadata": {},
     "output_type": "execute_result"
    }
   ],
   "source": [
    "map(*, a, b)"
   ]
  },
  {
   "cell_type": "code",
   "execution_count": 9,
   "id": "737d838c",
   "metadata": {},
   "outputs": [
    {
     "data": {
      "text/plain": [
       "3-element Vector{Int64}:\n",
       "  4\n",
       " 10\n",
       " 18"
      ]
     },
     "execution_count": 9,
     "metadata": {},
     "output_type": "execute_result"
    }
   ],
   "source": [
    "[a[i] * b[i] for i in eachindex(a, b)]"
   ]
  },
  {
   "cell_type": "code",
   "execution_count": 10,
   "id": "6478e988",
   "metadata": {},
   "outputs": [
    {
     "data": {
      "text/plain": [
       "Base.OneTo(3)"
      ]
     },
     "execution_count": 10,
     "metadata": {},
     "output_type": "execute_result"
    }
   ],
   "source": [
    "eachindex(a, b)"
   ]
  },
  {
   "cell_type": "code",
   "execution_count": 11,
   "id": "544c793c",
   "metadata": {},
   "outputs": [
    {
     "ename": "LoadError",
     "evalue": "DimensionMismatch(\"all inputs to eachindex must have the same indices, got Base.OneTo(3) and Base.OneTo(2)\")",
     "output_type": "error",
     "traceback": [
      "DimensionMismatch(\"all inputs to eachindex must have the same indices, got Base.OneTo(3) and Base.OneTo(2)\")",
      "",
      "Stacktrace:",
      " [1] throw_eachindex_mismatch_indices(::IndexLinear, ::Base.OneTo{Int64}, ::Vararg{Base.OneTo{Int64}})",
      "   @ Base .\\abstractarray.jl:283",
      " [2] eachindex",
      "   @ .\\abstractarray.jl:339 [inlined]",
      " [3] eachindex(A::Vector{Int64}, B::Vector{Int64})",
      "   @ Base .\\abstractarray.jl:328",
      " [4] top-level scope",
      "   @ In[11]:1",
      " [5] eval",
      "   @ .\\boot.jl:373 [inlined]",
      " [6] include_string(mapexpr::typeof(REPL.softscope), mod::Module, code::String, filename::String)",
      "   @ Base .\\loading.jl:1196"
     ]
    }
   ],
   "source": [
    "eachindex([1, 2, 3], [4, 5])"
   ]
  },
  {
   "cell_type": "code",
   "execution_count": 12,
   "id": "20787a5b",
   "metadata": {},
   "outputs": [
    {
     "data": {
      "text/plain": [
       "2-element Vector{Int64}:\n",
       "  4\n",
       " 10"
      ]
     },
     "execution_count": 12,
     "metadata": {},
     "output_type": "execute_result"
    }
   ],
   "source": [
    "map(*, [1, 2, 3], [4, 5])"
   ]
  },
  {
   "cell_type": "code",
   "execution_count": 13,
   "id": "a9fd8282",
   "metadata": {},
   "outputs": [
    {
     "ename": "LoadError",
     "evalue": "DimensionMismatch(\"arrays could not be broadcast to a common size; got a dimension with lengths 3 and 2\")",
     "output_type": "error",
     "traceback": [
      "DimensionMismatch(\"arrays could not be broadcast to a common size; got a dimension with lengths 3 and 2\")",
      "",
      "Stacktrace:",
      " [1] _bcs1",
      "   @ .\\broadcast.jl:516 [inlined]",
      " [2] _bcs",
      "   @ .\\broadcast.jl:510 [inlined]",
      " [3] broadcast_shape",
      "   @ .\\broadcast.jl:504 [inlined]",
      " [4] combine_axes",
      "   @ .\\broadcast.jl:499 [inlined]",
      " [5] instantiate",
      "   @ .\\broadcast.jl:281 [inlined]",
      " [6] materialize(bc::Base.Broadcast.Broadcasted{Base.Broadcast.DefaultArrayStyle{1}, Nothing, typeof(*), Tuple{Vector{Int64}, Vector{Int64}}})",
      "   @ Base.Broadcast .\\broadcast.jl:860",
      " [7] top-level scope",
      "   @ In[13]:1",
      " [8] eval",
      "   @ .\\boot.jl:373 [inlined]",
      " [9] include_string(mapexpr::typeof(REPL.softscope), mod::Module, code::String, filename::String)",
      "   @ Base .\\loading.jl:1196"
     ]
    }
   ],
   "source": [
    "[1, 2, 3] .* [4, 5]"
   ]
  },
  {
   "cell_type": "markdown",
   "id": "75e2034e",
   "metadata": {},
   "source": [
    "### Expansion of length-1 dimensions in broadcasting"
   ]
  },
  {
   "cell_type": "code",
   "execution_count": 14,
   "id": "03d25931",
   "metadata": {},
   "outputs": [
    {
     "data": {
      "text/plain": [
       "3-element Vector{Int64}:\n",
       " 1\n",
       " 4\n",
       " 9"
      ]
     },
     "execution_count": 14,
     "metadata": {},
     "output_type": "execute_result"
    }
   ],
   "source": [
    "[1, 2, 3] .^ [2]"
   ]
  },
  {
   "cell_type": "code",
   "execution_count": 15,
   "id": "d7dc38db",
   "metadata": {},
   "outputs": [
    {
     "data": {
      "text/plain": [
       "3-element Vector{Int64}:\n",
       " 1\n",
       " 4\n",
       " 9"
      ]
     },
     "execution_count": 15,
     "metadata": {},
     "output_type": "execute_result"
    }
   ],
   "source": [
    "[1, 2, 3] .^ 2"
   ]
  },
  {
   "cell_type": "code",
   "execution_count": 16,
   "id": "234998e7",
   "metadata": {},
   "outputs": [
    {
     "data": {
      "text/plain": [
       "10×10 Matrix{Int64}:\n",
       "  1   2   3   4   5   6   7   8   9   10\n",
       "  2   4   6   8  10  12  14  16  18   20\n",
       "  3   6   9  12  15  18  21  24  27   30\n",
       "  4   8  12  16  20  24  28  32  36   40\n",
       "  5  10  15  20  25  30  35  40  45   50\n",
       "  6  12  18  24  30  36  42  48  54   60\n",
       "  7  14  21  28  35  42  49  56  63   70\n",
       "  8  16  24  32  40  48  56  64  72   80\n",
       "  9  18  27  36  45  54  63  72  81   90\n",
       " 10  20  30  40  50  60  70  80  90  100"
      ]
     },
     "execution_count": 16,
     "metadata": {},
     "output_type": "execute_result"
    }
   ],
   "source": [
    "[1, 2, 3, 4, 5, 6, 7, 8, 9, 10] .* [1 2 3 4 5 6 7 8 9 10]"
   ]
  },
  {
   "cell_type": "code",
   "execution_count": 17,
   "id": "fb9e2e3d",
   "metadata": {},
   "outputs": [
    {
     "data": {
      "text/plain": [
       "2×3 Matrix{Pair{String}}:\n",
       " \"x\"=>sum  \"x\"=>minimum  \"x\"=>maximum\n",
       " \"y\"=>sum  \"y\"=>minimum  \"y\"=>maximum"
      ]
     },
     "execution_count": 17,
     "metadata": {},
     "output_type": "execute_result"
    }
   ],
   "source": [
    "[\"x\", \"y\"] .=> [sum minimum maximum]"
   ]
  },
  {
   "cell_type": "code",
   "execution_count": 18,
   "id": "f4b43ef8",
   "metadata": {},
   "outputs": [
    {
     "data": {
      "text/plain": [
       "2×3 Matrix{String}:\n",
       " \"x\"  \"x\"  \"x\"\n",
       " \"y\"  \"y\"  \"y\""
      ]
     },
     "execution_count": 18,
     "metadata": {},
     "output_type": "execute_result"
    }
   ],
   "source": [
    "left_matrix = [\"x\" \"x\" \"x\"\n",
    "               \"y\" \"y\" \"y\"]"
   ]
  },
  {
   "cell_type": "code",
   "execution_count": 19,
   "id": "d38f6a5a",
   "metadata": {},
   "outputs": [
    {
     "data": {
      "text/plain": [
       "2×3 Matrix{Function}:\n",
       " sum  minimum  maximum\n",
       " sum  minimum  maximum"
      ]
     },
     "execution_count": 19,
     "metadata": {},
     "output_type": "execute_result"
    }
   ],
   "source": [
    "right_matrix = [sum minimum maximum\n",
    "                sum minimum maximum]"
   ]
  },
  {
   "cell_type": "code",
   "execution_count": 20,
   "id": "5e8b85e3",
   "metadata": {},
   "outputs": [
    {
     "data": {
      "text/plain": [
       "2×3 Matrix{Pair{String}}:\n",
       " \"x\"=>sum  \"x\"=>minimum  \"x\"=>maximum\n",
       " \"y\"=>sum  \"y\"=>minimum  \"y\"=>maximum"
      ]
     },
     "execution_count": 20,
     "metadata": {},
     "output_type": "execute_result"
    }
   ],
   "source": [
    "left_matrix .=> right_matrix"
   ]
  },
  {
   "cell_type": "code",
   "execution_count": 21,
   "id": "a05f1146",
   "metadata": {},
   "outputs": [
    {
     "data": {
      "text/plain": [
       "4-element Vector{Int64}:\n",
       " 1\n",
       " 2\n",
       " 3\n",
       " 4"
      ]
     },
     "execution_count": 21,
     "metadata": {},
     "output_type": "execute_result"
    }
   ],
   "source": [
    "abs.([1, -2, 3, -4])"
   ]
  },
  {
   "cell_type": "code",
   "execution_count": 22,
   "id": "447e3790",
   "metadata": {},
   "outputs": [
    {
     "ename": "LoadError",
     "evalue": "MethodError: no method matching abs(::Vector{Int64})\n\u001b[0mClosest candidates are:\n\u001b[0m  abs(\u001b[91m::Unsigned\u001b[39m) at C:\\WORK\\julia-1.7.3\\share\\julia\\base\\int.jl:179\n\u001b[0m  abs(\u001b[91m::Signed\u001b[39m) at C:\\WORK\\julia-1.7.3\\share\\julia\\base\\int.jl:180\n\u001b[0m  abs(\u001b[91m::Complex\u001b[39m) at C:\\WORK\\julia-1.7.3\\share\\julia\\base\\complex.jl:277\n\u001b[0m  ...",
     "output_type": "error",
     "traceback": [
      "MethodError: no method matching abs(::Vector{Int64})\n\u001b[0mClosest candidates are:\n\u001b[0m  abs(\u001b[91m::Unsigned\u001b[39m) at C:\\WORK\\julia-1.7.3\\share\\julia\\base\\int.jl:179\n\u001b[0m  abs(\u001b[91m::Signed\u001b[39m) at C:\\WORK\\julia-1.7.3\\share\\julia\\base\\int.jl:180\n\u001b[0m  abs(\u001b[91m::Complex\u001b[39m) at C:\\WORK\\julia-1.7.3\\share\\julia\\base\\complex.jl:277\n\u001b[0m  ...",
      "",
      "Stacktrace:",
      " [1] top-level scope",
      "   @ In[22]:1",
      " [2] eval",
      "   @ .\\boot.jl:373 [inlined]",
      " [3] include_string(mapexpr::typeof(REPL.softscope), mod::Module, code::String, filename::String)",
      "   @ Base .\\loading.jl:1196"
     ]
    }
   ],
   "source": [
    "abs([1, 2, 3])"
   ]
  },
  {
   "cell_type": "code",
   "execution_count": 23,
   "id": "50638792",
   "metadata": {},
   "outputs": [
    {
     "data": {
      "text/plain": [
       "\"123\""
      ]
     },
     "execution_count": 23,
     "metadata": {},
     "output_type": "execute_result"
    }
   ],
   "source": [
    "string(1, 2, 3)"
   ]
  },
  {
   "cell_type": "code",
   "execution_count": 24,
   "id": "0c21094c",
   "metadata": {},
   "outputs": [
    {
     "data": {
      "text/plain": [
       "10-element Vector{String}:\n",
       " \"x1\"\n",
       " \"x2\"\n",
       " \"x3\"\n",
       " \"x4\"\n",
       " \"x5\"\n",
       " \"x6\"\n",
       " \"x7\"\n",
       " \"x8\"\n",
       " \"x9\"\n",
       " \"x10\""
      ]
     },
     "execution_count": 24,
     "metadata": {},
     "output_type": "execute_result"
    }
   ],
   "source": [
    "string.(\"x\", 1:10)"
   ]
  },
  {
   "cell_type": "code",
   "execution_count": 25,
   "id": "3a493c80",
   "metadata": {},
   "outputs": [
    {
     "data": {
      "text/plain": [
       "f (generic function with 1 method)"
      ]
     },
     "execution_count": 25,
     "metadata": {},
     "output_type": "execute_result"
    }
   ],
   "source": [
    "f(i::Int) = string(\"got integer \", i)"
   ]
  },
  {
   "cell_type": "code",
   "execution_count": 26,
   "id": "f630b9a9",
   "metadata": {},
   "outputs": [
    {
     "data": {
      "text/plain": [
       "f (generic function with 2 methods)"
      ]
     },
     "execution_count": 26,
     "metadata": {},
     "output_type": "execute_result"
    }
   ],
   "source": [
    "f(s::String) = string(\"got string \", s)"
   ]
  },
  {
   "cell_type": "code",
   "execution_count": 27,
   "id": "8cb03218",
   "metadata": {},
   "outputs": [
    {
     "data": {
      "text/plain": [
       "2-element Vector{String}:\n",
       " \"got integer 1\"\n",
       " \"got string 1\""
      ]
     },
     "execution_count": 27,
     "metadata": {},
     "output_type": "execute_result"
    }
   ],
   "source": [
    "f.([1, \"1\"])"
   ]
  },
  {
   "cell_type": "markdown",
   "id": "5b6713e5",
   "metadata": {},
   "source": [
    "### Protection of collections from being broadcasted over"
   ]
  },
  {
   "cell_type": "code",
   "execution_count": 28,
   "id": "73f0ee6d",
   "metadata": {},
   "outputs": [
    {
     "data": {
      "text/plain": [
       "true"
      ]
     },
     "execution_count": 28,
     "metadata": {},
     "output_type": "execute_result"
    }
   ],
   "source": [
    "in(1, [1, 2, 3])"
   ]
  },
  {
   "cell_type": "code",
   "execution_count": 29,
   "id": "84ec6a82",
   "metadata": {},
   "outputs": [
    {
     "data": {
      "text/plain": [
       "false"
      ]
     },
     "execution_count": 29,
     "metadata": {},
     "output_type": "execute_result"
    }
   ],
   "source": [
    "in(4, [1, 2, 3])"
   ]
  },
  {
   "cell_type": "code",
   "execution_count": 30,
   "id": "3fa0c320",
   "metadata": {},
   "outputs": [
    {
     "data": {
      "text/plain": [
       "true"
      ]
     },
     "execution_count": 30,
     "metadata": {},
     "output_type": "execute_result"
    }
   ],
   "source": [
    "1 in [1, 2, 3]"
   ]
  },
  {
   "cell_type": "code",
   "execution_count": 31,
   "id": "610f4bbe",
   "metadata": {},
   "outputs": [
    {
     "data": {
      "text/plain": [
       "false"
      ]
     },
     "execution_count": 31,
     "metadata": {},
     "output_type": "execute_result"
    }
   ],
   "source": [
    "4 in [1, 2, 3]"
   ]
  },
  {
   "cell_type": "code",
   "execution_count": 32,
   "id": "96cb4f8b",
   "metadata": {},
   "outputs": [
    {
     "data": {
      "text/plain": [
       "false"
      ]
     },
     "execution_count": 32,
     "metadata": {},
     "output_type": "execute_result"
    }
   ],
   "source": [
    "in([1, 3, 5, 7, 9], [1, 2, 3, 4])"
   ]
  },
  {
   "cell_type": "code",
   "execution_count": 33,
   "id": "d7fe4b59",
   "metadata": {},
   "outputs": [
    {
     "data": {
      "text/plain": [
       "true"
      ]
     },
     "execution_count": 33,
     "metadata": {},
     "output_type": "execute_result"
    }
   ],
   "source": [
    "in([1, 3, 5, 7, 9], [1, 2, 3, 4, [1, 3, 5, 7, 9]])"
   ]
  },
  {
   "cell_type": "code",
   "execution_count": 34,
   "id": "cc5f5464",
   "metadata": {},
   "outputs": [
    {
     "ename": "LoadError",
     "evalue": "DimensionMismatch(\"arrays could not be broadcast to a common size; got a dimension with lengths 5 and 4\")",
     "output_type": "error",
     "traceback": [
      "DimensionMismatch(\"arrays could not be broadcast to a common size; got a dimension with lengths 5 and 4\")",
      "",
      "Stacktrace:",
      " [1] _bcs1",
      "   @ .\\broadcast.jl:516 [inlined]",
      " [2] _bcs",
      "   @ .\\broadcast.jl:510 [inlined]",
      " [3] broadcast_shape",
      "   @ .\\broadcast.jl:504 [inlined]",
      " [4] combine_axes",
      "   @ .\\broadcast.jl:499 [inlined]",
      " [5] instantiate",
      "   @ .\\broadcast.jl:281 [inlined]",
      " [6] materialize(bc::Base.Broadcast.Broadcasted{Base.Broadcast.DefaultArrayStyle{1}, Nothing, typeof(in), Tuple{Vector{Int64}, Vector{Int64}}})",
      "   @ Base.Broadcast .\\broadcast.jl:860",
      " [7] top-level scope",
      "   @ In[34]:1",
      " [8] eval",
      "   @ .\\boot.jl:373 [inlined]",
      " [9] include_string(mapexpr::typeof(REPL.softscope), mod::Module, code::String, filename::String)",
      "   @ Base .\\loading.jl:1196"
     ]
    }
   ],
   "source": [
    "in.([1, 3, 5, 7, 9], [1, 2, 3, 4])"
   ]
  },
  {
   "cell_type": "code",
   "execution_count": 35,
   "id": "db4d269c",
   "metadata": {},
   "outputs": [
    {
     "data": {
      "text/plain": [
       "5-element BitVector:\n",
       " 1\n",
       " 1\n",
       " 0\n",
       " 0\n",
       " 0"
      ]
     },
     "execution_count": 35,
     "metadata": {},
     "output_type": "execute_result"
    }
   ],
   "source": [
    "in.([1, 3, 5, 7, 9], Ref([1, 2, 3, 4]))"
   ]
  },
  {
   "cell_type": "markdown",
   "id": "2a5393e9",
   "metadata": {},
   "source": [
    "### Display of boolean matrices"
   ]
  },
  {
   "cell_type": "code",
   "execution_count": 36,
   "id": "faab6bd2",
   "metadata": {},
   "outputs": [
    {
     "data": {
      "text/plain": [
       "10×10 BitMatrix:\n",
       " 1  0  1  0  1  0  1  0  1  0\n",
       " 0  0  0  0  0  0  0  0  0  0\n",
       " 1  0  1  0  1  0  1  0  1  0\n",
       " 0  0  0  0  0  0  0  0  0  0\n",
       " 1  0  1  0  1  0  1  0  1  0\n",
       " 0  0  0  0  0  0  0  0  0  0\n",
       " 1  0  1  0  1  0  1  0  1  0\n",
       " 0  0  0  0  0  0  0  0  0  0\n",
       " 1  0  1  0  1  0  1  0  1  0\n",
       " 0  0  0  0  0  0  0  0  0  0"
      ]
     },
     "execution_count": 36,
     "metadata": {},
     "output_type": "execute_result"
    }
   ],
   "source": [
    "isodd.([1, 2, 3, 4, 5, 6, 7, 8, 9, 10] .* [1 2 3 4 5 6 7 8 9 10])"
   ]
  },
  {
   "cell_type": "code",
   "execution_count": 37,
   "id": "a009f4a5",
   "metadata": {},
   "outputs": [
    {
     "data": {
      "text/plain": [
       "10×10 Matrix{Any}:\n",
       "  true  false   true  false   true  false   true  false   true  false\n",
       " false  false  false  false  false  false  false  false  false  false\n",
       "  true  false   true  false   true  false   true  false   true  false\n",
       " false  false  false  false  false  false  false  false  false  false\n",
       "  true  false   true  false   true  false   true  false   true  false\n",
       " false  false  false  false  false  false  false  false  false  false\n",
       "  true  false   true  false   true  false   true  false   true  false\n",
       " false  false  false  false  false  false  false  false  false  false\n",
       "  true  false   true  false   true  false   true  false   true  false\n",
       " false  false  false  false  false  false  false  false  false  false"
      ]
     },
     "execution_count": 37,
     "metadata": {},
     "output_type": "execute_result"
    }
   ],
   "source": [
    "Matrix{Any}(isodd.([1, 2, 3, 4, 5, 6, 7, 8, 9, 10] .*\n",
    "[1 2 3 4 5 6 7 8 9 10]))"
   ]
  },
  {
   "cell_type": "markdown",
   "id": "4d75c8d3",
   "metadata": {},
   "source": [
    "### Analyzing Anscombe's quartet data using broadcasting"
   ]
  },
  {
   "cell_type": "code",
   "execution_count": 38,
   "id": "45fe9aa4",
   "metadata": {},
   "outputs": [
    {
     "data": {
      "text/plain": [
       "11×8 Matrix{Float64}:\n",
       " 10.0   8.04  10.0  9.14  10.0   7.46   8.0   6.58\n",
       "  8.0   6.95   8.0  8.14   8.0   6.77   8.0   5.76\n",
       " 13.0   7.58  13.0  8.74  13.0  12.74   8.0   7.71\n",
       "  9.0   8.81   9.0  8.77   9.0   7.11   8.0   8.84\n",
       " 11.0   8.33  11.0  9.26  11.0   7.81   8.0   8.47\n",
       " 14.0   9.96  14.0  8.1   14.0   8.84   8.0   7.04\n",
       "  6.0   7.24   6.0  6.13   6.0   6.08   8.0   5.25\n",
       "  4.0   4.26   4.0  3.1    4.0   5.39  19.0  12.5\n",
       " 12.0  10.84  12.0  9.13  12.0   8.15   8.0   5.56\n",
       "  7.0   4.82   7.0  7.26   7.0   6.42   8.0   7.91\n",
       "  5.0   5.68   5.0  4.74   5.0   5.73   8.0   6.89"
      ]
     },
     "execution_count": 38,
     "metadata": {},
     "output_type": "execute_result"
    }
   ],
   "source": [
    "using Statistics\n",
    "aq = [10.0  8.04 10.0  9.14 10.0  7.46  8.0  6.58\n",
    "       8.0  6.95  8.0  8.14  8.0  6.77  8.0  5.76\n",
    "      13.0  7.58 13.0  8.74 13.0 12.74  8.0  7.71\n",
    "       9.0  8.81  9.0  8.77  9.0  7.11  8.0  8.84\n",
    "      11.0  8.33 11.0  9.26 11.0  7.81  8.0  8.47\n",
    "      14.0  9.96 14.0  8.1  14.0  8.84  8.0  7.04\n",
    "       6.0  7.24  6.0  6.13  6.0  6.08  8.0  5.25\n",
    "       4.0  4.26  4.0  3.1   4.0  5.39 19.0 12.50\n",
    "      12.0 10.84 12.0  9.13 12.0  8.15  8.0  5.56\n",
    "       7.0  4.82  7.0  7.26  7.0  6.42  8.0  7.91\n",
    "       5.0  5.68  5.0  4.74  5.0  5.73  8.0  6.89]"
   ]
  },
  {
   "cell_type": "code",
   "execution_count": 39,
   "id": "1858bf14",
   "metadata": {},
   "outputs": [
    {
     "data": {
      "text/plain": [
       "8-element Vector{Float64}:\n",
       " 9.0\n",
       " 7.500909090909093\n",
       " 9.0\n",
       " 7.500909090909091\n",
       " 9.0\n",
       " 7.500000000000001\n",
       " 9.0\n",
       " 7.50090909090909"
      ]
     },
     "execution_count": 39,
     "metadata": {},
     "output_type": "execute_result"
    }
   ],
   "source": [
    "mean.(eachcol(aq))"
   ]
  },
  {
   "cell_type": "code",
   "execution_count": 40,
   "id": "fdcd328a",
   "metadata": {},
   "outputs": [
    {
     "data": {
      "text/plain": [
       "11-element Vector{Float64}:\n",
       "  8.6525\n",
       "  7.4525\n",
       " 10.47125\n",
       "  8.56625\n",
       "  9.35875\n",
       " 10.492500000000001\n",
       "  6.3375\n",
       "  7.03125\n",
       "  9.71\n",
       "  6.92625\n",
       "  5.755000000000001"
      ]
     },
     "execution_count": 40,
     "metadata": {},
     "output_type": "execute_result"
    }
   ],
   "source": [
    "mean(eachcol(aq))"
   ]
  },
  {
   "cell_type": "code",
   "execution_count": 41,
   "id": "9344c6ad",
   "metadata": {},
   "outputs": [
    {
     "data": {
      "text/plain": [
       "R² (generic function with 1 method)"
      ]
     },
     "execution_count": 41,
     "metadata": {},
     "output_type": "execute_result"
    }
   ],
   "source": [
    "function R²(x, y)\n",
    "    X = [ones(11) x]\n",
    "    model = X \\ y\n",
    "    prediction = X * model\n",
    "    error = y - prediction\n",
    "    SS_res = sum(v -> v ^ 2, error)\n",
    "    mean_y = mean(y)\n",
    "    SS_tot = sum(v -> (v - mean_y) ^ 2, y)\n",
    "    return 1 - SS_res / SS_tot\n",
    "end"
   ]
  },
  {
   "cell_type": "code",
   "execution_count": 42,
   "id": "f45d7d68",
   "metadata": {},
   "outputs": [
    {
     "data": {
      "text/plain": [
       "R2 (generic function with 1 method)"
      ]
     },
     "execution_count": 42,
     "metadata": {},
     "output_type": "execute_result"
    }
   ],
   "source": [
    "function R2(x, y)\n",
    "    X = [ones(11) x]\n",
    "    model = X \\ y\n",
    "    prediction = X * model\n",
    "    SS_res = sum((y .- prediction) .^ 2)\n",
    "    SS_tot = sum((y .- mean(y)) .^ 2)\n",
    "    return 1 - SS_res / SS_tot\n",
    "end"
   ]
  },
  {
   "cell_type": "code",
   "execution_count": 43,
   "id": "a732c23c",
   "metadata": {},
   "outputs": [
    {
     "data": {
      "text/plain": [
       "0.666542459508775"
      ]
     },
     "execution_count": 43,
     "metadata": {},
     "output_type": "execute_result"
    }
   ],
   "source": [
    "R²(aq[:, 1], aq[:, 2])"
   ]
  },
  {
   "cell_type": "code",
   "execution_count": 44,
   "id": "3961cbaf",
   "metadata": {},
   "outputs": [
    {
     "data": {
      "text/plain": [
       "0.666542459508775"
      ]
     },
     "execution_count": 44,
     "metadata": {},
     "output_type": "execute_result"
    }
   ],
   "source": [
    "R2(aq[:, 1], aq[:, 2])"
   ]
  },
  {
   "cell_type": "markdown",
   "id": "255f4518",
   "metadata": {},
   "source": [
    "## Defining methods with parametric types"
   ]
  },
  {
   "cell_type": "markdown",
   "id": "596cbf8e",
   "metadata": {},
   "source": [
    "### Most collection types in Julia are parametric"
   ]
  },
  {
   "cell_type": "code",
   "execution_count": 45,
   "id": "773ff5c1",
   "metadata": {},
   "outputs": [
    {
     "data": {
      "text/plain": [
       "Any[]"
      ]
     },
     "execution_count": 45,
     "metadata": {},
     "output_type": "execute_result"
    }
   ],
   "source": [
    "[]"
   ]
  },
  {
   "cell_type": "code",
   "execution_count": 46,
   "id": "595273ae",
   "metadata": {},
   "outputs": [
    {
     "data": {
      "text/plain": [
       "Dict{Any, Any}()"
      ]
     },
     "execution_count": 46,
     "metadata": {},
     "output_type": "execute_result"
    }
   ],
   "source": [
    "Dict()"
   ]
  },
  {
   "cell_type": "code",
   "execution_count": 47,
   "id": "83d058cf",
   "metadata": {},
   "outputs": [
    {
     "data": {
      "text/plain": [
       "3-element Vector{Float64}:\n",
       " 1.0\n",
       " 2.0\n",
       " 3.0"
      ]
     },
     "execution_count": 47,
     "metadata": {},
     "output_type": "execute_result"
    }
   ],
   "source": [
    "Float64[1, 2, 3]"
   ]
  },
  {
   "cell_type": "code",
   "execution_count": 48,
   "id": "c1c48933",
   "metadata": {},
   "outputs": [
    {
     "data": {
      "text/plain": [
       "Dict{UInt8, Float64} with 2 entries:\n",
       "  0x00 => 0.0\n",
       "  0x01 => 1.0"
      ]
     },
     "execution_count": 48,
     "metadata": {},
     "output_type": "execute_result"
    }
   ],
   "source": [
    "Dict{UInt8, Float64}(0 => 0, 1 => 1)"
   ]
  },
  {
   "cell_type": "code",
   "execution_count": 49,
   "id": "c6cee589",
   "metadata": {},
   "outputs": [
    {
     "data": {
      "text/plain": [
       "0x000000c8"
      ]
     },
     "execution_count": 49,
     "metadata": {},
     "output_type": "execute_result"
    }
   ],
   "source": [
    "UInt32(200)"
   ]
  },
  {
   "cell_type": "code",
   "execution_count": 50,
   "id": "8488fad0",
   "metadata": {},
   "outputs": [
    {
     "data": {
      "text/plain": [
       "3-element Vector{Real}:\n",
       "    1\n",
       "    1.0\n",
       " 0x03"
      ]
     },
     "execution_count": 50,
     "metadata": {},
     "output_type": "execute_result"
    }
   ],
   "source": [
    "Real[1, 1.0, 0x3]"
   ]
  },
  {
   "cell_type": "code",
   "execution_count": 51,
   "id": "ab8be134",
   "metadata": {},
   "outputs": [
    {
     "data": {
      "text/plain": [
       "3-element Vector{DataType}:\n",
       " Int64\n",
       " Float64\n",
       " UInt8"
      ]
     },
     "execution_count": 51,
     "metadata": {},
     "output_type": "execute_result"
    }
   ],
   "source": [
    "typeof.(Real[1, 1.0, 0x3])"
   ]
  },
  {
   "cell_type": "code",
   "execution_count": 52,
   "id": "926c1da4",
   "metadata": {},
   "outputs": [
    {
     "data": {
      "text/plain": [
       "3-element Vector{Any}:\n",
       " 1\n",
       " 2\n",
       " 3"
      ]
     },
     "execution_count": 52,
     "metadata": {},
     "output_type": "execute_result"
    }
   ],
   "source": [
    "v1 = Any[1, 2, 3]"
   ]
  },
  {
   "cell_type": "code",
   "execution_count": 53,
   "id": "c327318e",
   "metadata": {},
   "outputs": [
    {
     "data": {
      "text/plain": [
       "Any"
      ]
     },
     "execution_count": 53,
     "metadata": {},
     "output_type": "execute_result"
    }
   ],
   "source": [
    "eltype(v1)"
   ]
  },
  {
   "cell_type": "code",
   "execution_count": 54,
   "id": "ad158a51",
   "metadata": {},
   "outputs": [
    {
     "data": {
      "text/plain": [
       "3-element Vector{Float64}:\n",
       " 1.0\n",
       " 2.0\n",
       " 3.0"
      ]
     },
     "execution_count": 54,
     "metadata": {},
     "output_type": "execute_result"
    }
   ],
   "source": [
    "v2 = Float64[1, 2, 3]"
   ]
  },
  {
   "cell_type": "code",
   "execution_count": 55,
   "id": "cda02a92",
   "metadata": {},
   "outputs": [
    {
     "data": {
      "text/plain": [
       "Float64"
      ]
     },
     "execution_count": 55,
     "metadata": {},
     "output_type": "execute_result"
    }
   ],
   "source": [
    "eltype(v2)"
   ]
  },
  {
   "cell_type": "code",
   "execution_count": 56,
   "id": "08d3eb43",
   "metadata": {},
   "outputs": [
    {
     "data": {
      "text/plain": [
       "3-element Vector{Int64}:\n",
       " 1\n",
       " 2\n",
       " 3"
      ]
     },
     "execution_count": 56,
     "metadata": {},
     "output_type": "execute_result"
    }
   ],
   "source": [
    "v3 = [1, 2, 3]"
   ]
  },
  {
   "cell_type": "code",
   "execution_count": 57,
   "id": "9b72a66f",
   "metadata": {},
   "outputs": [
    {
     "data": {
      "text/plain": [
       "Int64"
      ]
     },
     "execution_count": 57,
     "metadata": {},
     "output_type": "execute_result"
    }
   ],
   "source": [
    "eltype(v3)"
   ]
  },
  {
   "cell_type": "code",
   "execution_count": 58,
   "id": "e8e4e751",
   "metadata": {},
   "outputs": [
    {
     "data": {
      "text/plain": [
       "Dict{Any, Any}()"
      ]
     },
     "execution_count": 58,
     "metadata": {},
     "output_type": "execute_result"
    }
   ],
   "source": [
    "d1 = Dict()"
   ]
  },
  {
   "cell_type": "code",
   "execution_count": 59,
   "id": "56c0e2ff",
   "metadata": {},
   "outputs": [
    {
     "data": {
      "text/plain": [
       "Pair{Any, Any}"
      ]
     },
     "execution_count": 59,
     "metadata": {},
     "output_type": "execute_result"
    }
   ],
   "source": [
    "eltype(d1)"
   ]
  },
  {
   "cell_type": "code",
   "execution_count": 60,
   "id": "3b65c129",
   "metadata": {},
   "outputs": [
    {
     "data": {
      "text/plain": [
       "Dict{Int64, Int64} with 2 entries:\n",
       "  3 => 4\n",
       "  1 => 2"
      ]
     },
     "execution_count": 60,
     "metadata": {},
     "output_type": "execute_result"
    }
   ],
   "source": [
    "d2 = Dict(1 => 2, 3 => 4)"
   ]
  },
  {
   "cell_type": "code",
   "execution_count": 61,
   "id": "2a74b630",
   "metadata": {},
   "outputs": [
    {
     "data": {
      "text/plain": [
       "Pair{Int64, Int64}"
      ]
     },
     "execution_count": 61,
     "metadata": {},
     "output_type": "execute_result"
    }
   ],
   "source": [
    "eltype(d2)"
   ]
  },
  {
   "cell_type": "code",
   "execution_count": 62,
   "id": "db2f9a84",
   "metadata": {},
   "outputs": [
    {
     "data": {
      "text/plain": [
       "1 => 2"
      ]
     },
     "execution_count": 62,
     "metadata": {},
     "output_type": "execute_result"
    }
   ],
   "source": [
    "p = 1 => 2"
   ]
  },
  {
   "cell_type": "code",
   "execution_count": 63,
   "id": "a7743439",
   "metadata": {},
   "outputs": [
    {
     "data": {
      "text/plain": [
       "Pair{Int64, Int64}"
      ]
     },
     "execution_count": 63,
     "metadata": {},
     "output_type": "execute_result"
    }
   ],
   "source": [
    "typeof(p)"
   ]
  },
  {
   "cell_type": "markdown",
   "id": "27a7c3e8",
   "metadata": {},
   "source": [
    "### Rules for subtyping of parametric types"
   ]
  },
  {
   "cell_type": "code",
   "execution_count": 64,
   "id": "ec4db4af",
   "metadata": {},
   "outputs": [
    {
     "data": {
      "text/plain": [
       "true"
      ]
     },
     "execution_count": 64,
     "metadata": {},
     "output_type": "execute_result"
    }
   ],
   "source": [
    "[1, 2, 3] isa AbstractVector{Int}"
   ]
  },
  {
   "cell_type": "code",
   "execution_count": 65,
   "id": "3bb6c690",
   "metadata": {},
   "outputs": [
    {
     "data": {
      "text/plain": [
       "false"
      ]
     },
     "execution_count": 65,
     "metadata": {},
     "output_type": "execute_result"
    }
   ],
   "source": [
    "[1, 2, 3] isa AbstractVector{Real}"
   ]
  },
  {
   "cell_type": "code",
   "execution_count": 66,
   "id": "a9097c2c",
   "metadata": {},
   "outputs": [
    {
     "data": {
      "text/plain": [
       "true"
      ]
     },
     "execution_count": 66,
     "metadata": {},
     "output_type": "execute_result"
    }
   ],
   "source": [
    "AbstractVector{<:Real} == AbstractVector{T} where T<:Real"
   ]
  },
  {
   "cell_type": "markdown",
   "id": "753b2c4d",
   "metadata": {},
   "source": [
    "### Using subtyping rules to define the covariance function"
   ]
  },
  {
   "cell_type": "code",
   "execution_count": 67,
   "id": "a5aa99a3",
   "metadata": {},
   "outputs": [
    {
     "data": {
      "text/plain": [
       "ourcov (generic function with 1 method)"
      ]
     },
     "execution_count": 67,
     "metadata": {},
     "output_type": "execute_result"
    }
   ],
   "source": [
    "using Statistics\n",
    "function ourcov(x::AbstractVector{<:Real}, y::AbstractVector{<:Real})\n",
    "    len = length(x)\n",
    "    @assert len == length(y) > 0\n",
    "    return sum((x .- mean(x)) .* (y .- mean(y))) / (len - 1)\n",
    "end"
   ]
  },
  {
   "cell_type": "code",
   "execution_count": 68,
   "id": "7b20be6c",
   "metadata": {},
   "outputs": [
    {
     "data": {
      "text/plain": [
       "1.3333333333333333"
      ]
     },
     "execution_count": 68,
     "metadata": {},
     "output_type": "execute_result"
    }
   ],
   "source": [
    "ourcov(1:4, [1.0, 3.0, 2.0, 4.0])"
   ]
  },
  {
   "cell_type": "code",
   "execution_count": 69,
   "id": "9ec6ed54",
   "metadata": {},
   "outputs": [
    {
     "data": {
      "text/plain": [
       "1.3333333333333333"
      ]
     },
     "execution_count": 69,
     "metadata": {},
     "output_type": "execute_result"
    }
   ],
   "source": [
    "cov(1:4, [1.0, 3.0, 2.0, 4.0])"
   ]
  },
  {
   "cell_type": "code",
   "execution_count": 70,
   "id": "cd1b61d7",
   "metadata": {},
   "outputs": [
    {
     "ename": "LoadError",
     "evalue": "MethodError: no method matching ourcov(::UnitRange{Int64}, ::Vector{Any})\n\u001b[0mClosest candidates are:\n\u001b[0m  ourcov(::AbstractVector{<:Real}, \u001b[91m::AbstractVector{<:Real}\u001b[39m) at In[67]:2",
     "output_type": "error",
     "traceback": [
      "MethodError: no method matching ourcov(::UnitRange{Int64}, ::Vector{Any})\n\u001b[0mClosest candidates are:\n\u001b[0m  ourcov(::AbstractVector{<:Real}, \u001b[91m::AbstractVector{<:Real}\u001b[39m) at In[67]:2",
      "",
      "Stacktrace:",
      " [1] top-level scope",
      "   @ In[70]:1",
      " [2] eval",
      "   @ .\\boot.jl:373 [inlined]",
      " [3] include_string(mapexpr::typeof(REPL.softscope), mod::Module, code::String, filename::String)",
      "   @ Base .\\loading.jl:1196"
     ]
    }
   ],
   "source": [
    "ourcov(1:4, Any[1.0, 3.0, 2.0, 4.0])"
   ]
  },
  {
   "cell_type": "markdown",
   "id": "5eab5abf",
   "metadata": {},
   "source": [
    "### Autodetection of narrowest element type"
   ]
  },
  {
   "cell_type": "code",
   "execution_count": 71,
   "id": "56bd440c",
   "metadata": {},
   "outputs": [
    {
     "data": {
      "text/plain": [
       "3-element Vector{Any}:\n",
       " 1\n",
       " 2\n",
       " 3"
      ]
     },
     "execution_count": 71,
     "metadata": {},
     "output_type": "execute_result"
    }
   ],
   "source": [
    "x = Any[1, 2, 3]"
   ]
  },
  {
   "cell_type": "code",
   "execution_count": 72,
   "id": "39895d09",
   "metadata": {},
   "outputs": [
    {
     "data": {
      "text/plain": [
       "3-element Vector{Int64}:\n",
       " 1\n",
       " 2\n",
       " 3"
      ]
     },
     "execution_count": 72,
     "metadata": {},
     "output_type": "execute_result"
    }
   ],
   "source": [
    "identity.(x)"
   ]
  },
  {
   "cell_type": "code",
   "execution_count": 73,
   "id": "4dfbb644",
   "metadata": {},
   "outputs": [
    {
     "data": {
      "text/plain": [
       "2-element Vector{Any}:\n",
       " 1\n",
       " 2.0"
      ]
     },
     "execution_count": 73,
     "metadata": {},
     "output_type": "execute_result"
    }
   ],
   "source": [
    "y = Any[1, 2.0]"
   ]
  },
  {
   "cell_type": "code",
   "execution_count": 74,
   "id": "9350be2c",
   "metadata": {},
   "outputs": [
    {
     "data": {
      "text/plain": [
       "2-element Vector{Real}:\n",
       " 1\n",
       " 2.0"
      ]
     },
     "execution_count": 74,
     "metadata": {},
     "output_type": "execute_result"
    }
   ],
   "source": [
    "identity.(y)"
   ]
  },
  {
   "cell_type": "markdown",
   "id": "f477adff",
   "metadata": {},
   "source": [
    "## Integration with Python"
   ]
  },
  {
   "cell_type": "markdown",
   "id": "6785fb5f",
   "metadata": {},
   "source": [
    "### Preparing data for dimensionality reduction"
   ]
  },
  {
   "cell_type": "code",
   "execution_count": 75,
   "id": "a38d026f",
   "metadata": {},
   "outputs": [
    {
     "data": {
      "text/plain": [
       "100×5 Matrix{Float64}:\n",
       " -0.0293437  -0.737544   -0.613869  -1.31815    -2.95335\n",
       " -1.97922    -1.02224    -1.74252   -2.33397    -2.00848\n",
       " -0.0981391  -1.39129    -1.87533   -1.76821    -1.23108\n",
       " -1.0328     -0.972379    0.600607  -0.0713489  -1.16386\n",
       " -1.60079    -3.29076     0.521804   1.71145    -0.113714\n",
       " -2.44518    -1.66854    -0.715754  -1.37086     0.630318\n",
       "  1.70742    -1.78469    -1.87393   -1.44342     0.521595\n",
       "  0.524448    0.128985   -1.8989    -1.20746    -0.417508\n",
       " -0.240196   -0.788823   -1.16236   -0.0609412  -0.30224\n",
       " -1.88144    -0.285358   -0.382139  -1.26819    -1.58575\n",
       " -0.294007   -0.965934   -0.890225  -2.73204    -2.00704\n",
       "  0.0915553  -0.431329   -0.896389  -1.78917    -3.25478\n",
       " -0.128502   -3.62623    -2.29636   -2.58389    -1.03068\n",
       "  ⋮                                             \n",
       "  0.349637   -1.35364    -1.89788    0.600061    0.371505\n",
       "  0.131929   -0.868554   -0.737022  -1.75019    -1.40852\n",
       " -2.3637     -1.03082    -1.12565   -2.20938    -0.321452\n",
       " -1.06856    -0.306033   -3.40849   -2.19015    -1.28519\n",
       "  1.5139     -0.771895   -1.65267   -2.90374    -1.55961\n",
       " -0.875938   -2.45727    -1.59571    0.261639   -0.579293\n",
       " -0.557989   -1.17941    -0.310314  -0.886134   -1.31935\n",
       " -0.344089   -2.66339    -3.08627   -2.44066    -1.27028\n",
       " -0.814052   -0.0632304  -1.01902   -0.322153   -1.20563\n",
       "  2.22591    -0.164603   -0.614049  -1.03229    -0.229297\n",
       " -1.55273    -1.09341    -0.823972  -3.41422    -2.21394\n",
       " -4.40253    -1.62642    -1.01099   -0.926064    0.0914986"
      ]
     },
     "execution_count": 75,
     "metadata": {},
     "output_type": "execute_result"
    }
   ],
   "source": [
    "using Random\n",
    "Random.seed!(1234);\n",
    "cluster1 = randn(100, 5) .- 1"
   ]
  },
  {
   "cell_type": "code",
   "execution_count": 76,
   "id": "9ac03dd5",
   "metadata": {},
   "outputs": [
    {
     "data": {
      "text/plain": [
       "100×5 Matrix{Float64}:\n",
       "  0.910428    2.13668    0.852595   -0.450324    0.279842\n",
       " -0.203334    0.993725   1.86318     0.410499   -0.0472934\n",
       " -0.310062    0.608036  -0.0537928   1.48085     1.51439\n",
       "  1.57447     1.40369    1.44851     1.27623     0.942008\n",
       "  2.16312     1.88732    2.51227     0.533175   -0.520495\n",
       " -0.297068   -0.294909   1.69599    -0.955542    0.460474\n",
       "  0.326462    1.73068   -0.107294   -0.173673    2.16299\n",
       "  2.06125     1.23118    2.39091     1.94137     0.99571\n",
       "  2.04321     0.655377   0.752083    1.51127    -1.03125\n",
       "  1.50997     0.53043    0.855706    1.14648    -0.473419\n",
       "  0.283238    1.66014    1.30692     1.63794     2.61739\n",
       " -0.194558    1.54699    0.929476   -1.25768     1.16355\n",
       "  0.852959    3.43833    0.209476    0.0278118   0.657448\n",
       "  ⋮                                             \n",
       "  1.745       0.264627  -0.48647     1.7736      1.85603\n",
       "  1.92047     1.90824    1.80222    -1.18045     1.08781\n",
       "  0.0598871   0.375741  -0.0903753  -0.0878099   3.18596\n",
       "  0.341124    1.66711    1.03731     1.60777     0.825171\n",
       "  1.4519      0.619694   1.31183    -0.281327    1.45072\n",
       " -0.601915    1.13995    2.14423     2.00186     1.29112\n",
       "  1.43014    -0.124389   1.17537     0.67043     1.46802\n",
       "  0.364553    1.0528     2.95952     0.526816    0.799745\n",
       "  1.2327      2.37472    1.31467    -0.290594    3.00592\n",
       " -0.198159   -0.211778  -0.726857    0.194847    2.65386\n",
       "  1.47109     2.61912    1.80582     1.18953     1.41611\n",
       "  2.77582     1.53736   -0.805129   -0.315228    1.35773"
      ]
     },
     "execution_count": 76,
     "metadata": {},
     "output_type": "execute_result"
    }
   ],
   "source": [
    "cluster2 = randn(100, 5) .+ 1"
   ]
  },
  {
   "cell_type": "code",
   "execution_count": 77,
   "id": "51ce592f",
   "metadata": {},
   "outputs": [
    {
     "data": {
      "text/plain": [
       "200×5 Matrix{Float64}:\n",
       " -0.0293437  -0.737544  -0.613869   -1.31815    -2.95335\n",
       " -1.97922    -1.02224   -1.74252    -2.33397    -2.00848\n",
       " -0.0981391  -1.39129   -1.87533    -1.76821    -1.23108\n",
       " -1.0328     -0.972379   0.600607   -0.0713489  -1.16386\n",
       " -1.60079    -3.29076    0.521804    1.71145    -0.113714\n",
       " -2.44518    -1.66854   -0.715754   -1.37086     0.630318\n",
       "  1.70742    -1.78469   -1.87393    -1.44342     0.521595\n",
       "  0.524448    0.128985  -1.8989     -1.20746    -0.417508\n",
       " -0.240196   -0.788823  -1.16236    -0.0609412  -0.30224\n",
       " -1.88144    -0.285358  -0.382139   -1.26819    -1.58575\n",
       " -0.294007   -0.965934  -0.890225   -2.73204    -2.00704\n",
       "  0.0915553  -0.431329  -0.896389   -1.78917    -3.25478\n",
       " -0.128502   -3.62623   -2.29636    -2.58389    -1.03068\n",
       "  ⋮                                             \n",
       "  1.745       0.264627  -0.48647     1.7736      1.85603\n",
       "  1.92047     1.90824    1.80222    -1.18045     1.08781\n",
       "  0.0598871   0.375741  -0.0903753  -0.0878099   3.18596\n",
       "  0.341124    1.66711    1.03731     1.60777     0.825171\n",
       "  1.4519      0.619694   1.31183    -0.281327    1.45072\n",
       " -0.601915    1.13995    2.14423     2.00186     1.29112\n",
       "  1.43014    -0.124389   1.17537     0.67043     1.46802\n",
       "  0.364553    1.0528     2.95952     0.526816    0.799745\n",
       "  1.2327      2.37472    1.31467    -0.290594    3.00592\n",
       " -0.198159   -0.211778  -0.726857    0.194847    2.65386\n",
       "  1.47109     2.61912    1.80582     1.18953     1.41611\n",
       "  2.77582     1.53736   -0.805129   -0.315228    1.35773"
      ]
     },
     "execution_count": 77,
     "metadata": {},
     "output_type": "execute_result"
    }
   ],
   "source": [
    "data5 = vcat(cluster1, cluster2)"
   ]
  },
  {
   "cell_type": "markdown",
   "id": "3a01e28c",
   "metadata": {},
   "source": [
    "### Calling Python from Julia"
   ]
  },
  {
   "cell_type": "code",
   "execution_count": 78,
   "id": "88c2531f",
   "metadata": {},
   "outputs": [
    {
     "data": {
      "text/plain": [
       "PyObject <module 'sklearn.manifold' from 'C:\\\\Users\\\\bogum\\\\.julia\\\\conda\\\\3\\\\lib\\\\site-packages\\\\sklearn\\\\manifold\\\\__init__.py'>"
      ]
     },
     "execution_count": 78,
     "metadata": {},
     "output_type": "execute_result"
    }
   ],
   "source": [
    "using PyCall\n",
    "manifold = pyimport(\"sklearn.manifold\")"
   ]
  },
  {
   "cell_type": "code",
   "execution_count": 79,
   "id": "01010cd1",
   "metadata": {},
   "outputs": [
    {
     "data": {
      "text/plain": [
       "PyObject TSNE(init='random', learning_rate='auto', random_state=1234)"
      ]
     },
     "execution_count": 79,
     "metadata": {},
     "output_type": "execute_result"
    }
   ],
   "source": [
    "tsne = manifold.TSNE(n_components=2, init=\"random\",\n",
    "                     learning_rate=\"auto\", random_state=1234)"
   ]
  },
  {
   "cell_type": "code",
   "execution_count": 80,
   "id": "dc3f6d2d",
   "metadata": {},
   "outputs": [
    {
     "data": {
      "text/plain": [
       "200×2 Matrix{Float32}:\n",
       "  1.25395   -14.9826\n",
       "  0.448442  -12.2407\n",
       " -2.0488    -10.6652\n",
       "  2.19538    -3.94876\n",
       "  3.96208    -4.52406\n",
       "  5.36888    -8.49391\n",
       " -4.42427    -6.51206\n",
       " -2.90912    -7.07276\n",
       " -0.748511   -6.07825\n",
       "  3.50201   -12.5633\n",
       " -0.820911  -13.45\n",
       "  0.720357  -15.1307\n",
       " -5.75896   -11.0336\n",
       "  ⋮         \n",
       "  3.06928    12.287\n",
       " -5.0805     14.7614\n",
       "  5.6529      7.01109\n",
       " -2.95191    10.3881\n",
       "  3.05986     8.38205\n",
       " -2.45138     7.67155\n",
       "  2.11289     8.53137\n",
       " -0.722965    7.74772\n",
       "  6.23544    10.1046\n",
       "  5.49633     6.37504\n",
       " -1.82243    13.8231\n",
       "  5.05417    13.2529"
      ]
     },
     "execution_count": 80,
     "metadata": {},
     "output_type": "execute_result"
    }
   ],
   "source": [
    "data2 = tsne.fit_transform(data5)"
   ]
  },
  {
   "cell_type": "markdown",
   "id": "9ea222c7",
   "metadata": {},
   "source": [
    "### Visualizing the results of t-SNE algorithm"
   ]
  },
  {
   "cell_type": "code",
   "execution_count": 81,
   "id": "8ab58e53",
   "metadata": {},
   "outputs": [
    {
     "data": {
      "image/svg+xml": [
       "<?xml version=\"1.0\" encoding=\"utf-8\"?>\n",
       "<svg xmlns=\"http://www.w3.org/2000/svg\" xmlns:xlink=\"http://www.w3.org/1999/xlink\" width=\"600\" height=\"400\" viewBox=\"0 0 2400 1600\">\n",
       "<defs>\n",
       "  <clipPath id=\"clip590\">\n",
       "    <rect x=\"0\" y=\"0\" width=\"2400\" height=\"1600\"/>\n",
       "  </clipPath>\n",
       "</defs>\n",
       "<path clip-path=\"url(#clip590)\" d=\"\n",
       "M0 1600 L2400 1600 L2400 0 L0 0  Z\n",
       "  \" fill=\"#ffffff\" fill-rule=\"evenodd\" fill-opacity=\"1\"/>\n",
       "<defs>\n",
       "  <clipPath id=\"clip591\">\n",
       "    <rect x=\"480\" y=\"0\" width=\"1681\" height=\"1600\"/>\n",
       "  </clipPath>\n",
       "</defs>\n",
       "<path clip-path=\"url(#clip590)\" d=\"\n",
       "M178.867 1486.45 L2352.76 1486.45 L2352.76 47.2441 L178.867 47.2441  Z\n",
       "  \" fill=\"#ffffff\" fill-rule=\"evenodd\" fill-opacity=\"1\"/>\n",
       "<defs>\n",
       "  <clipPath id=\"clip592\">\n",
       "    <rect x=\"178\" y=\"47\" width=\"2175\" height=\"1440\"/>\n",
       "  </clipPath>\n",
       "</defs>\n",
       "<polyline clip-path=\"url(#clip592)\" style=\"stroke:#000000; stroke-linecap:butt; stroke-linejoin:round; stroke-width:2; stroke-opacity:0.1; fill:none\" points=\"\n",
       "  334.976,1486.45 334.976,47.2441 \n",
       "  \"/>\n",
       "<polyline clip-path=\"url(#clip592)\" style=\"stroke:#000000; stroke-linecap:butt; stroke-linejoin:round; stroke-width:2; stroke-opacity:0.1; fill:none\" points=\"\n",
       "  632.696,1486.45 632.696,47.2441 \n",
       "  \"/>\n",
       "<polyline clip-path=\"url(#clip592)\" style=\"stroke:#000000; stroke-linecap:butt; stroke-linejoin:round; stroke-width:2; stroke-opacity:0.1; fill:none\" points=\"\n",
       "  930.416,1486.45 930.416,47.2441 \n",
       "  \"/>\n",
       "<polyline clip-path=\"url(#clip592)\" style=\"stroke:#000000; stroke-linecap:butt; stroke-linejoin:round; stroke-width:2; stroke-opacity:0.1; fill:none\" points=\"\n",
       "  1228.14,1486.45 1228.14,47.2441 \n",
       "  \"/>\n",
       "<polyline clip-path=\"url(#clip592)\" style=\"stroke:#000000; stroke-linecap:butt; stroke-linejoin:round; stroke-width:2; stroke-opacity:0.1; fill:none\" points=\"\n",
       "  1525.86,1486.45 1525.86,47.2441 \n",
       "  \"/>\n",
       "<polyline clip-path=\"url(#clip592)\" style=\"stroke:#000000; stroke-linecap:butt; stroke-linejoin:round; stroke-width:2; stroke-opacity:0.1; fill:none\" points=\"\n",
       "  1823.58,1486.45 1823.58,47.2441 \n",
       "  \"/>\n",
       "<polyline clip-path=\"url(#clip592)\" style=\"stroke:#000000; stroke-linecap:butt; stroke-linejoin:round; stroke-width:2; stroke-opacity:0.1; fill:none\" points=\"\n",
       "  2121.3,1486.45 2121.3,47.2441 \n",
       "  \"/>\n",
       "<polyline clip-path=\"url(#clip590)\" style=\"stroke:#000000; stroke-linecap:butt; stroke-linejoin:round; stroke-width:4; stroke-opacity:1; fill:none\" points=\"\n",
       "  178.867,1486.45 2352.76,1486.45 \n",
       "  \"/>\n",
       "<polyline clip-path=\"url(#clip590)\" style=\"stroke:#000000; stroke-linecap:butt; stroke-linejoin:round; stroke-width:4; stroke-opacity:1; fill:none\" points=\"\n",
       "  334.976,1486.45 334.976,1467.55 \n",
       "  \"/>\n",
       "<polyline clip-path=\"url(#clip590)\" style=\"stroke:#000000; stroke-linecap:butt; stroke-linejoin:round; stroke-width:4; stroke-opacity:1; fill:none\" points=\"\n",
       "  632.696,1486.45 632.696,1467.55 \n",
       "  \"/>\n",
       "<polyline clip-path=\"url(#clip590)\" style=\"stroke:#000000; stroke-linecap:butt; stroke-linejoin:round; stroke-width:4; stroke-opacity:1; fill:none\" points=\"\n",
       "  930.416,1486.45 930.416,1467.55 \n",
       "  \"/>\n",
       "<polyline clip-path=\"url(#clip590)\" style=\"stroke:#000000; stroke-linecap:butt; stroke-linejoin:round; stroke-width:4; stroke-opacity:1; fill:none\" points=\"\n",
       "  1228.14,1486.45 1228.14,1467.55 \n",
       "  \"/>\n",
       "<polyline clip-path=\"url(#clip590)\" style=\"stroke:#000000; stroke-linecap:butt; stroke-linejoin:round; stroke-width:4; stroke-opacity:1; fill:none\" points=\"\n",
       "  1525.86,1486.45 1525.86,1467.55 \n",
       "  \"/>\n",
       "<polyline clip-path=\"url(#clip590)\" style=\"stroke:#000000; stroke-linecap:butt; stroke-linejoin:round; stroke-width:4; stroke-opacity:1; fill:none\" points=\"\n",
       "  1823.58,1486.45 1823.58,1467.55 \n",
       "  \"/>\n",
       "<polyline clip-path=\"url(#clip590)\" style=\"stroke:#000000; stroke-linecap:butt; stroke-linejoin:round; stroke-width:4; stroke-opacity:1; fill:none\" points=\"\n",
       "  2121.3,1486.45 2121.3,1467.55 \n",
       "  \"/>\n",
       "<path clip-path=\"url(#clip590)\" d=\"M304.038 1532.02 L333.714 1532.02 L333.714 1535.95 L304.038 1535.95 L304.038 1532.02 Z\" fill=\"#000000\" fill-rule=\"evenodd\" fill-opacity=\"1\" /><path clip-path=\"url(#clip590)\" d=\"M354.385 1529.7 Q351.237 1529.7 349.385 1531.86 Q347.557 1534.01 347.557 1537.76 Q347.557 1541.49 349.385 1543.66 Q351.237 1545.82 354.385 1545.82 Q357.533 1545.82 359.362 1543.66 Q361.214 1541.49 361.214 1537.76 Q361.214 1534.01 359.362 1531.86 Q357.533 1529.7 354.385 1529.7 M363.668 1515.05 L363.668 1519.31 Q361.908 1518.48 360.103 1518.04 Q358.32 1517.6 356.561 1517.6 Q351.932 1517.6 349.478 1520.72 Q347.047 1523.85 346.7 1530.17 Q348.066 1528.15 350.126 1527.09 Q352.186 1526 354.663 1526 Q359.871 1526 362.881 1529.17 Q365.913 1532.32 365.913 1537.76 Q365.913 1543.08 362.765 1546.3 Q359.617 1549.52 354.385 1549.52 Q348.39 1549.52 345.219 1544.94 Q342.047 1540.33 342.047 1531.6 Q342.047 1523.41 345.936 1518.55 Q349.825 1513.66 356.376 1513.66 Q358.135 1513.66 359.918 1514.01 Q361.723 1514.36 363.668 1515.05 Z\" fill=\"#000000\" fill-rule=\"evenodd\" fill-opacity=\"1\" /><path clip-path=\"url(#clip590)\" d=\"M601.596 1532.02 L631.272 1532.02 L631.272 1535.95 L601.596 1535.95 L601.596 1532.02 Z\" fill=\"#000000\" fill-rule=\"evenodd\" fill-opacity=\"1\" /><path clip-path=\"url(#clip590)\" d=\"M654.212 1518.36 L642.406 1536.81 L654.212 1536.81 L654.212 1518.36 M652.985 1514.29 L658.864 1514.29 L658.864 1536.81 L663.795 1536.81 L663.795 1540.7 L658.864 1540.7 L658.864 1548.85 L654.212 1548.85 L654.212 1540.7 L638.61 1540.7 L638.61 1536.19 L652.985 1514.29 Z\" fill=\"#000000\" fill-rule=\"evenodd\" fill-opacity=\"1\" /><path clip-path=\"url(#clip590)\" d=\"M900.358 1532.02 L930.034 1532.02 L930.034 1535.95 L900.358 1535.95 L900.358 1532.02 Z\" fill=\"#000000\" fill-rule=\"evenodd\" fill-opacity=\"1\" /><path clip-path=\"url(#clip590)\" d=\"M944.154 1544.91 L960.473 1544.91 L960.473 1548.85 L938.529 1548.85 L938.529 1544.91 Q941.191 1542.16 945.774 1537.53 Q950.381 1532.88 951.561 1531.53 Q953.807 1529.01 954.686 1527.27 Q955.589 1525.51 955.589 1523.82 Q955.589 1521.07 953.645 1519.33 Q951.723 1517.6 948.622 1517.6 Q946.422 1517.6 943.969 1518.36 Q941.538 1519.13 938.76 1520.68 L938.76 1515.95 Q941.585 1514.82 944.038 1514.24 Q946.492 1513.66 948.529 1513.66 Q953.899 1513.66 957.094 1516.35 Q960.288 1519.03 960.288 1523.52 Q960.288 1525.65 959.478 1527.57 Q958.691 1529.47 956.584 1532.07 Q956.006 1532.74 952.904 1535.95 Q949.802 1539.15 944.154 1544.91 Z\" fill=\"#000000\" fill-rule=\"evenodd\" fill-opacity=\"1\" /><path clip-path=\"url(#clip590)\" d=\"M1228.14 1517.37 Q1224.52 1517.37 1222.7 1520.93 Q1220.89 1524.47 1220.89 1531.6 Q1220.89 1538.71 1222.7 1542.27 Q1224.52 1545.82 1228.14 1545.82 Q1231.77 1545.82 1233.58 1542.27 Q1235.4 1538.71 1235.4 1531.6 Q1235.4 1524.47 1233.58 1520.93 Q1231.77 1517.37 1228.14 1517.37 M1228.14 1513.66 Q1233.95 1513.66 1237 1518.27 Q1240.08 1522.85 1240.08 1531.6 Q1240.08 1540.33 1237 1544.94 Q1233.95 1549.52 1228.14 1549.52 Q1222.33 1549.52 1219.25 1544.94 Q1216.19 1540.33 1216.19 1531.6 Q1216.19 1522.85 1219.25 1518.27 Q1222.33 1513.66 1228.14 1513.66 Z\" fill=\"#000000\" fill-rule=\"evenodd\" fill-opacity=\"1\" /><path clip-path=\"url(#clip590)\" d=\"M1520.51 1544.91 L1536.83 1544.91 L1536.83 1548.85 L1514.88 1548.85 L1514.88 1544.91 Q1517.55 1542.16 1522.13 1537.53 Q1526.74 1532.88 1527.92 1531.53 Q1530.16 1529.01 1531.04 1527.27 Q1531.94 1525.51 1531.94 1523.82 Q1531.94 1521.07 1530 1519.33 Q1528.08 1517.6 1524.98 1517.6 Q1522.78 1517.6 1520.32 1518.36 Q1517.89 1519.13 1515.11 1520.68 L1515.11 1515.95 Q1517.94 1514.82 1520.39 1514.24 Q1522.85 1513.66 1524.88 1513.66 Q1530.25 1513.66 1533.45 1516.35 Q1536.64 1519.03 1536.64 1523.52 Q1536.64 1525.65 1535.83 1527.57 Q1535.05 1529.47 1532.94 1532.07 Q1532.36 1532.74 1529.26 1535.95 Q1526.16 1539.15 1520.51 1544.91 Z\" fill=\"#000000\" fill-rule=\"evenodd\" fill-opacity=\"1\" /><path clip-path=\"url(#clip590)\" d=\"M1826.58 1518.36 L1814.78 1536.81 L1826.58 1536.81 L1826.58 1518.36 M1825.36 1514.29 L1831.24 1514.29 L1831.24 1536.81 L1836.17 1536.81 L1836.17 1540.7 L1831.24 1540.7 L1831.24 1548.85 L1826.58 1548.85 L1826.58 1540.7 L1810.98 1540.7 L1810.98 1536.19 L1825.36 1514.29 Z\" fill=\"#000000\" fill-rule=\"evenodd\" fill-opacity=\"1\" /><path clip-path=\"url(#clip590)\" d=\"M2121.7 1529.7 Q2118.55 1529.7 2116.7 1531.86 Q2114.87 1534.01 2114.87 1537.76 Q2114.87 1541.49 2116.7 1543.66 Q2118.55 1545.82 2121.7 1545.82 Q2124.85 1545.82 2126.68 1543.66 Q2128.53 1541.49 2128.53 1537.76 Q2128.53 1534.01 2126.68 1531.86 Q2124.85 1529.7 2121.7 1529.7 M2130.98 1515.05 L2130.98 1519.31 Q2129.22 1518.48 2127.42 1518.04 Q2125.64 1517.6 2123.88 1517.6 Q2119.25 1517.6 2116.79 1520.72 Q2114.36 1523.85 2114.02 1530.17 Q2115.38 1528.15 2117.44 1527.09 Q2119.5 1526 2121.98 1526 Q2127.19 1526 2130.2 1529.17 Q2133.23 1532.32 2133.23 1537.76 Q2133.23 1543.08 2130.08 1546.3 Q2126.93 1549.52 2121.7 1549.52 Q2115.71 1549.52 2112.53 1544.94 Q2109.36 1540.33 2109.36 1531.6 Q2109.36 1523.41 2113.25 1518.55 Q2117.14 1513.66 2123.69 1513.66 Q2125.45 1513.66 2127.23 1514.01 Q2129.04 1514.36 2130.98 1515.05 Z\" fill=\"#000000\" fill-rule=\"evenodd\" fill-opacity=\"1\" /><polyline clip-path=\"url(#clip592)\" style=\"stroke:#000000; stroke-linecap:butt; stroke-linejoin:round; stroke-width:2; stroke-opacity:0.1; fill:none\" points=\"\n",
       "  178.867,1425.64 2352.76,1425.64 \n",
       "  \"/>\n",
       "<polyline clip-path=\"url(#clip592)\" style=\"stroke:#000000; stroke-linecap:butt; stroke-linejoin:round; stroke-width:2; stroke-opacity:0.1; fill:none\" points=\"\n",
       "  178.867,1211.66 2352.76,1211.66 \n",
       "  \"/>\n",
       "<polyline clip-path=\"url(#clip592)\" style=\"stroke:#000000; stroke-linecap:butt; stroke-linejoin:round; stroke-width:2; stroke-opacity:0.1; fill:none\" points=\"\n",
       "  178.867,997.681 2352.76,997.681 \n",
       "  \"/>\n",
       "<polyline clip-path=\"url(#clip592)\" style=\"stroke:#000000; stroke-linecap:butt; stroke-linejoin:round; stroke-width:2; stroke-opacity:0.1; fill:none\" points=\"\n",
       "  178.867,783.703 2352.76,783.703 \n",
       "  \"/>\n",
       "<polyline clip-path=\"url(#clip592)\" style=\"stroke:#000000; stroke-linecap:butt; stroke-linejoin:round; stroke-width:2; stroke-opacity:0.1; fill:none\" points=\"\n",
       "  178.867,569.726 2352.76,569.726 \n",
       "  \"/>\n",
       "<polyline clip-path=\"url(#clip592)\" style=\"stroke:#000000; stroke-linecap:butt; stroke-linejoin:round; stroke-width:2; stroke-opacity:0.1; fill:none\" points=\"\n",
       "  178.867,355.748 2352.76,355.748 \n",
       "  \"/>\n",
       "<polyline clip-path=\"url(#clip592)\" style=\"stroke:#000000; stroke-linecap:butt; stroke-linejoin:round; stroke-width:2; stroke-opacity:0.1; fill:none\" points=\"\n",
       "  178.867,141.771 2352.76,141.771 \n",
       "  \"/>\n",
       "<polyline clip-path=\"url(#clip590)\" style=\"stroke:#000000; stroke-linecap:butt; stroke-linejoin:round; stroke-width:4; stroke-opacity:1; fill:none\" points=\"\n",
       "  178.867,1486.45 178.867,47.2441 \n",
       "  \"/>\n",
       "<polyline clip-path=\"url(#clip590)\" style=\"stroke:#000000; stroke-linecap:butt; stroke-linejoin:round; stroke-width:4; stroke-opacity:1; fill:none\" points=\"\n",
       "  178.867,1425.64 197.764,1425.64 \n",
       "  \"/>\n",
       "<polyline clip-path=\"url(#clip590)\" style=\"stroke:#000000; stroke-linecap:butt; stroke-linejoin:round; stroke-width:4; stroke-opacity:1; fill:none\" points=\"\n",
       "  178.867,1211.66 197.764,1211.66 \n",
       "  \"/>\n",
       "<polyline clip-path=\"url(#clip590)\" style=\"stroke:#000000; stroke-linecap:butt; stroke-linejoin:round; stroke-width:4; stroke-opacity:1; fill:none\" points=\"\n",
       "  178.867,997.681 197.764,997.681 \n",
       "  \"/>\n",
       "<polyline clip-path=\"url(#clip590)\" style=\"stroke:#000000; stroke-linecap:butt; stroke-linejoin:round; stroke-width:4; stroke-opacity:1; fill:none\" points=\"\n",
       "  178.867,783.703 197.764,783.703 \n",
       "  \"/>\n",
       "<polyline clip-path=\"url(#clip590)\" style=\"stroke:#000000; stroke-linecap:butt; stroke-linejoin:round; stroke-width:4; stroke-opacity:1; fill:none\" points=\"\n",
       "  178.867,569.726 197.764,569.726 \n",
       "  \"/>\n",
       "<polyline clip-path=\"url(#clip590)\" style=\"stroke:#000000; stroke-linecap:butt; stroke-linejoin:round; stroke-width:4; stroke-opacity:1; fill:none\" points=\"\n",
       "  178.867,355.748 197.764,355.748 \n",
       "  \"/>\n",
       "<polyline clip-path=\"url(#clip590)\" style=\"stroke:#000000; stroke-linecap:butt; stroke-linejoin:round; stroke-width:4; stroke-opacity:1; fill:none\" points=\"\n",
       "  178.867,141.771 197.764,141.771 \n",
       "  \"/>\n",
       "<path clip-path=\"url(#clip590)\" d=\"M51.9875 1426.09 L81.6633 1426.09 L81.6633 1430.02 L51.9875 1430.02 L51.9875 1426.09 Z\" fill=\"#000000\" fill-rule=\"evenodd\" fill-opacity=\"1\" /><path clip-path=\"url(#clip590)\" d=\"M92.566 1438.98 L100.205 1438.98 L100.205 1412.61 L91.8947 1414.28 L91.8947 1410.02 L100.159 1408.36 L104.834 1408.36 L104.834 1438.98 L112.473 1438.98 L112.473 1442.92 L92.566 1442.92 L92.566 1438.98 Z\" fill=\"#000000\" fill-rule=\"evenodd\" fill-opacity=\"1\" /><path clip-path=\"url(#clip590)\" d=\"M121.964 1408.36 L140.32 1408.36 L140.32 1412.29 L126.246 1412.29 L126.246 1420.76 Q127.265 1420.42 128.283 1420.25 Q129.302 1420.07 130.32 1420.07 Q136.107 1420.07 139.487 1423.24 Q142.867 1426.41 142.867 1431.83 Q142.867 1437.41 139.394 1440.51 Q135.922 1443.59 129.603 1443.59 Q127.427 1443.59 125.158 1443.22 Q122.913 1442.85 120.506 1442.11 L120.506 1437.41 Q122.589 1438.54 124.811 1439.1 Q127.033 1439.65 129.51 1439.65 Q133.515 1439.65 135.853 1437.55 Q138.191 1435.44 138.191 1431.83 Q138.191 1428.22 135.853 1426.11 Q133.515 1424 129.51 1424 Q127.635 1424 125.76 1424.42 Q123.908 1424.84 121.964 1425.72 L121.964 1408.36 Z\" fill=\"#000000\" fill-rule=\"evenodd\" fill-opacity=\"1\" /><path clip-path=\"url(#clip590)\" d=\"M50.9921 1212.11 L80.6679 1212.11 L80.6679 1216.04 L50.9921 1216.04 L50.9921 1212.11 Z\" fill=\"#000000\" fill-rule=\"evenodd\" fill-opacity=\"1\" /><path clip-path=\"url(#clip590)\" d=\"M91.5706 1225 L99.2095 1225 L99.2095 1198.64 L90.8993 1200.3 L90.8993 1196.04 L99.1632 1194.38 L103.839 1194.38 L103.839 1225 L111.478 1225 L111.478 1228.94 L91.5706 1228.94 L91.5706 1225 Z\" fill=\"#000000\" fill-rule=\"evenodd\" fill-opacity=\"1\" /><path clip-path=\"url(#clip590)\" d=\"M130.922 1197.46 Q127.311 1197.46 125.482 1201.02 Q123.677 1204.56 123.677 1211.69 Q123.677 1218.8 125.482 1222.36 Q127.311 1225.91 130.922 1225.91 Q134.556 1225.91 136.362 1222.36 Q138.191 1218.8 138.191 1211.69 Q138.191 1204.56 136.362 1201.02 Q134.556 1197.46 130.922 1197.46 M130.922 1193.75 Q136.732 1193.75 139.788 1198.36 Q142.867 1202.94 142.867 1211.69 Q142.867 1220.42 139.788 1225.03 Q136.732 1229.61 130.922 1229.61 Q125.112 1229.61 122.033 1225.03 Q118.978 1220.42 118.978 1211.69 Q118.978 1202.94 122.033 1198.36 Q125.112 1193.75 130.922 1193.75 Z\" fill=\"#000000\" fill-rule=\"evenodd\" fill-opacity=\"1\" /><path clip-path=\"url(#clip590)\" d=\"M82.1494 998.132 L111.825 998.132 L111.825 1002.07 L82.1494 1002.07 L82.1494 998.132 Z\" fill=\"#000000\" fill-rule=\"evenodd\" fill-opacity=\"1\" /><path clip-path=\"url(#clip590)\" d=\"M121.964 980.401 L140.32 980.401 L140.32 984.336 L126.246 984.336 L126.246 992.808 Q127.265 992.461 128.283 992.299 Q129.302 992.114 130.32 992.114 Q136.107 992.114 139.487 995.285 Q142.867 998.456 142.867 1003.87 Q142.867 1009.45 139.394 1012.55 Q135.922 1015.63 129.603 1015.63 Q127.427 1015.63 125.158 1015.26 Q122.913 1014.89 120.506 1014.15 L120.506 1009.45 Q122.589 1010.59 124.811 1011.14 Q127.033 1011.7 129.51 1011.7 Q133.515 1011.7 135.853 1009.59 Q138.191 1007.48 138.191 1003.87 Q138.191 1000.26 135.853 998.155 Q133.515 996.049 129.51 996.049 Q127.635 996.049 125.76 996.465 Q123.908 996.882 121.964 997.762 L121.964 980.401 Z\" fill=\"#000000\" fill-rule=\"evenodd\" fill-opacity=\"1\" /><path clip-path=\"url(#clip590)\" d=\"M130.922 769.502 Q127.311 769.502 125.482 773.067 Q123.677 776.608 123.677 783.738 Q123.677 790.844 125.482 794.409 Q127.311 797.951 130.922 797.951 Q134.556 797.951 136.362 794.409 Q138.191 790.844 138.191 783.738 Q138.191 776.608 136.362 773.067 Q134.556 769.502 130.922 769.502 M130.922 765.798 Q136.732 765.798 139.788 770.405 Q142.867 774.988 142.867 783.738 Q142.867 792.465 139.788 797.071 Q136.732 801.654 130.922 801.654 Q125.112 801.654 122.033 797.071 Q118.978 792.465 118.978 783.738 Q118.978 774.988 122.033 770.405 Q125.112 765.798 130.922 765.798 Z\" fill=\"#000000\" fill-rule=\"evenodd\" fill-opacity=\"1\" /><path clip-path=\"url(#clip590)\" d=\"M121.964 552.446 L140.32 552.446 L140.32 556.381 L126.246 556.381 L126.246 564.853 Q127.265 564.506 128.283 564.344 Q129.302 564.159 130.32 564.159 Q136.107 564.159 139.487 567.33 Q142.867 570.501 142.867 575.918 Q142.867 581.496 139.394 584.598 Q135.922 587.677 129.603 587.677 Q127.427 587.677 125.158 587.307 Q122.913 586.936 120.506 586.195 L120.506 581.496 Q122.589 582.631 124.811 583.186 Q127.033 583.742 129.51 583.742 Q133.515 583.742 135.853 581.635 Q138.191 579.529 138.191 575.918 Q138.191 572.307 135.853 570.2 Q133.515 568.094 129.51 568.094 Q127.635 568.094 125.76 568.51 Q123.908 568.927 121.964 569.807 L121.964 552.446 Z\" fill=\"#000000\" fill-rule=\"evenodd\" fill-opacity=\"1\" /><path clip-path=\"url(#clip590)\" d=\"M91.5706 369.093 L99.2095 369.093 L99.2095 342.727 L90.8993 344.394 L90.8993 340.135 L99.1632 338.468 L103.839 338.468 L103.839 369.093 L111.478 369.093 L111.478 373.028 L91.5706 373.028 L91.5706 369.093 Z\" fill=\"#000000\" fill-rule=\"evenodd\" fill-opacity=\"1\" /><path clip-path=\"url(#clip590)\" d=\"M130.922 341.547 Q127.311 341.547 125.482 345.112 Q123.677 348.653 123.677 355.783 Q123.677 362.889 125.482 366.454 Q127.311 369.996 130.922 369.996 Q134.556 369.996 136.362 366.454 Q138.191 362.889 138.191 355.783 Q138.191 348.653 136.362 345.112 Q134.556 341.547 130.922 341.547 M130.922 337.843 Q136.732 337.843 139.788 342.45 Q142.867 347.033 142.867 355.783 Q142.867 364.51 139.788 369.116 Q136.732 373.699 130.922 373.699 Q125.112 373.699 122.033 369.116 Q118.978 364.51 118.978 355.783 Q118.978 347.033 122.033 342.45 Q125.112 337.843 130.922 337.843 Z\" fill=\"#000000\" fill-rule=\"evenodd\" fill-opacity=\"1\" /><path clip-path=\"url(#clip590)\" d=\"M92.566 155.115 L100.205 155.115 L100.205 128.75 L91.8947 130.417 L91.8947 126.157 L100.159 124.491 L104.834 124.491 L104.834 155.115 L112.473 155.115 L112.473 159.051 L92.566 159.051 L92.566 155.115 Z\" fill=\"#000000\" fill-rule=\"evenodd\" fill-opacity=\"1\" /><path clip-path=\"url(#clip590)\" d=\"M121.964 124.491 L140.32 124.491 L140.32 128.426 L126.246 128.426 L126.246 136.898 Q127.265 136.551 128.283 136.389 Q129.302 136.204 130.32 136.204 Q136.107 136.204 139.487 139.375 Q142.867 142.546 142.867 147.963 Q142.867 153.541 139.394 156.643 Q135.922 159.722 129.603 159.722 Q127.427 159.722 125.158 159.352 Q122.913 158.981 120.506 158.24 L120.506 153.541 Q122.589 154.676 124.811 155.231 Q127.033 155.787 129.51 155.787 Q133.515 155.787 135.853 153.68 Q138.191 151.574 138.191 147.963 Q138.191 144.352 135.853 142.245 Q133.515 140.139 129.51 140.139 Q127.635 140.139 125.76 140.555 Q123.908 140.972 121.964 141.852 L121.964 124.491 Z\" fill=\"#000000\" fill-rule=\"evenodd\" fill-opacity=\"1\" /><circle clip-path=\"url(#clip592)\" cx=\"1414.8\" cy=\"1424.89\" r=\"14.4\" fill=\"#000000\" fill-rule=\"evenodd\" fill-opacity=\"1\" stroke=\"none\"/>\n",
       "<circle clip-path=\"url(#clip592)\" cx=\"1294.89\" cy=\"1307.55\" r=\"14.4\" fill=\"#000000\" fill-rule=\"evenodd\" fill-opacity=\"1\" stroke=\"none\"/>\n",
       "<circle clip-path=\"url(#clip592)\" cx=\"923.151\" cy=\"1240.12\" r=\"14.4\" fill=\"#000000\" fill-rule=\"evenodd\" fill-opacity=\"1\" stroke=\"none\"/>\n",
       "<circle clip-path=\"url(#clip592)\" cx=\"1554.94\" cy=\"952.692\" r=\"14.4\" fill=\"#000000\" fill-rule=\"evenodd\" fill-opacity=\"1\" stroke=\"none\"/>\n",
       "<circle clip-path=\"url(#clip592)\" cx=\"1817.93\" cy=\"977.313\" r=\"14.4\" fill=\"#000000\" fill-rule=\"evenodd\" fill-opacity=\"1\" stroke=\"none\"/>\n",
       "<circle clip-path=\"url(#clip592)\" cx=\"2027.35\" cy=\"1147.2\" r=\"14.4\" fill=\"#000000\" fill-rule=\"evenodd\" fill-opacity=\"1\" stroke=\"none\"/>\n",
       "<circle clip-path=\"url(#clip592)\" cx=\"569.539\" cy=\"1062.39\" r=\"14.4\" fill=\"#000000\" fill-rule=\"evenodd\" fill-opacity=\"1\" stroke=\"none\"/>\n",
       "<circle clip-path=\"url(#clip592)\" cx=\"795.084\" cy=\"1086.39\" r=\"14.4\" fill=\"#000000\" fill-rule=\"evenodd\" fill-opacity=\"1\" stroke=\"none\"/>\n",
       "<circle clip-path=\"url(#clip592)\" cx=\"1116.71\" cy=\"1043.82\" r=\"14.4\" fill=\"#000000\" fill-rule=\"evenodd\" fill-opacity=\"1\" stroke=\"none\"/>\n",
       "<circle clip-path=\"url(#clip592)\" cx=\"1749.45\" cy=\"1321.35\" r=\"14.4\" fill=\"#000000\" fill-rule=\"evenodd\" fill-opacity=\"1\" stroke=\"none\"/>\n",
       "<circle clip-path=\"url(#clip592)\" cx=\"1105.93\" cy=\"1359.3\" r=\"14.4\" fill=\"#000000\" fill-rule=\"evenodd\" fill-opacity=\"1\" stroke=\"none\"/>\n",
       "<circle clip-path=\"url(#clip592)\" cx=\"1335.37\" cy=\"1431.23\" r=\"14.4\" fill=\"#000000\" fill-rule=\"evenodd\" fill-opacity=\"1\" stroke=\"none\"/>\n",
       "<circle clip-path=\"url(#clip592)\" cx=\"370.858\" cy=\"1255.89\" r=\"14.4\" fill=\"#000000\" fill-rule=\"evenodd\" fill-opacity=\"1\" stroke=\"none\"/>\n",
       "<circle clip-path=\"url(#clip592)\" cx=\"1580.13\" cy=\"926.152\" r=\"14.4\" fill=\"#000000\" fill-rule=\"evenodd\" fill-opacity=\"1\" stroke=\"none\"/>\n",
       "<circle clip-path=\"url(#clip592)\" cx=\"1108.9\" cy=\"1402.91\" r=\"14.4\" fill=\"#000000\" fill-rule=\"evenodd\" fill-opacity=\"1\" stroke=\"none\"/>\n",
       "<circle clip-path=\"url(#clip592)\" cx=\"1355.64\" cy=\"1407.81\" r=\"14.4\" fill=\"#000000\" fill-rule=\"evenodd\" fill-opacity=\"1\" stroke=\"none\"/>\n",
       "<circle clip-path=\"url(#clip592)\" cx=\"2207.31\" cy=\"1112.16\" r=\"14.4\" fill=\"#000000\" fill-rule=\"evenodd\" fill-opacity=\"1\" stroke=\"none\"/>\n",
       "<circle clip-path=\"url(#clip592)\" cx=\"1640.76\" cy=\"1382.65\" r=\"14.4\" fill=\"#000000\" fill-rule=\"evenodd\" fill-opacity=\"1\" stroke=\"none\"/>\n",
       "<circle clip-path=\"url(#clip592)\" cx=\"1326.55\" cy=\"1046.18\" r=\"14.4\" fill=\"#000000\" fill-rule=\"evenodd\" fill-opacity=\"1\" stroke=\"none\"/>\n",
       "<circle clip-path=\"url(#clip592)\" cx=\"1840.18\" cy=\"1102.87\" r=\"14.4\" fill=\"#000000\" fill-rule=\"evenodd\" fill-opacity=\"1\" stroke=\"none\"/>\n",
       "<circle clip-path=\"url(#clip592)\" cx=\"1523.44\" cy=\"1220.07\" r=\"14.4\" fill=\"#000000\" fill-rule=\"evenodd\" fill-opacity=\"1\" stroke=\"none\"/>\n",
       "<circle clip-path=\"url(#clip592)\" cx=\"1536.82\" cy=\"1001.12\" r=\"14.4\" fill=\"#000000\" fill-rule=\"evenodd\" fill-opacity=\"1\" stroke=\"none\"/>\n",
       "<circle clip-path=\"url(#clip592)\" cx=\"2187.42\" cy=\"1123.78\" r=\"14.4\" fill=\"#000000\" fill-rule=\"evenodd\" fill-opacity=\"1\" stroke=\"none\"/>\n",
       "<circle clip-path=\"url(#clip592)\" cx=\"1607.27\" cy=\"1151.82\" r=\"14.4\" fill=\"#000000\" fill-rule=\"evenodd\" fill-opacity=\"1\" stroke=\"none\"/>\n",
       "<circle clip-path=\"url(#clip592)\" cx=\"713.581\" cy=\"1132.1\" r=\"14.4\" fill=\"#000000\" fill-rule=\"evenodd\" fill-opacity=\"1\" stroke=\"none\"/>\n",
       "<circle clip-path=\"url(#clip592)\" cx=\"1817.48\" cy=\"1016.66\" r=\"14.4\" fill=\"#000000\" fill-rule=\"evenodd\" fill-opacity=\"1\" stroke=\"none\"/>\n",
       "<circle clip-path=\"url(#clip592)\" cx=\"1161.98\" cy=\"1255.27\" r=\"14.4\" fill=\"#000000\" fill-rule=\"evenodd\" fill-opacity=\"1\" stroke=\"none\"/>\n",
       "<circle clip-path=\"url(#clip592)\" cx=\"1039.55\" cy=\"1064.07\" r=\"14.4\" fill=\"#000000\" fill-rule=\"evenodd\" fill-opacity=\"1\" stroke=\"none\"/>\n",
       "<circle clip-path=\"url(#clip592)\" cx=\"1274.38\" cy=\"1232.07\" r=\"14.4\" fill=\"#000000\" fill-rule=\"evenodd\" fill-opacity=\"1\" stroke=\"none\"/>\n",
       "<circle clip-path=\"url(#clip592)\" cx=\"1130.06\" cy=\"1013.9\" r=\"14.4\" fill=\"#000000\" fill-rule=\"evenodd\" fill-opacity=\"1\" stroke=\"none\"/>\n",
       "<circle clip-path=\"url(#clip592)\" cx=\"945.316\" cy=\"1089.98\" r=\"14.4\" fill=\"#000000\" fill-rule=\"evenodd\" fill-opacity=\"1\" stroke=\"none\"/>\n",
       "<circle clip-path=\"url(#clip592)\" cx=\"1836.89\" cy=\"1187.57\" r=\"14.4\" fill=\"#000000\" fill-rule=\"evenodd\" fill-opacity=\"1\" stroke=\"none\"/>\n",
       "<circle clip-path=\"url(#clip592)\" cx=\"609.929\" cy=\"1217.34\" r=\"14.4\" fill=\"#000000\" fill-rule=\"evenodd\" fill-opacity=\"1\" stroke=\"none\"/>\n",
       "<circle clip-path=\"url(#clip592)\" cx=\"1464.82\" cy=\"652.568\" r=\"14.4\" fill=\"#000000\" fill-rule=\"evenodd\" fill-opacity=\"1\" stroke=\"none\"/>\n",
       "<circle clip-path=\"url(#clip592)\" cx=\"1755.34\" cy=\"1059.17\" r=\"14.4\" fill=\"#000000\" fill-rule=\"evenodd\" fill-opacity=\"1\" stroke=\"none\"/>\n",
       "<circle clip-path=\"url(#clip592)\" cx=\"1887.28\" cy=\"1149.54\" r=\"14.4\" fill=\"#000000\" fill-rule=\"evenodd\" fill-opacity=\"1\" stroke=\"none\"/>\n",
       "<circle clip-path=\"url(#clip592)\" cx=\"1439.23\" cy=\"1207.49\" r=\"14.4\" fill=\"#000000\" fill-rule=\"evenodd\" fill-opacity=\"1\" stroke=\"none\"/>\n",
       "<circle clip-path=\"url(#clip592)\" cx=\"1204.52\" cy=\"1375.87\" r=\"14.4\" fill=\"#000000\" fill-rule=\"evenodd\" fill-opacity=\"1\" stroke=\"none\"/>\n",
       "<circle clip-path=\"url(#clip592)\" cx=\"2184.99\" cy=\"1369.02\" r=\"14.4\" fill=\"#000000\" fill-rule=\"evenodd\" fill-opacity=\"1\" stroke=\"none\"/>\n",
       "<circle clip-path=\"url(#clip592)\" cx=\"2051.15\" cy=\"1347.66\" r=\"14.4\" fill=\"#000000\" fill-rule=\"evenodd\" fill-opacity=\"1\" stroke=\"none\"/>\n",
       "<circle clip-path=\"url(#clip592)\" cx=\"1118.56\" cy=\"1283.48\" r=\"14.4\" fill=\"#000000\" fill-rule=\"evenodd\" fill-opacity=\"1\" stroke=\"none\"/>\n",
       "<circle clip-path=\"url(#clip592)\" cx=\"2186.25\" cy=\"1124.71\" r=\"14.4\" fill=\"#000000\" fill-rule=\"evenodd\" fill-opacity=\"1\" stroke=\"none\"/>\n",
       "<circle clip-path=\"url(#clip592)\" cx=\"2157.38\" cy=\"1276.12\" r=\"14.4\" fill=\"#000000\" fill-rule=\"evenodd\" fill-opacity=\"1\" stroke=\"none\"/>\n",
       "<circle clip-path=\"url(#clip592)\" cx=\"1379.24\" cy=\"1128.78\" r=\"14.4\" fill=\"#000000\" fill-rule=\"evenodd\" fill-opacity=\"1\" stroke=\"none\"/>\n",
       "<circle clip-path=\"url(#clip592)\" cx=\"1566.61\" cy=\"1343.61\" r=\"14.4\" fill=\"#000000\" fill-rule=\"evenodd\" fill-opacity=\"1\" stroke=\"none\"/>\n",
       "<circle clip-path=\"url(#clip592)\" cx=\"974.512\" cy=\"1023.28\" r=\"14.4\" fill=\"#000000\" fill-rule=\"evenodd\" fill-opacity=\"1\" stroke=\"none\"/>\n",
       "<circle clip-path=\"url(#clip592)\" cx=\"1863.27\" cy=\"1445.72\" r=\"14.4\" fill=\"#000000\" fill-rule=\"evenodd\" fill-opacity=\"1\" stroke=\"none\"/>\n",
       "<circle clip-path=\"url(#clip592)\" cx=\"1615.99\" cy=\"1117.6\" r=\"14.4\" fill=\"#000000\" fill-rule=\"evenodd\" fill-opacity=\"1\" stroke=\"none\"/>\n",
       "<circle clip-path=\"url(#clip592)\" cx=\"1843.75\" cy=\"1381.62\" r=\"14.4\" fill=\"#000000\" fill-rule=\"evenodd\" fill-opacity=\"1\" stroke=\"none\"/>\n",
       "<circle clip-path=\"url(#clip592)\" cx=\"783.476\" cy=\"1273.38\" r=\"14.4\" fill=\"#000000\" fill-rule=\"evenodd\" fill-opacity=\"1\" stroke=\"none\"/>\n",
       "<circle clip-path=\"url(#clip592)\" cx=\"1941.8\" cy=\"1409.79\" r=\"14.4\" fill=\"#000000\" fill-rule=\"evenodd\" fill-opacity=\"1\" stroke=\"none\"/>\n",
       "<circle clip-path=\"url(#clip592)\" cx=\"1475.68\" cy=\"1414.58\" r=\"14.4\" fill=\"#000000\" fill-rule=\"evenodd\" fill-opacity=\"1\" stroke=\"none\"/>\n",
       "<circle clip-path=\"url(#clip592)\" cx=\"1561.45\" cy=\"1272.06\" r=\"14.4\" fill=\"#000000\" fill-rule=\"evenodd\" fill-opacity=\"1\" stroke=\"none\"/>\n",
       "<circle clip-path=\"url(#clip592)\" cx=\"732.007\" cy=\"1032.29\" r=\"14.4\" fill=\"#000000\" fill-rule=\"evenodd\" fill-opacity=\"1\" stroke=\"none\"/>\n",
       "<circle clip-path=\"url(#clip592)\" cx=\"1011.74\" cy=\"930.033\" r=\"14.4\" fill=\"#000000\" fill-rule=\"evenodd\" fill-opacity=\"1\" stroke=\"none\"/>\n",
       "<circle clip-path=\"url(#clip592)\" cx=\"1315.59\" cy=\"1080.03\" r=\"14.4\" fill=\"#000000\" fill-rule=\"evenodd\" fill-opacity=\"1\" stroke=\"none\"/>\n",
       "<circle clip-path=\"url(#clip592)\" cx=\"550.868\" cy=\"1060.88\" r=\"14.4\" fill=\"#000000\" fill-rule=\"evenodd\" fill-opacity=\"1\" stroke=\"none\"/>\n",
       "<circle clip-path=\"url(#clip592)\" cx=\"1201.71\" cy=\"1134.84\" r=\"14.4\" fill=\"#000000\" fill-rule=\"evenodd\" fill-opacity=\"1\" stroke=\"none\"/>\n",
       "<circle clip-path=\"url(#clip592)\" cx=\"667.108\" cy=\"1214.5\" r=\"14.4\" fill=\"#000000\" fill-rule=\"evenodd\" fill-opacity=\"1\" stroke=\"none\"/>\n",
       "<circle clip-path=\"url(#clip592)\" cx=\"452.9\" cy=\"1218.96\" r=\"14.4\" fill=\"#000000\" fill-rule=\"evenodd\" fill-opacity=\"1\" stroke=\"none\"/>\n",
       "<circle clip-path=\"url(#clip592)\" cx=\"790.633\" cy=\"1301.5\" r=\"14.4\" fill=\"#000000\" fill-rule=\"evenodd\" fill-opacity=\"1\" stroke=\"none\"/>\n",
       "<circle clip-path=\"url(#clip592)\" cx=\"522.38\" cy=\"1196.39\" r=\"14.4\" fill=\"#000000\" fill-rule=\"evenodd\" fill-opacity=\"1\" stroke=\"none\"/>\n",
       "<circle clip-path=\"url(#clip592)\" cx=\"1364.16\" cy=\"1230.47\" r=\"14.4\" fill=\"#000000\" fill-rule=\"evenodd\" fill-opacity=\"1\" stroke=\"none\"/>\n",
       "<circle clip-path=\"url(#clip592)\" cx=\"839.71\" cy=\"1111.15\" r=\"14.4\" fill=\"#000000\" fill-rule=\"evenodd\" fill-opacity=\"1\" stroke=\"none\"/>\n",
       "<circle clip-path=\"url(#clip592)\" cx=\"1486.23\" cy=\"955.847\" r=\"14.4\" fill=\"#000000\" fill-rule=\"evenodd\" fill-opacity=\"1\" stroke=\"none\"/>\n",
       "<circle clip-path=\"url(#clip592)\" cx=\"1944.02\" cy=\"1160.71\" r=\"14.4\" fill=\"#000000\" fill-rule=\"evenodd\" fill-opacity=\"1\" stroke=\"none\"/>\n",
       "<circle clip-path=\"url(#clip592)\" cx=\"2291.23\" cy=\"1326.97\" r=\"14.4\" fill=\"#000000\" fill-rule=\"evenodd\" fill-opacity=\"1\" stroke=\"none\"/>\n",
       "<circle clip-path=\"url(#clip592)\" cx=\"852.224\" cy=\"1137.49\" r=\"14.4\" fill=\"#000000\" fill-rule=\"evenodd\" fill-opacity=\"1\" stroke=\"none\"/>\n",
       "<circle clip-path=\"url(#clip592)\" cx=\"1362.7\" cy=\"1347.12\" r=\"14.4\" fill=\"#000000\" fill-rule=\"evenodd\" fill-opacity=\"1\" stroke=\"none\"/>\n",
       "<circle clip-path=\"url(#clip592)\" cx=\"1511.55\" cy=\"1120.49\" r=\"14.4\" fill=\"#000000\" fill-rule=\"evenodd\" fill-opacity=\"1\" stroke=\"none\"/>\n",
       "<circle clip-path=\"url(#clip592)\" cx=\"1747.23\" cy=\"1193.32\" r=\"14.4\" fill=\"#000000\" fill-rule=\"evenodd\" fill-opacity=\"1\" stroke=\"none\"/>\n",
       "<circle clip-path=\"url(#clip592)\" cx=\"1758.75\" cy=\"1259.6\" r=\"14.4\" fill=\"#000000\" fill-rule=\"evenodd\" fill-opacity=\"1\" stroke=\"none\"/>\n",
       "<circle clip-path=\"url(#clip592)\" cx=\"1472.29\" cy=\"1230.59\" r=\"14.4\" fill=\"#000000\" fill-rule=\"evenodd\" fill-opacity=\"1\" stroke=\"none\"/>\n",
       "<circle clip-path=\"url(#clip592)\" cx=\"1469.87\" cy=\"1026.4\" r=\"14.4\" fill=\"#000000\" fill-rule=\"evenodd\" fill-opacity=\"1\" stroke=\"none\"/>\n",
       "<circle clip-path=\"url(#clip592)\" cx=\"1108.63\" cy=\"1344.99\" r=\"14.4\" fill=\"#000000\" fill-rule=\"evenodd\" fill-opacity=\"1\" stroke=\"none\"/>\n",
       "<circle clip-path=\"url(#clip592)\" cx=\"1656.11\" cy=\"1347.62\" r=\"14.4\" fill=\"#000000\" fill-rule=\"evenodd\" fill-opacity=\"1\" stroke=\"none\"/>\n",
       "<circle clip-path=\"url(#clip592)\" cx=\"792.45\" cy=\"1344.72\" r=\"14.4\" fill=\"#000000\" fill-rule=\"evenodd\" fill-opacity=\"1\" stroke=\"none\"/>\n",
       "<circle clip-path=\"url(#clip592)\" cx=\"914.88\" cy=\"988.98\" r=\"14.4\" fill=\"#000000\" fill-rule=\"evenodd\" fill-opacity=\"1\" stroke=\"none\"/>\n",
       "<circle clip-path=\"url(#clip592)\" cx=\"1392.41\" cy=\"1287.72\" r=\"14.4\" fill=\"#000000\" fill-rule=\"evenodd\" fill-opacity=\"1\" stroke=\"none\"/>\n",
       "<circle clip-path=\"url(#clip592)\" cx=\"1772.33\" cy=\"988.281\" r=\"14.4\" fill=\"#000000\" fill-rule=\"evenodd\" fill-opacity=\"1\" stroke=\"none\"/>\n",
       "<circle clip-path=\"url(#clip592)\" cx=\"1449.47\" cy=\"1291\" r=\"14.4\" fill=\"#000000\" fill-rule=\"evenodd\" fill-opacity=\"1\" stroke=\"none\"/>\n",
       "<circle clip-path=\"url(#clip592)\" cx=\"1133.6\" cy=\"1173.54\" r=\"14.4\" fill=\"#000000\" fill-rule=\"evenodd\" fill-opacity=\"1\" stroke=\"none\"/>\n",
       "<circle clip-path=\"url(#clip592)\" cx=\"1855.36\" cy=\"1365.13\" r=\"14.4\" fill=\"#000000\" fill-rule=\"evenodd\" fill-opacity=\"1\" stroke=\"none\"/>\n",
       "<circle clip-path=\"url(#clip592)\" cx=\"1463.68\" cy=\"1232.85\" r=\"14.4\" fill=\"#000000\" fill-rule=\"evenodd\" fill-opacity=\"1\" stroke=\"none\"/>\n",
       "<circle clip-path=\"url(#clip592)\" cx=\"634.979\" cy=\"1232.79\" r=\"14.4\" fill=\"#000000\" fill-rule=\"evenodd\" fill-opacity=\"1\" stroke=\"none\"/>\n",
       "<circle clip-path=\"url(#clip592)\" cx=\"1657.6\" cy=\"1112.08\" r=\"14.4\" fill=\"#000000\" fill-rule=\"evenodd\" fill-opacity=\"1\" stroke=\"none\"/>\n",
       "<circle clip-path=\"url(#clip592)\" cx=\"1392.63\" cy=\"1264.18\" r=\"14.4\" fill=\"#000000\" fill-rule=\"evenodd\" fill-opacity=\"1\" stroke=\"none\"/>\n",
       "<circle clip-path=\"url(#clip592)\" cx=\"2146.56\" cy=\"1307.96\" r=\"14.4\" fill=\"#000000\" fill-rule=\"evenodd\" fill-opacity=\"1\" stroke=\"none\"/>\n",
       "<circle clip-path=\"url(#clip592)\" cx=\"1052.75\" cy=\"998.884\" r=\"14.4\" fill=\"#000000\" fill-rule=\"evenodd\" fill-opacity=\"1\" stroke=\"none\"/>\n",
       "<circle clip-path=\"url(#clip592)\" cx=\"1041.55\" cy=\"1223.58\" r=\"14.4\" fill=\"#000000\" fill-rule=\"evenodd\" fill-opacity=\"1\" stroke=\"none\"/>\n",
       "<circle clip-path=\"url(#clip592)\" cx=\"1853.75\" cy=\"1213.51\" r=\"14.4\" fill=\"#000000\" fill-rule=\"evenodd\" fill-opacity=\"1\" stroke=\"none\"/>\n",
       "<circle clip-path=\"url(#clip592)\" cx=\"667.668\" cy=\"1283.48\" r=\"14.4\" fill=\"#000000\" fill-rule=\"evenodd\" fill-opacity=\"1\" stroke=\"none\"/>\n",
       "<circle clip-path=\"url(#clip592)\" cx=\"884.594\" cy=\"1394.55\" r=\"14.4\" fill=\"#000000\" fill-rule=\"evenodd\" fill-opacity=\"1\" stroke=\"none\"/>\n",
       "<circle clip-path=\"url(#clip592)\" cx=\"1427.83\" cy=\"1066.9\" r=\"14.4\" fill=\"#000000\" fill-rule=\"evenodd\" fill-opacity=\"1\" stroke=\"none\"/>\n",
       "<circle clip-path=\"url(#clip592)\" cx=\"1234.19\" cy=\"1167.6\" r=\"14.4\" fill=\"#000000\" fill-rule=\"evenodd\" fill-opacity=\"1\" stroke=\"none\"/>\n",
       "<circle clip-path=\"url(#clip592)\" cx=\"441.81\" cy=\"1247.42\" r=\"14.4\" fill=\"#000000\" fill-rule=\"evenodd\" fill-opacity=\"1\" stroke=\"none\"/>\n",
       "<circle clip-path=\"url(#clip592)\" cx=\"1955.01\" cy=\"1310.88\" r=\"14.4\" fill=\"#000000\" fill-rule=\"evenodd\" fill-opacity=\"1\" stroke=\"none\"/>\n",
       "<circle clip-path=\"url(#clip592)\" cx=\"698.969\" cy=\"1010.27\" r=\"14.4\" fill=\"#000000\" fill-rule=\"evenodd\" fill-opacity=\"1\" stroke=\"none\"/>\n",
       "<circle clip-path=\"url(#clip592)\" cx=\"1227.09\" cy=\"1352.57\" r=\"14.4\" fill=\"#000000\" fill-rule=\"evenodd\" fill-opacity=\"1\" stroke=\"none\"/>\n",
       "<circle clip-path=\"url(#clip592)\" cx=\"2048.73\" cy=\"1097.96\" r=\"14.4\" fill=\"#000000\" fill-rule=\"evenodd\" fill-opacity=\"1\" stroke=\"none\"/>\n",
       "<circle clip-path=\"url(#clip592)\" cx=\"452.687\" cy=\"206.955\" r=\"14.4\" fill=\"#ffd700\" fill-rule=\"evenodd\" fill-opacity=\"1\" stroke=\"#000000\" stroke-opacity=\"1\" stroke-width=\"3.2\"/>\n",
       "<circle clip-path=\"url(#clip592)\" cx=\"1158.03\" cy=\"498.768\" r=\"14.4\" fill=\"#ffd700\" fill-rule=\"evenodd\" fill-opacity=\"1\" stroke=\"#000000\" stroke-opacity=\"1\" stroke-width=\"3.2\"/>\n",
       "<circle clip-path=\"url(#clip592)\" cx=\"575.431\" cy=\"476.347\" r=\"14.4\" fill=\"#ffd700\" fill-rule=\"evenodd\" fill-opacity=\"1\" stroke=\"#000000\" stroke-opacity=\"1\" stroke-width=\"3.2\"/>\n",
       "<circle clip-path=\"url(#clip592)\" cx=\"1207.21\" cy=\"269.726\" r=\"14.4\" fill=\"#ffd700\" fill-rule=\"evenodd\" fill-opacity=\"1\" stroke=\"#000000\" stroke-opacity=\"1\" stroke-width=\"3.2\"/>\n",
       "<circle clip-path=\"url(#clip592)\" cx=\"1016.36\" cy=\"237.343\" r=\"14.4\" fill=\"#ffd700\" fill-rule=\"evenodd\" fill-opacity=\"1\" stroke=\"#000000\" stroke-opacity=\"1\" stroke-width=\"3.2\"/>\n",
       "<circle clip-path=\"url(#clip592)\" cx=\"1456.7\" cy=\"616.634\" r=\"14.4\" fill=\"#ffd700\" fill-rule=\"evenodd\" fill-opacity=\"1\" stroke=\"#000000\" stroke-opacity=\"1\" stroke-width=\"3.2\"/>\n",
       "<circle clip-path=\"url(#clip592)\" cx=\"1949.32\" cy=\"373.27\" r=\"14.4\" fill=\"#ffd700\" fill-rule=\"evenodd\" fill-opacity=\"1\" stroke=\"#000000\" stroke-opacity=\"1\" stroke-width=\"3.2\"/>\n",
       "<circle clip-path=\"url(#clip592)\" cx=\"1182.12\" cy=\"182.569\" r=\"14.4\" fill=\"#ffd700\" fill-rule=\"evenodd\" fill-opacity=\"1\" stroke=\"#000000\" stroke-opacity=\"1\" stroke-width=\"3.2\"/>\n",
       "<circle clip-path=\"url(#clip592)\" cx=\"1124.24\" cy=\"324.651\" r=\"14.4\" fill=\"#ffd700\" fill-rule=\"evenodd\" fill-opacity=\"1\" stroke=\"#000000\" stroke-opacity=\"1\" stroke-width=\"3.2\"/>\n",
       "<circle clip-path=\"url(#clip592)\" cx=\"1154.84\" cy=\"333.797\" r=\"14.4\" fill=\"#ffd700\" fill-rule=\"evenodd\" fill-opacity=\"1\" stroke=\"#000000\" stroke-opacity=\"1\" stroke-width=\"3.2\"/>\n",
       "<circle clip-path=\"url(#clip592)\" cx=\"782.283\" cy=\"394.407\" r=\"14.4\" fill=\"#ffd700\" fill-rule=\"evenodd\" fill-opacity=\"1\" stroke=\"#000000\" stroke-opacity=\"1\" stroke-width=\"3.2\"/>\n",
       "<circle clip-path=\"url(#clip592)\" cx=\"2061.28\" cy=\"419.312\" r=\"14.4\" fill=\"#ffd700\" fill-rule=\"evenodd\" fill-opacity=\"1\" stroke=\"#000000\" stroke-opacity=\"1\" stroke-width=\"3.2\"/>\n",
       "<circle clip-path=\"url(#clip592)\" cx=\"369.612\" cy=\"251.077\" r=\"14.4\" fill=\"#ffd700\" fill-rule=\"evenodd\" fill-opacity=\"1\" stroke=\"#000000\" stroke-opacity=\"1\" stroke-width=\"3.2\"/>\n",
       "<circle clip-path=\"url(#clip592)\" cx=\"1059.83\" cy=\"571.112\" r=\"14.4\" fill=\"#ffd700\" fill-rule=\"evenodd\" fill-opacity=\"1\" stroke=\"#000000\" stroke-opacity=\"1\" stroke-width=\"3.2\"/>\n",
       "<circle clip-path=\"url(#clip592)\" cx=\"856.997\" cy=\"402.858\" r=\"14.4\" fill=\"#ffd700\" fill-rule=\"evenodd\" fill-opacity=\"1\" stroke=\"#000000\" stroke-opacity=\"1\" stroke-width=\"3.2\"/>\n",
       "<circle clip-path=\"url(#clip592)\" cx=\"1350.04\" cy=\"537.455\" r=\"14.4\" fill=\"#ffd700\" fill-rule=\"evenodd\" fill-opacity=\"1\" stroke=\"#000000\" stroke-opacity=\"1\" stroke-width=\"3.2\"/>\n",
       "<circle clip-path=\"url(#clip592)\" cx=\"1828.96\" cy=\"227.183\" r=\"14.4\" fill=\"#ffd700\" fill-rule=\"evenodd\" fill-opacity=\"1\" stroke=\"#000000\" stroke-opacity=\"1\" stroke-width=\"3.2\"/>\n",
       "<circle clip-path=\"url(#clip592)\" cx=\"1036.5\" cy=\"525.09\" r=\"14.4\" fill=\"#ffd700\" fill-rule=\"evenodd\" fill-opacity=\"1\" stroke=\"#000000\" stroke-opacity=\"1\" stroke-width=\"3.2\"/>\n",
       "<circle clip-path=\"url(#clip592)\" cx=\"1176.68\" cy=\"406.301\" r=\"14.4\" fill=\"#ffd700\" fill-rule=\"evenodd\" fill-opacity=\"1\" stroke=\"#000000\" stroke-opacity=\"1\" stroke-width=\"3.2\"/>\n",
       "<circle clip-path=\"url(#clip592)\" cx=\"1532.72\" cy=\"87.9763\" r=\"14.4\" fill=\"#ffd700\" fill-rule=\"evenodd\" fill-opacity=\"1\" stroke=\"#000000\" stroke-opacity=\"1\" stroke-width=\"3.2\"/>\n",
       "<circle clip-path=\"url(#clip592)\" cx=\"1277.05\" cy=\"369.085\" r=\"14.4\" fill=\"#ffd700\" fill-rule=\"evenodd\" fill-opacity=\"1\" stroke=\"#000000\" stroke-opacity=\"1\" stroke-width=\"3.2\"/>\n",
       "<circle clip-path=\"url(#clip592)\" cx=\"641.43\" cy=\"296.909\" r=\"14.4\" fill=\"#ffd700\" fill-rule=\"evenodd\" fill-opacity=\"1\" stroke=\"#000000\" stroke-opacity=\"1\" stroke-width=\"3.2\"/>\n",
       "<circle clip-path=\"url(#clip592)\" cx=\"1297.42\" cy=\"235.232\" r=\"14.4\" fill=\"#ffd700\" fill-rule=\"evenodd\" fill-opacity=\"1\" stroke=\"#000000\" stroke-opacity=\"1\" stroke-width=\"3.2\"/>\n",
       "<circle clip-path=\"url(#clip592)\" cx=\"1307.86\" cy=\"172.93\" r=\"14.4\" fill=\"#ffd700\" fill-rule=\"evenodd\" fill-opacity=\"1\" stroke=\"#000000\" stroke-opacity=\"1\" stroke-width=\"3.2\"/>\n",
       "<circle clip-path=\"url(#clip592)\" cx=\"1960.57\" cy=\"429.097\" r=\"14.4\" fill=\"#ffd700\" fill-rule=\"evenodd\" fill-opacity=\"1\" stroke=\"#000000\" stroke-opacity=\"1\" stroke-width=\"3.2\"/>\n",
       "<circle clip-path=\"url(#clip592)\" cx=\"828.536\" cy=\"354.95\" r=\"14.4\" fill=\"#ffd700\" fill-rule=\"evenodd\" fill-opacity=\"1\" stroke=\"#000000\" stroke-opacity=\"1\" stroke-width=\"3.2\"/>\n",
       "<circle clip-path=\"url(#clip592)\" cx=\"1310.51\" cy=\"393.672\" r=\"14.4\" fill=\"#ffd700\" fill-rule=\"evenodd\" fill-opacity=\"1\" stroke=\"#000000\" stroke-opacity=\"1\" stroke-width=\"3.2\"/>\n",
       "<circle clip-path=\"url(#clip592)\" cx=\"1648.87\" cy=\"334.76\" r=\"14.4\" fill=\"#ffd700\" fill-rule=\"evenodd\" fill-opacity=\"1\" stroke=\"#000000\" stroke-opacity=\"1\" stroke-width=\"3.2\"/>\n",
       "<circle clip-path=\"url(#clip592)\" cx=\"1238.67\" cy=\"319.081\" r=\"14.4\" fill=\"#ffd700\" fill-rule=\"evenodd\" fill-opacity=\"1\" stroke=\"#000000\" stroke-opacity=\"1\" stroke-width=\"3.2\"/>\n",
       "<circle clip-path=\"url(#clip592)\" cx=\"823.286\" cy=\"461.973\" r=\"14.4\" fill=\"#ffd700\" fill-rule=\"evenodd\" fill-opacity=\"1\" stroke=\"#000000\" stroke-opacity=\"1\" stroke-width=\"3.2\"/>\n",
       "<circle clip-path=\"url(#clip592)\" cx=\"1588.25\" cy=\"159.725\" r=\"14.4\" fill=\"#ffd700\" fill-rule=\"evenodd\" fill-opacity=\"1\" stroke=\"#000000\" stroke-opacity=\"1\" stroke-width=\"3.2\"/>\n",
       "<circle clip-path=\"url(#clip592)\" cx=\"1518.66\" cy=\"208.868\" r=\"14.4\" fill=\"#ffd700\" fill-rule=\"evenodd\" fill-opacity=\"1\" stroke=\"#000000\" stroke-opacity=\"1\" stroke-width=\"3.2\"/>\n",
       "<circle clip-path=\"url(#clip592)\" cx=\"1568.79\" cy=\"289.446\" r=\"14.4\" fill=\"#ffd700\" fill-rule=\"evenodd\" fill-opacity=\"1\" stroke=\"#000000\" stroke-opacity=\"1\" stroke-width=\"3.2\"/>\n",
       "<circle clip-path=\"url(#clip592)\" cx=\"1042.79\" cy=\"280.907\" r=\"14.4\" fill=\"#ffd700\" fill-rule=\"evenodd\" fill-opacity=\"1\" stroke=\"#000000\" stroke-opacity=\"1\" stroke-width=\"3.2\"/>\n",
       "<circle clip-path=\"url(#clip592)\" cx=\"735.978\" cy=\"230.23\" r=\"14.4\" fill=\"#ffd700\" fill-rule=\"evenodd\" fill-opacity=\"1\" stroke=\"#000000\" stroke-opacity=\"1\" stroke-width=\"3.2\"/>\n",
       "<circle clip-path=\"url(#clip592)\" cx=\"1363.23\" cy=\"322.285\" r=\"14.4\" fill=\"#ffd700\" fill-rule=\"evenodd\" fill-opacity=\"1\" stroke=\"#000000\" stroke-opacity=\"1\" stroke-width=\"3.2\"/>\n",
       "<circle clip-path=\"url(#clip592)\" cx=\"531.784\" cy=\"548.039\" r=\"14.4\" fill=\"#ffd700\" fill-rule=\"evenodd\" fill-opacity=\"1\" stroke=\"#000000\" stroke-opacity=\"1\" stroke-width=\"3.2\"/>\n",
       "<circle clip-path=\"url(#clip592)\" cx=\"454.524\" cy=\"317.741\" r=\"14.4\" fill=\"#ffd700\" fill-rule=\"evenodd\" fill-opacity=\"1\" stroke=\"#000000\" stroke-opacity=\"1\" stroke-width=\"3.2\"/>\n",
       "<circle clip-path=\"url(#clip592)\" cx=\"1054.42\" cy=\"217.312\" r=\"14.4\" fill=\"#ffd700\" fill-rule=\"evenodd\" fill-opacity=\"1\" stroke=\"#000000\" stroke-opacity=\"1\" stroke-width=\"3.2\"/>\n",
       "<circle clip-path=\"url(#clip592)\" cx=\"867.617\" cy=\"260.255\" r=\"14.4\" fill=\"#ffd700\" fill-rule=\"evenodd\" fill-opacity=\"1\" stroke=\"#000000\" stroke-opacity=\"1\" stroke-width=\"3.2\"/>\n",
       "<circle clip-path=\"url(#clip592)\" cx=\"1425.6\" cy=\"567.497\" r=\"14.4\" fill=\"#ffd700\" fill-rule=\"evenodd\" fill-opacity=\"1\" stroke=\"#000000\" stroke-opacity=\"1\" stroke-width=\"3.2\"/>\n",
       "<circle clip-path=\"url(#clip592)\" cx=\"1025.49\" cy=\"439.98\" r=\"14.4\" fill=\"#ffd700\" fill-rule=\"evenodd\" fill-opacity=\"1\" stroke=\"#000000\" stroke-opacity=\"1\" stroke-width=\"3.2\"/>\n",
       "<circle clip-path=\"url(#clip592)\" cx=\"443.415\" cy=\"533.85\" r=\"14.4\" fill=\"#ffd700\" fill-rule=\"evenodd\" fill-opacity=\"1\" stroke=\"#000000\" stroke-opacity=\"1\" stroke-width=\"3.2\"/>\n",
       "<circle clip-path=\"url(#clip592)\" cx=\"268.58\" cy=\"396.378\" r=\"14.4\" fill=\"#ffd700\" fill-rule=\"evenodd\" fill-opacity=\"1\" stroke=\"#000000\" stroke-opacity=\"1\" stroke-width=\"3.2\"/>\n",
       "<circle clip-path=\"url(#clip592)\" cx=\"1163.81\" cy=\"133.283\" r=\"14.4\" fill=\"#ffd700\" fill-rule=\"evenodd\" fill-opacity=\"1\" stroke=\"#000000\" stroke-opacity=\"1\" stroke-width=\"3.2\"/>\n",
       "<circle clip-path=\"url(#clip592)\" cx=\"1991.46\" cy=\"207.914\" r=\"14.4\" fill=\"#ffd700\" fill-rule=\"evenodd\" fill-opacity=\"1\" stroke=\"#000000\" stroke-opacity=\"1\" stroke-width=\"3.2\"/>\n",
       "<circle clip-path=\"url(#clip592)\" cx=\"356.535\" cy=\"300.124\" r=\"14.4\" fill=\"#ffd700\" fill-rule=\"evenodd\" fill-opacity=\"1\" stroke=\"#000000\" stroke-opacity=\"1\" stroke-width=\"3.2\"/>\n",
       "<circle clip-path=\"url(#clip592)\" cx=\"1813.44\" cy=\"329.6\" r=\"14.4\" fill=\"#ffd700\" fill-rule=\"evenodd\" fill-opacity=\"1\" stroke=\"#000000\" stroke-opacity=\"1\" stroke-width=\"3.2\"/>\n",
       "<circle clip-path=\"url(#clip592)\" cx=\"1321.47\" cy=\"329.019\" r=\"14.4\" fill=\"#ffd700\" fill-rule=\"evenodd\" fill-opacity=\"1\" stroke=\"#000000\" stroke-opacity=\"1\" stroke-width=\"3.2\"/>\n",
       "<circle clip-path=\"url(#clip592)\" cx=\"435.689\" cy=\"169.597\" r=\"14.4\" fill=\"#ffd700\" fill-rule=\"evenodd\" fill-opacity=\"1\" stroke=\"#000000\" stroke-opacity=\"1\" stroke-width=\"3.2\"/>\n",
       "<circle clip-path=\"url(#clip592)\" cx=\"1163.37\" cy=\"246.791\" r=\"14.4\" fill=\"#ffd700\" fill-rule=\"evenodd\" fill-opacity=\"1\" stroke=\"#000000\" stroke-opacity=\"1\" stroke-width=\"3.2\"/>\n",
       "<circle clip-path=\"url(#clip592)\" cx=\"1560.97\" cy=\"364.988\" r=\"14.4\" fill=\"#ffd700\" fill-rule=\"evenodd\" fill-opacity=\"1\" stroke=\"#000000\" stroke-opacity=\"1\" stroke-width=\"3.2\"/>\n",
       "<circle clip-path=\"url(#clip592)\" cx=\"858.65\" cy=\"361.523\" r=\"14.4\" fill=\"#ffd700\" fill-rule=\"evenodd\" fill-opacity=\"1\" stroke=\"#000000\" stroke-opacity=\"1\" stroke-width=\"3.2\"/>\n",
       "<circle clip-path=\"url(#clip592)\" cx=\"1702.03\" cy=\"241.502\" r=\"14.4\" fill=\"#ffd700\" fill-rule=\"evenodd\" fill-opacity=\"1\" stroke=\"#000000\" stroke-opacity=\"1\" stroke-width=\"3.2\"/>\n",
       "<circle clip-path=\"url(#clip592)\" cx=\"476.201\" cy=\"477.37\" r=\"14.4\" fill=\"#ffd700\" fill-rule=\"evenodd\" fill-opacity=\"1\" stroke=\"#000000\" stroke-opacity=\"1\" stroke-width=\"3.2\"/>\n",
       "<circle clip-path=\"url(#clip592)\" cx=\"831.389\" cy=\"308.711\" r=\"14.4\" fill=\"#ffd700\" fill-rule=\"evenodd\" fill-opacity=\"1\" stroke=\"#000000\" stroke-opacity=\"1\" stroke-width=\"3.2\"/>\n",
       "<circle clip-path=\"url(#clip592)\" cx=\"817.889\" cy=\"272.417\" r=\"14.4\" fill=\"#ffd700\" fill-rule=\"evenodd\" fill-opacity=\"1\" stroke=\"#000000\" stroke-opacity=\"1\" stroke-width=\"3.2\"/>\n",
       "<circle clip-path=\"url(#clip592)\" cx=\"1837.48\" cy=\"530.681\" r=\"14.4\" fill=\"#ffd700\" fill-rule=\"evenodd\" fill-opacity=\"1\" stroke=\"#000000\" stroke-opacity=\"1\" stroke-width=\"3.2\"/>\n",
       "<circle clip-path=\"url(#clip592)\" cx=\"972.69\" cy=\"310.368\" r=\"14.4\" fill=\"#ffd700\" fill-rule=\"evenodd\" fill-opacity=\"1\" stroke=\"#000000\" stroke-opacity=\"1\" stroke-width=\"3.2\"/>\n",
       "<circle clip-path=\"url(#clip592)\" cx=\"1788.59\" cy=\"408.875\" r=\"14.4\" fill=\"#ffd700\" fill-rule=\"evenodd\" fill-opacity=\"1\" stroke=\"#000000\" stroke-opacity=\"1\" stroke-width=\"3.2\"/>\n",
       "<circle clip-path=\"url(#clip592)\" cx=\"794.532\" cy=\"538.64\" r=\"14.4\" fill=\"#ffd700\" fill-rule=\"evenodd\" fill-opacity=\"1\" stroke=\"#000000\" stroke-opacity=\"1\" stroke-width=\"3.2\"/>\n",
       "<circle clip-path=\"url(#clip592)\" cx=\"1538.04\" cy=\"505.793\" r=\"14.4\" fill=\"#ffd700\" fill-rule=\"evenodd\" fill-opacity=\"1\" stroke=\"#000000\" stroke-opacity=\"1\" stroke-width=\"3.2\"/>\n",
       "<circle clip-path=\"url(#clip592)\" cx=\"1975.5\" cy=\"396.781\" r=\"14.4\" fill=\"#ffd700\" fill-rule=\"evenodd\" fill-opacity=\"1\" stroke=\"#000000\" stroke-opacity=\"1\" stroke-width=\"3.2\"/>\n",
       "<circle clip-path=\"url(#clip592)\" cx=\"628.939\" cy=\"340.339\" r=\"14.4\" fill=\"#ffd700\" fill-rule=\"evenodd\" fill-opacity=\"1\" stroke=\"#000000\" stroke-opacity=\"1\" stroke-width=\"3.2\"/>\n",
       "<circle clip-path=\"url(#clip592)\" cx=\"727.501\" cy=\"215.862\" r=\"14.4\" fill=\"#ffd700\" fill-rule=\"evenodd\" fill-opacity=\"1\" stroke=\"#000000\" stroke-opacity=\"1\" stroke-width=\"3.2\"/>\n",
       "<circle clip-path=\"url(#clip592)\" cx=\"1042.22\" cy=\"381.312\" r=\"14.4\" fill=\"#ffd700\" fill-rule=\"evenodd\" fill-opacity=\"1\" stroke=\"#000000\" stroke-opacity=\"1\" stroke-width=\"3.2\"/>\n",
       "<circle clip-path=\"url(#clip592)\" cx=\"1064.27\" cy=\"595.924\" r=\"14.4\" fill=\"#ffd700\" fill-rule=\"evenodd\" fill-opacity=\"1\" stroke=\"#000000\" stroke-opacity=\"1\" stroke-width=\"3.2\"/>\n",
       "<circle clip-path=\"url(#clip592)\" cx=\"1269.03\" cy=\"121.818\" r=\"14.4\" fill=\"#ffd700\" fill-rule=\"evenodd\" fill-opacity=\"1\" stroke=\"#000000\" stroke-opacity=\"1\" stroke-width=\"3.2\"/>\n",
       "<circle clip-path=\"url(#clip592)\" cx=\"2065.51\" cy=\"338.759\" r=\"14.4\" fill=\"#ffd700\" fill-rule=\"evenodd\" fill-opacity=\"1\" stroke=\"#000000\" stroke-opacity=\"1\" stroke-width=\"3.2\"/>\n",
       "<circle clip-path=\"url(#clip592)\" cx=\"1336.5\" cy=\"465.198\" r=\"14.4\" fill=\"#ffd700\" fill-rule=\"evenodd\" fill-opacity=\"1\" stroke=\"#000000\" stroke-opacity=\"1\" stroke-width=\"3.2\"/>\n",
       "<circle clip-path=\"url(#clip592)\" cx=\"1925.47\" cy=\"294.059\" r=\"14.4\" fill=\"#ffd700\" fill-rule=\"evenodd\" fill-opacity=\"1\" stroke=\"#000000\" stroke-opacity=\"1\" stroke-width=\"3.2\"/>\n",
       "<circle clip-path=\"url(#clip592)\" cx=\"1501.16\" cy=\"90.6934\" r=\"14.4\" fill=\"#ffd700\" fill-rule=\"evenodd\" fill-opacity=\"1\" stroke=\"#000000\" stroke-opacity=\"1\" stroke-width=\"3.2\"/>\n",
       "<circle clip-path=\"url(#clip592)\" cx=\"240.392\" cy=\"370.296\" r=\"14.4\" fill=\"#ffd700\" fill-rule=\"evenodd\" fill-opacity=\"1\" stroke=\"#000000\" stroke-opacity=\"1\" stroke-width=\"3.2\"/>\n",
       "<circle clip-path=\"url(#clip592)\" cx=\"396.363\" cy=\"439.698\" r=\"14.4\" fill=\"#ffd700\" fill-rule=\"evenodd\" fill-opacity=\"1\" stroke=\"#000000\" stroke-opacity=\"1\" stroke-width=\"3.2\"/>\n",
       "<circle clip-path=\"url(#clip592)\" cx=\"898.051\" cy=\"144.103\" r=\"14.4\" fill=\"#ffd700\" fill-rule=\"evenodd\" fill-opacity=\"1\" stroke=\"#000000\" stroke-opacity=\"1\" stroke-width=\"3.2\"/>\n",
       "<circle clip-path=\"url(#clip592)\" cx=\"1782.02\" cy=\"439.41\" r=\"14.4\" fill=\"#ffd700\" fill-rule=\"evenodd\" fill-opacity=\"1\" stroke=\"#000000\" stroke-opacity=\"1\" stroke-width=\"3.2\"/>\n",
       "<circle clip-path=\"url(#clip592)\" cx=\"1577.79\" cy=\"461.63\" r=\"14.4\" fill=\"#ffd700\" fill-rule=\"evenodd\" fill-opacity=\"1\" stroke=\"#000000\" stroke-opacity=\"1\" stroke-width=\"3.2\"/>\n",
       "<circle clip-path=\"url(#clip592)\" cx=\"515.535\" cy=\"425.606\" r=\"14.4\" fill=\"#ffd700\" fill-rule=\"evenodd\" fill-opacity=\"1\" stroke=\"#000000\" stroke-opacity=\"1\" stroke-width=\"3.2\"/>\n",
       "<circle clip-path=\"url(#clip592)\" cx=\"881.876\" cy=\"142.539\" r=\"14.4\" fill=\"#ffd700\" fill-rule=\"evenodd\" fill-opacity=\"1\" stroke=\"#000000\" stroke-opacity=\"1\" stroke-width=\"3.2\"/>\n",
       "<circle clip-path=\"url(#clip592)\" cx=\"1314.05\" cy=\"89.617\" r=\"14.4\" fill=\"#ffd700\" fill-rule=\"evenodd\" fill-opacity=\"1\" stroke=\"#000000\" stroke-opacity=\"1\" stroke-width=\"3.2\"/>\n",
       "<circle clip-path=\"url(#clip592)\" cx=\"1764.31\" cy=\"452.964\" r=\"14.4\" fill=\"#ffd700\" fill-rule=\"evenodd\" fill-opacity=\"1\" stroke=\"#000000\" stroke-opacity=\"1\" stroke-width=\"3.2\"/>\n",
       "<circle clip-path=\"url(#clip592)\" cx=\"1810.84\" cy=\"281.48\" r=\"14.4\" fill=\"#ffd700\" fill-rule=\"evenodd\" fill-opacity=\"1\" stroke=\"#000000\" stroke-opacity=\"1\" stroke-width=\"3.2\"/>\n",
       "<circle clip-path=\"url(#clip592)\" cx=\"1088.2\" cy=\"265.463\" r=\"14.4\" fill=\"#ffd700\" fill-rule=\"evenodd\" fill-opacity=\"1\" stroke=\"#000000\" stroke-opacity=\"1\" stroke-width=\"3.2\"/>\n",
       "<circle clip-path=\"url(#clip592)\" cx=\"1434.42\" cy=\"245.303\" r=\"14.4\" fill=\"#ffd700\" fill-rule=\"evenodd\" fill-opacity=\"1\" stroke=\"#000000\" stroke-opacity=\"1\" stroke-width=\"3.2\"/>\n",
       "<circle clip-path=\"url(#clip592)\" cx=\"444.967\" cy=\"283.854\" r=\"14.4\" fill=\"#ffd700\" fill-rule=\"evenodd\" fill-opacity=\"1\" stroke=\"#000000\" stroke-opacity=\"1\" stroke-width=\"3.2\"/>\n",
       "<circle clip-path=\"url(#clip592)\" cx=\"1629.91\" cy=\"371.82\" r=\"14.4\" fill=\"#ffd700\" fill-rule=\"evenodd\" fill-opacity=\"1\" stroke=\"#000000\" stroke-opacity=\"1\" stroke-width=\"3.2\"/>\n",
       "<circle clip-path=\"url(#clip592)\" cx=\"1321\" cy=\"250.047\" r=\"14.4\" fill=\"#ffd700\" fill-rule=\"evenodd\" fill-opacity=\"1\" stroke=\"#000000\" stroke-opacity=\"1\" stroke-width=\"3.2\"/>\n",
       "<circle clip-path=\"url(#clip592)\" cx=\"1391.39\" cy=\"197.32\" r=\"14.4\" fill=\"#ffd700\" fill-rule=\"evenodd\" fill-opacity=\"1\" stroke=\"#000000\" stroke-opacity=\"1\" stroke-width=\"3.2\"/>\n",
       "<circle clip-path=\"url(#clip592)\" cx=\"1685.03\" cy=\"257.876\" r=\"14.4\" fill=\"#ffd700\" fill-rule=\"evenodd\" fill-opacity=\"1\" stroke=\"#000000\" stroke-opacity=\"1\" stroke-width=\"3.2\"/>\n",
       "<circle clip-path=\"url(#clip592)\" cx=\"471.852\" cy=\"151.983\" r=\"14.4\" fill=\"#ffd700\" fill-rule=\"evenodd\" fill-opacity=\"1\" stroke=\"#000000\" stroke-opacity=\"1\" stroke-width=\"3.2\"/>\n",
       "<circle clip-path=\"url(#clip592)\" cx=\"2069.63\" cy=\"483.66\" r=\"14.4\" fill=\"#ffd700\" fill-rule=\"evenodd\" fill-opacity=\"1\" stroke=\"#000000\" stroke-opacity=\"1\" stroke-width=\"3.2\"/>\n",
       "<circle clip-path=\"url(#clip592)\" cx=\"788.714\" cy=\"339.14\" r=\"14.4\" fill=\"#ffd700\" fill-rule=\"evenodd\" fill-opacity=\"1\" stroke=\"#000000\" stroke-opacity=\"1\" stroke-width=\"3.2\"/>\n",
       "<circle clip-path=\"url(#clip592)\" cx=\"1683.63\" cy=\"424.989\" r=\"14.4\" fill=\"#ffd700\" fill-rule=\"evenodd\" fill-opacity=\"1\" stroke=\"#000000\" stroke-opacity=\"1\" stroke-width=\"3.2\"/>\n",
       "<circle clip-path=\"url(#clip592)\" cx=\"863.224\" cy=\"455.395\" r=\"14.4\" fill=\"#ffd700\" fill-rule=\"evenodd\" fill-opacity=\"1\" stroke=\"#000000\" stroke-opacity=\"1\" stroke-width=\"3.2\"/>\n",
       "<circle clip-path=\"url(#clip592)\" cx=\"1542.66\" cy=\"418.599\" r=\"14.4\" fill=\"#ffd700\" fill-rule=\"evenodd\" fill-opacity=\"1\" stroke=\"#000000\" stroke-opacity=\"1\" stroke-width=\"3.2\"/>\n",
       "<circle clip-path=\"url(#clip592)\" cx=\"1120.52\" cy=\"452.136\" r=\"14.4\" fill=\"#ffd700\" fill-rule=\"evenodd\" fill-opacity=\"1\" stroke=\"#000000\" stroke-opacity=\"1\" stroke-width=\"3.2\"/>\n",
       "<circle clip-path=\"url(#clip592)\" cx=\"2156.34\" cy=\"351.271\" r=\"14.4\" fill=\"#ffd700\" fill-rule=\"evenodd\" fill-opacity=\"1\" stroke=\"#000000\" stroke-opacity=\"1\" stroke-width=\"3.2\"/>\n",
       "<circle clip-path=\"url(#clip592)\" cx=\"2046.32\" cy=\"510.88\" r=\"14.4\" fill=\"#ffd700\" fill-rule=\"evenodd\" fill-opacity=\"1\" stroke=\"#000000\" stroke-opacity=\"1\" stroke-width=\"3.2\"/>\n",
       "<circle clip-path=\"url(#clip592)\" cx=\"956.849\" cy=\"192.135\" r=\"14.4\" fill=\"#ffd700\" fill-rule=\"evenodd\" fill-opacity=\"1\" stroke=\"#000000\" stroke-opacity=\"1\" stroke-width=\"3.2\"/>\n",
       "<circle clip-path=\"url(#clip592)\" cx=\"1980.5\" cy=\"216.537\" r=\"14.4\" fill=\"#ffd700\" fill-rule=\"evenodd\" fill-opacity=\"1\" stroke=\"#000000\" stroke-opacity=\"1\" stroke-width=\"3.2\"/>\n",
       "</svg>\n"
      ]
     },
     "execution_count": 81,
     "metadata": {},
     "output_type": "execute_result"
    }
   ],
   "source": [
    "using Plots\n",
    "scatter(data2[:, 1], data2[:, 2]; color=[fill(\"black\", 100); fill(\"gold\", 100)], legend=false)"
   ]
  }
 ],
 "metadata": {
  "kernelspec": {
   "display_name": "Julia 1.7.3",
   "language": "julia",
   "name": "julia-1.7"
  },
  "language_info": {
   "file_extension": ".jl",
   "mimetype": "application/julia",
   "name": "julia",
   "version": "1.7.3"
  }
 },
 "nbformat": 4,
 "nbformat_minor": 5
}
