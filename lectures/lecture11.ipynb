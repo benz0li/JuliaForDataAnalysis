{
 "cells": [
  {
   "cell_type": "markdown",
   "id": "07a3767c",
   "metadata": {},
   "source": [
    "# Julia for Data Analysis\n",
    "\n",
    "## Bogumił Kamiński"
   ]
  },
  {
   "cell_type": "markdown",
   "id": "95b99e8f",
   "metadata": {},
   "source": [
    "# Lecture 11. Converting and grouping data frames"
   ]
  },
  {
   "cell_type": "markdown",
   "id": "9dfa7386",
   "metadata": {},
   "source": [
    "## Converting a data frame to other value types"
   ]
  },
  {
   "cell_type": "code",
   "execution_count": null,
   "id": "6408a31f",
   "metadata": {},
   "outputs": [],
   "source": [
    "using Pkg\n",
    "Pkg.activate(Base.current_project())"
   ]
  },
  {
   "cell_type": "code",
   "execution_count": 1,
   "id": "9ea7cb4e",
   "metadata": {},
   "outputs": [
    {
     "data": {
      "text/html": [
       "<div class=\"data-frame\"><p>11 rows × 2 columns</p><table class=\"data-frame\"><thead><tr><th></th><th>x</th><th>y</th></tr><tr><th></th><th title=\"Int64\">Int64</th><th title=\"Int64\">Int64</th></tr></thead><tbody><tr><th>1</th><td>0</td><td>0</td></tr><tr><th>2</th><td>0</td><td>1</td></tr><tr><th>3</th><td>0</td><td>2</td></tr><tr><th>4</th><td>0</td><td>3</td></tr><tr><th>5</th><td>1</td><td>3</td></tr><tr><th>6</th><td>1</td><td>4</td></tr><tr><th>7</th><td>1</td><td>5</td></tr><tr><th>8</th><td>1</td><td>6</td></tr><tr><th>9</th><td>0</td><td>6</td></tr><tr><th>10</th><td>0</td><td>7</td></tr><tr><th>11</th><td>0</td><td>8</td></tr></tbody></table></div>"
      ],
      "text/latex": [
       "\\begin{tabular}{r|cc}\n",
       "\t& x & y\\\\\n",
       "\t\\hline\n",
       "\t& Int64 & Int64\\\\\n",
       "\t\\hline\n",
       "\t1 & 0 & 0 \\\\\n",
       "\t2 & 0 & 1 \\\\\n",
       "\t3 & 0 & 2 \\\\\n",
       "\t4 & 0 & 3 \\\\\n",
       "\t5 & 1 & 3 \\\\\n",
       "\t6 & 1 & 4 \\\\\n",
       "\t7 & 1 & 5 \\\\\n",
       "\t8 & 1 & 6 \\\\\n",
       "\t9 & 0 & 6 \\\\\n",
       "\t10 & 0 & 7 \\\\\n",
       "\t11 & 0 & 8 \\\\\n",
       "\\end{tabular}\n"
      ],
      "text/plain": [
       "\u001b[1m11×2 DataFrame\u001b[0m\n",
       "\u001b[1m Row \u001b[0m│\u001b[1m x     \u001b[0m\u001b[1m y     \u001b[0m\n",
       "\u001b[1m     \u001b[0m│\u001b[90m Int64 \u001b[0m\u001b[90m Int64 \u001b[0m\n",
       "─────┼──────────────\n",
       "   1 │     0      0\n",
       "   2 │     0      1\n",
       "   3 │     0      2\n",
       "   4 │     0      3\n",
       "   5 │     1      3\n",
       "   6 │     1      4\n",
       "   7 │     1      5\n",
       "   8 │     1      6\n",
       "   9 │     0      6\n",
       "  10 │     0      7\n",
       "  11 │     0      8"
      ]
     },
     "execution_count": 1,
     "metadata": {},
     "output_type": "execute_result"
    }
   ],
   "source": [
    "using DataFrames\n",
    "using Serialization\n",
    "walk = deserialize(\"walk.bin\")"
   ]
  },
  {
   "cell_type": "code",
   "execution_count": 2,
   "id": "1d95c5ef",
   "metadata": {},
   "outputs": [
    {
     "data": {
      "text/plain": [
       "1-element Vector{Float64}:\n",
       " 1.5"
      ]
     },
     "execution_count": 2,
     "metadata": {},
     "output_type": "execute_result"
    }
   ],
   "source": [
    "x = [1.5]"
   ]
  },
  {
   "cell_type": "code",
   "execution_count": 3,
   "id": "d3b4a7d5",
   "metadata": {},
   "outputs": [
    {
     "data": {
      "text/plain": [
       "1"
      ]
     },
     "execution_count": 3,
     "metadata": {},
     "output_type": "execute_result"
    }
   ],
   "source": [
    "x[1] = 1"
   ]
  },
  {
   "cell_type": "code",
   "execution_count": 4,
   "id": "1dbe46e1",
   "metadata": {},
   "outputs": [
    {
     "data": {
      "text/plain": [
       "1-element Vector{Float64}:\n",
       " 1.0"
      ]
     },
     "execution_count": 4,
     "metadata": {},
     "output_type": "execute_result"
    }
   ],
   "source": [
    "x"
   ]
  },
  {
   "cell_type": "markdown",
   "id": "31a2544c",
   "metadata": {},
   "source": [
    "### Conversion to a matrix"
   ]
  },
  {
   "cell_type": "code",
   "execution_count": 5,
   "id": "cb50d54c",
   "metadata": {},
   "outputs": [
    {
     "data": {
      "text/plain": [
       "11×2 Matrix{Int64}:\n",
       " 0  0\n",
       " 0  1\n",
       " 0  2\n",
       " 0  3\n",
       " 1  3\n",
       " 1  4\n",
       " 1  5\n",
       " 1  6\n",
       " 0  6\n",
       " 0  7\n",
       " 0  8"
      ]
     },
     "execution_count": 5,
     "metadata": {},
     "output_type": "execute_result"
    }
   ],
   "source": [
    "Matrix(walk)"
   ]
  },
  {
   "cell_type": "code",
   "execution_count": 6,
   "id": "dc67ac1f",
   "metadata": {},
   "outputs": [
    {
     "data": {
      "text/plain": [
       "11×2 Matrix{Any}:\n",
       " 0  0\n",
       " 0  1\n",
       " 0  2\n",
       " 0  3\n",
       " 1  3\n",
       " 1  4\n",
       " 1  5\n",
       " 1  6\n",
       " 0  6\n",
       " 0  7\n",
       " 0  8"
      ]
     },
     "execution_count": 6,
     "metadata": {},
     "output_type": "execute_result"
    }
   ],
   "source": [
    "Matrix{Any}(walk)"
   ]
  },
  {
   "cell_type": "code",
   "execution_count": 7,
   "id": "697d12a0",
   "metadata": {},
   "outputs": [
    {
     "ename": "LoadError",
     "evalue": "MethodError: \u001b[0mCannot `convert` an object of type \u001b[92mInt64\u001b[39m\u001b[0m to an object of type \u001b[91mString\u001b[39m\n\u001b[0mClosest candidates are:\n\u001b[0m  convert(::Type{String}, \u001b[91m::String\u001b[39m) at C:\\WORK\\julia-1.7.3\\share\\julia\\base\\essentials.jl:223\n\u001b[0m  convert(::Type{T}, \u001b[91m::T\u001b[39m) where T<:AbstractString at C:\\WORK\\julia-1.7.3\\share\\julia\\base\\strings\\basic.jl:231\n\u001b[0m  convert(::Type{T}, \u001b[91m::AbstractString\u001b[39m) where T<:AbstractString at C:\\WORK\\julia-1.7.3\\share\\julia\\base\\strings\\basic.jl:232\n\u001b[0m  ...",
     "output_type": "error",
     "traceback": [
      "MethodError: \u001b[0mCannot `convert` an object of type \u001b[92mInt64\u001b[39m\u001b[0m to an object of type \u001b[91mString\u001b[39m\n\u001b[0mClosest candidates are:\n\u001b[0m  convert(::Type{String}, \u001b[91m::String\u001b[39m) at C:\\WORK\\julia-1.7.3\\share\\julia\\base\\essentials.jl:223\n\u001b[0m  convert(::Type{T}, \u001b[91m::T\u001b[39m) where T<:AbstractString at C:\\WORK\\julia-1.7.3\\share\\julia\\base\\strings\\basic.jl:231\n\u001b[0m  convert(::Type{T}, \u001b[91m::AbstractString\u001b[39m) where T<:AbstractString at C:\\WORK\\julia-1.7.3\\share\\julia\\base\\strings\\basic.jl:232\n\u001b[0m  ...",
      "",
      "Stacktrace:",
      "  [1] setindex!(A::Matrix{String}, x::Int64, i1::Int64)",
      "    @ Base .\\array.jl:903",
      "  [2] _unsafe_copyto!(dest::Matrix{String}, doffs::Int64, src::Vector{Int64}, soffs::Int64, n::Int64)",
      "    @ Base .\\array.jl:253",
      "  [3] unsafe_copyto!",
      "    @ .\\array.jl:307 [inlined]",
      "  [4] _copyto_impl!",
      "    @ .\\array.jl:331 [inlined]",
      "  [5] copyto!",
      "    @ .\\array.jl:317 [inlined]",
      "  [6] copyto!(dest::Matrix{String}, dstart::Int64, src::Vector{Int64})",
      "    @ Base .\\abstractarray.jl:1048",
      "  [7] Matrix{String}(df::DataFrame)",
      "    @ DataFrames C:\\Users\\bogum\\.julia\\packages\\DataFrames\\zqFGs\\src\\abstractdataframe\\abstractdataframe.jl:1255",
      "  [8] top-level scope",
      "    @ In[7]:1",
      "  [9] eval",
      "    @ .\\boot.jl:373 [inlined]",
      " [10] include_string(mapexpr::typeof(REPL.softscope), mod::Module, code::String, filename::String)",
      "    @ Base .\\loading.jl:1196"
     ]
    }
   ],
   "source": [
    "Matrix{String}(walk)"
   ]
  },
  {
   "cell_type": "code",
   "execution_count": 8,
   "id": "9dc1d2e5",
   "metadata": {},
   "outputs": [
    {
     "ename": "LoadError",
     "evalue": "Cannot convert DataFrame to series data for plotting",
     "output_type": "error",
     "traceback": [
      "Cannot convert DataFrame to series data for plotting",
      "",
      "Stacktrace:",
      "  [1] error(s::String)",
      "    @ Base .\\error.jl:33",
      "  [2] _prepare_series_data(x::DataFrame)",
      "    @ RecipesPipeline C:\\Users\\bogum\\.julia\\packages\\RecipesPipeline\\juxUg\\src\\series.jl:8",
      "  [3] _series_data_vector(x::DataFrame, plotattributes::Dict{Symbol, Any})",
      "    @ RecipesPipeline C:\\Users\\bogum\\.julia\\packages\\RecipesPipeline\\juxUg\\src\\series.jl:36",
      "  [4] macro expansion",
      "    @ C:\\Users\\bogum\\.julia\\packages\\RecipesPipeline\\juxUg\\src\\series.jl:129 [inlined]",
      "  [5] apply_recipe(plotattributes::AbstractDict{Symbol, Any}, #unused#::Type{RecipesPipeline.SliceIt}, x::Any, y::Any, z::Any)",
      "    @ RecipesPipeline C:\\Users\\bogum\\.julia\\packages\\RecipesBase\\6AijY\\src\\RecipesBase.jl:299",
      "  [6] _process_userrecipes!(plt::Any, plotattributes::Any, args::Any)",
      "    @ RecipesPipeline C:\\Users\\bogum\\.julia\\packages\\RecipesPipeline\\juxUg\\src\\user_recipe.jl:38",
      "  [7] recipe_pipeline!(plt::Any, plotattributes::Any, args::Any)",
      "    @ RecipesPipeline C:\\Users\\bogum\\.julia\\packages\\RecipesPipeline\\juxUg\\src\\RecipesPipeline.jl:72",
      "  [8] _plot!(plt::Plots.Plot, plotattributes::Any, args::Any)",
      "    @ Plots C:\\Users\\bogum\\.julia\\packages\\Plots\\lW9ll\\src\\plot.jl:209",
      "  [9] plot(args::Any; kw::Base.Pairs{Symbol, V, Tuple{Vararg{Symbol, N}}, NamedTuple{names, T}} where {V, N, names, T<:Tuple{Vararg{Any, N}}})",
      "    @ Plots C:\\Users\\bogum\\.julia\\packages\\Plots\\lW9ll\\src\\plot.jl:91",
      " [10] plot(args::Any)",
      "    @ Plots C:\\Users\\bogum\\.julia\\packages\\Plots\\lW9ll\\src\\plot.jl:85",
      " [11] top-level scope",
      "    @ In[8]:2",
      " [12] eval",
      "    @ .\\boot.jl:373 [inlined]",
      " [13] include_string(mapexpr::typeof(REPL.softscope), mod::Module, code::String, filename::String)",
      "    @ Base .\\loading.jl:1196"
     ]
    }
   ],
   "source": [
    "using Plots\n",
    "plot(walk)"
   ]
  },
  {
   "cell_type": "code",
   "execution_count": 9,
   "id": "24d0c19c",
   "metadata": {},
   "outputs": [
    {
     "data": {
      "image/svg+xml": [
       "<?xml version=\"1.0\" encoding=\"utf-8\"?>\n",
       "<svg xmlns=\"http://www.w3.org/2000/svg\" xmlns:xlink=\"http://www.w3.org/1999/xlink\" width=\"600\" height=\"400\" viewBox=\"0 0 2400 1600\">\n",
       "<defs>\n",
       "  <clipPath id=\"clip700\">\n",
       "    <rect x=\"0\" y=\"0\" width=\"2400\" height=\"1600\"/>\n",
       "  </clipPath>\n",
       "</defs>\n",
       "<path clip-path=\"url(#clip700)\" d=\"\n",
       "M0 1600 L2400 1600 L2400 0 L0 0  Z\n",
       "  \" fill=\"#ffffff\" fill-rule=\"evenodd\" fill-opacity=\"1\"/>\n",
       "<defs>\n",
       "  <clipPath id=\"clip701\">\n",
       "    <rect x=\"480\" y=\"0\" width=\"1681\" height=\"1600\"/>\n",
       "  </clipPath>\n",
       "</defs>\n",
       "<path clip-path=\"url(#clip700)\" d=\"\n",
       "M112.177 1486.45 L2352.76 1486.45 L2352.76 47.2441 L112.177 47.2441  Z\n",
       "  \" fill=\"#ffffff\" fill-rule=\"evenodd\" fill-opacity=\"1\"/>\n",
       "<defs>\n",
       "  <clipPath id=\"clip702\">\n",
       "    <rect x=\"112\" y=\"47\" width=\"2242\" height=\"1440\"/>\n",
       "  </clipPath>\n",
       "</defs>\n",
       "<polyline clip-path=\"url(#clip702)\" style=\"stroke:#000000; stroke-linecap:butt; stroke-linejoin:round; stroke-width:2; stroke-opacity:0.1; fill:none\" points=\"\n",
       "  386.965,1486.45 386.965,47.2441 \n",
       "  \"/>\n",
       "<polyline clip-path=\"url(#clip702)\" style=\"stroke:#000000; stroke-linecap:butt; stroke-linejoin:round; stroke-width:2; stroke-opacity:0.1; fill:none\" points=\"\n",
       "  809.716,1486.45 809.716,47.2441 \n",
       "  \"/>\n",
       "<polyline clip-path=\"url(#clip702)\" style=\"stroke:#000000; stroke-linecap:butt; stroke-linejoin:round; stroke-width:2; stroke-opacity:0.1; fill:none\" points=\"\n",
       "  1232.47,1486.45 1232.47,47.2441 \n",
       "  \"/>\n",
       "<polyline clip-path=\"url(#clip702)\" style=\"stroke:#000000; stroke-linecap:butt; stroke-linejoin:round; stroke-width:2; stroke-opacity:0.1; fill:none\" points=\"\n",
       "  1655.22,1486.45 1655.22,47.2441 \n",
       "  \"/>\n",
       "<polyline clip-path=\"url(#clip702)\" style=\"stroke:#000000; stroke-linecap:butt; stroke-linejoin:round; stroke-width:2; stroke-opacity:0.1; fill:none\" points=\"\n",
       "  2077.97,1486.45 2077.97,47.2441 \n",
       "  \"/>\n",
       "<polyline clip-path=\"url(#clip700)\" style=\"stroke:#000000; stroke-linecap:butt; stroke-linejoin:round; stroke-width:4; stroke-opacity:1; fill:none\" points=\"\n",
       "  112.177,1486.45 2352.76,1486.45 \n",
       "  \"/>\n",
       "<polyline clip-path=\"url(#clip700)\" style=\"stroke:#000000; stroke-linecap:butt; stroke-linejoin:round; stroke-width:4; stroke-opacity:1; fill:none\" points=\"\n",
       "  386.965,1486.45 386.965,1467.55 \n",
       "  \"/>\n",
       "<polyline clip-path=\"url(#clip700)\" style=\"stroke:#000000; stroke-linecap:butt; stroke-linejoin:round; stroke-width:4; stroke-opacity:1; fill:none\" points=\"\n",
       "  809.716,1486.45 809.716,1467.55 \n",
       "  \"/>\n",
       "<polyline clip-path=\"url(#clip700)\" style=\"stroke:#000000; stroke-linecap:butt; stroke-linejoin:round; stroke-width:4; stroke-opacity:1; fill:none\" points=\"\n",
       "  1232.47,1486.45 1232.47,1467.55 \n",
       "  \"/>\n",
       "<polyline clip-path=\"url(#clip700)\" style=\"stroke:#000000; stroke-linecap:butt; stroke-linejoin:round; stroke-width:4; stroke-opacity:1; fill:none\" points=\"\n",
       "  1655.22,1486.45 1655.22,1467.55 \n",
       "  \"/>\n",
       "<polyline clip-path=\"url(#clip700)\" style=\"stroke:#000000; stroke-linecap:butt; stroke-linejoin:round; stroke-width:4; stroke-opacity:1; fill:none\" points=\"\n",
       "  2077.97,1486.45 2077.97,1467.55 \n",
       "  \"/>\n",
       "<path clip-path=\"url(#clip700)\" d=\"M381.618 1544.91 L397.937 1544.91 L397.937 1548.85 L375.993 1548.85 L375.993 1544.91 Q378.655 1542.16 383.238 1537.53 Q387.845 1532.88 389.025 1531.53 Q391.271 1529.01 392.15 1527.27 Q393.053 1525.51 393.053 1523.82 Q393.053 1521.07 391.109 1519.33 Q389.187 1517.6 386.086 1517.6 Q383.886 1517.6 381.433 1518.36 Q379.002 1519.13 376.224 1520.68 L376.224 1515.95 Q379.049 1514.82 381.502 1514.24 Q383.956 1513.66 385.993 1513.66 Q391.363 1513.66 394.558 1516.35 Q397.752 1519.03 397.752 1523.52 Q397.752 1525.65 396.942 1527.57 Q396.155 1529.47 394.048 1532.07 Q393.47 1532.74 390.368 1535.95 Q387.266 1539.15 381.618 1544.91 Z\" fill=\"#000000\" fill-rule=\"evenodd\" fill-opacity=\"1\" /><path clip-path=\"url(#clip700)\" d=\"M812.725 1518.36 L800.92 1536.81 L812.725 1536.81 L812.725 1518.36 M811.498 1514.29 L817.378 1514.29 L817.378 1536.81 L822.308 1536.81 L822.308 1540.7 L817.378 1540.7 L817.378 1548.85 L812.725 1548.85 L812.725 1540.7 L797.123 1540.7 L797.123 1536.19 L811.498 1514.29 Z\" fill=\"#000000\" fill-rule=\"evenodd\" fill-opacity=\"1\" /><path clip-path=\"url(#clip700)\" d=\"M1232.87 1529.7 Q1229.72 1529.7 1227.87 1531.86 Q1226.04 1534.01 1226.04 1537.76 Q1226.04 1541.49 1227.87 1543.66 Q1229.72 1545.82 1232.87 1545.82 Q1236.02 1545.82 1237.85 1543.66 Q1239.7 1541.49 1239.7 1537.76 Q1239.7 1534.01 1237.85 1531.86 Q1236.02 1529.7 1232.87 1529.7 M1242.15 1515.05 L1242.15 1519.31 Q1240.39 1518.48 1238.59 1518.04 Q1236.81 1517.6 1235.05 1517.6 Q1230.42 1517.6 1227.96 1520.72 Q1225.53 1523.85 1225.19 1530.17 Q1226.55 1528.15 1228.61 1527.09 Q1230.67 1526 1233.15 1526 Q1238.36 1526 1241.37 1529.17 Q1244.4 1532.32 1244.4 1537.76 Q1244.4 1543.08 1241.25 1546.3 Q1238.1 1549.52 1232.87 1549.52 Q1226.88 1549.52 1223.71 1544.94 Q1220.53 1540.33 1220.53 1531.6 Q1220.53 1523.41 1224.42 1518.55 Q1228.31 1513.66 1234.86 1513.66 Q1236.62 1513.66 1238.4 1514.01 Q1240.21 1514.36 1242.15 1515.05 Z\" fill=\"#000000\" fill-rule=\"evenodd\" fill-opacity=\"1\" /><path clip-path=\"url(#clip700)\" d=\"M1655.22 1532.44 Q1651.88 1532.44 1649.96 1534.22 Q1648.06 1536 1648.06 1539.13 Q1648.06 1542.25 1649.96 1544.03 Q1651.88 1545.82 1655.22 1545.82 Q1658.55 1545.82 1660.47 1544.03 Q1662.39 1542.23 1662.39 1539.13 Q1662.39 1536 1660.47 1534.22 Q1658.57 1532.44 1655.22 1532.44 M1650.54 1530.45 Q1647.53 1529.7 1645.84 1527.64 Q1644.18 1525.58 1644.18 1522.62 Q1644.18 1518.48 1647.12 1516.07 Q1650.08 1513.66 1655.22 1513.66 Q1660.38 1513.66 1663.32 1516.07 Q1666.26 1518.48 1666.26 1522.62 Q1666.26 1525.58 1664.57 1527.64 Q1662.9 1529.7 1659.92 1530.45 Q1663.3 1531.23 1665.17 1533.52 Q1667.07 1535.82 1667.07 1539.13 Q1667.07 1544.15 1663.99 1546.83 Q1660.93 1549.52 1655.22 1549.52 Q1649.5 1549.52 1646.42 1546.83 Q1643.37 1544.15 1643.37 1539.13 Q1643.37 1535.82 1645.26 1533.52 Q1647.16 1531.23 1650.54 1530.45 M1648.83 1523.06 Q1648.83 1525.75 1650.5 1527.25 Q1652.18 1528.76 1655.22 1528.76 Q1658.23 1528.76 1659.92 1527.25 Q1661.63 1525.75 1661.63 1523.06 Q1661.63 1520.38 1659.92 1518.87 Q1658.23 1517.37 1655.22 1517.37 Q1652.18 1517.37 1650.5 1518.87 Q1648.83 1520.38 1648.83 1523.06 Z\" fill=\"#000000\" fill-rule=\"evenodd\" fill-opacity=\"1\" /><path clip-path=\"url(#clip700)\" d=\"M2052.66 1544.91 L2060.29 1544.91 L2060.29 1518.55 L2051.98 1520.21 L2051.98 1515.95 L2060.25 1514.29 L2064.92 1514.29 L2064.92 1544.91 L2072.56 1544.91 L2072.56 1548.85 L2052.66 1548.85 L2052.66 1544.91 Z\" fill=\"#000000\" fill-rule=\"evenodd\" fill-opacity=\"1\" /><path clip-path=\"url(#clip700)\" d=\"M2092.01 1517.37 Q2088.4 1517.37 2086.57 1520.93 Q2084.76 1524.47 2084.76 1531.6 Q2084.76 1538.71 2086.57 1542.27 Q2088.4 1545.82 2092.01 1545.82 Q2095.64 1545.82 2097.45 1542.27 Q2099.28 1538.71 2099.28 1531.6 Q2099.28 1524.47 2097.45 1520.93 Q2095.64 1517.37 2092.01 1517.37 M2092.01 1513.66 Q2097.82 1513.66 2100.87 1518.27 Q2103.95 1522.85 2103.95 1531.6 Q2103.95 1540.33 2100.87 1544.94 Q2097.82 1549.52 2092.01 1549.52 Q2086.2 1549.52 2083.12 1544.94 Q2080.06 1540.33 2080.06 1531.6 Q2080.06 1522.85 2083.12 1518.27 Q2086.2 1513.66 2092.01 1513.66 Z\" fill=\"#000000\" fill-rule=\"evenodd\" fill-opacity=\"1\" /><polyline clip-path=\"url(#clip702)\" style=\"stroke:#000000; stroke-linecap:butt; stroke-linejoin:round; stroke-width:2; stroke-opacity:0.1; fill:none\" points=\"\n",
       "  112.177,1445.72 2352.76,1445.72 \n",
       "  \"/>\n",
       "<polyline clip-path=\"url(#clip702)\" style=\"stroke:#000000; stroke-linecap:butt; stroke-linejoin:round; stroke-width:2; stroke-opacity:0.1; fill:none\" points=\"\n",
       "  112.177,1106.28 2352.76,1106.28 \n",
       "  \"/>\n",
       "<polyline clip-path=\"url(#clip702)\" style=\"stroke:#000000; stroke-linecap:butt; stroke-linejoin:round; stroke-width:2; stroke-opacity:0.1; fill:none\" points=\"\n",
       "  112.177,766.846 2352.76,766.846 \n",
       "  \"/>\n",
       "<polyline clip-path=\"url(#clip702)\" style=\"stroke:#000000; stroke-linecap:butt; stroke-linejoin:round; stroke-width:2; stroke-opacity:0.1; fill:none\" points=\"\n",
       "  112.177,427.411 2352.76,427.411 \n",
       "  \"/>\n",
       "<polyline clip-path=\"url(#clip702)\" style=\"stroke:#000000; stroke-linecap:butt; stroke-linejoin:round; stroke-width:2; stroke-opacity:0.1; fill:none\" points=\"\n",
       "  112.177,87.9763 2352.76,87.9763 \n",
       "  \"/>\n",
       "<polyline clip-path=\"url(#clip700)\" style=\"stroke:#000000; stroke-linecap:butt; stroke-linejoin:round; stroke-width:4; stroke-opacity:1; fill:none\" points=\"\n",
       "  112.177,1486.45 112.177,47.2441 \n",
       "  \"/>\n",
       "<polyline clip-path=\"url(#clip700)\" style=\"stroke:#000000; stroke-linecap:butt; stroke-linejoin:round; stroke-width:4; stroke-opacity:1; fill:none\" points=\"\n",
       "  112.177,1445.72 131.075,1445.72 \n",
       "  \"/>\n",
       "<polyline clip-path=\"url(#clip700)\" style=\"stroke:#000000; stroke-linecap:butt; stroke-linejoin:round; stroke-width:4; stroke-opacity:1; fill:none\" points=\"\n",
       "  112.177,1106.28 131.075,1106.28 \n",
       "  \"/>\n",
       "<polyline clip-path=\"url(#clip700)\" style=\"stroke:#000000; stroke-linecap:butt; stroke-linejoin:round; stroke-width:4; stroke-opacity:1; fill:none\" points=\"\n",
       "  112.177,766.846 131.075,766.846 \n",
       "  \"/>\n",
       "<polyline clip-path=\"url(#clip700)\" style=\"stroke:#000000; stroke-linecap:butt; stroke-linejoin:round; stroke-width:4; stroke-opacity:1; fill:none\" points=\"\n",
       "  112.177,427.411 131.075,427.411 \n",
       "  \"/>\n",
       "<polyline clip-path=\"url(#clip700)\" style=\"stroke:#000000; stroke-linecap:butt; stroke-linejoin:round; stroke-width:4; stroke-opacity:1; fill:none\" points=\"\n",
       "  112.177,87.9763 131.075,87.9763 \n",
       "  \"/>\n",
       "<path clip-path=\"url(#clip700)\" d=\"M64.2328 1431.51 Q60.6217 1431.51 58.793 1435.08 Q56.9875 1438.62 56.9875 1445.75 Q56.9875 1452.86 58.793 1456.42 Q60.6217 1459.96 64.2328 1459.96 Q67.867 1459.96 69.6726 1456.42 Q71.5013 1452.86 71.5013 1445.75 Q71.5013 1438.62 69.6726 1435.08 Q67.867 1431.51 64.2328 1431.51 M64.2328 1427.81 Q70.0429 1427.81 73.0985 1432.42 Q76.1772 1437 76.1772 1445.75 Q76.1772 1454.48 73.0985 1459.08 Q70.0429 1463.67 64.2328 1463.67 Q58.4226 1463.67 55.344 1459.08 Q52.2884 1454.48 52.2884 1445.75 Q52.2884 1437 55.344 1432.42 Q58.4226 1427.81 64.2328 1427.81 Z\" fill=\"#000000\" fill-rule=\"evenodd\" fill-opacity=\"1\" /><path clip-path=\"url(#clip700)\" d=\"M59.8578 1119.63 L76.1772 1119.63 L76.1772 1123.56 L54.2328 1123.56 L54.2328 1119.63 Q56.8949 1116.87 61.4782 1112.24 Q66.0846 1107.59 67.2652 1106.25 Q69.5105 1103.72 70.3902 1101.99 Q71.2929 1100.23 71.2929 1098.54 Q71.2929 1095.78 69.3485 1094.05 Q67.4272 1092.31 64.3254 1092.31 Q62.1263 1092.31 59.6726 1093.07 Q57.2421 1093.84 54.4643 1095.39 L54.4643 1090.67 Q57.2884 1089.53 59.7421 1088.95 Q62.1958 1088.38 64.2328 1088.38 Q69.6031 1088.38 72.7976 1091.06 Q75.992 1093.75 75.992 1098.24 Q75.992 1100.37 75.1818 1102.29 Q74.3948 1104.19 72.2883 1106.78 Q71.7096 1107.45 68.6078 1110.67 Q65.5059 1113.86 59.8578 1119.63 Z\" fill=\"#000000\" fill-rule=\"evenodd\" fill-opacity=\"1\" /><path clip-path=\"url(#clip700)\" d=\"M66.5939 753.64 L54.7884 772.089 L66.5939 772.089 L66.5939 753.64 M65.367 749.566 L71.2466 749.566 L71.2466 772.089 L76.1772 772.089 L76.1772 775.978 L71.2466 775.978 L71.2466 784.126 L66.5939 784.126 L66.5939 775.978 L50.9921 775.978 L50.9921 771.464 L65.367 749.566 Z\" fill=\"#000000\" fill-rule=\"evenodd\" fill-opacity=\"1\" /><path clip-path=\"url(#clip700)\" d=\"M64.6495 425.548 Q61.5013 425.548 59.6495 427.7 Q57.8208 429.853 57.8208 433.603 Q57.8208 437.33 59.6495 439.506 Q61.5013 441.659 64.6495 441.659 Q67.7976 441.659 69.6263 439.506 Q71.4781 437.33 71.4781 433.603 Q71.4781 429.853 69.6263 427.7 Q67.7976 425.548 64.6495 425.548 M73.9318 410.895 L73.9318 415.154 Q72.1726 414.321 70.367 413.881 Q68.5846 413.441 66.8254 413.441 Q62.1958 413.441 59.7421 416.566 Q57.3115 419.691 56.9643 426.011 Q58.33 423.997 60.3902 422.932 Q62.4504 421.844 64.9272 421.844 Q70.1355 421.844 73.1448 425.015 Q76.1772 428.163 76.1772 433.603 Q76.1772 438.927 73.029 442.145 Q69.8809 445.362 64.6495 445.362 Q58.6541 445.362 55.4828 440.779 Q52.3116 436.173 52.3116 427.446 Q52.3116 419.251 56.2004 414.39 Q60.0893 409.506 66.6402 409.506 Q68.3994 409.506 70.1818 409.853 Q71.9874 410.201 73.9318 410.895 Z\" fill=\"#000000\" fill-rule=\"evenodd\" fill-opacity=\"1\" /><path clip-path=\"url(#clip700)\" d=\"M64.3254 88.8443 Q60.9921 88.8443 59.0708 90.6267 Q57.1726 92.4091 57.1726 95.5341 Q57.1726 98.6591 59.0708 100.441 Q60.9921 102.224 64.3254 102.224 Q67.6587 102.224 69.58 100.441 Q71.5013 98.6359 71.5013 95.5341 Q71.5013 92.4091 69.58 90.6267 Q67.6819 88.8443 64.3254 88.8443 M59.6495 86.8536 Q56.6402 86.1129 54.9504 84.0527 Q53.2838 81.9925 53.2838 79.0296 Q53.2838 74.8861 56.2236 72.4787 Q59.1865 70.0713 64.3254 70.0713 Q69.4874 70.0713 72.4272 72.4787 Q75.367 74.8861 75.367 79.0296 Q75.367 81.9925 73.6772 84.0527 Q72.0105 86.1129 69.0244 86.8536 Q72.404 87.6406 74.279 89.9323 Q76.1772 92.2239 76.1772 95.5341 Q76.1772 100.557 73.0985 103.242 Q70.0429 105.928 64.3254 105.928 Q58.6078 105.928 55.5291 103.242 Q52.4736 100.557 52.4736 95.5341 Q52.4736 92.2239 54.3717 89.9323 Q56.2699 87.6406 59.6495 86.8536 M57.9365 79.4694 Q57.9365 82.1545 59.6032 83.6592 Q61.293 85.1638 64.3254 85.1638 Q67.3346 85.1638 69.0244 83.6592 Q70.7374 82.1545 70.7374 79.4694 Q70.7374 76.7842 69.0244 75.2796 Q67.3346 73.775 64.3254 73.775 Q61.293 73.775 59.6032 75.2796 Q57.9365 76.7842 57.9365 79.4694 Z\" fill=\"#000000\" fill-rule=\"evenodd\" fill-opacity=\"1\" /><polyline clip-path=\"url(#clip702)\" style=\"stroke:#009af9; stroke-linecap:butt; stroke-linejoin:round; stroke-width:4; stroke-opacity:1; fill:none\" points=\"\n",
       "  175.59,1445.72 386.965,1445.72 598.34,1445.72 809.716,1445.72 1021.09,1276 1232.47,1276 1443.84,1276 1655.22,1276 1866.59,1445.72 2077.97,1445.72 \n",
       "  2289.34,1445.72 \n",
       "  \"/>\n",
       "<polyline clip-path=\"url(#clip702)\" style=\"stroke:#e26f46; stroke-linecap:butt; stroke-linejoin:round; stroke-width:4; stroke-opacity:1; fill:none\" points=\"\n",
       "  175.59,1445.72 386.965,1276 598.34,1106.28 809.716,936.563 1021.09,936.563 1232.47,766.846 1443.84,597.129 1655.22,427.411 1866.59,427.411 2077.97,257.694 \n",
       "  2289.34,87.9763 \n",
       "  \"/>\n",
       "<path clip-path=\"url(#clip700)\" d=\"\n",
       "M186.863 250.738 L461.048 250.738 L461.048 95.2176 L186.863 95.2176  Z\n",
       "  \" fill=\"#ffffff\" fill-rule=\"evenodd\" fill-opacity=\"1\"/>\n",
       "<polyline clip-path=\"url(#clip700)\" style=\"stroke:#000000; stroke-linecap:butt; stroke-linejoin:round; stroke-width:4; stroke-opacity:1; fill:none\" points=\"\n",
       "  186.863,250.738 461.048,250.738 461.048,95.2176 186.863,95.2176 186.863,250.738 \n",
       "  \"/>\n",
       "<polyline clip-path=\"url(#clip700)\" style=\"stroke:#009af9; stroke-linecap:butt; stroke-linejoin:round; stroke-width:4; stroke-opacity:1; fill:none\" points=\"\n",
       "  211.758,147.058 361.13,147.058 \n",
       "  \"/>\n",
       "<path clip-path=\"url(#clip700)\" d=\"M410.678 138.412 L401.303 151.027 L411.164 164.338 L406.141 164.338 L398.595 154.152 L391.049 164.338 L386.026 164.338 L396.095 150.773 L386.882 138.412 L391.905 138.412 L398.78 147.648 L405.655 138.412 L410.678 138.412 Z\" fill=\"#000000\" fill-rule=\"evenodd\" fill-opacity=\"1\" /><polyline clip-path=\"url(#clip700)\" style=\"stroke:#e26f46; stroke-linecap:butt; stroke-linejoin:round; stroke-width:4; stroke-opacity:1; fill:none\" points=\"\n",
       "  211.758,198.898 361.13,198.898 \n",
       "  \"/>\n",
       "<path clip-path=\"url(#clip700)\" d=\"M399.868 218.585 Q398.063 223.215 396.35 224.627 Q394.637 226.039 391.766 226.039 L388.364 226.039 L388.364 222.474 L390.864 222.474 Q392.623 222.474 393.595 221.64 Q394.567 220.807 395.748 217.705 L396.512 215.761 L386.026 190.252 L390.54 190.252 L398.641 210.529 L406.743 190.252 L411.257 190.252 L399.868 218.585 Z\" fill=\"#000000\" fill-rule=\"evenodd\" fill-opacity=\"1\" /></svg>\n"
      ]
     },
     "execution_count": 9,
     "metadata": {},
     "output_type": "execute_result"
    }
   ],
   "source": [
    "plot(Matrix(walk); labels=[\"x\" \"y\"] , legend=:topleft)"
   ]
  },
  {
   "cell_type": "markdown",
   "id": "0f6475f9",
   "metadata": {},
   "source": [
    "### Conversion to a named tuple of vectors"
   ]
  },
  {
   "cell_type": "code",
   "execution_count": 10,
   "id": "5b1a40d7",
   "metadata": {},
   "outputs": [
    {
     "data": {
      "text/plain": [
       "(x = [0, 0, 0, 0, 1, 1, 1, 1, 0, 0, 0], y = [0, 1, 2, 3, 3, 4, 5, 6, 6, 7, 8])"
      ]
     },
     "execution_count": 10,
     "metadata": {},
     "output_type": "execute_result"
    }
   ],
   "source": [
    "Tables.columntable(walk)"
   ]
  },
  {
   "cell_type": "markdown",
   "id": "cda629f4",
   "metadata": {},
   "source": [
    "### Type stability in Julia"
   ]
  },
  {
   "cell_type": "code",
   "execution_count": 11,
   "id": "54452788",
   "metadata": {},
   "outputs": [
    {
     "data": {
      "text/plain": [
       "mysum (generic function with 1 method)"
      ]
     },
     "execution_count": 11,
     "metadata": {},
     "output_type": "execute_result"
    }
   ],
   "source": [
    "using BenchmarkTools\n",
    "function mysum(table)\n",
    "    s = 0 #A\n",
    "    for v in table.x #B\n",
    "        s += v\n",
    "    end\n",
    "    return s\n",
    "end"
   ]
  },
  {
   "cell_type": "code",
   "execution_count": 12,
   "id": "91f7935f",
   "metadata": {},
   "outputs": [
    {
     "name": "stdout",
     "output_type": "stream",
     "text": [
      "  84.713 ms (3998948 allocations: 76.28 MiB)\n"
     ]
    },
    {
     "data": {
      "text/plain": [
       "500000500000"
      ]
     },
     "execution_count": 12,
     "metadata": {},
     "output_type": "execute_result"
    }
   ],
   "source": [
    "df = DataFrame(x=1:1_000_000);\n",
    "@btime mysum($df)"
   ]
  },
  {
   "cell_type": "code",
   "execution_count": 13,
   "id": "ea94a3a9",
   "metadata": {},
   "outputs": [
    {
     "name": "stdout",
     "output_type": "stream",
     "text": [
      "  134.500 μs (0 allocations: 0 bytes)\n"
     ]
    },
    {
     "data": {
      "text/plain": [
       "500000500000"
      ]
     },
     "execution_count": 13,
     "metadata": {},
     "output_type": "execute_result"
    }
   ],
   "source": [
    "tab = Tables.columntable(df);\n",
    "@btime mysum($tab)"
   ]
  },
  {
   "cell_type": "code",
   "execution_count": 14,
   "id": "7028ece4",
   "metadata": {},
   "outputs": [
    {
     "name": "stdout",
     "output_type": "stream",
     "text": [
      "MethodInstance for mysum(::DataFrame)\n",
      "  from mysum(table) in Main at In[11]:2\n",
      "Arguments\n",
      "  #self#\u001b[36m::Core.Const(mysum)\u001b[39m\n",
      "  table\u001b[36m::DataFrame\u001b[39m\n",
      "Locals\n",
      "  @_3\u001b[91m\u001b[1m::Any\u001b[22m\u001b[39m\n",
      "  s\u001b[91m\u001b[1m::Any\u001b[22m\u001b[39m\n",
      "  v\u001b[91m\u001b[1m::Any\u001b[22m\u001b[39m\n",
      "Body\u001b[91m\u001b[1m::Any\u001b[22m\u001b[39m\n",
      "\u001b[90m1 ─\u001b[39m       (s = 0)\n",
      "\u001b[90m│  \u001b[39m %2  = Base.getproperty(table, :x)\u001b[91m\u001b[1m::AbstractVector\u001b[22m\u001b[39m\n",
      "\u001b[90m│  \u001b[39m       (@_3 = Base.iterate(%2))\n",
      "\u001b[90m│  \u001b[39m %4  = (@_3 === nothing)\u001b[36m::Bool\u001b[39m\n",
      "\u001b[90m│  \u001b[39m %5  = Base.not_int(%4)\u001b[36m::Bool\u001b[39m\n",
      "\u001b[90m└──\u001b[39m       goto #4 if not %5\n",
      "\u001b[90m2 ┄\u001b[39m %7  = @_3\u001b[91m\u001b[1m::Any\u001b[22m\u001b[39m\n",
      "\u001b[90m│  \u001b[39m       (v = Core.getfield(%7, 1))\n",
      "\u001b[90m│  \u001b[39m %9  = Core.getfield(%7, 2)\u001b[91m\u001b[1m::Any\u001b[22m\u001b[39m\n",
      "\u001b[90m│  \u001b[39m       (s = s + v)\n",
      "\u001b[90m│  \u001b[39m       (@_3 = Base.iterate(%2, %9))\n",
      "\u001b[90m│  \u001b[39m %12 = (@_3 === nothing)\u001b[36m::Bool\u001b[39m\n",
      "\u001b[90m│  \u001b[39m %13 = Base.not_int(%12)\u001b[36m::Bool\u001b[39m\n",
      "\u001b[90m└──\u001b[39m       goto #4 if not %13\n",
      "\u001b[90m3 ─\u001b[39m       goto #2\n",
      "\u001b[90m4 ┄\u001b[39m       return s\n",
      "\n"
     ]
    }
   ],
   "source": [
    "@code_warntype mysum(df)"
   ]
  },
  {
   "cell_type": "code",
   "execution_count": 15,
   "id": "bf2ddde3",
   "metadata": {},
   "outputs": [
    {
     "name": "stdout",
     "output_type": "stream",
     "text": [
      "MethodInstance for mysum(::NamedTuple{(:x,), Tuple{Vector{Int64}}})\n",
      "  from mysum(table) in Main at In[11]:2\n",
      "Arguments\n",
      "  #self#\u001b[36m::Core.Const(mysum)\u001b[39m\n",
      "  table\u001b[36m::NamedTuple{(:x,), Tuple{Vector{Int64}}}\u001b[39m\n",
      "Locals\n",
      "  @_3\u001b[33m\u001b[1m::Union{Nothing, Tuple{Int64, Int64}}\u001b[22m\u001b[39m\n",
      "  s\u001b[36m::Int64\u001b[39m\n",
      "  v\u001b[36m::Int64\u001b[39m\n",
      "Body\u001b[36m::Int64\u001b[39m\n",
      "\u001b[90m1 ─\u001b[39m       (s = 0)\n",
      "\u001b[90m│  \u001b[39m %2  = Base.getproperty(table, :x)\u001b[36m::Vector{Int64}\u001b[39m\n",
      "\u001b[90m│  \u001b[39m       (@_3 = Base.iterate(%2))\n",
      "\u001b[90m│  \u001b[39m %4  = (@_3 === nothing)\u001b[36m::Bool\u001b[39m\n",
      "\u001b[90m│  \u001b[39m %5  = Base.not_int(%4)\u001b[36m::Bool\u001b[39m\n",
      "\u001b[90m└──\u001b[39m       goto #4 if not %5\n",
      "\u001b[90m2 ┄\u001b[39m %7  = @_3\u001b[36m::Tuple{Int64, Int64}\u001b[39m\n",
      "\u001b[90m│  \u001b[39m       (v = Core.getfield(%7, 1))\n",
      "\u001b[90m│  \u001b[39m %9  = Core.getfield(%7, 2)\u001b[36m::Int64\u001b[39m\n",
      "\u001b[90m│  \u001b[39m       (s = s + v)\n",
      "\u001b[90m│  \u001b[39m       (@_3 = Base.iterate(%2, %9))\n",
      "\u001b[90m│  \u001b[39m %12 = (@_3 === nothing)\u001b[36m::Bool\u001b[39m\n",
      "\u001b[90m│  \u001b[39m %13 = Base.not_int(%12)\u001b[36m::Bool\u001b[39m\n",
      "\u001b[90m└──\u001b[39m       goto #4 if not %13\n",
      "\u001b[90m3 ─\u001b[39m       goto #2\n",
      "\u001b[90m4 ┄\u001b[39m       return s\n",
      "\n"
     ]
    }
   ],
   "source": [
    "@code_warntype mysum(tab)"
   ]
  },
  {
   "cell_type": "code",
   "execution_count": 16,
   "id": "88c6de06",
   "metadata": {},
   "outputs": [
    {
     "data": {
      "text/plain": [
       "NamedTuple{(:x,), Tuple{Vector{Int64}}}"
      ]
     },
     "execution_count": 16,
     "metadata": {},
     "output_type": "execute_result"
    }
   ],
   "source": [
    "typeof(tab)"
   ]
  },
  {
   "cell_type": "markdown",
   "id": "2b320fb8",
   "metadata": {},
   "source": [
    "### Overcoming type instability"
   ]
  },
  {
   "cell_type": "code",
   "execution_count": 17,
   "id": "06fb5393",
   "metadata": {},
   "outputs": [
    {
     "data": {
      "text/plain": [
       "barrier_mysum2 (generic function with 1 method)"
      ]
     },
     "execution_count": 17,
     "metadata": {},
     "output_type": "execute_result"
    }
   ],
   "source": [
    "function barrier_mysum2(x)\n",
    "    s = 0\n",
    "    for v in x\n",
    "        s += v\n",
    "    end\n",
    "    return s\n",
    "end"
   ]
  },
  {
   "cell_type": "code",
   "execution_count": 18,
   "id": "6bb444cd",
   "metadata": {},
   "outputs": [
    {
     "data": {
      "text/plain": [
       "mysum2 (generic function with 1 method)"
      ]
     },
     "execution_count": 18,
     "metadata": {},
     "output_type": "execute_result"
    }
   ],
   "source": [
    "mysum2(table) = barrier_mysum2(table.x)"
   ]
  },
  {
   "cell_type": "code",
   "execution_count": 19,
   "id": "7f888aa7",
   "metadata": {},
   "outputs": [
    {
     "name": "stdout",
     "output_type": "stream",
     "text": [
      "  135.100 μs (1 allocation: 16 bytes)\n"
     ]
    },
    {
     "data": {
      "text/plain": [
       "500000500000"
      ]
     },
     "execution_count": 19,
     "metadata": {},
     "output_type": "execute_result"
    }
   ],
   "source": [
    "@btime mysum2($df)"
   ]
  },
  {
   "cell_type": "markdown",
   "id": "a8c966ea",
   "metadata": {},
   "source": [
    "### Type piracy in Julia"
   ]
  },
  {
   "cell_type": "code",
   "execution_count": 20,
   "id": "bc5fec5a",
   "metadata": {},
   "outputs": [
    {
     "data": {
      "text/html": [
       "<div class=\"data-frame\"><p>3 rows × 2 columns</p><table class=\"data-frame\"><thead><tr><th></th><th>a</th><th>b</th></tr><tr><th></th><th title=\"Int64\">Int64</th><th title=\"Int64\">Int64</th></tr></thead><tbody><tr><th>1</th><td>1</td><td>1</td></tr><tr><th>2</th><td>1</td><td>1</td></tr><tr><th>3</th><td>2</td><td>2</td></tr></tbody></table></div>"
      ],
      "text/latex": [
       "\\begin{tabular}{r|cc}\n",
       "\t& a & b\\\\\n",
       "\t\\hline\n",
       "\t& Int64 & Int64\\\\\n",
       "\t\\hline\n",
       "\t1 & 1 & 1 \\\\\n",
       "\t2 & 1 & 1 \\\\\n",
       "\t3 & 2 & 2 \\\\\n",
       "\\end{tabular}\n"
      ],
      "text/plain": [
       "\u001b[1m3×2 DataFrame\u001b[0m\n",
       "\u001b[1m Row \u001b[0m│\u001b[1m a     \u001b[0m\u001b[1m b     \u001b[0m\n",
       "\u001b[1m     \u001b[0m│\u001b[90m Int64 \u001b[0m\u001b[90m Int64 \u001b[0m\n",
       "─────┼──────────────\n",
       "   1 │     1      1\n",
       "   2 │     1      1\n",
       "   3 │     2      2"
      ]
     },
     "execution_count": 20,
     "metadata": {},
     "output_type": "execute_result"
    }
   ],
   "source": [
    "df = DataFrame(a=[1, 1, 2], b=[1, 1, 2])"
   ]
  },
  {
   "cell_type": "code",
   "execution_count": 21,
   "id": "3bafdd07",
   "metadata": {},
   "outputs": [
    {
     "data": {
      "text/html": [
       "<div class=\"data-frame\"><p>2 rows × 2 columns</p><table class=\"data-frame\"><thead><tr><th></th><th>a</th><th>b</th></tr><tr><th></th><th title=\"Int64\">Int64</th><th title=\"Int64\">Int64</th></tr></thead><tbody><tr><th>1</th><td>1</td><td>1</td></tr><tr><th>2</th><td>2</td><td>2</td></tr></tbody></table></div>"
      ],
      "text/latex": [
       "\\begin{tabular}{r|cc}\n",
       "\t& a & b\\\\\n",
       "\t\\hline\n",
       "\t& Int64 & Int64\\\\\n",
       "\t\\hline\n",
       "\t1 & 1 & 1 \\\\\n",
       "\t2 & 2 & 2 \\\\\n",
       "\\end{tabular}\n"
      ],
      "text/plain": [
       "\u001b[1m2×2 DataFrame\u001b[0m\n",
       "\u001b[1m Row \u001b[0m│\u001b[1m a     \u001b[0m\u001b[1m b     \u001b[0m\n",
       "\u001b[1m     \u001b[0m│\u001b[90m Int64 \u001b[0m\u001b[90m Int64 \u001b[0m\n",
       "─────┼──────────────\n",
       "   1 │     1      1\n",
       "   2 │     2      2"
      ]
     },
     "execution_count": 21,
     "metadata": {},
     "output_type": "execute_result"
    }
   ],
   "source": [
    "unique(df)"
   ]
  },
  {
   "cell_type": "code",
   "execution_count": 22,
   "id": "1dd45b3d",
   "metadata": {},
   "outputs": [
    {
     "data": {
      "text/plain": [
       "(a = [1, 1, 2], b = [1, 1, 2])"
      ]
     },
     "execution_count": 22,
     "metadata": {},
     "output_type": "execute_result"
    }
   ],
   "source": [
    "tab = Tables.columntable(df)"
   ]
  },
  {
   "cell_type": "code",
   "execution_count": 23,
   "id": "428a1952",
   "metadata": {},
   "outputs": [
    {
     "data": {
      "text/plain": [
       "1-element Vector{Vector{Int64}}:\n",
       " [1, 1, 2]"
      ]
     },
     "execution_count": 23,
     "metadata": {},
     "output_type": "execute_result"
    }
   ],
   "source": [
    "unique(tab)"
   ]
  },
  {
   "cell_type": "markdown",
   "id": "7a364f1f",
   "metadata": {},
   "source": [
    "### Other common conversions"
   ]
  },
  {
   "cell_type": "markdown",
   "id": "66610bb0",
   "metadata": {},
   "source": [
    "#### Vector of NamedTuple"
   ]
  },
  {
   "cell_type": "code",
   "execution_count": 24,
   "id": "d3955dde",
   "metadata": {},
   "outputs": [
    {
     "data": {
      "text/plain": [
       "11-element Vector{NamedTuple{(:x, :y), Tuple{Int64, Int64}}}:\n",
       " (x = 0, y = 0)\n",
       " (x = 0, y = 1)\n",
       " (x = 0, y = 2)\n",
       " (x = 0, y = 3)\n",
       " (x = 1, y = 3)\n",
       " (x = 1, y = 4)\n",
       " (x = 1, y = 5)\n",
       " (x = 1, y = 6)\n",
       " (x = 0, y = 6)\n",
       " (x = 0, y = 7)\n",
       " (x = 0, y = 8)"
      ]
     },
     "execution_count": 24,
     "metadata": {},
     "output_type": "execute_result"
    }
   ],
   "source": [
    "Tables.rowtable(walk)"
   ]
  },
  {
   "cell_type": "markdown",
   "id": "bf9dd5ad",
   "metadata": {},
   "source": [
    "#### Iterator of NamedTuple"
   ]
  },
  {
   "cell_type": "code",
   "execution_count": 25,
   "id": "7f2baba1",
   "metadata": {},
   "outputs": [
    {
     "data": {
      "text/plain": [
       "Tables.NamedTupleIterator{Tables.Schema{(:x, :y), Tuple{Int64, Int64}}, Tables.RowIterator{NamedTuple{(:x, :y), Tuple{Vector{Int64}, Vector{Int64}}}}}(Tables.RowIterator{NamedTuple{(:x, :y), Tuple{Vector{Int64}, Vector{Int64}}}}((x = [0, 0, 0, 0, 1, 1, 1, 1, 0, 0, 0], y = [0, 1, 2, 3, 3, 4, 5, 6, 6, 7, 8]), 11))"
      ]
     },
     "execution_count": 25,
     "metadata": {},
     "output_type": "execute_result"
    }
   ],
   "source": [
    "nti = Tables.namedtupleiterator(walk)"
   ]
  },
  {
   "cell_type": "code",
   "execution_count": 26,
   "id": "6e314867",
   "metadata": {},
   "outputs": [
    {
     "name": "stdout",
     "output_type": "stream",
     "text": [
      "(x = 0, y = 0)\n",
      "(x = 0, y = 1)\n",
      "(x = 0, y = 2)\n",
      "(x = 0, y = 3)\n",
      "(x = 1, y = 3)\n",
      "(x = 1, y = 4)\n",
      "(x = 1, y = 5)\n",
      "(x = 1, y = 6)\n",
      "(x = 0, y = 6)\n",
      "(x = 0, y = 7)\n",
      "(x = 0, y = 8)\n"
     ]
    }
   ],
   "source": [
    "for v in nti\n",
    "    println(v)\n",
    "end"
   ]
  },
  {
   "cell_type": "markdown",
   "id": "ac8733bb",
   "metadata": {},
   "source": [
    "### Type unstable iterators of rows and columns"
   ]
  },
  {
   "cell_type": "code",
   "execution_count": 27,
   "id": "abaecb4d",
   "metadata": {},
   "outputs": [
    {
     "data": {
      "text/html": [
       "<p>11×2 DataFrameRows</p><div class=\"data-frame\"><table class=\"data-frame\"><thead><tr><th></th><th>x</th><th>y</th></tr><tr><th></th><th title=\"Int64\">Int64</th><th title=\"Int64\">Int64</th></tr></thead><tbody><tr><th>1</th><td>0</td><td>0</td></tr><tr><th>2</th><td>0</td><td>1</td></tr><tr><th>3</th><td>0</td><td>2</td></tr><tr><th>4</th><td>0</td><td>3</td></tr><tr><th>5</th><td>1</td><td>3</td></tr><tr><th>6</th><td>1</td><td>4</td></tr><tr><th>7</th><td>1</td><td>5</td></tr><tr><th>8</th><td>1</td><td>6</td></tr><tr><th>9</th><td>0</td><td>6</td></tr><tr><th>10</th><td>0</td><td>7</td></tr><tr><th>11</th><td>0</td><td>8</td></tr></tbody></table></div>"
      ],
      "text/latex": [
       "\\begin{tabular}{r|cc}\n",
       "\t& x & y\\\\\n",
       "\t\\hline\n",
       "\t& Int64 & Int64\\\\\n",
       "\t\\hline\n",
       "\t1 & 0 & 0 \\\\\n",
       "\t2 & 0 & 1 \\\\\n",
       "\t3 & 0 & 2 \\\\\n",
       "\t4 & 0 & 3 \\\\\n",
       "\t5 & 1 & 3 \\\\\n",
       "\t6 & 1 & 4 \\\\\n",
       "\t7 & 1 & 5 \\\\\n",
       "\t8 & 1 & 6 \\\\\n",
       "\t9 & 0 & 6 \\\\\n",
       "\t10 & 0 & 7 \\\\\n",
       "\t11 & 0 & 8 \\\\\n",
       "\\end{tabular}\n"
      ],
      "text/plain": [
       "\u001b[1m11×2 DataFrameRows\u001b[0m\n",
       "\u001b[1m Row \u001b[0m│\u001b[1m x     \u001b[0m\u001b[1m y     \u001b[0m\n",
       "\u001b[1m     \u001b[0m│\u001b[90m Int64 \u001b[0m\u001b[90m Int64 \u001b[0m\n",
       "─────┼──────────────\n",
       "   1 │     0      0\n",
       "   2 │     0      1\n",
       "   3 │     0      2\n",
       "   4 │     0      3\n",
       "   5 │     1      3\n",
       "   6 │     1      4\n",
       "   7 │     1      5\n",
       "   8 │     1      6\n",
       "   9 │     0      6\n",
       "  10 │     0      7\n",
       "  11 │     0      8"
      ]
     },
     "execution_count": 27,
     "metadata": {},
     "output_type": "execute_result"
    }
   ],
   "source": [
    "er = eachrow(walk)"
   ]
  },
  {
   "cell_type": "code",
   "execution_count": 28,
   "id": "78b5a5c1",
   "metadata": {},
   "outputs": [
    {
     "data": {
      "text/html": [
       "<p>DataFrameRow (2 columns)</p><div class=\"data-frame\"><table class=\"data-frame\"><thead><tr><th></th><th>x</th><th>y</th></tr><tr><th></th><th title=\"Int64\">Int64</th><th title=\"Int64\">Int64</th></tr></thead><tbody><tr><th>1</th><td>0</td><td>0</td></tr></tbody></table></div>"
      ],
      "text/latex": [
       "\\begin{tabular}{r|cc}\n",
       "\t& x & y\\\\\n",
       "\t\\hline\n",
       "\t& Int64 & Int64\\\\\n",
       "\t\\hline\n",
       "\t1 & 0 & 0 \\\\\n",
       "\\end{tabular}\n"
      ],
      "text/plain": [
       "\u001b[1mDataFrameRow\u001b[0m\n",
       "\u001b[1m Row \u001b[0m│\u001b[1m x     \u001b[0m\u001b[1m y     \u001b[0m\n",
       "\u001b[1m     \u001b[0m│\u001b[90m Int64 \u001b[0m\u001b[90m Int64 \u001b[0m\n",
       "─────┼──────────────\n",
       "   1 │     0      0"
      ]
     },
     "execution_count": 28,
     "metadata": {},
     "output_type": "execute_result"
    }
   ],
   "source": [
    "er[1]"
   ]
  },
  {
   "cell_type": "code",
   "execution_count": 29,
   "id": "e94a64be",
   "metadata": {},
   "outputs": [
    {
     "data": {
      "text/html": [
       "<p>DataFrameRow (2 columns)</p><div class=\"data-frame\"><table class=\"data-frame\"><thead><tr><th></th><th>x</th><th>y</th></tr><tr><th></th><th title=\"Int64\">Int64</th><th title=\"Int64\">Int64</th></tr></thead><tbody><tr><th>11</th><td>0</td><td>8</td></tr></tbody></table></div>"
      ],
      "text/latex": [
       "\\begin{tabular}{r|cc}\n",
       "\t& x & y\\\\\n",
       "\t\\hline\n",
       "\t& Int64 & Int64\\\\\n",
       "\t\\hline\n",
       "\t11 & 0 & 8 \\\\\n",
       "\\end{tabular}\n"
      ],
      "text/plain": [
       "\u001b[1mDataFrameRow\u001b[0m\n",
       "\u001b[1m Row \u001b[0m│\u001b[1m x     \u001b[0m\u001b[1m y     \u001b[0m\n",
       "\u001b[1m     \u001b[0m│\u001b[90m Int64 \u001b[0m\u001b[90m Int64 \u001b[0m\n",
       "─────┼──────────────\n",
       "  11 │     0      8"
      ]
     },
     "execution_count": 29,
     "metadata": {},
     "output_type": "execute_result"
    }
   ],
   "source": [
    "er[end]"
   ]
  },
  {
   "cell_type": "code",
   "execution_count": 30,
   "id": "fd66b826",
   "metadata": {},
   "outputs": [
    {
     "data": {
      "text/html": [
       "<p>11×2 DataFrameColumns</p><div class=\"data-frame\"><table class=\"data-frame\"><thead><tr><th></th><th>x</th><th>y</th></tr><tr><th></th><th title=\"Int64\">Int64</th><th title=\"Int64\">Int64</th></tr></thead><tbody><tr><th>1</th><td>0</td><td>0</td></tr><tr><th>2</th><td>0</td><td>1</td></tr><tr><th>3</th><td>0</td><td>2</td></tr><tr><th>4</th><td>0</td><td>3</td></tr><tr><th>5</th><td>1</td><td>3</td></tr><tr><th>6</th><td>1</td><td>4</td></tr><tr><th>7</th><td>1</td><td>5</td></tr><tr><th>8</th><td>1</td><td>6</td></tr><tr><th>9</th><td>0</td><td>6</td></tr><tr><th>10</th><td>0</td><td>7</td></tr><tr><th>11</th><td>0</td><td>8</td></tr></tbody></table></div>"
      ],
      "text/latex": [
       "\\begin{tabular}{r|cc}\n",
       "\t& x & y\\\\\n",
       "\t\\hline\n",
       "\t& Int64 & Int64\\\\\n",
       "\t\\hline\n",
       "\t1 & 0 & 0 \\\\\n",
       "\t2 & 0 & 1 \\\\\n",
       "\t3 & 0 & 2 \\\\\n",
       "\t4 & 0 & 3 \\\\\n",
       "\t5 & 1 & 3 \\\\\n",
       "\t6 & 1 & 4 \\\\\n",
       "\t7 & 1 & 5 \\\\\n",
       "\t8 & 1 & 6 \\\\\n",
       "\t9 & 0 & 6 \\\\\n",
       "\t10 & 0 & 7 \\\\\n",
       "\t11 & 0 & 8 \\\\\n",
       "\\end{tabular}\n"
      ],
      "text/plain": [
       "\u001b[1m11×2 DataFrameColumns\u001b[0m\n",
       "\u001b[1m Row \u001b[0m│\u001b[1m x     \u001b[0m\u001b[1m y     \u001b[0m\n",
       "\u001b[1m     \u001b[0m│\u001b[90m Int64 \u001b[0m\u001b[90m Int64 \u001b[0m\n",
       "─────┼──────────────\n",
       "   1 │     0      0\n",
       "   2 │     0      1\n",
       "   3 │     0      2\n",
       "   4 │     0      3\n",
       "   5 │     1      3\n",
       "   6 │     1      4\n",
       "   7 │     1      5\n",
       "   8 │     1      6\n",
       "   9 │     0      6\n",
       "  10 │     0      7\n",
       "  11 │     0      8"
      ]
     },
     "execution_count": 30,
     "metadata": {},
     "output_type": "execute_result"
    }
   ],
   "source": [
    "ec = eachcol(walk)"
   ]
  },
  {
   "cell_type": "code",
   "execution_count": 31,
   "id": "8bc77670",
   "metadata": {},
   "outputs": [
    {
     "data": {
      "text/plain": [
       "11-element Vector{Int64}:\n",
       " 0\n",
       " 0\n",
       " 0\n",
       " 0\n",
       " 1\n",
       " 1\n",
       " 1\n",
       " 1\n",
       " 0\n",
       " 0\n",
       " 0"
      ]
     },
     "execution_count": 31,
     "metadata": {},
     "output_type": "execute_result"
    }
   ],
   "source": [
    "ec[1]"
   ]
  },
  {
   "cell_type": "code",
   "execution_count": 32,
   "id": "57c2a0a8",
   "metadata": {},
   "outputs": [
    {
     "data": {
      "text/plain": [
       "11-element Vector{Int64}:\n",
       " 0\n",
       " 1\n",
       " 2\n",
       " 3\n",
       " 3\n",
       " 4\n",
       " 5\n",
       " 6\n",
       " 6\n",
       " 7\n",
       " 8"
      ]
     },
     "execution_count": 32,
     "metadata": {},
     "output_type": "execute_result"
    }
   ],
   "source": [
    "ec[end]"
   ]
  },
  {
   "cell_type": "markdown",
   "id": "034195b8",
   "metadata": {},
   "source": [
    "### Vector of vectors"
   ]
  },
  {
   "cell_type": "code",
   "execution_count": 33,
   "id": "bae6a2f6",
   "metadata": {},
   "outputs": [
    {
     "data": {
      "text/plain": [
       "2-element Vector{Vector{Int64}}:\n",
       " [0, 0, 0, 0, 1, 1, 1, 1, 0, 0, 0]\n",
       " [0, 1, 2, 3, 3, 4, 5, 6, 6, 7, 8]"
      ]
     },
     "execution_count": 33,
     "metadata": {},
     "output_type": "execute_result"
    }
   ],
   "source": [
    "identity.(eachcol(walk))"
   ]
  },
  {
   "cell_type": "code",
   "execution_count": 34,
   "id": "da041372",
   "metadata": {},
   "outputs": [
    {
     "data": {
      "text/html": [
       "<div class=\"data-frame\"><p>2 rows × 2 columns</p><table class=\"data-frame\"><thead><tr><th></th><th>x</th><th>b</th></tr><tr><th></th><th title=\"Int64\">Int64</th><th title=\"String\">String</th></tr></thead><tbody><tr><th>1</th><td>1</td><td>a</td></tr><tr><th>2</th><td>2</td><td>b</td></tr></tbody></table></div>"
      ],
      "text/latex": [
       "\\begin{tabular}{r|cc}\n",
       "\t& x & b\\\\\n",
       "\t\\hline\n",
       "\t& Int64 & String\\\\\n",
       "\t\\hline\n",
       "\t1 & 1 & a \\\\\n",
       "\t2 & 2 & b \\\\\n",
       "\\end{tabular}\n"
      ],
      "text/plain": [
       "\u001b[1m2×2 DataFrame\u001b[0m\n",
       "\u001b[1m Row \u001b[0m│\u001b[1m x     \u001b[0m\u001b[1m b      \u001b[0m\n",
       "\u001b[1m     \u001b[0m│\u001b[90m Int64 \u001b[0m\u001b[90m String \u001b[0m\n",
       "─────┼───────────────\n",
       "   1 │     1  a\n",
       "   2 │     2  b"
      ]
     },
     "execution_count": 34,
     "metadata": {},
     "output_type": "execute_result"
    }
   ],
   "source": [
    "df = DataFrame(x=1:2, b=[\"a\", \"b\"])"
   ]
  },
  {
   "cell_type": "code",
   "execution_count": 35,
   "id": "fb214f28",
   "metadata": {},
   "outputs": [
    {
     "data": {
      "text/plain": [
       "2-element Vector{Vector}:\n",
       " [1, 2]\n",
       " [\"a\", \"b\"]"
      ]
     },
     "execution_count": 35,
     "metadata": {},
     "output_type": "execute_result"
    }
   ],
   "source": [
    "identity.(eachcol(df))"
   ]
  },
  {
   "cell_type": "markdown",
   "id": "bf07abe6",
   "metadata": {},
   "source": [
    "## Grouping data frame objects"
   ]
  },
  {
   "cell_type": "markdown",
   "id": "09b03071",
   "metadata": {},
   "source": [
    "### Preparing the source data frame"
   ]
  },
  {
   "cell_type": "code",
   "execution_count": 36,
   "id": "4b03406b",
   "metadata": {},
   "outputs": [
    {
     "data": {
      "text/html": [
       "<div class=\"data-frame\"><p>10 rows × 3 columns</p><table class=\"data-frame\"><thead><tr><th></th><th>city</th><th>date</th><th>rainfall</th></tr><tr><th></th><th title=\"String7\">String7</th><th title=\"Dates.Date\">Date</th><th title=\"Float64\">Float64</th></tr></thead><tbody><tr><th>1</th><td>Olecko</td><td>2020-11-16</td><td>2.9</td></tr><tr><th>2</th><td>Olecko</td><td>2020-11-17</td><td>4.1</td></tr><tr><th>3</th><td>Olecko</td><td>2020-11-19</td><td>4.3</td></tr><tr><th>4</th><td>Olecko</td><td>2020-11-20</td><td>2.0</td></tr><tr><th>5</th><td>Olecko</td><td>2020-11-21</td><td>0.6</td></tr><tr><th>6</th><td>Olecko</td><td>2020-11-22</td><td>1.0</td></tr><tr><th>7</th><td>Ełk</td><td>2020-11-16</td><td>3.9</td></tr><tr><th>8</th><td>Ełk</td><td>2020-11-19</td><td>1.2</td></tr><tr><th>9</th><td>Ełk</td><td>2020-11-20</td><td>2.0</td></tr><tr><th>10</th><td>Ełk</td><td>2020-11-22</td><td>2.0</td></tr></tbody></table></div>"
      ],
      "text/latex": [
       "\\begin{tabular}{r|ccc}\n",
       "\t& city & date & rainfall\\\\\n",
       "\t\\hline\n",
       "\t& String7 & Date & Float64\\\\\n",
       "\t\\hline\n",
       "\t1 & Olecko & 2020-11-16 & 2.9 \\\\\n",
       "\t2 & Olecko & 2020-11-17 & 4.1 \\\\\n",
       "\t3 & Olecko & 2020-11-19 & 4.3 \\\\\n",
       "\t4 & Olecko & 2020-11-20 & 2.0 \\\\\n",
       "\t5 & Olecko & 2020-11-21 & 0.6 \\\\\n",
       "\t6 & Olecko & 2020-11-22 & 1.0 \\\\\n",
       "\t7 & Ełk & 2020-11-16 & 3.9 \\\\\n",
       "\t8 & Ełk & 2020-11-19 & 1.2 \\\\\n",
       "\t9 & Ełk & 2020-11-20 & 2.0 \\\\\n",
       "\t10 & Ełk & 2020-11-22 & 2.0 \\\\\n",
       "\\end{tabular}\n"
      ],
      "text/plain": [
       "\u001b[1m10×3 DataFrame\u001b[0m\n",
       "\u001b[1m Row \u001b[0m│\u001b[1m city    \u001b[0m\u001b[1m date       \u001b[0m\u001b[1m rainfall \u001b[0m\n",
       "\u001b[1m     \u001b[0m│\u001b[90m String7 \u001b[0m\u001b[90m Date       \u001b[0m\u001b[90m Float64  \u001b[0m\n",
       "─────┼───────────────────────────────\n",
       "   1 │ Olecko   2020-11-16       2.9\n",
       "   2 │ Olecko   2020-11-17       4.1\n",
       "   3 │ Olecko   2020-11-19       4.3\n",
       "   4 │ Olecko   2020-11-20       2.0\n",
       "   5 │ Olecko   2020-11-21       0.6\n",
       "   6 │ Olecko   2020-11-22       1.0\n",
       "   7 │ Ełk      2020-11-16       3.9\n",
       "   8 │ Ełk      2020-11-19       1.2\n",
       "   9 │ Ełk      2020-11-20       2.0\n",
       "  10 │ Ełk      2020-11-22       2.0"
      ]
     },
     "execution_count": 36,
     "metadata": {},
     "output_type": "execute_result"
    }
   ],
   "source": [
    "using CSV\n",
    "raw_data = \"\"\"\n",
    "city,date,rainfall\n",
    "Olecko,2020-11-16,2.9\n",
    "Olecko,2020-11-17,4.1\n",
    "Olecko,2020-11-19,4.3\n",
    "Olecko,2020-11-20,2.0\n",
    "Olecko,2020-11-21,0.6\n",
    "Olecko,2020-11-22,1.0\n",
    "Ełk,2020-11-16,3.9\n",
    "Ełk,2020-11-19,1.2\n",
    "Ełk,2020-11-20,2.0\n",
    "Ełk,2020-11-22,2.0\n",
    "\"\"\";\n",
    "rainfall_df = CSV.read(IOBuffer(raw_data), DataFrame)"
   ]
  },
  {
   "cell_type": "markdown",
   "id": "5f11d52f",
   "metadata": {},
   "source": [
    "### Grouping a data frame"
   ]
  },
  {
   "cell_type": "code",
   "execution_count": 37,
   "id": "292a8c4e",
   "metadata": {
    "scrolled": true
   },
   "outputs": [
    {
     "data": {
      "text/html": [
       "<p><b>GroupedDataFrame with 2 groups based on key: city</b></p><p><i>First Group (6 rows): city = &quot;Olecko&quot;</i></p><div class=\"data-frame\"><table class=\"data-frame\"><thead><tr><th></th><th>city</th><th>date</th><th>rainfall</th></tr><tr><th></th><th title=\"String7\">String7</th><th title=\"Dates.Date\">Date</th><th title=\"Float64\">Float64</th></tr></thead><tbody><tr><th>1</th><td>Olecko</td><td>2020-11-16</td><td>2.9</td></tr><tr><th>2</th><td>Olecko</td><td>2020-11-17</td><td>4.1</td></tr><tr><th>3</th><td>Olecko</td><td>2020-11-19</td><td>4.3</td></tr><tr><th>4</th><td>Olecko</td><td>2020-11-20</td><td>2.0</td></tr><tr><th>5</th><td>Olecko</td><td>2020-11-21</td><td>0.6</td></tr><tr><th>6</th><td>Olecko</td><td>2020-11-22</td><td>1.0</td></tr></tbody></table></div><p>&vellip;</p><p><i>Last Group (4 rows): city = &quot;Ełk&quot;</i></p><div class=\"data-frame\"><table class=\"data-frame\"><thead><tr><th></th><th>city</th><th>date</th><th>rainfall</th></tr><tr><th></th><th title=\"String7\">String7</th><th title=\"Dates.Date\">Date</th><th title=\"Float64\">Float64</th></tr></thead><tbody><tr><th>1</th><td>Ełk</td><td>2020-11-16</td><td>3.9</td></tr><tr><th>2</th><td>Ełk</td><td>2020-11-19</td><td>1.2</td></tr><tr><th>3</th><td>Ełk</td><td>2020-11-20</td><td>2.0</td></tr><tr><th>4</th><td>Ełk</td><td>2020-11-22</td><td>2.0</td></tr></tbody></table></div>"
      ],
      "text/latex": [
       "GroupedDataFrame with 2 groups based on key: city\n",
       "\n",
       "First Group (6 rows): city = \"Olecko\"\n",
       "\n",
       "\\begin{tabular}{r|ccc}\n",
       "\t& city & date & rainfall\\\\\n",
       "\t\\hline\n",
       "\t& String7 & Date & Float64\\\\\n",
       "\t\\hline\n",
       "\t1 & Olecko & 2020-11-16 & 2.9 \\\\\n",
       "\t2 & Olecko & 2020-11-17 & 4.1 \\\\\n",
       "\t3 & Olecko & 2020-11-19 & 4.3 \\\\\n",
       "\t4 & Olecko & 2020-11-20 & 2.0 \\\\\n",
       "\t5 & Olecko & 2020-11-21 & 0.6 \\\\\n",
       "\t6 & Olecko & 2020-11-22 & 1.0 \\\\\n",
       "\\end{tabular}\n",
       "\n",
       "$\\dots$\n",
       "\n",
       "Last Group (4 rows): city = \"Ełk\"\n",
       "\n",
       "\\begin{tabular}{r|ccc}\n",
       "\t& city & date & rainfall\\\\\n",
       "\t\\hline\n",
       "\t& String7 & Date & Float64\\\\\n",
       "\t\\hline\n",
       "\t1 & Ełk & 2020-11-16 & 3.9 \\\\\n",
       "\t2 & Ełk & 2020-11-19 & 1.2 \\\\\n",
       "\t3 & Ełk & 2020-11-20 & 2.0 \\\\\n",
       "\t4 & Ełk & 2020-11-22 & 2.0 \\\\\n",
       "\\end{tabular}\n"
      ],
      "text/plain": [
       "GroupedDataFrame with 2 groups based on key: city\n",
       "First Group (6 rows): city = \"Olecko\"\n",
       "\u001b[1m Row \u001b[0m│\u001b[1m city    \u001b[0m\u001b[1m date       \u001b[0m\u001b[1m rainfall \u001b[0m\n",
       "\u001b[1m     \u001b[0m│\u001b[90m String7 \u001b[0m\u001b[90m Date       \u001b[0m\u001b[90m Float64  \u001b[0m\n",
       "─────┼───────────────────────────────\n",
       "   1 │ Olecko   2020-11-16       2.9\n",
       "   2 │ Olecko   2020-11-17       4.1\n",
       "   3 │ Olecko   2020-11-19       4.3\n",
       "   4 │ Olecko   2020-11-20       2.0\n",
       "   5 │ Olecko   2020-11-21       0.6\n",
       "   6 │ Olecko   2020-11-22       1.0\n",
       "⋮\n",
       "Last Group (4 rows): city = \"Ełk\"\n",
       "\u001b[1m Row \u001b[0m│\u001b[1m city    \u001b[0m\u001b[1m date       \u001b[0m\u001b[1m rainfall \u001b[0m\n",
       "\u001b[1m     \u001b[0m│\u001b[90m String7 \u001b[0m\u001b[90m Date       \u001b[0m\u001b[90m Float64  \u001b[0m\n",
       "─────┼───────────────────────────────\n",
       "   1 │ Ełk      2020-11-16       3.9\n",
       "   2 │ Ełk      2020-11-19       1.2\n",
       "   3 │ Ełk      2020-11-20       2.0\n",
       "   4 │ Ełk      2020-11-22       2.0"
      ]
     },
     "execution_count": 37,
     "metadata": {},
     "output_type": "execute_result"
    }
   ],
   "source": [
    "gdf_city = groupby(rainfall_df, \"city\")"
   ]
  },
  {
   "cell_type": "code",
   "execution_count": 38,
   "id": "e5e6f688",
   "metadata": {},
   "outputs": [
    {
     "data": {
      "text/html": [
       "<p><b>GroupedDataFrame with 10 groups based on keys: city, date</b></p><p><i>First Group (1 row): city = &quot;Olecko&quot;, date = Dates.Date(&quot;2020-11-16&quot;)</i></p><div class=\"data-frame\"><table class=\"data-frame\"><thead><tr><th></th><th>city</th><th>date</th><th>rainfall</th></tr><tr><th></th><th title=\"String7\">String7</th><th title=\"Dates.Date\">Date</th><th title=\"Float64\">Float64</th></tr></thead><tbody><tr><th>1</th><td>Olecko</td><td>2020-11-16</td><td>2.9</td></tr></tbody></table></div><p>&vellip;</p><p><i>Last Group (1 row): city = &quot;Ełk&quot;, date = Dates.Date(&quot;2020-11-22&quot;)</i></p><div class=\"data-frame\"><table class=\"data-frame\"><thead><tr><th></th><th>city</th><th>date</th><th>rainfall</th></tr><tr><th></th><th title=\"String7\">String7</th><th title=\"Dates.Date\">Date</th><th title=\"Float64\">Float64</th></tr></thead><tbody><tr><th>1</th><td>Ełk</td><td>2020-11-22</td><td>2.0</td></tr></tbody></table></div>"
      ],
      "text/latex": [
       "GroupedDataFrame with 10 groups based on keys: city, date\n",
       "\n",
       "First Group (1 row): city = \"Olecko\", date = Dates.Date(\"2020-11-16\")\n",
       "\n",
       "\\begin{tabular}{r|ccc}\n",
       "\t& city & date & rainfall\\\\\n",
       "\t\\hline\n",
       "\t& String7 & Date & Float64\\\\\n",
       "\t\\hline\n",
       "\t1 & Olecko & 2020-11-16 & 2.9 \\\\\n",
       "\\end{tabular}\n",
       "\n",
       "$\\dots$\n",
       "\n",
       "Last Group (1 row): city = \"Ełk\", date = Dates.Date(\"2020-11-22\")\n",
       "\n",
       "\\begin{tabular}{r|ccc}\n",
       "\t& city & date & rainfall\\\\\n",
       "\t\\hline\n",
       "\t& String7 & Date & Float64\\\\\n",
       "\t\\hline\n",
       "\t1 & Ełk & 2020-11-22 & 2.0 \\\\\n",
       "\\end{tabular}\n"
      ],
      "text/plain": [
       "GroupedDataFrame with 10 groups based on keys: city, date\n",
       "First Group (1 row): city = \"Olecko\", date = Dates.Date(\"2020-11-16\")\n",
       "\u001b[1m Row \u001b[0m│\u001b[1m city    \u001b[0m\u001b[1m date       \u001b[0m\u001b[1m rainfall \u001b[0m\n",
       "\u001b[1m     \u001b[0m│\u001b[90m String7 \u001b[0m\u001b[90m Date       \u001b[0m\u001b[90m Float64  \u001b[0m\n",
       "─────┼───────────────────────────────\n",
       "   1 │ Olecko   2020-11-16       2.9\n",
       "⋮\n",
       "Last Group (1 row): city = \"Ełk\", date = Dates.Date(\"2020-11-22\")\n",
       "\u001b[1m Row \u001b[0m│\u001b[1m city    \u001b[0m\u001b[1m date       \u001b[0m\u001b[1m rainfall \u001b[0m\n",
       "\u001b[1m     \u001b[0m│\u001b[90m String7 \u001b[0m\u001b[90m Date       \u001b[0m\u001b[90m Float64  \u001b[0m\n",
       "─────┼───────────────────────────────\n",
       "   1 │ Ełk      2020-11-22       2.0"
      ]
     },
     "execution_count": 38,
     "metadata": {},
     "output_type": "execute_result"
    }
   ],
   "source": [
    "gdf_city_date = groupby(rainfall_df, Not(\"rainfall\"))"
   ]
  },
  {
   "cell_type": "markdown",
   "id": "3554021e",
   "metadata": {},
   "source": [
    "### Getting group keys of a grouped data frame"
   ]
  },
  {
   "cell_type": "code",
   "execution_count": 39,
   "id": "5a93fd55",
   "metadata": {},
   "outputs": [
    {
     "data": {
      "text/plain": [
       "10-element DataFrames.GroupKeys{GroupedDataFrame{DataFrame}}:\n",
       " GroupKey: (city = \"Olecko\", date = Dates.Date(\"2020-11-16\"))\n",
       " GroupKey: (city = \"Olecko\", date = Dates.Date(\"2020-11-17\"))\n",
       " GroupKey: (city = \"Olecko\", date = Dates.Date(\"2020-11-19\"))\n",
       " GroupKey: (city = \"Olecko\", date = Dates.Date(\"2020-11-20\"))\n",
       " GroupKey: (city = \"Olecko\", date = Dates.Date(\"2020-11-21\"))\n",
       " GroupKey: (city = \"Olecko\", date = Dates.Date(\"2020-11-22\"))\n",
       " GroupKey: (city = \"Ełk\", date = Dates.Date(\"2020-11-16\"))\n",
       " GroupKey: (city = \"Ełk\", date = Dates.Date(\"2020-11-19\"))\n",
       " GroupKey: (city = \"Ełk\", date = Dates.Date(\"2020-11-20\"))\n",
       " GroupKey: (city = \"Ełk\", date = Dates.Date(\"2020-11-22\"))"
      ]
     },
     "execution_count": 39,
     "metadata": {},
     "output_type": "execute_result"
    }
   ],
   "source": [
    "keys(gdf_city_date)"
   ]
  },
  {
   "cell_type": "code",
   "execution_count": 40,
   "id": "81b2bbda",
   "metadata": {},
   "outputs": [
    {
     "data": {
      "text/plain": [
       "GroupKey: (city = \"Olecko\", date = Dates.Date(\"2020-11-16\"))"
      ]
     },
     "execution_count": 40,
     "metadata": {},
     "output_type": "execute_result"
    }
   ],
   "source": [
    "gk1 = keys(gdf_city_date)[1]"
   ]
  },
  {
   "cell_type": "code",
   "execution_count": 41,
   "id": "87fb1f59",
   "metadata": {},
   "outputs": [
    {
     "data": {
      "text/plain": [
       "(\"Olecko\", Dates.Date(\"2020-11-16\"))"
      ]
     },
     "execution_count": 41,
     "metadata": {},
     "output_type": "execute_result"
    }
   ],
   "source": [
    "g1_t = Tuple(gk1)"
   ]
  },
  {
   "cell_type": "code",
   "execution_count": 42,
   "id": "e831c316",
   "metadata": {},
   "outputs": [
    {
     "data": {
      "text/plain": [
       "(city = \"Olecko\", date = Dates.Date(\"2020-11-16\"))"
      ]
     },
     "execution_count": 42,
     "metadata": {},
     "output_type": "execute_result"
    }
   ],
   "source": [
    "g1_nt = NamedTuple(gk1)"
   ]
  },
  {
   "cell_type": "code",
   "execution_count": 43,
   "id": "2f60f6f3",
   "metadata": {},
   "outputs": [
    {
     "data": {
      "text/plain": [
       "Dict{Symbol, Any} with 2 entries:\n",
       "  :date => Date(\"2020-11-16\")\n",
       "  :city => \"Olecko\""
      ]
     },
     "execution_count": 43,
     "metadata": {},
     "output_type": "execute_result"
    }
   ],
   "source": [
    "g1_dict = Dict(gk1)"
   ]
  },
  {
   "cell_type": "markdown",
   "id": "08ddc79a",
   "metadata": {},
   "source": [
    "### Indexing grouped data frame with a single value"
   ]
  },
  {
   "cell_type": "code",
   "execution_count": 44,
   "id": "ca184787",
   "metadata": {},
   "outputs": [
    {
     "data": {
      "text/html": [
       "<div class=\"data-frame\"><p>1 rows × 3 columns</p><table class=\"data-frame\"><thead><tr><th></th><th>city</th><th>date</th><th>rainfall</th></tr><tr><th></th><th title=\"String7\">String7</th><th title=\"Dates.Date\">Date</th><th title=\"Float64\">Float64</th></tr></thead><tbody><tr><th>1</th><td>Olecko</td><td>2020-11-16</td><td>2.9</td></tr></tbody></table></div>"
      ],
      "text/latex": [
       "\\begin{tabular}{r|ccc}\n",
       "\t& city & date & rainfall\\\\\n",
       "\t\\hline\n",
       "\t& String7 & Date & Float64\\\\\n",
       "\t\\hline\n",
       "\t1 & Olecko & 2020-11-16 & 2.9 \\\\\n",
       "\\end{tabular}\n"
      ],
      "text/plain": [
       "\u001b[1m1×3 SubDataFrame\u001b[0m\n",
       "\u001b[1m Row \u001b[0m│\u001b[1m city    \u001b[0m\u001b[1m date       \u001b[0m\u001b[1m rainfall \u001b[0m\n",
       "\u001b[1m     \u001b[0m│\u001b[90m String7 \u001b[0m\u001b[90m Date       \u001b[0m\u001b[90m Float64  \u001b[0m\n",
       "─────┼───────────────────────────────\n",
       "   1 │ Olecko   2020-11-16       2.9"
      ]
     },
     "execution_count": 44,
     "metadata": {},
     "output_type": "execute_result"
    }
   ],
   "source": [
    "gdf_city_date[1]"
   ]
  },
  {
   "cell_type": "code",
   "execution_count": 45,
   "id": "52206d31",
   "metadata": {},
   "outputs": [
    {
     "data": {
      "text/html": [
       "<div class=\"data-frame\"><p>1 rows × 3 columns</p><table class=\"data-frame\"><thead><tr><th></th><th>city</th><th>date</th><th>rainfall</th></tr><tr><th></th><th title=\"String7\">String7</th><th title=\"Dates.Date\">Date</th><th title=\"Float64\">Float64</th></tr></thead><tbody><tr><th>1</th><td>Olecko</td><td>2020-11-16</td><td>2.9</td></tr></tbody></table></div>"
      ],
      "text/latex": [
       "\\begin{tabular}{r|ccc}\n",
       "\t& city & date & rainfall\\\\\n",
       "\t\\hline\n",
       "\t& String7 & Date & Float64\\\\\n",
       "\t\\hline\n",
       "\t1 & Olecko & 2020-11-16 & 2.9 \\\\\n",
       "\\end{tabular}\n"
      ],
      "text/plain": [
       "\u001b[1m1×3 SubDataFrame\u001b[0m\n",
       "\u001b[1m Row \u001b[0m│\u001b[1m city    \u001b[0m\u001b[1m date       \u001b[0m\u001b[1m rainfall \u001b[0m\n",
       "\u001b[1m     \u001b[0m│\u001b[90m String7 \u001b[0m\u001b[90m Date       \u001b[0m\u001b[90m Float64  \u001b[0m\n",
       "─────┼───────────────────────────────\n",
       "   1 │ Olecko   2020-11-16       2.9"
      ]
     },
     "execution_count": 45,
     "metadata": {},
     "output_type": "execute_result"
    }
   ],
   "source": [
    "gdf_city_date[gk1]"
   ]
  },
  {
   "cell_type": "code",
   "execution_count": 46,
   "id": "5d67f0ee",
   "metadata": {},
   "outputs": [
    {
     "data": {
      "text/html": [
       "<div class=\"data-frame\"><p>1 rows × 3 columns</p><table class=\"data-frame\"><thead><tr><th></th><th>city</th><th>date</th><th>rainfall</th></tr><tr><th></th><th title=\"String7\">String7</th><th title=\"Dates.Date\">Date</th><th title=\"Float64\">Float64</th></tr></thead><tbody><tr><th>1</th><td>Olecko</td><td>2020-11-16</td><td>2.9</td></tr></tbody></table></div>"
      ],
      "text/latex": [
       "\\begin{tabular}{r|ccc}\n",
       "\t& city & date & rainfall\\\\\n",
       "\t\\hline\n",
       "\t& String7 & Date & Float64\\\\\n",
       "\t\\hline\n",
       "\t1 & Olecko & 2020-11-16 & 2.9 \\\\\n",
       "\\end{tabular}\n"
      ],
      "text/plain": [
       "\u001b[1m1×3 SubDataFrame\u001b[0m\n",
       "\u001b[1m Row \u001b[0m│\u001b[1m city    \u001b[0m\u001b[1m date       \u001b[0m\u001b[1m rainfall \u001b[0m\n",
       "\u001b[1m     \u001b[0m│\u001b[90m String7 \u001b[0m\u001b[90m Date       \u001b[0m\u001b[90m Float64  \u001b[0m\n",
       "─────┼───────────────────────────────\n",
       "   1 │ Olecko   2020-11-16       2.9"
      ]
     },
     "execution_count": 46,
     "metadata": {},
     "output_type": "execute_result"
    }
   ],
   "source": [
    "gdf_city_date[g1_t]"
   ]
  },
  {
   "cell_type": "code",
   "execution_count": 47,
   "id": "fe2a6129",
   "metadata": {},
   "outputs": [
    {
     "data": {
      "text/html": [
       "<div class=\"data-frame\"><p>1 rows × 3 columns</p><table class=\"data-frame\"><thead><tr><th></th><th>city</th><th>date</th><th>rainfall</th></tr><tr><th></th><th title=\"String7\">String7</th><th title=\"Dates.Date\">Date</th><th title=\"Float64\">Float64</th></tr></thead><tbody><tr><th>1</th><td>Olecko</td><td>2020-11-16</td><td>2.9</td></tr></tbody></table></div>"
      ],
      "text/latex": [
       "\\begin{tabular}{r|ccc}\n",
       "\t& city & date & rainfall\\\\\n",
       "\t\\hline\n",
       "\t& String7 & Date & Float64\\\\\n",
       "\t\\hline\n",
       "\t1 & Olecko & 2020-11-16 & 2.9 \\\\\n",
       "\\end{tabular}\n"
      ],
      "text/plain": [
       "\u001b[1m1×3 SubDataFrame\u001b[0m\n",
       "\u001b[1m Row \u001b[0m│\u001b[1m city    \u001b[0m\u001b[1m date       \u001b[0m\u001b[1m rainfall \u001b[0m\n",
       "\u001b[1m     \u001b[0m│\u001b[90m String7 \u001b[0m\u001b[90m Date       \u001b[0m\u001b[90m Float64  \u001b[0m\n",
       "─────┼───────────────────────────────\n",
       "   1 │ Olecko   2020-11-16       2.9"
      ]
     },
     "execution_count": 47,
     "metadata": {},
     "output_type": "execute_result"
    }
   ],
   "source": [
    "gdf_city_date[g1_nt]"
   ]
  },
  {
   "cell_type": "code",
   "execution_count": 48,
   "id": "710e8ba9",
   "metadata": {},
   "outputs": [
    {
     "data": {
      "text/html": [
       "<div class=\"data-frame\"><p>1 rows × 3 columns</p><table class=\"data-frame\"><thead><tr><th></th><th>city</th><th>date</th><th>rainfall</th></tr><tr><th></th><th title=\"String7\">String7</th><th title=\"Dates.Date\">Date</th><th title=\"Float64\">Float64</th></tr></thead><tbody><tr><th>1</th><td>Olecko</td><td>2020-11-16</td><td>2.9</td></tr></tbody></table></div>"
      ],
      "text/latex": [
       "\\begin{tabular}{r|ccc}\n",
       "\t& city & date & rainfall\\\\\n",
       "\t\\hline\n",
       "\t& String7 & Date & Float64\\\\\n",
       "\t\\hline\n",
       "\t1 & Olecko & 2020-11-16 & 2.9 \\\\\n",
       "\\end{tabular}\n"
      ],
      "text/plain": [
       "\u001b[1m1×3 SubDataFrame\u001b[0m\n",
       "\u001b[1m Row \u001b[0m│\u001b[1m city    \u001b[0m\u001b[1m date       \u001b[0m\u001b[1m rainfall \u001b[0m\n",
       "\u001b[1m     \u001b[0m│\u001b[90m String7 \u001b[0m\u001b[90m Date       \u001b[0m\u001b[90m Float64  \u001b[0m\n",
       "─────┼───────────────────────────────\n",
       "   1 │ Olecko   2020-11-16       2.9"
      ]
     },
     "execution_count": 48,
     "metadata": {},
     "output_type": "execute_result"
    }
   ],
   "source": [
    "gdf_city_date[g1_dict]"
   ]
  },
  {
   "cell_type": "code",
   "execution_count": 49,
   "id": "96f31400",
   "metadata": {},
   "outputs": [
    {
     "data": {
      "text/html": [
       "<div class=\"data-frame\"><p>6 rows × 3 columns</p><table class=\"data-frame\"><thead><tr><th></th><th>city</th><th>date</th><th>rainfall</th></tr><tr><th></th><th title=\"String7\">String7</th><th title=\"Dates.Date\">Date</th><th title=\"Float64\">Float64</th></tr></thead><tbody><tr><th>1</th><td>Olecko</td><td>2020-11-16</td><td>2.9</td></tr><tr><th>2</th><td>Olecko</td><td>2020-11-17</td><td>4.1</td></tr><tr><th>3</th><td>Olecko</td><td>2020-11-19</td><td>4.3</td></tr><tr><th>4</th><td>Olecko</td><td>2020-11-20</td><td>2.0</td></tr><tr><th>5</th><td>Olecko</td><td>2020-11-21</td><td>0.6</td></tr><tr><th>6</th><td>Olecko</td><td>2020-11-22</td><td>1.0</td></tr></tbody></table></div>"
      ],
      "text/latex": [
       "\\begin{tabular}{r|ccc}\n",
       "\t& city & date & rainfall\\\\\n",
       "\t\\hline\n",
       "\t& String7 & Date & Float64\\\\\n",
       "\t\\hline\n",
       "\t1 & Olecko & 2020-11-16 & 2.9 \\\\\n",
       "\t2 & Olecko & 2020-11-17 & 4.1 \\\\\n",
       "\t3 & Olecko & 2020-11-19 & 4.3 \\\\\n",
       "\t4 & Olecko & 2020-11-20 & 2.0 \\\\\n",
       "\t5 & Olecko & 2020-11-21 & 0.6 \\\\\n",
       "\t6 & Olecko & 2020-11-22 & 1.0 \\\\\n",
       "\\end{tabular}\n"
      ],
      "text/plain": [
       "\u001b[1m6×3 SubDataFrame\u001b[0m\n",
       "\u001b[1m Row \u001b[0m│\u001b[1m city    \u001b[0m\u001b[1m date       \u001b[0m\u001b[1m rainfall \u001b[0m\n",
       "\u001b[1m     \u001b[0m│\u001b[90m String7 \u001b[0m\u001b[90m Date       \u001b[0m\u001b[90m Float64  \u001b[0m\n",
       "─────┼───────────────────────────────\n",
       "   1 │ Olecko   2020-11-16       2.9\n",
       "   2 │ Olecko   2020-11-17       4.1\n",
       "   3 │ Olecko   2020-11-19       4.3\n",
       "   4 │ Olecko   2020-11-20       2.0\n",
       "   5 │ Olecko   2020-11-21       0.6\n",
       "   6 │ Olecko   2020-11-22       1.0"
      ]
     },
     "execution_count": 49,
     "metadata": {},
     "output_type": "execute_result"
    }
   ],
   "source": [
    "gdf_city[(\"Olecko\",)]"
   ]
  },
  {
   "cell_type": "code",
   "execution_count": 50,
   "id": "e578248b",
   "metadata": {},
   "outputs": [
    {
     "data": {
      "text/html": [
       "<div class=\"data-frame\"><p>6 rows × 3 columns</p><table class=\"data-frame\"><thead><tr><th></th><th>city</th><th>date</th><th>rainfall</th></tr><tr><th></th><th title=\"String7\">String7</th><th title=\"Dates.Date\">Date</th><th title=\"Float64\">Float64</th></tr></thead><tbody><tr><th>1</th><td>Olecko</td><td>2020-11-16</td><td>2.9</td></tr><tr><th>2</th><td>Olecko</td><td>2020-11-17</td><td>4.1</td></tr><tr><th>3</th><td>Olecko</td><td>2020-11-19</td><td>4.3</td></tr><tr><th>4</th><td>Olecko</td><td>2020-11-20</td><td>2.0</td></tr><tr><th>5</th><td>Olecko</td><td>2020-11-21</td><td>0.6</td></tr><tr><th>6</th><td>Olecko</td><td>2020-11-22</td><td>1.0</td></tr></tbody></table></div>"
      ],
      "text/latex": [
       "\\begin{tabular}{r|ccc}\n",
       "\t& city & date & rainfall\\\\\n",
       "\t\\hline\n",
       "\t& String7 & Date & Float64\\\\\n",
       "\t\\hline\n",
       "\t1 & Olecko & 2020-11-16 & 2.9 \\\\\n",
       "\t2 & Olecko & 2020-11-17 & 4.1 \\\\\n",
       "\t3 & Olecko & 2020-11-19 & 4.3 \\\\\n",
       "\t4 & Olecko & 2020-11-20 & 2.0 \\\\\n",
       "\t5 & Olecko & 2020-11-21 & 0.6 \\\\\n",
       "\t6 & Olecko & 2020-11-22 & 1.0 \\\\\n",
       "\\end{tabular}\n"
      ],
      "text/plain": [
       "\u001b[1m6×3 SubDataFrame\u001b[0m\n",
       "\u001b[1m Row \u001b[0m│\u001b[1m city    \u001b[0m\u001b[1m date       \u001b[0m\u001b[1m rainfall \u001b[0m\n",
       "\u001b[1m     \u001b[0m│\u001b[90m String7 \u001b[0m\u001b[90m Date       \u001b[0m\u001b[90m Float64  \u001b[0m\n",
       "─────┼───────────────────────────────\n",
       "   1 │ Olecko   2020-11-16       2.9\n",
       "   2 │ Olecko   2020-11-17       4.1\n",
       "   3 │ Olecko   2020-11-19       4.3\n",
       "   4 │ Olecko   2020-11-20       2.0\n",
       "   5 │ Olecko   2020-11-21       0.6\n",
       "   6 │ Olecko   2020-11-22       1.0"
      ]
     },
     "execution_count": 50,
     "metadata": {},
     "output_type": "execute_result"
    }
   ],
   "source": [
    "gdf_city[(city=\"Olecko\",)]"
   ]
  },
  {
   "cell_type": "markdown",
   "id": "479184da",
   "metadata": {},
   "source": [
    "### Comparison of performance of indexing methods\n",
    "\n",
    "The presented tests were run on a machine having 32 GB of RAM. If you have less RAM and would like to reproduce it please decrease the number of rows in the bench_df data frame to, for example, 10^7."
   ]
  },
  {
   "cell_type": "code",
   "execution_count": 51,
   "id": "ec2155d1",
   "metadata": {},
   "outputs": [
    {
     "name": "stdout",
     "output_type": "stream",
     "text": [
      "  276.309 ms (87 allocations: 858.31 MiB)\n"
     ]
    }
   ],
   "source": [
    "using BenchmarkTools\n",
    "bench_df = DataFrame(id=1:10^8);\n",
    "bench_gdf = groupby(bench_df, :id);\n",
    "@btime groupby($bench_df, :id);"
   ]
  },
  {
   "cell_type": "code",
   "execution_count": 52,
   "id": "c95eca01",
   "metadata": {},
   "outputs": [
    {
     "name": "stdout",
     "output_type": "stream",
     "text": [
      "  286.207 ns (7 allocations: 176 bytes)\n"
     ]
    }
   ],
   "source": [
    "bench_i = 1_000_000;\n",
    "bench_gk = keys(bench_gdf)[bench_i];\n",
    "bench_t = Tuple(bench_gk);\n",
    "bench_nt = NamedTuple(bench_gk);\n",
    "bench_dict = Dict(bench_gk);\n",
    "@btime $bench_gdf[$bench_i];"
   ]
  },
  {
   "cell_type": "code",
   "execution_count": 53,
   "id": "97886973",
   "metadata": {},
   "outputs": [
    {
     "name": "stdout",
     "output_type": "stream",
     "text": [
      "  342.202 ns (9 allocations: 208 bytes)\n"
     ]
    }
   ],
   "source": [
    "@btime $bench_gdf[$bench_gk];"
   ]
  },
  {
   "cell_type": "code",
   "execution_count": 54,
   "id": "76f0d1b4",
   "metadata": {},
   "outputs": [
    {
     "name": "stdout",
     "output_type": "stream",
     "text": [
      "  458.883 ns (10 allocations: 224 bytes)\n"
     ]
    }
   ],
   "source": [
    "@btime $bench_gdf[$bench_t];"
   ]
  },
  {
   "cell_type": "code",
   "execution_count": 55,
   "id": "758b6de8",
   "metadata": {},
   "outputs": [
    {
     "name": "stdout",
     "output_type": "stream",
     "text": [
      "  533.333 ns (12 allocations: 256 bytes)\n"
     ]
    }
   ],
   "source": [
    "@btime $bench_gdf[$bench_nt];"
   ]
  },
  {
   "cell_type": "code",
   "execution_count": 56,
   "id": "d16d180b",
   "metadata": {},
   "outputs": [
    {
     "name": "stdout",
     "output_type": "stream",
     "text": [
      "  633.929 ns (15 allocations: 304 bytes)\n"
     ]
    }
   ],
   "source": [
    "@btime $bench_gdf[$bench_dict];"
   ]
  },
  {
   "cell_type": "markdown",
   "id": "7a7d54ab",
   "metadata": {},
   "source": [
    "### Indexing grouped data frame with multiple values"
   ]
  },
  {
   "cell_type": "code",
   "execution_count": 57,
   "id": "9f21d7dc",
   "metadata": {},
   "outputs": [
    {
     "data": {
      "text/html": [
       "<p><b>GroupedDataFrame with 2 groups based on key: city</b></p><p><i>First Group (4 rows): city = &quot;Ełk&quot;</i></p><div class=\"data-frame\"><table class=\"data-frame\"><thead><tr><th></th><th>city</th><th>date</th><th>rainfall</th></tr><tr><th></th><th title=\"String7\">String7</th><th title=\"Dates.Date\">Date</th><th title=\"Float64\">Float64</th></tr></thead><tbody><tr><th>1</th><td>Ełk</td><td>2020-11-16</td><td>3.9</td></tr><tr><th>2</th><td>Ełk</td><td>2020-11-19</td><td>1.2</td></tr><tr><th>3</th><td>Ełk</td><td>2020-11-20</td><td>2.0</td></tr><tr><th>4</th><td>Ełk</td><td>2020-11-22</td><td>2.0</td></tr></tbody></table></div><p>&vellip;</p><p><i>Last Group (6 rows): city = &quot;Olecko&quot;</i></p><div class=\"data-frame\"><table class=\"data-frame\"><thead><tr><th></th><th>city</th><th>date</th><th>rainfall</th></tr><tr><th></th><th title=\"String7\">String7</th><th title=\"Dates.Date\">Date</th><th title=\"Float64\">Float64</th></tr></thead><tbody><tr><th>1</th><td>Olecko</td><td>2020-11-16</td><td>2.9</td></tr><tr><th>2</th><td>Olecko</td><td>2020-11-17</td><td>4.1</td></tr><tr><th>3</th><td>Olecko</td><td>2020-11-19</td><td>4.3</td></tr><tr><th>4</th><td>Olecko</td><td>2020-11-20</td><td>2.0</td></tr><tr><th>5</th><td>Olecko</td><td>2020-11-21</td><td>0.6</td></tr><tr><th>6</th><td>Olecko</td><td>2020-11-22</td><td>1.0</td></tr></tbody></table></div>"
      ],
      "text/latex": [
       "GroupedDataFrame with 2 groups based on key: city\n",
       "\n",
       "First Group (4 rows): city = \"Ełk\"\n",
       "\n",
       "\\begin{tabular}{r|ccc}\n",
       "\t& city & date & rainfall\\\\\n",
       "\t\\hline\n",
       "\t& String7 & Date & Float64\\\\\n",
       "\t\\hline\n",
       "\t1 & Ełk & 2020-11-16 & 3.9 \\\\\n",
       "\t2 & Ełk & 2020-11-19 & 1.2 \\\\\n",
       "\t3 & Ełk & 2020-11-20 & 2.0 \\\\\n",
       "\t4 & Ełk & 2020-11-22 & 2.0 \\\\\n",
       "\\end{tabular}\n",
       "\n",
       "$\\dots$\n",
       "\n",
       "Last Group (6 rows): city = \"Olecko\"\n",
       "\n",
       "\\begin{tabular}{r|ccc}\n",
       "\t& city & date & rainfall\\\\\n",
       "\t\\hline\n",
       "\t& String7 & Date & Float64\\\\\n",
       "\t\\hline\n",
       "\t1 & Olecko & 2020-11-16 & 2.9 \\\\\n",
       "\t2 & Olecko & 2020-11-17 & 4.1 \\\\\n",
       "\t3 & Olecko & 2020-11-19 & 4.3 \\\\\n",
       "\t4 & Olecko & 2020-11-20 & 2.0 \\\\\n",
       "\t5 & Olecko & 2020-11-21 & 0.6 \\\\\n",
       "\t6 & Olecko & 2020-11-22 & 1.0 \\\\\n",
       "\\end{tabular}\n"
      ],
      "text/plain": [
       "GroupedDataFrame with 2 groups based on key: city\n",
       "First Group (4 rows): city = \"Ełk\"\n",
       "\u001b[1m Row \u001b[0m│\u001b[1m city    \u001b[0m\u001b[1m date       \u001b[0m\u001b[1m rainfall \u001b[0m\n",
       "\u001b[1m     \u001b[0m│\u001b[90m String7 \u001b[0m\u001b[90m Date       \u001b[0m\u001b[90m Float64  \u001b[0m\n",
       "─────┼───────────────────────────────\n",
       "   1 │ Ełk      2020-11-16       3.9\n",
       "   2 │ Ełk      2020-11-19       1.2\n",
       "   3 │ Ełk      2020-11-20       2.0\n",
       "   4 │ Ełk      2020-11-22       2.0\n",
       "⋮\n",
       "Last Group (6 rows): city = \"Olecko\"\n",
       "\u001b[1m Row \u001b[0m│\u001b[1m city    \u001b[0m\u001b[1m date       \u001b[0m\u001b[1m rainfall \u001b[0m\n",
       "\u001b[1m     \u001b[0m│\u001b[90m String7 \u001b[0m\u001b[90m Date       \u001b[0m\u001b[90m Float64  \u001b[0m\n",
       "─────┼───────────────────────────────\n",
       "   1 │ Olecko   2020-11-16       2.9\n",
       "   2 │ Olecko   2020-11-17       4.1\n",
       "   3 │ Olecko   2020-11-19       4.3\n",
       "   4 │ Olecko   2020-11-20       2.0\n",
       "   5 │ Olecko   2020-11-21       0.6\n",
       "   6 │ Olecko   2020-11-22       1.0"
      ]
     },
     "execution_count": 57,
     "metadata": {},
     "output_type": "execute_result"
    }
   ],
   "source": [
    "gdf_city[[2, 1]]"
   ]
  },
  {
   "cell_type": "code",
   "execution_count": 58,
   "id": "2f0862f3",
   "metadata": {},
   "outputs": [
    {
     "data": {
      "text/html": [
       "<p><b>GroupedDataFrame with 1 group based on key: city</b></p><p><i>First Group (6 rows): city = &quot;Olecko&quot;</i></p><div class=\"data-frame\"><table class=\"data-frame\"><thead><tr><th></th><th>city</th><th>date</th><th>rainfall</th></tr><tr><th></th><th title=\"String7\">String7</th><th title=\"Dates.Date\">Date</th><th title=\"Float64\">Float64</th></tr></thead><tbody><tr><th>1</th><td>Olecko</td><td>2020-11-16</td><td>2.9</td></tr><tr><th>2</th><td>Olecko</td><td>2020-11-17</td><td>4.1</td></tr><tr><th>3</th><td>Olecko</td><td>2020-11-19</td><td>4.3</td></tr><tr><th>4</th><td>Olecko</td><td>2020-11-20</td><td>2.0</td></tr><tr><th>5</th><td>Olecko</td><td>2020-11-21</td><td>0.6</td></tr><tr><th>6</th><td>Olecko</td><td>2020-11-22</td><td>1.0</td></tr></tbody></table></div>"
      ],
      "text/latex": [
       "GroupedDataFrame with 1 group based on key: city\n",
       "\n",
       "First Group (6 rows): city = \"Olecko\"\n",
       "\n",
       "\\begin{tabular}{r|ccc}\n",
       "\t& city & date & rainfall\\\\\n",
       "\t\\hline\n",
       "\t& String7 & Date & Float64\\\\\n",
       "\t\\hline\n",
       "\t1 & Olecko & 2020-11-16 & 2.9 \\\\\n",
       "\t2 & Olecko & 2020-11-17 & 4.1 \\\\\n",
       "\t3 & Olecko & 2020-11-19 & 4.3 \\\\\n",
       "\t4 & Olecko & 2020-11-20 & 2.0 \\\\\n",
       "\t5 & Olecko & 2020-11-21 & 0.6 \\\\\n",
       "\t6 & Olecko & 2020-11-22 & 1.0 \\\\\n",
       "\\end{tabular}\n"
      ],
      "text/plain": [
       "GroupedDataFrame with 1 group based on key: city\n",
       "First Group (6 rows): city = \"Olecko\"\n",
       "\u001b[1m Row \u001b[0m│\u001b[1m city    \u001b[0m\u001b[1m date       \u001b[0m\u001b[1m rainfall \u001b[0m\n",
       "\u001b[1m     \u001b[0m│\u001b[90m String7 \u001b[0m\u001b[90m Date       \u001b[0m\u001b[90m Float64  \u001b[0m\n",
       "─────┼───────────────────────────────\n",
       "   1 │ Olecko   2020-11-16       2.9\n",
       "   2 │ Olecko   2020-11-17       4.1\n",
       "   3 │ Olecko   2020-11-19       4.3\n",
       "   4 │ Olecko   2020-11-20       2.0\n",
       "   5 │ Olecko   2020-11-21       0.6\n",
       "   6 │ Olecko   2020-11-22       1.0"
      ]
     },
     "execution_count": 58,
     "metadata": {},
     "output_type": "execute_result"
    }
   ],
   "source": [
    "gdf_city[[1]]"
   ]
  },
  {
   "cell_type": "markdown",
   "id": "cfd04c8f",
   "metadata": {},
   "source": [
    "### Iterating grouped data frame"
   ]
  },
  {
   "cell_type": "code",
   "execution_count": 59,
   "id": "634dd611",
   "metadata": {},
   "outputs": [
    {
     "data": {
      "text/plain": [
       "2-element Vector{Int64}:\n",
       " 6\n",
       " 4"
      ]
     },
     "execution_count": 59,
     "metadata": {},
     "output_type": "execute_result"
    }
   ],
   "source": [
    "[nrow(df) for df in gdf_city]"
   ]
  },
  {
   "cell_type": "code",
   "execution_count": 60,
   "id": "96c022c7",
   "metadata": {},
   "outputs": [
    {
     "name": "stdout",
     "output_type": "stream",
     "text": [
      "GroupKey: (city = \"Olecko\",) => \u001b[1m6×3 SubDataFrame\u001b[0m\n",
      "\u001b[1m Row \u001b[0m│\u001b[1m city    \u001b[0m\u001b[1m date       \u001b[0m\u001b[1m rainfall \u001b[0m\n",
      "\u001b[1m     \u001b[0m│\u001b[90m String7 \u001b[0m\u001b[90m Date       \u001b[0m\u001b[90m Float64  \u001b[0m\n",
      "─────┼───────────────────────────────\n",
      "   1 │ Olecko   2020-11-16       2.9\n",
      "   2 │ Olecko   2020-11-17       4.1\n",
      "   3 │ Olecko   2020-11-19       4.3\n",
      "   4 │ Olecko   2020-11-20       2.0\n",
      "   5 │ Olecko   2020-11-21       0.6\n",
      "   6 │ Olecko   2020-11-22       1.0\n",
      "GroupKey: (city = \"Ełk\",) => \u001b[1m4×3 SubDataFrame\u001b[0m\n",
      "\u001b[1m Row \u001b[0m│\u001b[1m city    \u001b[0m\u001b[1m date       \u001b[0m\u001b[1m rainfall \u001b[0m\n",
      "\u001b[1m     \u001b[0m│\u001b[90m String7 \u001b[0m\u001b[90m Date       \u001b[0m\u001b[90m Float64  \u001b[0m\n",
      "─────┼───────────────────────────────\n",
      "   1 │ Ełk      2020-11-16       3.9\n",
      "   2 │ Ełk      2020-11-19       1.2\n",
      "   3 │ Ełk      2020-11-20       2.0\n",
      "   4 │ Ełk      2020-11-22       2.0\n"
     ]
    }
   ],
   "source": [
    "for p in pairs(gdf_city)\n",
    "    println(p)\n",
    "end"
   ]
  },
  {
   "cell_type": "code",
   "execution_count": 61,
   "id": "7bf20b8d",
   "metadata": {},
   "outputs": [
    {
     "data": {
      "text/plain": [
       "Dict{String7, Int64} with 2 entries:\n",
       "  \"Ełk\"    => 4\n",
       "  \"Olecko\" => 6"
      ]
     },
     "execution_count": 61,
     "metadata": {},
     "output_type": "execute_result"
    }
   ],
   "source": [
    "Dict(key.city => nrow(df) for (key, df) in pairs(gdf_city))"
   ]
  },
  {
   "cell_type": "code",
   "execution_count": 62,
   "id": "72afa763",
   "metadata": {},
   "outputs": [
    {
     "data": {
      "text/html": [
       "<div class=\"data-frame\"><p>2 rows × 2 columns</p><table class=\"data-frame\"><thead><tr><th></th><th>city</th><th>nrow</th></tr><tr><th></th><th title=\"String7\">String7</th><th title=\"Int64\">Int64</th></tr></thead><tbody><tr><th>1</th><td>Olecko</td><td>6</td></tr><tr><th>2</th><td>Ełk</td><td>4</td></tr></tbody></table></div>"
      ],
      "text/latex": [
       "\\begin{tabular}{r|cc}\n",
       "\t& city & nrow\\\\\n",
       "\t\\hline\n",
       "\t& String7 & Int64\\\\\n",
       "\t\\hline\n",
       "\t1 & Olecko & 6 \\\\\n",
       "\t2 & Ełk & 4 \\\\\n",
       "\\end{tabular}\n"
      ],
      "text/plain": [
       "\u001b[1m2×2 DataFrame\u001b[0m\n",
       "\u001b[1m Row \u001b[0m│\u001b[1m city    \u001b[0m\u001b[1m nrow  \u001b[0m\n",
       "\u001b[1m     \u001b[0m│\u001b[90m String7 \u001b[0m\u001b[90m Int64 \u001b[0m\n",
       "─────┼────────────────\n",
       "   1 │ Olecko       6\n",
       "   2 │ Ełk          4"
      ]
     },
     "execution_count": 62,
     "metadata": {},
     "output_type": "execute_result"
    }
   ],
   "source": [
    "combine(gdf_city, nrow)"
   ]
  }
 ],
 "metadata": {
  "kernelspec": {
   "display_name": "Julia 1.7.3",
   "language": "julia",
   "name": "julia-1.7"
  },
  "language_info": {
   "file_extension": ".jl",
   "mimetype": "application/julia",
   "name": "julia",
   "version": "1.7.3"
  }
 },
 "nbformat": 4,
 "nbformat_minor": 5
}
