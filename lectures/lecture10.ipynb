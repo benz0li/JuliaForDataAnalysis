{
 "cells": [
  {
   "cell_type": "markdown",
   "id": "90b533b6",
   "metadata": {},
   "source": [
    "# Julia for Data Analysis\n",
    "\n",
    "## Bogumił Kamiński"
   ]
  },
  {
   "cell_type": "markdown",
   "id": "d598b345",
   "metadata": {
    "pycharm": {
     "name": "#%% md\n"
    }
   },
   "source": [
    "# Lecture 10. Creating data frame objects"
   ]
  },
  {
   "cell_type": "markdown",
   "id": "a6198cb0",
   "metadata": {
    "pycharm": {
     "name": "#%% md\n"
    }
   },
   "source": [
    "## Review of most important ways of creating a data frame"
   ]
  },
  {
   "cell_type": "code",
   "execution_count": null,
   "id": "b94d80ed",
   "metadata": {},
   "outputs": [],
   "source": [
    "using Pkg\n",
    "Pkg.activate(Base.current_project())"
   ]
  },
  {
   "cell_type": "code",
   "execution_count": 1,
   "id": "ab826492",
   "metadata": {
    "pycharm": {
     "name": "#%% raw\n"
    }
   },
   "outputs": [],
   "source": [
    "aq = [10.0  8.04 10.0  9.14 10.0  7.46  8.0  6.58\n",
    "       8.0  6.95  8.0  8.14  8.0  6.77  8.0  5.76\n",
    "      13.0  7.58 13.0  8.74 13.0 12.74  8.0  7.71\n",
    "       9.0  8.81  9.0  8.77  9.0  7.11  8.0  8.84\n",
    "      11.0  8.33 11.0  9.26 11.0  7.81  8.0  8.47\n",
    "      14.0  9.96 14.0  8.1  14.0  8.84  8.0  7.04\n",
    "       6.0  7.24  6.0  6.13  6.0  6.08  8.0  5.25\n",
    "       4.0  4.26  4.0  3.1   4.0  5.39 19.0 12.50\n",
    "      12.0 10.84 12.0  9.13 12.0  8.15  8.0  5.56\n",
    "       7.0  4.82  7.0  7.26  7.0  6.42  8.0  7.91\n",
    "       5.0  5.68  5.0  4.74  5.0  5.73  8.0  6.89];"
   ]
  },
  {
   "cell_type": "code",
   "execution_count": 2,
   "id": "3360dcd4",
   "metadata": {
    "pycharm": {
     "name": "#%% raw\n"
    }
   },
   "outputs": [],
   "source": [
    "using DataFrames"
   ]
  },
  {
   "cell_type": "markdown",
   "id": "055981c3",
   "metadata": {
    "pycharm": {
     "name": "#%% md\n"
    }
   },
   "source": [
    "### Creating a data frame from a matrix"
   ]
  },
  {
   "cell_type": "code",
   "execution_count": 3,
   "id": "c8de8cdd",
   "metadata": {},
   "outputs": [
    {
     "data": {
      "text/html": [
       "<div class=\"data-frame\"><p>11 rows × 8 columns</p><table class=\"data-frame\"><thead><tr><th></th><th>x1</th><th>y1</th><th>x2</th><th>y2</th><th>x3</th><th>y3</th><th>x4</th><th>y4</th></tr><tr><th></th><th title=\"Float64\">Float64</th><th title=\"Float64\">Float64</th><th title=\"Float64\">Float64</th><th title=\"Float64\">Float64</th><th title=\"Float64\">Float64</th><th title=\"Float64\">Float64</th><th title=\"Float64\">Float64</th><th title=\"Float64\">Float64</th></tr></thead><tbody><tr><th>1</th><td>10.0</td><td>8.04</td><td>10.0</td><td>9.14</td><td>10.0</td><td>7.46</td><td>8.0</td><td>6.58</td></tr><tr><th>2</th><td>8.0</td><td>6.95</td><td>8.0</td><td>8.14</td><td>8.0</td><td>6.77</td><td>8.0</td><td>5.76</td></tr><tr><th>3</th><td>13.0</td><td>7.58</td><td>13.0</td><td>8.74</td><td>13.0</td><td>12.74</td><td>8.0</td><td>7.71</td></tr><tr><th>4</th><td>9.0</td><td>8.81</td><td>9.0</td><td>8.77</td><td>9.0</td><td>7.11</td><td>8.0</td><td>8.84</td></tr><tr><th>5</th><td>11.0</td><td>8.33</td><td>11.0</td><td>9.26</td><td>11.0</td><td>7.81</td><td>8.0</td><td>8.47</td></tr><tr><th>6</th><td>14.0</td><td>9.96</td><td>14.0</td><td>8.1</td><td>14.0</td><td>8.84</td><td>8.0</td><td>7.04</td></tr><tr><th>7</th><td>6.0</td><td>7.24</td><td>6.0</td><td>6.13</td><td>6.0</td><td>6.08</td><td>8.0</td><td>5.25</td></tr><tr><th>8</th><td>4.0</td><td>4.26</td><td>4.0</td><td>3.1</td><td>4.0</td><td>5.39</td><td>19.0</td><td>12.5</td></tr><tr><th>9</th><td>12.0</td><td>10.84</td><td>12.0</td><td>9.13</td><td>12.0</td><td>8.15</td><td>8.0</td><td>5.56</td></tr><tr><th>10</th><td>7.0</td><td>4.82</td><td>7.0</td><td>7.26</td><td>7.0</td><td>6.42</td><td>8.0</td><td>7.91</td></tr><tr><th>11</th><td>5.0</td><td>5.68</td><td>5.0</td><td>4.74</td><td>5.0</td><td>5.73</td><td>8.0</td><td>6.89</td></tr></tbody></table></div>"
      ],
      "text/latex": [
       "\\begin{tabular}{r|cccccccc}\n",
       "\t& x1 & y1 & x2 & y2 & x3 & y3 & x4 & y4\\\\\n",
       "\t\\hline\n",
       "\t& Float64 & Float64 & Float64 & Float64 & Float64 & Float64 & Float64 & Float64\\\\\n",
       "\t\\hline\n",
       "\t1 & 10.0 & 8.04 & 10.0 & 9.14 & 10.0 & 7.46 & 8.0 & 6.58 \\\\\n",
       "\t2 & 8.0 & 6.95 & 8.0 & 8.14 & 8.0 & 6.77 & 8.0 & 5.76 \\\\\n",
       "\t3 & 13.0 & 7.58 & 13.0 & 8.74 & 13.0 & 12.74 & 8.0 & 7.71 \\\\\n",
       "\t4 & 9.0 & 8.81 & 9.0 & 8.77 & 9.0 & 7.11 & 8.0 & 8.84 \\\\\n",
       "\t5 & 11.0 & 8.33 & 11.0 & 9.26 & 11.0 & 7.81 & 8.0 & 8.47 \\\\\n",
       "\t6 & 14.0 & 9.96 & 14.0 & 8.1 & 14.0 & 8.84 & 8.0 & 7.04 \\\\\n",
       "\t7 & 6.0 & 7.24 & 6.0 & 6.13 & 6.0 & 6.08 & 8.0 & 5.25 \\\\\n",
       "\t8 & 4.0 & 4.26 & 4.0 & 3.1 & 4.0 & 5.39 & 19.0 & 12.5 \\\\\n",
       "\t9 & 12.0 & 10.84 & 12.0 & 9.13 & 12.0 & 8.15 & 8.0 & 5.56 \\\\\n",
       "\t10 & 7.0 & 4.82 & 7.0 & 7.26 & 7.0 & 6.42 & 8.0 & 7.91 \\\\\n",
       "\t11 & 5.0 & 5.68 & 5.0 & 4.74 & 5.0 & 5.73 & 8.0 & 6.89 \\\\\n",
       "\\end{tabular}\n"
      ],
      "text/plain": [
       "\u001b[1m11×8 DataFrame\u001b[0m\n",
       "\u001b[1m Row \u001b[0m│\u001b[1m x1      \u001b[0m\u001b[1m y1      \u001b[0m\u001b[1m x2      \u001b[0m\u001b[1m y2      \u001b[0m\u001b[1m x3      \u001b[0m\u001b[1m y3      \u001b[0m\u001b[1m x4      \u001b[0m\u001b[1m y4      \u001b[0m\n",
       "\u001b[1m     \u001b[0m│\u001b[90m Float64 \u001b[0m\u001b[90m Float64 \u001b[0m\u001b[90m Float64 \u001b[0m\u001b[90m Float64 \u001b[0m\u001b[90m Float64 \u001b[0m\u001b[90m Float64 \u001b[0m\u001b[90m Float64 \u001b[0m\u001b[90m Float64 \u001b[0m\n",
       "─────┼────────────────────────────────────────────────────────────────────────\n",
       "   1 │    10.0     8.04     10.0     9.14     10.0     7.46      8.0     6.58\n",
       "   2 │     8.0     6.95      8.0     8.14      8.0     6.77      8.0     5.76\n",
       "   3 │    13.0     7.58     13.0     8.74     13.0    12.74      8.0     7.71\n",
       "   4 │     9.0     8.81      9.0     8.77      9.0     7.11      8.0     8.84\n",
       "   5 │    11.0     8.33     11.0     9.26     11.0     7.81      8.0     8.47\n",
       "   6 │    14.0     9.96     14.0     8.1      14.0     8.84      8.0     7.04\n",
       "   7 │     6.0     7.24      6.0     6.13      6.0     6.08      8.0     5.25\n",
       "   8 │     4.0     4.26      4.0     3.1       4.0     5.39     19.0    12.5\n",
       "   9 │    12.0    10.84     12.0     9.13     12.0     8.15      8.0     5.56\n",
       "  10 │     7.0     4.82      7.0     7.26      7.0     6.42      8.0     7.91\n",
       "  11 │     5.0     5.68      5.0     4.74      5.0     5.73      8.0     6.89"
      ]
     },
     "execution_count": 3,
     "metadata": {},
     "output_type": "execute_result"
    }
   ],
   "source": [
    "aq1 = DataFrame(aq, [\"x1\", \"y1\", \"x2\", \"y2\", \"x3\", \"y3\", \"x4\", \"y4\"])"
   ]
  },
  {
   "cell_type": "code",
   "execution_count": 4,
   "id": "3875d4c9",
   "metadata": {},
   "outputs": [
    {
     "data": {
      "text/html": [
       "<div class=\"data-frame\"><p>11 rows × 8 columns</p><table class=\"data-frame\"><thead><tr><th></th><th>x1</th><th>y1</th><th>x2</th><th>y2</th><th>x3</th><th>y3</th><th>x4</th><th>y4</th></tr><tr><th></th><th title=\"Float64\">Float64</th><th title=\"Float64\">Float64</th><th title=\"Float64\">Float64</th><th title=\"Float64\">Float64</th><th title=\"Float64\">Float64</th><th title=\"Float64\">Float64</th><th title=\"Float64\">Float64</th><th title=\"Float64\">Float64</th></tr></thead><tbody><tr><th>1</th><td>10.0</td><td>8.04</td><td>10.0</td><td>9.14</td><td>10.0</td><td>7.46</td><td>8.0</td><td>6.58</td></tr><tr><th>2</th><td>8.0</td><td>6.95</td><td>8.0</td><td>8.14</td><td>8.0</td><td>6.77</td><td>8.0</td><td>5.76</td></tr><tr><th>3</th><td>13.0</td><td>7.58</td><td>13.0</td><td>8.74</td><td>13.0</td><td>12.74</td><td>8.0</td><td>7.71</td></tr><tr><th>4</th><td>9.0</td><td>8.81</td><td>9.0</td><td>8.77</td><td>9.0</td><td>7.11</td><td>8.0</td><td>8.84</td></tr><tr><th>5</th><td>11.0</td><td>8.33</td><td>11.0</td><td>9.26</td><td>11.0</td><td>7.81</td><td>8.0</td><td>8.47</td></tr><tr><th>6</th><td>14.0</td><td>9.96</td><td>14.0</td><td>8.1</td><td>14.0</td><td>8.84</td><td>8.0</td><td>7.04</td></tr><tr><th>7</th><td>6.0</td><td>7.24</td><td>6.0</td><td>6.13</td><td>6.0</td><td>6.08</td><td>8.0</td><td>5.25</td></tr><tr><th>8</th><td>4.0</td><td>4.26</td><td>4.0</td><td>3.1</td><td>4.0</td><td>5.39</td><td>19.0</td><td>12.5</td></tr><tr><th>9</th><td>12.0</td><td>10.84</td><td>12.0</td><td>9.13</td><td>12.0</td><td>8.15</td><td>8.0</td><td>5.56</td></tr><tr><th>10</th><td>7.0</td><td>4.82</td><td>7.0</td><td>7.26</td><td>7.0</td><td>6.42</td><td>8.0</td><td>7.91</td></tr><tr><th>11</th><td>5.0</td><td>5.68</td><td>5.0</td><td>4.74</td><td>5.0</td><td>5.73</td><td>8.0</td><td>6.89</td></tr></tbody></table></div>"
      ],
      "text/latex": [
       "\\begin{tabular}{r|cccccccc}\n",
       "\t& x1 & y1 & x2 & y2 & x3 & y3 & x4 & y4\\\\\n",
       "\t\\hline\n",
       "\t& Float64 & Float64 & Float64 & Float64 & Float64 & Float64 & Float64 & Float64\\\\\n",
       "\t\\hline\n",
       "\t1 & 10.0 & 8.04 & 10.0 & 9.14 & 10.0 & 7.46 & 8.0 & 6.58 \\\\\n",
       "\t2 & 8.0 & 6.95 & 8.0 & 8.14 & 8.0 & 6.77 & 8.0 & 5.76 \\\\\n",
       "\t3 & 13.0 & 7.58 & 13.0 & 8.74 & 13.0 & 12.74 & 8.0 & 7.71 \\\\\n",
       "\t4 & 9.0 & 8.81 & 9.0 & 8.77 & 9.0 & 7.11 & 8.0 & 8.84 \\\\\n",
       "\t5 & 11.0 & 8.33 & 11.0 & 9.26 & 11.0 & 7.81 & 8.0 & 8.47 \\\\\n",
       "\t6 & 14.0 & 9.96 & 14.0 & 8.1 & 14.0 & 8.84 & 8.0 & 7.04 \\\\\n",
       "\t7 & 6.0 & 7.24 & 6.0 & 6.13 & 6.0 & 6.08 & 8.0 & 5.25 \\\\\n",
       "\t8 & 4.0 & 4.26 & 4.0 & 3.1 & 4.0 & 5.39 & 19.0 & 12.5 \\\\\n",
       "\t9 & 12.0 & 10.84 & 12.0 & 9.13 & 12.0 & 8.15 & 8.0 & 5.56 \\\\\n",
       "\t10 & 7.0 & 4.82 & 7.0 & 7.26 & 7.0 & 6.42 & 8.0 & 7.91 \\\\\n",
       "\t11 & 5.0 & 5.68 & 5.0 & 4.74 & 5.0 & 5.73 & 8.0 & 6.89 \\\\\n",
       "\\end{tabular}\n"
      ],
      "text/plain": [
       "\u001b[1m11×8 DataFrame\u001b[0m\n",
       "\u001b[1m Row \u001b[0m│\u001b[1m x1      \u001b[0m\u001b[1m y1      \u001b[0m\u001b[1m x2      \u001b[0m\u001b[1m y2      \u001b[0m\u001b[1m x3      \u001b[0m\u001b[1m y3      \u001b[0m\u001b[1m x4      \u001b[0m\u001b[1m y4      \u001b[0m\n",
       "\u001b[1m     \u001b[0m│\u001b[90m Float64 \u001b[0m\u001b[90m Float64 \u001b[0m\u001b[90m Float64 \u001b[0m\u001b[90m Float64 \u001b[0m\u001b[90m Float64 \u001b[0m\u001b[90m Float64 \u001b[0m\u001b[90m Float64 \u001b[0m\u001b[90m Float64 \u001b[0m\n",
       "─────┼────────────────────────────────────────────────────────────────────────\n",
       "   1 │    10.0     8.04     10.0     9.14     10.0     7.46      8.0     6.58\n",
       "   2 │     8.0     6.95      8.0     8.14      8.0     6.77      8.0     5.76\n",
       "   3 │    13.0     7.58     13.0     8.74     13.0    12.74      8.0     7.71\n",
       "   4 │     9.0     8.81      9.0     8.77      9.0     7.11      8.0     8.84\n",
       "   5 │    11.0     8.33     11.0     9.26     11.0     7.81      8.0     8.47\n",
       "   6 │    14.0     9.96     14.0     8.1      14.0     8.84      8.0     7.04\n",
       "   7 │     6.0     7.24      6.0     6.13      6.0     6.08      8.0     5.25\n",
       "   8 │     4.0     4.26      4.0     3.1       4.0     5.39     19.0    12.5\n",
       "   9 │    12.0    10.84     12.0     9.13     12.0     8.15      8.0     5.56\n",
       "  10 │     7.0     4.82      7.0     7.26      7.0     6.42      8.0     7.91\n",
       "  11 │     5.0     5.68      5.0     4.74      5.0     5.73      8.0     6.89"
      ]
     },
     "execution_count": 4,
     "metadata": {},
     "output_type": "execute_result"
    }
   ],
   "source": [
    "DataFrame(aq, [:x1, :y1, :x2, :y2, :x3, :y3, :x4, :y4])"
   ]
  },
  {
   "cell_type": "code",
   "execution_count": 5,
   "id": "8d550386",
   "metadata": {},
   "outputs": [
    {
     "data": {
      "text/html": [
       "<div class=\"data-frame\"><p>11 rows × 8 columns</p><table class=\"data-frame\"><thead><tr><th></th><th>x1</th><th>x2</th><th>x3</th><th>x4</th><th>x5</th><th>x6</th><th>x7</th><th>x8</th></tr><tr><th></th><th title=\"Float64\">Float64</th><th title=\"Float64\">Float64</th><th title=\"Float64\">Float64</th><th title=\"Float64\">Float64</th><th title=\"Float64\">Float64</th><th title=\"Float64\">Float64</th><th title=\"Float64\">Float64</th><th title=\"Float64\">Float64</th></tr></thead><tbody><tr><th>1</th><td>10.0</td><td>8.04</td><td>10.0</td><td>9.14</td><td>10.0</td><td>7.46</td><td>8.0</td><td>6.58</td></tr><tr><th>2</th><td>8.0</td><td>6.95</td><td>8.0</td><td>8.14</td><td>8.0</td><td>6.77</td><td>8.0</td><td>5.76</td></tr><tr><th>3</th><td>13.0</td><td>7.58</td><td>13.0</td><td>8.74</td><td>13.0</td><td>12.74</td><td>8.0</td><td>7.71</td></tr><tr><th>4</th><td>9.0</td><td>8.81</td><td>9.0</td><td>8.77</td><td>9.0</td><td>7.11</td><td>8.0</td><td>8.84</td></tr><tr><th>5</th><td>11.0</td><td>8.33</td><td>11.0</td><td>9.26</td><td>11.0</td><td>7.81</td><td>8.0</td><td>8.47</td></tr><tr><th>6</th><td>14.0</td><td>9.96</td><td>14.0</td><td>8.1</td><td>14.0</td><td>8.84</td><td>8.0</td><td>7.04</td></tr><tr><th>7</th><td>6.0</td><td>7.24</td><td>6.0</td><td>6.13</td><td>6.0</td><td>6.08</td><td>8.0</td><td>5.25</td></tr><tr><th>8</th><td>4.0</td><td>4.26</td><td>4.0</td><td>3.1</td><td>4.0</td><td>5.39</td><td>19.0</td><td>12.5</td></tr><tr><th>9</th><td>12.0</td><td>10.84</td><td>12.0</td><td>9.13</td><td>12.0</td><td>8.15</td><td>8.0</td><td>5.56</td></tr><tr><th>10</th><td>7.0</td><td>4.82</td><td>7.0</td><td>7.26</td><td>7.0</td><td>6.42</td><td>8.0</td><td>7.91</td></tr><tr><th>11</th><td>5.0</td><td>5.68</td><td>5.0</td><td>4.74</td><td>5.0</td><td>5.73</td><td>8.0</td><td>6.89</td></tr></tbody></table></div>"
      ],
      "text/latex": [
       "\\begin{tabular}{r|cccccccc}\n",
       "\t& x1 & x2 & x3 & x4 & x5 & x6 & x7 & x8\\\\\n",
       "\t\\hline\n",
       "\t& Float64 & Float64 & Float64 & Float64 & Float64 & Float64 & Float64 & Float64\\\\\n",
       "\t\\hline\n",
       "\t1 & 10.0 & 8.04 & 10.0 & 9.14 & 10.0 & 7.46 & 8.0 & 6.58 \\\\\n",
       "\t2 & 8.0 & 6.95 & 8.0 & 8.14 & 8.0 & 6.77 & 8.0 & 5.76 \\\\\n",
       "\t3 & 13.0 & 7.58 & 13.0 & 8.74 & 13.0 & 12.74 & 8.0 & 7.71 \\\\\n",
       "\t4 & 9.0 & 8.81 & 9.0 & 8.77 & 9.0 & 7.11 & 8.0 & 8.84 \\\\\n",
       "\t5 & 11.0 & 8.33 & 11.0 & 9.26 & 11.0 & 7.81 & 8.0 & 8.47 \\\\\n",
       "\t6 & 14.0 & 9.96 & 14.0 & 8.1 & 14.0 & 8.84 & 8.0 & 7.04 \\\\\n",
       "\t7 & 6.0 & 7.24 & 6.0 & 6.13 & 6.0 & 6.08 & 8.0 & 5.25 \\\\\n",
       "\t8 & 4.0 & 4.26 & 4.0 & 3.1 & 4.0 & 5.39 & 19.0 & 12.5 \\\\\n",
       "\t9 & 12.0 & 10.84 & 12.0 & 9.13 & 12.0 & 8.15 & 8.0 & 5.56 \\\\\n",
       "\t10 & 7.0 & 4.82 & 7.0 & 7.26 & 7.0 & 6.42 & 8.0 & 7.91 \\\\\n",
       "\t11 & 5.0 & 5.68 & 5.0 & 4.74 & 5.0 & 5.73 & 8.0 & 6.89 \\\\\n",
       "\\end{tabular}\n"
      ],
      "text/plain": [
       "\u001b[1m11×8 DataFrame\u001b[0m\n",
       "\u001b[1m Row \u001b[0m│\u001b[1m x1      \u001b[0m\u001b[1m x2      \u001b[0m\u001b[1m x3      \u001b[0m\u001b[1m x4      \u001b[0m\u001b[1m x5      \u001b[0m\u001b[1m x6      \u001b[0m\u001b[1m x7      \u001b[0m\u001b[1m x8      \u001b[0m\n",
       "\u001b[1m     \u001b[0m│\u001b[90m Float64 \u001b[0m\u001b[90m Float64 \u001b[0m\u001b[90m Float64 \u001b[0m\u001b[90m Float64 \u001b[0m\u001b[90m Float64 \u001b[0m\u001b[90m Float64 \u001b[0m\u001b[90m Float64 \u001b[0m\u001b[90m Float64 \u001b[0m\n",
       "─────┼────────────────────────────────────────────────────────────────────────\n",
       "   1 │    10.0     8.04     10.0     9.14     10.0     7.46      8.0     6.58\n",
       "   2 │     8.0     6.95      8.0     8.14      8.0     6.77      8.0     5.76\n",
       "   3 │    13.0     7.58     13.0     8.74     13.0    12.74      8.0     7.71\n",
       "   4 │     9.0     8.81      9.0     8.77      9.0     7.11      8.0     8.84\n",
       "   5 │    11.0     8.33     11.0     9.26     11.0     7.81      8.0     8.47\n",
       "   6 │    14.0     9.96     14.0     8.1      14.0     8.84      8.0     7.04\n",
       "   7 │     6.0     7.24      6.0     6.13      6.0     6.08      8.0     5.25\n",
       "   8 │     4.0     4.26      4.0     3.1       4.0     5.39     19.0    12.5\n",
       "   9 │    12.0    10.84     12.0     9.13     12.0     8.15      8.0     5.56\n",
       "  10 │     7.0     4.82      7.0     7.26      7.0     6.42      8.0     7.91\n",
       "  11 │     5.0     5.68      5.0     4.74      5.0     5.73      8.0     6.89"
      ]
     },
     "execution_count": 5,
     "metadata": {},
     "output_type": "execute_result"
    }
   ],
   "source": [
    "DataFrame(aq, :auto)"
   ]
  },
  {
   "cell_type": "markdown",
   "id": "5781d38c",
   "metadata": {},
   "source": [
    "### Creating a data frame from a vector of vectors"
   ]
  },
  {
   "cell_type": "code",
   "execution_count": 6,
   "id": "1929bdf8",
   "metadata": {},
   "outputs": [
    {
     "data": {
      "text/plain": [
       "8-element Vector{SubArray{Float64, 1, Matrix{Float64}, Tuple{Base.Slice{Base.OneTo{Int64}}, Int64}, true}}:\n",
       " [10.0, 8.0, 13.0, 9.0, 11.0, 14.0, 6.0, 4.0, 12.0, 7.0, 5.0]\n",
       " [8.04, 6.95, 7.58, 8.81, 8.33, 9.96, 7.24, 4.26, 10.84, 4.82, 5.68]\n",
       " [10.0, 8.0, 13.0, 9.0, 11.0, 14.0, 6.0, 4.0, 12.0, 7.0, 5.0]\n",
       " [9.14, 8.14, 8.74, 8.77, 9.26, 8.1, 6.13, 3.1, 9.13, 7.26, 4.74]\n",
       " [10.0, 8.0, 13.0, 9.0, 11.0, 14.0, 6.0, 4.0, 12.0, 7.0, 5.0]\n",
       " [7.46, 6.77, 12.74, 7.11, 7.81, 8.84, 6.08, 5.39, 8.15, 6.42, 5.73]\n",
       " [8.0, 8.0, 8.0, 8.0, 8.0, 8.0, 8.0, 19.0, 8.0, 8.0, 8.0]\n",
       " [6.58, 5.76, 7.71, 8.84, 8.47, 7.04, 5.25, 12.5, 5.56, 7.91, 6.89]"
      ]
     },
     "execution_count": 6,
     "metadata": {},
     "output_type": "execute_result"
    }
   ],
   "source": [
    "aq_vec = collect(eachcol(aq))"
   ]
  },
  {
   "cell_type": "code",
   "execution_count": 7,
   "id": "fbfd60ae",
   "metadata": {},
   "outputs": [
    {
     "data": {
      "text/html": [
       "<div class=\"data-frame\"><p>11 rows × 8 columns</p><table class=\"data-frame\"><thead><tr><th></th><th>x1</th><th>y1</th><th>x2</th><th>y2</th><th>x3</th><th>y3</th><th>x4</th><th>y4</th></tr><tr><th></th><th title=\"Float64\">Float64</th><th title=\"Float64\">Float64</th><th title=\"Float64\">Float64</th><th title=\"Float64\">Float64</th><th title=\"Float64\">Float64</th><th title=\"Float64\">Float64</th><th title=\"Float64\">Float64</th><th title=\"Float64\">Float64</th></tr></thead><tbody><tr><th>1</th><td>10.0</td><td>8.04</td><td>10.0</td><td>9.14</td><td>10.0</td><td>7.46</td><td>8.0</td><td>6.58</td></tr><tr><th>2</th><td>8.0</td><td>6.95</td><td>8.0</td><td>8.14</td><td>8.0</td><td>6.77</td><td>8.0</td><td>5.76</td></tr><tr><th>3</th><td>13.0</td><td>7.58</td><td>13.0</td><td>8.74</td><td>13.0</td><td>12.74</td><td>8.0</td><td>7.71</td></tr><tr><th>4</th><td>9.0</td><td>8.81</td><td>9.0</td><td>8.77</td><td>9.0</td><td>7.11</td><td>8.0</td><td>8.84</td></tr><tr><th>5</th><td>11.0</td><td>8.33</td><td>11.0</td><td>9.26</td><td>11.0</td><td>7.81</td><td>8.0</td><td>8.47</td></tr><tr><th>6</th><td>14.0</td><td>9.96</td><td>14.0</td><td>8.1</td><td>14.0</td><td>8.84</td><td>8.0</td><td>7.04</td></tr><tr><th>7</th><td>6.0</td><td>7.24</td><td>6.0</td><td>6.13</td><td>6.0</td><td>6.08</td><td>8.0</td><td>5.25</td></tr><tr><th>8</th><td>4.0</td><td>4.26</td><td>4.0</td><td>3.1</td><td>4.0</td><td>5.39</td><td>19.0</td><td>12.5</td></tr><tr><th>9</th><td>12.0</td><td>10.84</td><td>12.0</td><td>9.13</td><td>12.0</td><td>8.15</td><td>8.0</td><td>5.56</td></tr><tr><th>10</th><td>7.0</td><td>4.82</td><td>7.0</td><td>7.26</td><td>7.0</td><td>6.42</td><td>8.0</td><td>7.91</td></tr><tr><th>11</th><td>5.0</td><td>5.68</td><td>5.0</td><td>4.74</td><td>5.0</td><td>5.73</td><td>8.0</td><td>6.89</td></tr></tbody></table></div>"
      ],
      "text/latex": [
       "\\begin{tabular}{r|cccccccc}\n",
       "\t& x1 & y1 & x2 & y2 & x3 & y3 & x4 & y4\\\\\n",
       "\t\\hline\n",
       "\t& Float64 & Float64 & Float64 & Float64 & Float64 & Float64 & Float64 & Float64\\\\\n",
       "\t\\hline\n",
       "\t1 & 10.0 & 8.04 & 10.0 & 9.14 & 10.0 & 7.46 & 8.0 & 6.58 \\\\\n",
       "\t2 & 8.0 & 6.95 & 8.0 & 8.14 & 8.0 & 6.77 & 8.0 & 5.76 \\\\\n",
       "\t3 & 13.0 & 7.58 & 13.0 & 8.74 & 13.0 & 12.74 & 8.0 & 7.71 \\\\\n",
       "\t4 & 9.0 & 8.81 & 9.0 & 8.77 & 9.0 & 7.11 & 8.0 & 8.84 \\\\\n",
       "\t5 & 11.0 & 8.33 & 11.0 & 9.26 & 11.0 & 7.81 & 8.0 & 8.47 \\\\\n",
       "\t6 & 14.0 & 9.96 & 14.0 & 8.1 & 14.0 & 8.84 & 8.0 & 7.04 \\\\\n",
       "\t7 & 6.0 & 7.24 & 6.0 & 6.13 & 6.0 & 6.08 & 8.0 & 5.25 \\\\\n",
       "\t8 & 4.0 & 4.26 & 4.0 & 3.1 & 4.0 & 5.39 & 19.0 & 12.5 \\\\\n",
       "\t9 & 12.0 & 10.84 & 12.0 & 9.13 & 12.0 & 8.15 & 8.0 & 5.56 \\\\\n",
       "\t10 & 7.0 & 4.82 & 7.0 & 7.26 & 7.0 & 6.42 & 8.0 & 7.91 \\\\\n",
       "\t11 & 5.0 & 5.68 & 5.0 & 4.74 & 5.0 & 5.73 & 8.0 & 6.89 \\\\\n",
       "\\end{tabular}\n"
      ],
      "text/plain": [
       "\u001b[1m11×8 DataFrame\u001b[0m\n",
       "\u001b[1m Row \u001b[0m│\u001b[1m x1      \u001b[0m\u001b[1m y1      \u001b[0m\u001b[1m x2      \u001b[0m\u001b[1m y2      \u001b[0m\u001b[1m x3      \u001b[0m\u001b[1m y3      \u001b[0m\u001b[1m x4      \u001b[0m\u001b[1m y4      \u001b[0m\n",
       "\u001b[1m     \u001b[0m│\u001b[90m Float64 \u001b[0m\u001b[90m Float64 \u001b[0m\u001b[90m Float64 \u001b[0m\u001b[90m Float64 \u001b[0m\u001b[90m Float64 \u001b[0m\u001b[90m Float64 \u001b[0m\u001b[90m Float64 \u001b[0m\u001b[90m Float64 \u001b[0m\n",
       "─────┼────────────────────────────────────────────────────────────────────────\n",
       "   1 │    10.0     8.04     10.0     9.14     10.0     7.46      8.0     6.58\n",
       "   2 │     8.0     6.95      8.0     8.14      8.0     6.77      8.0     5.76\n",
       "   3 │    13.0     7.58     13.0     8.74     13.0    12.74      8.0     7.71\n",
       "   4 │     9.0     8.81      9.0     8.77      9.0     7.11      8.0     8.84\n",
       "   5 │    11.0     8.33     11.0     9.26     11.0     7.81      8.0     8.47\n",
       "   6 │    14.0     9.96     14.0     8.1      14.0     8.84      8.0     7.04\n",
       "   7 │     6.0     7.24      6.0     6.13      6.0     6.08      8.0     5.25\n",
       "   8 │     4.0     4.26      4.0     3.1       4.0     5.39     19.0    12.5\n",
       "   9 │    12.0    10.84     12.0     9.13     12.0     8.15      8.0     5.56\n",
       "  10 │     7.0     4.82      7.0     7.26      7.0     6.42      8.0     7.91\n",
       "  11 │     5.0     5.68      5.0     4.74      5.0     5.73      8.0     6.89"
      ]
     },
     "execution_count": 7,
     "metadata": {},
     "output_type": "execute_result"
    }
   ],
   "source": [
    "DataFrame(aq_vec, [\"x1\", \"y1\", \"x2\", \"y2\", \"x3\", \"y3\", \"x4\", \"y4\"])"
   ]
  },
  {
   "cell_type": "code",
   "execution_count": 8,
   "id": "54a37a8b",
   "metadata": {},
   "outputs": [
    {
     "data": {
      "text/html": [
       "<div class=\"data-frame\"><p>11 rows × 8 columns</p><table class=\"data-frame\"><thead><tr><th></th><th>x1</th><th>x2</th><th>x3</th><th>x4</th><th>x5</th><th>x6</th><th>x7</th><th>x8</th></tr><tr><th></th><th title=\"Float64\">Float64</th><th title=\"Float64\">Float64</th><th title=\"Float64\">Float64</th><th title=\"Float64\">Float64</th><th title=\"Float64\">Float64</th><th title=\"Float64\">Float64</th><th title=\"Float64\">Float64</th><th title=\"Float64\">Float64</th></tr></thead><tbody><tr><th>1</th><td>10.0</td><td>8.04</td><td>10.0</td><td>9.14</td><td>10.0</td><td>7.46</td><td>8.0</td><td>6.58</td></tr><tr><th>2</th><td>8.0</td><td>6.95</td><td>8.0</td><td>8.14</td><td>8.0</td><td>6.77</td><td>8.0</td><td>5.76</td></tr><tr><th>3</th><td>13.0</td><td>7.58</td><td>13.0</td><td>8.74</td><td>13.0</td><td>12.74</td><td>8.0</td><td>7.71</td></tr><tr><th>4</th><td>9.0</td><td>8.81</td><td>9.0</td><td>8.77</td><td>9.0</td><td>7.11</td><td>8.0</td><td>8.84</td></tr><tr><th>5</th><td>11.0</td><td>8.33</td><td>11.0</td><td>9.26</td><td>11.0</td><td>7.81</td><td>8.0</td><td>8.47</td></tr><tr><th>6</th><td>14.0</td><td>9.96</td><td>14.0</td><td>8.1</td><td>14.0</td><td>8.84</td><td>8.0</td><td>7.04</td></tr><tr><th>7</th><td>6.0</td><td>7.24</td><td>6.0</td><td>6.13</td><td>6.0</td><td>6.08</td><td>8.0</td><td>5.25</td></tr><tr><th>8</th><td>4.0</td><td>4.26</td><td>4.0</td><td>3.1</td><td>4.0</td><td>5.39</td><td>19.0</td><td>12.5</td></tr><tr><th>9</th><td>12.0</td><td>10.84</td><td>12.0</td><td>9.13</td><td>12.0</td><td>8.15</td><td>8.0</td><td>5.56</td></tr><tr><th>10</th><td>7.0</td><td>4.82</td><td>7.0</td><td>7.26</td><td>7.0</td><td>6.42</td><td>8.0</td><td>7.91</td></tr><tr><th>11</th><td>5.0</td><td>5.68</td><td>5.0</td><td>4.74</td><td>5.0</td><td>5.73</td><td>8.0</td><td>6.89</td></tr></tbody></table></div>"
      ],
      "text/latex": [
       "\\begin{tabular}{r|cccccccc}\n",
       "\t& x1 & x2 & x3 & x4 & x5 & x6 & x7 & x8\\\\\n",
       "\t\\hline\n",
       "\t& Float64 & Float64 & Float64 & Float64 & Float64 & Float64 & Float64 & Float64\\\\\n",
       "\t\\hline\n",
       "\t1 & 10.0 & 8.04 & 10.0 & 9.14 & 10.0 & 7.46 & 8.0 & 6.58 \\\\\n",
       "\t2 & 8.0 & 6.95 & 8.0 & 8.14 & 8.0 & 6.77 & 8.0 & 5.76 \\\\\n",
       "\t3 & 13.0 & 7.58 & 13.0 & 8.74 & 13.0 & 12.74 & 8.0 & 7.71 \\\\\n",
       "\t4 & 9.0 & 8.81 & 9.0 & 8.77 & 9.0 & 7.11 & 8.0 & 8.84 \\\\\n",
       "\t5 & 11.0 & 8.33 & 11.0 & 9.26 & 11.0 & 7.81 & 8.0 & 8.47 \\\\\n",
       "\t6 & 14.0 & 9.96 & 14.0 & 8.1 & 14.0 & 8.84 & 8.0 & 7.04 \\\\\n",
       "\t7 & 6.0 & 7.24 & 6.0 & 6.13 & 6.0 & 6.08 & 8.0 & 5.25 \\\\\n",
       "\t8 & 4.0 & 4.26 & 4.0 & 3.1 & 4.0 & 5.39 & 19.0 & 12.5 \\\\\n",
       "\t9 & 12.0 & 10.84 & 12.0 & 9.13 & 12.0 & 8.15 & 8.0 & 5.56 \\\\\n",
       "\t10 & 7.0 & 4.82 & 7.0 & 7.26 & 7.0 & 6.42 & 8.0 & 7.91 \\\\\n",
       "\t11 & 5.0 & 5.68 & 5.0 & 4.74 & 5.0 & 5.73 & 8.0 & 6.89 \\\\\n",
       "\\end{tabular}\n"
      ],
      "text/plain": [
       "\u001b[1m11×8 DataFrame\u001b[0m\n",
       "\u001b[1m Row \u001b[0m│\u001b[1m x1      \u001b[0m\u001b[1m x2      \u001b[0m\u001b[1m x3      \u001b[0m\u001b[1m x4      \u001b[0m\u001b[1m x5      \u001b[0m\u001b[1m x6      \u001b[0m\u001b[1m x7      \u001b[0m\u001b[1m x8      \u001b[0m\n",
       "\u001b[1m     \u001b[0m│\u001b[90m Float64 \u001b[0m\u001b[90m Float64 \u001b[0m\u001b[90m Float64 \u001b[0m\u001b[90m Float64 \u001b[0m\u001b[90m Float64 \u001b[0m\u001b[90m Float64 \u001b[0m\u001b[90m Float64 \u001b[0m\u001b[90m Float64 \u001b[0m\n",
       "─────┼────────────────────────────────────────────────────────────────────────\n",
       "   1 │    10.0     8.04     10.0     9.14     10.0     7.46      8.0     6.58\n",
       "   2 │     8.0     6.95      8.0     8.14      8.0     6.77      8.0     5.76\n",
       "   3 │    13.0     7.58     13.0     8.74     13.0    12.74      8.0     7.71\n",
       "   4 │     9.0     8.81      9.0     8.77      9.0     7.11      8.0     8.84\n",
       "   5 │    11.0     8.33     11.0     9.26     11.0     7.81      8.0     8.47\n",
       "   6 │    14.0     9.96     14.0     8.1      14.0     8.84      8.0     7.04\n",
       "   7 │     6.0     7.24      6.0     6.13      6.0     6.08      8.0     5.25\n",
       "   8 │     4.0     4.26      4.0     3.1       4.0     5.39     19.0    12.5\n",
       "   9 │    12.0    10.84     12.0     9.13     12.0     8.15      8.0     5.56\n",
       "  10 │     7.0     4.82      7.0     7.26      7.0     6.42      8.0     7.91\n",
       "  11 │     5.0     5.68      5.0     4.74      5.0     5.73      8.0     6.89"
      ]
     },
     "execution_count": 8,
     "metadata": {},
     "output_type": "execute_result"
    }
   ],
   "source": [
    "DataFrame(aq_vec, :auto)"
   ]
  },
  {
   "cell_type": "markdown",
   "id": "6badb0cf",
   "metadata": {
    "pycharm": {
     "name": "#%% md\n"
    }
   },
   "source": [
    "### Creating a data frame from vectors"
   ]
  },
  {
   "cell_type": "code",
   "execution_count": 9,
   "id": "3db99da2",
   "metadata": {},
   "outputs": [
    {
     "data": {
      "text/plain": [
       "(set1 = (x = [10.0, 8.0, 13.0, 9.0, 11.0, 14.0, 6.0, 4.0, 12.0, 7.0, 5.0], y = [8.04, 6.95, 7.58, 8.81, 8.33, 9.96, 7.24, 4.26, 10.84, 4.82, 5.68]), set2 = (x = [10.0, 8.0, 13.0, 9.0, 11.0, 14.0, 6.0, 4.0, 12.0, 7.0, 5.0], y = [9.14, 8.14, 8.74, 8.77, 9.26, 8.1, 6.13, 3.1, 9.13, 7.26, 4.74]), set3 = (x = [10.0, 8.0, 13.0, 9.0, 11.0, 14.0, 6.0, 4.0, 12.0, 7.0, 5.0], y = [7.46, 6.77, 12.74, 7.11, 7.81, 8.84, 6.08, 5.39, 8.15, 6.42, 5.73]), set4 = (x = [8.0, 8.0, 8.0, 8.0, 8.0, 8.0, 8.0, 19.0, 8.0, 8.0, 8.0], y = [6.58, 5.76, 7.71, 8.84, 8.47, 7.04, 5.25, 12.5, 5.56, 7.91, 6.89]))"
      ]
     },
     "execution_count": 9,
     "metadata": {},
     "output_type": "execute_result"
    }
   ],
   "source": [
    "data = (set1=(x=aq[:, 1], y=aq[:, 2]),\n",
    "        set2=(x=aq[:, 3], y=aq[:, 4]),\n",
    "        set3=(x=aq[:, 5], y=aq[:, 6]),\n",
    "        set4=(x=aq[:, 7], y=aq[:, 8]))"
   ]
  },
  {
   "cell_type": "code",
   "execution_count": 10,
   "id": "227a6bc5",
   "metadata": {},
   "outputs": [
    {
     "data": {
      "text/plain": [
       "11-element Vector{Float64}:\n",
       " 10.0\n",
       "  8.0\n",
       " 13.0\n",
       "  9.0\n",
       " 11.0\n",
       " 14.0\n",
       "  6.0\n",
       "  4.0\n",
       " 12.0\n",
       "  7.0\n",
       "  5.0"
      ]
     },
     "execution_count": 10,
     "metadata": {},
     "output_type": "execute_result"
    }
   ],
   "source": [
    "data.set1.x"
   ]
  },
  {
   "cell_type": "code",
   "execution_count": 11,
   "id": "d366a0c5",
   "metadata": {},
   "outputs": [
    {
     "data": {
      "text/html": [
       "<div class=\"data-frame\"><p>11 rows × 8 columns</p><table class=\"data-frame\"><thead><tr><th></th><th>x1</th><th>y1</th><th>x2</th><th>y2</th><th>x3</th><th>y3</th><th>x4</th><th>y4</th></tr><tr><th></th><th title=\"Float64\">Float64</th><th title=\"Float64\">Float64</th><th title=\"Float64\">Float64</th><th title=\"Float64\">Float64</th><th title=\"Float64\">Float64</th><th title=\"Float64\">Float64</th><th title=\"Float64\">Float64</th><th title=\"Float64\">Float64</th></tr></thead><tbody><tr><th>1</th><td>10.0</td><td>8.04</td><td>10.0</td><td>9.14</td><td>10.0</td><td>7.46</td><td>8.0</td><td>6.58</td></tr><tr><th>2</th><td>8.0</td><td>6.95</td><td>8.0</td><td>8.14</td><td>8.0</td><td>6.77</td><td>8.0</td><td>5.76</td></tr><tr><th>3</th><td>13.0</td><td>7.58</td><td>13.0</td><td>8.74</td><td>13.0</td><td>12.74</td><td>8.0</td><td>7.71</td></tr><tr><th>4</th><td>9.0</td><td>8.81</td><td>9.0</td><td>8.77</td><td>9.0</td><td>7.11</td><td>8.0</td><td>8.84</td></tr><tr><th>5</th><td>11.0</td><td>8.33</td><td>11.0</td><td>9.26</td><td>11.0</td><td>7.81</td><td>8.0</td><td>8.47</td></tr><tr><th>6</th><td>14.0</td><td>9.96</td><td>14.0</td><td>8.1</td><td>14.0</td><td>8.84</td><td>8.0</td><td>7.04</td></tr><tr><th>7</th><td>6.0</td><td>7.24</td><td>6.0</td><td>6.13</td><td>6.0</td><td>6.08</td><td>8.0</td><td>5.25</td></tr><tr><th>8</th><td>4.0</td><td>4.26</td><td>4.0</td><td>3.1</td><td>4.0</td><td>5.39</td><td>19.0</td><td>12.5</td></tr><tr><th>9</th><td>12.0</td><td>10.84</td><td>12.0</td><td>9.13</td><td>12.0</td><td>8.15</td><td>8.0</td><td>5.56</td></tr><tr><th>10</th><td>7.0</td><td>4.82</td><td>7.0</td><td>7.26</td><td>7.0</td><td>6.42</td><td>8.0</td><td>7.91</td></tr><tr><th>11</th><td>5.0</td><td>5.68</td><td>5.0</td><td>4.74</td><td>5.0</td><td>5.73</td><td>8.0</td><td>6.89</td></tr></tbody></table></div>"
      ],
      "text/latex": [
       "\\begin{tabular}{r|cccccccc}\n",
       "\t& x1 & y1 & x2 & y2 & x3 & y3 & x4 & y4\\\\\n",
       "\t\\hline\n",
       "\t& Float64 & Float64 & Float64 & Float64 & Float64 & Float64 & Float64 & Float64\\\\\n",
       "\t\\hline\n",
       "\t1 & 10.0 & 8.04 & 10.0 & 9.14 & 10.0 & 7.46 & 8.0 & 6.58 \\\\\n",
       "\t2 & 8.0 & 6.95 & 8.0 & 8.14 & 8.0 & 6.77 & 8.0 & 5.76 \\\\\n",
       "\t3 & 13.0 & 7.58 & 13.0 & 8.74 & 13.0 & 12.74 & 8.0 & 7.71 \\\\\n",
       "\t4 & 9.0 & 8.81 & 9.0 & 8.77 & 9.0 & 7.11 & 8.0 & 8.84 \\\\\n",
       "\t5 & 11.0 & 8.33 & 11.0 & 9.26 & 11.0 & 7.81 & 8.0 & 8.47 \\\\\n",
       "\t6 & 14.0 & 9.96 & 14.0 & 8.1 & 14.0 & 8.84 & 8.0 & 7.04 \\\\\n",
       "\t7 & 6.0 & 7.24 & 6.0 & 6.13 & 6.0 & 6.08 & 8.0 & 5.25 \\\\\n",
       "\t8 & 4.0 & 4.26 & 4.0 & 3.1 & 4.0 & 5.39 & 19.0 & 12.5 \\\\\n",
       "\t9 & 12.0 & 10.84 & 12.0 & 9.13 & 12.0 & 8.15 & 8.0 & 5.56 \\\\\n",
       "\t10 & 7.0 & 4.82 & 7.0 & 7.26 & 7.0 & 6.42 & 8.0 & 7.91 \\\\\n",
       "\t11 & 5.0 & 5.68 & 5.0 & 4.74 & 5.0 & 5.73 & 8.0 & 6.89 \\\\\n",
       "\\end{tabular}\n"
      ],
      "text/plain": [
       "\u001b[1m11×8 DataFrame\u001b[0m\n",
       "\u001b[1m Row \u001b[0m│\u001b[1m x1      \u001b[0m\u001b[1m y1      \u001b[0m\u001b[1m x2      \u001b[0m\u001b[1m y2      \u001b[0m\u001b[1m x3      \u001b[0m\u001b[1m y3      \u001b[0m\u001b[1m x4      \u001b[0m\u001b[1m y4      \u001b[0m\n",
       "\u001b[1m     \u001b[0m│\u001b[90m Float64 \u001b[0m\u001b[90m Float64 \u001b[0m\u001b[90m Float64 \u001b[0m\u001b[90m Float64 \u001b[0m\u001b[90m Float64 \u001b[0m\u001b[90m Float64 \u001b[0m\u001b[90m Float64 \u001b[0m\u001b[90m Float64 \u001b[0m\n",
       "─────┼────────────────────────────────────────────────────────────────────────\n",
       "   1 │    10.0     8.04     10.0     9.14     10.0     7.46      8.0     6.58\n",
       "   2 │     8.0     6.95      8.0     8.14      8.0     6.77      8.0     5.76\n",
       "   3 │    13.0     7.58     13.0     8.74     13.0    12.74      8.0     7.71\n",
       "   4 │     9.0     8.81      9.0     8.77      9.0     7.11      8.0     8.84\n",
       "   5 │    11.0     8.33     11.0     9.26     11.0     7.81      8.0     8.47\n",
       "   6 │    14.0     9.96     14.0     8.1      14.0     8.84      8.0     7.04\n",
       "   7 │     6.0     7.24      6.0     6.13      6.0     6.08      8.0     5.25\n",
       "   8 │     4.0     4.26      4.0     3.1       4.0     5.39     19.0    12.5\n",
       "   9 │    12.0    10.84     12.0     9.13     12.0     8.15      8.0     5.56\n",
       "  10 │     7.0     4.82      7.0     7.26      7.0     6.42      8.0     7.91\n",
       "  11 │     5.0     5.68      5.0     4.74      5.0     5.73      8.0     6.89"
      ]
     },
     "execution_count": 11,
     "metadata": {},
     "output_type": "execute_result"
    }
   ],
   "source": [
    "DataFrame(x1=data.set1.x, y1=data.set1.y,\n",
    "          x2=data.set2.x, y2=data.set2.y,\n",
    "          x3=data.set3.x, y3=data.set3.y,\n",
    "          x4=data.set4.x, y4=data.set4.y)"
   ]
  },
  {
   "cell_type": "code",
   "execution_count": 12,
   "id": "06413b4b",
   "metadata": {},
   "outputs": [
    {
     "data": {
      "text/html": [
       "<div class=\"data-frame\"><p>11 rows × 8 columns</p><table class=\"data-frame\"><thead><tr><th></th><th>x1</th><th>y1</th><th>x2</th><th>y2</th><th>x3</th><th>y3</th><th>x4</th><th>y4</th></tr><tr><th></th><th title=\"Float64\">Float64</th><th title=\"Float64\">Float64</th><th title=\"Float64\">Float64</th><th title=\"Float64\">Float64</th><th title=\"Float64\">Float64</th><th title=\"Float64\">Float64</th><th title=\"Float64\">Float64</th><th title=\"Float64\">Float64</th></tr></thead><tbody><tr><th>1</th><td>10.0</td><td>8.04</td><td>10.0</td><td>9.14</td><td>10.0</td><td>7.46</td><td>8.0</td><td>6.58</td></tr><tr><th>2</th><td>8.0</td><td>6.95</td><td>8.0</td><td>8.14</td><td>8.0</td><td>6.77</td><td>8.0</td><td>5.76</td></tr><tr><th>3</th><td>13.0</td><td>7.58</td><td>13.0</td><td>8.74</td><td>13.0</td><td>12.74</td><td>8.0</td><td>7.71</td></tr><tr><th>4</th><td>9.0</td><td>8.81</td><td>9.0</td><td>8.77</td><td>9.0</td><td>7.11</td><td>8.0</td><td>8.84</td></tr><tr><th>5</th><td>11.0</td><td>8.33</td><td>11.0</td><td>9.26</td><td>11.0</td><td>7.81</td><td>8.0</td><td>8.47</td></tr><tr><th>6</th><td>14.0</td><td>9.96</td><td>14.0</td><td>8.1</td><td>14.0</td><td>8.84</td><td>8.0</td><td>7.04</td></tr><tr><th>7</th><td>6.0</td><td>7.24</td><td>6.0</td><td>6.13</td><td>6.0</td><td>6.08</td><td>8.0</td><td>5.25</td></tr><tr><th>8</th><td>4.0</td><td>4.26</td><td>4.0</td><td>3.1</td><td>4.0</td><td>5.39</td><td>19.0</td><td>12.5</td></tr><tr><th>9</th><td>12.0</td><td>10.84</td><td>12.0</td><td>9.13</td><td>12.0</td><td>8.15</td><td>8.0</td><td>5.56</td></tr><tr><th>10</th><td>7.0</td><td>4.82</td><td>7.0</td><td>7.26</td><td>7.0</td><td>6.42</td><td>8.0</td><td>7.91</td></tr><tr><th>11</th><td>5.0</td><td>5.68</td><td>5.0</td><td>4.74</td><td>5.0</td><td>5.73</td><td>8.0</td><td>6.89</td></tr></tbody></table></div>"
      ],
      "text/latex": [
       "\\begin{tabular}{r|cccccccc}\n",
       "\t& x1 & y1 & x2 & y2 & x3 & y3 & x4 & y4\\\\\n",
       "\t\\hline\n",
       "\t& Float64 & Float64 & Float64 & Float64 & Float64 & Float64 & Float64 & Float64\\\\\n",
       "\t\\hline\n",
       "\t1 & 10.0 & 8.04 & 10.0 & 9.14 & 10.0 & 7.46 & 8.0 & 6.58 \\\\\n",
       "\t2 & 8.0 & 6.95 & 8.0 & 8.14 & 8.0 & 6.77 & 8.0 & 5.76 \\\\\n",
       "\t3 & 13.0 & 7.58 & 13.0 & 8.74 & 13.0 & 12.74 & 8.0 & 7.71 \\\\\n",
       "\t4 & 9.0 & 8.81 & 9.0 & 8.77 & 9.0 & 7.11 & 8.0 & 8.84 \\\\\n",
       "\t5 & 11.0 & 8.33 & 11.0 & 9.26 & 11.0 & 7.81 & 8.0 & 8.47 \\\\\n",
       "\t6 & 14.0 & 9.96 & 14.0 & 8.1 & 14.0 & 8.84 & 8.0 & 7.04 \\\\\n",
       "\t7 & 6.0 & 7.24 & 6.0 & 6.13 & 6.0 & 6.08 & 8.0 & 5.25 \\\\\n",
       "\t8 & 4.0 & 4.26 & 4.0 & 3.1 & 4.0 & 5.39 & 19.0 & 12.5 \\\\\n",
       "\t9 & 12.0 & 10.84 & 12.0 & 9.13 & 12.0 & 8.15 & 8.0 & 5.56 \\\\\n",
       "\t10 & 7.0 & 4.82 & 7.0 & 7.26 & 7.0 & 6.42 & 8.0 & 7.91 \\\\\n",
       "\t11 & 5.0 & 5.68 & 5.0 & 4.74 & 5.0 & 5.73 & 8.0 & 6.89 \\\\\n",
       "\\end{tabular}\n"
      ],
      "text/plain": [
       "\u001b[1m11×8 DataFrame\u001b[0m\n",
       "\u001b[1m Row \u001b[0m│\u001b[1m x1      \u001b[0m\u001b[1m y1      \u001b[0m\u001b[1m x2      \u001b[0m\u001b[1m y2      \u001b[0m\u001b[1m x3      \u001b[0m\u001b[1m y3      \u001b[0m\u001b[1m x4      \u001b[0m\u001b[1m y4      \u001b[0m\n",
       "\u001b[1m     \u001b[0m│\u001b[90m Float64 \u001b[0m\u001b[90m Float64 \u001b[0m\u001b[90m Float64 \u001b[0m\u001b[90m Float64 \u001b[0m\u001b[90m Float64 \u001b[0m\u001b[90m Float64 \u001b[0m\u001b[90m Float64 \u001b[0m\u001b[90m Float64 \u001b[0m\n",
       "─────┼────────────────────────────────────────────────────────────────────────\n",
       "   1 │    10.0     8.04     10.0     9.14     10.0     7.46      8.0     6.58\n",
       "   2 │     8.0     6.95      8.0     8.14      8.0     6.77      8.0     5.76\n",
       "   3 │    13.0     7.58     13.0     8.74     13.0    12.74      8.0     7.71\n",
       "   4 │     9.0     8.81      9.0     8.77      9.0     7.11      8.0     8.84\n",
       "   5 │    11.0     8.33     11.0     9.26     11.0     7.81      8.0     8.47\n",
       "   6 │    14.0     9.96     14.0     8.1      14.0     8.84      8.0     7.04\n",
       "   7 │     6.0     7.24      6.0     6.13      6.0     6.08      8.0     5.25\n",
       "   8 │     4.0     4.26      4.0     3.1       4.0     5.39     19.0    12.5\n",
       "   9 │    12.0    10.84     12.0     9.13     12.0     8.15      8.0     5.56\n",
       "  10 │     7.0     4.82      7.0     7.26      7.0     6.42      8.0     7.91\n",
       "  11 │     5.0     5.68      5.0     4.74      5.0     5.73      8.0     6.89"
      ]
     },
     "execution_count": 12,
     "metadata": {},
     "output_type": "execute_result"
    }
   ],
   "source": [
    "DataFrame(:x1 => data.set1.x, :y1 => data.set1.y,\n",
    "          :x2 => data.set2.x, :y2 => data.set2.y,\n",
    "          :x3 => data.set3.x, :y3 => data.set3.y,\n",
    "          :x4 => data.set4.x, :y4 => data.set4.y)"
   ]
  },
  {
   "cell_type": "code",
   "execution_count": 13,
   "id": "bf0d9aa1",
   "metadata": {},
   "outputs": [],
   "source": [
    "DataFrame([:x1 => data.set1.x, :y1 => data.set1.y,\n",
    "           :x2 => data.set2.x, :y2 => data.set2.y,\n",
    "           :x3 => data.set3.x, :y3 => data.set3.y,\n",
    "           :x4 => data.set4.x, :y4 => data.set4.y]);"
   ]
  },
  {
   "cell_type": "code",
   "execution_count": 14,
   "id": "777469a4",
   "metadata": {},
   "outputs": [
    {
     "data": {
      "text/plain": [
       "8-element Vector{Tuple{Int64, Symbol}}:\n",
       " (1, :x)\n",
       " (1, :y)\n",
       " (2, :x)\n",
       " (2, :y)\n",
       " (3, :x)\n",
       " (3, :y)\n",
       " (4, :x)\n",
       " (4, :y)"
      ]
     },
     "execution_count": 14,
     "metadata": {},
     "output_type": "execute_result"
    }
   ],
   "source": [
    "[(i, v) for i in 1:4 for v in [:x, :y]]"
   ]
  },
  {
   "cell_type": "code",
   "execution_count": 15,
   "id": "f51c571d",
   "metadata": {},
   "outputs": [
    {
     "data": {
      "text/plain": [
       "8-element Vector{String}:\n",
       " \"x1\"\n",
       " \"y1\"\n",
       " \"x2\"\n",
       " \"y2\"\n",
       " \"x3\"\n",
       " \"y3\"\n",
       " \"x4\"\n",
       " \"y4\""
      ]
     },
     "execution_count": 15,
     "metadata": {},
     "output_type": "execute_result"
    }
   ],
   "source": [
    "[string(v, i) for i in 1:4 for v in [:x, :y]]"
   ]
  },
  {
   "cell_type": "code",
   "execution_count": 16,
   "id": "c01bdda8",
   "metadata": {},
   "outputs": [
    {
     "data": {
      "text/plain": [
       "8-element Vector{Pair{String, Vector{Float64}}}:\n",
       " \"x1\" => [10.0, 8.0, 13.0, 9.0, 11.0, 14.0, 6.0, 4.0, 12.0, 7.0, 5.0]\n",
       " \"y1\" => [8.04, 6.95, 7.58, 8.81, 8.33, 9.96, 7.24, 4.26, 10.84, 4.82, 5.68]\n",
       " \"x2\" => [10.0, 8.0, 13.0, 9.0, 11.0, 14.0, 6.0, 4.0, 12.0, 7.0, 5.0]\n",
       " \"y2\" => [9.14, 8.14, 8.74, 8.77, 9.26, 8.1, 6.13, 3.1, 9.13, 7.26, 4.74]\n",
       " \"x3\" => [10.0, 8.0, 13.0, 9.0, 11.0, 14.0, 6.0, 4.0, 12.0, 7.0, 5.0]\n",
       " \"y3\" => [7.46, 6.77, 12.74, 7.11, 7.81, 8.84, 6.08, 5.39, 8.15, 6.42, 5.73]\n",
       " \"x4\" => [8.0, 8.0, 8.0, 8.0, 8.0, 8.0, 8.0, 19.0, 8.0, 8.0, 8.0]\n",
       " \"y4\" => [6.58, 5.76, 7.71, 8.84, 8.47, 7.04, 5.25, 12.5, 5.56, 7.91, 6.89]"
      ]
     },
     "execution_count": 16,
     "metadata": {},
     "output_type": "execute_result"
    }
   ],
   "source": [
    "[string(v, i) => getproperty(data[i], v)\n",
    "for i in 1:4 for v in [:x, :y]]"
   ]
  },
  {
   "cell_type": "code",
   "execution_count": 17,
   "id": "da5823e3",
   "metadata": {
    "pycharm": {
     "name": "#%% raw\n"
    }
   },
   "outputs": [
    {
     "data": {
      "text/html": [
       "<div class=\"data-frame\"><p>11 rows × 8 columns</p><table class=\"data-frame\"><thead><tr><th></th><th>x1</th><th>y1</th><th>x2</th><th>y2</th><th>x3</th><th>y3</th><th>x4</th><th>y4</th></tr><tr><th></th><th title=\"Float64\">Float64</th><th title=\"Float64\">Float64</th><th title=\"Float64\">Float64</th><th title=\"Float64\">Float64</th><th title=\"Float64\">Float64</th><th title=\"Float64\">Float64</th><th title=\"Float64\">Float64</th><th title=\"Float64\">Float64</th></tr></thead><tbody><tr><th>1</th><td>10.0</td><td>8.04</td><td>10.0</td><td>9.14</td><td>10.0</td><td>7.46</td><td>8.0</td><td>6.58</td></tr><tr><th>2</th><td>8.0</td><td>6.95</td><td>8.0</td><td>8.14</td><td>8.0</td><td>6.77</td><td>8.0</td><td>5.76</td></tr><tr><th>3</th><td>13.0</td><td>7.58</td><td>13.0</td><td>8.74</td><td>13.0</td><td>12.74</td><td>8.0</td><td>7.71</td></tr><tr><th>4</th><td>9.0</td><td>8.81</td><td>9.0</td><td>8.77</td><td>9.0</td><td>7.11</td><td>8.0</td><td>8.84</td></tr><tr><th>5</th><td>11.0</td><td>8.33</td><td>11.0</td><td>9.26</td><td>11.0</td><td>7.81</td><td>8.0</td><td>8.47</td></tr><tr><th>6</th><td>14.0</td><td>9.96</td><td>14.0</td><td>8.1</td><td>14.0</td><td>8.84</td><td>8.0</td><td>7.04</td></tr><tr><th>7</th><td>6.0</td><td>7.24</td><td>6.0</td><td>6.13</td><td>6.0</td><td>6.08</td><td>8.0</td><td>5.25</td></tr><tr><th>8</th><td>4.0</td><td>4.26</td><td>4.0</td><td>3.1</td><td>4.0</td><td>5.39</td><td>19.0</td><td>12.5</td></tr><tr><th>9</th><td>12.0</td><td>10.84</td><td>12.0</td><td>9.13</td><td>12.0</td><td>8.15</td><td>8.0</td><td>5.56</td></tr><tr><th>10</th><td>7.0</td><td>4.82</td><td>7.0</td><td>7.26</td><td>7.0</td><td>6.42</td><td>8.0</td><td>7.91</td></tr><tr><th>11</th><td>5.0</td><td>5.68</td><td>5.0</td><td>4.74</td><td>5.0</td><td>5.73</td><td>8.0</td><td>6.89</td></tr></tbody></table></div>"
      ],
      "text/latex": [
       "\\begin{tabular}{r|cccccccc}\n",
       "\t& x1 & y1 & x2 & y2 & x3 & y3 & x4 & y4\\\\\n",
       "\t\\hline\n",
       "\t& Float64 & Float64 & Float64 & Float64 & Float64 & Float64 & Float64 & Float64\\\\\n",
       "\t\\hline\n",
       "\t1 & 10.0 & 8.04 & 10.0 & 9.14 & 10.0 & 7.46 & 8.0 & 6.58 \\\\\n",
       "\t2 & 8.0 & 6.95 & 8.0 & 8.14 & 8.0 & 6.77 & 8.0 & 5.76 \\\\\n",
       "\t3 & 13.0 & 7.58 & 13.0 & 8.74 & 13.0 & 12.74 & 8.0 & 7.71 \\\\\n",
       "\t4 & 9.0 & 8.81 & 9.0 & 8.77 & 9.0 & 7.11 & 8.0 & 8.84 \\\\\n",
       "\t5 & 11.0 & 8.33 & 11.0 & 9.26 & 11.0 & 7.81 & 8.0 & 8.47 \\\\\n",
       "\t6 & 14.0 & 9.96 & 14.0 & 8.1 & 14.0 & 8.84 & 8.0 & 7.04 \\\\\n",
       "\t7 & 6.0 & 7.24 & 6.0 & 6.13 & 6.0 & 6.08 & 8.0 & 5.25 \\\\\n",
       "\t8 & 4.0 & 4.26 & 4.0 & 3.1 & 4.0 & 5.39 & 19.0 & 12.5 \\\\\n",
       "\t9 & 12.0 & 10.84 & 12.0 & 9.13 & 12.0 & 8.15 & 8.0 & 5.56 \\\\\n",
       "\t10 & 7.0 & 4.82 & 7.0 & 7.26 & 7.0 & 6.42 & 8.0 & 7.91 \\\\\n",
       "\t11 & 5.0 & 5.68 & 5.0 & 4.74 & 5.0 & 5.73 & 8.0 & 6.89 \\\\\n",
       "\\end{tabular}\n"
      ],
      "text/plain": [
       "\u001b[1m11×8 DataFrame\u001b[0m\n",
       "\u001b[1m Row \u001b[0m│\u001b[1m x1      \u001b[0m\u001b[1m y1      \u001b[0m\u001b[1m x2      \u001b[0m\u001b[1m y2      \u001b[0m\u001b[1m x3      \u001b[0m\u001b[1m y3      \u001b[0m\u001b[1m x4      \u001b[0m\u001b[1m y4      \u001b[0m\n",
       "\u001b[1m     \u001b[0m│\u001b[90m Float64 \u001b[0m\u001b[90m Float64 \u001b[0m\u001b[90m Float64 \u001b[0m\u001b[90m Float64 \u001b[0m\u001b[90m Float64 \u001b[0m\u001b[90m Float64 \u001b[0m\u001b[90m Float64 \u001b[0m\u001b[90m Float64 \u001b[0m\n",
       "─────┼────────────────────────────────────────────────────────────────────────\n",
       "   1 │    10.0     8.04     10.0     9.14     10.0     7.46      8.0     6.58\n",
       "   2 │     8.0     6.95      8.0     8.14      8.0     6.77      8.0     5.76\n",
       "   3 │    13.0     7.58     13.0     8.74     13.0    12.74      8.0     7.71\n",
       "   4 │     9.0     8.81      9.0     8.77      9.0     7.11      8.0     8.84\n",
       "   5 │    11.0     8.33     11.0     9.26     11.0     7.81      8.0     8.47\n",
       "   6 │    14.0     9.96     14.0     8.1      14.0     8.84      8.0     7.04\n",
       "   7 │     6.0     7.24      6.0     6.13      6.0     6.08      8.0     5.25\n",
       "   8 │     4.0     4.26      4.0     3.1       4.0     5.39     19.0    12.5\n",
       "   9 │    12.0    10.84     12.0     9.13     12.0     8.15      8.0     5.56\n",
       "  10 │     7.0     4.82      7.0     7.26      7.0     6.42      8.0     7.91\n",
       "  11 │     5.0     5.68      5.0     4.74      5.0     5.73      8.0     6.89"
      ]
     },
     "execution_count": 17,
     "metadata": {},
     "output_type": "execute_result"
    }
   ],
   "source": [
    "DataFrame([string(v, i) => getproperty(data[i], v)\n",
    "           for i in 1:4 for v in [:x, :y]])"
   ]
  },
  {
   "cell_type": "markdown",
   "id": "b8cd476e",
   "metadata": {
    "pycharm": {
     "name": "#%% md\n"
    }
   },
   "source": [
    "### Constructor using a dictionary"
   ]
  },
  {
   "cell_type": "code",
   "execution_count": 18,
   "id": "bd93c6d7",
   "metadata": {},
   "outputs": [
    {
     "data": {
      "text/plain": [
       "Dict{String, Vector{Float64}} with 8 entries:\n",
       "  \"y3\" => [7.46, 6.77, 12.74, 7.11, 7.81, 8.84, 6.08, 5.39, 8.15, 6.42, 5.73]\n",
       "  \"x1\" => [10.0, 8.0, 13.0, 9.0, 11.0, 14.0, 6.0, 4.0, 12.0, 7.0, 5.0]\n",
       "  \"y1\" => [8.04, 6.95, 7.58, 8.81, 8.33, 9.96, 7.24, 4.26, 10.84, 4.82, 5.68]\n",
       "  \"y4\" => [6.58, 5.76, 7.71, 8.84, 8.47, 7.04, 5.25, 12.5, 5.56, 7.91, 6.89]\n",
       "  \"x4\" => [8.0, 8.0, 8.0, 8.0, 8.0, 8.0, 8.0, 19.0, 8.0, 8.0, 8.0]\n",
       "  \"x2\" => [10.0, 8.0, 13.0, 9.0, 11.0, 14.0, 6.0, 4.0, 12.0, 7.0, 5.0]\n",
       "  \"y2\" => [9.14, 8.14, 8.74, 8.77, 9.26, 8.1, 6.13, 3.1, 9.13, 7.26, 4.74]\n",
       "  \"x3\" => [10.0, 8.0, 13.0, 9.0, 11.0, 14.0, 6.0, 4.0, 12.0, 7.0, 5.0]"
      ]
     },
     "execution_count": 18,
     "metadata": {},
     "output_type": "execute_result"
    }
   ],
   "source": [
    "data_dict = Dict([string(v, i) => getproperty(data[i], v)\n",
    "                  for i in 1:4 for v in [:x, :y]])"
   ]
  },
  {
   "cell_type": "code",
   "execution_count": 19,
   "id": "f034f0ec",
   "metadata": {},
   "outputs": [
    {
     "data": {
      "text/plain": [
       "8-element Vector{Pair{String, Vector{Float64}}}:\n",
       " \"y3\" => [7.46, 6.77, 12.74, 7.11, 7.81, 8.84, 6.08, 5.39, 8.15, 6.42, 5.73]\n",
       " \"x1\" => [10.0, 8.0, 13.0, 9.0, 11.0, 14.0, 6.0, 4.0, 12.0, 7.0, 5.0]\n",
       " \"y1\" => [8.04, 6.95, 7.58, 8.81, 8.33, 9.96, 7.24, 4.26, 10.84, 4.82, 5.68]\n",
       " \"y4\" => [6.58, 5.76, 7.71, 8.84, 8.47, 7.04, 5.25, 12.5, 5.56, 7.91, 6.89]\n",
       " \"x4\" => [8.0, 8.0, 8.0, 8.0, 8.0, 8.0, 8.0, 19.0, 8.0, 8.0, 8.0]\n",
       " \"x2\" => [10.0, 8.0, 13.0, 9.0, 11.0, 14.0, 6.0, 4.0, 12.0, 7.0, 5.0]\n",
       " \"y2\" => [9.14, 8.14, 8.74, 8.77, 9.26, 8.1, 6.13, 3.1, 9.13, 7.26, 4.74]\n",
       " \"x3\" => [10.0, 8.0, 13.0, 9.0, 11.0, 14.0, 6.0, 4.0, 12.0, 7.0, 5.0]"
      ]
     },
     "execution_count": 19,
     "metadata": {},
     "output_type": "execute_result"
    }
   ],
   "source": [
    "collect(data_dict)"
   ]
  },
  {
   "cell_type": "code",
   "execution_count": 20,
   "id": "541b00c0",
   "metadata": {
    "pycharm": {
     "name": "#%% raw\n"
    }
   },
   "outputs": [
    {
     "data": {
      "text/html": [
       "<div class=\"data-frame\"><p>11 rows × 8 columns</p><table class=\"data-frame\"><thead><tr><th></th><th>x1</th><th>x2</th><th>x3</th><th>x4</th><th>y1</th><th>y2</th><th>y3</th><th>y4</th></tr><tr><th></th><th title=\"Float64\">Float64</th><th title=\"Float64\">Float64</th><th title=\"Float64\">Float64</th><th title=\"Float64\">Float64</th><th title=\"Float64\">Float64</th><th title=\"Float64\">Float64</th><th title=\"Float64\">Float64</th><th title=\"Float64\">Float64</th></tr></thead><tbody><tr><th>1</th><td>10.0</td><td>10.0</td><td>10.0</td><td>8.0</td><td>8.04</td><td>9.14</td><td>7.46</td><td>6.58</td></tr><tr><th>2</th><td>8.0</td><td>8.0</td><td>8.0</td><td>8.0</td><td>6.95</td><td>8.14</td><td>6.77</td><td>5.76</td></tr><tr><th>3</th><td>13.0</td><td>13.0</td><td>13.0</td><td>8.0</td><td>7.58</td><td>8.74</td><td>12.74</td><td>7.71</td></tr><tr><th>4</th><td>9.0</td><td>9.0</td><td>9.0</td><td>8.0</td><td>8.81</td><td>8.77</td><td>7.11</td><td>8.84</td></tr><tr><th>5</th><td>11.0</td><td>11.0</td><td>11.0</td><td>8.0</td><td>8.33</td><td>9.26</td><td>7.81</td><td>8.47</td></tr><tr><th>6</th><td>14.0</td><td>14.0</td><td>14.0</td><td>8.0</td><td>9.96</td><td>8.1</td><td>8.84</td><td>7.04</td></tr><tr><th>7</th><td>6.0</td><td>6.0</td><td>6.0</td><td>8.0</td><td>7.24</td><td>6.13</td><td>6.08</td><td>5.25</td></tr><tr><th>8</th><td>4.0</td><td>4.0</td><td>4.0</td><td>19.0</td><td>4.26</td><td>3.1</td><td>5.39</td><td>12.5</td></tr><tr><th>9</th><td>12.0</td><td>12.0</td><td>12.0</td><td>8.0</td><td>10.84</td><td>9.13</td><td>8.15</td><td>5.56</td></tr><tr><th>10</th><td>7.0</td><td>7.0</td><td>7.0</td><td>8.0</td><td>4.82</td><td>7.26</td><td>6.42</td><td>7.91</td></tr><tr><th>11</th><td>5.0</td><td>5.0</td><td>5.0</td><td>8.0</td><td>5.68</td><td>4.74</td><td>5.73</td><td>6.89</td></tr></tbody></table></div>"
      ],
      "text/latex": [
       "\\begin{tabular}{r|cccccccc}\n",
       "\t& x1 & x2 & x3 & x4 & y1 & y2 & y3 & y4\\\\\n",
       "\t\\hline\n",
       "\t& Float64 & Float64 & Float64 & Float64 & Float64 & Float64 & Float64 & Float64\\\\\n",
       "\t\\hline\n",
       "\t1 & 10.0 & 10.0 & 10.0 & 8.0 & 8.04 & 9.14 & 7.46 & 6.58 \\\\\n",
       "\t2 & 8.0 & 8.0 & 8.0 & 8.0 & 6.95 & 8.14 & 6.77 & 5.76 \\\\\n",
       "\t3 & 13.0 & 13.0 & 13.0 & 8.0 & 7.58 & 8.74 & 12.74 & 7.71 \\\\\n",
       "\t4 & 9.0 & 9.0 & 9.0 & 8.0 & 8.81 & 8.77 & 7.11 & 8.84 \\\\\n",
       "\t5 & 11.0 & 11.0 & 11.0 & 8.0 & 8.33 & 9.26 & 7.81 & 8.47 \\\\\n",
       "\t6 & 14.0 & 14.0 & 14.0 & 8.0 & 9.96 & 8.1 & 8.84 & 7.04 \\\\\n",
       "\t7 & 6.0 & 6.0 & 6.0 & 8.0 & 7.24 & 6.13 & 6.08 & 5.25 \\\\\n",
       "\t8 & 4.0 & 4.0 & 4.0 & 19.0 & 4.26 & 3.1 & 5.39 & 12.5 \\\\\n",
       "\t9 & 12.0 & 12.0 & 12.0 & 8.0 & 10.84 & 9.13 & 8.15 & 5.56 \\\\\n",
       "\t10 & 7.0 & 7.0 & 7.0 & 8.0 & 4.82 & 7.26 & 6.42 & 7.91 \\\\\n",
       "\t11 & 5.0 & 5.0 & 5.0 & 8.0 & 5.68 & 4.74 & 5.73 & 6.89 \\\\\n",
       "\\end{tabular}\n"
      ],
      "text/plain": [
       "\u001b[1m11×8 DataFrame\u001b[0m\n",
       "\u001b[1m Row \u001b[0m│\u001b[1m x1      \u001b[0m\u001b[1m x2      \u001b[0m\u001b[1m x3      \u001b[0m\u001b[1m x4      \u001b[0m\u001b[1m y1      \u001b[0m\u001b[1m y2      \u001b[0m\u001b[1m y3      \u001b[0m\u001b[1m y4      \u001b[0m\n",
       "\u001b[1m     \u001b[0m│\u001b[90m Float64 \u001b[0m\u001b[90m Float64 \u001b[0m\u001b[90m Float64 \u001b[0m\u001b[90m Float64 \u001b[0m\u001b[90m Float64 \u001b[0m\u001b[90m Float64 \u001b[0m\u001b[90m Float64 \u001b[0m\u001b[90m Float64 \u001b[0m\n",
       "─────┼────────────────────────────────────────────────────────────────────────\n",
       "   1 │    10.0     10.0     10.0      8.0     8.04     9.14     7.46     6.58\n",
       "   2 │     8.0      8.0      8.0      8.0     6.95     8.14     6.77     5.76\n",
       "   3 │    13.0     13.0     13.0      8.0     7.58     8.74    12.74     7.71\n",
       "   4 │     9.0      9.0      9.0      8.0     8.81     8.77     7.11     8.84\n",
       "   5 │    11.0     11.0     11.0      8.0     8.33     9.26     7.81     8.47\n",
       "   6 │    14.0     14.0     14.0      8.0     9.96     8.1      8.84     7.04\n",
       "   7 │     6.0      6.0      6.0      8.0     7.24     6.13     6.08     5.25\n",
       "   8 │     4.0      4.0      4.0     19.0     4.26     3.1      5.39    12.5\n",
       "   9 │    12.0     12.0     12.0      8.0    10.84     9.13     8.15     5.56\n",
       "  10 │     7.0      7.0      7.0      8.0     4.82     7.26     6.42     7.91\n",
       "  11 │     5.0      5.0      5.0      8.0     5.68     4.74     5.73     6.89"
      ]
     },
     "execution_count": 20,
     "metadata": {},
     "output_type": "execute_result"
    }
   ],
   "source": [
    "DataFrame(data_dict)"
   ]
  },
  {
   "cell_type": "markdown",
   "id": "cd9baaf6",
   "metadata": {
    "pycharm": {
     "name": "#%% md\n"
    }
   },
   "source": [
    "### The `copycols` keyword argument"
   ]
  },
  {
   "cell_type": "code",
   "execution_count": 21,
   "id": "1f89ba84",
   "metadata": {},
   "outputs": [
    {
     "data": {
      "text/html": [
       "<div class=\"data-frame\"><p>11 rows × 1 columns</p><table class=\"data-frame\"><thead><tr><th></th><th>x1</th></tr><tr><th></th><th title=\"Float64\">Float64</th></tr></thead><tbody><tr><th>1</th><td>10.0</td></tr><tr><th>2</th><td>8.0</td></tr><tr><th>3</th><td>13.0</td></tr><tr><th>4</th><td>9.0</td></tr><tr><th>5</th><td>11.0</td></tr><tr><th>6</th><td>14.0</td></tr><tr><th>7</th><td>6.0</td></tr><tr><th>8</th><td>4.0</td></tr><tr><th>9</th><td>12.0</td></tr><tr><th>10</th><td>7.0</td></tr><tr><th>11</th><td>5.0</td></tr></tbody></table></div>"
      ],
      "text/latex": [
       "\\begin{tabular}{r|c}\n",
       "\t& x1\\\\\n",
       "\t\\hline\n",
       "\t& Float64\\\\\n",
       "\t\\hline\n",
       "\t1 & 10.0 \\\\\n",
       "\t2 & 8.0 \\\\\n",
       "\t3 & 13.0 \\\\\n",
       "\t4 & 9.0 \\\\\n",
       "\t5 & 11.0 \\\\\n",
       "\t6 & 14.0 \\\\\n",
       "\t7 & 6.0 \\\\\n",
       "\t8 & 4.0 \\\\\n",
       "\t9 & 12.0 \\\\\n",
       "\t10 & 7.0 \\\\\n",
       "\t11 & 5.0 \\\\\n",
       "\\end{tabular}\n"
      ],
      "text/plain": [
       "\u001b[1m11×1 DataFrame\u001b[0m\n",
       "\u001b[1m Row \u001b[0m│\u001b[1m x1      \u001b[0m\n",
       "\u001b[1m     \u001b[0m│\u001b[90m Float64 \u001b[0m\n",
       "─────┼─────────\n",
       "   1 │    10.0\n",
       "   2 │     8.0\n",
       "   3 │    13.0\n",
       "   4 │     9.0\n",
       "   5 │    11.0\n",
       "   6 │    14.0\n",
       "   7 │     6.0\n",
       "   8 │     4.0\n",
       "   9 │    12.0\n",
       "  10 │     7.0\n",
       "  11 │     5.0"
      ]
     },
     "execution_count": 21,
     "metadata": {},
     "output_type": "execute_result"
    }
   ],
   "source": [
    "df1 = DataFrame(x1=data.set1.x)"
   ]
  },
  {
   "cell_type": "code",
   "execution_count": 22,
   "id": "f11fbcb4",
   "metadata": {
    "pycharm": {
     "name": "#%% raw\n"
    }
   },
   "outputs": [
    {
     "data": {
      "text/plain": [
       "false"
      ]
     },
     "execution_count": 22,
     "metadata": {},
     "output_type": "execute_result"
    }
   ],
   "source": [
    "df1.x1 === data.set1.x"
   ]
  },
  {
   "cell_type": "code",
   "execution_count": 23,
   "id": "75966f62",
   "metadata": {},
   "outputs": [
    {
     "data": {
      "text/html": [
       "<div class=\"data-frame\"><p>11 rows × 1 columns</p><table class=\"data-frame\"><thead><tr><th></th><th>x1</th></tr><tr><th></th><th title=\"Float64\">Float64</th></tr></thead><tbody><tr><th>1</th><td>10.0</td></tr><tr><th>2</th><td>8.0</td></tr><tr><th>3</th><td>13.0</td></tr><tr><th>4</th><td>9.0</td></tr><tr><th>5</th><td>11.0</td></tr><tr><th>6</th><td>14.0</td></tr><tr><th>7</th><td>6.0</td></tr><tr><th>8</th><td>4.0</td></tr><tr><th>9</th><td>12.0</td></tr><tr><th>10</th><td>7.0</td></tr><tr><th>11</th><td>5.0</td></tr></tbody></table></div>"
      ],
      "text/latex": [
       "\\begin{tabular}{r|c}\n",
       "\t& x1\\\\\n",
       "\t\\hline\n",
       "\t& Float64\\\\\n",
       "\t\\hline\n",
       "\t1 & 10.0 \\\\\n",
       "\t2 & 8.0 \\\\\n",
       "\t3 & 13.0 \\\\\n",
       "\t4 & 9.0 \\\\\n",
       "\t5 & 11.0 \\\\\n",
       "\t6 & 14.0 \\\\\n",
       "\t7 & 6.0 \\\\\n",
       "\t8 & 4.0 \\\\\n",
       "\t9 & 12.0 \\\\\n",
       "\t10 & 7.0 \\\\\n",
       "\t11 & 5.0 \\\\\n",
       "\\end{tabular}\n"
      ],
      "text/plain": [
       "\u001b[1m11×1 DataFrame\u001b[0m\n",
       "\u001b[1m Row \u001b[0m│\u001b[1m x1      \u001b[0m\n",
       "\u001b[1m     \u001b[0m│\u001b[90m Float64 \u001b[0m\n",
       "─────┼─────────\n",
       "   1 │    10.0\n",
       "   2 │     8.0\n",
       "   3 │    13.0\n",
       "   4 │     9.0\n",
       "   5 │    11.0\n",
       "   6 │    14.0\n",
       "   7 │     6.0\n",
       "   8 │     4.0\n",
       "   9 │    12.0\n",
       "  10 │     7.0\n",
       "  11 │     5.0"
      ]
     },
     "execution_count": 23,
     "metadata": {},
     "output_type": "execute_result"
    }
   ],
   "source": [
    "df2 = DataFrame(x1=data.set1.x; copycols=false)"
   ]
  },
  {
   "cell_type": "code",
   "execution_count": 24,
   "id": "1e5ac6ab",
   "metadata": {},
   "outputs": [
    {
     "data": {
      "text/plain": [
       "true"
      ]
     },
     "execution_count": 24,
     "metadata": {},
     "output_type": "execute_result"
    }
   ],
   "source": [
    "df2.x1 === data.set1.x"
   ]
  },
  {
   "cell_type": "markdown",
   "id": "89034766",
   "metadata": {
    "pycharm": {
     "name": "#%% md\n"
    }
   },
   "source": [
    "### Rules of handling non-vector arguments"
   ]
  },
  {
   "cell_type": "code",
   "execution_count": 25,
   "id": "8c19348e",
   "metadata": {},
   "outputs": [
    {
     "data": {
      "text/html": [
       "<div class=\"data-frame\"><p>3 rows × 2 columns</p><table class=\"data-frame\"><thead><tr><th></th><th>x</th><th>y</th></tr><tr><th></th><th title=\"Int64\">Int64</th><th title=\"Int64\">Int64</th></tr></thead><tbody><tr><th>1</th><td>1</td><td>1</td></tr><tr><th>2</th><td>2</td><td>1</td></tr><tr><th>3</th><td>3</td><td>1</td></tr></tbody></table></div>"
      ],
      "text/latex": [
       "\\begin{tabular}{r|cc}\n",
       "\t& x & y\\\\\n",
       "\t\\hline\n",
       "\t& Int64 & Int64\\\\\n",
       "\t\\hline\n",
       "\t1 & 1 & 1 \\\\\n",
       "\t2 & 2 & 1 \\\\\n",
       "\t3 & 3 & 1 \\\\\n",
       "\\end{tabular}\n"
      ],
      "text/plain": [
       "\u001b[1m3×2 DataFrame\u001b[0m\n",
       "\u001b[1m Row \u001b[0m│\u001b[1m x     \u001b[0m\u001b[1m y     \u001b[0m\n",
       "\u001b[1m     \u001b[0m│\u001b[90m Int64 \u001b[0m\u001b[90m Int64 \u001b[0m\n",
       "─────┼──────────────\n",
       "   1 │     1      1\n",
       "   2 │     2      1\n",
       "   3 │     3      1"
      ]
     },
     "execution_count": 25,
     "metadata": {},
     "output_type": "execute_result"
    }
   ],
   "source": [
    "df = DataFrame(x=1:3, y=1)"
   ]
  },
  {
   "cell_type": "code",
   "execution_count": 26,
   "id": "041a63f7",
   "metadata": {},
   "outputs": [
    {
     "ename": "LoadError",
     "evalue": "DimensionMismatch(\"column :x has length 1 and column :y has length 3\")",
     "output_type": "error",
     "traceback": [
      "DimensionMismatch(\"column :x has length 1 and column :y has length 3\")",
      "",
      "Stacktrace:",
      " [1] DataFrame(columns::Vector{Any}, colindex::DataFrames.Index; copycols::Bool)",
      "   @ DataFrames C:\\Users\\bogum\\.julia\\packages\\DataFrames\\zqFGs\\src\\dataframe\\dataframe.jl:192",
      " [2] DataFrame(; kwargs::Base.Pairs{Symbol, Vector{Int64}, Tuple{Symbol, Symbol}, NamedTuple{(:x, :y), Tuple{Vector{Int64}, Vector{Int64}}}})",
      "   @ DataFrames C:\\Users\\bogum\\.julia\\packages\\DataFrames\\zqFGs\\src\\dataframe\\dataframe.jl:313",
      " [3] top-level scope",
      "   @ In[26]:1",
      " [4] eval",
      "   @ .\\boot.jl:373 [inlined]",
      " [5] include_string(mapexpr::typeof(REPL.softscope), mod::Module, code::String, filename::String)",
      "   @ Base .\\loading.jl:1196"
     ]
    }
   ],
   "source": [
    "DataFrame(x=[1], y=[1, 2, 3])"
   ]
  },
  {
   "cell_type": "markdown",
   "id": "65fc47bf",
   "metadata": {
    "pycharm": {
     "name": "#%% md\n"
    }
   },
   "source": [
    "### Integration of Julia with R"
   ]
  },
  {
   "cell_type": "code",
   "execution_count": 27,
   "id": "443a8f4d",
   "metadata": {},
   "outputs": [
    {
     "data": {
      "text/plain": [
       "RObject{VecSxp}\n",
       "  a b c\n",
       "1 1 1 1\n",
       "2 2 2 2\n",
       "3 3 1 3\n",
       "4 4 2 1\n",
       "5 5 1 2\n",
       "6 6 2 3\n"
      ]
     },
     "execution_count": 27,
     "metadata": {},
     "output_type": "execute_result"
    }
   ],
   "source": [
    "using RCall\n",
    "r_df = R\"data.frame(a=1:6, b=1:2, c=1:3)\""
   ]
  },
  {
   "cell_type": "code",
   "execution_count": 28,
   "id": "3773bfaa",
   "metadata": {},
   "outputs": [
    {
     "data": {
      "text/html": [
       "<div class=\"data-frame\"><p>6 rows × 3 columns</p><table class=\"data-frame\"><thead><tr><th></th><th>a</th><th>b</th><th>c</th></tr><tr><th></th><th title=\"Int64\">Int64</th><th title=\"Int64\">Int64</th><th title=\"Int64\">Int64</th></tr></thead><tbody><tr><th>1</th><td>1</td><td>1</td><td>1</td></tr><tr><th>2</th><td>2</td><td>2</td><td>2</td></tr><tr><th>3</th><td>3</td><td>1</td><td>3</td></tr><tr><th>4</th><td>4</td><td>2</td><td>1</td></tr><tr><th>5</th><td>5</td><td>1</td><td>2</td></tr><tr><th>6</th><td>6</td><td>2</td><td>3</td></tr></tbody></table></div>"
      ],
      "text/latex": [
       "\\begin{tabular}{r|ccc}\n",
       "\t& a & b & c\\\\\n",
       "\t\\hline\n",
       "\t& Int64 & Int64 & Int64\\\\\n",
       "\t\\hline\n",
       "\t1 & 1 & 1 & 1 \\\\\n",
       "\t2 & 2 & 2 & 2 \\\\\n",
       "\t3 & 3 & 1 & 3 \\\\\n",
       "\t4 & 4 & 2 & 1 \\\\\n",
       "\t5 & 5 & 1 & 2 \\\\\n",
       "\t6 & 6 & 2 & 3 \\\\\n",
       "\\end{tabular}\n"
      ],
      "text/plain": [
       "\u001b[1m6×3 DataFrame\u001b[0m\n",
       "\u001b[1m Row \u001b[0m│\u001b[1m a     \u001b[0m\u001b[1m b     \u001b[0m\u001b[1m c     \u001b[0m\n",
       "\u001b[1m     \u001b[0m│\u001b[90m Int64 \u001b[0m\u001b[90m Int64 \u001b[0m\u001b[90m Int64 \u001b[0m\n",
       "─────┼─────────────────────\n",
       "   1 │     1      1      1\n",
       "   2 │     2      2      2\n",
       "   3 │     3      1      3\n",
       "   4 │     4      2      1\n",
       "   5 │     5      1      2\n",
       "   6 │     6      2      3"
      ]
     },
     "execution_count": 28,
     "metadata": {},
     "output_type": "execute_result"
    }
   ],
   "source": [
    "julia_df = rcopy(r_df)"
   ]
  },
  {
   "cell_type": "markdown",
   "id": "52811c83",
   "metadata": {
    "pycharm": {
     "name": "#%% md\n"
    }
   },
   "source": [
    "### Creating a data frame using a Tables.jl interface"
   ]
  },
  {
   "cell_type": "code",
   "execution_count": 29,
   "id": "d1ee9a0b",
   "metadata": {},
   "outputs": [
    {
     "data": {
      "text/plain": [
       "(x = [10.0, 8.0, 13.0, 9.0, 11.0, 14.0, 6.0, 4.0, 12.0, 7.0, 5.0], y = [8.04, 6.95, 7.58, 8.81, 8.33, 9.96, 7.24, 4.26, 10.84, 4.82, 5.68])"
      ]
     },
     "execution_count": 29,
     "metadata": {},
     "output_type": "execute_result"
    }
   ],
   "source": [
    "data.set1"
   ]
  },
  {
   "cell_type": "code",
   "execution_count": 30,
   "id": "07abb6ae",
   "metadata": {},
   "outputs": [
    {
     "data": {
      "text/html": [
       "<div class=\"data-frame\"><p>11 rows × 2 columns</p><table class=\"data-frame\"><thead><tr><th></th><th>x</th><th>y</th></tr><tr><th></th><th title=\"Float64\">Float64</th><th title=\"Float64\">Float64</th></tr></thead><tbody><tr><th>1</th><td>10.0</td><td>8.04</td></tr><tr><th>2</th><td>8.0</td><td>6.95</td></tr><tr><th>3</th><td>13.0</td><td>7.58</td></tr><tr><th>4</th><td>9.0</td><td>8.81</td></tr><tr><th>5</th><td>11.0</td><td>8.33</td></tr><tr><th>6</th><td>14.0</td><td>9.96</td></tr><tr><th>7</th><td>6.0</td><td>7.24</td></tr><tr><th>8</th><td>4.0</td><td>4.26</td></tr><tr><th>9</th><td>12.0</td><td>10.84</td></tr><tr><th>10</th><td>7.0</td><td>4.82</td></tr><tr><th>11</th><td>5.0</td><td>5.68</td></tr></tbody></table></div>"
      ],
      "text/latex": [
       "\\begin{tabular}{r|cc}\n",
       "\t& x & y\\\\\n",
       "\t\\hline\n",
       "\t& Float64 & Float64\\\\\n",
       "\t\\hline\n",
       "\t1 & 10.0 & 8.04 \\\\\n",
       "\t2 & 8.0 & 6.95 \\\\\n",
       "\t3 & 13.0 & 7.58 \\\\\n",
       "\t4 & 9.0 & 8.81 \\\\\n",
       "\t5 & 11.0 & 8.33 \\\\\n",
       "\t6 & 14.0 & 9.96 \\\\\n",
       "\t7 & 6.0 & 7.24 \\\\\n",
       "\t8 & 4.0 & 4.26 \\\\\n",
       "\t9 & 12.0 & 10.84 \\\\\n",
       "\t10 & 7.0 & 4.82 \\\\\n",
       "\t11 & 5.0 & 5.68 \\\\\n",
       "\\end{tabular}\n"
      ],
      "text/plain": [
       "\u001b[1m11×2 DataFrame\u001b[0m\n",
       "\u001b[1m Row \u001b[0m│\u001b[1m x       \u001b[0m\u001b[1m y       \u001b[0m\n",
       "\u001b[1m     \u001b[0m│\u001b[90m Float64 \u001b[0m\u001b[90m Float64 \u001b[0m\n",
       "─────┼──────────────────\n",
       "   1 │    10.0     8.04\n",
       "   2 │     8.0     6.95\n",
       "   3 │    13.0     7.58\n",
       "   4 │     9.0     8.81\n",
       "   5 │    11.0     8.33\n",
       "   6 │    14.0     9.96\n",
       "   7 │     6.0     7.24\n",
       "   8 │     4.0     4.26\n",
       "   9 │    12.0    10.84\n",
       "  10 │     7.0     4.82\n",
       "  11 │     5.0     5.68"
      ]
     },
     "execution_count": 30,
     "metadata": {},
     "output_type": "execute_result"
    }
   ],
   "source": [
    "DataFrame(data.set1)"
   ]
  },
  {
   "cell_type": "code",
   "execution_count": 31,
   "id": "78bfdd4d",
   "metadata": {},
   "outputs": [
    {
     "data": {
      "text/html": [
       "<div class=\"data-frame\"><p>3 rows × 2 columns</p><table class=\"data-frame\"><thead><tr><th></th><th>a</th><th>b</th></tr><tr><th></th><th title=\"Int64\">Int64</th><th title=\"Int64\">Int64</th></tr></thead><tbody><tr><th>1</th><td>1</td><td>2</td></tr><tr><th>2</th><td>3</td><td>4</td></tr><tr><th>3</th><td>5</td><td>6</td></tr></tbody></table></div>"
      ],
      "text/latex": [
       "\\begin{tabular}{r|cc}\n",
       "\t& a & b\\\\\n",
       "\t\\hline\n",
       "\t& Int64 & Int64\\\\\n",
       "\t\\hline\n",
       "\t1 & 1 & 2 \\\\\n",
       "\t2 & 3 & 4 \\\\\n",
       "\t3 & 5 & 6 \\\\\n",
       "\\end{tabular}\n"
      ],
      "text/plain": [
       "\u001b[1m3×2 DataFrame\u001b[0m\n",
       "\u001b[1m Row \u001b[0m│\u001b[1m a     \u001b[0m\u001b[1m b     \u001b[0m\n",
       "\u001b[1m     \u001b[0m│\u001b[90m Int64 \u001b[0m\u001b[90m Int64 \u001b[0m\n",
       "─────┼──────────────\n",
       "   1 │     1      2\n",
       "   2 │     3      4\n",
       "   3 │     5      6"
      ]
     },
     "execution_count": 31,
     "metadata": {},
     "output_type": "execute_result"
    }
   ],
   "source": [
    "DataFrame([(a=1, b=2), (a=3, b=4), (a=5, b=6)])"
   ]
  },
  {
   "cell_type": "code",
   "execution_count": 32,
   "id": "c785def8",
   "metadata": {},
   "outputs": [
    {
     "data": {
      "text/plain": [
       "(set1 = (x = [10.0, 8.0, 13.0, 9.0, 11.0, 14.0, 6.0, 4.0, 12.0, 7.0, 5.0], y = [8.04, 6.95, 7.58, 8.81, 8.33, 9.96, 7.24, 4.26, 10.84, 4.82, 5.68]), set2 = (x = [10.0, 8.0, 13.0, 9.0, 11.0, 14.0, 6.0, 4.0, 12.0, 7.0, 5.0], y = [9.14, 8.14, 8.74, 8.77, 9.26, 8.1, 6.13, 3.1, 9.13, 7.26, 4.74]), set3 = (x = [10.0, 8.0, 13.0, 9.0, 11.0, 14.0, 6.0, 4.0, 12.0, 7.0, 5.0], y = [7.46, 6.77, 12.74, 7.11, 7.81, 8.84, 6.08, 5.39, 8.15, 6.42, 5.73]), set4 = (x = [8.0, 8.0, 8.0, 8.0, 8.0, 8.0, 8.0, 19.0, 8.0, 8.0, 8.0], y = [6.58, 5.76, 7.71, 8.84, 8.47, 7.04, 5.25, 12.5, 5.56, 7.91, 6.89]))"
      ]
     },
     "execution_count": 32,
     "metadata": {},
     "output_type": "execute_result"
    }
   ],
   "source": [
    "data"
   ]
  },
  {
   "cell_type": "code",
   "execution_count": 33,
   "id": "f1e5c4d3",
   "metadata": {},
   "outputs": [
    {
     "data": {
      "text/html": [
       "<div class=\"data-frame\"><p>4 rows × 2 columns</p><table class=\"data-frame\"><thead><tr><th></th><th>x</th><th>y</th></tr><tr><th></th><th title=\"Vector{Float64}\">Array…</th><th title=\"Vector{Float64}\">Array…</th></tr></thead><tbody><tr><th>1</th><td>[10.0, 8.0, 13.0, 9.0, 11.0, 14.0, 6.0, 4.0, 12.0, 7.0, 5.0]</td><td>[8.04, 6.95, 7.58, 8.81, 8.33, 9.96, 7.24, 4.26, 10.84, 4.82, 5.68]</td></tr><tr><th>2</th><td>[10.0, 8.0, 13.0, 9.0, 11.0, 14.0, 6.0, 4.0, 12.0, 7.0, 5.0]</td><td>[9.14, 8.14, 8.74, 8.77, 9.26, 8.1, 6.13, 3.1, 9.13, 7.26, 4.74]</td></tr><tr><th>3</th><td>[10.0, 8.0, 13.0, 9.0, 11.0, 14.0, 6.0, 4.0, 12.0, 7.0, 5.0]</td><td>[7.46, 6.77, 12.74, 7.11, 7.81, 8.84, 6.08, 5.39, 8.15, 6.42, 5.73]</td></tr><tr><th>4</th><td>[8.0, 8.0, 8.0, 8.0, 8.0, 8.0, 8.0, 19.0, 8.0, 8.0, 8.0]</td><td>[6.58, 5.76, 7.71, 8.84, 8.47, 7.04, 5.25, 12.5, 5.56, 7.91, 6.89]</td></tr></tbody></table></div>"
      ],
      "text/latex": [
       "\\begin{tabular}{r|cc}\n",
       "\t& x & y\\\\\n",
       "\t\\hline\n",
       "\t& Array… & Array…\\\\\n",
       "\t\\hline\n",
       "\t1 & [10.0, 8.0, 13.0, 9.0, 11.0, 14.0, 6.0, 4.0, 12.0, 7.0, 5.0] & [8.04, 6.95, 7.58, 8.81, 8.33, 9.96, 7.24, 4.26, 10.84, 4.82, 5.68] \\\\\n",
       "\t2 & [10.0, 8.0, 13.0, 9.0, 11.0, 14.0, 6.0, 4.0, 12.0, 7.0, 5.0] & [9.14, 8.14, 8.74, 8.77, 9.26, 8.1, 6.13, 3.1, 9.13, 7.26, 4.74] \\\\\n",
       "\t3 & [10.0, 8.0, 13.0, 9.0, 11.0, 14.0, 6.0, 4.0, 12.0, 7.0, 5.0] & [7.46, 6.77, 12.74, 7.11, 7.81, 8.84, 6.08, 5.39, 8.15, 6.42, 5.73] \\\\\n",
       "\t4 & [8.0, 8.0, 8.0, 8.0, 8.0, 8.0, 8.0, 19.0, 8.0, 8.0, 8.0] & [6.58, 5.76, 7.71, 8.84, 8.47, 7.04, 5.25, 12.5, 5.56, 7.91, 6.89] \\\\\n",
       "\\end{tabular}\n"
      ],
      "text/plain": [
       "\u001b[1m4×2 DataFrame\u001b[0m\n",
       "\u001b[1m Row \u001b[0m│\u001b[1m x                                 \u001b[0m\u001b[1m y                                 \u001b[0m\n",
       "\u001b[1m     \u001b[0m│\u001b[90m Array…                            \u001b[0m\u001b[90m Array…                            \u001b[0m\n",
       "─────┼──────────────────────────────────────────────────────────────────────\n",
       "   1 │ [10.0, 8.0, 13.0, 9.0, 11.0, 14.…  [8.04, 6.95, 7.58, 8.81, 8.33, 9…\n",
       "   2 │ [10.0, 8.0, 13.0, 9.0, 11.0, 14.…  [9.14, 8.14, 8.74, 8.77, 9.26, 8…\n",
       "   3 │ [10.0, 8.0, 13.0, 9.0, 11.0, 14.…  [7.46, 6.77, 12.74, 7.11, 7.81, …\n",
       "   4 │ [8.0, 8.0, 8.0, 8.0, 8.0, 8.0, 8…  [6.58, 5.76, 7.71, 8.84, 8.47, 7…"
      ]
     },
     "execution_count": 33,
     "metadata": {},
     "output_type": "execute_result"
    }
   ],
   "source": [
    "aq2 = DataFrame(data)"
   ]
  },
  {
   "cell_type": "markdown",
   "id": "67d6ab01",
   "metadata": {
    "pycharm": {
     "name": "#%% md\n"
    }
   },
   "source": [
    "## Plotting a correlation matrix of data stored in a data frame"
   ]
  },
  {
   "cell_type": "code",
   "execution_count": 34,
   "id": "e034ddf6",
   "metadata": {},
   "outputs": [
    {
     "data": {
      "text/html": [
       "<div class=\"data-frame\"><p>11 rows × 8 columns</p><table class=\"data-frame\"><thead><tr><th></th><th>x1</th><th>y1</th><th>x2</th><th>y2</th><th>x3</th><th>y3</th><th>x4</th><th>y4</th></tr><tr><th></th><th title=\"Float64\">Float64</th><th title=\"Float64\">Float64</th><th title=\"Float64\">Float64</th><th title=\"Float64\">Float64</th><th title=\"Float64\">Float64</th><th title=\"Float64\">Float64</th><th title=\"Float64\">Float64</th><th title=\"Float64\">Float64</th></tr></thead><tbody><tr><th>1</th><td>10.0</td><td>8.04</td><td>10.0</td><td>9.14</td><td>10.0</td><td>7.46</td><td>8.0</td><td>6.58</td></tr><tr><th>2</th><td>8.0</td><td>6.95</td><td>8.0</td><td>8.14</td><td>8.0</td><td>6.77</td><td>8.0</td><td>5.76</td></tr><tr><th>3</th><td>13.0</td><td>7.58</td><td>13.0</td><td>8.74</td><td>13.0</td><td>12.74</td><td>8.0</td><td>7.71</td></tr><tr><th>4</th><td>9.0</td><td>8.81</td><td>9.0</td><td>8.77</td><td>9.0</td><td>7.11</td><td>8.0</td><td>8.84</td></tr><tr><th>5</th><td>11.0</td><td>8.33</td><td>11.0</td><td>9.26</td><td>11.0</td><td>7.81</td><td>8.0</td><td>8.47</td></tr><tr><th>6</th><td>14.0</td><td>9.96</td><td>14.0</td><td>8.1</td><td>14.0</td><td>8.84</td><td>8.0</td><td>7.04</td></tr><tr><th>7</th><td>6.0</td><td>7.24</td><td>6.0</td><td>6.13</td><td>6.0</td><td>6.08</td><td>8.0</td><td>5.25</td></tr><tr><th>8</th><td>4.0</td><td>4.26</td><td>4.0</td><td>3.1</td><td>4.0</td><td>5.39</td><td>19.0</td><td>12.5</td></tr><tr><th>9</th><td>12.0</td><td>10.84</td><td>12.0</td><td>9.13</td><td>12.0</td><td>8.15</td><td>8.0</td><td>5.56</td></tr><tr><th>10</th><td>7.0</td><td>4.82</td><td>7.0</td><td>7.26</td><td>7.0</td><td>6.42</td><td>8.0</td><td>7.91</td></tr><tr><th>11</th><td>5.0</td><td>5.68</td><td>5.0</td><td>4.74</td><td>5.0</td><td>5.73</td><td>8.0</td><td>6.89</td></tr></tbody></table></div>"
      ],
      "text/latex": [
       "\\begin{tabular}{r|cccccccc}\n",
       "\t& x1 & y1 & x2 & y2 & x3 & y3 & x4 & y4\\\\\n",
       "\t\\hline\n",
       "\t& Float64 & Float64 & Float64 & Float64 & Float64 & Float64 & Float64 & Float64\\\\\n",
       "\t\\hline\n",
       "\t1 & 10.0 & 8.04 & 10.0 & 9.14 & 10.0 & 7.46 & 8.0 & 6.58 \\\\\n",
       "\t2 & 8.0 & 6.95 & 8.0 & 8.14 & 8.0 & 6.77 & 8.0 & 5.76 \\\\\n",
       "\t3 & 13.0 & 7.58 & 13.0 & 8.74 & 13.0 & 12.74 & 8.0 & 7.71 \\\\\n",
       "\t4 & 9.0 & 8.81 & 9.0 & 8.77 & 9.0 & 7.11 & 8.0 & 8.84 \\\\\n",
       "\t5 & 11.0 & 8.33 & 11.0 & 9.26 & 11.0 & 7.81 & 8.0 & 8.47 \\\\\n",
       "\t6 & 14.0 & 9.96 & 14.0 & 8.1 & 14.0 & 8.84 & 8.0 & 7.04 \\\\\n",
       "\t7 & 6.0 & 7.24 & 6.0 & 6.13 & 6.0 & 6.08 & 8.0 & 5.25 \\\\\n",
       "\t8 & 4.0 & 4.26 & 4.0 & 3.1 & 4.0 & 5.39 & 19.0 & 12.5 \\\\\n",
       "\t9 & 12.0 & 10.84 & 12.0 & 9.13 & 12.0 & 8.15 & 8.0 & 5.56 \\\\\n",
       "\t10 & 7.0 & 4.82 & 7.0 & 7.26 & 7.0 & 6.42 & 8.0 & 7.91 \\\\\n",
       "\t11 & 5.0 & 5.68 & 5.0 & 4.74 & 5.0 & 5.73 & 8.0 & 6.89 \\\\\n",
       "\\end{tabular}\n"
      ],
      "text/plain": [
       "\u001b[1m11×8 DataFrame\u001b[0m\n",
       "\u001b[1m Row \u001b[0m│\u001b[1m x1      \u001b[0m\u001b[1m y1      \u001b[0m\u001b[1m x2      \u001b[0m\u001b[1m y2      \u001b[0m\u001b[1m x3      \u001b[0m\u001b[1m y3      \u001b[0m\u001b[1m x4      \u001b[0m\u001b[1m y4      \u001b[0m\n",
       "\u001b[1m     \u001b[0m│\u001b[90m Float64 \u001b[0m\u001b[90m Float64 \u001b[0m\u001b[90m Float64 \u001b[0m\u001b[90m Float64 \u001b[0m\u001b[90m Float64 \u001b[0m\u001b[90m Float64 \u001b[0m\u001b[90m Float64 \u001b[0m\u001b[90m Float64 \u001b[0m\n",
       "─────┼────────────────────────────────────────────────────────────────────────\n",
       "   1 │    10.0     8.04     10.0     9.14     10.0     7.46      8.0     6.58\n",
       "   2 │     8.0     6.95      8.0     8.14      8.0     6.77      8.0     5.76\n",
       "   3 │    13.0     7.58     13.0     8.74     13.0    12.74      8.0     7.71\n",
       "   4 │     9.0     8.81      9.0     8.77      9.0     7.11      8.0     8.84\n",
       "   5 │    11.0     8.33     11.0     9.26     11.0     7.81      8.0     8.47\n",
       "   6 │    14.0     9.96     14.0     8.1      14.0     8.84      8.0     7.04\n",
       "   7 │     6.0     7.24      6.0     6.13      6.0     6.08      8.0     5.25\n",
       "   8 │     4.0     4.26      4.0     3.1       4.0     5.39     19.0    12.5\n",
       "   9 │    12.0    10.84     12.0     9.13     12.0     8.15      8.0     5.56\n",
       "  10 │     7.0     4.82      7.0     7.26      7.0     6.42      8.0     7.91\n",
       "  11 │     5.0     5.68      5.0     4.74      5.0     5.73      8.0     6.89"
      ]
     },
     "execution_count": 34,
     "metadata": {},
     "output_type": "execute_result"
    }
   ],
   "source": [
    "aq1"
   ]
  },
  {
   "cell_type": "code",
   "execution_count": 35,
   "id": "8aec2c24",
   "metadata": {
    "pycharm": {
     "name": "#%% raw\n"
    }
   },
   "outputs": [
    {
     "data": {
      "text/plain": [
       "8×8 Matrix{Float64}:\n",
       "  1.0        0.816421   1.0       …   0.816287  -0.5       -0.314047\n",
       "  0.816421   1.0        0.816421      0.468717  -0.529093  -0.489116\n",
       "  1.0        0.816421   1.0           0.816287  -0.5       -0.314047\n",
       "  0.816237   0.750005   0.816237      0.587919  -0.718437  -0.478095\n",
       "  1.0        0.816421   1.0           0.816287  -0.5       -0.314047\n",
       "  0.816287   0.468717   0.816287  …   1.0       -0.344661  -0.155472\n",
       " -0.5       -0.529093  -0.5          -0.344661   1.0        0.816521\n",
       " -0.314047  -0.489116  -0.314047     -0.155472   0.816521   1.0"
      ]
     },
     "execution_count": 35,
     "metadata": {},
     "output_type": "execute_result"
    }
   ],
   "source": [
    "using Statistics\n",
    "using StatsBase\n",
    "cor_mat = pairwise(cor, eachcol(aq1))"
   ]
  },
  {
   "cell_type": "code",
   "execution_count": 36,
   "id": "71010d06",
   "metadata": {
    "pycharm": {
     "name": "#%% raw\n"
    }
   },
   "outputs": [
    {
     "data": {
      "image/svg+xml": [
       "<?xml version=\"1.0\" encoding=\"utf-8\"?>\n",
       "<svg xmlns=\"http://www.w3.org/2000/svg\" xmlns:xlink=\"http://www.w3.org/1999/xlink\" width=\"400\" height=\"400\" viewBox=\"0 0 1600 1600\">\n",
       "<defs>\n",
       "  <clipPath id=\"clip050\">\n",
       "    <rect x=\"0\" y=\"0\" width=\"1600\" height=\"1600\"/>\n",
       "  </clipPath>\n",
       "</defs>\n",
       "<path clip-path=\"url(#clip050)\" d=\"\n",
       "M0 1600 L1600 1600 L1600 0 L0 0  Z\n",
       "  \" fill=\"#ffffff\" fill-rule=\"evenodd\" fill-opacity=\"1\"/>\n",
       "<defs>\n",
       "  <clipPath id=\"clip051\">\n",
       "    <rect x=\"320\" y=\"160\" width=\"1121\" height=\"1121\"/>\n",
       "  </clipPath>\n",
       "</defs>\n",
       "<path clip-path=\"url(#clip050)\" d=\"\n",
       "M133.182 1385.31 L1329.76 1385.31 L1329.76 131.097 L133.182 131.097  Z\n",
       "  \" fill=\"#ffffff\" fill-rule=\"evenodd\" fill-opacity=\"1\"/>\n",
       "<defs>\n",
       "  <clipPath id=\"clip052\">\n",
       "    <rect x=\"133\" y=\"131\" width=\"1198\" height=\"1255\"/>\n",
       "  </clipPath>\n",
       "</defs>\n",
       "<polyline clip-path=\"url(#clip052)\" style=\"stroke:#000000; stroke-linecap:butt; stroke-linejoin:round; stroke-width:2; stroke-opacity:0.1; fill:none\" points=\"\n",
       "  207.968,1385.31 207.968,131.097 \n",
       "  \"/>\n",
       "<polyline clip-path=\"url(#clip052)\" style=\"stroke:#000000; stroke-linecap:butt; stroke-linejoin:round; stroke-width:2; stroke-opacity:0.1; fill:none\" points=\"\n",
       "  357.541,1385.31 357.541,131.097 \n",
       "  \"/>\n",
       "<polyline clip-path=\"url(#clip052)\" style=\"stroke:#000000; stroke-linecap:butt; stroke-linejoin:round; stroke-width:2; stroke-opacity:0.1; fill:none\" points=\"\n",
       "  507.114,1385.31 507.114,131.097 \n",
       "  \"/>\n",
       "<polyline clip-path=\"url(#clip052)\" style=\"stroke:#000000; stroke-linecap:butt; stroke-linejoin:round; stroke-width:2; stroke-opacity:0.1; fill:none\" points=\"\n",
       "  656.686,1385.31 656.686,131.097 \n",
       "  \"/>\n",
       "<polyline clip-path=\"url(#clip052)\" style=\"stroke:#000000; stroke-linecap:butt; stroke-linejoin:round; stroke-width:2; stroke-opacity:0.1; fill:none\" points=\"\n",
       "  806.259,1385.31 806.259,131.097 \n",
       "  \"/>\n",
       "<polyline clip-path=\"url(#clip052)\" style=\"stroke:#000000; stroke-linecap:butt; stroke-linejoin:round; stroke-width:2; stroke-opacity:0.1; fill:none\" points=\"\n",
       "  955.832,1385.31 955.832,131.097 \n",
       "  \"/>\n",
       "<polyline clip-path=\"url(#clip052)\" style=\"stroke:#000000; stroke-linecap:butt; stroke-linejoin:round; stroke-width:2; stroke-opacity:0.1; fill:none\" points=\"\n",
       "  1105.4,1385.31 1105.4,131.097 \n",
       "  \"/>\n",
       "<polyline clip-path=\"url(#clip052)\" style=\"stroke:#000000; stroke-linecap:butt; stroke-linejoin:round; stroke-width:2; stroke-opacity:0.1; fill:none\" points=\"\n",
       "  1254.98,1385.31 1254.98,131.097 \n",
       "  \"/>\n",
       "<polyline clip-path=\"url(#clip050)\" style=\"stroke:#000000; stroke-linecap:butt; stroke-linejoin:round; stroke-width:4; stroke-opacity:1; fill:none\" points=\"\n",
       "  133.182,1385.31 1329.76,1385.31 \n",
       "  \"/>\n",
       "<polyline clip-path=\"url(#clip050)\" style=\"stroke:#000000; stroke-linecap:butt; stroke-linejoin:round; stroke-width:4; stroke-opacity:1; fill:none\" points=\"\n",
       "  207.968,1385.31 207.968,1368.65 \n",
       "  \"/>\n",
       "<polyline clip-path=\"url(#clip050)\" style=\"stroke:#000000; stroke-linecap:butt; stroke-linejoin:round; stroke-width:4; stroke-opacity:1; fill:none\" points=\"\n",
       "  357.541,1385.31 357.541,1368.65 \n",
       "  \"/>\n",
       "<polyline clip-path=\"url(#clip050)\" style=\"stroke:#000000; stroke-linecap:butt; stroke-linejoin:round; stroke-width:4; stroke-opacity:1; fill:none\" points=\"\n",
       "  507.114,1385.31 507.114,1368.65 \n",
       "  \"/>\n",
       "<polyline clip-path=\"url(#clip050)\" style=\"stroke:#000000; stroke-linecap:butt; stroke-linejoin:round; stroke-width:4; stroke-opacity:1; fill:none\" points=\"\n",
       "  656.686,1385.31 656.686,1368.65 \n",
       "  \"/>\n",
       "<polyline clip-path=\"url(#clip050)\" style=\"stroke:#000000; stroke-linecap:butt; stroke-linejoin:round; stroke-width:4; stroke-opacity:1; fill:none\" points=\"\n",
       "  806.259,1385.31 806.259,1368.65 \n",
       "  \"/>\n",
       "<polyline clip-path=\"url(#clip050)\" style=\"stroke:#000000; stroke-linecap:butt; stroke-linejoin:round; stroke-width:4; stroke-opacity:1; fill:none\" points=\"\n",
       "  955.832,1385.31 955.832,1368.65 \n",
       "  \"/>\n",
       "<polyline clip-path=\"url(#clip050)\" style=\"stroke:#000000; stroke-linecap:butt; stroke-linejoin:round; stroke-width:4; stroke-opacity:1; fill:none\" points=\"\n",
       "  1105.4,1385.31 1105.4,1368.65 \n",
       "  \"/>\n",
       "<polyline clip-path=\"url(#clip050)\" style=\"stroke:#000000; stroke-linecap:butt; stroke-linejoin:round; stroke-width:4; stroke-opacity:1; fill:none\" points=\"\n",
       "  1254.98,1385.31 1254.98,1368.65 \n",
       "  \"/>\n",
       "<path clip-path=\"url(#clip050)\" d=\"M206.382 1415.39 L197.007 1428 L206.869 1441.31 L201.845 1441.31 L194.299 1431.13 L186.753 1441.31 L181.73 1441.31 L191.799 1427.75 L182.586 1415.39 L187.609 1415.39 L194.484 1424.62 L201.359 1415.39 L206.382 1415.39 Z\" fill=\"#000000\" fill-rule=\"evenodd\" fill-opacity=\"1\" /><path clip-path=\"url(#clip050)\" d=\"M214.299 1437.38 L221.938 1437.38 L221.938 1411.01 L213.628 1412.68 L213.628 1408.42 L221.892 1406.75 L226.567 1406.75 L226.567 1437.38 L234.206 1437.38 L234.206 1441.31 L214.299 1441.31 L214.299 1437.38 Z\" fill=\"#000000\" fill-rule=\"evenodd\" fill-opacity=\"1\" /><path clip-path=\"url(#clip050)\" d=\"M345.168 1443.72 Q343.363 1448.35 341.65 1449.76 Q339.937 1451.18 337.066 1451.18 L333.664 1451.18 L333.664 1447.61 L336.164 1447.61 Q337.923 1447.61 338.895 1446.78 Q339.867 1445.94 341.048 1442.84 L341.812 1440.9 L331.326 1415.39 L335.84 1415.39 L343.941 1435.67 L352.043 1415.39 L356.557 1415.39 L345.168 1443.72 Z\" fill=\"#000000\" fill-rule=\"evenodd\" fill-opacity=\"1\" /><path clip-path=\"url(#clip050)\" d=\"M363.849 1437.38 L371.487 1437.38 L371.487 1411.01 L363.177 1412.68 L363.177 1408.42 L371.441 1406.75 L376.117 1406.75 L376.117 1437.38 L383.756 1437.38 L383.756 1441.31 L363.849 1441.31 L363.849 1437.38 Z\" fill=\"#000000\" fill-rule=\"evenodd\" fill-opacity=\"1\" /><path clip-path=\"url(#clip050)\" d=\"M505.713 1415.39 L496.338 1428 L506.199 1441.31 L501.176 1441.31 L493.63 1431.13 L486.084 1441.31 L481.06 1441.31 L491.13 1427.75 L481.917 1415.39 L486.94 1415.39 L493.815 1424.62 L500.69 1415.39 L505.713 1415.39 Z\" fill=\"#000000\" fill-rule=\"evenodd\" fill-opacity=\"1\" /><path clip-path=\"url(#clip050)\" d=\"M516.847 1437.38 L533.167 1437.38 L533.167 1441.31 L511.222 1441.31 L511.222 1437.38 Q513.884 1434.62 518.468 1430 Q523.074 1425.34 524.255 1424 Q526.5 1421.48 527.38 1419.74 Q528.282 1417.98 528.282 1416.29 Q528.282 1413.54 526.338 1411.8 Q524.417 1410.06 521.315 1410.06 Q519.116 1410.06 516.662 1410.83 Q514.232 1411.59 511.454 1413.14 L511.454 1408.42 Q514.278 1407.29 516.732 1406.71 Q519.185 1406.13 521.222 1406.13 Q526.593 1406.13 529.787 1408.81 Q532.981 1411.5 532.981 1415.99 Q532.981 1418.12 532.171 1420.04 Q531.384 1421.94 529.278 1424.53 Q528.699 1425.2 525.597 1428.42 Q522.495 1431.62 516.847 1437.38 Z\" fill=\"#000000\" fill-rule=\"evenodd\" fill-opacity=\"1\" /><path clip-path=\"url(#clip050)\" d=\"M644.499 1443.72 Q642.693 1448.35 640.98 1449.76 Q639.267 1451.18 636.397 1451.18 L632.994 1451.18 L632.994 1447.61 L635.494 1447.61 Q637.254 1447.61 638.226 1446.78 Q639.198 1445.94 640.379 1442.84 L641.142 1440.9 L630.656 1415.39 L635.17 1415.39 L643.272 1435.67 L651.374 1415.39 L655.888 1415.39 L644.499 1443.72 Z\" fill=\"#000000\" fill-rule=\"evenodd\" fill-opacity=\"1\" /><path clip-path=\"url(#clip050)\" d=\"M666.397 1437.38 L682.716 1437.38 L682.716 1441.31 L660.772 1441.31 L660.772 1437.38 Q663.434 1434.62 668.017 1430 Q672.624 1425.34 673.804 1424 Q676.05 1421.48 676.929 1419.74 Q677.832 1417.98 677.832 1416.29 Q677.832 1413.54 675.888 1411.8 Q673.966 1410.06 670.864 1410.06 Q668.665 1410.06 666.212 1410.83 Q663.781 1411.59 661.003 1413.14 L661.003 1408.42 Q663.827 1407.29 666.281 1406.71 Q668.735 1406.13 670.772 1406.13 Q676.142 1406.13 679.337 1408.81 Q682.531 1411.5 682.531 1415.99 Q682.531 1418.12 681.721 1420.04 Q680.934 1421.94 678.827 1424.53 Q678.249 1425.2 675.147 1428.42 Q672.045 1431.62 666.397 1437.38 Z\" fill=\"#000000\" fill-rule=\"evenodd\" fill-opacity=\"1\" /><path clip-path=\"url(#clip050)\" d=\"M804.384 1415.39 L795.009 1428 L804.87 1441.31 L799.847 1441.31 L792.301 1431.13 L784.755 1441.31 L779.731 1441.31 L789.801 1427.75 L780.588 1415.39 L785.611 1415.39 L792.486 1424.62 L799.361 1415.39 L804.384 1415.39 Z\" fill=\"#000000\" fill-rule=\"evenodd\" fill-opacity=\"1\" /><path clip-path=\"url(#clip050)\" d=\"M825.657 1422.68 Q829.014 1423.4 830.889 1425.67 Q832.787 1427.94 832.787 1431.27 Q832.787 1436.38 829.268 1439.18 Q825.75 1441.99 819.268 1441.99 Q817.092 1441.99 814.778 1441.55 Q812.486 1441.13 810.032 1440.27 L810.032 1435.76 Q811.977 1436.89 814.291 1437.47 Q816.606 1438.05 819.129 1438.05 Q823.528 1438.05 825.819 1436.31 Q828.134 1434.58 828.134 1431.27 Q828.134 1428.21 825.981 1426.5 Q823.852 1424.76 820.032 1424.76 L816.004 1424.76 L816.004 1420.92 L820.217 1420.92 Q823.666 1420.92 825.495 1419.56 Q827.324 1418.17 827.324 1415.57 Q827.324 1412.91 825.426 1411.5 Q823.551 1410.06 820.032 1410.06 Q818.111 1410.06 815.912 1410.48 Q813.713 1410.9 811.074 1411.78 L811.074 1407.61 Q813.736 1406.87 816.051 1406.5 Q818.389 1406.13 820.449 1406.13 Q825.773 1406.13 828.875 1408.56 Q831.977 1410.97 831.977 1415.09 Q831.977 1417.96 830.333 1419.95 Q828.69 1421.92 825.657 1422.68 Z\" fill=\"#000000\" fill-rule=\"evenodd\" fill-opacity=\"1\" /><path clip-path=\"url(#clip050)\" d=\"M943.17 1443.72 Q941.364 1448.35 939.651 1449.76 Q937.938 1451.18 935.068 1451.18 L931.665 1451.18 L931.665 1447.61 L934.165 1447.61 Q935.925 1447.61 936.897 1446.78 Q937.869 1445.94 939.05 1442.84 L939.813 1440.9 L929.327 1415.39 L933.841 1415.39 L941.943 1435.67 L950.045 1415.39 L954.559 1415.39 L943.17 1443.72 Z\" fill=\"#000000\" fill-rule=\"evenodd\" fill-opacity=\"1\" /><path clip-path=\"url(#clip050)\" d=\"M975.207 1422.68 Q978.563 1423.4 980.438 1425.67 Q982.336 1427.94 982.336 1431.27 Q982.336 1436.38 978.818 1439.18 Q975.299 1441.99 968.818 1441.99 Q966.642 1441.99 964.327 1441.55 Q962.036 1441.13 959.582 1440.27 L959.582 1435.76 Q961.526 1436.89 963.841 1437.47 Q966.156 1438.05 968.679 1438.05 Q973.077 1438.05 975.369 1436.31 Q977.684 1434.58 977.684 1431.27 Q977.684 1428.21 975.531 1426.5 Q973.401 1424.76 969.582 1424.76 L965.554 1424.76 L965.554 1420.92 L969.767 1420.92 Q973.216 1420.92 975.045 1419.56 Q976.873 1418.17 976.873 1415.57 Q976.873 1412.91 974.975 1411.5 Q973.1 1410.06 969.582 1410.06 Q967.661 1410.06 965.461 1410.48 Q963.262 1410.9 960.624 1411.78 L960.624 1407.61 Q963.286 1406.87 965.6 1406.5 Q967.938 1406.13 969.998 1406.13 Q975.323 1406.13 978.424 1408.56 Q981.526 1410.97 981.526 1415.09 Q981.526 1417.96 979.883 1419.95 Q978.239 1421.92 975.207 1422.68 Z\" fill=\"#000000\" fill-rule=\"evenodd\" fill-opacity=\"1\" /><path clip-path=\"url(#clip050)\" d=\"M1102.96 1415.39 L1093.59 1428 L1103.45 1441.31 L1098.43 1441.31 L1090.88 1431.13 L1083.33 1441.31 L1078.31 1441.31 L1088.38 1427.75 L1079.17 1415.39 L1084.19 1415.39 L1091.06 1424.62 L1097.94 1415.39 L1102.96 1415.39 Z\" fill=\"#000000\" fill-rule=\"evenodd\" fill-opacity=\"1\" /><path clip-path=\"url(#clip050)\" d=\"M1122.92 1410.83 L1111.11 1429.28 L1122.92 1429.28 L1122.92 1410.83 M1121.69 1406.75 L1127.57 1406.75 L1127.57 1429.28 L1132.5 1429.28 L1132.5 1433.17 L1127.57 1433.17 L1127.57 1441.31 L1122.92 1441.31 L1122.92 1433.17 L1107.31 1433.17 L1107.31 1428.65 L1121.69 1406.75 Z\" fill=\"#000000\" fill-rule=\"evenodd\" fill-opacity=\"1\" /><path clip-path=\"url(#clip050)\" d=\"M1241.75 1443.72 Q1239.94 1448.35 1238.23 1449.76 Q1236.52 1451.18 1233.65 1451.18 L1230.24 1451.18 L1230.24 1447.61 L1232.74 1447.61 Q1234.5 1447.61 1235.48 1446.78 Q1236.45 1445.94 1237.63 1442.84 L1238.39 1440.9 L1227.91 1415.39 L1232.42 1415.39 L1240.52 1435.67 L1248.62 1415.39 L1253.14 1415.39 L1241.75 1443.72 Z\" fill=\"#000000\" fill-rule=\"evenodd\" fill-opacity=\"1\" /><path clip-path=\"url(#clip050)\" d=\"M1272.47 1410.83 L1260.66 1429.28 L1272.47 1429.28 L1272.47 1410.83 M1271.24 1406.75 L1277.12 1406.75 L1277.12 1429.28 L1282.05 1429.28 L1282.05 1433.17 L1277.12 1433.17 L1277.12 1441.31 L1272.47 1441.31 L1272.47 1433.17 L1256.86 1433.17 L1256.86 1428.65 L1271.24 1406.75 Z\" fill=\"#000000\" fill-rule=\"evenodd\" fill-opacity=\"1\" /><polyline clip-path=\"url(#clip052)\" style=\"stroke:#000000; stroke-linecap:butt; stroke-linejoin:round; stroke-width:2; stroke-opacity:0.1; fill:none\" points=\"\n",
       "  133.182,1281.71 1329.76,1281.71 \n",
       "  \"/>\n",
       "<polyline clip-path=\"url(#clip052)\" style=\"stroke:#000000; stroke-linecap:butt; stroke-linejoin:round; stroke-width:2; stroke-opacity:0.1; fill:none\" points=\"\n",
       "  133.182,1132.14 1329.76,1132.14 \n",
       "  \"/>\n",
       "<polyline clip-path=\"url(#clip052)\" style=\"stroke:#000000; stroke-linecap:butt; stroke-linejoin:round; stroke-width:2; stroke-opacity:0.1; fill:none\" points=\"\n",
       "  133.182,982.565 1329.76,982.565 \n",
       "  \"/>\n",
       "<polyline clip-path=\"url(#clip052)\" style=\"stroke:#000000; stroke-linecap:butt; stroke-linejoin:round; stroke-width:2; stroke-opacity:0.1; fill:none\" points=\"\n",
       "  133.182,832.992 1329.76,832.992 \n",
       "  \"/>\n",
       "<polyline clip-path=\"url(#clip052)\" style=\"stroke:#000000; stroke-linecap:butt; stroke-linejoin:round; stroke-width:2; stroke-opacity:0.1; fill:none\" points=\"\n",
       "  133.182,683.42 1329.76,683.42 \n",
       "  \"/>\n",
       "<polyline clip-path=\"url(#clip052)\" style=\"stroke:#000000; stroke-linecap:butt; stroke-linejoin:round; stroke-width:2; stroke-opacity:0.1; fill:none\" points=\"\n",
       "  133.182,533.847 1329.76,533.847 \n",
       "  \"/>\n",
       "<polyline clip-path=\"url(#clip052)\" style=\"stroke:#000000; stroke-linecap:butt; stroke-linejoin:round; stroke-width:2; stroke-opacity:0.1; fill:none\" points=\"\n",
       "  133.182,384.274 1329.76,384.274 \n",
       "  \"/>\n",
       "<polyline clip-path=\"url(#clip052)\" style=\"stroke:#000000; stroke-linecap:butt; stroke-linejoin:round; stroke-width:2; stroke-opacity:0.1; fill:none\" points=\"\n",
       "  133.182,234.701 1329.76,234.701 \n",
       "  \"/>\n",
       "<polyline clip-path=\"url(#clip050)\" style=\"stroke:#000000; stroke-linecap:butt; stroke-linejoin:round; stroke-width:4; stroke-opacity:1; fill:none\" points=\"\n",
       "  133.182,1385.31 133.182,131.097 \n",
       "  \"/>\n",
       "<polyline clip-path=\"url(#clip050)\" style=\"stroke:#000000; stroke-linecap:butt; stroke-linejoin:round; stroke-width:4; stroke-opacity:1; fill:none\" points=\"\n",
       "  133.182,1281.71 149.85,1281.71 \n",
       "  \"/>\n",
       "<polyline clip-path=\"url(#clip050)\" style=\"stroke:#000000; stroke-linecap:butt; stroke-linejoin:round; stroke-width:4; stroke-opacity:1; fill:none\" points=\"\n",
       "  133.182,1132.14 149.85,1132.14 \n",
       "  \"/>\n",
       "<polyline clip-path=\"url(#clip050)\" style=\"stroke:#000000; stroke-linecap:butt; stroke-linejoin:round; stroke-width:4; stroke-opacity:1; fill:none\" points=\"\n",
       "  133.182,982.565 149.85,982.565 \n",
       "  \"/>\n",
       "<polyline clip-path=\"url(#clip050)\" style=\"stroke:#000000; stroke-linecap:butt; stroke-linejoin:round; stroke-width:4; stroke-opacity:1; fill:none\" points=\"\n",
       "  133.182,832.992 149.85,832.992 \n",
       "  \"/>\n",
       "<polyline clip-path=\"url(#clip050)\" style=\"stroke:#000000; stroke-linecap:butt; stroke-linejoin:round; stroke-width:4; stroke-opacity:1; fill:none\" points=\"\n",
       "  133.182,683.42 149.85,683.42 \n",
       "  \"/>\n",
       "<polyline clip-path=\"url(#clip050)\" style=\"stroke:#000000; stroke-linecap:butt; stroke-linejoin:round; stroke-width:4; stroke-opacity:1; fill:none\" points=\"\n",
       "  133.182,533.847 149.85,533.847 \n",
       "  \"/>\n",
       "<polyline clip-path=\"url(#clip050)\" style=\"stroke:#000000; stroke-linecap:butt; stroke-linejoin:round; stroke-width:4; stroke-opacity:1; fill:none\" points=\"\n",
       "  133.182,384.274 149.85,384.274 \n",
       "  \"/>\n",
       "<polyline clip-path=\"url(#clip050)\" style=\"stroke:#000000; stroke-linecap:butt; stroke-linejoin:round; stroke-width:4; stroke-opacity:1; fill:none\" points=\"\n",
       "  133.182,234.701 149.85,234.701 \n",
       "  \"/>\n",
       "<path clip-path=\"url(#clip050)\" d=\"M81.3577 1273.06 L71.9828 1285.68 L81.8438 1298.99 L76.8207 1298.99 L69.2745 1288.81 L61.7282 1298.99 L56.7051 1298.99 L66.7745 1285.43 L57.5616 1273.06 L62.5847 1273.06 L69.4596 1282.3 L76.3346 1273.06 L81.3577 1273.06 Z\" fill=\"#000000\" fill-rule=\"evenodd\" fill-opacity=\"1\" /><path clip-path=\"url(#clip050)\" d=\"M89.2743 1295.06 L96.9132 1295.06 L96.9132 1268.69 L88.6031 1270.36 L88.6031 1266.1 L96.8669 1264.43 L101.543 1264.43 L101.543 1295.06 L109.182 1295.06 L109.182 1298.99 L89.2743 1298.99 L89.2743 1295.06 Z\" fill=\"#000000\" fill-rule=\"evenodd\" fill-opacity=\"1\" /><path clip-path=\"url(#clip050)\" d=\"M70.5939 1151.83 Q68.7883 1156.45 67.0754 1157.87 Q65.3624 1159.28 62.4921 1159.28 L59.0893 1159.28 L59.0893 1155.71 L61.5893 1155.71 Q63.3486 1155.71 64.3208 1154.88 Q65.293 1154.05 66.4735 1150.95 L67.2374 1149 L56.7514 1123.49 L61.2652 1123.49 L69.367 1143.77 L77.4689 1123.49 L81.9827 1123.49 L70.5939 1151.83 Z\" fill=\"#000000\" fill-rule=\"evenodd\" fill-opacity=\"1\" /><path clip-path=\"url(#clip050)\" d=\"M89.2743 1145.48 L96.9132 1145.48 L96.9132 1119.12 L88.6031 1120.78 L88.6031 1116.52 L96.8669 1114.86 L101.543 1114.86 L101.543 1145.48 L109.182 1145.48 L109.182 1149.42 L89.2743 1149.42 L89.2743 1145.48 Z\" fill=\"#000000\" fill-rule=\"evenodd\" fill-opacity=\"1\" /><path clip-path=\"url(#clip050)\" d=\"M81.7281 973.919 L72.3531 986.535 L82.2142 999.845 L77.1911 999.845 L69.6448 989.66 L62.0986 999.845 L57.0754 999.845 L67.1448 986.28 L57.9319 973.919 L62.955 973.919 L69.83 983.155 L76.705 973.919 L81.7281 973.919 Z\" fill=\"#000000\" fill-rule=\"evenodd\" fill-opacity=\"1\" /><path clip-path=\"url(#clip050)\" d=\"M92.8623 995.91 L109.182 995.91 L109.182 999.845 L87.2373 999.845 L87.2373 995.91 Q89.8993 993.155 94.4827 988.526 Q99.0891 983.873 100.27 982.53 Q102.515 980.007 103.395 978.271 Q104.297 976.512 104.297 974.822 Q104.297 972.068 102.353 970.331 Q100.432 968.595 97.3299 968.595 Q95.1308 968.595 92.6771 969.359 Q90.2466 970.123 87.4688 971.674 L87.4688 966.952 Q90.2929 965.818 92.7466 965.239 Q95.2002 964.66 97.2373 964.66 Q102.608 964.66 105.802 967.345 Q108.996 970.03 108.996 974.521 Q108.996 976.651 108.186 978.572 Q107.399 980.47 105.293 983.063 Q104.714 983.734 101.612 986.952 Q98.5104 990.146 92.8623 995.91 Z\" fill=\"#000000\" fill-rule=\"evenodd\" fill-opacity=\"1\" /><path clip-path=\"url(#clip050)\" d=\"M70.9643 852.68 Q69.1587 857.309 67.4458 858.721 Q65.7328 860.133 62.8625 860.133 L59.4597 860.133 L59.4597 856.569 L61.9597 856.569 Q63.7189 856.569 64.6911 855.735 Q65.6634 854.902 66.8439 851.8 L67.6078 849.856 L57.1217 824.347 L61.6356 824.347 L69.7374 844.624 L77.8392 824.347 L82.3531 824.347 L70.9643 852.68 Z\" fill=\"#000000\" fill-rule=\"evenodd\" fill-opacity=\"1\" /><path clip-path=\"url(#clip050)\" d=\"M92.8623 846.337 L109.182 846.337 L109.182 850.272 L87.2373 850.272 L87.2373 846.337 Q89.8993 843.583 94.4827 838.953 Q99.0891 834.3 100.27 832.958 Q102.515 830.435 103.395 828.698 Q104.297 826.939 104.297 825.249 Q104.297 822.495 102.353 820.759 Q100.432 819.023 97.3299 819.023 Q95.1308 819.023 92.6771 819.786 Q90.2466 820.55 87.4688 822.101 L87.4688 817.379 Q90.2929 816.245 92.7466 815.666 Q95.2002 815.087 97.2373 815.087 Q102.608 815.087 105.802 817.773 Q108.996 820.458 108.996 824.948 Q108.996 827.078 108.186 828.999 Q107.399 830.897 105.293 833.49 Q104.714 834.161 101.612 837.379 Q98.5104 840.573 92.8623 846.337 Z\" fill=\"#000000\" fill-rule=\"evenodd\" fill-opacity=\"1\" /><path clip-path=\"url(#clip050)\" d=\"M80.779 674.774 L71.4041 687.389 L81.2651 700.7 L76.242 700.7 L68.6958 690.514 L61.1495 700.7 L56.1264 700.7 L66.1958 687.135 L56.9829 674.774 L62.006 674.774 L68.8809 684.01 L75.7559 674.774 L80.779 674.774 Z\" fill=\"#000000\" fill-rule=\"evenodd\" fill-opacity=\"1\" /><path clip-path=\"url(#clip050)\" d=\"M102.052 682.065 Q105.409 682.783 107.284 685.052 Q109.182 687.32 109.182 690.653 Q109.182 695.769 105.663 698.57 Q102.145 701.371 95.6632 701.371 Q93.4873 701.371 91.1725 700.931 Q88.8808 700.514 86.4271 699.658 L86.4271 695.144 Q88.3716 696.278 90.6864 696.857 Q93.0012 697.436 95.5243 697.436 Q99.9224 697.436 102.214 695.7 Q104.529 693.964 104.529 690.653 Q104.529 687.598 102.376 685.885 Q100.247 684.149 96.4271 684.149 L92.3993 684.149 L92.3993 680.306 L96.6123 680.306 Q100.061 680.306 101.89 678.94 Q103.719 677.552 103.719 674.959 Q103.719 672.297 101.821 670.885 Q99.9456 669.45 96.4271 669.45 Q94.5058 669.45 92.3067 669.866 Q90.1077 670.283 87.4688 671.163 L87.4688 666.996 Q90.1308 666.255 92.4456 665.885 Q94.7836 665.515 96.8438 665.515 Q102.168 665.515 105.27 667.945 Q108.371 670.353 108.371 674.473 Q108.371 677.343 106.728 679.334 Q105.084 681.302 102.052 682.065 Z\" fill=\"#000000\" fill-rule=\"evenodd\" fill-opacity=\"1\" /><path clip-path=\"url(#clip050)\" d=\"M70.0152 553.534 Q68.2096 558.164 66.4967 559.576 Q64.7837 560.988 61.9134 560.988 L58.5106 560.988 L58.5106 557.423 L61.0106 557.423 Q62.7699 557.423 63.7421 556.59 Q64.7143 555.756 65.8948 552.655 L66.6587 550.71 L56.1727 525.201 L60.6865 525.201 L68.7883 545.479 L76.8902 525.201 L81.404 525.201 L70.0152 553.534 Z\" fill=\"#000000\" fill-rule=\"evenodd\" fill-opacity=\"1\" /><path clip-path=\"url(#clip050)\" d=\"M102.052 532.493 Q105.409 533.21 107.284 535.479 Q109.182 537.747 109.182 541.081 Q109.182 546.196 105.663 548.997 Q102.145 551.798 95.6632 551.798 Q93.4873 551.798 91.1725 551.358 Q88.8808 550.942 86.4271 550.085 L86.4271 545.571 Q88.3716 546.706 90.6864 547.284 Q93.0012 547.863 95.5243 547.863 Q99.9224 547.863 102.214 546.127 Q104.529 544.391 104.529 541.081 Q104.529 538.025 102.376 536.312 Q100.247 534.576 96.4271 534.576 L92.3993 534.576 L92.3993 530.733 L96.6123 530.733 Q100.061 530.733 101.89 529.368 Q103.719 527.979 103.719 525.386 Q103.719 522.724 101.821 521.312 Q99.9456 519.877 96.4271 519.877 Q94.5058 519.877 92.3067 520.294 Q90.1077 520.71 87.4688 521.59 L87.4688 517.423 Q90.1308 516.683 92.4456 516.312 Q94.7836 515.942 96.8438 515.942 Q102.168 515.942 105.27 518.372 Q108.371 520.78 108.371 524.9 Q108.371 527.77 106.728 529.761 Q105.084 531.729 102.052 532.493 Z\" fill=\"#000000\" fill-rule=\"evenodd\" fill-opacity=\"1\" /><path clip-path=\"url(#clip050)\" d=\"M79.6448 375.628 L70.2698 388.244 L80.1309 401.554 L75.1078 401.554 L67.5615 391.369 L60.0152 401.554 L54.9921 401.554 L65.0615 387.989 L55.8486 375.628 L60.8717 375.628 L67.7467 384.864 L74.6217 375.628 L79.6448 375.628 Z\" fill=\"#000000\" fill-rule=\"evenodd\" fill-opacity=\"1\" /><path clip-path=\"url(#clip050)\" d=\"M99.5984 371.068 L87.7929 389.517 L99.5984 389.517 L99.5984 371.068 M98.3715 366.994 L104.251 366.994 L104.251 389.517 L109.182 389.517 L109.182 393.406 L104.251 393.406 L104.251 401.554 L99.5984 401.554 L99.5984 393.406 L83.9966 393.406 L83.9966 388.892 L98.3715 366.994 Z\" fill=\"#000000\" fill-rule=\"evenodd\" fill-opacity=\"1\" /><path clip-path=\"url(#clip050)\" d=\"M68.8809 254.389 Q67.0754 259.018 65.3624 260.43 Q63.6495 261.842 60.7791 261.842 L57.3764 261.842 L57.3764 258.278 L59.8764 258.278 Q61.6356 258.278 62.6078 257.444 Q63.58 256.611 64.7606 253.509 L65.5245 251.565 L55.0384 226.056 L59.5523 226.056 L67.6541 246.333 L75.7559 226.056 L80.2698 226.056 L68.8809 254.389 Z\" fill=\"#000000\" fill-rule=\"evenodd\" fill-opacity=\"1\" /><path clip-path=\"url(#clip050)\" d=\"M99.5984 221.495 L87.7929 239.944 L99.5984 239.944 L99.5984 221.495 M98.3715 217.421 L104.251 217.421 L104.251 239.944 L109.182 239.944 L109.182 243.833 L104.251 243.833 L104.251 251.981 L99.5984 251.981 L99.5984 243.833 L83.9966 243.833 L83.9966 239.319 L98.3715 217.421 Z\" fill=\"#000000\" fill-rule=\"evenodd\" fill-opacity=\"1\" /><g clip-path=\"url(#clip052)\">\n",
       "<image width=\"1197\" height=\"1197\" xlink:href=\"data:image/png;base64,\n",
       "iVBORw0KGgoAAAANSUhEUgAABK0AAAStCAYAAACGOajSAAAgAElEQVR4nOzav4qcZRiH4ezOjggZ\n",
       "xcJqQcRAEMIEexuxslLwDNJMJ56Dx7GNh5FU6dQ2ZBVsYiGkshD8z7CJJzHLc/NyXUfwq57v4+Y9\n",
       "+/Ltr17fgRN7/urX6Qks6OH5e9MTWMxPNy+nJ7CgB5vL6Qks6P5b59MTWMw3j59NT2BB2/1hegKL\n",
       "8fUDAAAAIEe0AgAAACBHtAIAAAAgR7QCAAAAIEe0AgAAACBHtAIAAAAgR7QCAAAAIEe0AgAAACBH\n",
       "tAIAAAAgR7QCAAAAIEe0AgAAACBHtAIAAAAgR7QCAAAAIEe0AgAAACBHtAIAAAAgR7QCAAAAIEe0\n",
       "AgAAACBHtAIAAAAgR7QCAAAAIEe0AgAAACBHtAIAAAAgR7QCAAAAIEe0AgAAACBHtAIAAAAgR7QC\n",
       "AAAAIEe0AgAAACBHtAIAAAAgR7QCAAAAIEe0AgAAACBHtAIAAAAgR7QCAAAAIEe0AgAAACBHtAIA\n",
       "AAAgR7QCAAAAIEe0AgAAACBHtAIAAAAgR7QCAAAAIEe0AgAAACBHtAIAAAAgR7QCAAAAIEe0AgAA\n",
       "ACBHtAIAAAAgR7QCAAAAIEe0AgAAACBHtAIAAAAgR7QCAAAAIEe0AgAAACBHtAIAAAAgR7QCAAAA\n",
       "IEe0AgAAACBHtAIAAAAgR7QCAAAAIEe0AgAAACBHtAIAAAAgR7QCAAAAIEe0AgAAACBHtAIAAAAg\n",
       "R7QCAAAAIEe0AgAAACBHtAIAAAAgR7QCAAAAIEe0AgAAACBHtAIAAAAgR7QCAAAAIEe0AgAAACBH\n",
       "tAIAAAAgR7QCAAAAIEe0AgAAACBHtAIAAAAgR7QCAAAAIEe0AgAAACBHtAIAAAAgR7QCAAAAIEe0\n",
       "AgAAACBHtAIAAAAgR7QCAAAAIEe0AgAAACBHtAIAAAAgR7QCAAAAIEe0AgAAACBHtAIAAAAgR7QC\n",
       "AAAAIEe0AgAAACBHtAIAAAAgR7QCAAAAIEe0AgAAACBHtAIAAAAgR7QCAAAAIEe0AgAAACBHtAIA\n",
       "AAAgR7QCAAAAIEe0AgAAACBHtAIAAAAgR7QCAAAAIEe0AgAAACBHtAIAAAAgR7QCAAAAIEe0AgAA\n",
       "ACBHtAIAAAAgR7QCAAAAIEe0AgAAACBHtAIAAAAgR7QCAAAAIEe0AgAAACBHtAIAAAAgR7QCAAAA\n",
       "IEe0AgAAACBHtAIAAAAgR7QCAAAAIEe0AgAAACBHtAIAAAAgR7QCAAAAIEe0AgAAACBHtAIAAAAg\n",
       "R7QCAAAAIEe0AgAAACBHtAIAAAAgR7QCAAAAIEe0AgAAACBHtAIAAAAgR7QCAAAAIEe0AgAAACBH\n",
       "tAIAAAAgR7QCAAAAIEe0AgAAACBHtAIAAAAgR7QCAAAAIEe0AgAAACBHtAIAAAAgR7QCAAAAIEe0\n",
       "AgAAACBHtAIAAAAgR7QCAAAAIEe0AgAAACBHtAIAAAAgR7QCAAAAIEe0AgAAACBHtAIAAAAgR7QC\n",
       "AAAAIEe0AgAAACBHtAIAAAAgR7QCAAAAIEe0AgAAACBHtAIAAAAgR7QCAAAAIEe0AgAAACBHtAIA\n",
       "AAAgR7QCAAAAIEe0AgAAACDn4tmrX6Y3sKD/7vw9PYEFuVec2ou/nkxPYEHH3WfTE1jQv7+/Pz2B\n",
       "xWz3h+kJLOh4fTU9gcV4aQUAAABAjmgFAAAAQI5oBQAAAECOaAUAAABAjmgFAAAAQI5oBQAAAECO\n",
       "aAUAAABAjmgFAAAAQI5oBQAAAECOaAUAAABAjmgFAAAAQI5oBQAAAECOaAUAAABAjmgFAAAAQI5o\n",
       "BQAAAECOaAUAAABAjmgFAAAAQI5oBQAAAECOaAUAAABAjmgFAAAAQI5oBQAAAECOaAUAAABAjmgF\n",
       "AAAAQI5oBQAAAECOaAUAAABAjmgFAAAAQI5oBQAAAECOaAUAAABAjmgFAAAAQI5oBQAAAECOaAUA\n",
       "AABAjmgFAAAAQI5oBQAAAECOaAUAAABAjmgFAAAAQI5oBQAAAECOaAUAAABAjmgFAAAAQI5oBQAA\n",
       "AECOaAUAAABAjmgFAAAAQI5oBQAAAECOaAUAAABAjmgFAAAAQI5oBQAAAECOaAUAAABAjmgFAAAA\n",
       "QI5oBQAAAECOaAUAAABAjmgFAAAAQI5oBQAAAECOaAUAAABAjmgFAAAAQI5oBQAAAECOaAUAAABA\n",
       "jmgFAAAAQI5oBQAAAECOaAUAAABAjmgFAAAAQI5oBQAAAECOaAUAAABAjmgFAAAAQI5oBQAAAECO\n",
       "aAUAAABAjmgFAAAAQI5oBQAAAECOaAUAAABAjmgFAAAAQI5oBQAAAECOaAUAAABAjmgFAAAAQI5o\n",
       "BQAAAECOaAUAAABAjmgFAAAAQI5oBQAAAECOaAUAAABAjmgFAAAAQI5oBQAAAECOaAUAAABAjmgF\n",
       "AAAAQI5oBQAAAECOaAUAAABAjmgFAAAAQI5oBQAAAECOaAUAAABAjmgFAAAAQI5oBQAAAECOaAUA\n",
       "AABAjmgFAAAAQI5oBQAAAECOaAUAAABAjmgFAAAAQI5oBQAAAECOaAUAAABAjmgFAAAAQI5oBQAA\n",
       "AECOaAUAAABAjmgFAAAAQI5oBQAAAECOaAUAAABAjmgFAAAAQI5oBQAAAECOaAUAAABAjmgFAAAA\n",
       "QI5oBQAAAECOaAUAAABAjmgFAAAAQI5oBQAAAECOaAUAAABAjmgFAAAAQI5oBQAAAECOaAUAAABA\n",
       "jmgFAAAAQI5oBQAAAECOaAUAAABAjmgFAAAAQI5oBQAAAECOaAUAAABAjmgFAAAAQI5oBQAAAECO\n",
       "aAUAAABAjmgFAAAAQI5oBQAAAECOaAUAAABAjmgFAAAAQI5oBQAAAECOaAUAAABAjmgFAAAAQI5o\n",
       "BQAAAECOaAUAAABAjmgFAAAAQI5oBQAAAECOaAUAAABAjmgFAAAAQI5oBQAAAECOaAUAAABAjmgF\n",
       "AAAAQI5oBQAAAECOaAUAAABAjmgFAAAAQI5oBQAAAECOaAUAAABAjmgFAAAAQI5oBQAAAECOaAUA\n",
       "AABAjmgFAAAAQI5oBQAAAECOaAUAAABAjmgFAAAAQM7Fj9//Ob2BBR2/fTE9gQVtH92bnsBiNk83\n",
       "0xNY0M2n/q04ve3+4+kJLObz3XfTE1jQw3c+mp7AYry0AgAAACBHtAIAAAAgR7QCAAAAIEe0AgAA\n",
       "ACBHtAIAAAAgR7QCAAAAIEe0AgAAACBHtAIAAAAgR7QCAAAAIEe0AgAAACBHtAIAAAAgR7QCAAAA\n",
       "IEe0AgAAACBHtAIAAAAgR7QCAAAAIEe0AgAAACBHtAIAAAAgR7QCAAAAIEe0AgAAACBHtAIAAAAg\n",
       "R7QCAAAAIEe0AgAAACBHtAIAAAAgR7QCAAAAIEe0AgAAACBHtAIAAAAgR7QCAAAAIEe0AgAAACBH\n",
       "tAIAAAAgR7QCAAAAIEe0AgAAACBHtAIAAAAgR7QCAAAAIEe0AgAAACBHtAIAAAAgR7QCAAAAIEe0\n",
       "AgAAACBHtAIAAAAgR7QCAAAAIEe0AgAAACBHtAIAAAAgR7QCAAAAIEe0AgAAACBHtAIAAAAgR7QC\n",
       "AAAAIEe0AgAAACBHtAIAAAAgR7QCAAAAIEe0AgAAACBHtAIAAAAgR7QCAAAAIEe0AgAAACBHtAIA\n",
       "AAAgR7QCAAAAIEe0AgAAACBHtAIAAAAgR7QCAAAAIEe0AgAAACBHtAIAAAAgR7QCAAAAIEe0AgAA\n",
       "ACBHtAIAAAAgR7QCAAAAIEe0AgAAACBHtAIAAAAgR7QCAAAAIEe0AgAAACBHtAIAAAAgR7QCAAAA\n",
       "IEe0AgAAACBHtAIAAAAgR7QCAAAAIEe0AgAAACBHtAIAAAAgR7QCAAAAIEe0AgAAACBHtAIAAAAg\n",
       "R7QCAAAAIEe0AgAAACBHtAIAAAAgR7QCAAAAIEe0AgAAACBHtAIAAAAgR7QCAAAAIEe0AgAAACBH\n",
       "tAIAAAAgR7QCAAAAIEe0AgAAACBHtAIAAAAgR7QCAAAAIEe0AgAAACBHtAIAAAAgR7QCAAAAIEe0\n",
       "AgAAACBHtAIAAAAgR7QCAAAAIEe0AgAAACBHtAIAAAAgR7QCAAAAIEe0AgAAACBHtAIAAAAgR7QC\n",
       "AAAAIEe0AgAAACBHtAIAAAAgR7QCAAAAIEe0AgAAACBHtAIAAAAgR7QCAAAAIEe0AgAAACBHtAIA\n",
       "AAAgR7QCAAAAIEe0AgAAACBHtAIAAAAgR7QCAAAAIEe0AgAAACBHtAIAAAAgR7QCAAAAIEe0AgAA\n",
       "ACBHtAIAAAAgR7QCAAAAIEe0AgAAACBHtAIAAAAgR7QCAAAAIEe0AgAAACBHtAIAAAAgR7QCAAAA\n",
       "IEe0AgAAACBHtAIAAAAgR7QCAAAAIEe0AgAAACBHtAIAAAAgR7QCAAAAIEe0AgAAACBHtAIAAAAg\n",
       "R7QCAAAAIEe0AgAAACBHtAIAAAAgR7QCAAAAIEe0AgAAACBHtAIAAAAgR7QCAAAAIEe0AgAAACBH\n",
       "tAIAAAAgR7QCAAAAIEe0AgAAACBHtAIAAAAgR7QCAAAAIEe0AgAAACDnYrs/TG9gRY+uphewIPeK\n",
       "UztOD2BJbhW34Xjt34rT+vlsNz2BBb35xwfTE1iMl1YAAAAA5IhWAAAAAOSIVgAAAADkiFYAAAAA\n",
       "5IhWAAAAAOSIVgAAAADkiFYAAAAA5IhWAAAAAOSIVgAAAADkiFYAAAAA5IhWAAAAAOSIVgAAAADk\n",
       "iFYAAAAA5IhWAAAAAOSIVgAAAADkiFYAAAAA5IhWAAAAAOSIVgAAAADkiFYAAAAA5IhWAAAAAOSI\n",
       "VgAAAADkiFYAAAAA5IhWAAAAAOSIVgAAAADkiFYAAAAA5IhWAAAAAOSIVgAAAADkiFYAAAAA5IhW\n",
       "AAAAAOSIVgAAAADkiFYAAAAA5IhWAAAAAOSIVgAAAADkiFYAAAAA5IhWAAAAAOSIVgAAAADkiFYA\n",
       "AAAA5IhWAAAAAOSIVgAAAADkiFYAAAAA5IhWAAAAAOSIVgAAAADkiFYAAAAA5IhWAAAAAOSIVgAA\n",
       "AADkiFYAAAAA5IhWAAAAAOSIVgAAAADkiFYAAAAA5IhWAAAAAOSIVgAAAADkiFYAAAAA5IhWAAAA\n",
       "AOSIVgAAAADkiFYAAAAA5IhWAAAAAOSIVgAAAADkiFYAAAAA5IhWAAAAAOSIVgAAAADkiFYAAAAA\n",
       "5IhWAAAAAOSIVgAAAADkiFYAAAAA5IhWAAAAAOSIVgAAAADkiFYAAAAA5IhWAAAAAOSIVgAAAADk\n",
       "iFYAAAAA5IhWAAAAAOSIVgAAAADkiFYAAAAA5IhWAAAAAOSIVgAAAADkiFYAAAAA5IhWAAAAAOSI\n",
       "VgAAAADkiFYAAAAA5IhWAAAAAOSIVgAAAADkiFYAAAAA5IhWAAAAAOSIVgAAAADkiFYAAAAA5IhW\n",
       "AAAAAOSIVgAAAADkiFYAAAAA5IhWAAAAAOSIVgAAAADkiFYAAAAA5IhWAAAAAOSIVgAAAADkiFYA\n",
       "AAAA5IhWAAAAAOSIVgAAAADkiFYAAAAA5IhWAAAAAOSIVgAAAADkiFYAAAAA5IhWAAAAAOSIVgAA\n",
       "AADkiFYAAAAA5IhWAAAAAOSIVgAAAADkiFYAAAAA5IhWAAAAAOSIVgAAAADkiFYAAAAA5IhWAAAA\n",
       "AOSIVgAAAADkiFYAAAAA5IhWAAAAAOSIVgAAAADkiFYAAAAA5IhWAAAAAOSIVgAAAADkiFYAAAAA\n",
       "5IhWAAAAAOSIVgAAAADkiFYAAAAA5IhWAAAAAOSIVgAAAADkiFYAAAAA5IhWAAAAAOSIVgAAAADk\n",
       "iFYAAAAA5IhWAAAAAOSIVgAAAADkiFYAAAAA5IhWAAAAAOSIVgAAAADkiFYAAAAA5IhWAAAAAOSI\n",
       "VgAAAADkiFYAAAAA5IhWAAAAAOSIVgAAAADkiFYAAAAA5IhWAAAAAOSIVgAAAADkiFYAAAAA5IhW\n",
       "AAAAAOSIVgAAAADkiFYAAAAA5IhWAAAAAOSIVgAAAADkiFYAAAAA5IhWAAAAAOSc/fP8k9fTI1jP\n",
       "5reX0xNY0M27l9MTWMx2f5iewIKO11fTE1jQ5ukP0xNYzBtf30xPYEEf3v1iegKL8dIKAAAAgBzR\n",
       "CgAAAIAc0QoAAACAHNEKAAAAgBzRCgAAAIAc0QoAAACAHNEKAAAAgBzRCgAAAIAc0QoAAACAHNEK\n",
       "AAAAgBzRCgAAAIAc0QoAAACAHNEKAAAAgBzRCgAAAIAc0QoAAACAHNEKAAAAgBzRCgAAAIAc0QoA\n",
       "AACAHNEKAAAAgBzRCgAAAIAc0QoAAACAHNEKAAAAgBzRCgAAAIAc0QoAAACAHNEKAAAAgBzRCgAA\n",
       "AIAc0QoAAACAHNEKAAAAgBzRCgAAAIAc0QoAAACAHNEKAAAAgBzRCgAAAIAc0QoAAACAHNEKAAAA\n",
       "gBzRCgAAAIAc0QoAAACAHNEKAAAAgBzRCgAAAIAc0QoAAACAHNEKAAAAgBzRCgAAAIAc0QoAAACA\n",
       "HNEKAAAAgBzRCgAAAIAc0QoAAACAHNEKAAAAgBzRCgAAAIAc0QoAAACAHNEKAAAAgBzRCgAAAIAc\n",
       "0QoAAACAHNEKAAAAgBzRCgAAAIAc0QoAAACAHNEKAAAAgBzRCgAAAIAc0QoAAACAHNEKAAAAgBzR\n",
       "CgAAAIAc0QoAAACAHNEKAAAAgBzRCgAAAIAc0QoAAACAHNEKAAAAgBzRCgAAAIAc0QoAAACAHNEK\n",
       "AAAAgBzRCgAAAIAc0QoAAACAHNEKAAAAgBzRCgAAAIAc0QoAAACAHNEKAAAAgBzRCgAAAIAc0QoA\n",
       "AACAHNEKAAAAgBzRCgAAAIAc0QoAAACAHNEKAAAAgBzRCgAAAIAc0QoAAACAHNEKAAAAgBzRCgAA\n",
       "AIAc0QoAAACAHNEKAAAAgBzRCgAAAIAc0QoAAACAHNEKAAAAgBzRCgAAAIAc0QoAAACAHNEKAAAA\n",
       "gBzRCgAAAIAc0QoAAACAHNEKAAAAgBzRCgAAAIAc0QoAAACAHNEKAAAAgBzRCgAAAIAc0QoAAACA\n",
       "HNEKAAAAgBzRCgAAAIAc0QoAAACAHNEKAAAAgBzRCgAAAIAc0QoAAACAHNEKAAAAgBzRCgAAAIAc\n",
       "0QoAAACAHNEKAAAAgBzRCgAAAIAc0QoAAACAHNEKAAAAgBzRCgAAAIAc0QoAAACAHNEKAAAAgBzR\n",
       "CgAAAIAc0QoAAACAHNEKAAAAgBzRCgAAAIAc0QoAAACAHNEKAAAAgBzRCgAAAIAc0QoAAACAHNEK\n",
       "AAAAgBzRCgAAAIAc0QoAAACAHNEKAAAAgBzRCgAAAIAc0QoAAACAHNEKAAAAgBzRCgAAAIAc0QoA\n",
       "AACAHNEKAAAAgBzRCgAAAIAc0QoAAACAHNEKAAAAgBzRCgAAAIAc0QoAAACAHNEKAAAAgBzRCgAA\n",
       "AIAc0QoAAACAHNEKAAAAgBzRCgAAAIAc0QoAAACAHNEKAAAAgBzRCgAAAIAc0QoAAACAHNEKAAAA\n",
       "gBzRCgAAAICci+3+ML2BBR2vr6YnsCD3ilNzq7gNbhW34Tg9gOXc2+2mJ7CgB+eX0xNYjJdWAAAA\n",
       "AOSIVgAAAADkiFYAAAAA5IhWAAAAAOSIVgAAAADkiFYAAAAA5IhWAAAAAOSIVgAAAADkiFYAAAAA\n",
       "5IhWAAAAAOSIVgAAAADkiFYAAAAA5IhWAAAAAOSIVgAAAADkiFYAAAAA5IhWAAAAAOSIVgAAAADk\n",
       "iFYAAAAA5IhWAAAAAOSIVgAAAADkiFYAAAAA5IhWAAAAAOSIVgAAAADkiFYAAAAA5IhWAAAAAOSI\n",
       "VgAAAADkiFYAAAAA5IhWAAAAAOSIVgAAAADkiFYAAAAA5IhWAAAAAOSIVgAAAADkiFYAAAAA5IhW\n",
       "AAAAAOSIVgAAAADkiFYAAAAA5IhWAAAAAOSIVgAAAADkiFYAAAAA5IhWAAAAAOSIVgAAAADkiFYA\n",
       "AAAA5IhWAAAAAOSIVgAAAADkiFYAAAAA5IhWAAAAAOSIVgAAAADkiFYAAAAA5IhWAAAAAOSIVgAA\n",
       "AADkiFYAAAAA5IhWAAAAAOSIVgAAAADkiFYAAAAA5IhWAAAAAOSIVgAAAADkiFYAAAAA5IhWAAAA\n",
       "AOSIVgAAAADkiFYAAAAA5IhWAAAAAOSIVgAAAADkiFYAAAAA5IhWAAAAAOSIVgAAAADkiFYAAAAA\n",
       "5IhWAAAAAOSIVgAAAADkiFYAAAAA5IhWAAAAAOSIVgAAAADkiFYAAAAA5IhWAAAAAOSIVgAAAADk\n",
       "iFYAAAAA5IhWAAAAAOSIVgAAAADkiFYAAAAA5IhWAAAAAOSIVgAAAADkiFYAAAAA5IhWAAAAAOSI\n",
       "VgAAAADkiFYAAAAA5IhWAAAAAOSIVgAAAADkiFYAAAAA5IhWAAAAAOSIVgAAAADkiFYAAAAA5IhW\n",
       "AAAAAOSIVgAAAADkiFYAAAAA5IhWAAAAAOSIVgAAAADkiFYAAAAA5IhWAAAAAOSIVgAAAADkiFYA\n",
       "AAAA5IhWAAAAAOSIVgAAAADkiFYAAAAA5IhWAAAAAOSIVgAAAAD8364d4jQURVEUpZAKEoJC4Ugw\n",
       "hCbVKEbTQZEaBDOiGonCIwr5TILm7bysNYKjrti5OaIVAAAAADmiFQAAAAA5ohUAAAAAOaIVAAAA\n",
       "ADmiFQAAAAA5ohUAAAAAOaIVAAAAADmiFQAAAAA5ohUAAAAAOaIVAAAAADmiFQAAAAA5ohUAAAAA\n",
       "OaIVAAAAADmiFQAAAAA5ohUAAAAAOaIVAAAAADmiFQAAAAA5ohUAAAAAOaIVAAAAADmiFQAAAAA5\n",
       "ohUAAAAAOaIVAAAAADmiFQAAAAA5ohUAAAAAOaIVAAAAADmiFQAAAAA5ohUAAAAAOaIVAAAAADmi\n",
       "FQAAAAA5ohUAAAAAOaIVAAAAADmiFQAAAAA5ohUAAAAAOaIVAAAAADmiFQAAAAA5ohUAAAAAOaIV\n",
       "AAAAADmiFQAAAAA5ohUAAAAAOaIVAAAAADmiFQAAAAA5ohUAAAAAOaIVAAAAADmiFQAAAAA5q+/3\n",
       "52X0COaz3uxGT2BCx8N+9AQmc/H1OXoCE/q9uR09gQkdXz9GT2AyDy/3oycwocuz69ETmIxPKwAA\n",
       "AAByRCsAAAAAckQrAAAAAHJEKwAAAAByRCsAAAAAckQrAAAAAHJEKwAAAAByRCsAAAAAckQrAAAA\n",
       "AHJEKwAAAAByRCsAAAAAckQrAAAAAHJEKwAAAAByRCsAAAAAckQrAAAAAHJEKwAAAAByRCsAAAAA\n",
       "ckQrAAAAAHJEKwAAAAByRCsAAAAAckQrAAAAAHJEKwAAAAByRCsAAAAAckQrAAAAAHJEKwAAAABy\n",
       "RCsAAAAAckQrAAAAAHJEKwAAAAByRCsAAAAAckQrAAAAAHJEKwAAAAByRCsAAAAAckQrAAAAAHJE\n",
       "KwAAAAByRCsAAAAAckQrAAAAAHJEKwAAAAByRCsAAAAAckQrAAAAAHJEKwAAAAByRCsAAAAAckQr\n",
       "AAAAAHJEKwAAAAByRCsAAAAAckQrAAAAAHJEKwAAAAByRCsAAAAAckQrAAAAAHJEKwAAAAByRCsA\n",
       "AAAAckQrAAAAAHJEKwAAAAByRCsAAAAAckQrAAAAAHJEKwAAAAByRCsAAAAAckQrAAAAAHJEKwAA\n",
       "AAByRCsAAAAAckQrAAAAAHJEKwAAAAByRCsAAAAAckQrAAAAAHJEKwAAAAByRCsAAAAAckQrAAAA\n",
       "AHJEKwAAAAByRCsAAAAAckQrAAAAAHJEKwAAAAByRCsAAAAAckQrAAAAAHJEKwAAAAByRCsAAAAA\n",
       "ckQrAAAAAHJEKwAAAAByRCsAAAAAckQrAAAAAHJEKwAAAAByRCsAAAAAckQrAAAAAHJEKwAAAABy\n",
       "RCsAAAAAckQrAAAAAHJEKwAAAAByRCsAAAAAckQrAAAAAHJEKwAAAAByRCsAAAAAckQrAAAAAHJE\n",
       "KwAAAAByRCsAAAAAckQrAAAAAHJEKwAAAAByRCsAAAAAckQrAAAAAHJEKwAAAAByRCsAAAAAckQr\n",
       "AAAAAHJEKwAAAAByRCsAAAAAckQrAAAAAHJEKwAAAAByRCsAAAAAckQrAAAAAHJEKwAAAAByRCsA\n",
       "AAAAckQrAAAAAHJEKwAAAAByRCsAAAAAckQrAAAAAHJEKwAAAAByRCsAAAAAckQrAAAAAHJEKwAA\n",
       "AAByRCsAAAAAckQrAAAAAHJEKwAAAAByRCsAAAAAckQrAAAAAHJEKwAAAAByRCsAAAAAckQrAAAA\n",
       "AHJEKwAAAAByRCsAAAAAckQrAAAAAHJEKwAAAAByRCsAAAAAckQrAAAAAHJEKwAAAAByRCsAAAAA\n",
       "ckQrAAAAAHJEKwAAAAByRCsAAAAAckQrAAAAAHJEKwAAAAByRCsAAAAAckQrAAAAAHJEKwAAAABy\n",
       "RCsAAAAAckQrAAAAAHJEKwAAAAByRCsAAAAAckQrAAAAAHJEKwAAAAByRCsAAAAAckQrAAAAAHJE\n",
       "KwAAAAByRCsAAAAAclY/y9syegTzOR72oycwofVmN3oCk3GrOAW3ilNwr/hvj09Xoycwoe353egJ\n",
       "TManFQAAAAA5ohUAAAAAOaIVAAAAADmiFQAAAAA5ohUAAAAAOaIVAAAAADmiFQAAAAA5ohUAAAAA\n",
       "OaIVAAAAADmiFQAAAAA5ohUAAAAAOaIVAAAAADmiFQAAAAA5ohUAAAAAOaIVAAAAADmiFQAAAAA5\n",
       "ohUAAAAAOaIVAAAAADmiFQAAAAA5ohUAAAAAOaIVAAAAADmiFQAAAAA5ohUAAAAAOaIVAAAAADmi\n",
       "FQAAAAA5ohUAAAAAOaIVAAAAADmiFQAAAAA5ohUAAAAAOaIVAAAAADmiFQAAAAA5ohUAAAAAOaIV\n",
       "AAAAADmiFQAAAAA5ohUAAAAAOaIVAAAAADmiFQAAAAA5ohUAAAAAOaIVAAAAADmiFQAAAAA5ohUA\n",
       "AAAAOaIVAAAAADmiFQAAAAA5ohUAAAAAOaIVAAAAADmiFQAAAAA5ohUAAAAAOaIVAAAAADmiFQAA\n",
       "AAA5ohUAAAAAOaIVAAAAADmiFQAAAAA5ojq+yAIAAAKkSURBVBUAAAAAOaIVAAAAADmiFQAAAAA5\n",
       "ohUAAAAAOaIVAAAAADmiFQAAAAA5ohUAAAAAOaIVAAAAADmiFQAAAAA5ohUAAAAAOaIVAAAAADmi\n",
       "FQAAAAA5ohUAAAAAOaIVAAAAADmiFQAAAAA5ohUAAAAAOaIVAAAAADmiFQAAAAA5ohUAAAAAOaIV\n",
       "AAAAADmiFQAAAAA5ohUAAAAAOaIVAAAAADmiFQAAAAA5ohUAAAAAOaIVAAAAADmiFQAAAAA5ohUA\n",
       "AAAAOaIVAAAAADmiFQAAAAA5ohUAAAAAOaIVAAAAADmiFQAAAAA5ohUAAAAAOaIVAAAAADmiFQAA\n",
       "AAA5ohUAAAAAOaIVAAAAADmiFQAAAAA5ohUAAAAAOaIVAAAAADmiFQAAAAA5ohUAAAAAOaIVAAAA\n",
       "ADmiFQAAAAA5ohUAAAAAOaIVAAAAADmiFQAAAAA5ohUAAAAAOaIVAAAAADmiFQAAAAA5ohUAAAAA\n",
       "OaIVAAAAADmiFQAAAAA5ohUAAAAAOaIVAAAAADmiFQAAAAA5ohUAAAAAOaIVAAAAADmiFQAAAAA5\n",
       "ohUAAAAAOaIVAAAAADmiFQAAAAA5ohUAAAAAOaIVAAAAADmiFQAAAAA5ohUAAAAAOaIVAAAAADmi\n",
       "FQAAAAA5ohUAAAAAOaIVAAAAADmiFQAAAAA5ohUAAAAAOaIVAAAAADmiFQAAAAA5ohUAAAAAOaIV\n",
       "AAAAADmiFQAAAAA5ohUAAAAAOaIVAAAAADmiFQAAAAA5ohUAAAAAOaIVAAAAADmiFQAAAAA5ohUA\n",
       "AAAAOaIVAAAAADmiFQAAAAA5ohUAAAAAOaIVAAAAADmiFQAAAAA5ohUAAAAAOaIVAAAAADmiFQAA\n",
       "AAA5ohUAAAAAOaIVAAAAADmiFQAAAAA5f01CZKY3q1aBAAAAAElFTkSuQmCC\n",
       "\" transform=\"translate(133, 160)\"/>\n",
       "</g>\n",
       "<defs>\n",
       "  <clipPath id=\"clip053\">\n",
       "    <rect x=\"1361\" y=\"131\" width=\"49\" height=\"1255\"/>\n",
       "  </clipPath>\n",
       "</defs>\n",
       "<g clip-path=\"url(#clip053)\">\n",
       "<image width=\"48\" height=\"1254\" xlink:href=\"data:image/png;base64,\n",
       "iVBORw0KGgoAAAANSUhEUgAAADAAAATmCAYAAABnKiKmAAAHZ0lEQVR4nO3c0Q2kOBRFQXrl/KPY\n",
       "LHcGbxB8lK50KgKOkPWMofv35/33PsP+0RfwVQHafMB57x99DZ/M34ECtPmAc+9ffQ2fzN+BArT5\n",
       "gCaxVoA2H3Bui9gqQJsPOPdtEVMFaPMBTWKtAG0+oEWsFaDNB7Sd1grQ5gPO0yS2CtDajWoFaPMB\n",
       "52k3ahWgzQec5/1PX8Mn83egAG0+oEdKrQBtPqDttFaANh/QItYK0OYD2k5rBWjzAefXJLYK0OYD\n",
       "zvP2c1yqAG0+oEmsFaA1yLQCtPmADne1ArT5gPNrElsFaPMBvaHRCtDmA5rEWgHafEAHW1oB2nxA\n",
       "k1grQJsPaBJrBWjzAU1irQBtPuA876uv4ZP5O1CA1iDTCtDmA3qk1ArQ5gNaxFoB2nzA+fVIaRWg\n",
       "zQc0ibUCtPmADne1ArT5gLbTWgHafEDbaa0AbT6g7bRWgDYf0CLWCtD64EkrQJsPaJBpBWjzAS1i\n",
       "rQBtPqBFrBWgzQe0iLUCtPmA89wWMVWANh/QJNYK0OYDWsRaAdp8QItYK0CbDzjPe/U1fDJ/BwrQ\n",
       "GmRaAdp8QINMK0CbD2gSawVo8wFNYq0AbT7gPNuDeP8OFKDNB5znNompArT5gCaxVoA2H9Ai1grQ\n",
       "5gPO+M8H9u9AAdp8QJNYK0BrDWgFaPMB53l/+ho+mb8DBWjzAefeFjFVgDYf0HZaK0CbD2g7rRWg\n",
       "zQec+243bF/9U4A3H9Ak1grQ5gPO08GWVYA2H3Buk9gqQDtPj5RWAdp8QINMK0CbD+iRUitAmw/o\n",
       "DY1WgDYf0BsarQBtPqBnYq0AbT7g3LvdsH31TwHefEDbaa0AbT6g7bRWgDYfcJ6201YBWoNMK0Cb\n",
       "D2gRawVo8wF98KQVoM0H9MGTVoA2H9DftGkFaPMBPRNrBWjzAf0cVytAmw9oO60VoM0HtJ3WCtDm\n",
       "A5rEWgFab2i0ArT5gAaZVoA2H9AjpVaANh/QJNYK0OYD+km6VoA2H9Cfw2gFaPMBbae1ArT5gA62\n",
       "tAK0+YAmsVaANh9w3haxVYDWB09aAdp8QLtRrQBtPqBFrBWgzQd0uKsVoM0HNIm1ArT5gBaxVoA2\n",
       "H9BXi1oB2nzAeXsmtgrQ5gPaTmsFaPMBLWKtAK01oBWgzQf05a5WgDYf0CTWCtDmA1rEWgHafECv\n",
       "WbUCtPmAXrNqBWjzAW2ntQK0+YAWsVaANh/QKyatAG0+oEmsFaCd+7QGqAK0+YB2o1oB2nxAu1Gt\n",
       "AG0+oEmsFaDNBzSJtQK0+YAmsVaANh/QJNYK0OYDWsRaAdp8wHl7T2wVoDXItAK0+YDOhbQCtPmA\n",
       "c6++hG/m70AB2nxAk1grQJsP6PcDWgHafECTWCtAmw/odForQJsP6DWrVoA2H9DptFaANh/QM7FW\n",
       "gNYjpVaANh/QI6VWgDYf0G5UK0CbD+hcSCtAmw9oO60VoM0HdLClFaDNB5xXX8FH83egAG0+oEms\n",
       "FaDNB3Q6rRWgzQe0ndYK0NqNagVo8wENMq0AbT6gSawVoM0HdC6kFaDNB5zxjxb370AB2nxAk1gr\n",
       "QJsP6GBLK0CbD+hgSytAmw9oEmsFaPMBTWKtAO2846e783egAG0+oN2oVoA2H9BuVCtAmw9oEmsF\n",
       "aPMB/U2bVoA2H9DftGkFaPMBnU5rBWjzAf1+QCtAmw/o9wNaAdp8QAdbWgFab2i0ArT5gL6V0ArQ\n",
       "5gOaxFoB2nxAb2i0ArT5gN7QaAVo8wFNYq0AbT6gNzRaAdp8QJ8eawVo8wFtp7UCtPmADra0ArQG\n",
       "mVaANh/QINMK0OYDmsRaAdp8QItYK0CbD2g7rRWgzQc0ibUCtPmAJrFWgDYf0CTWCtDmA/r0WCtA\n",
       "mw/oN/VaAVq7Ua0AbT7g3Gd7Fc/fgQK0+YAmsVaANh/QuZBWgDYf0LmQVoA2H9B2WitAmw/oYEsr\n",
       "QJsPaBJrBWjzAX16rBWgnXf8dHf+DhSgzQd0uKsVoM0HnNsktgrQ5gOaxFoB2nxAz8RaAdp8QIe7\n",
       "WgHafMB5+1bCKkCbD2g7rRWgzQf01aJWgDYf0Om0VoDWI6VWgDYf0G5UK0CbDzjvs70fnb8DBWjz\n",
       "AW2ntQK0+YAWsVaANh/QM7FWgDYf0DOxVoA2H3DeX5OYKkCbD2gSawVo8wHntoitArQGmVaANh9w\n",
       "3l+LmCpAmw9oEmsFaPMBPVJqBWjzAU1irQBtPqBFrBWgzQd0sKUVoM0HnPv81dfwyfwdKECbD2g7\n",
       "rRWgzQd0Oq0VoJ33thulCtDmAxpkWgHafMB5OxeyCtDmA5rEWgHafECTWCtAmw849zaJqQK0+YC2\n",
       "01oB2nxAr5i0ArT5gCaxVoA2H3Buk9gqQGuQaQVo8wHn7XDXKkCbD+iHcFoB2nxAr1m1ArT5gJ6J\n",
       "tQK0+YAmsVaANh/QItYK0OYDOtjSCtDmA5rEWgHafMB5OtiyCtAaZFoB2nxAb2i0ArT5gPM0ia0C\n",
       "tPmADne1ArT5gM6FtAK0+YC201oB2nzAuc/V1/DJ/B0oQJsPaDutFaDNB5ynSWwVoP0P0fns22pN\n",
       "wR8AAAAASUVORK5CYII=\n",
       "\" transform=\"translate(1362, 131)\"/>\n",
       "</g>\n",
       "<path clip-path=\"url(#clip050)\" d=\"M1433.76 1222.71 L1463.44 1222.71 L1463.44 1226.64 L1433.76 1226.64 L1433.76 1222.71 Z\" fill=\"#000000\" fill-rule=\"evenodd\" fill-opacity=\"1\" /><path clip-path=\"url(#clip050)\" d=\"M1483.53 1208.06 Q1479.92 1208.06 1478.09 1211.62 Q1476.29 1215.16 1476.29 1222.29 Q1476.29 1229.4 1478.09 1232.96 Q1479.92 1236.51 1483.53 1236.51 Q1487.17 1236.51 1488.97 1232.96 Q1490.8 1229.4 1490.8 1222.29 Q1490.8 1215.16 1488.97 1211.62 Q1487.17 1208.06 1483.53 1208.06 M1483.53 1204.35 Q1489.34 1204.35 1492.4 1208.96 Q1495.48 1213.54 1495.48 1222.29 Q1495.48 1231.02 1492.4 1235.63 Q1489.34 1240.21 1483.53 1240.21 Q1477.72 1240.21 1474.64 1235.63 Q1471.59 1231.02 1471.59 1222.29 Q1471.59 1213.54 1474.64 1208.96 Q1477.72 1204.35 1483.53 1204.35 Z\" fill=\"#000000\" fill-rule=\"evenodd\" fill-opacity=\"1\" /><path clip-path=\"url(#clip050)\" d=\"M1503.69 1233.66 L1508.58 1233.66 L1508.58 1239.54 L1503.69 1239.54 L1503.69 1233.66 Z\" fill=\"#000000\" fill-rule=\"evenodd\" fill-opacity=\"1\" /><path clip-path=\"url(#clip050)\" d=\"M1518.81 1204.98 L1537.17 1204.98 L1537.17 1208.91 L1523.09 1208.91 L1523.09 1217.39 Q1524.11 1217.04 1525.13 1216.88 Q1526.15 1216.69 1527.17 1216.69 Q1532.95 1216.69 1536.33 1219.86 Q1539.71 1223.03 1539.71 1228.45 Q1539.71 1234.03 1536.24 1237.13 Q1532.77 1240.21 1526.45 1240.21 Q1524.27 1240.21 1522 1239.84 Q1519.76 1239.47 1517.35 1238.73 L1517.35 1234.03 Q1519.43 1235.16 1521.66 1235.72 Q1523.88 1236.27 1526.36 1236.27 Q1530.36 1236.27 1532.7 1234.17 Q1535.04 1232.06 1535.04 1228.45 Q1535.04 1224.84 1532.7 1222.73 Q1530.36 1220.63 1526.36 1220.63 Q1524.48 1220.63 1522.61 1221.04 Q1520.75 1221.46 1518.81 1222.34 L1518.81 1204.98 Z\" fill=\"#000000\" fill-rule=\"evenodd\" fill-opacity=\"1\" /><path clip-path=\"url(#clip050)\" d=\"M1558.93 1208.06 Q1555.31 1208.06 1553.49 1211.62 Q1551.68 1215.16 1551.68 1222.29 Q1551.68 1229.4 1553.49 1232.96 Q1555.31 1236.51 1558.93 1236.51 Q1562.56 1236.51 1564.36 1232.96 Q1566.19 1229.4 1566.19 1222.29 Q1566.19 1215.16 1564.36 1211.62 Q1562.56 1208.06 1558.93 1208.06 M1558.93 1204.35 Q1564.74 1204.35 1567.79 1208.96 Q1570.87 1213.54 1570.87 1222.29 Q1570.87 1231.02 1567.79 1235.63 Q1564.74 1240.21 1558.93 1240.21 Q1553.11 1240.21 1550.04 1235.63 Q1546.98 1231.02 1546.98 1222.29 Q1546.98 1213.54 1550.04 1208.96 Q1553.11 1204.35 1558.93 1204.35 Z\" fill=\"#000000\" fill-rule=\"evenodd\" fill-opacity=\"1\" /><path clip-path=\"url(#clip050)\" d=\"M1433.76 1040.24 L1463.44 1040.24 L1463.44 1044.18 L1433.76 1044.18 L1433.76 1040.24 Z\" fill=\"#000000\" fill-rule=\"evenodd\" fill-opacity=\"1\" /><path clip-path=\"url(#clip050)\" d=\"M1483.53 1025.59 Q1479.92 1025.59 1478.09 1029.16 Q1476.29 1032.7 1476.29 1039.83 Q1476.29 1046.93 1478.09 1050.5 Q1479.92 1054.04 1483.53 1054.04 Q1487.17 1054.04 1488.97 1050.5 Q1490.8 1046.93 1490.8 1039.83 Q1490.8 1032.7 1488.97 1029.16 Q1487.17 1025.59 1483.53 1025.59 M1483.53 1021.89 Q1489.34 1021.89 1492.4 1026.49 Q1495.48 1031.08 1495.48 1039.83 Q1495.48 1048.55 1492.4 1053.16 Q1489.34 1057.74 1483.53 1057.74 Q1477.72 1057.74 1474.64 1053.16 Q1471.59 1048.55 1471.59 1039.83 Q1471.59 1031.08 1474.64 1026.49 Q1477.72 1021.89 1483.53 1021.89 Z\" fill=\"#000000\" fill-rule=\"evenodd\" fill-opacity=\"1\" /><path clip-path=\"url(#clip050)\" d=\"M1503.69 1051.19 L1508.58 1051.19 L1508.58 1057.07 L1503.69 1057.07 L1503.69 1051.19 Z\" fill=\"#000000\" fill-rule=\"evenodd\" fill-opacity=\"1\" /><path clip-path=\"url(#clip050)\" d=\"M1522.79 1053.14 L1539.11 1053.14 L1539.11 1057.07 L1517.17 1057.07 L1517.17 1053.14 Q1519.83 1050.38 1524.41 1045.75 Q1529.02 1041.1 1530.2 1039.76 Q1532.44 1037.24 1533.32 1035.5 Q1534.23 1033.74 1534.23 1032.05 Q1534.23 1029.3 1532.28 1027.56 Q1530.36 1025.82 1527.26 1025.82 Q1525.06 1025.82 1522.61 1026.59 Q1520.18 1027.35 1517.4 1028.9 L1517.4 1024.18 Q1520.22 1023.05 1522.68 1022.47 Q1525.13 1021.89 1527.17 1021.89 Q1532.54 1021.89 1535.73 1024.57 Q1538.93 1027.26 1538.93 1031.75 Q1538.93 1033.88 1538.12 1035.8 Q1537.33 1037.7 1535.22 1040.29 Q1534.64 1040.96 1531.54 1044.18 Q1528.44 1047.37 1522.79 1053.14 Z\" fill=\"#000000\" fill-rule=\"evenodd\" fill-opacity=\"1\" /><path clip-path=\"url(#clip050)\" d=\"M1548.97 1022.51 L1567.33 1022.51 L1567.33 1026.45 L1553.25 1026.45 L1553.25 1034.92 Q1554.27 1034.57 1555.29 1034.41 Q1556.31 1034.23 1557.33 1034.23 Q1563.11 1034.23 1566.49 1037.4 Q1569.87 1040.57 1569.87 1045.99 Q1569.87 1051.56 1566.4 1054.67 Q1562.93 1057.74 1556.61 1057.74 Q1554.43 1057.74 1552.17 1057.37 Q1549.92 1057 1547.51 1056.26 L1547.51 1051.56 Q1549.6 1052.7 1551.82 1053.25 Q1554.04 1053.81 1556.52 1053.81 Q1560.52 1053.81 1562.86 1051.7 Q1565.2 1049.6 1565.2 1045.99 Q1565.2 1042.37 1562.86 1040.27 Q1560.52 1038.16 1556.52 1038.16 Q1554.64 1038.16 1552.77 1038.58 Q1550.92 1038.99 1548.97 1039.87 L1548.97 1022.51 Z\" fill=\"#000000\" fill-rule=\"evenodd\" fill-opacity=\"1\" /><path clip-path=\"url(#clip050)\" d=\"M1445.71 843.127 Q1442.1 843.127 1440.27 846.692 Q1438.46 850.233 1438.46 857.363 Q1438.46 864.469 1440.27 868.034 Q1442.1 871.576 1445.71 871.576 Q1449.34 871.576 1451.15 868.034 Q1452.98 864.469 1452.98 857.363 Q1452.98 850.233 1451.15 846.692 Q1449.34 843.127 1445.71 843.127 M1445.71 839.423 Q1451.52 839.423 1454.57 844.03 Q1457.65 848.613 1457.65 857.363 Q1457.65 866.09 1454.57 870.696 Q1451.52 875.279 1445.71 875.279 Q1439.9 875.279 1436.82 870.696 Q1433.76 866.09 1433.76 857.363 Q1433.76 848.613 1436.82 844.03 Q1439.9 839.423 1445.71 839.423 Z\" fill=\"#000000\" fill-rule=\"evenodd\" fill-opacity=\"1\" /><path clip-path=\"url(#clip050)\" d=\"M1445.71 660.662 Q1442.1 660.662 1440.27 664.227 Q1438.46 667.768 1438.46 674.898 Q1438.46 682.004 1440.27 685.569 Q1442.1 689.111 1445.71 689.111 Q1449.34 689.111 1451.15 685.569 Q1452.98 682.004 1452.98 674.898 Q1452.98 667.768 1451.15 664.227 Q1449.34 660.662 1445.71 660.662 M1445.71 656.958 Q1451.52 656.958 1454.57 661.565 Q1457.65 666.148 1457.65 674.898 Q1457.65 683.625 1454.57 688.231 Q1451.52 692.814 1445.71 692.814 Q1439.9 692.814 1436.82 688.231 Q1433.76 683.625 1433.76 674.898 Q1433.76 666.148 1436.82 661.565 Q1439.9 656.958 1445.71 656.958 Z\" fill=\"#000000\" fill-rule=\"evenodd\" fill-opacity=\"1\" /><path clip-path=\"url(#clip050)\" d=\"M1465.87 686.264 L1470.75 686.264 L1470.75 692.143 L1465.87 692.143 L1465.87 686.264 Z\" fill=\"#000000\" fill-rule=\"evenodd\" fill-opacity=\"1\" /><path clip-path=\"url(#clip050)\" d=\"M1484.97 688.208 L1501.29 688.208 L1501.29 692.143 L1479.34 692.143 L1479.34 688.208 Q1482 685.453 1486.59 680.824 Q1491.19 676.171 1492.37 674.828 Q1494.62 672.305 1495.5 670.569 Q1496.4 668.81 1496.4 667.12 Q1496.4 664.366 1494.46 662.629 Q1492.54 660.893 1489.43 660.893 Q1487.24 660.893 1484.78 661.657 Q1482.35 662.421 1479.57 663.972 L1479.57 659.25 Q1482.4 658.116 1484.85 657.537 Q1487.31 656.958 1489.34 656.958 Q1494.71 656.958 1497.91 659.643 Q1501.1 662.329 1501.1 666.819 Q1501.1 668.949 1500.29 670.87 Q1499.5 672.768 1497.4 675.361 Q1496.82 676.032 1493.72 679.25 Q1490.62 682.444 1484.97 688.208 Z\" fill=\"#000000\" fill-rule=\"evenodd\" fill-opacity=\"1\" /><path clip-path=\"url(#clip050)\" d=\"M1511.15 657.583 L1529.5 657.583 L1529.5 661.518 L1515.43 661.518 L1515.43 669.991 Q1516.45 669.643 1517.47 669.481 Q1518.49 669.296 1519.5 669.296 Q1525.29 669.296 1528.67 672.467 Q1532.05 675.639 1532.05 681.055 Q1532.05 686.634 1528.58 689.736 Q1525.11 692.814 1518.79 692.814 Q1516.61 692.814 1514.34 692.444 Q1512.1 692.074 1509.69 691.333 L1509.69 686.634 Q1511.77 687.768 1513.99 688.324 Q1516.22 688.879 1518.69 688.879 Q1522.7 688.879 1525.04 686.773 Q1527.37 684.666 1527.37 681.055 Q1527.37 677.444 1525.04 675.338 Q1522.7 673.231 1518.69 673.231 Q1516.82 673.231 1514.94 673.648 Q1513.09 674.065 1511.15 674.944 L1511.15 657.583 Z\" fill=\"#000000\" fill-rule=\"evenodd\" fill-opacity=\"1\" /><path clip-path=\"url(#clip050)\" d=\"M1445.71 478.197 Q1442.1 478.197 1440.27 481.762 Q1438.46 485.303 1438.46 492.433 Q1438.46 499.54 1440.27 503.104 Q1442.1 506.646 1445.71 506.646 Q1449.34 506.646 1451.15 503.104 Q1452.98 499.54 1452.98 492.433 Q1452.98 485.303 1451.15 481.762 Q1449.34 478.197 1445.71 478.197 M1445.71 474.493 Q1451.52 474.493 1454.57 479.1 Q1457.65 483.683 1457.65 492.433 Q1457.65 501.16 1454.57 505.766 Q1451.52 510.35 1445.71 510.35 Q1439.9 510.35 1436.82 505.766 Q1433.76 501.16 1433.76 492.433 Q1433.76 483.683 1436.82 479.1 Q1439.9 474.493 1445.71 474.493 Z\" fill=\"#000000\" fill-rule=\"evenodd\" fill-opacity=\"1\" /><path clip-path=\"url(#clip050)\" d=\"M1465.87 503.799 L1470.75 503.799 L1470.75 509.678 L1465.87 509.678 L1465.87 503.799 Z\" fill=\"#000000\" fill-rule=\"evenodd\" fill-opacity=\"1\" /><path clip-path=\"url(#clip050)\" d=\"M1480.99 475.118 L1499.34 475.118 L1499.34 479.053 L1485.27 479.053 L1485.27 487.526 Q1486.29 487.178 1487.31 487.016 Q1488.32 486.831 1489.34 486.831 Q1495.13 486.831 1498.51 490.003 Q1501.89 493.174 1501.89 498.59 Q1501.89 504.169 1498.42 507.271 Q1494.94 510.35 1488.62 510.35 Q1486.45 510.35 1484.18 509.979 Q1481.93 509.609 1479.53 508.868 L1479.53 504.169 Q1481.61 505.303 1483.83 505.859 Q1486.06 506.414 1488.53 506.414 Q1492.54 506.414 1494.87 504.308 Q1497.21 502.202 1497.21 498.59 Q1497.21 494.979 1494.87 492.873 Q1492.54 490.766 1488.53 490.766 Q1486.66 490.766 1484.78 491.183 Q1482.93 491.6 1480.99 492.479 L1480.99 475.118 Z\" fill=\"#000000\" fill-rule=\"evenodd\" fill-opacity=\"1\" /><path clip-path=\"url(#clip050)\" d=\"M1521.1 478.197 Q1517.49 478.197 1515.66 481.762 Q1513.86 485.303 1513.86 492.433 Q1513.86 499.54 1515.66 503.104 Q1517.49 506.646 1521.1 506.646 Q1524.74 506.646 1526.54 503.104 Q1528.37 499.54 1528.37 492.433 Q1528.37 485.303 1526.54 481.762 Q1524.74 478.197 1521.1 478.197 M1521.1 474.493 Q1526.91 474.493 1529.97 479.1 Q1533.05 483.683 1533.05 492.433 Q1533.05 501.16 1529.97 505.766 Q1526.91 510.35 1521.1 510.35 Q1515.29 510.35 1512.21 505.766 Q1509.16 501.16 1509.16 492.433 Q1509.16 483.683 1512.21 479.1 Q1515.29 474.493 1521.1 474.493 Z\" fill=\"#000000\" fill-rule=\"evenodd\" fill-opacity=\"1\" /><path clip-path=\"url(#clip050)\" d=\"M1445.71 295.732 Q1442.1 295.732 1440.27 299.297 Q1438.46 302.839 1438.46 309.968 Q1438.46 317.075 1440.27 320.639 Q1442.1 324.181 1445.71 324.181 Q1449.34 324.181 1451.15 320.639 Q1452.98 317.075 1452.98 309.968 Q1452.98 302.839 1451.15 299.297 Q1449.34 295.732 1445.71 295.732 M1445.71 292.028 Q1451.52 292.028 1454.57 296.635 Q1457.65 301.218 1457.65 309.968 Q1457.65 318.695 1454.57 323.301 Q1451.52 327.885 1445.71 327.885 Q1439.9 327.885 1436.82 323.301 Q1433.76 318.695 1433.76 309.968 Q1433.76 301.218 1436.82 296.635 Q1439.9 292.028 1445.71 292.028 Z\" fill=\"#000000\" fill-rule=\"evenodd\" fill-opacity=\"1\" /><path clip-path=\"url(#clip050)\" d=\"M1465.87 321.334 L1470.75 321.334 L1470.75 327.213 L1465.87 327.213 L1465.87 321.334 Z\" fill=\"#000000\" fill-rule=\"evenodd\" fill-opacity=\"1\" /><path clip-path=\"url(#clip050)\" d=\"M1479.76 292.653 L1501.98 292.653 L1501.98 294.644 L1489.43 327.213 L1484.55 327.213 L1496.36 296.589 L1479.76 296.589 L1479.76 292.653 Z\" fill=\"#000000\" fill-rule=\"evenodd\" fill-opacity=\"1\" /><path clip-path=\"url(#clip050)\" d=\"M1511.15 292.653 L1529.5 292.653 L1529.5 296.589 L1515.43 296.589 L1515.43 305.061 Q1516.45 304.714 1517.47 304.552 Q1518.49 304.366 1519.5 304.366 Q1525.29 304.366 1528.67 307.538 Q1532.05 310.709 1532.05 316.126 Q1532.05 321.704 1528.58 324.806 Q1525.11 327.885 1518.79 327.885 Q1516.61 327.885 1514.34 327.514 Q1512.1 327.144 1509.69 326.403 L1509.69 321.704 Q1511.77 322.838 1513.99 323.394 Q1516.22 323.95 1518.69 323.95 Q1522.7 323.95 1525.04 321.843 Q1527.37 319.737 1527.37 316.126 Q1527.37 312.514 1525.04 310.408 Q1522.7 308.302 1518.69 308.302 Q1516.82 308.302 1514.94 308.718 Q1513.09 309.135 1511.15 310.014 L1511.15 292.653 Z\" fill=\"#000000\" fill-rule=\"evenodd\" fill-opacity=\"1\" /><path clip-path=\"url(#clip050)\" d=\"M1434.44 140.813 L1442.07 140.813 L1442.07 114.448 L1433.76 116.114 L1433.76 111.855 L1442.03 110.189 L1446.7 110.189 L1446.7 140.813 L1454.34 140.813 L1454.34 144.749 L1434.44 144.749 L1434.44 140.813 Z\" fill=\"#000000\" fill-rule=\"evenodd\" fill-opacity=\"1\" /><path clip-path=\"url(#clip050)\" d=\"M1463.79 138.869 L1468.67 138.869 L1468.67 144.749 L1463.79 144.749 L1463.79 138.869 Z\" fill=\"#000000\" fill-rule=\"evenodd\" fill-opacity=\"1\" /><path clip-path=\"url(#clip050)\" d=\"M1488.86 113.267 Q1485.24 113.267 1483.42 116.832 Q1481.61 120.374 1481.61 127.503 Q1481.61 134.61 1483.42 138.175 Q1485.24 141.716 1488.86 141.716 Q1492.49 141.716 1494.3 138.175 Q1496.12 134.61 1496.12 127.503 Q1496.12 120.374 1494.3 116.832 Q1492.49 113.267 1488.86 113.267 M1488.86 109.564 Q1494.67 109.564 1497.72 114.17 Q1500.8 118.753 1500.8 127.503 Q1500.8 136.23 1497.72 140.837 Q1494.67 145.42 1488.86 145.42 Q1483.05 145.42 1479.97 140.837 Q1476.91 136.23 1476.91 127.503 Q1476.91 118.753 1479.97 114.17 Q1483.05 109.564 1488.86 109.564 Z\" fill=\"#000000\" fill-rule=\"evenodd\" fill-opacity=\"1\" /><path clip-path=\"url(#clip050)\" d=\"M1519.02 113.267 Q1515.41 113.267 1513.58 116.832 Q1511.77 120.374 1511.77 127.503 Q1511.77 134.61 1513.58 138.175 Q1515.41 141.716 1519.02 141.716 Q1522.65 141.716 1524.46 138.175 Q1526.29 134.61 1526.29 127.503 Q1526.29 120.374 1524.46 116.832 Q1522.65 113.267 1519.02 113.267 M1519.02 109.564 Q1524.83 109.564 1527.88 114.17 Q1530.96 118.753 1530.96 127.503 Q1530.96 136.23 1527.88 140.837 Q1524.83 145.42 1519.02 145.42 Q1513.21 145.42 1510.13 140.837 Q1507.07 136.23 1507.07 127.503 Q1507.07 118.753 1510.13 114.17 Q1513.21 109.564 1519.02 109.564 Z\" fill=\"#000000\" fill-rule=\"evenodd\" fill-opacity=\"1\" /><polyline clip-path=\"url(#clip050)\" style=\"stroke:#000000; stroke-linecap:butt; stroke-linejoin:round; stroke-width:4; stroke-opacity:1; fill:none\" points=\"\n",
       "  1409.76,1385.31 1409.76,1225.89 1425.76,1225.89 1409.76,1225.89 1409.76,1043.42 1425.76,1043.42 1409.76,1043.42 1409.76,860.957 1425.76,860.957 1409.76,860.957 \n",
       "  1409.76,678.492 1425.76,678.492 1409.76,678.492 1409.76,496.027 1425.76,496.027 1409.76,496.027 1409.76,313.562 1425.76,313.562 1409.76,313.562 1409.76,131.097 \n",
       "  1425.76,131.097 1409.76,131.097 \n",
       "  \"/>\n",
       "</svg>\n"
      ]
     },
     "execution_count": 36,
     "metadata": {},
     "output_type": "execute_result"
    }
   ],
   "source": [
    "using Plots\n",
    "heatmap(names(aq1), names(aq1), cor_mat;\n",
    "        aspect_ratio=:equal, size=(400, 400),\n",
    "        rightmargin=5Plots.mm)"
   ]
  },
  {
   "cell_type": "markdown",
   "id": "e14ae231",
   "metadata": {
    "pycharm": {
     "name": "#%% md\n"
    }
   },
   "source": [
    "## Creating data frames incrementally"
   ]
  },
  {
   "cell_type": "markdown",
   "id": "137aece8",
   "metadata": {},
   "source": [
    "### Vertical concatenation of data frames"
   ]
  },
  {
   "cell_type": "code",
   "execution_count": 37,
   "id": "f4e18795",
   "metadata": {},
   "outputs": [
    {
     "data": {
      "text/plain": [
       "(set1 = \u001b[1m11×2 DataFrame\u001b[0m\n",
       "\u001b[1m Row \u001b[0m│\u001b[1m x       \u001b[0m\u001b[1m y       \u001b[0m\n",
       "\u001b[1m     \u001b[0m│\u001b[90m Float64 \u001b[0m\u001b[90m Float64 \u001b[0m\n",
       "─────┼──────────────────\n",
       "   1 │    10.0     8.04\n",
       "   2 │     8.0     6.95\n",
       "   3 │    13.0     7.58\n",
       "   4 │     9.0     8.81\n",
       "   5 │    11.0     8.33\n",
       "   6 │    14.0     9.96\n",
       "   7 │     6.0     7.24\n",
       "   8 │     4.0     4.26\n",
       "   9 │    12.0    10.84\n",
       "  10 │     7.0     4.82\n",
       "  11 │     5.0     5.68, set2 = \u001b[1m11×2 DataFrame\u001b[0m\n",
       "\u001b[1m Row \u001b[0m│\u001b[1m x       \u001b[0m\u001b[1m y       \u001b[0m\n",
       "\u001b[1m     \u001b[0m│\u001b[90m Float64 \u001b[0m\u001b[90m Float64 \u001b[0m\n",
       "─────┼──────────────────\n",
       "   1 │    10.0     9.14\n",
       "   2 │     8.0     8.14\n",
       "   3 │    13.0     8.74\n",
       "   4 │     9.0     8.77\n",
       "   5 │    11.0     9.26\n",
       "   6 │    14.0     8.1\n",
       "   7 │     6.0     6.13\n",
       "   8 │     4.0     3.1\n",
       "   9 │    12.0     9.13\n",
       "  10 │     7.0     7.26\n",
       "  11 │     5.0     4.74, set3 = \u001b[1m11×2 DataFrame\u001b[0m\n",
       "\u001b[1m Row \u001b[0m│\u001b[1m x       \u001b[0m\u001b[1m y       \u001b[0m\n",
       "\u001b[1m     \u001b[0m│\u001b[90m Float64 \u001b[0m\u001b[90m Float64 \u001b[0m\n",
       "─────┼──────────────────\n",
       "   1 │    10.0     7.46\n",
       "   2 │     8.0     6.77\n",
       "   3 │    13.0    12.74\n",
       "   4 │     9.0     7.11\n",
       "   5 │    11.0     7.81\n",
       "   6 │    14.0     8.84\n",
       "   7 │     6.0     6.08\n",
       "   8 │     4.0     5.39\n",
       "   9 │    12.0     8.15\n",
       "  10 │     7.0     6.42\n",
       "  11 │     5.0     5.73, set4 = \u001b[1m11×2 DataFrame\u001b[0m\n",
       "\u001b[1m Row \u001b[0m│\u001b[1m x       \u001b[0m\u001b[1m y       \u001b[0m\n",
       "\u001b[1m     \u001b[0m│\u001b[90m Float64 \u001b[0m\u001b[90m Float64 \u001b[0m\n",
       "─────┼──────────────────\n",
       "   1 │     8.0     6.58\n",
       "   2 │     8.0     5.76\n",
       "   3 │     8.0     7.71\n",
       "   4 │     8.0     8.84\n",
       "   5 │     8.0     8.47\n",
       "   6 │     8.0     7.04\n",
       "   7 │     8.0     5.25\n",
       "   8 │    19.0    12.5\n",
       "   9 │     8.0     5.56\n",
       "  10 │     8.0     7.91\n",
       "  11 │     8.0     6.89)"
      ]
     },
     "execution_count": 37,
     "metadata": {},
     "output_type": "execute_result"
    }
   ],
   "source": [
    "data_dfs = map(DataFrame, data)"
   ]
  },
  {
   "cell_type": "code",
   "execution_count": 38,
   "id": "7e7ecd43",
   "metadata": {},
   "outputs": [
    {
     "data": {
      "text/html": [
       "<div class=\"data-frame\"><p>44 rows × 2 columns</p><table class=\"data-frame\"><thead><tr><th></th><th>x</th><th>y</th></tr><tr><th></th><th title=\"Float64\">Float64</th><th title=\"Float64\">Float64</th></tr></thead><tbody><tr><th>1</th><td>10.0</td><td>8.04</td></tr><tr><th>2</th><td>8.0</td><td>6.95</td></tr><tr><th>3</th><td>13.0</td><td>7.58</td></tr><tr><th>4</th><td>9.0</td><td>8.81</td></tr><tr><th>5</th><td>11.0</td><td>8.33</td></tr><tr><th>6</th><td>14.0</td><td>9.96</td></tr><tr><th>7</th><td>6.0</td><td>7.24</td></tr><tr><th>8</th><td>4.0</td><td>4.26</td></tr><tr><th>9</th><td>12.0</td><td>10.84</td></tr><tr><th>10</th><td>7.0</td><td>4.82</td></tr><tr><th>11</th><td>5.0</td><td>5.68</td></tr><tr><th>12</th><td>10.0</td><td>9.14</td></tr><tr><th>13</th><td>8.0</td><td>8.14</td></tr><tr><th>14</th><td>13.0</td><td>8.74</td></tr><tr><th>15</th><td>9.0</td><td>8.77</td></tr><tr><th>16</th><td>11.0</td><td>9.26</td></tr><tr><th>17</th><td>14.0</td><td>8.1</td></tr><tr><th>18</th><td>6.0</td><td>6.13</td></tr><tr><th>19</th><td>4.0</td><td>3.1</td></tr><tr><th>20</th><td>12.0</td><td>9.13</td></tr><tr><th>21</th><td>7.0</td><td>7.26</td></tr><tr><th>22</th><td>5.0</td><td>4.74</td></tr><tr><th>23</th><td>10.0</td><td>7.46</td></tr><tr><th>24</th><td>8.0</td><td>6.77</td></tr><tr><th>25</th><td>13.0</td><td>12.74</td></tr><tr><th>26</th><td>9.0</td><td>7.11</td></tr><tr><th>27</th><td>11.0</td><td>7.81</td></tr><tr><th>28</th><td>14.0</td><td>8.84</td></tr><tr><th>29</th><td>6.0</td><td>6.08</td></tr><tr><th>30</th><td>4.0</td><td>5.39</td></tr><tr><th>&vellip;</th><td>&vellip;</td><td>&vellip;</td></tr></tbody></table></div>"
      ],
      "text/latex": [
       "\\begin{tabular}{r|cc}\n",
       "\t& x & y\\\\\n",
       "\t\\hline\n",
       "\t& Float64 & Float64\\\\\n",
       "\t\\hline\n",
       "\t1 & 10.0 & 8.04 \\\\\n",
       "\t2 & 8.0 & 6.95 \\\\\n",
       "\t3 & 13.0 & 7.58 \\\\\n",
       "\t4 & 9.0 & 8.81 \\\\\n",
       "\t5 & 11.0 & 8.33 \\\\\n",
       "\t6 & 14.0 & 9.96 \\\\\n",
       "\t7 & 6.0 & 7.24 \\\\\n",
       "\t8 & 4.0 & 4.26 \\\\\n",
       "\t9 & 12.0 & 10.84 \\\\\n",
       "\t10 & 7.0 & 4.82 \\\\\n",
       "\t11 & 5.0 & 5.68 \\\\\n",
       "\t12 & 10.0 & 9.14 \\\\\n",
       "\t13 & 8.0 & 8.14 \\\\\n",
       "\t14 & 13.0 & 8.74 \\\\\n",
       "\t15 & 9.0 & 8.77 \\\\\n",
       "\t16 & 11.0 & 9.26 \\\\\n",
       "\t17 & 14.0 & 8.1 \\\\\n",
       "\t18 & 6.0 & 6.13 \\\\\n",
       "\t19 & 4.0 & 3.1 \\\\\n",
       "\t20 & 12.0 & 9.13 \\\\\n",
       "\t21 & 7.0 & 7.26 \\\\\n",
       "\t22 & 5.0 & 4.74 \\\\\n",
       "\t23 & 10.0 & 7.46 \\\\\n",
       "\t24 & 8.0 & 6.77 \\\\\n",
       "\t25 & 13.0 & 12.74 \\\\\n",
       "\t26 & 9.0 & 7.11 \\\\\n",
       "\t27 & 11.0 & 7.81 \\\\\n",
       "\t28 & 14.0 & 8.84 \\\\\n",
       "\t29 & 6.0 & 6.08 \\\\\n",
       "\t30 & 4.0 & 5.39 \\\\\n",
       "\t$\\dots$ & $\\dots$ & $\\dots$ \\\\\n",
       "\\end{tabular}\n"
      ],
      "text/plain": [
       "\u001b[1m44×2 DataFrame\u001b[0m\n",
       "\u001b[1m Row \u001b[0m│\u001b[1m x       \u001b[0m\u001b[1m y       \u001b[0m\n",
       "\u001b[1m     \u001b[0m│\u001b[90m Float64 \u001b[0m\u001b[90m Float64 \u001b[0m\n",
       "─────┼──────────────────\n",
       "   1 │    10.0     8.04\n",
       "   2 │     8.0     6.95\n",
       "   3 │    13.0     7.58\n",
       "   4 │     9.0     8.81\n",
       "   5 │    11.0     8.33\n",
       "   6 │    14.0     9.96\n",
       "   7 │     6.0     7.24\n",
       "   8 │     4.0     4.26\n",
       "   9 │    12.0    10.84\n",
       "  10 │     7.0     4.82\n",
       "  11 │     5.0     5.68\n",
       "  ⋮  │    ⋮        ⋮\n",
       "  35 │     8.0     5.76\n",
       "  36 │     8.0     7.71\n",
       "  37 │     8.0     8.84\n",
       "  38 │     8.0     8.47\n",
       "  39 │     8.0     7.04\n",
       "  40 │     8.0     5.25\n",
       "  41 │    19.0    12.5\n",
       "  42 │     8.0     5.56\n",
       "  43 │     8.0     7.91\n",
       "  44 │     8.0     6.89\n",
       "\u001b[36m         23 rows omitted\u001b[0m"
      ]
     },
     "execution_count": 38,
     "metadata": {},
     "output_type": "execute_result"
    }
   ],
   "source": [
    "vcat(data_dfs.set1, data_dfs.set2, data_dfs.set3, data_dfs.set4)"
   ]
  },
  {
   "cell_type": "code",
   "execution_count": 39,
   "id": "d819218a",
   "metadata": {},
   "outputs": [
    {
     "data": {
      "text/html": [
       "<div class=\"data-frame\"><p>44 rows × 3 columns</p><table class=\"data-frame\"><thead><tr><th></th><th>x</th><th>y</th><th>source_id</th></tr><tr><th></th><th title=\"Float64\">Float64</th><th title=\"Float64\">Float64</th><th title=\"Int64\">Int64</th></tr></thead><tbody><tr><th>1</th><td>10.0</td><td>8.04</td><td>1</td></tr><tr><th>2</th><td>8.0</td><td>6.95</td><td>1</td></tr><tr><th>3</th><td>13.0</td><td>7.58</td><td>1</td></tr><tr><th>4</th><td>9.0</td><td>8.81</td><td>1</td></tr><tr><th>5</th><td>11.0</td><td>8.33</td><td>1</td></tr><tr><th>6</th><td>14.0</td><td>9.96</td><td>1</td></tr><tr><th>7</th><td>6.0</td><td>7.24</td><td>1</td></tr><tr><th>8</th><td>4.0</td><td>4.26</td><td>1</td></tr><tr><th>9</th><td>12.0</td><td>10.84</td><td>1</td></tr><tr><th>10</th><td>7.0</td><td>4.82</td><td>1</td></tr><tr><th>11</th><td>5.0</td><td>5.68</td><td>1</td></tr><tr><th>12</th><td>10.0</td><td>9.14</td><td>2</td></tr><tr><th>13</th><td>8.0</td><td>8.14</td><td>2</td></tr><tr><th>14</th><td>13.0</td><td>8.74</td><td>2</td></tr><tr><th>15</th><td>9.0</td><td>8.77</td><td>2</td></tr><tr><th>16</th><td>11.0</td><td>9.26</td><td>2</td></tr><tr><th>17</th><td>14.0</td><td>8.1</td><td>2</td></tr><tr><th>18</th><td>6.0</td><td>6.13</td><td>2</td></tr><tr><th>19</th><td>4.0</td><td>3.1</td><td>2</td></tr><tr><th>20</th><td>12.0</td><td>9.13</td><td>2</td></tr><tr><th>21</th><td>7.0</td><td>7.26</td><td>2</td></tr><tr><th>22</th><td>5.0</td><td>4.74</td><td>2</td></tr><tr><th>23</th><td>10.0</td><td>7.46</td><td>3</td></tr><tr><th>24</th><td>8.0</td><td>6.77</td><td>3</td></tr><tr><th>25</th><td>13.0</td><td>12.74</td><td>3</td></tr><tr><th>26</th><td>9.0</td><td>7.11</td><td>3</td></tr><tr><th>27</th><td>11.0</td><td>7.81</td><td>3</td></tr><tr><th>28</th><td>14.0</td><td>8.84</td><td>3</td></tr><tr><th>29</th><td>6.0</td><td>6.08</td><td>3</td></tr><tr><th>30</th><td>4.0</td><td>5.39</td><td>3</td></tr><tr><th>&vellip;</th><td>&vellip;</td><td>&vellip;</td><td>&vellip;</td></tr></tbody></table></div>"
      ],
      "text/latex": [
       "\\begin{tabular}{r|ccc}\n",
       "\t& x & y & source\\_id\\\\\n",
       "\t\\hline\n",
       "\t& Float64 & Float64 & Int64\\\\\n",
       "\t\\hline\n",
       "\t1 & 10.0 & 8.04 & 1 \\\\\n",
       "\t2 & 8.0 & 6.95 & 1 \\\\\n",
       "\t3 & 13.0 & 7.58 & 1 \\\\\n",
       "\t4 & 9.0 & 8.81 & 1 \\\\\n",
       "\t5 & 11.0 & 8.33 & 1 \\\\\n",
       "\t6 & 14.0 & 9.96 & 1 \\\\\n",
       "\t7 & 6.0 & 7.24 & 1 \\\\\n",
       "\t8 & 4.0 & 4.26 & 1 \\\\\n",
       "\t9 & 12.0 & 10.84 & 1 \\\\\n",
       "\t10 & 7.0 & 4.82 & 1 \\\\\n",
       "\t11 & 5.0 & 5.68 & 1 \\\\\n",
       "\t12 & 10.0 & 9.14 & 2 \\\\\n",
       "\t13 & 8.0 & 8.14 & 2 \\\\\n",
       "\t14 & 13.0 & 8.74 & 2 \\\\\n",
       "\t15 & 9.0 & 8.77 & 2 \\\\\n",
       "\t16 & 11.0 & 9.26 & 2 \\\\\n",
       "\t17 & 14.0 & 8.1 & 2 \\\\\n",
       "\t18 & 6.0 & 6.13 & 2 \\\\\n",
       "\t19 & 4.0 & 3.1 & 2 \\\\\n",
       "\t20 & 12.0 & 9.13 & 2 \\\\\n",
       "\t21 & 7.0 & 7.26 & 2 \\\\\n",
       "\t22 & 5.0 & 4.74 & 2 \\\\\n",
       "\t23 & 10.0 & 7.46 & 3 \\\\\n",
       "\t24 & 8.0 & 6.77 & 3 \\\\\n",
       "\t25 & 13.0 & 12.74 & 3 \\\\\n",
       "\t26 & 9.0 & 7.11 & 3 \\\\\n",
       "\t27 & 11.0 & 7.81 & 3 \\\\\n",
       "\t28 & 14.0 & 8.84 & 3 \\\\\n",
       "\t29 & 6.0 & 6.08 & 3 \\\\\n",
       "\t30 & 4.0 & 5.39 & 3 \\\\\n",
       "\t$\\dots$ & $\\dots$ & $\\dots$ & $\\dots$ \\\\\n",
       "\\end{tabular}\n"
      ],
      "text/plain": [
       "\u001b[1m44×3 DataFrame\u001b[0m\n",
       "\u001b[1m Row \u001b[0m│\u001b[1m x       \u001b[0m\u001b[1m y       \u001b[0m\u001b[1m source_id \u001b[0m\n",
       "\u001b[1m     \u001b[0m│\u001b[90m Float64 \u001b[0m\u001b[90m Float64 \u001b[0m\u001b[90m Int64     \u001b[0m\n",
       "─────┼─────────────────────────────\n",
       "   1 │    10.0     8.04          1\n",
       "   2 │     8.0     6.95          1\n",
       "   3 │    13.0     7.58          1\n",
       "   4 │     9.0     8.81          1\n",
       "   5 │    11.0     8.33          1\n",
       "   6 │    14.0     9.96          1\n",
       "   7 │     6.0     7.24          1\n",
       "   8 │     4.0     4.26          1\n",
       "   9 │    12.0    10.84          1\n",
       "  10 │     7.0     4.82          1\n",
       "  11 │     5.0     5.68          1\n",
       "  ⋮  │    ⋮        ⋮         ⋮\n",
       "  35 │     8.0     5.76          4\n",
       "  36 │     8.0     7.71          4\n",
       "  37 │     8.0     8.84          4\n",
       "  38 │     8.0     8.47          4\n",
       "  39 │     8.0     7.04          4\n",
       "  40 │     8.0     5.25          4\n",
       "  41 │    19.0    12.5           4\n",
       "  42 │     8.0     5.56          4\n",
       "  43 │     8.0     7.91          4\n",
       "  44 │     8.0     6.89          4\n",
       "\u001b[36m                    23 rows omitted\u001b[0m"
      ]
     },
     "execution_count": 39,
     "metadata": {},
     "output_type": "execute_result"
    }
   ],
   "source": [
    "vcat(data_dfs.set1, data_dfs.set2, data_dfs.set3, data_dfs.set4; source=\"source_id\")"
   ]
  },
  {
   "cell_type": "code",
   "execution_count": 40,
   "id": "8dd2c7be",
   "metadata": {},
   "outputs": [
    {
     "data": {
      "text/html": [
       "<div class=\"data-frame\"><p>44 rows × 3 columns</p><table class=\"data-frame\"><thead><tr><th></th><th>x</th><th>y</th><th>source_id</th></tr><tr><th></th><th title=\"Float64\">Float64</th><th title=\"Float64\">Float64</th><th title=\"String\">String</th></tr></thead><tbody><tr><th>1</th><td>10.0</td><td>8.04</td><td>set1</td></tr><tr><th>2</th><td>8.0</td><td>6.95</td><td>set1</td></tr><tr><th>3</th><td>13.0</td><td>7.58</td><td>set1</td></tr><tr><th>4</th><td>9.0</td><td>8.81</td><td>set1</td></tr><tr><th>5</th><td>11.0</td><td>8.33</td><td>set1</td></tr><tr><th>6</th><td>14.0</td><td>9.96</td><td>set1</td></tr><tr><th>7</th><td>6.0</td><td>7.24</td><td>set1</td></tr><tr><th>8</th><td>4.0</td><td>4.26</td><td>set1</td></tr><tr><th>9</th><td>12.0</td><td>10.84</td><td>set1</td></tr><tr><th>10</th><td>7.0</td><td>4.82</td><td>set1</td></tr><tr><th>11</th><td>5.0</td><td>5.68</td><td>set1</td></tr><tr><th>12</th><td>10.0</td><td>9.14</td><td>set2</td></tr><tr><th>13</th><td>8.0</td><td>8.14</td><td>set2</td></tr><tr><th>14</th><td>13.0</td><td>8.74</td><td>set2</td></tr><tr><th>15</th><td>9.0</td><td>8.77</td><td>set2</td></tr><tr><th>16</th><td>11.0</td><td>9.26</td><td>set2</td></tr><tr><th>17</th><td>14.0</td><td>8.1</td><td>set2</td></tr><tr><th>18</th><td>6.0</td><td>6.13</td><td>set2</td></tr><tr><th>19</th><td>4.0</td><td>3.1</td><td>set2</td></tr><tr><th>20</th><td>12.0</td><td>9.13</td><td>set2</td></tr><tr><th>21</th><td>7.0</td><td>7.26</td><td>set2</td></tr><tr><th>22</th><td>5.0</td><td>4.74</td><td>set2</td></tr><tr><th>23</th><td>10.0</td><td>7.46</td><td>set3</td></tr><tr><th>24</th><td>8.0</td><td>6.77</td><td>set3</td></tr><tr><th>25</th><td>13.0</td><td>12.74</td><td>set3</td></tr><tr><th>26</th><td>9.0</td><td>7.11</td><td>set3</td></tr><tr><th>27</th><td>11.0</td><td>7.81</td><td>set3</td></tr><tr><th>28</th><td>14.0</td><td>8.84</td><td>set3</td></tr><tr><th>29</th><td>6.0</td><td>6.08</td><td>set3</td></tr><tr><th>30</th><td>4.0</td><td>5.39</td><td>set3</td></tr><tr><th>&vellip;</th><td>&vellip;</td><td>&vellip;</td><td>&vellip;</td></tr></tbody></table></div>"
      ],
      "text/latex": [
       "\\begin{tabular}{r|ccc}\n",
       "\t& x & y & source\\_id\\\\\n",
       "\t\\hline\n",
       "\t& Float64 & Float64 & String\\\\\n",
       "\t\\hline\n",
       "\t1 & 10.0 & 8.04 & set1 \\\\\n",
       "\t2 & 8.0 & 6.95 & set1 \\\\\n",
       "\t3 & 13.0 & 7.58 & set1 \\\\\n",
       "\t4 & 9.0 & 8.81 & set1 \\\\\n",
       "\t5 & 11.0 & 8.33 & set1 \\\\\n",
       "\t6 & 14.0 & 9.96 & set1 \\\\\n",
       "\t7 & 6.0 & 7.24 & set1 \\\\\n",
       "\t8 & 4.0 & 4.26 & set1 \\\\\n",
       "\t9 & 12.0 & 10.84 & set1 \\\\\n",
       "\t10 & 7.0 & 4.82 & set1 \\\\\n",
       "\t11 & 5.0 & 5.68 & set1 \\\\\n",
       "\t12 & 10.0 & 9.14 & set2 \\\\\n",
       "\t13 & 8.0 & 8.14 & set2 \\\\\n",
       "\t14 & 13.0 & 8.74 & set2 \\\\\n",
       "\t15 & 9.0 & 8.77 & set2 \\\\\n",
       "\t16 & 11.0 & 9.26 & set2 \\\\\n",
       "\t17 & 14.0 & 8.1 & set2 \\\\\n",
       "\t18 & 6.0 & 6.13 & set2 \\\\\n",
       "\t19 & 4.0 & 3.1 & set2 \\\\\n",
       "\t20 & 12.0 & 9.13 & set2 \\\\\n",
       "\t21 & 7.0 & 7.26 & set2 \\\\\n",
       "\t22 & 5.0 & 4.74 & set2 \\\\\n",
       "\t23 & 10.0 & 7.46 & set3 \\\\\n",
       "\t24 & 8.0 & 6.77 & set3 \\\\\n",
       "\t25 & 13.0 & 12.74 & set3 \\\\\n",
       "\t26 & 9.0 & 7.11 & set3 \\\\\n",
       "\t27 & 11.0 & 7.81 & set3 \\\\\n",
       "\t28 & 14.0 & 8.84 & set3 \\\\\n",
       "\t29 & 6.0 & 6.08 & set3 \\\\\n",
       "\t30 & 4.0 & 5.39 & set3 \\\\\n",
       "\t$\\dots$ & $\\dots$ & $\\dots$ & $\\dots$ \\\\\n",
       "\\end{tabular}\n"
      ],
      "text/plain": [
       "\u001b[1m44×3 DataFrame\u001b[0m\n",
       "\u001b[1m Row \u001b[0m│\u001b[1m x       \u001b[0m\u001b[1m y       \u001b[0m\u001b[1m source_id \u001b[0m\n",
       "\u001b[1m     \u001b[0m│\u001b[90m Float64 \u001b[0m\u001b[90m Float64 \u001b[0m\u001b[90m String    \u001b[0m\n",
       "─────┼─────────────────────────────\n",
       "   1 │    10.0     8.04  set1\n",
       "   2 │     8.0     6.95  set1\n",
       "   3 │    13.0     7.58  set1\n",
       "   4 │     9.0     8.81  set1\n",
       "   5 │    11.0     8.33  set1\n",
       "   6 │    14.0     9.96  set1\n",
       "   7 │     6.0     7.24  set1\n",
       "   8 │     4.0     4.26  set1\n",
       "   9 │    12.0    10.84  set1\n",
       "  10 │     7.0     4.82  set1\n",
       "  11 │     5.0     5.68  set1\n",
       "  ⋮  │    ⋮        ⋮         ⋮\n",
       "  35 │     8.0     5.76  set4\n",
       "  36 │     8.0     7.71  set4\n",
       "  37 │     8.0     8.84  set4\n",
       "  38 │     8.0     8.47  set4\n",
       "  39 │     8.0     7.04  set4\n",
       "  40 │     8.0     5.25  set4\n",
       "  41 │    19.0    12.5   set4\n",
       "  42 │     8.0     5.56  set4\n",
       "  43 │     8.0     7.91  set4\n",
       "  44 │     8.0     6.89  set4\n",
       "\u001b[36m                    23 rows omitted\u001b[0m"
      ]
     },
     "execution_count": 40,
     "metadata": {},
     "output_type": "execute_result"
    }
   ],
   "source": [
    "vcat(data_dfs.set1, data_dfs.set2, data_dfs.set3, data_dfs.set4; source=\"source_id\"=>string.(\"set\", 1:4))"
   ]
  },
  {
   "cell_type": "code",
   "execution_count": 41,
   "id": "172c118b",
   "metadata": {},
   "outputs": [
    {
     "data": {
      "text/html": [
       "<div class=\"data-frame\"><p>44 rows × 3 columns</p><table class=\"data-frame\"><thead><tr><th></th><th>x</th><th>y</th><th>source_id</th></tr><tr><th></th><th title=\"Float64\">Float64</th><th title=\"Float64\">Float64</th><th title=\"String\">String</th></tr></thead><tbody><tr><th>1</th><td>10.0</td><td>8.04</td><td>set1</td></tr><tr><th>2</th><td>8.0</td><td>6.95</td><td>set1</td></tr><tr><th>3</th><td>13.0</td><td>7.58</td><td>set1</td></tr><tr><th>4</th><td>9.0</td><td>8.81</td><td>set1</td></tr><tr><th>5</th><td>11.0</td><td>8.33</td><td>set1</td></tr><tr><th>6</th><td>14.0</td><td>9.96</td><td>set1</td></tr><tr><th>7</th><td>6.0</td><td>7.24</td><td>set1</td></tr><tr><th>8</th><td>4.0</td><td>4.26</td><td>set1</td></tr><tr><th>9</th><td>12.0</td><td>10.84</td><td>set1</td></tr><tr><th>10</th><td>7.0</td><td>4.82</td><td>set1</td></tr><tr><th>11</th><td>5.0</td><td>5.68</td><td>set1</td></tr><tr><th>12</th><td>10.0</td><td>9.14</td><td>set2</td></tr><tr><th>13</th><td>8.0</td><td>8.14</td><td>set2</td></tr><tr><th>14</th><td>13.0</td><td>8.74</td><td>set2</td></tr><tr><th>15</th><td>9.0</td><td>8.77</td><td>set2</td></tr><tr><th>16</th><td>11.0</td><td>9.26</td><td>set2</td></tr><tr><th>17</th><td>14.0</td><td>8.1</td><td>set2</td></tr><tr><th>18</th><td>6.0</td><td>6.13</td><td>set2</td></tr><tr><th>19</th><td>4.0</td><td>3.1</td><td>set2</td></tr><tr><th>20</th><td>12.0</td><td>9.13</td><td>set2</td></tr><tr><th>21</th><td>7.0</td><td>7.26</td><td>set2</td></tr><tr><th>22</th><td>5.0</td><td>4.74</td><td>set2</td></tr><tr><th>23</th><td>10.0</td><td>7.46</td><td>set3</td></tr><tr><th>24</th><td>8.0</td><td>6.77</td><td>set3</td></tr><tr><th>25</th><td>13.0</td><td>12.74</td><td>set3</td></tr><tr><th>26</th><td>9.0</td><td>7.11</td><td>set3</td></tr><tr><th>27</th><td>11.0</td><td>7.81</td><td>set3</td></tr><tr><th>28</th><td>14.0</td><td>8.84</td><td>set3</td></tr><tr><th>29</th><td>6.0</td><td>6.08</td><td>set3</td></tr><tr><th>30</th><td>4.0</td><td>5.39</td><td>set3</td></tr><tr><th>&vellip;</th><td>&vellip;</td><td>&vellip;</td><td>&vellip;</td></tr></tbody></table></div>"
      ],
      "text/latex": [
       "\\begin{tabular}{r|ccc}\n",
       "\t& x & y & source\\_id\\\\\n",
       "\t\\hline\n",
       "\t& Float64 & Float64 & String\\\\\n",
       "\t\\hline\n",
       "\t1 & 10.0 & 8.04 & set1 \\\\\n",
       "\t2 & 8.0 & 6.95 & set1 \\\\\n",
       "\t3 & 13.0 & 7.58 & set1 \\\\\n",
       "\t4 & 9.0 & 8.81 & set1 \\\\\n",
       "\t5 & 11.0 & 8.33 & set1 \\\\\n",
       "\t6 & 14.0 & 9.96 & set1 \\\\\n",
       "\t7 & 6.0 & 7.24 & set1 \\\\\n",
       "\t8 & 4.0 & 4.26 & set1 \\\\\n",
       "\t9 & 12.0 & 10.84 & set1 \\\\\n",
       "\t10 & 7.0 & 4.82 & set1 \\\\\n",
       "\t11 & 5.0 & 5.68 & set1 \\\\\n",
       "\t12 & 10.0 & 9.14 & set2 \\\\\n",
       "\t13 & 8.0 & 8.14 & set2 \\\\\n",
       "\t14 & 13.0 & 8.74 & set2 \\\\\n",
       "\t15 & 9.0 & 8.77 & set2 \\\\\n",
       "\t16 & 11.0 & 9.26 & set2 \\\\\n",
       "\t17 & 14.0 & 8.1 & set2 \\\\\n",
       "\t18 & 6.0 & 6.13 & set2 \\\\\n",
       "\t19 & 4.0 & 3.1 & set2 \\\\\n",
       "\t20 & 12.0 & 9.13 & set2 \\\\\n",
       "\t21 & 7.0 & 7.26 & set2 \\\\\n",
       "\t22 & 5.0 & 4.74 & set2 \\\\\n",
       "\t23 & 10.0 & 7.46 & set3 \\\\\n",
       "\t24 & 8.0 & 6.77 & set3 \\\\\n",
       "\t25 & 13.0 & 12.74 & set3 \\\\\n",
       "\t26 & 9.0 & 7.11 & set3 \\\\\n",
       "\t27 & 11.0 & 7.81 & set3 \\\\\n",
       "\t28 & 14.0 & 8.84 & set3 \\\\\n",
       "\t29 & 6.0 & 6.08 & set3 \\\\\n",
       "\t30 & 4.0 & 5.39 & set3 \\\\\n",
       "\t$\\dots$ & $\\dots$ & $\\dots$ & $\\dots$ \\\\\n",
       "\\end{tabular}\n"
      ],
      "text/plain": [
       "\u001b[1m44×3 DataFrame\u001b[0m\n",
       "\u001b[1m Row \u001b[0m│\u001b[1m x       \u001b[0m\u001b[1m y       \u001b[0m\u001b[1m source_id \u001b[0m\n",
       "\u001b[1m     \u001b[0m│\u001b[90m Float64 \u001b[0m\u001b[90m Float64 \u001b[0m\u001b[90m String    \u001b[0m\n",
       "─────┼─────────────────────────────\n",
       "   1 │    10.0     8.04  set1\n",
       "   2 │     8.0     6.95  set1\n",
       "   3 │    13.0     7.58  set1\n",
       "   4 │     9.0     8.81  set1\n",
       "   5 │    11.0     8.33  set1\n",
       "   6 │    14.0     9.96  set1\n",
       "   7 │     6.0     7.24  set1\n",
       "   8 │     4.0     4.26  set1\n",
       "   9 │    12.0    10.84  set1\n",
       "  10 │     7.0     4.82  set1\n",
       "  11 │     5.0     5.68  set1\n",
       "  ⋮  │    ⋮        ⋮         ⋮\n",
       "  35 │     8.0     5.76  set4\n",
       "  36 │     8.0     7.71  set4\n",
       "  37 │     8.0     8.84  set4\n",
       "  38 │     8.0     8.47  set4\n",
       "  39 │     8.0     7.04  set4\n",
       "  40 │     8.0     5.25  set4\n",
       "  41 │    19.0    12.5   set4\n",
       "  42 │     8.0     5.56  set4\n",
       "  43 │     8.0     7.91  set4\n",
       "  44 │     8.0     6.89  set4\n",
       "\u001b[36m                    23 rows omitted\u001b[0m"
      ]
     },
     "execution_count": 41,
     "metadata": {},
     "output_type": "execute_result"
    }
   ],
   "source": [
    "reduce(vcat, collect(data_dfs); source=\"source_id\"=>string.(\"set\", 1:4))"
   ]
  },
  {
   "cell_type": "code",
   "execution_count": 42,
   "id": "94e80ad7",
   "metadata": {},
   "outputs": [
    {
     "data": {
      "text/html": [
       "<div class=\"data-frame\"><p>3 rows × 2 columns</p><table class=\"data-frame\"><thead><tr><th></th><th>a</th><th>b</th></tr><tr><th></th><th title=\"Int64\">Int64</th><th title=\"Int64\">Int64</th></tr></thead><tbody><tr><th>1</th><td>1</td><td>11</td></tr><tr><th>2</th><td>2</td><td>12</td></tr><tr><th>3</th><td>3</td><td>13</td></tr></tbody></table></div>"
      ],
      "text/latex": [
       "\\begin{tabular}{r|cc}\n",
       "\t& a & b\\\\\n",
       "\t\\hline\n",
       "\t& Int64 & Int64\\\\\n",
       "\t\\hline\n",
       "\t1 & 1 & 11 \\\\\n",
       "\t2 & 2 & 12 \\\\\n",
       "\t3 & 3 & 13 \\\\\n",
       "\\end{tabular}\n"
      ],
      "text/plain": [
       "\u001b[1m3×2 DataFrame\u001b[0m\n",
       "\u001b[1m Row \u001b[0m│\u001b[1m a     \u001b[0m\u001b[1m b     \u001b[0m\n",
       "\u001b[1m     \u001b[0m│\u001b[90m Int64 \u001b[0m\u001b[90m Int64 \u001b[0m\n",
       "─────┼──────────────\n",
       "   1 │     1     11\n",
       "   2 │     2     12\n",
       "   3 │     3     13"
      ]
     },
     "execution_count": 42,
     "metadata": {},
     "output_type": "execute_result"
    }
   ],
   "source": [
    "df1 = DataFrame(a=1:3, b=11:13)"
   ]
  },
  {
   "cell_type": "code",
   "execution_count": 43,
   "id": "b8742425",
   "metadata": {},
   "outputs": [
    {
     "data": {
      "text/html": [
       "<div class=\"data-frame\"><p>3 rows × 2 columns</p><table class=\"data-frame\"><thead><tr><th></th><th>a</th><th>c</th></tr><tr><th></th><th title=\"Int64\">Int64</th><th title=\"Int64\">Int64</th></tr></thead><tbody><tr><th>1</th><td>4</td><td>24</td></tr><tr><th>2</th><td>5</td><td>25</td></tr><tr><th>3</th><td>6</td><td>26</td></tr></tbody></table></div>"
      ],
      "text/latex": [
       "\\begin{tabular}{r|cc}\n",
       "\t& a & c\\\\\n",
       "\t\\hline\n",
       "\t& Int64 & Int64\\\\\n",
       "\t\\hline\n",
       "\t1 & 4 & 24 \\\\\n",
       "\t2 & 5 & 25 \\\\\n",
       "\t3 & 6 & 26 \\\\\n",
       "\\end{tabular}\n"
      ],
      "text/plain": [
       "\u001b[1m3×2 DataFrame\u001b[0m\n",
       "\u001b[1m Row \u001b[0m│\u001b[1m a     \u001b[0m\u001b[1m c     \u001b[0m\n",
       "\u001b[1m     \u001b[0m│\u001b[90m Int64 \u001b[0m\u001b[90m Int64 \u001b[0m\n",
       "─────┼──────────────\n",
       "   1 │     4     24\n",
       "   2 │     5     25\n",
       "   3 │     6     26"
      ]
     },
     "execution_count": 43,
     "metadata": {},
     "output_type": "execute_result"
    }
   ],
   "source": [
    "df2 = DataFrame(a=4:6, c=24:26)"
   ]
  },
  {
   "cell_type": "code",
   "execution_count": 44,
   "id": "27e003c9",
   "metadata": {},
   "outputs": [
    {
     "ename": "LoadError",
     "evalue": "ArgumentError: column(s) c are missing from argument(s) 1, and column(s) b are missing from argument(s) 2",
     "output_type": "error",
     "traceback": [
      "ArgumentError: column(s) c are missing from argument(s) 1, and column(s) b are missing from argument(s) 2",
      "",
      "Stacktrace:",
      " [1] _vcat(dfs::Vector{AbstractDataFrame}; cols::Symbol)",
      "   @ DataFrames C:\\Users\\bogum\\.julia\\packages\\DataFrames\\zqFGs\\src\\abstractdataframe\\abstractdataframe.jl:1841",
      " [2] #reduce#130",
      "   @ C:\\Users\\bogum\\.julia\\packages\\DataFrames\\zqFGs\\src\\abstractdataframe\\abstractdataframe.jl:1761 [inlined]",
      " [3] #vcat#129",
      "   @ C:\\Users\\bogum\\.julia\\packages\\DataFrames\\zqFGs\\src\\abstractdataframe\\abstractdataframe.jl:1679 [inlined]",
      " [4] vcat(::DataFrame, ::DataFrame)",
      "   @ DataFrames C:\\Users\\bogum\\.julia\\packages\\DataFrames\\zqFGs\\src\\abstractdataframe\\abstractdataframe.jl:1679",
      " [5] top-level scope",
      "   @ In[44]:1",
      " [6] eval",
      "   @ .\\boot.jl:373 [inlined]",
      " [7] include_string(mapexpr::typeof(REPL.softscope), mod::Module, code::String, filename::String)",
      "   @ Base .\\loading.jl:1196"
     ]
    }
   ],
   "source": [
    "vcat(df1, df2)"
   ]
  },
  {
   "cell_type": "code",
   "execution_count": 45,
   "id": "0983f828",
   "metadata": {},
   "outputs": [
    {
     "data": {
      "text/html": [
       "<div class=\"data-frame\"><p>6 rows × 3 columns</p><table class=\"data-frame\"><thead><tr><th></th><th>a</th><th>b</th><th>c</th></tr><tr><th></th><th title=\"Int64\">Int64</th><th title=\"Union{Missing, Int64}\">Int64?</th><th title=\"Union{Missing, Int64}\">Int64?</th></tr></thead><tbody><tr><th>1</th><td>1</td><td>11</td><td><em>missing</em></td></tr><tr><th>2</th><td>2</td><td>12</td><td><em>missing</em></td></tr><tr><th>3</th><td>3</td><td>13</td><td><em>missing</em></td></tr><tr><th>4</th><td>4</td><td><em>missing</em></td><td>24</td></tr><tr><th>5</th><td>5</td><td><em>missing</em></td><td>25</td></tr><tr><th>6</th><td>6</td><td><em>missing</em></td><td>26</td></tr></tbody></table></div>"
      ],
      "text/latex": [
       "\\begin{tabular}{r|ccc}\n",
       "\t& a & b & c\\\\\n",
       "\t\\hline\n",
       "\t& Int64 & Int64? & Int64?\\\\\n",
       "\t\\hline\n",
       "\t1 & 1 & 11 & \\emph{missing} \\\\\n",
       "\t2 & 2 & 12 & \\emph{missing} \\\\\n",
       "\t3 & 3 & 13 & \\emph{missing} \\\\\n",
       "\t4 & 4 & \\emph{missing} & 24 \\\\\n",
       "\t5 & 5 & \\emph{missing} & 25 \\\\\n",
       "\t6 & 6 & \\emph{missing} & 26 \\\\\n",
       "\\end{tabular}\n"
      ],
      "text/plain": [
       "\u001b[1m6×3 DataFrame\u001b[0m\n",
       "\u001b[1m Row \u001b[0m│\u001b[1m a     \u001b[0m\u001b[1m b       \u001b[0m\u001b[1m c       \u001b[0m\n",
       "\u001b[1m     \u001b[0m│\u001b[90m Int64 \u001b[0m\u001b[90m Int64?  \u001b[0m\u001b[90m Int64?  \u001b[0m\n",
       "─────┼─────────────────────────\n",
       "   1 │     1       11 \u001b[90m missing \u001b[0m\n",
       "   2 │     2       12 \u001b[90m missing \u001b[0m\n",
       "   3 │     3       13 \u001b[90m missing \u001b[0m\n",
       "   4 │     4 \u001b[90m missing \u001b[0m      24\n",
       "   5 │     5 \u001b[90m missing \u001b[0m      25\n",
       "   6 │     6 \u001b[90m missing \u001b[0m      26"
      ]
     },
     "execution_count": 45,
     "metadata": {},
     "output_type": "execute_result"
    }
   ],
   "source": [
    "vcat(df1, df2; cols=:union)"
   ]
  },
  {
   "cell_type": "markdown",
   "id": "ff6b2edc",
   "metadata": {
    "pycharm": {
     "name": "#%% md\n"
    }
   },
   "source": [
    "### Appending a table to a data frame"
   ]
  },
  {
   "cell_type": "code",
   "execution_count": 46,
   "id": "535cbcef",
   "metadata": {},
   "outputs": [
    {
     "data": {
      "text/html": [
       "<div class=\"data-frame\"><p>0 rows × 0 columns</p><table class=\"data-frame\"><thead><tr><th></th></tr><tr><th></th></tr></thead><tbody></tbody></table></div>"
      ],
      "text/latex": [
       "\\begin{tabular}{r|}\n",
       "\t& \\\\\n",
       "\t\\hline\n",
       "\t& \\\\\n",
       "\t\\hline\n",
       "\\end{tabular}\n"
      ],
      "text/plain": [
       "\u001b[1m0×0 DataFrame\u001b[0m"
      ]
     },
     "execution_count": 46,
     "metadata": {},
     "output_type": "execute_result"
    }
   ],
   "source": [
    "df_agg = DataFrame()"
   ]
  },
  {
   "cell_type": "code",
   "execution_count": 47,
   "id": "bf42af20",
   "metadata": {},
   "outputs": [
    {
     "data": {
      "text/html": [
       "<div class=\"data-frame\"><p>11 rows × 2 columns</p><table class=\"data-frame\"><thead><tr><th></th><th>x</th><th>y</th></tr><tr><th></th><th title=\"Float64\">Float64</th><th title=\"Float64\">Float64</th></tr></thead><tbody><tr><th>1</th><td>10.0</td><td>8.04</td></tr><tr><th>2</th><td>8.0</td><td>6.95</td></tr><tr><th>3</th><td>13.0</td><td>7.58</td></tr><tr><th>4</th><td>9.0</td><td>8.81</td></tr><tr><th>5</th><td>11.0</td><td>8.33</td></tr><tr><th>6</th><td>14.0</td><td>9.96</td></tr><tr><th>7</th><td>6.0</td><td>7.24</td></tr><tr><th>8</th><td>4.0</td><td>4.26</td></tr><tr><th>9</th><td>12.0</td><td>10.84</td></tr><tr><th>10</th><td>7.0</td><td>4.82</td></tr><tr><th>11</th><td>5.0</td><td>5.68</td></tr></tbody></table></div>"
      ],
      "text/latex": [
       "\\begin{tabular}{r|cc}\n",
       "\t& x & y\\\\\n",
       "\t\\hline\n",
       "\t& Float64 & Float64\\\\\n",
       "\t\\hline\n",
       "\t1 & 10.0 & 8.04 \\\\\n",
       "\t2 & 8.0 & 6.95 \\\\\n",
       "\t3 & 13.0 & 7.58 \\\\\n",
       "\t4 & 9.0 & 8.81 \\\\\n",
       "\t5 & 11.0 & 8.33 \\\\\n",
       "\t6 & 14.0 & 9.96 \\\\\n",
       "\t7 & 6.0 & 7.24 \\\\\n",
       "\t8 & 4.0 & 4.26 \\\\\n",
       "\t9 & 12.0 & 10.84 \\\\\n",
       "\t10 & 7.0 & 4.82 \\\\\n",
       "\t11 & 5.0 & 5.68 \\\\\n",
       "\\end{tabular}\n"
      ],
      "text/plain": [
       "\u001b[1m11×2 DataFrame\u001b[0m\n",
       "\u001b[1m Row \u001b[0m│\u001b[1m x       \u001b[0m\u001b[1m y       \u001b[0m\n",
       "\u001b[1m     \u001b[0m│\u001b[90m Float64 \u001b[0m\u001b[90m Float64 \u001b[0m\n",
       "─────┼──────────────────\n",
       "   1 │    10.0     8.04\n",
       "   2 │     8.0     6.95\n",
       "   3 │    13.0     7.58\n",
       "   4 │     9.0     8.81\n",
       "   5 │    11.0     8.33\n",
       "   6 │    14.0     9.96\n",
       "   7 │     6.0     7.24\n",
       "   8 │     4.0     4.26\n",
       "   9 │    12.0    10.84\n",
       "  10 │     7.0     4.82\n",
       "  11 │     5.0     5.68"
      ]
     },
     "execution_count": 47,
     "metadata": {},
     "output_type": "execute_result"
    }
   ],
   "source": [
    "append!(df_agg, data_dfs.set1)"
   ]
  },
  {
   "cell_type": "code",
   "execution_count": 48,
   "id": "10ec6751",
   "metadata": {},
   "outputs": [
    {
     "data": {
      "text/html": [
       "<div class=\"data-frame\"><p>22 rows × 2 columns</p><table class=\"data-frame\"><thead><tr><th></th><th>x</th><th>y</th></tr><tr><th></th><th title=\"Float64\">Float64</th><th title=\"Float64\">Float64</th></tr></thead><tbody><tr><th>1</th><td>10.0</td><td>8.04</td></tr><tr><th>2</th><td>8.0</td><td>6.95</td></tr><tr><th>3</th><td>13.0</td><td>7.58</td></tr><tr><th>4</th><td>9.0</td><td>8.81</td></tr><tr><th>5</th><td>11.0</td><td>8.33</td></tr><tr><th>6</th><td>14.0</td><td>9.96</td></tr><tr><th>7</th><td>6.0</td><td>7.24</td></tr><tr><th>8</th><td>4.0</td><td>4.26</td></tr><tr><th>9</th><td>12.0</td><td>10.84</td></tr><tr><th>10</th><td>7.0</td><td>4.82</td></tr><tr><th>11</th><td>5.0</td><td>5.68</td></tr><tr><th>12</th><td>10.0</td><td>9.14</td></tr><tr><th>13</th><td>8.0</td><td>8.14</td></tr><tr><th>14</th><td>13.0</td><td>8.74</td></tr><tr><th>15</th><td>9.0</td><td>8.77</td></tr><tr><th>16</th><td>11.0</td><td>9.26</td></tr><tr><th>17</th><td>14.0</td><td>8.1</td></tr><tr><th>18</th><td>6.0</td><td>6.13</td></tr><tr><th>19</th><td>4.0</td><td>3.1</td></tr><tr><th>20</th><td>12.0</td><td>9.13</td></tr><tr><th>21</th><td>7.0</td><td>7.26</td></tr><tr><th>22</th><td>5.0</td><td>4.74</td></tr></tbody></table></div>"
      ],
      "text/latex": [
       "\\begin{tabular}{r|cc}\n",
       "\t& x & y\\\\\n",
       "\t\\hline\n",
       "\t& Float64 & Float64\\\\\n",
       "\t\\hline\n",
       "\t1 & 10.0 & 8.04 \\\\\n",
       "\t2 & 8.0 & 6.95 \\\\\n",
       "\t3 & 13.0 & 7.58 \\\\\n",
       "\t4 & 9.0 & 8.81 \\\\\n",
       "\t5 & 11.0 & 8.33 \\\\\n",
       "\t6 & 14.0 & 9.96 \\\\\n",
       "\t7 & 6.0 & 7.24 \\\\\n",
       "\t8 & 4.0 & 4.26 \\\\\n",
       "\t9 & 12.0 & 10.84 \\\\\n",
       "\t10 & 7.0 & 4.82 \\\\\n",
       "\t11 & 5.0 & 5.68 \\\\\n",
       "\t12 & 10.0 & 9.14 \\\\\n",
       "\t13 & 8.0 & 8.14 \\\\\n",
       "\t14 & 13.0 & 8.74 \\\\\n",
       "\t15 & 9.0 & 8.77 \\\\\n",
       "\t16 & 11.0 & 9.26 \\\\\n",
       "\t17 & 14.0 & 8.1 \\\\\n",
       "\t18 & 6.0 & 6.13 \\\\\n",
       "\t19 & 4.0 & 3.1 \\\\\n",
       "\t20 & 12.0 & 9.13 \\\\\n",
       "\t21 & 7.0 & 7.26 \\\\\n",
       "\t22 & 5.0 & 4.74 \\\\\n",
       "\\end{tabular}\n"
      ],
      "text/plain": [
       "\u001b[1m22×2 DataFrame\u001b[0m\n",
       "\u001b[1m Row \u001b[0m│\u001b[1m x       \u001b[0m\u001b[1m y       \u001b[0m\n",
       "\u001b[1m     \u001b[0m│\u001b[90m Float64 \u001b[0m\u001b[90m Float64 \u001b[0m\n",
       "─────┼──────────────────\n",
       "   1 │    10.0     8.04\n",
       "   2 │     8.0     6.95\n",
       "   3 │    13.0     7.58\n",
       "   4 │     9.0     8.81\n",
       "   5 │    11.0     8.33\n",
       "   6 │    14.0     9.96\n",
       "   7 │     6.0     7.24\n",
       "   8 │     4.0     4.26\n",
       "   9 │    12.0    10.84\n",
       "  10 │     7.0     4.82\n",
       "  11 │     5.0     5.68\n",
       "  12 │    10.0     9.14\n",
       "  13 │     8.0     8.14\n",
       "  14 │    13.0     8.74\n",
       "  15 │     9.0     8.77\n",
       "  16 │    11.0     9.26\n",
       "  17 │    14.0     8.1\n",
       "  18 │     6.0     6.13\n",
       "  19 │     4.0     3.1\n",
       "  20 │    12.0     9.13\n",
       "  21 │     7.0     7.26\n",
       "  22 │     5.0     4.74"
      ]
     },
     "execution_count": 48,
     "metadata": {},
     "output_type": "execute_result"
    }
   ],
   "source": [
    "append!(df_agg, data_dfs.set2)"
   ]
  },
  {
   "cell_type": "code",
   "execution_count": 49,
   "id": "ca9f907a",
   "metadata": {
    "pycharm": {
     "name": "#%% raw\n"
    }
   },
   "outputs": [
    {
     "data": {
      "text/html": [
       "<div class=\"data-frame\"><p>22 rows × 2 columns</p><table class=\"data-frame\"><thead><tr><th></th><th>x</th><th>y</th></tr><tr><th></th><th title=\"Float64\">Float64</th><th title=\"Float64\">Float64</th></tr></thead><tbody><tr><th>1</th><td>10.0</td><td>8.04</td></tr><tr><th>2</th><td>8.0</td><td>6.95</td></tr><tr><th>3</th><td>13.0</td><td>7.58</td></tr><tr><th>4</th><td>9.0</td><td>8.81</td></tr><tr><th>5</th><td>11.0</td><td>8.33</td></tr><tr><th>6</th><td>14.0</td><td>9.96</td></tr><tr><th>7</th><td>6.0</td><td>7.24</td></tr><tr><th>8</th><td>4.0</td><td>4.26</td></tr><tr><th>9</th><td>12.0</td><td>10.84</td></tr><tr><th>10</th><td>7.0</td><td>4.82</td></tr><tr><th>11</th><td>5.0</td><td>5.68</td></tr><tr><th>12</th><td>10.0</td><td>9.14</td></tr><tr><th>13</th><td>8.0</td><td>8.14</td></tr><tr><th>14</th><td>13.0</td><td>8.74</td></tr><tr><th>15</th><td>9.0</td><td>8.77</td></tr><tr><th>16</th><td>11.0</td><td>9.26</td></tr><tr><th>17</th><td>14.0</td><td>8.1</td></tr><tr><th>18</th><td>6.0</td><td>6.13</td></tr><tr><th>19</th><td>4.0</td><td>3.1</td></tr><tr><th>20</th><td>12.0</td><td>9.13</td></tr><tr><th>21</th><td>7.0</td><td>7.26</td></tr><tr><th>22</th><td>5.0</td><td>4.74</td></tr></tbody></table></div>"
      ],
      "text/latex": [
       "\\begin{tabular}{r|cc}\n",
       "\t& x & y\\\\\n",
       "\t\\hline\n",
       "\t& Float64 & Float64\\\\\n",
       "\t\\hline\n",
       "\t1 & 10.0 & 8.04 \\\\\n",
       "\t2 & 8.0 & 6.95 \\\\\n",
       "\t3 & 13.0 & 7.58 \\\\\n",
       "\t4 & 9.0 & 8.81 \\\\\n",
       "\t5 & 11.0 & 8.33 \\\\\n",
       "\t6 & 14.0 & 9.96 \\\\\n",
       "\t7 & 6.0 & 7.24 \\\\\n",
       "\t8 & 4.0 & 4.26 \\\\\n",
       "\t9 & 12.0 & 10.84 \\\\\n",
       "\t10 & 7.0 & 4.82 \\\\\n",
       "\t11 & 5.0 & 5.68 \\\\\n",
       "\t12 & 10.0 & 9.14 \\\\\n",
       "\t13 & 8.0 & 8.14 \\\\\n",
       "\t14 & 13.0 & 8.74 \\\\\n",
       "\t15 & 9.0 & 8.77 \\\\\n",
       "\t16 & 11.0 & 9.26 \\\\\n",
       "\t17 & 14.0 & 8.1 \\\\\n",
       "\t18 & 6.0 & 6.13 \\\\\n",
       "\t19 & 4.0 & 3.1 \\\\\n",
       "\t20 & 12.0 & 9.13 \\\\\n",
       "\t21 & 7.0 & 7.26 \\\\\n",
       "\t22 & 5.0 & 4.74 \\\\\n",
       "\\end{tabular}\n"
      ],
      "text/plain": [
       "\u001b[1m22×2 DataFrame\u001b[0m\n",
       "\u001b[1m Row \u001b[0m│\u001b[1m x       \u001b[0m\u001b[1m y       \u001b[0m\n",
       "\u001b[1m     \u001b[0m│\u001b[90m Float64 \u001b[0m\u001b[90m Float64 \u001b[0m\n",
       "─────┼──────────────────\n",
       "   1 │    10.0     8.04\n",
       "   2 │     8.0     6.95\n",
       "   3 │    13.0     7.58\n",
       "   4 │     9.0     8.81\n",
       "   5 │    11.0     8.33\n",
       "   6 │    14.0     9.96\n",
       "   7 │     6.0     7.24\n",
       "   8 │     4.0     4.26\n",
       "   9 │    12.0    10.84\n",
       "  10 │     7.0     4.82\n",
       "  11 │     5.0     5.68\n",
       "  12 │    10.0     9.14\n",
       "  13 │     8.0     8.14\n",
       "  14 │    13.0     8.74\n",
       "  15 │     9.0     8.77\n",
       "  16 │    11.0     9.26\n",
       "  17 │    14.0     8.1\n",
       "  18 │     6.0     6.13\n",
       "  19 │     4.0     3.1\n",
       "  20 │    12.0     9.13\n",
       "  21 │     7.0     7.26\n",
       "  22 │     5.0     4.74"
      ]
     },
     "execution_count": 49,
     "metadata": {},
     "output_type": "execute_result"
    }
   ],
   "source": [
    "df_agg = DataFrame()\n",
    "append!(df_agg, data.set1)\n",
    "append!(df_agg, data.set2)"
   ]
  },
  {
   "cell_type": "code",
   "execution_count": 50,
   "id": "a5032857",
   "metadata": {},
   "outputs": [
    {
     "data": {
      "text/html": [
       "<div class=\"data-frame\"><p>3 rows × 2 columns</p><table class=\"data-frame\"><thead><tr><th></th><th>a</th><th>b</th></tr><tr><th></th><th title=\"Int64\">Int64</th><th title=\"Int64\">Int64</th></tr></thead><tbody><tr><th>1</th><td>1</td><td>11</td></tr><tr><th>2</th><td>2</td><td>12</td></tr><tr><th>3</th><td>3</td><td>13</td></tr></tbody></table></div>"
      ],
      "text/latex": [
       "\\begin{tabular}{r|cc}\n",
       "\t& a & b\\\\\n",
       "\t\\hline\n",
       "\t& Int64 & Int64\\\\\n",
       "\t\\hline\n",
       "\t1 & 1 & 11 \\\\\n",
       "\t2 & 2 & 12 \\\\\n",
       "\t3 & 3 & 13 \\\\\n",
       "\\end{tabular}\n"
      ],
      "text/plain": [
       "\u001b[1m3×2 DataFrame\u001b[0m\n",
       "\u001b[1m Row \u001b[0m│\u001b[1m a     \u001b[0m\u001b[1m b     \u001b[0m\n",
       "\u001b[1m     \u001b[0m│\u001b[90m Int64 \u001b[0m\u001b[90m Int64 \u001b[0m\n",
       "─────┼──────────────\n",
       "   1 │     1     11\n",
       "   2 │     2     12\n",
       "   3 │     3     13"
      ]
     },
     "execution_count": 50,
     "metadata": {},
     "output_type": "execute_result"
    }
   ],
   "source": [
    "df1 = DataFrame(a=1:3, b=11:13)"
   ]
  },
  {
   "cell_type": "code",
   "execution_count": 51,
   "id": "6a63ba6e",
   "metadata": {},
   "outputs": [
    {
     "data": {
      "text/html": [
       "<div class=\"data-frame\"><p>3 rows × 2 columns</p><table class=\"data-frame\"><thead><tr><th></th><th>a</th><th>b</th></tr><tr><th></th><th title=\"Int64\">Int64</th><th title=\"Union{Missing, Int64}\">Int64?</th></tr></thead><tbody><tr><th>1</th><td>4</td><td>14</td></tr><tr><th>2</th><td>5</td><td><em>missing</em></td></tr><tr><th>3</th><td>6</td><td>16</td></tr></tbody></table></div>"
      ],
      "text/latex": [
       "\\begin{tabular}{r|cc}\n",
       "\t& a & b\\\\\n",
       "\t\\hline\n",
       "\t& Int64 & Int64?\\\\\n",
       "\t\\hline\n",
       "\t1 & 4 & 14 \\\\\n",
       "\t2 & 5 & \\emph{missing} \\\\\n",
       "\t3 & 6 & 16 \\\\\n",
       "\\end{tabular}\n"
      ],
      "text/plain": [
       "\u001b[1m3×2 DataFrame\u001b[0m\n",
       "\u001b[1m Row \u001b[0m│\u001b[1m a     \u001b[0m\u001b[1m b       \u001b[0m\n",
       "\u001b[1m     \u001b[0m│\u001b[90m Int64 \u001b[0m\u001b[90m Int64?  \u001b[0m\n",
       "─────┼────────────────\n",
       "   1 │     4       14\n",
       "   2 │     5 \u001b[90m missing \u001b[0m\n",
       "   3 │     6       16"
      ]
     },
     "execution_count": 51,
     "metadata": {},
     "output_type": "execute_result"
    }
   ],
   "source": [
    "df2 = DataFrame(a=4:6, b=[14, missing, 16])"
   ]
  },
  {
   "cell_type": "code",
   "execution_count": 52,
   "id": "c9a9fa08",
   "metadata": {},
   "outputs": [
    {
     "name": "stderr",
     "output_type": "stream",
     "text": [
      "┌ Error: Error adding value to column :b.\n",
      "└ @ DataFrames C:\\Users\\bogum\\.julia\\packages\\DataFrames\\zqFGs\\src\\dataframe\\dataframe.jl:1423\n"
     ]
    },
    {
     "ename": "LoadError",
     "evalue": "MethodError: \u001b[0mCannot `convert` an object of type \u001b[92mMissing\u001b[39m\u001b[0m to an object of type \u001b[91mInt64\u001b[39m\n\u001b[0mClosest candidates are:\n\u001b[0m  convert(::Type{T}, \u001b[91m::Gray24\u001b[39m) where T<:Real at C:\\Users\\bogum\\.julia\\packages\\ColorTypes\\1dGw6\\src\\conversions.jl:114\n\u001b[0m  convert(::Type{T}, \u001b[91m::Gray\u001b[39m) where T<:Real at C:\\Users\\bogum\\.julia\\packages\\ColorTypes\\1dGw6\\src\\conversions.jl:113\n\u001b[0m  convert(::Type{T}, \u001b[91m::Ptr\u001b[39m) where T<:Integer at C:\\WORK\\julia-1.7.3\\share\\julia\\base\\pointer.jl:23\n\u001b[0m  ...",
     "output_type": "error",
     "traceback": [
      "MethodError: \u001b[0mCannot `convert` an object of type \u001b[92mMissing\u001b[39m\u001b[0m to an object of type \u001b[91mInt64\u001b[39m\n\u001b[0mClosest candidates are:\n\u001b[0m  convert(::Type{T}, \u001b[91m::Gray24\u001b[39m) where T<:Real at C:\\Users\\bogum\\.julia\\packages\\ColorTypes\\1dGw6\\src\\conversions.jl:114\n\u001b[0m  convert(::Type{T}, \u001b[91m::Gray\u001b[39m) where T<:Real at C:\\Users\\bogum\\.julia\\packages\\ColorTypes\\1dGw6\\src\\conversions.jl:113\n\u001b[0m  convert(::Type{T}, \u001b[91m::Ptr\u001b[39m) where T<:Integer at C:\\WORK\\julia-1.7.3\\share\\julia\\base\\pointer.jl:23\n\u001b[0m  ...",
      "",
      "Stacktrace:",
      "  [1] setindex!(A::Vector{Int64}, x::Missing, i1::Int64)",
      "    @ Base .\\array.jl:903",
      "  [2] _unsafe_copyto!(dest::Vector{Int64}, doffs::Int64, src::Vector{Union{Missing, Int64}}, soffs::Int64, n::Int64)",
      "    @ Base .\\array.jl:253",
      "  [3] unsafe_copyto!",
      "    @ .\\array.jl:307 [inlined]",
      "  [4] _copyto_impl!",
      "    @ .\\array.jl:331 [inlined]",
      "  [5] copyto!",
      "    @ .\\array.jl:317 [inlined]",
      "  [6] append!(a::Vector{Int64}, items::Vector{Union{Missing, Int64}})",
      "    @ Base .\\array.jl:1046",
      "  [7] append!(df1::DataFrame, df2::DataFrame; cols::Symbol, promote::Bool)",
      "    @ DataFrames C:\\Users\\bogum\\.julia\\packages\\DataFrames\\zqFGs\\src\\dataframe\\dataframe.jl:1378",
      "  [8] append!(df1::DataFrame, df2::DataFrame)",
      "    @ DataFrames C:\\Users\\bogum\\.julia\\packages\\DataFrames\\zqFGs\\src\\dataframe\\dataframe.jl:1315",
      "  [9] top-level scope",
      "    @ In[52]:1",
      " [10] eval",
      "    @ .\\boot.jl:373 [inlined]",
      " [11] include_string(mapexpr::typeof(REPL.softscope), mod::Module, code::String, filename::String)",
      "    @ Base .\\loading.jl:1196"
     ]
    }
   ],
   "source": [
    "append!(df1, df2)"
   ]
  },
  {
   "cell_type": "code",
   "execution_count": 53,
   "id": "00598d47",
   "metadata": {
    "pycharm": {
     "name": "#%% raw\n"
    }
   },
   "outputs": [
    {
     "data": {
      "text/html": [
       "<div class=\"data-frame\"><p>6 rows × 2 columns</p><table class=\"data-frame\"><thead><tr><th></th><th>a</th><th>b</th></tr><tr><th></th><th title=\"Int64\">Int64</th><th title=\"Union{Missing, Int64}\">Int64?</th></tr></thead><tbody><tr><th>1</th><td>1</td><td>11</td></tr><tr><th>2</th><td>2</td><td>12</td></tr><tr><th>3</th><td>3</td><td>13</td></tr><tr><th>4</th><td>4</td><td>14</td></tr><tr><th>5</th><td>5</td><td><em>missing</em></td></tr><tr><th>6</th><td>6</td><td>16</td></tr></tbody></table></div>"
      ],
      "text/latex": [
       "\\begin{tabular}{r|cc}\n",
       "\t& a & b\\\\\n",
       "\t\\hline\n",
       "\t& Int64 & Int64?\\\\\n",
       "\t\\hline\n",
       "\t1 & 1 & 11 \\\\\n",
       "\t2 & 2 & 12 \\\\\n",
       "\t3 & 3 & 13 \\\\\n",
       "\t4 & 4 & 14 \\\\\n",
       "\t5 & 5 & \\emph{missing} \\\\\n",
       "\t6 & 6 & 16 \\\\\n",
       "\\end{tabular}\n"
      ],
      "text/plain": [
       "\u001b[1m6×2 DataFrame\u001b[0m\n",
       "\u001b[1m Row \u001b[0m│\u001b[1m a     \u001b[0m\u001b[1m b       \u001b[0m\n",
       "\u001b[1m     \u001b[0m│\u001b[90m Int64 \u001b[0m\u001b[90m Int64?  \u001b[0m\n",
       "─────┼────────────────\n",
       "   1 │     1       11\n",
       "   2 │     2       12\n",
       "   3 │     3       13\n",
       "   4 │     4       14\n",
       "   5 │     5 \u001b[90m missing \u001b[0m\n",
       "   6 │     6       16"
      ]
     },
     "execution_count": 53,
     "metadata": {},
     "output_type": "execute_result"
    }
   ],
   "source": [
    "append!(df1, df2; promote=true)"
   ]
  },
  {
   "cell_type": "markdown",
   "id": "63d5fad5",
   "metadata": {
    "pycharm": {
     "name": "#%% md\n"
    }
   },
   "source": [
    "### Adding a new row to an existing data frame"
   ]
  },
  {
   "cell_type": "code",
   "execution_count": 54,
   "id": "8b254fa9",
   "metadata": {},
   "outputs": [
    {
     "data": {
      "text/html": [
       "<div class=\"data-frame\"><p>0 rows × 0 columns</p><table class=\"data-frame\"><thead><tr><th></th></tr><tr><th></th></tr></thead><tbody></tbody></table></div>"
      ],
      "text/latex": [
       "\\begin{tabular}{r|}\n",
       "\t& \\\\\n",
       "\t\\hline\n",
       "\t& \\\\\n",
       "\t\\hline\n",
       "\\end{tabular}\n"
      ],
      "text/plain": [
       "\u001b[1m0×0 DataFrame\u001b[0m"
      ]
     },
     "execution_count": 54,
     "metadata": {},
     "output_type": "execute_result"
    }
   ],
   "source": [
    "df = DataFrame()"
   ]
  },
  {
   "cell_type": "code",
   "execution_count": 55,
   "id": "213f07d2",
   "metadata": {},
   "outputs": [
    {
     "data": {
      "text/html": [
       "<div class=\"data-frame\"><p>1 rows × 2 columns</p><table class=\"data-frame\"><thead><tr><th></th><th>a</th><th>b</th></tr><tr><th></th><th title=\"Int64\">Int64</th><th title=\"Int64\">Int64</th></tr></thead><tbody><tr><th>1</th><td>1</td><td>2</td></tr></tbody></table></div>"
      ],
      "text/latex": [
       "\\begin{tabular}{r|cc}\n",
       "\t& a & b\\\\\n",
       "\t\\hline\n",
       "\t& Int64 & Int64\\\\\n",
       "\t\\hline\n",
       "\t1 & 1 & 2 \\\\\n",
       "\\end{tabular}\n"
      ],
      "text/plain": [
       "\u001b[1m1×2 DataFrame\u001b[0m\n",
       "\u001b[1m Row \u001b[0m│\u001b[1m a     \u001b[0m\u001b[1m b     \u001b[0m\n",
       "\u001b[1m     \u001b[0m│\u001b[90m Int64 \u001b[0m\u001b[90m Int64 \u001b[0m\n",
       "─────┼──────────────\n",
       "   1 │     1      2"
      ]
     },
     "execution_count": 55,
     "metadata": {},
     "output_type": "execute_result"
    }
   ],
   "source": [
    "push!(df, (a=1, b=2))"
   ]
  },
  {
   "cell_type": "code",
   "execution_count": 56,
   "id": "f9597368",
   "metadata": {},
   "outputs": [
    {
     "data": {
      "text/html": [
       "<div class=\"data-frame\"><p>2 rows × 2 columns</p><table class=\"data-frame\"><thead><tr><th></th><th>a</th><th>b</th></tr><tr><th></th><th title=\"Int64\">Int64</th><th title=\"Int64\">Int64</th></tr></thead><tbody><tr><th>1</th><td>1</td><td>2</td></tr><tr><th>2</th><td>3</td><td>4</td></tr></tbody></table></div>"
      ],
      "text/latex": [
       "\\begin{tabular}{r|cc}\n",
       "\t& a & b\\\\\n",
       "\t\\hline\n",
       "\t& Int64 & Int64\\\\\n",
       "\t\\hline\n",
       "\t1 & 1 & 2 \\\\\n",
       "\t2 & 3 & 4 \\\\\n",
       "\\end{tabular}\n"
      ],
      "text/plain": [
       "\u001b[1m2×2 DataFrame\u001b[0m\n",
       "\u001b[1m Row \u001b[0m│\u001b[1m a     \u001b[0m\u001b[1m b     \u001b[0m\n",
       "\u001b[1m     \u001b[0m│\u001b[90m Int64 \u001b[0m\u001b[90m Int64 \u001b[0m\n",
       "─────┼──────────────\n",
       "   1 │     1      2\n",
       "   2 │     3      4"
      ]
     },
     "execution_count": 56,
     "metadata": {},
     "output_type": "execute_result"
    }
   ],
   "source": [
    "push!(df, (a=3, b=4))"
   ]
  },
  {
   "cell_type": "code",
   "execution_count": 57,
   "id": "99b185f9",
   "metadata": {},
   "outputs": [
    {
     "data": {
      "text/html": [
       "<div class=\"data-frame\"><p>0 rows × 2 columns</p><table class=\"data-frame\"><thead><tr><th></th><th>a</th><th>b</th></tr><tr><th></th><th title=\"Int64\">Int64</th><th title=\"Int64\">Int64</th></tr></thead><tbody></tbody></table></div>"
      ],
      "text/latex": [
       "\\begin{tabular}{r|cc}\n",
       "\t& a & b\\\\\n",
       "\t\\hline\n",
       "\t& Int64 & Int64\\\\\n",
       "\t\\hline\n",
       "\\end{tabular}\n"
      ],
      "text/plain": [
       "\u001b[1m0×2 DataFrame\u001b[0m"
      ]
     },
     "execution_count": 57,
     "metadata": {},
     "output_type": "execute_result"
    }
   ],
   "source": [
    "df = DataFrame(a=Int[], b=Int[])"
   ]
  },
  {
   "cell_type": "code",
   "execution_count": 58,
   "id": "8f68bda7",
   "metadata": {},
   "outputs": [
    {
     "data": {
      "text/html": [
       "<div class=\"data-frame\"><p>1 rows × 2 columns</p><table class=\"data-frame\"><thead><tr><th></th><th>a</th><th>b</th></tr><tr><th></th><th title=\"Int64\">Int64</th><th title=\"Int64\">Int64</th></tr></thead><tbody><tr><th>1</th><td>1</td><td>2</td></tr></tbody></table></div>"
      ],
      "text/latex": [
       "\\begin{tabular}{r|cc}\n",
       "\t& a & b\\\\\n",
       "\t\\hline\n",
       "\t& Int64 & Int64\\\\\n",
       "\t\\hline\n",
       "\t1 & 1 & 2 \\\\\n",
       "\\end{tabular}\n"
      ],
      "text/plain": [
       "\u001b[1m1×2 DataFrame\u001b[0m\n",
       "\u001b[1m Row \u001b[0m│\u001b[1m a     \u001b[0m\u001b[1m b     \u001b[0m\n",
       "\u001b[1m     \u001b[0m│\u001b[90m Int64 \u001b[0m\u001b[90m Int64 \u001b[0m\n",
       "─────┼──────────────\n",
       "   1 │     1      2"
      ]
     },
     "execution_count": 58,
     "metadata": {},
     "output_type": "execute_result"
    }
   ],
   "source": [
    "push!(df, [1, 2])"
   ]
  },
  {
   "cell_type": "code",
   "execution_count": 59,
   "id": "122c3228",
   "metadata": {},
   "outputs": [
    {
     "data": {
      "text/html": [
       "<div class=\"data-frame\"><p>2 rows × 2 columns</p><table class=\"data-frame\"><thead><tr><th></th><th>a</th><th>b</th></tr><tr><th></th><th title=\"Int64\">Int64</th><th title=\"Int64\">Int64</th></tr></thead><tbody><tr><th>1</th><td>1</td><td>2</td></tr><tr><th>2</th><td>3</td><td>4</td></tr></tbody></table></div>"
      ],
      "text/latex": [
       "\\begin{tabular}{r|cc}\n",
       "\t& a & b\\\\\n",
       "\t\\hline\n",
       "\t& Int64 & Int64\\\\\n",
       "\t\\hline\n",
       "\t1 & 1 & 2 \\\\\n",
       "\t2 & 3 & 4 \\\\\n",
       "\\end{tabular}\n"
      ],
      "text/plain": [
       "\u001b[1m2×2 DataFrame\u001b[0m\n",
       "\u001b[1m Row \u001b[0m│\u001b[1m a     \u001b[0m\u001b[1m b     \u001b[0m\n",
       "\u001b[1m     \u001b[0m│\u001b[90m Int64 \u001b[0m\u001b[90m Int64 \u001b[0m\n",
       "─────┼──────────────\n",
       "   1 │     1      2\n",
       "   2 │     3      4"
      ]
     },
     "execution_count": 59,
     "metadata": {},
     "output_type": "execute_result"
    }
   ],
   "source": [
    "push!(df, [3, 4])"
   ]
  },
  {
   "cell_type": "markdown",
   "id": "bdab33e1",
   "metadata": {
    "pycharm": {
     "name": "#%% md\n"
    }
   },
   "source": [
    "### An example of storing random walk simulation results in a data frame"
   ]
  },
  {
   "cell_type": "code",
   "execution_count": 60,
   "id": "f48f787c",
   "metadata": {
    "pycharm": {
     "name": "#%% raw\n"
    }
   },
   "outputs": [
    {
     "data": {
      "text/plain": [
       "sim_step (generic function with 1 method)"
      ]
     },
     "execution_count": 60,
     "metadata": {},
     "output_type": "execute_result"
    }
   ],
   "source": [
    "function sim_step(current)\n",
    "    dx, dy = rand(((1,0), (-1,0), (0,1), (0,-1))) #A\n",
    "    return (x=current.x + dx, y=current.y + dy) #B\n",
    "end"
   ]
  },
  {
   "cell_type": "code",
   "execution_count": 61,
   "id": "93fa7768",
   "metadata": {
    "pycharm": {
     "name": "#%% raw\n"
    }
   },
   "outputs": [
    {
     "name": "stdout",
     "output_type": "stream",
     "text": [
      "  5.200 ns (0 allocations: 0 bytes)\n"
     ]
    }
   ],
   "source": [
    "using BenchmarkTools\n",
    "@btime rand(((1,0), (-1,0), (0,1), (0,-1)));"
   ]
  },
  {
   "cell_type": "code",
   "execution_count": 62,
   "id": "401eb1f8",
   "metadata": {},
   "outputs": [
    {
     "data": {
      "text/plain": [
       "(10, 20)"
      ]
     },
     "execution_count": 62,
     "metadata": {},
     "output_type": "execute_result"
    }
   ],
   "source": [
    "dx, dy = (10, 20)"
   ]
  },
  {
   "cell_type": "code",
   "execution_count": 63,
   "id": "78236c0d",
   "metadata": {},
   "outputs": [
    {
     "data": {
      "text/plain": [
       "10"
      ]
     },
     "execution_count": 63,
     "metadata": {},
     "output_type": "execute_result"
    }
   ],
   "source": [
    "dx"
   ]
  },
  {
   "cell_type": "code",
   "execution_count": 64,
   "id": "b0a20d69",
   "metadata": {},
   "outputs": [
    {
     "data": {
      "text/plain": [
       "20"
      ]
     },
     "execution_count": 64,
     "metadata": {},
     "output_type": "execute_result"
    }
   ],
   "source": [
    "dy"
   ]
  },
  {
   "cell_type": "code",
   "execution_count": 65,
   "id": "0c003471",
   "metadata": {
    "pycharm": {
     "name": "#%% raw\n"
    }
   },
   "outputs": [
    {
     "data": {
      "text/plain": [
       "4-element Named Vector{Float64}\n",
       "Dim1    │ \n",
       "────────┼─────────\n",
       "(-1, 0) │ 0.249893\n",
       "(0, -1) │ 0.250115\n",
       "(0, 1)  │ 0.250009\n",
       "(1, 0)  │ 0.249983"
      ]
     },
     "execution_count": 65,
     "metadata": {},
     "output_type": "execute_result"
    }
   ],
   "source": [
    "using FreqTables\n",
    "using Random\n",
    "Random.seed!(1234);\n",
    "proptable([rand(((1,0), (-1,0), (0,1), (0,-1))) for _ in 1:10^7])"
   ]
  },
  {
   "cell_type": "markdown",
   "id": "d476c58b",
   "metadata": {
    "pycharm": {
     "name": "#%% md\n"
    }
   },
   "source": [
    "### A simple simulator of a random walk"
   ]
  },
  {
   "cell_type": "code",
   "execution_count": 66,
   "id": "7bbcbd74",
   "metadata": {},
   "outputs": [
    {
     "data": {
      "text/html": [
       "<div class=\"data-frame\"><p>1 rows × 2 columns</p><table class=\"data-frame\"><thead><tr><th></th><th>x</th><th>y</th></tr><tr><th></th><th title=\"Int64\">Int64</th><th title=\"Int64\">Int64</th></tr></thead><tbody><tr><th>1</th><td>0</td><td>0</td></tr></tbody></table></div>"
      ],
      "text/latex": [
       "\\begin{tabular}{r|cc}\n",
       "\t& x & y\\\\\n",
       "\t\\hline\n",
       "\t& Int64 & Int64\\\\\n",
       "\t\\hline\n",
       "\t1 & 0 & 0 \\\\\n",
       "\\end{tabular}\n"
      ],
      "text/plain": [
       "\u001b[1m1×2 DataFrame\u001b[0m\n",
       "\u001b[1m Row \u001b[0m│\u001b[1m x     \u001b[0m\u001b[1m y     \u001b[0m\n",
       "\u001b[1m     \u001b[0m│\u001b[90m Int64 \u001b[0m\u001b[90m Int64 \u001b[0m\n",
       "─────┼──────────────\n",
       "   1 │     0      0"
      ]
     },
     "execution_count": 66,
     "metadata": {},
     "output_type": "execute_result"
    }
   ],
   "source": [
    "using Random\n",
    "Random.seed!(6);\n",
    "walk = DataFrame(x=0, y=0)"
   ]
  },
  {
   "cell_type": "code",
   "execution_count": 67,
   "id": "7401a464",
   "metadata": {},
   "outputs": [],
   "source": [
    "for _ in 1:10\n",
    "    current = walk[end, :]\n",
    "    push!(walk, sim_step(current))\n",
    "end"
   ]
  },
  {
   "cell_type": "code",
   "execution_count": 68,
   "id": "8cbe85f0",
   "metadata": {},
   "outputs": [
    {
     "data": {
      "text/html": [
       "<div class=\"data-frame\"><p>11 rows × 2 columns</p><table class=\"data-frame\"><thead><tr><th></th><th>x</th><th>y</th></tr><tr><th></th><th title=\"Int64\">Int64</th><th title=\"Int64\">Int64</th></tr></thead><tbody><tr><th>1</th><td>0</td><td>0</td></tr><tr><th>2</th><td>0</td><td>1</td></tr><tr><th>3</th><td>0</td><td>2</td></tr><tr><th>4</th><td>0</td><td>3</td></tr><tr><th>5</th><td>1</td><td>3</td></tr><tr><th>6</th><td>1</td><td>4</td></tr><tr><th>7</th><td>1</td><td>5</td></tr><tr><th>8</th><td>1</td><td>6</td></tr><tr><th>9</th><td>0</td><td>6</td></tr><tr><th>10</th><td>0</td><td>7</td></tr><tr><th>11</th><td>0</td><td>8</td></tr></tbody></table></div>"
      ],
      "text/latex": [
       "\\begin{tabular}{r|cc}\n",
       "\t& x & y\\\\\n",
       "\t\\hline\n",
       "\t& Int64 & Int64\\\\\n",
       "\t\\hline\n",
       "\t1 & 0 & 0 \\\\\n",
       "\t2 & 0 & 1 \\\\\n",
       "\t3 & 0 & 2 \\\\\n",
       "\t4 & 0 & 3 \\\\\n",
       "\t5 & 1 & 3 \\\\\n",
       "\t6 & 1 & 4 \\\\\n",
       "\t7 & 1 & 5 \\\\\n",
       "\t8 & 1 & 6 \\\\\n",
       "\t9 & 0 & 6 \\\\\n",
       "\t10 & 0 & 7 \\\\\n",
       "\t11 & 0 & 8 \\\\\n",
       "\\end{tabular}\n"
      ],
      "text/plain": [
       "\u001b[1m11×2 DataFrame\u001b[0m\n",
       "\u001b[1m Row \u001b[0m│\u001b[1m x     \u001b[0m\u001b[1m y     \u001b[0m\n",
       "\u001b[1m     \u001b[0m│\u001b[90m Int64 \u001b[0m\u001b[90m Int64 \u001b[0m\n",
       "─────┼──────────────\n",
       "   1 │     0      0\n",
       "   2 │     0      1\n",
       "   3 │     0      2\n",
       "   4 │     0      3\n",
       "   5 │     1      3\n",
       "   6 │     1      4\n",
       "   7 │     1      5\n",
       "   8 │     1      6\n",
       "   9 │     0      6\n",
       "  10 │     0      7\n",
       "  11 │     0      8"
      ]
     },
     "execution_count": 68,
     "metadata": {},
     "output_type": "execute_result"
    }
   ],
   "source": [
    "walk"
   ]
  },
  {
   "cell_type": "code",
   "execution_count": 69,
   "id": "8010cb01",
   "metadata": {
    "pycharm": {
     "name": "#%% raw\n"
    }
   },
   "outputs": [
    {
     "data": {
      "image/svg+xml": [
       "<?xml version=\"1.0\" encoding=\"utf-8\"?>\n",
       "<svg xmlns=\"http://www.w3.org/2000/svg\" xmlns:xlink=\"http://www.w3.org/1999/xlink\" width=\"600\" height=\"400\" viewBox=\"0 0 2400 1600\">\n",
       "<defs>\n",
       "  <clipPath id=\"clip090\">\n",
       "    <rect x=\"0\" y=\"0\" width=\"2400\" height=\"1600\"/>\n",
       "  </clipPath>\n",
       "</defs>\n",
       "<path clip-path=\"url(#clip090)\" d=\"\n",
       "M0 1600 L2400 1600 L2400 0 L0 0  Z\n",
       "  \" fill=\"#ffffff\" fill-rule=\"evenodd\" fill-opacity=\"1\"/>\n",
       "<defs>\n",
       "  <clipPath id=\"clip091\">\n",
       "    <rect x=\"480\" y=\"0\" width=\"1681\" height=\"1600\"/>\n",
       "  </clipPath>\n",
       "</defs>\n",
       "<path clip-path=\"url(#clip090)\" d=\"\n",
       "M112.177 1486.45 L2352.76 1486.45 L2352.76 47.2441 L112.177 47.2441  Z\n",
       "  \" fill=\"#ffffff\" fill-rule=\"evenodd\" fill-opacity=\"1\"/>\n",
       "<defs>\n",
       "  <clipPath id=\"clip092\">\n",
       "    <rect x=\"112\" y=\"47\" width=\"2242\" height=\"1440\"/>\n",
       "  </clipPath>\n",
       "</defs>\n",
       "<polyline clip-path=\"url(#clip092)\" style=\"stroke:#000000; stroke-linecap:butt; stroke-linejoin:round; stroke-width:2; stroke-opacity:0.1; fill:none\" points=\"\n",
       "  175.59,1486.45 175.59,47.2441 \n",
       "  \"/>\n",
       "<polyline clip-path=\"url(#clip092)\" style=\"stroke:#000000; stroke-linecap:butt; stroke-linejoin:round; stroke-width:2; stroke-opacity:0.1; fill:none\" points=\"\n",
       "  2289.34,1486.45 2289.34,47.2441 \n",
       "  \"/>\n",
       "<polyline clip-path=\"url(#clip090)\" style=\"stroke:#000000; stroke-linecap:butt; stroke-linejoin:round; stroke-width:4; stroke-opacity:1; fill:none\" points=\"\n",
       "  112.177,1486.45 2352.76,1486.45 \n",
       "  \"/>\n",
       "<polyline clip-path=\"url(#clip090)\" style=\"stroke:#000000; stroke-linecap:butt; stroke-linejoin:round; stroke-width:4; stroke-opacity:1; fill:none\" points=\"\n",
       "  175.59,1486.45 175.59,1467.55 \n",
       "  \"/>\n",
       "<polyline clip-path=\"url(#clip090)\" style=\"stroke:#000000; stroke-linecap:butt; stroke-linejoin:round; stroke-width:4; stroke-opacity:1; fill:none\" points=\"\n",
       "  2289.34,1486.45 2289.34,1467.55 \n",
       "  \"/>\n",
       "<path clip-path=\"url(#clip090)\" d=\"M175.59 1517.37 Q171.979 1517.37 170.15 1520.93 Q168.344 1524.47 168.344 1531.6 Q168.344 1538.71 170.15 1542.27 Q171.979 1545.82 175.59 1545.82 Q179.224 1545.82 181.03 1542.27 Q182.858 1538.71 182.858 1531.6 Q182.858 1524.47 181.03 1520.93 Q179.224 1517.37 175.59 1517.37 M175.59 1513.66 Q181.4 1513.66 184.455 1518.27 Q187.534 1522.85 187.534 1531.6 Q187.534 1540.33 184.455 1544.94 Q181.4 1549.52 175.59 1549.52 Q169.78 1549.52 166.701 1544.94 Q163.645 1540.33 163.645 1531.6 Q163.645 1522.85 166.701 1518.27 Q169.78 1513.66 175.59 1513.66 Z\" fill=\"#000000\" fill-rule=\"evenodd\" fill-opacity=\"1\" /><path clip-path=\"url(#clip090)\" d=\"M2279.73 1544.91 L2287.36 1544.91 L2287.36 1518.55 L2279.05 1520.21 L2279.05 1515.95 L2287.32 1514.29 L2291.99 1514.29 L2291.99 1544.91 L2299.63 1544.91 L2299.63 1548.85 L2279.73 1548.85 L2279.73 1544.91 Z\" fill=\"#000000\" fill-rule=\"evenodd\" fill-opacity=\"1\" /><polyline clip-path=\"url(#clip092)\" style=\"stroke:#000000; stroke-linecap:butt; stroke-linejoin:round; stroke-width:2; stroke-opacity:0.1; fill:none\" points=\"\n",
       "  112.177,1445.72 2352.76,1445.72 \n",
       "  \"/>\n",
       "<polyline clip-path=\"url(#clip092)\" style=\"stroke:#000000; stroke-linecap:butt; stroke-linejoin:round; stroke-width:2; stroke-opacity:0.1; fill:none\" points=\"\n",
       "  112.177,1276 2352.76,1276 \n",
       "  \"/>\n",
       "<polyline clip-path=\"url(#clip092)\" style=\"stroke:#000000; stroke-linecap:butt; stroke-linejoin:round; stroke-width:2; stroke-opacity:0.1; fill:none\" points=\"\n",
       "  112.177,1106.28 2352.76,1106.28 \n",
       "  \"/>\n",
       "<polyline clip-path=\"url(#clip092)\" style=\"stroke:#000000; stroke-linecap:butt; stroke-linejoin:round; stroke-width:2; stroke-opacity:0.1; fill:none\" points=\"\n",
       "  112.177,936.563 2352.76,936.563 \n",
       "  \"/>\n",
       "<polyline clip-path=\"url(#clip092)\" style=\"stroke:#000000; stroke-linecap:butt; stroke-linejoin:round; stroke-width:2; stroke-opacity:0.1; fill:none\" points=\"\n",
       "  112.177,766.846 2352.76,766.846 \n",
       "  \"/>\n",
       "<polyline clip-path=\"url(#clip092)\" style=\"stroke:#000000; stroke-linecap:butt; stroke-linejoin:round; stroke-width:2; stroke-opacity:0.1; fill:none\" points=\"\n",
       "  112.177,597.129 2352.76,597.129 \n",
       "  \"/>\n",
       "<polyline clip-path=\"url(#clip092)\" style=\"stroke:#000000; stroke-linecap:butt; stroke-linejoin:round; stroke-width:2; stroke-opacity:0.1; fill:none\" points=\"\n",
       "  112.177,427.411 2352.76,427.411 \n",
       "  \"/>\n",
       "<polyline clip-path=\"url(#clip092)\" style=\"stroke:#000000; stroke-linecap:butt; stroke-linejoin:round; stroke-width:2; stroke-opacity:0.1; fill:none\" points=\"\n",
       "  112.177,257.694 2352.76,257.694 \n",
       "  \"/>\n",
       "<polyline clip-path=\"url(#clip092)\" style=\"stroke:#000000; stroke-linecap:butt; stroke-linejoin:round; stroke-width:2; stroke-opacity:0.1; fill:none\" points=\"\n",
       "  112.177,87.9763 2352.76,87.9763 \n",
       "  \"/>\n",
       "<polyline clip-path=\"url(#clip090)\" style=\"stroke:#000000; stroke-linecap:butt; stroke-linejoin:round; stroke-width:4; stroke-opacity:1; fill:none\" points=\"\n",
       "  112.177,1486.45 112.177,47.2441 \n",
       "  \"/>\n",
       "<polyline clip-path=\"url(#clip090)\" style=\"stroke:#000000; stroke-linecap:butt; stroke-linejoin:round; stroke-width:4; stroke-opacity:1; fill:none\" points=\"\n",
       "  112.177,1445.72 131.075,1445.72 \n",
       "  \"/>\n",
       "<polyline clip-path=\"url(#clip090)\" style=\"stroke:#000000; stroke-linecap:butt; stroke-linejoin:round; stroke-width:4; stroke-opacity:1; fill:none\" points=\"\n",
       "  112.177,1276 131.075,1276 \n",
       "  \"/>\n",
       "<polyline clip-path=\"url(#clip090)\" style=\"stroke:#000000; stroke-linecap:butt; stroke-linejoin:round; stroke-width:4; stroke-opacity:1; fill:none\" points=\"\n",
       "  112.177,1106.28 131.075,1106.28 \n",
       "  \"/>\n",
       "<polyline clip-path=\"url(#clip090)\" style=\"stroke:#000000; stroke-linecap:butt; stroke-linejoin:round; stroke-width:4; stroke-opacity:1; fill:none\" points=\"\n",
       "  112.177,936.563 131.075,936.563 \n",
       "  \"/>\n",
       "<polyline clip-path=\"url(#clip090)\" style=\"stroke:#000000; stroke-linecap:butt; stroke-linejoin:round; stroke-width:4; stroke-opacity:1; fill:none\" points=\"\n",
       "  112.177,766.846 131.075,766.846 \n",
       "  \"/>\n",
       "<polyline clip-path=\"url(#clip090)\" style=\"stroke:#000000; stroke-linecap:butt; stroke-linejoin:round; stroke-width:4; stroke-opacity:1; fill:none\" points=\"\n",
       "  112.177,597.129 131.075,597.129 \n",
       "  \"/>\n",
       "<polyline clip-path=\"url(#clip090)\" style=\"stroke:#000000; stroke-linecap:butt; stroke-linejoin:round; stroke-width:4; stroke-opacity:1; fill:none\" points=\"\n",
       "  112.177,427.411 131.075,427.411 \n",
       "  \"/>\n",
       "<polyline clip-path=\"url(#clip090)\" style=\"stroke:#000000; stroke-linecap:butt; stroke-linejoin:round; stroke-width:4; stroke-opacity:1; fill:none\" points=\"\n",
       "  112.177,257.694 131.075,257.694 \n",
       "  \"/>\n",
       "<polyline clip-path=\"url(#clip090)\" style=\"stroke:#000000; stroke-linecap:butt; stroke-linejoin:round; stroke-width:4; stroke-opacity:1; fill:none\" points=\"\n",
       "  112.177,87.9763 131.075,87.9763 \n",
       "  \"/>\n",
       "<path clip-path=\"url(#clip090)\" d=\"M64.2328 1431.51 Q60.6217 1431.51 58.793 1435.08 Q56.9875 1438.62 56.9875 1445.75 Q56.9875 1452.86 58.793 1456.42 Q60.6217 1459.96 64.2328 1459.96 Q67.867 1459.96 69.6726 1456.42 Q71.5013 1452.86 71.5013 1445.75 Q71.5013 1438.62 69.6726 1435.08 Q67.867 1431.51 64.2328 1431.51 M64.2328 1427.81 Q70.0429 1427.81 73.0985 1432.42 Q76.1772 1437 76.1772 1445.75 Q76.1772 1454.48 73.0985 1459.08 Q70.0429 1463.67 64.2328 1463.67 Q58.4226 1463.67 55.344 1459.08 Q52.2884 1454.48 52.2884 1445.75 Q52.2884 1437 55.344 1432.42 Q58.4226 1427.81 64.2328 1427.81 Z\" fill=\"#000000\" fill-rule=\"evenodd\" fill-opacity=\"1\" /><path clip-path=\"url(#clip090)\" d=\"M56.2699 1289.34 L63.9087 1289.34 L63.9087 1262.98 L55.5986 1264.64 L55.5986 1260.38 L63.8624 1258.72 L68.5383 1258.72 L68.5383 1289.34 L76.1772 1289.34 L76.1772 1293.28 L56.2699 1293.28 L56.2699 1289.34 Z\" fill=\"#000000\" fill-rule=\"evenodd\" fill-opacity=\"1\" /><path clip-path=\"url(#clip090)\" d=\"M59.8578 1119.63 L76.1772 1119.63 L76.1772 1123.56 L54.2328 1123.56 L54.2328 1119.63 Q56.8949 1116.87 61.4782 1112.24 Q66.0846 1107.59 67.2652 1106.25 Q69.5105 1103.72 70.3902 1101.99 Q71.2929 1100.23 71.2929 1098.54 Q71.2929 1095.78 69.3485 1094.05 Q67.4272 1092.31 64.3254 1092.31 Q62.1263 1092.31 59.6726 1093.07 Q57.2421 1093.84 54.4643 1095.39 L54.4643 1090.67 Q57.2884 1089.53 59.7421 1088.95 Q62.1958 1088.38 64.2328 1088.38 Q69.6031 1088.38 72.7976 1091.06 Q75.992 1093.75 75.992 1098.24 Q75.992 1100.37 75.1818 1102.29 Q74.3948 1104.19 72.2883 1106.78 Q71.7096 1107.45 68.6078 1110.67 Q65.5059 1113.86 59.8578 1119.63 Z\" fill=\"#000000\" fill-rule=\"evenodd\" fill-opacity=\"1\" /><path clip-path=\"url(#clip090)\" d=\"M69.0476 935.209 Q72.404 935.927 74.279 938.195 Q76.1772 940.464 76.1772 943.797 Q76.1772 948.913 72.6587 951.714 Q69.1402 954.515 62.6587 954.515 Q60.4828 954.515 58.168 954.075 Q55.8764 953.658 53.4227 952.802 L53.4227 948.288 Q55.3671 949.422 57.6819 950.001 Q59.9967 950.58 62.5198 950.58 Q66.918 950.58 69.2096 948.843 Q71.5244 947.107 71.5244 943.797 Q71.5244 940.742 69.3717 939.029 Q67.242 937.293 63.4226 937.293 L59.3949 937.293 L59.3949 933.45 L63.6078 933.45 Q67.0569 933.45 68.8855 932.084 Q70.7142 930.695 70.7142 928.103 Q70.7142 925.441 68.8161 924.029 Q66.9411 922.594 63.4226 922.594 Q61.5013 922.594 59.3023 923.01 Q57.1032 923.427 54.4643 924.307 L54.4643 920.14 Q57.1264 919.399 59.4412 919.029 Q61.7791 918.658 63.8393 918.658 Q69.1633 918.658 72.2652 921.089 Q75.367 923.496 75.367 927.617 Q75.367 930.487 73.7235 932.478 Q72.08 934.445 69.0476 935.209 Z\" fill=\"#000000\" fill-rule=\"evenodd\" fill-opacity=\"1\" /><path clip-path=\"url(#clip090)\" d=\"M66.5939 753.64 L54.7884 772.089 L66.5939 772.089 L66.5939 753.64 M65.367 749.566 L71.2466 749.566 L71.2466 772.089 L76.1772 772.089 L76.1772 775.978 L71.2466 775.978 L71.2466 784.126 L66.5939 784.126 L66.5939 775.978 L50.9921 775.978 L50.9921 771.464 L65.367 749.566 Z\" fill=\"#000000\" fill-rule=\"evenodd\" fill-opacity=\"1\" /><path clip-path=\"url(#clip090)\" d=\"M55.2745 579.849 L73.6309 579.849 L73.6309 583.784 L59.5569 583.784 L59.5569 592.256 Q60.5754 591.909 61.5939 591.747 Q62.6124 591.561 63.6309 591.561 Q69.418 591.561 72.7976 594.733 Q76.1772 597.904 76.1772 603.321 Q76.1772 608.899 72.705 612.001 Q69.2328 615.08 62.9134 615.08 Q60.7374 615.08 58.4689 614.709 Q56.2236 614.339 53.8162 613.598 L53.8162 608.899 Q55.8995 610.034 58.1217 610.589 Q60.3439 611.145 62.8208 611.145 Q66.8254 611.145 69.1633 609.038 Q71.5013 606.932 71.5013 603.321 Q71.5013 599.71 69.1633 597.603 Q66.8254 595.497 62.8208 595.497 Q60.9458 595.497 59.0708 595.913 Q57.2189 596.33 55.2745 597.21 L55.2745 579.849 Z\" fill=\"#000000\" fill-rule=\"evenodd\" fill-opacity=\"1\" /><path clip-path=\"url(#clip090)\" d=\"M64.6495 425.548 Q61.5013 425.548 59.6495 427.7 Q57.8208 429.853 57.8208 433.603 Q57.8208 437.33 59.6495 439.506 Q61.5013 441.659 64.6495 441.659 Q67.7976 441.659 69.6263 439.506 Q71.4781 437.33 71.4781 433.603 Q71.4781 429.853 69.6263 427.7 Q67.7976 425.548 64.6495 425.548 M73.9318 410.895 L73.9318 415.154 Q72.1726 414.321 70.367 413.881 Q68.5846 413.441 66.8254 413.441 Q62.1958 413.441 59.7421 416.566 Q57.3115 419.691 56.9643 426.011 Q58.33 423.997 60.3902 422.932 Q62.4504 421.844 64.9272 421.844 Q70.1355 421.844 73.1448 425.015 Q76.1772 428.163 76.1772 433.603 Q76.1772 438.927 73.029 442.145 Q69.8809 445.362 64.6495 445.362 Q58.6541 445.362 55.4828 440.779 Q52.3116 436.173 52.3116 427.446 Q52.3116 419.251 56.2004 414.39 Q60.0893 409.506 66.6402 409.506 Q68.3994 409.506 70.1818 409.853 Q71.9874 410.201 73.9318 410.895 Z\" fill=\"#000000\" fill-rule=\"evenodd\" fill-opacity=\"1\" /><path clip-path=\"url(#clip090)\" d=\"M53.9551 240.414 L76.1772 240.414 L76.1772 242.404 L63.6309 274.974 L58.7467 274.974 L70.5522 244.349 L53.9551 244.349 L53.9551 240.414 Z\" fill=\"#000000\" fill-rule=\"evenodd\" fill-opacity=\"1\" /><path clip-path=\"url(#clip090)\" d=\"M64.3254 88.8443 Q60.9921 88.8443 59.0708 90.6267 Q57.1726 92.4091 57.1726 95.5341 Q57.1726 98.6591 59.0708 100.441 Q60.9921 102.224 64.3254 102.224 Q67.6587 102.224 69.58 100.441 Q71.5013 98.6359 71.5013 95.5341 Q71.5013 92.4091 69.58 90.6267 Q67.6819 88.8443 64.3254 88.8443 M59.6495 86.8536 Q56.6402 86.1129 54.9504 84.0527 Q53.2838 81.9925 53.2838 79.0296 Q53.2838 74.8861 56.2236 72.4787 Q59.1865 70.0713 64.3254 70.0713 Q69.4874 70.0713 72.4272 72.4787 Q75.367 74.8861 75.367 79.0296 Q75.367 81.9925 73.6772 84.0527 Q72.0105 86.1129 69.0244 86.8536 Q72.404 87.6406 74.279 89.9323 Q76.1772 92.2239 76.1772 95.5341 Q76.1772 100.557 73.0985 103.242 Q70.0429 105.928 64.3254 105.928 Q58.6078 105.928 55.5291 103.242 Q52.4736 100.557 52.4736 95.5341 Q52.4736 92.2239 54.3717 89.9323 Q56.2699 87.6406 59.6495 86.8536 M57.9365 79.4694 Q57.9365 82.1545 59.6032 83.6592 Q61.293 85.1638 64.3254 85.1638 Q67.3346 85.1638 69.0244 83.6592 Q70.7374 82.1545 70.7374 79.4694 Q70.7374 76.7842 69.0244 75.2796 Q67.3346 73.775 64.3254 73.775 Q61.293 73.775 59.6032 75.2796 Q57.9365 76.7842 57.9365 79.4694 Z\" fill=\"#000000\" fill-rule=\"evenodd\" fill-opacity=\"1\" /><polyline clip-path=\"url(#clip092)\" style=\"stroke:#009af9; stroke-linecap:butt; stroke-linejoin:round; stroke-width:4; stroke-opacity:1; fill:none\" points=\"\n",
       "  175.59,1445.72 175.59,1276 175.59,1106.28 175.59,936.563 2289.34,936.563 2289.34,766.846 2289.34,597.129 2289.34,427.411 175.59,427.411 175.59,257.694 \n",
       "  175.59,87.9763 \n",
       "  \"/>\n",
       "<path clip-path=\"url(#clip090)\" d=\"M158.758 1469.07 L172.126 1469.07 L172.126 1422.93 L157.584 1425.85 L157.584 1418.39 L172.045 1415.48 L180.228 1415.48 L180.228 1469.07 L193.596 1469.07 L193.596 1475.96 L158.758 1475.96 L158.758 1469.07 Z\" fill=\"#000000\" fill-rule=\"evenodd\" fill-opacity=\"1\" /><path clip-path=\"url(#clip090)\" d=\"M166.232 1299.35 L194.791 1299.35 L194.791 1306.24 L156.388 1306.24 L156.388 1299.35 Q161.047 1294.53 169.068 1286.43 Q177.129 1278.29 179.195 1275.94 Q183.124 1271.52 184.664 1268.48 Q186.244 1265.41 186.244 1262.45 Q186.244 1257.63 182.841 1254.59 Q179.479 1251.55 174.05 1251.55 Q170.202 1251.55 165.908 1252.89 Q161.655 1254.22 156.794 1256.94 L156.794 1248.67 Q161.736 1246.69 166.03 1245.68 Q170.324 1244.66 173.888 1244.66 Q183.286 1244.66 188.877 1249.36 Q194.467 1254.06 194.467 1261.92 Q194.467 1265.65 193.049 1269.01 Q191.672 1272.33 187.986 1276.87 Q186.973 1278.04 181.545 1283.67 Q176.116 1289.26 166.232 1299.35 Z\" fill=\"#000000\" fill-rule=\"evenodd\" fill-opacity=\"1\" /><path clip-path=\"url(#clip090)\" d=\"M183.023 1103.91 Q188.897 1105.17 192.178 1109.14 Q195.5 1113.11 195.5 1118.94 Q195.5 1127.89 189.343 1132.79 Q183.185 1137.7 171.843 1137.7 Q168.035 1137.7 163.984 1136.93 Q159.974 1136.2 155.68 1134.7 L155.68 1126.8 Q159.082 1128.78 163.133 1129.8 Q167.184 1130.81 171.6 1130.81 Q179.296 1130.81 183.307 1127.77 Q187.358 1124.73 187.358 1118.94 Q187.358 1113.59 183.59 1110.6 Q179.863 1107.56 173.179 1107.56 L166.131 1107.56 L166.131 1100.83 L173.504 1100.83 Q179.539 1100.83 182.74 1098.44 Q185.94 1096.01 185.94 1091.47 Q185.94 1086.82 182.618 1084.35 Q179.337 1081.83 173.179 1081.83 Q169.817 1081.83 165.969 1082.56 Q162.121 1083.29 157.502 1084.83 L157.502 1077.54 Q162.161 1076.24 166.212 1075.6 Q170.303 1074.95 173.909 1074.95 Q183.226 1074.95 188.654 1079.2 Q194.082 1083.41 194.082 1090.62 Q194.082 1095.65 191.206 1099.13 Q188.33 1102.57 183.023 1103.91 Z\" fill=\"#000000\" fill-rule=\"evenodd\" fill-opacity=\"1\" /><path clip-path=\"url(#clip090)\" d=\"M180.856 913.453 L160.196 945.739 L180.856 945.739 L180.856 913.453 M178.709 906.323 L188.998 906.323 L188.998 945.739 L197.627 945.739 L197.627 952.544 L188.998 952.544 L188.998 966.803 L180.856 966.803 L180.856 952.544 L153.553 952.544 L153.553 944.645 L178.709 906.323 Z\" fill=\"#000000\" fill-rule=\"evenodd\" fill-opacity=\"1\" /><path clip-path=\"url(#clip090)\" d=\"M2272.33 906.323 L2304.45 906.323 L2304.45 913.21 L2279.82 913.21 L2279.82 928.036 Q2281.61 927.429 2283.39 927.145 Q2285.17 926.821 2286.95 926.821 Q2297.08 926.821 2302.99 932.371 Q2308.91 937.92 2308.91 947.4 Q2308.91 957.162 2302.83 962.59 Q2296.76 967.978 2285.7 967.978 Q2281.89 967.978 2277.92 967.33 Q2273.99 966.682 2269.78 965.386 L2269.78 957.162 Q2273.42 959.147 2277.31 960.119 Q2281.2 961.092 2285.54 961.092 Q2292.54 961.092 2296.63 957.405 Q2300.73 953.719 2300.73 947.4 Q2300.73 941.08 2296.63 937.394 Q2292.54 933.708 2285.54 933.708 Q2282.25 933.708 2278.97 934.437 Q2275.73 935.166 2272.33 936.705 L2272.33 906.323 Z\" fill=\"#000000\" fill-rule=\"evenodd\" fill-opacity=\"1\" /><path clip-path=\"url(#clip090)\" d=\"M2290.05 763.585 Q2284.54 763.585 2281.3 767.352 Q2278.1 771.12 2278.1 777.682 Q2278.1 784.204 2281.3 788.012 Q2284.54 791.779 2290.05 791.779 Q2295.56 791.779 2298.76 788.012 Q2302 784.204 2302 777.682 Q2302 771.12 2298.76 767.352 Q2295.56 763.585 2290.05 763.585 M2306.3 737.943 L2306.3 745.396 Q2303.22 743.938 2300.06 743.168 Q2296.94 742.399 2293.86 742.399 Q2285.76 742.399 2281.46 747.867 Q2277.21 753.336 2276.6 764.395 Q2278.99 760.871 2282.6 759.007 Q2286.2 757.104 2290.54 757.104 Q2299.65 757.104 2304.92 762.653 Q2310.23 768.163 2310.23 777.682 Q2310.23 786.999 2304.72 792.63 Q2299.21 798.261 2290.05 798.261 Q2279.56 798.261 2274.01 790.24 Q2268.46 782.179 2268.46 766.907 Q2268.46 752.567 2275.27 744.06 Q2282.07 735.512 2293.54 735.512 Q2296.61 735.512 2299.73 736.12 Q2302.89 736.728 2306.3 737.943 Z\" fill=\"#000000\" fill-rule=\"evenodd\" fill-opacity=\"1\" /><path clip-path=\"url(#clip090)\" d=\"M2269.9 566.889 L2308.79 566.889 L2308.79 570.372 L2286.83 627.369 L2278.28 627.369 L2298.94 573.775 L2269.9 573.775 L2269.9 566.889 Z\" fill=\"#000000\" fill-rule=\"evenodd\" fill-opacity=\"1\" /><path clip-path=\"url(#clip090)\" d=\"M2289.34 428.93 Q2283.51 428.93 2280.15 432.049 Q2276.83 435.169 2276.83 440.637 Q2276.83 446.106 2280.15 449.225 Q2283.51 452.344 2289.34 452.344 Q2295.18 452.344 2298.54 449.225 Q2301.9 446.066 2301.9 440.637 Q2301.9 435.169 2298.54 432.049 Q2295.22 428.93 2289.34 428.93 M2281.16 425.446 Q2275.89 424.15 2272.94 420.545 Q2270.02 416.94 2270.02 411.754 Q2270.02 404.503 2275.17 400.29 Q2280.35 396.077 2289.34 396.077 Q2298.38 396.077 2303.52 400.29 Q2308.67 404.503 2308.67 411.754 Q2308.67 416.94 2305.71 420.545 Q2302.79 424.15 2297.57 425.446 Q2303.48 426.824 2306.76 430.834 Q2310.08 434.845 2310.08 440.637 Q2310.08 449.428 2304.7 454.127 Q2299.35 458.826 2289.34 458.826 Q2279.34 458.826 2273.95 454.127 Q2268.6 449.428 2268.6 440.637 Q2268.6 434.845 2271.92 430.834 Q2275.25 426.824 2281.16 425.446 M2278.16 412.524 Q2278.16 417.223 2281.08 419.856 Q2284.04 422.489 2289.34 422.489 Q2294.61 422.489 2297.57 419.856 Q2300.56 417.223 2300.56 412.524 Q2300.56 407.825 2297.57 405.192 Q2294.61 402.559 2289.34 402.559 Q2284.04 402.559 2281.08 405.192 Q2278.16 407.825 2278.16 412.524 Z\" fill=\"#000000\" fill-rule=\"evenodd\" fill-opacity=\"1\" /><path clip-path=\"url(#clip090)\" d=\"M158.616 456.395 L158.616 448.942 Q161.695 450.4 164.855 451.17 Q168.015 451.939 171.053 451.939 Q179.155 451.939 183.408 446.511 Q187.702 441.042 188.31 429.943 Q185.96 433.427 182.355 435.29 Q178.749 437.154 174.375 437.154 Q165.3 437.154 159.994 431.685 Q154.728 426.176 154.728 416.656 Q154.728 407.339 160.237 401.708 Q165.746 396.077 174.901 396.077 Q185.393 396.077 190.902 404.139 Q196.452 412.159 196.452 427.472 Q196.452 441.772 189.646 450.319 Q182.881 458.826 171.417 458.826 Q168.339 458.826 165.179 458.218 Q162.019 457.611 158.616 456.395 M174.901 430.753 Q180.41 430.753 183.611 426.986 Q186.851 423.218 186.851 416.656 Q186.851 410.134 183.611 406.367 Q180.41 402.559 174.901 402.559 Q169.392 402.559 166.151 406.367 Q162.951 410.134 162.951 416.656 Q162.951 423.218 166.151 426.986 Q169.392 430.753 174.901 430.753 Z\" fill=\"#000000\" fill-rule=\"evenodd\" fill-opacity=\"1\" /><path clip-path=\"url(#clip090)\" d=\"M131.293 281.047 L144.661 281.047 L144.661 234.907 L130.118 237.824 L130.118 230.37 L144.58 227.454 L152.763 227.454 L152.763 281.047 L166.131 281.047 L166.131 287.934 L131.293 287.934 L131.293 281.047 Z\" fill=\"#000000\" fill-rule=\"evenodd\" fill-opacity=\"1\" /><path clip-path=\"url(#clip090)\" d=\"M200.159 232.841 Q193.839 232.841 190.639 239.08 Q187.479 245.278 187.479 257.754 Q187.479 270.191 190.639 276.429 Q193.839 282.627 200.159 282.627 Q206.518 282.627 209.678 276.429 Q212.878 270.191 212.878 257.754 Q212.878 245.278 209.678 239.08 Q206.518 232.841 200.159 232.841 M200.159 226.36 Q210.326 226.36 215.673 234.421 Q221.061 242.442 221.061 257.754 Q221.061 273.026 215.673 281.088 Q210.326 289.108 200.159 289.108 Q189.991 289.108 184.603 281.088 Q179.256 273.026 179.256 257.754 Q179.256 242.442 184.603 234.421 Q189.991 226.36 200.159 226.36 Z\" fill=\"#000000\" fill-rule=\"evenodd\" fill-opacity=\"1\" /><path clip-path=\"url(#clip090)\" d=\"M132.367 111.33 L145.735 111.33 L145.735 65.1899 L131.192 68.1066 L131.192 60.6529 L145.654 57.7363 L153.836 57.7363 L153.836 111.33 L167.204 111.33 L167.204 118.216 L132.367 118.216 L132.367 111.33 Z\" fill=\"#000000\" fill-rule=\"evenodd\" fill-opacity=\"1\" /><path clip-path=\"url(#clip090)\" d=\"M185.15 111.33 L198.518 111.33 L198.518 65.1899 L183.975 68.1066 L183.975 60.6529 L198.437 57.7363 L206.62 57.7363 L206.62 111.33 L219.988 111.33 L219.988 118.216 L185.15 118.216 L185.15 111.33 Z\" fill=\"#000000\" fill-rule=\"evenodd\" fill-opacity=\"1\" /></svg>\n"
      ]
     },
     "execution_count": 69,
     "metadata": {},
     "output_type": "execute_result"
    }
   ],
   "source": [
    "using Plots\n",
    "plot(walk.x, walk.y; legend=false, series_annotations=1:11,\n",
    "     xticks=range(extrema(walk.x)...), yticks=range(extrema(walk.y)...))"
   ]
  },
  {
   "cell_type": "code",
   "execution_count": 70,
   "id": "5f6e012c",
   "metadata": {
    "pycharm": {
     "name": "#%% raw\n"
    }
   },
   "outputs": [
    {
     "data": {
      "text/plain": [
       "(0, 8)"
      ]
     },
     "execution_count": 70,
     "metadata": {},
     "output_type": "execute_result"
    }
   ],
   "source": [
    "extrema(walk.y)"
   ]
  },
  {
   "cell_type": "code",
   "execution_count": 71,
   "id": "7a4b1d5e",
   "metadata": {
    "pycharm": {
     "name": "#%% raw\n"
    }
   },
   "outputs": [
    {
     "data": {
      "text/plain": [
       "1:5"
      ]
     },
     "execution_count": 71,
     "metadata": {},
     "output_type": "execute_result"
    }
   ],
   "source": [
    "range(1, 5)"
   ]
  },
  {
   "cell_type": "markdown",
   "id": "9c96b163",
   "metadata": {
    "pycharm": {
     "name": "#%% md\n"
    }
   },
   "source": [
    "### Analysis of simulation output"
   ]
  },
  {
   "cell_type": "code",
   "execution_count": 72,
   "id": "0b17f4e1",
   "metadata": {
    "pycharm": {
     "name": "#%% raw\n"
    }
   },
   "outputs": [
    {
     "data": {
      "text/plain": [
       "0.07508468627929688"
      ]
     },
     "execution_count": 72,
     "metadata": {},
     "output_type": "execute_result"
    }
   ],
   "source": [
    "(3/4)^9"
   ]
  },
  {
   "cell_type": "code",
   "execution_count": 73,
   "id": "54e34c28",
   "metadata": {},
   "outputs": [
    {
     "data": {
      "text/plain": [
       "walk_unique (generic function with 1 method)"
      ]
     },
     "execution_count": 73,
     "metadata": {},
     "output_type": "execute_result"
    }
   ],
   "source": [
    "function walk_unique()\n",
    "    walk = DataFrame(x=0, y=0)\n",
    "    for _ in 1:10\n",
    "        current = walk[end, :]\n",
    "        push!(walk, sim_step(current))\n",
    "    end\n",
    "    return nrow(unique(walk)) == nrow(walk)\n",
    "end"
   ]
  },
  {
   "cell_type": "code",
   "execution_count": 74,
   "id": "6be2f69f",
   "metadata": {},
   "outputs": [
    {
     "data": {
      "text/plain": [
       "2-element Named Vector{Float64}\n",
       "Dim1  │ \n",
       "──────┼────────\n",
       "false │ 0.95744\n",
       "true  │ 0.04256"
      ]
     },
     "execution_count": 74,
     "metadata": {},
     "output_type": "execute_result"
    }
   ],
   "source": [
    "Random.seed!(2);\n",
    "proptable([walk_unique() for _ in 1:10^5])"
   ]
  },
  {
   "cell_type": "markdown",
   "id": "6380c182",
   "metadata": {
    "pycharm": {
     "name": "#%% md\n"
    }
   },
   "source": [
    "### Serialization of Julia objects"
   ]
  },
  {
   "cell_type": "code",
   "execution_count": 75,
   "id": "005e3a9d",
   "metadata": {
    "pycharm": {
     "name": "#%% raw\n"
    }
   },
   "outputs": [
    {
     "data": {
      "text/plain": [
       "true"
      ]
     },
     "execution_count": 75,
     "metadata": {},
     "output_type": "execute_result"
    }
   ],
   "source": [
    "using Serialization\n",
    "serialize(\"walk.bin\", walk)\n",
    "deserialize(\"walk.bin\") == walk"
   ]
  }
 ],
 "metadata": {
  "kernelspec": {
   "display_name": "Julia 1.7.3",
   "language": "julia",
   "name": "julia-1.7"
  },
  "language_info": {
   "file_extension": ".jl",
   "mimetype": "application/julia",
   "name": "julia",
   "version": "1.7.3"
  }
 },
 "nbformat": 4,
 "nbformat_minor": 5
}
