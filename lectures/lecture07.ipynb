{
 "cells": [
  {
   "cell_type": "markdown",
   "id": "a263d9a4",
   "metadata": {},
   "source": [
    "# Julia for Data Analysis\n",
    "\n",
    "## Bogumił Kamiński"
   ]
  },
  {
   "cell_type": "markdown",
   "id": "a5dcc591",
   "metadata": {},
   "source": [
    "# Lecture 7. Handling time series data and missing values"
   ]
  },
  {
   "cell_type": "markdown",
   "id": "7e78096a",
   "metadata": {},
   "source": [
    "## Getting data from the NBP Web API"
   ]
  },
  {
   "cell_type": "markdown",
   "id": "96f861b9",
   "metadata": {},
   "source": [
    "### Standard process of parsing JSON response"
   ]
  },
  {
   "cell_type": "code",
   "execution_count": null,
   "id": "a179627e",
   "metadata": {},
   "outputs": [],
   "source": [
    "using Pkg\n",
    "Pkg.activate(Base.current_project())"
   ]
  },
  {
   "cell_type": "code",
   "execution_count": 1,
   "id": "ef83c48a",
   "metadata": {},
   "outputs": [
    {
     "data": {
      "text/plain": [
       "\"https://api.nbp.pl/api/exchangerates/rates/a/usd/2020-06-01/?format=json\""
      ]
     },
     "execution_count": 1,
     "metadata": {},
     "output_type": "execute_result"
    }
   ],
   "source": [
    "using HTTP\n",
    "using JSON3\n",
    "query = \"https://api.nbp.pl/api/exchangerates/rates/a/usd/2020-06-01/?format=json\""
   ]
  },
  {
   "cell_type": "code",
   "execution_count": 2,
   "id": "1255ba2f",
   "metadata": {},
   "outputs": [
    {
     "data": {
      "text/plain": [
       "HTTP.Messages.Response:\n",
       "\"\"\"\n",
       "HTTP/1.1 200 OK\r\n",
       "Date: Thu, 10 Nov 2022 16:36:52 GMT\r\n",
       "Cache-Control: no-cache\r\n",
       "Pragma: no-cache\r\n",
       "Content-Type: application/json; charset=utf-8\r\n",
       "Expires: -1\r\n",
       "ETag: \"LtSHBbDU2y3KsMJ9eJZYpzdCA7SQZFfj5BzU1098bVg=\"\r\n",
       "Vary: Accept-Encoding\r\n",
       "Content-Encoding: gzip\r\n",
       "Set-Cookie: ee3la5eizeiY4Eix=iePaevi0; path=/\r\n",
       "Transfer-Encoding: chunked\r\n",
       "\r\n",
       "{\"table\":\"A\",\"currency\":\"dolar amerykański\",\"code\":\"USD\",\"rates\":[{\"no\":\"105/A/NBP/2020\",\"effectiveDate\":\"2020-06-01\",\"mid\":3.9680}]}\"\"\""
      ]
     },
     "execution_count": 2,
     "metadata": {},
     "output_type": "execute_result"
    }
   ],
   "source": [
    "response = HTTP.get(query)"
   ]
  },
  {
   "cell_type": "code",
   "execution_count": 3,
   "id": "f1f97088",
   "metadata": {},
   "outputs": [
    {
     "data": {
      "text/plain": [
       "JSON3.Object{Vector{UInt8}, Vector{UInt64}} with 4 entries:\n",
       "  :table    => \"A\"\n",
       "  :currency => \"dolar amerykański\"\n",
       "  :code     => \"USD\"\n",
       "  :rates    => JSON3.Object[{…"
      ]
     },
     "execution_count": 3,
     "metadata": {},
     "output_type": "execute_result"
    }
   ],
   "source": [
    "json = JSON3.read(response.body)"
   ]
  },
  {
   "cell_type": "code",
   "execution_count": 4,
   "id": "ab2956a5",
   "metadata": {},
   "outputs": [
    {
     "data": {
      "text/plain": [
       "134-element Vector{UInt8}:\n",
       " 0x7b\n",
       " 0x22\n",
       " 0x74\n",
       " 0x61\n",
       " 0x62\n",
       " 0x6c\n",
       " 0x65\n",
       " 0x22\n",
       " 0x3a\n",
       " 0x22\n",
       " 0x41\n",
       " 0x22\n",
       " 0x2c\n",
       "    ⋮\n",
       " 0x64\n",
       " 0x22\n",
       " 0x3a\n",
       " 0x33\n",
       " 0x2e\n",
       " 0x39\n",
       " 0x36\n",
       " 0x38\n",
       " 0x30\n",
       " 0x7d\n",
       " 0x5d\n",
       " 0x7d"
      ]
     },
     "execution_count": 4,
     "metadata": {},
     "output_type": "execute_result"
    }
   ],
   "source": [
    "response.body"
   ]
  },
  {
   "cell_type": "code",
   "execution_count": 5,
   "id": "ee12f916",
   "metadata": {},
   "outputs": [
    {
     "data": {
      "text/plain": [
       "\"{\\\"table\\\":\\\"A\\\",\\\"currency\\\":\\\"dolar amerykański\\\",\\\"code\\\":\\\"USD\\\",\\\"rates\\\":[{\\\"no\\\":\\\"105/A/NBP/2020\\\",\\\"effectiveDate\\\":\\\"2020-06-01\\\",\\\"mid\\\":3.9680}]}\""
      ]
     },
     "execution_count": 5,
     "metadata": {},
     "output_type": "execute_result"
    }
   ],
   "source": [
    "String(response.body)"
   ]
  },
  {
   "cell_type": "code",
   "execution_count": 6,
   "id": "3bc44515",
   "metadata": {},
   "outputs": [
    {
     "data": {
      "text/plain": [
       "UInt8[]"
      ]
     },
     "execution_count": 6,
     "metadata": {},
     "output_type": "execute_result"
    }
   ],
   "source": [
    "response.body"
   ]
  },
  {
   "cell_type": "code",
   "execution_count": 7,
   "id": "1ae52d12",
   "metadata": {},
   "outputs": [
    {
     "data": {
      "text/plain": [
       "\"A\""
      ]
     },
     "execution_count": 7,
     "metadata": {},
     "output_type": "execute_result"
    }
   ],
   "source": [
    "json.table"
   ]
  },
  {
   "cell_type": "code",
   "execution_count": 8,
   "id": "96edbfb1",
   "metadata": {},
   "outputs": [
    {
     "data": {
      "text/plain": [
       "\"dolar amerykański\""
      ]
     },
     "execution_count": 8,
     "metadata": {},
     "output_type": "execute_result"
    }
   ],
   "source": [
    "json.currency"
   ]
  },
  {
   "cell_type": "code",
   "execution_count": 9,
   "id": "71dd9d84",
   "metadata": {},
   "outputs": [
    {
     "data": {
      "text/plain": [
       "\"USD\""
      ]
     },
     "execution_count": 9,
     "metadata": {},
     "output_type": "execute_result"
    }
   ],
   "source": [
    "json.code"
   ]
  },
  {
   "cell_type": "code",
   "execution_count": 10,
   "id": "3b848016",
   "metadata": {},
   "outputs": [
    {
     "data": {
      "text/plain": [
       "1-element JSON3.Array{JSON3.Object, Vector{UInt8}, SubArray{UInt64, 1, Vector{UInt64}, Tuple{UnitRange{Int64}}, true}}:\n",
       " {\n",
       "              \"no\": \"105/A/NBP/2020\",\n",
       "   \"effectiveDate\": \"2020-06-01\",\n",
       "             \"mid\": 3.968\n",
       "}"
      ]
     },
     "execution_count": 10,
     "metadata": {},
     "output_type": "execute_result"
    }
   ],
   "source": [
    "json.rates"
   ]
  },
  {
   "cell_type": "code",
   "execution_count": 11,
   "id": "e3a08fb3",
   "metadata": {},
   "outputs": [
    {
     "data": {
      "text/plain": [
       "3.968"
      ]
     },
     "execution_count": 11,
     "metadata": {},
     "output_type": "execute_result"
    }
   ],
   "source": [
    "json.rates[1].mid"
   ]
  },
  {
   "cell_type": "code",
   "execution_count": 12,
   "id": "9eeaaa6e",
   "metadata": {},
   "outputs": [
    {
     "data": {
      "text/plain": [
       "3.968"
      ]
     },
     "execution_count": 12,
     "metadata": {},
     "output_type": "execute_result"
    }
   ],
   "source": [
    "only(json.rates).mid"
   ]
  },
  {
   "cell_type": "code",
   "execution_count": 13,
   "id": "4f493cde",
   "metadata": {},
   "outputs": [
    {
     "ename": "LoadError",
     "evalue": "ArgumentError: Collection is empty, must contain exactly 1 element",
     "output_type": "error",
     "traceback": [
      "ArgumentError: Collection is empty, must contain exactly 1 element",
      "",
      "Stacktrace:",
      " [1] only(x::Vector{Any})",
      "   @ Base.Iterators .\\iterators.jl:1354",
      " [2] top-level scope",
      "   @ In[13]:1",
      " [3] eval",
      "   @ .\\boot.jl:373 [inlined]",
      " [4] include_string(mapexpr::typeof(REPL.softscope), mod::Module, code::String, filename::String)",
      "   @ Base .\\loading.jl:1196"
     ]
    }
   ],
   "source": [
    "only([])"
   ]
  },
  {
   "cell_type": "code",
   "execution_count": 14,
   "id": "6c2b8117",
   "metadata": {},
   "outputs": [
    {
     "ename": "LoadError",
     "evalue": "ArgumentError: Collection has multiple elements, must contain exactly 1 element",
     "output_type": "error",
     "traceback": [
      "ArgumentError: Collection has multiple elements, must contain exactly 1 element",
      "",
      "Stacktrace:",
      " [1] only(x::Vector{Int64})",
      "   @ Base.Iterators .\\iterators.jl:1358",
      " [2] top-level scope",
      "   @ In[14]:1",
      " [3] eval",
      "   @ .\\boot.jl:373 [inlined]",
      " [4] include_string(mapexpr::typeof(REPL.softscope), mod::Module, code::String, filename::String)",
      "   @ Base .\\loading.jl:1196"
     ]
    }
   ],
   "source": [
    "only([1,2])"
   ]
  },
  {
   "cell_type": "markdown",
   "id": "7315b866",
   "metadata": {},
   "source": [
    "### Handling cases when NBP Web API query fails"
   ]
  },
  {
   "cell_type": "code",
   "execution_count": 15,
   "id": "8fb17860",
   "metadata": {},
   "outputs": [
    {
     "data": {
      "text/plain": [
       "\"https://api.nbp.pl/api/exchangerates/rates/a/usd/2020-06-06/?format=json\""
      ]
     },
     "execution_count": 15,
     "metadata": {},
     "output_type": "execute_result"
    }
   ],
   "source": [
    "query = \"https://api.nbp.pl/api/exchangerates/rates/a/usd/2020-06-06/?format=json\""
   ]
  },
  {
   "cell_type": "code",
   "execution_count": 16,
   "id": "a30e7610",
   "metadata": {},
   "outputs": [
    {
     "ename": "LoadError",
     "evalue": "HTTP.Exceptions.StatusError(404, \"GET\", \"/api/exchangerates/rates/a/usd/2020-06-06/?format=json\", HTTP.Messages.Response:\n\"\"\"\nHTTP/1.1 404 Not Found\r\nDate: Thu, 10 Nov 2022 16:36:58 GMT\r\nCache-Control: no-cache\r\nPragma: no-cache\r\nContent-Length: 38\r\nContent-Type: text/plain; charset=utf-8\r\nExpires: -1\r\n\r\n404 NotFound - Not Found - Brak danych\"\"\")",
     "output_type": "error",
     "traceback": [
      "HTTP.Exceptions.StatusError(404, \"GET\", \"/api/exchangerates/rates/a/usd/2020-06-06/?format=json\", HTTP.Messages.Response:\n\"\"\"\nHTTP/1.1 404 Not Found\r\nDate: Thu, 10 Nov 2022 16:36:58 GMT\r\nCache-Control: no-cache\r\nPragma: no-cache\r\nContent-Length: 38\r\nContent-Type: text/plain; charset=utf-8\r\nExpires: -1\r\n\r\n404 NotFound - Not Found - Brak danych\"\"\")",
      "",
      "Stacktrace:",
      "  [1] (::HTTP.ExceptionRequest.var\"#1#3\"{HTTP.ExceptionRequest.var\"#1#2#4\"{typeof(HTTP.StreamRequest.streamlayer)}})(stream::HTTP.Streams.Stream{HTTP.Messages.Response, HTTP.ConnectionPool.Connection}; status_exception::Bool, kw::Base.Pairs{Symbol, Union{Nothing, Int64}, Tuple{Symbol, Symbol, Symbol}, NamedTuple{(:iofunction, :decompress, :verbose), Tuple{Nothing, Nothing, Int64}}})",
      "    @ HTTP.ExceptionRequest C:\\Users\\bogum\\.julia\\packages\\HTTP\\PesRN\\src\\clientlayers\\ExceptionRequest.jl:16",
      "  [2] #1#2",
      "    @ C:\\Users\\bogum\\.julia\\packages\\HTTP\\PesRN\\src\\clientlayers\\TimeoutRequest.jl:17 [inlined]",
      "  [3] (::HTTP.ConnectionRequest.var\"#1#7\"{HTTP.ConnectionRequest.var\"#1#2#8\"{HTTP.TimeoutRequest.var\"#1#6\"{HTTP.TimeoutRequest.var\"#1#2#7\"{HTTP.ExceptionRequest.var\"#1#3\"{HTTP.ExceptionRequest.var\"#1#2#4\"{typeof(HTTP.StreamRequest.streamlayer)}}}}}})(req::HTTP.Messages.Request; proxy::Nothing, socket_type::Type, readtimeout::Int64, kw::Base.Pairs{Symbol, Union{Nothing, Int64}, Tuple{Symbol, Symbol, Symbol}, NamedTuple{(:iofunction, :decompress, :verbose), Tuple{Nothing, Nothing, Int64}}})",
      "    @ HTTP.ConnectionRequest C:\\Users\\bogum\\.julia\\packages\\HTTP\\PesRN\\src\\clientlayers\\ConnectionRequest.jl:109",
      "  [4] (::HTTP.CanonicalizeRequest.var\"#1#3\"{HTTP.CanonicalizeRequest.var\"#1#2#4\"{HTTP.ConnectionRequest.var\"#1#7\"{HTTP.ConnectionRequest.var\"#1#2#8\"{HTTP.TimeoutRequest.var\"#1#6\"{HTTP.TimeoutRequest.var\"#1#2#7\"{HTTP.ExceptionRequest.var\"#1#3\"{HTTP.ExceptionRequest.var\"#1#2#4\"{typeof(HTTP.StreamRequest.streamlayer)}}}}}}}})(req::HTTP.Messages.Request; canonicalize_headers::Bool, kw::Base.Pairs{Symbol, Union{Nothing, Int64}, Tuple{Symbol, Symbol, Symbol}, NamedTuple{(:iofunction, :decompress, :verbose), Tuple{Nothing, Nothing, Int64}}})",
      "    @ HTTP.CanonicalizeRequest C:\\Users\\bogum\\.julia\\packages\\HTTP\\PesRN\\src\\clientlayers\\CanonicalizeRequest.jl:17",
      "  [5] (::Base.var\"#76#78\"{Base.var\"#76#77#79\"{ExponentialBackOff, HTTP.RetryRequest.var\"#3#6\"{Int64, HTTP.Messages.Request, Base.RefValue{Int64}}, HTTP.CanonicalizeRequest.var\"#1#3\"{HTTP.CanonicalizeRequest.var\"#1#2#4\"{HTTP.ConnectionRequest.var\"#1#7\"{HTTP.ConnectionRequest.var\"#1#2#8\"{HTTP.TimeoutRequest.var\"#1#6\"{HTTP.TimeoutRequest.var\"#1#2#7\"{HTTP.ExceptionRequest.var\"#1#3\"{HTTP.ExceptionRequest.var\"#1#2#4\"{typeof(HTTP.StreamRequest.streamlayer)}}}}}}}}}})(args::HTTP.Messages.Request; kwargs::Base.Pairs{Symbol, Union{Nothing, Int64}, Tuple{Symbol, Symbol, Symbol}, NamedTuple{(:iofunction, :decompress, :verbose), Tuple{Nothing, Nothing, Int64}}})",
      "    @ Base .\\error.jl:294",
      "  [6] (::HTTP.RetryRequest.var\"#1#4\"{HTTP.RetryRequest.var\"#1#2#5\"{HTTP.CanonicalizeRequest.var\"#1#3\"{HTTP.CanonicalizeRequest.var\"#1#2#4\"{HTTP.ConnectionRequest.var\"#1#7\"{HTTP.ConnectionRequest.var\"#1#2#8\"{HTTP.TimeoutRequest.var\"#1#6\"{HTTP.TimeoutRequest.var\"#1#2#7\"{HTTP.ExceptionRequest.var\"#1#3\"{HTTP.ExceptionRequest.var\"#1#2#4\"{typeof(HTTP.StreamRequest.streamlayer)}}}}}}}}}})(req::HTTP.Messages.Request; retry::Bool, retries::Int64, retry_non_idempotent::Bool, kw::Base.Pairs{Symbol, Union{Nothing, Int64}, Tuple{Symbol, Symbol, Symbol}, NamedTuple{(:iofunction, :decompress, :verbose), Tuple{Nothing, Nothing, Int64}}})",
      "    @ HTTP.RetryRequest C:\\Users\\bogum\\.julia\\packages\\HTTP\\PesRN\\src\\clientlayers\\RetryRequest.jl:60",
      "  [7] (::HTTP.CookieRequest.var\"#1#5\"{HTTP.CookieRequest.var\"#1#2#6\"{HTTP.RetryRequest.var\"#1#4\"{HTTP.RetryRequest.var\"#1#2#5\"{HTTP.CanonicalizeRequest.var\"#1#3\"{HTTP.CanonicalizeRequest.var\"#1#2#4\"{HTTP.ConnectionRequest.var\"#1#7\"{HTTP.ConnectionRequest.var\"#1#2#8\"{HTTP.TimeoutRequest.var\"#1#6\"{HTTP.TimeoutRequest.var\"#1#2#7\"{HTTP.ExceptionRequest.var\"#1#3\"{HTTP.ExceptionRequest.var\"#1#2#4\"{typeof(HTTP.StreamRequest.streamlayer)}}}}}}}}}}}})(req::HTTP.Messages.Request; cookies::Bool, cookiejar::HTTP.Cookies.CookieJar, kw::Base.Pairs{Symbol, Union{Nothing, Int64}, Tuple{Symbol, Symbol, Symbol}, NamedTuple{(:iofunction, :decompress, :verbose), Tuple{Nothing, Nothing, Int64}}})",
      "    @ HTTP.CookieRequest C:\\Users\\bogum\\.julia\\packages\\HTTP\\PesRN\\src\\clientlayers\\CookieRequest.jl:42",
      "  [8] (::HTTP.ContentTypeDetection.var\"#1#3\"{HTTP.ContentTypeDetection.var\"#1#2#4\"{HTTP.CookieRequest.var\"#1#5\"{HTTP.CookieRequest.var\"#1#2#6\"{HTTP.RetryRequest.var\"#1#4\"{HTTP.RetryRequest.var\"#1#2#5\"{HTTP.CanonicalizeRequest.var\"#1#3\"{HTTP.CanonicalizeRequest.var\"#1#2#4\"{HTTP.ConnectionRequest.var\"#1#7\"{HTTP.ConnectionRequest.var\"#1#2#8\"{HTTP.TimeoutRequest.var\"#1#6\"{HTTP.TimeoutRequest.var\"#1#2#7\"{HTTP.ExceptionRequest.var\"#1#3\"{HTTP.ExceptionRequest.var\"#1#2#4\"{typeof(HTTP.StreamRequest.streamlayer)}}}}}}}}}}}}}})(req::HTTP.Messages.Request; detect_content_type::Bool, kw::Base.Pairs{Symbol, Union{Nothing, Int64}, Tuple{Symbol, Symbol, Symbol}, NamedTuple{(:iofunction, :decompress, :verbose), Tuple{Nothing, Nothing, Int64}}})",
      "    @ HTTP.ContentTypeDetection C:\\Users\\bogum\\.julia\\packages\\HTTP\\PesRN\\src\\clientlayers\\ContentTypeRequest.jl:23",
      "  [9] (::HTTP.BasicAuthRequest.var\"#1#3\"{HTTP.BasicAuthRequest.var\"#1#2#4\"{HTTP.ContentTypeDetection.var\"#1#3\"{HTTP.ContentTypeDetection.var\"#1#2#4\"{HTTP.CookieRequest.var\"#1#5\"{HTTP.CookieRequest.var\"#1#2#6\"{HTTP.RetryRequest.var\"#1#4\"{HTTP.RetryRequest.var\"#1#2#5\"{HTTP.CanonicalizeRequest.var\"#1#3\"{HTTP.CanonicalizeRequest.var\"#1#2#4\"{HTTP.ConnectionRequest.var\"#1#7\"{HTTP.ConnectionRequest.var\"#1#2#8\"{HTTP.TimeoutRequest.var\"#1#6\"{HTTP.TimeoutRequest.var\"#1#2#7\"{HTTP.ExceptionRequest.var\"#1#3\"{HTTP.ExceptionRequest.var\"#1#2#4\"{typeof(HTTP.StreamRequest.streamlayer)}}}}}}}}}}}}}}}})(req::HTTP.Messages.Request; basicauth::Bool, kw::Base.Pairs{Symbol, Union{Nothing, Int64}, Tuple{Symbol, Symbol, Symbol}, NamedTuple{(:iofunction, :decompress, :verbose), Tuple{Nothing, Nothing, Int64}}})",
      "    @ HTTP.BasicAuthRequest C:\\Users\\bogum\\.julia\\packages\\HTTP\\PesRN\\src\\clientlayers\\BasicAuthRequest.jl:22",
      " [10] (::HTTP.DefaultHeadersRequest.var\"#1#3\"{HTTP.DefaultHeadersRequest.var\"#1#2#4\"{HTTP.BasicAuthRequest.var\"#1#3\"{HTTP.BasicAuthRequest.var\"#1#2#4\"{HTTP.ContentTypeDetection.var\"#1#3\"{HTTP.ContentTypeDetection.var\"#1#2#4\"{HTTP.CookieRequest.var\"#1#5\"{HTTP.CookieRequest.var\"#1#2#6\"{HTTP.RetryRequest.var\"#1#4\"{HTTP.RetryRequest.var\"#1#2#5\"{HTTP.CanonicalizeRequest.var\"#1#3\"{HTTP.CanonicalizeRequest.var\"#1#2#4\"{HTTP.ConnectionRequest.var\"#1#7\"{HTTP.ConnectionRequest.var\"#1#2#8\"{HTTP.TimeoutRequest.var\"#1#6\"{HTTP.TimeoutRequest.var\"#1#2#7\"{HTTP.ExceptionRequest.var\"#1#3\"{HTTP.ExceptionRequest.var\"#1#2#4\"{typeof(HTTP.StreamRequest.streamlayer)}}}}}}}}}}}}}}}}}})(req::HTTP.Messages.Request; iofunction::Nothing, decompress::Nothing, kw::Base.Pairs{Symbol, Int64, Tuple{Symbol}, NamedTuple{(:verbose,), Tuple{Int64}}})",
      "    @ HTTP.DefaultHeadersRequest C:\\Users\\bogum\\.julia\\packages\\HTTP\\PesRN\\src\\clientlayers\\DefaultHeadersRequest.jl:47",
      " [11] (::HTTP.RedirectRequest.var\"#1#4\"{HTTP.RedirectRequest.var\"#1#2#5\"{HTTP.DefaultHeadersRequest.var\"#1#3\"{HTTP.DefaultHeadersRequest.var\"#1#2#4\"{HTTP.BasicAuthRequest.var\"#1#3\"{HTTP.BasicAuthRequest.var\"#1#2#4\"{HTTP.ContentTypeDetection.var\"#1#3\"{HTTP.ContentTypeDetection.var\"#1#2#4\"{HTTP.CookieRequest.var\"#1#5\"{HTTP.CookieRequest.var\"#1#2#6\"{HTTP.RetryRequest.var\"#1#4\"{HTTP.RetryRequest.var\"#1#2#5\"{HTTP.CanonicalizeRequest.var\"#1#3\"{HTTP.CanonicalizeRequest.var\"#1#2#4\"{HTTP.ConnectionRequest.var\"#1#7\"{HTTP.ConnectionRequest.var\"#1#2#8\"{HTTP.TimeoutRequest.var\"#1#6\"{HTTP.TimeoutRequest.var\"#1#2#7\"{HTTP.ExceptionRequest.var\"#1#3\"{HTTP.ExceptionRequest.var\"#1#2#4\"{typeof(HTTP.StreamRequest.streamlayer)}}}}}}}}}}}}}}}}}}}})(req::HTTP.Messages.Request; redirect::Bool, redirect_limit::Int64, redirect_method::Nothing, forwardheaders::Bool, response_stream::Nothing, kw::Base.Pairs{Symbol, Int64, Tuple{Symbol}, NamedTuple{(:verbose,), Tuple{Int64}}})",
      "    @ HTTP.RedirectRequest C:\\Users\\bogum\\.julia\\packages\\HTTP\\PesRN\\src\\clientlayers\\RedirectRequest.jl:25",
      " [12] #1#2",
      "    @ C:\\Users\\bogum\\.julia\\packages\\HTTP\\PesRN\\src\\clientlayers\\DebugRequest.jl:22 [inlined]",
      " [13] (::HTTP.MessageRequest.var\"#1#3\"{HTTP.MessageRequest.var\"#1#2#4\"{HTTP.DebugRequest.var\"#1#4\"{HTTP.DebugRequest.var\"#1#2#5\"{HTTP.RedirectRequest.var\"#1#4\"{HTTP.RedirectRequest.var\"#1#2#5\"{HTTP.DefaultHeadersRequest.var\"#1#3\"{HTTP.DefaultHeadersRequest.var\"#1#2#4\"{HTTP.BasicAuthRequest.var\"#1#3\"{HTTP.BasicAuthRequest.var\"#1#2#4\"{HTTP.ContentTypeDetection.var\"#1#3\"{HTTP.ContentTypeDetection.var\"#1#2#4\"{HTTP.CookieRequest.var\"#1#5\"{HTTP.CookieRequest.var\"#1#2#6\"{HTTP.RetryRequest.var\"#1#4\"{HTTP.RetryRequest.var\"#1#2#5\"{HTTP.CanonicalizeRequest.var\"#1#3\"{HTTP.CanonicalizeRequest.var\"#1#2#4\"{HTTP.ConnectionRequest.var\"#1#7\"{HTTP.ConnectionRequest.var\"#1#2#8\"{HTTP.TimeoutRequest.var\"#1#6\"{HTTP.TimeoutRequest.var\"#1#2#7\"{HTTP.ExceptionRequest.var\"#1#3\"{HTTP.ExceptionRequest.var\"#1#2#4\"{typeof(HTTP.StreamRequest.streamlayer)}}}}}}}}}}}}}}}}}}}}}}}})(method::String, url::URIs.URI, headers::Vector{Pair{SubString{String}, SubString{String}}}, body::Vector{UInt8}; response_stream::Nothing, http_version::VersionNumber, kw::Base.Pairs{Symbol, Union{}, Tuple{}, NamedTuple{(), Tuple{}}})",
      "    @ HTTP.MessageRequest C:\\Users\\bogum\\.julia\\packages\\HTTP\\PesRN\\src\\clientlayers\\MessageRequest.jl:17",
      " [14] #1",
      "    @ C:\\Users\\bogum\\.julia\\packages\\HTTP\\PesRN\\src\\clientlayers\\MessageRequest.jl:16 [inlined]",
      " [15] request(stack::HTTP.MessageRequest.var\"#1#3\"{HTTP.MessageRequest.var\"#1#2#4\"{HTTP.DebugRequest.var\"#1#4\"{HTTP.DebugRequest.var\"#1#2#5\"{HTTP.RedirectRequest.var\"#1#4\"{HTTP.RedirectRequest.var\"#1#2#5\"{HTTP.DefaultHeadersRequest.var\"#1#3\"{HTTP.DefaultHeadersRequest.var\"#1#2#4\"{HTTP.BasicAuthRequest.var\"#1#3\"{HTTP.BasicAuthRequest.var\"#1#2#4\"{HTTP.ContentTypeDetection.var\"#1#3\"{HTTP.ContentTypeDetection.var\"#1#2#4\"{HTTP.CookieRequest.var\"#1#5\"{HTTP.CookieRequest.var\"#1#2#6\"{HTTP.RetryRequest.var\"#1#4\"{HTTP.RetryRequest.var\"#1#2#5\"{HTTP.CanonicalizeRequest.var\"#1#3\"{HTTP.CanonicalizeRequest.var\"#1#2#4\"{HTTP.ConnectionRequest.var\"#1#7\"{HTTP.ConnectionRequest.var\"#1#2#8\"{HTTP.TimeoutRequest.var\"#1#6\"{HTTP.TimeoutRequest.var\"#1#2#7\"{HTTP.ExceptionRequest.var\"#1#3\"{HTTP.ExceptionRequest.var\"#1#2#4\"{typeof(HTTP.StreamRequest.streamlayer)}}}}}}}}}}}}}}}}}}}}}}}}, method::String, url::String, h::Vector{Pair{SubString{String}, SubString{String}}}, b::Vector{UInt8}, q::Nothing; headers::Vector{Pair{SubString{String}, SubString{String}}}, body::Vector{UInt8}, query::Nothing, kw::Base.Pairs{Symbol, Union{}, Tuple{}, NamedTuple{(), Tuple{}}})",
      "    @ HTTP C:\\Users\\bogum\\.julia\\packages\\HTTP\\PesRN\\src\\HTTP.jl:413",
      " [16] request(stack::Function, method::String, url::String, h::Vector{Pair{SubString{String}, SubString{String}}}, b::Vector{UInt8}, q::Nothing)",
      "    @ HTTP C:\\Users\\bogum\\.julia\\packages\\HTTP\\PesRN\\src\\HTTP.jl:413",
      " [17] #request#16",
      "    @ C:\\Users\\bogum\\.julia\\packages\\HTTP\\PesRN\\src\\HTTP.jl:273 [inlined]",
      " [18] request (repeats 2 times)",
      "    @ C:\\Users\\bogum\\.julia\\packages\\HTTP\\PesRN\\src\\HTTP.jl:273 [inlined]",
      " [19] #get#34",
      "    @ C:\\Users\\bogum\\.julia\\packages\\HTTP\\PesRN\\src\\HTTP.jl:468 [inlined]",
      " [20] get(a::String)",
      "    @ HTTP C:\\Users\\bogum\\.julia\\packages\\HTTP\\PesRN\\src\\HTTP.jl:468",
      " [21] top-level scope",
      "    @ In[16]:1",
      " [22] eval",
      "    @ .\\boot.jl:373 [inlined]",
      " [23] include_string(mapexpr::typeof(REPL.softscope), mod::Module, code::String, filename::String)",
      "    @ Base .\\loading.jl:1196"
     ]
    }
   ],
   "source": [
    "response = HTTP.get(query)"
   ]
  },
  {
   "cell_type": "code",
   "execution_count": 17,
   "id": "0c17cf41",
   "metadata": {},
   "outputs": [
    {
     "data": {
      "text/plain": [
       "\"https://api.nbp.pl/api/exchangerates/rates/a/usd/2020-06-01/?format=json\""
      ]
     },
     "execution_count": 17,
     "metadata": {},
     "output_type": "execute_result"
    }
   ],
   "source": [
    "query = \"https://api.nbp.pl/api/exchangerates/rates/a/usd/2020-06-01/?format=json\""
   ]
  },
  {
   "cell_type": "code",
   "execution_count": 18,
   "id": "a8a16082",
   "metadata": {},
   "outputs": [
    {
     "data": {
      "text/plain": [
       "3.968"
      ]
     },
     "execution_count": 18,
     "metadata": {},
     "output_type": "execute_result"
    }
   ],
   "source": [
    "try\n",
    "    response = HTTP.get(query)\n",
    "    json = JSON3.read(response.body)\n",
    "    only(json.rates).mid\n",
    "catch e\n",
    "    if e isa HTTP.ExceptionRequest.StatusError\n",
    "        missing\n",
    "    else\n",
    "        rethrow(e)\n",
    "    end\n",
    "end"
   ]
  },
  {
   "cell_type": "code",
   "execution_count": 19,
   "id": "6d9eb2f6",
   "metadata": {},
   "outputs": [
    {
     "data": {
      "text/plain": [
       "\"https://api.nbp.pl/api/exchangerates/rates/a/usd/2020-06-06/?format=json\""
      ]
     },
     "execution_count": 19,
     "metadata": {},
     "output_type": "execute_result"
    }
   ],
   "source": [
    "query = \"https://api.nbp.pl/api/exchangerates/rates/a/usd/2020-06-06/?format=json\""
   ]
  },
  {
   "cell_type": "code",
   "execution_count": 20,
   "id": "013709ba",
   "metadata": {},
   "outputs": [
    {
     "data": {
      "text/plain": [
       "missing"
      ]
     },
     "execution_count": 20,
     "metadata": {},
     "output_type": "execute_result"
    }
   ],
   "source": [
    "try\n",
    "    response = HTTP.get(query)\n",
    "    json = JSON3.read(response.body)\n",
    "    only(json.rates).mid\n",
    "catch e\n",
    "    if e isa HTTP.ExceptionRequest.StatusError\n",
    "        missing\n",
    "    else\n",
    "        rethrow(e)\n",
    "    end\n",
    "end"
   ]
  },
  {
   "cell_type": "markdown",
   "id": "fd67b29d",
   "metadata": {},
   "source": [
    "## Missing data in Julia"
   ]
  },
  {
   "cell_type": "code",
   "execution_count": 21,
   "id": "fcae7146",
   "metadata": {},
   "outputs": [
    {
     "data": {
      "text/plain": [
       "true"
      ]
     },
     "execution_count": 21,
     "metadata": {},
     "output_type": "execute_result"
    }
   ],
   "source": [
    "ismissing(missing)"
   ]
  },
  {
   "cell_type": "code",
   "execution_count": 22,
   "id": "85de04d7",
   "metadata": {},
   "outputs": [
    {
     "data": {
      "text/plain": [
       "false"
      ]
     },
     "execution_count": 22,
     "metadata": {},
     "output_type": "execute_result"
    }
   ],
   "source": [
    "ismissing(1)"
   ]
  },
  {
   "cell_type": "markdown",
   "id": "a3be6d86",
   "metadata": {},
   "source": [
    "### Propagation of missing values"
   ]
  },
  {
   "cell_type": "code",
   "execution_count": 23,
   "id": "df0c6d94",
   "metadata": {},
   "outputs": [
    {
     "data": {
      "text/plain": [
       "missing"
      ]
     },
     "execution_count": 23,
     "metadata": {},
     "output_type": "execute_result"
    }
   ],
   "source": [
    "1 + missing"
   ]
  },
  {
   "cell_type": "code",
   "execution_count": 24,
   "id": "dd77eaed",
   "metadata": {},
   "outputs": [
    {
     "data": {
      "text/plain": [
       "missing"
      ]
     },
     "execution_count": 24,
     "metadata": {},
     "output_type": "execute_result"
    }
   ],
   "source": [
    "sin(missing)"
   ]
  },
  {
   "cell_type": "code",
   "execution_count": 25,
   "id": "d0cb54e6",
   "metadata": {},
   "outputs": [
    {
     "data": {
      "text/plain": [
       "missing"
      ]
     },
     "execution_count": 25,
     "metadata": {},
     "output_type": "execute_result"
    }
   ],
   "source": [
    "1 == missing"
   ]
  },
  {
   "cell_type": "code",
   "execution_count": 26,
   "id": "a7119ad2",
   "metadata": {},
   "outputs": [
    {
     "data": {
      "text/plain": [
       "missing"
      ]
     },
     "execution_count": 26,
     "metadata": {},
     "output_type": "execute_result"
    }
   ],
   "source": [
    "1 > missing"
   ]
  },
  {
   "cell_type": "code",
   "execution_count": 27,
   "id": "593370f7",
   "metadata": {},
   "outputs": [
    {
     "data": {
      "text/plain": [
       "missing"
      ]
     },
     "execution_count": 27,
     "metadata": {},
     "output_type": "execute_result"
    }
   ],
   "source": [
    "1 < missing"
   ]
  },
  {
   "cell_type": "markdown",
   "id": "086fdc15",
   "metadata": {},
   "source": [
    "### Three-valued logic"
   ]
  },
  {
   "cell_type": "code",
   "execution_count": 28,
   "id": "83d67d92",
   "metadata": {},
   "outputs": [
    {
     "ename": "LoadError",
     "evalue": "TypeError: non-boolean (Missing) used in boolean context",
     "output_type": "error",
     "traceback": [
      "TypeError: non-boolean (Missing) used in boolean context",
      "",
      "Stacktrace:",
      " [1] top-level scope",
      "   @ In[28]:1",
      " [2] eval",
      "   @ .\\boot.jl:373 [inlined]",
      " [3] include_string(mapexpr::typeof(REPL.softscope), mod::Module, code::String, filename::String)",
      "   @ Base .\\loading.jl:1196"
     ]
    }
   ],
   "source": [
    "if missing\n",
    "    print(\"this is not printed\")\n",
    "end"
   ]
  },
  {
   "cell_type": "code",
   "execution_count": 29,
   "id": "0bd10e26",
   "metadata": {},
   "outputs": [
    {
     "ename": "LoadError",
     "evalue": "TypeError: non-boolean (Missing) used in boolean context",
     "output_type": "error",
     "traceback": [
      "TypeError: non-boolean (Missing) used in boolean context",
      "",
      "Stacktrace:",
      " [1] top-level scope",
      "   @ In[29]:1",
      " [2] eval",
      "   @ .\\boot.jl:373 [inlined]",
      " [3] include_string(mapexpr::typeof(REPL.softscope), mod::Module, code::String, filename::String)",
      "   @ Base .\\loading.jl:1196"
     ]
    }
   ],
   "source": [
    "missing && true"
   ]
  },
  {
   "cell_type": "code",
   "execution_count": 30,
   "id": "3995c4c2",
   "metadata": {},
   "outputs": [
    {
     "data": {
      "text/plain": [
       "true"
      ]
     },
     "execution_count": 30,
     "metadata": {},
     "output_type": "execute_result"
    }
   ],
   "source": [
    "coalesce(missing, true)"
   ]
  },
  {
   "cell_type": "code",
   "execution_count": 31,
   "id": "db103c10",
   "metadata": {},
   "outputs": [
    {
     "data": {
      "text/plain": [
       "false"
      ]
     },
     "execution_count": 31,
     "metadata": {},
     "output_type": "execute_result"
    }
   ],
   "source": [
    "coalesce(missing, false)"
   ]
  },
  {
   "cell_type": "markdown",
   "id": "4bf3443e",
   "metadata": {},
   "source": [
    "### Comparison guaranteeing Boolean result"
   ]
  },
  {
   "cell_type": "code",
   "execution_count": 32,
   "id": "d7a4095b",
   "metadata": {},
   "outputs": [
    {
     "data": {
      "text/plain": [
       "false"
      ]
     },
     "execution_count": 32,
     "metadata": {},
     "output_type": "execute_result"
    }
   ],
   "source": [
    "isequal(1, missing)"
   ]
  },
  {
   "cell_type": "code",
   "execution_count": 33,
   "id": "a4a84611",
   "metadata": {},
   "outputs": [
    {
     "data": {
      "text/plain": [
       "true"
      ]
     },
     "execution_count": 33,
     "metadata": {},
     "output_type": "execute_result"
    }
   ],
   "source": [
    "isequal(missing, missing)"
   ]
  },
  {
   "cell_type": "code",
   "execution_count": 34,
   "id": "5274854a",
   "metadata": {},
   "outputs": [
    {
     "data": {
      "text/plain": [
       "true"
      ]
     },
     "execution_count": 34,
     "metadata": {},
     "output_type": "execute_result"
    }
   ],
   "source": [
    "isless(1, missing)"
   ]
  },
  {
   "cell_type": "code",
   "execution_count": 35,
   "id": "866c8c9a",
   "metadata": {},
   "outputs": [
    {
     "data": {
      "text/plain": [
       "false"
      ]
     },
     "execution_count": 35,
     "metadata": {},
     "output_type": "execute_result"
    }
   ],
   "source": [
    "isless(missing, missing)"
   ]
  },
  {
   "cell_type": "code",
   "execution_count": 36,
   "id": "c587d0f0",
   "metadata": {},
   "outputs": [
    {
     "data": {
      "text/plain": [
       "true"
      ]
     },
     "execution_count": 36,
     "metadata": {},
     "output_type": "execute_result"
    }
   ],
   "source": [
    "isless(Inf, missing)"
   ]
  },
  {
   "cell_type": "code",
   "execution_count": 37,
   "id": "ae7383bb",
   "metadata": {},
   "outputs": [
    {
     "data": {
      "text/plain": [
       "1-element Vector{Int64}:\n",
       " 1"
      ]
     },
     "execution_count": 37,
     "metadata": {},
     "output_type": "execute_result"
    }
   ],
   "source": [
    "a = [1]"
   ]
  },
  {
   "cell_type": "code",
   "execution_count": 38,
   "id": "e71e9504",
   "metadata": {},
   "outputs": [
    {
     "data": {
      "text/plain": [
       "1-element Vector{Int64}:\n",
       " 1"
      ]
     },
     "execution_count": 38,
     "metadata": {},
     "output_type": "execute_result"
    }
   ],
   "source": [
    "b = [1]"
   ]
  },
  {
   "cell_type": "code",
   "execution_count": 39,
   "id": "c6e144c5",
   "metadata": {},
   "outputs": [
    {
     "data": {
      "text/plain": [
       "true"
      ]
     },
     "execution_count": 39,
     "metadata": {},
     "output_type": "execute_result"
    }
   ],
   "source": [
    "isequal(a, b)"
   ]
  },
  {
   "cell_type": "code",
   "execution_count": 40,
   "id": "ccced80c",
   "metadata": {},
   "outputs": [
    {
     "data": {
      "text/plain": [
       "false"
      ]
     },
     "execution_count": 40,
     "metadata": {},
     "output_type": "execute_result"
    }
   ],
   "source": [
    "a === b"
   ]
  },
  {
   "cell_type": "markdown",
   "id": "91bf9700",
   "metadata": {},
   "source": [
    "### Replacing missing values in collections"
   ]
  },
  {
   "cell_type": "code",
   "execution_count": 41,
   "id": "dc569288",
   "metadata": {},
   "outputs": [
    {
     "data": {
      "text/plain": [
       "5-element Vector{Union{Missing, Int64}}:\n",
       " 1\n",
       "  missing\n",
       " 3\n",
       " 4\n",
       "  missing"
      ]
     },
     "execution_count": 41,
     "metadata": {},
     "output_type": "execute_result"
    }
   ],
   "source": [
    "x = [1, missing, 3, 4, missing]"
   ]
  },
  {
   "cell_type": "code",
   "execution_count": 42,
   "id": "be1746e0",
   "metadata": {},
   "outputs": [
    {
     "data": {
      "text/plain": [
       "5-element Vector{Int64}:\n",
       " 1\n",
       " 0\n",
       " 3\n",
       " 4\n",
       " 0"
      ]
     },
     "execution_count": 42,
     "metadata": {},
     "output_type": "execute_result"
    }
   ],
   "source": [
    "coalesce.(x, 0)"
   ]
  },
  {
   "cell_type": "markdown",
   "id": "a31c9de7",
   "metadata": {},
   "source": [
    "### Skipping missing values"
   ]
  },
  {
   "cell_type": "code",
   "execution_count": 43,
   "id": "c64795a4",
   "metadata": {},
   "outputs": [
    {
     "data": {
      "text/plain": [
       "missing"
      ]
     },
     "execution_count": 43,
     "metadata": {},
     "output_type": "execute_result"
    }
   ],
   "source": [
    "sum(x)"
   ]
  },
  {
   "cell_type": "code",
   "execution_count": 44,
   "id": "bce6298a",
   "metadata": {},
   "outputs": [
    {
     "data": {
      "text/plain": [
       "skipmissing(Union{Missing, Int64}[1, missing, 3, 4, missing])"
      ]
     },
     "execution_count": 44,
     "metadata": {},
     "output_type": "execute_result"
    }
   ],
   "source": [
    "y = skipmissing(x)"
   ]
  },
  {
   "cell_type": "code",
   "execution_count": 45,
   "id": "fbea0ace",
   "metadata": {},
   "outputs": [
    {
     "data": {
      "text/plain": [
       "8"
      ]
     },
     "execution_count": 45,
     "metadata": {},
     "output_type": "execute_result"
    }
   ],
   "source": [
    "sum(y)"
   ]
  },
  {
   "cell_type": "code",
   "execution_count": 46,
   "id": "756ec564",
   "metadata": {},
   "outputs": [
    {
     "data": {
      "text/plain": [
       "8"
      ]
     },
     "execution_count": 46,
     "metadata": {},
     "output_type": "execute_result"
    }
   ],
   "source": [
    "sum(skipmissing(x))"
   ]
  },
  {
   "cell_type": "markdown",
   "id": "8b3c218b",
   "metadata": {},
   "source": [
    "### Enabling `missing` value propagation in functions"
   ]
  },
  {
   "cell_type": "code",
   "execution_count": 47,
   "id": "54d94865",
   "metadata": {},
   "outputs": [
    {
     "data": {
      "text/plain": [
       "fun (generic function with 1 method)"
      ]
     },
     "execution_count": 47,
     "metadata": {},
     "output_type": "execute_result"
    }
   ],
   "source": [
    "fun(x::Int, y::Int) = x + y"
   ]
  },
  {
   "cell_type": "code",
   "execution_count": 48,
   "id": "0a4c9062",
   "metadata": {
    "scrolled": true
   },
   "outputs": [
    {
     "data": {
      "text/plain": [
       "3"
      ]
     },
     "execution_count": 48,
     "metadata": {},
     "output_type": "execute_result"
    }
   ],
   "source": [
    "fun(1, 2)"
   ]
  },
  {
   "cell_type": "code",
   "execution_count": 49,
   "id": "6d0f0876",
   "metadata": {},
   "outputs": [
    {
     "ename": "LoadError",
     "evalue": "MethodError: no method matching fun(::Int64, ::Missing)\n\u001b[0mClosest candidates are:\n\u001b[0m  fun(::Int64, \u001b[91m::Int64\u001b[39m) at In[47]:1",
     "output_type": "error",
     "traceback": [
      "MethodError: no method matching fun(::Int64, ::Missing)\n\u001b[0mClosest candidates are:\n\u001b[0m  fun(::Int64, \u001b[91m::Int64\u001b[39m) at In[47]:1",
      "",
      "Stacktrace:",
      " [1] top-level scope",
      "   @ In[49]:1",
      " [2] eval",
      "   @ .\\boot.jl:373 [inlined]",
      " [3] include_string(mapexpr::typeof(REPL.softscope), mod::Module, code::String, filename::String)",
      "   @ Base .\\loading.jl:1196"
     ]
    }
   ],
   "source": [
    "fun(1, missing)"
   ]
  },
  {
   "cell_type": "code",
   "execution_count": 50,
   "id": "ecb810b7",
   "metadata": {},
   "outputs": [
    {
     "data": {
      "text/plain": [
       "(::Missings.PassMissing{typeof(fun)}) (generic function with 2 methods)"
      ]
     },
     "execution_count": 50,
     "metadata": {},
     "output_type": "execute_result"
    }
   ],
   "source": [
    "using Missings\n",
    "fun2 = passmissing(fun)"
   ]
  },
  {
   "cell_type": "code",
   "execution_count": 51,
   "id": "f8e71321",
   "metadata": {},
   "outputs": [
    {
     "data": {
      "text/plain": [
       "3"
      ]
     },
     "execution_count": 51,
     "metadata": {},
     "output_type": "execute_result"
    }
   ],
   "source": [
    "fun2(1, 2)"
   ]
  },
  {
   "cell_type": "code",
   "execution_count": 52,
   "id": "7f958031",
   "metadata": {},
   "outputs": [
    {
     "data": {
      "text/plain": [
       "missing"
      ]
     },
     "execution_count": 52,
     "metadata": {},
     "output_type": "execute_result"
    }
   ],
   "source": [
    "fun2(1, missing)"
   ]
  },
  {
   "cell_type": "markdown",
   "id": "2828de75",
   "metadata": {},
   "source": [
    "## Working with dates"
   ]
  },
  {
   "cell_type": "code",
   "execution_count": 53,
   "id": "d72cc967",
   "metadata": {},
   "outputs": [
    {
     "data": {
      "text/plain": [
       "2020-06-01"
      ]
     },
     "execution_count": 53,
     "metadata": {},
     "output_type": "execute_result"
    }
   ],
   "source": [
    "using Dates\n",
    "d = Date(\"2020-06-01\")"
   ]
  },
  {
   "cell_type": "code",
   "execution_count": 54,
   "id": "f64e1118",
   "metadata": {},
   "outputs": [
    {
     "data": {
      "text/plain": [
       "Date"
      ]
     },
     "execution_count": 54,
     "metadata": {},
     "output_type": "execute_result"
    }
   ],
   "source": [
    "typeof(d)"
   ]
  },
  {
   "cell_type": "code",
   "execution_count": 55,
   "id": "97a13e54",
   "metadata": {},
   "outputs": [
    {
     "data": {
      "text/plain": [
       "2020"
      ]
     },
     "execution_count": 55,
     "metadata": {},
     "output_type": "execute_result"
    }
   ],
   "source": [
    "year(d)"
   ]
  },
  {
   "cell_type": "code",
   "execution_count": 56,
   "id": "0f755570",
   "metadata": {},
   "outputs": [
    {
     "data": {
      "text/plain": [
       "6"
      ]
     },
     "execution_count": 56,
     "metadata": {},
     "output_type": "execute_result"
    }
   ],
   "source": [
    "month(d)"
   ]
  },
  {
   "cell_type": "code",
   "execution_count": 57,
   "id": "a2d75d97",
   "metadata": {},
   "outputs": [
    {
     "data": {
      "text/plain": [
       "1"
      ]
     },
     "execution_count": 57,
     "metadata": {},
     "output_type": "execute_result"
    }
   ],
   "source": [
    "day(d)"
   ]
  },
  {
   "cell_type": "code",
   "execution_count": 58,
   "id": "3efa813e",
   "metadata": {},
   "outputs": [
    {
     "data": {
      "text/plain": [
       "1"
      ]
     },
     "execution_count": 58,
     "metadata": {},
     "output_type": "execute_result"
    }
   ],
   "source": [
    "dayofweek(d)"
   ]
  },
  {
   "cell_type": "code",
   "execution_count": 59,
   "id": "d59c3d44",
   "metadata": {},
   "outputs": [
    {
     "data": {
      "text/plain": [
       "\"Monday\""
      ]
     },
     "execution_count": 59,
     "metadata": {},
     "output_type": "execute_result"
    }
   ],
   "source": [
    "dayname(d)"
   ]
  },
  {
   "cell_type": "code",
   "execution_count": 60,
   "id": "13ffcd6b",
   "metadata": {},
   "outputs": [
    {
     "data": {
      "text/plain": [
       "2020-06-01"
      ]
     },
     "execution_count": 60,
     "metadata": {},
     "output_type": "execute_result"
    }
   ],
   "source": [
    "Date(2020, 6, 1)"
   ]
  },
  {
   "cell_type": "code",
   "execution_count": 61,
   "id": "c250abe8",
   "metadata": {},
   "outputs": [
    {
     "data": {
      "text/plain": [
       "30-element Vector{Date}:\n",
       " 2020-06-01\n",
       " 2020-06-02\n",
       " 2020-06-03\n",
       " 2020-06-04\n",
       " 2020-06-05\n",
       " 2020-06-06\n",
       " 2020-06-07\n",
       " 2020-06-08\n",
       " 2020-06-09\n",
       " 2020-06-10\n",
       " 2020-06-11\n",
       " 2020-06-12\n",
       " 2020-06-13\n",
       " ⋮\n",
       " 2020-06-19\n",
       " 2020-06-20\n",
       " 2020-06-21\n",
       " 2020-06-22\n",
       " 2020-06-23\n",
       " 2020-06-24\n",
       " 2020-06-25\n",
       " 2020-06-26\n",
       " 2020-06-27\n",
       " 2020-06-28\n",
       " 2020-06-29\n",
       " 2020-06-30"
      ]
     },
     "execution_count": 61,
     "metadata": {},
     "output_type": "execute_result"
    }
   ],
   "source": [
    "dates = Date.(2020, 6, 1:30)"
   ]
  },
  {
   "cell_type": "code",
   "execution_count": 62,
   "id": "8638f986",
   "metadata": {},
   "outputs": [
    {
     "data": {
      "text/plain": [
       "1 day"
      ]
     },
     "execution_count": 62,
     "metadata": {},
     "output_type": "execute_result"
    }
   ],
   "source": [
    "Day(1)"
   ]
  },
  {
   "cell_type": "code",
   "execution_count": 63,
   "id": "83d65d1b",
   "metadata": {},
   "outputs": [
    {
     "data": {
      "text/plain": [
       "2020-06-01"
      ]
     },
     "execution_count": 63,
     "metadata": {},
     "output_type": "execute_result"
    }
   ],
   "source": [
    "d"
   ]
  },
  {
   "cell_type": "code",
   "execution_count": 64,
   "id": "64fbfa4e",
   "metadata": {},
   "outputs": [
    {
     "data": {
      "text/plain": [
       "2020-06-02"
      ]
     },
     "execution_count": 64,
     "metadata": {},
     "output_type": "execute_result"
    }
   ],
   "source": [
    "d + Day(1)"
   ]
  },
  {
   "cell_type": "code",
   "execution_count": 65,
   "id": "deca736a",
   "metadata": {},
   "outputs": [
    {
     "data": {
      "text/plain": [
       "Date(\"2020-05-20\"):Day(1):Date(\"2020-07-05\")"
      ]
     },
     "execution_count": 65,
     "metadata": {},
     "output_type": "execute_result"
    }
   ],
   "source": [
    "Date(2020, 5, 20):Day(1):Date(2020, 7, 5)"
   ]
  },
  {
   "cell_type": "code",
   "execution_count": 66,
   "id": "70400f58",
   "metadata": {},
   "outputs": [
    {
     "data": {
      "text/plain": [
       "47-element Vector{Date}:\n",
       " 2020-05-20\n",
       " 2020-05-21\n",
       " 2020-05-22\n",
       " 2020-05-23\n",
       " 2020-05-24\n",
       " 2020-05-25\n",
       " 2020-05-26\n",
       " 2020-05-27\n",
       " 2020-05-28\n",
       " 2020-05-29\n",
       " 2020-05-30\n",
       " 2020-05-31\n",
       " 2020-06-01\n",
       " ⋮\n",
       " 2020-06-24\n",
       " 2020-06-25\n",
       " 2020-06-26\n",
       " 2020-06-27\n",
       " 2020-06-28\n",
       " 2020-06-29\n",
       " 2020-06-30\n",
       " 2020-07-01\n",
       " 2020-07-02\n",
       " 2020-07-03\n",
       " 2020-07-04\n",
       " 2020-07-05"
      ]
     },
     "execution_count": 66,
     "metadata": {},
     "output_type": "execute_result"
    }
   ],
   "source": [
    "collect(Date(2020, 5, 20):Day(1):Date(2020, 7, 5))"
   ]
  },
  {
   "cell_type": "markdown",
   "id": "fb208a13",
   "metadata": {},
   "source": [
    "You can learn more about the rules of date arithmetic in the\n",
    "[Julia Manual](https://docs.julialang.org/en/v1/stdlib/Dates/#TimeType-Period-Arithmetic).\n",
    "\n",
    "Julia also allows you to work with time and date-time objects.\n",
    "The details, as usual, can be found in the [Julia Manual](https://docs.julialang.org/en/v1/stdlib/Dates/)."
   ]
  },
  {
   "cell_type": "markdown",
   "id": "c88a8266",
   "metadata": {},
   "source": [
    "## Fetching data from NBP Web API for a range of dates"
   ]
  },
  {
   "cell_type": "code",
   "execution_count": 67,
   "id": "585e9796",
   "metadata": {},
   "outputs": [
    {
     "data": {
      "text/plain": [
       "get_rate (generic function with 1 method)"
      ]
     },
     "execution_count": 67,
     "metadata": {},
     "output_type": "execute_result"
    }
   ],
   "source": [
    "function get_rate(date::Date)\n",
    "    query = \"https://api.nbp.pl/api/exchangerates/rates/a/usd/$date/?format=json\"\n",
    "    try\n",
    "        response = HTTP.get(query)\n",
    "        json = JSON3.read(response.body)\n",
    "        return only(json.rates).mid\n",
    "    catch e\n",
    "        if e isa HTTP.ExceptionRequest.StatusError\n",
    "            return missing\n",
    "        else\n",
    "            rethrow(e)\n",
    "        end\n",
    "    end\n",
    "end"
   ]
  },
  {
   "cell_type": "code",
   "execution_count": 68,
   "id": "b1a779f2",
   "metadata": {},
   "outputs": [
    {
     "data": {
      "text/plain": [
       "2020-06-01"
      ]
     },
     "execution_count": 68,
     "metadata": {},
     "output_type": "execute_result"
    }
   ],
   "source": [
    "d"
   ]
  },
  {
   "cell_type": "code",
   "execution_count": 69,
   "id": "4715d9da",
   "metadata": {},
   "outputs": [
    {
     "data": {
      "text/plain": [
       "\"d = 2020-06-01\""
      ]
     },
     "execution_count": 69,
     "metadata": {},
     "output_type": "execute_result"
    }
   ],
   "source": [
    "\"d = $d\""
   ]
  },
  {
   "cell_type": "code",
   "execution_count": 70,
   "id": "26593490",
   "metadata": {},
   "outputs": [
    {
     "data": {
      "text/plain": [
       "\"https://api.nbp.pl/api/exchangerates/rates/a/usd/2020-06-01/?format=json\""
      ]
     },
     "execution_count": 70,
     "metadata": {},
     "output_type": "execute_result"
    }
   ],
   "source": [
    "\"https://api.nbp.pl/api/exchangerates/rates/a/usd/$(dates[1])/?format=json\""
   ]
  },
  {
   "cell_type": "code",
   "execution_count": 71,
   "id": "f01f3799",
   "metadata": {},
   "outputs": [
    {
     "data": {
      "text/plain": [
       "\"https://api.nbp.pl/api/exchangerates/rates/a/usd/[Date(\\\"2020-06-01\\\"), Date(\\\"2020-06-02\\\"), Date(\\\"2020-06-03\\\"), Date(\\\"2020-06-04\\\"), Date(\\\"2020-06-05\\\"), Date(\\\"2020-06-06\\\"), Date(\\\"2020-06-07\\\"), Date(\\\"2020-06-08\\\"), Date(\\\"2020-06-09\\\"), Date(\\\"2020-06-10\\\"), Date(\\\"2020-06-11\\\"), D\" ⋯ 124 bytes ⋯ \"\\\"2020-06-18\\\"), Date(\\\"2020-06-19\\\"), Date(\\\"2020-06-20\\\"), Date(\\\"2020-06-21\\\"), Date(\\\"2020-06-22\\\"), Date(\\\"2020-06-23\\\"), Date(\\\"2020-06-24\\\"), Date(\\\"2020-06-25\\\"), Date(\\\"2020-06-26\\\"), Date(\\\"2020-06-27\\\"), Date(\\\"2020-06-28\\\"), Date(\\\"2020-06-29\\\"), Date(\\\"2020-06-30\\\")][1]/?format=json\""
      ]
     },
     "execution_count": 71,
     "metadata": {},
     "output_type": "execute_result"
    }
   ],
   "source": [
    "\"https://api.nbp.pl/api/exchangerates/rates/a/usd/$dates[1]/?format=json\""
   ]
  },
  {
   "cell_type": "code",
   "execution_count": 72,
   "id": "eb0380d4",
   "metadata": {},
   "outputs": [
    {
     "data": {
      "text/plain": [
       "30-element Vector{Union{Missing, Float64}}:\n",
       " 3.968\n",
       " 3.9303\n",
       " 3.9121\n",
       " 3.9573\n",
       " 3.9217\n",
       "  missing\n",
       "  missing\n",
       " 3.9197\n",
       " 3.9453\n",
       " 3.918\n",
       "  missing\n",
       " 3.9299\n",
       "  missing\n",
       " ⋮\n",
       " 3.9741\n",
       "  missing\n",
       "  missing\n",
       " 3.9667\n",
       " 3.9311\n",
       " 3.9395\n",
       " 3.9623\n",
       " 3.9697\n",
       "  missing\n",
       "  missing\n",
       " 3.9656\n",
       " 3.9806"
      ]
     },
     "execution_count": 72,
     "metadata": {},
     "output_type": "execute_result"
    }
   ],
   "source": [
    "rates = get_rate.(dates)"
   ]
  },
  {
   "cell_type": "markdown",
   "id": "993377c7",
   "metadata": {},
   "source": [
    "## Analyzing the data fetched from NBP Web API"
   ]
  },
  {
   "cell_type": "code",
   "execution_count": 73,
   "id": "30d0b6d0",
   "metadata": {},
   "outputs": [],
   "source": [
    "using Statistics"
   ]
  },
  {
   "cell_type": "code",
   "execution_count": 74,
   "id": "da13ceb8",
   "metadata": {},
   "outputs": [
    {
     "data": {
      "text/plain": [
       "missing"
      ]
     },
     "execution_count": 74,
     "metadata": {},
     "output_type": "execute_result"
    }
   ],
   "source": [
    "mean(rates)"
   ]
  },
  {
   "cell_type": "code",
   "execution_count": 75,
   "id": "4a25d147",
   "metadata": {},
   "outputs": [
    {
     "data": {
      "text/plain": [
       "missing"
      ]
     },
     "execution_count": 75,
     "metadata": {},
     "output_type": "execute_result"
    }
   ],
   "source": [
    "std(rates)"
   ]
  },
  {
   "cell_type": "code",
   "execution_count": 76,
   "id": "73ae19a6",
   "metadata": {},
   "outputs": [
    {
     "data": {
      "text/plain": [
       "3.9452904761904755"
      ]
     },
     "execution_count": 76,
     "metadata": {},
     "output_type": "execute_result"
    }
   ],
   "source": [
    "mean(skipmissing(rates))"
   ]
  },
  {
   "cell_type": "code",
   "execution_count": 77,
   "id": "b6ba45ff",
   "metadata": {},
   "outputs": [
    {
     "data": {
      "text/plain": [
       "0.022438959529396577"
      ]
     },
     "execution_count": 77,
     "metadata": {},
     "output_type": "execute_result"
    }
   ],
   "source": [
    "std(skipmissing(rates))"
   ]
  },
  {
   "cell_type": "code",
   "execution_count": 78,
   "id": "46ce7e1b",
   "metadata": {
    "scrolled": true
   },
   "outputs": [
    {
     "data": {
      "text/plain": [
       "7×2 Named Matrix{Float64}\n",
       "Dim1 ╲ Dim2 │ false   true\n",
       "────────────┼─────────────\n",
       "Friday      │   1.0    0.0\n",
       "Monday      │   1.0    0.0\n",
       "Saturday    │   0.0    1.0\n",
       "Sunday      │   0.0    1.0\n",
       "Thursday    │  0.75   0.25\n",
       "Tuesday     │   1.0    0.0\n",
       "Wednesday   │   1.0    0.0"
      ]
     },
     "execution_count": 78,
     "metadata": {},
     "output_type": "execute_result"
    }
   ],
   "source": [
    "using FreqTables\n",
    "proptable(dayname.(dates), ismissing.(rates); margins=1)"
   ]
  },
  {
   "cell_type": "code",
   "execution_count": 79,
   "id": "79dfd12c",
   "metadata": {
    "scrolled": true
   },
   "outputs": [
    {
     "data": {
      "text/plain": [
       "30-element BitVector:\n",
       " 0\n",
       " 0\n",
       " 0\n",
       " 0\n",
       " 0\n",
       " 0\n",
       " 0\n",
       " 0\n",
       " 0\n",
       " 0\n",
       " 1\n",
       " 0\n",
       " 0\n",
       " ⋮\n",
       " 0\n",
       " 0\n",
       " 0\n",
       " 0\n",
       " 0\n",
       " 0\n",
       " 0\n",
       " 0\n",
       " 0\n",
       " 0\n",
       " 0\n",
       " 0"
      ]
     },
     "execution_count": 79,
     "metadata": {},
     "output_type": "execute_result"
    }
   ],
   "source": [
    "dayname.(dates) .== \"Thursday\" .&& ismissing.(rates)"
   ]
  },
  {
   "cell_type": "code",
   "execution_count": 80,
   "id": "f866045d",
   "metadata": {},
   "outputs": [
    {
     "data": {
      "text/plain": [
       "1-element Vector{Date}:\n",
       " 2020-06-11"
      ]
     },
     "execution_count": 80,
     "metadata": {},
     "output_type": "execute_result"
    }
   ],
   "source": [
    "dates[dayname.(dates) .== \"Thursday\" .&& ismissing.(rates)]"
   ]
  },
  {
   "cell_type": "markdown",
   "id": "1fd98b21",
   "metadata": {},
   "source": [
    "## Plotting data with missing values"
   ]
  },
  {
   "cell_type": "code",
   "execution_count": 81,
   "id": "70fd2fd0",
   "metadata": {},
   "outputs": [
    {
     "data": {
      "image/svg+xml": [
       "<?xml version=\"1.0\" encoding=\"utf-8\"?>\n",
       "<svg xmlns=\"http://www.w3.org/2000/svg\" xmlns:xlink=\"http://www.w3.org/1999/xlink\" width=\"600\" height=\"400\" viewBox=\"0 0 2400 1600\">\n",
       "<defs>\n",
       "  <clipPath id=\"clip180\">\n",
       "    <rect x=\"0\" y=\"0\" width=\"2400\" height=\"1600\"/>\n",
       "  </clipPath>\n",
       "</defs>\n",
       "<path clip-path=\"url(#clip180)\" d=\"\n",
       "M0 1600 L2400 1600 L2400 0 L0 0  Z\n",
       "  \" fill=\"#ffffff\" fill-rule=\"evenodd\" fill-opacity=\"1\"/>\n",
       "<defs>\n",
       "  <clipPath id=\"clip181\">\n",
       "    <rect x=\"480\" y=\"0\" width=\"1681\" height=\"1600\"/>\n",
       "  </clipPath>\n",
       "</defs>\n",
       "<path clip-path=\"url(#clip180)\" d=\"\n",
       "M249.542 1423.18 L2352.76 1423.18 L2352.76 47.2441 L249.542 47.2441  Z\n",
       "  \" fill=\"#ffffff\" fill-rule=\"evenodd\" fill-opacity=\"1\"/>\n",
       "<defs>\n",
       "  <clipPath id=\"clip182\">\n",
       "    <rect x=\"249\" y=\"47\" width=\"2104\" height=\"1377\"/>\n",
       "  </clipPath>\n",
       "</defs>\n",
       "<polyline clip-path=\"url(#clip182)\" style=\"stroke:#000000; stroke-linecap:butt; stroke-linejoin:round; stroke-width:2; stroke-opacity:0.1; fill:none\" points=\"\n",
       "  309.067,1423.18 309.067,47.2441 \n",
       "  \"/>\n",
       "<polyline clip-path=\"url(#clip182)\" style=\"stroke:#000000; stroke-linecap:butt; stroke-linejoin:round; stroke-width:2; stroke-opacity:0.1; fill:none\" points=\"\n",
       "  856.423,1423.18 856.423,47.2441 \n",
       "  \"/>\n",
       "<polyline clip-path=\"url(#clip182)\" style=\"stroke:#000000; stroke-linecap:butt; stroke-linejoin:round; stroke-width:2; stroke-opacity:0.1; fill:none\" points=\"\n",
       "  1403.78,1423.18 1403.78,47.2441 \n",
       "  \"/>\n",
       "<polyline clip-path=\"url(#clip182)\" style=\"stroke:#000000; stroke-linecap:butt; stroke-linejoin:round; stroke-width:2; stroke-opacity:0.1; fill:none\" points=\"\n",
       "  1951.13,1423.18 1951.13,47.2441 \n",
       "  \"/>\n",
       "<polyline clip-path=\"url(#clip180)\" style=\"stroke:#000000; stroke-linecap:butt; stroke-linejoin:round; stroke-width:4; stroke-opacity:1; fill:none\" points=\"\n",
       "  249.542,1423.18 2352.76,1423.18 \n",
       "  \"/>\n",
       "<polyline clip-path=\"url(#clip180)\" style=\"stroke:#000000; stroke-linecap:butt; stroke-linejoin:round; stroke-width:4; stroke-opacity:1; fill:none\" points=\"\n",
       "  309.067,1423.18 309.067,1404.28 \n",
       "  \"/>\n",
       "<polyline clip-path=\"url(#clip180)\" style=\"stroke:#000000; stroke-linecap:butt; stroke-linejoin:round; stroke-width:4; stroke-opacity:1; fill:none\" points=\"\n",
       "  856.423,1423.18 856.423,1404.28 \n",
       "  \"/>\n",
       "<polyline clip-path=\"url(#clip180)\" style=\"stroke:#000000; stroke-linecap:butt; stroke-linejoin:round; stroke-width:4; stroke-opacity:1; fill:none\" points=\"\n",
       "  1403.78,1423.18 1403.78,1404.28 \n",
       "  \"/>\n",
       "<polyline clip-path=\"url(#clip180)\" style=\"stroke:#000000; stroke-linecap:butt; stroke-linejoin:round; stroke-width:4; stroke-opacity:1; fill:none\" points=\"\n",
       "  1951.13,1423.18 1951.13,1404.28 \n",
       "  \"/>\n",
       "<path clip-path=\"url(#clip180)\" d=\"M180.862 1481.64 L197.181 1481.64 L197.181 1485.58 L175.237 1485.58 L175.237 1481.64 Q177.899 1478.89 182.482 1474.26 Q187.088 1469.61 188.269 1468.27 Q190.514 1465.74 191.394 1464.01 Q192.297 1462.25 192.297 1460.56 Q192.297 1457.8 190.352 1456.07 Q188.431 1454.33 185.329 1454.33 Q183.13 1454.33 180.676 1455.09 Q178.246 1455.86 175.468 1457.41 L175.468 1452.69 Q178.292 1451.55 180.746 1450.97 Q183.2 1450.39 185.237 1450.39 Q190.607 1450.39 193.801 1453.08 Q196.996 1455.77 196.996 1460.26 Q196.996 1462.39 196.186 1464.31 Q195.399 1466.2 193.292 1468.8 Q192.713 1469.47 189.612 1472.69 Q186.51 1475.88 180.862 1481.64 Z\" fill=\"#000000\" fill-rule=\"evenodd\" fill-opacity=\"1\" /><path clip-path=\"url(#clip180)\" d=\"M216.996 1454.1 Q213.385 1454.1 211.556 1457.66 Q209.75 1461.2 209.75 1468.33 Q209.75 1475.44 211.556 1479.01 Q213.385 1482.55 216.996 1482.55 Q220.63 1482.55 222.435 1479.01 Q224.264 1475.44 224.264 1468.33 Q224.264 1461.2 222.435 1457.66 Q220.63 1454.1 216.996 1454.1 M216.996 1450.39 Q222.806 1450.39 225.861 1455 Q228.94 1459.58 228.94 1468.33 Q228.94 1477.06 225.861 1481.67 Q222.806 1486.25 216.996 1486.25 Q211.186 1486.25 208.107 1481.67 Q205.051 1477.06 205.051 1468.33 Q205.051 1459.58 208.107 1455 Q211.186 1450.39 216.996 1450.39 Z\" fill=\"#000000\" fill-rule=\"evenodd\" fill-opacity=\"1\" /><path clip-path=\"url(#clip180)\" d=\"M241.185 1481.64 L257.505 1481.64 L257.505 1485.58 L235.56 1485.58 L235.56 1481.64 Q238.222 1478.89 242.806 1474.26 Q247.412 1469.61 248.593 1468.27 Q250.838 1465.74 251.718 1464.01 Q252.62 1462.25 252.62 1460.56 Q252.62 1457.8 250.676 1456.07 Q248.755 1454.33 245.653 1454.33 Q243.454 1454.33 241 1455.09 Q238.57 1455.86 235.792 1457.41 L235.792 1452.69 Q238.616 1451.55 241.07 1450.97 Q243.523 1450.39 245.56 1450.39 Q250.931 1450.39 254.125 1453.08 Q257.32 1455.77 257.32 1460.26 Q257.32 1462.39 256.509 1464.31 Q255.722 1466.2 253.616 1468.8 Q253.037 1469.47 249.935 1472.69 Q246.833 1475.88 241.185 1481.64 Z\" fill=\"#000000\" fill-rule=\"evenodd\" fill-opacity=\"1\" /><path clip-path=\"url(#clip180)\" d=\"M277.319 1454.1 Q273.708 1454.1 271.88 1457.66 Q270.074 1461.2 270.074 1468.33 Q270.074 1475.44 271.88 1479.01 Q273.708 1482.55 277.319 1482.55 Q280.954 1482.55 282.759 1479.01 Q284.588 1475.44 284.588 1468.33 Q284.588 1461.2 282.759 1457.66 Q280.954 1454.1 277.319 1454.1 M277.319 1450.39 Q283.13 1450.39 286.185 1455 Q289.264 1459.58 289.264 1468.33 Q289.264 1477.06 286.185 1481.67 Q283.13 1486.25 277.319 1486.25 Q271.509 1486.25 268.431 1481.67 Q265.375 1477.06 265.375 1468.33 Q265.375 1459.58 268.431 1455 Q271.509 1450.39 277.319 1450.39 Z\" fill=\"#000000\" fill-rule=\"evenodd\" fill-opacity=\"1\" /><path clip-path=\"url(#clip180)\" d=\"M294.727 1470.7 L307.204 1470.7 L307.204 1474.49 L294.727 1474.49 L294.727 1470.7 Z\" fill=\"#000000\" fill-rule=\"evenodd\" fill-opacity=\"1\" /><path clip-path=\"url(#clip180)\" d=\"M324.588 1454.1 Q320.977 1454.1 319.148 1457.66 Q317.342 1461.2 317.342 1468.33 Q317.342 1475.44 319.148 1479.01 Q320.977 1482.55 324.588 1482.55 Q328.222 1482.55 330.027 1479.01 Q331.856 1475.44 331.856 1468.33 Q331.856 1461.2 330.027 1457.66 Q328.222 1454.1 324.588 1454.1 M324.588 1450.39 Q330.398 1450.39 333.453 1455 Q336.532 1459.58 336.532 1468.33 Q336.532 1477.06 333.453 1481.67 Q330.398 1486.25 324.588 1486.25 Q318.778 1486.25 315.699 1481.67 Q312.643 1477.06 312.643 1468.33 Q312.643 1459.58 315.699 1455 Q318.778 1450.39 324.588 1450.39 Z\" fill=\"#000000\" fill-rule=\"evenodd\" fill-opacity=\"1\" /><path clip-path=\"url(#clip180)\" d=\"M355.328 1466.44 Q352.18 1466.44 350.328 1468.59 Q348.5 1470.74 348.5 1474.49 Q348.5 1478.22 350.328 1480.39 Q352.18 1482.55 355.328 1482.55 Q358.476 1482.55 360.305 1480.39 Q362.157 1478.22 362.157 1474.49 Q362.157 1470.74 360.305 1468.59 Q358.476 1466.44 355.328 1466.44 M364.611 1451.78 L364.611 1456.04 Q362.851 1455.21 361.046 1454.77 Q359.263 1454.33 357.504 1454.33 Q352.875 1454.33 350.421 1457.45 Q347.99 1460.58 347.643 1466.9 Q349.009 1464.89 351.069 1463.82 Q353.129 1462.73 355.606 1462.73 Q360.814 1462.73 363.824 1465.9 Q366.856 1469.05 366.856 1474.49 Q366.856 1479.82 363.708 1483.03 Q360.56 1486.25 355.328 1486.25 Q349.333 1486.25 346.162 1481.67 Q342.99 1477.06 342.99 1468.33 Q342.99 1460.14 346.879 1455.28 Q350.768 1450.39 357.319 1450.39 Q359.078 1450.39 360.861 1450.74 Q362.666 1451.09 364.611 1451.78 Z\" fill=\"#000000\" fill-rule=\"evenodd\" fill-opacity=\"1\" /><path clip-path=\"url(#clip180)\" d=\"M372.157 1470.7 L384.634 1470.7 L384.634 1474.49 L372.157 1474.49 L372.157 1470.7 Z\" fill=\"#000000\" fill-rule=\"evenodd\" fill-opacity=\"1\" /><path clip-path=\"url(#clip180)\" d=\"M402.018 1454.1 Q398.407 1454.1 396.578 1457.66 Q394.773 1461.2 394.773 1468.33 Q394.773 1475.44 396.578 1479.01 Q398.407 1482.55 402.018 1482.55 Q405.652 1482.55 407.458 1479.01 Q409.286 1475.44 409.286 1468.33 Q409.286 1461.2 407.458 1457.66 Q405.652 1454.1 402.018 1454.1 M402.018 1450.39 Q407.828 1450.39 410.884 1455 Q413.962 1459.58 413.962 1468.33 Q413.962 1477.06 410.884 1481.67 Q407.828 1486.25 402.018 1486.25 Q396.208 1486.25 393.129 1481.67 Q390.073 1477.06 390.073 1468.33 Q390.073 1459.58 393.129 1455 Q396.208 1450.39 402.018 1450.39 Z\" fill=\"#000000\" fill-rule=\"evenodd\" fill-opacity=\"1\" /><path clip-path=\"url(#clip180)\" d=\"M422.99 1481.64 L430.629 1481.64 L430.629 1455.28 L422.319 1456.95 L422.319 1452.69 L430.583 1451.02 L435.258 1451.02 L435.258 1481.64 L442.897 1481.64 L442.897 1485.58 L422.99 1485.58 L422.99 1481.64 Z\" fill=\"#000000\" fill-rule=\"evenodd\" fill-opacity=\"1\" /><path clip-path=\"url(#clip180)\" d=\"M727.696 1481.64 L744.016 1481.64 L744.016 1485.58 L722.071 1485.58 L722.071 1481.64 Q724.733 1478.89 729.317 1474.26 Q733.923 1469.61 735.104 1468.27 Q737.349 1465.74 738.229 1464.01 Q739.132 1462.25 739.132 1460.56 Q739.132 1457.8 737.187 1456.07 Q735.266 1454.33 732.164 1454.33 Q729.965 1454.33 727.511 1455.09 Q725.081 1455.86 722.303 1457.41 L722.303 1452.69 Q725.127 1451.55 727.581 1450.97 Q730.034 1450.39 732.071 1450.39 Q737.442 1450.39 740.636 1453.08 Q743.831 1455.77 743.831 1460.26 Q743.831 1462.39 743.02 1464.31 Q742.233 1466.2 740.127 1468.8 Q739.548 1469.47 736.446 1472.69 Q733.345 1475.88 727.696 1481.64 Z\" fill=\"#000000\" fill-rule=\"evenodd\" fill-opacity=\"1\" /><path clip-path=\"url(#clip180)\" d=\"M763.83 1454.1 Q760.219 1454.1 758.391 1457.66 Q756.585 1461.2 756.585 1468.33 Q756.585 1475.44 758.391 1479.01 Q760.219 1482.55 763.83 1482.55 Q767.465 1482.55 769.27 1479.01 Q771.099 1475.44 771.099 1468.33 Q771.099 1461.2 769.27 1457.66 Q767.465 1454.1 763.83 1454.1 M763.83 1450.39 Q769.641 1450.39 772.696 1455 Q775.775 1459.58 775.775 1468.33 Q775.775 1477.06 772.696 1481.67 Q769.641 1486.25 763.83 1486.25 Q758.02 1486.25 754.942 1481.67 Q751.886 1477.06 751.886 1468.33 Q751.886 1459.58 754.942 1455 Q758.02 1450.39 763.83 1450.39 Z\" fill=\"#000000\" fill-rule=\"evenodd\" fill-opacity=\"1\" /><path clip-path=\"url(#clip180)\" d=\"M788.02 1481.64 L804.339 1481.64 L804.339 1485.58 L782.395 1485.58 L782.395 1481.64 Q785.057 1478.89 789.64 1474.26 Q794.247 1469.61 795.428 1468.27 Q797.673 1465.74 798.552 1464.01 Q799.455 1462.25 799.455 1460.56 Q799.455 1457.8 797.511 1456.07 Q795.59 1454.33 792.488 1454.33 Q790.289 1454.33 787.835 1455.09 Q785.404 1455.86 782.627 1457.41 L782.627 1452.69 Q785.451 1451.55 787.904 1450.97 Q790.358 1450.39 792.395 1450.39 Q797.765 1450.39 800.96 1453.08 Q804.154 1455.77 804.154 1460.26 Q804.154 1462.39 803.344 1464.31 Q802.557 1466.2 800.451 1468.8 Q799.872 1469.47 796.77 1472.69 Q793.668 1475.88 788.02 1481.64 Z\" fill=\"#000000\" fill-rule=\"evenodd\" fill-opacity=\"1\" /><path clip-path=\"url(#clip180)\" d=\"M824.154 1454.1 Q820.543 1454.1 818.714 1457.66 Q816.909 1461.2 816.909 1468.33 Q816.909 1475.44 818.714 1479.01 Q820.543 1482.55 824.154 1482.55 Q827.788 1482.55 829.594 1479.01 Q831.423 1475.44 831.423 1468.33 Q831.423 1461.2 829.594 1457.66 Q827.788 1454.1 824.154 1454.1 M824.154 1450.39 Q829.964 1450.39 833.02 1455 Q836.099 1459.58 836.099 1468.33 Q836.099 1477.06 833.02 1481.67 Q829.964 1486.25 824.154 1486.25 Q818.344 1486.25 815.265 1481.67 Q812.21 1477.06 812.21 1468.33 Q812.21 1459.58 815.265 1455 Q818.344 1450.39 824.154 1450.39 Z\" fill=\"#000000\" fill-rule=\"evenodd\" fill-opacity=\"1\" /><path clip-path=\"url(#clip180)\" d=\"M841.562 1470.7 L854.038 1470.7 L854.038 1474.49 L841.562 1474.49 L841.562 1470.7 Z\" fill=\"#000000\" fill-rule=\"evenodd\" fill-opacity=\"1\" /><path clip-path=\"url(#clip180)\" d=\"M871.422 1454.1 Q867.811 1454.1 865.983 1457.66 Q864.177 1461.2 864.177 1468.33 Q864.177 1475.44 865.983 1479.01 Q867.811 1482.55 871.422 1482.55 Q875.057 1482.55 876.862 1479.01 Q878.691 1475.44 878.691 1468.33 Q878.691 1461.2 876.862 1457.66 Q875.057 1454.1 871.422 1454.1 M871.422 1450.39 Q877.233 1450.39 880.288 1455 Q883.367 1459.58 883.367 1468.33 Q883.367 1477.06 880.288 1481.67 Q877.233 1486.25 871.422 1486.25 Q865.612 1486.25 862.534 1481.67 Q859.478 1477.06 859.478 1468.33 Q859.478 1459.58 862.534 1455 Q865.612 1450.39 871.422 1450.39 Z\" fill=\"#000000\" fill-rule=\"evenodd\" fill-opacity=\"1\" /><path clip-path=\"url(#clip180)\" d=\"M902.163 1466.44 Q899.015 1466.44 897.163 1468.59 Q895.334 1470.74 895.334 1474.49 Q895.334 1478.22 897.163 1480.39 Q899.015 1482.55 902.163 1482.55 Q905.311 1482.55 907.14 1480.39 Q908.992 1478.22 908.992 1474.49 Q908.992 1470.74 907.14 1468.59 Q905.311 1466.44 902.163 1466.44 M911.445 1451.78 L911.445 1456.04 Q909.686 1455.21 907.881 1454.77 Q906.098 1454.33 904.339 1454.33 Q899.709 1454.33 897.256 1457.45 Q894.825 1460.58 894.478 1466.9 Q895.844 1464.89 897.904 1463.82 Q899.964 1462.73 902.441 1462.73 Q907.649 1462.73 910.658 1465.9 Q913.691 1469.05 913.691 1474.49 Q913.691 1479.82 910.543 1483.03 Q907.394 1486.25 902.163 1486.25 Q896.168 1486.25 892.996 1481.67 Q889.825 1477.06 889.825 1468.33 Q889.825 1460.14 893.714 1455.28 Q897.603 1450.39 904.154 1450.39 Q905.913 1450.39 907.695 1450.74 Q909.501 1451.09 911.445 1451.78 Z\" fill=\"#000000\" fill-rule=\"evenodd\" fill-opacity=\"1\" /><path clip-path=\"url(#clip180)\" d=\"M918.992 1470.7 L931.468 1470.7 L931.468 1474.49 L918.992 1474.49 L918.992 1470.7 Z\" fill=\"#000000\" fill-rule=\"evenodd\" fill-opacity=\"1\" /><path clip-path=\"url(#clip180)\" d=\"M948.853 1454.1 Q945.242 1454.1 943.413 1457.66 Q941.607 1461.2 941.607 1468.33 Q941.607 1475.44 943.413 1479.01 Q945.242 1482.55 948.853 1482.55 Q952.487 1482.55 954.292 1479.01 Q956.121 1475.44 956.121 1468.33 Q956.121 1461.2 954.292 1457.66 Q952.487 1454.1 948.853 1454.1 M948.853 1450.39 Q954.663 1450.39 957.718 1455 Q960.797 1459.58 960.797 1468.33 Q960.797 1477.06 957.718 1481.67 Q954.663 1486.25 948.853 1486.25 Q943.042 1486.25 939.964 1481.67 Q936.908 1477.06 936.908 1468.33 Q936.908 1459.58 939.964 1455 Q943.042 1450.39 948.853 1450.39 Z\" fill=\"#000000\" fill-rule=\"evenodd\" fill-opacity=\"1\" /><path clip-path=\"url(#clip180)\" d=\"M969.153 1484.86 L969.153 1480.6 Q970.913 1481.44 972.718 1481.88 Q974.524 1482.32 976.26 1482.32 Q980.889 1482.32 983.32 1479.21 Q985.774 1476.09 986.121 1469.75 Q984.778 1471.74 982.718 1472.8 Q980.658 1473.87 978.158 1473.87 Q972.973 1473.87 969.94 1470.74 Q966.931 1467.59 966.931 1462.15 Q966.931 1456.83 970.079 1453.61 Q973.227 1450.39 978.459 1450.39 Q984.454 1450.39 987.602 1455 Q990.774 1459.58 990.774 1468.33 Q990.774 1476.51 986.885 1481.39 Q983.019 1486.25 976.468 1486.25 Q974.709 1486.25 972.903 1485.9 Q971.098 1485.56 969.153 1484.86 M978.459 1470.21 Q981.607 1470.21 983.436 1468.06 Q985.288 1465.9 985.288 1462.15 Q985.288 1458.43 983.436 1456.27 Q981.607 1454.1 978.459 1454.1 Q975.311 1454.1 973.459 1456.27 Q971.63 1458.43 971.63 1462.15 Q971.63 1465.9 973.459 1468.06 Q975.311 1470.21 978.459 1470.21 Z\" fill=\"#000000\" fill-rule=\"evenodd\" fill-opacity=\"1\" /><path clip-path=\"url(#clip180)\" d=\"M1275.41 1481.64 L1291.73 1481.64 L1291.73 1485.58 L1269.79 1485.58 L1269.79 1481.64 Q1272.45 1478.89 1277.03 1474.26 Q1281.64 1469.61 1282.82 1468.27 Q1285.06 1465.74 1285.94 1464.01 Q1286.85 1462.25 1286.85 1460.56 Q1286.85 1457.8 1284.9 1456.07 Q1282.98 1454.33 1279.88 1454.33 Q1277.68 1454.33 1275.23 1455.09 Q1272.8 1455.86 1270.02 1457.41 L1270.02 1452.69 Q1272.84 1451.55 1275.3 1450.97 Q1277.75 1450.39 1279.79 1450.39 Q1285.16 1450.39 1288.35 1453.08 Q1291.54 1455.77 1291.54 1460.26 Q1291.54 1462.39 1290.73 1464.31 Q1289.95 1466.2 1287.84 1468.8 Q1287.26 1469.47 1284.16 1472.69 Q1281.06 1475.88 1275.41 1481.64 Z\" fill=\"#000000\" fill-rule=\"evenodd\" fill-opacity=\"1\" /><path clip-path=\"url(#clip180)\" d=\"M1311.54 1454.1 Q1307.93 1454.1 1306.11 1457.66 Q1304.3 1461.2 1304.3 1468.33 Q1304.3 1475.44 1306.11 1479.01 Q1307.93 1482.55 1311.54 1482.55 Q1315.18 1482.55 1316.98 1479.01 Q1318.81 1475.44 1318.81 1468.33 Q1318.81 1461.2 1316.98 1457.66 Q1315.18 1454.1 1311.54 1454.1 M1311.54 1450.39 Q1317.35 1450.39 1320.41 1455 Q1323.49 1459.58 1323.49 1468.33 Q1323.49 1477.06 1320.41 1481.67 Q1317.35 1486.25 1311.54 1486.25 Q1305.73 1486.25 1302.66 1481.67 Q1299.6 1477.06 1299.6 1468.33 Q1299.6 1459.58 1302.66 1455 Q1305.73 1450.39 1311.54 1450.39 Z\" fill=\"#000000\" fill-rule=\"evenodd\" fill-opacity=\"1\" /><path clip-path=\"url(#clip180)\" d=\"M1335.73 1481.64 L1352.05 1481.64 L1352.05 1485.58 L1330.11 1485.58 L1330.11 1481.64 Q1332.77 1478.89 1337.35 1474.26 Q1341.96 1469.61 1343.14 1468.27 Q1345.39 1465.74 1346.27 1464.01 Q1347.17 1462.25 1347.17 1460.56 Q1347.17 1457.8 1345.23 1456.07 Q1343.3 1454.33 1340.2 1454.33 Q1338 1454.33 1335.55 1455.09 Q1333.12 1455.86 1330.34 1457.41 L1330.34 1452.69 Q1333.17 1451.55 1335.62 1450.97 Q1338.07 1450.39 1340.11 1450.39 Q1345.48 1450.39 1348.67 1453.08 Q1351.87 1455.77 1351.87 1460.26 Q1351.87 1462.39 1351.06 1464.31 Q1350.27 1466.2 1348.17 1468.8 Q1347.59 1469.47 1344.48 1472.69 Q1341.38 1475.88 1335.73 1481.64 Z\" fill=\"#000000\" fill-rule=\"evenodd\" fill-opacity=\"1\" /><path clip-path=\"url(#clip180)\" d=\"M1371.87 1454.1 Q1368.26 1454.1 1366.43 1457.66 Q1364.62 1461.2 1364.62 1468.33 Q1364.62 1475.44 1366.43 1479.01 Q1368.26 1482.55 1371.87 1482.55 Q1375.5 1482.55 1377.31 1479.01 Q1379.14 1475.44 1379.14 1468.33 Q1379.14 1461.2 1377.31 1457.66 Q1375.5 1454.1 1371.87 1454.1 M1371.87 1450.39 Q1377.68 1450.39 1380.73 1455 Q1383.81 1459.58 1383.81 1468.33 Q1383.81 1477.06 1380.73 1481.67 Q1377.68 1486.25 1371.87 1486.25 Q1366.06 1486.25 1362.98 1481.67 Q1359.92 1477.06 1359.92 1468.33 Q1359.92 1459.58 1362.98 1455 Q1366.06 1450.39 1371.87 1450.39 Z\" fill=\"#000000\" fill-rule=\"evenodd\" fill-opacity=\"1\" /><path clip-path=\"url(#clip180)\" d=\"M1389.28 1470.7 L1401.75 1470.7 L1401.75 1474.49 L1389.28 1474.49 L1389.28 1470.7 Z\" fill=\"#000000\" fill-rule=\"evenodd\" fill-opacity=\"1\" /><path clip-path=\"url(#clip180)\" d=\"M1419.14 1454.1 Q1415.53 1454.1 1413.7 1457.66 Q1411.89 1461.2 1411.89 1468.33 Q1411.89 1475.44 1413.7 1479.01 Q1415.53 1482.55 1419.14 1482.55 Q1422.77 1482.55 1424.58 1479.01 Q1426.41 1475.44 1426.41 1468.33 Q1426.41 1461.2 1424.58 1457.66 Q1422.77 1454.1 1419.14 1454.1 M1419.14 1450.39 Q1424.95 1450.39 1428 1455 Q1431.08 1459.58 1431.08 1468.33 Q1431.08 1477.06 1428 1481.67 Q1424.95 1486.25 1419.14 1486.25 Q1413.33 1486.25 1410.25 1481.67 Q1407.19 1477.06 1407.19 1468.33 Q1407.19 1459.58 1410.25 1455 Q1413.33 1450.39 1419.14 1450.39 Z\" fill=\"#000000\" fill-rule=\"evenodd\" fill-opacity=\"1\" /><path clip-path=\"url(#clip180)\" d=\"M1449.88 1466.44 Q1446.73 1466.44 1444.88 1468.59 Q1443.05 1470.74 1443.05 1474.49 Q1443.05 1478.22 1444.88 1480.39 Q1446.73 1482.55 1449.88 1482.55 Q1453.03 1482.55 1454.85 1480.39 Q1456.71 1478.22 1456.71 1474.49 Q1456.71 1470.74 1454.85 1468.59 Q1453.03 1466.44 1449.88 1466.44 M1459.16 1451.78 L1459.16 1456.04 Q1457.4 1455.21 1455.59 1454.77 Q1453.81 1454.33 1452.05 1454.33 Q1447.42 1454.33 1444.97 1457.45 Q1442.54 1460.58 1442.19 1466.9 Q1443.56 1464.89 1445.62 1463.82 Q1447.68 1462.73 1450.16 1462.73 Q1455.36 1462.73 1458.37 1465.9 Q1461.41 1469.05 1461.41 1474.49 Q1461.41 1479.82 1458.26 1483.03 Q1455.11 1486.25 1449.88 1486.25 Q1443.88 1486.25 1440.71 1481.67 Q1437.54 1477.06 1437.54 1468.33 Q1437.54 1460.14 1441.43 1455.28 Q1445.32 1450.39 1451.87 1450.39 Q1453.63 1450.39 1455.41 1450.74 Q1457.22 1451.09 1459.16 1451.78 Z\" fill=\"#000000\" fill-rule=\"evenodd\" fill-opacity=\"1\" /><path clip-path=\"url(#clip180)\" d=\"M1466.71 1470.7 L1479.18 1470.7 L1479.18 1474.49 L1466.71 1474.49 L1466.71 1470.7 Z\" fill=\"#000000\" fill-rule=\"evenodd\" fill-opacity=\"1\" /><path clip-path=\"url(#clip180)\" d=\"M1487.38 1481.64 L1495.02 1481.64 L1495.02 1455.28 L1486.71 1456.95 L1486.71 1452.69 L1494.97 1451.02 L1499.65 1451.02 L1499.65 1481.64 L1507.28 1481.64 L1507.28 1485.58 L1487.38 1485.58 L1487.38 1481.64 Z\" fill=\"#000000\" fill-rule=\"evenodd\" fill-opacity=\"1\" /><path clip-path=\"url(#clip180)\" d=\"M1515.55 1451.02 L1537.77 1451.02 L1537.77 1453.01 L1525.22 1485.58 L1520.34 1485.58 L1532.15 1454.96 L1515.55 1454.96 L1515.55 1451.02 Z\" fill=\"#000000\" fill-rule=\"evenodd\" fill-opacity=\"1\" /><path clip-path=\"url(#clip180)\" d=\"M1822.81 1481.64 L1839.13 1481.64 L1839.13 1485.58 L1817.19 1485.58 L1817.19 1481.64 Q1819.85 1478.89 1824.43 1474.26 Q1829.04 1469.61 1830.22 1468.27 Q1832.47 1465.74 1833.35 1464.01 Q1834.25 1462.25 1834.25 1460.56 Q1834.25 1457.8 1832.3 1456.07 Q1830.38 1454.33 1827.28 1454.33 Q1825.08 1454.33 1822.63 1455.09 Q1820.2 1455.86 1817.42 1457.41 L1817.42 1452.69 Q1820.24 1451.55 1822.7 1450.97 Q1825.15 1450.39 1827.19 1450.39 Q1832.56 1450.39 1835.75 1453.08 Q1838.95 1455.77 1838.95 1460.26 Q1838.95 1462.39 1838.14 1464.31 Q1837.35 1466.2 1835.24 1468.8 Q1834.66 1469.47 1831.56 1472.69 Q1828.46 1475.88 1822.81 1481.64 Z\" fill=\"#000000\" fill-rule=\"evenodd\" fill-opacity=\"1\" /><path clip-path=\"url(#clip180)\" d=\"M1858.95 1454.1 Q1855.34 1454.1 1853.51 1457.66 Q1851.7 1461.2 1851.7 1468.33 Q1851.7 1475.44 1853.51 1479.01 Q1855.34 1482.55 1858.95 1482.55 Q1862.58 1482.55 1864.39 1479.01 Q1866.22 1475.44 1866.22 1468.33 Q1866.22 1461.2 1864.39 1457.66 Q1862.58 1454.1 1858.95 1454.1 M1858.95 1450.39 Q1864.76 1450.39 1867.81 1455 Q1870.89 1459.58 1870.89 1468.33 Q1870.89 1477.06 1867.81 1481.67 Q1864.76 1486.25 1858.95 1486.25 Q1853.14 1486.25 1850.06 1481.67 Q1847 1477.06 1847 1468.33 Q1847 1459.58 1850.06 1455 Q1853.14 1450.39 1858.95 1450.39 Z\" fill=\"#000000\" fill-rule=\"evenodd\" fill-opacity=\"1\" /><path clip-path=\"url(#clip180)\" d=\"M1883.14 1481.64 L1899.46 1481.64 L1899.46 1485.58 L1877.51 1485.58 L1877.51 1481.64 Q1880.17 1478.89 1884.76 1474.26 Q1889.36 1469.61 1890.54 1468.27 Q1892.79 1465.74 1893.67 1464.01 Q1894.57 1462.25 1894.57 1460.56 Q1894.57 1457.8 1892.63 1456.07 Q1890.71 1454.33 1887.6 1454.33 Q1885.4 1454.33 1882.95 1455.09 Q1880.52 1455.86 1877.74 1457.41 L1877.74 1452.69 Q1880.57 1451.55 1883.02 1450.97 Q1885.47 1450.39 1887.51 1450.39 Q1892.88 1450.39 1896.08 1453.08 Q1899.27 1455.77 1899.27 1460.26 Q1899.27 1462.39 1898.46 1464.31 Q1897.67 1466.2 1895.57 1468.8 Q1894.99 1469.47 1891.89 1472.69 Q1888.78 1475.88 1883.14 1481.64 Z\" fill=\"#000000\" fill-rule=\"evenodd\" fill-opacity=\"1\" /><path clip-path=\"url(#clip180)\" d=\"M1919.27 1454.1 Q1915.66 1454.1 1913.83 1457.66 Q1912.03 1461.2 1912.03 1468.33 Q1912.03 1475.44 1913.83 1479.01 Q1915.66 1482.55 1919.27 1482.55 Q1922.9 1482.55 1924.71 1479.01 Q1926.54 1475.44 1926.54 1468.33 Q1926.54 1461.2 1924.71 1457.66 Q1922.9 1454.1 1919.27 1454.1 M1919.27 1450.39 Q1925.08 1450.39 1928.14 1455 Q1931.21 1459.58 1931.21 1468.33 Q1931.21 1477.06 1928.14 1481.67 Q1925.08 1486.25 1919.27 1486.25 Q1913.46 1486.25 1910.38 1481.67 Q1907.33 1477.06 1907.33 1468.33 Q1907.33 1459.58 1910.38 1455 Q1913.46 1450.39 1919.27 1450.39 Z\" fill=\"#000000\" fill-rule=\"evenodd\" fill-opacity=\"1\" /><path clip-path=\"url(#clip180)\" d=\"M1936.68 1470.7 L1949.15 1470.7 L1949.15 1474.49 L1936.68 1474.49 L1936.68 1470.7 Z\" fill=\"#000000\" fill-rule=\"evenodd\" fill-opacity=\"1\" /><path clip-path=\"url(#clip180)\" d=\"M1966.54 1454.1 Q1962.93 1454.1 1961.1 1457.66 Q1959.29 1461.2 1959.29 1468.33 Q1959.29 1475.44 1961.1 1479.01 Q1962.93 1482.55 1966.54 1482.55 Q1970.17 1482.55 1971.98 1479.01 Q1973.81 1475.44 1973.81 1468.33 Q1973.81 1461.2 1971.98 1457.66 Q1970.17 1454.1 1966.54 1454.1 M1966.54 1450.39 Q1972.35 1450.39 1975.4 1455 Q1978.48 1459.58 1978.48 1468.33 Q1978.48 1477.06 1975.4 1481.67 Q1972.35 1486.25 1966.54 1486.25 Q1960.73 1486.25 1957.65 1481.67 Q1954.59 1477.06 1954.59 1468.33 Q1954.59 1459.58 1957.65 1455 Q1960.73 1450.39 1966.54 1450.39 Z\" fill=\"#000000\" fill-rule=\"evenodd\" fill-opacity=\"1\" /><path clip-path=\"url(#clip180)\" d=\"M1997.28 1466.44 Q1994.13 1466.44 1992.28 1468.59 Q1990.45 1470.74 1990.45 1474.49 Q1990.45 1478.22 1992.28 1480.39 Q1994.13 1482.55 1997.28 1482.55 Q2000.43 1482.55 2002.26 1480.39 Q2004.11 1478.22 2004.11 1474.49 Q2004.11 1470.74 2002.26 1468.59 Q2000.43 1466.44 1997.28 1466.44 M2006.56 1451.78 L2006.56 1456.04 Q2004.8 1455.21 2003 1454.77 Q2001.21 1454.33 1999.46 1454.33 Q1994.83 1454.33 1992.37 1457.45 Q1989.94 1460.58 1989.59 1466.9 Q1990.96 1464.89 1993.02 1463.82 Q1995.08 1462.73 1997.56 1462.73 Q2002.77 1462.73 2005.77 1465.9 Q2008.81 1469.05 2008.81 1474.49 Q2008.81 1479.82 2005.66 1483.03 Q2002.51 1486.25 1997.28 1486.25 Q1991.28 1486.25 1988.11 1481.67 Q1984.94 1477.06 1984.94 1468.33 Q1984.94 1460.14 1988.83 1455.28 Q1992.72 1450.39 1999.27 1450.39 Q2001.03 1450.39 2002.81 1450.74 Q2004.62 1451.09 2006.56 1451.78 Z\" fill=\"#000000\" fill-rule=\"evenodd\" fill-opacity=\"1\" /><path clip-path=\"url(#clip180)\" d=\"M2014.11 1470.7 L2026.58 1470.7 L2026.58 1474.49 L2014.11 1474.49 L2014.11 1470.7 Z\" fill=\"#000000\" fill-rule=\"evenodd\" fill-opacity=\"1\" /><path clip-path=\"url(#clip180)\" d=\"M2038 1481.64 L2054.32 1481.64 L2054.32 1485.58 L2032.37 1485.58 L2032.37 1481.64 Q2035.03 1478.89 2039.62 1474.26 Q2044.22 1469.61 2045.4 1468.27 Q2047.65 1465.74 2048.53 1464.01 Q2049.43 1462.25 2049.43 1460.56 Q2049.43 1457.8 2047.49 1456.07 Q2045.57 1454.33 2042.46 1454.33 Q2040.27 1454.33 2037.81 1455.09 Q2035.38 1455.86 2032.6 1457.41 L2032.6 1452.69 Q2035.43 1451.55 2037.88 1450.97 Q2040.33 1450.39 2042.37 1450.39 Q2047.74 1450.39 2050.94 1453.08 Q2054.13 1455.77 2054.13 1460.26 Q2054.13 1462.39 2053.32 1464.31 Q2052.53 1466.2 2050.43 1468.8 Q2049.85 1469.47 2046.75 1472.69 Q2043.64 1475.88 2038 1481.64 Z\" fill=\"#000000\" fill-rule=\"evenodd\" fill-opacity=\"1\" /><path clip-path=\"url(#clip180)\" d=\"M2064.18 1451.02 L2082.53 1451.02 L2082.53 1454.96 L2068.46 1454.96 L2068.46 1463.43 Q2069.48 1463.08 2070.5 1462.92 Q2071.52 1462.73 2072.53 1462.73 Q2078.32 1462.73 2081.7 1465.9 Q2085.08 1469.08 2085.08 1474.49 Q2085.08 1480.07 2081.61 1483.17 Q2078.14 1486.25 2071.82 1486.25 Q2069.64 1486.25 2067.37 1485.88 Q2065.13 1485.51 2062.72 1484.77 L2062.72 1480.07 Q2064.8 1481.2 2067.02 1481.76 Q2069.25 1482.32 2071.72 1482.32 Q2075.73 1482.32 2078.07 1480.21 Q2080.4 1478.1 2080.4 1474.49 Q2080.4 1470.88 2078.07 1468.77 Q2075.73 1466.67 2071.72 1466.67 Q2069.85 1466.67 2067.97 1467.08 Q2066.12 1467.5 2064.18 1468.38 L2064.18 1451.02 Z\" fill=\"#000000\" fill-rule=\"evenodd\" fill-opacity=\"1\" /><path clip-path=\"url(#clip180)\" d=\"M1269.97 1537.81 L1269.97 1518.52 L1275.83 1518.52 L1275.83 1568.04 L1269.97 1568.04 L1269.97 1562.7 Q1268.13 1565.88 1265.29 1567.44 Q1262.49 1568.97 1258.55 1568.97 Q1252.09 1568.97 1248.01 1563.81 Q1243.97 1558.65 1243.97 1550.25 Q1243.97 1541.85 1248.01 1536.69 Q1252.09 1531.54 1258.55 1531.54 Q1262.49 1531.54 1265.29 1533.1 Q1268.13 1534.62 1269.97 1537.81 M1250.02 1550.25 Q1250.02 1556.71 1252.66 1560.4 Q1255.33 1564.07 1259.98 1564.07 Q1264.63 1564.07 1267.3 1560.4 Q1269.97 1556.71 1269.97 1550.25 Q1269.97 1543.79 1267.3 1540.13 Q1264.63 1536.44 1259.98 1536.44 Q1255.33 1536.44 1252.66 1540.13 Q1250.02 1543.79 1250.02 1550.25 Z\" fill=\"#000000\" fill-rule=\"evenodd\" fill-opacity=\"1\" /><path clip-path=\"url(#clip180)\" d=\"M1304.09 1550.12 Q1297 1550.12 1294.26 1551.75 Q1291.52 1553.37 1291.52 1557.29 Q1291.52 1560.4 1293.56 1562.25 Q1295.63 1564.07 1299.16 1564.07 Q1304.03 1564.07 1306.96 1560.63 Q1309.92 1557.16 1309.92 1551.43 L1309.92 1550.12 L1304.09 1550.12 M1315.77 1547.71 L1315.77 1568.04 L1309.92 1568.04 L1309.92 1562.63 Q1307.91 1565.88 1304.92 1567.44 Q1301.93 1568.97 1297.6 1568.97 Q1292.13 1568.97 1288.88 1565.91 Q1285.66 1562.82 1285.66 1557.67 Q1285.66 1551.65 1289.67 1548.6 Q1293.72 1545.54 1301.71 1545.54 L1309.92 1545.54 L1309.92 1544.97 Q1309.92 1540.93 1307.24 1538.73 Q1304.6 1536.5 1299.8 1536.5 Q1296.74 1536.5 1293.84 1537.23 Q1290.95 1537.97 1288.27 1539.43 L1288.27 1534.02 Q1291.49 1532.78 1294.51 1532.17 Q1297.54 1531.54 1300.4 1531.54 Q1308.14 1531.54 1311.95 1535.55 Q1315.77 1539.56 1315.77 1547.71 Z\" fill=\"#000000\" fill-rule=\"evenodd\" fill-opacity=\"1\" /><path clip-path=\"url(#clip180)\" d=\"M1342.67 1571.35 Q1340.19 1577.72 1337.83 1579.66 Q1335.48 1581.6 1331.53 1581.6 L1326.85 1581.6 L1326.85 1576.7 L1330.29 1576.7 Q1332.71 1576.7 1334.04 1575.56 Q1335.38 1574.41 1337 1570.14 L1338.05 1567.47 L1323.64 1532.4 L1329.84 1532.4 L1340.98 1560.28 L1352.12 1532.4 L1358.33 1532.4 L1342.67 1571.35 Z\" fill=\"#000000\" fill-rule=\"evenodd\" fill-opacity=\"1\" /><polyline clip-path=\"url(#clip182)\" style=\"stroke:#000000; stroke-linecap:butt; stroke-linejoin:round; stroke-width:2; stroke-opacity:0.1; fill:none\" points=\"\n",
       "  249.542,1137.82 2352.76,1137.82 \n",
       "  \"/>\n",
       "<polyline clip-path=\"url(#clip182)\" style=\"stroke:#000000; stroke-linecap:butt; stroke-linejoin:round; stroke-width:2; stroke-opacity:0.1; fill:none\" points=\"\n",
       "  249.542,790.744 2352.76,790.744 \n",
       "  \"/>\n",
       "<polyline clip-path=\"url(#clip182)\" style=\"stroke:#000000; stroke-linecap:butt; stroke-linejoin:round; stroke-width:2; stroke-opacity:0.1; fill:none\" points=\"\n",
       "  249.542,443.671 2352.76,443.671 \n",
       "  \"/>\n",
       "<polyline clip-path=\"url(#clip182)\" style=\"stroke:#000000; stroke-linecap:butt; stroke-linejoin:round; stroke-width:2; stroke-opacity:0.1; fill:none\" points=\"\n",
       "  249.542,96.5979 2352.76,96.5979 \n",
       "  \"/>\n",
       "<polyline clip-path=\"url(#clip180)\" style=\"stroke:#000000; stroke-linecap:butt; stroke-linejoin:round; stroke-width:4; stroke-opacity:1; fill:none\" points=\"\n",
       "  249.542,1423.18 249.542,47.2441 \n",
       "  \"/>\n",
       "<polyline clip-path=\"url(#clip180)\" style=\"stroke:#000000; stroke-linecap:butt; stroke-linejoin:round; stroke-width:4; stroke-opacity:1; fill:none\" points=\"\n",
       "  249.542,1137.82 268.44,1137.82 \n",
       "  \"/>\n",
       "<polyline clip-path=\"url(#clip180)\" style=\"stroke:#000000; stroke-linecap:butt; stroke-linejoin:round; stroke-width:4; stroke-opacity:1; fill:none\" points=\"\n",
       "  249.542,790.744 268.44,790.744 \n",
       "  \"/>\n",
       "<polyline clip-path=\"url(#clip180)\" style=\"stroke:#000000; stroke-linecap:butt; stroke-linejoin:round; stroke-width:4; stroke-opacity:1; fill:none\" points=\"\n",
       "  249.542,443.671 268.44,443.671 \n",
       "  \"/>\n",
       "<polyline clip-path=\"url(#clip180)\" style=\"stroke:#000000; stroke-linecap:butt; stroke-linejoin:round; stroke-width:4; stroke-opacity:1; fill:none\" points=\"\n",
       "  249.542,96.5979 268.44,96.5979 \n",
       "  \"/>\n",
       "<path clip-path=\"url(#clip180)\" d=\"M131.968 1136.46 Q135.325 1137.18 137.2 1139.45 Q139.098 1141.72 139.098 1145.05 Q139.098 1150.17 135.579 1152.97 Q132.061 1155.77 125.58 1155.77 Q123.404 1155.77 121.089 1155.33 Q118.797 1154.91 116.343 1154.05 L116.343 1149.54 Q118.288 1150.68 120.603 1151.25 Q122.918 1151.83 125.441 1151.83 Q129.839 1151.83 132.13 1150.1 Q134.445 1148.36 134.445 1145.05 Q134.445 1141.99 132.292 1140.28 Q130.163 1138.55 126.343 1138.55 L122.316 1138.55 L122.316 1134.7 L126.529 1134.7 Q129.978 1134.7 131.806 1133.34 Q133.635 1131.95 133.635 1129.36 Q133.635 1126.69 131.737 1125.28 Q129.862 1123.85 126.343 1123.85 Q124.422 1123.85 122.223 1124.26 Q120.024 1124.68 117.385 1125.56 L117.385 1121.39 Q120.047 1120.65 122.362 1120.28 Q124.7 1119.91 126.76 1119.91 Q132.084 1119.91 135.186 1122.34 Q138.288 1124.75 138.288 1128.87 Q138.288 1131.74 136.644 1133.73 Q135.001 1135.7 131.968 1136.46 Z\" fill=\"#000000\" fill-rule=\"evenodd\" fill-opacity=\"1\" /><path clip-path=\"url(#clip180)\" d=\"M147.964 1149.22 L152.848 1149.22 L152.848 1155.1 L147.964 1155.1 L147.964 1149.22 Z\" fill=\"#000000\" fill-rule=\"evenodd\" fill-opacity=\"1\" /><path clip-path=\"url(#clip180)\" d=\"M163.172 1154.38 L163.172 1150.12 Q164.931 1150.95 166.737 1151.39 Q168.542 1151.83 170.278 1151.83 Q174.908 1151.83 177.339 1148.73 Q179.792 1145.61 180.139 1139.26 Q178.797 1141.25 176.737 1142.32 Q174.677 1143.38 172.177 1143.38 Q166.991 1143.38 163.959 1140.26 Q160.95 1137.11 160.95 1131.67 Q160.95 1126.35 164.098 1123.13 Q167.246 1119.91 172.477 1119.91 Q178.473 1119.91 181.621 1124.52 Q184.792 1129.1 184.792 1137.85 Q184.792 1146.02 180.903 1150.91 Q177.038 1155.77 170.487 1155.77 Q168.727 1155.77 166.922 1155.42 Q165.116 1155.07 163.172 1154.38 M172.477 1139.73 Q175.626 1139.73 177.454 1137.57 Q179.306 1135.42 179.306 1131.67 Q179.306 1127.94 177.454 1125.79 Q175.626 1123.62 172.477 1123.62 Q169.329 1123.62 167.477 1125.79 Q165.649 1127.94 165.649 1131.67 Q165.649 1135.42 167.477 1137.57 Q169.329 1139.73 172.477 1139.73 Z\" fill=\"#000000\" fill-rule=\"evenodd\" fill-opacity=\"1\" /><path clip-path=\"url(#clip180)\" d=\"M197.223 1151.16 L213.542 1151.16 L213.542 1155.1 L191.598 1155.1 L191.598 1151.16 Q194.26 1148.41 198.843 1143.78 Q203.449 1139.12 204.63 1137.78 Q206.875 1135.26 207.755 1133.52 Q208.658 1131.76 208.658 1130.07 Q208.658 1127.32 206.713 1125.58 Q204.792 1123.85 201.69 1123.85 Q199.491 1123.85 197.037 1124.61 Q194.607 1125.37 191.829 1126.93 L191.829 1122.2 Q194.653 1121.07 197.107 1120.49 Q199.561 1119.91 201.598 1119.91 Q206.968 1119.91 210.162 1122.6 Q213.357 1125.28 213.357 1129.77 Q213.357 1131.9 212.547 1133.82 Q211.76 1135.72 209.653 1138.31 Q209.074 1138.99 205.973 1142.2 Q202.871 1145.4 197.223 1151.16 Z\" fill=\"#000000\" fill-rule=\"evenodd\" fill-opacity=\"1\" /><path clip-path=\"url(#clip180)\" d=\"M129.885 789.389 Q133.242 790.107 135.117 792.376 Q137.015 794.644 137.015 797.977 Q137.015 803.093 133.496 805.894 Q129.978 808.695 123.496 808.695 Q121.32 808.695 119.006 808.255 Q116.714 807.838 114.26 806.982 L114.26 802.468 Q116.205 803.602 118.519 804.181 Q120.834 804.76 123.357 804.76 Q127.755 804.76 130.047 803.024 Q132.362 801.288 132.362 797.977 Q132.362 794.922 130.209 793.209 Q128.08 791.473 124.26 791.473 L120.232 791.473 L120.232 787.63 L124.445 787.63 Q127.894 787.63 129.723 786.264 Q131.552 784.876 131.552 782.283 Q131.552 779.621 129.654 778.209 Q127.779 776.774 124.26 776.774 Q122.339 776.774 120.14 777.19 Q117.941 777.607 115.302 778.487 L115.302 774.32 Q117.964 773.579 120.279 773.209 Q122.617 772.839 124.677 772.839 Q130.001 772.839 133.103 775.269 Q136.204 777.677 136.204 781.797 Q136.204 784.667 134.561 786.658 Q132.917 788.626 129.885 789.389 Z\" fill=\"#000000\" fill-rule=\"evenodd\" fill-opacity=\"1\" /><path clip-path=\"url(#clip180)\" d=\"M145.88 802.144 L150.765 802.144 L150.765 808.024 L145.88 808.024 L145.88 802.144 Z\" fill=\"#000000\" fill-rule=\"evenodd\" fill-opacity=\"1\" /><path clip-path=\"url(#clip180)\" d=\"M161.089 807.306 L161.089 803.047 Q162.848 803.88 164.653 804.32 Q166.459 804.76 168.195 804.76 Q172.825 804.76 175.255 801.658 Q177.709 798.533 178.056 792.19 Q176.714 794.181 174.653 795.246 Q172.593 796.311 170.093 796.311 Q164.908 796.311 161.876 793.186 Q158.866 790.038 158.866 784.598 Q158.866 779.274 162.015 776.056 Q165.163 772.839 170.394 772.839 Q176.389 772.839 179.538 777.445 Q182.709 782.028 182.709 790.778 Q182.709 798.95 178.82 803.834 Q174.954 808.695 168.403 808.695 Q166.644 808.695 164.839 808.348 Q163.033 808 161.089 807.306 M170.394 792.653 Q173.542 792.653 175.371 790.501 Q177.223 788.348 177.223 784.598 Q177.223 780.871 175.371 778.718 Q173.542 776.542 170.394 776.542 Q167.246 776.542 165.394 778.718 Q163.565 780.871 163.565 784.598 Q163.565 788.348 165.394 790.501 Q167.246 792.653 170.394 792.653 Z\" fill=\"#000000\" fill-rule=\"evenodd\" fill-opacity=\"1\" /><path clip-path=\"url(#clip180)\" d=\"M203.959 777.538 L192.153 795.987 L203.959 795.987 L203.959 777.538 M202.732 773.464 L208.612 773.464 L208.612 795.987 L213.542 795.987 L213.542 799.876 L208.612 799.876 L208.612 808.024 L203.959 808.024 L203.959 799.876 L188.357 799.876 L188.357 795.362 L202.732 773.464 Z\" fill=\"#000000\" fill-rule=\"evenodd\" fill-opacity=\"1\" /><path clip-path=\"url(#clip180)\" d=\"M130.209 442.317 Q133.566 443.034 135.441 445.303 Q137.339 447.571 137.339 450.905 Q137.339 456.02 133.82 458.821 Q130.302 461.622 123.82 461.622 Q121.644 461.622 119.33 461.182 Q117.038 460.766 114.584 459.909 L114.584 455.395 Q116.529 456.529 118.843 457.108 Q121.158 457.687 123.681 457.687 Q128.08 457.687 130.371 455.951 Q132.686 454.215 132.686 450.905 Q132.686 447.849 130.533 446.136 Q128.404 444.4 124.584 444.4 L120.556 444.4 L120.556 440.557 L124.769 440.557 Q128.218 440.557 130.047 439.192 Q131.876 437.803 131.876 435.21 Q131.876 432.548 129.978 431.136 Q128.103 429.701 124.584 429.701 Q122.663 429.701 120.464 430.118 Q118.265 430.534 115.626 431.414 L115.626 427.247 Q118.288 426.506 120.603 426.136 Q122.941 425.766 125.001 425.766 Q130.325 425.766 133.427 428.196 Q136.529 430.604 136.529 434.724 Q136.529 437.594 134.885 439.585 Q133.242 441.553 130.209 442.317 Z\" fill=\"#000000\" fill-rule=\"evenodd\" fill-opacity=\"1\" /><path clip-path=\"url(#clip180)\" d=\"M146.204 455.071 L151.089 455.071 L151.089 460.951 L146.204 460.951 L146.204 455.071 Z\" fill=\"#000000\" fill-rule=\"evenodd\" fill-opacity=\"1\" /><path clip-path=\"url(#clip180)\" d=\"M161.413 460.233 L161.413 455.974 Q163.172 456.807 164.977 457.247 Q166.783 457.687 168.519 457.687 Q173.149 457.687 175.579 454.585 Q178.033 451.46 178.38 445.117 Q177.038 447.108 174.977 448.173 Q172.917 449.238 170.417 449.238 Q165.232 449.238 162.2 446.113 Q159.19 442.965 159.19 437.525 Q159.19 432.201 162.339 428.983 Q165.487 425.766 170.718 425.766 Q176.714 425.766 179.862 430.372 Q183.033 434.956 183.033 443.705 Q183.033 451.877 179.144 456.761 Q175.278 461.622 168.727 461.622 Q166.968 461.622 165.163 461.275 Q163.357 460.928 161.413 460.233 M170.718 445.58 Q173.866 445.58 175.695 443.428 Q177.547 441.275 177.547 437.525 Q177.547 433.798 175.695 431.645 Q173.866 429.469 170.718 429.469 Q167.57 429.469 165.718 431.645 Q163.89 433.798 163.89 437.525 Q163.89 441.275 165.718 443.428 Q167.57 445.58 170.718 445.58 Z\" fill=\"#000000\" fill-rule=\"evenodd\" fill-opacity=\"1\" /><path clip-path=\"url(#clip180)\" d=\"M202.014 441.807 Q198.866 441.807 197.014 443.96 Q195.186 446.113 195.186 449.863 Q195.186 453.59 197.014 455.766 Q198.866 457.918 202.014 457.918 Q205.162 457.918 206.991 455.766 Q208.843 453.59 208.843 449.863 Q208.843 446.113 206.991 443.96 Q205.162 441.807 202.014 441.807 M211.297 427.155 L211.297 431.414 Q209.537 430.581 207.732 430.141 Q205.949 429.701 204.19 429.701 Q199.561 429.701 197.107 432.826 Q194.676 435.951 194.329 442.27 Q195.695 440.256 197.755 439.192 Q199.815 438.104 202.292 438.104 Q207.5 438.104 210.51 441.275 Q213.542 444.423 213.542 449.863 Q213.542 455.187 210.394 458.404 Q207.246 461.622 202.014 461.622 Q196.019 461.622 192.848 457.039 Q189.676 452.432 189.676 443.705 Q189.676 435.511 193.565 430.65 Q197.454 425.766 204.005 425.766 Q205.764 425.766 207.547 426.113 Q209.352 426.46 211.297 427.155 Z\" fill=\"#000000\" fill-rule=\"evenodd\" fill-opacity=\"1\" /><path clip-path=\"url(#clip180)\" d=\"M130.464 95.2437 Q133.82 95.9613 135.695 98.2298 Q137.593 100.498 137.593 103.832 Q137.593 108.947 134.075 111.748 Q130.556 114.549 124.075 114.549 Q121.899 114.549 119.584 114.109 Q117.293 113.693 114.839 112.836 L114.839 108.322 Q116.783 109.457 119.098 110.035 Q121.413 110.614 123.936 110.614 Q128.334 110.614 130.626 108.878 Q132.941 107.142 132.941 103.832 Q132.941 100.776 130.788 99.0631 Q128.658 97.327 124.839 97.327 L120.811 97.327 L120.811 93.4844 L125.024 93.4844 Q128.473 93.4844 130.302 92.1187 Q132.13 90.7298 132.13 88.1373 Q132.13 85.4752 130.232 84.0632 Q128.357 82.628 124.839 82.628 Q122.918 82.628 120.718 83.0447 Q118.519 83.4614 115.881 84.341 L115.881 80.1743 Q118.543 79.4336 120.857 79.0632 Q123.195 78.6929 125.255 78.6929 Q130.58 78.6929 133.681 81.1234 Q136.783 83.5308 136.783 87.6511 Q136.783 90.5215 135.14 92.5122 Q133.496 94.4798 130.464 95.2437 Z\" fill=\"#000000\" fill-rule=\"evenodd\" fill-opacity=\"1\" /><path clip-path=\"url(#clip180)\" d=\"M146.459 107.998 L151.343 107.998 L151.343 113.878 L146.459 113.878 L146.459 107.998 Z\" fill=\"#000000\" fill-rule=\"evenodd\" fill-opacity=\"1\" /><path clip-path=\"url(#clip180)\" d=\"M161.667 113.16 L161.667 108.901 Q163.427 109.734 165.232 110.174 Q167.038 110.614 168.774 110.614 Q173.403 110.614 175.834 107.512 Q178.288 104.387 178.635 98.0446 Q177.292 100.035 175.232 101.1 Q173.172 102.165 170.672 102.165 Q165.487 102.165 162.454 99.04 Q159.445 95.8918 159.445 90.4521 Q159.445 85.128 162.593 81.9104 Q165.741 78.6929 170.973 78.6929 Q176.968 78.6929 180.116 83.2993 Q183.288 87.8826 183.288 96.6326 Q183.288 104.804 179.399 109.688 Q175.533 114.549 168.982 114.549 Q167.223 114.549 165.417 114.202 Q163.612 113.855 161.667 113.16 M170.973 98.5076 Q174.121 98.5076 175.95 96.3548 Q177.801 94.202 177.801 90.4521 Q177.801 86.7252 175.95 84.5725 Q174.121 82.3965 170.973 82.3965 Q167.825 82.3965 165.973 84.5725 Q164.144 86.7252 164.144 90.4521 Q164.144 94.202 165.973 96.3548 Q167.825 98.5076 170.973 98.5076 Z\" fill=\"#000000\" fill-rule=\"evenodd\" fill-opacity=\"1\" /><path clip-path=\"url(#clip180)\" d=\"M201.69 97.4659 Q198.357 97.4659 196.436 99.2483 Q194.538 101.031 194.538 104.156 Q194.538 107.281 196.436 109.063 Q198.357 110.845 201.69 110.845 Q205.024 110.845 206.945 109.063 Q208.866 107.258 208.866 104.156 Q208.866 101.031 206.945 99.2483 Q205.047 97.4659 201.69 97.4659 M197.014 95.4752 Q194.005 94.7344 192.315 92.6743 Q190.649 90.6141 190.649 87.6511 Q190.649 83.5077 193.588 81.1003 Q196.551 78.6929 201.69 78.6929 Q206.852 78.6929 209.792 81.1003 Q212.732 83.5077 212.732 87.6511 Q212.732 90.6141 211.042 92.6743 Q209.375 94.7344 206.389 95.4752 Q209.769 96.2622 211.644 98.5539 Q213.542 100.846 213.542 104.156 Q213.542 109.179 210.463 111.864 Q207.408 114.549 201.69 114.549 Q195.973 114.549 192.894 111.864 Q189.838 109.179 189.838 104.156 Q189.838 100.846 191.737 98.5539 Q193.635 96.2622 197.014 95.4752 M195.301 88.091 Q195.301 90.7761 196.968 92.2808 Q198.658 93.7854 201.69 93.7854 Q204.699 93.7854 206.389 92.2808 Q208.102 90.7761 208.102 88.091 Q208.102 85.4058 206.389 83.9012 Q204.699 82.3965 201.69 82.3965 Q198.658 82.3965 196.968 83.9012 Q195.301 85.4058 195.301 88.091 Z\" fill=\"#000000\" fill-rule=\"evenodd\" fill-opacity=\"1\" /><path clip-path=\"url(#clip180)\" d=\"M21.7677 866.473 L39.6235 866.473 L39.6235 858.388 Q39.6235 853.901 37.3 851.45 Q34.9765 848.999 30.6797 848.999 Q26.4147 848.999 24.0912 851.45 Q21.7677 853.901 21.7677 858.388 L21.7677 866.473 M16.4842 872.902 L16.4842 858.388 Q16.4842 850.399 20.1126 846.325 Q23.7092 842.219 30.6797 842.219 Q37.7138 842.219 41.3104 846.325 Q44.907 850.399 44.907 858.388 L44.907 866.473 L64.0042 866.473 L64.0042 872.902 L16.4842 872.902 Z\" fill=\"#000000\" fill-rule=\"evenodd\" fill-opacity=\"1\" /><path clip-path=\"url(#clip180)\" d=\"M16.4842 833.594 L16.4842 827.165 L58.5933 827.165 L58.5933 804.025 L64.0042 804.025 L64.0042 833.594 L16.4842 833.594 Z\" fill=\"#000000\" fill-rule=\"evenodd\" fill-opacity=\"1\" /><path clip-path=\"url(#clip180)\" d=\"M16.4842 797.278 L16.4842 788.62 L56.238 767.55 L16.4842 767.55 L16.4842 761.311 L64.0042 761.311 L64.0042 769.969 L24.2503 791.039 L64.0042 791.039 L64.0042 797.278 L16.4842 797.278 Z\" fill=\"#000000\" fill-rule=\"evenodd\" fill-opacity=\"1\" /><path clip-path=\"url(#clip180)\" d=\"M16.4842 738.363 L16.4842 732.952 L70.0516 749.503 L70.0516 754.914 L16.4842 738.363 Z\" fill=\"#000000\" fill-rule=\"evenodd\" fill-opacity=\"1\" /><path clip-path=\"url(#clip180)\" d=\"M16.4842 727.287 L16.4842 720.825 L45.3526 720.825 Q52.9915 720.825 56.3653 718.056 Q59.7073 715.287 59.7073 709.081 Q59.7073 702.906 56.3653 700.137 Q52.9915 697.368 45.3526 697.368 L16.4842 697.368 L16.4842 690.907 L46.1484 690.907 Q55.4423 690.907 60.1847 695.522 Q64.9272 700.105 64.9272 709.081 Q64.9272 718.088 60.1847 722.703 Q55.4423 727.287 46.1484 727.287 L16.4842 727.287 Z\" fill=\"#000000\" fill-rule=\"evenodd\" fill-opacity=\"1\" /><path clip-path=\"url(#clip180)\" d=\"M18.0438 650.357 L24.314 650.357 Q22.5634 654.017 21.704 657.264 Q20.8447 660.51 20.8447 663.534 Q20.8447 668.786 22.8817 671.65 Q24.9187 674.483 28.6745 674.483 Q31.8255 674.483 33.4488 672.605 Q35.0402 670.696 36.0269 665.412 L36.8226 661.529 Q38.1912 654.336 41.6605 650.93 Q45.098 647.493 50.8908 647.493 Q57.7976 647.493 61.3624 652.139 Q64.9272 656.755 64.9272 665.698 Q64.9272 669.072 64.1633 672.892 Q63.3994 676.679 61.9035 680.753 L55.2831 680.753 Q57.4793 676.838 58.5933 673.083 Q59.7073 669.327 59.7073 665.698 Q59.7073 660.192 57.543 657.2 Q55.3786 654.208 51.3682 654.208 Q47.8671 654.208 45.8937 656.373 Q43.9204 658.505 42.9337 663.407 L42.1698 667.322 Q40.7375 674.515 37.682 677.73 Q34.6264 680.944 29.1837 680.944 Q22.8817 680.944 19.2532 676.52 Q15.6248 672.064 15.6248 664.266 Q15.6248 660.924 16.2295 657.455 Q16.8343 653.986 18.0438 650.357 Z\" fill=\"#000000\" fill-rule=\"evenodd\" fill-opacity=\"1\" /><path clip-path=\"url(#clip180)\" d=\"M21.7677 631.037 L58.7206 631.037 L58.7206 623.271 Q58.7206 613.436 54.2646 608.885 Q49.8086 604.301 40.1964 604.301 Q30.6479 604.301 26.2237 608.885 Q21.7677 613.436 21.7677 623.271 L21.7677 631.037 M16.4842 637.467 L16.4842 624.258 Q16.4842 610.444 22.2451 603.983 Q27.9743 597.522 40.1964 597.522 Q52.4822 597.522 58.2432 604.015 Q64.0042 610.508 64.0042 624.258 L64.0042 637.467 L16.4842 637.467 Z\" fill=\"#000000\" fill-rule=\"evenodd\" fill-opacity=\"1\" /><polyline clip-path=\"url(#clip182)\" style=\"stroke:#009af9; stroke-linecap:butt; stroke-linejoin:round; stroke-width:4; stroke-opacity:1; fill:none\" points=\"\n",
       "  309.067,304.842 377.486,959.074 445.906,1274.91 514.325,490.526 582.745,1108.32 \n",
       "  \"/>\n",
       "<polyline clip-path=\"url(#clip182)\" style=\"stroke:#009af9; stroke-linecap:butt; stroke-linejoin:round; stroke-width:4; stroke-opacity:1; fill:none\" points=\"\n",
       "  788.003,1143.02 856.423,698.769 924.842,1172.52 \n",
       "  \"/>\n",
       "<polyline clip-path=\"url(#clip182)\" style=\"stroke:#009af9; stroke-linecap:butt; stroke-linejoin:round; stroke-width:4; stroke-opacity:1; fill:none\" points=\"\n",
       "  1266.94,768.184 1335.36,1384.24 1403.78,561.676 1472.2,462.76 1540.62,198.984 \n",
       "  \"/>\n",
       "<polyline clip-path=\"url(#clip182)\" style=\"stroke:#009af9; stroke-linecap:butt; stroke-linejoin:round; stroke-width:4; stroke-opacity:1; fill:none\" points=\"\n",
       "  1745.88,327.401 1814.29,945.191 1882.71,799.42 1951.13,403.757 2019.55,275.34 \n",
       "  \"/>\n",
       "<polyline clip-path=\"url(#clip182)\" style=\"stroke:#009af9; stroke-linecap:butt; stroke-linejoin:round; stroke-width:4; stroke-opacity:1; fill:none\" points=\"\n",
       "  2224.81,346.49 2293.23,86.1857 \n",
       "  \"/>\n",
       "<path clip-path=\"url(#clip182)\" d=\"M309.067 320.842 L297.755 316.154 L293.067 304.842 L297.755 293.53 L309.067 288.842 L320.379 293.53 L325.067 304.842 L320.379 316.154 Z\" fill=\"#009af9\" fill-rule=\"evenodd\" fill-opacity=\"1\" stroke=\"#000000\" stroke-opacity=\"1\" stroke-width=\"3.2\"/>\n",
       "<path clip-path=\"url(#clip182)\" d=\"M377.486 975.074 L366.174 970.386 L361.486 959.074 L366.174 947.762 L377.486 943.074 L388.798 947.762 L393.486 959.074 L388.798 970.386 Z\" fill=\"#009af9\" fill-rule=\"evenodd\" fill-opacity=\"1\" stroke=\"#000000\" stroke-opacity=\"1\" stroke-width=\"3.2\"/>\n",
       "<path clip-path=\"url(#clip182)\" d=\"M445.906 1290.91 L434.594 1286.22 L429.906 1274.91 L434.594 1263.6 L445.906 1258.91 L457.218 1263.6 L461.906 1274.91 L457.218 1286.22 Z\" fill=\"#009af9\" fill-rule=\"evenodd\" fill-opacity=\"1\" stroke=\"#000000\" stroke-opacity=\"1\" stroke-width=\"3.2\"/>\n",
       "<path clip-path=\"url(#clip182)\" d=\"M514.325 506.526 L503.013 501.838 L498.325 490.526 L503.013 479.214 L514.325 474.526 L525.637 479.214 L530.325 490.526 L525.637 501.838 Z\" fill=\"#009af9\" fill-rule=\"evenodd\" fill-opacity=\"1\" stroke=\"#000000\" stroke-opacity=\"1\" stroke-width=\"3.2\"/>\n",
       "<path clip-path=\"url(#clip182)\" d=\"M582.745 1124.32 L571.433 1119.63 L566.745 1108.32 L571.433 1097 L582.745 1092.32 L594.057 1097 L598.745 1108.32 L594.057 1119.63 Z\" fill=\"#009af9\" fill-rule=\"evenodd\" fill-opacity=\"1\" stroke=\"#000000\" stroke-opacity=\"1\" stroke-width=\"3.2\"/>\n",
       "<path clip-path=\"url(#clip182)\" d=\"M788.003 1159.02 L776.691 1154.33 L772.003 1143.02 L776.691 1131.71 L788.003 1127.02 L799.315 1131.71 L804.003 1143.02 L799.315 1154.33 Z\" fill=\"#009af9\" fill-rule=\"evenodd\" fill-opacity=\"1\" stroke=\"#000000\" stroke-opacity=\"1\" stroke-width=\"3.2\"/>\n",
       "<path clip-path=\"url(#clip182)\" d=\"M856.423 714.769 L845.111 710.081 L840.423 698.769 L845.111 687.457 L856.423 682.769 L867.735 687.457 L872.423 698.769 L867.735 710.081 Z\" fill=\"#009af9\" fill-rule=\"evenodd\" fill-opacity=\"1\" stroke=\"#000000\" stroke-opacity=\"1\" stroke-width=\"3.2\"/>\n",
       "<path clip-path=\"url(#clip182)\" d=\"M924.842 1188.52 L913.53 1183.84 L908.842 1172.52 L913.53 1161.21 L924.842 1156.52 L936.154 1161.21 L940.842 1172.52 L936.154 1183.84 Z\" fill=\"#009af9\" fill-rule=\"evenodd\" fill-opacity=\"1\" stroke=\"#000000\" stroke-opacity=\"1\" stroke-width=\"3.2\"/>\n",
       "<path clip-path=\"url(#clip182)\" d=\"M1061.68 982.015 L1050.37 977.327 L1045.68 966.015 L1050.37 954.703 L1061.68 950.015 L1072.99 954.703 L1077.68 966.015 L1072.99 977.327 Z\" fill=\"#009af9\" fill-rule=\"evenodd\" fill-opacity=\"1\" stroke=\"#000000\" stroke-opacity=\"1\" stroke-width=\"3.2\"/>\n",
       "<path clip-path=\"url(#clip182)\" d=\"M1266.94 784.184 L1255.63 779.496 L1250.94 768.184 L1255.63 756.872 L1266.94 752.184 L1278.25 756.872 L1282.94 768.184 L1278.25 779.496 Z\" fill=\"#009af9\" fill-rule=\"evenodd\" fill-opacity=\"1\" stroke=\"#000000\" stroke-opacity=\"1\" stroke-width=\"3.2\"/>\n",
       "<path clip-path=\"url(#clip182)\" d=\"M1335.36 1400.24 L1324.05 1395.55 L1319.36 1384.24 L1324.05 1372.93 L1335.36 1368.24 L1346.67 1372.93 L1351.36 1384.24 L1346.67 1395.55 Z\" fill=\"#009af9\" fill-rule=\"evenodd\" fill-opacity=\"1\" stroke=\"#000000\" stroke-opacity=\"1\" stroke-width=\"3.2\"/>\n",
       "<path clip-path=\"url(#clip182)\" d=\"M1403.78 577.676 L1392.47 572.988 L1387.78 561.676 L1392.47 550.364 L1403.78 545.676 L1415.09 550.364 L1419.78 561.676 L1415.09 572.988 Z\" fill=\"#009af9\" fill-rule=\"evenodd\" fill-opacity=\"1\" stroke=\"#000000\" stroke-opacity=\"1\" stroke-width=\"3.2\"/>\n",
       "<path clip-path=\"url(#clip182)\" d=\"M1472.2 478.76 L1460.89 474.072 L1456.2 462.76 L1460.89 451.448 L1472.2 446.76 L1483.51 451.448 L1488.2 462.76 L1483.51 474.072 Z\" fill=\"#009af9\" fill-rule=\"evenodd\" fill-opacity=\"1\" stroke=\"#000000\" stroke-opacity=\"1\" stroke-width=\"3.2\"/>\n",
       "<path clip-path=\"url(#clip182)\" d=\"M1540.62 214.984 L1529.31 210.296 L1524.62 198.984 L1529.31 187.672 L1540.62 182.984 L1551.93 187.672 L1556.62 198.984 L1551.93 210.296 Z\" fill=\"#009af9\" fill-rule=\"evenodd\" fill-opacity=\"1\" stroke=\"#000000\" stroke-opacity=\"1\" stroke-width=\"3.2\"/>\n",
       "<path clip-path=\"url(#clip182)\" d=\"M1745.88 343.401 L1734.56 338.713 L1729.88 327.401 L1734.56 316.089 L1745.88 311.401 L1757.19 316.089 L1761.88 327.401 L1757.19 338.713 Z\" fill=\"#009af9\" fill-rule=\"evenodd\" fill-opacity=\"1\" stroke=\"#000000\" stroke-opacity=\"1\" stroke-width=\"3.2\"/>\n",
       "<path clip-path=\"url(#clip182)\" d=\"M1814.29 961.191 L1802.98 956.503 L1798.29 945.191 L1802.98 933.879 L1814.29 929.191 L1825.61 933.879 L1830.29 945.191 L1825.61 956.503 Z\" fill=\"#009af9\" fill-rule=\"evenodd\" fill-opacity=\"1\" stroke=\"#000000\" stroke-opacity=\"1\" stroke-width=\"3.2\"/>\n",
       "<path clip-path=\"url(#clip182)\" d=\"M1882.71 815.42 L1871.4 810.732 L1866.71 799.42 L1871.4 788.108 L1882.71 783.42 L1894.03 788.108 L1898.71 799.42 L1894.03 810.732 Z\" fill=\"#009af9\" fill-rule=\"evenodd\" fill-opacity=\"1\" stroke=\"#000000\" stroke-opacity=\"1\" stroke-width=\"3.2\"/>\n",
       "<path clip-path=\"url(#clip182)\" d=\"M1951.13 419.757 L1939.82 415.069 L1935.13 403.757 L1939.82 392.445 L1951.13 387.757 L1962.45 392.445 L1967.13 403.757 L1962.45 415.069 Z\" fill=\"#009af9\" fill-rule=\"evenodd\" fill-opacity=\"1\" stroke=\"#000000\" stroke-opacity=\"1\" stroke-width=\"3.2\"/>\n",
       "<path clip-path=\"url(#clip182)\" d=\"M2019.55 291.34 L2008.24 286.652 L2003.55 275.34 L2008.24 264.028 L2019.55 259.34 L2030.87 264.028 L2035.55 275.34 L2030.87 286.652 Z\" fill=\"#009af9\" fill-rule=\"evenodd\" fill-opacity=\"1\" stroke=\"#000000\" stroke-opacity=\"1\" stroke-width=\"3.2\"/>\n",
       "<path clip-path=\"url(#clip182)\" d=\"M2224.81 362.49 L2213.5 357.802 L2208.81 346.49 L2213.5 335.178 L2224.81 330.49 L2236.12 335.178 L2240.81 346.49 L2236.12 357.802 Z\" fill=\"#009af9\" fill-rule=\"evenodd\" fill-opacity=\"1\" stroke=\"#000000\" stroke-opacity=\"1\" stroke-width=\"3.2\"/>\n",
       "<path clip-path=\"url(#clip182)\" d=\"M2293.23 102.186 L2281.92 97.4977 L2277.23 86.1857 L2281.92 74.8737 L2293.23 70.1857 L2304.54 74.8737 L2309.23 86.1857 L2304.54 97.4977 Z\" fill=\"#009af9\" fill-rule=\"evenodd\" fill-opacity=\"1\" stroke=\"#000000\" stroke-opacity=\"1\" stroke-width=\"3.2\"/>\n",
       "</svg>\n"
      ]
     },
     "execution_count": 81,
     "metadata": {},
     "output_type": "execute_result"
    }
   ],
   "source": [
    "using Plots\n",
    "plot(dates, rates;\n",
    "xlabel=\"day\", ylabel=\"PLN/USD\", legend=false, marker=:o)"
   ]
  },
  {
   "cell_type": "code",
   "execution_count": 82,
   "id": "4ce75fdc",
   "metadata": {},
   "outputs": [
    {
     "data": {
      "text/plain": [
       "30-element BitVector:\n",
       " 1\n",
       " 1\n",
       " 1\n",
       " 1\n",
       " 1\n",
       " 0\n",
       " 0\n",
       " 1\n",
       " 1\n",
       " 1\n",
       " 0\n",
       " 1\n",
       " 0\n",
       " ⋮\n",
       " 1\n",
       " 0\n",
       " 0\n",
       " 1\n",
       " 1\n",
       " 1\n",
       " 1\n",
       " 1\n",
       " 0\n",
       " 0\n",
       " 1\n",
       " 1"
      ]
     },
     "execution_count": 82,
     "metadata": {},
     "output_type": "execute_result"
    }
   ],
   "source": [
    "rates_ok = .!ismissing.(rates)"
   ]
  },
  {
   "cell_type": "code",
   "execution_count": 83,
   "id": "5ea13491",
   "metadata": {},
   "outputs": [
    {
     "data": {
      "image/svg+xml": [
       "<?xml version=\"1.0\" encoding=\"utf-8\"?>\n",
       "<svg xmlns=\"http://www.w3.org/2000/svg\" xmlns:xlink=\"http://www.w3.org/1999/xlink\" width=\"600\" height=\"400\" viewBox=\"0 0 2400 1600\">\n",
       "<defs>\n",
       "  <clipPath id=\"clip220\">\n",
       "    <rect x=\"0\" y=\"0\" width=\"2400\" height=\"1600\"/>\n",
       "  </clipPath>\n",
       "</defs>\n",
       "<path clip-path=\"url(#clip220)\" d=\"\n",
       "M0 1600 L2400 1600 L2400 0 L0 0  Z\n",
       "  \" fill=\"#ffffff\" fill-rule=\"evenodd\" fill-opacity=\"1\"/>\n",
       "<defs>\n",
       "  <clipPath id=\"clip221\">\n",
       "    <rect x=\"480\" y=\"0\" width=\"1681\" height=\"1600\"/>\n",
       "  </clipPath>\n",
       "</defs>\n",
       "<path clip-path=\"url(#clip220)\" d=\"\n",
       "M249.542 1423.18 L2352.76 1423.18 L2352.76 47.2441 L249.542 47.2441  Z\n",
       "  \" fill=\"#ffffff\" fill-rule=\"evenodd\" fill-opacity=\"1\"/>\n",
       "<defs>\n",
       "  <clipPath id=\"clip222\">\n",
       "    <rect x=\"249\" y=\"47\" width=\"2104\" height=\"1377\"/>\n",
       "  </clipPath>\n",
       "</defs>\n",
       "<polyline clip-path=\"url(#clip222)\" style=\"stroke:#000000; stroke-linecap:butt; stroke-linejoin:round; stroke-width:2; stroke-opacity:0.1; fill:none\" points=\"\n",
       "  309.067,1423.18 309.067,47.2441 \n",
       "  \"/>\n",
       "<polyline clip-path=\"url(#clip222)\" style=\"stroke:#000000; stroke-linecap:butt; stroke-linejoin:round; stroke-width:2; stroke-opacity:0.1; fill:none\" points=\"\n",
       "  856.423,1423.18 856.423,47.2441 \n",
       "  \"/>\n",
       "<polyline clip-path=\"url(#clip222)\" style=\"stroke:#000000; stroke-linecap:butt; stroke-linejoin:round; stroke-width:2; stroke-opacity:0.1; fill:none\" points=\"\n",
       "  1403.78,1423.18 1403.78,47.2441 \n",
       "  \"/>\n",
       "<polyline clip-path=\"url(#clip222)\" style=\"stroke:#000000; stroke-linecap:butt; stroke-linejoin:round; stroke-width:2; stroke-opacity:0.1; fill:none\" points=\"\n",
       "  1951.13,1423.18 1951.13,47.2441 \n",
       "  \"/>\n",
       "<polyline clip-path=\"url(#clip220)\" style=\"stroke:#000000; stroke-linecap:butt; stroke-linejoin:round; stroke-width:4; stroke-opacity:1; fill:none\" points=\"\n",
       "  249.542,1423.18 2352.76,1423.18 \n",
       "  \"/>\n",
       "<polyline clip-path=\"url(#clip220)\" style=\"stroke:#000000; stroke-linecap:butt; stroke-linejoin:round; stroke-width:4; stroke-opacity:1; fill:none\" points=\"\n",
       "  309.067,1423.18 309.067,1404.28 \n",
       "  \"/>\n",
       "<polyline clip-path=\"url(#clip220)\" style=\"stroke:#000000; stroke-linecap:butt; stroke-linejoin:round; stroke-width:4; stroke-opacity:1; fill:none\" points=\"\n",
       "  856.423,1423.18 856.423,1404.28 \n",
       "  \"/>\n",
       "<polyline clip-path=\"url(#clip220)\" style=\"stroke:#000000; stroke-linecap:butt; stroke-linejoin:round; stroke-width:4; stroke-opacity:1; fill:none\" points=\"\n",
       "  1403.78,1423.18 1403.78,1404.28 \n",
       "  \"/>\n",
       "<polyline clip-path=\"url(#clip220)\" style=\"stroke:#000000; stroke-linecap:butt; stroke-linejoin:round; stroke-width:4; stroke-opacity:1; fill:none\" points=\"\n",
       "  1951.13,1423.18 1951.13,1404.28 \n",
       "  \"/>\n",
       "<path clip-path=\"url(#clip220)\" d=\"M180.862 1481.64 L197.181 1481.64 L197.181 1485.58 L175.237 1485.58 L175.237 1481.64 Q177.899 1478.89 182.482 1474.26 Q187.088 1469.61 188.269 1468.27 Q190.514 1465.74 191.394 1464.01 Q192.297 1462.25 192.297 1460.56 Q192.297 1457.8 190.352 1456.07 Q188.431 1454.33 185.329 1454.33 Q183.13 1454.33 180.676 1455.09 Q178.246 1455.86 175.468 1457.41 L175.468 1452.69 Q178.292 1451.55 180.746 1450.97 Q183.2 1450.39 185.237 1450.39 Q190.607 1450.39 193.801 1453.08 Q196.996 1455.77 196.996 1460.26 Q196.996 1462.39 196.186 1464.31 Q195.399 1466.2 193.292 1468.8 Q192.713 1469.47 189.612 1472.69 Q186.51 1475.88 180.862 1481.64 Z\" fill=\"#000000\" fill-rule=\"evenodd\" fill-opacity=\"1\" /><path clip-path=\"url(#clip220)\" d=\"M216.996 1454.1 Q213.385 1454.1 211.556 1457.66 Q209.75 1461.2 209.75 1468.33 Q209.75 1475.44 211.556 1479.01 Q213.385 1482.55 216.996 1482.55 Q220.63 1482.55 222.435 1479.01 Q224.264 1475.44 224.264 1468.33 Q224.264 1461.2 222.435 1457.66 Q220.63 1454.1 216.996 1454.1 M216.996 1450.39 Q222.806 1450.39 225.861 1455 Q228.94 1459.58 228.94 1468.33 Q228.94 1477.06 225.861 1481.67 Q222.806 1486.25 216.996 1486.25 Q211.186 1486.25 208.107 1481.67 Q205.051 1477.06 205.051 1468.33 Q205.051 1459.58 208.107 1455 Q211.186 1450.39 216.996 1450.39 Z\" fill=\"#000000\" fill-rule=\"evenodd\" fill-opacity=\"1\" /><path clip-path=\"url(#clip220)\" d=\"M241.185 1481.64 L257.505 1481.64 L257.505 1485.58 L235.56 1485.58 L235.56 1481.64 Q238.222 1478.89 242.806 1474.26 Q247.412 1469.61 248.593 1468.27 Q250.838 1465.74 251.718 1464.01 Q252.62 1462.25 252.62 1460.56 Q252.62 1457.8 250.676 1456.07 Q248.755 1454.33 245.653 1454.33 Q243.454 1454.33 241 1455.09 Q238.57 1455.86 235.792 1457.41 L235.792 1452.69 Q238.616 1451.55 241.07 1450.97 Q243.523 1450.39 245.56 1450.39 Q250.931 1450.39 254.125 1453.08 Q257.32 1455.77 257.32 1460.26 Q257.32 1462.39 256.509 1464.31 Q255.722 1466.2 253.616 1468.8 Q253.037 1469.47 249.935 1472.69 Q246.833 1475.88 241.185 1481.64 Z\" fill=\"#000000\" fill-rule=\"evenodd\" fill-opacity=\"1\" /><path clip-path=\"url(#clip220)\" d=\"M277.319 1454.1 Q273.708 1454.1 271.88 1457.66 Q270.074 1461.2 270.074 1468.33 Q270.074 1475.44 271.88 1479.01 Q273.708 1482.55 277.319 1482.55 Q280.954 1482.55 282.759 1479.01 Q284.588 1475.44 284.588 1468.33 Q284.588 1461.2 282.759 1457.66 Q280.954 1454.1 277.319 1454.1 M277.319 1450.39 Q283.13 1450.39 286.185 1455 Q289.264 1459.58 289.264 1468.33 Q289.264 1477.06 286.185 1481.67 Q283.13 1486.25 277.319 1486.25 Q271.509 1486.25 268.431 1481.67 Q265.375 1477.06 265.375 1468.33 Q265.375 1459.58 268.431 1455 Q271.509 1450.39 277.319 1450.39 Z\" fill=\"#000000\" fill-rule=\"evenodd\" fill-opacity=\"1\" /><path clip-path=\"url(#clip220)\" d=\"M294.727 1470.7 L307.204 1470.7 L307.204 1474.49 L294.727 1474.49 L294.727 1470.7 Z\" fill=\"#000000\" fill-rule=\"evenodd\" fill-opacity=\"1\" /><path clip-path=\"url(#clip220)\" d=\"M324.588 1454.1 Q320.977 1454.1 319.148 1457.66 Q317.342 1461.2 317.342 1468.33 Q317.342 1475.44 319.148 1479.01 Q320.977 1482.55 324.588 1482.55 Q328.222 1482.55 330.027 1479.01 Q331.856 1475.44 331.856 1468.33 Q331.856 1461.2 330.027 1457.66 Q328.222 1454.1 324.588 1454.1 M324.588 1450.39 Q330.398 1450.39 333.453 1455 Q336.532 1459.58 336.532 1468.33 Q336.532 1477.06 333.453 1481.67 Q330.398 1486.25 324.588 1486.25 Q318.778 1486.25 315.699 1481.67 Q312.643 1477.06 312.643 1468.33 Q312.643 1459.58 315.699 1455 Q318.778 1450.39 324.588 1450.39 Z\" fill=\"#000000\" fill-rule=\"evenodd\" fill-opacity=\"1\" /><path clip-path=\"url(#clip220)\" d=\"M355.328 1466.44 Q352.18 1466.44 350.328 1468.59 Q348.5 1470.74 348.5 1474.49 Q348.5 1478.22 350.328 1480.39 Q352.18 1482.55 355.328 1482.55 Q358.476 1482.55 360.305 1480.39 Q362.157 1478.22 362.157 1474.49 Q362.157 1470.74 360.305 1468.59 Q358.476 1466.44 355.328 1466.44 M364.611 1451.78 L364.611 1456.04 Q362.851 1455.21 361.046 1454.77 Q359.263 1454.33 357.504 1454.33 Q352.875 1454.33 350.421 1457.45 Q347.99 1460.58 347.643 1466.9 Q349.009 1464.89 351.069 1463.82 Q353.129 1462.73 355.606 1462.73 Q360.814 1462.73 363.824 1465.9 Q366.856 1469.05 366.856 1474.49 Q366.856 1479.82 363.708 1483.03 Q360.56 1486.25 355.328 1486.25 Q349.333 1486.25 346.162 1481.67 Q342.99 1477.06 342.99 1468.33 Q342.99 1460.14 346.879 1455.28 Q350.768 1450.39 357.319 1450.39 Q359.078 1450.39 360.861 1450.74 Q362.666 1451.09 364.611 1451.78 Z\" fill=\"#000000\" fill-rule=\"evenodd\" fill-opacity=\"1\" /><path clip-path=\"url(#clip220)\" d=\"M372.157 1470.7 L384.634 1470.7 L384.634 1474.49 L372.157 1474.49 L372.157 1470.7 Z\" fill=\"#000000\" fill-rule=\"evenodd\" fill-opacity=\"1\" /><path clip-path=\"url(#clip220)\" d=\"M402.018 1454.1 Q398.407 1454.1 396.578 1457.66 Q394.773 1461.2 394.773 1468.33 Q394.773 1475.44 396.578 1479.01 Q398.407 1482.55 402.018 1482.55 Q405.652 1482.55 407.458 1479.01 Q409.286 1475.44 409.286 1468.33 Q409.286 1461.2 407.458 1457.66 Q405.652 1454.1 402.018 1454.1 M402.018 1450.39 Q407.828 1450.39 410.884 1455 Q413.962 1459.58 413.962 1468.33 Q413.962 1477.06 410.884 1481.67 Q407.828 1486.25 402.018 1486.25 Q396.208 1486.25 393.129 1481.67 Q390.073 1477.06 390.073 1468.33 Q390.073 1459.58 393.129 1455 Q396.208 1450.39 402.018 1450.39 Z\" fill=\"#000000\" fill-rule=\"evenodd\" fill-opacity=\"1\" /><path clip-path=\"url(#clip220)\" d=\"M422.99 1481.64 L430.629 1481.64 L430.629 1455.28 L422.319 1456.95 L422.319 1452.69 L430.583 1451.02 L435.258 1451.02 L435.258 1481.64 L442.897 1481.64 L442.897 1485.58 L422.99 1485.58 L422.99 1481.64 Z\" fill=\"#000000\" fill-rule=\"evenodd\" fill-opacity=\"1\" /><path clip-path=\"url(#clip220)\" d=\"M727.696 1481.64 L744.016 1481.64 L744.016 1485.58 L722.071 1485.58 L722.071 1481.64 Q724.733 1478.89 729.317 1474.26 Q733.923 1469.61 735.104 1468.27 Q737.349 1465.74 738.229 1464.01 Q739.132 1462.25 739.132 1460.56 Q739.132 1457.8 737.187 1456.07 Q735.266 1454.33 732.164 1454.33 Q729.965 1454.33 727.511 1455.09 Q725.081 1455.86 722.303 1457.41 L722.303 1452.69 Q725.127 1451.55 727.581 1450.97 Q730.034 1450.39 732.071 1450.39 Q737.442 1450.39 740.636 1453.08 Q743.831 1455.77 743.831 1460.26 Q743.831 1462.39 743.02 1464.31 Q742.233 1466.2 740.127 1468.8 Q739.548 1469.47 736.446 1472.69 Q733.345 1475.88 727.696 1481.64 Z\" fill=\"#000000\" fill-rule=\"evenodd\" fill-opacity=\"1\" /><path clip-path=\"url(#clip220)\" d=\"M763.83 1454.1 Q760.219 1454.1 758.391 1457.66 Q756.585 1461.2 756.585 1468.33 Q756.585 1475.44 758.391 1479.01 Q760.219 1482.55 763.83 1482.55 Q767.465 1482.55 769.27 1479.01 Q771.099 1475.44 771.099 1468.33 Q771.099 1461.2 769.27 1457.66 Q767.465 1454.1 763.83 1454.1 M763.83 1450.39 Q769.641 1450.39 772.696 1455 Q775.775 1459.58 775.775 1468.33 Q775.775 1477.06 772.696 1481.67 Q769.641 1486.25 763.83 1486.25 Q758.02 1486.25 754.942 1481.67 Q751.886 1477.06 751.886 1468.33 Q751.886 1459.58 754.942 1455 Q758.02 1450.39 763.83 1450.39 Z\" fill=\"#000000\" fill-rule=\"evenodd\" fill-opacity=\"1\" /><path clip-path=\"url(#clip220)\" d=\"M788.02 1481.64 L804.339 1481.64 L804.339 1485.58 L782.395 1485.58 L782.395 1481.64 Q785.057 1478.89 789.64 1474.26 Q794.247 1469.61 795.428 1468.27 Q797.673 1465.74 798.552 1464.01 Q799.455 1462.25 799.455 1460.56 Q799.455 1457.8 797.511 1456.07 Q795.59 1454.33 792.488 1454.33 Q790.289 1454.33 787.835 1455.09 Q785.404 1455.86 782.627 1457.41 L782.627 1452.69 Q785.451 1451.55 787.904 1450.97 Q790.358 1450.39 792.395 1450.39 Q797.765 1450.39 800.96 1453.08 Q804.154 1455.77 804.154 1460.26 Q804.154 1462.39 803.344 1464.31 Q802.557 1466.2 800.451 1468.8 Q799.872 1469.47 796.77 1472.69 Q793.668 1475.88 788.02 1481.64 Z\" fill=\"#000000\" fill-rule=\"evenodd\" fill-opacity=\"1\" /><path clip-path=\"url(#clip220)\" d=\"M824.154 1454.1 Q820.543 1454.1 818.714 1457.66 Q816.909 1461.2 816.909 1468.33 Q816.909 1475.44 818.714 1479.01 Q820.543 1482.55 824.154 1482.55 Q827.788 1482.55 829.594 1479.01 Q831.423 1475.44 831.423 1468.33 Q831.423 1461.2 829.594 1457.66 Q827.788 1454.1 824.154 1454.1 M824.154 1450.39 Q829.964 1450.39 833.02 1455 Q836.099 1459.58 836.099 1468.33 Q836.099 1477.06 833.02 1481.67 Q829.964 1486.25 824.154 1486.25 Q818.344 1486.25 815.265 1481.67 Q812.21 1477.06 812.21 1468.33 Q812.21 1459.58 815.265 1455 Q818.344 1450.39 824.154 1450.39 Z\" fill=\"#000000\" fill-rule=\"evenodd\" fill-opacity=\"1\" /><path clip-path=\"url(#clip220)\" d=\"M841.562 1470.7 L854.038 1470.7 L854.038 1474.49 L841.562 1474.49 L841.562 1470.7 Z\" fill=\"#000000\" fill-rule=\"evenodd\" fill-opacity=\"1\" /><path clip-path=\"url(#clip220)\" d=\"M871.422 1454.1 Q867.811 1454.1 865.983 1457.66 Q864.177 1461.2 864.177 1468.33 Q864.177 1475.44 865.983 1479.01 Q867.811 1482.55 871.422 1482.55 Q875.057 1482.55 876.862 1479.01 Q878.691 1475.44 878.691 1468.33 Q878.691 1461.2 876.862 1457.66 Q875.057 1454.1 871.422 1454.1 M871.422 1450.39 Q877.233 1450.39 880.288 1455 Q883.367 1459.58 883.367 1468.33 Q883.367 1477.06 880.288 1481.67 Q877.233 1486.25 871.422 1486.25 Q865.612 1486.25 862.534 1481.67 Q859.478 1477.06 859.478 1468.33 Q859.478 1459.58 862.534 1455 Q865.612 1450.39 871.422 1450.39 Z\" fill=\"#000000\" fill-rule=\"evenodd\" fill-opacity=\"1\" /><path clip-path=\"url(#clip220)\" d=\"M902.163 1466.44 Q899.015 1466.44 897.163 1468.59 Q895.334 1470.74 895.334 1474.49 Q895.334 1478.22 897.163 1480.39 Q899.015 1482.55 902.163 1482.55 Q905.311 1482.55 907.14 1480.39 Q908.992 1478.22 908.992 1474.49 Q908.992 1470.74 907.14 1468.59 Q905.311 1466.44 902.163 1466.44 M911.445 1451.78 L911.445 1456.04 Q909.686 1455.21 907.881 1454.77 Q906.098 1454.33 904.339 1454.33 Q899.709 1454.33 897.256 1457.45 Q894.825 1460.58 894.478 1466.9 Q895.844 1464.89 897.904 1463.82 Q899.964 1462.73 902.441 1462.73 Q907.649 1462.73 910.658 1465.9 Q913.691 1469.05 913.691 1474.49 Q913.691 1479.82 910.543 1483.03 Q907.394 1486.25 902.163 1486.25 Q896.168 1486.25 892.996 1481.67 Q889.825 1477.06 889.825 1468.33 Q889.825 1460.14 893.714 1455.28 Q897.603 1450.39 904.154 1450.39 Q905.913 1450.39 907.695 1450.74 Q909.501 1451.09 911.445 1451.78 Z\" fill=\"#000000\" fill-rule=\"evenodd\" fill-opacity=\"1\" /><path clip-path=\"url(#clip220)\" d=\"M918.992 1470.7 L931.468 1470.7 L931.468 1474.49 L918.992 1474.49 L918.992 1470.7 Z\" fill=\"#000000\" fill-rule=\"evenodd\" fill-opacity=\"1\" /><path clip-path=\"url(#clip220)\" d=\"M948.853 1454.1 Q945.242 1454.1 943.413 1457.66 Q941.607 1461.2 941.607 1468.33 Q941.607 1475.44 943.413 1479.01 Q945.242 1482.55 948.853 1482.55 Q952.487 1482.55 954.292 1479.01 Q956.121 1475.44 956.121 1468.33 Q956.121 1461.2 954.292 1457.66 Q952.487 1454.1 948.853 1454.1 M948.853 1450.39 Q954.663 1450.39 957.718 1455 Q960.797 1459.58 960.797 1468.33 Q960.797 1477.06 957.718 1481.67 Q954.663 1486.25 948.853 1486.25 Q943.042 1486.25 939.964 1481.67 Q936.908 1477.06 936.908 1468.33 Q936.908 1459.58 939.964 1455 Q943.042 1450.39 948.853 1450.39 Z\" fill=\"#000000\" fill-rule=\"evenodd\" fill-opacity=\"1\" /><path clip-path=\"url(#clip220)\" d=\"M969.153 1484.86 L969.153 1480.6 Q970.913 1481.44 972.718 1481.88 Q974.524 1482.32 976.26 1482.32 Q980.889 1482.32 983.32 1479.21 Q985.774 1476.09 986.121 1469.75 Q984.778 1471.74 982.718 1472.8 Q980.658 1473.87 978.158 1473.87 Q972.973 1473.87 969.94 1470.74 Q966.931 1467.59 966.931 1462.15 Q966.931 1456.83 970.079 1453.61 Q973.227 1450.39 978.459 1450.39 Q984.454 1450.39 987.602 1455 Q990.774 1459.58 990.774 1468.33 Q990.774 1476.51 986.885 1481.39 Q983.019 1486.25 976.468 1486.25 Q974.709 1486.25 972.903 1485.9 Q971.098 1485.56 969.153 1484.86 M978.459 1470.21 Q981.607 1470.21 983.436 1468.06 Q985.288 1465.9 985.288 1462.15 Q985.288 1458.43 983.436 1456.27 Q981.607 1454.1 978.459 1454.1 Q975.311 1454.1 973.459 1456.27 Q971.63 1458.43 971.63 1462.15 Q971.63 1465.9 973.459 1468.06 Q975.311 1470.21 978.459 1470.21 Z\" fill=\"#000000\" fill-rule=\"evenodd\" fill-opacity=\"1\" /><path clip-path=\"url(#clip220)\" d=\"M1275.41 1481.64 L1291.73 1481.64 L1291.73 1485.58 L1269.79 1485.58 L1269.79 1481.64 Q1272.45 1478.89 1277.03 1474.26 Q1281.64 1469.61 1282.82 1468.27 Q1285.06 1465.74 1285.94 1464.01 Q1286.85 1462.25 1286.85 1460.56 Q1286.85 1457.8 1284.9 1456.07 Q1282.98 1454.33 1279.88 1454.33 Q1277.68 1454.33 1275.23 1455.09 Q1272.8 1455.86 1270.02 1457.41 L1270.02 1452.69 Q1272.84 1451.55 1275.3 1450.97 Q1277.75 1450.39 1279.79 1450.39 Q1285.16 1450.39 1288.35 1453.08 Q1291.54 1455.77 1291.54 1460.26 Q1291.54 1462.39 1290.73 1464.31 Q1289.95 1466.2 1287.84 1468.8 Q1287.26 1469.47 1284.16 1472.69 Q1281.06 1475.88 1275.41 1481.64 Z\" fill=\"#000000\" fill-rule=\"evenodd\" fill-opacity=\"1\" /><path clip-path=\"url(#clip220)\" d=\"M1311.54 1454.1 Q1307.93 1454.1 1306.11 1457.66 Q1304.3 1461.2 1304.3 1468.33 Q1304.3 1475.44 1306.11 1479.01 Q1307.93 1482.55 1311.54 1482.55 Q1315.18 1482.55 1316.98 1479.01 Q1318.81 1475.44 1318.81 1468.33 Q1318.81 1461.2 1316.98 1457.66 Q1315.18 1454.1 1311.54 1454.1 M1311.54 1450.39 Q1317.35 1450.39 1320.41 1455 Q1323.49 1459.58 1323.49 1468.33 Q1323.49 1477.06 1320.41 1481.67 Q1317.35 1486.25 1311.54 1486.25 Q1305.73 1486.25 1302.66 1481.67 Q1299.6 1477.06 1299.6 1468.33 Q1299.6 1459.58 1302.66 1455 Q1305.73 1450.39 1311.54 1450.39 Z\" fill=\"#000000\" fill-rule=\"evenodd\" fill-opacity=\"1\" /><path clip-path=\"url(#clip220)\" d=\"M1335.73 1481.64 L1352.05 1481.64 L1352.05 1485.58 L1330.11 1485.58 L1330.11 1481.64 Q1332.77 1478.89 1337.35 1474.26 Q1341.96 1469.61 1343.14 1468.27 Q1345.39 1465.74 1346.27 1464.01 Q1347.17 1462.25 1347.17 1460.56 Q1347.17 1457.8 1345.23 1456.07 Q1343.3 1454.33 1340.2 1454.33 Q1338 1454.33 1335.55 1455.09 Q1333.12 1455.86 1330.34 1457.41 L1330.34 1452.69 Q1333.17 1451.55 1335.62 1450.97 Q1338.07 1450.39 1340.11 1450.39 Q1345.48 1450.39 1348.67 1453.08 Q1351.87 1455.77 1351.87 1460.26 Q1351.87 1462.39 1351.06 1464.31 Q1350.27 1466.2 1348.17 1468.8 Q1347.59 1469.47 1344.48 1472.69 Q1341.38 1475.88 1335.73 1481.64 Z\" fill=\"#000000\" fill-rule=\"evenodd\" fill-opacity=\"1\" /><path clip-path=\"url(#clip220)\" d=\"M1371.87 1454.1 Q1368.26 1454.1 1366.43 1457.66 Q1364.62 1461.2 1364.62 1468.33 Q1364.62 1475.44 1366.43 1479.01 Q1368.26 1482.55 1371.87 1482.55 Q1375.5 1482.55 1377.31 1479.01 Q1379.14 1475.44 1379.14 1468.33 Q1379.14 1461.2 1377.31 1457.66 Q1375.5 1454.1 1371.87 1454.1 M1371.87 1450.39 Q1377.68 1450.39 1380.73 1455 Q1383.81 1459.58 1383.81 1468.33 Q1383.81 1477.06 1380.73 1481.67 Q1377.68 1486.25 1371.87 1486.25 Q1366.06 1486.25 1362.98 1481.67 Q1359.92 1477.06 1359.92 1468.33 Q1359.92 1459.58 1362.98 1455 Q1366.06 1450.39 1371.87 1450.39 Z\" fill=\"#000000\" fill-rule=\"evenodd\" fill-opacity=\"1\" /><path clip-path=\"url(#clip220)\" d=\"M1389.28 1470.7 L1401.75 1470.7 L1401.75 1474.49 L1389.28 1474.49 L1389.28 1470.7 Z\" fill=\"#000000\" fill-rule=\"evenodd\" fill-opacity=\"1\" /><path clip-path=\"url(#clip220)\" d=\"M1419.14 1454.1 Q1415.53 1454.1 1413.7 1457.66 Q1411.89 1461.2 1411.89 1468.33 Q1411.89 1475.44 1413.7 1479.01 Q1415.53 1482.55 1419.14 1482.55 Q1422.77 1482.55 1424.58 1479.01 Q1426.41 1475.44 1426.41 1468.33 Q1426.41 1461.2 1424.58 1457.66 Q1422.77 1454.1 1419.14 1454.1 M1419.14 1450.39 Q1424.95 1450.39 1428 1455 Q1431.08 1459.58 1431.08 1468.33 Q1431.08 1477.06 1428 1481.67 Q1424.95 1486.25 1419.14 1486.25 Q1413.33 1486.25 1410.25 1481.67 Q1407.19 1477.06 1407.19 1468.33 Q1407.19 1459.58 1410.25 1455 Q1413.33 1450.39 1419.14 1450.39 Z\" fill=\"#000000\" fill-rule=\"evenodd\" fill-opacity=\"1\" /><path clip-path=\"url(#clip220)\" d=\"M1449.88 1466.44 Q1446.73 1466.44 1444.88 1468.59 Q1443.05 1470.74 1443.05 1474.49 Q1443.05 1478.22 1444.88 1480.39 Q1446.73 1482.55 1449.88 1482.55 Q1453.03 1482.55 1454.85 1480.39 Q1456.71 1478.22 1456.71 1474.49 Q1456.71 1470.74 1454.85 1468.59 Q1453.03 1466.44 1449.88 1466.44 M1459.16 1451.78 L1459.16 1456.04 Q1457.4 1455.21 1455.59 1454.77 Q1453.81 1454.33 1452.05 1454.33 Q1447.42 1454.33 1444.97 1457.45 Q1442.54 1460.58 1442.19 1466.9 Q1443.56 1464.89 1445.62 1463.82 Q1447.68 1462.73 1450.16 1462.73 Q1455.36 1462.73 1458.37 1465.9 Q1461.41 1469.05 1461.41 1474.49 Q1461.41 1479.82 1458.26 1483.03 Q1455.11 1486.25 1449.88 1486.25 Q1443.88 1486.25 1440.71 1481.67 Q1437.54 1477.06 1437.54 1468.33 Q1437.54 1460.14 1441.43 1455.28 Q1445.32 1450.39 1451.87 1450.39 Q1453.63 1450.39 1455.41 1450.74 Q1457.22 1451.09 1459.16 1451.78 Z\" fill=\"#000000\" fill-rule=\"evenodd\" fill-opacity=\"1\" /><path clip-path=\"url(#clip220)\" d=\"M1466.71 1470.7 L1479.18 1470.7 L1479.18 1474.49 L1466.71 1474.49 L1466.71 1470.7 Z\" fill=\"#000000\" fill-rule=\"evenodd\" fill-opacity=\"1\" /><path clip-path=\"url(#clip220)\" d=\"M1487.38 1481.64 L1495.02 1481.64 L1495.02 1455.28 L1486.71 1456.95 L1486.71 1452.69 L1494.97 1451.02 L1499.65 1451.02 L1499.65 1481.64 L1507.28 1481.64 L1507.28 1485.58 L1487.38 1485.58 L1487.38 1481.64 Z\" fill=\"#000000\" fill-rule=\"evenodd\" fill-opacity=\"1\" /><path clip-path=\"url(#clip220)\" d=\"M1515.55 1451.02 L1537.77 1451.02 L1537.77 1453.01 L1525.22 1485.58 L1520.34 1485.58 L1532.15 1454.96 L1515.55 1454.96 L1515.55 1451.02 Z\" fill=\"#000000\" fill-rule=\"evenodd\" fill-opacity=\"1\" /><path clip-path=\"url(#clip220)\" d=\"M1822.81 1481.64 L1839.13 1481.64 L1839.13 1485.58 L1817.19 1485.58 L1817.19 1481.64 Q1819.85 1478.89 1824.43 1474.26 Q1829.04 1469.61 1830.22 1468.27 Q1832.47 1465.74 1833.35 1464.01 Q1834.25 1462.25 1834.25 1460.56 Q1834.25 1457.8 1832.3 1456.07 Q1830.38 1454.33 1827.28 1454.33 Q1825.08 1454.33 1822.63 1455.09 Q1820.2 1455.86 1817.42 1457.41 L1817.42 1452.69 Q1820.24 1451.55 1822.7 1450.97 Q1825.15 1450.39 1827.19 1450.39 Q1832.56 1450.39 1835.75 1453.08 Q1838.95 1455.77 1838.95 1460.26 Q1838.95 1462.39 1838.14 1464.31 Q1837.35 1466.2 1835.24 1468.8 Q1834.66 1469.47 1831.56 1472.69 Q1828.46 1475.88 1822.81 1481.64 Z\" fill=\"#000000\" fill-rule=\"evenodd\" fill-opacity=\"1\" /><path clip-path=\"url(#clip220)\" d=\"M1858.95 1454.1 Q1855.34 1454.1 1853.51 1457.66 Q1851.7 1461.2 1851.7 1468.33 Q1851.7 1475.44 1853.51 1479.01 Q1855.34 1482.55 1858.95 1482.55 Q1862.58 1482.55 1864.39 1479.01 Q1866.22 1475.44 1866.22 1468.33 Q1866.22 1461.2 1864.39 1457.66 Q1862.58 1454.1 1858.95 1454.1 M1858.95 1450.39 Q1864.76 1450.39 1867.81 1455 Q1870.89 1459.58 1870.89 1468.33 Q1870.89 1477.06 1867.81 1481.67 Q1864.76 1486.25 1858.95 1486.25 Q1853.14 1486.25 1850.06 1481.67 Q1847 1477.06 1847 1468.33 Q1847 1459.58 1850.06 1455 Q1853.14 1450.39 1858.95 1450.39 Z\" fill=\"#000000\" fill-rule=\"evenodd\" fill-opacity=\"1\" /><path clip-path=\"url(#clip220)\" d=\"M1883.14 1481.64 L1899.46 1481.64 L1899.46 1485.58 L1877.51 1485.58 L1877.51 1481.64 Q1880.17 1478.89 1884.76 1474.26 Q1889.36 1469.61 1890.54 1468.27 Q1892.79 1465.74 1893.67 1464.01 Q1894.57 1462.25 1894.57 1460.56 Q1894.57 1457.8 1892.63 1456.07 Q1890.71 1454.33 1887.6 1454.33 Q1885.4 1454.33 1882.95 1455.09 Q1880.52 1455.86 1877.74 1457.41 L1877.74 1452.69 Q1880.57 1451.55 1883.02 1450.97 Q1885.47 1450.39 1887.51 1450.39 Q1892.88 1450.39 1896.08 1453.08 Q1899.27 1455.77 1899.27 1460.26 Q1899.27 1462.39 1898.46 1464.31 Q1897.67 1466.2 1895.57 1468.8 Q1894.99 1469.47 1891.89 1472.69 Q1888.78 1475.88 1883.14 1481.64 Z\" fill=\"#000000\" fill-rule=\"evenodd\" fill-opacity=\"1\" /><path clip-path=\"url(#clip220)\" d=\"M1919.27 1454.1 Q1915.66 1454.1 1913.83 1457.66 Q1912.03 1461.2 1912.03 1468.33 Q1912.03 1475.44 1913.83 1479.01 Q1915.66 1482.55 1919.27 1482.55 Q1922.9 1482.55 1924.71 1479.01 Q1926.54 1475.44 1926.54 1468.33 Q1926.54 1461.2 1924.71 1457.66 Q1922.9 1454.1 1919.27 1454.1 M1919.27 1450.39 Q1925.08 1450.39 1928.14 1455 Q1931.21 1459.58 1931.21 1468.33 Q1931.21 1477.06 1928.14 1481.67 Q1925.08 1486.25 1919.27 1486.25 Q1913.46 1486.25 1910.38 1481.67 Q1907.33 1477.06 1907.33 1468.33 Q1907.33 1459.58 1910.38 1455 Q1913.46 1450.39 1919.27 1450.39 Z\" fill=\"#000000\" fill-rule=\"evenodd\" fill-opacity=\"1\" /><path clip-path=\"url(#clip220)\" d=\"M1936.68 1470.7 L1949.15 1470.7 L1949.15 1474.49 L1936.68 1474.49 L1936.68 1470.7 Z\" fill=\"#000000\" fill-rule=\"evenodd\" fill-opacity=\"1\" /><path clip-path=\"url(#clip220)\" d=\"M1966.54 1454.1 Q1962.93 1454.1 1961.1 1457.66 Q1959.29 1461.2 1959.29 1468.33 Q1959.29 1475.44 1961.1 1479.01 Q1962.93 1482.55 1966.54 1482.55 Q1970.17 1482.55 1971.98 1479.01 Q1973.81 1475.44 1973.81 1468.33 Q1973.81 1461.2 1971.98 1457.66 Q1970.17 1454.1 1966.54 1454.1 M1966.54 1450.39 Q1972.35 1450.39 1975.4 1455 Q1978.48 1459.58 1978.48 1468.33 Q1978.48 1477.06 1975.4 1481.67 Q1972.35 1486.25 1966.54 1486.25 Q1960.73 1486.25 1957.65 1481.67 Q1954.59 1477.06 1954.59 1468.33 Q1954.59 1459.58 1957.65 1455 Q1960.73 1450.39 1966.54 1450.39 Z\" fill=\"#000000\" fill-rule=\"evenodd\" fill-opacity=\"1\" /><path clip-path=\"url(#clip220)\" d=\"M1997.28 1466.44 Q1994.13 1466.44 1992.28 1468.59 Q1990.45 1470.74 1990.45 1474.49 Q1990.45 1478.22 1992.28 1480.39 Q1994.13 1482.55 1997.28 1482.55 Q2000.43 1482.55 2002.26 1480.39 Q2004.11 1478.22 2004.11 1474.49 Q2004.11 1470.74 2002.26 1468.59 Q2000.43 1466.44 1997.28 1466.44 M2006.56 1451.78 L2006.56 1456.04 Q2004.8 1455.21 2003 1454.77 Q2001.21 1454.33 1999.46 1454.33 Q1994.83 1454.33 1992.37 1457.45 Q1989.94 1460.58 1989.59 1466.9 Q1990.96 1464.89 1993.02 1463.82 Q1995.08 1462.73 1997.56 1462.73 Q2002.77 1462.73 2005.77 1465.9 Q2008.81 1469.05 2008.81 1474.49 Q2008.81 1479.82 2005.66 1483.03 Q2002.51 1486.25 1997.28 1486.25 Q1991.28 1486.25 1988.11 1481.67 Q1984.94 1477.06 1984.94 1468.33 Q1984.94 1460.14 1988.83 1455.28 Q1992.72 1450.39 1999.27 1450.39 Q2001.03 1450.39 2002.81 1450.74 Q2004.62 1451.09 2006.56 1451.78 Z\" fill=\"#000000\" fill-rule=\"evenodd\" fill-opacity=\"1\" /><path clip-path=\"url(#clip220)\" d=\"M2014.11 1470.7 L2026.58 1470.7 L2026.58 1474.49 L2014.11 1474.49 L2014.11 1470.7 Z\" fill=\"#000000\" fill-rule=\"evenodd\" fill-opacity=\"1\" /><path clip-path=\"url(#clip220)\" d=\"M2038 1481.64 L2054.32 1481.64 L2054.32 1485.58 L2032.37 1485.58 L2032.37 1481.64 Q2035.03 1478.89 2039.62 1474.26 Q2044.22 1469.61 2045.4 1468.27 Q2047.65 1465.74 2048.53 1464.01 Q2049.43 1462.25 2049.43 1460.56 Q2049.43 1457.8 2047.49 1456.07 Q2045.57 1454.33 2042.46 1454.33 Q2040.27 1454.33 2037.81 1455.09 Q2035.38 1455.86 2032.6 1457.41 L2032.6 1452.69 Q2035.43 1451.55 2037.88 1450.97 Q2040.33 1450.39 2042.37 1450.39 Q2047.74 1450.39 2050.94 1453.08 Q2054.13 1455.77 2054.13 1460.26 Q2054.13 1462.39 2053.32 1464.31 Q2052.53 1466.2 2050.43 1468.8 Q2049.85 1469.47 2046.75 1472.69 Q2043.64 1475.88 2038 1481.64 Z\" fill=\"#000000\" fill-rule=\"evenodd\" fill-opacity=\"1\" /><path clip-path=\"url(#clip220)\" d=\"M2064.18 1451.02 L2082.53 1451.02 L2082.53 1454.96 L2068.46 1454.96 L2068.46 1463.43 Q2069.48 1463.08 2070.5 1462.92 Q2071.52 1462.73 2072.53 1462.73 Q2078.32 1462.73 2081.7 1465.9 Q2085.08 1469.08 2085.08 1474.49 Q2085.08 1480.07 2081.61 1483.17 Q2078.14 1486.25 2071.82 1486.25 Q2069.64 1486.25 2067.37 1485.88 Q2065.13 1485.51 2062.72 1484.77 L2062.72 1480.07 Q2064.8 1481.2 2067.02 1481.76 Q2069.25 1482.32 2071.72 1482.32 Q2075.73 1482.32 2078.07 1480.21 Q2080.4 1478.1 2080.4 1474.49 Q2080.4 1470.88 2078.07 1468.77 Q2075.73 1466.67 2071.72 1466.67 Q2069.85 1466.67 2067.97 1467.08 Q2066.12 1467.5 2064.18 1468.38 L2064.18 1451.02 Z\" fill=\"#000000\" fill-rule=\"evenodd\" fill-opacity=\"1\" /><path clip-path=\"url(#clip220)\" d=\"M1269.97 1537.81 L1269.97 1518.52 L1275.83 1518.52 L1275.83 1568.04 L1269.97 1568.04 L1269.97 1562.7 Q1268.13 1565.88 1265.29 1567.44 Q1262.49 1568.97 1258.55 1568.97 Q1252.09 1568.97 1248.01 1563.81 Q1243.97 1558.65 1243.97 1550.25 Q1243.97 1541.85 1248.01 1536.69 Q1252.09 1531.54 1258.55 1531.54 Q1262.49 1531.54 1265.29 1533.1 Q1268.13 1534.62 1269.97 1537.81 M1250.02 1550.25 Q1250.02 1556.71 1252.66 1560.4 Q1255.33 1564.07 1259.98 1564.07 Q1264.63 1564.07 1267.3 1560.4 Q1269.97 1556.71 1269.97 1550.25 Q1269.97 1543.79 1267.3 1540.13 Q1264.63 1536.44 1259.98 1536.44 Q1255.33 1536.44 1252.66 1540.13 Q1250.02 1543.79 1250.02 1550.25 Z\" fill=\"#000000\" fill-rule=\"evenodd\" fill-opacity=\"1\" /><path clip-path=\"url(#clip220)\" d=\"M1304.09 1550.12 Q1297 1550.12 1294.26 1551.75 Q1291.52 1553.37 1291.52 1557.29 Q1291.52 1560.4 1293.56 1562.25 Q1295.63 1564.07 1299.16 1564.07 Q1304.03 1564.07 1306.96 1560.63 Q1309.92 1557.16 1309.92 1551.43 L1309.92 1550.12 L1304.09 1550.12 M1315.77 1547.71 L1315.77 1568.04 L1309.92 1568.04 L1309.92 1562.63 Q1307.91 1565.88 1304.92 1567.44 Q1301.93 1568.97 1297.6 1568.97 Q1292.13 1568.97 1288.88 1565.91 Q1285.66 1562.82 1285.66 1557.67 Q1285.66 1551.65 1289.67 1548.6 Q1293.72 1545.54 1301.71 1545.54 L1309.92 1545.54 L1309.92 1544.97 Q1309.92 1540.93 1307.24 1538.73 Q1304.6 1536.5 1299.8 1536.5 Q1296.74 1536.5 1293.84 1537.23 Q1290.95 1537.97 1288.27 1539.43 L1288.27 1534.02 Q1291.49 1532.78 1294.51 1532.17 Q1297.54 1531.54 1300.4 1531.54 Q1308.14 1531.54 1311.95 1535.55 Q1315.77 1539.56 1315.77 1547.71 Z\" fill=\"#000000\" fill-rule=\"evenodd\" fill-opacity=\"1\" /><path clip-path=\"url(#clip220)\" d=\"M1342.67 1571.35 Q1340.19 1577.72 1337.83 1579.66 Q1335.48 1581.6 1331.53 1581.6 L1326.85 1581.6 L1326.85 1576.7 L1330.29 1576.7 Q1332.71 1576.7 1334.04 1575.56 Q1335.38 1574.41 1337 1570.14 L1338.05 1567.47 L1323.64 1532.4 L1329.84 1532.4 L1340.98 1560.28 L1352.12 1532.4 L1358.33 1532.4 L1342.67 1571.35 Z\" fill=\"#000000\" fill-rule=\"evenodd\" fill-opacity=\"1\" /><polyline clip-path=\"url(#clip222)\" style=\"stroke:#000000; stroke-linecap:butt; stroke-linejoin:round; stroke-width:2; stroke-opacity:0.1; fill:none\" points=\"\n",
       "  249.542,1137.82 2352.76,1137.82 \n",
       "  \"/>\n",
       "<polyline clip-path=\"url(#clip222)\" style=\"stroke:#000000; stroke-linecap:butt; stroke-linejoin:round; stroke-width:2; stroke-opacity:0.1; fill:none\" points=\"\n",
       "  249.542,790.744 2352.76,790.744 \n",
       "  \"/>\n",
       "<polyline clip-path=\"url(#clip222)\" style=\"stroke:#000000; stroke-linecap:butt; stroke-linejoin:round; stroke-width:2; stroke-opacity:0.1; fill:none\" points=\"\n",
       "  249.542,443.671 2352.76,443.671 \n",
       "  \"/>\n",
       "<polyline clip-path=\"url(#clip222)\" style=\"stroke:#000000; stroke-linecap:butt; stroke-linejoin:round; stroke-width:2; stroke-opacity:0.1; fill:none\" points=\"\n",
       "  249.542,96.5979 2352.76,96.5979 \n",
       "  \"/>\n",
       "<polyline clip-path=\"url(#clip220)\" style=\"stroke:#000000; stroke-linecap:butt; stroke-linejoin:round; stroke-width:4; stroke-opacity:1; fill:none\" points=\"\n",
       "  249.542,1423.18 249.542,47.2441 \n",
       "  \"/>\n",
       "<polyline clip-path=\"url(#clip220)\" style=\"stroke:#000000; stroke-linecap:butt; stroke-linejoin:round; stroke-width:4; stroke-opacity:1; fill:none\" points=\"\n",
       "  249.542,1137.82 268.44,1137.82 \n",
       "  \"/>\n",
       "<polyline clip-path=\"url(#clip220)\" style=\"stroke:#000000; stroke-linecap:butt; stroke-linejoin:round; stroke-width:4; stroke-opacity:1; fill:none\" points=\"\n",
       "  249.542,790.744 268.44,790.744 \n",
       "  \"/>\n",
       "<polyline clip-path=\"url(#clip220)\" style=\"stroke:#000000; stroke-linecap:butt; stroke-linejoin:round; stroke-width:4; stroke-opacity:1; fill:none\" points=\"\n",
       "  249.542,443.671 268.44,443.671 \n",
       "  \"/>\n",
       "<polyline clip-path=\"url(#clip220)\" style=\"stroke:#000000; stroke-linecap:butt; stroke-linejoin:round; stroke-width:4; stroke-opacity:1; fill:none\" points=\"\n",
       "  249.542,96.5979 268.44,96.5979 \n",
       "  \"/>\n",
       "<path clip-path=\"url(#clip220)\" d=\"M131.968 1136.46 Q135.325 1137.18 137.2 1139.45 Q139.098 1141.72 139.098 1145.05 Q139.098 1150.17 135.579 1152.97 Q132.061 1155.77 125.58 1155.77 Q123.404 1155.77 121.089 1155.33 Q118.797 1154.91 116.343 1154.05 L116.343 1149.54 Q118.288 1150.68 120.603 1151.25 Q122.918 1151.83 125.441 1151.83 Q129.839 1151.83 132.13 1150.1 Q134.445 1148.36 134.445 1145.05 Q134.445 1141.99 132.292 1140.28 Q130.163 1138.55 126.343 1138.55 L122.316 1138.55 L122.316 1134.7 L126.529 1134.7 Q129.978 1134.7 131.806 1133.34 Q133.635 1131.95 133.635 1129.36 Q133.635 1126.69 131.737 1125.28 Q129.862 1123.85 126.343 1123.85 Q124.422 1123.85 122.223 1124.26 Q120.024 1124.68 117.385 1125.56 L117.385 1121.39 Q120.047 1120.65 122.362 1120.28 Q124.7 1119.91 126.76 1119.91 Q132.084 1119.91 135.186 1122.34 Q138.288 1124.75 138.288 1128.87 Q138.288 1131.74 136.644 1133.73 Q135.001 1135.7 131.968 1136.46 Z\" fill=\"#000000\" fill-rule=\"evenodd\" fill-opacity=\"1\" /><path clip-path=\"url(#clip220)\" d=\"M147.964 1149.22 L152.848 1149.22 L152.848 1155.1 L147.964 1155.1 L147.964 1149.22 Z\" fill=\"#000000\" fill-rule=\"evenodd\" fill-opacity=\"1\" /><path clip-path=\"url(#clip220)\" d=\"M163.172 1154.38 L163.172 1150.12 Q164.931 1150.95 166.737 1151.39 Q168.542 1151.83 170.278 1151.83 Q174.908 1151.83 177.339 1148.73 Q179.792 1145.61 180.139 1139.26 Q178.797 1141.25 176.737 1142.32 Q174.677 1143.38 172.177 1143.38 Q166.991 1143.38 163.959 1140.26 Q160.95 1137.11 160.95 1131.67 Q160.95 1126.35 164.098 1123.13 Q167.246 1119.91 172.477 1119.91 Q178.473 1119.91 181.621 1124.52 Q184.792 1129.1 184.792 1137.85 Q184.792 1146.02 180.903 1150.91 Q177.038 1155.77 170.487 1155.77 Q168.727 1155.77 166.922 1155.42 Q165.116 1155.07 163.172 1154.38 M172.477 1139.73 Q175.626 1139.73 177.454 1137.57 Q179.306 1135.42 179.306 1131.67 Q179.306 1127.94 177.454 1125.79 Q175.626 1123.62 172.477 1123.62 Q169.329 1123.62 167.477 1125.79 Q165.649 1127.94 165.649 1131.67 Q165.649 1135.42 167.477 1137.57 Q169.329 1139.73 172.477 1139.73 Z\" fill=\"#000000\" fill-rule=\"evenodd\" fill-opacity=\"1\" /><path clip-path=\"url(#clip220)\" d=\"M197.223 1151.16 L213.542 1151.16 L213.542 1155.1 L191.598 1155.1 L191.598 1151.16 Q194.26 1148.41 198.843 1143.78 Q203.449 1139.12 204.63 1137.78 Q206.875 1135.26 207.755 1133.52 Q208.658 1131.76 208.658 1130.07 Q208.658 1127.32 206.713 1125.58 Q204.792 1123.85 201.69 1123.85 Q199.491 1123.85 197.037 1124.61 Q194.607 1125.37 191.829 1126.93 L191.829 1122.2 Q194.653 1121.07 197.107 1120.49 Q199.561 1119.91 201.598 1119.91 Q206.968 1119.91 210.162 1122.6 Q213.357 1125.28 213.357 1129.77 Q213.357 1131.9 212.547 1133.82 Q211.76 1135.72 209.653 1138.31 Q209.074 1138.99 205.973 1142.2 Q202.871 1145.4 197.223 1151.16 Z\" fill=\"#000000\" fill-rule=\"evenodd\" fill-opacity=\"1\" /><path clip-path=\"url(#clip220)\" d=\"M129.885 789.389 Q133.242 790.107 135.117 792.376 Q137.015 794.644 137.015 797.977 Q137.015 803.093 133.496 805.894 Q129.978 808.695 123.496 808.695 Q121.32 808.695 119.006 808.255 Q116.714 807.838 114.26 806.982 L114.26 802.468 Q116.205 803.602 118.519 804.181 Q120.834 804.76 123.357 804.76 Q127.755 804.76 130.047 803.024 Q132.362 801.288 132.362 797.977 Q132.362 794.922 130.209 793.209 Q128.08 791.473 124.26 791.473 L120.232 791.473 L120.232 787.63 L124.445 787.63 Q127.894 787.63 129.723 786.264 Q131.552 784.876 131.552 782.283 Q131.552 779.621 129.654 778.209 Q127.779 776.774 124.26 776.774 Q122.339 776.774 120.14 777.19 Q117.941 777.607 115.302 778.487 L115.302 774.32 Q117.964 773.579 120.279 773.209 Q122.617 772.839 124.677 772.839 Q130.001 772.839 133.103 775.269 Q136.204 777.677 136.204 781.797 Q136.204 784.667 134.561 786.658 Q132.917 788.626 129.885 789.389 Z\" fill=\"#000000\" fill-rule=\"evenodd\" fill-opacity=\"1\" /><path clip-path=\"url(#clip220)\" d=\"M145.88 802.144 L150.765 802.144 L150.765 808.024 L145.88 808.024 L145.88 802.144 Z\" fill=\"#000000\" fill-rule=\"evenodd\" fill-opacity=\"1\" /><path clip-path=\"url(#clip220)\" d=\"M161.089 807.306 L161.089 803.047 Q162.848 803.88 164.653 804.32 Q166.459 804.76 168.195 804.76 Q172.825 804.76 175.255 801.658 Q177.709 798.533 178.056 792.19 Q176.714 794.181 174.653 795.246 Q172.593 796.311 170.093 796.311 Q164.908 796.311 161.876 793.186 Q158.866 790.038 158.866 784.598 Q158.866 779.274 162.015 776.056 Q165.163 772.839 170.394 772.839 Q176.389 772.839 179.538 777.445 Q182.709 782.028 182.709 790.778 Q182.709 798.95 178.82 803.834 Q174.954 808.695 168.403 808.695 Q166.644 808.695 164.839 808.348 Q163.033 808 161.089 807.306 M170.394 792.653 Q173.542 792.653 175.371 790.501 Q177.223 788.348 177.223 784.598 Q177.223 780.871 175.371 778.718 Q173.542 776.542 170.394 776.542 Q167.246 776.542 165.394 778.718 Q163.565 780.871 163.565 784.598 Q163.565 788.348 165.394 790.501 Q167.246 792.653 170.394 792.653 Z\" fill=\"#000000\" fill-rule=\"evenodd\" fill-opacity=\"1\" /><path clip-path=\"url(#clip220)\" d=\"M203.959 777.538 L192.153 795.987 L203.959 795.987 L203.959 777.538 M202.732 773.464 L208.612 773.464 L208.612 795.987 L213.542 795.987 L213.542 799.876 L208.612 799.876 L208.612 808.024 L203.959 808.024 L203.959 799.876 L188.357 799.876 L188.357 795.362 L202.732 773.464 Z\" fill=\"#000000\" fill-rule=\"evenodd\" fill-opacity=\"1\" /><path clip-path=\"url(#clip220)\" d=\"M130.209 442.317 Q133.566 443.034 135.441 445.303 Q137.339 447.571 137.339 450.905 Q137.339 456.02 133.82 458.821 Q130.302 461.622 123.82 461.622 Q121.644 461.622 119.33 461.182 Q117.038 460.766 114.584 459.909 L114.584 455.395 Q116.529 456.529 118.843 457.108 Q121.158 457.687 123.681 457.687 Q128.08 457.687 130.371 455.951 Q132.686 454.215 132.686 450.905 Q132.686 447.849 130.533 446.136 Q128.404 444.4 124.584 444.4 L120.556 444.4 L120.556 440.557 L124.769 440.557 Q128.218 440.557 130.047 439.192 Q131.876 437.803 131.876 435.21 Q131.876 432.548 129.978 431.136 Q128.103 429.701 124.584 429.701 Q122.663 429.701 120.464 430.118 Q118.265 430.534 115.626 431.414 L115.626 427.247 Q118.288 426.506 120.603 426.136 Q122.941 425.766 125.001 425.766 Q130.325 425.766 133.427 428.196 Q136.529 430.604 136.529 434.724 Q136.529 437.594 134.885 439.585 Q133.242 441.553 130.209 442.317 Z\" fill=\"#000000\" fill-rule=\"evenodd\" fill-opacity=\"1\" /><path clip-path=\"url(#clip220)\" d=\"M146.204 455.071 L151.089 455.071 L151.089 460.951 L146.204 460.951 L146.204 455.071 Z\" fill=\"#000000\" fill-rule=\"evenodd\" fill-opacity=\"1\" /><path clip-path=\"url(#clip220)\" d=\"M161.413 460.233 L161.413 455.974 Q163.172 456.807 164.977 457.247 Q166.783 457.687 168.519 457.687 Q173.149 457.687 175.579 454.585 Q178.033 451.46 178.38 445.117 Q177.038 447.108 174.977 448.173 Q172.917 449.238 170.417 449.238 Q165.232 449.238 162.2 446.113 Q159.19 442.965 159.19 437.525 Q159.19 432.201 162.339 428.983 Q165.487 425.766 170.718 425.766 Q176.714 425.766 179.862 430.372 Q183.033 434.956 183.033 443.705 Q183.033 451.877 179.144 456.761 Q175.278 461.622 168.727 461.622 Q166.968 461.622 165.163 461.275 Q163.357 460.928 161.413 460.233 M170.718 445.58 Q173.866 445.58 175.695 443.428 Q177.547 441.275 177.547 437.525 Q177.547 433.798 175.695 431.645 Q173.866 429.469 170.718 429.469 Q167.57 429.469 165.718 431.645 Q163.89 433.798 163.89 437.525 Q163.89 441.275 165.718 443.428 Q167.57 445.58 170.718 445.58 Z\" fill=\"#000000\" fill-rule=\"evenodd\" fill-opacity=\"1\" /><path clip-path=\"url(#clip220)\" d=\"M202.014 441.807 Q198.866 441.807 197.014 443.96 Q195.186 446.113 195.186 449.863 Q195.186 453.59 197.014 455.766 Q198.866 457.918 202.014 457.918 Q205.162 457.918 206.991 455.766 Q208.843 453.59 208.843 449.863 Q208.843 446.113 206.991 443.96 Q205.162 441.807 202.014 441.807 M211.297 427.155 L211.297 431.414 Q209.537 430.581 207.732 430.141 Q205.949 429.701 204.19 429.701 Q199.561 429.701 197.107 432.826 Q194.676 435.951 194.329 442.27 Q195.695 440.256 197.755 439.192 Q199.815 438.104 202.292 438.104 Q207.5 438.104 210.51 441.275 Q213.542 444.423 213.542 449.863 Q213.542 455.187 210.394 458.404 Q207.246 461.622 202.014 461.622 Q196.019 461.622 192.848 457.039 Q189.676 452.432 189.676 443.705 Q189.676 435.511 193.565 430.65 Q197.454 425.766 204.005 425.766 Q205.764 425.766 207.547 426.113 Q209.352 426.46 211.297 427.155 Z\" fill=\"#000000\" fill-rule=\"evenodd\" fill-opacity=\"1\" /><path clip-path=\"url(#clip220)\" d=\"M130.464 95.2437 Q133.82 95.9613 135.695 98.2298 Q137.593 100.498 137.593 103.832 Q137.593 108.947 134.075 111.748 Q130.556 114.549 124.075 114.549 Q121.899 114.549 119.584 114.109 Q117.293 113.693 114.839 112.836 L114.839 108.322 Q116.783 109.457 119.098 110.035 Q121.413 110.614 123.936 110.614 Q128.334 110.614 130.626 108.878 Q132.941 107.142 132.941 103.832 Q132.941 100.776 130.788 99.0631 Q128.658 97.327 124.839 97.327 L120.811 97.327 L120.811 93.4844 L125.024 93.4844 Q128.473 93.4844 130.302 92.1187 Q132.13 90.7298 132.13 88.1373 Q132.13 85.4752 130.232 84.0632 Q128.357 82.628 124.839 82.628 Q122.918 82.628 120.718 83.0447 Q118.519 83.4614 115.881 84.341 L115.881 80.1743 Q118.543 79.4336 120.857 79.0632 Q123.195 78.6929 125.255 78.6929 Q130.58 78.6929 133.681 81.1234 Q136.783 83.5308 136.783 87.6511 Q136.783 90.5215 135.14 92.5122 Q133.496 94.4798 130.464 95.2437 Z\" fill=\"#000000\" fill-rule=\"evenodd\" fill-opacity=\"1\" /><path clip-path=\"url(#clip220)\" d=\"M146.459 107.998 L151.343 107.998 L151.343 113.878 L146.459 113.878 L146.459 107.998 Z\" fill=\"#000000\" fill-rule=\"evenodd\" fill-opacity=\"1\" /><path clip-path=\"url(#clip220)\" d=\"M161.667 113.16 L161.667 108.901 Q163.427 109.734 165.232 110.174 Q167.038 110.614 168.774 110.614 Q173.403 110.614 175.834 107.512 Q178.288 104.387 178.635 98.0446 Q177.292 100.035 175.232 101.1 Q173.172 102.165 170.672 102.165 Q165.487 102.165 162.454 99.04 Q159.445 95.8918 159.445 90.4521 Q159.445 85.128 162.593 81.9104 Q165.741 78.6929 170.973 78.6929 Q176.968 78.6929 180.116 83.2993 Q183.288 87.8826 183.288 96.6326 Q183.288 104.804 179.399 109.688 Q175.533 114.549 168.982 114.549 Q167.223 114.549 165.417 114.202 Q163.612 113.855 161.667 113.16 M170.973 98.5076 Q174.121 98.5076 175.95 96.3548 Q177.801 94.202 177.801 90.4521 Q177.801 86.7252 175.95 84.5725 Q174.121 82.3965 170.973 82.3965 Q167.825 82.3965 165.973 84.5725 Q164.144 86.7252 164.144 90.4521 Q164.144 94.202 165.973 96.3548 Q167.825 98.5076 170.973 98.5076 Z\" fill=\"#000000\" fill-rule=\"evenodd\" fill-opacity=\"1\" /><path clip-path=\"url(#clip220)\" d=\"M201.69 97.4659 Q198.357 97.4659 196.436 99.2483 Q194.538 101.031 194.538 104.156 Q194.538 107.281 196.436 109.063 Q198.357 110.845 201.69 110.845 Q205.024 110.845 206.945 109.063 Q208.866 107.258 208.866 104.156 Q208.866 101.031 206.945 99.2483 Q205.047 97.4659 201.69 97.4659 M197.014 95.4752 Q194.005 94.7344 192.315 92.6743 Q190.649 90.6141 190.649 87.6511 Q190.649 83.5077 193.588 81.1003 Q196.551 78.6929 201.69 78.6929 Q206.852 78.6929 209.792 81.1003 Q212.732 83.5077 212.732 87.6511 Q212.732 90.6141 211.042 92.6743 Q209.375 94.7344 206.389 95.4752 Q209.769 96.2622 211.644 98.5539 Q213.542 100.846 213.542 104.156 Q213.542 109.179 210.463 111.864 Q207.408 114.549 201.69 114.549 Q195.973 114.549 192.894 111.864 Q189.838 109.179 189.838 104.156 Q189.838 100.846 191.737 98.5539 Q193.635 96.2622 197.014 95.4752 M195.301 88.091 Q195.301 90.7761 196.968 92.2808 Q198.658 93.7854 201.69 93.7854 Q204.699 93.7854 206.389 92.2808 Q208.102 90.7761 208.102 88.091 Q208.102 85.4058 206.389 83.9012 Q204.699 82.3965 201.69 82.3965 Q198.658 82.3965 196.968 83.9012 Q195.301 85.4058 195.301 88.091 Z\" fill=\"#000000\" fill-rule=\"evenodd\" fill-opacity=\"1\" /><path clip-path=\"url(#clip220)\" d=\"M21.7677 866.473 L39.6235 866.473 L39.6235 858.388 Q39.6235 853.901 37.3 851.45 Q34.9765 848.999 30.6797 848.999 Q26.4147 848.999 24.0912 851.45 Q21.7677 853.901 21.7677 858.388 L21.7677 866.473 M16.4842 872.902 L16.4842 858.388 Q16.4842 850.399 20.1126 846.325 Q23.7092 842.219 30.6797 842.219 Q37.7138 842.219 41.3104 846.325 Q44.907 850.399 44.907 858.388 L44.907 866.473 L64.0042 866.473 L64.0042 872.902 L16.4842 872.902 Z\" fill=\"#000000\" fill-rule=\"evenodd\" fill-opacity=\"1\" /><path clip-path=\"url(#clip220)\" d=\"M16.4842 833.594 L16.4842 827.165 L58.5933 827.165 L58.5933 804.025 L64.0042 804.025 L64.0042 833.594 L16.4842 833.594 Z\" fill=\"#000000\" fill-rule=\"evenodd\" fill-opacity=\"1\" /><path clip-path=\"url(#clip220)\" d=\"M16.4842 797.278 L16.4842 788.62 L56.238 767.55 L16.4842 767.55 L16.4842 761.311 L64.0042 761.311 L64.0042 769.969 L24.2503 791.039 L64.0042 791.039 L64.0042 797.278 L16.4842 797.278 Z\" fill=\"#000000\" fill-rule=\"evenodd\" fill-opacity=\"1\" /><path clip-path=\"url(#clip220)\" d=\"M16.4842 738.363 L16.4842 732.952 L70.0516 749.503 L70.0516 754.914 L16.4842 738.363 Z\" fill=\"#000000\" fill-rule=\"evenodd\" fill-opacity=\"1\" /><path clip-path=\"url(#clip220)\" d=\"M16.4842 727.287 L16.4842 720.825 L45.3526 720.825 Q52.9915 720.825 56.3653 718.056 Q59.7073 715.287 59.7073 709.081 Q59.7073 702.906 56.3653 700.137 Q52.9915 697.368 45.3526 697.368 L16.4842 697.368 L16.4842 690.907 L46.1484 690.907 Q55.4423 690.907 60.1847 695.522 Q64.9272 700.105 64.9272 709.081 Q64.9272 718.088 60.1847 722.703 Q55.4423 727.287 46.1484 727.287 L16.4842 727.287 Z\" fill=\"#000000\" fill-rule=\"evenodd\" fill-opacity=\"1\" /><path clip-path=\"url(#clip220)\" d=\"M18.0438 650.357 L24.314 650.357 Q22.5634 654.017 21.704 657.264 Q20.8447 660.51 20.8447 663.534 Q20.8447 668.786 22.8817 671.65 Q24.9187 674.483 28.6745 674.483 Q31.8255 674.483 33.4488 672.605 Q35.0402 670.696 36.0269 665.412 L36.8226 661.529 Q38.1912 654.336 41.6605 650.93 Q45.098 647.493 50.8908 647.493 Q57.7976 647.493 61.3624 652.139 Q64.9272 656.755 64.9272 665.698 Q64.9272 669.072 64.1633 672.892 Q63.3994 676.679 61.9035 680.753 L55.2831 680.753 Q57.4793 676.838 58.5933 673.083 Q59.7073 669.327 59.7073 665.698 Q59.7073 660.192 57.543 657.2 Q55.3786 654.208 51.3682 654.208 Q47.8671 654.208 45.8937 656.373 Q43.9204 658.505 42.9337 663.407 L42.1698 667.322 Q40.7375 674.515 37.682 677.73 Q34.6264 680.944 29.1837 680.944 Q22.8817 680.944 19.2532 676.52 Q15.6248 672.064 15.6248 664.266 Q15.6248 660.924 16.2295 657.455 Q16.8343 653.986 18.0438 650.357 Z\" fill=\"#000000\" fill-rule=\"evenodd\" fill-opacity=\"1\" /><path clip-path=\"url(#clip220)\" d=\"M21.7677 631.037 L58.7206 631.037 L58.7206 623.271 Q58.7206 613.436 54.2646 608.885 Q49.8086 604.301 40.1964 604.301 Q30.6479 604.301 26.2237 608.885 Q21.7677 613.436 21.7677 623.271 L21.7677 631.037 M16.4842 637.467 L16.4842 624.258 Q16.4842 610.444 22.2451 603.983 Q27.9743 597.522 40.1964 597.522 Q52.4822 597.522 58.2432 604.015 Q64.0042 610.508 64.0042 624.258 L64.0042 637.467 L16.4842 637.467 Z\" fill=\"#000000\" fill-rule=\"evenodd\" fill-opacity=\"1\" /><polyline clip-path=\"url(#clip222)\" style=\"stroke:#009af9; stroke-linecap:butt; stroke-linejoin:round; stroke-width:4; stroke-opacity:1; fill:none\" points=\"\n",
       "  309.067,304.842 377.486,959.074 445.906,1274.91 514.325,490.526 582.745,1108.32 788.003,1143.02 856.423,698.769 924.842,1172.52 1061.68,966.015 1266.94,768.184 \n",
       "  1335.36,1384.24 1403.78,561.676 1472.2,462.76 1540.62,198.984 1745.88,327.401 1814.29,945.191 1882.71,799.42 1951.13,403.757 2019.55,275.34 2224.81,346.49 \n",
       "  2293.23,86.1857 \n",
       "  \"/>\n",
       "<path clip-path=\"url(#clip222)\" d=\"M309.067 320.842 L297.755 316.154 L293.067 304.842 L297.755 293.53 L309.067 288.842 L320.379 293.53 L325.067 304.842 L320.379 316.154 Z\" fill=\"#009af9\" fill-rule=\"evenodd\" fill-opacity=\"1\" stroke=\"#000000\" stroke-opacity=\"1\" stroke-width=\"3.2\"/>\n",
       "<path clip-path=\"url(#clip222)\" d=\"M377.486 975.074 L366.174 970.386 L361.486 959.074 L366.174 947.762 L377.486 943.074 L388.798 947.762 L393.486 959.074 L388.798 970.386 Z\" fill=\"#009af9\" fill-rule=\"evenodd\" fill-opacity=\"1\" stroke=\"#000000\" stroke-opacity=\"1\" stroke-width=\"3.2\"/>\n",
       "<path clip-path=\"url(#clip222)\" d=\"M445.906 1290.91 L434.594 1286.22 L429.906 1274.91 L434.594 1263.6 L445.906 1258.91 L457.218 1263.6 L461.906 1274.91 L457.218 1286.22 Z\" fill=\"#009af9\" fill-rule=\"evenodd\" fill-opacity=\"1\" stroke=\"#000000\" stroke-opacity=\"1\" stroke-width=\"3.2\"/>\n",
       "<path clip-path=\"url(#clip222)\" d=\"M514.325 506.526 L503.013 501.838 L498.325 490.526 L503.013 479.214 L514.325 474.526 L525.637 479.214 L530.325 490.526 L525.637 501.838 Z\" fill=\"#009af9\" fill-rule=\"evenodd\" fill-opacity=\"1\" stroke=\"#000000\" stroke-opacity=\"1\" stroke-width=\"3.2\"/>\n",
       "<path clip-path=\"url(#clip222)\" d=\"M582.745 1124.32 L571.433 1119.63 L566.745 1108.32 L571.433 1097 L582.745 1092.32 L594.057 1097 L598.745 1108.32 L594.057 1119.63 Z\" fill=\"#009af9\" fill-rule=\"evenodd\" fill-opacity=\"1\" stroke=\"#000000\" stroke-opacity=\"1\" stroke-width=\"3.2\"/>\n",
       "<path clip-path=\"url(#clip222)\" d=\"M788.003 1159.02 L776.691 1154.33 L772.003 1143.02 L776.691 1131.71 L788.003 1127.02 L799.315 1131.71 L804.003 1143.02 L799.315 1154.33 Z\" fill=\"#009af9\" fill-rule=\"evenodd\" fill-opacity=\"1\" stroke=\"#000000\" stroke-opacity=\"1\" stroke-width=\"3.2\"/>\n",
       "<path clip-path=\"url(#clip222)\" d=\"M856.423 714.769 L845.111 710.081 L840.423 698.769 L845.111 687.457 L856.423 682.769 L867.735 687.457 L872.423 698.769 L867.735 710.081 Z\" fill=\"#009af9\" fill-rule=\"evenodd\" fill-opacity=\"1\" stroke=\"#000000\" stroke-opacity=\"1\" stroke-width=\"3.2\"/>\n",
       "<path clip-path=\"url(#clip222)\" d=\"M924.842 1188.52 L913.53 1183.84 L908.842 1172.52 L913.53 1161.21 L924.842 1156.52 L936.154 1161.21 L940.842 1172.52 L936.154 1183.84 Z\" fill=\"#009af9\" fill-rule=\"evenodd\" fill-opacity=\"1\" stroke=\"#000000\" stroke-opacity=\"1\" stroke-width=\"3.2\"/>\n",
       "<path clip-path=\"url(#clip222)\" d=\"M1061.68 982.015 L1050.37 977.327 L1045.68 966.015 L1050.37 954.703 L1061.68 950.015 L1072.99 954.703 L1077.68 966.015 L1072.99 977.327 Z\" fill=\"#009af9\" fill-rule=\"evenodd\" fill-opacity=\"1\" stroke=\"#000000\" stroke-opacity=\"1\" stroke-width=\"3.2\"/>\n",
       "<path clip-path=\"url(#clip222)\" d=\"M1266.94 784.184 L1255.63 779.496 L1250.94 768.184 L1255.63 756.872 L1266.94 752.184 L1278.25 756.872 L1282.94 768.184 L1278.25 779.496 Z\" fill=\"#009af9\" fill-rule=\"evenodd\" fill-opacity=\"1\" stroke=\"#000000\" stroke-opacity=\"1\" stroke-width=\"3.2\"/>\n",
       "<path clip-path=\"url(#clip222)\" d=\"M1335.36 1400.24 L1324.05 1395.55 L1319.36 1384.24 L1324.05 1372.93 L1335.36 1368.24 L1346.67 1372.93 L1351.36 1384.24 L1346.67 1395.55 Z\" fill=\"#009af9\" fill-rule=\"evenodd\" fill-opacity=\"1\" stroke=\"#000000\" stroke-opacity=\"1\" stroke-width=\"3.2\"/>\n",
       "<path clip-path=\"url(#clip222)\" d=\"M1403.78 577.676 L1392.47 572.988 L1387.78 561.676 L1392.47 550.364 L1403.78 545.676 L1415.09 550.364 L1419.78 561.676 L1415.09 572.988 Z\" fill=\"#009af9\" fill-rule=\"evenodd\" fill-opacity=\"1\" stroke=\"#000000\" stroke-opacity=\"1\" stroke-width=\"3.2\"/>\n",
       "<path clip-path=\"url(#clip222)\" d=\"M1472.2 478.76 L1460.89 474.072 L1456.2 462.76 L1460.89 451.448 L1472.2 446.76 L1483.51 451.448 L1488.2 462.76 L1483.51 474.072 Z\" fill=\"#009af9\" fill-rule=\"evenodd\" fill-opacity=\"1\" stroke=\"#000000\" stroke-opacity=\"1\" stroke-width=\"3.2\"/>\n",
       "<path clip-path=\"url(#clip222)\" d=\"M1540.62 214.984 L1529.31 210.296 L1524.62 198.984 L1529.31 187.672 L1540.62 182.984 L1551.93 187.672 L1556.62 198.984 L1551.93 210.296 Z\" fill=\"#009af9\" fill-rule=\"evenodd\" fill-opacity=\"1\" stroke=\"#000000\" stroke-opacity=\"1\" stroke-width=\"3.2\"/>\n",
       "<path clip-path=\"url(#clip222)\" d=\"M1745.88 343.401 L1734.56 338.713 L1729.88 327.401 L1734.56 316.089 L1745.88 311.401 L1757.19 316.089 L1761.88 327.401 L1757.19 338.713 Z\" fill=\"#009af9\" fill-rule=\"evenodd\" fill-opacity=\"1\" stroke=\"#000000\" stroke-opacity=\"1\" stroke-width=\"3.2\"/>\n",
       "<path clip-path=\"url(#clip222)\" d=\"M1814.29 961.191 L1802.98 956.503 L1798.29 945.191 L1802.98 933.879 L1814.29 929.191 L1825.61 933.879 L1830.29 945.191 L1825.61 956.503 Z\" fill=\"#009af9\" fill-rule=\"evenodd\" fill-opacity=\"1\" stroke=\"#000000\" stroke-opacity=\"1\" stroke-width=\"3.2\"/>\n",
       "<path clip-path=\"url(#clip222)\" d=\"M1882.71 815.42 L1871.4 810.732 L1866.71 799.42 L1871.4 788.108 L1882.71 783.42 L1894.03 788.108 L1898.71 799.42 L1894.03 810.732 Z\" fill=\"#009af9\" fill-rule=\"evenodd\" fill-opacity=\"1\" stroke=\"#000000\" stroke-opacity=\"1\" stroke-width=\"3.2\"/>\n",
       "<path clip-path=\"url(#clip222)\" d=\"M1951.13 419.757 L1939.82 415.069 L1935.13 403.757 L1939.82 392.445 L1951.13 387.757 L1962.45 392.445 L1967.13 403.757 L1962.45 415.069 Z\" fill=\"#009af9\" fill-rule=\"evenodd\" fill-opacity=\"1\" stroke=\"#000000\" stroke-opacity=\"1\" stroke-width=\"3.2\"/>\n",
       "<path clip-path=\"url(#clip222)\" d=\"M2019.55 291.34 L2008.24 286.652 L2003.55 275.34 L2008.24 264.028 L2019.55 259.34 L2030.87 264.028 L2035.55 275.34 L2030.87 286.652 Z\" fill=\"#009af9\" fill-rule=\"evenodd\" fill-opacity=\"1\" stroke=\"#000000\" stroke-opacity=\"1\" stroke-width=\"3.2\"/>\n",
       "<path clip-path=\"url(#clip222)\" d=\"M2224.81 362.49 L2213.5 357.802 L2208.81 346.49 L2213.5 335.178 L2224.81 330.49 L2236.12 335.178 L2240.81 346.49 L2236.12 357.802 Z\" fill=\"#009af9\" fill-rule=\"evenodd\" fill-opacity=\"1\" stroke=\"#000000\" stroke-opacity=\"1\" stroke-width=\"3.2\"/>\n",
       "<path clip-path=\"url(#clip222)\" d=\"M2293.23 102.186 L2281.92 97.4977 L2277.23 86.1857 L2281.92 74.8737 L2293.23 70.1857 L2304.54 74.8737 L2309.23 86.1857 L2304.54 97.4977 Z\" fill=\"#009af9\" fill-rule=\"evenodd\" fill-opacity=\"1\" stroke=\"#000000\" stroke-opacity=\"1\" stroke-width=\"3.2\"/>\n",
       "</svg>\n"
      ]
     },
     "execution_count": 83,
     "metadata": {},
     "output_type": "execute_result"
    }
   ],
   "source": [
    "plot(dates[rates_ok], rates[rates_ok];\n",
    "xlabel=\"day\", ylabel=\"PLN/USD\", legend=false, marker=:o)"
   ]
  },
  {
   "cell_type": "code",
   "execution_count": 84,
   "id": "087f01e8",
   "metadata": {},
   "outputs": [
    {
     "data": {
      "text/plain": [
       "30-element Vector{Union{Missing, Float64}}:\n",
       " 3.968\n",
       " 3.9303\n",
       " 3.9121\n",
       " 3.9573\n",
       " 3.9217\n",
       " 3.9210333333333334\n",
       " 3.9203666666666668\n",
       " 3.9197\n",
       " 3.9453\n",
       " 3.918\n",
       " 3.92395\n",
       " 3.9299\n",
       " 3.9337\n",
       " ⋮\n",
       " 3.9741\n",
       " 3.971633333333333\n",
       " 3.9691666666666663\n",
       " 3.9667\n",
       " 3.9311\n",
       " 3.9395\n",
       " 3.9623\n",
       " 3.9697\n",
       " 3.9683333333333333\n",
       " 3.9669666666666665\n",
       " 3.9656\n",
       " 3.9806"
      ]
     },
     "execution_count": 84,
     "metadata": {},
     "output_type": "execute_result"
    }
   ],
   "source": [
    "using Impute\n",
    "rates_filled = Impute.interp(rates)"
   ]
  },
  {
   "cell_type": "code",
   "execution_count": 85,
   "id": "46644480",
   "metadata": {},
   "outputs": [
    {
     "data": {
      "image/svg+xml": [
       "<?xml version=\"1.0\" encoding=\"utf-8\"?>\n",
       "<svg xmlns=\"http://www.w3.org/2000/svg\" xmlns:xlink=\"http://www.w3.org/1999/xlink\" width=\"600\" height=\"400\" viewBox=\"0 0 2400 1600\">\n",
       "<defs>\n",
       "  <clipPath id=\"clip260\">\n",
       "    <rect x=\"0\" y=\"0\" width=\"2400\" height=\"1600\"/>\n",
       "  </clipPath>\n",
       "</defs>\n",
       "<path clip-path=\"url(#clip260)\" d=\"\n",
       "M0 1600 L2400 1600 L2400 0 L0 0  Z\n",
       "  \" fill=\"#ffffff\" fill-rule=\"evenodd\" fill-opacity=\"1\"/>\n",
       "<defs>\n",
       "  <clipPath id=\"clip261\">\n",
       "    <rect x=\"480\" y=\"0\" width=\"1681\" height=\"1600\"/>\n",
       "  </clipPath>\n",
       "</defs>\n",
       "<path clip-path=\"url(#clip260)\" d=\"\n",
       "M249.542 1423.18 L2352.76 1423.18 L2352.76 47.2441 L249.542 47.2441  Z\n",
       "  \" fill=\"#ffffff\" fill-rule=\"evenodd\" fill-opacity=\"1\"/>\n",
       "<defs>\n",
       "  <clipPath id=\"clip262\">\n",
       "    <rect x=\"249\" y=\"47\" width=\"2104\" height=\"1377\"/>\n",
       "  </clipPath>\n",
       "</defs>\n",
       "<polyline clip-path=\"url(#clip262)\" style=\"stroke:#000000; stroke-linecap:butt; stroke-linejoin:round; stroke-width:2; stroke-opacity:0.1; fill:none\" points=\"\n",
       "  309.067,1423.18 309.067,47.2441 \n",
       "  \"/>\n",
       "<polyline clip-path=\"url(#clip262)\" style=\"stroke:#000000; stroke-linecap:butt; stroke-linejoin:round; stroke-width:2; stroke-opacity:0.1; fill:none\" points=\"\n",
       "  856.423,1423.18 856.423,47.2441 \n",
       "  \"/>\n",
       "<polyline clip-path=\"url(#clip262)\" style=\"stroke:#000000; stroke-linecap:butt; stroke-linejoin:round; stroke-width:2; stroke-opacity:0.1; fill:none\" points=\"\n",
       "  1403.78,1423.18 1403.78,47.2441 \n",
       "  \"/>\n",
       "<polyline clip-path=\"url(#clip262)\" style=\"stroke:#000000; stroke-linecap:butt; stroke-linejoin:round; stroke-width:2; stroke-opacity:0.1; fill:none\" points=\"\n",
       "  1951.13,1423.18 1951.13,47.2441 \n",
       "  \"/>\n",
       "<polyline clip-path=\"url(#clip260)\" style=\"stroke:#000000; stroke-linecap:butt; stroke-linejoin:round; stroke-width:4; stroke-opacity:1; fill:none\" points=\"\n",
       "  249.542,1423.18 2352.76,1423.18 \n",
       "  \"/>\n",
       "<polyline clip-path=\"url(#clip260)\" style=\"stroke:#000000; stroke-linecap:butt; stroke-linejoin:round; stroke-width:4; stroke-opacity:1; fill:none\" points=\"\n",
       "  309.067,1423.18 309.067,1404.28 \n",
       "  \"/>\n",
       "<polyline clip-path=\"url(#clip260)\" style=\"stroke:#000000; stroke-linecap:butt; stroke-linejoin:round; stroke-width:4; stroke-opacity:1; fill:none\" points=\"\n",
       "  856.423,1423.18 856.423,1404.28 \n",
       "  \"/>\n",
       "<polyline clip-path=\"url(#clip260)\" style=\"stroke:#000000; stroke-linecap:butt; stroke-linejoin:round; stroke-width:4; stroke-opacity:1; fill:none\" points=\"\n",
       "  1403.78,1423.18 1403.78,1404.28 \n",
       "  \"/>\n",
       "<polyline clip-path=\"url(#clip260)\" style=\"stroke:#000000; stroke-linecap:butt; stroke-linejoin:round; stroke-width:4; stroke-opacity:1; fill:none\" points=\"\n",
       "  1951.13,1423.18 1951.13,1404.28 \n",
       "  \"/>\n",
       "<path clip-path=\"url(#clip260)\" d=\"M180.862 1481.64 L197.181 1481.64 L197.181 1485.58 L175.237 1485.58 L175.237 1481.64 Q177.899 1478.89 182.482 1474.26 Q187.088 1469.61 188.269 1468.27 Q190.514 1465.74 191.394 1464.01 Q192.297 1462.25 192.297 1460.56 Q192.297 1457.8 190.352 1456.07 Q188.431 1454.33 185.329 1454.33 Q183.13 1454.33 180.676 1455.09 Q178.246 1455.86 175.468 1457.41 L175.468 1452.69 Q178.292 1451.55 180.746 1450.97 Q183.2 1450.39 185.237 1450.39 Q190.607 1450.39 193.801 1453.08 Q196.996 1455.77 196.996 1460.26 Q196.996 1462.39 196.186 1464.31 Q195.399 1466.2 193.292 1468.8 Q192.713 1469.47 189.612 1472.69 Q186.51 1475.88 180.862 1481.64 Z\" fill=\"#000000\" fill-rule=\"evenodd\" fill-opacity=\"1\" /><path clip-path=\"url(#clip260)\" d=\"M216.996 1454.1 Q213.385 1454.1 211.556 1457.66 Q209.75 1461.2 209.75 1468.33 Q209.75 1475.44 211.556 1479.01 Q213.385 1482.55 216.996 1482.55 Q220.63 1482.55 222.435 1479.01 Q224.264 1475.44 224.264 1468.33 Q224.264 1461.2 222.435 1457.66 Q220.63 1454.1 216.996 1454.1 M216.996 1450.39 Q222.806 1450.39 225.861 1455 Q228.94 1459.58 228.94 1468.33 Q228.94 1477.06 225.861 1481.67 Q222.806 1486.25 216.996 1486.25 Q211.186 1486.25 208.107 1481.67 Q205.051 1477.06 205.051 1468.33 Q205.051 1459.58 208.107 1455 Q211.186 1450.39 216.996 1450.39 Z\" fill=\"#000000\" fill-rule=\"evenodd\" fill-opacity=\"1\" /><path clip-path=\"url(#clip260)\" d=\"M241.185 1481.64 L257.505 1481.64 L257.505 1485.58 L235.56 1485.58 L235.56 1481.64 Q238.222 1478.89 242.806 1474.26 Q247.412 1469.61 248.593 1468.27 Q250.838 1465.74 251.718 1464.01 Q252.62 1462.25 252.62 1460.56 Q252.62 1457.8 250.676 1456.07 Q248.755 1454.33 245.653 1454.33 Q243.454 1454.33 241 1455.09 Q238.57 1455.86 235.792 1457.41 L235.792 1452.69 Q238.616 1451.55 241.07 1450.97 Q243.523 1450.39 245.56 1450.39 Q250.931 1450.39 254.125 1453.08 Q257.32 1455.77 257.32 1460.26 Q257.32 1462.39 256.509 1464.31 Q255.722 1466.2 253.616 1468.8 Q253.037 1469.47 249.935 1472.69 Q246.833 1475.88 241.185 1481.64 Z\" fill=\"#000000\" fill-rule=\"evenodd\" fill-opacity=\"1\" /><path clip-path=\"url(#clip260)\" d=\"M277.319 1454.1 Q273.708 1454.1 271.88 1457.66 Q270.074 1461.2 270.074 1468.33 Q270.074 1475.44 271.88 1479.01 Q273.708 1482.55 277.319 1482.55 Q280.954 1482.55 282.759 1479.01 Q284.588 1475.44 284.588 1468.33 Q284.588 1461.2 282.759 1457.66 Q280.954 1454.1 277.319 1454.1 M277.319 1450.39 Q283.13 1450.39 286.185 1455 Q289.264 1459.58 289.264 1468.33 Q289.264 1477.06 286.185 1481.67 Q283.13 1486.25 277.319 1486.25 Q271.509 1486.25 268.431 1481.67 Q265.375 1477.06 265.375 1468.33 Q265.375 1459.58 268.431 1455 Q271.509 1450.39 277.319 1450.39 Z\" fill=\"#000000\" fill-rule=\"evenodd\" fill-opacity=\"1\" /><path clip-path=\"url(#clip260)\" d=\"M294.727 1470.7 L307.204 1470.7 L307.204 1474.49 L294.727 1474.49 L294.727 1470.7 Z\" fill=\"#000000\" fill-rule=\"evenodd\" fill-opacity=\"1\" /><path clip-path=\"url(#clip260)\" d=\"M324.588 1454.1 Q320.977 1454.1 319.148 1457.66 Q317.342 1461.2 317.342 1468.33 Q317.342 1475.44 319.148 1479.01 Q320.977 1482.55 324.588 1482.55 Q328.222 1482.55 330.027 1479.01 Q331.856 1475.44 331.856 1468.33 Q331.856 1461.2 330.027 1457.66 Q328.222 1454.1 324.588 1454.1 M324.588 1450.39 Q330.398 1450.39 333.453 1455 Q336.532 1459.58 336.532 1468.33 Q336.532 1477.06 333.453 1481.67 Q330.398 1486.25 324.588 1486.25 Q318.778 1486.25 315.699 1481.67 Q312.643 1477.06 312.643 1468.33 Q312.643 1459.58 315.699 1455 Q318.778 1450.39 324.588 1450.39 Z\" fill=\"#000000\" fill-rule=\"evenodd\" fill-opacity=\"1\" /><path clip-path=\"url(#clip260)\" d=\"M355.328 1466.44 Q352.18 1466.44 350.328 1468.59 Q348.5 1470.74 348.5 1474.49 Q348.5 1478.22 350.328 1480.39 Q352.18 1482.55 355.328 1482.55 Q358.476 1482.55 360.305 1480.39 Q362.157 1478.22 362.157 1474.49 Q362.157 1470.74 360.305 1468.59 Q358.476 1466.44 355.328 1466.44 M364.611 1451.78 L364.611 1456.04 Q362.851 1455.21 361.046 1454.77 Q359.263 1454.33 357.504 1454.33 Q352.875 1454.33 350.421 1457.45 Q347.99 1460.58 347.643 1466.9 Q349.009 1464.89 351.069 1463.82 Q353.129 1462.73 355.606 1462.73 Q360.814 1462.73 363.824 1465.9 Q366.856 1469.05 366.856 1474.49 Q366.856 1479.82 363.708 1483.03 Q360.56 1486.25 355.328 1486.25 Q349.333 1486.25 346.162 1481.67 Q342.99 1477.06 342.99 1468.33 Q342.99 1460.14 346.879 1455.28 Q350.768 1450.39 357.319 1450.39 Q359.078 1450.39 360.861 1450.74 Q362.666 1451.09 364.611 1451.78 Z\" fill=\"#000000\" fill-rule=\"evenodd\" fill-opacity=\"1\" /><path clip-path=\"url(#clip260)\" d=\"M372.157 1470.7 L384.634 1470.7 L384.634 1474.49 L372.157 1474.49 L372.157 1470.7 Z\" fill=\"#000000\" fill-rule=\"evenodd\" fill-opacity=\"1\" /><path clip-path=\"url(#clip260)\" d=\"M402.018 1454.1 Q398.407 1454.1 396.578 1457.66 Q394.773 1461.2 394.773 1468.33 Q394.773 1475.44 396.578 1479.01 Q398.407 1482.55 402.018 1482.55 Q405.652 1482.55 407.458 1479.01 Q409.286 1475.44 409.286 1468.33 Q409.286 1461.2 407.458 1457.66 Q405.652 1454.1 402.018 1454.1 M402.018 1450.39 Q407.828 1450.39 410.884 1455 Q413.962 1459.58 413.962 1468.33 Q413.962 1477.06 410.884 1481.67 Q407.828 1486.25 402.018 1486.25 Q396.208 1486.25 393.129 1481.67 Q390.073 1477.06 390.073 1468.33 Q390.073 1459.58 393.129 1455 Q396.208 1450.39 402.018 1450.39 Z\" fill=\"#000000\" fill-rule=\"evenodd\" fill-opacity=\"1\" /><path clip-path=\"url(#clip260)\" d=\"M422.99 1481.64 L430.629 1481.64 L430.629 1455.28 L422.319 1456.95 L422.319 1452.69 L430.583 1451.02 L435.258 1451.02 L435.258 1481.64 L442.897 1481.64 L442.897 1485.58 L422.99 1485.58 L422.99 1481.64 Z\" fill=\"#000000\" fill-rule=\"evenodd\" fill-opacity=\"1\" /><path clip-path=\"url(#clip260)\" d=\"M727.696 1481.64 L744.016 1481.64 L744.016 1485.58 L722.071 1485.58 L722.071 1481.64 Q724.733 1478.89 729.317 1474.26 Q733.923 1469.61 735.104 1468.27 Q737.349 1465.74 738.229 1464.01 Q739.132 1462.25 739.132 1460.56 Q739.132 1457.8 737.187 1456.07 Q735.266 1454.33 732.164 1454.33 Q729.965 1454.33 727.511 1455.09 Q725.081 1455.86 722.303 1457.41 L722.303 1452.69 Q725.127 1451.55 727.581 1450.97 Q730.034 1450.39 732.071 1450.39 Q737.442 1450.39 740.636 1453.08 Q743.831 1455.77 743.831 1460.26 Q743.831 1462.39 743.02 1464.31 Q742.233 1466.2 740.127 1468.8 Q739.548 1469.47 736.446 1472.69 Q733.345 1475.88 727.696 1481.64 Z\" fill=\"#000000\" fill-rule=\"evenodd\" fill-opacity=\"1\" /><path clip-path=\"url(#clip260)\" d=\"M763.83 1454.1 Q760.219 1454.1 758.391 1457.66 Q756.585 1461.2 756.585 1468.33 Q756.585 1475.44 758.391 1479.01 Q760.219 1482.55 763.83 1482.55 Q767.465 1482.55 769.27 1479.01 Q771.099 1475.44 771.099 1468.33 Q771.099 1461.2 769.27 1457.66 Q767.465 1454.1 763.83 1454.1 M763.83 1450.39 Q769.641 1450.39 772.696 1455 Q775.775 1459.58 775.775 1468.33 Q775.775 1477.06 772.696 1481.67 Q769.641 1486.25 763.83 1486.25 Q758.02 1486.25 754.942 1481.67 Q751.886 1477.06 751.886 1468.33 Q751.886 1459.58 754.942 1455 Q758.02 1450.39 763.83 1450.39 Z\" fill=\"#000000\" fill-rule=\"evenodd\" fill-opacity=\"1\" /><path clip-path=\"url(#clip260)\" d=\"M788.02 1481.64 L804.339 1481.64 L804.339 1485.58 L782.395 1485.58 L782.395 1481.64 Q785.057 1478.89 789.64 1474.26 Q794.247 1469.61 795.428 1468.27 Q797.673 1465.74 798.552 1464.01 Q799.455 1462.25 799.455 1460.56 Q799.455 1457.8 797.511 1456.07 Q795.59 1454.33 792.488 1454.33 Q790.289 1454.33 787.835 1455.09 Q785.404 1455.86 782.627 1457.41 L782.627 1452.69 Q785.451 1451.55 787.904 1450.97 Q790.358 1450.39 792.395 1450.39 Q797.765 1450.39 800.96 1453.08 Q804.154 1455.77 804.154 1460.26 Q804.154 1462.39 803.344 1464.31 Q802.557 1466.2 800.451 1468.8 Q799.872 1469.47 796.77 1472.69 Q793.668 1475.88 788.02 1481.64 Z\" fill=\"#000000\" fill-rule=\"evenodd\" fill-opacity=\"1\" /><path clip-path=\"url(#clip260)\" d=\"M824.154 1454.1 Q820.543 1454.1 818.714 1457.66 Q816.909 1461.2 816.909 1468.33 Q816.909 1475.44 818.714 1479.01 Q820.543 1482.55 824.154 1482.55 Q827.788 1482.55 829.594 1479.01 Q831.423 1475.44 831.423 1468.33 Q831.423 1461.2 829.594 1457.66 Q827.788 1454.1 824.154 1454.1 M824.154 1450.39 Q829.964 1450.39 833.02 1455 Q836.099 1459.58 836.099 1468.33 Q836.099 1477.06 833.02 1481.67 Q829.964 1486.25 824.154 1486.25 Q818.344 1486.25 815.265 1481.67 Q812.21 1477.06 812.21 1468.33 Q812.21 1459.58 815.265 1455 Q818.344 1450.39 824.154 1450.39 Z\" fill=\"#000000\" fill-rule=\"evenodd\" fill-opacity=\"1\" /><path clip-path=\"url(#clip260)\" d=\"M841.562 1470.7 L854.038 1470.7 L854.038 1474.49 L841.562 1474.49 L841.562 1470.7 Z\" fill=\"#000000\" fill-rule=\"evenodd\" fill-opacity=\"1\" /><path clip-path=\"url(#clip260)\" d=\"M871.422 1454.1 Q867.811 1454.1 865.983 1457.66 Q864.177 1461.2 864.177 1468.33 Q864.177 1475.44 865.983 1479.01 Q867.811 1482.55 871.422 1482.55 Q875.057 1482.55 876.862 1479.01 Q878.691 1475.44 878.691 1468.33 Q878.691 1461.2 876.862 1457.66 Q875.057 1454.1 871.422 1454.1 M871.422 1450.39 Q877.233 1450.39 880.288 1455 Q883.367 1459.58 883.367 1468.33 Q883.367 1477.06 880.288 1481.67 Q877.233 1486.25 871.422 1486.25 Q865.612 1486.25 862.534 1481.67 Q859.478 1477.06 859.478 1468.33 Q859.478 1459.58 862.534 1455 Q865.612 1450.39 871.422 1450.39 Z\" fill=\"#000000\" fill-rule=\"evenodd\" fill-opacity=\"1\" /><path clip-path=\"url(#clip260)\" d=\"M902.163 1466.44 Q899.015 1466.44 897.163 1468.59 Q895.334 1470.74 895.334 1474.49 Q895.334 1478.22 897.163 1480.39 Q899.015 1482.55 902.163 1482.55 Q905.311 1482.55 907.14 1480.39 Q908.992 1478.22 908.992 1474.49 Q908.992 1470.74 907.14 1468.59 Q905.311 1466.44 902.163 1466.44 M911.445 1451.78 L911.445 1456.04 Q909.686 1455.21 907.881 1454.77 Q906.098 1454.33 904.339 1454.33 Q899.709 1454.33 897.256 1457.45 Q894.825 1460.58 894.478 1466.9 Q895.844 1464.89 897.904 1463.82 Q899.964 1462.73 902.441 1462.73 Q907.649 1462.73 910.658 1465.9 Q913.691 1469.05 913.691 1474.49 Q913.691 1479.82 910.543 1483.03 Q907.394 1486.25 902.163 1486.25 Q896.168 1486.25 892.996 1481.67 Q889.825 1477.06 889.825 1468.33 Q889.825 1460.14 893.714 1455.28 Q897.603 1450.39 904.154 1450.39 Q905.913 1450.39 907.695 1450.74 Q909.501 1451.09 911.445 1451.78 Z\" fill=\"#000000\" fill-rule=\"evenodd\" fill-opacity=\"1\" /><path clip-path=\"url(#clip260)\" d=\"M918.992 1470.7 L931.468 1470.7 L931.468 1474.49 L918.992 1474.49 L918.992 1470.7 Z\" fill=\"#000000\" fill-rule=\"evenodd\" fill-opacity=\"1\" /><path clip-path=\"url(#clip260)\" d=\"M948.853 1454.1 Q945.242 1454.1 943.413 1457.66 Q941.607 1461.2 941.607 1468.33 Q941.607 1475.44 943.413 1479.01 Q945.242 1482.55 948.853 1482.55 Q952.487 1482.55 954.292 1479.01 Q956.121 1475.44 956.121 1468.33 Q956.121 1461.2 954.292 1457.66 Q952.487 1454.1 948.853 1454.1 M948.853 1450.39 Q954.663 1450.39 957.718 1455 Q960.797 1459.58 960.797 1468.33 Q960.797 1477.06 957.718 1481.67 Q954.663 1486.25 948.853 1486.25 Q943.042 1486.25 939.964 1481.67 Q936.908 1477.06 936.908 1468.33 Q936.908 1459.58 939.964 1455 Q943.042 1450.39 948.853 1450.39 Z\" fill=\"#000000\" fill-rule=\"evenodd\" fill-opacity=\"1\" /><path clip-path=\"url(#clip260)\" d=\"M969.153 1484.86 L969.153 1480.6 Q970.913 1481.44 972.718 1481.88 Q974.524 1482.32 976.26 1482.32 Q980.889 1482.32 983.32 1479.21 Q985.774 1476.09 986.121 1469.75 Q984.778 1471.74 982.718 1472.8 Q980.658 1473.87 978.158 1473.87 Q972.973 1473.87 969.94 1470.74 Q966.931 1467.59 966.931 1462.15 Q966.931 1456.83 970.079 1453.61 Q973.227 1450.39 978.459 1450.39 Q984.454 1450.39 987.602 1455 Q990.774 1459.58 990.774 1468.33 Q990.774 1476.51 986.885 1481.39 Q983.019 1486.25 976.468 1486.25 Q974.709 1486.25 972.903 1485.9 Q971.098 1485.56 969.153 1484.86 M978.459 1470.21 Q981.607 1470.21 983.436 1468.06 Q985.288 1465.9 985.288 1462.15 Q985.288 1458.43 983.436 1456.27 Q981.607 1454.1 978.459 1454.1 Q975.311 1454.1 973.459 1456.27 Q971.63 1458.43 971.63 1462.15 Q971.63 1465.9 973.459 1468.06 Q975.311 1470.21 978.459 1470.21 Z\" fill=\"#000000\" fill-rule=\"evenodd\" fill-opacity=\"1\" /><path clip-path=\"url(#clip260)\" d=\"M1275.41 1481.64 L1291.73 1481.64 L1291.73 1485.58 L1269.79 1485.58 L1269.79 1481.64 Q1272.45 1478.89 1277.03 1474.26 Q1281.64 1469.61 1282.82 1468.27 Q1285.06 1465.74 1285.94 1464.01 Q1286.85 1462.25 1286.85 1460.56 Q1286.85 1457.8 1284.9 1456.07 Q1282.98 1454.33 1279.88 1454.33 Q1277.68 1454.33 1275.23 1455.09 Q1272.8 1455.86 1270.02 1457.41 L1270.02 1452.69 Q1272.84 1451.55 1275.3 1450.97 Q1277.75 1450.39 1279.79 1450.39 Q1285.16 1450.39 1288.35 1453.08 Q1291.54 1455.77 1291.54 1460.26 Q1291.54 1462.39 1290.73 1464.31 Q1289.95 1466.2 1287.84 1468.8 Q1287.26 1469.47 1284.16 1472.69 Q1281.06 1475.88 1275.41 1481.64 Z\" fill=\"#000000\" fill-rule=\"evenodd\" fill-opacity=\"1\" /><path clip-path=\"url(#clip260)\" d=\"M1311.54 1454.1 Q1307.93 1454.1 1306.11 1457.66 Q1304.3 1461.2 1304.3 1468.33 Q1304.3 1475.44 1306.11 1479.01 Q1307.93 1482.55 1311.54 1482.55 Q1315.18 1482.55 1316.98 1479.01 Q1318.81 1475.44 1318.81 1468.33 Q1318.81 1461.2 1316.98 1457.66 Q1315.18 1454.1 1311.54 1454.1 M1311.54 1450.39 Q1317.35 1450.39 1320.41 1455 Q1323.49 1459.58 1323.49 1468.33 Q1323.49 1477.06 1320.41 1481.67 Q1317.35 1486.25 1311.54 1486.25 Q1305.73 1486.25 1302.66 1481.67 Q1299.6 1477.06 1299.6 1468.33 Q1299.6 1459.58 1302.66 1455 Q1305.73 1450.39 1311.54 1450.39 Z\" fill=\"#000000\" fill-rule=\"evenodd\" fill-opacity=\"1\" /><path clip-path=\"url(#clip260)\" d=\"M1335.73 1481.64 L1352.05 1481.64 L1352.05 1485.58 L1330.11 1485.58 L1330.11 1481.64 Q1332.77 1478.89 1337.35 1474.26 Q1341.96 1469.61 1343.14 1468.27 Q1345.39 1465.74 1346.27 1464.01 Q1347.17 1462.25 1347.17 1460.56 Q1347.17 1457.8 1345.23 1456.07 Q1343.3 1454.33 1340.2 1454.33 Q1338 1454.33 1335.55 1455.09 Q1333.12 1455.86 1330.34 1457.41 L1330.34 1452.69 Q1333.17 1451.55 1335.62 1450.97 Q1338.07 1450.39 1340.11 1450.39 Q1345.48 1450.39 1348.67 1453.08 Q1351.87 1455.77 1351.87 1460.26 Q1351.87 1462.39 1351.06 1464.31 Q1350.27 1466.2 1348.17 1468.8 Q1347.59 1469.47 1344.48 1472.69 Q1341.38 1475.88 1335.73 1481.64 Z\" fill=\"#000000\" fill-rule=\"evenodd\" fill-opacity=\"1\" /><path clip-path=\"url(#clip260)\" d=\"M1371.87 1454.1 Q1368.26 1454.1 1366.43 1457.66 Q1364.62 1461.2 1364.62 1468.33 Q1364.62 1475.44 1366.43 1479.01 Q1368.26 1482.55 1371.87 1482.55 Q1375.5 1482.55 1377.31 1479.01 Q1379.14 1475.44 1379.14 1468.33 Q1379.14 1461.2 1377.31 1457.66 Q1375.5 1454.1 1371.87 1454.1 M1371.87 1450.39 Q1377.68 1450.39 1380.73 1455 Q1383.81 1459.58 1383.81 1468.33 Q1383.81 1477.06 1380.73 1481.67 Q1377.68 1486.25 1371.87 1486.25 Q1366.06 1486.25 1362.98 1481.67 Q1359.92 1477.06 1359.92 1468.33 Q1359.92 1459.58 1362.98 1455 Q1366.06 1450.39 1371.87 1450.39 Z\" fill=\"#000000\" fill-rule=\"evenodd\" fill-opacity=\"1\" /><path clip-path=\"url(#clip260)\" d=\"M1389.28 1470.7 L1401.75 1470.7 L1401.75 1474.49 L1389.28 1474.49 L1389.28 1470.7 Z\" fill=\"#000000\" fill-rule=\"evenodd\" fill-opacity=\"1\" /><path clip-path=\"url(#clip260)\" d=\"M1419.14 1454.1 Q1415.53 1454.1 1413.7 1457.66 Q1411.89 1461.2 1411.89 1468.33 Q1411.89 1475.44 1413.7 1479.01 Q1415.53 1482.55 1419.14 1482.55 Q1422.77 1482.55 1424.58 1479.01 Q1426.41 1475.44 1426.41 1468.33 Q1426.41 1461.2 1424.58 1457.66 Q1422.77 1454.1 1419.14 1454.1 M1419.14 1450.39 Q1424.95 1450.39 1428 1455 Q1431.08 1459.58 1431.08 1468.33 Q1431.08 1477.06 1428 1481.67 Q1424.95 1486.25 1419.14 1486.25 Q1413.33 1486.25 1410.25 1481.67 Q1407.19 1477.06 1407.19 1468.33 Q1407.19 1459.58 1410.25 1455 Q1413.33 1450.39 1419.14 1450.39 Z\" fill=\"#000000\" fill-rule=\"evenodd\" fill-opacity=\"1\" /><path clip-path=\"url(#clip260)\" d=\"M1449.88 1466.44 Q1446.73 1466.44 1444.88 1468.59 Q1443.05 1470.74 1443.05 1474.49 Q1443.05 1478.22 1444.88 1480.39 Q1446.73 1482.55 1449.88 1482.55 Q1453.03 1482.55 1454.85 1480.39 Q1456.71 1478.22 1456.71 1474.49 Q1456.71 1470.74 1454.85 1468.59 Q1453.03 1466.44 1449.88 1466.44 M1459.16 1451.78 L1459.16 1456.04 Q1457.4 1455.21 1455.59 1454.77 Q1453.81 1454.33 1452.05 1454.33 Q1447.42 1454.33 1444.97 1457.45 Q1442.54 1460.58 1442.19 1466.9 Q1443.56 1464.89 1445.62 1463.82 Q1447.68 1462.73 1450.16 1462.73 Q1455.36 1462.73 1458.37 1465.9 Q1461.41 1469.05 1461.41 1474.49 Q1461.41 1479.82 1458.26 1483.03 Q1455.11 1486.25 1449.88 1486.25 Q1443.88 1486.25 1440.71 1481.67 Q1437.54 1477.06 1437.54 1468.33 Q1437.54 1460.14 1441.43 1455.28 Q1445.32 1450.39 1451.87 1450.39 Q1453.63 1450.39 1455.41 1450.74 Q1457.22 1451.09 1459.16 1451.78 Z\" fill=\"#000000\" fill-rule=\"evenodd\" fill-opacity=\"1\" /><path clip-path=\"url(#clip260)\" d=\"M1466.71 1470.7 L1479.18 1470.7 L1479.18 1474.49 L1466.71 1474.49 L1466.71 1470.7 Z\" fill=\"#000000\" fill-rule=\"evenodd\" fill-opacity=\"1\" /><path clip-path=\"url(#clip260)\" d=\"M1487.38 1481.64 L1495.02 1481.64 L1495.02 1455.28 L1486.71 1456.95 L1486.71 1452.69 L1494.97 1451.02 L1499.65 1451.02 L1499.65 1481.64 L1507.28 1481.64 L1507.28 1485.58 L1487.38 1485.58 L1487.38 1481.64 Z\" fill=\"#000000\" fill-rule=\"evenodd\" fill-opacity=\"1\" /><path clip-path=\"url(#clip260)\" d=\"M1515.55 1451.02 L1537.77 1451.02 L1537.77 1453.01 L1525.22 1485.58 L1520.34 1485.58 L1532.15 1454.96 L1515.55 1454.96 L1515.55 1451.02 Z\" fill=\"#000000\" fill-rule=\"evenodd\" fill-opacity=\"1\" /><path clip-path=\"url(#clip260)\" d=\"M1822.81 1481.64 L1839.13 1481.64 L1839.13 1485.58 L1817.19 1485.58 L1817.19 1481.64 Q1819.85 1478.89 1824.43 1474.26 Q1829.04 1469.61 1830.22 1468.27 Q1832.47 1465.74 1833.35 1464.01 Q1834.25 1462.25 1834.25 1460.56 Q1834.25 1457.8 1832.3 1456.07 Q1830.38 1454.33 1827.28 1454.33 Q1825.08 1454.33 1822.63 1455.09 Q1820.2 1455.86 1817.42 1457.41 L1817.42 1452.69 Q1820.24 1451.55 1822.7 1450.97 Q1825.15 1450.39 1827.19 1450.39 Q1832.56 1450.39 1835.75 1453.08 Q1838.95 1455.77 1838.95 1460.26 Q1838.95 1462.39 1838.14 1464.31 Q1837.35 1466.2 1835.24 1468.8 Q1834.66 1469.47 1831.56 1472.69 Q1828.46 1475.88 1822.81 1481.64 Z\" fill=\"#000000\" fill-rule=\"evenodd\" fill-opacity=\"1\" /><path clip-path=\"url(#clip260)\" d=\"M1858.95 1454.1 Q1855.34 1454.1 1853.51 1457.66 Q1851.7 1461.2 1851.7 1468.33 Q1851.7 1475.44 1853.51 1479.01 Q1855.34 1482.55 1858.95 1482.55 Q1862.58 1482.55 1864.39 1479.01 Q1866.22 1475.44 1866.22 1468.33 Q1866.22 1461.2 1864.39 1457.66 Q1862.58 1454.1 1858.95 1454.1 M1858.95 1450.39 Q1864.76 1450.39 1867.81 1455 Q1870.89 1459.58 1870.89 1468.33 Q1870.89 1477.06 1867.81 1481.67 Q1864.76 1486.25 1858.95 1486.25 Q1853.14 1486.25 1850.06 1481.67 Q1847 1477.06 1847 1468.33 Q1847 1459.58 1850.06 1455 Q1853.14 1450.39 1858.95 1450.39 Z\" fill=\"#000000\" fill-rule=\"evenodd\" fill-opacity=\"1\" /><path clip-path=\"url(#clip260)\" d=\"M1883.14 1481.64 L1899.46 1481.64 L1899.46 1485.58 L1877.51 1485.58 L1877.51 1481.64 Q1880.17 1478.89 1884.76 1474.26 Q1889.36 1469.61 1890.54 1468.27 Q1892.79 1465.74 1893.67 1464.01 Q1894.57 1462.25 1894.57 1460.56 Q1894.57 1457.8 1892.63 1456.07 Q1890.71 1454.33 1887.6 1454.33 Q1885.4 1454.33 1882.95 1455.09 Q1880.52 1455.86 1877.74 1457.41 L1877.74 1452.69 Q1880.57 1451.55 1883.02 1450.97 Q1885.47 1450.39 1887.51 1450.39 Q1892.88 1450.39 1896.08 1453.08 Q1899.27 1455.77 1899.27 1460.26 Q1899.27 1462.39 1898.46 1464.31 Q1897.67 1466.2 1895.57 1468.8 Q1894.99 1469.47 1891.89 1472.69 Q1888.78 1475.88 1883.14 1481.64 Z\" fill=\"#000000\" fill-rule=\"evenodd\" fill-opacity=\"1\" /><path clip-path=\"url(#clip260)\" d=\"M1919.27 1454.1 Q1915.66 1454.1 1913.83 1457.66 Q1912.03 1461.2 1912.03 1468.33 Q1912.03 1475.44 1913.83 1479.01 Q1915.66 1482.55 1919.27 1482.55 Q1922.9 1482.55 1924.71 1479.01 Q1926.54 1475.44 1926.54 1468.33 Q1926.54 1461.2 1924.71 1457.66 Q1922.9 1454.1 1919.27 1454.1 M1919.27 1450.39 Q1925.08 1450.39 1928.14 1455 Q1931.21 1459.58 1931.21 1468.33 Q1931.21 1477.06 1928.14 1481.67 Q1925.08 1486.25 1919.27 1486.25 Q1913.46 1486.25 1910.38 1481.67 Q1907.33 1477.06 1907.33 1468.33 Q1907.33 1459.58 1910.38 1455 Q1913.46 1450.39 1919.27 1450.39 Z\" fill=\"#000000\" fill-rule=\"evenodd\" fill-opacity=\"1\" /><path clip-path=\"url(#clip260)\" d=\"M1936.68 1470.7 L1949.15 1470.7 L1949.15 1474.49 L1936.68 1474.49 L1936.68 1470.7 Z\" fill=\"#000000\" fill-rule=\"evenodd\" fill-opacity=\"1\" /><path clip-path=\"url(#clip260)\" d=\"M1966.54 1454.1 Q1962.93 1454.1 1961.1 1457.66 Q1959.29 1461.2 1959.29 1468.33 Q1959.29 1475.44 1961.1 1479.01 Q1962.93 1482.55 1966.54 1482.55 Q1970.17 1482.55 1971.98 1479.01 Q1973.81 1475.44 1973.81 1468.33 Q1973.81 1461.2 1971.98 1457.66 Q1970.17 1454.1 1966.54 1454.1 M1966.54 1450.39 Q1972.35 1450.39 1975.4 1455 Q1978.48 1459.58 1978.48 1468.33 Q1978.48 1477.06 1975.4 1481.67 Q1972.35 1486.25 1966.54 1486.25 Q1960.73 1486.25 1957.65 1481.67 Q1954.59 1477.06 1954.59 1468.33 Q1954.59 1459.58 1957.65 1455 Q1960.73 1450.39 1966.54 1450.39 Z\" fill=\"#000000\" fill-rule=\"evenodd\" fill-opacity=\"1\" /><path clip-path=\"url(#clip260)\" d=\"M1997.28 1466.44 Q1994.13 1466.44 1992.28 1468.59 Q1990.45 1470.74 1990.45 1474.49 Q1990.45 1478.22 1992.28 1480.39 Q1994.13 1482.55 1997.28 1482.55 Q2000.43 1482.55 2002.26 1480.39 Q2004.11 1478.22 2004.11 1474.49 Q2004.11 1470.74 2002.26 1468.59 Q2000.43 1466.44 1997.28 1466.44 M2006.56 1451.78 L2006.56 1456.04 Q2004.8 1455.21 2003 1454.77 Q2001.21 1454.33 1999.46 1454.33 Q1994.83 1454.33 1992.37 1457.45 Q1989.94 1460.58 1989.59 1466.9 Q1990.96 1464.89 1993.02 1463.82 Q1995.08 1462.73 1997.56 1462.73 Q2002.77 1462.73 2005.77 1465.9 Q2008.81 1469.05 2008.81 1474.49 Q2008.81 1479.82 2005.66 1483.03 Q2002.51 1486.25 1997.28 1486.25 Q1991.28 1486.25 1988.11 1481.67 Q1984.94 1477.06 1984.94 1468.33 Q1984.94 1460.14 1988.83 1455.28 Q1992.72 1450.39 1999.27 1450.39 Q2001.03 1450.39 2002.81 1450.74 Q2004.62 1451.09 2006.56 1451.78 Z\" fill=\"#000000\" fill-rule=\"evenodd\" fill-opacity=\"1\" /><path clip-path=\"url(#clip260)\" d=\"M2014.11 1470.7 L2026.58 1470.7 L2026.58 1474.49 L2014.11 1474.49 L2014.11 1470.7 Z\" fill=\"#000000\" fill-rule=\"evenodd\" fill-opacity=\"1\" /><path clip-path=\"url(#clip260)\" d=\"M2038 1481.64 L2054.32 1481.64 L2054.32 1485.58 L2032.37 1485.58 L2032.37 1481.64 Q2035.03 1478.89 2039.62 1474.26 Q2044.22 1469.61 2045.4 1468.27 Q2047.65 1465.74 2048.53 1464.01 Q2049.43 1462.25 2049.43 1460.56 Q2049.43 1457.8 2047.49 1456.07 Q2045.57 1454.33 2042.46 1454.33 Q2040.27 1454.33 2037.81 1455.09 Q2035.38 1455.86 2032.6 1457.41 L2032.6 1452.69 Q2035.43 1451.55 2037.88 1450.97 Q2040.33 1450.39 2042.37 1450.39 Q2047.74 1450.39 2050.94 1453.08 Q2054.13 1455.77 2054.13 1460.26 Q2054.13 1462.39 2053.32 1464.31 Q2052.53 1466.2 2050.43 1468.8 Q2049.85 1469.47 2046.75 1472.69 Q2043.64 1475.88 2038 1481.64 Z\" fill=\"#000000\" fill-rule=\"evenodd\" fill-opacity=\"1\" /><path clip-path=\"url(#clip260)\" d=\"M2064.18 1451.02 L2082.53 1451.02 L2082.53 1454.96 L2068.46 1454.96 L2068.46 1463.43 Q2069.48 1463.08 2070.5 1462.92 Q2071.52 1462.73 2072.53 1462.73 Q2078.32 1462.73 2081.7 1465.9 Q2085.08 1469.08 2085.08 1474.49 Q2085.08 1480.07 2081.61 1483.17 Q2078.14 1486.25 2071.82 1486.25 Q2069.64 1486.25 2067.37 1485.88 Q2065.13 1485.51 2062.72 1484.77 L2062.72 1480.07 Q2064.8 1481.2 2067.02 1481.76 Q2069.25 1482.32 2071.72 1482.32 Q2075.73 1482.32 2078.07 1480.21 Q2080.4 1478.1 2080.4 1474.49 Q2080.4 1470.88 2078.07 1468.77 Q2075.73 1466.67 2071.72 1466.67 Q2069.85 1466.67 2067.97 1467.08 Q2066.12 1467.5 2064.18 1468.38 L2064.18 1451.02 Z\" fill=\"#000000\" fill-rule=\"evenodd\" fill-opacity=\"1\" /><path clip-path=\"url(#clip260)\" d=\"M1269.97 1537.81 L1269.97 1518.52 L1275.83 1518.52 L1275.83 1568.04 L1269.97 1568.04 L1269.97 1562.7 Q1268.13 1565.88 1265.29 1567.44 Q1262.49 1568.97 1258.55 1568.97 Q1252.09 1568.97 1248.01 1563.81 Q1243.97 1558.65 1243.97 1550.25 Q1243.97 1541.85 1248.01 1536.69 Q1252.09 1531.54 1258.55 1531.54 Q1262.49 1531.54 1265.29 1533.1 Q1268.13 1534.62 1269.97 1537.81 M1250.02 1550.25 Q1250.02 1556.71 1252.66 1560.4 Q1255.33 1564.07 1259.98 1564.07 Q1264.63 1564.07 1267.3 1560.4 Q1269.97 1556.71 1269.97 1550.25 Q1269.97 1543.79 1267.3 1540.13 Q1264.63 1536.44 1259.98 1536.44 Q1255.33 1536.44 1252.66 1540.13 Q1250.02 1543.79 1250.02 1550.25 Z\" fill=\"#000000\" fill-rule=\"evenodd\" fill-opacity=\"1\" /><path clip-path=\"url(#clip260)\" d=\"M1304.09 1550.12 Q1297 1550.12 1294.26 1551.75 Q1291.52 1553.37 1291.52 1557.29 Q1291.52 1560.4 1293.56 1562.25 Q1295.63 1564.07 1299.16 1564.07 Q1304.03 1564.07 1306.96 1560.63 Q1309.92 1557.16 1309.92 1551.43 L1309.92 1550.12 L1304.09 1550.12 M1315.77 1547.71 L1315.77 1568.04 L1309.92 1568.04 L1309.92 1562.63 Q1307.91 1565.88 1304.92 1567.44 Q1301.93 1568.97 1297.6 1568.97 Q1292.13 1568.97 1288.88 1565.91 Q1285.66 1562.82 1285.66 1557.67 Q1285.66 1551.65 1289.67 1548.6 Q1293.72 1545.54 1301.71 1545.54 L1309.92 1545.54 L1309.92 1544.97 Q1309.92 1540.93 1307.24 1538.73 Q1304.6 1536.5 1299.8 1536.5 Q1296.74 1536.5 1293.84 1537.23 Q1290.95 1537.97 1288.27 1539.43 L1288.27 1534.02 Q1291.49 1532.78 1294.51 1532.17 Q1297.54 1531.54 1300.4 1531.54 Q1308.14 1531.54 1311.95 1535.55 Q1315.77 1539.56 1315.77 1547.71 Z\" fill=\"#000000\" fill-rule=\"evenodd\" fill-opacity=\"1\" /><path clip-path=\"url(#clip260)\" d=\"M1342.67 1571.35 Q1340.19 1577.72 1337.83 1579.66 Q1335.48 1581.6 1331.53 1581.6 L1326.85 1581.6 L1326.85 1576.7 L1330.29 1576.7 Q1332.71 1576.7 1334.04 1575.56 Q1335.38 1574.41 1337 1570.14 L1338.05 1567.47 L1323.64 1532.4 L1329.84 1532.4 L1340.98 1560.28 L1352.12 1532.4 L1358.33 1532.4 L1342.67 1571.35 Z\" fill=\"#000000\" fill-rule=\"evenodd\" fill-opacity=\"1\" /><polyline clip-path=\"url(#clip262)\" style=\"stroke:#000000; stroke-linecap:butt; stroke-linejoin:round; stroke-width:2; stroke-opacity:0.1; fill:none\" points=\"\n",
       "  249.542,1137.82 2352.76,1137.82 \n",
       "  \"/>\n",
       "<polyline clip-path=\"url(#clip262)\" style=\"stroke:#000000; stroke-linecap:butt; stroke-linejoin:round; stroke-width:2; stroke-opacity:0.1; fill:none\" points=\"\n",
       "  249.542,790.744 2352.76,790.744 \n",
       "  \"/>\n",
       "<polyline clip-path=\"url(#clip262)\" style=\"stroke:#000000; stroke-linecap:butt; stroke-linejoin:round; stroke-width:2; stroke-opacity:0.1; fill:none\" points=\"\n",
       "  249.542,443.671 2352.76,443.671 \n",
       "  \"/>\n",
       "<polyline clip-path=\"url(#clip262)\" style=\"stroke:#000000; stroke-linecap:butt; stroke-linejoin:round; stroke-width:2; stroke-opacity:0.1; fill:none\" points=\"\n",
       "  249.542,96.5979 2352.76,96.5979 \n",
       "  \"/>\n",
       "<polyline clip-path=\"url(#clip260)\" style=\"stroke:#000000; stroke-linecap:butt; stroke-linejoin:round; stroke-width:4; stroke-opacity:1; fill:none\" points=\"\n",
       "  249.542,1423.18 249.542,47.2441 \n",
       "  \"/>\n",
       "<polyline clip-path=\"url(#clip260)\" style=\"stroke:#000000; stroke-linecap:butt; stroke-linejoin:round; stroke-width:4; stroke-opacity:1; fill:none\" points=\"\n",
       "  249.542,1137.82 268.44,1137.82 \n",
       "  \"/>\n",
       "<polyline clip-path=\"url(#clip260)\" style=\"stroke:#000000; stroke-linecap:butt; stroke-linejoin:round; stroke-width:4; stroke-opacity:1; fill:none\" points=\"\n",
       "  249.542,790.744 268.44,790.744 \n",
       "  \"/>\n",
       "<polyline clip-path=\"url(#clip260)\" style=\"stroke:#000000; stroke-linecap:butt; stroke-linejoin:round; stroke-width:4; stroke-opacity:1; fill:none\" points=\"\n",
       "  249.542,443.671 268.44,443.671 \n",
       "  \"/>\n",
       "<polyline clip-path=\"url(#clip260)\" style=\"stroke:#000000; stroke-linecap:butt; stroke-linejoin:round; stroke-width:4; stroke-opacity:1; fill:none\" points=\"\n",
       "  249.542,96.5979 268.44,96.5979 \n",
       "  \"/>\n",
       "<path clip-path=\"url(#clip260)\" d=\"M131.968 1136.46 Q135.325 1137.18 137.2 1139.45 Q139.098 1141.72 139.098 1145.05 Q139.098 1150.17 135.579 1152.97 Q132.061 1155.77 125.58 1155.77 Q123.404 1155.77 121.089 1155.33 Q118.797 1154.91 116.343 1154.05 L116.343 1149.54 Q118.288 1150.68 120.603 1151.25 Q122.918 1151.83 125.441 1151.83 Q129.839 1151.83 132.13 1150.1 Q134.445 1148.36 134.445 1145.05 Q134.445 1141.99 132.292 1140.28 Q130.163 1138.55 126.343 1138.55 L122.316 1138.55 L122.316 1134.7 L126.529 1134.7 Q129.978 1134.7 131.806 1133.34 Q133.635 1131.95 133.635 1129.36 Q133.635 1126.69 131.737 1125.28 Q129.862 1123.85 126.343 1123.85 Q124.422 1123.85 122.223 1124.26 Q120.024 1124.68 117.385 1125.56 L117.385 1121.39 Q120.047 1120.65 122.362 1120.28 Q124.7 1119.91 126.76 1119.91 Q132.084 1119.91 135.186 1122.34 Q138.288 1124.75 138.288 1128.87 Q138.288 1131.74 136.644 1133.73 Q135.001 1135.7 131.968 1136.46 Z\" fill=\"#000000\" fill-rule=\"evenodd\" fill-opacity=\"1\" /><path clip-path=\"url(#clip260)\" d=\"M147.964 1149.22 L152.848 1149.22 L152.848 1155.1 L147.964 1155.1 L147.964 1149.22 Z\" fill=\"#000000\" fill-rule=\"evenodd\" fill-opacity=\"1\" /><path clip-path=\"url(#clip260)\" d=\"M163.172 1154.38 L163.172 1150.12 Q164.931 1150.95 166.737 1151.39 Q168.542 1151.83 170.278 1151.83 Q174.908 1151.83 177.339 1148.73 Q179.792 1145.61 180.139 1139.26 Q178.797 1141.25 176.737 1142.32 Q174.677 1143.38 172.177 1143.38 Q166.991 1143.38 163.959 1140.26 Q160.95 1137.11 160.95 1131.67 Q160.95 1126.35 164.098 1123.13 Q167.246 1119.91 172.477 1119.91 Q178.473 1119.91 181.621 1124.52 Q184.792 1129.1 184.792 1137.85 Q184.792 1146.02 180.903 1150.91 Q177.038 1155.77 170.487 1155.77 Q168.727 1155.77 166.922 1155.42 Q165.116 1155.07 163.172 1154.38 M172.477 1139.73 Q175.626 1139.73 177.454 1137.57 Q179.306 1135.42 179.306 1131.67 Q179.306 1127.94 177.454 1125.79 Q175.626 1123.62 172.477 1123.62 Q169.329 1123.62 167.477 1125.79 Q165.649 1127.94 165.649 1131.67 Q165.649 1135.42 167.477 1137.57 Q169.329 1139.73 172.477 1139.73 Z\" fill=\"#000000\" fill-rule=\"evenodd\" fill-opacity=\"1\" /><path clip-path=\"url(#clip260)\" d=\"M197.223 1151.16 L213.542 1151.16 L213.542 1155.1 L191.598 1155.1 L191.598 1151.16 Q194.26 1148.41 198.843 1143.78 Q203.449 1139.12 204.63 1137.78 Q206.875 1135.26 207.755 1133.52 Q208.658 1131.76 208.658 1130.07 Q208.658 1127.32 206.713 1125.58 Q204.792 1123.85 201.69 1123.85 Q199.491 1123.85 197.037 1124.61 Q194.607 1125.37 191.829 1126.93 L191.829 1122.2 Q194.653 1121.07 197.107 1120.49 Q199.561 1119.91 201.598 1119.91 Q206.968 1119.91 210.162 1122.6 Q213.357 1125.28 213.357 1129.77 Q213.357 1131.9 212.547 1133.82 Q211.76 1135.72 209.653 1138.31 Q209.074 1138.99 205.973 1142.2 Q202.871 1145.4 197.223 1151.16 Z\" fill=\"#000000\" fill-rule=\"evenodd\" fill-opacity=\"1\" /><path clip-path=\"url(#clip260)\" d=\"M129.885 789.389 Q133.242 790.107 135.117 792.376 Q137.015 794.644 137.015 797.977 Q137.015 803.093 133.496 805.894 Q129.978 808.695 123.496 808.695 Q121.32 808.695 119.006 808.255 Q116.714 807.838 114.26 806.982 L114.26 802.468 Q116.205 803.602 118.519 804.181 Q120.834 804.76 123.357 804.76 Q127.755 804.76 130.047 803.024 Q132.362 801.288 132.362 797.977 Q132.362 794.922 130.209 793.209 Q128.08 791.473 124.26 791.473 L120.232 791.473 L120.232 787.63 L124.445 787.63 Q127.894 787.63 129.723 786.264 Q131.552 784.876 131.552 782.283 Q131.552 779.621 129.654 778.209 Q127.779 776.774 124.26 776.774 Q122.339 776.774 120.14 777.19 Q117.941 777.607 115.302 778.487 L115.302 774.32 Q117.964 773.579 120.279 773.209 Q122.617 772.839 124.677 772.839 Q130.001 772.839 133.103 775.269 Q136.204 777.677 136.204 781.797 Q136.204 784.667 134.561 786.658 Q132.917 788.626 129.885 789.389 Z\" fill=\"#000000\" fill-rule=\"evenodd\" fill-opacity=\"1\" /><path clip-path=\"url(#clip260)\" d=\"M145.88 802.144 L150.765 802.144 L150.765 808.024 L145.88 808.024 L145.88 802.144 Z\" fill=\"#000000\" fill-rule=\"evenodd\" fill-opacity=\"1\" /><path clip-path=\"url(#clip260)\" d=\"M161.089 807.306 L161.089 803.047 Q162.848 803.88 164.653 804.32 Q166.459 804.76 168.195 804.76 Q172.825 804.76 175.255 801.658 Q177.709 798.533 178.056 792.19 Q176.714 794.181 174.653 795.246 Q172.593 796.311 170.093 796.311 Q164.908 796.311 161.876 793.186 Q158.866 790.038 158.866 784.598 Q158.866 779.274 162.015 776.056 Q165.163 772.839 170.394 772.839 Q176.389 772.839 179.538 777.445 Q182.709 782.028 182.709 790.778 Q182.709 798.95 178.82 803.834 Q174.954 808.695 168.403 808.695 Q166.644 808.695 164.839 808.348 Q163.033 808 161.089 807.306 M170.394 792.653 Q173.542 792.653 175.371 790.501 Q177.223 788.348 177.223 784.598 Q177.223 780.871 175.371 778.718 Q173.542 776.542 170.394 776.542 Q167.246 776.542 165.394 778.718 Q163.565 780.871 163.565 784.598 Q163.565 788.348 165.394 790.501 Q167.246 792.653 170.394 792.653 Z\" fill=\"#000000\" fill-rule=\"evenodd\" fill-opacity=\"1\" /><path clip-path=\"url(#clip260)\" d=\"M203.959 777.538 L192.153 795.987 L203.959 795.987 L203.959 777.538 M202.732 773.464 L208.612 773.464 L208.612 795.987 L213.542 795.987 L213.542 799.876 L208.612 799.876 L208.612 808.024 L203.959 808.024 L203.959 799.876 L188.357 799.876 L188.357 795.362 L202.732 773.464 Z\" fill=\"#000000\" fill-rule=\"evenodd\" fill-opacity=\"1\" /><path clip-path=\"url(#clip260)\" d=\"M130.209 442.317 Q133.566 443.034 135.441 445.303 Q137.339 447.571 137.339 450.905 Q137.339 456.02 133.82 458.821 Q130.302 461.622 123.82 461.622 Q121.644 461.622 119.33 461.182 Q117.038 460.766 114.584 459.909 L114.584 455.395 Q116.529 456.529 118.843 457.108 Q121.158 457.687 123.681 457.687 Q128.08 457.687 130.371 455.951 Q132.686 454.215 132.686 450.905 Q132.686 447.849 130.533 446.136 Q128.404 444.4 124.584 444.4 L120.556 444.4 L120.556 440.557 L124.769 440.557 Q128.218 440.557 130.047 439.192 Q131.876 437.803 131.876 435.21 Q131.876 432.548 129.978 431.136 Q128.103 429.701 124.584 429.701 Q122.663 429.701 120.464 430.118 Q118.265 430.534 115.626 431.414 L115.626 427.247 Q118.288 426.506 120.603 426.136 Q122.941 425.766 125.001 425.766 Q130.325 425.766 133.427 428.196 Q136.529 430.604 136.529 434.724 Q136.529 437.594 134.885 439.585 Q133.242 441.553 130.209 442.317 Z\" fill=\"#000000\" fill-rule=\"evenodd\" fill-opacity=\"1\" /><path clip-path=\"url(#clip260)\" d=\"M146.204 455.071 L151.089 455.071 L151.089 460.951 L146.204 460.951 L146.204 455.071 Z\" fill=\"#000000\" fill-rule=\"evenodd\" fill-opacity=\"1\" /><path clip-path=\"url(#clip260)\" d=\"M161.413 460.233 L161.413 455.974 Q163.172 456.807 164.977 457.247 Q166.783 457.687 168.519 457.687 Q173.149 457.687 175.579 454.585 Q178.033 451.46 178.38 445.117 Q177.038 447.108 174.977 448.173 Q172.917 449.238 170.417 449.238 Q165.232 449.238 162.2 446.113 Q159.19 442.965 159.19 437.525 Q159.19 432.201 162.339 428.983 Q165.487 425.766 170.718 425.766 Q176.714 425.766 179.862 430.372 Q183.033 434.956 183.033 443.705 Q183.033 451.877 179.144 456.761 Q175.278 461.622 168.727 461.622 Q166.968 461.622 165.163 461.275 Q163.357 460.928 161.413 460.233 M170.718 445.58 Q173.866 445.58 175.695 443.428 Q177.547 441.275 177.547 437.525 Q177.547 433.798 175.695 431.645 Q173.866 429.469 170.718 429.469 Q167.57 429.469 165.718 431.645 Q163.89 433.798 163.89 437.525 Q163.89 441.275 165.718 443.428 Q167.57 445.58 170.718 445.58 Z\" fill=\"#000000\" fill-rule=\"evenodd\" fill-opacity=\"1\" /><path clip-path=\"url(#clip260)\" d=\"M202.014 441.807 Q198.866 441.807 197.014 443.96 Q195.186 446.113 195.186 449.863 Q195.186 453.59 197.014 455.766 Q198.866 457.918 202.014 457.918 Q205.162 457.918 206.991 455.766 Q208.843 453.59 208.843 449.863 Q208.843 446.113 206.991 443.96 Q205.162 441.807 202.014 441.807 M211.297 427.155 L211.297 431.414 Q209.537 430.581 207.732 430.141 Q205.949 429.701 204.19 429.701 Q199.561 429.701 197.107 432.826 Q194.676 435.951 194.329 442.27 Q195.695 440.256 197.755 439.192 Q199.815 438.104 202.292 438.104 Q207.5 438.104 210.51 441.275 Q213.542 444.423 213.542 449.863 Q213.542 455.187 210.394 458.404 Q207.246 461.622 202.014 461.622 Q196.019 461.622 192.848 457.039 Q189.676 452.432 189.676 443.705 Q189.676 435.511 193.565 430.65 Q197.454 425.766 204.005 425.766 Q205.764 425.766 207.547 426.113 Q209.352 426.46 211.297 427.155 Z\" fill=\"#000000\" fill-rule=\"evenodd\" fill-opacity=\"1\" /><path clip-path=\"url(#clip260)\" d=\"M130.464 95.2437 Q133.82 95.9613 135.695 98.2298 Q137.593 100.498 137.593 103.832 Q137.593 108.947 134.075 111.748 Q130.556 114.549 124.075 114.549 Q121.899 114.549 119.584 114.109 Q117.293 113.693 114.839 112.836 L114.839 108.322 Q116.783 109.457 119.098 110.035 Q121.413 110.614 123.936 110.614 Q128.334 110.614 130.626 108.878 Q132.941 107.142 132.941 103.832 Q132.941 100.776 130.788 99.0631 Q128.658 97.327 124.839 97.327 L120.811 97.327 L120.811 93.4844 L125.024 93.4844 Q128.473 93.4844 130.302 92.1187 Q132.13 90.7298 132.13 88.1373 Q132.13 85.4752 130.232 84.0632 Q128.357 82.628 124.839 82.628 Q122.918 82.628 120.718 83.0447 Q118.519 83.4614 115.881 84.341 L115.881 80.1743 Q118.543 79.4336 120.857 79.0632 Q123.195 78.6929 125.255 78.6929 Q130.58 78.6929 133.681 81.1234 Q136.783 83.5308 136.783 87.6511 Q136.783 90.5215 135.14 92.5122 Q133.496 94.4798 130.464 95.2437 Z\" fill=\"#000000\" fill-rule=\"evenodd\" fill-opacity=\"1\" /><path clip-path=\"url(#clip260)\" d=\"M146.459 107.998 L151.343 107.998 L151.343 113.878 L146.459 113.878 L146.459 107.998 Z\" fill=\"#000000\" fill-rule=\"evenodd\" fill-opacity=\"1\" /><path clip-path=\"url(#clip260)\" d=\"M161.667 113.16 L161.667 108.901 Q163.427 109.734 165.232 110.174 Q167.038 110.614 168.774 110.614 Q173.403 110.614 175.834 107.512 Q178.288 104.387 178.635 98.0446 Q177.292 100.035 175.232 101.1 Q173.172 102.165 170.672 102.165 Q165.487 102.165 162.454 99.04 Q159.445 95.8918 159.445 90.4521 Q159.445 85.128 162.593 81.9104 Q165.741 78.6929 170.973 78.6929 Q176.968 78.6929 180.116 83.2993 Q183.288 87.8826 183.288 96.6326 Q183.288 104.804 179.399 109.688 Q175.533 114.549 168.982 114.549 Q167.223 114.549 165.417 114.202 Q163.612 113.855 161.667 113.16 M170.973 98.5076 Q174.121 98.5076 175.95 96.3548 Q177.801 94.202 177.801 90.4521 Q177.801 86.7252 175.95 84.5725 Q174.121 82.3965 170.973 82.3965 Q167.825 82.3965 165.973 84.5725 Q164.144 86.7252 164.144 90.4521 Q164.144 94.202 165.973 96.3548 Q167.825 98.5076 170.973 98.5076 Z\" fill=\"#000000\" fill-rule=\"evenodd\" fill-opacity=\"1\" /><path clip-path=\"url(#clip260)\" d=\"M201.69 97.4659 Q198.357 97.4659 196.436 99.2483 Q194.538 101.031 194.538 104.156 Q194.538 107.281 196.436 109.063 Q198.357 110.845 201.69 110.845 Q205.024 110.845 206.945 109.063 Q208.866 107.258 208.866 104.156 Q208.866 101.031 206.945 99.2483 Q205.047 97.4659 201.69 97.4659 M197.014 95.4752 Q194.005 94.7344 192.315 92.6743 Q190.649 90.6141 190.649 87.6511 Q190.649 83.5077 193.588 81.1003 Q196.551 78.6929 201.69 78.6929 Q206.852 78.6929 209.792 81.1003 Q212.732 83.5077 212.732 87.6511 Q212.732 90.6141 211.042 92.6743 Q209.375 94.7344 206.389 95.4752 Q209.769 96.2622 211.644 98.5539 Q213.542 100.846 213.542 104.156 Q213.542 109.179 210.463 111.864 Q207.408 114.549 201.69 114.549 Q195.973 114.549 192.894 111.864 Q189.838 109.179 189.838 104.156 Q189.838 100.846 191.737 98.5539 Q193.635 96.2622 197.014 95.4752 M195.301 88.091 Q195.301 90.7761 196.968 92.2808 Q198.658 93.7854 201.69 93.7854 Q204.699 93.7854 206.389 92.2808 Q208.102 90.7761 208.102 88.091 Q208.102 85.4058 206.389 83.9012 Q204.699 82.3965 201.69 82.3965 Q198.658 82.3965 196.968 83.9012 Q195.301 85.4058 195.301 88.091 Z\" fill=\"#000000\" fill-rule=\"evenodd\" fill-opacity=\"1\" /><path clip-path=\"url(#clip260)\" d=\"M21.7677 866.473 L39.6235 866.473 L39.6235 858.388 Q39.6235 853.901 37.3 851.45 Q34.9765 848.999 30.6797 848.999 Q26.4147 848.999 24.0912 851.45 Q21.7677 853.901 21.7677 858.388 L21.7677 866.473 M16.4842 872.902 L16.4842 858.388 Q16.4842 850.399 20.1126 846.325 Q23.7092 842.219 30.6797 842.219 Q37.7138 842.219 41.3104 846.325 Q44.907 850.399 44.907 858.388 L44.907 866.473 L64.0042 866.473 L64.0042 872.902 L16.4842 872.902 Z\" fill=\"#000000\" fill-rule=\"evenodd\" fill-opacity=\"1\" /><path clip-path=\"url(#clip260)\" d=\"M16.4842 833.594 L16.4842 827.165 L58.5933 827.165 L58.5933 804.025 L64.0042 804.025 L64.0042 833.594 L16.4842 833.594 Z\" fill=\"#000000\" fill-rule=\"evenodd\" fill-opacity=\"1\" /><path clip-path=\"url(#clip260)\" d=\"M16.4842 797.278 L16.4842 788.62 L56.238 767.55 L16.4842 767.55 L16.4842 761.311 L64.0042 761.311 L64.0042 769.969 L24.2503 791.039 L64.0042 791.039 L64.0042 797.278 L16.4842 797.278 Z\" fill=\"#000000\" fill-rule=\"evenodd\" fill-opacity=\"1\" /><path clip-path=\"url(#clip260)\" d=\"M16.4842 738.363 L16.4842 732.952 L70.0516 749.503 L70.0516 754.914 L16.4842 738.363 Z\" fill=\"#000000\" fill-rule=\"evenodd\" fill-opacity=\"1\" /><path clip-path=\"url(#clip260)\" d=\"M16.4842 727.287 L16.4842 720.825 L45.3526 720.825 Q52.9915 720.825 56.3653 718.056 Q59.7073 715.287 59.7073 709.081 Q59.7073 702.906 56.3653 700.137 Q52.9915 697.368 45.3526 697.368 L16.4842 697.368 L16.4842 690.907 L46.1484 690.907 Q55.4423 690.907 60.1847 695.522 Q64.9272 700.105 64.9272 709.081 Q64.9272 718.088 60.1847 722.703 Q55.4423 727.287 46.1484 727.287 L16.4842 727.287 Z\" fill=\"#000000\" fill-rule=\"evenodd\" fill-opacity=\"1\" /><path clip-path=\"url(#clip260)\" d=\"M18.0438 650.357 L24.314 650.357 Q22.5634 654.017 21.704 657.264 Q20.8447 660.51 20.8447 663.534 Q20.8447 668.786 22.8817 671.65 Q24.9187 674.483 28.6745 674.483 Q31.8255 674.483 33.4488 672.605 Q35.0402 670.696 36.0269 665.412 L36.8226 661.529 Q38.1912 654.336 41.6605 650.93 Q45.098 647.493 50.8908 647.493 Q57.7976 647.493 61.3624 652.139 Q64.9272 656.755 64.9272 665.698 Q64.9272 669.072 64.1633 672.892 Q63.3994 676.679 61.9035 680.753 L55.2831 680.753 Q57.4793 676.838 58.5933 673.083 Q59.7073 669.327 59.7073 665.698 Q59.7073 660.192 57.543 657.2 Q55.3786 654.208 51.3682 654.208 Q47.8671 654.208 45.8937 656.373 Q43.9204 658.505 42.9337 663.407 L42.1698 667.322 Q40.7375 674.515 37.682 677.73 Q34.6264 680.944 29.1837 680.944 Q22.8817 680.944 19.2532 676.52 Q15.6248 672.064 15.6248 664.266 Q15.6248 660.924 16.2295 657.455 Q16.8343 653.986 18.0438 650.357 Z\" fill=\"#000000\" fill-rule=\"evenodd\" fill-opacity=\"1\" /><path clip-path=\"url(#clip260)\" d=\"M21.7677 631.037 L58.7206 631.037 L58.7206 623.271 Q58.7206 613.436 54.2646 608.885 Q49.8086 604.301 40.1964 604.301 Q30.6479 604.301 26.2237 608.885 Q21.7677 613.436 21.7677 623.271 L21.7677 631.037 M16.4842 637.467 L16.4842 624.258 Q16.4842 610.444 22.2451 603.983 Q27.9743 597.522 40.1964 597.522 Q52.4822 597.522 58.2432 604.015 Q64.0042 610.508 64.0042 624.258 L64.0042 637.467 L16.4842 637.467 Z\" fill=\"#000000\" fill-rule=\"evenodd\" fill-opacity=\"1\" /><polyline clip-path=\"url(#clip262)\" style=\"stroke:#009af9; stroke-linecap:butt; stroke-linejoin:round; stroke-width:4; stroke-opacity:1; fill:none\" points=\"\n",
       "  309.067,304.842 377.486,959.074 445.906,1274.91 514.325,490.526 582.745,1108.32 788.003,1143.02 856.423,698.769 924.842,1172.52 1061.68,966.015 1266.94,768.184 \n",
       "  1335.36,1384.24 1403.78,561.676 1472.2,462.76 1540.62,198.984 1745.88,327.401 1814.29,945.191 1882.71,799.42 1951.13,403.757 2019.55,275.34 2224.81,346.49 \n",
       "  2293.23,86.1857 \n",
       "  \"/>\n",
       "<path clip-path=\"url(#clip262)\" d=\"M309.067 320.842 L297.755 316.154 L293.067 304.842 L297.755 293.53 L309.067 288.842 L320.379 293.53 L325.067 304.842 L320.379 316.154 Z\" fill=\"#009af9\" fill-rule=\"evenodd\" fill-opacity=\"1\" stroke=\"#000000\" stroke-opacity=\"1\" stroke-width=\"3.2\"/>\n",
       "<path clip-path=\"url(#clip262)\" d=\"M377.486 975.074 L366.174 970.386 L361.486 959.074 L366.174 947.762 L377.486 943.074 L388.798 947.762 L393.486 959.074 L388.798 970.386 Z\" fill=\"#009af9\" fill-rule=\"evenodd\" fill-opacity=\"1\" stroke=\"#000000\" stroke-opacity=\"1\" stroke-width=\"3.2\"/>\n",
       "<path clip-path=\"url(#clip262)\" d=\"M445.906 1290.91 L434.594 1286.22 L429.906 1274.91 L434.594 1263.6 L445.906 1258.91 L457.218 1263.6 L461.906 1274.91 L457.218 1286.22 Z\" fill=\"#009af9\" fill-rule=\"evenodd\" fill-opacity=\"1\" stroke=\"#000000\" stroke-opacity=\"1\" stroke-width=\"3.2\"/>\n",
       "<path clip-path=\"url(#clip262)\" d=\"M514.325 506.526 L503.013 501.838 L498.325 490.526 L503.013 479.214 L514.325 474.526 L525.637 479.214 L530.325 490.526 L525.637 501.838 Z\" fill=\"#009af9\" fill-rule=\"evenodd\" fill-opacity=\"1\" stroke=\"#000000\" stroke-opacity=\"1\" stroke-width=\"3.2\"/>\n",
       "<path clip-path=\"url(#clip262)\" d=\"M582.745 1124.32 L571.433 1119.63 L566.745 1108.32 L571.433 1097 L582.745 1092.32 L594.057 1097 L598.745 1108.32 L594.057 1119.63 Z\" fill=\"#009af9\" fill-rule=\"evenodd\" fill-opacity=\"1\" stroke=\"#000000\" stroke-opacity=\"1\" stroke-width=\"3.2\"/>\n",
       "<path clip-path=\"url(#clip262)\" d=\"M788.003 1159.02 L776.691 1154.33 L772.003 1143.02 L776.691 1131.71 L788.003 1127.02 L799.315 1131.71 L804.003 1143.02 L799.315 1154.33 Z\" fill=\"#009af9\" fill-rule=\"evenodd\" fill-opacity=\"1\" stroke=\"#000000\" stroke-opacity=\"1\" stroke-width=\"3.2\"/>\n",
       "<path clip-path=\"url(#clip262)\" d=\"M856.423 714.769 L845.111 710.081 L840.423 698.769 L845.111 687.457 L856.423 682.769 L867.735 687.457 L872.423 698.769 L867.735 710.081 Z\" fill=\"#009af9\" fill-rule=\"evenodd\" fill-opacity=\"1\" stroke=\"#000000\" stroke-opacity=\"1\" stroke-width=\"3.2\"/>\n",
       "<path clip-path=\"url(#clip262)\" d=\"M924.842 1188.52 L913.53 1183.84 L908.842 1172.52 L913.53 1161.21 L924.842 1156.52 L936.154 1161.21 L940.842 1172.52 L936.154 1183.84 Z\" fill=\"#009af9\" fill-rule=\"evenodd\" fill-opacity=\"1\" stroke=\"#000000\" stroke-opacity=\"1\" stroke-width=\"3.2\"/>\n",
       "<path clip-path=\"url(#clip262)\" d=\"M1061.68 982.015 L1050.37 977.327 L1045.68 966.015 L1050.37 954.703 L1061.68 950.015 L1072.99 954.703 L1077.68 966.015 L1072.99 977.327 Z\" fill=\"#009af9\" fill-rule=\"evenodd\" fill-opacity=\"1\" stroke=\"#000000\" stroke-opacity=\"1\" stroke-width=\"3.2\"/>\n",
       "<path clip-path=\"url(#clip262)\" d=\"M1266.94 784.184 L1255.63 779.496 L1250.94 768.184 L1255.63 756.872 L1266.94 752.184 L1278.25 756.872 L1282.94 768.184 L1278.25 779.496 Z\" fill=\"#009af9\" fill-rule=\"evenodd\" fill-opacity=\"1\" stroke=\"#000000\" stroke-opacity=\"1\" stroke-width=\"3.2\"/>\n",
       "<path clip-path=\"url(#clip262)\" d=\"M1335.36 1400.24 L1324.05 1395.55 L1319.36 1384.24 L1324.05 1372.93 L1335.36 1368.24 L1346.67 1372.93 L1351.36 1384.24 L1346.67 1395.55 Z\" fill=\"#009af9\" fill-rule=\"evenodd\" fill-opacity=\"1\" stroke=\"#000000\" stroke-opacity=\"1\" stroke-width=\"3.2\"/>\n",
       "<path clip-path=\"url(#clip262)\" d=\"M1403.78 577.676 L1392.47 572.988 L1387.78 561.676 L1392.47 550.364 L1403.78 545.676 L1415.09 550.364 L1419.78 561.676 L1415.09 572.988 Z\" fill=\"#009af9\" fill-rule=\"evenodd\" fill-opacity=\"1\" stroke=\"#000000\" stroke-opacity=\"1\" stroke-width=\"3.2\"/>\n",
       "<path clip-path=\"url(#clip262)\" d=\"M1472.2 478.76 L1460.89 474.072 L1456.2 462.76 L1460.89 451.448 L1472.2 446.76 L1483.51 451.448 L1488.2 462.76 L1483.51 474.072 Z\" fill=\"#009af9\" fill-rule=\"evenodd\" fill-opacity=\"1\" stroke=\"#000000\" stroke-opacity=\"1\" stroke-width=\"3.2\"/>\n",
       "<path clip-path=\"url(#clip262)\" d=\"M1540.62 214.984 L1529.31 210.296 L1524.62 198.984 L1529.31 187.672 L1540.62 182.984 L1551.93 187.672 L1556.62 198.984 L1551.93 210.296 Z\" fill=\"#009af9\" fill-rule=\"evenodd\" fill-opacity=\"1\" stroke=\"#000000\" stroke-opacity=\"1\" stroke-width=\"3.2\"/>\n",
       "<path clip-path=\"url(#clip262)\" d=\"M1745.88 343.401 L1734.56 338.713 L1729.88 327.401 L1734.56 316.089 L1745.88 311.401 L1757.19 316.089 L1761.88 327.401 L1757.19 338.713 Z\" fill=\"#009af9\" fill-rule=\"evenodd\" fill-opacity=\"1\" stroke=\"#000000\" stroke-opacity=\"1\" stroke-width=\"3.2\"/>\n",
       "<path clip-path=\"url(#clip262)\" d=\"M1814.29 961.191 L1802.98 956.503 L1798.29 945.191 L1802.98 933.879 L1814.29 929.191 L1825.61 933.879 L1830.29 945.191 L1825.61 956.503 Z\" fill=\"#009af9\" fill-rule=\"evenodd\" fill-opacity=\"1\" stroke=\"#000000\" stroke-opacity=\"1\" stroke-width=\"3.2\"/>\n",
       "<path clip-path=\"url(#clip262)\" d=\"M1882.71 815.42 L1871.4 810.732 L1866.71 799.42 L1871.4 788.108 L1882.71 783.42 L1894.03 788.108 L1898.71 799.42 L1894.03 810.732 Z\" fill=\"#009af9\" fill-rule=\"evenodd\" fill-opacity=\"1\" stroke=\"#000000\" stroke-opacity=\"1\" stroke-width=\"3.2\"/>\n",
       "<path clip-path=\"url(#clip262)\" d=\"M1951.13 419.757 L1939.82 415.069 L1935.13 403.757 L1939.82 392.445 L1951.13 387.757 L1962.45 392.445 L1967.13 403.757 L1962.45 415.069 Z\" fill=\"#009af9\" fill-rule=\"evenodd\" fill-opacity=\"1\" stroke=\"#000000\" stroke-opacity=\"1\" stroke-width=\"3.2\"/>\n",
       "<path clip-path=\"url(#clip262)\" d=\"M2019.55 291.34 L2008.24 286.652 L2003.55 275.34 L2008.24 264.028 L2019.55 259.34 L2030.87 264.028 L2035.55 275.34 L2030.87 286.652 Z\" fill=\"#009af9\" fill-rule=\"evenodd\" fill-opacity=\"1\" stroke=\"#000000\" stroke-opacity=\"1\" stroke-width=\"3.2\"/>\n",
       "<path clip-path=\"url(#clip262)\" d=\"M2224.81 362.49 L2213.5 357.802 L2208.81 346.49 L2213.5 335.178 L2224.81 330.49 L2236.12 335.178 L2240.81 346.49 L2236.12 357.802 Z\" fill=\"#009af9\" fill-rule=\"evenodd\" fill-opacity=\"1\" stroke=\"#000000\" stroke-opacity=\"1\" stroke-width=\"3.2\"/>\n",
       "<path clip-path=\"url(#clip262)\" d=\"M2293.23 102.186 L2281.92 97.4977 L2277.23 86.1857 L2281.92 74.8737 L2293.23 70.1857 L2304.54 74.8737 L2309.23 86.1857 L2304.54 97.4977 Z\" fill=\"#009af9\" fill-rule=\"evenodd\" fill-opacity=\"1\" stroke=\"#000000\" stroke-opacity=\"1\" stroke-width=\"3.2\"/>\n",
       "<circle clip-path=\"url(#clip262)\" cx=\"309.067\" cy=\"304.842\" r=\"10.8\" fill=\"#e26f46\" fill-rule=\"evenodd\" fill-opacity=\"1\" stroke=\"#000000\" stroke-opacity=\"1\" stroke-width=\"3.2\"/>\n",
       "<circle clip-path=\"url(#clip262)\" cx=\"377.486\" cy=\"959.074\" r=\"10.8\" fill=\"#e26f46\" fill-rule=\"evenodd\" fill-opacity=\"1\" stroke=\"#000000\" stroke-opacity=\"1\" stroke-width=\"3.2\"/>\n",
       "<circle clip-path=\"url(#clip262)\" cx=\"445.906\" cy=\"1274.91\" r=\"10.8\" fill=\"#e26f46\" fill-rule=\"evenodd\" fill-opacity=\"1\" stroke=\"#000000\" stroke-opacity=\"1\" stroke-width=\"3.2\"/>\n",
       "<circle clip-path=\"url(#clip262)\" cx=\"514.325\" cy=\"490.526\" r=\"10.8\" fill=\"#e26f46\" fill-rule=\"evenodd\" fill-opacity=\"1\" stroke=\"#000000\" stroke-opacity=\"1\" stroke-width=\"3.2\"/>\n",
       "<circle clip-path=\"url(#clip262)\" cx=\"582.745\" cy=\"1108.32\" r=\"10.8\" fill=\"#e26f46\" fill-rule=\"evenodd\" fill-opacity=\"1\" stroke=\"#000000\" stroke-opacity=\"1\" stroke-width=\"3.2\"/>\n",
       "<circle clip-path=\"url(#clip262)\" cx=\"651.164\" cy=\"1119.88\" r=\"10.8\" fill=\"#e26f46\" fill-rule=\"evenodd\" fill-opacity=\"1\" stroke=\"#000000\" stroke-opacity=\"1\" stroke-width=\"3.2\"/>\n",
       "<circle clip-path=\"url(#clip262)\" cx=\"719.584\" cy=\"1131.45\" r=\"10.8\" fill=\"#e26f46\" fill-rule=\"evenodd\" fill-opacity=\"1\" stroke=\"#000000\" stroke-opacity=\"1\" stroke-width=\"3.2\"/>\n",
       "<circle clip-path=\"url(#clip262)\" cx=\"788.003\" cy=\"1143.02\" r=\"10.8\" fill=\"#e26f46\" fill-rule=\"evenodd\" fill-opacity=\"1\" stroke=\"#000000\" stroke-opacity=\"1\" stroke-width=\"3.2\"/>\n",
       "<circle clip-path=\"url(#clip262)\" cx=\"856.423\" cy=\"698.769\" r=\"10.8\" fill=\"#e26f46\" fill-rule=\"evenodd\" fill-opacity=\"1\" stroke=\"#000000\" stroke-opacity=\"1\" stroke-width=\"3.2\"/>\n",
       "<circle clip-path=\"url(#clip262)\" cx=\"924.842\" cy=\"1172.52\" r=\"10.8\" fill=\"#e26f46\" fill-rule=\"evenodd\" fill-opacity=\"1\" stroke=\"#000000\" stroke-opacity=\"1\" stroke-width=\"3.2\"/>\n",
       "<circle clip-path=\"url(#clip262)\" cx=\"993.261\" cy=\"1069.27\" r=\"10.8\" fill=\"#e26f46\" fill-rule=\"evenodd\" fill-opacity=\"1\" stroke=\"#000000\" stroke-opacity=\"1\" stroke-width=\"3.2\"/>\n",
       "<circle clip-path=\"url(#clip262)\" cx=\"1061.68\" cy=\"966.015\" r=\"10.8\" fill=\"#e26f46\" fill-rule=\"evenodd\" fill-opacity=\"1\" stroke=\"#000000\" stroke-opacity=\"1\" stroke-width=\"3.2\"/>\n",
       "<circle clip-path=\"url(#clip262)\" cx=\"1130.1\" cy=\"900.072\" r=\"10.8\" fill=\"#e26f46\" fill-rule=\"evenodd\" fill-opacity=\"1\" stroke=\"#000000\" stroke-opacity=\"1\" stroke-width=\"3.2\"/>\n",
       "<circle clip-path=\"url(#clip262)\" cx=\"1198.52\" cy=\"834.128\" r=\"10.8\" fill=\"#e26f46\" fill-rule=\"evenodd\" fill-opacity=\"1\" stroke=\"#000000\" stroke-opacity=\"1\" stroke-width=\"3.2\"/>\n",
       "<circle clip-path=\"url(#clip262)\" cx=\"1266.94\" cy=\"768.184\" r=\"10.8\" fill=\"#e26f46\" fill-rule=\"evenodd\" fill-opacity=\"1\" stroke=\"#000000\" stroke-opacity=\"1\" stroke-width=\"3.2\"/>\n",
       "<circle clip-path=\"url(#clip262)\" cx=\"1335.36\" cy=\"1384.24\" r=\"10.8\" fill=\"#e26f46\" fill-rule=\"evenodd\" fill-opacity=\"1\" stroke=\"#000000\" stroke-opacity=\"1\" stroke-width=\"3.2\"/>\n",
       "<circle clip-path=\"url(#clip262)\" cx=\"1403.78\" cy=\"561.676\" r=\"10.8\" fill=\"#e26f46\" fill-rule=\"evenodd\" fill-opacity=\"1\" stroke=\"#000000\" stroke-opacity=\"1\" stroke-width=\"3.2\"/>\n",
       "<circle clip-path=\"url(#clip262)\" cx=\"1472.2\" cy=\"462.76\" r=\"10.8\" fill=\"#e26f46\" fill-rule=\"evenodd\" fill-opacity=\"1\" stroke=\"#000000\" stroke-opacity=\"1\" stroke-width=\"3.2\"/>\n",
       "<circle clip-path=\"url(#clip262)\" cx=\"1540.62\" cy=\"198.984\" r=\"10.8\" fill=\"#e26f46\" fill-rule=\"evenodd\" fill-opacity=\"1\" stroke=\"#000000\" stroke-opacity=\"1\" stroke-width=\"3.2\"/>\n",
       "<circle clip-path=\"url(#clip262)\" cx=\"1609.04\" cy=\"241.79\" r=\"10.8\" fill=\"#e26f46\" fill-rule=\"evenodd\" fill-opacity=\"1\" stroke=\"#000000\" stroke-opacity=\"1\" stroke-width=\"3.2\"/>\n",
       "<circle clip-path=\"url(#clip262)\" cx=\"1677.46\" cy=\"284.596\" r=\"10.8\" fill=\"#e26f46\" fill-rule=\"evenodd\" fill-opacity=\"1\" stroke=\"#000000\" stroke-opacity=\"1\" stroke-width=\"3.2\"/>\n",
       "<circle clip-path=\"url(#clip262)\" cx=\"1745.88\" cy=\"327.401\" r=\"10.8\" fill=\"#e26f46\" fill-rule=\"evenodd\" fill-opacity=\"1\" stroke=\"#000000\" stroke-opacity=\"1\" stroke-width=\"3.2\"/>\n",
       "<circle clip-path=\"url(#clip262)\" cx=\"1814.29\" cy=\"945.191\" r=\"10.8\" fill=\"#e26f46\" fill-rule=\"evenodd\" fill-opacity=\"1\" stroke=\"#000000\" stroke-opacity=\"1\" stroke-width=\"3.2\"/>\n",
       "<circle clip-path=\"url(#clip262)\" cx=\"1882.71\" cy=\"799.42\" r=\"10.8\" fill=\"#e26f46\" fill-rule=\"evenodd\" fill-opacity=\"1\" stroke=\"#000000\" stroke-opacity=\"1\" stroke-width=\"3.2\"/>\n",
       "<circle clip-path=\"url(#clip262)\" cx=\"1951.13\" cy=\"403.757\" r=\"10.8\" fill=\"#e26f46\" fill-rule=\"evenodd\" fill-opacity=\"1\" stroke=\"#000000\" stroke-opacity=\"1\" stroke-width=\"3.2\"/>\n",
       "<circle clip-path=\"url(#clip262)\" cx=\"2019.55\" cy=\"275.34\" r=\"10.8\" fill=\"#e26f46\" fill-rule=\"evenodd\" fill-opacity=\"1\" stroke=\"#000000\" stroke-opacity=\"1\" stroke-width=\"3.2\"/>\n",
       "<circle clip-path=\"url(#clip262)\" cx=\"2087.97\" cy=\"299.057\" r=\"10.8\" fill=\"#e26f46\" fill-rule=\"evenodd\" fill-opacity=\"1\" stroke=\"#000000\" stroke-opacity=\"1\" stroke-width=\"3.2\"/>\n",
       "<circle clip-path=\"url(#clip262)\" cx=\"2156.39\" cy=\"322.774\" r=\"10.8\" fill=\"#e26f46\" fill-rule=\"evenodd\" fill-opacity=\"1\" stroke=\"#000000\" stroke-opacity=\"1\" stroke-width=\"3.2\"/>\n",
       "<circle clip-path=\"url(#clip262)\" cx=\"2224.81\" cy=\"346.49\" r=\"10.8\" fill=\"#e26f46\" fill-rule=\"evenodd\" fill-opacity=\"1\" stroke=\"#000000\" stroke-opacity=\"1\" stroke-width=\"3.2\"/>\n",
       "<circle clip-path=\"url(#clip262)\" cx=\"2293.23\" cy=\"86.1857\" r=\"10.8\" fill=\"#e26f46\" fill-rule=\"evenodd\" fill-opacity=\"1\" stroke=\"#000000\" stroke-opacity=\"1\" stroke-width=\"3.2\"/>\n",
       "</svg>\n"
      ]
     },
     "execution_count": 85,
     "metadata": {},
     "output_type": "execute_result"
    }
   ],
   "source": [
    "scatter!(dates, rates_filled, markersize=3)"
   ]
  },
  {
   "cell_type": "code",
   "execution_count": 86,
   "id": "bbf38cfe",
   "metadata": {},
   "outputs": [
    {
     "data": {
      "image/svg+xml": [
       "<?xml version=\"1.0\" encoding=\"utf-8\"?>\n",
       "<svg xmlns=\"http://www.w3.org/2000/svg\" xmlns:xlink=\"http://www.w3.org/1999/xlink\" width=\"600\" height=\"400\" viewBox=\"0 0 2400 1600\">\n",
       "<defs>\n",
       "  <clipPath id=\"clip300\">\n",
       "    <rect x=\"0\" y=\"0\" width=\"2400\" height=\"1600\"/>\n",
       "  </clipPath>\n",
       "</defs>\n",
       "<path clip-path=\"url(#clip300)\" d=\"\n",
       "M0 1600 L2400 1600 L2400 0 L0 0  Z\n",
       "  \" fill=\"#ffffff\" fill-rule=\"evenodd\" fill-opacity=\"1\"/>\n",
       "<defs>\n",
       "  <clipPath id=\"clip301\">\n",
       "    <rect x=\"480\" y=\"0\" width=\"1681\" height=\"1600\"/>\n",
       "  </clipPath>\n",
       "</defs>\n",
       "<path clip-path=\"url(#clip300)\" d=\"\n",
       "M249.542 1054.24 L2352.76 1054.24 L2352.76 47.2441 L249.542 47.2441  Z\n",
       "  \" fill=\"#ffffff\" fill-rule=\"evenodd\" fill-opacity=\"1\"/>\n",
       "<defs>\n",
       "  <clipPath id=\"clip302\">\n",
       "    <rect x=\"249\" y=\"47\" width=\"2104\" height=\"1008\"/>\n",
       "  </clipPath>\n",
       "</defs>\n",
       "<polyline clip-path=\"url(#clip302)\" style=\"stroke:#000000; stroke-linecap:butt; stroke-linejoin:round; stroke-width:2; stroke-opacity:0.1; fill:none\" points=\"\n",
       "  309.067,1054.24 309.067,47.2441 \n",
       "  \"/>\n",
       "<polyline clip-path=\"url(#clip302)\" style=\"stroke:#000000; stroke-linecap:butt; stroke-linejoin:round; stroke-width:2; stroke-opacity:0.1; fill:none\" points=\"\n",
       "  377.486,1054.24 377.486,47.2441 \n",
       "  \"/>\n",
       "<polyline clip-path=\"url(#clip302)\" style=\"stroke:#000000; stroke-linecap:butt; stroke-linejoin:round; stroke-width:2; stroke-opacity:0.1; fill:none\" points=\"\n",
       "  445.906,1054.24 445.906,47.2441 \n",
       "  \"/>\n",
       "<polyline clip-path=\"url(#clip302)\" style=\"stroke:#000000; stroke-linecap:butt; stroke-linejoin:round; stroke-width:2; stroke-opacity:0.1; fill:none\" points=\"\n",
       "  514.325,1054.24 514.325,47.2441 \n",
       "  \"/>\n",
       "<polyline clip-path=\"url(#clip302)\" style=\"stroke:#000000; stroke-linecap:butt; stroke-linejoin:round; stroke-width:2; stroke-opacity:0.1; fill:none\" points=\"\n",
       "  582.745,1054.24 582.745,47.2441 \n",
       "  \"/>\n",
       "<polyline clip-path=\"url(#clip302)\" style=\"stroke:#000000; stroke-linecap:butt; stroke-linejoin:round; stroke-width:2; stroke-opacity:0.1; fill:none\" points=\"\n",
       "  788.003,1054.24 788.003,47.2441 \n",
       "  \"/>\n",
       "<polyline clip-path=\"url(#clip302)\" style=\"stroke:#000000; stroke-linecap:butt; stroke-linejoin:round; stroke-width:2; stroke-opacity:0.1; fill:none\" points=\"\n",
       "  856.423,1054.24 856.423,47.2441 \n",
       "  \"/>\n",
       "<polyline clip-path=\"url(#clip302)\" style=\"stroke:#000000; stroke-linecap:butt; stroke-linejoin:round; stroke-width:2; stroke-opacity:0.1; fill:none\" points=\"\n",
       "  924.842,1054.24 924.842,47.2441 \n",
       "  \"/>\n",
       "<polyline clip-path=\"url(#clip302)\" style=\"stroke:#000000; stroke-linecap:butt; stroke-linejoin:round; stroke-width:2; stroke-opacity:0.1; fill:none\" points=\"\n",
       "  1061.68,1054.24 1061.68,47.2441 \n",
       "  \"/>\n",
       "<polyline clip-path=\"url(#clip302)\" style=\"stroke:#000000; stroke-linecap:butt; stroke-linejoin:round; stroke-width:2; stroke-opacity:0.1; fill:none\" points=\"\n",
       "  1266.94,1054.24 1266.94,47.2441 \n",
       "  \"/>\n",
       "<polyline clip-path=\"url(#clip302)\" style=\"stroke:#000000; stroke-linecap:butt; stroke-linejoin:round; stroke-width:2; stroke-opacity:0.1; fill:none\" points=\"\n",
       "  1335.36,1054.24 1335.36,47.2441 \n",
       "  \"/>\n",
       "<polyline clip-path=\"url(#clip302)\" style=\"stroke:#000000; stroke-linecap:butt; stroke-linejoin:round; stroke-width:2; stroke-opacity:0.1; fill:none\" points=\"\n",
       "  1403.78,1054.24 1403.78,47.2441 \n",
       "  \"/>\n",
       "<polyline clip-path=\"url(#clip302)\" style=\"stroke:#000000; stroke-linecap:butt; stroke-linejoin:round; stroke-width:2; stroke-opacity:0.1; fill:none\" points=\"\n",
       "  1472.2,1054.24 1472.2,47.2441 \n",
       "  \"/>\n",
       "<polyline clip-path=\"url(#clip302)\" style=\"stroke:#000000; stroke-linecap:butt; stroke-linejoin:round; stroke-width:2; stroke-opacity:0.1; fill:none\" points=\"\n",
       "  1540.62,1054.24 1540.62,47.2441 \n",
       "  \"/>\n",
       "<polyline clip-path=\"url(#clip302)\" style=\"stroke:#000000; stroke-linecap:butt; stroke-linejoin:round; stroke-width:2; stroke-opacity:0.1; fill:none\" points=\"\n",
       "  1745.88,1054.24 1745.88,47.2441 \n",
       "  \"/>\n",
       "<polyline clip-path=\"url(#clip302)\" style=\"stroke:#000000; stroke-linecap:butt; stroke-linejoin:round; stroke-width:2; stroke-opacity:0.1; fill:none\" points=\"\n",
       "  1814.29,1054.24 1814.29,47.2441 \n",
       "  \"/>\n",
       "<polyline clip-path=\"url(#clip302)\" style=\"stroke:#000000; stroke-linecap:butt; stroke-linejoin:round; stroke-width:2; stroke-opacity:0.1; fill:none\" points=\"\n",
       "  1882.71,1054.24 1882.71,47.2441 \n",
       "  \"/>\n",
       "<polyline clip-path=\"url(#clip302)\" style=\"stroke:#000000; stroke-linecap:butt; stroke-linejoin:round; stroke-width:2; stroke-opacity:0.1; fill:none\" points=\"\n",
       "  1951.13,1054.24 1951.13,47.2441 \n",
       "  \"/>\n",
       "<polyline clip-path=\"url(#clip302)\" style=\"stroke:#000000; stroke-linecap:butt; stroke-linejoin:round; stroke-width:2; stroke-opacity:0.1; fill:none\" points=\"\n",
       "  2019.55,1054.24 2019.55,47.2441 \n",
       "  \"/>\n",
       "<polyline clip-path=\"url(#clip302)\" style=\"stroke:#000000; stroke-linecap:butt; stroke-linejoin:round; stroke-width:2; stroke-opacity:0.1; fill:none\" points=\"\n",
       "  2224.81,1054.24 2224.81,47.2441 \n",
       "  \"/>\n",
       "<polyline clip-path=\"url(#clip302)\" style=\"stroke:#000000; stroke-linecap:butt; stroke-linejoin:round; stroke-width:2; stroke-opacity:0.1; fill:none\" points=\"\n",
       "  2293.23,1054.24 2293.23,47.2441 \n",
       "  \"/>\n",
       "<polyline clip-path=\"url(#clip300)\" style=\"stroke:#000000; stroke-linecap:butt; stroke-linejoin:round; stroke-width:4; stroke-opacity:1; fill:none\" points=\"\n",
       "  249.542,1054.24 2352.76,1054.24 \n",
       "  \"/>\n",
       "<polyline clip-path=\"url(#clip300)\" style=\"stroke:#000000; stroke-linecap:butt; stroke-linejoin:round; stroke-width:4; stroke-opacity:1; fill:none\" points=\"\n",
       "  309.067,1054.24 309.067,1035.34 \n",
       "  \"/>\n",
       "<polyline clip-path=\"url(#clip300)\" style=\"stroke:#000000; stroke-linecap:butt; stroke-linejoin:round; stroke-width:4; stroke-opacity:1; fill:none\" points=\"\n",
       "  377.486,1054.24 377.486,1035.34 \n",
       "  \"/>\n",
       "<polyline clip-path=\"url(#clip300)\" style=\"stroke:#000000; stroke-linecap:butt; stroke-linejoin:round; stroke-width:4; stroke-opacity:1; fill:none\" points=\"\n",
       "  445.906,1054.24 445.906,1035.34 \n",
       "  \"/>\n",
       "<polyline clip-path=\"url(#clip300)\" style=\"stroke:#000000; stroke-linecap:butt; stroke-linejoin:round; stroke-width:4; stroke-opacity:1; fill:none\" points=\"\n",
       "  514.325,1054.24 514.325,1035.34 \n",
       "  \"/>\n",
       "<polyline clip-path=\"url(#clip300)\" style=\"stroke:#000000; stroke-linecap:butt; stroke-linejoin:round; stroke-width:4; stroke-opacity:1; fill:none\" points=\"\n",
       "  582.745,1054.24 582.745,1035.34 \n",
       "  \"/>\n",
       "<polyline clip-path=\"url(#clip300)\" style=\"stroke:#000000; stroke-linecap:butt; stroke-linejoin:round; stroke-width:4; stroke-opacity:1; fill:none\" points=\"\n",
       "  788.003,1054.24 788.003,1035.34 \n",
       "  \"/>\n",
       "<polyline clip-path=\"url(#clip300)\" style=\"stroke:#000000; stroke-linecap:butt; stroke-linejoin:round; stroke-width:4; stroke-opacity:1; fill:none\" points=\"\n",
       "  856.423,1054.24 856.423,1035.34 \n",
       "  \"/>\n",
       "<polyline clip-path=\"url(#clip300)\" style=\"stroke:#000000; stroke-linecap:butt; stroke-linejoin:round; stroke-width:4; stroke-opacity:1; fill:none\" points=\"\n",
       "  924.842,1054.24 924.842,1035.34 \n",
       "  \"/>\n",
       "<polyline clip-path=\"url(#clip300)\" style=\"stroke:#000000; stroke-linecap:butt; stroke-linejoin:round; stroke-width:4; stroke-opacity:1; fill:none\" points=\"\n",
       "  1061.68,1054.24 1061.68,1035.34 \n",
       "  \"/>\n",
       "<polyline clip-path=\"url(#clip300)\" style=\"stroke:#000000; stroke-linecap:butt; stroke-linejoin:round; stroke-width:4; stroke-opacity:1; fill:none\" points=\"\n",
       "  1266.94,1054.24 1266.94,1035.34 \n",
       "  \"/>\n",
       "<polyline clip-path=\"url(#clip300)\" style=\"stroke:#000000; stroke-linecap:butt; stroke-linejoin:round; stroke-width:4; stroke-opacity:1; fill:none\" points=\"\n",
       "  1335.36,1054.24 1335.36,1035.34 \n",
       "  \"/>\n",
       "<polyline clip-path=\"url(#clip300)\" style=\"stroke:#000000; stroke-linecap:butt; stroke-linejoin:round; stroke-width:4; stroke-opacity:1; fill:none\" points=\"\n",
       "  1403.78,1054.24 1403.78,1035.34 \n",
       "  \"/>\n",
       "<polyline clip-path=\"url(#clip300)\" style=\"stroke:#000000; stroke-linecap:butt; stroke-linejoin:round; stroke-width:4; stroke-opacity:1; fill:none\" points=\"\n",
       "  1472.2,1054.24 1472.2,1035.34 \n",
       "  \"/>\n",
       "<polyline clip-path=\"url(#clip300)\" style=\"stroke:#000000; stroke-linecap:butt; stroke-linejoin:round; stroke-width:4; stroke-opacity:1; fill:none\" points=\"\n",
       "  1540.62,1054.24 1540.62,1035.34 \n",
       "  \"/>\n",
       "<polyline clip-path=\"url(#clip300)\" style=\"stroke:#000000; stroke-linecap:butt; stroke-linejoin:round; stroke-width:4; stroke-opacity:1; fill:none\" points=\"\n",
       "  1745.88,1054.24 1745.88,1035.34 \n",
       "  \"/>\n",
       "<polyline clip-path=\"url(#clip300)\" style=\"stroke:#000000; stroke-linecap:butt; stroke-linejoin:round; stroke-width:4; stroke-opacity:1; fill:none\" points=\"\n",
       "  1814.29,1054.24 1814.29,1035.34 \n",
       "  \"/>\n",
       "<polyline clip-path=\"url(#clip300)\" style=\"stroke:#000000; stroke-linecap:butt; stroke-linejoin:round; stroke-width:4; stroke-opacity:1; fill:none\" points=\"\n",
       "  1882.71,1054.24 1882.71,1035.34 \n",
       "  \"/>\n",
       "<polyline clip-path=\"url(#clip300)\" style=\"stroke:#000000; stroke-linecap:butt; stroke-linejoin:round; stroke-width:4; stroke-opacity:1; fill:none\" points=\"\n",
       "  1951.13,1054.24 1951.13,1035.34 \n",
       "  \"/>\n",
       "<polyline clip-path=\"url(#clip300)\" style=\"stroke:#000000; stroke-linecap:butt; stroke-linejoin:round; stroke-width:4; stroke-opacity:1; fill:none\" points=\"\n",
       "  2019.55,1054.24 2019.55,1035.34 \n",
       "  \"/>\n",
       "<polyline clip-path=\"url(#clip300)\" style=\"stroke:#000000; stroke-linecap:butt; stroke-linejoin:round; stroke-width:4; stroke-opacity:1; fill:none\" points=\"\n",
       "  2224.81,1054.24 2224.81,1035.34 \n",
       "  \"/>\n",
       "<polyline clip-path=\"url(#clip300)\" style=\"stroke:#000000; stroke-linecap:butt; stroke-linejoin:round; stroke-width:4; stroke-opacity:1; fill:none\" points=\"\n",
       "  2293.23,1054.24 2293.23,1035.34 \n",
       "  \"/>\n",
       "<path clip-path=\"url(#clip300)\" d=\"M322.412 1578.58 L322.412 1562.26 L326.347 1562.26 L326.347 1584.2 L322.412 1584.2 Q319.657 1581.54 315.028 1576.96 Q310.375 1572.35 309.032 1571.17 Q306.509 1568.92 304.773 1568.04 Q303.014 1567.14 301.324 1567.14 Q298.569 1567.14 296.833 1569.09 Q295.097 1571.01 295.097 1574.11 Q295.097 1576.31 295.861 1578.76 Q296.625 1581.19 298.176 1583.97 L293.454 1583.97 Q292.319 1581.15 291.741 1578.69 Q291.162 1576.24 291.162 1574.2 Q291.162 1568.83 293.847 1565.64 Q296.532 1562.44 301.023 1562.44 Q303.153 1562.44 305.074 1563.25 Q306.972 1564.04 309.565 1566.15 Q310.236 1566.72 313.454 1569.83 Q316.648 1572.93 322.412 1578.58 Z\" fill=\"#000000\" fill-rule=\"evenodd\" fill-opacity=\"1\" /><path clip-path=\"url(#clip300)\" d=\"M294.866 1542.44 Q294.866 1546.05 298.43 1547.88 Q301.972 1549.69 309.102 1549.69 Q316.208 1549.69 319.773 1547.88 Q323.315 1546.05 323.315 1542.44 Q323.315 1538.81 319.773 1537 Q316.208 1535.17 309.102 1535.17 Q301.972 1535.17 298.43 1537 Q294.866 1538.81 294.866 1542.44 M291.162 1542.44 Q291.162 1536.63 295.768 1533.58 Q300.352 1530.5 309.102 1530.5 Q317.828 1530.5 322.435 1533.58 Q327.018 1536.63 327.018 1542.44 Q327.018 1548.25 322.435 1551.33 Q317.828 1554.39 309.102 1554.39 Q300.352 1554.39 295.768 1551.33 Q291.162 1548.25 291.162 1542.44 Z\" fill=\"#000000\" fill-rule=\"evenodd\" fill-opacity=\"1\" /><path clip-path=\"url(#clip300)\" d=\"M322.412 1518.25 L322.412 1501.93 L326.347 1501.93 L326.347 1523.88 L322.412 1523.88 Q319.657 1521.22 315.028 1516.63 Q310.375 1512.03 309.032 1510.85 Q306.509 1508.6 304.773 1507.72 Q303.014 1506.82 301.324 1506.82 Q298.569 1506.82 296.833 1508.76 Q295.097 1510.68 295.097 1513.79 Q295.097 1515.98 295.861 1518.44 Q296.625 1520.87 298.176 1523.65 L293.454 1523.65 Q292.319 1520.82 291.741 1518.37 Q291.162 1515.91 291.162 1513.88 Q291.162 1508.51 293.847 1505.31 Q296.532 1502.12 301.023 1502.12 Q303.153 1502.12 305.074 1502.93 Q306.972 1503.72 309.565 1505.82 Q310.236 1506.4 313.454 1509.5 Q316.648 1512.6 322.412 1518.25 Z\" fill=\"#000000\" fill-rule=\"evenodd\" fill-opacity=\"1\" /><path clip-path=\"url(#clip300)\" d=\"M294.866 1482.12 Q294.866 1485.73 298.43 1487.56 Q301.972 1489.36 309.102 1489.36 Q316.208 1489.36 319.773 1487.56 Q323.315 1485.73 323.315 1482.12 Q323.315 1478.48 319.773 1476.68 Q316.208 1474.85 309.102 1474.85 Q301.972 1474.85 298.43 1476.68 Q294.866 1478.48 294.866 1482.12 M291.162 1482.12 Q291.162 1476.31 295.768 1473.25 Q300.352 1470.17 309.102 1470.17 Q317.828 1470.17 322.435 1473.25 Q327.018 1476.31 327.018 1482.12 Q327.018 1487.93 322.435 1491.01 Q317.828 1494.06 309.102 1494.06 Q300.352 1494.06 295.768 1491.01 Q291.162 1487.93 291.162 1482.12 Z\" fill=\"#000000\" fill-rule=\"evenodd\" fill-opacity=\"1\" /><path clip-path=\"url(#clip300)\" d=\"M311.463 1464.71 L311.463 1452.23 L315.259 1452.23 L315.259 1464.71 L311.463 1464.71 Z\" fill=\"#000000\" fill-rule=\"evenodd\" fill-opacity=\"1\" /><path clip-path=\"url(#clip300)\" d=\"M294.866 1434.85 Q294.866 1438.46 298.43 1440.29 Q301.972 1442.1 309.102 1442.1 Q316.208 1442.1 319.773 1440.29 Q323.315 1438.46 323.315 1434.85 Q323.315 1431.22 319.773 1429.41 Q316.208 1427.58 309.102 1427.58 Q301.972 1427.58 298.43 1429.41 Q294.866 1431.22 294.866 1434.85 M291.162 1434.85 Q291.162 1429.04 295.768 1425.98 Q300.352 1422.91 309.102 1422.91 Q317.828 1422.91 322.435 1425.98 Q327.018 1429.04 327.018 1434.85 Q327.018 1440.66 322.435 1443.74 Q317.828 1446.79 309.102 1446.79 Q300.352 1446.79 295.768 1443.74 Q291.162 1440.66 291.162 1434.85 Z\" fill=\"#000000\" fill-rule=\"evenodd\" fill-opacity=\"1\" /><path clip-path=\"url(#clip300)\" d=\"M307.204 1404.11 Q307.204 1407.26 309.356 1409.11 Q311.509 1410.94 315.259 1410.94 Q318.986 1410.94 321.162 1409.11 Q323.315 1407.26 323.315 1404.11 Q323.315 1400.96 321.162 1399.13 Q318.986 1397.28 315.259 1397.28 Q311.509 1397.28 309.356 1399.13 Q307.204 1400.96 307.204 1404.11 M292.551 1394.83 L296.81 1394.83 Q295.977 1396.59 295.537 1398.39 Q295.097 1400.17 295.097 1401.93 Q295.097 1406.56 298.222 1409.02 Q301.347 1411.45 307.666 1411.79 Q305.653 1410.43 304.588 1408.37 Q303.5 1406.31 303.5 1403.83 Q303.5 1398.62 306.671 1395.61 Q309.819 1392.58 315.259 1392.58 Q320.583 1392.58 323.801 1395.73 Q327.018 1398.88 327.018 1404.11 Q327.018 1410.11 322.435 1413.28 Q317.828 1416.45 309.102 1416.45 Q300.907 1416.45 296.046 1412.56 Q291.162 1408.67 291.162 1402.12 Q291.162 1400.36 291.509 1398.58 Q291.856 1396.77 292.551 1394.83 Z\" fill=\"#000000\" fill-rule=\"evenodd\" fill-opacity=\"1\" /><path clip-path=\"url(#clip300)\" d=\"M311.463 1387.28 L311.463 1374.8 L315.259 1374.8 L315.259 1387.28 L311.463 1387.28 Z\" fill=\"#000000\" fill-rule=\"evenodd\" fill-opacity=\"1\" /><path clip-path=\"url(#clip300)\" d=\"M294.866 1357.42 Q294.866 1361.03 298.43 1362.86 Q301.972 1364.67 309.102 1364.67 Q316.208 1364.67 319.773 1362.86 Q323.315 1361.03 323.315 1357.42 Q323.315 1353.79 319.773 1351.98 Q316.208 1350.15 309.102 1350.15 Q301.972 1350.15 298.43 1351.98 Q294.866 1353.79 294.866 1357.42 M291.162 1357.42 Q291.162 1351.61 295.768 1348.55 Q300.352 1345.48 309.102 1345.48 Q317.828 1345.48 322.435 1348.55 Q327.018 1351.61 327.018 1357.42 Q327.018 1363.23 322.435 1366.31 Q317.828 1369.36 309.102 1369.36 Q300.352 1369.36 295.768 1366.31 Q291.162 1363.23 291.162 1357.42 Z\" fill=\"#000000\" fill-rule=\"evenodd\" fill-opacity=\"1\" /><path clip-path=\"url(#clip300)\" d=\"M322.412 1336.45 L322.412 1328.81 L296.046 1328.81 L297.713 1337.12 L293.454 1337.12 L291.787 1328.86 L291.787 1324.18 L322.412 1324.18 L322.412 1316.54 L326.347 1316.54 L326.347 1336.45 L322.412 1336.45 Z\" fill=\"#000000\" fill-rule=\"evenodd\" fill-opacity=\"1\" /><path clip-path=\"url(#clip300)\" d=\"M291.787 1312.3 L291.787 1283.07 L295.722 1283.07 L295.722 1295.34 L326.347 1295.34 L326.347 1300.04 L295.722 1300.04 L295.722 1312.3 L291.787 1312.3 Z\" fill=\"#000000\" fill-rule=\"evenodd\" fill-opacity=\"1\" /><path clip-path=\"url(#clip300)\" d=\"M294.866 1268.14 Q294.866 1271.75 298.43 1273.58 Q301.972 1275.38 309.102 1275.38 Q316.208 1275.38 319.773 1273.58 Q323.315 1271.75 323.315 1268.14 Q323.315 1264.5 319.773 1262.7 Q316.208 1260.87 309.102 1260.87 Q301.972 1260.87 298.43 1262.7 Q294.866 1264.5 294.866 1268.14 M291.162 1268.14 Q291.162 1262.33 295.768 1259.27 Q300.352 1256.19 309.102 1256.19 Q317.828 1256.19 322.435 1259.27 Q327.018 1262.33 327.018 1268.14 Q327.018 1273.95 322.435 1277.03 Q317.828 1280.08 309.102 1280.08 Q300.352 1280.08 295.768 1277.03 Q291.162 1273.95 291.162 1268.14 Z\" fill=\"#000000\" fill-rule=\"evenodd\" fill-opacity=\"1\" /><path clip-path=\"url(#clip300)\" d=\"M294.866 1237.98 Q294.866 1241.59 298.43 1243.42 Q301.972 1245.22 309.102 1245.22 Q316.208 1245.22 319.773 1243.42 Q323.315 1241.59 323.315 1237.98 Q323.315 1234.34 319.773 1232.54 Q316.208 1230.71 309.102 1230.71 Q301.972 1230.71 298.43 1232.54 Q294.866 1234.34 294.866 1237.98 M291.162 1237.98 Q291.162 1232.17 295.768 1229.11 Q300.352 1226.03 309.102 1226.03 Q317.828 1226.03 322.435 1229.11 Q327.018 1232.17 327.018 1237.98 Q327.018 1243.79 322.435 1246.87 Q317.828 1249.92 309.102 1249.92 Q300.352 1249.92 295.768 1246.87 Q291.162 1243.79 291.162 1237.98 Z\" fill=\"#000000\" fill-rule=\"evenodd\" fill-opacity=\"1\" /><path clip-path=\"url(#clip300)\" d=\"M320.467 1217.33 L320.467 1212.44 L326.347 1212.44 L326.347 1217.33 L320.467 1217.33 M301.833 1217.33 L301.833 1212.44 L307.713 1212.44 L307.713 1217.33 L301.833 1217.33 Z\" fill=\"#000000\" fill-rule=\"evenodd\" fill-opacity=\"1\" /><path clip-path=\"url(#clip300)\" d=\"M294.866 1191.84 Q294.866 1195.45 298.43 1197.28 Q301.972 1199.09 309.102 1199.09 Q316.208 1199.09 319.773 1197.28 Q323.315 1195.45 323.315 1191.84 Q323.315 1188.21 319.773 1186.4 Q316.208 1184.57 309.102 1184.57 Q301.972 1184.57 298.43 1186.4 Q294.866 1188.21 294.866 1191.84 M291.162 1191.84 Q291.162 1186.03 295.768 1182.98 Q300.352 1179.9 309.102 1179.9 Q317.828 1179.9 322.435 1182.98 Q327.018 1186.03 327.018 1191.84 Q327.018 1197.65 322.435 1200.73 Q317.828 1203.79 309.102 1203.79 Q300.352 1203.79 295.768 1200.73 Q291.162 1197.65 291.162 1191.84 Z\" fill=\"#000000\" fill-rule=\"evenodd\" fill-opacity=\"1\" /><path clip-path=\"url(#clip300)\" d=\"M294.866 1161.68 Q294.866 1165.29 298.43 1167.12 Q301.972 1168.93 309.102 1168.93 Q316.208 1168.93 319.773 1167.12 Q323.315 1165.29 323.315 1161.68 Q323.315 1158.05 319.773 1156.24 Q316.208 1154.41 309.102 1154.41 Q301.972 1154.41 298.43 1156.24 Q294.866 1158.05 294.866 1161.68 M291.162 1161.68 Q291.162 1155.87 295.768 1152.81 Q300.352 1149.74 309.102 1149.74 Q317.828 1149.74 322.435 1152.81 Q327.018 1155.87 327.018 1161.68 Q327.018 1167.49 322.435 1170.57 Q317.828 1173.62 309.102 1173.62 Q300.352 1173.62 295.768 1170.57 Q291.162 1167.49 291.162 1161.68 Z\" fill=\"#000000\" fill-rule=\"evenodd\" fill-opacity=\"1\" /><path clip-path=\"url(#clip300)\" d=\"M320.467 1141.03 L320.467 1136.15 L326.347 1136.15 L326.347 1141.03 L320.467 1141.03 M301.833 1141.03 L301.833 1136.15 L307.713 1136.15 L307.713 1141.03 L301.833 1141.03 Z\" fill=\"#000000\" fill-rule=\"evenodd\" fill-opacity=\"1\" /><path clip-path=\"url(#clip300)\" d=\"M294.866 1115.55 Q294.866 1119.16 298.43 1120.99 Q301.972 1122.79 309.102 1122.79 Q316.208 1122.79 319.773 1120.99 Q323.315 1119.16 323.315 1115.55 Q323.315 1111.91 319.773 1110.11 Q316.208 1108.28 309.102 1108.28 Q301.972 1108.28 298.43 1110.11 Q294.866 1111.91 294.866 1115.55 M291.162 1115.55 Q291.162 1109.74 295.768 1106.68 Q300.352 1103.6 309.102 1103.6 Q317.828 1103.6 322.435 1106.68 Q327.018 1109.74 327.018 1115.55 Q327.018 1121.36 322.435 1124.44 Q317.828 1127.49 309.102 1127.49 Q300.352 1127.49 295.768 1124.44 Q291.162 1121.36 291.162 1115.55 Z\" fill=\"#000000\" fill-rule=\"evenodd\" fill-opacity=\"1\" /><path clip-path=\"url(#clip300)\" d=\"M294.866 1085.38 Q294.866 1089 298.43 1090.82 Q301.972 1092.63 309.102 1092.63 Q316.208 1092.63 319.773 1090.82 Q323.315 1089 323.315 1085.38 Q323.315 1081.75 319.773 1079.94 Q316.208 1078.12 309.102 1078.12 Q301.972 1078.12 298.43 1079.94 Q294.866 1081.75 294.866 1085.38 M291.162 1085.38 Q291.162 1079.57 295.768 1076.52 Q300.352 1073.44 309.102 1073.44 Q317.828 1073.44 322.435 1076.52 Q327.018 1079.57 327.018 1085.38 Q327.018 1091.19 322.435 1094.27 Q317.828 1097.33 309.102 1097.33 Q300.352 1097.33 295.768 1094.27 Q291.162 1091.19 291.162 1085.38 Z\" fill=\"#000000\" fill-rule=\"evenodd\" fill-opacity=\"1\" /><path clip-path=\"url(#clip300)\" d=\"M390.831 1578.58 L390.831 1562.26 L394.766 1562.26 L394.766 1584.2 L390.831 1584.2 Q388.077 1581.54 383.447 1576.96 Q378.794 1572.35 377.452 1571.17 Q374.929 1568.92 373.192 1568.04 Q371.433 1567.14 369.743 1567.14 Q366.989 1567.14 365.253 1569.09 Q363.517 1571.01 363.517 1574.11 Q363.517 1576.31 364.28 1578.76 Q365.044 1581.19 366.595 1583.97 L361.873 1583.97 Q360.739 1581.15 360.16 1578.69 Q359.581 1576.24 359.581 1574.2 Q359.581 1568.83 362.267 1565.64 Q364.952 1562.44 369.442 1562.44 Q371.572 1562.44 373.493 1563.25 Q375.392 1564.04 377.984 1566.15 Q378.655 1566.72 381.873 1569.83 Q385.067 1572.93 390.831 1578.58 Z\" fill=\"#000000\" fill-rule=\"evenodd\" fill-opacity=\"1\" /><path clip-path=\"url(#clip300)\" d=\"M363.285 1542.44 Q363.285 1546.05 366.85 1547.88 Q370.392 1549.69 377.521 1549.69 Q384.628 1549.69 388.192 1547.88 Q391.734 1546.05 391.734 1542.44 Q391.734 1538.81 388.192 1537 Q384.628 1535.17 377.521 1535.17 Q370.392 1535.17 366.85 1537 Q363.285 1538.81 363.285 1542.44 M359.581 1542.44 Q359.581 1536.63 364.188 1533.58 Q368.771 1530.5 377.521 1530.5 Q386.248 1530.5 390.854 1533.58 Q395.438 1536.63 395.438 1542.44 Q395.438 1548.25 390.854 1551.33 Q386.248 1554.39 377.521 1554.39 Q368.771 1554.39 364.188 1551.33 Q359.581 1548.25 359.581 1542.44 Z\" fill=\"#000000\" fill-rule=\"evenodd\" fill-opacity=\"1\" /><path clip-path=\"url(#clip300)\" d=\"M390.831 1518.25 L390.831 1501.93 L394.766 1501.93 L394.766 1523.88 L390.831 1523.88 Q388.077 1521.22 383.447 1516.63 Q378.794 1512.03 377.452 1510.85 Q374.929 1508.6 373.192 1507.72 Q371.433 1506.82 369.743 1506.82 Q366.989 1506.82 365.253 1508.76 Q363.517 1510.68 363.517 1513.79 Q363.517 1515.98 364.28 1518.44 Q365.044 1520.87 366.595 1523.65 L361.873 1523.65 Q360.739 1520.82 360.16 1518.37 Q359.581 1515.91 359.581 1513.88 Q359.581 1508.51 362.267 1505.31 Q364.952 1502.12 369.442 1502.12 Q371.572 1502.12 373.493 1502.93 Q375.392 1503.72 377.984 1505.82 Q378.655 1506.4 381.873 1509.5 Q385.067 1512.6 390.831 1518.25 Z\" fill=\"#000000\" fill-rule=\"evenodd\" fill-opacity=\"1\" /><path clip-path=\"url(#clip300)\" d=\"M363.285 1482.12 Q363.285 1485.73 366.85 1487.56 Q370.392 1489.36 377.521 1489.36 Q384.628 1489.36 388.192 1487.56 Q391.734 1485.73 391.734 1482.12 Q391.734 1478.48 388.192 1476.68 Q384.628 1474.85 377.521 1474.85 Q370.392 1474.85 366.85 1476.68 Q363.285 1478.48 363.285 1482.12 M359.581 1482.12 Q359.581 1476.31 364.188 1473.25 Q368.771 1470.17 377.521 1470.17 Q386.248 1470.17 390.854 1473.25 Q395.438 1476.31 395.438 1482.12 Q395.438 1487.93 390.854 1491.01 Q386.248 1494.06 377.521 1494.06 Q368.771 1494.06 364.188 1491.01 Q359.581 1487.93 359.581 1482.12 Z\" fill=\"#000000\" fill-rule=\"evenodd\" fill-opacity=\"1\" /><path clip-path=\"url(#clip300)\" d=\"M379.882 1464.71 L379.882 1452.23 L383.678 1452.23 L383.678 1464.71 L379.882 1464.71 Z\" fill=\"#000000\" fill-rule=\"evenodd\" fill-opacity=\"1\" /><path clip-path=\"url(#clip300)\" d=\"M363.285 1434.85 Q363.285 1438.46 366.85 1440.29 Q370.392 1442.1 377.521 1442.1 Q384.628 1442.1 388.192 1440.29 Q391.734 1438.46 391.734 1434.85 Q391.734 1431.22 388.192 1429.41 Q384.628 1427.58 377.521 1427.58 Q370.392 1427.58 366.85 1429.41 Q363.285 1431.22 363.285 1434.85 M359.581 1434.85 Q359.581 1429.04 364.188 1425.98 Q368.771 1422.91 377.521 1422.91 Q386.248 1422.91 390.854 1425.98 Q395.438 1429.04 395.438 1434.85 Q395.438 1440.66 390.854 1443.74 Q386.248 1446.79 377.521 1446.79 Q368.771 1446.79 364.188 1443.74 Q359.581 1440.66 359.581 1434.85 Z\" fill=\"#000000\" fill-rule=\"evenodd\" fill-opacity=\"1\" /><path clip-path=\"url(#clip300)\" d=\"M375.623 1404.11 Q375.623 1407.26 377.776 1409.11 Q379.929 1410.94 383.678 1410.94 Q387.405 1410.94 389.581 1409.11 Q391.734 1407.26 391.734 1404.11 Q391.734 1400.96 389.581 1399.13 Q387.405 1397.28 383.678 1397.28 Q379.929 1397.28 377.776 1399.13 Q375.623 1400.96 375.623 1404.11 M360.97 1394.83 L365.23 1394.83 Q364.396 1396.59 363.956 1398.39 Q363.517 1400.17 363.517 1401.93 Q363.517 1406.56 366.642 1409.02 Q369.767 1411.45 376.086 1411.79 Q374.072 1410.43 373.007 1408.37 Q371.919 1406.31 371.919 1403.83 Q371.919 1398.62 375.091 1395.61 Q378.239 1392.58 383.678 1392.58 Q389.003 1392.58 392.22 1395.73 Q395.438 1398.88 395.438 1404.11 Q395.438 1410.11 390.854 1413.28 Q386.248 1416.45 377.521 1416.45 Q369.327 1416.45 364.466 1412.56 Q359.581 1408.67 359.581 1402.12 Q359.581 1400.36 359.929 1398.58 Q360.276 1396.77 360.97 1394.83 Z\" fill=\"#000000\" fill-rule=\"evenodd\" fill-opacity=\"1\" /><path clip-path=\"url(#clip300)\" d=\"M379.882 1387.28 L379.882 1374.8 L383.678 1374.8 L383.678 1387.28 L379.882 1387.28 Z\" fill=\"#000000\" fill-rule=\"evenodd\" fill-opacity=\"1\" /><path clip-path=\"url(#clip300)\" d=\"M363.285 1357.42 Q363.285 1361.03 366.85 1362.86 Q370.392 1364.67 377.521 1364.67 Q384.628 1364.67 388.192 1362.86 Q391.734 1361.03 391.734 1357.42 Q391.734 1353.79 388.192 1351.98 Q384.628 1350.15 377.521 1350.15 Q370.392 1350.15 366.85 1351.98 Q363.285 1353.79 363.285 1357.42 M359.581 1357.42 Q359.581 1351.61 364.188 1348.55 Q368.771 1345.48 377.521 1345.48 Q386.248 1345.48 390.854 1348.55 Q395.438 1351.61 395.438 1357.42 Q395.438 1363.23 390.854 1366.31 Q386.248 1369.36 377.521 1369.36 Q368.771 1369.36 364.188 1366.31 Q359.581 1363.23 359.581 1357.42 Z\" fill=\"#000000\" fill-rule=\"evenodd\" fill-opacity=\"1\" /><path clip-path=\"url(#clip300)\" d=\"M390.831 1333.23 L390.831 1316.91 L394.766 1316.91 L394.766 1338.86 L390.831 1338.86 Q388.077 1336.19 383.447 1331.61 Q378.794 1327 377.452 1325.82 Q374.929 1323.58 373.192 1322.7 Q371.433 1321.8 369.743 1321.8 Q366.989 1321.8 365.253 1323.74 Q363.517 1325.66 363.517 1328.76 Q363.517 1330.96 364.28 1333.42 Q365.044 1335.85 366.595 1338.62 L361.873 1338.62 Q360.739 1335.8 360.16 1333.35 Q359.581 1330.89 359.581 1328.86 Q359.581 1323.49 362.267 1320.29 Q364.952 1317.1 369.442 1317.1 Q371.572 1317.1 373.493 1317.91 Q375.392 1318.69 377.984 1320.8 Q378.655 1321.38 381.873 1324.48 Q385.067 1327.58 390.831 1333.23 Z\" fill=\"#000000\" fill-rule=\"evenodd\" fill-opacity=\"1\" /><path clip-path=\"url(#clip300)\" d=\"M360.206 1312.3 L360.206 1283.07 L364.142 1283.07 L364.142 1295.34 L394.766 1295.34 L394.766 1300.04 L364.142 1300.04 L364.142 1312.3 L360.206 1312.3 Z\" fill=\"#000000\" fill-rule=\"evenodd\" fill-opacity=\"1\" /><path clip-path=\"url(#clip300)\" d=\"M363.285 1268.14 Q363.285 1271.75 366.85 1273.58 Q370.392 1275.38 377.521 1275.38 Q384.628 1275.38 388.192 1273.58 Q391.734 1271.75 391.734 1268.14 Q391.734 1264.5 388.192 1262.7 Q384.628 1260.87 377.521 1260.87 Q370.392 1260.87 366.85 1262.7 Q363.285 1264.5 363.285 1268.14 M359.581 1268.14 Q359.581 1262.33 364.188 1259.27 Q368.771 1256.19 377.521 1256.19 Q386.248 1256.19 390.854 1259.27 Q395.438 1262.33 395.438 1268.14 Q395.438 1273.95 390.854 1277.03 Q386.248 1280.08 377.521 1280.08 Q368.771 1280.08 364.188 1277.03 Q359.581 1273.95 359.581 1268.14 Z\" fill=\"#000000\" fill-rule=\"evenodd\" fill-opacity=\"1\" /><path clip-path=\"url(#clip300)\" d=\"M363.285 1237.98 Q363.285 1241.59 366.85 1243.42 Q370.392 1245.22 377.521 1245.22 Q384.628 1245.22 388.192 1243.42 Q391.734 1241.59 391.734 1237.98 Q391.734 1234.34 388.192 1232.54 Q384.628 1230.71 377.521 1230.71 Q370.392 1230.71 366.85 1232.54 Q363.285 1234.34 363.285 1237.98 M359.581 1237.98 Q359.581 1232.17 364.188 1229.11 Q368.771 1226.03 377.521 1226.03 Q386.248 1226.03 390.854 1229.11 Q395.438 1232.17 395.438 1237.98 Q395.438 1243.79 390.854 1246.87 Q386.248 1249.92 377.521 1249.92 Q368.771 1249.92 364.188 1246.87 Q359.581 1243.79 359.581 1237.98 Z\" fill=\"#000000\" fill-rule=\"evenodd\" fill-opacity=\"1\" /><path clip-path=\"url(#clip300)\" d=\"M388.887 1217.33 L388.887 1212.44 L394.766 1212.44 L394.766 1217.33 L388.887 1217.33 M370.253 1217.33 L370.253 1212.44 L376.132 1212.44 L376.132 1217.33 L370.253 1217.33 Z\" fill=\"#000000\" fill-rule=\"evenodd\" fill-opacity=\"1\" /><path clip-path=\"url(#clip300)\" d=\"M363.285 1191.84 Q363.285 1195.45 366.85 1197.28 Q370.392 1199.09 377.521 1199.09 Q384.628 1199.09 388.192 1197.28 Q391.734 1195.45 391.734 1191.84 Q391.734 1188.21 388.192 1186.4 Q384.628 1184.57 377.521 1184.57 Q370.392 1184.57 366.85 1186.4 Q363.285 1188.21 363.285 1191.84 M359.581 1191.84 Q359.581 1186.03 364.188 1182.98 Q368.771 1179.9 377.521 1179.9 Q386.248 1179.9 390.854 1182.98 Q395.438 1186.03 395.438 1191.84 Q395.438 1197.65 390.854 1200.73 Q386.248 1203.79 377.521 1203.79 Q368.771 1203.79 364.188 1200.73 Q359.581 1197.65 359.581 1191.84 Z\" fill=\"#000000\" fill-rule=\"evenodd\" fill-opacity=\"1\" /><path clip-path=\"url(#clip300)\" d=\"M363.285 1161.68 Q363.285 1165.29 366.85 1167.12 Q370.392 1168.93 377.521 1168.93 Q384.628 1168.93 388.192 1167.12 Q391.734 1165.29 391.734 1161.68 Q391.734 1158.05 388.192 1156.24 Q384.628 1154.41 377.521 1154.41 Q370.392 1154.41 366.85 1156.24 Q363.285 1158.05 363.285 1161.68 M359.581 1161.68 Q359.581 1155.87 364.188 1152.81 Q368.771 1149.74 377.521 1149.74 Q386.248 1149.74 390.854 1152.81 Q395.438 1155.87 395.438 1161.68 Q395.438 1167.49 390.854 1170.57 Q386.248 1173.62 377.521 1173.62 Q368.771 1173.62 364.188 1170.57 Q359.581 1167.49 359.581 1161.68 Z\" fill=\"#000000\" fill-rule=\"evenodd\" fill-opacity=\"1\" /><path clip-path=\"url(#clip300)\" d=\"M388.887 1141.03 L388.887 1136.15 L394.766 1136.15 L394.766 1141.03 L388.887 1141.03 M370.253 1141.03 L370.253 1136.15 L376.132 1136.15 L376.132 1141.03 L370.253 1141.03 Z\" fill=\"#000000\" fill-rule=\"evenodd\" fill-opacity=\"1\" /><path clip-path=\"url(#clip300)\" d=\"M363.285 1115.55 Q363.285 1119.16 366.85 1120.99 Q370.392 1122.79 377.521 1122.79 Q384.628 1122.79 388.192 1120.99 Q391.734 1119.16 391.734 1115.55 Q391.734 1111.91 388.192 1110.11 Q384.628 1108.28 377.521 1108.28 Q370.392 1108.28 366.85 1110.11 Q363.285 1111.91 363.285 1115.55 M359.581 1115.55 Q359.581 1109.74 364.188 1106.68 Q368.771 1103.6 377.521 1103.6 Q386.248 1103.6 390.854 1106.68 Q395.438 1109.74 395.438 1115.55 Q395.438 1121.36 390.854 1124.44 Q386.248 1127.49 377.521 1127.49 Q368.771 1127.49 364.188 1124.44 Q359.581 1121.36 359.581 1115.55 Z\" fill=\"#000000\" fill-rule=\"evenodd\" fill-opacity=\"1\" /><path clip-path=\"url(#clip300)\" d=\"M363.285 1085.38 Q363.285 1089 366.85 1090.82 Q370.392 1092.63 377.521 1092.63 Q384.628 1092.63 388.192 1090.82 Q391.734 1089 391.734 1085.38 Q391.734 1081.75 388.192 1079.94 Q384.628 1078.12 377.521 1078.12 Q370.392 1078.12 366.85 1079.94 Q363.285 1081.75 363.285 1085.38 M359.581 1085.38 Q359.581 1079.57 364.188 1076.52 Q368.771 1073.44 377.521 1073.44 Q386.248 1073.44 390.854 1076.52 Q395.438 1079.57 395.438 1085.38 Q395.438 1091.19 390.854 1094.27 Q386.248 1097.33 377.521 1097.33 Q368.771 1097.33 364.188 1094.27 Q359.581 1091.19 359.581 1085.38 Z\" fill=\"#000000\" fill-rule=\"evenodd\" fill-opacity=\"1\" /><path clip-path=\"url(#clip300)\" d=\"M459.251 1578.58 L459.251 1562.26 L463.186 1562.26 L463.186 1584.2 L459.251 1584.2 Q456.496 1581.54 451.866 1576.96 Q447.214 1572.35 445.871 1571.17 Q443.348 1568.92 441.612 1568.04 Q439.853 1567.14 438.163 1567.14 Q435.408 1567.14 433.672 1569.09 Q431.936 1571.01 431.936 1574.11 Q431.936 1576.31 432.7 1578.76 Q433.464 1581.19 435.015 1583.97 L430.293 1583.97 Q429.158 1581.15 428.58 1578.69 Q428.001 1576.24 428.001 1574.2 Q428.001 1568.83 430.686 1565.64 Q433.371 1562.44 437.862 1562.44 Q439.992 1562.44 441.913 1563.25 Q443.811 1564.04 446.404 1566.15 Q447.075 1566.72 450.292 1569.83 Q453.487 1572.93 459.251 1578.58 Z\" fill=\"#000000\" fill-rule=\"evenodd\" fill-opacity=\"1\" /><path clip-path=\"url(#clip300)\" d=\"M431.705 1542.44 Q431.705 1546.05 435.269 1547.88 Q438.811 1549.69 445.941 1549.69 Q453.047 1549.69 456.612 1547.88 Q460.153 1546.05 460.153 1542.44 Q460.153 1538.81 456.612 1537 Q453.047 1535.17 445.941 1535.17 Q438.811 1535.17 435.269 1537 Q431.705 1538.81 431.705 1542.44 M428.001 1542.44 Q428.001 1536.63 432.607 1533.58 Q437.191 1530.5 445.941 1530.5 Q454.667 1530.5 459.274 1533.58 Q463.857 1536.63 463.857 1542.44 Q463.857 1548.25 459.274 1551.33 Q454.667 1554.39 445.941 1554.39 Q437.191 1554.39 432.607 1551.33 Q428.001 1548.25 428.001 1542.44 Z\" fill=\"#000000\" fill-rule=\"evenodd\" fill-opacity=\"1\" /><path clip-path=\"url(#clip300)\" d=\"M459.251 1518.25 L459.251 1501.93 L463.186 1501.93 L463.186 1523.88 L459.251 1523.88 Q456.496 1521.22 451.866 1516.63 Q447.214 1512.03 445.871 1510.85 Q443.348 1508.6 441.612 1507.72 Q439.853 1506.82 438.163 1506.82 Q435.408 1506.82 433.672 1508.76 Q431.936 1510.68 431.936 1513.79 Q431.936 1515.98 432.7 1518.44 Q433.464 1520.87 435.015 1523.65 L430.293 1523.65 Q429.158 1520.82 428.58 1518.37 Q428.001 1515.91 428.001 1513.88 Q428.001 1508.51 430.686 1505.31 Q433.371 1502.12 437.862 1502.12 Q439.992 1502.12 441.913 1502.93 Q443.811 1503.72 446.404 1505.82 Q447.075 1506.4 450.292 1509.5 Q453.487 1512.6 459.251 1518.25 Z\" fill=\"#000000\" fill-rule=\"evenodd\" fill-opacity=\"1\" /><path clip-path=\"url(#clip300)\" d=\"M431.705 1482.12 Q431.705 1485.73 435.269 1487.56 Q438.811 1489.36 445.941 1489.36 Q453.047 1489.36 456.612 1487.56 Q460.153 1485.73 460.153 1482.12 Q460.153 1478.48 456.612 1476.68 Q453.047 1474.85 445.941 1474.85 Q438.811 1474.85 435.269 1476.68 Q431.705 1478.48 431.705 1482.12 M428.001 1482.12 Q428.001 1476.31 432.607 1473.25 Q437.191 1470.17 445.941 1470.17 Q454.667 1470.17 459.274 1473.25 Q463.857 1476.31 463.857 1482.12 Q463.857 1487.93 459.274 1491.01 Q454.667 1494.06 445.941 1494.06 Q437.191 1494.06 432.607 1491.01 Q428.001 1487.93 428.001 1482.12 Z\" fill=\"#000000\" fill-rule=\"evenodd\" fill-opacity=\"1\" /><path clip-path=\"url(#clip300)\" d=\"M448.302 1464.71 L448.302 1452.23 L452.098 1452.23 L452.098 1464.71 L448.302 1464.71 Z\" fill=\"#000000\" fill-rule=\"evenodd\" fill-opacity=\"1\" /><path clip-path=\"url(#clip300)\" d=\"M431.705 1434.85 Q431.705 1438.46 435.269 1440.29 Q438.811 1442.1 445.941 1442.1 Q453.047 1442.1 456.612 1440.29 Q460.153 1438.46 460.153 1434.85 Q460.153 1431.22 456.612 1429.41 Q453.047 1427.58 445.941 1427.58 Q438.811 1427.58 435.269 1429.41 Q431.705 1431.22 431.705 1434.85 M428.001 1434.85 Q428.001 1429.04 432.607 1425.98 Q437.191 1422.91 445.941 1422.91 Q454.667 1422.91 459.274 1425.98 Q463.857 1429.04 463.857 1434.85 Q463.857 1440.66 459.274 1443.74 Q454.667 1446.79 445.941 1446.79 Q437.191 1446.79 432.607 1443.74 Q428.001 1440.66 428.001 1434.85 Z\" fill=\"#000000\" fill-rule=\"evenodd\" fill-opacity=\"1\" /><path clip-path=\"url(#clip300)\" d=\"M444.042 1404.11 Q444.042 1407.26 446.195 1409.11 Q448.348 1410.94 452.098 1410.94 Q455.825 1410.94 458.001 1409.11 Q460.153 1407.26 460.153 1404.11 Q460.153 1400.96 458.001 1399.13 Q455.825 1397.28 452.098 1397.28 Q448.348 1397.28 446.195 1399.13 Q444.042 1400.96 444.042 1404.11 M429.39 1394.83 L433.649 1394.83 Q432.816 1396.59 432.376 1398.39 Q431.936 1400.17 431.936 1401.93 Q431.936 1406.56 435.061 1409.02 Q438.186 1411.45 444.505 1411.79 Q442.492 1410.43 441.427 1408.37 Q440.339 1406.31 440.339 1403.83 Q440.339 1398.62 443.51 1395.61 Q446.658 1392.58 452.098 1392.58 Q457.422 1392.58 460.64 1395.73 Q463.857 1398.88 463.857 1404.11 Q463.857 1410.11 459.274 1413.28 Q454.667 1416.45 445.941 1416.45 Q437.746 1416.45 432.885 1412.56 Q428.001 1408.67 428.001 1402.12 Q428.001 1400.36 428.348 1398.58 Q428.695 1396.77 429.39 1394.83 Z\" fill=\"#000000\" fill-rule=\"evenodd\" fill-opacity=\"1\" /><path clip-path=\"url(#clip300)\" d=\"M448.302 1387.28 L448.302 1374.8 L452.098 1374.8 L452.098 1387.28 L448.302 1387.28 Z\" fill=\"#000000\" fill-rule=\"evenodd\" fill-opacity=\"1\" /><path clip-path=\"url(#clip300)\" d=\"M431.705 1357.42 Q431.705 1361.03 435.269 1362.86 Q438.811 1364.67 445.941 1364.67 Q453.047 1364.67 456.612 1362.86 Q460.153 1361.03 460.153 1357.42 Q460.153 1353.79 456.612 1351.98 Q453.047 1350.15 445.941 1350.15 Q438.811 1350.15 435.269 1351.98 Q431.705 1353.79 431.705 1357.42 M428.001 1357.42 Q428.001 1351.61 432.607 1348.55 Q437.191 1345.48 445.941 1345.48 Q454.667 1345.48 459.274 1348.55 Q463.857 1351.61 463.857 1357.42 Q463.857 1363.23 459.274 1366.31 Q454.667 1369.36 445.941 1369.36 Q437.191 1369.36 432.607 1366.31 Q428.001 1363.23 428.001 1357.42 Z\" fill=\"#000000\" fill-rule=\"evenodd\" fill-opacity=\"1\" /><path clip-path=\"url(#clip300)\" d=\"M444.552 1323.09 Q445.269 1319.74 447.538 1317.86 Q449.806 1315.96 453.14 1315.96 Q458.255 1315.96 461.056 1319.48 Q463.857 1323 463.857 1329.48 Q463.857 1331.66 463.417 1333.97 Q463.001 1336.26 462.144 1338.72 L457.63 1338.72 Q458.765 1336.77 459.343 1334.46 Q459.922 1332.14 459.922 1329.62 Q459.922 1325.22 458.186 1322.93 Q456.45 1320.61 453.14 1320.61 Q450.084 1320.61 448.371 1322.77 Q446.635 1324.9 446.635 1328.72 L446.635 1332.74 L442.792 1332.74 L442.792 1328.53 Q442.792 1325.08 441.427 1323.25 Q440.038 1321.43 437.445 1321.43 Q434.783 1321.43 433.371 1323.32 Q431.936 1325.2 431.936 1328.72 Q431.936 1330.64 432.353 1332.84 Q432.769 1335.04 433.649 1337.67 L429.482 1337.67 Q428.742 1335.01 428.371 1332.7 Q428.001 1330.36 428.001 1328.3 Q428.001 1322.98 430.431 1319.87 Q432.839 1316.77 436.959 1316.77 Q439.829 1316.77 441.82 1318.42 Q443.788 1320.06 444.552 1323.09 Z\" fill=\"#000000\" fill-rule=\"evenodd\" fill-opacity=\"1\" /><path clip-path=\"url(#clip300)\" d=\"M428.626 1312.3 L428.626 1283.07 L432.561 1283.07 L432.561 1295.34 L463.186 1295.34 L463.186 1300.04 L432.561 1300.04 L432.561 1312.3 L428.626 1312.3 Z\" fill=\"#000000\" fill-rule=\"evenodd\" fill-opacity=\"1\" /><path clip-path=\"url(#clip300)\" d=\"M431.705 1268.14 Q431.705 1271.75 435.269 1273.58 Q438.811 1275.38 445.941 1275.38 Q453.047 1275.38 456.612 1273.58 Q460.153 1271.75 460.153 1268.14 Q460.153 1264.5 456.612 1262.7 Q453.047 1260.87 445.941 1260.87 Q438.811 1260.87 435.269 1262.7 Q431.705 1264.5 431.705 1268.14 M428.001 1268.14 Q428.001 1262.33 432.607 1259.27 Q437.191 1256.19 445.941 1256.19 Q454.667 1256.19 459.274 1259.27 Q463.857 1262.33 463.857 1268.14 Q463.857 1273.95 459.274 1277.03 Q454.667 1280.08 445.941 1280.08 Q437.191 1280.08 432.607 1277.03 Q428.001 1273.95 428.001 1268.14 Z\" fill=\"#000000\" fill-rule=\"evenodd\" fill-opacity=\"1\" /><path clip-path=\"url(#clip300)\" d=\"M431.705 1237.98 Q431.705 1241.59 435.269 1243.42 Q438.811 1245.22 445.941 1245.22 Q453.047 1245.22 456.612 1243.42 Q460.153 1241.59 460.153 1237.98 Q460.153 1234.34 456.612 1232.54 Q453.047 1230.71 445.941 1230.71 Q438.811 1230.71 435.269 1232.54 Q431.705 1234.34 431.705 1237.98 M428.001 1237.98 Q428.001 1232.17 432.607 1229.11 Q437.191 1226.03 445.941 1226.03 Q454.667 1226.03 459.274 1229.11 Q463.857 1232.17 463.857 1237.98 Q463.857 1243.79 459.274 1246.87 Q454.667 1249.92 445.941 1249.92 Q437.191 1249.92 432.607 1246.87 Q428.001 1243.79 428.001 1237.98 Z\" fill=\"#000000\" fill-rule=\"evenodd\" fill-opacity=\"1\" /><path clip-path=\"url(#clip300)\" d=\"M457.306 1217.33 L457.306 1212.44 L463.186 1212.44 L463.186 1217.33 L457.306 1217.33 M438.672 1217.33 L438.672 1212.44 L444.552 1212.44 L444.552 1217.33 L438.672 1217.33 Z\" fill=\"#000000\" fill-rule=\"evenodd\" fill-opacity=\"1\" /><path clip-path=\"url(#clip300)\" d=\"M431.705 1191.84 Q431.705 1195.45 435.269 1197.28 Q438.811 1199.09 445.941 1199.09 Q453.047 1199.09 456.612 1197.28 Q460.153 1195.45 460.153 1191.84 Q460.153 1188.21 456.612 1186.4 Q453.047 1184.57 445.941 1184.57 Q438.811 1184.57 435.269 1186.4 Q431.705 1188.21 431.705 1191.84 M428.001 1191.84 Q428.001 1186.03 432.607 1182.98 Q437.191 1179.9 445.941 1179.9 Q454.667 1179.9 459.274 1182.98 Q463.857 1186.03 463.857 1191.84 Q463.857 1197.65 459.274 1200.73 Q454.667 1203.79 445.941 1203.79 Q437.191 1203.79 432.607 1200.73 Q428.001 1197.65 428.001 1191.84 Z\" fill=\"#000000\" fill-rule=\"evenodd\" fill-opacity=\"1\" /><path clip-path=\"url(#clip300)\" d=\"M431.705 1161.68 Q431.705 1165.29 435.269 1167.12 Q438.811 1168.93 445.941 1168.93 Q453.047 1168.93 456.612 1167.12 Q460.153 1165.29 460.153 1161.68 Q460.153 1158.05 456.612 1156.24 Q453.047 1154.41 445.941 1154.41 Q438.811 1154.41 435.269 1156.24 Q431.705 1158.05 431.705 1161.68 M428.001 1161.68 Q428.001 1155.87 432.607 1152.81 Q437.191 1149.74 445.941 1149.74 Q454.667 1149.74 459.274 1152.81 Q463.857 1155.87 463.857 1161.68 Q463.857 1167.49 459.274 1170.57 Q454.667 1173.62 445.941 1173.62 Q437.191 1173.62 432.607 1170.57 Q428.001 1167.49 428.001 1161.68 Z\" fill=\"#000000\" fill-rule=\"evenodd\" fill-opacity=\"1\" /><path clip-path=\"url(#clip300)\" d=\"M457.306 1141.03 L457.306 1136.15 L463.186 1136.15 L463.186 1141.03 L457.306 1141.03 M438.672 1141.03 L438.672 1136.15 L444.552 1136.15 L444.552 1141.03 L438.672 1141.03 Z\" fill=\"#000000\" fill-rule=\"evenodd\" fill-opacity=\"1\" /><path clip-path=\"url(#clip300)\" d=\"M431.705 1115.55 Q431.705 1119.16 435.269 1120.99 Q438.811 1122.79 445.941 1122.79 Q453.047 1122.79 456.612 1120.99 Q460.153 1119.16 460.153 1115.55 Q460.153 1111.91 456.612 1110.11 Q453.047 1108.28 445.941 1108.28 Q438.811 1108.28 435.269 1110.11 Q431.705 1111.91 431.705 1115.55 M428.001 1115.55 Q428.001 1109.74 432.607 1106.68 Q437.191 1103.6 445.941 1103.6 Q454.667 1103.6 459.274 1106.68 Q463.857 1109.74 463.857 1115.55 Q463.857 1121.36 459.274 1124.44 Q454.667 1127.49 445.941 1127.49 Q437.191 1127.49 432.607 1124.44 Q428.001 1121.36 428.001 1115.55 Z\" fill=\"#000000\" fill-rule=\"evenodd\" fill-opacity=\"1\" /><path clip-path=\"url(#clip300)\" d=\"M431.705 1085.38 Q431.705 1089 435.269 1090.82 Q438.811 1092.63 445.941 1092.63 Q453.047 1092.63 456.612 1090.82 Q460.153 1089 460.153 1085.38 Q460.153 1081.75 456.612 1079.94 Q453.047 1078.12 445.941 1078.12 Q438.811 1078.12 435.269 1079.94 Q431.705 1081.75 431.705 1085.38 M428.001 1085.38 Q428.001 1079.57 432.607 1076.52 Q437.191 1073.44 445.941 1073.44 Q454.667 1073.44 459.274 1076.52 Q463.857 1079.57 463.857 1085.38 Q463.857 1091.19 459.274 1094.27 Q454.667 1097.33 445.941 1097.33 Q437.191 1097.33 432.607 1094.27 Q428.001 1091.19 428.001 1085.38 Z\" fill=\"#000000\" fill-rule=\"evenodd\" fill-opacity=\"1\" /><path clip-path=\"url(#clip300)\" d=\"M527.67 1578.58 L527.67 1562.26 L531.605 1562.26 L531.605 1584.2 L527.67 1584.2 Q524.916 1581.54 520.286 1576.96 Q515.633 1572.35 514.291 1571.17 Q511.767 1568.92 510.031 1568.04 Q508.272 1567.14 506.582 1567.14 Q503.828 1567.14 502.092 1569.09 Q500.355 1571.01 500.355 1574.11 Q500.355 1576.31 501.119 1578.76 Q501.883 1581.19 503.434 1583.97 L498.712 1583.97 Q497.578 1581.15 496.999 1578.69 Q496.42 1576.24 496.42 1574.2 Q496.42 1568.83 499.105 1565.64 Q501.791 1562.44 506.281 1562.44 Q508.411 1562.44 510.332 1563.25 Q512.23 1564.04 514.823 1566.15 Q515.494 1566.72 518.712 1569.83 Q521.906 1572.93 527.67 1578.58 Z\" fill=\"#000000\" fill-rule=\"evenodd\" fill-opacity=\"1\" /><path clip-path=\"url(#clip300)\" d=\"M500.124 1542.44 Q500.124 1546.05 503.689 1547.88 Q507.23 1549.69 514.36 1549.69 Q521.466 1549.69 525.031 1547.88 Q528.573 1546.05 528.573 1542.44 Q528.573 1538.81 525.031 1537 Q521.466 1535.17 514.36 1535.17 Q507.23 1535.17 503.689 1537 Q500.124 1538.81 500.124 1542.44 M496.42 1542.44 Q496.42 1536.63 501.027 1533.58 Q505.61 1530.5 514.36 1530.5 Q523.087 1530.5 527.693 1533.58 Q532.277 1536.63 532.277 1542.44 Q532.277 1548.25 527.693 1551.33 Q523.087 1554.39 514.36 1554.39 Q505.61 1554.39 501.027 1551.33 Q496.42 1548.25 496.42 1542.44 Z\" fill=\"#000000\" fill-rule=\"evenodd\" fill-opacity=\"1\" /><path clip-path=\"url(#clip300)\" d=\"M527.67 1518.25 L527.67 1501.93 L531.605 1501.93 L531.605 1523.88 L527.67 1523.88 Q524.916 1521.22 520.286 1516.63 Q515.633 1512.03 514.291 1510.85 Q511.767 1508.6 510.031 1507.72 Q508.272 1506.82 506.582 1506.82 Q503.828 1506.82 502.092 1508.76 Q500.355 1510.68 500.355 1513.79 Q500.355 1515.98 501.119 1518.44 Q501.883 1520.87 503.434 1523.65 L498.712 1523.65 Q497.578 1520.82 496.999 1518.37 Q496.42 1515.91 496.42 1513.88 Q496.42 1508.51 499.105 1505.31 Q501.791 1502.12 506.281 1502.12 Q508.411 1502.12 510.332 1502.93 Q512.23 1503.72 514.823 1505.82 Q515.494 1506.4 518.712 1509.5 Q521.906 1512.6 527.67 1518.25 Z\" fill=\"#000000\" fill-rule=\"evenodd\" fill-opacity=\"1\" /><path clip-path=\"url(#clip300)\" d=\"M500.124 1482.12 Q500.124 1485.73 503.689 1487.56 Q507.23 1489.36 514.36 1489.36 Q521.466 1489.36 525.031 1487.56 Q528.573 1485.73 528.573 1482.12 Q528.573 1478.48 525.031 1476.68 Q521.466 1474.85 514.36 1474.85 Q507.23 1474.85 503.689 1476.68 Q500.124 1478.48 500.124 1482.12 M496.42 1482.12 Q496.42 1476.31 501.027 1473.25 Q505.61 1470.17 514.36 1470.17 Q523.087 1470.17 527.693 1473.25 Q532.277 1476.31 532.277 1482.12 Q532.277 1487.93 527.693 1491.01 Q523.087 1494.06 514.36 1494.06 Q505.61 1494.06 501.027 1491.01 Q496.42 1487.93 496.42 1482.12 Z\" fill=\"#000000\" fill-rule=\"evenodd\" fill-opacity=\"1\" /><path clip-path=\"url(#clip300)\" d=\"M516.721 1464.71 L516.721 1452.23 L520.517 1452.23 L520.517 1464.71 L516.721 1464.71 Z\" fill=\"#000000\" fill-rule=\"evenodd\" fill-opacity=\"1\" /><path clip-path=\"url(#clip300)\" d=\"M500.124 1434.85 Q500.124 1438.46 503.689 1440.29 Q507.23 1442.1 514.36 1442.1 Q521.466 1442.1 525.031 1440.29 Q528.573 1438.46 528.573 1434.85 Q528.573 1431.22 525.031 1429.41 Q521.466 1427.58 514.36 1427.58 Q507.23 1427.58 503.689 1429.41 Q500.124 1431.22 500.124 1434.85 M496.42 1434.85 Q496.42 1429.04 501.027 1425.98 Q505.61 1422.91 514.36 1422.91 Q523.087 1422.91 527.693 1425.98 Q532.277 1429.04 532.277 1434.85 Q532.277 1440.66 527.693 1443.74 Q523.087 1446.79 514.36 1446.79 Q505.61 1446.79 501.027 1443.74 Q496.42 1440.66 496.42 1434.85 Z\" fill=\"#000000\" fill-rule=\"evenodd\" fill-opacity=\"1\" /><path clip-path=\"url(#clip300)\" d=\"M512.462 1404.11 Q512.462 1407.26 514.615 1409.11 Q516.767 1410.94 520.517 1410.94 Q524.244 1410.94 526.42 1409.11 Q528.573 1407.26 528.573 1404.11 Q528.573 1400.96 526.42 1399.13 Q524.244 1397.28 520.517 1397.28 Q516.767 1397.28 514.615 1399.13 Q512.462 1400.96 512.462 1404.11 M497.809 1394.83 L502.068 1394.83 Q501.235 1396.59 500.795 1398.39 Q500.355 1400.17 500.355 1401.93 Q500.355 1406.56 503.48 1409.02 Q506.605 1411.45 512.925 1411.79 Q510.911 1410.43 509.846 1408.37 Q508.758 1406.31 508.758 1403.83 Q508.758 1398.62 511.929 1395.61 Q515.078 1392.58 520.517 1392.58 Q525.841 1392.58 529.059 1395.73 Q532.277 1398.88 532.277 1404.11 Q532.277 1410.11 527.693 1413.28 Q523.087 1416.45 514.36 1416.45 Q506.166 1416.45 501.305 1412.56 Q496.42 1408.67 496.42 1402.12 Q496.42 1400.36 496.768 1398.58 Q497.115 1396.77 497.809 1394.83 Z\" fill=\"#000000\" fill-rule=\"evenodd\" fill-opacity=\"1\" /><path clip-path=\"url(#clip300)\" d=\"M516.721 1387.28 L516.721 1374.8 L520.517 1374.8 L520.517 1387.28 L516.721 1387.28 Z\" fill=\"#000000\" fill-rule=\"evenodd\" fill-opacity=\"1\" /><path clip-path=\"url(#clip300)\" d=\"M500.124 1357.42 Q500.124 1361.03 503.689 1362.86 Q507.23 1364.67 514.36 1364.67 Q521.466 1364.67 525.031 1362.86 Q528.573 1361.03 528.573 1357.42 Q528.573 1353.79 525.031 1351.98 Q521.466 1350.15 514.36 1350.15 Q507.23 1350.15 503.689 1351.98 Q500.124 1353.79 500.124 1357.42 M496.42 1357.42 Q496.42 1351.61 501.027 1348.55 Q505.61 1345.48 514.36 1345.48 Q523.087 1345.48 527.693 1348.55 Q532.277 1351.61 532.277 1357.42 Q532.277 1363.23 527.693 1366.31 Q523.087 1369.36 514.36 1369.36 Q505.61 1369.36 501.027 1366.31 Q496.42 1363.23 496.42 1357.42 Z\" fill=\"#000000\" fill-rule=\"evenodd\" fill-opacity=\"1\" /><path clip-path=\"url(#clip300)\" d=\"M501.119 1324.41 L519.568 1336.22 L519.568 1324.41 L501.119 1324.41 M497.045 1325.64 L497.045 1319.76 L519.568 1319.76 L519.568 1314.83 L523.457 1314.83 L523.457 1319.76 L531.605 1319.76 L531.605 1324.41 L523.457 1324.41 L523.457 1340.01 L518.943 1340.01 L497.045 1325.64 Z\" fill=\"#000000\" fill-rule=\"evenodd\" fill-opacity=\"1\" /><path clip-path=\"url(#clip300)\" d=\"M497.045 1312.3 L497.045 1283.07 L500.98 1283.07 L500.98 1295.34 L531.605 1295.34 L531.605 1300.04 L500.98 1300.04 L500.98 1312.3 L497.045 1312.3 Z\" fill=\"#000000\" fill-rule=\"evenodd\" fill-opacity=\"1\" /><path clip-path=\"url(#clip300)\" d=\"M500.124 1268.14 Q500.124 1271.75 503.689 1273.58 Q507.23 1275.38 514.36 1275.38 Q521.466 1275.38 525.031 1273.58 Q528.573 1271.75 528.573 1268.14 Q528.573 1264.5 525.031 1262.7 Q521.466 1260.87 514.36 1260.87 Q507.23 1260.87 503.689 1262.7 Q500.124 1264.5 500.124 1268.14 M496.42 1268.14 Q496.42 1262.33 501.027 1259.27 Q505.61 1256.19 514.36 1256.19 Q523.087 1256.19 527.693 1259.27 Q532.277 1262.33 532.277 1268.14 Q532.277 1273.95 527.693 1277.03 Q523.087 1280.08 514.36 1280.08 Q505.61 1280.08 501.027 1277.03 Q496.42 1273.95 496.42 1268.14 Z\" fill=\"#000000\" fill-rule=\"evenodd\" fill-opacity=\"1\" /><path clip-path=\"url(#clip300)\" d=\"M500.124 1237.98 Q500.124 1241.59 503.689 1243.42 Q507.23 1245.22 514.36 1245.22 Q521.466 1245.22 525.031 1243.42 Q528.573 1241.59 528.573 1237.98 Q528.573 1234.34 525.031 1232.54 Q521.466 1230.71 514.36 1230.71 Q507.23 1230.71 503.689 1232.54 Q500.124 1234.34 500.124 1237.98 M496.42 1237.98 Q496.42 1232.17 501.027 1229.11 Q505.61 1226.03 514.36 1226.03 Q523.087 1226.03 527.693 1229.11 Q532.277 1232.17 532.277 1237.98 Q532.277 1243.79 527.693 1246.87 Q523.087 1249.92 514.36 1249.92 Q505.61 1249.92 501.027 1246.87 Q496.42 1243.79 496.42 1237.98 Z\" fill=\"#000000\" fill-rule=\"evenodd\" fill-opacity=\"1\" /><path clip-path=\"url(#clip300)\" d=\"M525.726 1217.33 L525.726 1212.44 L531.605 1212.44 L531.605 1217.33 L525.726 1217.33 M507.092 1217.33 L507.092 1212.44 L512.971 1212.44 L512.971 1217.33 L507.092 1217.33 Z\" fill=\"#000000\" fill-rule=\"evenodd\" fill-opacity=\"1\" /><path clip-path=\"url(#clip300)\" d=\"M500.124 1191.84 Q500.124 1195.45 503.689 1197.28 Q507.23 1199.09 514.36 1199.09 Q521.466 1199.09 525.031 1197.28 Q528.573 1195.45 528.573 1191.84 Q528.573 1188.21 525.031 1186.4 Q521.466 1184.57 514.36 1184.57 Q507.23 1184.57 503.689 1186.4 Q500.124 1188.21 500.124 1191.84 M496.42 1191.84 Q496.42 1186.03 501.027 1182.98 Q505.61 1179.9 514.36 1179.9 Q523.087 1179.9 527.693 1182.98 Q532.277 1186.03 532.277 1191.84 Q532.277 1197.65 527.693 1200.73 Q523.087 1203.79 514.36 1203.79 Q505.61 1203.79 501.027 1200.73 Q496.42 1197.65 496.42 1191.84 Z\" fill=\"#000000\" fill-rule=\"evenodd\" fill-opacity=\"1\" /><path clip-path=\"url(#clip300)\" d=\"M500.124 1161.68 Q500.124 1165.29 503.689 1167.12 Q507.23 1168.93 514.36 1168.93 Q521.466 1168.93 525.031 1167.12 Q528.573 1165.29 528.573 1161.68 Q528.573 1158.05 525.031 1156.24 Q521.466 1154.41 514.36 1154.41 Q507.23 1154.41 503.689 1156.24 Q500.124 1158.05 500.124 1161.68 M496.42 1161.68 Q496.42 1155.87 501.027 1152.81 Q505.61 1149.74 514.36 1149.74 Q523.087 1149.74 527.693 1152.81 Q532.277 1155.87 532.277 1161.68 Q532.277 1167.49 527.693 1170.57 Q523.087 1173.62 514.36 1173.62 Q505.61 1173.62 501.027 1170.57 Q496.42 1167.49 496.42 1161.68 Z\" fill=\"#000000\" fill-rule=\"evenodd\" fill-opacity=\"1\" /><path clip-path=\"url(#clip300)\" d=\"M525.726 1141.03 L525.726 1136.15 L531.605 1136.15 L531.605 1141.03 L525.726 1141.03 M507.092 1141.03 L507.092 1136.15 L512.971 1136.15 L512.971 1141.03 L507.092 1141.03 Z\" fill=\"#000000\" fill-rule=\"evenodd\" fill-opacity=\"1\" /><path clip-path=\"url(#clip300)\" d=\"M500.124 1115.55 Q500.124 1119.16 503.689 1120.99 Q507.23 1122.79 514.36 1122.79 Q521.466 1122.79 525.031 1120.99 Q528.573 1119.16 528.573 1115.55 Q528.573 1111.91 525.031 1110.11 Q521.466 1108.28 514.36 1108.28 Q507.23 1108.28 503.689 1110.11 Q500.124 1111.91 500.124 1115.55 M496.42 1115.55 Q496.42 1109.74 501.027 1106.68 Q505.61 1103.6 514.36 1103.6 Q523.087 1103.6 527.693 1106.68 Q532.277 1109.74 532.277 1115.55 Q532.277 1121.36 527.693 1124.44 Q523.087 1127.49 514.36 1127.49 Q505.61 1127.49 501.027 1124.44 Q496.42 1121.36 496.42 1115.55 Z\" fill=\"#000000\" fill-rule=\"evenodd\" fill-opacity=\"1\" /><path clip-path=\"url(#clip300)\" d=\"M500.124 1085.38 Q500.124 1089 503.689 1090.82 Q507.23 1092.63 514.36 1092.63 Q521.466 1092.63 525.031 1090.82 Q528.573 1089 528.573 1085.38 Q528.573 1081.75 525.031 1079.94 Q521.466 1078.12 514.36 1078.12 Q507.23 1078.12 503.689 1079.94 Q500.124 1081.75 500.124 1085.38 M496.42 1085.38 Q496.42 1079.57 501.027 1076.52 Q505.61 1073.44 514.36 1073.44 Q523.087 1073.44 527.693 1076.52 Q532.277 1079.57 532.277 1085.38 Q532.277 1091.19 527.693 1094.27 Q523.087 1097.33 514.36 1097.33 Q505.61 1097.33 501.027 1094.27 Q496.42 1091.19 496.42 1085.38 Z\" fill=\"#000000\" fill-rule=\"evenodd\" fill-opacity=\"1\" /><path clip-path=\"url(#clip300)\" d=\"M596.09 1578.58 L596.09 1562.26 L600.025 1562.26 L600.025 1584.2 L596.09 1584.2 Q593.335 1581.54 588.705 1576.96 Q584.053 1572.35 582.71 1571.17 Q580.187 1568.92 578.451 1568.04 Q576.692 1567.14 575.002 1567.14 Q572.247 1567.14 570.511 1569.09 Q568.775 1571.01 568.775 1574.11 Q568.775 1576.31 569.539 1578.76 Q570.303 1581.19 571.854 1583.97 L567.131 1583.97 Q565.997 1581.15 565.418 1578.69 Q564.84 1576.24 564.84 1574.2 Q564.84 1568.83 567.525 1565.64 Q570.21 1562.44 574.701 1562.44 Q576.83 1562.44 578.752 1563.25 Q580.65 1564.04 583.242 1566.15 Q583.914 1566.72 587.131 1569.83 Q590.326 1572.93 596.09 1578.58 Z\" fill=\"#000000\" fill-rule=\"evenodd\" fill-opacity=\"1\" /><path clip-path=\"url(#clip300)\" d=\"M568.543 1542.44 Q568.543 1546.05 572.108 1547.88 Q575.65 1549.69 582.779 1549.69 Q589.886 1549.69 593.451 1547.88 Q596.992 1546.05 596.992 1542.44 Q596.992 1538.81 593.451 1537 Q589.886 1535.17 582.779 1535.17 Q575.65 1535.17 572.108 1537 Q568.543 1538.81 568.543 1542.44 M564.84 1542.44 Q564.84 1536.63 569.446 1533.58 Q574.03 1530.5 582.779 1530.5 Q591.506 1530.5 596.113 1533.58 Q600.696 1536.63 600.696 1542.44 Q600.696 1548.25 596.113 1551.33 Q591.506 1554.39 582.779 1554.39 Q574.03 1554.39 569.446 1551.33 Q564.84 1548.25 564.84 1542.44 Z\" fill=\"#000000\" fill-rule=\"evenodd\" fill-opacity=\"1\" /><path clip-path=\"url(#clip300)\" d=\"M596.09 1518.25 L596.09 1501.93 L600.025 1501.93 L600.025 1523.88 L596.09 1523.88 Q593.335 1521.22 588.705 1516.63 Q584.053 1512.03 582.71 1510.85 Q580.187 1508.6 578.451 1507.72 Q576.692 1506.82 575.002 1506.82 Q572.247 1506.82 570.511 1508.76 Q568.775 1510.68 568.775 1513.79 Q568.775 1515.98 569.539 1518.44 Q570.303 1520.87 571.854 1523.65 L567.131 1523.65 Q565.997 1520.82 565.418 1518.37 Q564.84 1515.91 564.84 1513.88 Q564.84 1508.51 567.525 1505.31 Q570.21 1502.12 574.701 1502.12 Q576.83 1502.12 578.752 1502.93 Q580.65 1503.72 583.242 1505.82 Q583.914 1506.4 587.131 1509.5 Q590.326 1512.6 596.09 1518.25 Z\" fill=\"#000000\" fill-rule=\"evenodd\" fill-opacity=\"1\" /><path clip-path=\"url(#clip300)\" d=\"M568.543 1482.12 Q568.543 1485.73 572.108 1487.56 Q575.65 1489.36 582.779 1489.36 Q589.886 1489.36 593.451 1487.56 Q596.992 1485.73 596.992 1482.12 Q596.992 1478.48 593.451 1476.68 Q589.886 1474.85 582.779 1474.85 Q575.65 1474.85 572.108 1476.68 Q568.543 1478.48 568.543 1482.12 M564.84 1482.12 Q564.84 1476.31 569.446 1473.25 Q574.03 1470.17 582.779 1470.17 Q591.506 1470.17 596.113 1473.25 Q600.696 1476.31 600.696 1482.12 Q600.696 1487.93 596.113 1491.01 Q591.506 1494.06 582.779 1494.06 Q574.03 1494.06 569.446 1491.01 Q564.84 1487.93 564.84 1482.12 Z\" fill=\"#000000\" fill-rule=\"evenodd\" fill-opacity=\"1\" /><path clip-path=\"url(#clip300)\" d=\"M585.141 1464.71 L585.141 1452.23 L588.937 1452.23 L588.937 1464.71 L585.141 1464.71 Z\" fill=\"#000000\" fill-rule=\"evenodd\" fill-opacity=\"1\" /><path clip-path=\"url(#clip300)\" d=\"M568.543 1434.85 Q568.543 1438.46 572.108 1440.29 Q575.65 1442.1 582.779 1442.1 Q589.886 1442.1 593.451 1440.29 Q596.992 1438.46 596.992 1434.85 Q596.992 1431.22 593.451 1429.41 Q589.886 1427.58 582.779 1427.58 Q575.65 1427.58 572.108 1429.41 Q568.543 1431.22 568.543 1434.85 M564.84 1434.85 Q564.84 1429.04 569.446 1425.98 Q574.03 1422.91 582.779 1422.91 Q591.506 1422.91 596.113 1425.98 Q600.696 1429.04 600.696 1434.85 Q600.696 1440.66 596.113 1443.74 Q591.506 1446.79 582.779 1446.79 Q574.03 1446.79 569.446 1443.74 Q564.84 1440.66 564.84 1434.85 Z\" fill=\"#000000\" fill-rule=\"evenodd\" fill-opacity=\"1\" /><path clip-path=\"url(#clip300)\" d=\"M580.881 1404.11 Q580.881 1407.26 583.034 1409.11 Q585.187 1410.94 588.937 1410.94 Q592.664 1410.94 594.84 1409.11 Q596.992 1407.26 596.992 1404.11 Q596.992 1400.96 594.84 1399.13 Q592.664 1397.28 588.937 1397.28 Q585.187 1397.28 583.034 1399.13 Q580.881 1400.96 580.881 1404.11 M566.229 1394.83 L570.488 1394.83 Q569.655 1396.59 569.215 1398.39 Q568.775 1400.17 568.775 1401.93 Q568.775 1406.56 571.9 1409.02 Q575.025 1411.45 581.344 1411.79 Q579.33 1410.43 578.266 1408.37 Q577.178 1406.31 577.178 1403.83 Q577.178 1398.62 580.349 1395.61 Q583.497 1392.58 588.937 1392.58 Q594.261 1392.58 597.478 1395.73 Q600.696 1398.88 600.696 1404.11 Q600.696 1410.11 596.113 1413.28 Q591.506 1416.45 582.779 1416.45 Q574.585 1416.45 569.724 1412.56 Q564.84 1408.67 564.84 1402.12 Q564.84 1400.36 565.187 1398.58 Q565.534 1396.77 566.229 1394.83 Z\" fill=\"#000000\" fill-rule=\"evenodd\" fill-opacity=\"1\" /><path clip-path=\"url(#clip300)\" d=\"M585.141 1387.28 L585.141 1374.8 L588.937 1374.8 L588.937 1387.28 L585.141 1387.28 Z\" fill=\"#000000\" fill-rule=\"evenodd\" fill-opacity=\"1\" /><path clip-path=\"url(#clip300)\" d=\"M568.543 1357.42 Q568.543 1361.03 572.108 1362.86 Q575.65 1364.67 582.779 1364.67 Q589.886 1364.67 593.451 1362.86 Q596.992 1361.03 596.992 1357.42 Q596.992 1353.79 593.451 1351.98 Q589.886 1350.15 582.779 1350.15 Q575.65 1350.15 572.108 1351.98 Q568.543 1353.79 568.543 1357.42 M564.84 1357.42 Q564.84 1351.61 569.446 1348.55 Q574.03 1345.48 582.779 1345.48 Q591.506 1345.48 596.113 1348.55 Q600.696 1351.61 600.696 1357.42 Q600.696 1363.23 596.113 1366.31 Q591.506 1369.36 582.779 1369.36 Q574.03 1369.36 569.446 1366.31 Q564.84 1363.23 564.84 1357.42 Z\" fill=\"#000000\" fill-rule=\"evenodd\" fill-opacity=\"1\" /><path clip-path=\"url(#clip300)\" d=\"M565.465 1337.21 L565.465 1318.86 L569.4 1318.86 L569.4 1332.93 L577.872 1332.93 Q577.525 1331.91 577.363 1330.89 Q577.178 1329.87 577.178 1328.86 Q577.178 1323.07 580.349 1319.69 Q583.52 1316.31 588.937 1316.31 Q594.516 1316.31 597.617 1319.78 Q600.696 1323.25 600.696 1329.57 Q600.696 1331.75 600.326 1334.02 Q599.955 1336.26 599.215 1338.67 L594.516 1338.67 Q595.65 1336.59 596.205 1334.36 Q596.761 1332.14 596.761 1329.67 Q596.761 1325.66 594.654 1323.32 Q592.548 1320.99 588.937 1320.99 Q585.326 1320.99 583.219 1323.32 Q581.113 1325.66 581.113 1329.67 Q581.113 1331.54 581.529 1333.42 Q581.946 1335.27 582.826 1337.21 L565.465 1337.21 Z\" fill=\"#000000\" fill-rule=\"evenodd\" fill-opacity=\"1\" /><path clip-path=\"url(#clip300)\" d=\"M565.465 1312.3 L565.465 1283.07 L569.4 1283.07 L569.4 1295.34 L600.025 1295.34 L600.025 1300.04 L569.4 1300.04 L569.4 1312.3 L565.465 1312.3 Z\" fill=\"#000000\" fill-rule=\"evenodd\" fill-opacity=\"1\" /><path clip-path=\"url(#clip300)\" d=\"M568.543 1268.14 Q568.543 1271.75 572.108 1273.58 Q575.65 1275.38 582.779 1275.38 Q589.886 1275.38 593.451 1273.58 Q596.992 1271.75 596.992 1268.14 Q596.992 1264.5 593.451 1262.7 Q589.886 1260.87 582.779 1260.87 Q575.65 1260.87 572.108 1262.7 Q568.543 1264.5 568.543 1268.14 M564.84 1268.14 Q564.84 1262.33 569.446 1259.27 Q574.03 1256.19 582.779 1256.19 Q591.506 1256.19 596.113 1259.27 Q600.696 1262.33 600.696 1268.14 Q600.696 1273.95 596.113 1277.03 Q591.506 1280.08 582.779 1280.08 Q574.03 1280.08 569.446 1277.03 Q564.84 1273.95 564.84 1268.14 Z\" fill=\"#000000\" fill-rule=\"evenodd\" fill-opacity=\"1\" /><path clip-path=\"url(#clip300)\" d=\"M568.543 1237.98 Q568.543 1241.59 572.108 1243.42 Q575.65 1245.22 582.779 1245.22 Q589.886 1245.22 593.451 1243.42 Q596.992 1241.59 596.992 1237.98 Q596.992 1234.34 593.451 1232.54 Q589.886 1230.71 582.779 1230.71 Q575.65 1230.71 572.108 1232.54 Q568.543 1234.34 568.543 1237.98 M564.84 1237.98 Q564.84 1232.17 569.446 1229.11 Q574.03 1226.03 582.779 1226.03 Q591.506 1226.03 596.113 1229.11 Q600.696 1232.17 600.696 1237.98 Q600.696 1243.79 596.113 1246.87 Q591.506 1249.92 582.779 1249.92 Q574.03 1249.92 569.446 1246.87 Q564.84 1243.79 564.84 1237.98 Z\" fill=\"#000000\" fill-rule=\"evenodd\" fill-opacity=\"1\" /><path clip-path=\"url(#clip300)\" d=\"M594.145 1217.33 L594.145 1212.44 L600.025 1212.44 L600.025 1217.33 L594.145 1217.33 M575.511 1217.33 L575.511 1212.44 L581.391 1212.44 L581.391 1217.33 L575.511 1217.33 Z\" fill=\"#000000\" fill-rule=\"evenodd\" fill-opacity=\"1\" /><path clip-path=\"url(#clip300)\" d=\"M568.543 1191.84 Q568.543 1195.45 572.108 1197.28 Q575.65 1199.09 582.779 1199.09 Q589.886 1199.09 593.451 1197.28 Q596.992 1195.45 596.992 1191.84 Q596.992 1188.21 593.451 1186.4 Q589.886 1184.57 582.779 1184.57 Q575.65 1184.57 572.108 1186.4 Q568.543 1188.21 568.543 1191.84 M564.84 1191.84 Q564.84 1186.03 569.446 1182.98 Q574.03 1179.9 582.779 1179.9 Q591.506 1179.9 596.113 1182.98 Q600.696 1186.03 600.696 1191.84 Q600.696 1197.65 596.113 1200.73 Q591.506 1203.79 582.779 1203.79 Q574.03 1203.79 569.446 1200.73 Q564.84 1197.65 564.84 1191.84 Z\" fill=\"#000000\" fill-rule=\"evenodd\" fill-opacity=\"1\" /><path clip-path=\"url(#clip300)\" d=\"M568.543 1161.68 Q568.543 1165.29 572.108 1167.12 Q575.65 1168.93 582.779 1168.93 Q589.886 1168.93 593.451 1167.12 Q596.992 1165.29 596.992 1161.68 Q596.992 1158.05 593.451 1156.24 Q589.886 1154.41 582.779 1154.41 Q575.65 1154.41 572.108 1156.24 Q568.543 1158.05 568.543 1161.68 M564.84 1161.68 Q564.84 1155.87 569.446 1152.81 Q574.03 1149.74 582.779 1149.74 Q591.506 1149.74 596.113 1152.81 Q600.696 1155.87 600.696 1161.68 Q600.696 1167.49 596.113 1170.57 Q591.506 1173.62 582.779 1173.62 Q574.03 1173.62 569.446 1170.57 Q564.84 1167.49 564.84 1161.68 Z\" fill=\"#000000\" fill-rule=\"evenodd\" fill-opacity=\"1\" /><path clip-path=\"url(#clip300)\" d=\"M594.145 1141.03 L594.145 1136.15 L600.025 1136.15 L600.025 1141.03 L594.145 1141.03 M575.511 1141.03 L575.511 1136.15 L581.391 1136.15 L581.391 1141.03 L575.511 1141.03 Z\" fill=\"#000000\" fill-rule=\"evenodd\" fill-opacity=\"1\" /><path clip-path=\"url(#clip300)\" d=\"M568.543 1115.55 Q568.543 1119.16 572.108 1120.99 Q575.65 1122.79 582.779 1122.79 Q589.886 1122.79 593.451 1120.99 Q596.992 1119.16 596.992 1115.55 Q596.992 1111.91 593.451 1110.11 Q589.886 1108.28 582.779 1108.28 Q575.65 1108.28 572.108 1110.11 Q568.543 1111.91 568.543 1115.55 M564.84 1115.55 Q564.84 1109.74 569.446 1106.68 Q574.03 1103.6 582.779 1103.6 Q591.506 1103.6 596.113 1106.68 Q600.696 1109.74 600.696 1115.55 Q600.696 1121.36 596.113 1124.44 Q591.506 1127.49 582.779 1127.49 Q574.03 1127.49 569.446 1124.44 Q564.84 1121.36 564.84 1115.55 Z\" fill=\"#000000\" fill-rule=\"evenodd\" fill-opacity=\"1\" /><path clip-path=\"url(#clip300)\" d=\"M568.543 1085.38 Q568.543 1089 572.108 1090.82 Q575.65 1092.63 582.779 1092.63 Q589.886 1092.63 593.451 1090.82 Q596.992 1089 596.992 1085.38 Q596.992 1081.75 593.451 1079.94 Q589.886 1078.12 582.779 1078.12 Q575.65 1078.12 572.108 1079.94 Q568.543 1081.75 568.543 1085.38 M564.84 1085.38 Q564.84 1079.57 569.446 1076.52 Q574.03 1073.44 582.779 1073.44 Q591.506 1073.44 596.113 1076.52 Q600.696 1079.57 600.696 1085.38 Q600.696 1091.19 596.113 1094.27 Q591.506 1097.33 582.779 1097.33 Q574.03 1097.33 569.446 1094.27 Q564.84 1091.19 564.84 1085.38 Z\" fill=\"#000000\" fill-rule=\"evenodd\" fill-opacity=\"1\" /><path clip-path=\"url(#clip300)\" d=\"M801.348 1578.58 L801.348 1562.26 L805.283 1562.26 L805.283 1584.2 L801.348 1584.2 Q798.593 1581.54 793.964 1576.96 Q789.311 1572.35 787.968 1571.17 Q785.445 1568.92 783.709 1568.04 Q781.95 1567.14 780.26 1567.14 Q777.505 1567.14 775.769 1569.09 Q774.033 1571.01 774.033 1574.11 Q774.033 1576.31 774.797 1578.76 Q775.561 1581.19 777.112 1583.97 L772.39 1583.97 Q771.256 1581.15 770.677 1578.69 Q770.098 1576.24 770.098 1574.2 Q770.098 1568.83 772.783 1565.64 Q775.468 1562.44 779.959 1562.44 Q782.089 1562.44 784.01 1563.25 Q785.908 1564.04 788.501 1566.15 Q789.172 1566.72 792.39 1569.83 Q795.584 1572.93 801.348 1578.58 Z\" fill=\"#000000\" fill-rule=\"evenodd\" fill-opacity=\"1\" /><path clip-path=\"url(#clip300)\" d=\"M773.802 1542.44 Q773.802 1546.05 777.367 1547.88 Q780.908 1549.69 788.038 1549.69 Q795.144 1549.69 798.709 1547.88 Q802.251 1546.05 802.251 1542.44 Q802.251 1538.81 798.709 1537 Q795.144 1535.17 788.038 1535.17 Q780.908 1535.17 777.367 1537 Q773.802 1538.81 773.802 1542.44 M770.098 1542.44 Q770.098 1536.63 774.705 1533.58 Q779.288 1530.5 788.038 1530.5 Q796.765 1530.5 801.371 1533.58 Q805.954 1536.63 805.954 1542.44 Q805.954 1548.25 801.371 1551.33 Q796.765 1554.39 788.038 1554.39 Q779.288 1554.39 774.705 1551.33 Q770.098 1548.25 770.098 1542.44 Z\" fill=\"#000000\" fill-rule=\"evenodd\" fill-opacity=\"1\" /><path clip-path=\"url(#clip300)\" d=\"M801.348 1518.25 L801.348 1501.93 L805.283 1501.93 L805.283 1523.88 L801.348 1523.88 Q798.593 1521.22 793.964 1516.63 Q789.311 1512.03 787.968 1510.85 Q785.445 1508.6 783.709 1507.72 Q781.95 1506.82 780.26 1506.82 Q777.505 1506.82 775.769 1508.76 Q774.033 1510.68 774.033 1513.79 Q774.033 1515.98 774.797 1518.44 Q775.561 1520.87 777.112 1523.65 L772.39 1523.65 Q771.256 1520.82 770.677 1518.37 Q770.098 1515.91 770.098 1513.88 Q770.098 1508.51 772.783 1505.31 Q775.468 1502.12 779.959 1502.12 Q782.089 1502.12 784.01 1502.93 Q785.908 1503.72 788.501 1505.82 Q789.172 1506.4 792.39 1509.5 Q795.584 1512.6 801.348 1518.25 Z\" fill=\"#000000\" fill-rule=\"evenodd\" fill-opacity=\"1\" /><path clip-path=\"url(#clip300)\" d=\"M773.802 1482.12 Q773.802 1485.73 777.367 1487.56 Q780.908 1489.36 788.038 1489.36 Q795.144 1489.36 798.709 1487.56 Q802.251 1485.73 802.251 1482.12 Q802.251 1478.48 798.709 1476.68 Q795.144 1474.85 788.038 1474.85 Q780.908 1474.85 777.367 1476.68 Q773.802 1478.48 773.802 1482.12 M770.098 1482.12 Q770.098 1476.31 774.705 1473.25 Q779.288 1470.17 788.038 1470.17 Q796.765 1470.17 801.371 1473.25 Q805.954 1476.31 805.954 1482.12 Q805.954 1487.93 801.371 1491.01 Q796.765 1494.06 788.038 1494.06 Q779.288 1494.06 774.705 1491.01 Q770.098 1487.93 770.098 1482.12 Z\" fill=\"#000000\" fill-rule=\"evenodd\" fill-opacity=\"1\" /><path clip-path=\"url(#clip300)\" d=\"M790.399 1464.71 L790.399 1452.23 L794.195 1452.23 L794.195 1464.71 L790.399 1464.71 Z\" fill=\"#000000\" fill-rule=\"evenodd\" fill-opacity=\"1\" /><path clip-path=\"url(#clip300)\" d=\"M773.802 1434.85 Q773.802 1438.46 777.367 1440.29 Q780.908 1442.1 788.038 1442.1 Q795.144 1442.1 798.709 1440.29 Q802.251 1438.46 802.251 1434.85 Q802.251 1431.22 798.709 1429.41 Q795.144 1427.58 788.038 1427.58 Q780.908 1427.58 777.367 1429.41 Q773.802 1431.22 773.802 1434.85 M770.098 1434.85 Q770.098 1429.04 774.705 1425.98 Q779.288 1422.91 788.038 1422.91 Q796.765 1422.91 801.371 1425.98 Q805.954 1429.04 805.954 1434.85 Q805.954 1440.66 801.371 1443.74 Q796.765 1446.79 788.038 1446.79 Q779.288 1446.79 774.705 1443.74 Q770.098 1440.66 770.098 1434.85 Z\" fill=\"#000000\" fill-rule=\"evenodd\" fill-opacity=\"1\" /><path clip-path=\"url(#clip300)\" d=\"M786.14 1404.11 Q786.14 1407.26 788.292 1409.11 Q790.445 1410.94 794.195 1410.94 Q797.922 1410.94 800.098 1409.11 Q802.251 1407.26 802.251 1404.11 Q802.251 1400.96 800.098 1399.13 Q797.922 1397.28 794.195 1397.28 Q790.445 1397.28 788.292 1399.13 Q786.14 1400.96 786.14 1404.11 M771.487 1394.83 L775.746 1394.83 Q774.913 1396.59 774.473 1398.39 Q774.033 1400.17 774.033 1401.93 Q774.033 1406.56 777.158 1409.02 Q780.283 1411.45 786.603 1411.79 Q784.589 1410.43 783.524 1408.37 Q782.436 1406.31 782.436 1403.83 Q782.436 1398.62 785.607 1395.61 Q788.755 1392.58 794.195 1392.58 Q799.519 1392.58 802.737 1395.73 Q805.954 1398.88 805.954 1404.11 Q805.954 1410.11 801.371 1413.28 Q796.765 1416.45 788.038 1416.45 Q779.843 1416.45 774.982 1412.56 Q770.098 1408.67 770.098 1402.12 Q770.098 1400.36 770.445 1398.58 Q770.793 1396.77 771.487 1394.83 Z\" fill=\"#000000\" fill-rule=\"evenodd\" fill-opacity=\"1\" /><path clip-path=\"url(#clip300)\" d=\"M790.399 1387.28 L790.399 1374.8 L794.195 1374.8 L794.195 1387.28 L790.399 1387.28 Z\" fill=\"#000000\" fill-rule=\"evenodd\" fill-opacity=\"1\" /><path clip-path=\"url(#clip300)\" d=\"M773.802 1357.42 Q773.802 1361.03 777.367 1362.86 Q780.908 1364.67 788.038 1364.67 Q795.144 1364.67 798.709 1362.86 Q802.251 1361.03 802.251 1357.42 Q802.251 1353.79 798.709 1351.98 Q795.144 1350.15 788.038 1350.15 Q780.908 1350.15 777.367 1351.98 Q773.802 1353.79 773.802 1357.42 M770.098 1357.42 Q770.098 1351.61 774.705 1348.55 Q779.288 1345.48 788.038 1345.48 Q796.765 1345.48 801.371 1348.55 Q805.954 1351.61 805.954 1357.42 Q805.954 1363.23 801.371 1366.31 Q796.765 1369.36 788.038 1369.36 Q779.288 1369.36 774.705 1366.31 Q770.098 1363.23 770.098 1357.42 Z\" fill=\"#000000\" fill-rule=\"evenodd\" fill-opacity=\"1\" /><path clip-path=\"url(#clip300)\" d=\"M788.871 1327.26 Q788.871 1330.59 790.654 1332.51 Q792.436 1334.41 795.561 1334.41 Q798.686 1334.41 800.468 1332.51 Q802.251 1330.59 802.251 1327.26 Q802.251 1323.93 800.468 1322 Q798.663 1320.08 795.561 1320.08 Q792.436 1320.08 790.654 1322 Q788.871 1323.9 788.871 1327.26 M786.88 1331.93 Q786.14 1334.94 784.08 1336.63 Q782.019 1338.3 779.056 1338.3 Q774.913 1338.3 772.505 1335.36 Q770.098 1332.4 770.098 1327.26 Q770.098 1322.1 772.505 1319.16 Q774.913 1316.22 779.056 1316.22 Q782.019 1316.22 784.08 1317.91 Q786.14 1319.57 786.88 1322.56 Q787.667 1319.18 789.959 1317.3 Q792.251 1315.41 795.561 1315.41 Q800.584 1315.41 803.269 1318.49 Q805.954 1321.54 805.954 1327.26 Q805.954 1332.98 803.269 1336.05 Q800.584 1339.11 795.561 1339.11 Q792.251 1339.11 789.959 1337.21 Q787.667 1335.31 786.88 1331.93 M779.496 1333.65 Q782.181 1333.65 783.686 1331.98 Q785.191 1330.29 785.191 1327.26 Q785.191 1324.25 783.686 1322.56 Q782.181 1320.85 779.496 1320.85 Q776.811 1320.85 775.306 1322.56 Q773.802 1324.25 773.802 1327.26 Q773.802 1330.29 775.306 1331.98 Q776.811 1333.65 779.496 1333.65 Z\" fill=\"#000000\" fill-rule=\"evenodd\" fill-opacity=\"1\" /><path clip-path=\"url(#clip300)\" d=\"M770.723 1312.3 L770.723 1283.07 L774.658 1283.07 L774.658 1295.34 L805.283 1295.34 L805.283 1300.04 L774.658 1300.04 L774.658 1312.3 L770.723 1312.3 Z\" fill=\"#000000\" fill-rule=\"evenodd\" fill-opacity=\"1\" /><path clip-path=\"url(#clip300)\" d=\"M773.802 1268.14 Q773.802 1271.75 777.367 1273.58 Q780.908 1275.38 788.038 1275.38 Q795.144 1275.38 798.709 1273.58 Q802.251 1271.75 802.251 1268.14 Q802.251 1264.5 798.709 1262.7 Q795.144 1260.87 788.038 1260.87 Q780.908 1260.87 777.367 1262.7 Q773.802 1264.5 773.802 1268.14 M770.098 1268.14 Q770.098 1262.33 774.705 1259.27 Q779.288 1256.19 788.038 1256.19 Q796.765 1256.19 801.371 1259.27 Q805.954 1262.33 805.954 1268.14 Q805.954 1273.95 801.371 1277.03 Q796.765 1280.08 788.038 1280.08 Q779.288 1280.08 774.705 1277.03 Q770.098 1273.95 770.098 1268.14 Z\" fill=\"#000000\" fill-rule=\"evenodd\" fill-opacity=\"1\" /><path clip-path=\"url(#clip300)\" d=\"M773.802 1237.98 Q773.802 1241.59 777.367 1243.42 Q780.908 1245.22 788.038 1245.22 Q795.144 1245.22 798.709 1243.42 Q802.251 1241.59 802.251 1237.98 Q802.251 1234.34 798.709 1232.54 Q795.144 1230.71 788.038 1230.71 Q780.908 1230.71 777.367 1232.54 Q773.802 1234.34 773.802 1237.98 M770.098 1237.98 Q770.098 1232.17 774.705 1229.11 Q779.288 1226.03 788.038 1226.03 Q796.765 1226.03 801.371 1229.11 Q805.954 1232.17 805.954 1237.98 Q805.954 1243.79 801.371 1246.87 Q796.765 1249.92 788.038 1249.92 Q779.288 1249.92 774.705 1246.87 Q770.098 1243.79 770.098 1237.98 Z\" fill=\"#000000\" fill-rule=\"evenodd\" fill-opacity=\"1\" /><path clip-path=\"url(#clip300)\" d=\"M799.404 1217.33 L799.404 1212.44 L805.283 1212.44 L805.283 1217.33 L799.404 1217.33 M780.769 1217.33 L780.769 1212.44 L786.649 1212.44 L786.649 1217.33 L780.769 1217.33 Z\" fill=\"#000000\" fill-rule=\"evenodd\" fill-opacity=\"1\" /><path clip-path=\"url(#clip300)\" d=\"M773.802 1191.84 Q773.802 1195.45 777.367 1197.28 Q780.908 1199.09 788.038 1199.09 Q795.144 1199.09 798.709 1197.28 Q802.251 1195.45 802.251 1191.84 Q802.251 1188.21 798.709 1186.4 Q795.144 1184.57 788.038 1184.57 Q780.908 1184.57 777.367 1186.4 Q773.802 1188.21 773.802 1191.84 M770.098 1191.84 Q770.098 1186.03 774.705 1182.98 Q779.288 1179.9 788.038 1179.9 Q796.765 1179.9 801.371 1182.98 Q805.954 1186.03 805.954 1191.84 Q805.954 1197.65 801.371 1200.73 Q796.765 1203.79 788.038 1203.79 Q779.288 1203.79 774.705 1200.73 Q770.098 1197.65 770.098 1191.84 Z\" fill=\"#000000\" fill-rule=\"evenodd\" fill-opacity=\"1\" /><path clip-path=\"url(#clip300)\" d=\"M773.802 1161.68 Q773.802 1165.29 777.367 1167.12 Q780.908 1168.93 788.038 1168.93 Q795.144 1168.93 798.709 1167.12 Q802.251 1165.29 802.251 1161.68 Q802.251 1158.05 798.709 1156.24 Q795.144 1154.41 788.038 1154.41 Q780.908 1154.41 777.367 1156.24 Q773.802 1158.05 773.802 1161.68 M770.098 1161.68 Q770.098 1155.87 774.705 1152.81 Q779.288 1149.74 788.038 1149.74 Q796.765 1149.74 801.371 1152.81 Q805.954 1155.87 805.954 1161.68 Q805.954 1167.49 801.371 1170.57 Q796.765 1173.62 788.038 1173.62 Q779.288 1173.62 774.705 1170.57 Q770.098 1167.49 770.098 1161.68 Z\" fill=\"#000000\" fill-rule=\"evenodd\" fill-opacity=\"1\" /><path clip-path=\"url(#clip300)\" d=\"M799.404 1141.03 L799.404 1136.15 L805.283 1136.15 L805.283 1141.03 L799.404 1141.03 M780.769 1141.03 L780.769 1136.15 L786.649 1136.15 L786.649 1141.03 L780.769 1141.03 Z\" fill=\"#000000\" fill-rule=\"evenodd\" fill-opacity=\"1\" /><path clip-path=\"url(#clip300)\" d=\"M773.802 1115.55 Q773.802 1119.16 777.367 1120.99 Q780.908 1122.79 788.038 1122.79 Q795.144 1122.79 798.709 1120.99 Q802.251 1119.16 802.251 1115.55 Q802.251 1111.91 798.709 1110.11 Q795.144 1108.28 788.038 1108.28 Q780.908 1108.28 777.367 1110.11 Q773.802 1111.91 773.802 1115.55 M770.098 1115.55 Q770.098 1109.74 774.705 1106.68 Q779.288 1103.6 788.038 1103.6 Q796.765 1103.6 801.371 1106.68 Q805.954 1109.74 805.954 1115.55 Q805.954 1121.36 801.371 1124.44 Q796.765 1127.49 788.038 1127.49 Q779.288 1127.49 774.705 1124.44 Q770.098 1121.36 770.098 1115.55 Z\" fill=\"#000000\" fill-rule=\"evenodd\" fill-opacity=\"1\" /><path clip-path=\"url(#clip300)\" d=\"M773.802 1085.38 Q773.802 1089 777.367 1090.82 Q780.908 1092.63 788.038 1092.63 Q795.144 1092.63 798.709 1090.82 Q802.251 1089 802.251 1085.38 Q802.251 1081.75 798.709 1079.94 Q795.144 1078.12 788.038 1078.12 Q780.908 1078.12 777.367 1079.94 Q773.802 1081.75 773.802 1085.38 M770.098 1085.38 Q770.098 1079.57 774.705 1076.52 Q779.288 1073.44 788.038 1073.44 Q796.765 1073.44 801.371 1076.52 Q805.954 1079.57 805.954 1085.38 Q805.954 1091.19 801.371 1094.27 Q796.765 1097.33 788.038 1097.33 Q779.288 1097.33 774.705 1094.27 Q770.098 1091.19 770.098 1085.38 Z\" fill=\"#000000\" fill-rule=\"evenodd\" fill-opacity=\"1\" /><path clip-path=\"url(#clip300)\" d=\"M869.767 1578.58 L869.767 1562.26 L873.703 1562.26 L873.703 1584.2 L869.767 1584.2 Q867.013 1581.54 862.383 1576.96 Q857.73 1572.35 856.388 1571.17 Q853.865 1568.92 852.129 1568.04 Q850.369 1567.14 848.68 1567.14 Q845.925 1567.14 844.189 1569.09 Q842.453 1571.01 842.453 1574.11 Q842.453 1576.31 843.217 1578.76 Q843.98 1581.19 845.531 1583.97 L840.809 1583.97 Q839.675 1581.15 839.096 1578.69 Q838.518 1576.24 838.518 1574.2 Q838.518 1568.83 841.203 1565.64 Q843.888 1562.44 848.379 1562.44 Q850.508 1562.44 852.43 1563.25 Q854.328 1564.04 856.92 1566.15 Q857.592 1566.72 860.809 1569.83 Q864.004 1572.93 869.767 1578.58 Z\" fill=\"#000000\" fill-rule=\"evenodd\" fill-opacity=\"1\" /><path clip-path=\"url(#clip300)\" d=\"M842.221 1542.44 Q842.221 1546.05 845.786 1547.88 Q849.328 1549.69 856.457 1549.69 Q863.564 1549.69 867.129 1547.88 Q870.67 1546.05 870.67 1542.44 Q870.67 1538.81 867.129 1537 Q863.564 1535.17 856.457 1535.17 Q849.328 1535.17 845.786 1537 Q842.221 1538.81 842.221 1542.44 M838.518 1542.44 Q838.518 1536.63 843.124 1533.58 Q847.707 1530.5 856.457 1530.5 Q865.184 1530.5 869.791 1533.58 Q874.374 1536.63 874.374 1542.44 Q874.374 1548.25 869.791 1551.33 Q865.184 1554.39 856.457 1554.39 Q847.707 1554.39 843.124 1551.33 Q838.518 1548.25 838.518 1542.44 Z\" fill=\"#000000\" fill-rule=\"evenodd\" fill-opacity=\"1\" /><path clip-path=\"url(#clip300)\" d=\"M869.767 1518.25 L869.767 1501.93 L873.703 1501.93 L873.703 1523.88 L869.767 1523.88 Q867.013 1521.22 862.383 1516.63 Q857.73 1512.03 856.388 1510.85 Q853.865 1508.6 852.129 1507.72 Q850.369 1506.82 848.68 1506.82 Q845.925 1506.82 844.189 1508.76 Q842.453 1510.68 842.453 1513.79 Q842.453 1515.98 843.217 1518.44 Q843.98 1520.87 845.531 1523.65 L840.809 1523.65 Q839.675 1520.82 839.096 1518.37 Q838.518 1515.91 838.518 1513.88 Q838.518 1508.51 841.203 1505.31 Q843.888 1502.12 848.379 1502.12 Q850.508 1502.12 852.43 1502.93 Q854.328 1503.72 856.92 1505.82 Q857.592 1506.4 860.809 1509.5 Q864.004 1512.6 869.767 1518.25 Z\" fill=\"#000000\" fill-rule=\"evenodd\" fill-opacity=\"1\" /><path clip-path=\"url(#clip300)\" d=\"M842.221 1482.12 Q842.221 1485.73 845.786 1487.56 Q849.328 1489.36 856.457 1489.36 Q863.564 1489.36 867.129 1487.56 Q870.67 1485.73 870.67 1482.12 Q870.67 1478.48 867.129 1476.68 Q863.564 1474.85 856.457 1474.85 Q849.328 1474.85 845.786 1476.68 Q842.221 1478.48 842.221 1482.12 M838.518 1482.12 Q838.518 1476.31 843.124 1473.25 Q847.707 1470.17 856.457 1470.17 Q865.184 1470.17 869.791 1473.25 Q874.374 1476.31 874.374 1482.12 Q874.374 1487.93 869.791 1491.01 Q865.184 1494.06 856.457 1494.06 Q847.707 1494.06 843.124 1491.01 Q838.518 1487.93 838.518 1482.12 Z\" fill=\"#000000\" fill-rule=\"evenodd\" fill-opacity=\"1\" /><path clip-path=\"url(#clip300)\" d=\"M858.818 1464.71 L858.818 1452.23 L862.615 1452.23 L862.615 1464.71 L858.818 1464.71 Z\" fill=\"#000000\" fill-rule=\"evenodd\" fill-opacity=\"1\" /><path clip-path=\"url(#clip300)\" d=\"M842.221 1434.85 Q842.221 1438.46 845.786 1440.29 Q849.328 1442.1 856.457 1442.1 Q863.564 1442.1 867.129 1440.29 Q870.67 1438.46 870.67 1434.85 Q870.67 1431.22 867.129 1429.41 Q863.564 1427.58 856.457 1427.58 Q849.328 1427.58 845.786 1429.41 Q842.221 1431.22 842.221 1434.85 M838.518 1434.85 Q838.518 1429.04 843.124 1425.98 Q847.707 1422.91 856.457 1422.91 Q865.184 1422.91 869.791 1425.98 Q874.374 1429.04 874.374 1434.85 Q874.374 1440.66 869.791 1443.74 Q865.184 1446.79 856.457 1446.79 Q847.707 1446.79 843.124 1443.74 Q838.518 1440.66 838.518 1434.85 Z\" fill=\"#000000\" fill-rule=\"evenodd\" fill-opacity=\"1\" /><path clip-path=\"url(#clip300)\" d=\"M854.559 1404.11 Q854.559 1407.26 856.712 1409.11 Q858.865 1410.94 862.615 1410.94 Q866.341 1410.94 868.517 1409.11 Q870.67 1407.26 870.67 1404.11 Q870.67 1400.96 868.517 1399.13 Q866.341 1397.28 862.615 1397.28 Q858.865 1397.28 856.712 1399.13 Q854.559 1400.96 854.559 1404.11 M839.906 1394.83 L844.166 1394.83 Q843.332 1396.59 842.893 1398.39 Q842.453 1400.17 842.453 1401.93 Q842.453 1406.56 845.578 1409.02 Q848.703 1411.45 855.022 1411.79 Q853.008 1410.43 851.943 1408.37 Q850.855 1406.31 850.855 1403.83 Q850.855 1398.62 854.027 1395.61 Q857.175 1392.58 862.615 1392.58 Q867.939 1392.58 871.156 1395.73 Q874.374 1398.88 874.374 1404.11 Q874.374 1410.11 869.791 1413.28 Q865.184 1416.45 856.457 1416.45 Q848.263 1416.45 843.402 1412.56 Q838.518 1408.67 838.518 1402.12 Q838.518 1400.36 838.865 1398.58 Q839.212 1396.77 839.906 1394.83 Z\" fill=\"#000000\" fill-rule=\"evenodd\" fill-opacity=\"1\" /><path clip-path=\"url(#clip300)\" d=\"M858.818 1387.28 L858.818 1374.8 L862.615 1374.8 L862.615 1387.28 L858.818 1387.28 Z\" fill=\"#000000\" fill-rule=\"evenodd\" fill-opacity=\"1\" /><path clip-path=\"url(#clip300)\" d=\"M842.221 1357.42 Q842.221 1361.03 845.786 1362.86 Q849.328 1364.67 856.457 1364.67 Q863.564 1364.67 867.129 1362.86 Q870.67 1361.03 870.67 1357.42 Q870.67 1353.79 867.129 1351.98 Q863.564 1350.15 856.457 1350.15 Q849.328 1350.15 845.786 1351.98 Q842.221 1353.79 842.221 1357.42 M838.518 1357.42 Q838.518 1351.61 843.124 1348.55 Q847.707 1345.48 856.457 1345.48 Q865.184 1345.48 869.791 1348.55 Q874.374 1351.61 874.374 1357.42 Q874.374 1363.23 869.791 1366.31 Q865.184 1369.36 856.457 1369.36 Q847.707 1369.36 843.124 1366.31 Q838.518 1363.23 838.518 1357.42 Z\" fill=\"#000000\" fill-rule=\"evenodd\" fill-opacity=\"1\" /><path clip-path=\"url(#clip300)\" d=\"M872.985 1337.12 L868.726 1337.12 Q869.559 1335.36 869.999 1333.55 Q870.439 1331.75 870.439 1330.01 Q870.439 1325.38 867.337 1322.95 Q864.212 1320.5 857.869 1320.15 Q859.86 1321.49 860.925 1323.55 Q861.99 1325.61 861.99 1328.11 Q861.99 1333.3 858.865 1336.33 Q855.717 1339.34 850.277 1339.34 Q844.953 1339.34 841.735 1336.19 Q838.518 1333.05 838.518 1327.81 Q838.518 1321.82 843.124 1318.67 Q847.707 1315.5 856.457 1315.5 Q864.629 1315.5 869.513 1319.39 Q874.374 1323.25 874.374 1329.8 Q874.374 1331.56 874.027 1333.37 Q873.679 1335.17 872.985 1337.12 M858.332 1327.81 Q858.332 1324.67 856.179 1322.84 Q854.027 1320.99 850.277 1320.99 Q846.55 1320.99 844.397 1322.84 Q842.221 1324.67 842.221 1327.81 Q842.221 1330.96 844.397 1332.81 Q846.55 1334.64 850.277 1334.64 Q854.027 1334.64 856.179 1332.81 Q858.332 1330.96 858.332 1327.81 Z\" fill=\"#000000\" fill-rule=\"evenodd\" fill-opacity=\"1\" /><path clip-path=\"url(#clip300)\" d=\"M839.143 1312.3 L839.143 1283.07 L843.078 1283.07 L843.078 1295.34 L873.703 1295.34 L873.703 1300.04 L843.078 1300.04 L843.078 1312.3 L839.143 1312.3 Z\" fill=\"#000000\" fill-rule=\"evenodd\" fill-opacity=\"1\" /><path clip-path=\"url(#clip300)\" d=\"M842.221 1268.14 Q842.221 1271.75 845.786 1273.58 Q849.328 1275.38 856.457 1275.38 Q863.564 1275.38 867.129 1273.58 Q870.67 1271.75 870.67 1268.14 Q870.67 1264.5 867.129 1262.7 Q863.564 1260.87 856.457 1260.87 Q849.328 1260.87 845.786 1262.7 Q842.221 1264.5 842.221 1268.14 M838.518 1268.14 Q838.518 1262.33 843.124 1259.27 Q847.707 1256.19 856.457 1256.19 Q865.184 1256.19 869.791 1259.27 Q874.374 1262.33 874.374 1268.14 Q874.374 1273.95 869.791 1277.03 Q865.184 1280.08 856.457 1280.08 Q847.707 1280.08 843.124 1277.03 Q838.518 1273.95 838.518 1268.14 Z\" fill=\"#000000\" fill-rule=\"evenodd\" fill-opacity=\"1\" /><path clip-path=\"url(#clip300)\" d=\"M842.221 1237.98 Q842.221 1241.59 845.786 1243.42 Q849.328 1245.22 856.457 1245.22 Q863.564 1245.22 867.129 1243.42 Q870.67 1241.59 870.67 1237.98 Q870.67 1234.34 867.129 1232.54 Q863.564 1230.71 856.457 1230.71 Q849.328 1230.71 845.786 1232.54 Q842.221 1234.34 842.221 1237.98 M838.518 1237.98 Q838.518 1232.17 843.124 1229.11 Q847.707 1226.03 856.457 1226.03 Q865.184 1226.03 869.791 1229.11 Q874.374 1232.17 874.374 1237.98 Q874.374 1243.79 869.791 1246.87 Q865.184 1249.92 856.457 1249.92 Q847.707 1249.92 843.124 1246.87 Q838.518 1243.79 838.518 1237.98 Z\" fill=\"#000000\" fill-rule=\"evenodd\" fill-opacity=\"1\" /><path clip-path=\"url(#clip300)\" d=\"M867.823 1217.33 L867.823 1212.44 L873.703 1212.44 L873.703 1217.33 L867.823 1217.33 M849.189 1217.33 L849.189 1212.44 L855.068 1212.44 L855.068 1217.33 L849.189 1217.33 Z\" fill=\"#000000\" fill-rule=\"evenodd\" fill-opacity=\"1\" /><path clip-path=\"url(#clip300)\" d=\"M842.221 1191.84 Q842.221 1195.45 845.786 1197.28 Q849.328 1199.09 856.457 1199.09 Q863.564 1199.09 867.129 1197.28 Q870.67 1195.45 870.67 1191.84 Q870.67 1188.21 867.129 1186.4 Q863.564 1184.57 856.457 1184.57 Q849.328 1184.57 845.786 1186.4 Q842.221 1188.21 842.221 1191.84 M838.518 1191.84 Q838.518 1186.03 843.124 1182.98 Q847.707 1179.9 856.457 1179.9 Q865.184 1179.9 869.791 1182.98 Q874.374 1186.03 874.374 1191.84 Q874.374 1197.65 869.791 1200.73 Q865.184 1203.79 856.457 1203.79 Q847.707 1203.79 843.124 1200.73 Q838.518 1197.65 838.518 1191.84 Z\" fill=\"#000000\" fill-rule=\"evenodd\" fill-opacity=\"1\" /><path clip-path=\"url(#clip300)\" d=\"M842.221 1161.68 Q842.221 1165.29 845.786 1167.12 Q849.328 1168.93 856.457 1168.93 Q863.564 1168.93 867.129 1167.12 Q870.67 1165.29 870.67 1161.68 Q870.67 1158.05 867.129 1156.24 Q863.564 1154.41 856.457 1154.41 Q849.328 1154.41 845.786 1156.24 Q842.221 1158.05 842.221 1161.68 M838.518 1161.68 Q838.518 1155.87 843.124 1152.81 Q847.707 1149.74 856.457 1149.74 Q865.184 1149.74 869.791 1152.81 Q874.374 1155.87 874.374 1161.68 Q874.374 1167.49 869.791 1170.57 Q865.184 1173.62 856.457 1173.62 Q847.707 1173.62 843.124 1170.57 Q838.518 1167.49 838.518 1161.68 Z\" fill=\"#000000\" fill-rule=\"evenodd\" fill-opacity=\"1\" /><path clip-path=\"url(#clip300)\" d=\"M867.823 1141.03 L867.823 1136.15 L873.703 1136.15 L873.703 1141.03 L867.823 1141.03 M849.189 1141.03 L849.189 1136.15 L855.068 1136.15 L855.068 1141.03 L849.189 1141.03 Z\" fill=\"#000000\" fill-rule=\"evenodd\" fill-opacity=\"1\" /><path clip-path=\"url(#clip300)\" d=\"M842.221 1115.55 Q842.221 1119.16 845.786 1120.99 Q849.328 1122.79 856.457 1122.79 Q863.564 1122.79 867.129 1120.99 Q870.67 1119.16 870.67 1115.55 Q870.67 1111.91 867.129 1110.11 Q863.564 1108.28 856.457 1108.28 Q849.328 1108.28 845.786 1110.11 Q842.221 1111.91 842.221 1115.55 M838.518 1115.55 Q838.518 1109.74 843.124 1106.68 Q847.707 1103.6 856.457 1103.6 Q865.184 1103.6 869.791 1106.68 Q874.374 1109.74 874.374 1115.55 Q874.374 1121.36 869.791 1124.44 Q865.184 1127.49 856.457 1127.49 Q847.707 1127.49 843.124 1124.44 Q838.518 1121.36 838.518 1115.55 Z\" fill=\"#000000\" fill-rule=\"evenodd\" fill-opacity=\"1\" /><path clip-path=\"url(#clip300)\" d=\"M842.221 1085.38 Q842.221 1089 845.786 1090.82 Q849.328 1092.63 856.457 1092.63 Q863.564 1092.63 867.129 1090.82 Q870.67 1089 870.67 1085.38 Q870.67 1081.75 867.129 1079.94 Q863.564 1078.12 856.457 1078.12 Q849.328 1078.12 845.786 1079.94 Q842.221 1081.75 842.221 1085.38 M838.518 1085.38 Q838.518 1079.57 843.124 1076.52 Q847.707 1073.44 856.457 1073.44 Q865.184 1073.44 869.791 1076.52 Q874.374 1079.57 874.374 1085.38 Q874.374 1091.19 869.791 1094.27 Q865.184 1097.33 856.457 1097.33 Q847.707 1097.33 843.124 1094.27 Q838.518 1091.19 838.518 1085.38 Z\" fill=\"#000000\" fill-rule=\"evenodd\" fill-opacity=\"1\" /><path clip-path=\"url(#clip300)\" d=\"M938.187 1578.58 L938.187 1562.26 L942.122 1562.26 L942.122 1584.2 L938.187 1584.2 Q935.432 1581.54 930.803 1576.96 Q926.15 1572.35 924.807 1571.17 Q922.284 1568.92 920.548 1568.04 Q918.789 1567.14 917.099 1567.14 Q914.344 1567.14 912.608 1569.09 Q910.872 1571.01 910.872 1574.11 Q910.872 1576.31 911.636 1578.76 Q912.4 1581.19 913.951 1583.97 L909.229 1583.97 Q908.094 1581.15 907.516 1578.69 Q906.937 1576.24 906.937 1574.2 Q906.937 1568.83 909.622 1565.64 Q912.307 1562.44 916.798 1562.44 Q918.928 1562.44 920.849 1563.25 Q922.747 1564.04 925.34 1566.15 Q926.011 1566.72 929.229 1569.83 Q932.423 1572.93 938.187 1578.58 Z\" fill=\"#000000\" fill-rule=\"evenodd\" fill-opacity=\"1\" /><path clip-path=\"url(#clip300)\" d=\"M910.641 1542.44 Q910.641 1546.05 914.205 1547.88 Q917.747 1549.69 924.877 1549.69 Q931.983 1549.69 935.548 1547.88 Q939.09 1546.05 939.09 1542.44 Q939.09 1538.81 935.548 1537 Q931.983 1535.17 924.877 1535.17 Q917.747 1535.17 914.205 1537 Q910.641 1538.81 910.641 1542.44 M906.937 1542.44 Q906.937 1536.63 911.543 1533.58 Q916.127 1530.5 924.877 1530.5 Q933.604 1530.5 938.21 1533.58 Q942.793 1536.63 942.793 1542.44 Q942.793 1548.25 938.21 1551.33 Q933.604 1554.39 924.877 1554.39 Q916.127 1554.39 911.543 1551.33 Q906.937 1548.25 906.937 1542.44 Z\" fill=\"#000000\" fill-rule=\"evenodd\" fill-opacity=\"1\" /><path clip-path=\"url(#clip300)\" d=\"M938.187 1518.25 L938.187 1501.93 L942.122 1501.93 L942.122 1523.88 L938.187 1523.88 Q935.432 1521.22 930.803 1516.63 Q926.15 1512.03 924.807 1510.85 Q922.284 1508.6 920.548 1507.72 Q918.789 1506.82 917.099 1506.82 Q914.344 1506.82 912.608 1508.76 Q910.872 1510.68 910.872 1513.79 Q910.872 1515.98 911.636 1518.44 Q912.4 1520.87 913.951 1523.65 L909.229 1523.65 Q908.094 1520.82 907.516 1518.37 Q906.937 1515.91 906.937 1513.88 Q906.937 1508.51 909.622 1505.31 Q912.307 1502.12 916.798 1502.12 Q918.928 1502.12 920.849 1502.93 Q922.747 1503.72 925.34 1505.82 Q926.011 1506.4 929.229 1509.5 Q932.423 1512.6 938.187 1518.25 Z\" fill=\"#000000\" fill-rule=\"evenodd\" fill-opacity=\"1\" /><path clip-path=\"url(#clip300)\" d=\"M910.641 1482.12 Q910.641 1485.73 914.205 1487.56 Q917.747 1489.36 924.877 1489.36 Q931.983 1489.36 935.548 1487.56 Q939.09 1485.73 939.09 1482.12 Q939.09 1478.48 935.548 1476.68 Q931.983 1474.85 924.877 1474.85 Q917.747 1474.85 914.205 1476.68 Q910.641 1478.48 910.641 1482.12 M906.937 1482.12 Q906.937 1476.31 911.543 1473.25 Q916.127 1470.17 924.877 1470.17 Q933.604 1470.17 938.21 1473.25 Q942.793 1476.31 942.793 1482.12 Q942.793 1487.93 938.21 1491.01 Q933.604 1494.06 924.877 1494.06 Q916.127 1494.06 911.543 1491.01 Q906.937 1487.93 906.937 1482.12 Z\" fill=\"#000000\" fill-rule=\"evenodd\" fill-opacity=\"1\" /><path clip-path=\"url(#clip300)\" d=\"M927.238 1464.71 L927.238 1452.23 L931.034 1452.23 L931.034 1464.71 L927.238 1464.71 Z\" fill=\"#000000\" fill-rule=\"evenodd\" fill-opacity=\"1\" /><path clip-path=\"url(#clip300)\" d=\"M910.641 1434.85 Q910.641 1438.46 914.205 1440.29 Q917.747 1442.1 924.877 1442.1 Q931.983 1442.1 935.548 1440.29 Q939.09 1438.46 939.09 1434.85 Q939.09 1431.22 935.548 1429.41 Q931.983 1427.58 924.877 1427.58 Q917.747 1427.58 914.205 1429.41 Q910.641 1431.22 910.641 1434.85 M906.937 1434.85 Q906.937 1429.04 911.543 1425.98 Q916.127 1422.91 924.877 1422.91 Q933.604 1422.91 938.21 1425.98 Q942.793 1429.04 942.793 1434.85 Q942.793 1440.66 938.21 1443.74 Q933.604 1446.79 924.877 1446.79 Q916.127 1446.79 911.543 1443.74 Q906.937 1440.66 906.937 1434.85 Z\" fill=\"#000000\" fill-rule=\"evenodd\" fill-opacity=\"1\" /><path clip-path=\"url(#clip300)\" d=\"M922.979 1404.11 Q922.979 1407.26 925.131 1409.11 Q927.284 1410.94 931.034 1410.94 Q934.761 1410.94 936.937 1409.11 Q939.09 1407.26 939.09 1404.11 Q939.09 1400.96 936.937 1399.13 Q934.761 1397.28 931.034 1397.28 Q927.284 1397.28 925.131 1399.13 Q922.979 1400.96 922.979 1404.11 M908.326 1394.83 L912.585 1394.83 Q911.752 1396.59 911.312 1398.39 Q910.872 1400.17 910.872 1401.93 Q910.872 1406.56 913.997 1409.02 Q917.122 1411.45 923.442 1411.79 Q921.428 1410.43 920.363 1408.37 Q919.275 1406.31 919.275 1403.83 Q919.275 1398.62 922.446 1395.61 Q925.594 1392.58 931.034 1392.58 Q936.358 1392.58 939.576 1395.73 Q942.793 1398.88 942.793 1404.11 Q942.793 1410.11 938.21 1413.28 Q933.604 1416.45 924.877 1416.45 Q916.682 1416.45 911.821 1412.56 Q906.937 1408.67 906.937 1402.12 Q906.937 1400.36 907.284 1398.58 Q907.631 1396.77 908.326 1394.83 Z\" fill=\"#000000\" fill-rule=\"evenodd\" fill-opacity=\"1\" /><path clip-path=\"url(#clip300)\" d=\"M927.238 1387.28 L927.238 1374.8 L931.034 1374.8 L931.034 1387.28 L927.238 1387.28 Z\" fill=\"#000000\" fill-rule=\"evenodd\" fill-opacity=\"1\" /><path clip-path=\"url(#clip300)\" d=\"M938.187 1366.61 L938.187 1358.97 L911.821 1358.97 L913.488 1367.28 L909.229 1367.28 L907.562 1359.02 L907.562 1354.34 L938.187 1354.34 L938.187 1346.7 L942.122 1346.7 L942.122 1366.61 L938.187 1366.61 Z\" fill=\"#000000\" fill-rule=\"evenodd\" fill-opacity=\"1\" /><path clip-path=\"url(#clip300)\" d=\"M910.641 1327.26 Q910.641 1330.87 914.205 1332.7 Q917.747 1334.5 924.877 1334.5 Q931.983 1334.5 935.548 1332.7 Q939.09 1330.87 939.09 1327.26 Q939.09 1323.62 935.548 1321.82 Q931.983 1319.99 924.877 1319.99 Q917.747 1319.99 914.205 1321.82 Q910.641 1323.62 910.641 1327.26 M906.937 1327.26 Q906.937 1321.45 911.543 1318.39 Q916.127 1315.31 924.877 1315.31 Q933.604 1315.31 938.21 1318.39 Q942.793 1321.45 942.793 1327.26 Q942.793 1333.07 938.21 1336.15 Q933.604 1339.2 924.877 1339.2 Q916.127 1339.2 911.543 1336.15 Q906.937 1333.07 906.937 1327.26 Z\" fill=\"#000000\" fill-rule=\"evenodd\" fill-opacity=\"1\" /><path clip-path=\"url(#clip300)\" d=\"M907.562 1312.3 L907.562 1283.07 L911.497 1283.07 L911.497 1295.34 L942.122 1295.34 L942.122 1300.04 L911.497 1300.04 L911.497 1312.3 L907.562 1312.3 Z\" fill=\"#000000\" fill-rule=\"evenodd\" fill-opacity=\"1\" /><path clip-path=\"url(#clip300)\" d=\"M910.641 1268.14 Q910.641 1271.75 914.205 1273.58 Q917.747 1275.38 924.877 1275.38 Q931.983 1275.38 935.548 1273.58 Q939.09 1271.75 939.09 1268.14 Q939.09 1264.5 935.548 1262.7 Q931.983 1260.87 924.877 1260.87 Q917.747 1260.87 914.205 1262.7 Q910.641 1264.5 910.641 1268.14 M906.937 1268.14 Q906.937 1262.33 911.543 1259.27 Q916.127 1256.19 924.877 1256.19 Q933.604 1256.19 938.21 1259.27 Q942.793 1262.33 942.793 1268.14 Q942.793 1273.95 938.21 1277.03 Q933.604 1280.08 924.877 1280.08 Q916.127 1280.08 911.543 1277.03 Q906.937 1273.95 906.937 1268.14 Z\" fill=\"#000000\" fill-rule=\"evenodd\" fill-opacity=\"1\" /><path clip-path=\"url(#clip300)\" d=\"M910.641 1237.98 Q910.641 1241.59 914.205 1243.42 Q917.747 1245.22 924.877 1245.22 Q931.983 1245.22 935.548 1243.42 Q939.09 1241.59 939.09 1237.98 Q939.09 1234.34 935.548 1232.54 Q931.983 1230.71 924.877 1230.71 Q917.747 1230.71 914.205 1232.54 Q910.641 1234.34 910.641 1237.98 M906.937 1237.98 Q906.937 1232.17 911.543 1229.11 Q916.127 1226.03 924.877 1226.03 Q933.604 1226.03 938.21 1229.11 Q942.793 1232.17 942.793 1237.98 Q942.793 1243.79 938.21 1246.87 Q933.604 1249.92 924.877 1249.92 Q916.127 1249.92 911.543 1246.87 Q906.937 1243.79 906.937 1237.98 Z\" fill=\"#000000\" fill-rule=\"evenodd\" fill-opacity=\"1\" /><path clip-path=\"url(#clip300)\" d=\"M936.242 1217.33 L936.242 1212.44 L942.122 1212.44 L942.122 1217.33 L936.242 1217.33 M917.608 1217.33 L917.608 1212.44 L923.488 1212.44 L923.488 1217.33 L917.608 1217.33 Z\" fill=\"#000000\" fill-rule=\"evenodd\" fill-opacity=\"1\" /><path clip-path=\"url(#clip300)\" d=\"M910.641 1191.84 Q910.641 1195.45 914.205 1197.28 Q917.747 1199.09 924.877 1199.09 Q931.983 1199.09 935.548 1197.28 Q939.09 1195.45 939.09 1191.84 Q939.09 1188.21 935.548 1186.4 Q931.983 1184.57 924.877 1184.57 Q917.747 1184.57 914.205 1186.4 Q910.641 1188.21 910.641 1191.84 M906.937 1191.84 Q906.937 1186.03 911.543 1182.98 Q916.127 1179.9 924.877 1179.9 Q933.604 1179.9 938.21 1182.98 Q942.793 1186.03 942.793 1191.84 Q942.793 1197.65 938.21 1200.73 Q933.604 1203.79 924.877 1203.79 Q916.127 1203.79 911.543 1200.73 Q906.937 1197.65 906.937 1191.84 Z\" fill=\"#000000\" fill-rule=\"evenodd\" fill-opacity=\"1\" /><path clip-path=\"url(#clip300)\" d=\"M910.641 1161.68 Q910.641 1165.29 914.205 1167.12 Q917.747 1168.93 924.877 1168.93 Q931.983 1168.93 935.548 1167.12 Q939.09 1165.29 939.09 1161.68 Q939.09 1158.05 935.548 1156.24 Q931.983 1154.41 924.877 1154.41 Q917.747 1154.41 914.205 1156.24 Q910.641 1158.05 910.641 1161.68 M906.937 1161.68 Q906.937 1155.87 911.543 1152.81 Q916.127 1149.74 924.877 1149.74 Q933.604 1149.74 938.21 1152.81 Q942.793 1155.87 942.793 1161.68 Q942.793 1167.49 938.21 1170.57 Q933.604 1173.62 924.877 1173.62 Q916.127 1173.62 911.543 1170.57 Q906.937 1167.49 906.937 1161.68 Z\" fill=\"#000000\" fill-rule=\"evenodd\" fill-opacity=\"1\" /><path clip-path=\"url(#clip300)\" d=\"M936.242 1141.03 L936.242 1136.15 L942.122 1136.15 L942.122 1141.03 L936.242 1141.03 M917.608 1141.03 L917.608 1136.15 L923.488 1136.15 L923.488 1141.03 L917.608 1141.03 Z\" fill=\"#000000\" fill-rule=\"evenodd\" fill-opacity=\"1\" /><path clip-path=\"url(#clip300)\" d=\"M910.641 1115.55 Q910.641 1119.16 914.205 1120.99 Q917.747 1122.79 924.877 1122.79 Q931.983 1122.79 935.548 1120.99 Q939.09 1119.16 939.09 1115.55 Q939.09 1111.91 935.548 1110.11 Q931.983 1108.28 924.877 1108.28 Q917.747 1108.28 914.205 1110.11 Q910.641 1111.91 910.641 1115.55 M906.937 1115.55 Q906.937 1109.74 911.543 1106.68 Q916.127 1103.6 924.877 1103.6 Q933.604 1103.6 938.21 1106.68 Q942.793 1109.74 942.793 1115.55 Q942.793 1121.36 938.21 1124.44 Q933.604 1127.49 924.877 1127.49 Q916.127 1127.49 911.543 1124.44 Q906.937 1121.36 906.937 1115.55 Z\" fill=\"#000000\" fill-rule=\"evenodd\" fill-opacity=\"1\" /><path clip-path=\"url(#clip300)\" d=\"M910.641 1085.38 Q910.641 1089 914.205 1090.82 Q917.747 1092.63 924.877 1092.63 Q931.983 1092.63 935.548 1090.82 Q939.09 1089 939.09 1085.38 Q939.09 1081.75 935.548 1079.94 Q931.983 1078.12 924.877 1078.12 Q917.747 1078.12 914.205 1079.94 Q910.641 1081.75 910.641 1085.38 M906.937 1085.38 Q906.937 1079.57 911.543 1076.52 Q916.127 1073.44 924.877 1073.44 Q933.604 1073.44 938.21 1076.52 Q942.793 1079.57 942.793 1085.38 Q942.793 1091.19 938.21 1094.27 Q933.604 1097.33 924.877 1097.33 Q916.127 1097.33 911.543 1094.27 Q906.937 1091.19 906.937 1085.38 Z\" fill=\"#000000\" fill-rule=\"evenodd\" fill-opacity=\"1\" /><path clip-path=\"url(#clip300)\" d=\"M1075.03 1578.58 L1075.03 1562.26 L1078.96 1562.26 L1078.96 1584.2 L1075.03 1584.2 Q1072.27 1581.54 1067.64 1576.96 Q1062.99 1572.35 1061.65 1571.17 Q1059.12 1568.92 1057.39 1568.04 Q1055.63 1567.14 1053.94 1567.14 Q1051.18 1567.14 1049.45 1569.09 Q1047.71 1571.01 1047.71 1574.11 Q1047.71 1576.31 1048.47 1578.76 Q1049.24 1581.19 1050.79 1583.97 L1046.07 1583.97 Q1044.93 1581.15 1044.35 1578.69 Q1043.78 1576.24 1043.78 1574.2 Q1043.78 1568.83 1046.46 1565.64 Q1049.15 1562.44 1053.64 1562.44 Q1055.77 1562.44 1057.69 1563.25 Q1059.59 1564.04 1062.18 1566.15 Q1062.85 1566.72 1066.07 1569.83 Q1069.26 1572.93 1075.03 1578.58 Z\" fill=\"#000000\" fill-rule=\"evenodd\" fill-opacity=\"1\" /><path clip-path=\"url(#clip300)\" d=\"M1047.48 1542.44 Q1047.48 1546.05 1051.04 1547.88 Q1054.59 1549.69 1061.72 1549.69 Q1068.82 1549.69 1072.39 1547.88 Q1075.93 1546.05 1075.93 1542.44 Q1075.93 1538.81 1072.39 1537 Q1068.82 1535.17 1061.72 1535.17 Q1054.59 1535.17 1051.04 1537 Q1047.48 1538.81 1047.48 1542.44 M1043.78 1542.44 Q1043.78 1536.63 1048.38 1533.58 Q1052.97 1530.5 1061.72 1530.5 Q1070.44 1530.5 1075.05 1533.58 Q1079.63 1536.63 1079.63 1542.44 Q1079.63 1548.25 1075.05 1551.33 Q1070.44 1554.39 1061.72 1554.39 Q1052.97 1554.39 1048.38 1551.33 Q1043.78 1548.25 1043.78 1542.44 Z\" fill=\"#000000\" fill-rule=\"evenodd\" fill-opacity=\"1\" /><path clip-path=\"url(#clip300)\" d=\"M1075.03 1518.25 L1075.03 1501.93 L1078.96 1501.93 L1078.96 1523.88 L1075.03 1523.88 Q1072.27 1521.22 1067.64 1516.63 Q1062.99 1512.03 1061.65 1510.85 Q1059.12 1508.6 1057.39 1507.72 Q1055.63 1506.82 1053.94 1506.82 Q1051.18 1506.82 1049.45 1508.76 Q1047.71 1510.68 1047.71 1513.79 Q1047.71 1515.98 1048.47 1518.44 Q1049.24 1520.87 1050.79 1523.65 L1046.07 1523.65 Q1044.93 1520.82 1044.35 1518.37 Q1043.78 1515.91 1043.78 1513.88 Q1043.78 1508.51 1046.46 1505.31 Q1049.15 1502.12 1053.64 1502.12 Q1055.77 1502.12 1057.69 1502.93 Q1059.59 1503.72 1062.18 1505.82 Q1062.85 1506.4 1066.07 1509.5 Q1069.26 1512.6 1075.03 1518.25 Z\" fill=\"#000000\" fill-rule=\"evenodd\" fill-opacity=\"1\" /><path clip-path=\"url(#clip300)\" d=\"M1047.48 1482.12 Q1047.48 1485.73 1051.04 1487.56 Q1054.59 1489.36 1061.72 1489.36 Q1068.82 1489.36 1072.39 1487.56 Q1075.93 1485.73 1075.93 1482.12 Q1075.93 1478.48 1072.39 1476.68 Q1068.82 1474.85 1061.72 1474.85 Q1054.59 1474.85 1051.04 1476.68 Q1047.48 1478.48 1047.48 1482.12 M1043.78 1482.12 Q1043.78 1476.31 1048.38 1473.25 Q1052.97 1470.17 1061.72 1470.17 Q1070.44 1470.17 1075.05 1473.25 Q1079.63 1476.31 1079.63 1482.12 Q1079.63 1487.93 1075.05 1491.01 Q1070.44 1494.06 1061.72 1494.06 Q1052.97 1494.06 1048.38 1491.01 Q1043.78 1487.93 1043.78 1482.12 Z\" fill=\"#000000\" fill-rule=\"evenodd\" fill-opacity=\"1\" /><path clip-path=\"url(#clip300)\" d=\"M1064.08 1464.71 L1064.08 1452.23 L1067.87 1452.23 L1067.87 1464.71 L1064.08 1464.71 Z\" fill=\"#000000\" fill-rule=\"evenodd\" fill-opacity=\"1\" /><path clip-path=\"url(#clip300)\" d=\"M1047.48 1434.85 Q1047.48 1438.46 1051.04 1440.29 Q1054.59 1442.1 1061.72 1442.1 Q1068.82 1442.1 1072.39 1440.29 Q1075.93 1438.46 1075.93 1434.85 Q1075.93 1431.22 1072.39 1429.41 Q1068.82 1427.58 1061.72 1427.58 Q1054.59 1427.58 1051.04 1429.41 Q1047.48 1431.22 1047.48 1434.85 M1043.78 1434.85 Q1043.78 1429.04 1048.38 1425.98 Q1052.97 1422.91 1061.72 1422.91 Q1070.44 1422.91 1075.05 1425.98 Q1079.63 1429.04 1079.63 1434.85 Q1079.63 1440.66 1075.05 1443.74 Q1070.44 1446.79 1061.72 1446.79 Q1052.97 1446.79 1048.38 1443.74 Q1043.78 1440.66 1043.78 1434.85 Z\" fill=\"#000000\" fill-rule=\"evenodd\" fill-opacity=\"1\" /><path clip-path=\"url(#clip300)\" d=\"M1059.82 1404.11 Q1059.82 1407.26 1061.97 1409.11 Q1064.12 1410.94 1067.87 1410.94 Q1071.6 1410.94 1073.78 1409.11 Q1075.93 1407.26 1075.93 1404.11 Q1075.93 1400.96 1073.78 1399.13 Q1071.6 1397.28 1067.87 1397.28 Q1064.12 1397.28 1061.97 1399.13 Q1059.82 1400.96 1059.82 1404.11 M1045.16 1394.83 L1049.42 1394.83 Q1048.59 1396.59 1048.15 1398.39 Q1047.71 1400.17 1047.71 1401.93 Q1047.71 1406.56 1050.84 1409.02 Q1053.96 1411.45 1060.28 1411.79 Q1058.27 1410.43 1057.2 1408.37 Q1056.11 1406.31 1056.11 1403.83 Q1056.11 1398.62 1059.29 1395.61 Q1062.43 1392.58 1067.87 1392.58 Q1073.2 1392.58 1076.41 1395.73 Q1079.63 1398.88 1079.63 1404.11 Q1079.63 1410.11 1075.05 1413.28 Q1070.44 1416.45 1061.72 1416.45 Q1053.52 1416.45 1048.66 1412.56 Q1043.78 1408.67 1043.78 1402.12 Q1043.78 1400.36 1044.12 1398.58 Q1044.47 1396.77 1045.16 1394.83 Z\" fill=\"#000000\" fill-rule=\"evenodd\" fill-opacity=\"1\" /><path clip-path=\"url(#clip300)\" d=\"M1064.08 1387.28 L1064.08 1374.8 L1067.87 1374.8 L1067.87 1387.28 L1064.08 1387.28 Z\" fill=\"#000000\" fill-rule=\"evenodd\" fill-opacity=\"1\" /><path clip-path=\"url(#clip300)\" d=\"M1075.03 1366.61 L1075.03 1358.97 L1048.66 1358.97 L1050.33 1367.28 L1046.07 1367.28 L1044.4 1359.02 L1044.4 1354.34 L1075.03 1354.34 L1075.03 1346.7 L1078.96 1346.7 L1078.96 1366.61 L1075.03 1366.61 Z\" fill=\"#000000\" fill-rule=\"evenodd\" fill-opacity=\"1\" /><path clip-path=\"url(#clip300)\" d=\"M1075.03 1333.23 L1075.03 1316.91 L1078.96 1316.91 L1078.96 1338.86 L1075.03 1338.86 Q1072.27 1336.19 1067.64 1331.61 Q1062.99 1327 1061.65 1325.82 Q1059.12 1323.58 1057.39 1322.7 Q1055.63 1321.8 1053.94 1321.8 Q1051.18 1321.8 1049.45 1323.74 Q1047.71 1325.66 1047.71 1328.76 Q1047.71 1330.96 1048.47 1333.42 Q1049.24 1335.85 1050.79 1338.62 L1046.07 1338.62 Q1044.93 1335.8 1044.35 1333.35 Q1043.78 1330.89 1043.78 1328.86 Q1043.78 1323.49 1046.46 1320.29 Q1049.15 1317.1 1053.64 1317.1 Q1055.77 1317.1 1057.69 1317.91 Q1059.59 1318.69 1062.18 1320.8 Q1062.85 1321.38 1066.07 1324.48 Q1069.26 1327.58 1075.03 1333.23 Z\" fill=\"#000000\" fill-rule=\"evenodd\" fill-opacity=\"1\" /><path clip-path=\"url(#clip300)\" d=\"M1044.4 1312.3 L1044.4 1283.07 L1048.34 1283.07 L1048.34 1295.34 L1078.96 1295.34 L1078.96 1300.04 L1048.34 1300.04 L1048.34 1312.3 L1044.4 1312.3 Z\" fill=\"#000000\" fill-rule=\"evenodd\" fill-opacity=\"1\" /><path clip-path=\"url(#clip300)\" d=\"M1047.48 1268.14 Q1047.48 1271.75 1051.04 1273.58 Q1054.59 1275.38 1061.72 1275.38 Q1068.82 1275.38 1072.39 1273.58 Q1075.93 1271.75 1075.93 1268.14 Q1075.93 1264.5 1072.39 1262.7 Q1068.82 1260.87 1061.72 1260.87 Q1054.59 1260.87 1051.04 1262.7 Q1047.48 1264.5 1047.48 1268.14 M1043.78 1268.14 Q1043.78 1262.33 1048.38 1259.27 Q1052.97 1256.19 1061.72 1256.19 Q1070.44 1256.19 1075.05 1259.27 Q1079.63 1262.33 1079.63 1268.14 Q1079.63 1273.95 1075.05 1277.03 Q1070.44 1280.08 1061.72 1280.08 Q1052.97 1280.08 1048.38 1277.03 Q1043.78 1273.95 1043.78 1268.14 Z\" fill=\"#000000\" fill-rule=\"evenodd\" fill-opacity=\"1\" /><path clip-path=\"url(#clip300)\" d=\"M1047.48 1237.98 Q1047.48 1241.59 1051.04 1243.42 Q1054.59 1245.22 1061.72 1245.22 Q1068.82 1245.22 1072.39 1243.42 Q1075.93 1241.59 1075.93 1237.98 Q1075.93 1234.34 1072.39 1232.54 Q1068.82 1230.71 1061.72 1230.71 Q1054.59 1230.71 1051.04 1232.54 Q1047.48 1234.34 1047.48 1237.98 M1043.78 1237.98 Q1043.78 1232.17 1048.38 1229.11 Q1052.97 1226.03 1061.72 1226.03 Q1070.44 1226.03 1075.05 1229.11 Q1079.63 1232.17 1079.63 1237.98 Q1079.63 1243.79 1075.05 1246.87 Q1070.44 1249.92 1061.72 1249.92 Q1052.97 1249.92 1048.38 1246.87 Q1043.78 1243.79 1043.78 1237.98 Z\" fill=\"#000000\" fill-rule=\"evenodd\" fill-opacity=\"1\" /><path clip-path=\"url(#clip300)\" d=\"M1073.08 1217.33 L1073.08 1212.44 L1078.96 1212.44 L1078.96 1217.33 L1073.08 1217.33 M1054.45 1217.33 L1054.45 1212.44 L1060.33 1212.44 L1060.33 1217.33 L1054.45 1217.33 Z\" fill=\"#000000\" fill-rule=\"evenodd\" fill-opacity=\"1\" /><path clip-path=\"url(#clip300)\" d=\"M1047.48 1191.84 Q1047.48 1195.45 1051.04 1197.28 Q1054.59 1199.09 1061.72 1199.09 Q1068.82 1199.09 1072.39 1197.28 Q1075.93 1195.45 1075.93 1191.84 Q1075.93 1188.21 1072.39 1186.4 Q1068.82 1184.57 1061.72 1184.57 Q1054.59 1184.57 1051.04 1186.4 Q1047.48 1188.21 1047.48 1191.84 M1043.78 1191.84 Q1043.78 1186.03 1048.38 1182.98 Q1052.97 1179.9 1061.72 1179.9 Q1070.44 1179.9 1075.05 1182.98 Q1079.63 1186.03 1079.63 1191.84 Q1079.63 1197.65 1075.05 1200.73 Q1070.44 1203.79 1061.72 1203.79 Q1052.97 1203.79 1048.38 1200.73 Q1043.78 1197.65 1043.78 1191.84 Z\" fill=\"#000000\" fill-rule=\"evenodd\" fill-opacity=\"1\" /><path clip-path=\"url(#clip300)\" d=\"M1047.48 1161.68 Q1047.48 1165.29 1051.04 1167.12 Q1054.59 1168.93 1061.72 1168.93 Q1068.82 1168.93 1072.39 1167.12 Q1075.93 1165.29 1075.93 1161.68 Q1075.93 1158.05 1072.39 1156.24 Q1068.82 1154.41 1061.72 1154.41 Q1054.59 1154.41 1051.04 1156.24 Q1047.48 1158.05 1047.48 1161.68 M1043.78 1161.68 Q1043.78 1155.87 1048.38 1152.81 Q1052.97 1149.74 1061.72 1149.74 Q1070.44 1149.74 1075.05 1152.81 Q1079.63 1155.87 1079.63 1161.68 Q1079.63 1167.49 1075.05 1170.57 Q1070.44 1173.62 1061.72 1173.62 Q1052.97 1173.62 1048.38 1170.57 Q1043.78 1167.49 1043.78 1161.68 Z\" fill=\"#000000\" fill-rule=\"evenodd\" fill-opacity=\"1\" /><path clip-path=\"url(#clip300)\" d=\"M1073.08 1141.03 L1073.08 1136.15 L1078.96 1136.15 L1078.96 1141.03 L1073.08 1141.03 M1054.45 1141.03 L1054.45 1136.15 L1060.33 1136.15 L1060.33 1141.03 L1054.45 1141.03 Z\" fill=\"#000000\" fill-rule=\"evenodd\" fill-opacity=\"1\" /><path clip-path=\"url(#clip300)\" d=\"M1047.48 1115.55 Q1047.48 1119.16 1051.04 1120.99 Q1054.59 1122.79 1061.72 1122.79 Q1068.82 1122.79 1072.39 1120.99 Q1075.93 1119.16 1075.93 1115.55 Q1075.93 1111.91 1072.39 1110.11 Q1068.82 1108.28 1061.72 1108.28 Q1054.59 1108.28 1051.04 1110.11 Q1047.48 1111.91 1047.48 1115.55 M1043.78 1115.55 Q1043.78 1109.74 1048.38 1106.68 Q1052.97 1103.6 1061.72 1103.6 Q1070.44 1103.6 1075.05 1106.68 Q1079.63 1109.74 1079.63 1115.55 Q1079.63 1121.36 1075.05 1124.44 Q1070.44 1127.49 1061.72 1127.49 Q1052.97 1127.49 1048.38 1124.44 Q1043.78 1121.36 1043.78 1115.55 Z\" fill=\"#000000\" fill-rule=\"evenodd\" fill-opacity=\"1\" /><path clip-path=\"url(#clip300)\" d=\"M1047.48 1085.38 Q1047.48 1089 1051.04 1090.82 Q1054.59 1092.63 1061.72 1092.63 Q1068.82 1092.63 1072.39 1090.82 Q1075.93 1089 1075.93 1085.38 Q1075.93 1081.75 1072.39 1079.94 Q1068.82 1078.12 1061.72 1078.12 Q1054.59 1078.12 1051.04 1079.94 Q1047.48 1081.75 1047.48 1085.38 M1043.78 1085.38 Q1043.78 1079.57 1048.38 1076.52 Q1052.97 1073.44 1061.72 1073.44 Q1070.44 1073.44 1075.05 1076.52 Q1079.63 1079.57 1079.63 1085.38 Q1079.63 1091.19 1075.05 1094.27 Q1070.44 1097.33 1061.72 1097.33 Q1052.97 1097.33 1048.38 1094.27 Q1043.78 1091.19 1043.78 1085.38 Z\" fill=\"#000000\" fill-rule=\"evenodd\" fill-opacity=\"1\" /><path clip-path=\"url(#clip300)\" d=\"M1280.28 1578.58 L1280.28 1562.26 L1284.22 1562.26 L1284.22 1584.2 L1280.28 1584.2 Q1277.53 1581.54 1272.9 1576.96 Q1268.25 1572.35 1266.9 1571.17 Q1264.38 1568.92 1262.65 1568.04 Q1260.89 1567.14 1259.2 1567.14 Q1256.44 1567.14 1254.71 1569.09 Q1252.97 1571.01 1252.97 1574.11 Q1252.97 1576.31 1253.73 1578.76 Q1254.5 1581.19 1256.05 1583.97 L1251.33 1583.97 Q1250.19 1581.15 1249.61 1578.69 Q1249.03 1576.24 1249.03 1574.2 Q1249.03 1568.83 1251.72 1565.64 Q1254.4 1562.44 1258.9 1562.44 Q1261.02 1562.44 1262.95 1563.25 Q1264.84 1564.04 1267.44 1566.15 Q1268.11 1566.72 1271.33 1569.83 Q1274.52 1572.93 1280.28 1578.58 Z\" fill=\"#000000\" fill-rule=\"evenodd\" fill-opacity=\"1\" /><path clip-path=\"url(#clip300)\" d=\"M1252.74 1542.44 Q1252.74 1546.05 1256.3 1547.88 Q1259.84 1549.69 1266.97 1549.69 Q1274.08 1549.69 1277.65 1547.88 Q1281.19 1546.05 1281.19 1542.44 Q1281.19 1538.81 1277.65 1537 Q1274.08 1535.17 1266.97 1535.17 Q1259.84 1535.17 1256.3 1537 Q1252.74 1538.81 1252.74 1542.44 M1249.03 1542.44 Q1249.03 1536.63 1253.64 1533.58 Q1258.22 1530.5 1266.97 1530.5 Q1275.7 1530.5 1280.31 1533.58 Q1284.89 1536.63 1284.89 1542.44 Q1284.89 1548.25 1280.31 1551.33 Q1275.7 1554.39 1266.97 1554.39 Q1258.22 1554.39 1253.64 1551.33 Q1249.03 1548.25 1249.03 1542.44 Z\" fill=\"#000000\" fill-rule=\"evenodd\" fill-opacity=\"1\" /><path clip-path=\"url(#clip300)\" d=\"M1280.28 1518.25 L1280.28 1501.93 L1284.22 1501.93 L1284.22 1523.88 L1280.28 1523.88 Q1277.53 1521.22 1272.9 1516.63 Q1268.25 1512.03 1266.9 1510.85 Q1264.38 1508.6 1262.65 1507.72 Q1260.89 1506.82 1259.2 1506.82 Q1256.44 1506.82 1254.71 1508.76 Q1252.97 1510.68 1252.97 1513.79 Q1252.97 1515.98 1253.73 1518.44 Q1254.5 1520.87 1256.05 1523.65 L1251.33 1523.65 Q1250.19 1520.82 1249.61 1518.37 Q1249.03 1515.91 1249.03 1513.88 Q1249.03 1508.51 1251.72 1505.31 Q1254.4 1502.12 1258.9 1502.12 Q1261.02 1502.12 1262.95 1502.93 Q1264.84 1503.72 1267.44 1505.82 Q1268.11 1506.4 1271.33 1509.5 Q1274.52 1512.6 1280.28 1518.25 Z\" fill=\"#000000\" fill-rule=\"evenodd\" fill-opacity=\"1\" /><path clip-path=\"url(#clip300)\" d=\"M1252.74 1482.12 Q1252.74 1485.73 1256.3 1487.56 Q1259.84 1489.36 1266.97 1489.36 Q1274.08 1489.36 1277.65 1487.56 Q1281.19 1485.73 1281.19 1482.12 Q1281.19 1478.48 1277.65 1476.68 Q1274.08 1474.85 1266.97 1474.85 Q1259.84 1474.85 1256.3 1476.68 Q1252.74 1478.48 1252.74 1482.12 M1249.03 1482.12 Q1249.03 1476.31 1253.64 1473.25 Q1258.22 1470.17 1266.97 1470.17 Q1275.7 1470.17 1280.31 1473.25 Q1284.89 1476.31 1284.89 1482.12 Q1284.89 1487.93 1280.31 1491.01 Q1275.7 1494.06 1266.97 1494.06 Q1258.22 1494.06 1253.64 1491.01 Q1249.03 1487.93 1249.03 1482.12 Z\" fill=\"#000000\" fill-rule=\"evenodd\" fill-opacity=\"1\" /><path clip-path=\"url(#clip300)\" d=\"M1269.34 1464.71 L1269.34 1452.23 L1273.13 1452.23 L1273.13 1464.71 L1269.34 1464.71 Z\" fill=\"#000000\" fill-rule=\"evenodd\" fill-opacity=\"1\" /><path clip-path=\"url(#clip300)\" d=\"M1252.74 1434.85 Q1252.74 1438.46 1256.3 1440.29 Q1259.84 1442.1 1266.97 1442.1 Q1274.08 1442.1 1277.65 1440.29 Q1281.19 1438.46 1281.19 1434.85 Q1281.19 1431.22 1277.65 1429.41 Q1274.08 1427.58 1266.97 1427.58 Q1259.84 1427.58 1256.3 1429.41 Q1252.74 1431.22 1252.74 1434.85 M1249.03 1434.85 Q1249.03 1429.04 1253.64 1425.98 Q1258.22 1422.91 1266.97 1422.91 Q1275.7 1422.91 1280.31 1425.98 Q1284.89 1429.04 1284.89 1434.85 Q1284.89 1440.66 1280.31 1443.74 Q1275.7 1446.79 1266.97 1446.79 Q1258.22 1446.79 1253.64 1443.74 Q1249.03 1440.66 1249.03 1434.85 Z\" fill=\"#000000\" fill-rule=\"evenodd\" fill-opacity=\"1\" /><path clip-path=\"url(#clip300)\" d=\"M1265.08 1404.11 Q1265.08 1407.26 1267.23 1409.11 Q1269.38 1410.94 1273.13 1410.94 Q1276.86 1410.94 1279.03 1409.11 Q1281.19 1407.26 1281.19 1404.11 Q1281.19 1400.96 1279.03 1399.13 Q1276.86 1397.28 1273.13 1397.28 Q1269.38 1397.28 1267.23 1399.13 Q1265.08 1400.96 1265.08 1404.11 M1250.42 1394.83 L1254.68 1394.83 Q1253.85 1396.59 1253.41 1398.39 Q1252.97 1400.17 1252.97 1401.93 Q1252.97 1406.56 1256.09 1409.02 Q1259.22 1411.45 1265.54 1411.79 Q1263.52 1410.43 1262.46 1408.37 Q1261.37 1406.31 1261.37 1403.83 Q1261.37 1398.62 1264.54 1395.61 Q1267.69 1392.58 1273.13 1392.58 Q1278.46 1392.58 1281.67 1395.73 Q1284.89 1398.88 1284.89 1404.11 Q1284.89 1410.11 1280.31 1413.28 Q1275.7 1416.45 1266.97 1416.45 Q1258.78 1416.45 1253.92 1412.56 Q1249.03 1408.67 1249.03 1402.12 Q1249.03 1400.36 1249.38 1398.58 Q1249.73 1396.77 1250.42 1394.83 Z\" fill=\"#000000\" fill-rule=\"evenodd\" fill-opacity=\"1\" /><path clip-path=\"url(#clip300)\" d=\"M1269.34 1387.28 L1269.34 1374.8 L1273.13 1374.8 L1273.13 1387.28 L1269.34 1387.28 Z\" fill=\"#000000\" fill-rule=\"evenodd\" fill-opacity=\"1\" /><path clip-path=\"url(#clip300)\" d=\"M1280.28 1366.61 L1280.28 1358.97 L1253.92 1358.97 L1255.59 1367.28 L1251.33 1367.28 L1249.66 1359.02 L1249.66 1354.34 L1280.28 1354.34 L1280.28 1346.7 L1284.22 1346.7 L1284.22 1366.61 L1280.28 1366.61 Z\" fill=\"#000000\" fill-rule=\"evenodd\" fill-opacity=\"1\" /><path clip-path=\"url(#clip300)\" d=\"M1249.66 1337.21 L1249.66 1318.86 L1253.59 1318.86 L1253.59 1332.93 L1262.07 1332.93 Q1261.72 1331.91 1261.56 1330.89 Q1261.37 1329.87 1261.37 1328.86 Q1261.37 1323.07 1264.54 1319.69 Q1267.71 1316.31 1273.13 1316.31 Q1278.71 1316.31 1281.81 1319.78 Q1284.89 1323.25 1284.89 1329.57 Q1284.89 1331.75 1284.52 1334.02 Q1284.15 1336.26 1283.41 1338.67 L1278.71 1338.67 Q1279.84 1336.59 1280.4 1334.36 Q1280.96 1332.14 1280.96 1329.67 Q1280.96 1325.66 1278.85 1323.32 Q1276.74 1320.99 1273.13 1320.99 Q1269.52 1320.99 1267.41 1323.32 Q1265.31 1325.66 1265.31 1329.67 Q1265.31 1331.54 1265.72 1333.42 Q1266.14 1335.27 1267.02 1337.21 L1249.66 1337.21 Z\" fill=\"#000000\" fill-rule=\"evenodd\" fill-opacity=\"1\" /><path clip-path=\"url(#clip300)\" d=\"M1249.66 1312.3 L1249.66 1283.07 L1253.59 1283.07 L1253.59 1295.34 L1284.22 1295.34 L1284.22 1300.04 L1253.59 1300.04 L1253.59 1312.3 L1249.66 1312.3 Z\" fill=\"#000000\" fill-rule=\"evenodd\" fill-opacity=\"1\" /><path clip-path=\"url(#clip300)\" d=\"M1252.74 1268.14 Q1252.74 1271.75 1256.3 1273.58 Q1259.84 1275.38 1266.97 1275.38 Q1274.08 1275.38 1277.65 1273.58 Q1281.19 1271.75 1281.19 1268.14 Q1281.19 1264.5 1277.65 1262.7 Q1274.08 1260.87 1266.97 1260.87 Q1259.84 1260.87 1256.3 1262.7 Q1252.74 1264.5 1252.74 1268.14 M1249.03 1268.14 Q1249.03 1262.33 1253.64 1259.27 Q1258.22 1256.19 1266.97 1256.19 Q1275.7 1256.19 1280.31 1259.27 Q1284.89 1262.33 1284.89 1268.14 Q1284.89 1273.95 1280.31 1277.03 Q1275.7 1280.08 1266.97 1280.08 Q1258.22 1280.08 1253.64 1277.03 Q1249.03 1273.95 1249.03 1268.14 Z\" fill=\"#000000\" fill-rule=\"evenodd\" fill-opacity=\"1\" /><path clip-path=\"url(#clip300)\" d=\"M1252.74 1237.98 Q1252.74 1241.59 1256.3 1243.42 Q1259.84 1245.22 1266.97 1245.22 Q1274.08 1245.22 1277.65 1243.42 Q1281.19 1241.59 1281.19 1237.98 Q1281.19 1234.34 1277.65 1232.54 Q1274.08 1230.71 1266.97 1230.71 Q1259.84 1230.71 1256.3 1232.54 Q1252.74 1234.34 1252.74 1237.98 M1249.03 1237.98 Q1249.03 1232.17 1253.64 1229.11 Q1258.22 1226.03 1266.97 1226.03 Q1275.7 1226.03 1280.31 1229.11 Q1284.89 1232.17 1284.89 1237.98 Q1284.89 1243.79 1280.31 1246.87 Q1275.7 1249.92 1266.97 1249.92 Q1258.22 1249.92 1253.64 1246.87 Q1249.03 1243.79 1249.03 1237.98 Z\" fill=\"#000000\" fill-rule=\"evenodd\" fill-opacity=\"1\" /><path clip-path=\"url(#clip300)\" d=\"M1278.34 1217.33 L1278.34 1212.44 L1284.22 1212.44 L1284.22 1217.33 L1278.34 1217.33 M1259.71 1217.33 L1259.71 1212.44 L1265.59 1212.44 L1265.59 1217.33 L1259.71 1217.33 Z\" fill=\"#000000\" fill-rule=\"evenodd\" fill-opacity=\"1\" /><path clip-path=\"url(#clip300)\" d=\"M1252.74 1191.84 Q1252.74 1195.45 1256.3 1197.28 Q1259.84 1199.09 1266.97 1199.09 Q1274.08 1199.09 1277.65 1197.28 Q1281.19 1195.45 1281.19 1191.84 Q1281.19 1188.21 1277.65 1186.4 Q1274.08 1184.57 1266.97 1184.57 Q1259.84 1184.57 1256.3 1186.4 Q1252.74 1188.21 1252.74 1191.84 M1249.03 1191.84 Q1249.03 1186.03 1253.64 1182.98 Q1258.22 1179.9 1266.97 1179.9 Q1275.7 1179.9 1280.31 1182.98 Q1284.89 1186.03 1284.89 1191.84 Q1284.89 1197.65 1280.31 1200.73 Q1275.7 1203.79 1266.97 1203.79 Q1258.22 1203.79 1253.64 1200.73 Q1249.03 1197.65 1249.03 1191.84 Z\" fill=\"#000000\" fill-rule=\"evenodd\" fill-opacity=\"1\" /><path clip-path=\"url(#clip300)\" d=\"M1252.74 1161.68 Q1252.74 1165.29 1256.3 1167.12 Q1259.84 1168.93 1266.97 1168.93 Q1274.08 1168.93 1277.65 1167.12 Q1281.19 1165.29 1281.19 1161.68 Q1281.19 1158.05 1277.65 1156.24 Q1274.08 1154.41 1266.97 1154.41 Q1259.84 1154.41 1256.3 1156.24 Q1252.74 1158.05 1252.74 1161.68 M1249.03 1161.68 Q1249.03 1155.87 1253.64 1152.81 Q1258.22 1149.74 1266.97 1149.74 Q1275.7 1149.74 1280.31 1152.81 Q1284.89 1155.87 1284.89 1161.68 Q1284.89 1167.49 1280.31 1170.57 Q1275.7 1173.62 1266.97 1173.62 Q1258.22 1173.62 1253.64 1170.57 Q1249.03 1167.49 1249.03 1161.68 Z\" fill=\"#000000\" fill-rule=\"evenodd\" fill-opacity=\"1\" /><path clip-path=\"url(#clip300)\" d=\"M1278.34 1141.03 L1278.34 1136.15 L1284.22 1136.15 L1284.22 1141.03 L1278.34 1141.03 M1259.71 1141.03 L1259.71 1136.15 L1265.59 1136.15 L1265.59 1141.03 L1259.71 1141.03 Z\" fill=\"#000000\" fill-rule=\"evenodd\" fill-opacity=\"1\" /><path clip-path=\"url(#clip300)\" d=\"M1252.74 1115.55 Q1252.74 1119.16 1256.3 1120.99 Q1259.84 1122.79 1266.97 1122.79 Q1274.08 1122.79 1277.65 1120.99 Q1281.19 1119.16 1281.19 1115.55 Q1281.19 1111.91 1277.65 1110.11 Q1274.08 1108.28 1266.97 1108.28 Q1259.84 1108.28 1256.3 1110.11 Q1252.74 1111.91 1252.74 1115.55 M1249.03 1115.55 Q1249.03 1109.74 1253.64 1106.68 Q1258.22 1103.6 1266.97 1103.6 Q1275.7 1103.6 1280.31 1106.68 Q1284.89 1109.74 1284.89 1115.55 Q1284.89 1121.36 1280.31 1124.44 Q1275.7 1127.49 1266.97 1127.49 Q1258.22 1127.49 1253.64 1124.44 Q1249.03 1121.36 1249.03 1115.55 Z\" fill=\"#000000\" fill-rule=\"evenodd\" fill-opacity=\"1\" /><path clip-path=\"url(#clip300)\" d=\"M1252.74 1085.38 Q1252.74 1089 1256.3 1090.82 Q1259.84 1092.63 1266.97 1092.63 Q1274.08 1092.63 1277.65 1090.82 Q1281.19 1089 1281.19 1085.38 Q1281.19 1081.75 1277.65 1079.94 Q1274.08 1078.12 1266.97 1078.12 Q1259.84 1078.12 1256.3 1079.94 Q1252.74 1081.75 1252.74 1085.38 M1249.03 1085.38 Q1249.03 1079.57 1253.64 1076.52 Q1258.22 1073.44 1266.97 1073.44 Q1275.7 1073.44 1280.31 1076.52 Q1284.89 1079.57 1284.89 1085.38 Q1284.89 1091.19 1280.31 1094.27 Q1275.7 1097.33 1266.97 1097.33 Q1258.22 1097.33 1253.64 1094.27 Q1249.03 1091.19 1249.03 1085.38 Z\" fill=\"#000000\" fill-rule=\"evenodd\" fill-opacity=\"1\" /><path clip-path=\"url(#clip300)\" d=\"M1348.7 1578.58 L1348.7 1562.26 L1352.64 1562.26 L1352.64 1584.2 L1348.7 1584.2 Q1345.95 1581.54 1341.32 1576.96 Q1336.67 1572.35 1335.32 1571.17 Q1332.8 1568.92 1331.06 1568.04 Q1329.31 1567.14 1327.62 1567.14 Q1324.86 1567.14 1323.12 1569.09 Q1321.39 1571.01 1321.39 1574.11 Q1321.39 1576.31 1322.15 1578.76 Q1322.92 1581.19 1324.47 1583.97 L1319.75 1583.97 Q1318.61 1581.15 1318.03 1578.69 Q1317.45 1576.24 1317.45 1574.2 Q1317.45 1568.83 1320.14 1565.64 Q1322.82 1562.44 1327.31 1562.44 Q1329.44 1562.44 1331.37 1563.25 Q1333.26 1564.04 1335.86 1566.15 Q1336.53 1566.72 1339.75 1569.83 Q1342.94 1572.93 1348.7 1578.58 Z\" fill=\"#000000\" fill-rule=\"evenodd\" fill-opacity=\"1\" /><path clip-path=\"url(#clip300)\" d=\"M1321.16 1542.44 Q1321.16 1546.05 1324.72 1547.88 Q1328.26 1549.69 1335.39 1549.69 Q1342.5 1549.69 1346.06 1547.88 Q1349.61 1546.05 1349.61 1542.44 Q1349.61 1538.81 1346.06 1537 Q1342.5 1535.17 1335.39 1535.17 Q1328.26 1535.17 1324.72 1537 Q1321.16 1538.81 1321.16 1542.44 M1317.45 1542.44 Q1317.45 1536.63 1322.06 1533.58 Q1326.64 1530.5 1335.39 1530.5 Q1344.12 1530.5 1348.73 1533.58 Q1353.31 1536.63 1353.31 1542.44 Q1353.31 1548.25 1348.73 1551.33 Q1344.12 1554.39 1335.39 1554.39 Q1326.64 1554.39 1322.06 1551.33 Q1317.45 1548.25 1317.45 1542.44 Z\" fill=\"#000000\" fill-rule=\"evenodd\" fill-opacity=\"1\" /><path clip-path=\"url(#clip300)\" d=\"M1348.7 1518.25 L1348.7 1501.93 L1352.64 1501.93 L1352.64 1523.88 L1348.7 1523.88 Q1345.95 1521.22 1341.32 1516.63 Q1336.67 1512.03 1335.32 1510.85 Q1332.8 1508.6 1331.06 1507.72 Q1329.31 1506.82 1327.62 1506.82 Q1324.86 1506.82 1323.12 1508.76 Q1321.39 1510.68 1321.39 1513.79 Q1321.39 1515.98 1322.15 1518.44 Q1322.92 1520.87 1324.47 1523.65 L1319.75 1523.65 Q1318.61 1520.82 1318.03 1518.37 Q1317.45 1515.91 1317.45 1513.88 Q1317.45 1508.51 1320.14 1505.31 Q1322.82 1502.12 1327.31 1502.12 Q1329.44 1502.12 1331.37 1502.93 Q1333.26 1503.72 1335.86 1505.82 Q1336.53 1506.4 1339.75 1509.5 Q1342.94 1512.6 1348.7 1518.25 Z\" fill=\"#000000\" fill-rule=\"evenodd\" fill-opacity=\"1\" /><path clip-path=\"url(#clip300)\" d=\"M1321.16 1482.12 Q1321.16 1485.73 1324.72 1487.56 Q1328.26 1489.36 1335.39 1489.36 Q1342.5 1489.36 1346.06 1487.56 Q1349.61 1485.73 1349.61 1482.12 Q1349.61 1478.48 1346.06 1476.68 Q1342.5 1474.85 1335.39 1474.85 Q1328.26 1474.85 1324.72 1476.68 Q1321.16 1478.48 1321.16 1482.12 M1317.45 1482.12 Q1317.45 1476.31 1322.06 1473.25 Q1326.64 1470.17 1335.39 1470.17 Q1344.12 1470.17 1348.73 1473.25 Q1353.31 1476.31 1353.31 1482.12 Q1353.31 1487.93 1348.73 1491.01 Q1344.12 1494.06 1335.39 1494.06 Q1326.64 1494.06 1322.06 1491.01 Q1317.45 1487.93 1317.45 1482.12 Z\" fill=\"#000000\" fill-rule=\"evenodd\" fill-opacity=\"1\" /><path clip-path=\"url(#clip300)\" d=\"M1337.75 1464.71 L1337.75 1452.23 L1341.55 1452.23 L1341.55 1464.71 L1337.75 1464.71 Z\" fill=\"#000000\" fill-rule=\"evenodd\" fill-opacity=\"1\" /><path clip-path=\"url(#clip300)\" d=\"M1321.16 1434.85 Q1321.16 1438.46 1324.72 1440.29 Q1328.26 1442.1 1335.39 1442.1 Q1342.5 1442.1 1346.06 1440.29 Q1349.61 1438.46 1349.61 1434.85 Q1349.61 1431.22 1346.06 1429.41 Q1342.5 1427.58 1335.39 1427.58 Q1328.26 1427.58 1324.72 1429.41 Q1321.16 1431.22 1321.16 1434.85 M1317.45 1434.85 Q1317.45 1429.04 1322.06 1425.98 Q1326.64 1422.91 1335.39 1422.91 Q1344.12 1422.91 1348.73 1425.98 Q1353.31 1429.04 1353.31 1434.85 Q1353.31 1440.66 1348.73 1443.74 Q1344.12 1446.79 1335.39 1446.79 Q1326.64 1446.79 1322.06 1443.74 Q1317.45 1440.66 1317.45 1434.85 Z\" fill=\"#000000\" fill-rule=\"evenodd\" fill-opacity=\"1\" /><path clip-path=\"url(#clip300)\" d=\"M1333.5 1404.11 Q1333.5 1407.26 1335.65 1409.11 Q1337.8 1410.94 1341.55 1410.94 Q1345.28 1410.94 1347.45 1409.11 Q1349.61 1407.26 1349.61 1404.11 Q1349.61 1400.96 1347.45 1399.13 Q1345.28 1397.28 1341.55 1397.28 Q1337.8 1397.28 1335.65 1399.13 Q1333.5 1400.96 1333.5 1404.11 M1318.84 1394.83 L1323.1 1394.83 Q1322.27 1396.59 1321.83 1398.39 Q1321.39 1400.17 1321.39 1401.93 Q1321.39 1406.56 1324.51 1409.02 Q1327.64 1411.45 1333.96 1411.79 Q1331.94 1410.43 1330.88 1408.37 Q1329.79 1406.31 1329.79 1403.83 Q1329.79 1398.62 1332.96 1395.61 Q1336.11 1392.58 1341.55 1392.58 Q1346.87 1392.58 1350.09 1395.73 Q1353.31 1398.88 1353.31 1404.11 Q1353.31 1410.11 1348.73 1413.28 Q1344.12 1416.45 1335.39 1416.45 Q1327.2 1416.45 1322.34 1412.56 Q1317.45 1408.67 1317.45 1402.12 Q1317.45 1400.36 1317.8 1398.58 Q1318.15 1396.77 1318.84 1394.83 Z\" fill=\"#000000\" fill-rule=\"evenodd\" fill-opacity=\"1\" /><path clip-path=\"url(#clip300)\" d=\"M1337.75 1387.28 L1337.75 1374.8 L1341.55 1374.8 L1341.55 1387.28 L1337.75 1387.28 Z\" fill=\"#000000\" fill-rule=\"evenodd\" fill-opacity=\"1\" /><path clip-path=\"url(#clip300)\" d=\"M1348.7 1366.61 L1348.7 1358.97 L1322.34 1358.97 L1324 1367.28 L1319.75 1367.28 L1318.08 1359.02 L1318.08 1354.34 L1348.7 1354.34 L1348.7 1346.7 L1352.64 1346.7 L1352.64 1366.61 L1348.7 1366.61 Z\" fill=\"#000000\" fill-rule=\"evenodd\" fill-opacity=\"1\" /><path clip-path=\"url(#clip300)\" d=\"M1333.5 1326.68 Q1333.5 1329.83 1335.65 1331.68 Q1337.8 1333.51 1341.55 1333.51 Q1345.28 1333.51 1347.45 1331.68 Q1349.61 1329.83 1349.61 1326.68 Q1349.61 1323.53 1347.45 1321.7 Q1345.28 1319.85 1341.55 1319.85 Q1337.8 1319.85 1335.65 1321.7 Q1333.5 1323.53 1333.5 1326.68 M1318.84 1317.4 L1323.1 1317.4 Q1322.27 1319.16 1321.83 1320.96 Q1321.39 1322.74 1321.39 1324.5 Q1321.39 1329.13 1324.51 1331.59 Q1327.64 1334.02 1333.96 1334.36 Q1331.94 1333 1330.88 1330.94 Q1329.79 1328.88 1329.79 1326.4 Q1329.79 1321.19 1332.96 1318.18 Q1336.11 1315.15 1341.55 1315.15 Q1346.87 1315.15 1350.09 1318.3 Q1353.31 1321.45 1353.31 1326.68 Q1353.31 1332.68 1348.73 1335.85 Q1344.12 1339.02 1335.39 1339.02 Q1327.2 1339.02 1322.34 1335.13 Q1317.45 1331.24 1317.45 1324.69 Q1317.45 1322.93 1317.8 1321.15 Q1318.15 1319.34 1318.84 1317.4 Z\" fill=\"#000000\" fill-rule=\"evenodd\" fill-opacity=\"1\" /><path clip-path=\"url(#clip300)\" d=\"M1318.08 1312.3 L1318.08 1283.07 L1322.01 1283.07 L1322.01 1295.34 L1352.64 1295.34 L1352.64 1300.04 L1322.01 1300.04 L1322.01 1312.3 L1318.08 1312.3 Z\" fill=\"#000000\" fill-rule=\"evenodd\" fill-opacity=\"1\" /><path clip-path=\"url(#clip300)\" d=\"M1321.16 1268.14 Q1321.16 1271.75 1324.72 1273.58 Q1328.26 1275.38 1335.39 1275.38 Q1342.5 1275.38 1346.06 1273.58 Q1349.61 1271.75 1349.61 1268.14 Q1349.61 1264.5 1346.06 1262.7 Q1342.5 1260.87 1335.39 1260.87 Q1328.26 1260.87 1324.72 1262.7 Q1321.16 1264.5 1321.16 1268.14 M1317.45 1268.14 Q1317.45 1262.33 1322.06 1259.27 Q1326.64 1256.19 1335.39 1256.19 Q1344.12 1256.19 1348.73 1259.27 Q1353.31 1262.33 1353.31 1268.14 Q1353.31 1273.95 1348.73 1277.03 Q1344.12 1280.08 1335.39 1280.08 Q1326.64 1280.08 1322.06 1277.03 Q1317.45 1273.95 1317.45 1268.14 Z\" fill=\"#000000\" fill-rule=\"evenodd\" fill-opacity=\"1\" /><path clip-path=\"url(#clip300)\" d=\"M1321.16 1237.98 Q1321.16 1241.59 1324.72 1243.42 Q1328.26 1245.22 1335.39 1245.22 Q1342.5 1245.22 1346.06 1243.42 Q1349.61 1241.59 1349.61 1237.98 Q1349.61 1234.34 1346.06 1232.54 Q1342.5 1230.71 1335.39 1230.71 Q1328.26 1230.71 1324.72 1232.54 Q1321.16 1234.34 1321.16 1237.98 M1317.45 1237.98 Q1317.45 1232.17 1322.06 1229.11 Q1326.64 1226.03 1335.39 1226.03 Q1344.12 1226.03 1348.73 1229.11 Q1353.31 1232.17 1353.31 1237.98 Q1353.31 1243.79 1348.73 1246.87 Q1344.12 1249.92 1335.39 1249.92 Q1326.64 1249.92 1322.06 1246.87 Q1317.45 1243.79 1317.45 1237.98 Z\" fill=\"#000000\" fill-rule=\"evenodd\" fill-opacity=\"1\" /><path clip-path=\"url(#clip300)\" d=\"M1346.76 1217.33 L1346.76 1212.44 L1352.64 1212.44 L1352.64 1217.33 L1346.76 1217.33 M1328.12 1217.33 L1328.12 1212.44 L1334 1212.44 L1334 1217.33 L1328.12 1217.33 Z\" fill=\"#000000\" fill-rule=\"evenodd\" fill-opacity=\"1\" /><path clip-path=\"url(#clip300)\" d=\"M1321.16 1191.84 Q1321.16 1195.45 1324.72 1197.28 Q1328.26 1199.09 1335.39 1199.09 Q1342.5 1199.09 1346.06 1197.28 Q1349.61 1195.45 1349.61 1191.84 Q1349.61 1188.21 1346.06 1186.4 Q1342.5 1184.57 1335.39 1184.57 Q1328.26 1184.57 1324.72 1186.4 Q1321.16 1188.21 1321.16 1191.84 M1317.45 1191.84 Q1317.45 1186.03 1322.06 1182.98 Q1326.64 1179.9 1335.39 1179.9 Q1344.12 1179.9 1348.73 1182.98 Q1353.31 1186.03 1353.31 1191.84 Q1353.31 1197.65 1348.73 1200.73 Q1344.12 1203.79 1335.39 1203.79 Q1326.64 1203.79 1322.06 1200.73 Q1317.45 1197.65 1317.45 1191.84 Z\" fill=\"#000000\" fill-rule=\"evenodd\" fill-opacity=\"1\" /><path clip-path=\"url(#clip300)\" d=\"M1321.16 1161.68 Q1321.16 1165.29 1324.72 1167.12 Q1328.26 1168.93 1335.39 1168.93 Q1342.5 1168.93 1346.06 1167.12 Q1349.61 1165.29 1349.61 1161.68 Q1349.61 1158.05 1346.06 1156.24 Q1342.5 1154.41 1335.39 1154.41 Q1328.26 1154.41 1324.72 1156.24 Q1321.16 1158.05 1321.16 1161.68 M1317.45 1161.68 Q1317.45 1155.87 1322.06 1152.81 Q1326.64 1149.74 1335.39 1149.74 Q1344.12 1149.74 1348.73 1152.81 Q1353.31 1155.87 1353.31 1161.68 Q1353.31 1167.49 1348.73 1170.57 Q1344.12 1173.62 1335.39 1173.62 Q1326.64 1173.62 1322.06 1170.57 Q1317.45 1167.49 1317.45 1161.68 Z\" fill=\"#000000\" fill-rule=\"evenodd\" fill-opacity=\"1\" /><path clip-path=\"url(#clip300)\" d=\"M1346.76 1141.03 L1346.76 1136.15 L1352.64 1136.15 L1352.64 1141.03 L1346.76 1141.03 M1328.12 1141.03 L1328.12 1136.15 L1334 1136.15 L1334 1141.03 L1328.12 1141.03 Z\" fill=\"#000000\" fill-rule=\"evenodd\" fill-opacity=\"1\" /><path clip-path=\"url(#clip300)\" d=\"M1321.16 1115.55 Q1321.16 1119.16 1324.72 1120.99 Q1328.26 1122.79 1335.39 1122.79 Q1342.5 1122.79 1346.06 1120.99 Q1349.61 1119.16 1349.61 1115.55 Q1349.61 1111.91 1346.06 1110.11 Q1342.5 1108.28 1335.39 1108.28 Q1328.26 1108.28 1324.72 1110.11 Q1321.16 1111.91 1321.16 1115.55 M1317.45 1115.55 Q1317.45 1109.74 1322.06 1106.68 Q1326.64 1103.6 1335.39 1103.6 Q1344.12 1103.6 1348.73 1106.68 Q1353.31 1109.74 1353.31 1115.55 Q1353.31 1121.36 1348.73 1124.44 Q1344.12 1127.49 1335.39 1127.49 Q1326.64 1127.49 1322.06 1124.44 Q1317.45 1121.36 1317.45 1115.55 Z\" fill=\"#000000\" fill-rule=\"evenodd\" fill-opacity=\"1\" /><path clip-path=\"url(#clip300)\" d=\"M1321.16 1085.38 Q1321.16 1089 1324.72 1090.82 Q1328.26 1092.63 1335.39 1092.63 Q1342.5 1092.63 1346.06 1090.82 Q1349.61 1089 1349.61 1085.38 Q1349.61 1081.75 1346.06 1079.94 Q1342.5 1078.12 1335.39 1078.12 Q1328.26 1078.12 1324.72 1079.94 Q1321.16 1081.75 1321.16 1085.38 M1317.45 1085.38 Q1317.45 1079.57 1322.06 1076.52 Q1326.64 1073.44 1335.39 1073.44 Q1344.12 1073.44 1348.73 1076.52 Q1353.31 1079.57 1353.31 1085.38 Q1353.31 1091.19 1348.73 1094.27 Q1344.12 1097.33 1335.39 1097.33 Q1326.64 1097.33 1322.06 1094.27 Q1317.45 1091.19 1317.45 1085.38 Z\" fill=\"#000000\" fill-rule=\"evenodd\" fill-opacity=\"1\" /><path clip-path=\"url(#clip300)\" d=\"M1417.12 1578.58 L1417.12 1562.26 L1421.06 1562.26 L1421.06 1584.2 L1417.12 1584.2 Q1414.37 1581.54 1409.74 1576.96 Q1405.09 1572.35 1403.74 1571.17 Q1401.22 1568.92 1399.48 1568.04 Q1397.72 1567.14 1396.04 1567.14 Q1393.28 1567.14 1391.54 1569.09 Q1389.81 1571.01 1389.81 1574.11 Q1389.81 1576.31 1390.57 1578.76 Q1391.34 1581.19 1392.89 1583.97 L1388.16 1583.97 Q1387.03 1581.15 1386.45 1578.69 Q1385.87 1576.24 1385.87 1574.2 Q1385.87 1568.83 1388.56 1565.64 Q1391.24 1562.44 1395.73 1562.44 Q1397.86 1562.44 1399.79 1563.25 Q1401.68 1564.04 1404.28 1566.15 Q1404.95 1566.72 1408.16 1569.83 Q1411.36 1572.93 1417.12 1578.58 Z\" fill=\"#000000\" fill-rule=\"evenodd\" fill-opacity=\"1\" /><path clip-path=\"url(#clip300)\" d=\"M1389.58 1542.44 Q1389.58 1546.05 1393.14 1547.88 Q1396.68 1549.69 1403.81 1549.69 Q1410.92 1549.69 1414.48 1547.88 Q1418.03 1546.05 1418.03 1542.44 Q1418.03 1538.81 1414.48 1537 Q1410.92 1535.17 1403.81 1535.17 Q1396.68 1535.17 1393.14 1537 Q1389.58 1538.81 1389.58 1542.44 M1385.87 1542.44 Q1385.87 1536.63 1390.48 1533.58 Q1395.06 1530.5 1403.81 1530.5 Q1412.54 1530.5 1417.15 1533.58 Q1421.73 1536.63 1421.73 1542.44 Q1421.73 1548.25 1417.15 1551.33 Q1412.54 1554.39 1403.81 1554.39 Q1395.06 1554.39 1390.48 1551.33 Q1385.87 1548.25 1385.87 1542.44 Z\" fill=\"#000000\" fill-rule=\"evenodd\" fill-opacity=\"1\" /><path clip-path=\"url(#clip300)\" d=\"M1417.12 1518.25 L1417.12 1501.93 L1421.06 1501.93 L1421.06 1523.88 L1417.12 1523.88 Q1414.37 1521.22 1409.74 1516.63 Q1405.09 1512.03 1403.74 1510.85 Q1401.22 1508.6 1399.48 1507.72 Q1397.72 1506.82 1396.04 1506.82 Q1393.28 1506.82 1391.54 1508.76 Q1389.81 1510.68 1389.81 1513.79 Q1389.81 1515.98 1390.57 1518.44 Q1391.34 1520.87 1392.89 1523.65 L1388.16 1523.65 Q1387.03 1520.82 1386.45 1518.37 Q1385.87 1515.91 1385.87 1513.88 Q1385.87 1508.51 1388.56 1505.31 Q1391.24 1502.12 1395.73 1502.12 Q1397.86 1502.12 1399.79 1502.93 Q1401.68 1503.72 1404.28 1505.82 Q1404.95 1506.4 1408.16 1509.5 Q1411.36 1512.6 1417.12 1518.25 Z\" fill=\"#000000\" fill-rule=\"evenodd\" fill-opacity=\"1\" /><path clip-path=\"url(#clip300)\" d=\"M1389.58 1482.12 Q1389.58 1485.73 1393.14 1487.56 Q1396.68 1489.36 1403.81 1489.36 Q1410.92 1489.36 1414.48 1487.56 Q1418.03 1485.73 1418.03 1482.12 Q1418.03 1478.48 1414.48 1476.68 Q1410.92 1474.85 1403.81 1474.85 Q1396.68 1474.85 1393.14 1476.68 Q1389.58 1478.48 1389.58 1482.12 M1385.87 1482.12 Q1385.87 1476.31 1390.48 1473.25 Q1395.06 1470.17 1403.81 1470.17 Q1412.54 1470.17 1417.15 1473.25 Q1421.73 1476.31 1421.73 1482.12 Q1421.73 1487.93 1417.15 1491.01 Q1412.54 1494.06 1403.81 1494.06 Q1395.06 1494.06 1390.48 1491.01 Q1385.87 1487.93 1385.87 1482.12 Z\" fill=\"#000000\" fill-rule=\"evenodd\" fill-opacity=\"1\" /><path clip-path=\"url(#clip300)\" d=\"M1406.17 1464.71 L1406.17 1452.23 L1409.97 1452.23 L1409.97 1464.71 L1406.17 1464.71 Z\" fill=\"#000000\" fill-rule=\"evenodd\" fill-opacity=\"1\" /><path clip-path=\"url(#clip300)\" d=\"M1389.58 1434.85 Q1389.58 1438.46 1393.14 1440.29 Q1396.68 1442.1 1403.81 1442.1 Q1410.92 1442.1 1414.48 1440.29 Q1418.03 1438.46 1418.03 1434.85 Q1418.03 1431.22 1414.48 1429.41 Q1410.92 1427.58 1403.81 1427.58 Q1396.68 1427.58 1393.14 1429.41 Q1389.58 1431.22 1389.58 1434.85 M1385.87 1434.85 Q1385.87 1429.04 1390.48 1425.98 Q1395.06 1422.91 1403.81 1422.91 Q1412.54 1422.91 1417.15 1425.98 Q1421.73 1429.04 1421.73 1434.85 Q1421.73 1440.66 1417.15 1443.74 Q1412.54 1446.79 1403.81 1446.79 Q1395.06 1446.79 1390.48 1443.74 Q1385.87 1440.66 1385.87 1434.85 Z\" fill=\"#000000\" fill-rule=\"evenodd\" fill-opacity=\"1\" /><path clip-path=\"url(#clip300)\" d=\"M1401.91 1404.11 Q1401.91 1407.26 1404.07 1409.11 Q1406.22 1410.94 1409.97 1410.94 Q1413.7 1410.94 1415.87 1409.11 Q1418.03 1407.26 1418.03 1404.11 Q1418.03 1400.96 1415.87 1399.13 Q1413.7 1397.28 1409.97 1397.28 Q1406.22 1397.28 1404.07 1399.13 Q1401.91 1400.96 1401.91 1404.11 M1387.26 1394.83 L1391.52 1394.83 Q1390.69 1396.59 1390.25 1398.39 Q1389.81 1400.17 1389.81 1401.93 Q1389.81 1406.56 1392.93 1409.02 Q1396.06 1411.45 1402.38 1411.79 Q1400.36 1410.43 1399.3 1408.37 Q1398.21 1406.31 1398.21 1403.83 Q1398.21 1398.62 1401.38 1395.61 Q1404.53 1392.58 1409.97 1392.58 Q1415.29 1392.58 1418.51 1395.73 Q1421.73 1398.88 1421.73 1404.11 Q1421.73 1410.11 1417.15 1413.28 Q1412.54 1416.45 1403.81 1416.45 Q1395.62 1416.45 1390.76 1412.56 Q1385.87 1408.67 1385.87 1402.12 Q1385.87 1400.36 1386.22 1398.58 Q1386.57 1396.77 1387.26 1394.83 Z\" fill=\"#000000\" fill-rule=\"evenodd\" fill-opacity=\"1\" /><path clip-path=\"url(#clip300)\" d=\"M1406.17 1387.28 L1406.17 1374.8 L1409.97 1374.8 L1409.97 1387.28 L1406.17 1387.28 Z\" fill=\"#000000\" fill-rule=\"evenodd\" fill-opacity=\"1\" /><path clip-path=\"url(#clip300)\" d=\"M1417.12 1366.61 L1417.12 1358.97 L1390.76 1358.97 L1392.42 1367.28 L1388.16 1367.28 L1386.5 1359.02 L1386.5 1354.34 L1417.12 1354.34 L1417.12 1346.7 L1421.06 1346.7 L1421.06 1366.61 L1417.12 1366.61 Z\" fill=\"#000000\" fill-rule=\"evenodd\" fill-opacity=\"1\" /><path clip-path=\"url(#clip300)\" d=\"M1386.5 1338.44 L1386.5 1316.22 L1388.49 1316.22 L1421.06 1328.76 L1421.06 1333.65 L1390.43 1321.84 L1390.43 1338.44 L1386.5 1338.44 Z\" fill=\"#000000\" fill-rule=\"evenodd\" fill-opacity=\"1\" /><path clip-path=\"url(#clip300)\" d=\"M1386.5 1312.3 L1386.5 1283.07 L1390.43 1283.07 L1390.43 1295.34 L1421.06 1295.34 L1421.06 1300.04 L1390.43 1300.04 L1390.43 1312.3 L1386.5 1312.3 Z\" fill=\"#000000\" fill-rule=\"evenodd\" fill-opacity=\"1\" /><path clip-path=\"url(#clip300)\" d=\"M1389.58 1268.14 Q1389.58 1271.75 1393.14 1273.58 Q1396.68 1275.38 1403.81 1275.38 Q1410.92 1275.38 1414.48 1273.58 Q1418.03 1271.75 1418.03 1268.14 Q1418.03 1264.5 1414.48 1262.7 Q1410.92 1260.87 1403.81 1260.87 Q1396.68 1260.87 1393.14 1262.7 Q1389.58 1264.5 1389.58 1268.14 M1385.87 1268.14 Q1385.87 1262.33 1390.48 1259.27 Q1395.06 1256.19 1403.81 1256.19 Q1412.54 1256.19 1417.15 1259.27 Q1421.73 1262.33 1421.73 1268.14 Q1421.73 1273.95 1417.15 1277.03 Q1412.54 1280.08 1403.81 1280.08 Q1395.06 1280.08 1390.48 1277.03 Q1385.87 1273.95 1385.87 1268.14 Z\" fill=\"#000000\" fill-rule=\"evenodd\" fill-opacity=\"1\" /><path clip-path=\"url(#clip300)\" d=\"M1389.58 1237.98 Q1389.58 1241.59 1393.14 1243.42 Q1396.68 1245.22 1403.81 1245.22 Q1410.92 1245.22 1414.48 1243.42 Q1418.03 1241.59 1418.03 1237.98 Q1418.03 1234.34 1414.48 1232.54 Q1410.92 1230.71 1403.81 1230.71 Q1396.68 1230.71 1393.14 1232.54 Q1389.58 1234.34 1389.58 1237.98 M1385.87 1237.98 Q1385.87 1232.17 1390.48 1229.11 Q1395.06 1226.03 1403.81 1226.03 Q1412.54 1226.03 1417.15 1229.11 Q1421.73 1232.17 1421.73 1237.98 Q1421.73 1243.79 1417.15 1246.87 Q1412.54 1249.92 1403.81 1249.92 Q1395.06 1249.92 1390.48 1246.87 Q1385.87 1243.79 1385.87 1237.98 Z\" fill=\"#000000\" fill-rule=\"evenodd\" fill-opacity=\"1\" /><path clip-path=\"url(#clip300)\" d=\"M1415.18 1217.33 L1415.18 1212.44 L1421.06 1212.44 L1421.06 1217.33 L1415.18 1217.33 M1396.54 1217.33 L1396.54 1212.44 L1402.42 1212.44 L1402.42 1217.33 L1396.54 1217.33 Z\" fill=\"#000000\" fill-rule=\"evenodd\" fill-opacity=\"1\" /><path clip-path=\"url(#clip300)\" d=\"M1389.58 1191.84 Q1389.58 1195.45 1393.14 1197.28 Q1396.68 1199.09 1403.81 1199.09 Q1410.92 1199.09 1414.48 1197.28 Q1418.03 1195.45 1418.03 1191.84 Q1418.03 1188.21 1414.48 1186.4 Q1410.92 1184.57 1403.81 1184.57 Q1396.68 1184.57 1393.14 1186.4 Q1389.58 1188.21 1389.58 1191.84 M1385.87 1191.84 Q1385.87 1186.03 1390.48 1182.98 Q1395.06 1179.9 1403.81 1179.9 Q1412.54 1179.9 1417.15 1182.98 Q1421.73 1186.03 1421.73 1191.84 Q1421.73 1197.65 1417.15 1200.73 Q1412.54 1203.79 1403.81 1203.79 Q1395.06 1203.79 1390.48 1200.73 Q1385.87 1197.65 1385.87 1191.84 Z\" fill=\"#000000\" fill-rule=\"evenodd\" fill-opacity=\"1\" /><path clip-path=\"url(#clip300)\" d=\"M1389.58 1161.68 Q1389.58 1165.29 1393.14 1167.12 Q1396.68 1168.93 1403.81 1168.93 Q1410.92 1168.93 1414.48 1167.12 Q1418.03 1165.29 1418.03 1161.68 Q1418.03 1158.05 1414.48 1156.24 Q1410.92 1154.41 1403.81 1154.41 Q1396.68 1154.41 1393.14 1156.24 Q1389.58 1158.05 1389.58 1161.68 M1385.87 1161.68 Q1385.87 1155.87 1390.48 1152.81 Q1395.06 1149.74 1403.81 1149.74 Q1412.54 1149.74 1417.15 1152.81 Q1421.73 1155.87 1421.73 1161.68 Q1421.73 1167.49 1417.15 1170.57 Q1412.54 1173.62 1403.81 1173.62 Q1395.06 1173.62 1390.48 1170.57 Q1385.87 1167.49 1385.87 1161.68 Z\" fill=\"#000000\" fill-rule=\"evenodd\" fill-opacity=\"1\" /><path clip-path=\"url(#clip300)\" d=\"M1415.18 1141.03 L1415.18 1136.15 L1421.06 1136.15 L1421.06 1141.03 L1415.18 1141.03 M1396.54 1141.03 L1396.54 1136.15 L1402.42 1136.15 L1402.42 1141.03 L1396.54 1141.03 Z\" fill=\"#000000\" fill-rule=\"evenodd\" fill-opacity=\"1\" /><path clip-path=\"url(#clip300)\" d=\"M1389.58 1115.55 Q1389.58 1119.16 1393.14 1120.99 Q1396.68 1122.79 1403.81 1122.79 Q1410.92 1122.79 1414.48 1120.99 Q1418.03 1119.16 1418.03 1115.55 Q1418.03 1111.91 1414.48 1110.11 Q1410.92 1108.28 1403.81 1108.28 Q1396.68 1108.28 1393.14 1110.11 Q1389.58 1111.91 1389.58 1115.55 M1385.87 1115.55 Q1385.87 1109.74 1390.48 1106.68 Q1395.06 1103.6 1403.81 1103.6 Q1412.54 1103.6 1417.15 1106.68 Q1421.73 1109.74 1421.73 1115.55 Q1421.73 1121.36 1417.15 1124.44 Q1412.54 1127.49 1403.81 1127.49 Q1395.06 1127.49 1390.48 1124.44 Q1385.87 1121.36 1385.87 1115.55 Z\" fill=\"#000000\" fill-rule=\"evenodd\" fill-opacity=\"1\" /><path clip-path=\"url(#clip300)\" d=\"M1389.58 1085.38 Q1389.58 1089 1393.14 1090.82 Q1396.68 1092.63 1403.81 1092.63 Q1410.92 1092.63 1414.48 1090.82 Q1418.03 1089 1418.03 1085.38 Q1418.03 1081.75 1414.48 1079.94 Q1410.92 1078.12 1403.81 1078.12 Q1396.68 1078.12 1393.14 1079.94 Q1389.58 1081.75 1389.58 1085.38 M1385.87 1085.38 Q1385.87 1079.57 1390.48 1076.52 Q1395.06 1073.44 1403.81 1073.44 Q1412.54 1073.44 1417.15 1076.52 Q1421.73 1079.57 1421.73 1085.38 Q1421.73 1091.19 1417.15 1094.27 Q1412.54 1097.33 1403.81 1097.33 Q1395.06 1097.33 1390.48 1094.27 Q1385.87 1091.19 1385.87 1085.38 Z\" fill=\"#000000\" fill-rule=\"evenodd\" fill-opacity=\"1\" /><path clip-path=\"url(#clip300)\" d=\"M1485.54 1578.58 L1485.54 1562.26 L1489.48 1562.26 L1489.48 1584.2 L1485.54 1584.2 Q1482.79 1581.54 1478.16 1576.96 Q1473.51 1572.35 1472.16 1571.17 Q1469.64 1568.92 1467.9 1568.04 Q1466.14 1567.14 1464.45 1567.14 Q1461.7 1567.14 1459.96 1569.09 Q1458.23 1571.01 1458.23 1574.11 Q1458.23 1576.31 1458.99 1578.76 Q1459.76 1581.19 1461.31 1583.97 L1456.58 1583.97 Q1455.45 1581.15 1454.87 1578.69 Q1454.29 1576.24 1454.29 1574.2 Q1454.29 1568.83 1456.98 1565.64 Q1459.66 1562.44 1464.15 1562.44 Q1466.28 1562.44 1468.2 1563.25 Q1470.1 1564.04 1472.7 1566.15 Q1473.37 1566.72 1476.58 1569.83 Q1479.78 1572.93 1485.54 1578.58 Z\" fill=\"#000000\" fill-rule=\"evenodd\" fill-opacity=\"1\" /><path clip-path=\"url(#clip300)\" d=\"M1458 1542.44 Q1458 1546.05 1461.56 1547.88 Q1465.1 1549.69 1472.23 1549.69 Q1479.34 1549.69 1482.9 1547.88 Q1486.45 1546.05 1486.45 1542.44 Q1486.45 1538.81 1482.9 1537 Q1479.34 1535.17 1472.23 1535.17 Q1465.1 1535.17 1461.56 1537 Q1458 1538.81 1458 1542.44 M1454.29 1542.44 Q1454.29 1536.63 1458.9 1533.58 Q1463.48 1530.5 1472.23 1530.5 Q1480.96 1530.5 1485.57 1533.58 Q1490.15 1536.63 1490.15 1542.44 Q1490.15 1548.25 1485.57 1551.33 Q1480.96 1554.39 1472.23 1554.39 Q1463.48 1554.39 1458.9 1551.33 Q1454.29 1548.25 1454.29 1542.44 Z\" fill=\"#000000\" fill-rule=\"evenodd\" fill-opacity=\"1\" /><path clip-path=\"url(#clip300)\" d=\"M1485.54 1518.25 L1485.54 1501.93 L1489.48 1501.93 L1489.48 1523.88 L1485.54 1523.88 Q1482.79 1521.22 1478.16 1516.63 Q1473.51 1512.03 1472.16 1510.85 Q1469.64 1508.6 1467.9 1507.72 Q1466.14 1506.82 1464.45 1506.82 Q1461.7 1506.82 1459.96 1508.76 Q1458.23 1510.68 1458.23 1513.79 Q1458.23 1515.98 1458.99 1518.44 Q1459.76 1520.87 1461.31 1523.65 L1456.58 1523.65 Q1455.45 1520.82 1454.87 1518.37 Q1454.29 1515.91 1454.29 1513.88 Q1454.29 1508.51 1456.98 1505.31 Q1459.66 1502.12 1464.15 1502.12 Q1466.28 1502.12 1468.2 1502.93 Q1470.1 1503.72 1472.7 1505.82 Q1473.37 1506.4 1476.58 1509.5 Q1479.78 1512.6 1485.54 1518.25 Z\" fill=\"#000000\" fill-rule=\"evenodd\" fill-opacity=\"1\" /><path clip-path=\"url(#clip300)\" d=\"M1458 1482.12 Q1458 1485.73 1461.56 1487.56 Q1465.1 1489.36 1472.23 1489.36 Q1479.34 1489.36 1482.9 1487.56 Q1486.45 1485.73 1486.45 1482.12 Q1486.45 1478.48 1482.9 1476.68 Q1479.34 1474.85 1472.23 1474.85 Q1465.1 1474.85 1461.56 1476.68 Q1458 1478.48 1458 1482.12 M1454.29 1482.12 Q1454.29 1476.31 1458.9 1473.25 Q1463.48 1470.17 1472.23 1470.17 Q1480.96 1470.17 1485.57 1473.25 Q1490.15 1476.31 1490.15 1482.12 Q1490.15 1487.93 1485.57 1491.01 Q1480.96 1494.06 1472.23 1494.06 Q1463.48 1494.06 1458.9 1491.01 Q1454.29 1487.93 1454.29 1482.12 Z\" fill=\"#000000\" fill-rule=\"evenodd\" fill-opacity=\"1\" /><path clip-path=\"url(#clip300)\" d=\"M1474.59 1464.71 L1474.59 1452.23 L1478.39 1452.23 L1478.39 1464.71 L1474.59 1464.71 Z\" fill=\"#000000\" fill-rule=\"evenodd\" fill-opacity=\"1\" /><path clip-path=\"url(#clip300)\" d=\"M1458 1434.85 Q1458 1438.46 1461.56 1440.29 Q1465.1 1442.1 1472.23 1442.1 Q1479.34 1442.1 1482.9 1440.29 Q1486.45 1438.46 1486.45 1434.85 Q1486.45 1431.22 1482.9 1429.41 Q1479.34 1427.58 1472.23 1427.58 Q1465.1 1427.58 1461.56 1429.41 Q1458 1431.22 1458 1434.85 M1454.29 1434.85 Q1454.29 1429.04 1458.9 1425.98 Q1463.48 1422.91 1472.23 1422.91 Q1480.96 1422.91 1485.57 1425.98 Q1490.15 1429.04 1490.15 1434.85 Q1490.15 1440.66 1485.57 1443.74 Q1480.96 1446.79 1472.23 1446.79 Q1463.48 1446.79 1458.9 1443.74 Q1454.29 1440.66 1454.29 1434.85 Z\" fill=\"#000000\" fill-rule=\"evenodd\" fill-opacity=\"1\" /><path clip-path=\"url(#clip300)\" d=\"M1470.33 1404.11 Q1470.33 1407.26 1472.49 1409.11 Q1474.64 1410.94 1478.39 1410.94 Q1482.12 1410.94 1484.29 1409.11 Q1486.45 1407.26 1486.45 1404.11 Q1486.45 1400.96 1484.29 1399.13 Q1482.12 1397.28 1478.39 1397.28 Q1474.64 1397.28 1472.49 1399.13 Q1470.33 1400.96 1470.33 1404.11 M1455.68 1394.83 L1459.94 1394.83 Q1459.11 1396.59 1458.67 1398.39 Q1458.23 1400.17 1458.23 1401.93 Q1458.23 1406.56 1461.35 1409.02 Q1464.48 1411.45 1470.8 1411.79 Q1468.78 1410.43 1467.72 1408.37 Q1466.63 1406.31 1466.63 1403.83 Q1466.63 1398.62 1469.8 1395.61 Q1472.95 1392.58 1478.39 1392.58 Q1483.71 1392.58 1486.93 1395.73 Q1490.15 1398.88 1490.15 1404.11 Q1490.15 1410.11 1485.57 1413.28 Q1480.96 1416.45 1472.23 1416.45 Q1464.04 1416.45 1459.18 1412.56 Q1454.29 1408.67 1454.29 1402.12 Q1454.29 1400.36 1454.64 1398.58 Q1454.99 1396.77 1455.68 1394.83 Z\" fill=\"#000000\" fill-rule=\"evenodd\" fill-opacity=\"1\" /><path clip-path=\"url(#clip300)\" d=\"M1474.59 1387.28 L1474.59 1374.8 L1478.39 1374.8 L1478.39 1387.28 L1474.59 1387.28 Z\" fill=\"#000000\" fill-rule=\"evenodd\" fill-opacity=\"1\" /><path clip-path=\"url(#clip300)\" d=\"M1485.54 1366.61 L1485.54 1358.97 L1459.18 1358.97 L1460.84 1367.28 L1456.58 1367.28 L1454.92 1359.02 L1454.92 1354.34 L1485.54 1354.34 L1485.54 1346.7 L1489.48 1346.7 L1489.48 1366.61 L1485.54 1366.61 Z\" fill=\"#000000\" fill-rule=\"evenodd\" fill-opacity=\"1\" /><path clip-path=\"url(#clip300)\" d=\"M1473.07 1327.26 Q1473.07 1330.59 1474.85 1332.51 Q1476.63 1334.41 1479.76 1334.41 Q1482.88 1334.41 1484.66 1332.51 Q1486.45 1330.59 1486.45 1327.26 Q1486.45 1323.93 1484.66 1322 Q1482.86 1320.08 1479.76 1320.08 Q1476.63 1320.08 1474.85 1322 Q1473.07 1323.9 1473.07 1327.26 M1471.07 1331.93 Q1470.33 1334.94 1468.27 1336.63 Q1466.21 1338.3 1463.25 1338.3 Q1459.11 1338.3 1456.7 1335.36 Q1454.29 1332.4 1454.29 1327.26 Q1454.29 1322.1 1456.7 1319.16 Q1459.11 1316.22 1463.25 1316.22 Q1466.21 1316.22 1468.27 1317.91 Q1470.33 1319.57 1471.07 1322.56 Q1471.86 1319.18 1474.15 1317.3 Q1476.45 1315.41 1479.76 1315.41 Q1484.78 1315.41 1487.46 1318.49 Q1490.15 1321.54 1490.15 1327.26 Q1490.15 1332.98 1487.46 1336.05 Q1484.78 1339.11 1479.76 1339.11 Q1476.45 1339.11 1474.15 1337.21 Q1471.86 1335.31 1471.07 1331.93 M1463.69 1333.65 Q1466.38 1333.65 1467.88 1331.98 Q1469.39 1330.29 1469.39 1327.26 Q1469.39 1324.25 1467.88 1322.56 Q1466.38 1320.85 1463.69 1320.85 Q1461.01 1320.85 1459.5 1322.56 Q1458 1324.25 1458 1327.26 Q1458 1330.29 1459.5 1331.98 Q1461.01 1333.65 1463.69 1333.65 Z\" fill=\"#000000\" fill-rule=\"evenodd\" fill-opacity=\"1\" /><path clip-path=\"url(#clip300)\" d=\"M1454.92 1312.3 L1454.92 1283.07 L1458.85 1283.07 L1458.85 1295.34 L1489.48 1295.34 L1489.48 1300.04 L1458.85 1300.04 L1458.85 1312.3 L1454.92 1312.3 Z\" fill=\"#000000\" fill-rule=\"evenodd\" fill-opacity=\"1\" /><path clip-path=\"url(#clip300)\" d=\"M1458 1268.14 Q1458 1271.75 1461.56 1273.58 Q1465.1 1275.38 1472.23 1275.38 Q1479.34 1275.38 1482.9 1273.58 Q1486.45 1271.75 1486.45 1268.14 Q1486.45 1264.5 1482.9 1262.7 Q1479.34 1260.87 1472.23 1260.87 Q1465.1 1260.87 1461.56 1262.7 Q1458 1264.5 1458 1268.14 M1454.29 1268.14 Q1454.29 1262.33 1458.9 1259.27 Q1463.48 1256.19 1472.23 1256.19 Q1480.96 1256.19 1485.57 1259.27 Q1490.15 1262.33 1490.15 1268.14 Q1490.15 1273.95 1485.57 1277.03 Q1480.96 1280.08 1472.23 1280.08 Q1463.48 1280.08 1458.9 1277.03 Q1454.29 1273.95 1454.29 1268.14 Z\" fill=\"#000000\" fill-rule=\"evenodd\" fill-opacity=\"1\" /><path clip-path=\"url(#clip300)\" d=\"M1458 1237.98 Q1458 1241.59 1461.56 1243.42 Q1465.1 1245.22 1472.23 1245.22 Q1479.34 1245.22 1482.9 1243.42 Q1486.45 1241.59 1486.45 1237.98 Q1486.45 1234.34 1482.9 1232.54 Q1479.34 1230.71 1472.23 1230.71 Q1465.1 1230.71 1461.56 1232.54 Q1458 1234.34 1458 1237.98 M1454.29 1237.98 Q1454.29 1232.17 1458.9 1229.11 Q1463.48 1226.03 1472.23 1226.03 Q1480.96 1226.03 1485.57 1229.11 Q1490.15 1232.17 1490.15 1237.98 Q1490.15 1243.79 1485.57 1246.87 Q1480.96 1249.92 1472.23 1249.92 Q1463.48 1249.92 1458.9 1246.87 Q1454.29 1243.79 1454.29 1237.98 Z\" fill=\"#000000\" fill-rule=\"evenodd\" fill-opacity=\"1\" /><path clip-path=\"url(#clip300)\" d=\"M1483.6 1217.33 L1483.6 1212.44 L1489.48 1212.44 L1489.48 1217.33 L1483.6 1217.33 M1464.96 1217.33 L1464.96 1212.44 L1470.84 1212.44 L1470.84 1217.33 L1464.96 1217.33 Z\" fill=\"#000000\" fill-rule=\"evenodd\" fill-opacity=\"1\" /><path clip-path=\"url(#clip300)\" d=\"M1458 1191.84 Q1458 1195.45 1461.56 1197.28 Q1465.1 1199.09 1472.23 1199.09 Q1479.34 1199.09 1482.9 1197.28 Q1486.45 1195.45 1486.45 1191.84 Q1486.45 1188.21 1482.9 1186.4 Q1479.34 1184.57 1472.23 1184.57 Q1465.1 1184.57 1461.56 1186.4 Q1458 1188.21 1458 1191.84 M1454.29 1191.84 Q1454.29 1186.03 1458.9 1182.98 Q1463.48 1179.9 1472.23 1179.9 Q1480.96 1179.9 1485.57 1182.98 Q1490.15 1186.03 1490.15 1191.84 Q1490.15 1197.65 1485.57 1200.73 Q1480.96 1203.79 1472.23 1203.79 Q1463.48 1203.79 1458.9 1200.73 Q1454.29 1197.65 1454.29 1191.84 Z\" fill=\"#000000\" fill-rule=\"evenodd\" fill-opacity=\"1\" /><path clip-path=\"url(#clip300)\" d=\"M1458 1161.68 Q1458 1165.29 1461.56 1167.12 Q1465.1 1168.93 1472.23 1168.93 Q1479.34 1168.93 1482.9 1167.12 Q1486.45 1165.29 1486.45 1161.68 Q1486.45 1158.05 1482.9 1156.24 Q1479.34 1154.41 1472.23 1154.41 Q1465.1 1154.41 1461.56 1156.24 Q1458 1158.05 1458 1161.68 M1454.29 1161.68 Q1454.29 1155.87 1458.9 1152.81 Q1463.48 1149.74 1472.23 1149.74 Q1480.96 1149.74 1485.57 1152.81 Q1490.15 1155.87 1490.15 1161.68 Q1490.15 1167.49 1485.57 1170.57 Q1480.96 1173.62 1472.23 1173.62 Q1463.48 1173.62 1458.9 1170.57 Q1454.29 1167.49 1454.29 1161.68 Z\" fill=\"#000000\" fill-rule=\"evenodd\" fill-opacity=\"1\" /><path clip-path=\"url(#clip300)\" d=\"M1483.6 1141.03 L1483.6 1136.15 L1489.48 1136.15 L1489.48 1141.03 L1483.6 1141.03 M1464.96 1141.03 L1464.96 1136.15 L1470.84 1136.15 L1470.84 1141.03 L1464.96 1141.03 Z\" fill=\"#000000\" fill-rule=\"evenodd\" fill-opacity=\"1\" /><path clip-path=\"url(#clip300)\" d=\"M1458 1115.55 Q1458 1119.16 1461.56 1120.99 Q1465.1 1122.79 1472.23 1122.79 Q1479.34 1122.79 1482.9 1120.99 Q1486.45 1119.16 1486.45 1115.55 Q1486.45 1111.91 1482.9 1110.11 Q1479.34 1108.28 1472.23 1108.28 Q1465.1 1108.28 1461.56 1110.11 Q1458 1111.91 1458 1115.55 M1454.29 1115.55 Q1454.29 1109.74 1458.9 1106.68 Q1463.48 1103.6 1472.23 1103.6 Q1480.96 1103.6 1485.57 1106.68 Q1490.15 1109.74 1490.15 1115.55 Q1490.15 1121.36 1485.57 1124.44 Q1480.96 1127.49 1472.23 1127.49 Q1463.48 1127.49 1458.9 1124.44 Q1454.29 1121.36 1454.29 1115.55 Z\" fill=\"#000000\" fill-rule=\"evenodd\" fill-opacity=\"1\" /><path clip-path=\"url(#clip300)\" d=\"M1458 1085.38 Q1458 1089 1461.56 1090.82 Q1465.1 1092.63 1472.23 1092.63 Q1479.34 1092.63 1482.9 1090.82 Q1486.45 1089 1486.45 1085.38 Q1486.45 1081.75 1482.9 1079.94 Q1479.34 1078.12 1472.23 1078.12 Q1465.1 1078.12 1461.56 1079.94 Q1458 1081.75 1458 1085.38 M1454.29 1085.38 Q1454.29 1079.57 1458.9 1076.52 Q1463.48 1073.44 1472.23 1073.44 Q1480.96 1073.44 1485.57 1076.52 Q1490.15 1079.57 1490.15 1085.38 Q1490.15 1091.19 1485.57 1094.27 Q1480.96 1097.33 1472.23 1097.33 Q1463.48 1097.33 1458.9 1094.27 Q1454.29 1091.19 1454.29 1085.38 Z\" fill=\"#000000\" fill-rule=\"evenodd\" fill-opacity=\"1\" /><path clip-path=\"url(#clip300)\" d=\"M1553.96 1578.58 L1553.96 1562.26 L1557.9 1562.26 L1557.9 1584.2 L1553.96 1584.2 Q1551.21 1581.54 1546.58 1576.96 Q1541.92 1572.35 1540.58 1571.17 Q1538.06 1568.92 1536.32 1568.04 Q1534.56 1567.14 1532.87 1567.14 Q1530.12 1567.14 1528.38 1569.09 Q1526.65 1571.01 1526.65 1574.11 Q1526.65 1576.31 1527.41 1578.76 Q1528.17 1581.19 1529.73 1583.97 L1525 1583.97 Q1523.87 1581.15 1523.29 1578.69 Q1522.71 1576.24 1522.71 1574.2 Q1522.71 1568.83 1525.4 1565.64 Q1528.08 1562.44 1532.57 1562.44 Q1534.7 1562.44 1536.62 1563.25 Q1538.52 1564.04 1541.11 1566.15 Q1541.79 1566.72 1545 1569.83 Q1548.2 1572.93 1553.96 1578.58 Z\" fill=\"#000000\" fill-rule=\"evenodd\" fill-opacity=\"1\" /><path clip-path=\"url(#clip300)\" d=\"M1526.42 1542.44 Q1526.42 1546.05 1529.98 1547.88 Q1533.52 1549.69 1540.65 1549.69 Q1547.76 1549.69 1551.32 1547.88 Q1554.86 1546.05 1554.86 1542.44 Q1554.86 1538.81 1551.32 1537 Q1547.76 1535.17 1540.65 1535.17 Q1533.52 1535.17 1529.98 1537 Q1526.42 1538.81 1526.42 1542.44 M1522.71 1542.44 Q1522.71 1536.63 1527.32 1533.58 Q1531.9 1530.5 1540.65 1530.5 Q1549.38 1530.5 1553.99 1533.58 Q1558.57 1536.63 1558.57 1542.44 Q1558.57 1548.25 1553.99 1551.33 Q1549.38 1554.39 1540.65 1554.39 Q1531.9 1554.39 1527.32 1551.33 Q1522.71 1548.25 1522.71 1542.44 Z\" fill=\"#000000\" fill-rule=\"evenodd\" fill-opacity=\"1\" /><path clip-path=\"url(#clip300)\" d=\"M1553.96 1518.25 L1553.96 1501.93 L1557.9 1501.93 L1557.9 1523.88 L1553.96 1523.88 Q1551.21 1521.22 1546.58 1516.63 Q1541.92 1512.03 1540.58 1510.85 Q1538.06 1508.6 1536.32 1507.72 Q1534.56 1506.82 1532.87 1506.82 Q1530.12 1506.82 1528.38 1508.76 Q1526.65 1510.68 1526.65 1513.79 Q1526.65 1515.98 1527.41 1518.44 Q1528.17 1520.87 1529.73 1523.65 L1525 1523.65 Q1523.87 1520.82 1523.29 1518.37 Q1522.71 1515.91 1522.71 1513.88 Q1522.71 1508.51 1525.4 1505.31 Q1528.08 1502.12 1532.57 1502.12 Q1534.7 1502.12 1536.62 1502.93 Q1538.52 1503.72 1541.11 1505.82 Q1541.79 1506.4 1545 1509.5 Q1548.2 1512.6 1553.96 1518.25 Z\" fill=\"#000000\" fill-rule=\"evenodd\" fill-opacity=\"1\" /><path clip-path=\"url(#clip300)\" d=\"M1526.42 1482.12 Q1526.42 1485.73 1529.98 1487.56 Q1533.52 1489.36 1540.65 1489.36 Q1547.76 1489.36 1551.32 1487.56 Q1554.86 1485.73 1554.86 1482.12 Q1554.86 1478.48 1551.32 1476.68 Q1547.76 1474.85 1540.65 1474.85 Q1533.52 1474.85 1529.98 1476.68 Q1526.42 1478.48 1526.42 1482.12 M1522.71 1482.12 Q1522.71 1476.31 1527.32 1473.25 Q1531.9 1470.17 1540.65 1470.17 Q1549.38 1470.17 1553.99 1473.25 Q1558.57 1476.31 1558.57 1482.12 Q1558.57 1487.93 1553.99 1491.01 Q1549.38 1494.06 1540.65 1494.06 Q1531.9 1494.06 1527.32 1491.01 Q1522.71 1487.93 1522.71 1482.12 Z\" fill=\"#000000\" fill-rule=\"evenodd\" fill-opacity=\"1\" /><path clip-path=\"url(#clip300)\" d=\"M1543.01 1464.71 L1543.01 1452.23 L1546.81 1452.23 L1546.81 1464.71 L1543.01 1464.71 Z\" fill=\"#000000\" fill-rule=\"evenodd\" fill-opacity=\"1\" /><path clip-path=\"url(#clip300)\" d=\"M1526.42 1434.85 Q1526.42 1438.46 1529.98 1440.29 Q1533.52 1442.1 1540.65 1442.1 Q1547.76 1442.1 1551.32 1440.29 Q1554.86 1438.46 1554.86 1434.85 Q1554.86 1431.22 1551.32 1429.41 Q1547.76 1427.58 1540.65 1427.58 Q1533.52 1427.58 1529.98 1429.41 Q1526.42 1431.22 1526.42 1434.85 M1522.71 1434.85 Q1522.71 1429.04 1527.32 1425.98 Q1531.9 1422.91 1540.65 1422.91 Q1549.38 1422.91 1553.99 1425.98 Q1558.57 1429.04 1558.57 1434.85 Q1558.57 1440.66 1553.99 1443.74 Q1549.38 1446.79 1540.65 1446.79 Q1531.9 1446.79 1527.32 1443.74 Q1522.71 1440.66 1522.71 1434.85 Z\" fill=\"#000000\" fill-rule=\"evenodd\" fill-opacity=\"1\" /><path clip-path=\"url(#clip300)\" d=\"M1538.75 1404.11 Q1538.75 1407.26 1540.91 1409.11 Q1543.06 1410.94 1546.81 1410.94 Q1550.54 1410.94 1552.71 1409.11 Q1554.86 1407.26 1554.86 1404.11 Q1554.86 1400.96 1552.71 1399.13 Q1550.54 1397.28 1546.81 1397.28 Q1543.06 1397.28 1540.91 1399.13 Q1538.75 1400.96 1538.75 1404.11 M1524.1 1394.83 L1528.36 1394.83 Q1527.53 1396.59 1527.09 1398.39 Q1526.65 1400.17 1526.65 1401.93 Q1526.65 1406.56 1529.77 1409.02 Q1532.9 1411.45 1539.22 1411.79 Q1537.2 1410.43 1536.14 1408.37 Q1535.05 1406.31 1535.05 1403.83 Q1535.05 1398.62 1538.22 1395.61 Q1541.37 1392.58 1546.81 1392.58 Q1552.13 1392.58 1555.35 1395.73 Q1558.57 1398.88 1558.57 1404.11 Q1558.57 1410.11 1553.99 1413.28 Q1549.38 1416.45 1540.65 1416.45 Q1532.46 1416.45 1527.6 1412.56 Q1522.71 1408.67 1522.71 1402.12 Q1522.71 1400.36 1523.06 1398.58 Q1523.41 1396.77 1524.1 1394.83 Z\" fill=\"#000000\" fill-rule=\"evenodd\" fill-opacity=\"1\" /><path clip-path=\"url(#clip300)\" d=\"M1543.01 1387.28 L1543.01 1374.8 L1546.81 1374.8 L1546.81 1387.28 L1543.01 1387.28 Z\" fill=\"#000000\" fill-rule=\"evenodd\" fill-opacity=\"1\" /><path clip-path=\"url(#clip300)\" d=\"M1553.96 1366.61 L1553.96 1358.97 L1527.6 1358.97 L1529.26 1367.28 L1525 1367.28 L1523.34 1359.02 L1523.34 1354.34 L1553.96 1354.34 L1553.96 1346.7 L1557.9 1346.7 L1557.9 1366.61 L1553.96 1366.61 Z\" fill=\"#000000\" fill-rule=\"evenodd\" fill-opacity=\"1\" /><path clip-path=\"url(#clip300)\" d=\"M1557.18 1337.12 L1552.92 1337.12 Q1553.75 1335.36 1554.19 1333.55 Q1554.63 1331.75 1554.63 1330.01 Q1554.63 1325.38 1551.53 1322.95 Q1548.41 1320.5 1542.06 1320.15 Q1544.05 1321.49 1545.12 1323.55 Q1546.18 1325.61 1546.18 1328.11 Q1546.18 1333.3 1543.06 1336.33 Q1539.91 1339.34 1534.47 1339.34 Q1529.15 1339.34 1525.93 1336.19 Q1522.71 1333.05 1522.71 1327.81 Q1522.71 1321.82 1527.32 1318.67 Q1531.9 1315.5 1540.65 1315.5 Q1548.82 1315.5 1553.71 1319.39 Q1558.57 1323.25 1558.57 1329.8 Q1558.57 1331.56 1558.22 1333.37 Q1557.87 1335.17 1557.18 1337.12 M1542.53 1327.81 Q1542.53 1324.67 1540.37 1322.84 Q1538.22 1320.99 1534.47 1320.99 Q1530.74 1320.99 1528.59 1322.84 Q1526.42 1324.67 1526.42 1327.81 Q1526.42 1330.96 1528.59 1332.81 Q1530.74 1334.64 1534.47 1334.64 Q1538.22 1334.64 1540.37 1332.81 Q1542.53 1330.96 1542.53 1327.81 Z\" fill=\"#000000\" fill-rule=\"evenodd\" fill-opacity=\"1\" /><path clip-path=\"url(#clip300)\" d=\"M1523.34 1312.3 L1523.34 1283.07 L1527.27 1283.07 L1527.27 1295.34 L1557.9 1295.34 L1557.9 1300.04 L1527.27 1300.04 L1527.27 1312.3 L1523.34 1312.3 Z\" fill=\"#000000\" fill-rule=\"evenodd\" fill-opacity=\"1\" /><path clip-path=\"url(#clip300)\" d=\"M1526.42 1268.14 Q1526.42 1271.75 1529.98 1273.58 Q1533.52 1275.38 1540.65 1275.38 Q1547.76 1275.38 1551.32 1273.58 Q1554.86 1271.75 1554.86 1268.14 Q1554.86 1264.5 1551.32 1262.7 Q1547.76 1260.87 1540.65 1260.87 Q1533.52 1260.87 1529.98 1262.7 Q1526.42 1264.5 1526.42 1268.14 M1522.71 1268.14 Q1522.71 1262.33 1527.32 1259.27 Q1531.9 1256.19 1540.65 1256.19 Q1549.38 1256.19 1553.99 1259.27 Q1558.57 1262.33 1558.57 1268.14 Q1558.57 1273.95 1553.99 1277.03 Q1549.38 1280.08 1540.65 1280.08 Q1531.9 1280.08 1527.32 1277.03 Q1522.71 1273.95 1522.71 1268.14 Z\" fill=\"#000000\" fill-rule=\"evenodd\" fill-opacity=\"1\" /><path clip-path=\"url(#clip300)\" d=\"M1526.42 1237.98 Q1526.42 1241.59 1529.98 1243.42 Q1533.52 1245.22 1540.65 1245.22 Q1547.76 1245.22 1551.32 1243.42 Q1554.86 1241.59 1554.86 1237.98 Q1554.86 1234.34 1551.32 1232.54 Q1547.76 1230.71 1540.65 1230.71 Q1533.52 1230.71 1529.98 1232.54 Q1526.42 1234.34 1526.42 1237.98 M1522.71 1237.98 Q1522.71 1232.17 1527.32 1229.11 Q1531.9 1226.03 1540.65 1226.03 Q1549.38 1226.03 1553.99 1229.11 Q1558.57 1232.17 1558.57 1237.98 Q1558.57 1243.79 1553.99 1246.87 Q1549.38 1249.92 1540.65 1249.92 Q1531.9 1249.92 1527.32 1246.87 Q1522.71 1243.79 1522.71 1237.98 Z\" fill=\"#000000\" fill-rule=\"evenodd\" fill-opacity=\"1\" /><path clip-path=\"url(#clip300)\" d=\"M1552.02 1217.33 L1552.02 1212.44 L1557.9 1212.44 L1557.9 1217.33 L1552.02 1217.33 M1533.38 1217.33 L1533.38 1212.44 L1539.26 1212.44 L1539.26 1217.33 L1533.38 1217.33 Z\" fill=\"#000000\" fill-rule=\"evenodd\" fill-opacity=\"1\" /><path clip-path=\"url(#clip300)\" d=\"M1526.42 1191.84 Q1526.42 1195.45 1529.98 1197.28 Q1533.52 1199.09 1540.65 1199.09 Q1547.76 1199.09 1551.32 1197.28 Q1554.86 1195.45 1554.86 1191.84 Q1554.86 1188.21 1551.32 1186.4 Q1547.76 1184.57 1540.65 1184.57 Q1533.52 1184.57 1529.98 1186.4 Q1526.42 1188.21 1526.42 1191.84 M1522.71 1191.84 Q1522.71 1186.03 1527.32 1182.98 Q1531.9 1179.9 1540.65 1179.9 Q1549.38 1179.9 1553.99 1182.98 Q1558.57 1186.03 1558.57 1191.84 Q1558.57 1197.65 1553.99 1200.73 Q1549.38 1203.79 1540.65 1203.79 Q1531.9 1203.79 1527.32 1200.73 Q1522.71 1197.65 1522.71 1191.84 Z\" fill=\"#000000\" fill-rule=\"evenodd\" fill-opacity=\"1\" /><path clip-path=\"url(#clip300)\" d=\"M1526.42 1161.68 Q1526.42 1165.29 1529.98 1167.12 Q1533.52 1168.93 1540.65 1168.93 Q1547.76 1168.93 1551.32 1167.12 Q1554.86 1165.29 1554.86 1161.68 Q1554.86 1158.05 1551.32 1156.24 Q1547.76 1154.41 1540.65 1154.41 Q1533.52 1154.41 1529.98 1156.24 Q1526.42 1158.05 1526.42 1161.68 M1522.71 1161.68 Q1522.71 1155.87 1527.32 1152.81 Q1531.9 1149.74 1540.65 1149.74 Q1549.38 1149.74 1553.99 1152.81 Q1558.57 1155.87 1558.57 1161.68 Q1558.57 1167.49 1553.99 1170.57 Q1549.38 1173.62 1540.65 1173.62 Q1531.9 1173.62 1527.32 1170.57 Q1522.71 1167.49 1522.71 1161.68 Z\" fill=\"#000000\" fill-rule=\"evenodd\" fill-opacity=\"1\" /><path clip-path=\"url(#clip300)\" d=\"M1552.02 1141.03 L1552.02 1136.15 L1557.9 1136.15 L1557.9 1141.03 L1552.02 1141.03 M1533.38 1141.03 L1533.38 1136.15 L1539.26 1136.15 L1539.26 1141.03 L1533.38 1141.03 Z\" fill=\"#000000\" fill-rule=\"evenodd\" fill-opacity=\"1\" /><path clip-path=\"url(#clip300)\" d=\"M1526.42 1115.55 Q1526.42 1119.16 1529.98 1120.99 Q1533.52 1122.79 1540.65 1122.79 Q1547.76 1122.79 1551.32 1120.99 Q1554.86 1119.16 1554.86 1115.55 Q1554.86 1111.91 1551.32 1110.11 Q1547.76 1108.28 1540.65 1108.28 Q1533.52 1108.28 1529.98 1110.11 Q1526.42 1111.91 1526.42 1115.55 M1522.71 1115.55 Q1522.71 1109.74 1527.32 1106.68 Q1531.9 1103.6 1540.65 1103.6 Q1549.38 1103.6 1553.99 1106.68 Q1558.57 1109.74 1558.57 1115.55 Q1558.57 1121.36 1553.99 1124.44 Q1549.38 1127.49 1540.65 1127.49 Q1531.9 1127.49 1527.32 1124.44 Q1522.71 1121.36 1522.71 1115.55 Z\" fill=\"#000000\" fill-rule=\"evenodd\" fill-opacity=\"1\" /><path clip-path=\"url(#clip300)\" d=\"M1526.42 1085.38 Q1526.42 1089 1529.98 1090.82 Q1533.52 1092.63 1540.65 1092.63 Q1547.76 1092.63 1551.32 1090.82 Q1554.86 1089 1554.86 1085.38 Q1554.86 1081.75 1551.32 1079.94 Q1547.76 1078.12 1540.65 1078.12 Q1533.52 1078.12 1529.98 1079.94 Q1526.42 1081.75 1526.42 1085.38 M1522.71 1085.38 Q1522.71 1079.57 1527.32 1076.52 Q1531.9 1073.44 1540.65 1073.44 Q1549.38 1073.44 1553.99 1076.52 Q1558.57 1079.57 1558.57 1085.38 Q1558.57 1091.19 1553.99 1094.27 Q1549.38 1097.33 1540.65 1097.33 Q1531.9 1097.33 1527.32 1094.27 Q1522.71 1091.19 1522.71 1085.38 Z\" fill=\"#000000\" fill-rule=\"evenodd\" fill-opacity=\"1\" /><path clip-path=\"url(#clip300)\" d=\"M1759.22 1578.58 L1759.22 1562.26 L1763.16 1562.26 L1763.16 1584.2 L1759.22 1584.2 Q1756.47 1581.54 1751.84 1576.96 Q1747.18 1572.35 1745.84 1571.17 Q1743.32 1568.92 1741.58 1568.04 Q1739.82 1567.14 1738.13 1567.14 Q1735.38 1567.14 1733.64 1569.09 Q1731.91 1571.01 1731.91 1574.11 Q1731.91 1576.31 1732.67 1578.76 Q1733.43 1581.19 1734.98 1583.97 L1730.26 1583.97 Q1729.13 1581.15 1728.55 1578.69 Q1727.97 1576.24 1727.97 1574.2 Q1727.97 1568.83 1730.66 1565.64 Q1733.34 1562.44 1737.83 1562.44 Q1739.96 1562.44 1741.88 1563.25 Q1743.78 1564.04 1746.37 1566.15 Q1747.04 1566.72 1750.26 1569.83 Q1753.46 1572.93 1759.22 1578.58 Z\" fill=\"#000000\" fill-rule=\"evenodd\" fill-opacity=\"1\" /><path clip-path=\"url(#clip300)\" d=\"M1731.67 1542.44 Q1731.67 1546.05 1735.24 1547.88 Q1738.78 1549.69 1745.91 1549.69 Q1753.02 1549.69 1756.58 1547.88 Q1760.12 1546.05 1760.12 1542.44 Q1760.12 1538.81 1756.58 1537 Q1753.02 1535.17 1745.91 1535.17 Q1738.78 1535.17 1735.24 1537 Q1731.67 1538.81 1731.67 1542.44 M1727.97 1542.44 Q1727.97 1536.63 1732.58 1533.58 Q1737.16 1530.5 1745.91 1530.5 Q1754.64 1530.5 1759.24 1533.58 Q1763.83 1536.63 1763.83 1542.44 Q1763.83 1548.25 1759.24 1551.33 Q1754.64 1554.39 1745.91 1554.39 Q1737.16 1554.39 1732.58 1551.33 Q1727.97 1548.25 1727.97 1542.44 Z\" fill=\"#000000\" fill-rule=\"evenodd\" fill-opacity=\"1\" /><path clip-path=\"url(#clip300)\" d=\"M1759.22 1518.25 L1759.22 1501.93 L1763.16 1501.93 L1763.16 1523.88 L1759.22 1523.88 Q1756.47 1521.22 1751.84 1516.63 Q1747.18 1512.03 1745.84 1510.85 Q1743.32 1508.6 1741.58 1507.72 Q1739.82 1506.82 1738.13 1506.82 Q1735.38 1506.82 1733.64 1508.76 Q1731.91 1510.68 1731.91 1513.79 Q1731.91 1515.98 1732.67 1518.44 Q1733.43 1520.87 1734.98 1523.65 L1730.26 1523.65 Q1729.13 1520.82 1728.55 1518.37 Q1727.97 1515.91 1727.97 1513.88 Q1727.97 1508.51 1730.66 1505.31 Q1733.34 1502.12 1737.83 1502.12 Q1739.96 1502.12 1741.88 1502.93 Q1743.78 1503.72 1746.37 1505.82 Q1747.04 1506.4 1750.26 1509.5 Q1753.46 1512.6 1759.22 1518.25 Z\" fill=\"#000000\" fill-rule=\"evenodd\" fill-opacity=\"1\" /><path clip-path=\"url(#clip300)\" d=\"M1731.67 1482.12 Q1731.67 1485.73 1735.24 1487.56 Q1738.78 1489.36 1745.91 1489.36 Q1753.02 1489.36 1756.58 1487.56 Q1760.12 1485.73 1760.12 1482.12 Q1760.12 1478.48 1756.58 1476.68 Q1753.02 1474.85 1745.91 1474.85 Q1738.78 1474.85 1735.24 1476.68 Q1731.67 1478.48 1731.67 1482.12 M1727.97 1482.12 Q1727.97 1476.31 1732.58 1473.25 Q1737.16 1470.17 1745.91 1470.17 Q1754.64 1470.17 1759.24 1473.25 Q1763.83 1476.31 1763.83 1482.12 Q1763.83 1487.93 1759.24 1491.01 Q1754.64 1494.06 1745.91 1494.06 Q1737.16 1494.06 1732.58 1491.01 Q1727.97 1487.93 1727.97 1482.12 Z\" fill=\"#000000\" fill-rule=\"evenodd\" fill-opacity=\"1\" /><path clip-path=\"url(#clip300)\" d=\"M1748.27 1464.71 L1748.27 1452.23 L1752.07 1452.23 L1752.07 1464.71 L1748.27 1464.71 Z\" fill=\"#000000\" fill-rule=\"evenodd\" fill-opacity=\"1\" /><path clip-path=\"url(#clip300)\" d=\"M1731.67 1434.85 Q1731.67 1438.46 1735.24 1440.29 Q1738.78 1442.1 1745.91 1442.1 Q1753.02 1442.1 1756.58 1440.29 Q1760.12 1438.46 1760.12 1434.85 Q1760.12 1431.22 1756.58 1429.41 Q1753.02 1427.58 1745.91 1427.58 Q1738.78 1427.58 1735.24 1429.41 Q1731.67 1431.22 1731.67 1434.85 M1727.97 1434.85 Q1727.97 1429.04 1732.58 1425.98 Q1737.16 1422.91 1745.91 1422.91 Q1754.64 1422.91 1759.24 1425.98 Q1763.83 1429.04 1763.83 1434.85 Q1763.83 1440.66 1759.24 1443.74 Q1754.64 1446.79 1745.91 1446.79 Q1737.16 1446.79 1732.58 1443.74 Q1727.97 1440.66 1727.97 1434.85 Z\" fill=\"#000000\" fill-rule=\"evenodd\" fill-opacity=\"1\" /><path clip-path=\"url(#clip300)\" d=\"M1744.01 1404.11 Q1744.01 1407.26 1746.16 1409.11 Q1748.32 1410.94 1752.07 1410.94 Q1755.79 1410.94 1757.97 1409.11 Q1760.12 1407.26 1760.12 1404.11 Q1760.12 1400.96 1757.97 1399.13 Q1755.79 1397.28 1752.07 1397.28 Q1748.32 1397.28 1746.16 1399.13 Q1744.01 1400.96 1744.01 1404.11 M1729.36 1394.83 L1733.62 1394.83 Q1732.79 1396.59 1732.35 1398.39 Q1731.91 1400.17 1731.91 1401.93 Q1731.91 1406.56 1735.03 1409.02 Q1738.16 1411.45 1744.47 1411.79 Q1742.46 1410.43 1741.4 1408.37 Q1740.31 1406.31 1740.31 1403.83 Q1740.31 1398.62 1743.48 1395.61 Q1746.63 1392.58 1752.07 1392.58 Q1757.39 1392.58 1760.61 1395.73 Q1763.83 1398.88 1763.83 1404.11 Q1763.83 1410.11 1759.24 1413.28 Q1754.64 1416.45 1745.91 1416.45 Q1737.72 1416.45 1732.85 1412.56 Q1727.97 1408.67 1727.97 1402.12 Q1727.97 1400.36 1728.32 1398.58 Q1728.66 1396.77 1729.36 1394.83 Z\" fill=\"#000000\" fill-rule=\"evenodd\" fill-opacity=\"1\" /><path clip-path=\"url(#clip300)\" d=\"M1748.27 1387.28 L1748.27 1374.8 L1752.07 1374.8 L1752.07 1387.28 L1748.27 1387.28 Z\" fill=\"#000000\" fill-rule=\"evenodd\" fill-opacity=\"1\" /><path clip-path=\"url(#clip300)\" d=\"M1759.22 1363.39 L1759.22 1347.07 L1763.16 1347.07 L1763.16 1369.02 L1759.22 1369.02 Q1756.47 1366.36 1751.84 1361.77 Q1747.18 1357.17 1745.84 1355.99 Q1743.32 1353.74 1741.58 1352.86 Q1739.82 1351.96 1738.13 1351.96 Q1735.38 1351.96 1733.64 1353.9 Q1731.91 1355.82 1731.91 1358.92 Q1731.91 1361.12 1732.67 1363.58 Q1733.43 1366.01 1734.98 1368.79 L1730.26 1368.79 Q1729.13 1365.96 1728.55 1363.51 Q1727.97 1361.05 1727.97 1359.02 Q1727.97 1353.65 1730.66 1350.45 Q1733.34 1347.26 1737.83 1347.26 Q1739.96 1347.26 1741.88 1348.07 Q1743.78 1348.86 1746.37 1350.96 Q1747.04 1351.54 1750.26 1354.64 Q1753.46 1357.74 1759.22 1363.39 Z\" fill=\"#000000\" fill-rule=\"evenodd\" fill-opacity=\"1\" /><path clip-path=\"url(#clip300)\" d=\"M1759.22 1333.23 L1759.22 1316.91 L1763.16 1316.91 L1763.16 1338.86 L1759.22 1338.86 Q1756.47 1336.19 1751.84 1331.61 Q1747.18 1327 1745.84 1325.82 Q1743.32 1323.58 1741.58 1322.7 Q1739.82 1321.8 1738.13 1321.8 Q1735.38 1321.8 1733.64 1323.74 Q1731.91 1325.66 1731.91 1328.76 Q1731.91 1330.96 1732.67 1333.42 Q1733.43 1335.85 1734.98 1338.62 L1730.26 1338.62 Q1729.13 1335.8 1728.55 1333.35 Q1727.97 1330.89 1727.97 1328.86 Q1727.97 1323.49 1730.66 1320.29 Q1733.34 1317.1 1737.83 1317.1 Q1739.96 1317.1 1741.88 1317.91 Q1743.78 1318.69 1746.37 1320.8 Q1747.04 1321.38 1750.26 1324.48 Q1753.46 1327.58 1759.22 1333.23 Z\" fill=\"#000000\" fill-rule=\"evenodd\" fill-opacity=\"1\" /><path clip-path=\"url(#clip300)\" d=\"M1728.6 1312.3 L1728.6 1283.07 L1732.53 1283.07 L1732.53 1295.34 L1763.16 1295.34 L1763.16 1300.04 L1732.53 1300.04 L1732.53 1312.3 L1728.6 1312.3 Z\" fill=\"#000000\" fill-rule=\"evenodd\" fill-opacity=\"1\" /><path clip-path=\"url(#clip300)\" d=\"M1731.67 1268.14 Q1731.67 1271.75 1735.24 1273.58 Q1738.78 1275.38 1745.91 1275.38 Q1753.02 1275.38 1756.58 1273.58 Q1760.12 1271.75 1760.12 1268.14 Q1760.12 1264.5 1756.58 1262.7 Q1753.02 1260.87 1745.91 1260.87 Q1738.78 1260.87 1735.24 1262.7 Q1731.67 1264.5 1731.67 1268.14 M1727.97 1268.14 Q1727.97 1262.33 1732.58 1259.27 Q1737.16 1256.19 1745.91 1256.19 Q1754.64 1256.19 1759.24 1259.27 Q1763.83 1262.33 1763.83 1268.14 Q1763.83 1273.95 1759.24 1277.03 Q1754.64 1280.08 1745.91 1280.08 Q1737.16 1280.08 1732.58 1277.03 Q1727.97 1273.95 1727.97 1268.14 Z\" fill=\"#000000\" fill-rule=\"evenodd\" fill-opacity=\"1\" /><path clip-path=\"url(#clip300)\" d=\"M1731.67 1237.98 Q1731.67 1241.59 1735.24 1243.42 Q1738.78 1245.22 1745.91 1245.22 Q1753.02 1245.22 1756.58 1243.42 Q1760.12 1241.59 1760.12 1237.98 Q1760.12 1234.34 1756.58 1232.54 Q1753.02 1230.71 1745.91 1230.71 Q1738.78 1230.71 1735.24 1232.54 Q1731.67 1234.34 1731.67 1237.98 M1727.97 1237.98 Q1727.97 1232.17 1732.58 1229.11 Q1737.16 1226.03 1745.91 1226.03 Q1754.64 1226.03 1759.24 1229.11 Q1763.83 1232.17 1763.83 1237.98 Q1763.83 1243.79 1759.24 1246.87 Q1754.64 1249.92 1745.91 1249.92 Q1737.16 1249.92 1732.58 1246.87 Q1727.97 1243.79 1727.97 1237.98 Z\" fill=\"#000000\" fill-rule=\"evenodd\" fill-opacity=\"1\" /><path clip-path=\"url(#clip300)\" d=\"M1757.28 1217.33 L1757.28 1212.44 L1763.16 1212.44 L1763.16 1217.33 L1757.28 1217.33 M1738.64 1217.33 L1738.64 1212.44 L1744.52 1212.44 L1744.52 1217.33 L1738.64 1217.33 Z\" fill=\"#000000\" fill-rule=\"evenodd\" fill-opacity=\"1\" /><path clip-path=\"url(#clip300)\" d=\"M1731.67 1191.84 Q1731.67 1195.45 1735.24 1197.28 Q1738.78 1199.09 1745.91 1199.09 Q1753.02 1199.09 1756.58 1197.28 Q1760.12 1195.45 1760.12 1191.84 Q1760.12 1188.21 1756.58 1186.4 Q1753.02 1184.57 1745.91 1184.57 Q1738.78 1184.57 1735.24 1186.4 Q1731.67 1188.21 1731.67 1191.84 M1727.97 1191.84 Q1727.97 1186.03 1732.58 1182.98 Q1737.16 1179.9 1745.91 1179.9 Q1754.64 1179.9 1759.24 1182.98 Q1763.83 1186.03 1763.83 1191.84 Q1763.83 1197.65 1759.24 1200.73 Q1754.64 1203.79 1745.91 1203.79 Q1737.16 1203.79 1732.58 1200.73 Q1727.97 1197.65 1727.97 1191.84 Z\" fill=\"#000000\" fill-rule=\"evenodd\" fill-opacity=\"1\" /><path clip-path=\"url(#clip300)\" d=\"M1731.67 1161.68 Q1731.67 1165.29 1735.24 1167.12 Q1738.78 1168.93 1745.91 1168.93 Q1753.02 1168.93 1756.58 1167.12 Q1760.12 1165.29 1760.12 1161.68 Q1760.12 1158.05 1756.58 1156.24 Q1753.02 1154.41 1745.91 1154.41 Q1738.78 1154.41 1735.24 1156.24 Q1731.67 1158.05 1731.67 1161.68 M1727.97 1161.68 Q1727.97 1155.87 1732.58 1152.81 Q1737.16 1149.74 1745.91 1149.74 Q1754.64 1149.74 1759.24 1152.81 Q1763.83 1155.87 1763.83 1161.68 Q1763.83 1167.49 1759.24 1170.57 Q1754.64 1173.62 1745.91 1173.62 Q1737.16 1173.62 1732.58 1170.57 Q1727.97 1167.49 1727.97 1161.68 Z\" fill=\"#000000\" fill-rule=\"evenodd\" fill-opacity=\"1\" /><path clip-path=\"url(#clip300)\" d=\"M1757.28 1141.03 L1757.28 1136.15 L1763.16 1136.15 L1763.16 1141.03 L1757.28 1141.03 M1738.64 1141.03 L1738.64 1136.15 L1744.52 1136.15 L1744.52 1141.03 L1738.64 1141.03 Z\" fill=\"#000000\" fill-rule=\"evenodd\" fill-opacity=\"1\" /><path clip-path=\"url(#clip300)\" d=\"M1731.67 1115.55 Q1731.67 1119.16 1735.24 1120.99 Q1738.78 1122.79 1745.91 1122.79 Q1753.02 1122.79 1756.58 1120.99 Q1760.12 1119.16 1760.12 1115.55 Q1760.12 1111.91 1756.58 1110.11 Q1753.02 1108.28 1745.91 1108.28 Q1738.78 1108.28 1735.24 1110.11 Q1731.67 1111.91 1731.67 1115.55 M1727.97 1115.55 Q1727.97 1109.74 1732.58 1106.68 Q1737.16 1103.6 1745.91 1103.6 Q1754.64 1103.6 1759.24 1106.68 Q1763.83 1109.74 1763.83 1115.55 Q1763.83 1121.36 1759.24 1124.44 Q1754.64 1127.49 1745.91 1127.49 Q1737.16 1127.49 1732.58 1124.44 Q1727.97 1121.36 1727.97 1115.55 Z\" fill=\"#000000\" fill-rule=\"evenodd\" fill-opacity=\"1\" /><path clip-path=\"url(#clip300)\" d=\"M1731.67 1085.38 Q1731.67 1089 1735.24 1090.82 Q1738.78 1092.63 1745.91 1092.63 Q1753.02 1092.63 1756.58 1090.82 Q1760.12 1089 1760.12 1085.38 Q1760.12 1081.75 1756.58 1079.94 Q1753.02 1078.12 1745.91 1078.12 Q1738.78 1078.12 1735.24 1079.94 Q1731.67 1081.75 1731.67 1085.38 M1727.97 1085.38 Q1727.97 1079.57 1732.58 1076.52 Q1737.16 1073.44 1745.91 1073.44 Q1754.64 1073.44 1759.24 1076.52 Q1763.83 1079.57 1763.83 1085.38 Q1763.83 1091.19 1759.24 1094.27 Q1754.64 1097.33 1745.91 1097.33 Q1737.16 1097.33 1732.58 1094.27 Q1727.97 1091.19 1727.97 1085.38 Z\" fill=\"#000000\" fill-rule=\"evenodd\" fill-opacity=\"1\" /><path clip-path=\"url(#clip300)\" d=\"M1827.64 1578.58 L1827.64 1562.26 L1831.57 1562.26 L1831.57 1584.2 L1827.64 1584.2 Q1824.89 1581.54 1820.26 1576.96 Q1815.6 1572.35 1814.26 1571.17 Q1811.74 1568.92 1810 1568.04 Q1808.24 1567.14 1806.55 1567.14 Q1803.8 1567.14 1802.06 1569.09 Q1800.33 1571.01 1800.33 1574.11 Q1800.33 1576.31 1801.09 1578.76 Q1801.85 1581.19 1803.4 1583.97 L1798.68 1583.97 Q1797.55 1581.15 1796.97 1578.69 Q1796.39 1576.24 1796.39 1574.2 Q1796.39 1568.83 1799.08 1565.64 Q1801.76 1562.44 1806.25 1562.44 Q1808.38 1562.44 1810.3 1563.25 Q1812.2 1564.04 1814.79 1566.15 Q1815.46 1566.72 1818.68 1569.83 Q1821.88 1572.93 1827.64 1578.58 Z\" fill=\"#000000\" fill-rule=\"evenodd\" fill-opacity=\"1\" /><path clip-path=\"url(#clip300)\" d=\"M1800.09 1542.44 Q1800.09 1546.05 1803.66 1547.88 Q1807.2 1549.69 1814.33 1549.69 Q1821.44 1549.69 1825 1547.88 Q1828.54 1546.05 1828.54 1542.44 Q1828.54 1538.81 1825 1537 Q1821.44 1535.17 1814.33 1535.17 Q1807.2 1535.17 1803.66 1537 Q1800.09 1538.81 1800.09 1542.44 M1796.39 1542.44 Q1796.39 1536.63 1801 1533.58 Q1805.58 1530.5 1814.33 1530.5 Q1823.06 1530.5 1827.66 1533.58 Q1832.25 1536.63 1832.25 1542.44 Q1832.25 1548.25 1827.66 1551.33 Q1823.06 1554.39 1814.33 1554.39 Q1805.58 1554.39 1801 1551.33 Q1796.39 1548.25 1796.39 1542.44 Z\" fill=\"#000000\" fill-rule=\"evenodd\" fill-opacity=\"1\" /><path clip-path=\"url(#clip300)\" d=\"M1827.64 1518.25 L1827.64 1501.93 L1831.57 1501.93 L1831.57 1523.88 L1827.64 1523.88 Q1824.89 1521.22 1820.26 1516.63 Q1815.6 1512.03 1814.26 1510.85 Q1811.74 1508.6 1810 1507.72 Q1808.24 1506.82 1806.55 1506.82 Q1803.8 1506.82 1802.06 1508.76 Q1800.33 1510.68 1800.33 1513.79 Q1800.33 1515.98 1801.09 1518.44 Q1801.85 1520.87 1803.4 1523.65 L1798.68 1523.65 Q1797.55 1520.82 1796.97 1518.37 Q1796.39 1515.91 1796.39 1513.88 Q1796.39 1508.51 1799.08 1505.31 Q1801.76 1502.12 1806.25 1502.12 Q1808.38 1502.12 1810.3 1502.93 Q1812.2 1503.72 1814.79 1505.82 Q1815.46 1506.4 1818.68 1509.5 Q1821.88 1512.6 1827.64 1518.25 Z\" fill=\"#000000\" fill-rule=\"evenodd\" fill-opacity=\"1\" /><path clip-path=\"url(#clip300)\" d=\"M1800.09 1482.12 Q1800.09 1485.73 1803.66 1487.56 Q1807.2 1489.36 1814.33 1489.36 Q1821.44 1489.36 1825 1487.56 Q1828.54 1485.73 1828.54 1482.12 Q1828.54 1478.48 1825 1476.68 Q1821.44 1474.85 1814.33 1474.85 Q1807.2 1474.85 1803.66 1476.68 Q1800.09 1478.48 1800.09 1482.12 M1796.39 1482.12 Q1796.39 1476.31 1801 1473.25 Q1805.58 1470.17 1814.33 1470.17 Q1823.06 1470.17 1827.66 1473.25 Q1832.25 1476.31 1832.25 1482.12 Q1832.25 1487.93 1827.66 1491.01 Q1823.06 1494.06 1814.33 1494.06 Q1805.58 1494.06 1801 1491.01 Q1796.39 1487.93 1796.39 1482.12 Z\" fill=\"#000000\" fill-rule=\"evenodd\" fill-opacity=\"1\" /><path clip-path=\"url(#clip300)\" d=\"M1816.69 1464.71 L1816.69 1452.23 L1820.49 1452.23 L1820.49 1464.71 L1816.69 1464.71 Z\" fill=\"#000000\" fill-rule=\"evenodd\" fill-opacity=\"1\" /><path clip-path=\"url(#clip300)\" d=\"M1800.09 1434.85 Q1800.09 1438.46 1803.66 1440.29 Q1807.2 1442.1 1814.33 1442.1 Q1821.44 1442.1 1825 1440.29 Q1828.54 1438.46 1828.54 1434.85 Q1828.54 1431.22 1825 1429.41 Q1821.44 1427.58 1814.33 1427.58 Q1807.2 1427.58 1803.66 1429.41 Q1800.09 1431.22 1800.09 1434.85 M1796.39 1434.85 Q1796.39 1429.04 1801 1425.98 Q1805.58 1422.91 1814.33 1422.91 Q1823.06 1422.91 1827.66 1425.98 Q1832.25 1429.04 1832.25 1434.85 Q1832.25 1440.66 1827.66 1443.74 Q1823.06 1446.79 1814.33 1446.79 Q1805.58 1446.79 1801 1443.74 Q1796.39 1440.66 1796.39 1434.85 Z\" fill=\"#000000\" fill-rule=\"evenodd\" fill-opacity=\"1\" /><path clip-path=\"url(#clip300)\" d=\"M1812.43 1404.11 Q1812.43 1407.26 1814.58 1409.11 Q1816.74 1410.94 1820.49 1410.94 Q1824.21 1410.94 1826.39 1409.11 Q1828.54 1407.26 1828.54 1404.11 Q1828.54 1400.96 1826.39 1399.13 Q1824.21 1397.28 1820.49 1397.28 Q1816.74 1397.28 1814.58 1399.13 Q1812.43 1400.96 1812.43 1404.11 M1797.78 1394.83 L1802.04 1394.83 Q1801.2 1396.59 1800.76 1398.39 Q1800.33 1400.17 1800.33 1401.93 Q1800.33 1406.56 1803.45 1409.02 Q1806.57 1411.45 1812.89 1411.79 Q1810.88 1410.43 1809.82 1408.37 Q1808.73 1406.31 1808.73 1403.83 Q1808.73 1398.62 1811.9 1395.61 Q1815.05 1392.58 1820.49 1392.58 Q1825.81 1392.58 1829.03 1395.73 Q1832.25 1398.88 1832.25 1404.11 Q1832.25 1410.11 1827.66 1413.28 Q1823.06 1416.45 1814.33 1416.45 Q1806.14 1416.45 1801.27 1412.56 Q1796.39 1408.67 1796.39 1402.12 Q1796.39 1400.36 1796.74 1398.58 Q1797.08 1396.77 1797.78 1394.83 Z\" fill=\"#000000\" fill-rule=\"evenodd\" fill-opacity=\"1\" /><path clip-path=\"url(#clip300)\" d=\"M1816.69 1387.28 L1816.69 1374.8 L1820.49 1374.8 L1820.49 1387.28 L1816.69 1387.28 Z\" fill=\"#000000\" fill-rule=\"evenodd\" fill-opacity=\"1\" /><path clip-path=\"url(#clip300)\" d=\"M1827.64 1363.39 L1827.64 1347.07 L1831.57 1347.07 L1831.57 1369.02 L1827.64 1369.02 Q1824.89 1366.36 1820.26 1361.77 Q1815.6 1357.17 1814.26 1355.99 Q1811.74 1353.74 1810 1352.86 Q1808.24 1351.96 1806.55 1351.96 Q1803.8 1351.96 1802.06 1353.9 Q1800.33 1355.82 1800.33 1358.92 Q1800.33 1361.12 1801.09 1363.58 Q1801.85 1366.01 1803.4 1368.79 L1798.68 1368.79 Q1797.55 1365.96 1796.97 1363.51 Q1796.39 1361.05 1796.39 1359.02 Q1796.39 1353.65 1799.08 1350.45 Q1801.76 1347.26 1806.25 1347.26 Q1808.38 1347.26 1810.3 1348.07 Q1812.2 1348.86 1814.79 1350.96 Q1815.46 1351.54 1818.68 1354.64 Q1821.88 1357.74 1827.64 1363.39 Z\" fill=\"#000000\" fill-rule=\"evenodd\" fill-opacity=\"1\" /><path clip-path=\"url(#clip300)\" d=\"M1812.94 1323.09 Q1813.66 1319.74 1815.93 1317.86 Q1818.2 1315.96 1821.53 1315.96 Q1826.64 1315.96 1829.45 1319.48 Q1832.25 1323 1832.25 1329.48 Q1832.25 1331.66 1831.81 1333.97 Q1831.39 1336.26 1830.53 1338.72 L1826.02 1338.72 Q1827.15 1336.77 1827.73 1334.46 Q1828.31 1332.14 1828.31 1329.62 Q1828.31 1325.22 1826.57 1322.93 Q1824.84 1320.61 1821.53 1320.61 Q1818.47 1320.61 1816.76 1322.77 Q1815.02 1324.9 1815.02 1328.72 L1815.02 1332.74 L1811.18 1332.74 L1811.18 1328.53 Q1811.18 1325.08 1809.82 1323.25 Q1808.43 1321.43 1805.83 1321.43 Q1803.17 1321.43 1801.76 1323.32 Q1800.33 1325.2 1800.33 1328.72 Q1800.33 1330.64 1800.74 1332.84 Q1801.16 1335.04 1802.04 1337.67 L1797.87 1337.67 Q1797.13 1335.01 1796.76 1332.7 Q1796.39 1330.36 1796.39 1328.3 Q1796.39 1322.98 1798.82 1319.87 Q1801.23 1316.77 1805.35 1316.77 Q1808.22 1316.77 1810.21 1318.42 Q1812.18 1320.06 1812.94 1323.09 Z\" fill=\"#000000\" fill-rule=\"evenodd\" fill-opacity=\"1\" /><path clip-path=\"url(#clip300)\" d=\"M1797.01 1312.3 L1797.01 1283.07 L1800.95 1283.07 L1800.95 1295.34 L1831.57 1295.34 L1831.57 1300.04 L1800.95 1300.04 L1800.95 1312.3 L1797.01 1312.3 Z\" fill=\"#000000\" fill-rule=\"evenodd\" fill-opacity=\"1\" /><path clip-path=\"url(#clip300)\" d=\"M1800.09 1268.14 Q1800.09 1271.75 1803.66 1273.58 Q1807.2 1275.38 1814.33 1275.38 Q1821.44 1275.38 1825 1273.58 Q1828.54 1271.75 1828.54 1268.14 Q1828.54 1264.5 1825 1262.7 Q1821.44 1260.87 1814.33 1260.87 Q1807.2 1260.87 1803.66 1262.7 Q1800.09 1264.5 1800.09 1268.14 M1796.39 1268.14 Q1796.39 1262.33 1801 1259.27 Q1805.58 1256.19 1814.33 1256.19 Q1823.06 1256.19 1827.66 1259.27 Q1832.25 1262.33 1832.25 1268.14 Q1832.25 1273.95 1827.66 1277.03 Q1823.06 1280.08 1814.33 1280.08 Q1805.58 1280.08 1801 1277.03 Q1796.39 1273.95 1796.39 1268.14 Z\" fill=\"#000000\" fill-rule=\"evenodd\" fill-opacity=\"1\" /><path clip-path=\"url(#clip300)\" d=\"M1800.09 1237.98 Q1800.09 1241.59 1803.66 1243.42 Q1807.2 1245.22 1814.33 1245.22 Q1821.44 1245.22 1825 1243.42 Q1828.54 1241.59 1828.54 1237.98 Q1828.54 1234.34 1825 1232.54 Q1821.44 1230.71 1814.33 1230.71 Q1807.2 1230.71 1803.66 1232.54 Q1800.09 1234.34 1800.09 1237.98 M1796.39 1237.98 Q1796.39 1232.17 1801 1229.11 Q1805.58 1226.03 1814.33 1226.03 Q1823.06 1226.03 1827.66 1229.11 Q1832.25 1232.17 1832.25 1237.98 Q1832.25 1243.79 1827.66 1246.87 Q1823.06 1249.92 1814.33 1249.92 Q1805.58 1249.92 1801 1246.87 Q1796.39 1243.79 1796.39 1237.98 Z\" fill=\"#000000\" fill-rule=\"evenodd\" fill-opacity=\"1\" /><path clip-path=\"url(#clip300)\" d=\"M1825.7 1217.33 L1825.7 1212.44 L1831.57 1212.44 L1831.57 1217.33 L1825.7 1217.33 M1807.06 1217.33 L1807.06 1212.44 L1812.94 1212.44 L1812.94 1217.33 L1807.06 1217.33 Z\" fill=\"#000000\" fill-rule=\"evenodd\" fill-opacity=\"1\" /><path clip-path=\"url(#clip300)\" d=\"M1800.09 1191.84 Q1800.09 1195.45 1803.66 1197.28 Q1807.2 1199.09 1814.33 1199.09 Q1821.44 1199.09 1825 1197.28 Q1828.54 1195.45 1828.54 1191.84 Q1828.54 1188.21 1825 1186.4 Q1821.44 1184.57 1814.33 1184.57 Q1807.2 1184.57 1803.66 1186.4 Q1800.09 1188.21 1800.09 1191.84 M1796.39 1191.84 Q1796.39 1186.03 1801 1182.98 Q1805.58 1179.9 1814.33 1179.9 Q1823.06 1179.9 1827.66 1182.98 Q1832.25 1186.03 1832.25 1191.84 Q1832.25 1197.65 1827.66 1200.73 Q1823.06 1203.79 1814.33 1203.79 Q1805.58 1203.79 1801 1200.73 Q1796.39 1197.65 1796.39 1191.84 Z\" fill=\"#000000\" fill-rule=\"evenodd\" fill-opacity=\"1\" /><path clip-path=\"url(#clip300)\" d=\"M1800.09 1161.68 Q1800.09 1165.29 1803.66 1167.12 Q1807.2 1168.93 1814.33 1168.93 Q1821.44 1168.93 1825 1167.12 Q1828.54 1165.29 1828.54 1161.68 Q1828.54 1158.05 1825 1156.24 Q1821.44 1154.41 1814.33 1154.41 Q1807.2 1154.41 1803.66 1156.24 Q1800.09 1158.05 1800.09 1161.68 M1796.39 1161.68 Q1796.39 1155.87 1801 1152.81 Q1805.58 1149.74 1814.33 1149.74 Q1823.06 1149.74 1827.66 1152.81 Q1832.25 1155.87 1832.25 1161.68 Q1832.25 1167.49 1827.66 1170.57 Q1823.06 1173.62 1814.33 1173.62 Q1805.58 1173.62 1801 1170.57 Q1796.39 1167.49 1796.39 1161.68 Z\" fill=\"#000000\" fill-rule=\"evenodd\" fill-opacity=\"1\" /><path clip-path=\"url(#clip300)\" d=\"M1825.7 1141.03 L1825.7 1136.15 L1831.57 1136.15 L1831.57 1141.03 L1825.7 1141.03 M1807.06 1141.03 L1807.06 1136.15 L1812.94 1136.15 L1812.94 1141.03 L1807.06 1141.03 Z\" fill=\"#000000\" fill-rule=\"evenodd\" fill-opacity=\"1\" /><path clip-path=\"url(#clip300)\" d=\"M1800.09 1115.55 Q1800.09 1119.16 1803.66 1120.99 Q1807.2 1122.79 1814.33 1122.79 Q1821.44 1122.79 1825 1120.99 Q1828.54 1119.16 1828.54 1115.55 Q1828.54 1111.91 1825 1110.11 Q1821.44 1108.28 1814.33 1108.28 Q1807.2 1108.28 1803.66 1110.11 Q1800.09 1111.91 1800.09 1115.55 M1796.39 1115.55 Q1796.39 1109.74 1801 1106.68 Q1805.58 1103.6 1814.33 1103.6 Q1823.06 1103.6 1827.66 1106.68 Q1832.25 1109.74 1832.25 1115.55 Q1832.25 1121.36 1827.66 1124.44 Q1823.06 1127.49 1814.33 1127.49 Q1805.58 1127.49 1801 1124.44 Q1796.39 1121.36 1796.39 1115.55 Z\" fill=\"#000000\" fill-rule=\"evenodd\" fill-opacity=\"1\" /><path clip-path=\"url(#clip300)\" d=\"M1800.09 1085.38 Q1800.09 1089 1803.66 1090.82 Q1807.2 1092.63 1814.33 1092.63 Q1821.44 1092.63 1825 1090.82 Q1828.54 1089 1828.54 1085.38 Q1828.54 1081.75 1825 1079.94 Q1821.44 1078.12 1814.33 1078.12 Q1807.2 1078.12 1803.66 1079.94 Q1800.09 1081.75 1800.09 1085.38 M1796.39 1085.38 Q1796.39 1079.57 1801 1076.52 Q1805.58 1073.44 1814.33 1073.44 Q1823.06 1073.44 1827.66 1076.52 Q1832.25 1079.57 1832.25 1085.38 Q1832.25 1091.19 1827.66 1094.27 Q1823.06 1097.33 1814.33 1097.33 Q1805.58 1097.33 1801 1094.27 Q1796.39 1091.19 1796.39 1085.38 Z\" fill=\"#000000\" fill-rule=\"evenodd\" fill-opacity=\"1\" /><path clip-path=\"url(#clip300)\" d=\"M1896.06 1578.58 L1896.06 1562.26 L1899.99 1562.26 L1899.99 1584.2 L1896.06 1584.2 Q1893.3 1581.54 1888.67 1576.96 Q1884.02 1572.35 1882.68 1571.17 Q1880.16 1568.92 1878.42 1568.04 Q1876.66 1567.14 1874.97 1567.14 Q1872.22 1567.14 1870.48 1569.09 Q1868.74 1571.01 1868.74 1574.11 Q1868.74 1576.31 1869.51 1578.76 Q1870.27 1581.19 1871.82 1583.97 L1867.1 1583.97 Q1865.97 1581.15 1865.39 1578.69 Q1864.81 1576.24 1864.81 1574.2 Q1864.81 1568.83 1867.49 1565.64 Q1870.18 1562.44 1874.67 1562.44 Q1876.8 1562.44 1878.72 1563.25 Q1880.62 1564.04 1883.21 1566.15 Q1883.88 1566.72 1887.1 1569.83 Q1890.3 1572.93 1896.06 1578.58 Z\" fill=\"#000000\" fill-rule=\"evenodd\" fill-opacity=\"1\" /><path clip-path=\"url(#clip300)\" d=\"M1868.51 1542.44 Q1868.51 1546.05 1872.08 1547.88 Q1875.62 1549.69 1882.75 1549.69 Q1889.86 1549.69 1893.42 1547.88 Q1896.96 1546.05 1896.96 1542.44 Q1896.96 1538.81 1893.42 1537 Q1889.86 1535.17 1882.75 1535.17 Q1875.62 1535.17 1872.08 1537 Q1868.51 1538.81 1868.51 1542.44 M1864.81 1542.44 Q1864.81 1536.63 1869.42 1533.58 Q1874 1530.5 1882.75 1530.5 Q1891.48 1530.5 1896.08 1533.58 Q1900.67 1536.63 1900.67 1542.44 Q1900.67 1548.25 1896.08 1551.33 Q1891.48 1554.39 1882.75 1554.39 Q1874 1554.39 1869.42 1551.33 Q1864.81 1548.25 1864.81 1542.44 Z\" fill=\"#000000\" fill-rule=\"evenodd\" fill-opacity=\"1\" /><path clip-path=\"url(#clip300)\" d=\"M1896.06 1518.25 L1896.06 1501.93 L1899.99 1501.93 L1899.99 1523.88 L1896.06 1523.88 Q1893.3 1521.22 1888.67 1516.63 Q1884.02 1512.03 1882.68 1510.85 Q1880.16 1508.6 1878.42 1507.72 Q1876.66 1506.82 1874.97 1506.82 Q1872.22 1506.82 1870.48 1508.76 Q1868.74 1510.68 1868.74 1513.79 Q1868.74 1515.98 1869.51 1518.44 Q1870.27 1520.87 1871.82 1523.65 L1867.1 1523.65 Q1865.97 1520.82 1865.39 1518.37 Q1864.81 1515.91 1864.81 1513.88 Q1864.81 1508.51 1867.49 1505.31 Q1870.18 1502.12 1874.67 1502.12 Q1876.8 1502.12 1878.72 1502.93 Q1880.62 1503.72 1883.21 1505.82 Q1883.88 1506.4 1887.1 1509.5 Q1890.3 1512.6 1896.06 1518.25 Z\" fill=\"#000000\" fill-rule=\"evenodd\" fill-opacity=\"1\" /><path clip-path=\"url(#clip300)\" d=\"M1868.51 1482.12 Q1868.51 1485.73 1872.08 1487.56 Q1875.62 1489.36 1882.75 1489.36 Q1889.86 1489.36 1893.42 1487.56 Q1896.96 1485.73 1896.96 1482.12 Q1896.96 1478.48 1893.42 1476.68 Q1889.86 1474.85 1882.75 1474.85 Q1875.62 1474.85 1872.08 1476.68 Q1868.51 1478.48 1868.51 1482.12 M1864.81 1482.12 Q1864.81 1476.31 1869.42 1473.25 Q1874 1470.17 1882.75 1470.17 Q1891.48 1470.17 1896.08 1473.25 Q1900.67 1476.31 1900.67 1482.12 Q1900.67 1487.93 1896.08 1491.01 Q1891.48 1494.06 1882.75 1494.06 Q1874 1494.06 1869.42 1491.01 Q1864.81 1487.93 1864.81 1482.12 Z\" fill=\"#000000\" fill-rule=\"evenodd\" fill-opacity=\"1\" /><path clip-path=\"url(#clip300)\" d=\"M1885.11 1464.71 L1885.11 1452.23 L1888.91 1452.23 L1888.91 1464.71 L1885.11 1464.71 Z\" fill=\"#000000\" fill-rule=\"evenodd\" fill-opacity=\"1\" /><path clip-path=\"url(#clip300)\" d=\"M1868.51 1434.85 Q1868.51 1438.46 1872.08 1440.29 Q1875.62 1442.1 1882.75 1442.1 Q1889.86 1442.1 1893.42 1440.29 Q1896.96 1438.46 1896.96 1434.85 Q1896.96 1431.22 1893.42 1429.41 Q1889.86 1427.58 1882.75 1427.58 Q1875.62 1427.58 1872.08 1429.41 Q1868.51 1431.22 1868.51 1434.85 M1864.81 1434.85 Q1864.81 1429.04 1869.42 1425.98 Q1874 1422.91 1882.75 1422.91 Q1891.48 1422.91 1896.08 1425.98 Q1900.67 1429.04 1900.67 1434.85 Q1900.67 1440.66 1896.08 1443.74 Q1891.48 1446.79 1882.75 1446.79 Q1874 1446.79 1869.42 1443.74 Q1864.81 1440.66 1864.81 1434.85 Z\" fill=\"#000000\" fill-rule=\"evenodd\" fill-opacity=\"1\" /><path clip-path=\"url(#clip300)\" d=\"M1880.85 1404.11 Q1880.85 1407.26 1883 1409.11 Q1885.16 1410.94 1888.91 1410.94 Q1892.63 1410.94 1894.81 1409.11 Q1896.96 1407.26 1896.96 1404.11 Q1896.96 1400.96 1894.81 1399.13 Q1892.63 1397.28 1888.91 1397.28 Q1885.16 1397.28 1883 1399.13 Q1880.85 1400.96 1880.85 1404.11 M1866.2 1394.83 L1870.46 1394.83 Q1869.62 1396.59 1869.18 1398.39 Q1868.74 1400.17 1868.74 1401.93 Q1868.74 1406.56 1871.87 1409.02 Q1874.99 1411.45 1881.31 1411.79 Q1879.3 1410.43 1878.24 1408.37 Q1877.15 1406.31 1877.15 1403.83 Q1877.15 1398.62 1880.32 1395.61 Q1883.47 1392.58 1888.91 1392.58 Q1894.23 1392.58 1897.45 1395.73 Q1900.67 1398.88 1900.67 1404.11 Q1900.67 1410.11 1896.08 1413.28 Q1891.48 1416.45 1882.75 1416.45 Q1874.55 1416.45 1869.69 1412.56 Q1864.81 1408.67 1864.81 1402.12 Q1864.81 1400.36 1865.16 1398.58 Q1865.5 1396.77 1866.2 1394.83 Z\" fill=\"#000000\" fill-rule=\"evenodd\" fill-opacity=\"1\" /><path clip-path=\"url(#clip300)\" d=\"M1885.11 1387.28 L1885.11 1374.8 L1888.91 1374.8 L1888.91 1387.28 L1885.11 1387.28 Z\" fill=\"#000000\" fill-rule=\"evenodd\" fill-opacity=\"1\" /><path clip-path=\"url(#clip300)\" d=\"M1896.06 1363.39 L1896.06 1347.07 L1899.99 1347.07 L1899.99 1369.02 L1896.06 1369.02 Q1893.3 1366.36 1888.67 1361.77 Q1884.02 1357.17 1882.68 1355.99 Q1880.16 1353.74 1878.42 1352.86 Q1876.66 1351.96 1874.97 1351.96 Q1872.22 1351.96 1870.48 1353.9 Q1868.74 1355.82 1868.74 1358.92 Q1868.74 1361.12 1869.51 1363.58 Q1870.27 1366.01 1871.82 1368.79 L1867.1 1368.79 Q1865.97 1365.96 1865.39 1363.51 Q1864.81 1361.05 1864.81 1359.02 Q1864.81 1353.65 1867.49 1350.45 Q1870.18 1347.26 1874.67 1347.26 Q1876.8 1347.26 1878.72 1348.07 Q1880.62 1348.86 1883.21 1350.96 Q1883.88 1351.54 1887.1 1354.64 Q1890.3 1357.74 1896.06 1363.39 Z\" fill=\"#000000\" fill-rule=\"evenodd\" fill-opacity=\"1\" /><path clip-path=\"url(#clip300)\" d=\"M1869.51 1324.41 L1887.96 1336.22 L1887.96 1324.41 L1869.51 1324.41 M1865.43 1325.64 L1865.43 1319.76 L1887.96 1319.76 L1887.96 1314.83 L1891.85 1314.83 L1891.85 1319.76 L1899.99 1319.76 L1899.99 1324.41 L1891.85 1324.41 L1891.85 1340.01 L1887.33 1340.01 L1865.43 1325.64 Z\" fill=\"#000000\" fill-rule=\"evenodd\" fill-opacity=\"1\" /><path clip-path=\"url(#clip300)\" d=\"M1865.43 1312.3 L1865.43 1283.07 L1869.37 1283.07 L1869.37 1295.34 L1899.99 1295.34 L1899.99 1300.04 L1869.37 1300.04 L1869.37 1312.3 L1865.43 1312.3 Z\" fill=\"#000000\" fill-rule=\"evenodd\" fill-opacity=\"1\" /><path clip-path=\"url(#clip300)\" d=\"M1868.51 1268.14 Q1868.51 1271.75 1872.08 1273.58 Q1875.62 1275.38 1882.75 1275.38 Q1889.86 1275.38 1893.42 1273.58 Q1896.96 1271.75 1896.96 1268.14 Q1896.96 1264.5 1893.42 1262.7 Q1889.86 1260.87 1882.75 1260.87 Q1875.62 1260.87 1872.08 1262.7 Q1868.51 1264.5 1868.51 1268.14 M1864.81 1268.14 Q1864.81 1262.33 1869.42 1259.27 Q1874 1256.19 1882.75 1256.19 Q1891.48 1256.19 1896.08 1259.27 Q1900.67 1262.33 1900.67 1268.14 Q1900.67 1273.95 1896.08 1277.03 Q1891.48 1280.08 1882.75 1280.08 Q1874 1280.08 1869.42 1277.03 Q1864.81 1273.95 1864.81 1268.14 Z\" fill=\"#000000\" fill-rule=\"evenodd\" fill-opacity=\"1\" /><path clip-path=\"url(#clip300)\" d=\"M1868.51 1237.98 Q1868.51 1241.59 1872.08 1243.42 Q1875.62 1245.22 1882.75 1245.22 Q1889.86 1245.22 1893.42 1243.42 Q1896.96 1241.59 1896.96 1237.98 Q1896.96 1234.34 1893.42 1232.54 Q1889.86 1230.71 1882.75 1230.71 Q1875.62 1230.71 1872.08 1232.54 Q1868.51 1234.34 1868.51 1237.98 M1864.81 1237.98 Q1864.81 1232.17 1869.42 1229.11 Q1874 1226.03 1882.75 1226.03 Q1891.48 1226.03 1896.08 1229.11 Q1900.67 1232.17 1900.67 1237.98 Q1900.67 1243.79 1896.08 1246.87 Q1891.48 1249.92 1882.75 1249.92 Q1874 1249.92 1869.42 1246.87 Q1864.81 1243.79 1864.81 1237.98 Z\" fill=\"#000000\" fill-rule=\"evenodd\" fill-opacity=\"1\" /><path clip-path=\"url(#clip300)\" d=\"M1894.11 1217.33 L1894.11 1212.44 L1899.99 1212.44 L1899.99 1217.33 L1894.11 1217.33 M1875.48 1217.33 L1875.48 1212.44 L1881.36 1212.44 L1881.36 1217.33 L1875.48 1217.33 Z\" fill=\"#000000\" fill-rule=\"evenodd\" fill-opacity=\"1\" /><path clip-path=\"url(#clip300)\" d=\"M1868.51 1191.84 Q1868.51 1195.45 1872.08 1197.28 Q1875.62 1199.09 1882.75 1199.09 Q1889.86 1199.09 1893.42 1197.28 Q1896.96 1195.45 1896.96 1191.84 Q1896.96 1188.21 1893.42 1186.4 Q1889.86 1184.57 1882.75 1184.57 Q1875.62 1184.57 1872.08 1186.4 Q1868.51 1188.21 1868.51 1191.84 M1864.81 1191.84 Q1864.81 1186.03 1869.42 1182.98 Q1874 1179.9 1882.75 1179.9 Q1891.48 1179.9 1896.08 1182.98 Q1900.67 1186.03 1900.67 1191.84 Q1900.67 1197.65 1896.08 1200.73 Q1891.48 1203.79 1882.75 1203.79 Q1874 1203.79 1869.42 1200.73 Q1864.81 1197.65 1864.81 1191.84 Z\" fill=\"#000000\" fill-rule=\"evenodd\" fill-opacity=\"1\" /><path clip-path=\"url(#clip300)\" d=\"M1868.51 1161.68 Q1868.51 1165.29 1872.08 1167.12 Q1875.62 1168.93 1882.75 1168.93 Q1889.86 1168.93 1893.42 1167.12 Q1896.96 1165.29 1896.96 1161.68 Q1896.96 1158.05 1893.42 1156.24 Q1889.86 1154.41 1882.75 1154.41 Q1875.62 1154.41 1872.08 1156.24 Q1868.51 1158.05 1868.51 1161.68 M1864.81 1161.68 Q1864.81 1155.87 1869.42 1152.81 Q1874 1149.74 1882.75 1149.74 Q1891.48 1149.74 1896.08 1152.81 Q1900.67 1155.87 1900.67 1161.68 Q1900.67 1167.49 1896.08 1170.57 Q1891.48 1173.62 1882.75 1173.62 Q1874 1173.62 1869.42 1170.57 Q1864.81 1167.49 1864.81 1161.68 Z\" fill=\"#000000\" fill-rule=\"evenodd\" fill-opacity=\"1\" /><path clip-path=\"url(#clip300)\" d=\"M1894.11 1141.03 L1894.11 1136.15 L1899.99 1136.15 L1899.99 1141.03 L1894.11 1141.03 M1875.48 1141.03 L1875.48 1136.15 L1881.36 1136.15 L1881.36 1141.03 L1875.48 1141.03 Z\" fill=\"#000000\" fill-rule=\"evenodd\" fill-opacity=\"1\" /><path clip-path=\"url(#clip300)\" d=\"M1868.51 1115.55 Q1868.51 1119.16 1872.08 1120.99 Q1875.62 1122.79 1882.75 1122.79 Q1889.86 1122.79 1893.42 1120.99 Q1896.96 1119.16 1896.96 1115.55 Q1896.96 1111.91 1893.42 1110.11 Q1889.86 1108.28 1882.75 1108.28 Q1875.62 1108.28 1872.08 1110.11 Q1868.51 1111.91 1868.51 1115.55 M1864.81 1115.55 Q1864.81 1109.74 1869.42 1106.68 Q1874 1103.6 1882.75 1103.6 Q1891.48 1103.6 1896.08 1106.68 Q1900.67 1109.74 1900.67 1115.55 Q1900.67 1121.36 1896.08 1124.44 Q1891.48 1127.49 1882.75 1127.49 Q1874 1127.49 1869.42 1124.44 Q1864.81 1121.36 1864.81 1115.55 Z\" fill=\"#000000\" fill-rule=\"evenodd\" fill-opacity=\"1\" /><path clip-path=\"url(#clip300)\" d=\"M1868.51 1085.38 Q1868.51 1089 1872.08 1090.82 Q1875.62 1092.63 1882.75 1092.63 Q1889.86 1092.63 1893.42 1090.82 Q1896.96 1089 1896.96 1085.38 Q1896.96 1081.75 1893.42 1079.94 Q1889.86 1078.12 1882.75 1078.12 Q1875.62 1078.12 1872.08 1079.94 Q1868.51 1081.75 1868.51 1085.38 M1864.81 1085.38 Q1864.81 1079.57 1869.42 1076.52 Q1874 1073.44 1882.75 1073.44 Q1891.48 1073.44 1896.08 1076.52 Q1900.67 1079.57 1900.67 1085.38 Q1900.67 1091.19 1896.08 1094.27 Q1891.48 1097.33 1882.75 1097.33 Q1874 1097.33 1869.42 1094.27 Q1864.81 1091.19 1864.81 1085.38 Z\" fill=\"#000000\" fill-rule=\"evenodd\" fill-opacity=\"1\" /><path clip-path=\"url(#clip300)\" d=\"M1964.48 1578.58 L1964.48 1562.26 L1968.41 1562.26 L1968.41 1584.2 L1964.48 1584.2 Q1961.72 1581.54 1957.09 1576.96 Q1952.44 1572.35 1951.1 1571.17 Q1948.58 1568.92 1946.84 1568.04 Q1945.08 1567.14 1943.39 1567.14 Q1940.64 1567.14 1938.9 1569.09 Q1937.16 1571.01 1937.16 1574.11 Q1937.16 1576.31 1937.93 1578.76 Q1938.69 1581.19 1940.24 1583.97 L1935.52 1583.97 Q1934.39 1581.15 1933.81 1578.69 Q1933.23 1576.24 1933.23 1574.2 Q1933.23 1568.83 1935.91 1565.64 Q1938.6 1562.44 1943.09 1562.44 Q1945.22 1562.44 1947.14 1563.25 Q1949.04 1564.04 1951.63 1566.15 Q1952.3 1566.72 1955.52 1569.83 Q1958.71 1572.93 1964.48 1578.58 Z\" fill=\"#000000\" fill-rule=\"evenodd\" fill-opacity=\"1\" /><path clip-path=\"url(#clip300)\" d=\"M1936.93 1542.44 Q1936.93 1546.05 1940.5 1547.88 Q1944.04 1549.69 1951.17 1549.69 Q1958.27 1549.69 1961.84 1547.88 Q1965.38 1546.05 1965.38 1542.44 Q1965.38 1538.81 1961.84 1537 Q1958.27 1535.17 1951.17 1535.17 Q1944.04 1535.17 1940.5 1537 Q1936.93 1538.81 1936.93 1542.44 M1933.23 1542.44 Q1933.23 1536.63 1937.84 1533.58 Q1942.42 1530.5 1951.17 1530.5 Q1959.9 1530.5 1964.5 1533.58 Q1969.09 1536.63 1969.09 1542.44 Q1969.09 1548.25 1964.5 1551.33 Q1959.9 1554.39 1951.17 1554.39 Q1942.42 1554.39 1937.84 1551.33 Q1933.23 1548.25 1933.23 1542.44 Z\" fill=\"#000000\" fill-rule=\"evenodd\" fill-opacity=\"1\" /><path clip-path=\"url(#clip300)\" d=\"M1964.48 1518.25 L1964.48 1501.93 L1968.41 1501.93 L1968.41 1523.88 L1964.48 1523.88 Q1961.72 1521.22 1957.09 1516.63 Q1952.44 1512.03 1951.1 1510.85 Q1948.58 1508.6 1946.84 1507.72 Q1945.08 1506.82 1943.39 1506.82 Q1940.64 1506.82 1938.9 1508.76 Q1937.16 1510.68 1937.16 1513.79 Q1937.16 1515.98 1937.93 1518.44 Q1938.69 1520.87 1940.24 1523.65 L1935.52 1523.65 Q1934.39 1520.82 1933.81 1518.37 Q1933.23 1515.91 1933.23 1513.88 Q1933.23 1508.51 1935.91 1505.31 Q1938.6 1502.12 1943.09 1502.12 Q1945.22 1502.12 1947.14 1502.93 Q1949.04 1503.72 1951.63 1505.82 Q1952.3 1506.4 1955.52 1509.5 Q1958.71 1512.6 1964.48 1518.25 Z\" fill=\"#000000\" fill-rule=\"evenodd\" fill-opacity=\"1\" /><path clip-path=\"url(#clip300)\" d=\"M1936.93 1482.12 Q1936.93 1485.73 1940.5 1487.56 Q1944.04 1489.36 1951.17 1489.36 Q1958.27 1489.36 1961.84 1487.56 Q1965.38 1485.73 1965.38 1482.12 Q1965.38 1478.48 1961.84 1476.68 Q1958.27 1474.85 1951.17 1474.85 Q1944.04 1474.85 1940.5 1476.68 Q1936.93 1478.48 1936.93 1482.12 M1933.23 1482.12 Q1933.23 1476.31 1937.84 1473.25 Q1942.42 1470.17 1951.17 1470.17 Q1959.9 1470.17 1964.5 1473.25 Q1969.09 1476.31 1969.09 1482.12 Q1969.09 1487.93 1964.5 1491.01 Q1959.9 1494.06 1951.17 1494.06 Q1942.42 1494.06 1937.84 1491.01 Q1933.23 1487.93 1933.23 1482.12 Z\" fill=\"#000000\" fill-rule=\"evenodd\" fill-opacity=\"1\" /><path clip-path=\"url(#clip300)\" d=\"M1953.53 1464.71 L1953.53 1452.23 L1957.33 1452.23 L1957.33 1464.71 L1953.53 1464.71 Z\" fill=\"#000000\" fill-rule=\"evenodd\" fill-opacity=\"1\" /><path clip-path=\"url(#clip300)\" d=\"M1936.93 1434.85 Q1936.93 1438.46 1940.5 1440.29 Q1944.04 1442.1 1951.17 1442.1 Q1958.27 1442.1 1961.84 1440.29 Q1965.38 1438.46 1965.38 1434.85 Q1965.38 1431.22 1961.84 1429.41 Q1958.27 1427.58 1951.17 1427.58 Q1944.04 1427.58 1940.5 1429.41 Q1936.93 1431.22 1936.93 1434.85 M1933.23 1434.85 Q1933.23 1429.04 1937.84 1425.98 Q1942.42 1422.91 1951.17 1422.91 Q1959.9 1422.91 1964.5 1425.98 Q1969.09 1429.04 1969.09 1434.85 Q1969.09 1440.66 1964.5 1443.74 Q1959.9 1446.79 1951.17 1446.79 Q1942.42 1446.79 1937.84 1443.74 Q1933.23 1440.66 1933.23 1434.85 Z\" fill=\"#000000\" fill-rule=\"evenodd\" fill-opacity=\"1\" /><path clip-path=\"url(#clip300)\" d=\"M1949.27 1404.11 Q1949.27 1407.26 1951.42 1409.11 Q1953.58 1410.94 1957.33 1410.94 Q1961.05 1410.94 1963.23 1409.11 Q1965.38 1407.26 1965.38 1404.11 Q1965.38 1400.96 1963.23 1399.13 Q1961.05 1397.28 1957.33 1397.28 Q1953.58 1397.28 1951.42 1399.13 Q1949.27 1400.96 1949.27 1404.11 M1934.62 1394.83 L1938.88 1394.83 Q1938.04 1396.59 1937.6 1398.39 Q1937.16 1400.17 1937.16 1401.93 Q1937.16 1406.56 1940.29 1409.02 Q1943.41 1411.45 1949.73 1411.79 Q1947.72 1410.43 1946.65 1408.37 Q1945.57 1406.31 1945.57 1403.83 Q1945.57 1398.62 1948.74 1395.61 Q1951.89 1392.58 1957.33 1392.58 Q1962.65 1392.58 1965.87 1395.73 Q1969.09 1398.88 1969.09 1404.11 Q1969.09 1410.11 1964.5 1413.28 Q1959.9 1416.45 1951.17 1416.45 Q1942.97 1416.45 1938.11 1412.56 Q1933.23 1408.67 1933.23 1402.12 Q1933.23 1400.36 1933.58 1398.58 Q1933.92 1396.77 1934.62 1394.83 Z\" fill=\"#000000\" fill-rule=\"evenodd\" fill-opacity=\"1\" /><path clip-path=\"url(#clip300)\" d=\"M1953.53 1387.28 L1953.53 1374.8 L1957.33 1374.8 L1957.33 1387.28 L1953.53 1387.28 Z\" fill=\"#000000\" fill-rule=\"evenodd\" fill-opacity=\"1\" /><path clip-path=\"url(#clip300)\" d=\"M1964.48 1363.39 L1964.48 1347.07 L1968.41 1347.07 L1968.41 1369.02 L1964.48 1369.02 Q1961.72 1366.36 1957.09 1361.77 Q1952.44 1357.17 1951.1 1355.99 Q1948.58 1353.74 1946.84 1352.86 Q1945.08 1351.96 1943.39 1351.96 Q1940.64 1351.96 1938.9 1353.9 Q1937.16 1355.82 1937.16 1358.92 Q1937.16 1361.12 1937.93 1363.58 Q1938.69 1366.01 1940.24 1368.79 L1935.52 1368.79 Q1934.39 1365.96 1933.81 1363.51 Q1933.23 1361.05 1933.23 1359.02 Q1933.23 1353.65 1935.91 1350.45 Q1938.6 1347.26 1943.09 1347.26 Q1945.22 1347.26 1947.14 1348.07 Q1949.04 1348.86 1951.63 1350.96 Q1952.3 1351.54 1955.52 1354.64 Q1958.71 1357.74 1964.48 1363.39 Z\" fill=\"#000000\" fill-rule=\"evenodd\" fill-opacity=\"1\" /><path clip-path=\"url(#clip300)\" d=\"M1933.85 1337.21 L1933.85 1318.86 L1937.79 1318.86 L1937.79 1332.93 L1946.26 1332.93 Q1945.91 1331.91 1945.75 1330.89 Q1945.57 1329.87 1945.57 1328.86 Q1945.57 1323.07 1948.74 1319.69 Q1951.91 1316.31 1957.33 1316.31 Q1962.9 1316.31 1966.01 1319.78 Q1969.09 1323.25 1969.09 1329.57 Q1969.09 1331.75 1968.71 1334.02 Q1968.34 1336.26 1967.6 1338.67 L1962.9 1338.67 Q1964.04 1336.59 1964.59 1334.36 Q1965.15 1332.14 1965.15 1329.67 Q1965.15 1325.66 1963.04 1323.32 Q1960.94 1320.99 1957.33 1320.99 Q1953.71 1320.99 1951.61 1323.32 Q1949.5 1325.66 1949.5 1329.67 Q1949.5 1331.54 1949.92 1333.42 Q1950.34 1335.27 1951.21 1337.21 L1933.85 1337.21 Z\" fill=\"#000000\" fill-rule=\"evenodd\" fill-opacity=\"1\" /><path clip-path=\"url(#clip300)\" d=\"M1933.85 1312.3 L1933.85 1283.07 L1937.79 1283.07 L1937.79 1295.34 L1968.41 1295.34 L1968.41 1300.04 L1937.79 1300.04 L1937.79 1312.3 L1933.85 1312.3 Z\" fill=\"#000000\" fill-rule=\"evenodd\" fill-opacity=\"1\" /><path clip-path=\"url(#clip300)\" d=\"M1936.93 1268.14 Q1936.93 1271.75 1940.5 1273.58 Q1944.04 1275.38 1951.17 1275.38 Q1958.27 1275.38 1961.84 1273.58 Q1965.38 1271.75 1965.38 1268.14 Q1965.38 1264.5 1961.84 1262.7 Q1958.27 1260.87 1951.17 1260.87 Q1944.04 1260.87 1940.5 1262.7 Q1936.93 1264.5 1936.93 1268.14 M1933.23 1268.14 Q1933.23 1262.33 1937.84 1259.27 Q1942.42 1256.19 1951.17 1256.19 Q1959.9 1256.19 1964.5 1259.27 Q1969.09 1262.33 1969.09 1268.14 Q1969.09 1273.95 1964.5 1277.03 Q1959.9 1280.08 1951.17 1280.08 Q1942.42 1280.08 1937.84 1277.03 Q1933.23 1273.95 1933.23 1268.14 Z\" fill=\"#000000\" fill-rule=\"evenodd\" fill-opacity=\"1\" /><path clip-path=\"url(#clip300)\" d=\"M1936.93 1237.98 Q1936.93 1241.59 1940.5 1243.42 Q1944.04 1245.22 1951.17 1245.22 Q1958.27 1245.22 1961.84 1243.42 Q1965.38 1241.59 1965.38 1237.98 Q1965.38 1234.34 1961.84 1232.54 Q1958.27 1230.71 1951.17 1230.71 Q1944.04 1230.71 1940.5 1232.54 Q1936.93 1234.34 1936.93 1237.98 M1933.23 1237.98 Q1933.23 1232.17 1937.84 1229.11 Q1942.42 1226.03 1951.17 1226.03 Q1959.9 1226.03 1964.5 1229.11 Q1969.09 1232.17 1969.09 1237.98 Q1969.09 1243.79 1964.5 1246.87 Q1959.9 1249.92 1951.17 1249.92 Q1942.42 1249.92 1937.84 1246.87 Q1933.23 1243.79 1933.23 1237.98 Z\" fill=\"#000000\" fill-rule=\"evenodd\" fill-opacity=\"1\" /><path clip-path=\"url(#clip300)\" d=\"M1962.53 1217.33 L1962.53 1212.44 L1968.41 1212.44 L1968.41 1217.33 L1962.53 1217.33 M1943.9 1217.33 L1943.9 1212.44 L1949.78 1212.44 L1949.78 1217.33 L1943.9 1217.33 Z\" fill=\"#000000\" fill-rule=\"evenodd\" fill-opacity=\"1\" /><path clip-path=\"url(#clip300)\" d=\"M1936.93 1191.84 Q1936.93 1195.45 1940.5 1197.28 Q1944.04 1199.09 1951.17 1199.09 Q1958.27 1199.09 1961.84 1197.28 Q1965.38 1195.45 1965.38 1191.84 Q1965.38 1188.21 1961.84 1186.4 Q1958.27 1184.57 1951.17 1184.57 Q1944.04 1184.57 1940.5 1186.4 Q1936.93 1188.21 1936.93 1191.84 M1933.23 1191.84 Q1933.23 1186.03 1937.84 1182.98 Q1942.42 1179.9 1951.17 1179.9 Q1959.9 1179.9 1964.5 1182.98 Q1969.09 1186.03 1969.09 1191.84 Q1969.09 1197.65 1964.5 1200.73 Q1959.9 1203.79 1951.17 1203.79 Q1942.42 1203.79 1937.84 1200.73 Q1933.23 1197.65 1933.23 1191.84 Z\" fill=\"#000000\" fill-rule=\"evenodd\" fill-opacity=\"1\" /><path clip-path=\"url(#clip300)\" d=\"M1936.93 1161.68 Q1936.93 1165.29 1940.5 1167.12 Q1944.04 1168.93 1951.17 1168.93 Q1958.27 1168.93 1961.84 1167.12 Q1965.38 1165.29 1965.38 1161.68 Q1965.38 1158.05 1961.84 1156.24 Q1958.27 1154.41 1951.17 1154.41 Q1944.04 1154.41 1940.5 1156.24 Q1936.93 1158.05 1936.93 1161.68 M1933.23 1161.68 Q1933.23 1155.87 1937.84 1152.81 Q1942.42 1149.74 1951.17 1149.74 Q1959.9 1149.74 1964.5 1152.81 Q1969.09 1155.87 1969.09 1161.68 Q1969.09 1167.49 1964.5 1170.57 Q1959.9 1173.62 1951.17 1173.62 Q1942.42 1173.62 1937.84 1170.57 Q1933.23 1167.49 1933.23 1161.68 Z\" fill=\"#000000\" fill-rule=\"evenodd\" fill-opacity=\"1\" /><path clip-path=\"url(#clip300)\" d=\"M1962.53 1141.03 L1962.53 1136.15 L1968.41 1136.15 L1968.41 1141.03 L1962.53 1141.03 M1943.9 1141.03 L1943.9 1136.15 L1949.78 1136.15 L1949.78 1141.03 L1943.9 1141.03 Z\" fill=\"#000000\" fill-rule=\"evenodd\" fill-opacity=\"1\" /><path clip-path=\"url(#clip300)\" d=\"M1936.93 1115.55 Q1936.93 1119.16 1940.5 1120.99 Q1944.04 1122.79 1951.17 1122.79 Q1958.27 1122.79 1961.84 1120.99 Q1965.38 1119.16 1965.38 1115.55 Q1965.38 1111.91 1961.84 1110.11 Q1958.27 1108.28 1951.17 1108.28 Q1944.04 1108.28 1940.5 1110.11 Q1936.93 1111.91 1936.93 1115.55 M1933.23 1115.55 Q1933.23 1109.74 1937.84 1106.68 Q1942.42 1103.6 1951.17 1103.6 Q1959.9 1103.6 1964.5 1106.68 Q1969.09 1109.74 1969.09 1115.55 Q1969.09 1121.36 1964.5 1124.44 Q1959.9 1127.49 1951.17 1127.49 Q1942.42 1127.49 1937.84 1124.44 Q1933.23 1121.36 1933.23 1115.55 Z\" fill=\"#000000\" fill-rule=\"evenodd\" fill-opacity=\"1\" /><path clip-path=\"url(#clip300)\" d=\"M1936.93 1085.38 Q1936.93 1089 1940.5 1090.82 Q1944.04 1092.63 1951.17 1092.63 Q1958.27 1092.63 1961.84 1090.82 Q1965.38 1089 1965.38 1085.38 Q1965.38 1081.75 1961.84 1079.94 Q1958.27 1078.12 1951.17 1078.12 Q1944.04 1078.12 1940.5 1079.94 Q1936.93 1081.75 1936.93 1085.38 M1933.23 1085.38 Q1933.23 1079.57 1937.84 1076.52 Q1942.42 1073.44 1951.17 1073.44 Q1959.9 1073.44 1964.5 1076.52 Q1969.09 1079.57 1969.09 1085.38 Q1969.09 1091.19 1964.5 1094.27 Q1959.9 1097.33 1951.17 1097.33 Q1942.42 1097.33 1937.84 1094.27 Q1933.23 1091.19 1933.23 1085.38 Z\" fill=\"#000000\" fill-rule=\"evenodd\" fill-opacity=\"1\" /><path clip-path=\"url(#clip300)\" d=\"M2032.9 1578.58 L2032.9 1562.26 L2036.83 1562.26 L2036.83 1584.2 L2032.9 1584.2 Q2030.14 1581.54 2025.51 1576.96 Q2020.86 1572.35 2019.52 1571.17 Q2017 1568.92 2015.26 1568.04 Q2013.5 1567.14 2011.81 1567.14 Q2009.06 1567.14 2007.32 1569.09 Q2005.58 1571.01 2005.58 1574.11 Q2005.58 1576.31 2006.35 1578.76 Q2007.11 1581.19 2008.66 1583.97 L2003.94 1583.97 Q2002.81 1581.15 2002.23 1578.69 Q2001.65 1576.24 2001.65 1574.2 Q2001.65 1568.83 2004.33 1565.64 Q2007.02 1562.44 2011.51 1562.44 Q2013.64 1562.44 2015.56 1563.25 Q2017.46 1564.04 2020.05 1566.15 Q2020.72 1566.72 2023.94 1569.83 Q2027.13 1572.93 2032.9 1578.58 Z\" fill=\"#000000\" fill-rule=\"evenodd\" fill-opacity=\"1\" /><path clip-path=\"url(#clip300)\" d=\"M2005.35 1542.44 Q2005.35 1546.05 2008.92 1547.88 Q2012.46 1549.69 2019.59 1549.69 Q2026.69 1549.69 2030.26 1547.88 Q2033.8 1546.05 2033.8 1542.44 Q2033.8 1538.81 2030.26 1537 Q2026.69 1535.17 2019.59 1535.17 Q2012.46 1535.17 2008.92 1537 Q2005.35 1538.81 2005.35 1542.44 M2001.65 1542.44 Q2001.65 1536.63 2006.25 1533.58 Q2010.84 1530.5 2019.59 1530.5 Q2028.31 1530.5 2032.92 1533.58 Q2037.5 1536.63 2037.5 1542.44 Q2037.5 1548.25 2032.92 1551.33 Q2028.31 1554.39 2019.59 1554.39 Q2010.84 1554.39 2006.25 1551.33 Q2001.65 1548.25 2001.65 1542.44 Z\" fill=\"#000000\" fill-rule=\"evenodd\" fill-opacity=\"1\" /><path clip-path=\"url(#clip300)\" d=\"M2032.9 1518.25 L2032.9 1501.93 L2036.83 1501.93 L2036.83 1523.88 L2032.9 1523.88 Q2030.14 1521.22 2025.51 1516.63 Q2020.86 1512.03 2019.52 1510.85 Q2017 1508.6 2015.26 1507.72 Q2013.5 1506.82 2011.81 1506.82 Q2009.06 1506.82 2007.32 1508.76 Q2005.58 1510.68 2005.58 1513.79 Q2005.58 1515.98 2006.35 1518.44 Q2007.11 1520.87 2008.66 1523.65 L2003.94 1523.65 Q2002.81 1520.82 2002.23 1518.37 Q2001.65 1515.91 2001.65 1513.88 Q2001.65 1508.51 2004.33 1505.31 Q2007.02 1502.12 2011.51 1502.12 Q2013.64 1502.12 2015.56 1502.93 Q2017.46 1503.72 2020.05 1505.82 Q2020.72 1506.4 2023.94 1509.5 Q2027.13 1512.6 2032.9 1518.25 Z\" fill=\"#000000\" fill-rule=\"evenodd\" fill-opacity=\"1\" /><path clip-path=\"url(#clip300)\" d=\"M2005.35 1482.12 Q2005.35 1485.73 2008.92 1487.56 Q2012.46 1489.36 2019.59 1489.36 Q2026.69 1489.36 2030.26 1487.56 Q2033.8 1485.73 2033.8 1482.12 Q2033.8 1478.48 2030.26 1476.68 Q2026.69 1474.85 2019.59 1474.85 Q2012.46 1474.85 2008.92 1476.68 Q2005.35 1478.48 2005.35 1482.12 M2001.65 1482.12 Q2001.65 1476.31 2006.25 1473.25 Q2010.84 1470.17 2019.59 1470.17 Q2028.31 1470.17 2032.92 1473.25 Q2037.5 1476.31 2037.5 1482.12 Q2037.5 1487.93 2032.92 1491.01 Q2028.31 1494.06 2019.59 1494.06 Q2010.84 1494.06 2006.25 1491.01 Q2001.65 1487.93 2001.65 1482.12 Z\" fill=\"#000000\" fill-rule=\"evenodd\" fill-opacity=\"1\" /><path clip-path=\"url(#clip300)\" d=\"M2021.95 1464.71 L2021.95 1452.23 L2025.75 1452.23 L2025.75 1464.71 L2021.95 1464.71 Z\" fill=\"#000000\" fill-rule=\"evenodd\" fill-opacity=\"1\" /><path clip-path=\"url(#clip300)\" d=\"M2005.35 1434.85 Q2005.35 1438.46 2008.92 1440.29 Q2012.46 1442.1 2019.59 1442.1 Q2026.69 1442.1 2030.26 1440.29 Q2033.8 1438.46 2033.8 1434.85 Q2033.8 1431.22 2030.26 1429.41 Q2026.69 1427.58 2019.59 1427.58 Q2012.46 1427.58 2008.92 1429.41 Q2005.35 1431.22 2005.35 1434.85 M2001.65 1434.85 Q2001.65 1429.04 2006.25 1425.98 Q2010.84 1422.91 2019.59 1422.91 Q2028.31 1422.91 2032.92 1425.98 Q2037.5 1429.04 2037.5 1434.85 Q2037.5 1440.66 2032.92 1443.74 Q2028.31 1446.79 2019.59 1446.79 Q2010.84 1446.79 2006.25 1443.74 Q2001.65 1440.66 2001.65 1434.85 Z\" fill=\"#000000\" fill-rule=\"evenodd\" fill-opacity=\"1\" /><path clip-path=\"url(#clip300)\" d=\"M2017.69 1404.11 Q2017.69 1407.26 2019.84 1409.11 Q2022 1410.94 2025.75 1410.94 Q2029.47 1410.94 2031.65 1409.11 Q2033.8 1407.26 2033.8 1404.11 Q2033.8 1400.96 2031.65 1399.13 Q2029.47 1397.28 2025.75 1397.28 Q2022 1397.28 2019.84 1399.13 Q2017.69 1400.96 2017.69 1404.11 M2003.04 1394.83 L2007.3 1394.83 Q2006.46 1396.59 2006.02 1398.39 Q2005.58 1400.17 2005.58 1401.93 Q2005.58 1406.56 2008.71 1409.02 Q2011.83 1411.45 2018.15 1411.79 Q2016.14 1410.43 2015.07 1408.37 Q2013.99 1406.31 2013.99 1403.83 Q2013.99 1398.62 2017.16 1395.61 Q2020.31 1392.58 2025.75 1392.58 Q2031.07 1392.58 2034.29 1395.73 Q2037.5 1398.88 2037.5 1404.11 Q2037.5 1410.11 2032.92 1413.28 Q2028.31 1416.45 2019.59 1416.45 Q2011.39 1416.45 2006.53 1412.56 Q2001.65 1408.67 2001.65 1402.12 Q2001.65 1400.36 2002 1398.58 Q2002.34 1396.77 2003.04 1394.83 Z\" fill=\"#000000\" fill-rule=\"evenodd\" fill-opacity=\"1\" /><path clip-path=\"url(#clip300)\" d=\"M2021.95 1387.28 L2021.95 1374.8 L2025.75 1374.8 L2025.75 1387.28 L2021.95 1387.28 Z\" fill=\"#000000\" fill-rule=\"evenodd\" fill-opacity=\"1\" /><path clip-path=\"url(#clip300)\" d=\"M2032.9 1363.39 L2032.9 1347.07 L2036.83 1347.07 L2036.83 1369.02 L2032.9 1369.02 Q2030.14 1366.36 2025.51 1361.77 Q2020.86 1357.17 2019.52 1355.99 Q2017 1353.74 2015.26 1352.86 Q2013.5 1351.96 2011.81 1351.96 Q2009.06 1351.96 2007.32 1353.9 Q2005.58 1355.82 2005.58 1358.92 Q2005.58 1361.12 2006.35 1363.58 Q2007.11 1366.01 2008.66 1368.79 L2003.94 1368.79 Q2002.81 1365.96 2002.23 1363.51 Q2001.65 1361.05 2001.65 1359.02 Q2001.65 1353.65 2004.33 1350.45 Q2007.02 1347.26 2011.51 1347.26 Q2013.64 1347.26 2015.56 1348.07 Q2017.46 1348.86 2020.05 1350.96 Q2020.72 1351.54 2023.94 1354.64 Q2027.13 1357.74 2032.9 1363.39 Z\" fill=\"#000000\" fill-rule=\"evenodd\" fill-opacity=\"1\" /><path clip-path=\"url(#clip300)\" d=\"M2017.69 1326.68 Q2017.69 1329.83 2019.84 1331.68 Q2022 1333.51 2025.75 1333.51 Q2029.47 1333.51 2031.65 1331.68 Q2033.8 1329.83 2033.8 1326.68 Q2033.8 1323.53 2031.65 1321.7 Q2029.47 1319.85 2025.75 1319.85 Q2022 1319.85 2019.84 1321.7 Q2017.69 1323.53 2017.69 1326.68 M2003.04 1317.4 L2007.3 1317.4 Q2006.46 1319.16 2006.02 1320.96 Q2005.58 1322.74 2005.58 1324.5 Q2005.58 1329.13 2008.71 1331.59 Q2011.83 1334.02 2018.15 1334.36 Q2016.14 1333 2015.07 1330.94 Q2013.99 1328.88 2013.99 1326.4 Q2013.99 1321.19 2017.16 1318.18 Q2020.31 1315.15 2025.75 1315.15 Q2031.07 1315.15 2034.29 1318.3 Q2037.5 1321.45 2037.5 1326.68 Q2037.5 1332.68 2032.92 1335.85 Q2028.31 1339.02 2019.59 1339.02 Q2011.39 1339.02 2006.53 1335.13 Q2001.65 1331.24 2001.65 1324.69 Q2001.65 1322.93 2002 1321.15 Q2002.34 1319.34 2003.04 1317.4 Z\" fill=\"#000000\" fill-rule=\"evenodd\" fill-opacity=\"1\" /><path clip-path=\"url(#clip300)\" d=\"M2002.27 1312.3 L2002.27 1283.07 L2006.21 1283.07 L2006.21 1295.34 L2036.83 1295.34 L2036.83 1300.04 L2006.21 1300.04 L2006.21 1312.3 L2002.27 1312.3 Z\" fill=\"#000000\" fill-rule=\"evenodd\" fill-opacity=\"1\" /><path clip-path=\"url(#clip300)\" d=\"M2005.35 1268.14 Q2005.35 1271.75 2008.92 1273.58 Q2012.46 1275.38 2019.59 1275.38 Q2026.69 1275.38 2030.26 1273.58 Q2033.8 1271.75 2033.8 1268.14 Q2033.8 1264.5 2030.26 1262.7 Q2026.69 1260.87 2019.59 1260.87 Q2012.46 1260.87 2008.92 1262.7 Q2005.35 1264.5 2005.35 1268.14 M2001.65 1268.14 Q2001.65 1262.33 2006.25 1259.27 Q2010.84 1256.19 2019.59 1256.19 Q2028.31 1256.19 2032.92 1259.27 Q2037.5 1262.33 2037.5 1268.14 Q2037.5 1273.95 2032.92 1277.03 Q2028.31 1280.08 2019.59 1280.08 Q2010.84 1280.08 2006.25 1277.03 Q2001.65 1273.95 2001.65 1268.14 Z\" fill=\"#000000\" fill-rule=\"evenodd\" fill-opacity=\"1\" /><path clip-path=\"url(#clip300)\" d=\"M2005.35 1237.98 Q2005.35 1241.59 2008.92 1243.42 Q2012.46 1245.22 2019.59 1245.22 Q2026.69 1245.22 2030.26 1243.42 Q2033.8 1241.59 2033.8 1237.98 Q2033.8 1234.34 2030.26 1232.54 Q2026.69 1230.71 2019.59 1230.71 Q2012.46 1230.71 2008.92 1232.54 Q2005.35 1234.34 2005.35 1237.98 M2001.65 1237.98 Q2001.65 1232.17 2006.25 1229.11 Q2010.84 1226.03 2019.59 1226.03 Q2028.31 1226.03 2032.92 1229.11 Q2037.5 1232.17 2037.5 1237.98 Q2037.5 1243.79 2032.92 1246.87 Q2028.31 1249.92 2019.59 1249.92 Q2010.84 1249.92 2006.25 1246.87 Q2001.65 1243.79 2001.65 1237.98 Z\" fill=\"#000000\" fill-rule=\"evenodd\" fill-opacity=\"1\" /><path clip-path=\"url(#clip300)\" d=\"M2030.95 1217.33 L2030.95 1212.44 L2036.83 1212.44 L2036.83 1217.33 L2030.95 1217.33 M2012.32 1217.33 L2012.32 1212.44 L2018.2 1212.44 L2018.2 1217.33 L2012.32 1217.33 Z\" fill=\"#000000\" fill-rule=\"evenodd\" fill-opacity=\"1\" /><path clip-path=\"url(#clip300)\" d=\"M2005.35 1191.84 Q2005.35 1195.45 2008.92 1197.28 Q2012.46 1199.09 2019.59 1199.09 Q2026.69 1199.09 2030.26 1197.28 Q2033.8 1195.45 2033.8 1191.84 Q2033.8 1188.21 2030.26 1186.4 Q2026.69 1184.57 2019.59 1184.57 Q2012.46 1184.57 2008.92 1186.4 Q2005.35 1188.21 2005.35 1191.84 M2001.65 1191.84 Q2001.65 1186.03 2006.25 1182.98 Q2010.84 1179.9 2019.59 1179.9 Q2028.31 1179.9 2032.92 1182.98 Q2037.5 1186.03 2037.5 1191.84 Q2037.5 1197.65 2032.92 1200.73 Q2028.31 1203.79 2019.59 1203.79 Q2010.84 1203.79 2006.25 1200.73 Q2001.65 1197.65 2001.65 1191.84 Z\" fill=\"#000000\" fill-rule=\"evenodd\" fill-opacity=\"1\" /><path clip-path=\"url(#clip300)\" d=\"M2005.35 1161.68 Q2005.35 1165.29 2008.92 1167.12 Q2012.46 1168.93 2019.59 1168.93 Q2026.69 1168.93 2030.26 1167.12 Q2033.8 1165.29 2033.8 1161.68 Q2033.8 1158.05 2030.26 1156.24 Q2026.69 1154.41 2019.59 1154.41 Q2012.46 1154.41 2008.92 1156.24 Q2005.35 1158.05 2005.35 1161.68 M2001.65 1161.68 Q2001.65 1155.87 2006.25 1152.81 Q2010.84 1149.74 2019.59 1149.74 Q2028.31 1149.74 2032.92 1152.81 Q2037.5 1155.87 2037.5 1161.68 Q2037.5 1167.49 2032.92 1170.57 Q2028.31 1173.62 2019.59 1173.62 Q2010.84 1173.62 2006.25 1170.57 Q2001.65 1167.49 2001.65 1161.68 Z\" fill=\"#000000\" fill-rule=\"evenodd\" fill-opacity=\"1\" /><path clip-path=\"url(#clip300)\" d=\"M2030.95 1141.03 L2030.95 1136.15 L2036.83 1136.15 L2036.83 1141.03 L2030.95 1141.03 M2012.32 1141.03 L2012.32 1136.15 L2018.2 1136.15 L2018.2 1141.03 L2012.32 1141.03 Z\" fill=\"#000000\" fill-rule=\"evenodd\" fill-opacity=\"1\" /><path clip-path=\"url(#clip300)\" d=\"M2005.35 1115.55 Q2005.35 1119.16 2008.92 1120.99 Q2012.46 1122.79 2019.59 1122.79 Q2026.69 1122.79 2030.26 1120.99 Q2033.8 1119.16 2033.8 1115.55 Q2033.8 1111.91 2030.26 1110.11 Q2026.69 1108.28 2019.59 1108.28 Q2012.46 1108.28 2008.92 1110.11 Q2005.35 1111.91 2005.35 1115.55 M2001.65 1115.55 Q2001.65 1109.74 2006.25 1106.68 Q2010.84 1103.6 2019.59 1103.6 Q2028.31 1103.6 2032.92 1106.68 Q2037.5 1109.74 2037.5 1115.55 Q2037.5 1121.36 2032.92 1124.44 Q2028.31 1127.49 2019.59 1127.49 Q2010.84 1127.49 2006.25 1124.44 Q2001.65 1121.36 2001.65 1115.55 Z\" fill=\"#000000\" fill-rule=\"evenodd\" fill-opacity=\"1\" /><path clip-path=\"url(#clip300)\" d=\"M2005.35 1085.38 Q2005.35 1089 2008.92 1090.82 Q2012.46 1092.63 2019.59 1092.63 Q2026.69 1092.63 2030.26 1090.82 Q2033.8 1089 2033.8 1085.38 Q2033.8 1081.75 2030.26 1079.94 Q2026.69 1078.12 2019.59 1078.12 Q2012.46 1078.12 2008.92 1079.94 Q2005.35 1081.75 2005.35 1085.38 M2001.65 1085.38 Q2001.65 1079.57 2006.25 1076.52 Q2010.84 1073.44 2019.59 1073.44 Q2028.31 1073.44 2032.92 1076.52 Q2037.5 1079.57 2037.5 1085.38 Q2037.5 1091.19 2032.92 1094.27 Q2028.31 1097.33 2019.59 1097.33 Q2010.84 1097.33 2006.25 1094.27 Q2001.65 1091.19 2001.65 1085.38 Z\" fill=\"#000000\" fill-rule=\"evenodd\" fill-opacity=\"1\" /><path clip-path=\"url(#clip300)\" d=\"M2238.16 1578.58 L2238.16 1562.26 L2242.09 1562.26 L2242.09 1584.2 L2238.16 1584.2 Q2235.4 1581.54 2230.77 1576.96 Q2226.12 1572.35 2224.78 1571.17 Q2222.25 1568.92 2220.52 1568.04 Q2218.76 1567.14 2217.07 1567.14 Q2214.31 1567.14 2212.58 1569.09 Q2210.84 1571.01 2210.84 1574.11 Q2210.84 1576.31 2211.61 1578.76 Q2212.37 1581.19 2213.92 1583.97 L2209.2 1583.97 Q2208.06 1581.15 2207.49 1578.69 Q2206.91 1576.24 2206.91 1574.2 Q2206.91 1568.83 2209.59 1565.64 Q2212.28 1562.44 2216.77 1562.44 Q2218.9 1562.44 2220.82 1563.25 Q2222.72 1564.04 2225.31 1566.15 Q2225.98 1566.72 2229.2 1569.83 Q2232.39 1572.93 2238.16 1578.58 Z\" fill=\"#000000\" fill-rule=\"evenodd\" fill-opacity=\"1\" /><path clip-path=\"url(#clip300)\" d=\"M2210.61 1542.44 Q2210.61 1546.05 2214.18 1547.88 Q2217.72 1549.69 2224.85 1549.69 Q2231.95 1549.69 2235.52 1547.88 Q2239.06 1546.05 2239.06 1542.44 Q2239.06 1538.81 2235.52 1537 Q2231.95 1535.17 2224.85 1535.17 Q2217.72 1535.17 2214.18 1537 Q2210.61 1538.81 2210.61 1542.44 M2206.91 1542.44 Q2206.91 1536.63 2211.51 1533.58 Q2216.1 1530.5 2224.85 1530.5 Q2233.57 1530.5 2238.18 1533.58 Q2242.76 1536.63 2242.76 1542.44 Q2242.76 1548.25 2238.18 1551.33 Q2233.57 1554.39 2224.85 1554.39 Q2216.1 1554.39 2211.51 1551.33 Q2206.91 1548.25 2206.91 1542.44 Z\" fill=\"#000000\" fill-rule=\"evenodd\" fill-opacity=\"1\" /><path clip-path=\"url(#clip300)\" d=\"M2238.16 1518.25 L2238.16 1501.93 L2242.09 1501.93 L2242.09 1523.88 L2238.16 1523.88 Q2235.4 1521.22 2230.77 1516.63 Q2226.12 1512.03 2224.78 1510.85 Q2222.25 1508.6 2220.52 1507.72 Q2218.76 1506.82 2217.07 1506.82 Q2214.31 1506.82 2212.58 1508.76 Q2210.84 1510.68 2210.84 1513.79 Q2210.84 1515.98 2211.61 1518.44 Q2212.37 1520.87 2213.92 1523.65 L2209.2 1523.65 Q2208.06 1520.82 2207.49 1518.37 Q2206.91 1515.91 2206.91 1513.88 Q2206.91 1508.51 2209.59 1505.31 Q2212.28 1502.12 2216.77 1502.12 Q2218.9 1502.12 2220.82 1502.93 Q2222.72 1503.72 2225.31 1505.82 Q2225.98 1506.4 2229.2 1509.5 Q2232.39 1512.6 2238.16 1518.25 Z\" fill=\"#000000\" fill-rule=\"evenodd\" fill-opacity=\"1\" /><path clip-path=\"url(#clip300)\" d=\"M2210.61 1482.12 Q2210.61 1485.73 2214.18 1487.56 Q2217.72 1489.36 2224.85 1489.36 Q2231.95 1489.36 2235.52 1487.56 Q2239.06 1485.73 2239.06 1482.12 Q2239.06 1478.48 2235.52 1476.68 Q2231.95 1474.85 2224.85 1474.85 Q2217.72 1474.85 2214.18 1476.68 Q2210.61 1478.48 2210.61 1482.12 M2206.91 1482.12 Q2206.91 1476.31 2211.51 1473.25 Q2216.1 1470.17 2224.85 1470.17 Q2233.57 1470.17 2238.18 1473.25 Q2242.76 1476.31 2242.76 1482.12 Q2242.76 1487.93 2238.18 1491.01 Q2233.57 1494.06 2224.85 1494.06 Q2216.1 1494.06 2211.51 1491.01 Q2206.91 1487.93 2206.91 1482.12 Z\" fill=\"#000000\" fill-rule=\"evenodd\" fill-opacity=\"1\" /><path clip-path=\"url(#clip300)\" d=\"M2227.21 1464.71 L2227.21 1452.23 L2231 1452.23 L2231 1464.71 L2227.21 1464.71 Z\" fill=\"#000000\" fill-rule=\"evenodd\" fill-opacity=\"1\" /><path clip-path=\"url(#clip300)\" d=\"M2210.61 1434.85 Q2210.61 1438.46 2214.18 1440.29 Q2217.72 1442.1 2224.85 1442.1 Q2231.95 1442.1 2235.52 1440.29 Q2239.06 1438.46 2239.06 1434.85 Q2239.06 1431.22 2235.52 1429.41 Q2231.95 1427.58 2224.85 1427.58 Q2217.72 1427.58 2214.18 1429.41 Q2210.61 1431.22 2210.61 1434.85 M2206.91 1434.85 Q2206.91 1429.04 2211.51 1425.98 Q2216.1 1422.91 2224.85 1422.91 Q2233.57 1422.91 2238.18 1425.98 Q2242.76 1429.04 2242.76 1434.85 Q2242.76 1440.66 2238.18 1443.74 Q2233.57 1446.79 2224.85 1446.79 Q2216.1 1446.79 2211.51 1443.74 Q2206.91 1440.66 2206.91 1434.85 Z\" fill=\"#000000\" fill-rule=\"evenodd\" fill-opacity=\"1\" /><path clip-path=\"url(#clip300)\" d=\"M2222.95 1404.11 Q2222.95 1407.26 2225.1 1409.11 Q2227.25 1410.94 2231 1410.94 Q2234.73 1410.94 2236.91 1409.11 Q2239.06 1407.26 2239.06 1404.11 Q2239.06 1400.96 2236.91 1399.13 Q2234.73 1397.28 2231 1397.28 Q2227.25 1397.28 2225.1 1399.13 Q2222.95 1400.96 2222.95 1404.11 M2208.3 1394.83 L2212.55 1394.83 Q2211.72 1396.59 2211.28 1398.39 Q2210.84 1400.17 2210.84 1401.93 Q2210.84 1406.56 2213.97 1409.02 Q2217.09 1411.45 2223.41 1411.79 Q2221.4 1410.43 2220.33 1408.37 Q2219.24 1406.31 2219.24 1403.83 Q2219.24 1398.62 2222.42 1395.61 Q2225.56 1392.58 2231 1392.58 Q2236.33 1392.58 2239.55 1395.73 Q2242.76 1398.88 2242.76 1404.11 Q2242.76 1410.11 2238.18 1413.28 Q2233.57 1416.45 2224.85 1416.45 Q2216.65 1416.45 2211.79 1412.56 Q2206.91 1408.67 2206.91 1402.12 Q2206.91 1400.36 2207.25 1398.58 Q2207.6 1396.77 2208.3 1394.83 Z\" fill=\"#000000\" fill-rule=\"evenodd\" fill-opacity=\"1\" /><path clip-path=\"url(#clip300)\" d=\"M2227.21 1387.28 L2227.21 1374.8 L2231 1374.8 L2231 1387.28 L2227.21 1387.28 Z\" fill=\"#000000\" fill-rule=\"evenodd\" fill-opacity=\"1\" /><path clip-path=\"url(#clip300)\" d=\"M2238.16 1363.39 L2238.16 1347.07 L2242.09 1347.07 L2242.09 1369.02 L2238.16 1369.02 Q2235.4 1366.36 2230.77 1361.77 Q2226.12 1357.17 2224.78 1355.99 Q2222.25 1353.74 2220.52 1352.86 Q2218.76 1351.96 2217.07 1351.96 Q2214.31 1351.96 2212.58 1353.9 Q2210.84 1355.82 2210.84 1358.92 Q2210.84 1361.12 2211.61 1363.58 Q2212.37 1366.01 2213.92 1368.79 L2209.2 1368.79 Q2208.06 1365.96 2207.49 1363.51 Q2206.91 1361.05 2206.91 1359.02 Q2206.91 1353.65 2209.59 1350.45 Q2212.28 1347.26 2216.77 1347.26 Q2218.9 1347.26 2220.82 1348.07 Q2222.72 1348.86 2225.31 1350.96 Q2225.98 1351.54 2229.2 1354.64 Q2232.39 1357.74 2238.16 1363.39 Z\" fill=\"#000000\" fill-rule=\"evenodd\" fill-opacity=\"1\" /><path clip-path=\"url(#clip300)\" d=\"M2241.37 1337.12 L2237.11 1337.12 Q2237.95 1335.36 2238.39 1333.55 Q2238.83 1331.75 2238.83 1330.01 Q2238.83 1325.38 2235.73 1322.95 Q2232.6 1320.5 2226.26 1320.15 Q2228.25 1321.49 2229.31 1323.55 Q2230.38 1325.61 2230.38 1328.11 Q2230.38 1333.3 2227.25 1336.33 Q2224.11 1339.34 2218.67 1339.34 Q2213.34 1339.34 2210.12 1336.19 Q2206.91 1333.05 2206.91 1327.81 Q2206.91 1321.82 2211.51 1318.67 Q2216.1 1315.5 2224.85 1315.5 Q2233.02 1315.5 2237.9 1319.39 Q2242.76 1323.25 2242.76 1329.8 Q2242.76 1331.56 2242.42 1333.37 Q2242.07 1335.17 2241.37 1337.12 M2226.72 1327.81 Q2226.72 1324.67 2224.57 1322.84 Q2222.42 1320.99 2218.67 1320.99 Q2214.94 1320.99 2212.79 1322.84 Q2210.61 1324.67 2210.61 1327.81 Q2210.61 1330.96 2212.79 1332.81 Q2214.94 1334.64 2218.67 1334.64 Q2222.42 1334.64 2224.57 1332.81 Q2226.72 1330.96 2226.72 1327.81 Z\" fill=\"#000000\" fill-rule=\"evenodd\" fill-opacity=\"1\" /><path clip-path=\"url(#clip300)\" d=\"M2207.53 1312.3 L2207.53 1283.07 L2211.47 1283.07 L2211.47 1295.34 L2242.09 1295.34 L2242.09 1300.04 L2211.47 1300.04 L2211.47 1312.3 L2207.53 1312.3 Z\" fill=\"#000000\" fill-rule=\"evenodd\" fill-opacity=\"1\" /><path clip-path=\"url(#clip300)\" d=\"M2210.61 1268.14 Q2210.61 1271.75 2214.18 1273.58 Q2217.72 1275.38 2224.85 1275.38 Q2231.95 1275.38 2235.52 1273.58 Q2239.06 1271.75 2239.06 1268.14 Q2239.06 1264.5 2235.52 1262.7 Q2231.95 1260.87 2224.85 1260.87 Q2217.72 1260.87 2214.18 1262.7 Q2210.61 1264.5 2210.61 1268.14 M2206.91 1268.14 Q2206.91 1262.33 2211.51 1259.27 Q2216.1 1256.19 2224.85 1256.19 Q2233.57 1256.19 2238.18 1259.27 Q2242.76 1262.33 2242.76 1268.14 Q2242.76 1273.95 2238.18 1277.03 Q2233.57 1280.08 2224.85 1280.08 Q2216.1 1280.08 2211.51 1277.03 Q2206.91 1273.95 2206.91 1268.14 Z\" fill=\"#000000\" fill-rule=\"evenodd\" fill-opacity=\"1\" /><path clip-path=\"url(#clip300)\" d=\"M2210.61 1237.98 Q2210.61 1241.59 2214.18 1243.42 Q2217.72 1245.22 2224.85 1245.22 Q2231.95 1245.22 2235.52 1243.42 Q2239.06 1241.59 2239.06 1237.98 Q2239.06 1234.34 2235.52 1232.54 Q2231.95 1230.71 2224.85 1230.71 Q2217.72 1230.71 2214.18 1232.54 Q2210.61 1234.34 2210.61 1237.98 M2206.91 1237.98 Q2206.91 1232.17 2211.51 1229.11 Q2216.1 1226.03 2224.85 1226.03 Q2233.57 1226.03 2238.18 1229.11 Q2242.76 1232.17 2242.76 1237.98 Q2242.76 1243.79 2238.18 1246.87 Q2233.57 1249.92 2224.85 1249.92 Q2216.1 1249.92 2211.51 1246.87 Q2206.91 1243.79 2206.91 1237.98 Z\" fill=\"#000000\" fill-rule=\"evenodd\" fill-opacity=\"1\" /><path clip-path=\"url(#clip300)\" d=\"M2236.21 1217.33 L2236.21 1212.44 L2242.09 1212.44 L2242.09 1217.33 L2236.21 1217.33 M2217.58 1217.33 L2217.58 1212.44 L2223.46 1212.44 L2223.46 1217.33 L2217.58 1217.33 Z\" fill=\"#000000\" fill-rule=\"evenodd\" fill-opacity=\"1\" /><path clip-path=\"url(#clip300)\" d=\"M2210.61 1191.84 Q2210.61 1195.45 2214.18 1197.28 Q2217.72 1199.09 2224.85 1199.09 Q2231.95 1199.09 2235.52 1197.28 Q2239.06 1195.45 2239.06 1191.84 Q2239.06 1188.21 2235.52 1186.4 Q2231.95 1184.57 2224.85 1184.57 Q2217.72 1184.57 2214.18 1186.4 Q2210.61 1188.21 2210.61 1191.84 M2206.91 1191.84 Q2206.91 1186.03 2211.51 1182.98 Q2216.1 1179.9 2224.85 1179.9 Q2233.57 1179.9 2238.18 1182.98 Q2242.76 1186.03 2242.76 1191.84 Q2242.76 1197.65 2238.18 1200.73 Q2233.57 1203.79 2224.85 1203.79 Q2216.1 1203.79 2211.51 1200.73 Q2206.91 1197.65 2206.91 1191.84 Z\" fill=\"#000000\" fill-rule=\"evenodd\" fill-opacity=\"1\" /><path clip-path=\"url(#clip300)\" d=\"M2210.61 1161.68 Q2210.61 1165.29 2214.18 1167.12 Q2217.72 1168.93 2224.85 1168.93 Q2231.95 1168.93 2235.52 1167.12 Q2239.06 1165.29 2239.06 1161.68 Q2239.06 1158.05 2235.52 1156.24 Q2231.95 1154.41 2224.85 1154.41 Q2217.72 1154.41 2214.18 1156.24 Q2210.61 1158.05 2210.61 1161.68 M2206.91 1161.68 Q2206.91 1155.87 2211.51 1152.81 Q2216.1 1149.74 2224.85 1149.74 Q2233.57 1149.74 2238.18 1152.81 Q2242.76 1155.87 2242.76 1161.68 Q2242.76 1167.49 2238.18 1170.57 Q2233.57 1173.62 2224.85 1173.62 Q2216.1 1173.62 2211.51 1170.57 Q2206.91 1167.49 2206.91 1161.68 Z\" fill=\"#000000\" fill-rule=\"evenodd\" fill-opacity=\"1\" /><path clip-path=\"url(#clip300)\" d=\"M2236.21 1141.03 L2236.21 1136.15 L2242.09 1136.15 L2242.09 1141.03 L2236.21 1141.03 M2217.58 1141.03 L2217.58 1136.15 L2223.46 1136.15 L2223.46 1141.03 L2217.58 1141.03 Z\" fill=\"#000000\" fill-rule=\"evenodd\" fill-opacity=\"1\" /><path clip-path=\"url(#clip300)\" d=\"M2210.61 1115.55 Q2210.61 1119.16 2214.18 1120.99 Q2217.72 1122.79 2224.85 1122.79 Q2231.95 1122.79 2235.52 1120.99 Q2239.06 1119.16 2239.06 1115.55 Q2239.06 1111.91 2235.52 1110.11 Q2231.95 1108.28 2224.85 1108.28 Q2217.72 1108.28 2214.18 1110.11 Q2210.61 1111.91 2210.61 1115.55 M2206.91 1115.55 Q2206.91 1109.74 2211.51 1106.68 Q2216.1 1103.6 2224.85 1103.6 Q2233.57 1103.6 2238.18 1106.68 Q2242.76 1109.74 2242.76 1115.55 Q2242.76 1121.36 2238.18 1124.44 Q2233.57 1127.49 2224.85 1127.49 Q2216.1 1127.49 2211.51 1124.44 Q2206.91 1121.36 2206.91 1115.55 Z\" fill=\"#000000\" fill-rule=\"evenodd\" fill-opacity=\"1\" /><path clip-path=\"url(#clip300)\" d=\"M2210.61 1085.38 Q2210.61 1089 2214.18 1090.82 Q2217.72 1092.63 2224.85 1092.63 Q2231.95 1092.63 2235.52 1090.82 Q2239.06 1089 2239.06 1085.38 Q2239.06 1081.75 2235.52 1079.94 Q2231.95 1078.12 2224.85 1078.12 Q2217.72 1078.12 2214.18 1079.94 Q2210.61 1081.75 2210.61 1085.38 M2206.91 1085.38 Q2206.91 1079.57 2211.51 1076.52 Q2216.1 1073.44 2224.85 1073.44 Q2233.57 1073.44 2238.18 1076.52 Q2242.76 1079.57 2242.76 1085.38 Q2242.76 1091.19 2238.18 1094.27 Q2233.57 1097.33 2224.85 1097.33 Q2216.1 1097.33 2211.51 1094.27 Q2206.91 1091.19 2206.91 1085.38 Z\" fill=\"#000000\" fill-rule=\"evenodd\" fill-opacity=\"1\" /><path clip-path=\"url(#clip300)\" d=\"M2306.58 1578.58 L2306.58 1562.26 L2310.51 1562.26 L2310.51 1584.2 L2306.58 1584.2 Q2303.82 1581.54 2299.19 1576.96 Q2294.54 1572.35 2293.2 1571.17 Q2290.67 1568.92 2288.94 1568.04 Q2287.18 1567.14 2285.49 1567.14 Q2282.73 1567.14 2281 1569.09 Q2279.26 1571.01 2279.26 1574.11 Q2279.26 1576.31 2280.03 1578.76 Q2280.79 1581.19 2282.34 1583.97 L2277.62 1583.97 Q2276.48 1581.15 2275.9 1578.69 Q2275.33 1576.24 2275.33 1574.2 Q2275.33 1568.83 2278.01 1565.64 Q2280.7 1562.44 2285.19 1562.44 Q2287.32 1562.44 2289.24 1563.25 Q2291.14 1564.04 2293.73 1566.15 Q2294.4 1566.72 2297.62 1569.83 Q2300.81 1572.93 2306.58 1578.58 Z\" fill=\"#000000\" fill-rule=\"evenodd\" fill-opacity=\"1\" /><path clip-path=\"url(#clip300)\" d=\"M2279.03 1542.44 Q2279.03 1546.05 2282.59 1547.88 Q2286.14 1549.69 2293.27 1549.69 Q2300.37 1549.69 2303.94 1547.88 Q2307.48 1546.05 2307.48 1542.44 Q2307.48 1538.81 2303.94 1537 Q2300.37 1535.17 2293.27 1535.17 Q2286.14 1535.17 2282.59 1537 Q2279.03 1538.81 2279.03 1542.44 M2275.33 1542.44 Q2275.33 1536.63 2279.93 1533.58 Q2284.52 1530.5 2293.27 1530.5 Q2301.99 1530.5 2306.6 1533.58 Q2311.18 1536.63 2311.18 1542.44 Q2311.18 1548.25 2306.6 1551.33 Q2301.99 1554.39 2293.27 1554.39 Q2284.52 1554.39 2279.93 1551.33 Q2275.33 1548.25 2275.33 1542.44 Z\" fill=\"#000000\" fill-rule=\"evenodd\" fill-opacity=\"1\" /><path clip-path=\"url(#clip300)\" d=\"M2306.58 1518.25 L2306.58 1501.93 L2310.51 1501.93 L2310.51 1523.88 L2306.58 1523.88 Q2303.82 1521.22 2299.19 1516.63 Q2294.54 1512.03 2293.2 1510.85 Q2290.67 1508.6 2288.94 1507.72 Q2287.18 1506.82 2285.49 1506.82 Q2282.73 1506.82 2281 1508.76 Q2279.26 1510.68 2279.26 1513.79 Q2279.26 1515.98 2280.03 1518.44 Q2280.79 1520.87 2282.34 1523.65 L2277.62 1523.65 Q2276.48 1520.82 2275.9 1518.37 Q2275.33 1515.91 2275.33 1513.88 Q2275.33 1508.51 2278.01 1505.31 Q2280.7 1502.12 2285.19 1502.12 Q2287.32 1502.12 2289.24 1502.93 Q2291.14 1503.72 2293.73 1505.82 Q2294.4 1506.4 2297.62 1509.5 Q2300.81 1512.6 2306.58 1518.25 Z\" fill=\"#000000\" fill-rule=\"evenodd\" fill-opacity=\"1\" /><path clip-path=\"url(#clip300)\" d=\"M2279.03 1482.12 Q2279.03 1485.73 2282.59 1487.56 Q2286.14 1489.36 2293.27 1489.36 Q2300.37 1489.36 2303.94 1487.56 Q2307.48 1485.73 2307.48 1482.12 Q2307.48 1478.48 2303.94 1476.68 Q2300.37 1474.85 2293.27 1474.85 Q2286.14 1474.85 2282.59 1476.68 Q2279.03 1478.48 2279.03 1482.12 M2275.33 1482.12 Q2275.33 1476.31 2279.93 1473.25 Q2284.52 1470.17 2293.27 1470.17 Q2301.99 1470.17 2306.6 1473.25 Q2311.18 1476.31 2311.18 1482.12 Q2311.18 1487.93 2306.6 1491.01 Q2301.99 1494.06 2293.27 1494.06 Q2284.52 1494.06 2279.93 1491.01 Q2275.33 1487.93 2275.33 1482.12 Z\" fill=\"#000000\" fill-rule=\"evenodd\" fill-opacity=\"1\" /><path clip-path=\"url(#clip300)\" d=\"M2295.63 1464.71 L2295.63 1452.23 L2299.42 1452.23 L2299.42 1464.71 L2295.63 1464.71 Z\" fill=\"#000000\" fill-rule=\"evenodd\" fill-opacity=\"1\" /><path clip-path=\"url(#clip300)\" d=\"M2279.03 1434.85 Q2279.03 1438.46 2282.59 1440.29 Q2286.14 1442.1 2293.27 1442.1 Q2300.37 1442.1 2303.94 1440.29 Q2307.48 1438.46 2307.48 1434.85 Q2307.48 1431.22 2303.94 1429.41 Q2300.37 1427.58 2293.27 1427.58 Q2286.14 1427.58 2282.59 1429.41 Q2279.03 1431.22 2279.03 1434.85 M2275.33 1434.85 Q2275.33 1429.04 2279.93 1425.98 Q2284.52 1422.91 2293.27 1422.91 Q2301.99 1422.91 2306.6 1425.98 Q2311.18 1429.04 2311.18 1434.85 Q2311.18 1440.66 2306.6 1443.74 Q2301.99 1446.79 2293.27 1446.79 Q2284.52 1446.79 2279.93 1443.74 Q2275.33 1440.66 2275.33 1434.85 Z\" fill=\"#000000\" fill-rule=\"evenodd\" fill-opacity=\"1\" /><path clip-path=\"url(#clip300)\" d=\"M2291.37 1404.11 Q2291.37 1407.26 2293.52 1409.11 Q2295.67 1410.94 2299.42 1410.94 Q2303.15 1410.94 2305.33 1409.11 Q2307.48 1407.26 2307.48 1404.11 Q2307.48 1400.96 2305.33 1399.13 Q2303.15 1397.28 2299.42 1397.28 Q2295.67 1397.28 2293.52 1399.13 Q2291.37 1400.96 2291.37 1404.11 M2276.71 1394.83 L2280.97 1394.83 Q2280.14 1396.59 2279.7 1398.39 Q2279.26 1400.17 2279.26 1401.93 Q2279.26 1406.56 2282.39 1409.02 Q2285.51 1411.45 2291.83 1411.79 Q2289.82 1410.43 2288.75 1408.37 Q2287.66 1406.31 2287.66 1403.83 Q2287.66 1398.62 2290.84 1395.61 Q2293.98 1392.58 2299.42 1392.58 Q2304.75 1392.58 2307.96 1395.73 Q2311.18 1398.88 2311.18 1404.11 Q2311.18 1410.11 2306.6 1413.28 Q2301.99 1416.45 2293.27 1416.45 Q2285.07 1416.45 2280.21 1412.56 Q2275.33 1408.67 2275.33 1402.12 Q2275.33 1400.36 2275.67 1398.58 Q2276.02 1396.77 2276.71 1394.83 Z\" fill=\"#000000\" fill-rule=\"evenodd\" fill-opacity=\"1\" /><path clip-path=\"url(#clip300)\" d=\"M2295.63 1387.28 L2295.63 1374.8 L2299.42 1374.8 L2299.42 1387.28 L2295.63 1387.28 Z\" fill=\"#000000\" fill-rule=\"evenodd\" fill-opacity=\"1\" /><path clip-path=\"url(#clip300)\" d=\"M2291.88 1353.25 Q2292.59 1349.9 2294.86 1348.02 Q2297.13 1346.12 2300.46 1346.12 Q2305.58 1346.12 2308.38 1349.64 Q2311.18 1353.16 2311.18 1359.64 Q2311.18 1361.82 2310.74 1364.13 Q2310.33 1366.42 2309.47 1368.88 L2304.96 1368.88 Q2306.09 1366.93 2306.67 1364.62 Q2307.25 1362.3 2307.25 1359.78 Q2307.25 1355.38 2305.51 1353.09 Q2303.77 1350.78 2300.46 1350.78 Q2297.41 1350.78 2295.7 1352.93 Q2293.96 1355.06 2293.96 1358.88 L2293.96 1362.91 L2290.12 1362.91 L2290.12 1358.69 Q2290.12 1355.24 2288.75 1353.42 Q2287.36 1351.59 2284.77 1351.59 Q2282.11 1351.59 2280.7 1353.49 Q2279.26 1355.36 2279.26 1358.88 Q2279.26 1360.8 2279.68 1363 Q2280.09 1365.2 2280.97 1367.84 L2276.81 1367.84 Q2276.07 1365.17 2275.7 1362.86 Q2275.33 1360.52 2275.33 1358.46 Q2275.33 1353.14 2277.76 1350.04 Q2280.16 1346.93 2284.28 1346.93 Q2287.15 1346.93 2289.15 1348.58 Q2291.11 1350.22 2291.88 1353.25 Z\" fill=\"#000000\" fill-rule=\"evenodd\" fill-opacity=\"1\" /><path clip-path=\"url(#clip300)\" d=\"M2279.03 1327.26 Q2279.03 1330.87 2282.59 1332.7 Q2286.14 1334.5 2293.27 1334.5 Q2300.37 1334.5 2303.94 1332.7 Q2307.48 1330.87 2307.48 1327.26 Q2307.48 1323.62 2303.94 1321.82 Q2300.37 1319.99 2293.27 1319.99 Q2286.14 1319.99 2282.59 1321.82 Q2279.03 1323.62 2279.03 1327.26 M2275.33 1327.26 Q2275.33 1321.45 2279.93 1318.39 Q2284.52 1315.31 2293.27 1315.31 Q2301.99 1315.31 2306.6 1318.39 Q2311.18 1321.45 2311.18 1327.26 Q2311.18 1333.07 2306.6 1336.15 Q2301.99 1339.2 2293.27 1339.2 Q2284.52 1339.2 2279.93 1336.15 Q2275.33 1333.07 2275.33 1327.26 Z\" fill=\"#000000\" fill-rule=\"evenodd\" fill-opacity=\"1\" /><path clip-path=\"url(#clip300)\" d=\"M2275.95 1312.3 L2275.95 1283.07 L2279.89 1283.07 L2279.89 1295.34 L2310.51 1295.34 L2310.51 1300.04 L2279.89 1300.04 L2279.89 1312.3 L2275.95 1312.3 Z\" fill=\"#000000\" fill-rule=\"evenodd\" fill-opacity=\"1\" /><path clip-path=\"url(#clip300)\" d=\"M2279.03 1268.14 Q2279.03 1271.75 2282.59 1273.58 Q2286.14 1275.38 2293.27 1275.38 Q2300.37 1275.38 2303.94 1273.58 Q2307.48 1271.75 2307.48 1268.14 Q2307.48 1264.5 2303.94 1262.7 Q2300.37 1260.87 2293.27 1260.87 Q2286.14 1260.87 2282.59 1262.7 Q2279.03 1264.5 2279.03 1268.14 M2275.33 1268.14 Q2275.33 1262.33 2279.93 1259.27 Q2284.52 1256.19 2293.27 1256.19 Q2301.99 1256.19 2306.6 1259.27 Q2311.18 1262.33 2311.18 1268.14 Q2311.18 1273.95 2306.6 1277.03 Q2301.99 1280.08 2293.27 1280.08 Q2284.52 1280.08 2279.93 1277.03 Q2275.33 1273.95 2275.33 1268.14 Z\" fill=\"#000000\" fill-rule=\"evenodd\" fill-opacity=\"1\" /><path clip-path=\"url(#clip300)\" d=\"M2279.03 1237.98 Q2279.03 1241.59 2282.59 1243.42 Q2286.14 1245.22 2293.27 1245.22 Q2300.37 1245.22 2303.94 1243.42 Q2307.48 1241.59 2307.48 1237.98 Q2307.48 1234.34 2303.94 1232.54 Q2300.37 1230.71 2293.27 1230.71 Q2286.14 1230.71 2282.59 1232.54 Q2279.03 1234.34 2279.03 1237.98 M2275.33 1237.98 Q2275.33 1232.17 2279.93 1229.11 Q2284.52 1226.03 2293.27 1226.03 Q2301.99 1226.03 2306.6 1229.11 Q2311.18 1232.17 2311.18 1237.98 Q2311.18 1243.79 2306.6 1246.87 Q2301.99 1249.92 2293.27 1249.92 Q2284.52 1249.92 2279.93 1246.87 Q2275.33 1243.79 2275.33 1237.98 Z\" fill=\"#000000\" fill-rule=\"evenodd\" fill-opacity=\"1\" /><path clip-path=\"url(#clip300)\" d=\"M2304.63 1217.33 L2304.63 1212.44 L2310.51 1212.44 L2310.51 1217.33 L2304.63 1217.33 M2286 1217.33 L2286 1212.44 L2291.88 1212.44 L2291.88 1217.33 L2286 1217.33 Z\" fill=\"#000000\" fill-rule=\"evenodd\" fill-opacity=\"1\" /><path clip-path=\"url(#clip300)\" d=\"M2279.03 1191.84 Q2279.03 1195.45 2282.59 1197.28 Q2286.14 1199.09 2293.27 1199.09 Q2300.37 1199.09 2303.94 1197.28 Q2307.48 1195.45 2307.48 1191.84 Q2307.48 1188.21 2303.94 1186.4 Q2300.37 1184.57 2293.27 1184.57 Q2286.14 1184.57 2282.59 1186.4 Q2279.03 1188.21 2279.03 1191.84 M2275.33 1191.84 Q2275.33 1186.03 2279.93 1182.98 Q2284.52 1179.9 2293.27 1179.9 Q2301.99 1179.9 2306.6 1182.98 Q2311.18 1186.03 2311.18 1191.84 Q2311.18 1197.65 2306.6 1200.73 Q2301.99 1203.79 2293.27 1203.79 Q2284.52 1203.79 2279.93 1200.73 Q2275.33 1197.65 2275.33 1191.84 Z\" fill=\"#000000\" fill-rule=\"evenodd\" fill-opacity=\"1\" /><path clip-path=\"url(#clip300)\" d=\"M2279.03 1161.68 Q2279.03 1165.29 2282.59 1167.12 Q2286.14 1168.93 2293.27 1168.93 Q2300.37 1168.93 2303.94 1167.12 Q2307.48 1165.29 2307.48 1161.68 Q2307.48 1158.05 2303.94 1156.24 Q2300.37 1154.41 2293.27 1154.41 Q2286.14 1154.41 2282.59 1156.24 Q2279.03 1158.05 2279.03 1161.68 M2275.33 1161.68 Q2275.33 1155.87 2279.93 1152.81 Q2284.52 1149.74 2293.27 1149.74 Q2301.99 1149.74 2306.6 1152.81 Q2311.18 1155.87 2311.18 1161.68 Q2311.18 1167.49 2306.6 1170.57 Q2301.99 1173.62 2293.27 1173.62 Q2284.52 1173.62 2279.93 1170.57 Q2275.33 1167.49 2275.33 1161.68 Z\" fill=\"#000000\" fill-rule=\"evenodd\" fill-opacity=\"1\" /><path clip-path=\"url(#clip300)\" d=\"M2304.63 1141.03 L2304.63 1136.15 L2310.51 1136.15 L2310.51 1141.03 L2304.63 1141.03 M2286 1141.03 L2286 1136.15 L2291.88 1136.15 L2291.88 1141.03 L2286 1141.03 Z\" fill=\"#000000\" fill-rule=\"evenodd\" fill-opacity=\"1\" /><path clip-path=\"url(#clip300)\" d=\"M2279.03 1115.55 Q2279.03 1119.16 2282.59 1120.99 Q2286.14 1122.79 2293.27 1122.79 Q2300.37 1122.79 2303.94 1120.99 Q2307.48 1119.16 2307.48 1115.55 Q2307.48 1111.91 2303.94 1110.11 Q2300.37 1108.28 2293.27 1108.28 Q2286.14 1108.28 2282.59 1110.11 Q2279.03 1111.91 2279.03 1115.55 M2275.33 1115.55 Q2275.33 1109.74 2279.93 1106.68 Q2284.52 1103.6 2293.27 1103.6 Q2301.99 1103.6 2306.6 1106.68 Q2311.18 1109.74 2311.18 1115.55 Q2311.18 1121.36 2306.6 1124.44 Q2301.99 1127.49 2293.27 1127.49 Q2284.52 1127.49 2279.93 1124.44 Q2275.33 1121.36 2275.33 1115.55 Z\" fill=\"#000000\" fill-rule=\"evenodd\" fill-opacity=\"1\" /><path clip-path=\"url(#clip300)\" d=\"M2279.03 1085.38 Q2279.03 1089 2282.59 1090.82 Q2286.14 1092.63 2293.27 1092.63 Q2300.37 1092.63 2303.94 1090.82 Q2307.48 1089 2307.48 1085.38 Q2307.48 1081.75 2303.94 1079.94 Q2300.37 1078.12 2293.27 1078.12 Q2286.14 1078.12 2282.59 1079.94 Q2279.03 1081.75 2279.03 1085.38 M2275.33 1085.38 Q2275.33 1079.57 2279.93 1076.52 Q2284.52 1073.44 2293.27 1073.44 Q2301.99 1073.44 2306.6 1076.52 Q2311.18 1079.57 2311.18 1085.38 Q2311.18 1091.19 2306.6 1094.27 Q2301.99 1097.33 2293.27 1097.33 Q2284.52 1097.33 2279.93 1094.27 Q2275.33 1091.19 2275.33 1085.38 Z\" fill=\"#000000\" fill-rule=\"evenodd\" fill-opacity=\"1\" /><path clip-path=\"url(#clip300)\" d=\"M1269.97 1627.79 L1269.97 1608.5 L1275.83 1608.5 L1275.83 1658.03 L1269.97 1658.03 L1269.97 1652.68 Q1268.13 1655.86 1265.29 1657.42 Q1262.49 1658.95 1258.55 1658.95 Q1252.09 1658.95 1248.01 1653.79 Q1243.97 1648.64 1243.97 1640.23 Q1243.97 1631.83 1248.01 1626.67 Q1252.09 1621.52 1258.55 1621.52 Q1262.49 1621.52 1265.29 1623.08 Q1268.13 1624.61 1269.97 1627.79 M1250.02 1640.23 Q1250.02 1646.69 1252.66 1650.39 Q1255.33 1654.05 1259.98 1654.05 Q1264.63 1654.05 1267.3 1650.39 Q1269.97 1646.69 1269.97 1640.23 Q1269.97 1633.77 1267.3 1630.11 Q1264.63 1626.42 1259.98 1626.42 Q1255.33 1626.42 1252.66 1630.11 Q1250.02 1633.77 1250.02 1640.23 Z\" fill=\"#000000\" fill-rule=\"evenodd\" fill-opacity=\"1\" /><path clip-path=\"url(#clip300)\" d=\"M1304.09 1640.11 Q1297 1640.11 1294.26 1641.73 Q1291.52 1643.35 1291.52 1647.27 Q1291.52 1650.39 1293.56 1652.23 Q1295.63 1654.05 1299.16 1654.05 Q1304.03 1654.05 1306.96 1650.61 Q1309.92 1647.14 1309.92 1641.41 L1309.92 1640.11 L1304.09 1640.11 M1315.77 1637.69 L1315.77 1658.03 L1309.92 1658.03 L1309.92 1652.61 Q1307.91 1655.86 1304.92 1657.42 Q1301.93 1658.95 1297.6 1658.95 Q1292.13 1658.95 1288.88 1655.89 Q1285.66 1652.81 1285.66 1647.65 Q1285.66 1641.63 1289.67 1638.58 Q1293.72 1635.52 1301.71 1635.52 L1309.92 1635.52 L1309.92 1634.95 Q1309.92 1630.91 1307.24 1628.71 Q1304.6 1626.48 1299.8 1626.48 Q1296.74 1626.48 1293.84 1627.22 Q1290.95 1627.95 1288.27 1629.41 L1288.27 1624 Q1291.49 1622.76 1294.51 1622.15 Q1297.54 1621.52 1300.4 1621.52 Q1308.14 1621.52 1311.95 1625.53 Q1315.77 1629.54 1315.77 1637.69 Z\" fill=\"#000000\" fill-rule=\"evenodd\" fill-opacity=\"1\" /><path clip-path=\"url(#clip300)\" d=\"M1342.67 1661.34 Q1340.19 1667.7 1337.83 1669.64 Q1335.48 1671.58 1331.53 1671.58 L1326.85 1671.58 L1326.85 1666.68 L1330.29 1666.68 Q1332.71 1666.68 1334.04 1665.54 Q1335.38 1664.39 1337 1660.13 L1338.05 1657.45 L1323.64 1622.38 L1329.84 1622.38 L1340.98 1650.26 L1352.12 1622.38 L1358.33 1622.38 L1342.67 1661.34 Z\" fill=\"#000000\" fill-rule=\"evenodd\" fill-opacity=\"1\" /><polyline clip-path=\"url(#clip302)\" style=\"stroke:#000000; stroke-linecap:butt; stroke-linejoin:round; stroke-width:2; stroke-opacity:0.1; fill:none\" points=\"\n",
       "  249.542,845.393 2352.76,845.393 \n",
       "  \"/>\n",
       "<polyline clip-path=\"url(#clip302)\" style=\"stroke:#000000; stroke-linecap:butt; stroke-linejoin:round; stroke-width:2; stroke-opacity:0.1; fill:none\" points=\"\n",
       "  249.542,591.384 2352.76,591.384 \n",
       "  \"/>\n",
       "<polyline clip-path=\"url(#clip302)\" style=\"stroke:#000000; stroke-linecap:butt; stroke-linejoin:round; stroke-width:2; stroke-opacity:0.1; fill:none\" points=\"\n",
       "  249.542,337.374 2352.76,337.374 \n",
       "  \"/>\n",
       "<polyline clip-path=\"url(#clip302)\" style=\"stroke:#000000; stroke-linecap:butt; stroke-linejoin:round; stroke-width:2; stroke-opacity:0.1; fill:none\" points=\"\n",
       "  249.542,83.3643 2352.76,83.3643 \n",
       "  \"/>\n",
       "<polyline clip-path=\"url(#clip300)\" style=\"stroke:#000000; stroke-linecap:butt; stroke-linejoin:round; stroke-width:4; stroke-opacity:1; fill:none\" points=\"\n",
       "  249.542,1054.24 249.542,47.2441 \n",
       "  \"/>\n",
       "<polyline clip-path=\"url(#clip300)\" style=\"stroke:#000000; stroke-linecap:butt; stroke-linejoin:round; stroke-width:4; stroke-opacity:1; fill:none\" points=\"\n",
       "  249.542,845.393 268.44,845.393 \n",
       "  \"/>\n",
       "<polyline clip-path=\"url(#clip300)\" style=\"stroke:#000000; stroke-linecap:butt; stroke-linejoin:round; stroke-width:4; stroke-opacity:1; fill:none\" points=\"\n",
       "  249.542,591.384 268.44,591.384 \n",
       "  \"/>\n",
       "<polyline clip-path=\"url(#clip300)\" style=\"stroke:#000000; stroke-linecap:butt; stroke-linejoin:round; stroke-width:4; stroke-opacity:1; fill:none\" points=\"\n",
       "  249.542,337.374 268.44,337.374 \n",
       "  \"/>\n",
       "<polyline clip-path=\"url(#clip300)\" style=\"stroke:#000000; stroke-linecap:butt; stroke-linejoin:round; stroke-width:4; stroke-opacity:1; fill:none\" points=\"\n",
       "  249.542,83.3643 268.44,83.3643 \n",
       "  \"/>\n",
       "<path clip-path=\"url(#clip300)\" d=\"M131.968 844.039 Q135.325 844.757 137.2 847.025 Q139.098 849.294 139.098 852.627 Q139.098 857.743 135.579 860.544 Q132.061 863.345 125.58 863.345 Q123.404 863.345 121.089 862.905 Q118.797 862.488 116.343 861.632 L116.343 857.118 Q118.288 858.252 120.603 858.831 Q122.918 859.41 125.441 859.41 Q129.839 859.41 132.13 857.674 Q134.445 855.937 134.445 852.627 Q134.445 849.572 132.292 847.859 Q130.163 846.123 126.343 846.123 L122.316 846.123 L122.316 842.28 L126.529 842.28 Q129.978 842.28 131.806 840.914 Q133.635 839.525 133.635 836.933 Q133.635 834.271 131.737 832.859 Q129.862 831.424 126.343 831.424 Q124.422 831.424 122.223 831.84 Q120.024 832.257 117.385 833.137 L117.385 828.97 Q120.047 828.229 122.362 827.859 Q124.7 827.488 126.76 827.488 Q132.084 827.488 135.186 829.919 Q138.288 832.326 138.288 836.447 Q138.288 839.317 136.644 841.308 Q135.001 843.275 131.968 844.039 Z\" fill=\"#000000\" fill-rule=\"evenodd\" fill-opacity=\"1\" /><path clip-path=\"url(#clip300)\" d=\"M147.964 856.794 L152.848 856.794 L152.848 862.673 L147.964 862.673 L147.964 856.794 Z\" fill=\"#000000\" fill-rule=\"evenodd\" fill-opacity=\"1\" /><path clip-path=\"url(#clip300)\" d=\"M163.172 861.956 L163.172 857.697 Q164.931 858.53 166.737 858.97 Q168.542 859.41 170.278 859.41 Q174.908 859.41 177.339 856.308 Q179.792 853.183 180.139 846.84 Q178.797 848.831 176.737 849.896 Q174.677 850.961 172.177 850.961 Q166.991 850.961 163.959 847.836 Q160.95 844.687 160.95 839.248 Q160.95 833.924 164.098 830.706 Q167.246 827.488 172.477 827.488 Q178.473 827.488 181.621 832.095 Q184.792 836.678 184.792 845.428 Q184.792 853.599 180.903 858.484 Q177.038 863.345 170.487 863.345 Q168.727 863.345 166.922 862.998 Q165.116 862.65 163.172 861.956 M172.477 847.303 Q175.626 847.303 177.454 845.15 Q179.306 842.998 179.306 839.248 Q179.306 835.521 177.454 833.368 Q175.626 831.192 172.477 831.192 Q169.329 831.192 167.477 833.368 Q165.649 835.521 165.649 839.248 Q165.649 842.998 167.477 845.15 Q169.329 847.303 172.477 847.303 Z\" fill=\"#000000\" fill-rule=\"evenodd\" fill-opacity=\"1\" /><path clip-path=\"url(#clip300)\" d=\"M197.223 858.738 L213.542 858.738 L213.542 862.673 L191.598 862.673 L191.598 858.738 Q194.26 855.984 198.843 851.354 Q203.449 846.701 204.63 845.359 Q206.875 842.836 207.755 841.1 Q208.658 839.34 208.658 837.65 Q208.658 834.896 206.713 833.16 Q204.792 831.424 201.69 831.424 Q199.491 831.424 197.037 832.188 Q194.607 832.951 191.829 834.502 L191.829 829.78 Q194.653 828.646 197.107 828.067 Q199.561 827.488 201.598 827.488 Q206.968 827.488 210.162 830.174 Q213.357 832.859 213.357 837.35 Q213.357 839.479 212.547 841.4 Q211.76 843.299 209.653 845.891 Q209.074 846.562 205.973 849.78 Q202.871 852.974 197.223 858.738 Z\" fill=\"#000000\" fill-rule=\"evenodd\" fill-opacity=\"1\" /><path clip-path=\"url(#clip300)\" d=\"M129.885 590.03 Q133.242 590.747 135.117 593.016 Q137.015 595.284 137.015 598.618 Q137.015 603.733 133.496 606.534 Q129.978 609.335 123.496 609.335 Q121.32 609.335 119.006 608.895 Q116.714 608.479 114.26 607.622 L114.26 603.108 Q116.205 604.242 118.519 604.821 Q120.834 605.4 123.357 605.4 Q127.755 605.4 130.047 603.664 Q132.362 601.928 132.362 598.618 Q132.362 595.562 130.209 593.849 Q128.08 592.113 124.26 592.113 L120.232 592.113 L120.232 588.27 L124.445 588.27 Q127.894 588.27 129.723 586.905 Q131.552 585.516 131.552 582.923 Q131.552 580.261 129.654 578.849 Q127.779 577.414 124.26 577.414 Q122.339 577.414 120.14 577.831 Q117.941 578.247 115.302 579.127 L115.302 574.96 Q117.964 574.219 120.279 573.849 Q122.617 573.479 124.677 573.479 Q130.001 573.479 133.103 575.909 Q136.204 578.317 136.204 582.437 Q136.204 585.307 134.561 587.298 Q132.917 589.266 129.885 590.03 Z\" fill=\"#000000\" fill-rule=\"evenodd\" fill-opacity=\"1\" /><path clip-path=\"url(#clip300)\" d=\"M145.88 602.784 L150.765 602.784 L150.765 608.664 L145.88 608.664 L145.88 602.784 Z\" fill=\"#000000\" fill-rule=\"evenodd\" fill-opacity=\"1\" /><path clip-path=\"url(#clip300)\" d=\"M161.089 607.946 L161.089 603.687 Q162.848 604.52 164.653 604.96 Q166.459 605.4 168.195 605.4 Q172.825 605.4 175.255 602.298 Q177.709 599.173 178.056 592.83 Q176.714 594.821 174.653 595.886 Q172.593 596.951 170.093 596.951 Q164.908 596.951 161.876 593.826 Q158.866 590.678 158.866 585.238 Q158.866 579.914 162.015 576.696 Q165.163 573.479 170.394 573.479 Q176.389 573.479 179.538 578.085 Q182.709 582.669 182.709 591.418 Q182.709 599.59 178.82 604.474 Q174.954 609.335 168.403 609.335 Q166.644 609.335 164.839 608.988 Q163.033 608.641 161.089 607.946 M170.394 593.293 Q173.542 593.293 175.371 591.141 Q177.223 588.988 177.223 585.238 Q177.223 581.511 175.371 579.358 Q173.542 577.182 170.394 577.182 Q167.246 577.182 165.394 579.358 Q163.565 581.511 163.565 585.238 Q163.565 588.988 165.394 591.141 Q167.246 593.293 170.394 593.293 Z\" fill=\"#000000\" fill-rule=\"evenodd\" fill-opacity=\"1\" /><path clip-path=\"url(#clip300)\" d=\"M203.959 578.178 L192.153 596.627 L203.959 596.627 L203.959 578.178 M202.732 574.104 L208.612 574.104 L208.612 596.627 L213.542 596.627 L213.542 600.516 L208.612 600.516 L208.612 608.664 L203.959 608.664 L203.959 600.516 L188.357 600.516 L188.357 596.002 L202.732 574.104 Z\" fill=\"#000000\" fill-rule=\"evenodd\" fill-opacity=\"1\" /><path clip-path=\"url(#clip300)\" d=\"M130.209 336.02 Q133.566 336.737 135.441 339.006 Q137.339 341.274 137.339 344.608 Q137.339 349.723 133.82 352.524 Q130.302 355.325 123.82 355.325 Q121.644 355.325 119.33 354.885 Q117.038 354.469 114.584 353.612 L114.584 349.098 Q116.529 350.233 118.843 350.811 Q121.158 351.39 123.681 351.39 Q128.08 351.39 130.371 349.654 Q132.686 347.918 132.686 344.608 Q132.686 341.552 130.533 339.839 Q128.404 338.103 124.584 338.103 L120.556 338.103 L120.556 334.261 L124.769 334.261 Q128.218 334.261 130.047 332.895 Q131.876 331.506 131.876 328.913 Q131.876 326.251 129.978 324.839 Q128.103 323.404 124.584 323.404 Q122.663 323.404 120.464 323.821 Q118.265 324.238 115.626 325.117 L115.626 320.95 Q118.288 320.21 120.603 319.839 Q122.941 319.469 125.001 319.469 Q130.325 319.469 133.427 321.9 Q136.529 324.307 136.529 328.427 Q136.529 331.298 134.885 333.288 Q133.242 335.256 130.209 336.02 Z\" fill=\"#000000\" fill-rule=\"evenodd\" fill-opacity=\"1\" /><path clip-path=\"url(#clip300)\" d=\"M146.204 348.774 L151.089 348.774 L151.089 354.654 L146.204 354.654 L146.204 348.774 Z\" fill=\"#000000\" fill-rule=\"evenodd\" fill-opacity=\"1\" /><path clip-path=\"url(#clip300)\" d=\"M161.413 353.936 L161.413 349.677 Q163.172 350.511 164.977 350.95 Q166.783 351.39 168.519 351.39 Q173.149 351.39 175.579 348.288 Q178.033 345.163 178.38 338.821 Q177.038 340.811 174.977 341.876 Q172.917 342.941 170.417 342.941 Q165.232 342.941 162.2 339.816 Q159.19 336.668 159.19 331.228 Q159.19 325.904 162.339 322.687 Q165.487 319.469 170.718 319.469 Q176.714 319.469 179.862 324.075 Q183.033 328.659 183.033 337.409 Q183.033 345.58 179.144 350.464 Q175.278 355.325 168.727 355.325 Q166.968 355.325 165.163 354.978 Q163.357 354.631 161.413 353.936 M170.718 339.284 Q173.866 339.284 175.695 337.131 Q177.547 334.978 177.547 331.228 Q177.547 327.501 175.695 325.349 Q173.866 323.173 170.718 323.173 Q167.57 323.173 165.718 325.349 Q163.89 327.501 163.89 331.228 Q163.89 334.978 165.718 337.131 Q167.57 339.284 170.718 339.284 Z\" fill=\"#000000\" fill-rule=\"evenodd\" fill-opacity=\"1\" /><path clip-path=\"url(#clip300)\" d=\"M202.014 335.511 Q198.866 335.511 197.014 337.663 Q195.186 339.816 195.186 343.566 Q195.186 347.293 197.014 349.469 Q198.866 351.622 202.014 351.622 Q205.162 351.622 206.991 349.469 Q208.843 347.293 208.843 343.566 Q208.843 339.816 206.991 337.663 Q205.162 335.511 202.014 335.511 M211.297 320.858 L211.297 325.117 Q209.537 324.284 207.732 323.844 Q205.949 323.404 204.19 323.404 Q199.561 323.404 197.107 326.529 Q194.676 329.654 194.329 335.974 Q195.695 333.96 197.755 332.895 Q199.815 331.807 202.292 331.807 Q207.5 331.807 210.51 334.978 Q213.542 338.126 213.542 343.566 Q213.542 348.89 210.394 352.108 Q207.246 355.325 202.014 355.325 Q196.019 355.325 192.848 350.742 Q189.676 346.136 189.676 337.409 Q189.676 329.214 193.565 324.353 Q197.454 319.469 204.005 319.469 Q205.764 319.469 207.547 319.816 Q209.352 320.163 211.297 320.858 Z\" fill=\"#000000\" fill-rule=\"evenodd\" fill-opacity=\"1\" /><path clip-path=\"url(#clip300)\" d=\"M130.464 82.0101 Q133.82 82.7277 135.695 84.9962 Q137.593 87.2647 137.593 90.598 Q137.593 95.7137 134.075 98.5147 Q130.556 101.316 124.075 101.316 Q121.899 101.316 119.584 100.876 Q117.293 100.459 114.839 99.6026 L114.839 95.0888 Q116.783 96.223 119.098 96.8017 Q121.413 97.3804 123.936 97.3804 Q128.334 97.3804 130.626 95.6443 Q132.941 93.9082 132.941 90.598 Q132.941 87.5425 130.788 85.8295 Q128.658 84.0934 124.839 84.0934 L120.811 84.0934 L120.811 80.2509 L125.024 80.2509 Q128.473 80.2509 130.302 78.8851 Q132.13 77.4963 132.13 74.9037 Q132.13 72.2417 130.232 70.8296 Q128.357 69.3944 124.839 69.3944 Q122.918 69.3944 120.718 69.8111 Q118.519 70.2278 115.881 71.1074 L115.881 66.9408 Q118.543 66.2 120.857 65.8297 Q123.195 65.4593 125.255 65.4593 Q130.58 65.4593 133.681 67.8898 Q136.783 70.2972 136.783 74.4176 Q136.783 77.2879 135.14 79.2787 Q133.496 81.2462 130.464 82.0101 Z\" fill=\"#000000\" fill-rule=\"evenodd\" fill-opacity=\"1\" /><path clip-path=\"url(#clip300)\" d=\"M146.459 94.7647 L151.343 94.7647 L151.343 100.644 L146.459 100.644 L146.459 94.7647 Z\" fill=\"#000000\" fill-rule=\"evenodd\" fill-opacity=\"1\" /><path clip-path=\"url(#clip300)\" d=\"M161.667 99.9267 L161.667 95.6675 Q163.427 96.5008 165.232 96.9406 Q167.038 97.3804 168.774 97.3804 Q173.403 97.3804 175.834 94.2786 Q178.288 91.1536 178.635 84.811 Q177.292 86.8018 175.232 87.8666 Q173.172 88.9314 170.672 88.9314 Q165.487 88.9314 162.454 85.8064 Q159.445 82.6583 159.445 77.2185 Q159.445 71.8944 162.593 68.6769 Q165.741 65.4593 170.973 65.4593 Q176.968 65.4593 180.116 70.0657 Q183.288 74.649 183.288 83.399 Q183.288 91.5703 179.399 96.4545 Q175.533 101.316 168.982 101.316 Q167.223 101.316 165.417 100.968 Q163.612 100.621 161.667 99.9267 M170.973 85.274 Q174.121 85.274 175.95 83.1212 Q177.801 80.9685 177.801 77.2185 Q177.801 73.4916 175.95 71.3389 Q174.121 69.163 170.973 69.163 Q167.825 69.163 165.973 71.3389 Q164.144 73.4916 164.144 77.2185 Q164.144 80.9685 165.973 83.1212 Q167.825 85.274 170.973 85.274 Z\" fill=\"#000000\" fill-rule=\"evenodd\" fill-opacity=\"1\" /><path clip-path=\"url(#clip300)\" d=\"M201.69 84.2323 Q198.357 84.2323 196.436 86.0147 Q194.538 87.7971 194.538 90.9221 Q194.538 94.0471 196.436 95.8295 Q198.357 97.6119 201.69 97.6119 Q205.024 97.6119 206.945 95.8295 Q208.866 94.0239 208.866 90.9221 Q208.866 87.7971 206.945 86.0147 Q205.047 84.2323 201.69 84.2323 M197.014 82.2416 Q194.005 81.5009 192.315 79.4407 Q190.649 77.3805 190.649 74.4176 Q190.649 70.2741 193.588 67.8667 Q196.551 65.4593 201.69 65.4593 Q206.852 65.4593 209.792 67.8667 Q212.732 70.2741 212.732 74.4176 Q212.732 77.3805 211.042 79.4407 Q209.375 81.5009 206.389 82.2416 Q209.769 83.0286 211.644 85.3203 Q213.542 87.6119 213.542 90.9221 Q213.542 95.9452 210.463 98.6304 Q207.408 101.316 201.69 101.316 Q195.973 101.316 192.894 98.6304 Q189.838 95.9452 189.838 90.9221 Q189.838 87.6119 191.737 85.3203 Q193.635 83.0286 197.014 82.2416 M195.301 74.8574 Q195.301 77.5426 196.968 79.0472 Q198.658 80.5518 201.69 80.5518 Q204.699 80.5518 206.389 79.0472 Q208.102 77.5426 208.102 74.8574 Q208.102 72.1722 206.389 70.6676 Q204.699 69.163 201.69 69.163 Q198.658 69.163 196.968 70.6676 Q195.301 72.1722 195.301 74.8574 Z\" fill=\"#000000\" fill-rule=\"evenodd\" fill-opacity=\"1\" /><path clip-path=\"url(#clip300)\" d=\"M21.7677 682.003 L39.6235 682.003 L39.6235 673.919 Q39.6235 669.431 37.3 666.98 Q34.9765 664.529 30.6797 664.529 Q26.4147 664.529 24.0912 666.98 Q21.7677 669.431 21.7677 673.919 L21.7677 682.003 M16.4842 688.432 L16.4842 673.919 Q16.4842 665.93 20.1126 661.856 Q23.7092 657.75 30.6797 657.75 Q37.7138 657.75 41.3104 661.856 Q44.907 665.93 44.907 673.919 L44.907 682.003 L64.0042 682.003 L64.0042 688.432 L16.4842 688.432 Z\" fill=\"#000000\" fill-rule=\"evenodd\" fill-opacity=\"1\" /><path clip-path=\"url(#clip300)\" d=\"M16.4842 649.124 L16.4842 642.695 L58.5933 642.695 L58.5933 619.555 L64.0042 619.555 L64.0042 649.124 L16.4842 649.124 Z\" fill=\"#000000\" fill-rule=\"evenodd\" fill-opacity=\"1\" /><path clip-path=\"url(#clip300)\" d=\"M16.4842 612.808 L16.4842 604.15 L56.238 583.08 L16.4842 583.08 L16.4842 576.842 L64.0042 576.842 L64.0042 585.499 L24.2503 606.569 L64.0042 606.569 L64.0042 612.808 L16.4842 612.808 Z\" fill=\"#000000\" fill-rule=\"evenodd\" fill-opacity=\"1\" /><path clip-path=\"url(#clip300)\" d=\"M16.4842 553.893 L16.4842 548.482 L70.0516 565.033 L70.0516 570.444 L16.4842 553.893 Z\" fill=\"#000000\" fill-rule=\"evenodd\" fill-opacity=\"1\" /><path clip-path=\"url(#clip300)\" d=\"M16.4842 542.817 L16.4842 536.356 L45.3526 536.356 Q52.9915 536.356 56.3653 533.587 Q59.7073 530.818 59.7073 524.611 Q59.7073 518.436 56.3653 515.667 Q52.9915 512.898 45.3526 512.898 L16.4842 512.898 L16.4842 506.437 L46.1484 506.437 Q55.4423 506.437 60.1847 511.052 Q64.9272 515.635 64.9272 524.611 Q64.9272 533.618 60.1847 538.234 Q55.4423 542.817 46.1484 542.817 L16.4842 542.817 Z\" fill=\"#000000\" fill-rule=\"evenodd\" fill-opacity=\"1\" /><path clip-path=\"url(#clip300)\" d=\"M18.0438 465.887 L24.314 465.887 Q22.5634 469.548 21.704 472.794 Q20.8447 476.041 20.8447 479.064 Q20.8447 484.316 22.8817 487.181 Q24.9187 490.013 28.6745 490.013 Q31.8255 490.013 33.4488 488.135 Q35.0402 486.226 36.0269 480.942 L36.8226 477.059 Q38.1912 469.866 41.6605 466.46 Q45.098 463.023 50.8908 463.023 Q57.7976 463.023 61.3624 467.67 Q64.9272 472.285 64.9272 481.229 Q64.9272 484.602 64.1633 488.422 Q63.3994 492.21 61.9035 496.284 L55.2831 496.284 Q57.4793 492.369 58.5933 488.613 Q59.7073 484.857 59.7073 481.229 Q59.7073 475.722 57.543 472.73 Q55.3786 469.739 51.3682 469.739 Q47.8671 469.739 45.8937 471.903 Q43.9204 474.035 42.9337 478.937 L42.1698 482.852 Q40.7375 490.045 37.682 493.26 Q34.6264 496.475 29.1837 496.475 Q22.8817 496.475 19.2532 492.05 Q15.6248 487.594 15.6248 479.796 Q15.6248 476.454 16.2295 472.985 Q16.8343 469.516 18.0438 465.887 Z\" fill=\"#000000\" fill-rule=\"evenodd\" fill-opacity=\"1\" /><path clip-path=\"url(#clip300)\" d=\"M21.7677 446.567 L58.7206 446.567 L58.7206 438.801 Q58.7206 428.966 54.2646 424.415 Q49.8086 419.831 40.1964 419.831 Q30.6479 419.831 26.2237 424.415 Q21.7677 428.966 21.7677 438.801 L21.7677 446.567 M16.4842 452.997 L16.4842 439.788 Q16.4842 425.974 22.2451 419.513 Q27.9743 413.052 40.1964 413.052 Q52.4822 413.052 58.2432 419.545 Q64.0042 426.038 64.0042 439.788 L64.0042 452.997 L16.4842 452.997 Z\" fill=\"#000000\" fill-rule=\"evenodd\" fill-opacity=\"1\" /><polyline clip-path=\"url(#clip302)\" style=\"stroke:#009af9; stroke-linecap:butt; stroke-linejoin:round; stroke-width:4; stroke-opacity:1; fill:none\" points=\"\n",
       "  309.067,235.77 377.486,714.578 445.906,945.727 514.325,371.665 582.745,823.803 788.003,849.204 856.423,524.071 924.842,870.794 1061.68,719.659 1266.94,574.873 \n",
       "  1335.36,1025.74 1403.78,423.737 1472.2,351.345 1540.62,158.297 1745.88,252.281 1814.29,704.418 1882.71,597.734 1951.13,308.163 2019.55,214.179 2224.81,266.251 \n",
       "  2293.23,75.744 \n",
       "  \"/>\n",
       "<path clip-path=\"url(#clip302)\" d=\"M309.067 251.77 L297.755 247.082 L293.067 235.77 L297.755 224.458 L309.067 219.77 L320.379 224.458 L325.067 235.77 L320.379 247.082 Z\" fill=\"#009af9\" fill-rule=\"evenodd\" fill-opacity=\"1\" stroke=\"#000000\" stroke-opacity=\"1\" stroke-width=\"3.2\"/>\n",
       "<path clip-path=\"url(#clip302)\" d=\"M377.486 730.578 L366.174 725.89 L361.486 714.578 L366.174 703.266 L377.486 698.578 L388.798 703.266 L393.486 714.578 L388.798 725.89 Z\" fill=\"#009af9\" fill-rule=\"evenodd\" fill-opacity=\"1\" stroke=\"#000000\" stroke-opacity=\"1\" stroke-width=\"3.2\"/>\n",
       "<path clip-path=\"url(#clip302)\" d=\"M445.906 961.727 L434.594 957.039 L429.906 945.727 L434.594 934.415 L445.906 929.727 L457.218 934.415 L461.906 945.727 L457.218 957.039 Z\" fill=\"#009af9\" fill-rule=\"evenodd\" fill-opacity=\"1\" stroke=\"#000000\" stroke-opacity=\"1\" stroke-width=\"3.2\"/>\n",
       "<path clip-path=\"url(#clip302)\" d=\"M514.325 387.665 L503.013 382.977 L498.325 371.665 L503.013 360.353 L514.325 355.665 L525.637 360.353 L530.325 371.665 L525.637 382.977 Z\" fill=\"#009af9\" fill-rule=\"evenodd\" fill-opacity=\"1\" stroke=\"#000000\" stroke-opacity=\"1\" stroke-width=\"3.2\"/>\n",
       "<path clip-path=\"url(#clip302)\" d=\"M582.745 839.803 L571.433 835.115 L566.745 823.803 L571.433 812.491 L582.745 807.803 L594.057 812.491 L598.745 823.803 L594.057 835.115 Z\" fill=\"#009af9\" fill-rule=\"evenodd\" fill-opacity=\"1\" stroke=\"#000000\" stroke-opacity=\"1\" stroke-width=\"3.2\"/>\n",
       "<path clip-path=\"url(#clip302)\" d=\"M788.003 865.204 L776.691 860.516 L772.003 849.204 L776.691 837.892 L788.003 833.204 L799.315 837.892 L804.003 849.204 L799.315 860.516 Z\" fill=\"#009af9\" fill-rule=\"evenodd\" fill-opacity=\"1\" stroke=\"#000000\" stroke-opacity=\"1\" stroke-width=\"3.2\"/>\n",
       "<path clip-path=\"url(#clip302)\" d=\"M856.423 540.071 L845.111 535.383 L840.423 524.071 L845.111 512.759 L856.423 508.071 L867.735 512.759 L872.423 524.071 L867.735 535.383 Z\" fill=\"#009af9\" fill-rule=\"evenodd\" fill-opacity=\"1\" stroke=\"#000000\" stroke-opacity=\"1\" stroke-width=\"3.2\"/>\n",
       "<path clip-path=\"url(#clip302)\" d=\"M924.842 886.794 L913.53 882.106 L908.842 870.794 L913.53 859.482 L924.842 854.794 L936.154 859.482 L940.842 870.794 L936.154 882.106 Z\" fill=\"#009af9\" fill-rule=\"evenodd\" fill-opacity=\"1\" stroke=\"#000000\" stroke-opacity=\"1\" stroke-width=\"3.2\"/>\n",
       "<path clip-path=\"url(#clip302)\" d=\"M1061.68 735.659 L1050.37 730.971 L1045.68 719.659 L1050.37 708.347 L1061.68 703.659 L1072.99 708.347 L1077.68 719.659 L1072.99 730.971 Z\" fill=\"#009af9\" fill-rule=\"evenodd\" fill-opacity=\"1\" stroke=\"#000000\" stroke-opacity=\"1\" stroke-width=\"3.2\"/>\n",
       "<path clip-path=\"url(#clip302)\" d=\"M1266.94 590.873 L1255.63 586.185 L1250.94 574.873 L1255.63 563.561 L1266.94 558.873 L1278.25 563.561 L1282.94 574.873 L1278.25 586.185 Z\" fill=\"#009af9\" fill-rule=\"evenodd\" fill-opacity=\"1\" stroke=\"#000000\" stroke-opacity=\"1\" stroke-width=\"3.2\"/>\n",
       "<path clip-path=\"url(#clip302)\" d=\"M1335.36 1041.74 L1324.05 1037.05 L1319.36 1025.74 L1324.05 1014.43 L1335.36 1009.74 L1346.67 1014.43 L1351.36 1025.74 L1346.67 1037.05 Z\" fill=\"#009af9\" fill-rule=\"evenodd\" fill-opacity=\"1\" stroke=\"#000000\" stroke-opacity=\"1\" stroke-width=\"3.2\"/>\n",
       "<path clip-path=\"url(#clip302)\" d=\"M1403.78 439.737 L1392.47 435.049 L1387.78 423.737 L1392.47 412.425 L1403.78 407.737 L1415.09 412.425 L1419.78 423.737 L1415.09 435.049 Z\" fill=\"#009af9\" fill-rule=\"evenodd\" fill-opacity=\"1\" stroke=\"#000000\" stroke-opacity=\"1\" stroke-width=\"3.2\"/>\n",
       "<path clip-path=\"url(#clip302)\" d=\"M1472.2 367.345 L1460.89 362.657 L1456.2 351.345 L1460.89 340.033 L1472.2 335.345 L1483.51 340.033 L1488.2 351.345 L1483.51 362.657 Z\" fill=\"#009af9\" fill-rule=\"evenodd\" fill-opacity=\"1\" stroke=\"#000000\" stroke-opacity=\"1\" stroke-width=\"3.2\"/>\n",
       "<path clip-path=\"url(#clip302)\" d=\"M1540.62 174.297 L1529.31 169.609 L1524.62 158.297 L1529.31 146.985 L1540.62 142.297 L1551.93 146.985 L1556.62 158.297 L1551.93 169.609 Z\" fill=\"#009af9\" fill-rule=\"evenodd\" fill-opacity=\"1\" stroke=\"#000000\" stroke-opacity=\"1\" stroke-width=\"3.2\"/>\n",
       "<path clip-path=\"url(#clip302)\" d=\"M1745.88 268.281 L1734.56 263.593 L1729.88 252.281 L1734.56 240.969 L1745.88 236.281 L1757.19 240.969 L1761.88 252.281 L1757.19 263.593 Z\" fill=\"#009af9\" fill-rule=\"evenodd\" fill-opacity=\"1\" stroke=\"#000000\" stroke-opacity=\"1\" stroke-width=\"3.2\"/>\n",
       "<path clip-path=\"url(#clip302)\" d=\"M1814.29 720.418 L1802.98 715.73 L1798.29 704.418 L1802.98 693.106 L1814.29 688.418 L1825.61 693.106 L1830.29 704.418 L1825.61 715.73 Z\" fill=\"#009af9\" fill-rule=\"evenodd\" fill-opacity=\"1\" stroke=\"#000000\" stroke-opacity=\"1\" stroke-width=\"3.2\"/>\n",
       "<path clip-path=\"url(#clip302)\" d=\"M1882.71 613.734 L1871.4 609.046 L1866.71 597.734 L1871.4 586.422 L1882.71 581.734 L1894.03 586.422 L1898.71 597.734 L1894.03 609.046 Z\" fill=\"#009af9\" fill-rule=\"evenodd\" fill-opacity=\"1\" stroke=\"#000000\" stroke-opacity=\"1\" stroke-width=\"3.2\"/>\n",
       "<path clip-path=\"url(#clip302)\" d=\"M1951.13 324.163 L1939.82 319.475 L1935.13 308.163 L1939.82 296.851 L1951.13 292.163 L1962.45 296.851 L1967.13 308.163 L1962.45 319.475 Z\" fill=\"#009af9\" fill-rule=\"evenodd\" fill-opacity=\"1\" stroke=\"#000000\" stroke-opacity=\"1\" stroke-width=\"3.2\"/>\n",
       "<path clip-path=\"url(#clip302)\" d=\"M2019.55 230.179 L2008.24 225.491 L2003.55 214.179 L2008.24 202.867 L2019.55 198.179 L2030.87 202.867 L2035.55 214.179 L2030.87 225.491 Z\" fill=\"#009af9\" fill-rule=\"evenodd\" fill-opacity=\"1\" stroke=\"#000000\" stroke-opacity=\"1\" stroke-width=\"3.2\"/>\n",
       "<path clip-path=\"url(#clip302)\" d=\"M2224.81 282.251 L2213.5 277.563 L2208.81 266.251 L2213.5 254.939 L2224.81 250.251 L2236.12 254.939 L2240.81 266.251 L2236.12 277.563 Z\" fill=\"#009af9\" fill-rule=\"evenodd\" fill-opacity=\"1\" stroke=\"#000000\" stroke-opacity=\"1\" stroke-width=\"3.2\"/>\n",
       "<path clip-path=\"url(#clip302)\" d=\"M2293.23 91.744 L2281.92 87.056 L2277.23 75.744 L2281.92 64.432 L2293.23 59.744 L2304.54 64.432 L2309.23 75.744 L2304.54 87.056 Z\" fill=\"#009af9\" fill-rule=\"evenodd\" fill-opacity=\"1\" stroke=\"#000000\" stroke-opacity=\"1\" stroke-width=\"3.2\"/>\n",
       "</svg>\n"
      ]
     },
     "execution_count": 86,
     "metadata": {},
     "output_type": "execute_result"
    }
   ],
   "source": [
    "plot(dates[rates_ok], rates[rates_ok];\n",
    "     xlabel=\"day\", ylabel=\"PLN/USD\", legend=false, marker=:o,\n",
    "     xticks=dates[rates_ok], xrot=90, bottommargin=5Plots.mm)"
   ]
  }
 ],
 "metadata": {
  "kernelspec": {
   "display_name": "Julia 1.7.3",
   "language": "julia",
   "name": "julia-1.7"
  },
  "language_info": {
   "file_extension": ".jl",
   "mimetype": "application/julia",
   "name": "julia",
   "version": "1.7.3"
  }
 },
 "nbformat": 4,
 "nbformat_minor": 5
}
