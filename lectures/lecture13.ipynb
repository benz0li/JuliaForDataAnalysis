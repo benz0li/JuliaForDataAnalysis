{
 "cells": [
  {
   "cell_type": "markdown",
   "id": "5e6062dd",
   "metadata": {},
   "source": [
    "# Julia for Data Analysis\n",
    "\n",
    "## Bogumił Kamiński"
   ]
  },
  {
   "cell_type": "markdown",
   "id": "4e96e78c",
   "metadata": {},
   "source": [
    "# Lecture 13. Advanced transformations of data frames"
   ]
  },
  {
   "cell_type": "markdown",
   "id": "16a246ca",
   "metadata": {},
   "source": [
    "## Getting and pre-processing the police stop data set"
   ]
  },
  {
   "cell_type": "markdown",
   "id": "9f5583a0",
   "metadata": {},
   "source": [
    "### Loading all required packages"
   ]
  },
  {
   "cell_type": "code",
   "execution_count": null,
   "id": "f8c7f637",
   "metadata": {},
   "outputs": [],
   "source": [
    "using Pkg\n",
    "Pkg.activate(Base.current_project())"
   ]
  },
  {
   "cell_type": "code",
   "execution_count": 1,
   "id": "5ae8892a",
   "metadata": {},
   "outputs": [],
   "source": [
    "using CSV\n",
    "using CategoricalArrays\n",
    "using DataFrames\n",
    "using DataFramesMeta\n",
    "using Dates\n",
    "using Distributions\n",
    "import Downloads\n",
    "using FreqTables\n",
    "using GLM\n",
    "using Plots\n",
    "using Random\n",
    "using ROCAnalysis\n",
    "using SHA\n",
    "using Statistics\n",
    "import ZipFile"
   ]
  },
  {
   "cell_type": "markdown",
   "id": "25fb8e18",
   "metadata": {},
   "source": [
    "### Introducing the @chain macro"
   ]
  },
  {
   "cell_type": "code",
   "execution_count": 2,
   "id": "893e01c3",
   "metadata": {},
   "outputs": [
    {
     "data": {
      "text/plain": [
       "6.0"
      ]
     },
     "execution_count": 2,
     "metadata": {},
     "output_type": "execute_result"
    }
   ],
   "source": [
    "sqrt(sum(1:8))"
   ]
  },
  {
   "cell_type": "code",
   "execution_count": 3,
   "id": "f9619b9d",
   "metadata": {},
   "outputs": [
    {
     "data": {
      "text/plain": [
       "6.0"
      ]
     },
     "execution_count": 3,
     "metadata": {},
     "output_type": "execute_result"
    }
   ],
   "source": [
    "@chain 1:8 begin\n",
    "    sum\n",
    "    sqrt\n",
    "end"
   ]
  },
  {
   "cell_type": "code",
   "execution_count": 4,
   "id": "7bc260de",
   "metadata": {},
   "outputs": [
    {
     "data": {
      "text/plain": [
       "6.0"
      ]
     },
     "execution_count": 4,
     "metadata": {},
     "output_type": "execute_result"
    }
   ],
   "source": [
    "@chain 1:8 begin\n",
    "    sum(_)\n",
    "    sqrt(_)\n",
    "end"
   ]
  },
  {
   "cell_type": "code",
   "execution_count": 5,
   "id": "921b4b50",
   "metadata": {},
   "outputs": [
    {
     "data": {
      "text/plain": [
       "\"312\""
      ]
     },
     "execution_count": 5,
     "metadata": {},
     "output_type": "execute_result"
    }
   ],
   "source": [
    "string(3, string(1, 2))"
   ]
  },
  {
   "cell_type": "code",
   "execution_count": 6,
   "id": "46be4037",
   "metadata": {},
   "outputs": [
    {
     "data": {
      "text/plain": [
       "\"312\""
      ]
     },
     "execution_count": 6,
     "metadata": {},
     "output_type": "execute_result"
    }
   ],
   "source": [
    "@chain 1 begin\n",
    "    string(2)\n",
    "    string(3, _)\n",
    "end"
   ]
  },
  {
   "cell_type": "markdown",
   "id": "23ca99e2",
   "metadata": {},
   "source": [
    "### Getting the police stop data set"
   ]
  },
  {
   "cell_type": "code",
   "execution_count": 7,
   "id": "dfd52fc7",
   "metadata": {},
   "outputs": [],
   "source": [
    "url_zip = \"https://stacks.stanford.edu/file/druid:yg821jf8611/yg821jf8611_ky_owensboro_2020_04_01.csv.zip\";\n",
    "local_zip = \"owensboro.zip\";"
   ]
  },
  {
   "cell_type": "code",
   "execution_count": 8,
   "id": "c46137d4",
   "metadata": {},
   "outputs": [
    {
     "data": {
      "text/plain": [
       "true"
      ]
     },
     "execution_count": 8,
     "metadata": {},
     "output_type": "execute_result"
    }
   ],
   "source": [
    "isfile(local_zip) || Downloads.download(url_zip, local_zip)"
   ]
  },
  {
   "cell_type": "code",
   "execution_count": 9,
   "id": "51428477",
   "metadata": {},
   "outputs": [
    {
     "data": {
      "text/plain": [
       "true"
      ]
     },
     "execution_count": 9,
     "metadata": {},
     "output_type": "execute_result"
    }
   ],
   "source": [
    "isfile(local_zip)"
   ]
  },
  {
   "cell_type": "code",
   "execution_count": 10,
   "id": "aecfec72",
   "metadata": {},
   "outputs": [
    {
     "data": {
      "text/plain": [
       "true"
      ]
     },
     "execution_count": 10,
     "metadata": {},
     "output_type": "execute_result"
    }
   ],
   "source": [
    "open(sha256, local_zip) == [0x14, 0x3b, 0x7d, 0x74, 0xbc, 0x15, 0x74, 0xc5,\n",
    "                            0xf8, 0x42, 0xe0, 0x3f, 0x8f, 0x08, 0x88, 0xd5,\n",
    "                            0xe2, 0xa8, 0x13, 0x24, 0xfd, 0x4e, 0xab, 0xde,\n",
    "                            0x02, 0x89, 0xdd, 0x74, 0x3c, 0xb3, 0x5d, 0x56]"
   ]
  },
  {
   "cell_type": "code",
   "execution_count": 11,
   "id": "dcf15200",
   "metadata": {},
   "outputs": [
    {
     "data": {
      "text/plain": [
       "ZipFile.Reader for IOStream(<file owensboro.zip>) containing 1 files:\n",
       "\n",
       "uncompressedsize method  mtime            name\n",
       "----------------------------------------------\n",
       "         1595853 Deflate 2020-04-01 07-58 ky_owensboro_2020_04_01.csv\n"
      ]
     },
     "execution_count": 11,
     "metadata": {},
     "output_type": "execute_result"
    }
   ],
   "source": [
    "archive = ZipFile.Reader(local_zip)"
   ]
  },
  {
   "cell_type": "code",
   "execution_count": 12,
   "id": "517a0a7d",
   "metadata": {},
   "outputs": [
    {
     "data": {
      "text/html": [
       "<div class=\"data-frame\"><p>6,921 rows × 18 columns (omitted printing of 14 columns)</p><table class=\"data-frame\"><thead><tr><th></th><th>raw_row_number</th><th>date</th><th>time</th><th>location</th></tr><tr><th></th><th title=\"Int64\">Int64</th><th title=\"Date\">Date</th><th title=\"Time\">Time</th><th title=\"String\">String</th></tr></thead><tbody><tr><th>1</th><td>1</td><td>2016-08-04</td><td>13:52:00</td><td>1016 HALL ST, OWENSBORO, KY, 42301</td></tr><tr><th>2</th><td>2</td><td>2016-04-03</td><td>01:48:00</td><td>W PARRISH AVE/BYPASS, OWENSBORO, KY, 42301</td></tr><tr><th>3</th><td>3</td><td>2015-09-13</td><td>04:57:00</td><td>2511 HWY 144 ST, OWENSBORO, KY, 42303</td></tr><tr><th>4</th><td>4</td><td>2016-01-05</td><td>13:16:00</td><td>CARTER RD &amp; BITTEL RD, OWENSBORO, KY, 42301</td></tr><tr><th>5</th><td>5</td><td>2016-04-06</td><td>02:15:00</td><td>FREDERICA ST &amp; FAIRFAX DR, OWENSBORO, KY, 42301</td></tr><tr><th>6</th><td>6</td><td>2015-11-05</td><td>23:15:00</td><td>FREDERICA ST AND WASHINGTON AVE, OWENSBORO, KY, 42303</td></tr><tr><th>7</th><td>7</td><td>2016-02-14</td><td>02:40:00</td><td>1301 FREDERICA ST, OWENSBORO, KY, 42301</td></tr><tr><th>8</th><td>8</td><td>2016-02-09</td><td>16:59:00</td><td>1300 MCFARLAND AVE, OWENSBORO, KY, 42301</td></tr><tr><th>9</th><td>9</td><td>2016-04-16</td><td>23:14:00</td><td>700 CRABTREE AVE, OWENSBORO, KY, 42301</td></tr><tr><th>10</th><td>10</td><td>2016-06-22</td><td>01:20:00</td><td>700 CRITTENDEN ST, OLATON, KY, 42361</td></tr><tr><th>11</th><td>11</td><td>2016-06-29</td><td>19:24:00</td><td>1201 HUTCH LN, OWENSBORO, KY, 42301</td></tr><tr><th>12</th><td>12</td><td>2015-11-21</td><td>15:58:00</td><td>900 BOOTH AVE, OWENSBORO, KY, 42301</td></tr><tr><th>13</th><td>13</td><td>2015-10-25</td><td>04:20:00</td><td>E BYERS AVE / FRIENDSHIP DRIVE, OWENSBORO, KY, 42303</td></tr><tr><th>14</th><td>14</td><td>2015-12-03</td><td>17:24:00</td><td>2805 W PARRISH AVE, OWENSBORO, KY, 42301</td></tr><tr><th>15</th><td>15</td><td>2015-12-12</td><td>12:46:00</td><td>2245 RAGU DR, OWENSBORO, KY, 42301</td></tr><tr><th>16</th><td>16</td><td>2015-12-15</td><td>19:24:00</td><td>W 8TH ST &amp; MAPLE ST, OWENSBORO, KY, 42301</td></tr><tr><th>17</th><td>17</td><td>2016-01-30</td><td>16:24:00</td><td>1670 STARLITE DR, OWENSBORO, KY, 42303</td></tr><tr><th>18</th><td>18</td><td>2016-01-24</td><td>01:50:00</td><td>1700 W 4TH ST, OWENSBORO, KY, 42301</td></tr><tr><th>19</th><td>19</td><td>2016-03-21</td><td>09:05:00</td><td>E 4TH ST  JR MILLER BLV, OWENSBORO, KY, 42301</td></tr><tr><th>20</th><td>20</td><td>2016-05-05</td><td>12:53:00</td><td>1800 W 9TH ST, OWENSBORO, KY, 42301</td></tr><tr><th>21</th><td>21</td><td>2015-11-05</td><td>13:17:00</td><td>W PARRISH AVE/FREDERICA, PHILPOT, KY, 42366</td></tr><tr><th>22</th><td>22</td><td>2016-04-18</td><td>09:30:00</td><td>1400 W 9TH ST, OWENSBORO, KY, 42301</td></tr><tr><th>23</th><td>23</td><td>2015-10-22</td><td>16:36:00</td><td>510 JED PL, OWENSBORO, KY, 42301</td></tr><tr><th>24</th><td>24</td><td>2016-06-07</td><td>18:57:00</td><td>J R MILLER BLVD &amp; E 9TH STREET, DALLAS, TX, 75211</td></tr><tr><th>25</th><td>25</td><td>2015-11-20</td><td>18:07:00</td><td>1100 LEITCHFIELD RD, OWENSBORO, KY, 42303</td></tr><tr><th>26</th><td>26</td><td>2016-03-25</td><td>18:13:00</td><td>1200 E PARRISH AVE, OWENSBORO, KY, 42303</td></tr><tr><th>27</th><td>27</td><td>2015-09-30</td><td>03:37:00</td><td>E 9TH ST / CRITTENDEN ST, OWENSBORO, KY, 42301</td></tr><tr><th>28</th><td>28</td><td>2015-10-01</td><td>23:39:00</td><td>500 W 9TH ST, BEAVER DAM, KY, 42320</td></tr><tr><th>29</th><td>29</td><td>2016-03-03</td><td>21:30:00</td><td>1300 W 5TH ST, OWENSBORO, KY, 42303</td></tr><tr><th>30</th><td>30</td><td>2015-10-31</td><td>01:50:00</td><td>300 FRAYSER AVE, OWENSBORO, KY, 42301</td></tr><tr><th>&vellip;</th><td>&vellip;</td><td>&vellip;</td><td>&vellip;</td><td>&vellip;</td></tr></tbody></table></div>"
      ],
      "text/latex": [
       "\\begin{tabular}{r|ccccc}\n",
       "\t& raw\\_row\\_number & date & time & location & \\\\\n",
       "\t\\hline\n",
       "\t& Int64 & Date & Time & String & \\\\\n",
       "\t\\hline\n",
       "\t1 & 1 & 2016-08-04 & 13:52:00 & 1016 HALL ST, OWENSBORO, KY, 42301 & $\\dots$ \\\\\n",
       "\t2 & 2 & 2016-04-03 & 01:48:00 & W PARRISH AVE/BYPASS, OWENSBORO, KY, 42301 & $\\dots$ \\\\\n",
       "\t3 & 3 & 2015-09-13 & 04:57:00 & 2511 HWY 144 ST, OWENSBORO, KY, 42303 & $\\dots$ \\\\\n",
       "\t4 & 4 & 2016-01-05 & 13:16:00 & CARTER RD \\& BITTEL RD, OWENSBORO, KY, 42301 & $\\dots$ \\\\\n",
       "\t5 & 5 & 2016-04-06 & 02:15:00 & FREDERICA ST \\& FAIRFAX DR, OWENSBORO, KY, 42301 & $\\dots$ \\\\\n",
       "\t6 & 6 & 2015-11-05 & 23:15:00 & FREDERICA ST AND WASHINGTON AVE, OWENSBORO, KY, 42303 & $\\dots$ \\\\\n",
       "\t7 & 7 & 2016-02-14 & 02:40:00 & 1301 FREDERICA ST, OWENSBORO, KY, 42301 & $\\dots$ \\\\\n",
       "\t8 & 8 & 2016-02-09 & 16:59:00 & 1300 MCFARLAND AVE, OWENSBORO, KY, 42301 & $\\dots$ \\\\\n",
       "\t9 & 9 & 2016-04-16 & 23:14:00 & 700 CRABTREE AVE, OWENSBORO, KY, 42301 & $\\dots$ \\\\\n",
       "\t10 & 10 & 2016-06-22 & 01:20:00 & 700 CRITTENDEN ST, OLATON, KY, 42361 & $\\dots$ \\\\\n",
       "\t11 & 11 & 2016-06-29 & 19:24:00 & 1201 HUTCH LN, OWENSBORO, KY, 42301 & $\\dots$ \\\\\n",
       "\t12 & 12 & 2015-11-21 & 15:58:00 & 900 BOOTH AVE, OWENSBORO, KY, 42301 & $\\dots$ \\\\\n",
       "\t13 & 13 & 2015-10-25 & 04:20:00 & E BYERS AVE / FRIENDSHIP DRIVE, OWENSBORO, KY, 42303 & $\\dots$ \\\\\n",
       "\t14 & 14 & 2015-12-03 & 17:24:00 & 2805 W PARRISH AVE, OWENSBORO, KY, 42301 & $\\dots$ \\\\\n",
       "\t15 & 15 & 2015-12-12 & 12:46:00 & 2245 RAGU DR, OWENSBORO, KY, 42301 & $\\dots$ \\\\\n",
       "\t16 & 16 & 2015-12-15 & 19:24:00 & W 8TH ST \\& MAPLE ST, OWENSBORO, KY, 42301 & $\\dots$ \\\\\n",
       "\t17 & 17 & 2016-01-30 & 16:24:00 & 1670 STARLITE DR, OWENSBORO, KY, 42303 & $\\dots$ \\\\\n",
       "\t18 & 18 & 2016-01-24 & 01:50:00 & 1700 W 4TH ST, OWENSBORO, KY, 42301 & $\\dots$ \\\\\n",
       "\t19 & 19 & 2016-03-21 & 09:05:00 & E 4TH ST  JR MILLER BLV, OWENSBORO, KY, 42301 & $\\dots$ \\\\\n",
       "\t20 & 20 & 2016-05-05 & 12:53:00 & 1800 W 9TH ST, OWENSBORO, KY, 42301 & $\\dots$ \\\\\n",
       "\t21 & 21 & 2015-11-05 & 13:17:00 & W PARRISH AVE/FREDERICA, PHILPOT, KY, 42366 & $\\dots$ \\\\\n",
       "\t22 & 22 & 2016-04-18 & 09:30:00 & 1400 W 9TH ST, OWENSBORO, KY, 42301 & $\\dots$ \\\\\n",
       "\t23 & 23 & 2015-10-22 & 16:36:00 & 510 JED PL, OWENSBORO, KY, 42301 & $\\dots$ \\\\\n",
       "\t24 & 24 & 2016-06-07 & 18:57:00 & J R MILLER BLVD \\& E 9TH STREET, DALLAS, TX, 75211 & $\\dots$ \\\\\n",
       "\t25 & 25 & 2015-11-20 & 18:07:00 & 1100 LEITCHFIELD RD, OWENSBORO, KY, 42303 & $\\dots$ \\\\\n",
       "\t26 & 26 & 2016-03-25 & 18:13:00 & 1200 E PARRISH AVE, OWENSBORO, KY, 42303 & $\\dots$ \\\\\n",
       "\t27 & 27 & 2015-09-30 & 03:37:00 & E 9TH ST / CRITTENDEN ST, OWENSBORO, KY, 42301 & $\\dots$ \\\\\n",
       "\t28 & 28 & 2015-10-01 & 23:39:00 & 500 W 9TH ST, BEAVER DAM, KY, 42320 & $\\dots$ \\\\\n",
       "\t29 & 29 & 2016-03-03 & 21:30:00 & 1300 W 5TH ST, OWENSBORO, KY, 42303 & $\\dots$ \\\\\n",
       "\t30 & 30 & 2015-10-31 & 01:50:00 & 300 FRAYSER AVE, OWENSBORO, KY, 42301 & $\\dots$ \\\\\n",
       "\t$\\dots$ & $\\dots$ & $\\dots$ & $\\dots$ & $\\dots$ &  \\\\\n",
       "\\end{tabular}\n"
      ],
      "text/plain": [
       "\u001b[1m6921×18 DataFrame\u001b[0m\n",
       "\u001b[1m  Row \u001b[0m│\u001b[1m raw_row_number \u001b[0m\u001b[1m date       \u001b[0m\u001b[1m time     \u001b[0m\u001b[1m location                        \u001b[0m ⋯\n",
       "\u001b[1m      \u001b[0m│\u001b[90m Int64          \u001b[0m\u001b[90m Date       \u001b[0m\u001b[90m Time     \u001b[0m\u001b[90m String                          \u001b[0m ⋯\n",
       "──────┼─────────────────────────────────────────────────────────────────────────\n",
       "    1 │              1  2016-08-04  13:52:00  1016 HALL ST, OWENSBORO, KY, 423 ⋯\n",
       "    2 │              2  2016-04-03  01:48:00  W PARRISH AVE/BYPASS, OWENSBORO,\n",
       "    3 │              3  2015-09-13  04:57:00  2511 HWY 144 ST, OWENSBORO, KY,\n",
       "    4 │              4  2016-01-05  13:16:00  CARTER RD & BITTEL RD, OWENSBORO\n",
       "    5 │              5  2016-04-06  02:15:00  FREDERICA ST & FAIRFAX DR, OWENS ⋯\n",
       "    6 │              6  2015-11-05  23:15:00  FREDERICA ST AND WASHINGTON AVE,\n",
       "    7 │              7  2016-02-14  02:40:00  1301 FREDERICA ST, OWENSBORO, KY\n",
       "    8 │              8  2016-02-09  16:59:00  1300 MCFARLAND AVE, OWENSBORO, K\n",
       "    9 │              9  2016-04-16  23:14:00  700 CRABTREE AVE, OWENSBORO, KY, ⋯\n",
       "   10 │             10  2016-06-22  01:20:00  700 CRITTENDEN ST, OLATON, KY, 4\n",
       "   11 │             11  2016-06-29  19:24:00  1201 HUTCH LN, OWENSBORO, KY, 42\n",
       "  ⋮   │       ⋮             ⋮          ⋮                      ⋮                ⋱\n",
       " 6912 │           6912  2017-08-26  23:37:00  2630 W PARRISH AVE, OWENSBORO, K\n",
       " 6913 │           6913  2017-08-27  00:39:00  W 12TH ST / MORELAND AVE, OWENSB ⋯\n",
       " 6914 │           6914  2017-08-27  02:05:00  W 4TH ST / CASTLEN ST, MORGANTOW\n",
       " 6915 │           6915  2017-08-30  10:50:00  3000 BLOCK BURLEW BLVD, OWENSBOR\n",
       " 6916 │           6916  2017-08-30  10:58:00  3000 BLOCK BURLEW BLVD, PHILPOT,\n",
       " 6917 │           6917  2017-08-30  11:12:00  3000 BLOCK BURLEW BLVD, OWENSBOR ⋯\n",
       " 6918 │           6918  2017-08-30  11:23:00  3000 BLOCK BURLEW BLVD, OWENSBOR\n",
       " 6919 │           6919  2017-08-30  11:44:00  3000 BLOCK BURLEW BLVD, OWENSBOR\n",
       " 6920 │           6920  2017-08-30  12:06:00  3000 BLOCK BURLEW BLVD, OWENSBOR\n",
       " 6921 │           6921  2017-03-01  17:28:00                                   ⋯\n",
       "\u001b[36m                                                15 columns and 6900 rows omitted\u001b[0m"
      ]
     },
     "execution_count": 12,
     "metadata": {},
     "output_type": "execute_result"
    }
   ],
   "source": [
    "owensboro = @chain archive begin\n",
    "                only(_.files)\n",
    "                read\n",
    "                CSV.read(DataFrame; missingstring=\"NA\")\n",
    "            end"
   ]
  },
  {
   "cell_type": "code",
   "execution_count": 13,
   "id": "3c6d9b6e",
   "metadata": {},
   "outputs": [],
   "source": [
    "close(archive)"
   ]
  },
  {
   "cell_type": "code",
   "execution_count": 14,
   "id": "98ebaaf6",
   "metadata": {},
   "outputs": [
    {
     "data": {
      "text/plain": [
       "\"6921×18 DataFrame\""
      ]
     },
     "execution_count": 14,
     "metadata": {},
     "output_type": "execute_result"
    }
   ],
   "source": [
    "summary(owensboro)"
   ]
  },
  {
   "cell_type": "code",
   "execution_count": 15,
   "id": "c079a94e",
   "metadata": {},
   "outputs": [
    {
     "data": {
      "text/html": [
       "<div class=\"data-frame\"><p>18 rows × 4 columns</p><table class=\"data-frame\"><thead><tr><th></th><th>variable</th><th>nunique</th><th>nmissing</th><th>eltype</th></tr><tr><th></th><th title=\"Symbol\">Symbol</th><th title=\"Union{Nothing, Int64}\">Union…</th><th title=\"Int64\">Int64</th><th title=\"Type\">Type</th></tr></thead><tbody><tr><th>1</th><td>raw_row_number</td><td></td><td>0</td><td>Int64</td></tr><tr><th>2</th><td>date</td><td>726</td><td>0</td><td>Date</td></tr><tr><th>3</th><td>time</td><td>1352</td><td>0</td><td>Time</td></tr><tr><th>4</th><td>location</td><td>4481</td><td>0</td><td>String</td></tr><tr><th>5</th><td>lat</td><td></td><td>0</td><td>Float64</td></tr><tr><th>6</th><td>lng</td><td></td><td>9</td><td>Union{Missing, Float64}</td></tr><tr><th>7</th><td>sector</td><td>10</td><td>10</td><td>Union{Missing, String15}</td></tr><tr><th>8</th><td>subject_age</td><td></td><td>3</td><td>Union{Missing, Int64}</td></tr><tr><th>9</th><td>subject_race</td><td>4</td><td>18</td><td>Union{Missing, String31}</td></tr><tr><th>10</th><td>subject_sex</td><td>2</td><td>0</td><td>String7</td></tr><tr><th>11</th><td>officer_id_hash</td><td>87</td><td>0</td><td>String15</td></tr><tr><th>12</th><td>type</td><td>2</td><td>42</td><td>Union{Missing, String15}</td></tr><tr><th>13</th><td>violation</td><td>1979</td><td>0</td><td>String</td></tr><tr><th>14</th><td>arrest_made</td><td></td><td>0</td><td>Bool</td></tr><tr><th>15</th><td>citation_issued</td><td></td><td>0</td><td>Bool</td></tr><tr><th>16</th><td>outcome</td><td>2</td><td>0</td><td>String15</td></tr><tr><th>17</th><td>vehicle_registration_state</td><td>35</td><td>55</td><td>Union{Missing, String3}</td></tr><tr><th>18</th><td>raw_race</td><td>4</td><td>18</td><td>Union{Missing, String31}</td></tr></tbody></table></div>"
      ],
      "text/latex": [
       "\\begin{tabular}{r|cccc}\n",
       "\t& variable & nunique & nmissing & eltype\\\\\n",
       "\t\\hline\n",
       "\t& Symbol & Union… & Int64 & Type\\\\\n",
       "\t\\hline\n",
       "\t1 & raw\\_row\\_number &  & 0 & Int64 \\\\\n",
       "\t2 & date & 726 & 0 & Date \\\\\n",
       "\t3 & time & 1352 & 0 & Time \\\\\n",
       "\t4 & location & 4481 & 0 & String \\\\\n",
       "\t5 & lat &  & 0 & Float64 \\\\\n",
       "\t6 & lng &  & 9 & Union\\{Missing, Float64\\} \\\\\n",
       "\t7 & sector & 10 & 10 & Union\\{Missing, String15\\} \\\\\n",
       "\t8 & subject\\_age &  & 3 & Union\\{Missing, Int64\\} \\\\\n",
       "\t9 & subject\\_race & 4 & 18 & Union\\{Missing, String31\\} \\\\\n",
       "\t10 & subject\\_sex & 2 & 0 & String7 \\\\\n",
       "\t11 & officer\\_id\\_hash & 87 & 0 & String15 \\\\\n",
       "\t12 & type & 2 & 42 & Union\\{Missing, String15\\} \\\\\n",
       "\t13 & violation & 1979 & 0 & String \\\\\n",
       "\t14 & arrest\\_made &  & 0 & Bool \\\\\n",
       "\t15 & citation\\_issued &  & 0 & Bool \\\\\n",
       "\t16 & outcome & 2 & 0 & String15 \\\\\n",
       "\t17 & vehicle\\_registration\\_state & 35 & 55 & Union\\{Missing, String3\\} \\\\\n",
       "\t18 & raw\\_race & 4 & 18 & Union\\{Missing, String31\\} \\\\\n",
       "\\end{tabular}\n"
      ],
      "text/plain": [
       "\u001b[1m18×4 DataFrame\u001b[0m\n",
       "\u001b[1m Row \u001b[0m│\u001b[1m variable                   \u001b[0m\u001b[1m nunique \u001b[0m\u001b[1m nmissing \u001b[0m\u001b[1m eltype                  \u001b[0m ⋯\n",
       "\u001b[1m     \u001b[0m│\u001b[90m Symbol                     \u001b[0m\u001b[90m Union…  \u001b[0m\u001b[90m Int64    \u001b[0m\u001b[90m Type                    \u001b[0m ⋯\n",
       "─────┼──────────────────────────────────────────────────────────────────────────\n",
       "   1 │ raw_row_number             \u001b[90m         \u001b[0m        0  Int64                    ⋯\n",
       "   2 │ date                        726             0  Date\n",
       "   3 │ time                        1352            0  Time\n",
       "   4 │ location                    4481            0  String\n",
       "   5 │ lat                        \u001b[90m         \u001b[0m        0  Float64                  ⋯\n",
       "   6 │ lng                        \u001b[90m         \u001b[0m        9  Union{Missing, Float64}\n",
       "   7 │ sector                      10             10  Union{Missing, String15}\n",
       "   8 │ subject_age                \u001b[90m         \u001b[0m        3  Union{Missing, Int64}\n",
       "   9 │ subject_race                4              18  Union{Missing, String31} ⋯\n",
       "  10 │ subject_sex                 2               0  String7\n",
       "  11 │ officer_id_hash             87              0  String15\n",
       "  12 │ type                        2              42  Union{Missing, String15}\n",
       "  13 │ violation                   1979            0  String                   ⋯\n",
       "  14 │ arrest_made                \u001b[90m         \u001b[0m        0  Bool\n",
       "  15 │ citation_issued            \u001b[90m         \u001b[0m        0  Bool\n",
       "  16 │ outcome                     2               0  String15\n",
       "  17 │ vehicle_registration_state  35             55  Union{Missing, String3}  ⋯\n",
       "  18 │ raw_race                    4              18  Union{Missing, String31}"
      ]
     },
     "execution_count": 15,
     "metadata": {},
     "output_type": "execute_result"
    }
   ],
   "source": [
    "describe(owensboro, :nunique, :nmissing, :eltype)"
   ]
  },
  {
   "cell_type": "code",
   "execution_count": 16,
   "id": "36cd04ee",
   "metadata": {},
   "outputs": [
    {
     "data": {
      "text/html": [
       "<div class=\"data-frame\"><p>6,921 rows × 4 columns</p><table class=\"data-frame\"><thead><tr><th></th><th>date</th><th>type</th><th>arrest_made</th><th>violation</th></tr><tr><th></th><th title=\"Date\">Date</th><th title=\"Union{Missing, String15}\">String15?</th><th title=\"Bool\">Bool</th><th title=\"String\">String</th></tr></thead><tbody><tr><th>1</th><td>2016-08-04</td><td>pedestrian</td><td>1</td><td>POSS CONT SUB 1ST DEG, 1ST OFF (METHAMPHETAMINE); DRUG PARAPHERLIA - BUY/POSSESS</td></tr><tr><th>2</th><td>2016-04-03</td><td>vehicular</td><td>0</td><td>FAILURE TO ILLUMITE HEAD LAMPS; NO OPERATORS-MOPED LICENSE; NO REGISTRATION PLATES</td></tr><tr><th>3</th><td>2015-09-13</td><td>vehicular</td><td>1</td><td>NO TAIL LAMPS; OPER MTR VEHICLE U/INFLUENCE ALC/DRUGS/ETC. .08 - 1ST OFF; POSS CONT SUB 1ST DEG, 1ST OFF (METHAMPHETAMINE); FAILURE OF OWNER TO MAINTAIN REQUIRED INS/SEC, 1ST OFF; VIOLATION UNKNOWN</td></tr><tr><th>4</th><td>2016-01-05</td><td>vehicular</td><td>1</td><td>OPER MTR VEH U/INFLU ALC/DRUGS/ETC. .08 (AGG CIRCUM), 2ND; DRIVING DUI SUSPENDED LICENSE - 1ST OFF (AGG CIRCUM)</td></tr><tr><th>5</th><td>2016-04-06</td><td>vehicular</td><td>0</td><td>OPERATING ON SUS OR REV OPER LICENSE</td></tr><tr><th>6</th><td>2015-11-05</td><td>vehicular</td><td>0</td><td>FAILURE TO WEAR SEAT BELTS</td></tr><tr><th>7</th><td>2016-02-14</td><td>vehicular</td><td>1</td><td>OPER MTR VEHICLE U/INFLUENCE ALC/DRUGS/ETC. .08 - 1ST OFF</td></tr><tr><th>8</th><td>2016-02-09</td><td>vehicular</td><td>0</td><td>DISREGARDING TRAFFIC CONT DEV-TRAFFIC LIGHT; LICENSE TO BE IN POSSESSION</td></tr><tr><th>9</th><td>2016-04-16</td><td>vehicular</td><td>1</td><td>OPER MTR VEH U/INFLU ALC/DRUGS/ETC. .08 (AGG CIRCUM), 2ND; DRIVING ON DUI SUSPENDED LICENSE -1ST OFFENSE; POSS OF OPEN ALC BEVERAGE CONT IN MOTOR VEH PROHIBITED; FAILURE OF OWNER TO MAINTAIN REQUIRED INS/SEC, 1ST OFF; FAILURE TO WEAR SEAT BELTS</td></tr><tr><th>10</th><td>2016-06-22</td><td>vehicular</td><td>1</td><td>OPER MTR VEHICLE U/INFLUENCE ALC/DRUGS/ETC. .08 - 1ST OFF; OPERATING VEHICLE WITH EXPIRED OPERATORS LICENSE; DRUG PARAPHERLIA - BUY/POSSESS</td></tr><tr><th>11</th><td>2016-06-29</td><td>vehicular</td><td>1</td><td>OPER MTR VEHICLE U/INFLUENCE ALC/DRUGS/ETC. .08 - 1ST OFF; LEAVING SCENE OF ACCIDENT-FAILURE TO RENDER AID OR ASSISTANCE; NO OPERATORS-MOPED LICENSE</td></tr><tr><th>12</th><td>2015-11-21</td><td>vehicular</td><td>0</td><td>NO REGISTRATION PLATES; FAILURE TO PRODUCE INSURANCE CARD; NO OPERATORS-MOPED LICENSE</td></tr><tr><th>13</th><td>2015-10-25</td><td>vehicular</td><td>1</td><td>OPER MTR VEHICLE U/INFLUENCE ALC/DRUGS/ETC. .08 - 1ST OFF</td></tr><tr><th>14</th><td>2015-12-03</td><td>vehicular</td><td>1</td><td>OPER MTR VEHICLE U/INFLUENCE ALC/DRUGS/ETC. .08 - 2ND OFF; OPERATING ON SUS OR REV OPER LICENSE; POSS OF OPEN ALC BEVERAGE CONT IN MOTOR VEH PROHIBITED</td></tr><tr><th>15</th><td>2015-12-12</td><td>vehicular</td><td>1</td><td>OPER MTR VEHICLE U/INFLUENCE ALC/DRUGS/ETC. .08 - 2ND OFF; OPERATING ON SUS OR REV OPER LICENSE</td></tr><tr><th>16</th><td>2015-12-15</td><td>pedestrian</td><td>1</td><td>POSS CONT SUB 1ST DEG 1ST OFF (COCAINE); DRUG PARAPHERLIA - BUY/POSSESS</td></tr><tr><th>17</th><td>2016-01-30</td><td>pedestrian</td><td>1</td><td>TRAFF IN CONT SUB, 1ST DEGREE, 1ST OFF - (&gt; OR = 2 GMS METHAMPHETAMINE); TRAF IN MARIJUA ( LESS THAN 8 OZ.) 1ST OFF</td></tr><tr><th>18</th><td>2016-01-24</td><td>vehicular</td><td>1</td><td>OPER MTR VEHICLE U/INFLU ALC/DRUGS/ETC. .08 (AGG CIRCUM) 1ST OFF; OPERATING ON SUS OR REV OPER LICENSE</td></tr><tr><th>19</th><td>2016-03-21</td><td>vehicular</td><td>1</td><td>OPER MTR VEHICLE U/INFLUENCE ALC/DRUGS/ETC. .08 - 1ST OFF; OPERATING ON SUS OR REV OPER LICENSE</td></tr><tr><th>20</th><td>2016-05-05</td><td>vehicular</td><td>0</td><td>NO REGISTRATION PLATES; OPERATING ON SUS OR REV OPER LICENSE</td></tr><tr><th>21</th><td>2015-11-05</td><td>vehicular</td><td>1</td><td>FAILURE TO WEAR SEAT BELTS; DRIVING DUI SUSPENDED LICENSE - 2ND OFFENSE</td></tr><tr><th>22</th><td>2016-04-18</td><td>pedestrian</td><td>1</td><td>POSS CONT SUB 1ST DEG 1ST OFF (OPIATES); POSS CONT SUB, 3RD DEGREE - DRUG UNSPECIFIED; FAILURE TO WEAR SEAT BELTS</td></tr><tr><th>23</th><td>2015-10-22</td><td>pedestrian</td><td>1</td><td>TRAF IN MARIJUA ( &gt; 5 LBS.) 1ST OFF; DRUG PARAPHERLIA - BUY/POSSESS</td></tr><tr><th>24</th><td>2016-06-07</td><td>pedestrian</td><td>1</td><td>TRAFF IN CONT SUB, 1ST DEGREE, 1ST OFF - (&lt; 2 GMS HEROIN); TRAFF IN CONT SUB, 3RD DEGREE, 1ST OFF - (&lt; 20 D.U. DRUG UNSPECIFIED); RECKLESS DRIVING; NO OPERATORS-MOPED LICENSE</td></tr><tr><th>25</th><td>2015-11-20</td><td>vehicular</td><td>1</td><td>FAILURE OF OWNER TO MAINTAIN REQUIRED INS/SEC, 1ST OFF; NO REGISTRATION PLATES; TRAF IN MARIJUA ( LESS THAN 8 OZ.) 1ST OFF</td></tr><tr><th>26</th><td>2016-03-25</td><td>vehicular</td><td>1</td><td>OPER MTR VEHICLE U/INFLUENCE ALC/DRUGS/ETC. .08 - 2ND OFF</td></tr><tr><th>27</th><td>2015-09-30</td><td>vehicular</td><td>0</td><td>OPERATING ON SUS OR REV OPER LICENSE</td></tr><tr><th>28</th><td>2015-10-01</td><td>vehicular</td><td>0</td><td>NO REGISTRATION PLATES</td></tr><tr><th>29</th><td>2016-03-03</td><td>vehicular</td><td>1</td><td>SPEEDING 12 MPH OVER LIMIT; DRIVING ON DUI SUSPENDED LICENSE -1ST OFFENSE; OPER MTR VEH U/INFLU ALC/DRUGS/ETC. .08 (AGG CIRCUM), 2ND; ENDANGERING THE WELFARE OF A MINOR; CARRYING A CONCEALED WEAPON; POSS OF OPEN ALC BEVERAGE CONT IN MOTOR VEH PROHIBITED</td></tr><tr><th>30</th><td>2015-10-31</td><td>vehicular</td><td>1</td><td>OPER MTR VEHICLE U/INFLU ALC/DRUGS/ETC. .08 (AGG CIRCUM) 1ST OFF</td></tr><tr><th>&vellip;</th><td>&vellip;</td><td>&vellip;</td><td>&vellip;</td><td>&vellip;</td></tr></tbody></table></div>"
      ],
      "text/latex": [
       "\\begin{tabular}{r|cccc}\n",
       "\t& date & type & arrest\\_made & violation\\\\\n",
       "\t\\hline\n",
       "\t& Date & String15? & Bool & String\\\\\n",
       "\t\\hline\n",
       "\t1 & 2016-08-04 & pedestrian & 1 & POSS CONT SUB 1ST DEG, 1ST OFF (METHAMPHETAMINE); DRUG PARAPHERLIA - BUY/POSSESS \\\\\n",
       "\t2 & 2016-04-03 & vehicular & 0 & FAILURE TO ILLUMITE HEAD LAMPS; NO OPERATORS-MOPED LICENSE; NO REGISTRATION PLATES \\\\\n",
       "\t3 & 2015-09-13 & vehicular & 1 & NO TAIL LAMPS; OPER MTR VEHICLE U/INFLUENCE ALC/DRUGS/ETC. .08 - 1ST OFF; POSS CONT SUB 1ST DEG, 1ST OFF (METHAMPHETAMINE); FAILURE OF OWNER TO MAINTAIN REQUIRED INS/SEC, 1ST OFF; VIOLATION UNKNOWN \\\\\n",
       "\t4 & 2016-01-05 & vehicular & 1 & OPER MTR VEH U/INFLU ALC/DRUGS/ETC. .08 (AGG CIRCUM), 2ND; DRIVING DUI SUSPENDED LICENSE - 1ST OFF (AGG CIRCUM) \\\\\n",
       "\t5 & 2016-04-06 & vehicular & 0 & OPERATING ON SUS OR REV OPER LICENSE \\\\\n",
       "\t6 & 2015-11-05 & vehicular & 0 & FAILURE TO WEAR SEAT BELTS \\\\\n",
       "\t7 & 2016-02-14 & vehicular & 1 & OPER MTR VEHICLE U/INFLUENCE ALC/DRUGS/ETC. .08 - 1ST OFF \\\\\n",
       "\t8 & 2016-02-09 & vehicular & 0 & DISREGARDING TRAFFIC CONT DEV-TRAFFIC LIGHT; LICENSE TO BE IN POSSESSION \\\\\n",
       "\t9 & 2016-04-16 & vehicular & 1 & OPER MTR VEH U/INFLU ALC/DRUGS/ETC. .08 (AGG CIRCUM), 2ND; DRIVING ON DUI SUSPENDED LICENSE -1ST OFFENSE; POSS OF OPEN ALC BEVERAGE CONT IN MOTOR VEH PROHIBITED; FAILURE OF OWNER TO MAINTAIN REQUIRED INS/SEC, 1ST OFF; FAILURE TO WEAR SEAT BELTS \\\\\n",
       "\t10 & 2016-06-22 & vehicular & 1 & OPER MTR VEHICLE U/INFLUENCE ALC/DRUGS/ETC. .08 - 1ST OFF; OPERATING VEHICLE WITH EXPIRED OPERATORS LICENSE; DRUG PARAPHERLIA - BUY/POSSESS \\\\\n",
       "\t11 & 2016-06-29 & vehicular & 1 & OPER MTR VEHICLE U/INFLUENCE ALC/DRUGS/ETC. .08 - 1ST OFF; LEAVING SCENE OF ACCIDENT-FAILURE TO RENDER AID OR ASSISTANCE; NO OPERATORS-MOPED LICENSE \\\\\n",
       "\t12 & 2015-11-21 & vehicular & 0 & NO REGISTRATION PLATES; FAILURE TO PRODUCE INSURANCE CARD; NO OPERATORS-MOPED LICENSE \\\\\n",
       "\t13 & 2015-10-25 & vehicular & 1 & OPER MTR VEHICLE U/INFLUENCE ALC/DRUGS/ETC. .08 - 1ST OFF \\\\\n",
       "\t14 & 2015-12-03 & vehicular & 1 & OPER MTR VEHICLE U/INFLUENCE ALC/DRUGS/ETC. .08 - 2ND OFF; OPERATING ON SUS OR REV OPER LICENSE; POSS OF OPEN ALC BEVERAGE CONT IN MOTOR VEH PROHIBITED \\\\\n",
       "\t15 & 2015-12-12 & vehicular & 1 & OPER MTR VEHICLE U/INFLUENCE ALC/DRUGS/ETC. .08 - 2ND OFF; OPERATING ON SUS OR REV OPER LICENSE \\\\\n",
       "\t16 & 2015-12-15 & pedestrian & 1 & POSS CONT SUB 1ST DEG 1ST OFF (COCAINE); DRUG PARAPHERLIA - BUY/POSSESS \\\\\n",
       "\t17 & 2016-01-30 & pedestrian & 1 & TRAFF IN CONT SUB, 1ST DEGREE, 1ST OFF - (> OR = 2 GMS METHAMPHETAMINE); TRAF IN MARIJUA ( LESS THAN 8 OZ.) 1ST OFF \\\\\n",
       "\t18 & 2016-01-24 & vehicular & 1 & OPER MTR VEHICLE U/INFLU ALC/DRUGS/ETC. .08 (AGG CIRCUM) 1ST OFF; OPERATING ON SUS OR REV OPER LICENSE \\\\\n",
       "\t19 & 2016-03-21 & vehicular & 1 & OPER MTR VEHICLE U/INFLUENCE ALC/DRUGS/ETC. .08 - 1ST OFF; OPERATING ON SUS OR REV OPER LICENSE \\\\\n",
       "\t20 & 2016-05-05 & vehicular & 0 & NO REGISTRATION PLATES; OPERATING ON SUS OR REV OPER LICENSE \\\\\n",
       "\t21 & 2015-11-05 & vehicular & 1 & FAILURE TO WEAR SEAT BELTS; DRIVING DUI SUSPENDED LICENSE - 2ND OFFENSE \\\\\n",
       "\t22 & 2016-04-18 & pedestrian & 1 & POSS CONT SUB 1ST DEG 1ST OFF (OPIATES); POSS CONT SUB, 3RD DEGREE - DRUG UNSPECIFIED; FAILURE TO WEAR SEAT BELTS \\\\\n",
       "\t23 & 2015-10-22 & pedestrian & 1 & TRAF IN MARIJUA ( > 5 LBS.) 1ST OFF; DRUG PARAPHERLIA - BUY/POSSESS \\\\\n",
       "\t24 & 2016-06-07 & pedestrian & 1 & TRAFF IN CONT SUB, 1ST DEGREE, 1ST OFF - (< 2 GMS HEROIN); TRAFF IN CONT SUB, 3RD DEGREE, 1ST OFF - (< 20 D.U. DRUG UNSPECIFIED); RECKLESS DRIVING; NO OPERATORS-MOPED LICENSE \\\\\n",
       "\t25 & 2015-11-20 & vehicular & 1 & FAILURE OF OWNER TO MAINTAIN REQUIRED INS/SEC, 1ST OFF; NO REGISTRATION PLATES; TRAF IN MARIJUA ( LESS THAN 8 OZ.) 1ST OFF \\\\\n",
       "\t26 & 2016-03-25 & vehicular & 1 & OPER MTR VEHICLE U/INFLUENCE ALC/DRUGS/ETC. .08 - 2ND OFF \\\\\n",
       "\t27 & 2015-09-30 & vehicular & 0 & OPERATING ON SUS OR REV OPER LICENSE \\\\\n",
       "\t28 & 2015-10-01 & vehicular & 0 & NO REGISTRATION PLATES \\\\\n",
       "\t29 & 2016-03-03 & vehicular & 1 & SPEEDING 12 MPH OVER LIMIT; DRIVING ON DUI SUSPENDED LICENSE -1ST OFFENSE; OPER MTR VEH U/INFLU ALC/DRUGS/ETC. .08 (AGG CIRCUM), 2ND; ENDANGERING THE WELFARE OF A MINOR; CARRYING A CONCEALED WEAPON; POSS OF OPEN ALC BEVERAGE CONT IN MOTOR VEH PROHIBITED \\\\\n",
       "\t30 & 2015-10-31 & vehicular & 1 & OPER MTR VEHICLE U/INFLU ALC/DRUGS/ETC. .08 (AGG CIRCUM) 1ST OFF \\\\\n",
       "\t$\\dots$ & $\\dots$ & $\\dots$ & $\\dots$ & $\\dots$ \\\\\n",
       "\\end{tabular}\n"
      ],
      "text/plain": [
       "\u001b[1m6921×4 DataFrame\u001b[0m\n",
       "\u001b[1m  Row \u001b[0m│\u001b[1m date       \u001b[0m\u001b[1m type       \u001b[0m\u001b[1m arrest_made \u001b[0m\u001b[1m violation                        \u001b[0m ⋯\n",
       "\u001b[1m      \u001b[0m│\u001b[90m Date       \u001b[0m\u001b[90m String15?  \u001b[0m\u001b[90m Bool        \u001b[0m\u001b[90m String                           \u001b[0m ⋯\n",
       "──────┼─────────────────────────────────────────────────────────────────────────\n",
       "    1 │ 2016-08-04  pedestrian         true  POSS CONT SUB 1ST DEG, 1ST OFF (… ⋯\n",
       "    2 │ 2016-04-03  vehicular         false  FAILURE TO ILLUMITE HEAD LAMPS; …\n",
       "    3 │ 2015-09-13  vehicular          true  NO TAIL LAMPS; OPER MTR VEHICLE …\n",
       "    4 │ 2016-01-05  vehicular          true  OPER MTR VEH U/INFLU ALC/DRUGS/E…\n",
       "    5 │ 2016-04-06  vehicular         false  OPERATING ON SUS OR REV OPER LIC… ⋯\n",
       "    6 │ 2015-11-05  vehicular         false  FAILURE TO WEAR SEAT BELTS\n",
       "    7 │ 2016-02-14  vehicular          true  OPER MTR VEHICLE U/INFLUENCE ALC…\n",
       "    8 │ 2016-02-09  vehicular         false  DISREGARDING TRAFFIC CONT DEV-TR…\n",
       "    9 │ 2016-04-16  vehicular          true  OPER MTR VEH U/INFLU ALC/DRUGS/E… ⋯\n",
       "   10 │ 2016-06-22  vehicular          true  OPER MTR VEHICLE U/INFLUENCE ALC…\n",
       "   11 │ 2016-06-29  vehicular          true  OPER MTR VEHICLE U/INFLUENCE ALC…\n",
       "  ⋮   │     ⋮           ⋮            ⋮                       ⋮                 ⋱\n",
       " 6912 │ 2017-08-26  vehicular         false  NO TAIL LAMPS; FAILURE TO PRODUC…\n",
       " 6913 │ 2017-08-27  vehicular         false  ONE HEADLIGHT; FAILURE TO PRODUC… ⋯\n",
       " 6914 │ 2017-08-27  vehicular          true  ONE HEADLIGHT; NO REGISTRATION R…\n",
       " 6915 │ 2017-08-30  vehicular         false  SPEEDING 10 MPH OVER LIMIT\n",
       " 6916 │ 2017-08-30  vehicular         false  SPEEDING 08 MPH OVER LIMIT; FAIL…\n",
       " 6917 │ 2017-08-30  vehicular         false  SPEEDING 10 MPH OVER LIMIT; FAIL… ⋯\n",
       " 6918 │ 2017-08-30  vehicular         false  SPEEDING 11 MPH OVER LIMIT; NO R…\n",
       " 6919 │ 2017-08-30  vehicular         false  SPEEDING 17 MPH OVER LIMIT; FAIL…\n",
       " 6920 │ 2017-08-30  vehicular         false  SPEEDING 13 MPH OVER LIMIT\n",
       " 6921 │ 2017-03-01  vehicular         false  FAILURE OF NON-OWNER OPERATOR TO… ⋯\n",
       "\u001b[36m                                                              6900 rows omitted\u001b[0m"
      ]
     },
     "execution_count": 16,
     "metadata": {},
     "output_type": "execute_result"
    }
   ],
   "source": [
    "select!(owensboro, :date, :type, :arrest_made, :violation)"
   ]
  },
  {
   "cell_type": "code",
   "execution_count": 17,
   "id": "938dda90",
   "metadata": {},
   "outputs": [
    {
     "data": {
      "text/plain": [
       "\"6921×4 DataFrame\""
      ]
     },
     "execution_count": 17,
     "metadata": {},
     "output_type": "execute_result"
    }
   ],
   "source": [
    "summary(owensboro)"
   ]
  },
  {
   "cell_type": "code",
   "execution_count": 18,
   "id": "1da6351b",
   "metadata": {},
   "outputs": [
    {
     "data": {
      "text/html": [
       "<div class=\"data-frame\"><p>4 rows × 4 columns</p><table class=\"data-frame\"><thead><tr><th></th><th>variable</th><th>nunique</th><th>nmissing</th><th>eltype</th></tr><tr><th></th><th title=\"Symbol\">Symbol</th><th title=\"Union{Nothing, Int64}\">Union…</th><th title=\"Int64\">Int64</th><th title=\"Type\">Type</th></tr></thead><tbody><tr><th>1</th><td>date</td><td>726</td><td>0</td><td>Date</td></tr><tr><th>2</th><td>type</td><td>2</td><td>42</td><td>Union{Missing, String15}</td></tr><tr><th>3</th><td>arrest_made</td><td></td><td>0</td><td>Bool</td></tr><tr><th>4</th><td>violation</td><td>1979</td><td>0</td><td>String</td></tr></tbody></table></div>"
      ],
      "text/latex": [
       "\\begin{tabular}{r|cccc}\n",
       "\t& variable & nunique & nmissing & eltype\\\\\n",
       "\t\\hline\n",
       "\t& Symbol & Union… & Int64 & Type\\\\\n",
       "\t\\hline\n",
       "\t1 & date & 726 & 0 & Date \\\\\n",
       "\t2 & type & 2 & 42 & Union\\{Missing, String15\\} \\\\\n",
       "\t3 & arrest\\_made &  & 0 & Bool \\\\\n",
       "\t4 & violation & 1979 & 0 & String \\\\\n",
       "\\end{tabular}\n"
      ],
      "text/plain": [
       "\u001b[1m4×4 DataFrame\u001b[0m\n",
       "\u001b[1m Row \u001b[0m│\u001b[1m variable    \u001b[0m\u001b[1m nunique \u001b[0m\u001b[1m nmissing \u001b[0m\u001b[1m eltype                   \u001b[0m\n",
       "\u001b[1m     \u001b[0m│\u001b[90m Symbol      \u001b[0m\u001b[90m Union…  \u001b[0m\u001b[90m Int64    \u001b[0m\u001b[90m Type                     \u001b[0m\n",
       "─────┼──────────────────────────────────────────────────────────\n",
       "   1 │ date         726             0  Date\n",
       "   2 │ type         2              42  Union{Missing, String15}\n",
       "   3 │ arrest_made \u001b[90m         \u001b[0m        0  Bool\n",
       "   4 │ violation    1979            0  String"
      ]
     },
     "execution_count": 18,
     "metadata": {},
     "output_type": "execute_result"
    }
   ],
   "source": [
    "describe(owensboro, :nunique, :nmissing, :eltype)"
   ]
  },
  {
   "cell_type": "markdown",
   "id": "4431a8dc",
   "metadata": {},
   "source": [
    "### Comparison of functions that perform operations on columns"
   ]
  },
  {
   "cell_type": "code",
   "execution_count": 19,
   "id": "140085d9",
   "metadata": {},
   "outputs": [
    {
     "data": {
      "text/html": [
       "<div class=\"data-frame\"><p>4 rows × 2 columns</p><table class=\"data-frame\"><thead><tr><th></th><th>id</th><th>v</th></tr><tr><th></th><th title=\"Int64\">Int64</th><th title=\"Int64\">Int64</th></tr></thead><tbody><tr><th>1</th><td>1</td><td>1</td></tr><tr><th>2</th><td>2</td><td>2</td></tr><tr><th>3</th><td>1</td><td>3</td></tr><tr><th>4</th><td>2</td><td>4</td></tr></tbody></table></div>"
      ],
      "text/latex": [
       "\\begin{tabular}{r|cc}\n",
       "\t& id & v\\\\\n",
       "\t\\hline\n",
       "\t& Int64 & Int64\\\\\n",
       "\t\\hline\n",
       "\t1 & 1 & 1 \\\\\n",
       "\t2 & 2 & 2 \\\\\n",
       "\t3 & 1 & 3 \\\\\n",
       "\t4 & 2 & 4 \\\\\n",
       "\\end{tabular}\n"
      ],
      "text/plain": [
       "\u001b[1m4×2 DataFrame\u001b[0m\n",
       "\u001b[1m Row \u001b[0m│\u001b[1m id    \u001b[0m\u001b[1m v     \u001b[0m\n",
       "\u001b[1m     \u001b[0m│\u001b[90m Int64 \u001b[0m\u001b[90m Int64 \u001b[0m\n",
       "─────┼──────────────\n",
       "   1 │     1      1\n",
       "   2 │     2      2\n",
       "   3 │     1      3\n",
       "   4 │     2      4"
      ]
     },
     "execution_count": 19,
     "metadata": {},
     "output_type": "execute_result"
    }
   ],
   "source": [
    "df = DataFrame(id=[1, 2, 1, 2], v=1:4)"
   ]
  },
  {
   "cell_type": "code",
   "execution_count": 20,
   "id": "eafcb151",
   "metadata": {},
   "outputs": [
    {
     "data": {
      "text/html": [
       "<div class=\"data-frame\"><p>1 rows × 1 columns</p><table class=\"data-frame\"><thead><tr><th></th><th>sum</th></tr><tr><th></th><th title=\"Int64\">Int64</th></tr></thead><tbody><tr><th>1</th><td>10</td></tr></tbody></table></div>"
      ],
      "text/latex": [
       "\\begin{tabular}{r|c}\n",
       "\t& sum\\\\\n",
       "\t\\hline\n",
       "\t& Int64\\\\\n",
       "\t\\hline\n",
       "\t1 & 10 \\\\\n",
       "\\end{tabular}\n"
      ],
      "text/plain": [
       "\u001b[1m1×1 DataFrame\u001b[0m\n",
       "\u001b[1m Row \u001b[0m│\u001b[1m sum   \u001b[0m\n",
       "\u001b[1m     \u001b[0m│\u001b[90m Int64 \u001b[0m\n",
       "─────┼───────\n",
       "   1 │    10"
      ]
     },
     "execution_count": 20,
     "metadata": {},
     "output_type": "execute_result"
    }
   ],
   "source": [
    "combine(df, :v => sum => :sum)"
   ]
  },
  {
   "cell_type": "code",
   "execution_count": 21,
   "id": "4dc519ef",
   "metadata": {},
   "outputs": [
    {
     "data": {
      "text/html": [
       "<div class=\"data-frame\"><p>4 rows × 3 columns</p><table class=\"data-frame\"><thead><tr><th></th><th>id</th><th>v</th><th>sum</th></tr><tr><th></th><th title=\"Int64\">Int64</th><th title=\"Int64\">Int64</th><th title=\"Int64\">Int64</th></tr></thead><tbody><tr><th>1</th><td>1</td><td>1</td><td>10</td></tr><tr><th>2</th><td>2</td><td>2</td><td>10</td></tr><tr><th>3</th><td>1</td><td>3</td><td>10</td></tr><tr><th>4</th><td>2</td><td>4</td><td>10</td></tr></tbody></table></div>"
      ],
      "text/latex": [
       "\\begin{tabular}{r|ccc}\n",
       "\t& id & v & sum\\\\\n",
       "\t\\hline\n",
       "\t& Int64 & Int64 & Int64\\\\\n",
       "\t\\hline\n",
       "\t1 & 1 & 1 & 10 \\\\\n",
       "\t2 & 2 & 2 & 10 \\\\\n",
       "\t3 & 1 & 3 & 10 \\\\\n",
       "\t4 & 2 & 4 & 10 \\\\\n",
       "\\end{tabular}\n"
      ],
      "text/plain": [
       "\u001b[1m4×3 DataFrame\u001b[0m\n",
       "\u001b[1m Row \u001b[0m│\u001b[1m id    \u001b[0m\u001b[1m v     \u001b[0m\u001b[1m sum   \u001b[0m\n",
       "\u001b[1m     \u001b[0m│\u001b[90m Int64 \u001b[0m\u001b[90m Int64 \u001b[0m\u001b[90m Int64 \u001b[0m\n",
       "─────┼─────────────────────\n",
       "   1 │     1      1     10\n",
       "   2 │     2      2     10\n",
       "   3 │     1      3     10\n",
       "   4 │     2      4     10"
      ]
     },
     "execution_count": 21,
     "metadata": {},
     "output_type": "execute_result"
    }
   ],
   "source": [
    "transform(df, :v => sum => :sum)"
   ]
  },
  {
   "cell_type": "code",
   "execution_count": 22,
   "id": "b97de9b5",
   "metadata": {},
   "outputs": [
    {
     "data": {
      "text/html": [
       "<div class=\"data-frame\"><p>4 rows × 1 columns</p><table class=\"data-frame\"><thead><tr><th></th><th>sum</th></tr><tr><th></th><th title=\"Int64\">Int64</th></tr></thead><tbody><tr><th>1</th><td>10</td></tr><tr><th>2</th><td>10</td></tr><tr><th>3</th><td>10</td></tr><tr><th>4</th><td>10</td></tr></tbody></table></div>"
      ],
      "text/latex": [
       "\\begin{tabular}{r|c}\n",
       "\t& sum\\\\\n",
       "\t\\hline\n",
       "\t& Int64\\\\\n",
       "\t\\hline\n",
       "\t1 & 10 \\\\\n",
       "\t2 & 10 \\\\\n",
       "\t3 & 10 \\\\\n",
       "\t4 & 10 \\\\\n",
       "\\end{tabular}\n"
      ],
      "text/plain": [
       "\u001b[1m4×1 DataFrame\u001b[0m\n",
       "\u001b[1m Row \u001b[0m│\u001b[1m sum   \u001b[0m\n",
       "\u001b[1m     \u001b[0m│\u001b[90m Int64 \u001b[0m\n",
       "─────┼───────\n",
       "   1 │    10\n",
       "   2 │    10\n",
       "   3 │    10\n",
       "   4 │    10"
      ]
     },
     "execution_count": 22,
     "metadata": {},
     "output_type": "execute_result"
    }
   ],
   "source": [
    "select(df, :v => sum => :sum)"
   ]
  },
  {
   "cell_type": "code",
   "execution_count": 23,
   "id": "3b8f70d9",
   "metadata": {},
   "outputs": [
    {
     "data": {
      "text/html": [
       "<p><b>GroupedDataFrame with 2 groups based on key: id</b></p><p><i>First Group (2 rows): id = 1</i></p><div class=\"data-frame\"><table class=\"data-frame\"><thead><tr><th></th><th>id</th><th>v</th></tr><tr><th></th><th title=\"Int64\">Int64</th><th title=\"Int64\">Int64</th></tr></thead><tbody><tr><th>1</th><td>1</td><td>1</td></tr><tr><th>2</th><td>1</td><td>3</td></tr></tbody></table></div><p>&vellip;</p><p><i>Last Group (2 rows): id = 2</i></p><div class=\"data-frame\"><table class=\"data-frame\"><thead><tr><th></th><th>id</th><th>v</th></tr><tr><th></th><th title=\"Int64\">Int64</th><th title=\"Int64\">Int64</th></tr></thead><tbody><tr><th>1</th><td>2</td><td>2</td></tr><tr><th>2</th><td>2</td><td>4</td></tr></tbody></table></div>"
      ],
      "text/latex": [
       "GroupedDataFrame with 2 groups based on key: id\n",
       "\n",
       "First Group (2 rows): id = 1\n",
       "\n",
       "\\begin{tabular}{r|cc}\n",
       "\t& id & v\\\\\n",
       "\t\\hline\n",
       "\t& Int64 & Int64\\\\\n",
       "\t\\hline\n",
       "\t1 & 1 & 1 \\\\\n",
       "\t2 & 1 & 3 \\\\\n",
       "\\end{tabular}\n",
       "\n",
       "$\\dots$\n",
       "\n",
       "Last Group (2 rows): id = 2\n",
       "\n",
       "\\begin{tabular}{r|cc}\n",
       "\t& id & v\\\\\n",
       "\t\\hline\n",
       "\t& Int64 & Int64\\\\\n",
       "\t\\hline\n",
       "\t1 & 2 & 2 \\\\\n",
       "\t2 & 2 & 4 \\\\\n",
       "\\end{tabular}\n"
      ],
      "text/plain": [
       "GroupedDataFrame with 2 groups based on key: id\n",
       "First Group (2 rows): id = 1\n",
       "\u001b[1m Row \u001b[0m│\u001b[1m id    \u001b[0m\u001b[1m v     \u001b[0m\n",
       "\u001b[1m     \u001b[0m│\u001b[90m Int64 \u001b[0m\u001b[90m Int64 \u001b[0m\n",
       "─────┼──────────────\n",
       "   1 │     1      1\n",
       "   2 │     1      3\n",
       "⋮\n",
       "Last Group (2 rows): id = 2\n",
       "\u001b[1m Row \u001b[0m│\u001b[1m id    \u001b[0m\u001b[1m v     \u001b[0m\n",
       "\u001b[1m     \u001b[0m│\u001b[90m Int64 \u001b[0m\u001b[90m Int64 \u001b[0m\n",
       "─────┼──────────────\n",
       "   1 │     2      2\n",
       "   2 │     2      4"
      ]
     },
     "execution_count": 23,
     "metadata": {},
     "output_type": "execute_result"
    }
   ],
   "source": [
    "gdf = groupby(df, :id)"
   ]
  },
  {
   "cell_type": "code",
   "execution_count": 24,
   "id": "dcc5eabf",
   "metadata": {},
   "outputs": [
    {
     "data": {
      "text/html": [
       "<div class=\"data-frame\"><p>2 rows × 2 columns</p><table class=\"data-frame\"><thead><tr><th></th><th>id</th><th>sum</th></tr><tr><th></th><th title=\"Int64\">Int64</th><th title=\"Int64\">Int64</th></tr></thead><tbody><tr><th>1</th><td>1</td><td>4</td></tr><tr><th>2</th><td>2</td><td>6</td></tr></tbody></table></div>"
      ],
      "text/latex": [
       "\\begin{tabular}{r|cc}\n",
       "\t& id & sum\\\\\n",
       "\t\\hline\n",
       "\t& Int64 & Int64\\\\\n",
       "\t\\hline\n",
       "\t1 & 1 & 4 \\\\\n",
       "\t2 & 2 & 6 \\\\\n",
       "\\end{tabular}\n"
      ],
      "text/plain": [
       "\u001b[1m2×2 DataFrame\u001b[0m\n",
       "\u001b[1m Row \u001b[0m│\u001b[1m id    \u001b[0m\u001b[1m sum   \u001b[0m\n",
       "\u001b[1m     \u001b[0m│\u001b[90m Int64 \u001b[0m\u001b[90m Int64 \u001b[0m\n",
       "─────┼──────────────\n",
       "   1 │     1      4\n",
       "   2 │     2      6"
      ]
     },
     "execution_count": 24,
     "metadata": {},
     "output_type": "execute_result"
    }
   ],
   "source": [
    "combine(gdf, :v => sum => :sum)"
   ]
  },
  {
   "cell_type": "code",
   "execution_count": 25,
   "id": "a2bed1c5",
   "metadata": {},
   "outputs": [
    {
     "data": {
      "text/html": [
       "<div class=\"data-frame\"><p>4 rows × 3 columns</p><table class=\"data-frame\"><thead><tr><th></th><th>id</th><th>v</th><th>sum</th></tr><tr><th></th><th title=\"Int64\">Int64</th><th title=\"Int64\">Int64</th><th title=\"Int64\">Int64</th></tr></thead><tbody><tr><th>1</th><td>1</td><td>1</td><td>4</td></tr><tr><th>2</th><td>2</td><td>2</td><td>6</td></tr><tr><th>3</th><td>1</td><td>3</td><td>4</td></tr><tr><th>4</th><td>2</td><td>4</td><td>6</td></tr></tbody></table></div>"
      ],
      "text/latex": [
       "\\begin{tabular}{r|ccc}\n",
       "\t& id & v & sum\\\\\n",
       "\t\\hline\n",
       "\t& Int64 & Int64 & Int64\\\\\n",
       "\t\\hline\n",
       "\t1 & 1 & 1 & 4 \\\\\n",
       "\t2 & 2 & 2 & 6 \\\\\n",
       "\t3 & 1 & 3 & 4 \\\\\n",
       "\t4 & 2 & 4 & 6 \\\\\n",
       "\\end{tabular}\n"
      ],
      "text/plain": [
       "\u001b[1m4×3 DataFrame\u001b[0m\n",
       "\u001b[1m Row \u001b[0m│\u001b[1m id    \u001b[0m\u001b[1m v     \u001b[0m\u001b[1m sum   \u001b[0m\n",
       "\u001b[1m     \u001b[0m│\u001b[90m Int64 \u001b[0m\u001b[90m Int64 \u001b[0m\u001b[90m Int64 \u001b[0m\n",
       "─────┼─────────────────────\n",
       "   1 │     1      1      4\n",
       "   2 │     2      2      6\n",
       "   3 │     1      3      4\n",
       "   4 │     2      4      6"
      ]
     },
     "execution_count": 25,
     "metadata": {},
     "output_type": "execute_result"
    }
   ],
   "source": [
    "transform(gdf, :v => sum => :sum)"
   ]
  },
  {
   "cell_type": "code",
   "execution_count": 26,
   "id": "6c96cf6b",
   "metadata": {},
   "outputs": [
    {
     "data": {
      "text/html": [
       "<div class=\"data-frame\"><p>4 rows × 2 columns</p><table class=\"data-frame\"><thead><tr><th></th><th>id</th><th>sum</th></tr><tr><th></th><th title=\"Int64\">Int64</th><th title=\"Int64\">Int64</th></tr></thead><tbody><tr><th>1</th><td>1</td><td>4</td></tr><tr><th>2</th><td>2</td><td>6</td></tr><tr><th>3</th><td>1</td><td>4</td></tr><tr><th>4</th><td>2</td><td>6</td></tr></tbody></table></div>"
      ],
      "text/latex": [
       "\\begin{tabular}{r|cc}\n",
       "\t& id & sum\\\\\n",
       "\t\\hline\n",
       "\t& Int64 & Int64\\\\\n",
       "\t\\hline\n",
       "\t1 & 1 & 4 \\\\\n",
       "\t2 & 2 & 6 \\\\\n",
       "\t3 & 1 & 4 \\\\\n",
       "\t4 & 2 & 6 \\\\\n",
       "\\end{tabular}\n"
      ],
      "text/plain": [
       "\u001b[1m4×2 DataFrame\u001b[0m\n",
       "\u001b[1m Row \u001b[0m│\u001b[1m id    \u001b[0m\u001b[1m sum   \u001b[0m\n",
       "\u001b[1m     \u001b[0m│\u001b[90m Int64 \u001b[0m\u001b[90m Int64 \u001b[0m\n",
       "─────┼──────────────\n",
       "   1 │     1      4\n",
       "   2 │     2      6\n",
       "   3 │     1      4\n",
       "   4 │     2      6"
      ]
     },
     "execution_count": 26,
     "metadata": {},
     "output_type": "execute_result"
    }
   ],
   "source": [
    "select(gdf, :v => sum => :sum)"
   ]
  },
  {
   "cell_type": "markdown",
   "id": "2aed7df1",
   "metadata": {},
   "source": [
    "### Short forms of operation specification syntax"
   ]
  },
  {
   "cell_type": "code",
   "execution_count": 27,
   "id": "572772b3",
   "metadata": {},
   "outputs": [
    {
     "data": {
      "text/html": [
       "<div class=\"data-frame\"><p>4 rows × 4 columns</p><table class=\"data-frame\"><thead><tr><th></th><th>v1</th><th>v_identity</th><th>v2</th><th>v</th></tr><tr><th></th><th title=\"Int64\">Int64</th><th title=\"Int64\">Int64</th><th title=\"Int64\">Int64</th><th title=\"Int64\">Int64</th></tr></thead><tbody><tr><th>1</th><td>1</td><td>1</td><td>1</td><td>1</td></tr><tr><th>2</th><td>2</td><td>2</td><td>2</td><td>2</td></tr><tr><th>3</th><td>3</td><td>3</td><td>3</td><td>3</td></tr><tr><th>4</th><td>4</td><td>4</td><td>4</td><td>4</td></tr></tbody></table></div>"
      ],
      "text/latex": [
       "\\begin{tabular}{r|cccc}\n",
       "\t& v1 & v\\_identity & v2 & v\\\\\n",
       "\t\\hline\n",
       "\t& Int64 & Int64 & Int64 & Int64\\\\\n",
       "\t\\hline\n",
       "\t1 & 1 & 1 & 1 & 1 \\\\\n",
       "\t2 & 2 & 2 & 2 & 2 \\\\\n",
       "\t3 & 3 & 3 & 3 & 3 \\\\\n",
       "\t4 & 4 & 4 & 4 & 4 \\\\\n",
       "\\end{tabular}\n"
      ],
      "text/plain": [
       "\u001b[1m4×4 DataFrame\u001b[0m\n",
       "\u001b[1m Row \u001b[0m│\u001b[1m v1    \u001b[0m\u001b[1m v_identity \u001b[0m\u001b[1m v2    \u001b[0m\u001b[1m v     \u001b[0m\n",
       "\u001b[1m     \u001b[0m│\u001b[90m Int64 \u001b[0m\u001b[90m Int64      \u001b[0m\u001b[90m Int64 \u001b[0m\u001b[90m Int64 \u001b[0m\n",
       "─────┼─────────────────────────────────\n",
       "   1 │     1           1      1      1\n",
       "   2 │     2           2      2      2\n",
       "   3 │     3           3      3      3\n",
       "   4 │     4           4      4      4"
      ]
     },
     "execution_count": 27,
     "metadata": {},
     "output_type": "execute_result"
    }
   ],
   "source": [
    "select(df,\n",
    "       :v => identity => :v1,\n",
    "       :v => identity,\n",
    "       :v => :v2,\n",
    "       :v)"
   ]
  },
  {
   "cell_type": "markdown",
   "id": "154907f6",
   "metadata": {},
   "source": [
    "## Investigating the violation column"
   ]
  },
  {
   "cell_type": "markdown",
   "id": "ebfa761f",
   "metadata": {},
   "source": [
    "### Finding most frequent violations"
   ]
  },
  {
   "cell_type": "code",
   "execution_count": 28,
   "id": "916fdc7b",
   "metadata": {},
   "outputs": [
    {
     "data": {
      "text/plain": [
       "6921-element Vector{String}:\n",
       " \"POSS CONT SUB 1ST DEG, 1ST OFF \" ⋯ 18 bytes ⋯ \" DRUG PARAPHERLIA - BUY/POSSESS\"\n",
       " \"FAILURE TO ILLUMITE HEAD LAMPS;\" ⋯ 20 bytes ⋯ \"LICENSE; NO REGISTRATION PLATES\"\n",
       " \"NO TAIL LAMPS; OPER MTR VEHICLE\" ⋯ 136 bytes ⋯ \"EC, 1ST OFF; VIOLATION UNKNOWN\"\n",
       " \"OPER MTR VEH U/INFLU ALC/DRUGS/\" ⋯ 49 bytes ⋯ \" LICENSE - 1ST OFF (AGG CIRCUM)\"\n",
       " \"OPERATING ON SUS OR REV OPER LICENSE\"\n",
       " \"FAILURE TO WEAR SEAT BELTS\"\n",
       " \"OPER MTR VEHICLE U/INFLUENCE ALC/DRUGS/ETC. .08 - 1ST OFF\"\n",
       " \"DISREGARDING TRAFFIC CONT DEV-TRAFFIC LIGHT; LICENSE TO BE IN POSSESSION\"\n",
       " \"OPER MTR VEH U/INFLU ALC/DRUGS/\" ⋯ 183 bytes ⋯ \"FF; FAILURE TO WEAR SEAT BELTS\"\n",
       " \"OPER MTR VEHICLE U/INFLUENCE AL\" ⋯ 77 bytes ⋯ \" DRUG PARAPHERLIA - BUY/POSSESS\"\n",
       " \"OPER MTR VEHICLE U/INFLUENCE AL\" ⋯ 86 bytes ⋯ \"NCE; NO OPERATORS-MOPED LICENSE\"\n",
       " \"NO REGISTRATION PLATES; FAILURE\" ⋯ 23 bytes ⋯ \"ARD; NO OPERATORS-MOPED LICENSE\"\n",
       " \"OPER MTR VEHICLE U/INFLUENCE ALC/DRUGS/ETC. .08 - 1ST OFF\"\n",
       " ⋮\n",
       " \"NO REGISTRATION PLATES; FAILURE TO PRODUCE INSURANCE CARD\"\n",
       " \"FAILURE TO OR IMPROPER SIGL; FA\" ⋯ 28 bytes ⋯ \"ARD; NO OPERATORS-MOPED LICENSE\"\n",
       " \"NO TAIL LAMPS; FAILURE TO PRODUCE INSURANCE CARD; NO REGISTRATION PLATES\"\n",
       " \"ONE HEADLIGHT; FAILURE TO PRODU\" ⋯ 39 bytes ⋯ \"SESSION; NO REGISTRATION PLATES\"\n",
       " \"ONE HEADLIGHT; NO REGISTRATION \" ⋯ 63 bytes ⋯ \"CE ALC/DRUGS/ETC. .08 - 1ST OFF\"\n",
       " \"SPEEDING 10 MPH OVER LIMIT\"\n",
       " \"SPEEDING 08 MPH OVER LIMIT; FAILURE TO OR IMPROPER SIGL\"\n",
       " \"SPEEDING 10 MPH OVER LIMIT; FAILURE TO WEAR SEAT BELTS\"\n",
       " \"SPEEDING 11 MPH OVER LIMIT; NO REGISTRATION RECEIPT\"\n",
       " \"SPEEDING 17 MPH OVER LIMIT; FAI\" ⋯ 127 bytes ⋯ \"LATES; NO REGISTRATION RECEIPT\"\n",
       " \"SPEEDING 13 MPH OVER LIMIT\"\n",
       " \"FAILURE OF NON-OWNER OPERATOR T\" ⋯ 37 bytes ⋯ \"THER STATE REGISTRATION RECEIPT\""
      ]
     },
     "execution_count": 28,
     "metadata": {},
     "output_type": "execute_result"
    }
   ],
   "source": [
    "owensboro.violation"
   ]
  },
  {
   "cell_type": "code",
   "execution_count": 29,
   "id": "77c3f690",
   "metadata": {},
   "outputs": [
    {
     "data": {
      "text/plain": [
       "6921-element Vector{Vector{SubString{String}}}:\n",
       " [\"POSS CONT SUB 1ST DEG, 1ST OFF (METHAMPHETAMINE)\", \"DRUG PARAPHERLIA - BUY/POSSESS\"]\n",
       " [\"FAILURE TO ILLUMITE HEAD LAMPS\", \"NO OPERATORS-MOPED LICENSE\", \"NO REGISTRATION PLATES\"]\n",
       " [\"NO TAIL LAMPS\", \"OPER MTR VEHICLE U/INFLUENCE ALC/DRUGS/ETC. .08 - 1ST OFF\", \"POSS CONT SUB 1ST DEG, 1ST OFF (METHAMPHETAMINE)\", \"FAILURE OF OWNER TO MAINTAIN REQUIRED INS/SEC, 1ST OFF\", \"VIOLATION UNKNOWN\"]\n",
       " [\"OPER MTR VEH U/INFLU ALC/DRUGS/ETC. .08 (AGG CIRCUM), 2ND\", \"DRIVING DUI SUSPENDED LICENSE - 1ST OFF (AGG CIRCUM)\"]\n",
       " [\"OPERATING ON SUS OR REV OPER LICENSE\"]\n",
       " [\"FAILURE TO WEAR SEAT BELTS\"]\n",
       " [\"OPER MTR VEHICLE U/INFLUENCE ALC/DRUGS/ETC. .08 - 1ST OFF\"]\n",
       " [\"DISREGARDING TRAFFIC CONT DEV-TRAFFIC LIGHT\", \"LICENSE TO BE IN POSSESSION\"]\n",
       " [\"OPER MTR VEH U/INFLU ALC/DRUGS/ETC. .08 (AGG CIRCUM), 2ND\", \"DRIVING ON DUI SUSPENDED LICENSE -1ST OFFENSE\", \"POSS OF OPEN ALC BEVERAGE CONT IN MOTOR VEH PROHIBITED\", \"FAILURE OF OWNER TO MAINTAIN REQUIRED INS/SEC, 1ST OFF\", \"FAILURE TO WEAR SEAT BELTS\"]\n",
       " [\"OPER MTR VEHICLE U/INFLUENCE ALC/DRUGS/ETC. .08 - 1ST OFF\", \"OPERATING VEHICLE WITH EXPIRED OPERATORS LICENSE\", \"DRUG PARAPHERLIA - BUY/POSSESS\"]\n",
       " [\"OPER MTR VEHICLE U/INFLUENCE ALC/DRUGS/ETC. .08 - 1ST OFF\", \"LEAVING SCENE OF ACCIDENT-FAILURE TO RENDER AID OR ASSISTANCE\", \"NO OPERATORS-MOPED LICENSE\"]\n",
       " [\"NO REGISTRATION PLATES\", \"FAILURE TO PRODUCE INSURANCE CARD\", \"NO OPERATORS-MOPED LICENSE\"]\n",
       " [\"OPER MTR VEHICLE U/INFLUENCE ALC/DRUGS/ETC. .08 - 1ST OFF\"]\n",
       " ⋮\n",
       " [\"NO REGISTRATION PLATES\", \"FAILURE TO PRODUCE INSURANCE CARD\"]\n",
       " [\"FAILURE TO OR IMPROPER SIGL\", \"FAILURE TO PRODUCE INSURANCE CARD\", \"NO OPERATORS-MOPED LICENSE\"]\n",
       " [\"NO TAIL LAMPS\", \"FAILURE TO PRODUCE INSURANCE CARD\", \"NO REGISTRATION PLATES\"]\n",
       " [\"ONE HEADLIGHT\", \"FAILURE TO PRODUCE INSURANCE CARD\", \"LICENSE TO BE IN POSSESSION\", \"NO REGISTRATION PLATES\"]\n",
       " [\"ONE HEADLIGHT\", \"NO REGISTRATION RECEIPT\", \"NO OPERATORS-MOPED LICENSE\", \"OPER MTR VEHICLE U/INFLUENCE ALC/DRUGS/ETC. .08 - 1ST OFF\"]\n",
       " [\"SPEEDING 10 MPH OVER LIMIT\"]\n",
       " [\"SPEEDING 08 MPH OVER LIMIT\", \"FAILURE TO OR IMPROPER SIGL\"]\n",
       " [\"SPEEDING 10 MPH OVER LIMIT\", \"FAILURE TO WEAR SEAT BELTS\"]\n",
       " [\"SPEEDING 11 MPH OVER LIMIT\", \"NO REGISTRATION RECEIPT\"]\n",
       " [\"SPEEDING 17 MPH OVER LIMIT\", \"FAILURE TO WEAR SEAT BELTS\", \"LICENSE TO BE IN POSSESSION\", \"FAILURE OF OWNER TO MAINTAIN REQUIRED INS/SEC, 1ST OFF\", \"NO REGISTRATION PLATES\", \"NO REGISTRATION RECEIPT\"]\n",
       " [\"SPEEDING 13 MPH OVER LIMIT\"]\n",
       " [\"FAILURE OF NON-OWNER OPERATOR TO MAINTAIN REQ INS/SEC, 1ST OFF\", \"NO OTHER STATE REGISTRATION RECEIPT\"]"
      ]
     },
     "execution_count": 29,
     "metadata": {},
     "output_type": "execute_result"
    }
   ],
   "source": [
    "violation_list = [strip.(split(x, \";\")) for x in owensboro.violation]"
   ]
  },
  {
   "cell_type": "code",
   "execution_count": 30,
   "id": "144ef84c",
   "metadata": {},
   "outputs": [
    {
     "data": {
      "text/plain": [
       "13555-element Vector{SubString{String}}:\n",
       " \"POSS CONT SUB 1ST DEG, 1ST OFF (METHAMPHETAMINE)\"\n",
       " \"DRUG PARAPHERLIA - BUY/POSSESS\"\n",
       " \"FAILURE TO ILLUMITE HEAD LAMPS\"\n",
       " \"NO OPERATORS-MOPED LICENSE\"\n",
       " \"NO REGISTRATION PLATES\"\n",
       " \"NO TAIL LAMPS\"\n",
       " \"OPER MTR VEHICLE U/INFLUENCE ALC/DRUGS/ETC. .08 - 1ST OFF\"\n",
       " \"POSS CONT SUB 1ST DEG, 1ST OFF (METHAMPHETAMINE)\"\n",
       " \"FAILURE OF OWNER TO MAINTAIN REQUIRED INS/SEC, 1ST OFF\"\n",
       " \"VIOLATION UNKNOWN\"\n",
       " \"OPER MTR VEH U/INFLU ALC/DRUGS/ETC. .08 (AGG CIRCUM), 2ND\"\n",
       " \"DRIVING DUI SUSPENDED LICENSE - 1ST OFF (AGG CIRCUM)\"\n",
       " \"OPERATING ON SUS OR REV OPER LICENSE\"\n",
       " ⋮\n",
       " \"FAILURE TO WEAR SEAT BELTS\"\n",
       " \"SPEEDING 11 MPH OVER LIMIT\"\n",
       " \"NO REGISTRATION RECEIPT\"\n",
       " \"SPEEDING 17 MPH OVER LIMIT\"\n",
       " \"FAILURE TO WEAR SEAT BELTS\"\n",
       " \"LICENSE TO BE IN POSSESSION\"\n",
       " \"FAILURE OF OWNER TO MAINTAIN REQUIRED INS/SEC, 1ST OFF\"\n",
       " \"NO REGISTRATION PLATES\"\n",
       " \"NO REGISTRATION RECEIPT\"\n",
       " \"SPEEDING 13 MPH OVER LIMIT\"\n",
       " \"FAILURE OF NON-OWNER OPERATOR TO MAINTAIN REQ INS/SEC, 1ST OFF\"\n",
       " \"NO OTHER STATE REGISTRATION RECEIPT\""
      ]
     },
     "execution_count": 30,
     "metadata": {},
     "output_type": "execute_result"
    }
   ],
   "source": [
    "violation_flat = reduce(vcat, violation_list)"
   ]
  },
  {
   "cell_type": "code",
   "execution_count": 31,
   "id": "91a591eb",
   "metadata": {},
   "outputs": [
    {
     "data": {
      "text/plain": [
       "13555-element Vector{AbstractString}:\n",
       " \"POSS CONT SUB 1ST DEG, 1ST OFF (METHAMPHETAMINE)\"\n",
       " \"DRUG PARAPHERLIA - BUY/POSSESS\"\n",
       " \"FAILURE TO ILLUMITE HEAD LAMPS\"\n",
       " \"NO OPERATORS-MOPED LICENSE\"\n",
       " \"NO REGISTRATION PLATES\"\n",
       " \"NO TAIL LAMPS\"\n",
       " \"OPER MTR VEHICLE U/INFLUENCE ALC/DRUGS/ETC. .08 - 1ST OFF\"\n",
       " \"POSS CONT SUB 1ST DEG, 1ST OFF (METHAMPHETAMINE)\"\n",
       " \"FAILURE OF OWNER TO MAINTAIN REQUIRED INS/SEC, 1ST OFF\"\n",
       " \"VIOLATION UNKNOWN\"\n",
       " \"OPER MTR VEH U/INFLU ALC/DRUGS/ETC. .08 (AGG CIRCUM), 2ND\"\n",
       " \"DRIVING DUI SUSPENDED LICENSE - 1ST OFF (AGG CIRCUM)\"\n",
       " \"OPERATING ON SUS OR REV OPER LICENSE\"\n",
       " ⋮\n",
       " \"FAILURE TO WEAR SEAT BELTS\"\n",
       " \"SPEEDING\"\n",
       " \"NO REGISTRATION RECEIPT\"\n",
       " \"SPEEDING\"\n",
       " \"FAILURE TO WEAR SEAT BELTS\"\n",
       " \"LICENSE TO BE IN POSSESSION\"\n",
       " \"FAILURE OF OWNER TO MAINTAIN REQUIRED INS/SEC, 1ST OFF\"\n",
       " \"NO REGISTRATION PLATES\"\n",
       " \"NO REGISTRATION RECEIPT\"\n",
       " \"SPEEDING\"\n",
       " \"FAILURE OF NON-OWNER OPERATOR TO MAINTAIN REQ INS/SEC, 1ST OFF\"\n",
       " \"NO OTHER STATE REGISTRATION RECEIPT\""
      ]
     },
     "execution_count": 31,
     "metadata": {},
     "output_type": "execute_result"
    }
   ],
   "source": [
    "violation_flat_clean = [contains(x, \"SPEEDING\") ? \"SPEEDING\" : x for x in violation_flat]"
   ]
  },
  {
   "cell_type": "code",
   "execution_count": 32,
   "id": "210cd457",
   "metadata": {},
   "outputs": [
    {
     "data": {
      "text/plain": [
       "245-element Named Vector{Int64}\n",
       "Dim1                                                                                     │ \n",
       "─────────────────────────────────────────────────────────────────────────────────────────┼─────\n",
       "\"FAILURE TO WEAR SEAT BELTS\"                                                             │ 2689\n",
       "\"NO REGISTRATION PLATES\"                                                                 │ 1667\n",
       "\"FAILURE TO PRODUCE INSURANCE CARD\"                                                      │ 1324\n",
       "SPEEDING                                                                                 │ 1067\n",
       "\"NO REGISTRATION RECEIPT\"                                                                │  701\n",
       "\"FAILURE OF OWNER TO MAINTAIN REQUIRED INS/SEC, 1ST OFF\"                                 │  677\n",
       "\"OPERATING ON SUS OR REV OPER LICENSE\"                                                   │  472\n",
       "\"FAILURE TO NOTIFY ADRS CHANGE TO DEPT OF TRANS\"                                         │  409\n",
       "\"NO OPERATORS-MOPED LICENSE\"                                                             │  336\n",
       "\"LICENSE TO BE IN POSSESSION\"                                                            │  246\n",
       "\"OPER MTR VEHICLE U/INFLUENCE ALC/DRUGS/ETC. .08 - 1ST OFF\"                              │  246\n",
       "⋮                                                                                             ⋮\n",
       "\"TRAFF IN CONT SUB, 1ST DEGREE, 2ND OR > OFF - (> OR = 4 GMS COCAINE)\"                   │    1\n",
       "\"TRAFF IN CONT SUB, 1ST DEGREE, 2ND OR > OFF-(<10D.U.DRUGUNSPECIFIEDSCH1&2)\"             │    1\n",
       "\"TRAFF IN CONT SUB, 1ST DEGREE, 2ND OR > OFFENSE - (< 4 GMS COCAINE)\"                    │    1\n",
       "\"TRAFF IN CONT SUB, 2ND DEGREE, 1ST OFF-(<10 D.U.SCH1&2NON-RCOTICS)\"                     │    1\n",
       "\"TRAFF IN CONT SUB, 2ND DEGREE, 1ST OFF-(> OR = 10 D.U.SCH 1&2NON-RCOTICS)\"              │    1\n",
       "\"TRAFF IN CONT SUB, 3RD DEGREE, 2ND OR > OFF - (>OR = 20D.U.DRUGUNSPECIFIED)\"            │    1\n",
       "\"UNLAWFUL TRANSACTION W/MINOR 3RD DEGREE\"                                                │    1\n",
       "\"USE OF CELLULAR PHONE WHILE DRIVING SCHOOL BUS\"                                         │    1\n",
       "\"UUTHORIZED USE OF MOTOR VEHICLE-1ST OFFENSE\"                                            │    1\n",
       "\"WANTON ENDANGERMENT-1ST DEGREE-POLICE OFFICER\"                                          │    1\n",
       "\"WANTON ENDANGERMENT-2ND DEGREE-POLICE OFFICER\"                                          │    1"
      ]
     },
     "execution_count": 32,
     "metadata": {},
     "output_type": "execute_result"
    }
   ],
   "source": [
    "sort(freqtable(violation_flat_clean), rev=true)"
   ]
  },
  {
   "cell_type": "code",
   "execution_count": 33,
   "id": "16fdd8e4",
   "metadata": {},
   "outputs": [
    {
     "data": {
      "text/html": [
       "<div class=\"data-frame\"><p>245 rows × 2 columns</p><table class=\"data-frame\"><thead><tr><th></th><th>v</th><th>count</th></tr><tr><th></th><th title=\"AbstractString\">Abstract…</th><th title=\"Int64\">Int64</th></tr></thead><tbody><tr><th>1</th><td>FAILURE TO WEAR SEAT BELTS</td><td>2689</td></tr><tr><th>2</th><td>NO REGISTRATION PLATES</td><td>1667</td></tr><tr><th>3</th><td>FAILURE TO PRODUCE INSURANCE CARD</td><td>1324</td></tr><tr><th>4</th><td>SPEEDING</td><td>1067</td></tr><tr><th>5</th><td>NO REGISTRATION RECEIPT</td><td>701</td></tr><tr><th>6</th><td>FAILURE OF OWNER TO MAINTAIN REQUIRED INS/SEC, 1ST OFF</td><td>677</td></tr><tr><th>7</th><td>OPERATING ON SUS OR REV OPER LICENSE</td><td>472</td></tr><tr><th>8</th><td>FAILURE TO NOTIFY ADRS CHANGE TO DEPT OF TRANS</td><td>409</td></tr><tr><th>9</th><td>NO OPERATORS-MOPED LICENSE</td><td>336</td></tr><tr><th>10</th><td>OPER MTR VEHICLE U/INFLUENCE ALC/DRUGS/ETC. .08 - 1ST OFF</td><td>246</td></tr><tr><th>11</th><td>LICENSE TO BE IN POSSESSION</td><td>246</td></tr><tr><th>12</th><td>DRUG PARAPHERLIA - BUY/POSSESS</td><td>217</td></tr><tr><th>13</th><td>FAILURE TO OR IMPROPER SIGL</td><td>213</td></tr><tr><th>14</th><td>DISREGARDING TRAFFIC CONT DEV-TRAFFIC LIGHT</td><td>191</td></tr><tr><th>15</th><td>OPER MTR VEHICLE U/INFLU ALC/DRUGS/ETC. .08 (AGG CIRCUM) 1ST OFF</td><td>162</td></tr><tr><th>16</th><td>DISREGARDING STOP SIGN</td><td>143</td></tr><tr><th>17</th><td>OWNER TO NOTIFY CLERK OF RESIDENCE OR ME CHANGE</td><td>139</td></tr><tr><th>18</th><td>POSS CONT SUB 1ST DEG, 1ST OFF (METHAMPHETAMINE)</td><td>115</td></tr><tr><th>19</th><td>POSS OF MARIJUADRUG PARAPHERLIA - BUY/POSSESS</td><td>109</td></tr><tr><th>20</th><td>OPERATING VEHICLE WITH EXPIRED OPERATORS LICENSE</td><td>107</td></tr><tr><th>21</th><td>POSS OF OPEN ALC BEVERAGE CONT IN MOTOR VEH PROHIBITED</td><td>103</td></tr><tr><th>22</th><td>CARELESS DRIVING</td><td>100</td></tr><tr><th>23</th><td>IMPROPER DISPLAY OF REGISTRATION PLATES</td><td>86</td></tr><tr><th>24</th><td>FAILURE TO REGISTER TRANSFER OF MOTOR VEHICLE</td><td>81</td></tr><tr><th>25</th><td>ONE HEADLIGHT</td><td>76</td></tr><tr><th>26</th><td>BOOSTER SEAT VIOLATIONS</td><td>76</td></tr><tr><th>27</th><td>POSS OF MARIJUA</td><td>72</td></tr><tr><th>28</th><td>DRIVING ON DUI SUSPENDED LICENSE -1ST OFFENSE</td><td>71</td></tr><tr><th>29</th><td>REAR LICENSE NOT ILLUMITED</td><td>62</td></tr><tr><th>30</th><td>INSTRUCTIOL PERMIT VIOLATIONS</td><td>62</td></tr><tr><th>&vellip;</th><td>&vellip;</td><td>&vellip;</td></tr></tbody></table></div>"
      ],
      "text/latex": [
       "\\begin{tabular}{r|cc}\n",
       "\t& v & count\\\\\n",
       "\t\\hline\n",
       "\t& Abstract… & Int64\\\\\n",
       "\t\\hline\n",
       "\t1 & FAILURE TO WEAR SEAT BELTS & 2689 \\\\\n",
       "\t2 & NO REGISTRATION PLATES & 1667 \\\\\n",
       "\t3 & FAILURE TO PRODUCE INSURANCE CARD & 1324 \\\\\n",
       "\t4 & SPEEDING & 1067 \\\\\n",
       "\t5 & NO REGISTRATION RECEIPT & 701 \\\\\n",
       "\t6 & FAILURE OF OWNER TO MAINTAIN REQUIRED INS/SEC, 1ST OFF & 677 \\\\\n",
       "\t7 & OPERATING ON SUS OR REV OPER LICENSE & 472 \\\\\n",
       "\t8 & FAILURE TO NOTIFY ADRS CHANGE TO DEPT OF TRANS & 409 \\\\\n",
       "\t9 & NO OPERATORS-MOPED LICENSE & 336 \\\\\n",
       "\t10 & OPER MTR VEHICLE U/INFLUENCE ALC/DRUGS/ETC. .08 - 1ST OFF & 246 \\\\\n",
       "\t11 & LICENSE TO BE IN POSSESSION & 246 \\\\\n",
       "\t12 & DRUG PARAPHERLIA - BUY/POSSESS & 217 \\\\\n",
       "\t13 & FAILURE TO OR IMPROPER SIGL & 213 \\\\\n",
       "\t14 & DISREGARDING TRAFFIC CONT DEV-TRAFFIC LIGHT & 191 \\\\\n",
       "\t15 & OPER MTR VEHICLE U/INFLU ALC/DRUGS/ETC. .08 (AGG CIRCUM) 1ST OFF & 162 \\\\\n",
       "\t16 & DISREGARDING STOP SIGN & 143 \\\\\n",
       "\t17 & OWNER TO NOTIFY CLERK OF RESIDENCE OR ME CHANGE & 139 \\\\\n",
       "\t18 & POSS CONT SUB 1ST DEG, 1ST OFF (METHAMPHETAMINE) & 115 \\\\\n",
       "\t19 & POSS OF MARIJUADRUG PARAPHERLIA - BUY/POSSESS & 109 \\\\\n",
       "\t20 & OPERATING VEHICLE WITH EXPIRED OPERATORS LICENSE & 107 \\\\\n",
       "\t21 & POSS OF OPEN ALC BEVERAGE CONT IN MOTOR VEH PROHIBITED & 103 \\\\\n",
       "\t22 & CARELESS DRIVING & 100 \\\\\n",
       "\t23 & IMPROPER DISPLAY OF REGISTRATION PLATES & 86 \\\\\n",
       "\t24 & FAILURE TO REGISTER TRANSFER OF MOTOR VEHICLE & 81 \\\\\n",
       "\t25 & ONE HEADLIGHT & 76 \\\\\n",
       "\t26 & BOOSTER SEAT VIOLATIONS & 76 \\\\\n",
       "\t27 & POSS OF MARIJUA & 72 \\\\\n",
       "\t28 & DRIVING ON DUI SUSPENDED LICENSE -1ST OFFENSE & 71 \\\\\n",
       "\t29 & REAR LICENSE NOT ILLUMITED & 62 \\\\\n",
       "\t30 & INSTRUCTIOL PERMIT VIOLATIONS & 62 \\\\\n",
       "\t$\\dots$ & $\\dots$ & $\\dots$ \\\\\n",
       "\\end{tabular}\n"
      ],
      "text/plain": [
       "\u001b[1m245×2 DataFrame\u001b[0m\n",
       "\u001b[1m Row \u001b[0m│\u001b[1m v                                 \u001b[0m\u001b[1m count \u001b[0m\n",
       "\u001b[1m     \u001b[0m│\u001b[90m Abstract…                         \u001b[0m\u001b[90m Int64 \u001b[0m\n",
       "─────┼──────────────────────────────────────────\n",
       "   1 │ FAILURE TO WEAR SEAT BELTS          2689\n",
       "   2 │ NO REGISTRATION PLATES              1667\n",
       "   3 │ FAILURE TO PRODUCE INSURANCE CARD   1324\n",
       "   4 │ SPEEDING                            1067\n",
       "   5 │ NO REGISTRATION RECEIPT              701\n",
       "   6 │ FAILURE OF OWNER TO MAINTAIN REQ…    677\n",
       "   7 │ OPERATING ON SUS OR REV OPER LIC…    472\n",
       "   8 │ FAILURE TO NOTIFY ADRS CHANGE TO…    409\n",
       "   9 │ NO OPERATORS-MOPED LICENSE           336\n",
       "  10 │ OPER MTR VEHICLE U/INFLUENCE ALC…    246\n",
       "  11 │ LICENSE TO BE IN POSSESSION          246\n",
       "  ⋮  │                 ⋮                    ⋮\n",
       " 236 │ USE OF CELLULAR PHONE WHILE DRIV…      1\n",
       " 237 │ INSUFFICIENT HEAD LAMPS                1\n",
       " 238 │ IMPROPER LANE USAGE-VEHICLES KEE…      1\n",
       " 239 │ POSS OF MARIJUACARELESS DRIVING        1\n",
       " 240 │ NONE/IMPROPER USE OF TEMPORARY T…      1\n",
       " 241 │ POSS OF MARIJUADRIVING-DUI SUSPE…      1\n",
       " 242 │ IMPROPER USE OF RED LIGHTS             1\n",
       " 243 │ DISPLAY OF ILLEGAL/ALTERED REGIS…      1\n",
       " 244 │ TRAFF IN CONT SUB, 2ND DEGREE, 1…      1\n",
       " 245 │ UUTHORIZED USE OF MOTOR VEHICLE-…      1\n",
       "\u001b[36m                                224 rows omitted\u001b[0m"
      ]
     },
     "execution_count": 33,
     "metadata": {},
     "output_type": "execute_result"
    }
   ],
   "source": [
    "agg_violation = @chain owensboro begin\n",
    "    select(:violation => ByRow(x -> strip.(split(x, \";\"))) => :v)\n",
    "    flatten(:v)\n",
    "    select(:v => ByRow(x -> contains(x, \"SPEEDING\") ? \"SPEEDING\" : x) => :v)\n",
    "    groupby(:v)\n",
    "    combine(nrow => :count)\n",
    "    sort(:count, rev=true)\n",
    "end"
   ]
  },
  {
   "cell_type": "markdown",
   "id": "36085cd3",
   "metadata": {},
   "source": [
    "### Vectorizing functions using the the ByRow wrapper"
   ]
  },
  {
   "cell_type": "code",
   "execution_count": 34,
   "id": "8b3a0963",
   "metadata": {},
   "outputs": [
    {
     "data": {
      "text/plain": [
       "2.0"
      ]
     },
     "execution_count": 34,
     "metadata": {},
     "output_type": "execute_result"
    }
   ],
   "source": [
    "sqrt(4)"
   ]
  },
  {
   "cell_type": "code",
   "execution_count": 35,
   "id": "0ca5d206",
   "metadata": {},
   "outputs": [
    {
     "ename": "LoadError",
     "evalue": "MethodError: no method matching sqrt(::Vector{Int64})\n\u001b[0mClosest candidates are:\n\u001b[0m  sqrt(\u001b[91m::Union{Float32, Float64}\u001b[39m) at C:\\WORK\\julia-1.7.3\\share\\julia\\base\\math.jl:566\n\u001b[0m  sqrt(\u001b[91m::StridedMatrix{T}\u001b[39m) where T<:Union{Real, Complex} at C:\\WORK\\julia-1.7.3\\share\\julia\\stdlib\\v1.7\\LinearAlgebra\\src\\dense.jl:836\n\u001b[0m  sqrt(\u001b[91m::NamedArrays.NamedArray\u001b[39m) at C:\\Users\\bogum\\.julia\\packages\\NamedArrays\\TuJLn\\src\\arithmetic.jl:149\n\u001b[0m  ...",
     "output_type": "error",
     "traceback": [
      "MethodError: no method matching sqrt(::Vector{Int64})\n\u001b[0mClosest candidates are:\n\u001b[0m  sqrt(\u001b[91m::Union{Float32, Float64}\u001b[39m) at C:\\WORK\\julia-1.7.3\\share\\julia\\base\\math.jl:566\n\u001b[0m  sqrt(\u001b[91m::StridedMatrix{T}\u001b[39m) where T<:Union{Real, Complex} at C:\\WORK\\julia-1.7.3\\share\\julia\\stdlib\\v1.7\\LinearAlgebra\\src\\dense.jl:836\n\u001b[0m  sqrt(\u001b[91m::NamedArrays.NamedArray\u001b[39m) at C:\\Users\\bogum\\.julia\\packages\\NamedArrays\\TuJLn\\src\\arithmetic.jl:149\n\u001b[0m  ...",
      "",
      "Stacktrace:",
      " [1] top-level scope",
      "   @ In[35]:1",
      " [2] eval",
      "   @ .\\boot.jl:373 [inlined]",
      " [3] include_string(mapexpr::typeof(REPL.softscope), mod::Module, code::String, filename::String)",
      "   @ Base .\\loading.jl:1196"
     ]
    }
   ],
   "source": [
    "sqrt([4, 9, 16])"
   ]
  },
  {
   "cell_type": "code",
   "execution_count": 36,
   "id": "d8b15430",
   "metadata": {},
   "outputs": [
    {
     "data": {
      "text/plain": [
       "3-element Vector{Float64}:\n",
       " 2.0\n",
       " 3.0\n",
       " 4.0"
      ]
     },
     "execution_count": 36,
     "metadata": {},
     "output_type": "execute_result"
    }
   ],
   "source": [
    "ByRow(sqrt)([4, 9, 16])"
   ]
  },
  {
   "cell_type": "code",
   "execution_count": 37,
   "id": "a67b76a7",
   "metadata": {},
   "outputs": [
    {
     "data": {
      "text/plain": [
       "(::ByRow{typeof(sqrt)}) (generic function with 2 methods)"
      ]
     },
     "execution_count": 37,
     "metadata": {},
     "output_type": "execute_result"
    }
   ],
   "source": [
    "f = ByRow(sqrt)"
   ]
  },
  {
   "cell_type": "code",
   "execution_count": 38,
   "id": "97febd07",
   "metadata": {},
   "outputs": [
    {
     "data": {
      "text/plain": [
       "3-element Vector{Float64}:\n",
       " 2.0\n",
       " 3.0\n",
       " 4.0"
      ]
     },
     "execution_count": 38,
     "metadata": {},
     "output_type": "execute_result"
    }
   ],
   "source": [
    "f([4, 9, 16])"
   ]
  },
  {
   "cell_type": "markdown",
   "id": "05964c78",
   "metadata": {},
   "source": [
    "### Flattening data frames"
   ]
  },
  {
   "cell_type": "code",
   "execution_count": 39,
   "id": "e97fa388",
   "metadata": {},
   "outputs": [
    {
     "data": {
      "text/html": [
       "<div class=\"data-frame\"><p>2 rows × 2 columns</p><table class=\"data-frame\"><thead><tr><th></th><th>id</th><th>v</th></tr><tr><th></th><th title=\"Int64\">Int64</th><th title=\"Vector{Int64}\">Array…</th></tr></thead><tbody><tr><th>1</th><td>1</td><td>[11, 12]</td></tr><tr><th>2</th><td>2</td><td>[13, 14, 15]</td></tr></tbody></table></div>"
      ],
      "text/latex": [
       "\\begin{tabular}{r|cc}\n",
       "\t& id & v\\\\\n",
       "\t\\hline\n",
       "\t& Int64 & Array…\\\\\n",
       "\t\\hline\n",
       "\t1 & 1 & [11, 12] \\\\\n",
       "\t2 & 2 & [13, 14, 15] \\\\\n",
       "\\end{tabular}\n"
      ],
      "text/plain": [
       "\u001b[1m2×2 DataFrame\u001b[0m\n",
       "\u001b[1m Row \u001b[0m│\u001b[1m id    \u001b[0m\u001b[1m v            \u001b[0m\n",
       "\u001b[1m     \u001b[0m│\u001b[90m Int64 \u001b[0m\u001b[90m Array…       \u001b[0m\n",
       "─────┼─────────────────────\n",
       "   1 │     1  [11, 12]\n",
       "   2 │     2  [13, 14, 15]"
      ]
     },
     "execution_count": 39,
     "metadata": {},
     "output_type": "execute_result"
    }
   ],
   "source": [
    "df = DataFrame(id=1:2, v=[[11, 12], [13, 14, 15]])"
   ]
  },
  {
   "cell_type": "code",
   "execution_count": 40,
   "id": "c3299e1a",
   "metadata": {},
   "outputs": [
    {
     "data": {
      "text/html": [
       "<div class=\"data-frame\"><p>5 rows × 2 columns</p><table class=\"data-frame\"><thead><tr><th></th><th>id</th><th>v</th></tr><tr><th></th><th title=\"Int64\">Int64</th><th title=\"Int64\">Int64</th></tr></thead><tbody><tr><th>1</th><td>1</td><td>11</td></tr><tr><th>2</th><td>1</td><td>12</td></tr><tr><th>3</th><td>2</td><td>13</td></tr><tr><th>4</th><td>2</td><td>14</td></tr><tr><th>5</th><td>2</td><td>15</td></tr></tbody></table></div>"
      ],
      "text/latex": [
       "\\begin{tabular}{r|cc}\n",
       "\t& id & v\\\\\n",
       "\t\\hline\n",
       "\t& Int64 & Int64\\\\\n",
       "\t\\hline\n",
       "\t1 & 1 & 11 \\\\\n",
       "\t2 & 1 & 12 \\\\\n",
       "\t3 & 2 & 13 \\\\\n",
       "\t4 & 2 & 14 \\\\\n",
       "\t5 & 2 & 15 \\\\\n",
       "\\end{tabular}\n"
      ],
      "text/plain": [
       "\u001b[1m5×2 DataFrame\u001b[0m\n",
       "\u001b[1m Row \u001b[0m│\u001b[1m id    \u001b[0m\u001b[1m v     \u001b[0m\n",
       "\u001b[1m     \u001b[0m│\u001b[90m Int64 \u001b[0m\u001b[90m Int64 \u001b[0m\n",
       "─────┼──────────────\n",
       "   1 │     1     11\n",
       "   2 │     1     12\n",
       "   3 │     2     13\n",
       "   4 │     2     14\n",
       "   5 │     2     15"
      ]
     },
     "execution_count": 40,
     "metadata": {},
     "output_type": "execute_result"
    }
   ],
   "source": [
    "flatten(df, :v)"
   ]
  },
  {
   "cell_type": "markdown",
   "id": "e8459844",
   "metadata": {},
   "source": [
    "### Convenience syntax for getting number of rows of a data frame"
   ]
  },
  {
   "cell_type": "code",
   "execution_count": 41,
   "id": "79e96553",
   "metadata": {},
   "outputs": [
    {
     "data": {
      "text/html": [
       "<div class=\"data-frame\"><p>2 rows × 3 columns</p><table class=\"data-frame\"><thead><tr><th></th><th>id</th><th>nrow</th><th>rows</th></tr><tr><th></th><th title=\"Int64\">Int64</th><th title=\"Int64\">Int64</th><th title=\"Int64\">Int64</th></tr></thead><tbody><tr><th>1</th><td>1</td><td>2</td><td>2</td></tr><tr><th>2</th><td>2</td><td>3</td><td>3</td></tr></tbody></table></div>"
      ],
      "text/latex": [
       "\\begin{tabular}{r|ccc}\n",
       "\t& id & nrow & rows\\\\\n",
       "\t\\hline\n",
       "\t& Int64 & Int64 & Int64\\\\\n",
       "\t\\hline\n",
       "\t1 & 1 & 2 & 2 \\\\\n",
       "\t2 & 2 & 3 & 3 \\\\\n",
       "\\end{tabular}\n"
      ],
      "text/plain": [
       "\u001b[1m2×3 DataFrame\u001b[0m\n",
       "\u001b[1m Row \u001b[0m│\u001b[1m id    \u001b[0m\u001b[1m nrow  \u001b[0m\u001b[1m rows  \u001b[0m\n",
       "\u001b[1m     \u001b[0m│\u001b[90m Int64 \u001b[0m\u001b[90m Int64 \u001b[0m\u001b[90m Int64 \u001b[0m\n",
       "─────┼─────────────────────\n",
       "   1 │     1      2      2\n",
       "   2 │     2      3      3"
      ]
     },
     "execution_count": 41,
     "metadata": {},
     "output_type": "execute_result"
    }
   ],
   "source": [
    "@chain DataFrame(id=[1, 1, 2, 2, 2]) begin\n",
    "    groupby(:id)\n",
    "    combine(nrow, nrow => :rows)\n",
    "end"
   ]
  },
  {
   "cell_type": "markdown",
   "id": "58696755",
   "metadata": {},
   "source": [
    "### Sorting data frames"
   ]
  },
  {
   "cell_type": "code",
   "execution_count": 42,
   "id": "4c61bf83",
   "metadata": {},
   "outputs": [
    {
     "data": {
      "text/html": [
       "<div class=\"data-frame\"><p>5 rows × 2 columns</p><table class=\"data-frame\"><thead><tr><th></th><th>a</th><th>b</th></tr><tr><th></th><th title=\"Int64\">Int64</th><th title=\"Int64\">Int64</th></tr></thead><tbody><tr><th>1</th><td>2</td><td>5</td></tr><tr><th>2</th><td>1</td><td>4</td></tr><tr><th>3</th><td>2</td><td>3</td></tr><tr><th>4</th><td>1</td><td>2</td></tr><tr><th>5</th><td>2</td><td>1</td></tr></tbody></table></div>"
      ],
      "text/latex": [
       "\\begin{tabular}{r|cc}\n",
       "\t& a & b\\\\\n",
       "\t\\hline\n",
       "\t& Int64 & Int64\\\\\n",
       "\t\\hline\n",
       "\t1 & 2 & 5 \\\\\n",
       "\t2 & 1 & 4 \\\\\n",
       "\t3 & 2 & 3 \\\\\n",
       "\t4 & 1 & 2 \\\\\n",
       "\t5 & 2 & 1 \\\\\n",
       "\\end{tabular}\n"
      ],
      "text/plain": [
       "\u001b[1m5×2 DataFrame\u001b[0m\n",
       "\u001b[1m Row \u001b[0m│\u001b[1m a     \u001b[0m\u001b[1m b     \u001b[0m\n",
       "\u001b[1m     \u001b[0m│\u001b[90m Int64 \u001b[0m\u001b[90m Int64 \u001b[0m\n",
       "─────┼──────────────\n",
       "   1 │     2      5\n",
       "   2 │     1      4\n",
       "   3 │     2      3\n",
       "   4 │     1      2\n",
       "   5 │     2      1"
      ]
     },
     "execution_count": 42,
     "metadata": {},
     "output_type": "execute_result"
    }
   ],
   "source": [
    "df = DataFrame(a=[2, 1, 2, 1, 2], b=5:-1:1)"
   ]
  },
  {
   "cell_type": "code",
   "execution_count": 43,
   "id": "4ee13cd5",
   "metadata": {},
   "outputs": [
    {
     "data": {
      "text/html": [
       "<div class=\"data-frame\"><p>5 rows × 2 columns</p><table class=\"data-frame\"><thead><tr><th></th><th>a</th><th>b</th></tr><tr><th></th><th title=\"Int64\">Int64</th><th title=\"Int64\">Int64</th></tr></thead><tbody><tr><th>1</th><td>2</td><td>1</td></tr><tr><th>2</th><td>1</td><td>2</td></tr><tr><th>3</th><td>2</td><td>3</td></tr><tr><th>4</th><td>1</td><td>4</td></tr><tr><th>5</th><td>2</td><td>5</td></tr></tbody></table></div>"
      ],
      "text/latex": [
       "\\begin{tabular}{r|cc}\n",
       "\t& a & b\\\\\n",
       "\t\\hline\n",
       "\t& Int64 & Int64\\\\\n",
       "\t\\hline\n",
       "\t1 & 2 & 1 \\\\\n",
       "\t2 & 1 & 2 \\\\\n",
       "\t3 & 2 & 3 \\\\\n",
       "\t4 & 1 & 4 \\\\\n",
       "\t5 & 2 & 5 \\\\\n",
       "\\end{tabular}\n"
      ],
      "text/plain": [
       "\u001b[1m5×2 DataFrame\u001b[0m\n",
       "\u001b[1m Row \u001b[0m│\u001b[1m a     \u001b[0m\u001b[1m b     \u001b[0m\n",
       "\u001b[1m     \u001b[0m│\u001b[90m Int64 \u001b[0m\u001b[90m Int64 \u001b[0m\n",
       "─────┼──────────────\n",
       "   1 │     2      1\n",
       "   2 │     1      2\n",
       "   3 │     2      3\n",
       "   4 │     1      4\n",
       "   5 │     2      5"
      ]
     },
     "execution_count": 43,
     "metadata": {},
     "output_type": "execute_result"
    }
   ],
   "source": [
    "sort(df, :b)"
   ]
  },
  {
   "cell_type": "code",
   "execution_count": 44,
   "id": "cfbfaf2b",
   "metadata": {},
   "outputs": [
    {
     "data": {
      "text/html": [
       "<div class=\"data-frame\"><p>5 rows × 2 columns</p><table class=\"data-frame\"><thead><tr><th></th><th>a</th><th>b</th></tr><tr><th></th><th title=\"Int64\">Int64</th><th title=\"Int64\">Int64</th></tr></thead><tbody><tr><th>1</th><td>1</td><td>2</td></tr><tr><th>2</th><td>1</td><td>4</td></tr><tr><th>3</th><td>2</td><td>1</td></tr><tr><th>4</th><td>2</td><td>3</td></tr><tr><th>5</th><td>2</td><td>5</td></tr></tbody></table></div>"
      ],
      "text/latex": [
       "\\begin{tabular}{r|cc}\n",
       "\t& a & b\\\\\n",
       "\t\\hline\n",
       "\t& Int64 & Int64\\\\\n",
       "\t\\hline\n",
       "\t1 & 1 & 2 \\\\\n",
       "\t2 & 1 & 4 \\\\\n",
       "\t3 & 2 & 1 \\\\\n",
       "\t4 & 2 & 3 \\\\\n",
       "\t5 & 2 & 5 \\\\\n",
       "\\end{tabular}\n"
      ],
      "text/plain": [
       "\u001b[1m5×2 DataFrame\u001b[0m\n",
       "\u001b[1m Row \u001b[0m│\u001b[1m a     \u001b[0m\u001b[1m b     \u001b[0m\n",
       "\u001b[1m     \u001b[0m│\u001b[90m Int64 \u001b[0m\u001b[90m Int64 \u001b[0m\n",
       "─────┼──────────────\n",
       "   1 │     1      2\n",
       "   2 │     1      4\n",
       "   3 │     2      1\n",
       "   4 │     2      3\n",
       "   5 │     2      5"
      ]
     },
     "execution_count": 44,
     "metadata": {},
     "output_type": "execute_result"
    }
   ],
   "source": [
    "sort(df, [:a, :b])"
   ]
  },
  {
   "cell_type": "markdown",
   "id": "8ca1e5a4",
   "metadata": {},
   "source": [
    "### Advanced functionalities of the DataFramesMeta.jl package"
   ]
  },
  {
   "cell_type": "code",
   "execution_count": 45,
   "id": "0b3af53c",
   "metadata": {},
   "outputs": [
    {
     "data": {
      "text/html": [
       "<div class=\"data-frame\"><p>3 rows × 1 columns</p><table class=\"data-frame\"><thead><tr><th></th><th>x</th></tr><tr><th></th><th title=\"Int64\">Int64</th></tr></thead><tbody><tr><th>1</th><td>4</td></tr><tr><th>2</th><td>9</td></tr><tr><th>3</th><td>16</td></tr></tbody></table></div>"
      ],
      "text/latex": [
       "\\begin{tabular}{r|c}\n",
       "\t& x\\\\\n",
       "\t\\hline\n",
       "\t& Int64\\\\\n",
       "\t\\hline\n",
       "\t1 & 4 \\\\\n",
       "\t2 & 9 \\\\\n",
       "\t3 & 16 \\\\\n",
       "\\end{tabular}\n"
      ],
      "text/plain": [
       "\u001b[1m3×1 DataFrame\u001b[0m\n",
       "\u001b[1m Row \u001b[0m│\u001b[1m x     \u001b[0m\n",
       "\u001b[1m     \u001b[0m│\u001b[90m Int64 \u001b[0m\n",
       "─────┼───────\n",
       "   1 │     4\n",
       "   2 │     9\n",
       "   3 │    16"
      ]
     },
     "execution_count": 45,
     "metadata": {},
     "output_type": "execute_result"
    }
   ],
   "source": [
    "df = DataFrame(x=[4, 9, 16])"
   ]
  },
  {
   "cell_type": "code",
   "execution_count": 46,
   "id": "6228da8d",
   "metadata": {},
   "outputs": [
    {
     "data": {
      "text/html": [
       "<div class=\"data-frame\"><p>3 rows × 2 columns</p><table class=\"data-frame\"><thead><tr><th></th><th>x</th><th>x_sqrt</th></tr><tr><th></th><th title=\"Int64\">Int64</th><th title=\"Float64\">Float64</th></tr></thead><tbody><tr><th>1</th><td>4</td><td>2.0</td></tr><tr><th>2</th><td>9</td><td>3.0</td></tr><tr><th>3</th><td>16</td><td>4.0</td></tr></tbody></table></div>"
      ],
      "text/latex": [
       "\\begin{tabular}{r|cc}\n",
       "\t& x & x\\_sqrt\\\\\n",
       "\t\\hline\n",
       "\t& Int64 & Float64\\\\\n",
       "\t\\hline\n",
       "\t1 & 4 & 2.0 \\\\\n",
       "\t2 & 9 & 3.0 \\\\\n",
       "\t3 & 16 & 4.0 \\\\\n",
       "\\end{tabular}\n"
      ],
      "text/plain": [
       "\u001b[1m3×2 DataFrame\u001b[0m\n",
       "\u001b[1m Row \u001b[0m│\u001b[1m x     \u001b[0m\u001b[1m x_sqrt  \u001b[0m\n",
       "\u001b[1m     \u001b[0m│\u001b[90m Int64 \u001b[0m\u001b[90m Float64 \u001b[0m\n",
       "─────┼────────────────\n",
       "   1 │     4      2.0\n",
       "   2 │     9      3.0\n",
       "   3 │    16      4.0"
      ]
     },
     "execution_count": 46,
     "metadata": {},
     "output_type": "execute_result"
    }
   ],
   "source": [
    "transform(df, :x => ByRow(sqrt))"
   ]
  },
  {
   "cell_type": "code",
   "execution_count": 47,
   "id": "c5be6cbc",
   "metadata": {},
   "outputs": [
    {
     "data": {
      "text/html": [
       "<div class=\"data-frame\"><p>245 rows × 2 columns</p><table class=\"data-frame\"><thead><tr><th></th><th>v</th><th>count</th></tr><tr><th></th><th title=\"AbstractString\">Abstract…</th><th title=\"Int64\">Int64</th></tr></thead><tbody><tr><th>1</th><td>FAILURE TO WEAR SEAT BELTS</td><td>2689</td></tr><tr><th>2</th><td>NO REGISTRATION PLATES</td><td>1667</td></tr><tr><th>3</th><td>FAILURE TO PRODUCE INSURANCE CARD</td><td>1324</td></tr><tr><th>4</th><td>SPEEDING</td><td>1067</td></tr><tr><th>5</th><td>NO REGISTRATION RECEIPT</td><td>701</td></tr><tr><th>6</th><td>FAILURE OF OWNER TO MAINTAIN REQUIRED INS/SEC, 1ST OFF</td><td>677</td></tr><tr><th>7</th><td>OPERATING ON SUS OR REV OPER LICENSE</td><td>472</td></tr><tr><th>8</th><td>FAILURE TO NOTIFY ADRS CHANGE TO DEPT OF TRANS</td><td>409</td></tr><tr><th>9</th><td>NO OPERATORS-MOPED LICENSE</td><td>336</td></tr><tr><th>10</th><td>OPER MTR VEHICLE U/INFLUENCE ALC/DRUGS/ETC. .08 - 1ST OFF</td><td>246</td></tr><tr><th>11</th><td>LICENSE TO BE IN POSSESSION</td><td>246</td></tr><tr><th>12</th><td>DRUG PARAPHERLIA - BUY/POSSESS</td><td>217</td></tr><tr><th>13</th><td>FAILURE TO OR IMPROPER SIGL</td><td>213</td></tr><tr><th>14</th><td>DISREGARDING TRAFFIC CONT DEV-TRAFFIC LIGHT</td><td>191</td></tr><tr><th>15</th><td>OPER MTR VEHICLE U/INFLU ALC/DRUGS/ETC. .08 (AGG CIRCUM) 1ST OFF</td><td>162</td></tr><tr><th>16</th><td>DISREGARDING STOP SIGN</td><td>143</td></tr><tr><th>17</th><td>OWNER TO NOTIFY CLERK OF RESIDENCE OR ME CHANGE</td><td>139</td></tr><tr><th>18</th><td>POSS CONT SUB 1ST DEG, 1ST OFF (METHAMPHETAMINE)</td><td>115</td></tr><tr><th>19</th><td>POSS OF MARIJUADRUG PARAPHERLIA - BUY/POSSESS</td><td>109</td></tr><tr><th>20</th><td>OPERATING VEHICLE WITH EXPIRED OPERATORS LICENSE</td><td>107</td></tr><tr><th>21</th><td>POSS OF OPEN ALC BEVERAGE CONT IN MOTOR VEH PROHIBITED</td><td>103</td></tr><tr><th>22</th><td>CARELESS DRIVING</td><td>100</td></tr><tr><th>23</th><td>IMPROPER DISPLAY OF REGISTRATION PLATES</td><td>86</td></tr><tr><th>24</th><td>FAILURE TO REGISTER TRANSFER OF MOTOR VEHICLE</td><td>81</td></tr><tr><th>25</th><td>ONE HEADLIGHT</td><td>76</td></tr><tr><th>26</th><td>BOOSTER SEAT VIOLATIONS</td><td>76</td></tr><tr><th>27</th><td>POSS OF MARIJUA</td><td>72</td></tr><tr><th>28</th><td>DRIVING ON DUI SUSPENDED LICENSE -1ST OFFENSE</td><td>71</td></tr><tr><th>29</th><td>REAR LICENSE NOT ILLUMITED</td><td>62</td></tr><tr><th>30</th><td>INSTRUCTIOL PERMIT VIOLATIONS</td><td>62</td></tr><tr><th>&vellip;</th><td>&vellip;</td><td>&vellip;</td></tr></tbody></table></div>"
      ],
      "text/latex": [
       "\\begin{tabular}{r|cc}\n",
       "\t& v & count\\\\\n",
       "\t\\hline\n",
       "\t& Abstract… & Int64\\\\\n",
       "\t\\hline\n",
       "\t1 & FAILURE TO WEAR SEAT BELTS & 2689 \\\\\n",
       "\t2 & NO REGISTRATION PLATES & 1667 \\\\\n",
       "\t3 & FAILURE TO PRODUCE INSURANCE CARD & 1324 \\\\\n",
       "\t4 & SPEEDING & 1067 \\\\\n",
       "\t5 & NO REGISTRATION RECEIPT & 701 \\\\\n",
       "\t6 & FAILURE OF OWNER TO MAINTAIN REQUIRED INS/SEC, 1ST OFF & 677 \\\\\n",
       "\t7 & OPERATING ON SUS OR REV OPER LICENSE & 472 \\\\\n",
       "\t8 & FAILURE TO NOTIFY ADRS CHANGE TO DEPT OF TRANS & 409 \\\\\n",
       "\t9 & NO OPERATORS-MOPED LICENSE & 336 \\\\\n",
       "\t10 & OPER MTR VEHICLE U/INFLUENCE ALC/DRUGS/ETC. .08 - 1ST OFF & 246 \\\\\n",
       "\t11 & LICENSE TO BE IN POSSESSION & 246 \\\\\n",
       "\t12 & DRUG PARAPHERLIA - BUY/POSSESS & 217 \\\\\n",
       "\t13 & FAILURE TO OR IMPROPER SIGL & 213 \\\\\n",
       "\t14 & DISREGARDING TRAFFIC CONT DEV-TRAFFIC LIGHT & 191 \\\\\n",
       "\t15 & OPER MTR VEHICLE U/INFLU ALC/DRUGS/ETC. .08 (AGG CIRCUM) 1ST OFF & 162 \\\\\n",
       "\t16 & DISREGARDING STOP SIGN & 143 \\\\\n",
       "\t17 & OWNER TO NOTIFY CLERK OF RESIDENCE OR ME CHANGE & 139 \\\\\n",
       "\t18 & POSS CONT SUB 1ST DEG, 1ST OFF (METHAMPHETAMINE) & 115 \\\\\n",
       "\t19 & POSS OF MARIJUADRUG PARAPHERLIA - BUY/POSSESS & 109 \\\\\n",
       "\t20 & OPERATING VEHICLE WITH EXPIRED OPERATORS LICENSE & 107 \\\\\n",
       "\t21 & POSS OF OPEN ALC BEVERAGE CONT IN MOTOR VEH PROHIBITED & 103 \\\\\n",
       "\t22 & CARELESS DRIVING & 100 \\\\\n",
       "\t23 & IMPROPER DISPLAY OF REGISTRATION PLATES & 86 \\\\\n",
       "\t24 & FAILURE TO REGISTER TRANSFER OF MOTOR VEHICLE & 81 \\\\\n",
       "\t25 & ONE HEADLIGHT & 76 \\\\\n",
       "\t26 & BOOSTER SEAT VIOLATIONS & 76 \\\\\n",
       "\t27 & POSS OF MARIJUA & 72 \\\\\n",
       "\t28 & DRIVING ON DUI SUSPENDED LICENSE -1ST OFFENSE & 71 \\\\\n",
       "\t29 & REAR LICENSE NOT ILLUMITED & 62 \\\\\n",
       "\t30 & INSTRUCTIOL PERMIT VIOLATIONS & 62 \\\\\n",
       "\t$\\dots$ & $\\dots$ & $\\dots$ \\\\\n",
       "\\end{tabular}\n"
      ],
      "text/plain": [
       "\u001b[1m245×2 DataFrame\u001b[0m\n",
       "\u001b[1m Row \u001b[0m│\u001b[1m v                                 \u001b[0m\u001b[1m count \u001b[0m\n",
       "\u001b[1m     \u001b[0m│\u001b[90m Abstract…                         \u001b[0m\u001b[90m Int64 \u001b[0m\n",
       "─────┼──────────────────────────────────────────\n",
       "   1 │ FAILURE TO WEAR SEAT BELTS          2689\n",
       "   2 │ NO REGISTRATION PLATES              1667\n",
       "   3 │ FAILURE TO PRODUCE INSURANCE CARD   1324\n",
       "   4 │ SPEEDING                            1067\n",
       "   5 │ NO REGISTRATION RECEIPT              701\n",
       "   6 │ FAILURE OF OWNER TO MAINTAIN REQ…    677\n",
       "   7 │ OPERATING ON SUS OR REV OPER LIC…    472\n",
       "   8 │ FAILURE TO NOTIFY ADRS CHANGE TO…    409\n",
       "   9 │ NO OPERATORS-MOPED LICENSE           336\n",
       "  10 │ OPER MTR VEHICLE U/INFLUENCE ALC…    246\n",
       "  11 │ LICENSE TO BE IN POSSESSION          246\n",
       "  ⋮  │                 ⋮                    ⋮\n",
       " 236 │ USE OF CELLULAR PHONE WHILE DRIV…      1\n",
       " 237 │ INSUFFICIENT HEAD LAMPS                1\n",
       " 238 │ IMPROPER LANE USAGE-VEHICLES KEE…      1\n",
       " 239 │ POSS OF MARIJUACARELESS DRIVING        1\n",
       " 240 │ NONE/IMPROPER USE OF TEMPORARY T…      1\n",
       " 241 │ POSS OF MARIJUADRIVING-DUI SUSPE…      1\n",
       " 242 │ IMPROPER USE OF RED LIGHTS             1\n",
       " 243 │ DISPLAY OF ILLEGAL/ALTERED REGIS…      1\n",
       " 244 │ TRAFF IN CONT SUB, 2ND DEGREE, 1…      1\n",
       " 245 │ UUTHORIZED USE OF MOTOR VEHICLE-…      1\n",
       "\u001b[36m                                224 rows omitted\u001b[0m"
      ]
     },
     "execution_count": 47,
     "metadata": {},
     "output_type": "execute_result"
    }
   ],
   "source": [
    "@chain owensboro begin\n",
    "    @rselect(:v=strip.(split(:violation, \";\")))\n",
    "    flatten(:v)\n",
    "    @rselect(:v=contains(:v, \"SPEEDING\") ?\n",
    "    \"SPEEDING\" : :v) #A\n",
    "    groupby(:v)\n",
    "    combine(nrow => :count)\n",
    "    sort(:count, rev=true)\n",
    "end"
   ]
  },
  {
   "cell_type": "code",
   "execution_count": 48,
   "id": "c1244ab7",
   "metadata": {},
   "outputs": [
    {
     "data": {
      "text/html": [
       "<div class=\"data-frame\"><p>3 rows × 1 columns</p><table class=\"data-frame\"><thead><tr><th></th><th>x</th></tr><tr><th></th><th title=\"Int64\">Int64</th></tr></thead><tbody><tr><th>1</th><td>4</td></tr><tr><th>2</th><td>9</td></tr><tr><th>3</th><td>16</td></tr></tbody></table></div>"
      ],
      "text/latex": [
       "\\begin{tabular}{r|c}\n",
       "\t& x\\\\\n",
       "\t\\hline\n",
       "\t& Int64\\\\\n",
       "\t\\hline\n",
       "\t1 & 4 \\\\\n",
       "\t2 & 9 \\\\\n",
       "\t3 & 16 \\\\\n",
       "\\end{tabular}\n"
      ],
      "text/plain": [
       "\u001b[1m3×1 DataFrame\u001b[0m\n",
       "\u001b[1m Row \u001b[0m│\u001b[1m x     \u001b[0m\n",
       "\u001b[1m     \u001b[0m│\u001b[90m Int64 \u001b[0m\n",
       "─────┼───────\n",
       "   1 │     4\n",
       "   2 │     9\n",
       "   3 │    16"
      ]
     },
     "execution_count": 48,
     "metadata": {},
     "output_type": "execute_result"
    }
   ],
   "source": [
    "df = DataFrame(x=[4, 9, 16])"
   ]
  },
  {
   "cell_type": "code",
   "execution_count": 49,
   "id": "123acf7a",
   "metadata": {},
   "outputs": [
    {
     "data": {
      "text/html": [
       "<div class=\"data-frame\"><p>3 rows × 1 columns</p><table class=\"data-frame\"><thead><tr><th></th><th>s</th></tr><tr><th></th><th title=\"Float64\">Float64</th></tr></thead><tbody><tr><th>1</th><td>2.0</td></tr><tr><th>2</th><td>3.0</td></tr><tr><th>3</th><td>4.0</td></tr></tbody></table></div>"
      ],
      "text/latex": [
       "\\begin{tabular}{r|c}\n",
       "\t& s\\\\\n",
       "\t\\hline\n",
       "\t& Float64\\\\\n",
       "\t\\hline\n",
       "\t1 & 2.0 \\\\\n",
       "\t2 & 3.0 \\\\\n",
       "\t3 & 4.0 \\\\\n",
       "\\end{tabular}\n"
      ],
      "text/plain": [
       "\u001b[1m3×1 DataFrame\u001b[0m\n",
       "\u001b[1m Row \u001b[0m│\u001b[1m s       \u001b[0m\n",
       "\u001b[1m     \u001b[0m│\u001b[90m Float64 \u001b[0m\n",
       "─────┼─────────\n",
       "   1 │     2.0\n",
       "   2 │     3.0\n",
       "   3 │     4.0"
      ]
     },
     "execution_count": 49,
     "metadata": {},
     "output_type": "execute_result"
    }
   ],
   "source": [
    "@select(df, :s = sqrt.(:x))"
   ]
  },
  {
   "cell_type": "code",
   "execution_count": 50,
   "id": "25d01fd8",
   "metadata": {},
   "outputs": [
    {
     "data": {
      "text/html": [
       "<div class=\"data-frame\"><p>3 rows × 1 columns</p><table class=\"data-frame\"><thead><tr><th></th><th>s</th></tr><tr><th></th><th title=\"Float64\">Float64</th></tr></thead><tbody><tr><th>1</th><td>2.0</td></tr><tr><th>2</th><td>3.0</td></tr><tr><th>3</th><td>4.0</td></tr></tbody></table></div>"
      ],
      "text/latex": [
       "\\begin{tabular}{r|c}\n",
       "\t& s\\\\\n",
       "\t\\hline\n",
       "\t& Float64\\\\\n",
       "\t\\hline\n",
       "\t1 & 2.0 \\\\\n",
       "\t2 & 3.0 \\\\\n",
       "\t3 & 4.0 \\\\\n",
       "\\end{tabular}\n"
      ],
      "text/plain": [
       "\u001b[1m3×1 DataFrame\u001b[0m\n",
       "\u001b[1m Row \u001b[0m│\u001b[1m s       \u001b[0m\n",
       "\u001b[1m     \u001b[0m│\u001b[90m Float64 \u001b[0m\n",
       "─────┼─────────\n",
       "   1 │     2.0\n",
       "   2 │     3.0\n",
       "   3 │     4.0"
      ]
     },
     "execution_count": 50,
     "metadata": {},
     "output_type": "execute_result"
    }
   ],
   "source": [
    "@rselect(df, :s = sqrt(:x))"
   ]
  },
  {
   "cell_type": "code",
   "execution_count": 51,
   "id": "31f2f0f6",
   "metadata": {},
   "outputs": [
    {
     "data": {
      "text/html": [
       "<div class=\"data-frame\"><p>3 rows × 1 columns</p><table class=\"data-frame\"><thead><tr><th></th><th>s</th></tr><tr><th></th><th title=\"Float64\">Float64</th></tr></thead><tbody><tr><th>1</th><td>2.0</td></tr><tr><th>2</th><td>3.0</td></tr><tr><th>3</th><td>4.0</td></tr></tbody></table></div>"
      ],
      "text/latex": [
       "\\begin{tabular}{r|c}\n",
       "\t& s\\\\\n",
       "\t\\hline\n",
       "\t& Float64\\\\\n",
       "\t\\hline\n",
       "\t1 & 2.0 \\\\\n",
       "\t2 & 3.0 \\\\\n",
       "\t3 & 4.0 \\\\\n",
       "\\end{tabular}\n"
      ],
      "text/plain": [
       "\u001b[1m3×1 DataFrame\u001b[0m\n",
       "\u001b[1m Row \u001b[0m│\u001b[1m s       \u001b[0m\n",
       "\u001b[1m     \u001b[0m│\u001b[90m Float64 \u001b[0m\n",
       "─────┼─────────\n",
       "   1 │     2.0\n",
       "   2 │     3.0\n",
       "   3 │     4.0"
      ]
     },
     "execution_count": 51,
     "metadata": {},
     "output_type": "execute_result"
    }
   ],
   "source": [
    "select(df, :x => ByRow(sqrt) => :s)"
   ]
  },
  {
   "cell_type": "markdown",
   "id": "abc8f988",
   "metadata": {},
   "source": [
    "## Preparing data for making predictions"
   ]
  },
  {
   "cell_type": "markdown",
   "id": "49133ec3",
   "metadata": {},
   "source": [
    "### Initial transformation of the data"
   ]
  },
  {
   "cell_type": "code",
   "execution_count": 52,
   "id": "a9d5a825",
   "metadata": {},
   "outputs": [
    {
     "data": {
      "text/html": [
       "<div class=\"data-frame\"><p>6,921 rows × 7 columns</p><table class=\"data-frame\"><thead><tr><th></th><th>arrest</th><th>day</th><th>type</th><th>v1</th><th>v2</th><th>v3</th><th>v4</th></tr><tr><th></th><th title=\"Bool\">Bool</th><th title=\"Int64\">Int64</th><th title=\"Union{Missing, String15}\">String15?</th><th title=\"Bool\">Bool</th><th title=\"Bool\">Bool</th><th title=\"Bool\">Bool</th><th title=\"Bool\">Bool</th></tr></thead><tbody><tr><th>1</th><td>1</td><td>4</td><td>pedestrian</td><td>0</td><td>0</td><td>0</td><td>0</td></tr><tr><th>2</th><td>0</td><td>7</td><td>vehicular</td><td>0</td><td>1</td><td>0</td><td>0</td></tr><tr><th>3</th><td>1</td><td>7</td><td>vehicular</td><td>0</td><td>0</td><td>0</td><td>0</td></tr><tr><th>4</th><td>1</td><td>2</td><td>vehicular</td><td>0</td><td>0</td><td>0</td><td>0</td></tr><tr><th>5</th><td>0</td><td>3</td><td>vehicular</td><td>0</td><td>0</td><td>0</td><td>0</td></tr><tr><th>6</th><td>0</td><td>4</td><td>vehicular</td><td>1</td><td>0</td><td>0</td><td>0</td></tr><tr><th>7</th><td>1</td><td>7</td><td>vehicular</td><td>0</td><td>0</td><td>0</td><td>0</td></tr><tr><th>8</th><td>0</td><td>2</td><td>vehicular</td><td>0</td><td>0</td><td>0</td><td>0</td></tr><tr><th>9</th><td>1</td><td>6</td><td>vehicular</td><td>1</td><td>0</td><td>0</td><td>0</td></tr><tr><th>10</th><td>1</td><td>3</td><td>vehicular</td><td>0</td><td>0</td><td>0</td><td>0</td></tr><tr><th>11</th><td>1</td><td>3</td><td>vehicular</td><td>0</td><td>0</td><td>0</td><td>0</td></tr><tr><th>12</th><td>0</td><td>6</td><td>vehicular</td><td>0</td><td>1</td><td>1</td><td>0</td></tr><tr><th>13</th><td>1</td><td>7</td><td>vehicular</td><td>0</td><td>0</td><td>0</td><td>0</td></tr><tr><th>14</th><td>1</td><td>4</td><td>vehicular</td><td>0</td><td>0</td><td>0</td><td>0</td></tr><tr><th>15</th><td>1</td><td>6</td><td>vehicular</td><td>0</td><td>0</td><td>0</td><td>0</td></tr><tr><th>16</th><td>1</td><td>2</td><td>pedestrian</td><td>0</td><td>0</td><td>0</td><td>0</td></tr><tr><th>17</th><td>1</td><td>6</td><td>pedestrian</td><td>0</td><td>0</td><td>0</td><td>0</td></tr><tr><th>18</th><td>1</td><td>7</td><td>vehicular</td><td>0</td><td>0</td><td>0</td><td>0</td></tr><tr><th>19</th><td>1</td><td>1</td><td>vehicular</td><td>0</td><td>0</td><td>0</td><td>0</td></tr><tr><th>20</th><td>0</td><td>4</td><td>vehicular</td><td>0</td><td>1</td><td>0</td><td>0</td></tr><tr><th>21</th><td>1</td><td>4</td><td>vehicular</td><td>1</td><td>0</td><td>0</td><td>0</td></tr><tr><th>22</th><td>1</td><td>1</td><td>pedestrian</td><td>1</td><td>0</td><td>0</td><td>0</td></tr><tr><th>23</th><td>1</td><td>4</td><td>pedestrian</td><td>0</td><td>0</td><td>0</td><td>0</td></tr><tr><th>24</th><td>1</td><td>2</td><td>pedestrian</td><td>0</td><td>0</td><td>0</td><td>0</td></tr><tr><th>25</th><td>1</td><td>5</td><td>vehicular</td><td>0</td><td>1</td><td>0</td><td>0</td></tr><tr><th>26</th><td>1</td><td>5</td><td>vehicular</td><td>0</td><td>0</td><td>0</td><td>0</td></tr><tr><th>27</th><td>0</td><td>3</td><td>vehicular</td><td>0</td><td>0</td><td>0</td><td>0</td></tr><tr><th>28</th><td>0</td><td>4</td><td>vehicular</td><td>0</td><td>1</td><td>0</td><td>0</td></tr><tr><th>29</th><td>1</td><td>4</td><td>vehicular</td><td>0</td><td>0</td><td>0</td><td>1</td></tr><tr><th>30</th><td>1</td><td>6</td><td>vehicular</td><td>0</td><td>0</td><td>0</td><td>0</td></tr><tr><th>&vellip;</th><td>&vellip;</td><td>&vellip;</td><td>&vellip;</td><td>&vellip;</td><td>&vellip;</td><td>&vellip;</td><td>&vellip;</td></tr></tbody></table></div>"
      ],
      "text/latex": [
       "\\begin{tabular}{r|ccccccc}\n",
       "\t& arrest & day & type & v1 & v2 & v3 & v4\\\\\n",
       "\t\\hline\n",
       "\t& Bool & Int64 & String15? & Bool & Bool & Bool & Bool\\\\\n",
       "\t\\hline\n",
       "\t1 & 1 & 4 & pedestrian & 0 & 0 & 0 & 0 \\\\\n",
       "\t2 & 0 & 7 & vehicular & 0 & 1 & 0 & 0 \\\\\n",
       "\t3 & 1 & 7 & vehicular & 0 & 0 & 0 & 0 \\\\\n",
       "\t4 & 1 & 2 & vehicular & 0 & 0 & 0 & 0 \\\\\n",
       "\t5 & 0 & 3 & vehicular & 0 & 0 & 0 & 0 \\\\\n",
       "\t6 & 0 & 4 & vehicular & 1 & 0 & 0 & 0 \\\\\n",
       "\t7 & 1 & 7 & vehicular & 0 & 0 & 0 & 0 \\\\\n",
       "\t8 & 0 & 2 & vehicular & 0 & 0 & 0 & 0 \\\\\n",
       "\t9 & 1 & 6 & vehicular & 1 & 0 & 0 & 0 \\\\\n",
       "\t10 & 1 & 3 & vehicular & 0 & 0 & 0 & 0 \\\\\n",
       "\t11 & 1 & 3 & vehicular & 0 & 0 & 0 & 0 \\\\\n",
       "\t12 & 0 & 6 & vehicular & 0 & 1 & 1 & 0 \\\\\n",
       "\t13 & 1 & 7 & vehicular & 0 & 0 & 0 & 0 \\\\\n",
       "\t14 & 1 & 4 & vehicular & 0 & 0 & 0 & 0 \\\\\n",
       "\t15 & 1 & 6 & vehicular & 0 & 0 & 0 & 0 \\\\\n",
       "\t16 & 1 & 2 & pedestrian & 0 & 0 & 0 & 0 \\\\\n",
       "\t17 & 1 & 6 & pedestrian & 0 & 0 & 0 & 0 \\\\\n",
       "\t18 & 1 & 7 & vehicular & 0 & 0 & 0 & 0 \\\\\n",
       "\t19 & 1 & 1 & vehicular & 0 & 0 & 0 & 0 \\\\\n",
       "\t20 & 0 & 4 & vehicular & 0 & 1 & 0 & 0 \\\\\n",
       "\t21 & 1 & 4 & vehicular & 1 & 0 & 0 & 0 \\\\\n",
       "\t22 & 1 & 1 & pedestrian & 1 & 0 & 0 & 0 \\\\\n",
       "\t23 & 1 & 4 & pedestrian & 0 & 0 & 0 & 0 \\\\\n",
       "\t24 & 1 & 2 & pedestrian & 0 & 0 & 0 & 0 \\\\\n",
       "\t25 & 1 & 5 & vehicular & 0 & 1 & 0 & 0 \\\\\n",
       "\t26 & 1 & 5 & vehicular & 0 & 0 & 0 & 0 \\\\\n",
       "\t27 & 0 & 3 & vehicular & 0 & 0 & 0 & 0 \\\\\n",
       "\t28 & 0 & 4 & vehicular & 0 & 1 & 0 & 0 \\\\\n",
       "\t29 & 1 & 4 & vehicular & 0 & 0 & 0 & 1 \\\\\n",
       "\t30 & 1 & 6 & vehicular & 0 & 0 & 0 & 0 \\\\\n",
       "\t$\\dots$ & $\\dots$ & $\\dots$ & $\\dots$ & $\\dots$ & $\\dots$ & $\\dots$ & $\\dots$ \\\\\n",
       "\\end{tabular}\n"
      ],
      "text/plain": [
       "\u001b[1m6921×7 DataFrame\u001b[0m\n",
       "\u001b[1m  Row \u001b[0m│\u001b[1m arrest \u001b[0m\u001b[1m day   \u001b[0m\u001b[1m type       \u001b[0m\u001b[1m v1    \u001b[0m\u001b[1m v2    \u001b[0m\u001b[1m v3    \u001b[0m\u001b[1m v4    \u001b[0m\n",
       "\u001b[1m      \u001b[0m│\u001b[90m Bool   \u001b[0m\u001b[90m Int64 \u001b[0m\u001b[90m String15?  \u001b[0m\u001b[90m Bool  \u001b[0m\u001b[90m Bool  \u001b[0m\u001b[90m Bool  \u001b[0m\u001b[90m Bool  \u001b[0m\n",
       "──────┼───────────────────────────────────────────────────────\n",
       "    1 │   true      4  pedestrian  false  false  false  false\n",
       "    2 │  false      7  vehicular   false   true  false  false\n",
       "    3 │   true      7  vehicular   false  false  false  false\n",
       "    4 │   true      2  vehicular   false  false  false  false\n",
       "    5 │  false      3  vehicular   false  false  false  false\n",
       "    6 │  false      4  vehicular    true  false  false  false\n",
       "    7 │   true      7  vehicular   false  false  false  false\n",
       "    8 │  false      2  vehicular   false  false  false  false\n",
       "    9 │   true      6  vehicular    true  false  false  false\n",
       "   10 │   true      3  vehicular   false  false  false  false\n",
       "   11 │   true      3  vehicular   false  false  false  false\n",
       "  ⋮   │   ⋮       ⋮        ⋮         ⋮      ⋮      ⋮      ⋮\n",
       " 6912 │  false      6  vehicular   false   true   true  false\n",
       " 6913 │  false      7  vehicular   false   true   true  false\n",
       " 6914 │   true      7  vehicular   false  false  false  false\n",
       " 6915 │  false      3  vehicular   false  false  false   true\n",
       " 6916 │  false      3  vehicular   false  false  false   true\n",
       " 6917 │  false      3  vehicular    true  false  false   true\n",
       " 6918 │  false      3  vehicular   false  false  false   true\n",
       " 6919 │  false      3  vehicular    true   true  false   true\n",
       " 6920 │  false      3  vehicular   false  false  false   true\n",
       " 6921 │  false      3  vehicular   false  false  false  false\n",
       "\u001b[36m                                             6900 rows omitted\u001b[0m"
      ]
     },
     "execution_count": 52,
     "metadata": {},
     "output_type": "execute_result"
    }
   ],
   "source": [
    "owensboro2 = select(owensboro,\n",
    "    :arrest_made => :arrest,\n",
    "    :date => ByRow(dayofweek) => :day,\n",
    "    :type,\n",
    "    [:violation => ByRow(x -> contains(x, agg_violation.v[i])) => \"v$i\" for i in 1:4])"
   ]
  },
  {
   "cell_type": "code",
   "execution_count": 53,
   "id": "2856ebe6",
   "metadata": {},
   "outputs": [
    {
     "data": {
      "text/plain": [
       "4-element Vector{Pair{Symbol, Pair{ByRow{var\"#18#20\"{Int64}}, String}}}:\n",
       " :violation => (ByRow{var\"#18#20\"{Int64}}(var\"#18#20\"{Int64}(1)) => \"v1\")\n",
       " :violation => (ByRow{var\"#18#20\"{Int64}}(var\"#18#20\"{Int64}(2)) => \"v2\")\n",
       " :violation => (ByRow{var\"#18#20\"{Int64}}(var\"#18#20\"{Int64}(3)) => \"v3\")\n",
       " :violation => (ByRow{var\"#18#20\"{Int64}}(var\"#18#20\"{Int64}(4)) => \"v4\")"
      ]
     },
     "execution_count": 53,
     "metadata": {},
     "output_type": "execute_result"
    }
   ],
   "source": [
    "[:violation => ByRow(x -> contains(x, agg_violation.v[i])) => \"v$i\" for i in 1:4]"
   ]
  },
  {
   "cell_type": "code",
   "execution_count": 54,
   "id": "d7e37e41",
   "metadata": {},
   "outputs": [
    {
     "data": {
      "text/html": [
       "<div class=\"data-frame\"><p>1 rows × 4 columns</p><table class=\"data-frame\"><thead><tr><th></th><th>date_minimum</th><th>date_maximum</th><th>arrest_made_minimum</th><th>arrest_made_maximum</th></tr><tr><th></th><th title=\"Date\">Date</th><th title=\"Date\">Date</th><th title=\"Bool\">Bool</th><th title=\"Bool\">Bool</th></tr></thead><tbody><tr><th>1</th><td>2015-09-01</td><td>2017-09-01</td><td>0</td><td>1</td></tr></tbody></table></div>"
      ],
      "text/latex": [
       "\\begin{tabular}{r|cccc}\n",
       "\t& date\\_minimum & date\\_maximum & arrest\\_made\\_minimum & arrest\\_made\\_maximum\\\\\n",
       "\t\\hline\n",
       "\t& Date & Date & Bool & Bool\\\\\n",
       "\t\\hline\n",
       "\t1 & 2015-09-01 & 2017-09-01 & 0 & 1 \\\\\n",
       "\\end{tabular}\n"
      ],
      "text/plain": [
       "\u001b[1m1×4 DataFrame\u001b[0m\n",
       "\u001b[1m Row \u001b[0m│\u001b[1m date_minimum \u001b[0m\u001b[1m date_maximum \u001b[0m\u001b[1m arrest_made_minimum \u001b[0m\u001b[1m arrest_made_maximum \u001b[0m\n",
       "\u001b[1m     \u001b[0m│\u001b[90m Date         \u001b[0m\u001b[90m Date         \u001b[0m\u001b[90m Bool                \u001b[0m\u001b[90m Bool                \u001b[0m\n",
       "─────┼──────────────────────────────────────────────────────────────────────\n",
       "   1 │ 2015-09-01    2017-09-01                  false                 true"
      ]
     },
     "execution_count": 54,
     "metadata": {},
     "output_type": "execute_result"
    }
   ],
   "source": [
    "combine(owensboro, [:date :arrest_made] .=> [minimum, maximum])"
   ]
  },
  {
   "cell_type": "code",
   "execution_count": 55,
   "id": "aa365f08",
   "metadata": {},
   "outputs": [
    {
     "data": {
      "text/plain": [
       "2×2 Matrix{Pair{Symbol}}:\n",
       " :date=>minimum  :arrest_made=>minimum\n",
       " :date=>maximum  :arrest_made=>maximum"
      ]
     },
     "execution_count": 55,
     "metadata": {},
     "output_type": "execute_result"
    }
   ],
   "source": [
    "[:date :arrest_made] .=> [minimum, maximum]"
   ]
  },
  {
   "cell_type": "markdown",
   "id": "60fb1d47",
   "metadata": {},
   "source": [
    "### Working with categorical data"
   ]
  },
  {
   "cell_type": "code",
   "execution_count": 56,
   "id": "d0dc0e3d",
   "metadata": {},
   "outputs": [
    {
     "data": {
      "text/html": [
       "<div class=\"data-frame\"><p>7 rows × 2 columns</p><table class=\"data-frame\"><thead><tr><th></th><th>day</th><th>dayname</th></tr><tr><th></th><th title=\"Int64\">Int64</th><th title=\"CategoricalValue{String, UInt32}\">Cat…</th></tr></thead><tbody><tr><th>1</th><td>1</td><td>Monday</td></tr><tr><th>2</th><td>2</td><td>Tuesday</td></tr><tr><th>3</th><td>3</td><td>Wednesday</td></tr><tr><th>4</th><td>4</td><td>Thursday</td></tr><tr><th>5</th><td>5</td><td>Friday</td></tr><tr><th>6</th><td>6</td><td>Saturday</td></tr><tr><th>7</th><td>7</td><td>Sunday</td></tr></tbody></table></div>"
      ],
      "text/latex": [
       "\\begin{tabular}{r|cc}\n",
       "\t& day & dayname\\\\\n",
       "\t\\hline\n",
       "\t& Int64 & Cat…\\\\\n",
       "\t\\hline\n",
       "\t1 & 1 & Monday \\\\\n",
       "\t2 & 2 & Tuesday \\\\\n",
       "\t3 & 3 & Wednesday \\\\\n",
       "\t4 & 4 & Thursday \\\\\n",
       "\t5 & 5 & Friday \\\\\n",
       "\t6 & 6 & Saturday \\\\\n",
       "\t7 & 7 & Sunday \\\\\n",
       "\\end{tabular}\n"
      ],
      "text/plain": [
       "\u001b[1m7×2 DataFrame\u001b[0m\n",
       "\u001b[1m Row \u001b[0m│\u001b[1m day   \u001b[0m\u001b[1m dayname   \u001b[0m\n",
       "\u001b[1m     \u001b[0m│\u001b[90m Int64 \u001b[0m\u001b[90m Cat…      \u001b[0m\n",
       "─────┼──────────────────\n",
       "   1 │     1  Monday\n",
       "   2 │     2  Tuesday\n",
       "   3 │     3  Wednesday\n",
       "   4 │     4  Thursday\n",
       "   5 │     5  Friday\n",
       "   6 │     6  Saturday\n",
       "   7 │     7  Sunday"
      ]
     },
     "execution_count": 56,
     "metadata": {},
     "output_type": "execute_result"
    }
   ],
   "source": [
    "weekdays = DataFrame(day=1:7,\n",
    "dayname=categorical(dayname.(1:7);\n",
    "ordered=true))"
   ]
  },
  {
   "cell_type": "code",
   "execution_count": 57,
   "id": "265806ee",
   "metadata": {},
   "outputs": [
    {
     "data": {
      "text/plain": [
       "true"
      ]
     },
     "execution_count": 57,
     "metadata": {},
     "output_type": "execute_result"
    }
   ],
   "source": [
    "isordered(weekdays.dayname)"
   ]
  },
  {
   "cell_type": "code",
   "execution_count": 58,
   "id": "7bc1223b",
   "metadata": {},
   "outputs": [
    {
     "data": {
      "text/plain": [
       "7-element Vector{String}:\n",
       " \"Friday\"\n",
       " \"Monday\"\n",
       " \"Saturday\"\n",
       " \"Sunday\"\n",
       " \"Thursday\"\n",
       " \"Tuesday\"\n",
       " \"Wednesday\""
      ]
     },
     "execution_count": 58,
     "metadata": {},
     "output_type": "execute_result"
    }
   ],
   "source": [
    "levels(weekdays.dayname)"
   ]
  },
  {
   "cell_type": "code",
   "execution_count": 59,
   "id": "ea62e3c7",
   "metadata": {},
   "outputs": [
    {
     "data": {
      "text/plain": [
       "7-element CategoricalArray{String,1,UInt32}:\n",
       " \"Monday\"\n",
       " \"Tuesday\"\n",
       " \"Wednesday\"\n",
       " \"Thursday\"\n",
       " \"Friday\"\n",
       " \"Saturday\"\n",
       " \"Sunday\""
      ]
     },
     "execution_count": 59,
     "metadata": {},
     "output_type": "execute_result"
    }
   ],
   "source": [
    "levels!(weekdays.dayname, weekdays.dayname)"
   ]
  },
  {
   "cell_type": "markdown",
   "id": "bd0cbf9d",
   "metadata": {},
   "source": [
    "### Joining data frames"
   ]
  },
  {
   "cell_type": "code",
   "execution_count": 60,
   "id": "4d5c3b13",
   "metadata": {
    "scrolled": true
   },
   "outputs": [
    {
     "data": {
      "text/html": [
       "<div class=\"data-frame\"><p>6,921 rows × 8 columns</p><table class=\"data-frame\"><thead><tr><th></th><th>arrest</th><th>day</th><th>type</th><th>v1</th><th>v2</th><th>v3</th><th>v4</th><th>dayname</th></tr><tr><th></th><th title=\"Bool\">Bool</th><th title=\"Int64\">Int64</th><th title=\"Union{Missing, String15}\">String15?</th><th title=\"Bool\">Bool</th><th title=\"Bool\">Bool</th><th title=\"Bool\">Bool</th><th title=\"Bool\">Bool</th><th title=\"Union{Missing, CategoricalValue{String, UInt32}}\">Cat…?</th></tr></thead><tbody><tr><th>1</th><td>1</td><td>4</td><td>pedestrian</td><td>0</td><td>0</td><td>0</td><td>0</td><td>Thursday</td></tr><tr><th>2</th><td>0</td><td>7</td><td>vehicular</td><td>0</td><td>1</td><td>0</td><td>0</td><td>Sunday</td></tr><tr><th>3</th><td>1</td><td>7</td><td>vehicular</td><td>0</td><td>0</td><td>0</td><td>0</td><td>Sunday</td></tr><tr><th>4</th><td>1</td><td>2</td><td>vehicular</td><td>0</td><td>0</td><td>0</td><td>0</td><td>Tuesday</td></tr><tr><th>5</th><td>0</td><td>3</td><td>vehicular</td><td>0</td><td>0</td><td>0</td><td>0</td><td>Wednesday</td></tr><tr><th>6</th><td>0</td><td>4</td><td>vehicular</td><td>1</td><td>0</td><td>0</td><td>0</td><td>Thursday</td></tr><tr><th>7</th><td>1</td><td>7</td><td>vehicular</td><td>0</td><td>0</td><td>0</td><td>0</td><td>Sunday</td></tr><tr><th>8</th><td>0</td><td>2</td><td>vehicular</td><td>0</td><td>0</td><td>0</td><td>0</td><td>Tuesday</td></tr><tr><th>9</th><td>1</td><td>6</td><td>vehicular</td><td>1</td><td>0</td><td>0</td><td>0</td><td>Saturday</td></tr><tr><th>10</th><td>1</td><td>3</td><td>vehicular</td><td>0</td><td>0</td><td>0</td><td>0</td><td>Wednesday</td></tr><tr><th>11</th><td>1</td><td>3</td><td>vehicular</td><td>0</td><td>0</td><td>0</td><td>0</td><td>Wednesday</td></tr><tr><th>12</th><td>0</td><td>6</td><td>vehicular</td><td>0</td><td>1</td><td>1</td><td>0</td><td>Saturday</td></tr><tr><th>13</th><td>1</td><td>7</td><td>vehicular</td><td>0</td><td>0</td><td>0</td><td>0</td><td>Sunday</td></tr><tr><th>14</th><td>1</td><td>4</td><td>vehicular</td><td>0</td><td>0</td><td>0</td><td>0</td><td>Thursday</td></tr><tr><th>15</th><td>1</td><td>6</td><td>vehicular</td><td>0</td><td>0</td><td>0</td><td>0</td><td>Saturday</td></tr><tr><th>16</th><td>1</td><td>2</td><td>pedestrian</td><td>0</td><td>0</td><td>0</td><td>0</td><td>Tuesday</td></tr><tr><th>17</th><td>1</td><td>6</td><td>pedestrian</td><td>0</td><td>0</td><td>0</td><td>0</td><td>Saturday</td></tr><tr><th>18</th><td>1</td><td>7</td><td>vehicular</td><td>0</td><td>0</td><td>0</td><td>0</td><td>Sunday</td></tr><tr><th>19</th><td>1</td><td>1</td><td>vehicular</td><td>0</td><td>0</td><td>0</td><td>0</td><td>Monday</td></tr><tr><th>20</th><td>0</td><td>4</td><td>vehicular</td><td>0</td><td>1</td><td>0</td><td>0</td><td>Thursday</td></tr><tr><th>21</th><td>1</td><td>4</td><td>vehicular</td><td>1</td><td>0</td><td>0</td><td>0</td><td>Thursday</td></tr><tr><th>22</th><td>1</td><td>1</td><td>pedestrian</td><td>1</td><td>0</td><td>0</td><td>0</td><td>Monday</td></tr><tr><th>23</th><td>1</td><td>4</td><td>pedestrian</td><td>0</td><td>0</td><td>0</td><td>0</td><td>Thursday</td></tr><tr><th>24</th><td>1</td><td>2</td><td>pedestrian</td><td>0</td><td>0</td><td>0</td><td>0</td><td>Tuesday</td></tr><tr><th>25</th><td>1</td><td>5</td><td>vehicular</td><td>0</td><td>1</td><td>0</td><td>0</td><td>Friday</td></tr><tr><th>26</th><td>1</td><td>5</td><td>vehicular</td><td>0</td><td>0</td><td>0</td><td>0</td><td>Friday</td></tr><tr><th>27</th><td>0</td><td>3</td><td>vehicular</td><td>0</td><td>0</td><td>0</td><td>0</td><td>Wednesday</td></tr><tr><th>28</th><td>0</td><td>4</td><td>vehicular</td><td>0</td><td>1</td><td>0</td><td>0</td><td>Thursday</td></tr><tr><th>29</th><td>1</td><td>4</td><td>vehicular</td><td>0</td><td>0</td><td>0</td><td>1</td><td>Thursday</td></tr><tr><th>30</th><td>1</td><td>6</td><td>vehicular</td><td>0</td><td>0</td><td>0</td><td>0</td><td>Saturday</td></tr><tr><th>&vellip;</th><td>&vellip;</td><td>&vellip;</td><td>&vellip;</td><td>&vellip;</td><td>&vellip;</td><td>&vellip;</td><td>&vellip;</td><td>&vellip;</td></tr></tbody></table></div>"
      ],
      "text/latex": [
       "\\begin{tabular}{r|cccccccc}\n",
       "\t& arrest & day & type & v1 & v2 & v3 & v4 & dayname\\\\\n",
       "\t\\hline\n",
       "\t& Bool & Int64 & String15? & Bool & Bool & Bool & Bool & Cat…?\\\\\n",
       "\t\\hline\n",
       "\t1 & 1 & 4 & pedestrian & 0 & 0 & 0 & 0 & Thursday \\\\\n",
       "\t2 & 0 & 7 & vehicular & 0 & 1 & 0 & 0 & Sunday \\\\\n",
       "\t3 & 1 & 7 & vehicular & 0 & 0 & 0 & 0 & Sunday \\\\\n",
       "\t4 & 1 & 2 & vehicular & 0 & 0 & 0 & 0 & Tuesday \\\\\n",
       "\t5 & 0 & 3 & vehicular & 0 & 0 & 0 & 0 & Wednesday \\\\\n",
       "\t6 & 0 & 4 & vehicular & 1 & 0 & 0 & 0 & Thursday \\\\\n",
       "\t7 & 1 & 7 & vehicular & 0 & 0 & 0 & 0 & Sunday \\\\\n",
       "\t8 & 0 & 2 & vehicular & 0 & 0 & 0 & 0 & Tuesday \\\\\n",
       "\t9 & 1 & 6 & vehicular & 1 & 0 & 0 & 0 & Saturday \\\\\n",
       "\t10 & 1 & 3 & vehicular & 0 & 0 & 0 & 0 & Wednesday \\\\\n",
       "\t11 & 1 & 3 & vehicular & 0 & 0 & 0 & 0 & Wednesday \\\\\n",
       "\t12 & 0 & 6 & vehicular & 0 & 1 & 1 & 0 & Saturday \\\\\n",
       "\t13 & 1 & 7 & vehicular & 0 & 0 & 0 & 0 & Sunday \\\\\n",
       "\t14 & 1 & 4 & vehicular & 0 & 0 & 0 & 0 & Thursday \\\\\n",
       "\t15 & 1 & 6 & vehicular & 0 & 0 & 0 & 0 & Saturday \\\\\n",
       "\t16 & 1 & 2 & pedestrian & 0 & 0 & 0 & 0 & Tuesday \\\\\n",
       "\t17 & 1 & 6 & pedestrian & 0 & 0 & 0 & 0 & Saturday \\\\\n",
       "\t18 & 1 & 7 & vehicular & 0 & 0 & 0 & 0 & Sunday \\\\\n",
       "\t19 & 1 & 1 & vehicular & 0 & 0 & 0 & 0 & Monday \\\\\n",
       "\t20 & 0 & 4 & vehicular & 0 & 1 & 0 & 0 & Thursday \\\\\n",
       "\t21 & 1 & 4 & vehicular & 1 & 0 & 0 & 0 & Thursday \\\\\n",
       "\t22 & 1 & 1 & pedestrian & 1 & 0 & 0 & 0 & Monday \\\\\n",
       "\t23 & 1 & 4 & pedestrian & 0 & 0 & 0 & 0 & Thursday \\\\\n",
       "\t24 & 1 & 2 & pedestrian & 0 & 0 & 0 & 0 & Tuesday \\\\\n",
       "\t25 & 1 & 5 & vehicular & 0 & 1 & 0 & 0 & Friday \\\\\n",
       "\t26 & 1 & 5 & vehicular & 0 & 0 & 0 & 0 & Friday \\\\\n",
       "\t27 & 0 & 3 & vehicular & 0 & 0 & 0 & 0 & Wednesday \\\\\n",
       "\t28 & 0 & 4 & vehicular & 0 & 1 & 0 & 0 & Thursday \\\\\n",
       "\t29 & 1 & 4 & vehicular & 0 & 0 & 0 & 1 & Thursday \\\\\n",
       "\t30 & 1 & 6 & vehicular & 0 & 0 & 0 & 0 & Saturday \\\\\n",
       "\t$\\dots$ & $\\dots$ & $\\dots$ & $\\dots$ & $\\dots$ & $\\dots$ & $\\dots$ & $\\dots$ & $\\dots$ \\\\\n",
       "\\end{tabular}\n"
      ],
      "text/plain": [
       "\u001b[1m6921×8 DataFrame\u001b[0m\n",
       "\u001b[1m  Row \u001b[0m│\u001b[1m arrest \u001b[0m\u001b[1m day   \u001b[0m\u001b[1m type       \u001b[0m\u001b[1m v1    \u001b[0m\u001b[1m v2    \u001b[0m\u001b[1m v3    \u001b[0m\u001b[1m v4    \u001b[0m\u001b[1m dayname   \u001b[0m\n",
       "\u001b[1m      \u001b[0m│\u001b[90m Bool   \u001b[0m\u001b[90m Int64 \u001b[0m\u001b[90m String15?  \u001b[0m\u001b[90m Bool  \u001b[0m\u001b[90m Bool  \u001b[0m\u001b[90m Bool  \u001b[0m\u001b[90m Bool  \u001b[0m\u001b[90m Cat…?     \u001b[0m\n",
       "──────┼──────────────────────────────────────────────────────────────────\n",
       "    1 │   true      4  pedestrian  false  false  false  false  Thursday\n",
       "    2 │  false      7  vehicular   false   true  false  false  Sunday\n",
       "    3 │   true      7  vehicular   false  false  false  false  Sunday\n",
       "    4 │   true      2  vehicular   false  false  false  false  Tuesday\n",
       "    5 │  false      3  vehicular   false  false  false  false  Wednesday\n",
       "    6 │  false      4  vehicular    true  false  false  false  Thursday\n",
       "    7 │   true      7  vehicular   false  false  false  false  Sunday\n",
       "    8 │  false      2  vehicular   false  false  false  false  Tuesday\n",
       "    9 │   true      6  vehicular    true  false  false  false  Saturday\n",
       "   10 │   true      3  vehicular   false  false  false  false  Wednesday\n",
       "   11 │   true      3  vehicular   false  false  false  false  Wednesday\n",
       "  ⋮   │   ⋮       ⋮        ⋮         ⋮      ⋮      ⋮      ⋮        ⋮\n",
       " 6912 │  false      6  vehicular   false   true   true  false  Saturday\n",
       " 6913 │  false      7  vehicular   false   true   true  false  Sunday\n",
       " 6914 │   true      7  vehicular   false  false  false  false  Sunday\n",
       " 6915 │  false      3  vehicular   false  false  false   true  Wednesday\n",
       " 6916 │  false      3  vehicular   false  false  false   true  Wednesday\n",
       " 6917 │  false      3  vehicular    true  false  false   true  Wednesday\n",
       " 6918 │  false      3  vehicular   false  false  false   true  Wednesday\n",
       " 6919 │  false      3  vehicular    true   true  false   true  Wednesday\n",
       " 6920 │  false      3  vehicular   false  false  false   true  Wednesday\n",
       " 6921 │  false      3  vehicular   false  false  false  false  Wednesday\n",
       "\u001b[36m                                                        6900 rows omitted\u001b[0m"
      ]
     },
     "execution_count": 60,
     "metadata": {},
     "output_type": "execute_result"
    }
   ],
   "source": [
    "leftjoin!(owensboro2, weekdays; on=:day)"
   ]
  },
  {
   "cell_type": "markdown",
   "id": "f79d7fe7",
   "metadata": {},
   "source": [
    "### Reshaping data frames"
   ]
  },
  {
   "cell_type": "code",
   "execution_count": 61,
   "id": "83c5c838",
   "metadata": {},
   "outputs": [
    {
     "data": {
      "text/html": [
       "<div class=\"data-frame\"><p>7 rows × 3 columns</p><table class=\"data-frame\"><thead><tr><th></th><th>day</th><th>dayname</th><th>nrow</th></tr><tr><th></th><th title=\"Int64\">Int64</th><th title=\"Union{Missing, CategoricalValue{String, UInt32}}\">Cat…?</th><th title=\"Int64\">Int64</th></tr></thead><tbody><tr><th>1</th><td>1</td><td>Monday</td><td>913</td></tr><tr><th>2</th><td>2</td><td>Tuesday</td><td>1040</td></tr><tr><th>3</th><td>3</td><td>Wednesday</td><td>1197</td></tr><tr><th>4</th><td>4</td><td>Thursday</td><td>1104</td></tr><tr><th>5</th><td>5</td><td>Friday</td><td>1160</td></tr><tr><th>6</th><td>6</td><td>Saturday</td><td>850</td></tr><tr><th>7</th><td>7</td><td>Sunday</td><td>657</td></tr></tbody></table></div>"
      ],
      "text/latex": [
       "\\begin{tabular}{r|ccc}\n",
       "\t& day & dayname & nrow\\\\\n",
       "\t\\hline\n",
       "\t& Int64 & Cat…? & Int64\\\\\n",
       "\t\\hline\n",
       "\t1 & 1 & Monday & 913 \\\\\n",
       "\t2 & 2 & Tuesday & 1040 \\\\\n",
       "\t3 & 3 & Wednesday & 1197 \\\\\n",
       "\t4 & 4 & Thursday & 1104 \\\\\n",
       "\t5 & 5 & Friday & 1160 \\\\\n",
       "\t6 & 6 & Saturday & 850 \\\\\n",
       "\t7 & 7 & Sunday & 657 \\\\\n",
       "\\end{tabular}\n"
      ],
      "text/plain": [
       "\u001b[1m7×3 DataFrame\u001b[0m\n",
       "\u001b[1m Row \u001b[0m│\u001b[1m day   \u001b[0m\u001b[1m dayname   \u001b[0m\u001b[1m nrow  \u001b[0m\n",
       "\u001b[1m     \u001b[0m│\u001b[90m Int64 \u001b[0m\u001b[90m Cat…?     \u001b[0m\u001b[90m Int64 \u001b[0m\n",
       "─────┼─────────────────────────\n",
       "   1 │     1  Monday       913\n",
       "   2 │     2  Tuesday     1040\n",
       "   3 │     3  Wednesday   1197\n",
       "   4 │     4  Thursday    1104\n",
       "   5 │     5  Friday      1160\n",
       "   6 │     6  Saturday     850\n",
       "   7 │     7  Sunday       657"
      ]
     },
     "execution_count": 61,
     "metadata": {},
     "output_type": "execute_result"
    }
   ],
   "source": [
    "@chain owensboro2 begin\n",
    "    groupby([:day, :dayname]; sort=true)\n",
    "    combine(nrow)\n",
    "end"
   ]
  },
  {
   "cell_type": "code",
   "execution_count": 62,
   "id": "5d528dd4",
   "metadata": {},
   "outputs": [
    {
     "data": {
      "text/plain": [
       "7×7 Named Matrix{Int64}\n",
       "dayname ╲ day │    1     2     3     4     5     6     7\n",
       "──────────────┼─────────────────────────────────────────\n",
       "\"Monday\"      │  913     0     0     0     0     0     0\n",
       "\"Tuesday\"     │    0  1040     0     0     0     0     0\n",
       "\"Wednesday\"   │    0     0  1197     0     0     0     0\n",
       "\"Thursday\"    │    0     0     0  1104     0     0     0\n",
       "\"Friday\"      │    0     0     0     0  1160     0     0\n",
       "\"Saturday\"    │    0     0     0     0     0   850     0\n",
       "\"Sunday\"      │    0     0     0     0     0     0   657"
      ]
     },
     "execution_count": 62,
     "metadata": {},
     "output_type": "execute_result"
    }
   ],
   "source": [
    "freqtable(owensboro2, :dayname, :day)"
   ]
  },
  {
   "cell_type": "code",
   "execution_count": 63,
   "id": "d491ada6",
   "metadata": {},
   "outputs": [
    {
     "data": {
      "text/html": [
       "<div class=\"data-frame\"><p>7 rows × 8 columns</p><table class=\"data-frame\"><thead><tr><th></th><th>dayname</th><th>1</th><th>2</th><th>3</th><th>4</th><th>5</th><th>6</th><th>7</th></tr><tr><th></th><th title=\"Union{Missing, CategoricalValue{String, UInt32}}\">Cat…?</th><th title=\"Int64\">Int64</th><th title=\"Int64\">Int64</th><th title=\"Int64\">Int64</th><th title=\"Int64\">Int64</th><th title=\"Int64\">Int64</th><th title=\"Int64\">Int64</th><th title=\"Int64\">Int64</th></tr></thead><tbody><tr><th>1</th><td>Monday</td><td>913</td><td>0</td><td>0</td><td>0</td><td>0</td><td>0</td><td>0</td></tr><tr><th>2</th><td>Tuesday</td><td>0</td><td>1040</td><td>0</td><td>0</td><td>0</td><td>0</td><td>0</td></tr><tr><th>3</th><td>Wednesday</td><td>0</td><td>0</td><td>1197</td><td>0</td><td>0</td><td>0</td><td>0</td></tr><tr><th>4</th><td>Thursday</td><td>0</td><td>0</td><td>0</td><td>1104</td><td>0</td><td>0</td><td>0</td></tr><tr><th>5</th><td>Friday</td><td>0</td><td>0</td><td>0</td><td>0</td><td>1160</td><td>0</td><td>0</td></tr><tr><th>6</th><td>Saturday</td><td>0</td><td>0</td><td>0</td><td>0</td><td>0</td><td>850</td><td>0</td></tr><tr><th>7</th><td>Sunday</td><td>0</td><td>0</td><td>0</td><td>0</td><td>0</td><td>0</td><td>657</td></tr></tbody></table></div>"
      ],
      "text/latex": [
       "\\begin{tabular}{r|cccccccc}\n",
       "\t& dayname & 1 & 2 & 3 & 4 & 5 & 6 & 7\\\\\n",
       "\t\\hline\n",
       "\t& Cat…? & Int64 & Int64 & Int64 & Int64 & Int64 & Int64 & Int64\\\\\n",
       "\t\\hline\n",
       "\t1 & Monday & 913 & 0 & 0 & 0 & 0 & 0 & 0 \\\\\n",
       "\t2 & Tuesday & 0 & 1040 & 0 & 0 & 0 & 0 & 0 \\\\\n",
       "\t3 & Wednesday & 0 & 0 & 1197 & 0 & 0 & 0 & 0 \\\\\n",
       "\t4 & Thursday & 0 & 0 & 0 & 1104 & 0 & 0 & 0 \\\\\n",
       "\t5 & Friday & 0 & 0 & 0 & 0 & 1160 & 0 & 0 \\\\\n",
       "\t6 & Saturday & 0 & 0 & 0 & 0 & 0 & 850 & 0 \\\\\n",
       "\t7 & Sunday & 0 & 0 & 0 & 0 & 0 & 0 & 657 \\\\\n",
       "\\end{tabular}\n"
      ],
      "text/plain": [
       "\u001b[1m7×8 DataFrame\u001b[0m\n",
       "\u001b[1m Row \u001b[0m│\u001b[1m dayname   \u001b[0m\u001b[1m 1     \u001b[0m\u001b[1m 2     \u001b[0m\u001b[1m 3     \u001b[0m\u001b[1m 4     \u001b[0m\u001b[1m 5     \u001b[0m\u001b[1m 6     \u001b[0m\u001b[1m 7     \u001b[0m\n",
       "\u001b[1m     \u001b[0m│\u001b[90m Cat…?     \u001b[0m\u001b[90m Int64 \u001b[0m\u001b[90m Int64 \u001b[0m\u001b[90m Int64 \u001b[0m\u001b[90m Int64 \u001b[0m\u001b[90m Int64 \u001b[0m\u001b[90m Int64 \u001b[0m\u001b[90m Int64 \u001b[0m\n",
       "─────┼────────────────────────────────────────────────────────────\n",
       "   1 │ Monday       913      0      0      0      0      0      0\n",
       "   2 │ Tuesday        0   1040      0      0      0      0      0\n",
       "   3 │ Wednesday      0      0   1197      0      0      0      0\n",
       "   4 │ Thursday       0      0      0   1104      0      0      0\n",
       "   5 │ Friday         0      0      0      0   1160      0      0\n",
       "   6 │ Saturday       0      0      0      0      0    850      0\n",
       "   7 │ Sunday         0      0      0      0      0      0    657"
      ]
     },
     "execution_count": 63,
     "metadata": {},
     "output_type": "execute_result"
    }
   ],
   "source": [
    "@chain owensboro2 begin\n",
    "    groupby([:day, :dayname]; sort=true)\n",
    "    combine(nrow)\n",
    "    unstack(:dayname, :day, :nrow; fill=0)\n",
    "end"
   ]
  },
  {
   "cell_type": "markdown",
   "id": "5a02ed97",
   "metadata": {},
   "source": [
    "### Dropping rows of a data frame that hold missing values"
   ]
  },
  {
   "cell_type": "code",
   "execution_count": 64,
   "id": "d4873776",
   "metadata": {},
   "outputs": [
    {
     "data": {
      "text/html": [
       "<div class=\"data-frame\"><p>6,879 rows × 8 columns</p><table class=\"data-frame\"><thead><tr><th></th><th>arrest</th><th>day</th><th>type</th><th>v1</th><th>v2</th><th>v3</th><th>v4</th><th>dayname</th></tr><tr><th></th><th title=\"Bool\">Bool</th><th title=\"Int64\">Int64</th><th title=\"String15\">String15</th><th title=\"Bool\">Bool</th><th title=\"Bool\">Bool</th><th title=\"Bool\">Bool</th><th title=\"Bool\">Bool</th><th title=\"CategoricalValue{String, UInt32}\">Cat…</th></tr></thead><tbody><tr><th>1</th><td>1</td><td>4</td><td>pedestrian</td><td>0</td><td>0</td><td>0</td><td>0</td><td>Thursday</td></tr><tr><th>2</th><td>0</td><td>7</td><td>vehicular</td><td>0</td><td>1</td><td>0</td><td>0</td><td>Sunday</td></tr><tr><th>3</th><td>1</td><td>7</td><td>vehicular</td><td>0</td><td>0</td><td>0</td><td>0</td><td>Sunday</td></tr><tr><th>4</th><td>1</td><td>2</td><td>vehicular</td><td>0</td><td>0</td><td>0</td><td>0</td><td>Tuesday</td></tr><tr><th>5</th><td>0</td><td>3</td><td>vehicular</td><td>0</td><td>0</td><td>0</td><td>0</td><td>Wednesday</td></tr><tr><th>6</th><td>0</td><td>4</td><td>vehicular</td><td>1</td><td>0</td><td>0</td><td>0</td><td>Thursday</td></tr><tr><th>7</th><td>1</td><td>7</td><td>vehicular</td><td>0</td><td>0</td><td>0</td><td>0</td><td>Sunday</td></tr><tr><th>8</th><td>0</td><td>2</td><td>vehicular</td><td>0</td><td>0</td><td>0</td><td>0</td><td>Tuesday</td></tr><tr><th>9</th><td>1</td><td>6</td><td>vehicular</td><td>1</td><td>0</td><td>0</td><td>0</td><td>Saturday</td></tr><tr><th>10</th><td>1</td><td>3</td><td>vehicular</td><td>0</td><td>0</td><td>0</td><td>0</td><td>Wednesday</td></tr><tr><th>11</th><td>1</td><td>3</td><td>vehicular</td><td>0</td><td>0</td><td>0</td><td>0</td><td>Wednesday</td></tr><tr><th>12</th><td>0</td><td>6</td><td>vehicular</td><td>0</td><td>1</td><td>1</td><td>0</td><td>Saturday</td></tr><tr><th>13</th><td>1</td><td>7</td><td>vehicular</td><td>0</td><td>0</td><td>0</td><td>0</td><td>Sunday</td></tr><tr><th>14</th><td>1</td><td>4</td><td>vehicular</td><td>0</td><td>0</td><td>0</td><td>0</td><td>Thursday</td></tr><tr><th>15</th><td>1</td><td>6</td><td>vehicular</td><td>0</td><td>0</td><td>0</td><td>0</td><td>Saturday</td></tr><tr><th>16</th><td>1</td><td>2</td><td>pedestrian</td><td>0</td><td>0</td><td>0</td><td>0</td><td>Tuesday</td></tr><tr><th>17</th><td>1</td><td>6</td><td>pedestrian</td><td>0</td><td>0</td><td>0</td><td>0</td><td>Saturday</td></tr><tr><th>18</th><td>1</td><td>7</td><td>vehicular</td><td>0</td><td>0</td><td>0</td><td>0</td><td>Sunday</td></tr><tr><th>19</th><td>1</td><td>1</td><td>vehicular</td><td>0</td><td>0</td><td>0</td><td>0</td><td>Monday</td></tr><tr><th>20</th><td>0</td><td>4</td><td>vehicular</td><td>0</td><td>1</td><td>0</td><td>0</td><td>Thursday</td></tr><tr><th>21</th><td>1</td><td>4</td><td>vehicular</td><td>1</td><td>0</td><td>0</td><td>0</td><td>Thursday</td></tr><tr><th>22</th><td>1</td><td>1</td><td>pedestrian</td><td>1</td><td>0</td><td>0</td><td>0</td><td>Monday</td></tr><tr><th>23</th><td>1</td><td>4</td><td>pedestrian</td><td>0</td><td>0</td><td>0</td><td>0</td><td>Thursday</td></tr><tr><th>24</th><td>1</td><td>2</td><td>pedestrian</td><td>0</td><td>0</td><td>0</td><td>0</td><td>Tuesday</td></tr><tr><th>25</th><td>1</td><td>5</td><td>vehicular</td><td>0</td><td>1</td><td>0</td><td>0</td><td>Friday</td></tr><tr><th>26</th><td>1</td><td>5</td><td>vehicular</td><td>0</td><td>0</td><td>0</td><td>0</td><td>Friday</td></tr><tr><th>27</th><td>0</td><td>3</td><td>vehicular</td><td>0</td><td>0</td><td>0</td><td>0</td><td>Wednesday</td></tr><tr><th>28</th><td>0</td><td>4</td><td>vehicular</td><td>0</td><td>1</td><td>0</td><td>0</td><td>Thursday</td></tr><tr><th>29</th><td>1</td><td>4</td><td>vehicular</td><td>0</td><td>0</td><td>0</td><td>1</td><td>Thursday</td></tr><tr><th>30</th><td>1</td><td>6</td><td>vehicular</td><td>0</td><td>0</td><td>0</td><td>0</td><td>Saturday</td></tr><tr><th>&vellip;</th><td>&vellip;</td><td>&vellip;</td><td>&vellip;</td><td>&vellip;</td><td>&vellip;</td><td>&vellip;</td><td>&vellip;</td><td>&vellip;</td></tr></tbody></table></div>"
      ],
      "text/latex": [
       "\\begin{tabular}{r|cccccccc}\n",
       "\t& arrest & day & type & v1 & v2 & v3 & v4 & dayname\\\\\n",
       "\t\\hline\n",
       "\t& Bool & Int64 & String15 & Bool & Bool & Bool & Bool & Cat…\\\\\n",
       "\t\\hline\n",
       "\t1 & 1 & 4 & pedestrian & 0 & 0 & 0 & 0 & Thursday \\\\\n",
       "\t2 & 0 & 7 & vehicular & 0 & 1 & 0 & 0 & Sunday \\\\\n",
       "\t3 & 1 & 7 & vehicular & 0 & 0 & 0 & 0 & Sunday \\\\\n",
       "\t4 & 1 & 2 & vehicular & 0 & 0 & 0 & 0 & Tuesday \\\\\n",
       "\t5 & 0 & 3 & vehicular & 0 & 0 & 0 & 0 & Wednesday \\\\\n",
       "\t6 & 0 & 4 & vehicular & 1 & 0 & 0 & 0 & Thursday \\\\\n",
       "\t7 & 1 & 7 & vehicular & 0 & 0 & 0 & 0 & Sunday \\\\\n",
       "\t8 & 0 & 2 & vehicular & 0 & 0 & 0 & 0 & Tuesday \\\\\n",
       "\t9 & 1 & 6 & vehicular & 1 & 0 & 0 & 0 & Saturday \\\\\n",
       "\t10 & 1 & 3 & vehicular & 0 & 0 & 0 & 0 & Wednesday \\\\\n",
       "\t11 & 1 & 3 & vehicular & 0 & 0 & 0 & 0 & Wednesday \\\\\n",
       "\t12 & 0 & 6 & vehicular & 0 & 1 & 1 & 0 & Saturday \\\\\n",
       "\t13 & 1 & 7 & vehicular & 0 & 0 & 0 & 0 & Sunday \\\\\n",
       "\t14 & 1 & 4 & vehicular & 0 & 0 & 0 & 0 & Thursday \\\\\n",
       "\t15 & 1 & 6 & vehicular & 0 & 0 & 0 & 0 & Saturday \\\\\n",
       "\t16 & 1 & 2 & pedestrian & 0 & 0 & 0 & 0 & Tuesday \\\\\n",
       "\t17 & 1 & 6 & pedestrian & 0 & 0 & 0 & 0 & Saturday \\\\\n",
       "\t18 & 1 & 7 & vehicular & 0 & 0 & 0 & 0 & Sunday \\\\\n",
       "\t19 & 1 & 1 & vehicular & 0 & 0 & 0 & 0 & Monday \\\\\n",
       "\t20 & 0 & 4 & vehicular & 0 & 1 & 0 & 0 & Thursday \\\\\n",
       "\t21 & 1 & 4 & vehicular & 1 & 0 & 0 & 0 & Thursday \\\\\n",
       "\t22 & 1 & 1 & pedestrian & 1 & 0 & 0 & 0 & Monday \\\\\n",
       "\t23 & 1 & 4 & pedestrian & 0 & 0 & 0 & 0 & Thursday \\\\\n",
       "\t24 & 1 & 2 & pedestrian & 0 & 0 & 0 & 0 & Tuesday \\\\\n",
       "\t25 & 1 & 5 & vehicular & 0 & 1 & 0 & 0 & Friday \\\\\n",
       "\t26 & 1 & 5 & vehicular & 0 & 0 & 0 & 0 & Friday \\\\\n",
       "\t27 & 0 & 3 & vehicular & 0 & 0 & 0 & 0 & Wednesday \\\\\n",
       "\t28 & 0 & 4 & vehicular & 0 & 1 & 0 & 0 & Thursday \\\\\n",
       "\t29 & 1 & 4 & vehicular & 0 & 0 & 0 & 1 & Thursday \\\\\n",
       "\t30 & 1 & 6 & vehicular & 0 & 0 & 0 & 0 & Saturday \\\\\n",
       "\t$\\dots$ & $\\dots$ & $\\dots$ & $\\dots$ & $\\dots$ & $\\dots$ & $\\dots$ & $\\dots$ & $\\dots$ \\\\\n",
       "\\end{tabular}\n"
      ],
      "text/plain": [
       "\u001b[1m6879×8 DataFrame\u001b[0m\n",
       "\u001b[1m  Row \u001b[0m│\u001b[1m arrest \u001b[0m\u001b[1m day   \u001b[0m\u001b[1m type       \u001b[0m\u001b[1m v1    \u001b[0m\u001b[1m v2    \u001b[0m\u001b[1m v3    \u001b[0m\u001b[1m v4    \u001b[0m\u001b[1m dayname   \u001b[0m\n",
       "\u001b[1m      \u001b[0m│\u001b[90m Bool   \u001b[0m\u001b[90m Int64 \u001b[0m\u001b[90m String15   \u001b[0m\u001b[90m Bool  \u001b[0m\u001b[90m Bool  \u001b[0m\u001b[90m Bool  \u001b[0m\u001b[90m Bool  \u001b[0m\u001b[90m Cat…      \u001b[0m\n",
       "──────┼──────────────────────────────────────────────────────────────────\n",
       "    1 │   true      4  pedestrian  false  false  false  false  Thursday\n",
       "    2 │  false      7  vehicular   false   true  false  false  Sunday\n",
       "    3 │   true      7  vehicular   false  false  false  false  Sunday\n",
       "    4 │   true      2  vehicular   false  false  false  false  Tuesday\n",
       "    5 │  false      3  vehicular   false  false  false  false  Wednesday\n",
       "    6 │  false      4  vehicular    true  false  false  false  Thursday\n",
       "    7 │   true      7  vehicular   false  false  false  false  Sunday\n",
       "    8 │  false      2  vehicular   false  false  false  false  Tuesday\n",
       "    9 │   true      6  vehicular    true  false  false  false  Saturday\n",
       "   10 │   true      3  vehicular   false  false  false  false  Wednesday\n",
       "   11 │   true      3  vehicular   false  false  false  false  Wednesday\n",
       "  ⋮   │   ⋮       ⋮        ⋮         ⋮      ⋮      ⋮      ⋮        ⋮\n",
       " 6870 │  false      6  vehicular   false   true   true  false  Saturday\n",
       " 6871 │  false      7  vehicular   false   true   true  false  Sunday\n",
       " 6872 │   true      7  vehicular   false  false  false  false  Sunday\n",
       " 6873 │  false      3  vehicular   false  false  false   true  Wednesday\n",
       " 6874 │  false      3  vehicular   false  false  false   true  Wednesday\n",
       " 6875 │  false      3  vehicular    true  false  false   true  Wednesday\n",
       " 6876 │  false      3  vehicular   false  false  false   true  Wednesday\n",
       " 6877 │  false      3  vehicular    true   true  false   true  Wednesday\n",
       " 6878 │  false      3  vehicular   false  false  false   true  Wednesday\n",
       " 6879 │  false      3  vehicular   false  false  false  false  Wednesday\n",
       "\u001b[36m                                                        6858 rows omitted\u001b[0m"
      ]
     },
     "execution_count": 64,
     "metadata": {},
     "output_type": "execute_result"
    }
   ],
   "source": [
    "dropmissing!(owensboro2)"
   ]
  },
  {
   "cell_type": "markdown",
   "id": "5a25b20d",
   "metadata": {},
   "source": [
    "### Dropping a column from a data frame"
   ]
  },
  {
   "cell_type": "code",
   "execution_count": 65,
   "id": "1840b542",
   "metadata": {},
   "outputs": [
    {
     "data": {
      "text/html": [
       "<div class=\"data-frame\"><p>6,879 rows × 7 columns</p><table class=\"data-frame\"><thead><tr><th></th><th>arrest</th><th>type</th><th>v1</th><th>v2</th><th>v3</th><th>v4</th><th>dayname</th></tr><tr><th></th><th title=\"Bool\">Bool</th><th title=\"String15\">String15</th><th title=\"Bool\">Bool</th><th title=\"Bool\">Bool</th><th title=\"Bool\">Bool</th><th title=\"Bool\">Bool</th><th title=\"CategoricalValue{String, UInt32}\">Cat…</th></tr></thead><tbody><tr><th>1</th><td>1</td><td>pedestrian</td><td>0</td><td>0</td><td>0</td><td>0</td><td>Thursday</td></tr><tr><th>2</th><td>0</td><td>vehicular</td><td>0</td><td>1</td><td>0</td><td>0</td><td>Sunday</td></tr><tr><th>3</th><td>1</td><td>vehicular</td><td>0</td><td>0</td><td>0</td><td>0</td><td>Sunday</td></tr><tr><th>4</th><td>1</td><td>vehicular</td><td>0</td><td>0</td><td>0</td><td>0</td><td>Tuesday</td></tr><tr><th>5</th><td>0</td><td>vehicular</td><td>0</td><td>0</td><td>0</td><td>0</td><td>Wednesday</td></tr><tr><th>6</th><td>0</td><td>vehicular</td><td>1</td><td>0</td><td>0</td><td>0</td><td>Thursday</td></tr><tr><th>7</th><td>1</td><td>vehicular</td><td>0</td><td>0</td><td>0</td><td>0</td><td>Sunday</td></tr><tr><th>8</th><td>0</td><td>vehicular</td><td>0</td><td>0</td><td>0</td><td>0</td><td>Tuesday</td></tr><tr><th>9</th><td>1</td><td>vehicular</td><td>1</td><td>0</td><td>0</td><td>0</td><td>Saturday</td></tr><tr><th>10</th><td>1</td><td>vehicular</td><td>0</td><td>0</td><td>0</td><td>0</td><td>Wednesday</td></tr><tr><th>11</th><td>1</td><td>vehicular</td><td>0</td><td>0</td><td>0</td><td>0</td><td>Wednesday</td></tr><tr><th>12</th><td>0</td><td>vehicular</td><td>0</td><td>1</td><td>1</td><td>0</td><td>Saturday</td></tr><tr><th>13</th><td>1</td><td>vehicular</td><td>0</td><td>0</td><td>0</td><td>0</td><td>Sunday</td></tr><tr><th>14</th><td>1</td><td>vehicular</td><td>0</td><td>0</td><td>0</td><td>0</td><td>Thursday</td></tr><tr><th>15</th><td>1</td><td>vehicular</td><td>0</td><td>0</td><td>0</td><td>0</td><td>Saturday</td></tr><tr><th>16</th><td>1</td><td>pedestrian</td><td>0</td><td>0</td><td>0</td><td>0</td><td>Tuesday</td></tr><tr><th>17</th><td>1</td><td>pedestrian</td><td>0</td><td>0</td><td>0</td><td>0</td><td>Saturday</td></tr><tr><th>18</th><td>1</td><td>vehicular</td><td>0</td><td>0</td><td>0</td><td>0</td><td>Sunday</td></tr><tr><th>19</th><td>1</td><td>vehicular</td><td>0</td><td>0</td><td>0</td><td>0</td><td>Monday</td></tr><tr><th>20</th><td>0</td><td>vehicular</td><td>0</td><td>1</td><td>0</td><td>0</td><td>Thursday</td></tr><tr><th>21</th><td>1</td><td>vehicular</td><td>1</td><td>0</td><td>0</td><td>0</td><td>Thursday</td></tr><tr><th>22</th><td>1</td><td>pedestrian</td><td>1</td><td>0</td><td>0</td><td>0</td><td>Monday</td></tr><tr><th>23</th><td>1</td><td>pedestrian</td><td>0</td><td>0</td><td>0</td><td>0</td><td>Thursday</td></tr><tr><th>24</th><td>1</td><td>pedestrian</td><td>0</td><td>0</td><td>0</td><td>0</td><td>Tuesday</td></tr><tr><th>25</th><td>1</td><td>vehicular</td><td>0</td><td>1</td><td>0</td><td>0</td><td>Friday</td></tr><tr><th>26</th><td>1</td><td>vehicular</td><td>0</td><td>0</td><td>0</td><td>0</td><td>Friday</td></tr><tr><th>27</th><td>0</td><td>vehicular</td><td>0</td><td>0</td><td>0</td><td>0</td><td>Wednesday</td></tr><tr><th>28</th><td>0</td><td>vehicular</td><td>0</td><td>1</td><td>0</td><td>0</td><td>Thursday</td></tr><tr><th>29</th><td>1</td><td>vehicular</td><td>0</td><td>0</td><td>0</td><td>1</td><td>Thursday</td></tr><tr><th>30</th><td>1</td><td>vehicular</td><td>0</td><td>0</td><td>0</td><td>0</td><td>Saturday</td></tr><tr><th>&vellip;</th><td>&vellip;</td><td>&vellip;</td><td>&vellip;</td><td>&vellip;</td><td>&vellip;</td><td>&vellip;</td><td>&vellip;</td></tr></tbody></table></div>"
      ],
      "text/latex": [
       "\\begin{tabular}{r|ccccccc}\n",
       "\t& arrest & type & v1 & v2 & v3 & v4 & dayname\\\\\n",
       "\t\\hline\n",
       "\t& Bool & String15 & Bool & Bool & Bool & Bool & Cat…\\\\\n",
       "\t\\hline\n",
       "\t1 & 1 & pedestrian & 0 & 0 & 0 & 0 & Thursday \\\\\n",
       "\t2 & 0 & vehicular & 0 & 1 & 0 & 0 & Sunday \\\\\n",
       "\t3 & 1 & vehicular & 0 & 0 & 0 & 0 & Sunday \\\\\n",
       "\t4 & 1 & vehicular & 0 & 0 & 0 & 0 & Tuesday \\\\\n",
       "\t5 & 0 & vehicular & 0 & 0 & 0 & 0 & Wednesday \\\\\n",
       "\t6 & 0 & vehicular & 1 & 0 & 0 & 0 & Thursday \\\\\n",
       "\t7 & 1 & vehicular & 0 & 0 & 0 & 0 & Sunday \\\\\n",
       "\t8 & 0 & vehicular & 0 & 0 & 0 & 0 & Tuesday \\\\\n",
       "\t9 & 1 & vehicular & 1 & 0 & 0 & 0 & Saturday \\\\\n",
       "\t10 & 1 & vehicular & 0 & 0 & 0 & 0 & Wednesday \\\\\n",
       "\t11 & 1 & vehicular & 0 & 0 & 0 & 0 & Wednesday \\\\\n",
       "\t12 & 0 & vehicular & 0 & 1 & 1 & 0 & Saturday \\\\\n",
       "\t13 & 1 & vehicular & 0 & 0 & 0 & 0 & Sunday \\\\\n",
       "\t14 & 1 & vehicular & 0 & 0 & 0 & 0 & Thursday \\\\\n",
       "\t15 & 1 & vehicular & 0 & 0 & 0 & 0 & Saturday \\\\\n",
       "\t16 & 1 & pedestrian & 0 & 0 & 0 & 0 & Tuesday \\\\\n",
       "\t17 & 1 & pedestrian & 0 & 0 & 0 & 0 & Saturday \\\\\n",
       "\t18 & 1 & vehicular & 0 & 0 & 0 & 0 & Sunday \\\\\n",
       "\t19 & 1 & vehicular & 0 & 0 & 0 & 0 & Monday \\\\\n",
       "\t20 & 0 & vehicular & 0 & 1 & 0 & 0 & Thursday \\\\\n",
       "\t21 & 1 & vehicular & 1 & 0 & 0 & 0 & Thursday \\\\\n",
       "\t22 & 1 & pedestrian & 1 & 0 & 0 & 0 & Monday \\\\\n",
       "\t23 & 1 & pedestrian & 0 & 0 & 0 & 0 & Thursday \\\\\n",
       "\t24 & 1 & pedestrian & 0 & 0 & 0 & 0 & Tuesday \\\\\n",
       "\t25 & 1 & vehicular & 0 & 1 & 0 & 0 & Friday \\\\\n",
       "\t26 & 1 & vehicular & 0 & 0 & 0 & 0 & Friday \\\\\n",
       "\t27 & 0 & vehicular & 0 & 0 & 0 & 0 & Wednesday \\\\\n",
       "\t28 & 0 & vehicular & 0 & 1 & 0 & 0 & Thursday \\\\\n",
       "\t29 & 1 & vehicular & 0 & 0 & 0 & 1 & Thursday \\\\\n",
       "\t30 & 1 & vehicular & 0 & 0 & 0 & 0 & Saturday \\\\\n",
       "\t$\\dots$ & $\\dots$ & $\\dots$ & $\\dots$ & $\\dots$ & $\\dots$ & $\\dots$ & $\\dots$ \\\\\n",
       "\\end{tabular}\n"
      ],
      "text/plain": [
       "\u001b[1m6879×7 DataFrame\u001b[0m\n",
       "\u001b[1m  Row \u001b[0m│\u001b[1m arrest \u001b[0m\u001b[1m type       \u001b[0m\u001b[1m v1    \u001b[0m\u001b[1m v2    \u001b[0m\u001b[1m v3    \u001b[0m\u001b[1m v4    \u001b[0m\u001b[1m dayname   \u001b[0m\n",
       "\u001b[1m      \u001b[0m│\u001b[90m Bool   \u001b[0m\u001b[90m String15   \u001b[0m\u001b[90m Bool  \u001b[0m\u001b[90m Bool  \u001b[0m\u001b[90m Bool  \u001b[0m\u001b[90m Bool  \u001b[0m\u001b[90m Cat…      \u001b[0m\n",
       "──────┼───────────────────────────────────────────────────────────\n",
       "    1 │   true  pedestrian  false  false  false  false  Thursday\n",
       "    2 │  false  vehicular   false   true  false  false  Sunday\n",
       "    3 │   true  vehicular   false  false  false  false  Sunday\n",
       "    4 │   true  vehicular   false  false  false  false  Tuesday\n",
       "    5 │  false  vehicular   false  false  false  false  Wednesday\n",
       "    6 │  false  vehicular    true  false  false  false  Thursday\n",
       "    7 │   true  vehicular   false  false  false  false  Sunday\n",
       "    8 │  false  vehicular   false  false  false  false  Tuesday\n",
       "    9 │   true  vehicular    true  false  false  false  Saturday\n",
       "   10 │   true  vehicular   false  false  false  false  Wednesday\n",
       "   11 │   true  vehicular   false  false  false  false  Wednesday\n",
       "  ⋮   │   ⋮         ⋮         ⋮      ⋮      ⋮      ⋮        ⋮\n",
       " 6870 │  false  vehicular   false   true   true  false  Saturday\n",
       " 6871 │  false  vehicular   false   true   true  false  Sunday\n",
       " 6872 │   true  vehicular   false  false  false  false  Sunday\n",
       " 6873 │  false  vehicular   false  false  false   true  Wednesday\n",
       " 6874 │  false  vehicular   false  false  false   true  Wednesday\n",
       " 6875 │  false  vehicular    true  false  false   true  Wednesday\n",
       " 6876 │  false  vehicular   false  false  false   true  Wednesday\n",
       " 6877 │  false  vehicular    true   true  false   true  Wednesday\n",
       " 6878 │  false  vehicular   false  false  false   true  Wednesday\n",
       " 6879 │  false  vehicular   false  false  false  false  Wednesday\n",
       "\u001b[36m                                                 6858 rows omitted\u001b[0m"
      ]
     },
     "execution_count": 65,
     "metadata": {},
     "output_type": "execute_result"
    }
   ],
   "source": [
    "select!(owensboro2, Not(:day))"
   ]
  },
  {
   "cell_type": "markdown",
   "id": "1a9a8653",
   "metadata": {},
   "source": [
    "## Building a predictive model of arrest probability"
   ]
  },
  {
   "cell_type": "markdown",
   "id": "20e1289b",
   "metadata": {},
   "source": [
    "### Splitting the data into train and test data sets"
   ]
  },
  {
   "cell_type": "code",
   "execution_count": 66,
   "id": "59f56925",
   "metadata": {},
   "outputs": [
    {
     "data": {
      "text/plain": [
       "0.702427678441634"
      ]
     },
     "execution_count": 66,
     "metadata": {},
     "output_type": "execute_result"
    }
   ],
   "source": [
    "Random.seed!(1234)\n",
    "owensboro2.train = rand(Bernoulli(0.7), nrow(owensboro2))\n",
    "mean(owensboro2.train)"
   ]
  },
  {
   "cell_type": "code",
   "execution_count": 67,
   "id": "752c3e58",
   "metadata": {},
   "outputs": [
    {
     "data": {
      "text/html": [
       "<div class=\"data-frame\"><p>4,832 rows × 8 columns</p><table class=\"data-frame\"><thead><tr><th></th><th>arrest</th><th>type</th><th>v1</th><th>v2</th><th>v3</th><th>v4</th><th>dayname</th><th>train</th></tr><tr><th></th><th title=\"Bool\">Bool</th><th title=\"String15\">String15</th><th title=\"Bool\">Bool</th><th title=\"Bool\">Bool</th><th title=\"Bool\">Bool</th><th title=\"Bool\">Bool</th><th title=\"CategoricalValue{String, UInt32}\">Cat…</th><th title=\"Bool\">Bool</th></tr></thead><tbody><tr><th>1</th><td>1</td><td>pedestrian</td><td>0</td><td>0</td><td>0</td><td>0</td><td>Thursday</td><td>1</td></tr><tr><th>2</th><td>0</td><td>vehicular</td><td>0</td><td>1</td><td>0</td><td>0</td><td>Sunday</td><td>1</td></tr><tr><th>3</th><td>1</td><td>vehicular</td><td>0</td><td>0</td><td>0</td><td>0</td><td>Sunday</td><td>1</td></tr><tr><th>4</th><td>0</td><td>vehicular</td><td>0</td><td>0</td><td>0</td><td>0</td><td>Wednesday</td><td>1</td></tr><tr><th>5</th><td>0</td><td>vehicular</td><td>1</td><td>0</td><td>0</td><td>0</td><td>Thursday</td><td>1</td></tr><tr><th>6</th><td>1</td><td>vehicular</td><td>1</td><td>0</td><td>0</td><td>0</td><td>Saturday</td><td>1</td></tr><tr><th>7</th><td>1</td><td>vehicular</td><td>0</td><td>0</td><td>0</td><td>0</td><td>Wednesday</td><td>1</td></tr><tr><th>8</th><td>1</td><td>vehicular</td><td>0</td><td>0</td><td>0</td><td>0</td><td>Sunday</td><td>1</td></tr><tr><th>9</th><td>1</td><td>vehicular</td><td>0</td><td>0</td><td>0</td><td>0</td><td>Thursday</td><td>1</td></tr><tr><th>10</th><td>1</td><td>vehicular</td><td>0</td><td>0</td><td>0</td><td>0</td><td>Saturday</td><td>1</td></tr><tr><th>11</th><td>1</td><td>pedestrian</td><td>0</td><td>0</td><td>0</td><td>0</td><td>Tuesday</td><td>1</td></tr><tr><th>12</th><td>1</td><td>vehicular</td><td>0</td><td>0</td><td>0</td><td>0</td><td>Sunday</td><td>1</td></tr><tr><th>13</th><td>1</td><td>vehicular</td><td>1</td><td>0</td><td>0</td><td>0</td><td>Thursday</td><td>1</td></tr><tr><th>14</th><td>1</td><td>pedestrian</td><td>1</td><td>0</td><td>0</td><td>0</td><td>Monday</td><td>1</td></tr><tr><th>15</th><td>1</td><td>pedestrian</td><td>0</td><td>0</td><td>0</td><td>0</td><td>Thursday</td><td>1</td></tr><tr><th>16</th><td>1</td><td>pedestrian</td><td>0</td><td>0</td><td>0</td><td>0</td><td>Tuesday</td><td>1</td></tr><tr><th>17</th><td>1</td><td>vehicular</td><td>0</td><td>1</td><td>0</td><td>0</td><td>Friday</td><td>1</td></tr><tr><th>18</th><td>1</td><td>vehicular</td><td>0</td><td>0</td><td>0</td><td>0</td><td>Friday</td><td>1</td></tr><tr><th>19</th><td>0</td><td>vehicular</td><td>0</td><td>0</td><td>0</td><td>0</td><td>Wednesday</td><td>1</td></tr><tr><th>20</th><td>0</td><td>vehicular</td><td>0</td><td>1</td><td>0</td><td>0</td><td>Thursday</td><td>1</td></tr><tr><th>21</th><td>1</td><td>vehicular</td><td>0</td><td>0</td><td>0</td><td>1</td><td>Thursday</td><td>1</td></tr><tr><th>22</th><td>0</td><td>vehicular</td><td>0</td><td>1</td><td>1</td><td>0</td><td>Saturday</td><td>1</td></tr><tr><th>23</th><td>0</td><td>vehicular</td><td>0</td><td>1</td><td>0</td><td>0</td><td>Thursday</td><td>1</td></tr><tr><th>24</th><td>0</td><td>vehicular</td><td>0</td><td>0</td><td>0</td><td>1</td><td>Wednesday</td><td>1</td></tr><tr><th>25</th><td>1</td><td>vehicular</td><td>0</td><td>0</td><td>0</td><td>0</td><td>Saturday</td><td>1</td></tr><tr><th>26</th><td>1</td><td>vehicular</td><td>0</td><td>0</td><td>0</td><td>0</td><td>Saturday</td><td>1</td></tr><tr><th>27</th><td>1</td><td>vehicular</td><td>0</td><td>1</td><td>1</td><td>0</td><td>Sunday</td><td>1</td></tr><tr><th>28</th><td>1</td><td>vehicular</td><td>0</td><td>0</td><td>0</td><td>0</td><td>Sunday</td><td>1</td></tr><tr><th>29</th><td>1</td><td>vehicular</td><td>1</td><td>1</td><td>1</td><td>0</td><td>Saturday</td><td>1</td></tr><tr><th>30</th><td>0</td><td>vehicular</td><td>0</td><td>0</td><td>0</td><td>0</td><td>Saturday</td><td>1</td></tr><tr><th>&vellip;</th><td>&vellip;</td><td>&vellip;</td><td>&vellip;</td><td>&vellip;</td><td>&vellip;</td><td>&vellip;</td><td>&vellip;</td><td>&vellip;</td></tr></tbody></table></div>"
      ],
      "text/latex": [
       "\\begin{tabular}{r|cccccccc}\n",
       "\t& arrest & type & v1 & v2 & v3 & v4 & dayname & train\\\\\n",
       "\t\\hline\n",
       "\t& Bool & String15 & Bool & Bool & Bool & Bool & Cat… & Bool\\\\\n",
       "\t\\hline\n",
       "\t1 & 1 & pedestrian & 0 & 0 & 0 & 0 & Thursday & 1 \\\\\n",
       "\t2 & 0 & vehicular & 0 & 1 & 0 & 0 & Sunday & 1 \\\\\n",
       "\t3 & 1 & vehicular & 0 & 0 & 0 & 0 & Sunday & 1 \\\\\n",
       "\t4 & 0 & vehicular & 0 & 0 & 0 & 0 & Wednesday & 1 \\\\\n",
       "\t5 & 0 & vehicular & 1 & 0 & 0 & 0 & Thursday & 1 \\\\\n",
       "\t6 & 1 & vehicular & 1 & 0 & 0 & 0 & Saturday & 1 \\\\\n",
       "\t7 & 1 & vehicular & 0 & 0 & 0 & 0 & Wednesday & 1 \\\\\n",
       "\t8 & 1 & vehicular & 0 & 0 & 0 & 0 & Sunday & 1 \\\\\n",
       "\t9 & 1 & vehicular & 0 & 0 & 0 & 0 & Thursday & 1 \\\\\n",
       "\t10 & 1 & vehicular & 0 & 0 & 0 & 0 & Saturday & 1 \\\\\n",
       "\t11 & 1 & pedestrian & 0 & 0 & 0 & 0 & Tuesday & 1 \\\\\n",
       "\t12 & 1 & vehicular & 0 & 0 & 0 & 0 & Sunday & 1 \\\\\n",
       "\t13 & 1 & vehicular & 1 & 0 & 0 & 0 & Thursday & 1 \\\\\n",
       "\t14 & 1 & pedestrian & 1 & 0 & 0 & 0 & Monday & 1 \\\\\n",
       "\t15 & 1 & pedestrian & 0 & 0 & 0 & 0 & Thursday & 1 \\\\\n",
       "\t16 & 1 & pedestrian & 0 & 0 & 0 & 0 & Tuesday & 1 \\\\\n",
       "\t17 & 1 & vehicular & 0 & 1 & 0 & 0 & Friday & 1 \\\\\n",
       "\t18 & 1 & vehicular & 0 & 0 & 0 & 0 & Friday & 1 \\\\\n",
       "\t19 & 0 & vehicular & 0 & 0 & 0 & 0 & Wednesday & 1 \\\\\n",
       "\t20 & 0 & vehicular & 0 & 1 & 0 & 0 & Thursday & 1 \\\\\n",
       "\t21 & 1 & vehicular & 0 & 0 & 0 & 1 & Thursday & 1 \\\\\n",
       "\t22 & 0 & vehicular & 0 & 1 & 1 & 0 & Saturday & 1 \\\\\n",
       "\t23 & 0 & vehicular & 0 & 1 & 0 & 0 & Thursday & 1 \\\\\n",
       "\t24 & 0 & vehicular & 0 & 0 & 0 & 1 & Wednesday & 1 \\\\\n",
       "\t25 & 1 & vehicular & 0 & 0 & 0 & 0 & Saturday & 1 \\\\\n",
       "\t26 & 1 & vehicular & 0 & 0 & 0 & 0 & Saturday & 1 \\\\\n",
       "\t27 & 1 & vehicular & 0 & 1 & 1 & 0 & Sunday & 1 \\\\\n",
       "\t28 & 1 & vehicular & 0 & 0 & 0 & 0 & Sunday & 1 \\\\\n",
       "\t29 & 1 & vehicular & 1 & 1 & 1 & 0 & Saturday & 1 \\\\\n",
       "\t30 & 0 & vehicular & 0 & 0 & 0 & 0 & Saturday & 1 \\\\\n",
       "\t$\\dots$ & $\\dots$ & $\\dots$ & $\\dots$ & $\\dots$ & $\\dots$ & $\\dots$ & $\\dots$ & $\\dots$ \\\\\n",
       "\\end{tabular}\n"
      ],
      "text/plain": [
       "\u001b[1m4832×8 DataFrame\u001b[0m\n",
       "\u001b[1m  Row \u001b[0m│\u001b[1m arrest \u001b[0m\u001b[1m type       \u001b[0m\u001b[1m v1    \u001b[0m\u001b[1m v2    \u001b[0m\u001b[1m v3    \u001b[0m\u001b[1m v4    \u001b[0m\u001b[1m dayname   \u001b[0m\u001b[1m train \u001b[0m\n",
       "\u001b[1m      \u001b[0m│\u001b[90m Bool   \u001b[0m\u001b[90m String15   \u001b[0m\u001b[90m Bool  \u001b[0m\u001b[90m Bool  \u001b[0m\u001b[90m Bool  \u001b[0m\u001b[90m Bool  \u001b[0m\u001b[90m Cat…      \u001b[0m\u001b[90m Bool  \u001b[0m\n",
       "──────┼──────────────────────────────────────────────────────────────────\n",
       "    1 │   true  pedestrian  false  false  false  false  Thursday    true\n",
       "    2 │  false  vehicular   false   true  false  false  Sunday      true\n",
       "    3 │   true  vehicular   false  false  false  false  Sunday      true\n",
       "    4 │  false  vehicular   false  false  false  false  Wednesday   true\n",
       "    5 │  false  vehicular    true  false  false  false  Thursday    true\n",
       "    6 │   true  vehicular    true  false  false  false  Saturday    true\n",
       "    7 │   true  vehicular   false  false  false  false  Wednesday   true\n",
       "    8 │   true  vehicular   false  false  false  false  Sunday      true\n",
       "    9 │   true  vehicular   false  false  false  false  Thursday    true\n",
       "   10 │   true  vehicular   false  false  false  false  Saturday    true\n",
       "   11 │   true  pedestrian  false  false  false  false  Tuesday     true\n",
       "  ⋮   │   ⋮         ⋮         ⋮      ⋮      ⋮      ⋮        ⋮        ⋮\n",
       " 4823 │  false  vehicular   false  false   true   true  Tuesday     true\n",
       " 4824 │  false  vehicular   false   true   true  false  Saturday    true\n",
       " 4825 │  false  vehicular   false   true   true  false  Sunday      true\n",
       " 4826 │   true  vehicular   false  false  false  false  Sunday      true\n",
       " 4827 │  false  vehicular   false  false  false   true  Wednesday   true\n",
       " 4828 │  false  vehicular   false  false  false   true  Wednesday   true\n",
       " 4829 │  false  vehicular    true  false  false   true  Wednesday   true\n",
       " 4830 │  false  vehicular   false  false  false   true  Wednesday   true\n",
       " 4831 │  false  vehicular    true   true  false   true  Wednesday   true\n",
       " 4832 │  false  vehicular   false  false  false   true  Wednesday   true\n",
       "\u001b[36m                                                        4811 rows omitted\u001b[0m"
      ]
     },
     "execution_count": 67,
     "metadata": {},
     "output_type": "execute_result"
    }
   ],
   "source": [
    "train = subset(owensboro2, :train)"
   ]
  },
  {
   "cell_type": "code",
   "execution_count": 68,
   "id": "e59689cb",
   "metadata": {},
   "outputs": [
    {
     "data": {
      "text/html": [
       "<div class=\"data-frame\"><p>2,047 rows × 8 columns</p><table class=\"data-frame\"><thead><tr><th></th><th>arrest</th><th>type</th><th>v1</th><th>v2</th><th>v3</th><th>v4</th><th>dayname</th><th>train</th></tr><tr><th></th><th title=\"Bool\">Bool</th><th title=\"String15\">String15</th><th title=\"Bool\">Bool</th><th title=\"Bool\">Bool</th><th title=\"Bool\">Bool</th><th title=\"Bool\">Bool</th><th title=\"CategoricalValue{String, UInt32}\">Cat…</th><th title=\"Bool\">Bool</th></tr></thead><tbody><tr><th>1</th><td>1</td><td>vehicular</td><td>0</td><td>0</td><td>0</td><td>0</td><td>Tuesday</td><td>0</td></tr><tr><th>2</th><td>1</td><td>vehicular</td><td>0</td><td>0</td><td>0</td><td>0</td><td>Sunday</td><td>0</td></tr><tr><th>3</th><td>0</td><td>vehicular</td><td>0</td><td>0</td><td>0</td><td>0</td><td>Tuesday</td><td>0</td></tr><tr><th>4</th><td>1</td><td>vehicular</td><td>0</td><td>0</td><td>0</td><td>0</td><td>Wednesday</td><td>0</td></tr><tr><th>5</th><td>0</td><td>vehicular</td><td>0</td><td>1</td><td>1</td><td>0</td><td>Saturday</td><td>0</td></tr><tr><th>6</th><td>1</td><td>pedestrian</td><td>0</td><td>0</td><td>0</td><td>0</td><td>Saturday</td><td>0</td></tr><tr><th>7</th><td>1</td><td>vehicular</td><td>0</td><td>0</td><td>0</td><td>0</td><td>Monday</td><td>0</td></tr><tr><th>8</th><td>0</td><td>vehicular</td><td>0</td><td>1</td><td>0</td><td>0</td><td>Thursday</td><td>0</td></tr><tr><th>9</th><td>1</td><td>vehicular</td><td>0</td><td>0</td><td>0</td><td>0</td><td>Saturday</td><td>0</td></tr><tr><th>10</th><td>1</td><td>vehicular</td><td>0</td><td>0</td><td>0</td><td>0</td><td>Saturday</td><td>0</td></tr><tr><th>11</th><td>1</td><td>pedestrian</td><td>0</td><td>0</td><td>0</td><td>0</td><td>Saturday</td><td>0</td></tr><tr><th>12</th><td>1</td><td>vehicular</td><td>0</td><td>1</td><td>1</td><td>0</td><td>Monday</td><td>0</td></tr><tr><th>13</th><td>0</td><td>vehicular</td><td>0</td><td>0</td><td>0</td><td>0</td><td>Thursday</td><td>0</td></tr><tr><th>14</th><td>1</td><td>pedestrian</td><td>0</td><td>0</td><td>0</td><td>0</td><td>Friday</td><td>0</td></tr><tr><th>15</th><td>0</td><td>vehicular</td><td>0</td><td>0</td><td>0</td><td>1</td><td>Thursday</td><td>0</td></tr><tr><th>16</th><td>0</td><td>vehicular</td><td>1</td><td>0</td><td>0</td><td>0</td><td>Friday</td><td>0</td></tr><tr><th>17</th><td>1</td><td>pedestrian</td><td>0</td><td>0</td><td>0</td><td>0</td><td>Sunday</td><td>0</td></tr><tr><th>18</th><td>1</td><td>vehicular</td><td>0</td><td>1</td><td>0</td><td>0</td><td>Tuesday</td><td>0</td></tr><tr><th>19</th><td>1</td><td>vehicular</td><td>1</td><td>0</td><td>0</td><td>0</td><td>Thursday</td><td>0</td></tr><tr><th>20</th><td>0</td><td>vehicular</td><td>1</td><td>0</td><td>0</td><td>0</td><td>Friday</td><td>0</td></tr><tr><th>21</th><td>0</td><td>vehicular</td><td>0</td><td>0</td><td>0</td><td>0</td><td>Friday</td><td>0</td></tr><tr><th>22</th><td>1</td><td>vehicular</td><td>0</td><td>0</td><td>0</td><td>0</td><td>Wednesday</td><td>0</td></tr><tr><th>23</th><td>1</td><td>vehicular</td><td>0</td><td>1</td><td>0</td><td>0</td><td>Tuesday</td><td>0</td></tr><tr><th>24</th><td>1</td><td>vehicular</td><td>0</td><td>1</td><td>0</td><td>0</td><td>Wednesday</td><td>0</td></tr><tr><th>25</th><td>0</td><td>vehicular</td><td>0</td><td>0</td><td>0</td><td>1</td><td>Saturday</td><td>0</td></tr><tr><th>26</th><td>0</td><td>vehicular</td><td>0</td><td>0</td><td>0</td><td>1</td><td>Saturday</td><td>0</td></tr><tr><th>27</th><td>0</td><td>vehicular</td><td>0</td><td>0</td><td>1</td><td>1</td><td>Saturday</td><td>0</td></tr><tr><th>28</th><td>0</td><td>vehicular</td><td>0</td><td>0</td><td>0</td><td>1</td><td>Sunday</td><td>0</td></tr><tr><th>29</th><td>0</td><td>vehicular</td><td>1</td><td>0</td><td>1</td><td>0</td><td>Sunday</td><td>0</td></tr><tr><th>30</th><td>0</td><td>vehicular</td><td>0</td><td>0</td><td>1</td><td>0</td><td>Monday</td><td>0</td></tr><tr><th>&vellip;</th><td>&vellip;</td><td>&vellip;</td><td>&vellip;</td><td>&vellip;</td><td>&vellip;</td><td>&vellip;</td><td>&vellip;</td><td>&vellip;</td></tr></tbody></table></div>"
      ],
      "text/latex": [
       "\\begin{tabular}{r|cccccccc}\n",
       "\t& arrest & type & v1 & v2 & v3 & v4 & dayname & train\\\\\n",
       "\t\\hline\n",
       "\t& Bool & String15 & Bool & Bool & Bool & Bool & Cat… & Bool\\\\\n",
       "\t\\hline\n",
       "\t1 & 1 & vehicular & 0 & 0 & 0 & 0 & Tuesday & 0 \\\\\n",
       "\t2 & 1 & vehicular & 0 & 0 & 0 & 0 & Sunday & 0 \\\\\n",
       "\t3 & 0 & vehicular & 0 & 0 & 0 & 0 & Tuesday & 0 \\\\\n",
       "\t4 & 1 & vehicular & 0 & 0 & 0 & 0 & Wednesday & 0 \\\\\n",
       "\t5 & 0 & vehicular & 0 & 1 & 1 & 0 & Saturday & 0 \\\\\n",
       "\t6 & 1 & pedestrian & 0 & 0 & 0 & 0 & Saturday & 0 \\\\\n",
       "\t7 & 1 & vehicular & 0 & 0 & 0 & 0 & Monday & 0 \\\\\n",
       "\t8 & 0 & vehicular & 0 & 1 & 0 & 0 & Thursday & 0 \\\\\n",
       "\t9 & 1 & vehicular & 0 & 0 & 0 & 0 & Saturday & 0 \\\\\n",
       "\t10 & 1 & vehicular & 0 & 0 & 0 & 0 & Saturday & 0 \\\\\n",
       "\t11 & 1 & pedestrian & 0 & 0 & 0 & 0 & Saturday & 0 \\\\\n",
       "\t12 & 1 & vehicular & 0 & 1 & 1 & 0 & Monday & 0 \\\\\n",
       "\t13 & 0 & vehicular & 0 & 0 & 0 & 0 & Thursday & 0 \\\\\n",
       "\t14 & 1 & pedestrian & 0 & 0 & 0 & 0 & Friday & 0 \\\\\n",
       "\t15 & 0 & vehicular & 0 & 0 & 0 & 1 & Thursday & 0 \\\\\n",
       "\t16 & 0 & vehicular & 1 & 0 & 0 & 0 & Friday & 0 \\\\\n",
       "\t17 & 1 & pedestrian & 0 & 0 & 0 & 0 & Sunday & 0 \\\\\n",
       "\t18 & 1 & vehicular & 0 & 1 & 0 & 0 & Tuesday & 0 \\\\\n",
       "\t19 & 1 & vehicular & 1 & 0 & 0 & 0 & Thursday & 0 \\\\\n",
       "\t20 & 0 & vehicular & 1 & 0 & 0 & 0 & Friday & 0 \\\\\n",
       "\t21 & 0 & vehicular & 0 & 0 & 0 & 0 & Friday & 0 \\\\\n",
       "\t22 & 1 & vehicular & 0 & 0 & 0 & 0 & Wednesday & 0 \\\\\n",
       "\t23 & 1 & vehicular & 0 & 1 & 0 & 0 & Tuesday & 0 \\\\\n",
       "\t24 & 1 & vehicular & 0 & 1 & 0 & 0 & Wednesday & 0 \\\\\n",
       "\t25 & 0 & vehicular & 0 & 0 & 0 & 1 & Saturday & 0 \\\\\n",
       "\t26 & 0 & vehicular & 0 & 0 & 0 & 1 & Saturday & 0 \\\\\n",
       "\t27 & 0 & vehicular & 0 & 0 & 1 & 1 & Saturday & 0 \\\\\n",
       "\t28 & 0 & vehicular & 0 & 0 & 0 & 1 & Sunday & 0 \\\\\n",
       "\t29 & 0 & vehicular & 1 & 0 & 1 & 0 & Sunday & 0 \\\\\n",
       "\t30 & 0 & vehicular & 0 & 0 & 1 & 0 & Monday & 0 \\\\\n",
       "\t$\\dots$ & $\\dots$ & $\\dots$ & $\\dots$ & $\\dots$ & $\\dots$ & $\\dots$ & $\\dots$ & $\\dots$ \\\\\n",
       "\\end{tabular}\n"
      ],
      "text/plain": [
       "\u001b[1m2047×8 DataFrame\u001b[0m\n",
       "\u001b[1m  Row \u001b[0m│\u001b[1m arrest \u001b[0m\u001b[1m type       \u001b[0m\u001b[1m v1    \u001b[0m\u001b[1m v2    \u001b[0m\u001b[1m v3    \u001b[0m\u001b[1m v4    \u001b[0m\u001b[1m dayname   \u001b[0m\u001b[1m train \u001b[0m\n",
       "\u001b[1m      \u001b[0m│\u001b[90m Bool   \u001b[0m\u001b[90m String15   \u001b[0m\u001b[90m Bool  \u001b[0m\u001b[90m Bool  \u001b[0m\u001b[90m Bool  \u001b[0m\u001b[90m Bool  \u001b[0m\u001b[90m Cat…      \u001b[0m\u001b[90m Bool  \u001b[0m\n",
       "──────┼──────────────────────────────────────────────────────────────────\n",
       "    1 │   true  vehicular   false  false  false  false  Tuesday    false\n",
       "    2 │   true  vehicular   false  false  false  false  Sunday     false\n",
       "    3 │  false  vehicular   false  false  false  false  Tuesday    false\n",
       "    4 │   true  vehicular   false  false  false  false  Wednesday  false\n",
       "    5 │  false  vehicular   false   true   true  false  Saturday   false\n",
       "    6 │   true  pedestrian  false  false  false  false  Saturday   false\n",
       "    7 │   true  vehicular   false  false  false  false  Monday     false\n",
       "    8 │  false  vehicular   false   true  false  false  Thursday   false\n",
       "    9 │   true  vehicular   false  false  false  false  Saturday   false\n",
       "   10 │   true  vehicular   false  false  false  false  Saturday   false\n",
       "   11 │   true  pedestrian  false  false  false  false  Saturday   false\n",
       "  ⋮   │   ⋮         ⋮         ⋮      ⋮      ⋮      ⋮        ⋮        ⋮\n",
       " 2038 │  false  vehicular   false  false  false   true  Thursday   false\n",
       " 2039 │  false  vehicular   false  false  false  false  Friday     false\n",
       " 2040 │  false  vehicular   false  false  false   true  Tuesday    false\n",
       " 2041 │  false  vehicular   false  false  false   true  Tuesday    false\n",
       " 2042 │  false  vehicular   false  false  false   true  Tuesday    false\n",
       " 2043 │  false  vehicular   false  false  false   true  Tuesday    false\n",
       " 2044 │  false  vehicular   false  false  false   true  Tuesday    false\n",
       " 2045 │  false  vehicular   false   true   true  false  Thursday   false\n",
       " 2046 │  false  vehicular   false  false   true  false  Friday     false\n",
       " 2047 │  false  vehicular   false  false  false  false  Wednesday  false\n",
       "\u001b[36m                                                        2026 rows omitted\u001b[0m"
      ]
     },
     "execution_count": 68,
     "metadata": {},
     "output_type": "execute_result"
    }
   ],
   "source": [
    "test = subset(owensboro2, :train => ByRow(!))"
   ]
  },
  {
   "cell_type": "code",
   "execution_count": 69,
   "id": "b41f7be5",
   "metadata": {},
   "outputs": [
    {
     "data": {
      "text/html": [
       "<div class=\"data-frame\"><p>2,047 rows × 8 columns</p><table class=\"data-frame\"><thead><tr><th></th><th>arrest</th><th>type</th><th>v1</th><th>v2</th><th>v3</th><th>v4</th><th>dayname</th><th>train</th></tr><tr><th></th><th title=\"Bool\">Bool</th><th title=\"String15\">String15</th><th title=\"Bool\">Bool</th><th title=\"Bool\">Bool</th><th title=\"Bool\">Bool</th><th title=\"Bool\">Bool</th><th title=\"CategoricalValue{String, UInt32}\">Cat…</th><th title=\"Bool\">Bool</th></tr></thead><tbody><tr><th>1</th><td>1</td><td>vehicular</td><td>0</td><td>0</td><td>0</td><td>0</td><td>Tuesday</td><td>0</td></tr><tr><th>2</th><td>1</td><td>vehicular</td><td>0</td><td>0</td><td>0</td><td>0</td><td>Sunday</td><td>0</td></tr><tr><th>3</th><td>0</td><td>vehicular</td><td>0</td><td>0</td><td>0</td><td>0</td><td>Tuesday</td><td>0</td></tr><tr><th>4</th><td>1</td><td>vehicular</td><td>0</td><td>0</td><td>0</td><td>0</td><td>Wednesday</td><td>0</td></tr><tr><th>5</th><td>0</td><td>vehicular</td><td>0</td><td>1</td><td>1</td><td>0</td><td>Saturday</td><td>0</td></tr><tr><th>6</th><td>1</td><td>pedestrian</td><td>0</td><td>0</td><td>0</td><td>0</td><td>Saturday</td><td>0</td></tr><tr><th>7</th><td>1</td><td>vehicular</td><td>0</td><td>0</td><td>0</td><td>0</td><td>Monday</td><td>0</td></tr><tr><th>8</th><td>0</td><td>vehicular</td><td>0</td><td>1</td><td>0</td><td>0</td><td>Thursday</td><td>0</td></tr><tr><th>9</th><td>1</td><td>vehicular</td><td>0</td><td>0</td><td>0</td><td>0</td><td>Saturday</td><td>0</td></tr><tr><th>10</th><td>1</td><td>vehicular</td><td>0</td><td>0</td><td>0</td><td>0</td><td>Saturday</td><td>0</td></tr><tr><th>11</th><td>1</td><td>pedestrian</td><td>0</td><td>0</td><td>0</td><td>0</td><td>Saturday</td><td>0</td></tr><tr><th>12</th><td>1</td><td>vehicular</td><td>0</td><td>1</td><td>1</td><td>0</td><td>Monday</td><td>0</td></tr><tr><th>13</th><td>0</td><td>vehicular</td><td>0</td><td>0</td><td>0</td><td>0</td><td>Thursday</td><td>0</td></tr><tr><th>14</th><td>1</td><td>pedestrian</td><td>0</td><td>0</td><td>0</td><td>0</td><td>Friday</td><td>0</td></tr><tr><th>15</th><td>0</td><td>vehicular</td><td>0</td><td>0</td><td>0</td><td>1</td><td>Thursday</td><td>0</td></tr><tr><th>16</th><td>0</td><td>vehicular</td><td>1</td><td>0</td><td>0</td><td>0</td><td>Friday</td><td>0</td></tr><tr><th>17</th><td>1</td><td>pedestrian</td><td>0</td><td>0</td><td>0</td><td>0</td><td>Sunday</td><td>0</td></tr><tr><th>18</th><td>1</td><td>vehicular</td><td>0</td><td>1</td><td>0</td><td>0</td><td>Tuesday</td><td>0</td></tr><tr><th>19</th><td>1</td><td>vehicular</td><td>1</td><td>0</td><td>0</td><td>0</td><td>Thursday</td><td>0</td></tr><tr><th>20</th><td>0</td><td>vehicular</td><td>1</td><td>0</td><td>0</td><td>0</td><td>Friday</td><td>0</td></tr><tr><th>21</th><td>0</td><td>vehicular</td><td>0</td><td>0</td><td>0</td><td>0</td><td>Friday</td><td>0</td></tr><tr><th>22</th><td>1</td><td>vehicular</td><td>0</td><td>0</td><td>0</td><td>0</td><td>Wednesday</td><td>0</td></tr><tr><th>23</th><td>1</td><td>vehicular</td><td>0</td><td>1</td><td>0</td><td>0</td><td>Tuesday</td><td>0</td></tr><tr><th>24</th><td>1</td><td>vehicular</td><td>0</td><td>1</td><td>0</td><td>0</td><td>Wednesday</td><td>0</td></tr><tr><th>25</th><td>0</td><td>vehicular</td><td>0</td><td>0</td><td>0</td><td>1</td><td>Saturday</td><td>0</td></tr><tr><th>26</th><td>0</td><td>vehicular</td><td>0</td><td>0</td><td>0</td><td>1</td><td>Saturday</td><td>0</td></tr><tr><th>27</th><td>0</td><td>vehicular</td><td>0</td><td>0</td><td>1</td><td>1</td><td>Saturday</td><td>0</td></tr><tr><th>28</th><td>0</td><td>vehicular</td><td>0</td><td>0</td><td>0</td><td>1</td><td>Sunday</td><td>0</td></tr><tr><th>29</th><td>0</td><td>vehicular</td><td>1</td><td>0</td><td>1</td><td>0</td><td>Sunday</td><td>0</td></tr><tr><th>30</th><td>0</td><td>vehicular</td><td>0</td><td>0</td><td>1</td><td>0</td><td>Monday</td><td>0</td></tr><tr><th>&vellip;</th><td>&vellip;</td><td>&vellip;</td><td>&vellip;</td><td>&vellip;</td><td>&vellip;</td><td>&vellip;</td><td>&vellip;</td><td>&vellip;</td></tr></tbody></table></div>"
      ],
      "text/latex": [
       "\\begin{tabular}{r|cccccccc}\n",
       "\t& arrest & type & v1 & v2 & v3 & v4 & dayname & train\\\\\n",
       "\t\\hline\n",
       "\t& Bool & String15 & Bool & Bool & Bool & Bool & Cat… & Bool\\\\\n",
       "\t\\hline\n",
       "\t1 & 1 & vehicular & 0 & 0 & 0 & 0 & Tuesday & 0 \\\\\n",
       "\t2 & 1 & vehicular & 0 & 0 & 0 & 0 & Sunday & 0 \\\\\n",
       "\t3 & 0 & vehicular & 0 & 0 & 0 & 0 & Tuesday & 0 \\\\\n",
       "\t4 & 1 & vehicular & 0 & 0 & 0 & 0 & Wednesday & 0 \\\\\n",
       "\t5 & 0 & vehicular & 0 & 1 & 1 & 0 & Saturday & 0 \\\\\n",
       "\t6 & 1 & pedestrian & 0 & 0 & 0 & 0 & Saturday & 0 \\\\\n",
       "\t7 & 1 & vehicular & 0 & 0 & 0 & 0 & Monday & 0 \\\\\n",
       "\t8 & 0 & vehicular & 0 & 1 & 0 & 0 & Thursday & 0 \\\\\n",
       "\t9 & 1 & vehicular & 0 & 0 & 0 & 0 & Saturday & 0 \\\\\n",
       "\t10 & 1 & vehicular & 0 & 0 & 0 & 0 & Saturday & 0 \\\\\n",
       "\t11 & 1 & pedestrian & 0 & 0 & 0 & 0 & Saturday & 0 \\\\\n",
       "\t12 & 1 & vehicular & 0 & 1 & 1 & 0 & Monday & 0 \\\\\n",
       "\t13 & 0 & vehicular & 0 & 0 & 0 & 0 & Thursday & 0 \\\\\n",
       "\t14 & 1 & pedestrian & 0 & 0 & 0 & 0 & Friday & 0 \\\\\n",
       "\t15 & 0 & vehicular & 0 & 0 & 0 & 1 & Thursday & 0 \\\\\n",
       "\t16 & 0 & vehicular & 1 & 0 & 0 & 0 & Friday & 0 \\\\\n",
       "\t17 & 1 & pedestrian & 0 & 0 & 0 & 0 & Sunday & 0 \\\\\n",
       "\t18 & 1 & vehicular & 0 & 1 & 0 & 0 & Tuesday & 0 \\\\\n",
       "\t19 & 1 & vehicular & 1 & 0 & 0 & 0 & Thursday & 0 \\\\\n",
       "\t20 & 0 & vehicular & 1 & 0 & 0 & 0 & Friday & 0 \\\\\n",
       "\t21 & 0 & vehicular & 0 & 0 & 0 & 0 & Friday & 0 \\\\\n",
       "\t22 & 1 & vehicular & 0 & 0 & 0 & 0 & Wednesday & 0 \\\\\n",
       "\t23 & 1 & vehicular & 0 & 1 & 0 & 0 & Tuesday & 0 \\\\\n",
       "\t24 & 1 & vehicular & 0 & 1 & 0 & 0 & Wednesday & 0 \\\\\n",
       "\t25 & 0 & vehicular & 0 & 0 & 0 & 1 & Saturday & 0 \\\\\n",
       "\t26 & 0 & vehicular & 0 & 0 & 0 & 1 & Saturday & 0 \\\\\n",
       "\t27 & 0 & vehicular & 0 & 0 & 1 & 1 & Saturday & 0 \\\\\n",
       "\t28 & 0 & vehicular & 0 & 0 & 0 & 1 & Sunday & 0 \\\\\n",
       "\t29 & 0 & vehicular & 1 & 0 & 1 & 0 & Sunday & 0 \\\\\n",
       "\t30 & 0 & vehicular & 0 & 0 & 1 & 0 & Monday & 0 \\\\\n",
       "\t$\\dots$ & $\\dots$ & $\\dots$ & $\\dots$ & $\\dots$ & $\\dots$ & $\\dots$ & $\\dots$ & $\\dots$ \\\\\n",
       "\\end{tabular}\n"
      ],
      "text/plain": [
       "\u001b[1m2047×8 DataFrame\u001b[0m\n",
       "\u001b[1m  Row \u001b[0m│\u001b[1m arrest \u001b[0m\u001b[1m type       \u001b[0m\u001b[1m v1    \u001b[0m\u001b[1m v2    \u001b[0m\u001b[1m v3    \u001b[0m\u001b[1m v4    \u001b[0m\u001b[1m dayname   \u001b[0m\u001b[1m train \u001b[0m\n",
       "\u001b[1m      \u001b[0m│\u001b[90m Bool   \u001b[0m\u001b[90m String15   \u001b[0m\u001b[90m Bool  \u001b[0m\u001b[90m Bool  \u001b[0m\u001b[90m Bool  \u001b[0m\u001b[90m Bool  \u001b[0m\u001b[90m Cat…      \u001b[0m\u001b[90m Bool  \u001b[0m\n",
       "──────┼──────────────────────────────────────────────────────────────────\n",
       "    1 │   true  vehicular   false  false  false  false  Tuesday    false\n",
       "    2 │   true  vehicular   false  false  false  false  Sunday     false\n",
       "    3 │  false  vehicular   false  false  false  false  Tuesday    false\n",
       "    4 │   true  vehicular   false  false  false  false  Wednesday  false\n",
       "    5 │  false  vehicular   false   true   true  false  Saturday   false\n",
       "    6 │   true  pedestrian  false  false  false  false  Saturday   false\n",
       "    7 │   true  vehicular   false  false  false  false  Monday     false\n",
       "    8 │  false  vehicular   false   true  false  false  Thursday   false\n",
       "    9 │   true  vehicular   false  false  false  false  Saturday   false\n",
       "   10 │   true  vehicular   false  false  false  false  Saturday   false\n",
       "   11 │   true  pedestrian  false  false  false  false  Saturday   false\n",
       "  ⋮   │   ⋮         ⋮         ⋮      ⋮      ⋮      ⋮        ⋮        ⋮\n",
       " 2038 │  false  vehicular   false  false  false   true  Thursday   false\n",
       " 2039 │  false  vehicular   false  false  false  false  Friday     false\n",
       " 2040 │  false  vehicular   false  false  false   true  Tuesday    false\n",
       " 2041 │  false  vehicular   false  false  false   true  Tuesday    false\n",
       " 2042 │  false  vehicular   false  false  false   true  Tuesday    false\n",
       " 2043 │  false  vehicular   false  false  false   true  Tuesday    false\n",
       " 2044 │  false  vehicular   false  false  false   true  Tuesday    false\n",
       " 2045 │  false  vehicular   false   true   true  false  Thursday   false\n",
       " 2046 │  false  vehicular   false  false   true  false  Friday     false\n",
       " 2047 │  false  vehicular   false  false  false  false  Wednesday  false\n",
       "\u001b[36m                                                        2026 rows omitted\u001b[0m"
      ]
     },
     "execution_count": 69,
     "metadata": {},
     "output_type": "execute_result"
    }
   ],
   "source": [
    "@rsubset(owensboro2, !(:train))"
   ]
  },
  {
   "cell_type": "markdown",
   "id": "92c39494",
   "metadata": {},
   "source": [
    "### Fitting a logistic regression model"
   ]
  },
  {
   "cell_type": "code",
   "execution_count": 70,
   "id": "79984326",
   "metadata": {},
   "outputs": [
    {
     "data": {
      "text/plain": [
       "StatsModels.TableRegressionModel{GeneralizedLinearModel{GLM.GlmResp{Vector{Float64}, Binomial{Float64}, LogitLink}, GLM.DensePredChol{Float64, LinearAlgebra.Cholesky{Float64, Matrix{Float64}}}}, Matrix{Float64}}\n",
       "\n",
       "arrest ~ 1 + dayname + type + v1 + v2 + v3 + v4\n",
       "\n",
       "Coefficients:\n",
       "──────────────────────────────────────────────────────────────────────────────────\n",
       "                         Coef.  Std. Error       z  Pr(>|z|)  Lower 95%  Upper 95%\n",
       "──────────────────────────────────────────────────────────────────────────────────\n",
       "(Intercept)          0.287625     0.215229    1.34    0.1814  -0.134216   0.709465\n",
       "dayname: Tuesday     0.132235     0.216134    0.61    0.5407  -0.291381   0.55585\n",
       "dayname: Wednesday   0.0792927    0.21675     0.37    0.7145  -0.34553    0.504116\n",
       "dayname: Thursday   -0.034439     0.218522   -0.16    0.8748  -0.462734   0.393856\n",
       "dayname: Friday      0.194343     0.202768    0.96    0.3378  -0.203075   0.591762\n",
       "dayname: Saturday    0.59492      0.204298    2.91    0.0036   0.194504   0.995337\n",
       "dayname: Sunday      1.02347      0.205539    4.98    <1e-06   0.620622   1.42632\n",
       "type: vehicular     -1.34187      0.16969    -7.91    <1e-14  -1.67445   -1.00928\n",
       "v1                  -2.40105      0.147432  -16.29    <1e-58  -2.69001   -2.11208\n",
       "v2                  -2.46956      0.18695   -13.21    <1e-39  -2.83598   -2.10315\n",
       "v3                  -0.550708     0.149679   -3.68    0.0002  -0.844072  -0.257343\n",
       "v4                  -2.96624      0.289665  -10.24    <1e-23  -3.53397   -2.3985\n",
       "──────────────────────────────────────────────────────────────────────────────────"
      ]
     },
     "execution_count": 70,
     "metadata": {},
     "output_type": "execute_result"
    }
   ],
   "source": [
    "model = glm(@formula(arrest~dayname+type+v1+v2+v3+v4), train, Binomial(), LogitLink())"
   ]
  },
  {
   "cell_type": "code",
   "execution_count": 71,
   "id": "296d0364",
   "metadata": {},
   "outputs": [
    {
     "data": {
      "text/plain": [
       "4832-element Vector{Float64}:\n",
       " 0.5629604404770923\n",
       " 0.07583480306410262\n",
       " 0.4923077257785381\n",
       " 0.27389501945271594\n",
       " 0.02960595264673921\n",
       " 0.054147883419557875\n",
       " 0.27389501945271594\n",
       " 0.4923077257785381\n",
       " 0.2518666426805642\n",
       " 0.3871466617408534\n",
       " 0.6034495796245263\n",
       " 0.4923077257785381\n",
       " 0.02960595264673921\n",
       " ⋮\n",
       " 0.0018526415192176553\n",
       " 0.020070232295458217\n",
       " 0.01167051316635842\n",
       " 0.029898523196934063\n",
       " 0.045172549418659655\n",
       " 0.4923077257785381\n",
       " 0.019055034096545412\n",
       " 0.019055034096545412\n",
       " 0.001757278203700188\n",
       " 0.019055034096545412\n",
       " 0.00014894383671078636\n",
       " 0.019055034096545412"
      ]
     },
     "execution_count": 71,
     "metadata": {},
     "output_type": "execute_result"
    }
   ],
   "source": [
    "train.predict = predict(model)"
   ]
  },
  {
   "cell_type": "code",
   "execution_count": 72,
   "id": "65d097a0",
   "metadata": {},
   "outputs": [
    {
     "data": {
      "text/plain": [
       "2047-element Vector{Union{Missing, Float64}}:\n",
       " 0.2845489586270871\n",
       " 0.4923077257785381\n",
       " 0.2845489586270871\n",
       " 0.27389501945271594\n",
       " 0.029898523196934063\n",
       " 0.7073493457589847\n",
       " 0.2584112660332249\n",
       " 0.027699690415722348\n",
       " 0.3871466617408534\n",
       " 0.3871466617408534\n",
       " 0.7073493457589847\n",
       " 0.01671632318051753\n",
       " 0.2518666426805642\n",
       " ⋮\n",
       " 0.009896538816854317\n",
       " 0.017041475533508835\n",
       " 0.017041475533508835\n",
       " 0.2973604266112116\n",
       " 0.020070232295458217\n",
       " 0.020070232295458217\n",
       " 0.020070232295458217\n",
       " 0.020070232295458217\n",
       " 0.020070232295458217\n",
       " 0.016159573960508256\n",
       " 0.19613838972815223\n",
       " 0.27389501945271594"
      ]
     },
     "execution_count": 72,
     "metadata": {},
     "output_type": "execute_result"
    }
   ],
   "source": [
    "test.predict = predict(model, test)"
   ]
  },
  {
   "cell_type": "markdown",
   "id": "be25c662",
   "metadata": {},
   "source": [
    "### Evaluating the quality of model's predictions"
   ]
  },
  {
   "cell_type": "code",
   "execution_count": 73,
   "id": "36002664",
   "metadata": {},
   "outputs": [
    {
     "data": {
      "image/svg+xml": [
       "<?xml version=\"1.0\" encoding=\"utf-8\"?>\n",
       "<svg xmlns=\"http://www.w3.org/2000/svg\" xmlns:xlink=\"http://www.w3.org/1999/xlink\" width=\"600\" height=\"400\" viewBox=\"0 0 2400 1600\">\n",
       "<defs>\n",
       "  <clipPath id=\"clip880\">\n",
       "    <rect x=\"0\" y=\"0\" width=\"2400\" height=\"1600\"/>\n",
       "  </clipPath>\n",
       "</defs>\n",
       "<path clip-path=\"url(#clip880)\" d=\"\n",
       "M0 1600 L2400 1600 L2400 0 L0 0  Z\n",
       "  \" fill=\"#ffffff\" fill-rule=\"evenodd\" fill-opacity=\"1\"/>\n",
       "<defs>\n",
       "  <clipPath id=\"clip881\">\n",
       "    <rect x=\"480\" y=\"0\" width=\"1681\" height=\"1600\"/>\n",
       "  </clipPath>\n",
       "</defs>\n",
       "<path clip-path=\"url(#clip880)\" d=\"\n",
       "M156.598 1486.45 L2352.76 1486.45 L2352.76 47.2441 L156.598 47.2441  Z\n",
       "  \" fill=\"#ffffff\" fill-rule=\"evenodd\" fill-opacity=\"1\"/>\n",
       "<defs>\n",
       "  <clipPath id=\"clip882\">\n",
       "    <rect x=\"156\" y=\"47\" width=\"2197\" height=\"1440\"/>\n",
       "  </clipPath>\n",
       "</defs>\n",
       "<polyline clip-path=\"url(#clip882)\" style=\"stroke:#000000; stroke-linecap:butt; stroke-linejoin:round; stroke-width:2; stroke-opacity:0.1; fill:none\" points=\"\n",
       "  277.391,1486.45 277.391,47.2441 \n",
       "  \"/>\n",
       "<polyline clip-path=\"url(#clip882)\" style=\"stroke:#000000; stroke-linecap:butt; stroke-linejoin:round; stroke-width:2; stroke-opacity:0.1; fill:none\" points=\"\n",
       "  766.034,1486.45 766.034,47.2441 \n",
       "  \"/>\n",
       "<polyline clip-path=\"url(#clip882)\" style=\"stroke:#000000; stroke-linecap:butt; stroke-linejoin:round; stroke-width:2; stroke-opacity:0.1; fill:none\" points=\"\n",
       "  1254.68,1486.45 1254.68,47.2441 \n",
       "  \"/>\n",
       "<polyline clip-path=\"url(#clip882)\" style=\"stroke:#000000; stroke-linecap:butt; stroke-linejoin:round; stroke-width:2; stroke-opacity:0.1; fill:none\" points=\"\n",
       "  1743.32,1486.45 1743.32,47.2441 \n",
       "  \"/>\n",
       "<polyline clip-path=\"url(#clip882)\" style=\"stroke:#000000; stroke-linecap:butt; stroke-linejoin:round; stroke-width:2; stroke-opacity:0.1; fill:none\" points=\"\n",
       "  2231.96,1486.45 2231.96,47.2441 \n",
       "  \"/>\n",
       "<polyline clip-path=\"url(#clip880)\" style=\"stroke:#000000; stroke-linecap:butt; stroke-linejoin:round; stroke-width:4; stroke-opacity:1; fill:none\" points=\"\n",
       "  156.598,1486.45 2352.76,1486.45 \n",
       "  \"/>\n",
       "<polyline clip-path=\"url(#clip880)\" style=\"stroke:#000000; stroke-linecap:butt; stroke-linejoin:round; stroke-width:4; stroke-opacity:1; fill:none\" points=\"\n",
       "  277.391,1486.45 277.391,1467.55 \n",
       "  \"/>\n",
       "<polyline clip-path=\"url(#clip880)\" style=\"stroke:#000000; stroke-linecap:butt; stroke-linejoin:round; stroke-width:4; stroke-opacity:1; fill:none\" points=\"\n",
       "  766.034,1486.45 766.034,1467.55 \n",
       "  \"/>\n",
       "<polyline clip-path=\"url(#clip880)\" style=\"stroke:#000000; stroke-linecap:butt; stroke-linejoin:round; stroke-width:4; stroke-opacity:1; fill:none\" points=\"\n",
       "  1254.68,1486.45 1254.68,1467.55 \n",
       "  \"/>\n",
       "<polyline clip-path=\"url(#clip880)\" style=\"stroke:#000000; stroke-linecap:butt; stroke-linejoin:round; stroke-width:4; stroke-opacity:1; fill:none\" points=\"\n",
       "  1743.32,1486.45 1743.32,1467.55 \n",
       "  \"/>\n",
       "<polyline clip-path=\"url(#clip880)\" style=\"stroke:#000000; stroke-linecap:butt; stroke-linejoin:round; stroke-width:4; stroke-opacity:1; fill:none\" points=\"\n",
       "  2231.96,1486.45 2231.96,1467.55 \n",
       "  \"/>\n",
       "<path clip-path=\"url(#clip880)\" d=\"M254.775 1517.37 Q251.164 1517.37 249.335 1520.93 Q247.53 1524.47 247.53 1531.6 Q247.53 1538.71 249.335 1542.27 Q251.164 1545.82 254.775 1545.82 Q258.409 1545.82 260.215 1542.27 Q262.044 1538.71 262.044 1531.6 Q262.044 1524.47 260.215 1520.93 Q258.409 1517.37 254.775 1517.37 M254.775 1513.66 Q260.585 1513.66 263.641 1518.27 Q266.72 1522.85 266.72 1531.6 Q266.72 1540.33 263.641 1544.94 Q260.585 1549.52 254.775 1549.52 Q248.965 1549.52 245.886 1544.94 Q242.831 1540.33 242.831 1531.6 Q242.831 1522.85 245.886 1518.27 Q248.965 1513.66 254.775 1513.66 Z\" fill=\"#000000\" fill-rule=\"evenodd\" fill-opacity=\"1\" /><path clip-path=\"url(#clip880)\" d=\"M274.937 1542.97 L279.821 1542.97 L279.821 1548.85 L274.937 1548.85 L274.937 1542.97 Z\" fill=\"#000000\" fill-rule=\"evenodd\" fill-opacity=\"1\" /><path clip-path=\"url(#clip880)\" d=\"M300.006 1517.37 Q296.395 1517.37 294.567 1520.93 Q292.761 1524.47 292.761 1531.6 Q292.761 1538.71 294.567 1542.27 Q296.395 1545.82 300.006 1545.82 Q303.641 1545.82 305.446 1542.27 Q307.275 1538.71 307.275 1531.6 Q307.275 1524.47 305.446 1520.93 Q303.641 1517.37 300.006 1517.37 M300.006 1513.66 Q305.817 1513.66 308.872 1518.27 Q311.951 1522.85 311.951 1531.6 Q311.951 1540.33 308.872 1544.94 Q305.817 1549.52 300.006 1549.52 Q294.196 1549.52 291.118 1544.94 Q288.062 1540.33 288.062 1531.6 Q288.062 1522.85 291.118 1518.27 Q294.196 1513.66 300.006 1513.66 Z\" fill=\"#000000\" fill-rule=\"evenodd\" fill-opacity=\"1\" /><path clip-path=\"url(#clip880)\" d=\"M744.217 1517.37 Q740.606 1517.37 738.777 1520.93 Q736.972 1524.47 736.972 1531.6 Q736.972 1538.71 738.777 1542.27 Q740.606 1545.82 744.217 1545.82 Q747.851 1545.82 749.657 1542.27 Q751.485 1538.71 751.485 1531.6 Q751.485 1524.47 749.657 1520.93 Q747.851 1517.37 744.217 1517.37 M744.217 1513.66 Q750.027 1513.66 753.083 1518.27 Q756.161 1522.85 756.161 1531.6 Q756.161 1540.33 753.083 1544.94 Q750.027 1549.52 744.217 1549.52 Q738.407 1549.52 735.328 1544.94 Q732.273 1540.33 732.273 1531.6 Q732.273 1522.85 735.328 1518.27 Q738.407 1513.66 744.217 1513.66 Z\" fill=\"#000000\" fill-rule=\"evenodd\" fill-opacity=\"1\" /><path clip-path=\"url(#clip880)\" d=\"M764.379 1542.97 L769.263 1542.97 L769.263 1548.85 L764.379 1548.85 L764.379 1542.97 Z\" fill=\"#000000\" fill-rule=\"evenodd\" fill-opacity=\"1\" /><path clip-path=\"url(#clip880)\" d=\"M783.476 1544.91 L799.795 1544.91 L799.795 1548.85 L777.851 1548.85 L777.851 1544.91 Q780.513 1542.16 785.096 1537.53 Q789.703 1532.88 790.883 1531.53 Q793.129 1529.01 794.008 1527.27 Q794.911 1525.51 794.911 1523.82 Q794.911 1521.07 792.967 1519.33 Q791.045 1517.6 787.944 1517.6 Q785.744 1517.6 783.291 1518.36 Q780.86 1519.13 778.082 1520.68 L778.082 1515.95 Q780.907 1514.82 783.36 1514.24 Q785.814 1513.66 787.851 1513.66 Q793.221 1513.66 796.416 1516.35 Q799.61 1519.03 799.61 1523.52 Q799.61 1525.65 798.8 1527.57 Q798.013 1529.47 795.906 1532.07 Q795.328 1532.74 792.226 1535.95 Q789.124 1539.15 783.476 1544.91 Z\" fill=\"#000000\" fill-rule=\"evenodd\" fill-opacity=\"1\" /><path clip-path=\"url(#clip880)\" d=\"M1231.82 1517.37 Q1228.21 1517.37 1226.38 1520.93 Q1224.57 1524.47 1224.57 1531.6 Q1224.57 1538.71 1226.38 1542.27 Q1228.21 1545.82 1231.82 1545.82 Q1235.45 1545.82 1237.26 1542.27 Q1239.09 1538.71 1239.09 1531.6 Q1239.09 1524.47 1237.26 1520.93 Q1235.45 1517.37 1231.82 1517.37 M1231.82 1513.66 Q1237.63 1513.66 1240.68 1518.27 Q1243.76 1522.85 1243.76 1531.6 Q1243.76 1540.33 1240.68 1544.94 Q1237.63 1549.52 1231.82 1549.52 Q1226.01 1549.52 1222.93 1544.94 Q1219.87 1540.33 1219.87 1531.6 Q1219.87 1522.85 1222.93 1518.27 Q1226.01 1513.66 1231.82 1513.66 Z\" fill=\"#000000\" fill-rule=\"evenodd\" fill-opacity=\"1\" /><path clip-path=\"url(#clip880)\" d=\"M1251.98 1542.97 L1256.86 1542.97 L1256.86 1548.85 L1251.98 1548.85 L1251.98 1542.97 Z\" fill=\"#000000\" fill-rule=\"evenodd\" fill-opacity=\"1\" /><path clip-path=\"url(#clip880)\" d=\"M1279.9 1518.36 L1268.09 1536.81 L1279.9 1536.81 L1279.9 1518.36 M1278.67 1514.29 L1284.55 1514.29 L1284.55 1536.81 L1289.48 1536.81 L1289.48 1540.7 L1284.55 1540.7 L1284.55 1548.85 L1279.9 1548.85 L1279.9 1540.7 L1264.3 1540.7 L1264.3 1536.19 L1278.67 1514.29 Z\" fill=\"#000000\" fill-rule=\"evenodd\" fill-opacity=\"1\" /><path clip-path=\"url(#clip880)\" d=\"M1720.62 1517.37 Q1717.01 1517.37 1715.18 1520.93 Q1713.38 1524.47 1713.38 1531.6 Q1713.38 1538.71 1715.18 1542.27 Q1717.01 1545.82 1720.62 1545.82 Q1724.26 1545.82 1726.06 1542.27 Q1727.89 1538.71 1727.89 1531.6 Q1727.89 1524.47 1726.06 1520.93 Q1724.26 1517.37 1720.62 1517.37 M1720.62 1513.66 Q1726.43 1513.66 1729.49 1518.27 Q1732.57 1522.85 1732.57 1531.6 Q1732.57 1540.33 1729.49 1544.94 Q1726.43 1549.52 1720.62 1549.52 Q1714.81 1549.52 1711.73 1544.94 Q1708.68 1540.33 1708.68 1531.6 Q1708.68 1522.85 1711.73 1518.27 Q1714.81 1513.66 1720.62 1513.66 Z\" fill=\"#000000\" fill-rule=\"evenodd\" fill-opacity=\"1\" /><path clip-path=\"url(#clip880)\" d=\"M1740.79 1542.97 L1745.67 1542.97 L1745.67 1548.85 L1740.79 1548.85 L1740.79 1542.97 Z\" fill=\"#000000\" fill-rule=\"evenodd\" fill-opacity=\"1\" /><path clip-path=\"url(#clip880)\" d=\"M1766.43 1529.7 Q1763.29 1529.7 1761.43 1531.86 Q1759.6 1534.01 1759.6 1537.76 Q1759.6 1541.49 1761.43 1543.66 Q1763.29 1545.82 1766.43 1545.82 Q1769.58 1545.82 1771.41 1543.66 Q1773.26 1541.49 1773.26 1537.76 Q1773.26 1534.01 1771.41 1531.86 Q1769.58 1529.7 1766.43 1529.7 M1775.72 1515.05 L1775.72 1519.31 Q1773.96 1518.48 1772.15 1518.04 Q1770.37 1517.6 1768.61 1517.6 Q1763.98 1517.6 1761.53 1520.72 Q1759.1 1523.85 1758.75 1530.17 Q1760.11 1528.15 1762.17 1527.09 Q1764.23 1526 1766.71 1526 Q1771.92 1526 1774.93 1529.17 Q1777.96 1532.32 1777.96 1537.76 Q1777.96 1543.08 1774.81 1546.3 Q1771.66 1549.52 1766.43 1549.52 Q1760.44 1549.52 1757.27 1544.94 Q1754.1 1540.33 1754.1 1531.6 Q1754.1 1523.41 1757.98 1518.55 Q1761.87 1513.66 1768.42 1513.66 Q1770.18 1513.66 1771.97 1514.01 Q1773.77 1514.36 1775.72 1515.05 Z\" fill=\"#000000\" fill-rule=\"evenodd\" fill-opacity=\"1\" /><path clip-path=\"url(#clip880)\" d=\"M2209.39 1517.37 Q2205.78 1517.37 2203.95 1520.93 Q2202.15 1524.47 2202.15 1531.6 Q2202.15 1538.71 2203.95 1542.27 Q2205.78 1545.82 2209.39 1545.82 Q2213.03 1545.82 2214.83 1542.27 Q2216.66 1538.71 2216.66 1531.6 Q2216.66 1524.47 2214.83 1520.93 Q2213.03 1517.37 2209.39 1517.37 M2209.39 1513.66 Q2215.2 1513.66 2218.26 1518.27 Q2221.34 1522.85 2221.34 1531.6 Q2221.34 1540.33 2218.26 1544.94 Q2215.2 1549.52 2209.39 1549.52 Q2203.58 1549.52 2200.51 1544.94 Q2197.45 1540.33 2197.45 1531.6 Q2197.45 1522.85 2200.51 1518.27 Q2203.58 1513.66 2209.39 1513.66 Z\" fill=\"#000000\" fill-rule=\"evenodd\" fill-opacity=\"1\" /><path clip-path=\"url(#clip880)\" d=\"M2229.56 1542.97 L2234.44 1542.97 L2234.44 1548.85 L2229.56 1548.85 L2229.56 1542.97 Z\" fill=\"#000000\" fill-rule=\"evenodd\" fill-opacity=\"1\" /><path clip-path=\"url(#clip880)\" d=\"M2254.63 1532.44 Q2251.29 1532.44 2249.37 1534.22 Q2247.47 1536 2247.47 1539.13 Q2247.47 1542.25 2249.37 1544.03 Q2251.29 1545.82 2254.63 1545.82 Q2257.96 1545.82 2259.88 1544.03 Q2261.8 1542.23 2261.8 1539.13 Q2261.8 1536 2259.88 1534.22 Q2257.98 1532.44 2254.63 1532.44 M2249.95 1530.45 Q2246.94 1529.7 2245.25 1527.64 Q2243.58 1525.58 2243.58 1522.62 Q2243.58 1518.48 2246.52 1516.07 Q2249.49 1513.66 2254.63 1513.66 Q2259.79 1513.66 2262.73 1516.07 Q2265.67 1518.48 2265.67 1522.62 Q2265.67 1525.58 2263.98 1527.64 Q2262.31 1529.7 2259.32 1530.45 Q2262.7 1531.23 2264.58 1533.52 Q2266.48 1535.82 2266.48 1539.13 Q2266.48 1544.15 2263.4 1546.83 Q2260.34 1549.52 2254.63 1549.52 Q2248.91 1549.52 2245.83 1546.83 Q2242.77 1544.15 2242.77 1539.13 Q2242.77 1535.82 2244.67 1533.52 Q2246.57 1531.23 2249.95 1530.45 M2248.24 1523.06 Q2248.24 1525.75 2249.9 1527.25 Q2251.59 1528.76 2254.63 1528.76 Q2257.63 1528.76 2259.32 1527.25 Q2261.04 1525.75 2261.04 1523.06 Q2261.04 1520.38 2259.32 1518.87 Q2257.63 1517.37 2254.63 1517.37 Q2251.59 1517.37 2249.9 1518.87 Q2248.24 1520.38 2248.24 1523.06 Z\" fill=\"#000000\" fill-rule=\"evenodd\" fill-opacity=\"1\" /><polyline clip-path=\"url(#clip882)\" style=\"stroke:#000000; stroke-linecap:butt; stroke-linejoin:round; stroke-width:2; stroke-opacity:0.1; fill:none\" points=\"\n",
       "  156.598,1445.72 2352.76,1445.72 \n",
       "  \"/>\n",
       "<polyline clip-path=\"url(#clip882)\" style=\"stroke:#000000; stroke-linecap:butt; stroke-linejoin:round; stroke-width:2; stroke-opacity:0.1; fill:none\" points=\"\n",
       "  156.598,1110.72 2352.76,1110.72 \n",
       "  \"/>\n",
       "<polyline clip-path=\"url(#clip882)\" style=\"stroke:#000000; stroke-linecap:butt; stroke-linejoin:round; stroke-width:2; stroke-opacity:0.1; fill:none\" points=\"\n",
       "  156.598,775.725 2352.76,775.725 \n",
       "  \"/>\n",
       "<polyline clip-path=\"url(#clip882)\" style=\"stroke:#000000; stroke-linecap:butt; stroke-linejoin:round; stroke-width:2; stroke-opacity:0.1; fill:none\" points=\"\n",
       "  156.598,440.73 2352.76,440.73 \n",
       "  \"/>\n",
       "<polyline clip-path=\"url(#clip882)\" style=\"stroke:#000000; stroke-linecap:butt; stroke-linejoin:round; stroke-width:2; stroke-opacity:0.1; fill:none\" points=\"\n",
       "  156.598,105.734 2352.76,105.734 \n",
       "  \"/>\n",
       "<polyline clip-path=\"url(#clip880)\" style=\"stroke:#000000; stroke-linecap:butt; stroke-linejoin:round; stroke-width:4; stroke-opacity:1; fill:none\" points=\"\n",
       "  156.598,1486.45 156.598,47.2441 \n",
       "  \"/>\n",
       "<polyline clip-path=\"url(#clip880)\" style=\"stroke:#000000; stroke-linecap:butt; stroke-linejoin:round; stroke-width:4; stroke-opacity:1; fill:none\" points=\"\n",
       "  156.598,1445.72 175.496,1445.72 \n",
       "  \"/>\n",
       "<polyline clip-path=\"url(#clip880)\" style=\"stroke:#000000; stroke-linecap:butt; stroke-linejoin:round; stroke-width:4; stroke-opacity:1; fill:none\" points=\"\n",
       "  156.598,1110.72 175.496,1110.72 \n",
       "  \"/>\n",
       "<polyline clip-path=\"url(#clip880)\" style=\"stroke:#000000; stroke-linecap:butt; stroke-linejoin:round; stroke-width:4; stroke-opacity:1; fill:none\" points=\"\n",
       "  156.598,775.725 175.496,775.725 \n",
       "  \"/>\n",
       "<polyline clip-path=\"url(#clip880)\" style=\"stroke:#000000; stroke-linecap:butt; stroke-linejoin:round; stroke-width:4; stroke-opacity:1; fill:none\" points=\"\n",
       "  156.598,440.73 175.496,440.73 \n",
       "  \"/>\n",
       "<polyline clip-path=\"url(#clip880)\" style=\"stroke:#000000; stroke-linecap:butt; stroke-linejoin:round; stroke-width:4; stroke-opacity:1; fill:none\" points=\"\n",
       "  156.598,105.734 175.496,105.734 \n",
       "  \"/>\n",
       "<path clip-path=\"url(#clip880)\" d=\"M63.4226 1431.51 Q59.8115 1431.51 57.9828 1435.08 Q56.1773 1438.62 56.1773 1445.75 Q56.1773 1452.86 57.9828 1456.42 Q59.8115 1459.96 63.4226 1459.96 Q67.0569 1459.96 68.8624 1456.42 Q70.6911 1452.86 70.6911 1445.75 Q70.6911 1438.62 68.8624 1435.08 Q67.0569 1431.51 63.4226 1431.51 M63.4226 1427.81 Q69.2328 1427.81 72.2883 1432.42 Q75.367 1437 75.367 1445.75 Q75.367 1454.48 72.2883 1459.08 Q69.2328 1463.67 63.4226 1463.67 Q57.6125 1463.67 54.5338 1459.08 Q51.4782 1454.48 51.4782 1445.75 Q51.4782 1437 54.5338 1432.42 Q57.6125 1427.81 63.4226 1427.81 Z\" fill=\"#000000\" fill-rule=\"evenodd\" fill-opacity=\"1\" /><path clip-path=\"url(#clip880)\" d=\"M83.5845 1457.12 L88.4688 1457.12 L88.4688 1463 L83.5845 1463 L83.5845 1457.12 Z\" fill=\"#000000\" fill-rule=\"evenodd\" fill-opacity=\"1\" /><path clip-path=\"url(#clip880)\" d=\"M108.654 1431.51 Q105.043 1431.51 103.214 1435.08 Q101.409 1438.62 101.409 1445.75 Q101.409 1452.86 103.214 1456.42 Q105.043 1459.96 108.654 1459.96 Q112.288 1459.96 114.094 1456.42 Q115.922 1452.86 115.922 1445.75 Q115.922 1438.62 114.094 1435.08 Q112.288 1431.51 108.654 1431.51 M108.654 1427.81 Q114.464 1427.81 117.52 1432.42 Q120.598 1437 120.598 1445.75 Q120.598 1454.48 117.52 1459.08 Q114.464 1463.67 108.654 1463.67 Q102.844 1463.67 99.765 1459.08 Q96.7095 1454.48 96.7095 1445.75 Q96.7095 1437 99.765 1432.42 Q102.844 1427.81 108.654 1427.81 Z\" fill=\"#000000\" fill-rule=\"evenodd\" fill-opacity=\"1\" /><path clip-path=\"url(#clip880)\" d=\"M65.0198 1096.52 Q61.4087 1096.52 59.58 1100.08 Q57.7745 1103.63 57.7745 1110.76 Q57.7745 1117.86 59.58 1121.43 Q61.4087 1124.97 65.0198 1124.97 Q68.6541 1124.97 70.4596 1121.43 Q72.2883 1117.86 72.2883 1110.76 Q72.2883 1103.63 70.4596 1100.08 Q68.6541 1096.52 65.0198 1096.52 M65.0198 1092.82 Q70.83 1092.82 73.8855 1097.42 Q76.9642 1102.01 76.9642 1110.76 Q76.9642 1119.48 73.8855 1124.09 Q70.83 1128.67 65.0198 1128.67 Q59.2097 1128.67 56.131 1124.09 Q53.0754 1119.48 53.0754 1110.76 Q53.0754 1102.01 56.131 1097.42 Q59.2097 1092.82 65.0198 1092.82 Z\" fill=\"#000000\" fill-rule=\"evenodd\" fill-opacity=\"1\" /><path clip-path=\"url(#clip880)\" d=\"M85.1818 1122.12 L90.066 1122.12 L90.066 1128 L85.1818 1128 L85.1818 1122.12 Z\" fill=\"#000000\" fill-rule=\"evenodd\" fill-opacity=\"1\" /><path clip-path=\"url(#clip880)\" d=\"M104.279 1124.07 L120.598 1124.07 L120.598 1128 L98.6539 1128 L98.6539 1124.07 Q101.316 1121.31 105.899 1116.68 Q110.506 1112.03 111.686 1110.69 Q113.932 1108.16 114.811 1106.43 Q115.714 1104.67 115.714 1102.98 Q115.714 1100.22 113.77 1098.49 Q111.848 1096.75 108.746 1096.75 Q106.547 1096.75 104.094 1097.51 Q101.663 1098.28 98.8854 1099.83 L98.8854 1095.11 Q101.709 1093.97 104.163 1093.39 Q106.617 1092.82 108.654 1092.82 Q114.024 1092.82 117.219 1095.5 Q120.413 1098.19 120.413 1102.68 Q120.413 1104.81 119.603 1106.73 Q118.816 1108.63 116.709 1111.22 Q116.131 1111.89 113.029 1115.11 Q109.927 1118.3 104.279 1124.07 Z\" fill=\"#000000\" fill-rule=\"evenodd\" fill-opacity=\"1\" /><path clip-path=\"url(#clip880)\" d=\"M62.9365 761.524 Q59.3254 761.524 57.4967 765.088 Q55.6912 768.63 55.6912 775.76 Q55.6912 782.866 57.4967 786.431 Q59.3254 789.973 62.9365 789.973 Q66.5707 789.973 68.3763 786.431 Q70.205 782.866 70.205 775.76 Q70.205 768.63 68.3763 765.088 Q66.5707 761.524 62.9365 761.524 M62.9365 757.82 Q68.7467 757.82 71.8022 762.426 Q74.8809 767.01 74.8809 775.76 Q74.8809 784.486 71.8022 789.093 Q68.7467 793.676 62.9365 793.676 Q57.1264 793.676 54.0477 789.093 Q50.9921 784.486 50.9921 775.76 Q50.9921 767.01 54.0477 762.426 Q57.1264 757.82 62.9365 757.82 Z\" fill=\"#000000\" fill-rule=\"evenodd\" fill-opacity=\"1\" /><path clip-path=\"url(#clip880)\" d=\"M83.0984 787.125 L87.9827 787.125 L87.9827 793.005 L83.0984 793.005 L83.0984 787.125 Z\" fill=\"#000000\" fill-rule=\"evenodd\" fill-opacity=\"1\" /><path clip-path=\"url(#clip880)\" d=\"M111.015 762.519 L99.2095 780.968 L111.015 780.968 L111.015 762.519 M109.788 758.445 L115.668 758.445 L115.668 780.968 L120.598 780.968 L120.598 784.857 L115.668 784.857 L115.668 793.005 L111.015 793.005 L111.015 784.857 L95.4132 784.857 L95.4132 780.343 L109.788 758.445 Z\" fill=\"#000000\" fill-rule=\"evenodd\" fill-opacity=\"1\" /><path clip-path=\"url(#clip880)\" d=\"M63.2606 426.528 Q59.6495 426.528 57.8208 430.093 Q56.0152 433.635 56.0152 440.764 Q56.0152 447.871 57.8208 451.436 Q59.6495 454.977 63.2606 454.977 Q66.8948 454.977 68.7004 451.436 Q70.5291 447.871 70.5291 440.764 Q70.5291 433.635 68.7004 430.093 Q66.8948 426.528 63.2606 426.528 M63.2606 422.825 Q69.0707 422.825 72.1263 427.431 Q75.205 432.014 75.205 440.764 Q75.205 449.491 72.1263 454.098 Q69.0707 458.681 63.2606 458.681 Q57.4504 458.681 54.3717 454.098 Q51.3162 449.491 51.3162 440.764 Q51.3162 432.014 54.3717 427.431 Q57.4504 422.825 63.2606 422.825 Z\" fill=\"#000000\" fill-rule=\"evenodd\" fill-opacity=\"1\" /><path clip-path=\"url(#clip880)\" d=\"M83.4225 452.13 L88.3067 452.13 L88.3067 458.01 L83.4225 458.01 L83.4225 452.13 Z\" fill=\"#000000\" fill-rule=\"evenodd\" fill-opacity=\"1\" /><path clip-path=\"url(#clip880)\" d=\"M109.071 438.866 Q105.922 438.866 104.071 441.019 Q102.242 443.172 102.242 446.922 Q102.242 450.648 104.071 452.824 Q105.922 454.977 109.071 454.977 Q112.219 454.977 114.047 452.824 Q115.899 450.648 115.899 446.922 Q115.899 443.172 114.047 441.019 Q112.219 438.866 109.071 438.866 M118.353 424.213 L118.353 428.473 Q116.594 427.639 114.788 427.2 Q113.006 426.76 111.246 426.76 Q106.617 426.76 104.163 429.885 Q101.733 433.01 101.385 439.329 Q102.751 437.315 104.811 436.25 Q106.871 435.162 109.348 435.162 Q114.557 435.162 117.566 438.334 Q120.598 441.482 120.598 446.922 Q120.598 452.246 117.45 455.463 Q114.302 458.681 109.071 458.681 Q103.075 458.681 99.9039 454.098 Q96.7326 449.491 96.7326 440.764 Q96.7326 432.57 100.621 427.709 Q104.51 422.825 111.061 422.825 Q112.82 422.825 114.603 423.172 Q116.408 423.519 118.353 424.213 Z\" fill=\"#000000\" fill-rule=\"evenodd\" fill-opacity=\"1\" /><path clip-path=\"url(#clip880)\" d=\"M63.5152 91.5329 Q59.9041 91.5329 58.0754 95.0977 Q56.2699 98.6393 56.2699 105.769 Q56.2699 112.875 58.0754 116.44 Q59.9041 119.982 63.5152 119.982 Q67.1494 119.982 68.955 116.44 Q70.7837 112.875 70.7837 105.769 Q70.7837 98.6393 68.955 95.0977 Q67.1494 91.5329 63.5152 91.5329 M63.5152 87.8292 Q69.3254 87.8292 72.3809 92.4356 Q75.4596 97.0189 75.4596 105.769 Q75.4596 114.496 72.3809 119.102 Q69.3254 123.685 63.5152 123.685 Q57.7051 123.685 54.6264 119.102 Q51.5708 114.496 51.5708 105.769 Q51.5708 97.0189 54.6264 92.4356 Q57.7051 87.8292 63.5152 87.8292 Z\" fill=\"#000000\" fill-rule=\"evenodd\" fill-opacity=\"1\" /><path clip-path=\"url(#clip880)\" d=\"M83.6771 117.135 L88.5614 117.135 L88.5614 123.014 L83.6771 123.014 L83.6771 117.135 Z\" fill=\"#000000\" fill-rule=\"evenodd\" fill-opacity=\"1\" /><path clip-path=\"url(#clip880)\" d=\"M108.746 106.602 Q105.413 106.602 103.492 108.385 Q101.594 110.167 101.594 113.292 Q101.594 116.417 103.492 118.199 Q105.413 119.982 108.746 119.982 Q112.08 119.982 114.001 118.199 Q115.922 116.394 115.922 113.292 Q115.922 110.167 114.001 108.385 Q112.103 106.602 108.746 106.602 M104.071 104.611 Q101.061 103.871 99.3715 101.811 Q97.7048 99.7504 97.7048 96.7875 Q97.7048 92.644 100.645 90.2366 Q103.608 87.8292 108.746 87.8292 Q113.908 87.8292 116.848 90.2366 Q119.788 92.644 119.788 96.7875 Q119.788 99.7504 118.098 101.811 Q116.432 103.871 113.445 104.611 Q116.825 105.399 118.7 107.69 Q120.598 109.982 120.598 113.292 Q120.598 118.315 117.52 121 Q114.464 123.685 108.746 123.685 Q103.029 123.685 99.9502 121 Q96.8947 118.315 96.8947 113.292 Q96.8947 109.982 98.7928 107.69 Q100.691 105.399 104.071 104.611 M102.358 97.2273 Q102.358 99.9124 104.024 101.417 Q105.714 102.922 108.746 102.922 Q111.756 102.922 113.445 101.417 Q115.158 99.9124 115.158 97.2273 Q115.158 94.5421 113.445 93.0375 Q111.756 91.5329 108.746 91.5329 Q105.714 91.5329 104.024 93.0375 Q102.358 94.5421 102.358 97.2273 Z\" fill=\"#000000\" fill-rule=\"evenodd\" fill-opacity=\"1\" /><defs>\n",
       "  <pattern id=\"pattern1\" patternUnits=\"userSpaceOnUse\" x=\"0\" y=\"0\" width=\"32\" height=\"32\">\n",
       "<g transform=\"scale(4)\"><path d=\"M-4,4 l8,-8 M4,12 l8,-8 M-4,12 l16,-16\" style=\"stroke:#009af9; stroke-width:1; stroke-opacity:1\"/></g></pattern>\n",
       "</defs>\n",
       "<path clip-path=\"url(#clip882)\" d=\"\n",
       "M277.391 87.9763 L277.391 1445.72 L521.712 1445.72 L521.712 87.9763 L277.391 87.9763 L277.391 87.9763  Z\n",
       "  \" fill=\"url(#pattern1)\"/>\n",
       "<polyline clip-path=\"url(#clip882)\" style=\"stroke:#000000; stroke-linecap:butt; stroke-linejoin:round; stroke-width:4; stroke-opacity:1; fill:none\" points=\"\n",
       "  277.391,87.9763 277.391,1445.72 521.712,1445.72 521.712,87.9763 277.391,87.9763 \n",
       "  \"/>\n",
       "<defs>\n",
       "  <pattern id=\"pattern2\" patternUnits=\"userSpaceOnUse\" x=\"0\" y=\"0\" width=\"32\" height=\"32\">\n",
       "<g transform=\"scale(4)\"><path d=\"M-4,4 l8,-8 M4,12 l8,-8 M-4,12 l16,-16\" style=\"stroke:#009af9; stroke-width:1; stroke-opacity:1\"/></g></pattern>\n",
       "</defs>\n",
       "<path clip-path=\"url(#clip882)\" d=\"\n",
       "M521.712 1396.7 L521.712 1445.72 L766.034 1445.72 L766.034 1396.7 L521.712 1396.7 L521.712 1396.7  Z\n",
       "  \" fill=\"url(#pattern2)\"/>\n",
       "<polyline clip-path=\"url(#clip882)\" style=\"stroke:#000000; stroke-linecap:butt; stroke-linejoin:round; stroke-width:4; stroke-opacity:1; fill:none\" points=\"\n",
       "  521.712,1396.7 521.712,1445.72 766.034,1445.72 766.034,1396.7 521.712,1396.7 \n",
       "  \"/>\n",
       "<defs>\n",
       "  <pattern id=\"pattern3\" patternUnits=\"userSpaceOnUse\" x=\"0\" y=\"0\" width=\"32\" height=\"32\">\n",
       "<g transform=\"scale(4)\"><path d=\"M-4,4 l8,-8 M4,12 l8,-8 M-4,12 l16,-16\" style=\"stroke:#009af9; stroke-width:1; stroke-opacity:1\"/></g></pattern>\n",
       "</defs>\n",
       "<path clip-path=\"url(#clip882)\" d=\"\n",
       "M766.034 1265.36 L766.034 1445.72 L1010.36 1445.72 L1010.36 1265.36 L766.034 1265.36 L766.034 1265.36  Z\n",
       "  \" fill=\"url(#pattern3)\"/>\n",
       "<polyline clip-path=\"url(#clip882)\" style=\"stroke:#000000; stroke-linecap:butt; stroke-linejoin:round; stroke-width:4; stroke-opacity:1; fill:none\" points=\"\n",
       "  766.034,1265.36 766.034,1445.72 1010.36,1445.72 1010.36,1265.36 766.034,1265.36 \n",
       "  \"/>\n",
       "<defs>\n",
       "  <pattern id=\"pattern4\" patternUnits=\"userSpaceOnUse\" x=\"0\" y=\"0\" width=\"32\" height=\"32\">\n",
       "<g transform=\"scale(4)\"><path d=\"M-4,4 l8,-8 M4,12 l8,-8 M-4,12 l16,-16\" style=\"stroke:#009af9; stroke-width:1; stroke-opacity:1\"/></g></pattern>\n",
       "</defs>\n",
       "<path clip-path=\"url(#clip882)\" d=\"\n",
       "M1010.36 1411.49 L1010.36 1445.72 L1254.68 1445.72 L1254.68 1411.49 L1010.36 1411.49 L1010.36 1411.49  Z\n",
       "  \" fill=\"url(#pattern4)\"/>\n",
       "<polyline clip-path=\"url(#clip882)\" style=\"stroke:#000000; stroke-linecap:butt; stroke-linejoin:round; stroke-width:4; stroke-opacity:1; fill:none\" points=\"\n",
       "  1010.36,1411.49 1010.36,1445.72 1254.68,1445.72 1254.68,1411.49 1010.36,1411.49 \n",
       "  \"/>\n",
       "<defs>\n",
       "  <pattern id=\"pattern5\" patternUnits=\"userSpaceOnUse\" x=\"0\" y=\"0\" width=\"32\" height=\"32\">\n",
       "<g transform=\"scale(4)\"><path d=\"M-4,4 l8,-8 M4,12 l8,-8 M-4,12 l16,-16\" style=\"stroke:#009af9; stroke-width:1; stroke-opacity:1\"/></g></pattern>\n",
       "</defs>\n",
       "<path clip-path=\"url(#clip882)\" d=\"\n",
       "M1254.68 1415.19 L1254.68 1445.72 L1499 1445.72 L1499 1415.19 L1254.68 1415.19 L1254.68 1415.19  Z\n",
       "  \" fill=\"url(#pattern5)\"/>\n",
       "<polyline clip-path=\"url(#clip882)\" style=\"stroke:#000000; stroke-linecap:butt; stroke-linejoin:round; stroke-width:4; stroke-opacity:1; fill:none\" points=\"\n",
       "  1254.68,1415.19 1254.68,1445.72 1499,1445.72 1499,1415.19 1254.68,1415.19 \n",
       "  \"/>\n",
       "<defs>\n",
       "  <pattern id=\"pattern6\" patternUnits=\"userSpaceOnUse\" x=\"0\" y=\"0\" width=\"32\" height=\"32\">\n",
       "<g transform=\"scale(4)\"><path d=\"M-4,4 l8,-8 M4,12 l8,-8 M-4,12 l16,-16\" style=\"stroke:#009af9; stroke-width:1; stroke-opacity:1\"/></g></pattern>\n",
       "</defs>\n",
       "<path clip-path=\"url(#clip882)\" d=\"\n",
       "M1499 1437.39 L1499 1445.72 L1743.32 1445.72 L1743.32 1437.39 L1499 1437.39 L1499 1437.39  Z\n",
       "  \" fill=\"url(#pattern6)\"/>\n",
       "<polyline clip-path=\"url(#clip882)\" style=\"stroke:#000000; stroke-linecap:butt; stroke-linejoin:round; stroke-width:4; stroke-opacity:1; fill:none\" points=\"\n",
       "  1499,1437.39 1499,1445.72 1743.32,1445.72 1743.32,1437.39 1499,1437.39 \n",
       "  \"/>\n",
       "<defs>\n",
       "  <pattern id=\"pattern7\" patternUnits=\"userSpaceOnUse\" x=\"0\" y=\"0\" width=\"32\" height=\"32\">\n",
       "<g transform=\"scale(4)\"><path d=\"M-4,4 l8,-8 M4,12 l8,-8 M-4,12 l16,-16\" style=\"stroke:#009af9; stroke-width:1; stroke-opacity:1\"/></g></pattern>\n",
       "</defs>\n",
       "<path clip-path=\"url(#clip882)\" d=\"\n",
       "M1743.32 1436.47 L1743.32 1445.72 L1987.64 1445.72 L1987.64 1436.47 L1743.32 1436.47 L1743.32 1436.47  Z\n",
       "  \" fill=\"url(#pattern7)\"/>\n",
       "<polyline clip-path=\"url(#clip882)\" style=\"stroke:#000000; stroke-linecap:butt; stroke-linejoin:round; stroke-width:4; stroke-opacity:1; fill:none\" points=\"\n",
       "  1743.32,1436.47 1743.32,1445.72 1987.64,1445.72 1987.64,1436.47 1743.32,1436.47 \n",
       "  \"/>\n",
       "<defs>\n",
       "  <pattern id=\"pattern8\" patternUnits=\"userSpaceOnUse\" x=\"0\" y=\"0\" width=\"32\" height=\"32\">\n",
       "<g transform=\"scale(4)\"><path d=\"M-4,4 l8,-8 M4,12 l8,-8 M-4,12 l16,-16\" style=\"stroke:#009af9; stroke-width:1; stroke-opacity:1\"/></g></pattern>\n",
       "</defs>\n",
       "<path clip-path=\"url(#clip882)\" d=\"\n",
       "M1987.64 1440.17 L1987.64 1445.72 L2231.96 1445.72 L2231.96 1440.17 L1987.64 1440.17 L1987.64 1440.17  Z\n",
       "  \" fill=\"url(#pattern8)\"/>\n",
       "<polyline clip-path=\"url(#clip882)\" style=\"stroke:#000000; stroke-linecap:butt; stroke-linejoin:round; stroke-width:4; stroke-opacity:1; fill:none\" points=\"\n",
       "  1987.64,1440.17 1987.64,1445.72 2231.96,1445.72 2231.96,1440.17 1987.64,1440.17 \n",
       "  \"/>\n",
       "<circle clip-path=\"url(#clip882)\" style=\"fill:#009af9; stroke:none; fill-opacity:0\" cx=\"399.552\" cy=\"87.9763\" r=\"2\"/>\n",
       "<circle clip-path=\"url(#clip882)\" style=\"fill:#009af9; stroke:none; fill-opacity:0\" cx=\"643.873\" cy=\"1396.7\" r=\"2\"/>\n",
       "<circle clip-path=\"url(#clip882)\" style=\"fill:#009af9; stroke:none; fill-opacity:0\" cx=\"888.195\" cy=\"1265.36\" r=\"2\"/>\n",
       "<circle clip-path=\"url(#clip882)\" style=\"fill:#009af9; stroke:none; fill-opacity:0\" cx=\"1132.52\" cy=\"1411.49\" r=\"2\"/>\n",
       "<circle clip-path=\"url(#clip882)\" style=\"fill:#009af9; stroke:none; fill-opacity:0\" cx=\"1376.84\" cy=\"1415.19\" r=\"2\"/>\n",
       "<circle clip-path=\"url(#clip882)\" style=\"fill:#009af9; stroke:none; fill-opacity:0\" cx=\"1621.16\" cy=\"1437.39\" r=\"2\"/>\n",
       "<circle clip-path=\"url(#clip882)\" style=\"fill:#009af9; stroke:none; fill-opacity:0\" cx=\"1865.48\" cy=\"1436.47\" r=\"2\"/>\n",
       "<circle clip-path=\"url(#clip882)\" style=\"fill:#009af9; stroke:none; fill-opacity:0\" cx=\"2109.8\" cy=\"1440.17\" r=\"2\"/>\n",
       "<path clip-path=\"url(#clip882)\" d=\"\n",
       "M277.391 1183.11 L277.391 1445.72 L521.712 1445.72 L521.712 1183.11 L277.391 1183.11 L277.391 1183.11  Z\n",
       "  \" fill=\"#e26f46\" fill-rule=\"evenodd\" fill-opacity=\"0.5\"/>\n",
       "<polyline clip-path=\"url(#clip882)\" style=\"stroke:#000000; stroke-linecap:butt; stroke-linejoin:round; stroke-width:4; stroke-opacity:1; fill:none\" points=\"\n",
       "  277.391,1183.11 277.391,1445.72 521.712,1445.72 521.712,1183.11 277.391,1183.11 \n",
       "  \"/>\n",
       "<path clip-path=\"url(#clip882)\" d=\"\n",
       "M521.712 1367.64 L521.712 1445.72 L766.034 1445.72 L766.034 1367.64 L521.712 1367.64 L521.712 1367.64  Z\n",
       "  \" fill=\"#e26f46\" fill-rule=\"evenodd\" fill-opacity=\"0.5\"/>\n",
       "<polyline clip-path=\"url(#clip882)\" style=\"stroke:#000000; stroke-linecap:butt; stroke-linejoin:round; stroke-width:4; stroke-opacity:1; fill:none\" points=\"\n",
       "  521.712,1367.64 521.712,1445.72 766.034,1445.72 766.034,1367.64 521.712,1367.64 \n",
       "  \"/>\n",
       "<path clip-path=\"url(#clip882)\" d=\"\n",
       "M766.034 920.511 L766.034 1445.72 L1010.36 1445.72 L1010.36 920.511 L766.034 920.511 L766.034 920.511  Z\n",
       "  \" fill=\"#e26f46\" fill-rule=\"evenodd\" fill-opacity=\"0.5\"/>\n",
       "<polyline clip-path=\"url(#clip882)\" style=\"stroke:#000000; stroke-linecap:butt; stroke-linejoin:round; stroke-width:4; stroke-opacity:1; fill:none\" points=\"\n",
       "  766.034,920.511 766.034,1445.72 1010.36,1445.72 1010.36,920.511 766.034,920.511 \n",
       "  \"/>\n",
       "<path clip-path=\"url(#clip882)\" d=\"\n",
       "M1010.36 1204.41 L1010.36 1445.72 L1254.68 1445.72 L1254.68 1204.41 L1010.36 1204.41 L1010.36 1204.41  Z\n",
       "  \" fill=\"#e26f46\" fill-rule=\"evenodd\" fill-opacity=\"0.5\"/>\n",
       "<polyline clip-path=\"url(#clip882)\" style=\"stroke:#000000; stroke-linecap:butt; stroke-linejoin:round; stroke-width:4; stroke-opacity:1; fill:none\" points=\"\n",
       "  1010.36,1204.41 1010.36,1445.72 1254.68,1445.72 1254.68,1204.41 1010.36,1204.41 \n",
       "  \"/>\n",
       "<path clip-path=\"url(#clip882)\" d=\"\n",
       "M1254.68 1232.79 L1254.68 1445.72 L1499 1445.72 L1499 1232.79 L1254.68 1232.79 L1254.68 1232.79  Z\n",
       "  \" fill=\"#e26f46\" fill-rule=\"evenodd\" fill-opacity=\"0.5\"/>\n",
       "<polyline clip-path=\"url(#clip882)\" style=\"stroke:#000000; stroke-linecap:butt; stroke-linejoin:round; stroke-width:4; stroke-opacity:1; fill:none\" points=\"\n",
       "  1254.68,1232.79 1254.68,1445.72 1499,1445.72 1499,1232.79 1254.68,1232.79 \n",
       "  \"/>\n",
       "<path clip-path=\"url(#clip882)\" d=\"\n",
       "M1499 1310.87 L1499 1445.72 L1743.32 1445.72 L1743.32 1310.87 L1499 1310.87 L1499 1310.87  Z\n",
       "  \" fill=\"#e26f46\" fill-rule=\"evenodd\" fill-opacity=\"0.5\"/>\n",
       "<polyline clip-path=\"url(#clip882)\" style=\"stroke:#000000; stroke-linecap:butt; stroke-linejoin:round; stroke-width:4; stroke-opacity:1; fill:none\" points=\"\n",
       "  1499,1310.87 1499,1445.72 1743.32,1445.72 1743.32,1310.87 1499,1310.87 \n",
       "  \"/>\n",
       "<path clip-path=\"url(#clip882)\" d=\"\n",
       "M1743.32 1303.77 L1743.32 1445.72 L1987.64 1445.72 L1987.64 1303.77 L1743.32 1303.77 L1743.32 1303.77  Z\n",
       "  \" fill=\"#e26f46\" fill-rule=\"evenodd\" fill-opacity=\"0.5\"/>\n",
       "<polyline clip-path=\"url(#clip882)\" style=\"stroke:#000000; stroke-linecap:butt; stroke-linejoin:round; stroke-width:4; stroke-opacity:1; fill:none\" points=\"\n",
       "  1743.32,1303.77 1743.32,1445.72 1987.64,1445.72 1987.64,1303.77 1743.32,1303.77 \n",
       "  \"/>\n",
       "<path clip-path=\"url(#clip882)\" d=\"\n",
       "M1987.64 1367.64 L1987.64 1445.72 L2231.96 1445.72 L2231.96 1367.64 L1987.64 1367.64 L1987.64 1367.64  Z\n",
       "  \" fill=\"#e26f46\" fill-rule=\"evenodd\" fill-opacity=\"0.5\"/>\n",
       "<polyline clip-path=\"url(#clip882)\" style=\"stroke:#000000; stroke-linecap:butt; stroke-linejoin:round; stroke-width:4; stroke-opacity:1; fill:none\" points=\"\n",
       "  1987.64,1367.64 1987.64,1445.72 2231.96,1445.72 2231.96,1367.64 1987.64,1367.64 \n",
       "  \"/>\n",
       "<circle clip-path=\"url(#clip882)\" style=\"fill:#e26f46; stroke:none; fill-opacity:0\" cx=\"399.552\" cy=\"1183.11\" r=\"2\"/>\n",
       "<circle clip-path=\"url(#clip882)\" style=\"fill:#e26f46; stroke:none; fill-opacity:0\" cx=\"643.873\" cy=\"1367.64\" r=\"2\"/>\n",
       "<circle clip-path=\"url(#clip882)\" style=\"fill:#e26f46; stroke:none; fill-opacity:0\" cx=\"888.195\" cy=\"920.511\" r=\"2\"/>\n",
       "<circle clip-path=\"url(#clip882)\" style=\"fill:#e26f46; stroke:none; fill-opacity:0\" cx=\"1132.52\" cy=\"1204.41\" r=\"2\"/>\n",
       "<circle clip-path=\"url(#clip882)\" style=\"fill:#e26f46; stroke:none; fill-opacity:0\" cx=\"1376.84\" cy=\"1232.79\" r=\"2\"/>\n",
       "<circle clip-path=\"url(#clip882)\" style=\"fill:#e26f46; stroke:none; fill-opacity:0\" cx=\"1621.16\" cy=\"1310.87\" r=\"2\"/>\n",
       "<circle clip-path=\"url(#clip882)\" style=\"fill:#e26f46; stroke:none; fill-opacity:0\" cx=\"1865.48\" cy=\"1303.77\" r=\"2\"/>\n",
       "<circle clip-path=\"url(#clip882)\" style=\"fill:#e26f46; stroke:none; fill-opacity:0\" cx=\"2109.8\" cy=\"1367.64\" r=\"2\"/>\n",
       "<path clip-path=\"url(#clip880)\" d=\"\n",
       "M1926.37 250.738 L2279.55 250.738 L2279.55 95.2176 L1926.37 95.2176  Z\n",
       "  \" fill=\"#ffffff\" fill-rule=\"evenodd\" fill-opacity=\"1\"/>\n",
       "<polyline clip-path=\"url(#clip880)\" style=\"stroke:#000000; stroke-linecap:butt; stroke-linejoin:round; stroke-width:4; stroke-opacity:1; fill:none\" points=\"\n",
       "  1926.37,250.738 2279.55,250.738 2279.55,95.2176 1926.37,95.2176 1926.37,250.738 \n",
       "  \"/>\n",
       "<defs>\n",
       "  <pattern id=\"pattern9\" patternUnits=\"userSpaceOnUse\" x=\"0\" y=\"0\" width=\"32\" height=\"32\">\n",
       "<g transform=\"scale(4)\"><path d=\"M-4,4 l8,-8 M4,12 l8,-8 M-4,12 l16,-16\" style=\"stroke:#009af9; stroke-width:1; stroke-opacity:1\"/></g></pattern>\n",
       "</defs>\n",
       "<path clip-path=\"url(#clip880)\" d=\"\n",
       "M1950.77 167.794 L2097.18 167.794 L2097.18 126.322 L1950.77 126.322 L1950.77 167.794  Z\n",
       "  \" fill=\"url(#pattern9)\"/>\n",
       "<polyline clip-path=\"url(#clip880)\" style=\"stroke:#000000; stroke-linecap:butt; stroke-linejoin:round; stroke-width:4; stroke-opacity:1; fill:none\" points=\"\n",
       "  1950.77,167.794 2097.18,167.794 2097.18,126.322 1950.77,126.322 1950.77,167.794 \n",
       "  \"/>\n",
       "<path clip-path=\"url(#clip880)\" d=\"M2138.09 128.319 L2138.09 131.861 L2134.01 131.861 Q2131.72 131.861 2130.82 132.787 Q2129.94 133.713 2129.94 136.12 L2129.94 138.412 L2136.95 138.412 L2136.95 141.722 L2129.94 141.722 L2129.94 164.338 L2125.66 164.338 L2125.66 141.722 L2121.58 141.722 L2121.58 138.412 L2125.66 138.412 L2125.66 136.606 Q2125.66 132.278 2127.67 130.31 Q2129.68 128.319 2134.06 128.319 L2138.09 128.319 Z\" fill=\"#000000\" fill-rule=\"evenodd\" fill-opacity=\"1\" /><path clip-path=\"url(#clip880)\" d=\"M2153.43 151.305 Q2148.27 151.305 2146.28 152.486 Q2144.29 153.666 2144.29 156.514 Q2144.29 158.782 2145.77 160.125 Q2147.28 161.444 2149.84 161.444 Q2153.39 161.444 2155.52 158.944 Q2157.67 156.421 2157.67 152.254 L2157.67 151.305 L2153.43 151.305 M2161.93 149.546 L2161.93 164.338 L2157.67 164.338 L2157.67 160.402 Q2156.21 162.763 2154.03 163.898 Q2151.86 165.009 2148.71 165.009 Q2144.73 165.009 2142.37 162.787 Q2140.03 160.541 2140.03 156.791 Q2140.03 152.416 2142.95 150.194 Q2145.89 147.972 2151.7 147.972 L2157.67 147.972 L2157.67 147.555 Q2157.67 144.615 2155.72 143.018 Q2153.8 141.398 2150.31 141.398 Q2148.09 141.398 2145.98 141.93 Q2143.87 142.463 2141.93 143.527 L2141.93 139.592 Q2144.27 138.69 2146.47 138.25 Q2148.66 137.787 2150.75 137.787 Q2156.37 137.787 2159.15 140.703 Q2161.93 143.62 2161.93 149.546 Z\" fill=\"#000000\" fill-rule=\"evenodd\" fill-opacity=\"1\" /><path clip-path=\"url(#clip880)\" d=\"M2170.7 128.319 L2174.96 128.319 L2174.96 164.338 L2170.7 164.338 L2170.7 128.319 Z\" fill=\"#000000\" fill-rule=\"evenodd\" fill-opacity=\"1\" /><path clip-path=\"url(#clip880)\" d=\"M2200.4 139.176 L2200.4 143.203 Q2198.59 142.277 2196.65 141.815 Q2194.71 141.352 2192.62 141.352 Q2189.45 141.352 2187.85 142.324 Q2186.28 143.296 2186.28 145.24 Q2186.28 146.722 2187.41 147.578 Q2188.55 148.412 2191.97 149.176 L2193.43 149.5 Q2197.97 150.472 2199.87 152.254 Q2201.79 154.014 2201.79 157.185 Q2201.79 160.796 2198.92 162.902 Q2196.07 165.009 2191.07 165.009 Q2188.99 165.009 2186.72 164.592 Q2184.47 164.199 2181.97 163.388 L2181.97 158.99 Q2184.34 160.217 2186.63 160.842 Q2188.92 161.444 2191.16 161.444 Q2194.17 161.444 2195.79 160.426 Q2197.41 159.384 2197.41 157.509 Q2197.41 155.773 2196.23 154.847 Q2195.08 153.921 2191.12 153.064 L2189.64 152.717 Q2185.68 151.884 2183.92 150.171 Q2182.16 148.435 2182.16 145.426 Q2182.16 141.768 2184.75 139.778 Q2187.34 137.787 2192.11 137.787 Q2194.47 137.787 2196.56 138.134 Q2198.64 138.481 2200.4 139.176 Z\" fill=\"#000000\" fill-rule=\"evenodd\" fill-opacity=\"1\" /><path clip-path=\"url(#clip880)\" d=\"M2230.75 150.31 L2230.75 152.393 L2211.16 152.393 Q2211.44 156.791 2213.8 159.106 Q2216.19 161.398 2220.42 161.398 Q2222.88 161.398 2225.17 160.796 Q2227.48 160.194 2229.75 158.99 L2229.75 163.018 Q2227.46 163.99 2225.05 164.5 Q2222.65 165.009 2220.17 165.009 Q2213.96 165.009 2210.33 161.398 Q2206.72 157.787 2206.72 151.629 Q2206.72 145.264 2210.15 141.537 Q2213.59 137.787 2219.43 137.787 Q2224.66 137.787 2227.69 141.166 Q2230.75 144.523 2230.75 150.31 M2226.49 149.06 Q2226.44 145.565 2224.52 143.481 Q2222.62 141.398 2219.47 141.398 Q2215.91 141.398 2213.76 143.412 Q2211.63 145.426 2211.3 149.083 L2226.49 149.06 Z\" fill=\"#000000\" fill-rule=\"evenodd\" fill-opacity=\"1\" /><path clip-path=\"url(#clip880)\" d=\"\n",
       "M1950.77 219.634 L2097.18 219.634 L2097.18 178.162 L1950.77 178.162 L1950.77 219.634  Z\n",
       "  \" fill=\"#e26f46\" fill-rule=\"evenodd\" fill-opacity=\"0.5\"/>\n",
       "<polyline clip-path=\"url(#clip880)\" style=\"stroke:#000000; stroke-linecap:butt; stroke-linejoin:round; stroke-width:4; stroke-opacity:1; fill:none\" points=\"\n",
       "  1950.77,219.634 2097.18,219.634 2097.18,178.162 1950.77,178.162 1950.77,219.634 \n",
       "  \"/>\n",
       "<path clip-path=\"url(#clip880)\" d=\"M2128.99 182.891 L2128.99 190.252 L2137.76 190.252 L2137.76 193.562 L2128.99 193.562 L2128.99 207.636 Q2128.99 210.807 2129.84 211.71 Q2130.72 212.613 2133.39 212.613 L2137.76 212.613 L2137.76 216.178 L2133.39 216.178 Q2128.46 216.178 2126.58 214.349 Q2124.71 212.497 2124.71 207.636 L2124.71 193.562 L2121.58 193.562 L2121.58 190.252 L2124.71 190.252 L2124.71 182.891 L2128.99 182.891 Z\" fill=\"#000000\" fill-rule=\"evenodd\" fill-opacity=\"1\" /><path clip-path=\"url(#clip880)\" d=\"M2158.39 194.233 Q2157.67 193.817 2156.81 193.631 Q2155.98 193.423 2154.96 193.423 Q2151.35 193.423 2149.4 195.784 Q2147.48 198.122 2147.48 202.52 L2147.48 216.178 L2143.2 216.178 L2143.2 190.252 L2147.48 190.252 L2147.48 194.28 Q2148.83 191.918 2150.98 190.784 Q2153.13 189.627 2156.21 189.627 Q2156.65 189.627 2157.18 189.696 Q2157.72 189.743 2158.36 189.858 L2158.39 194.233 Z\" fill=\"#000000\" fill-rule=\"evenodd\" fill-opacity=\"1\" /><path clip-path=\"url(#clip880)\" d=\"M2162.41 205.946 L2162.41 190.252 L2166.67 190.252 L2166.67 205.784 Q2166.67 209.465 2168.11 211.316 Q2169.54 213.145 2172.41 213.145 Q2175.86 213.145 2177.85 210.946 Q2179.87 208.747 2179.87 204.951 L2179.87 190.252 L2184.13 190.252 L2184.13 216.178 L2179.87 216.178 L2179.87 212.196 Q2178.32 214.557 2176.26 215.715 Q2174.22 216.849 2171.51 216.849 Q2167.04 216.849 2164.73 214.071 Q2162.41 211.293 2162.41 205.946 M2173.13 189.627 L2173.13 189.627 Z\" fill=\"#000000\" fill-rule=\"evenodd\" fill-opacity=\"1\" /><path clip-path=\"url(#clip880)\" d=\"M2215.08 202.15 L2215.08 204.233 L2195.49 204.233 Q2195.77 208.631 2198.13 210.946 Q2200.52 213.238 2204.75 213.238 Q2207.21 213.238 2209.5 212.636 Q2211.81 212.034 2214.08 210.83 L2214.08 214.858 Q2211.79 215.83 2209.38 216.34 Q2206.97 216.849 2204.5 216.849 Q2198.29 216.849 2194.66 213.238 Q2191.05 209.627 2191.05 203.469 Q2191.05 197.104 2194.47 193.377 Q2197.92 189.627 2203.76 189.627 Q2208.99 189.627 2212.02 193.006 Q2215.08 196.363 2215.08 202.15 M2210.82 200.9 Q2210.77 197.405 2208.85 195.321 Q2206.95 193.238 2203.8 193.238 Q2200.24 193.238 2198.09 195.252 Q2195.96 197.266 2195.63 200.923 L2210.82 200.9 Z\" fill=\"#000000\" fill-rule=\"evenodd\" fill-opacity=\"1\" /></svg>\n"
      ]
     },
     "execution_count": 73,
     "metadata": {},
     "output_type": "execute_result"
    }
   ],
   "source": [
    "test_groups = groupby(test, :arrest)\n",
    "histogram(test_groups[(false,)].predict; bins=10, normalize=:probability, fillstyle= :/, label=\"false\")\n",
    "histogram!(test_groups[(true,)].predict; bins=10, normalize=:probability, fillalpha=0.5, label=\"true\")"
   ]
  },
  {
   "cell_type": "code",
   "execution_count": 74,
   "id": "8d39c5a8",
   "metadata": {},
   "outputs": [
    {
     "data": {
      "text/plain": [
       "2×2 Named Matrix{Float64}\n",
       "predicted ╲ observed │    false      true\n",
       "─────────────────────┼───────────────────\n",
       "false                │ 0.811154  0.169492\n",
       "true                 │ 0.188846  0.830508"
      ]
     },
     "execution_count": 74,
     "metadata": {},
     "output_type": "execute_result"
    }
   ],
   "source": [
    "@chain test begin\n",
    "    @rselect(:predicted=:predict > 0.15, :observed=:arrest)\n",
    "    proptable(:predicted, :observed; margins=2)\n",
    "end"
   ]
  },
  {
   "cell_type": "code",
   "execution_count": 75,
   "id": "2cfcdb3c",
   "metadata": {},
   "outputs": [
    {
     "data": {
      "text/plain": [
       "ROC curve with 62 points, of which 14 on the convex hull"
      ]
     },
     "execution_count": 75,
     "metadata": {},
     "output_type": "execute_result"
    }
   ],
   "source": [
    "test_roc = roc(test; score=:predict, target=:arrest)"
   ]
  },
  {
   "cell_type": "code",
   "execution_count": 76,
   "id": "fd4d5186",
   "metadata": {},
   "outputs": [
    {
     "data": {
      "image/svg+xml": [
       "<?xml version=\"1.0\" encoding=\"utf-8\"?>\n",
       "<svg xmlns=\"http://www.w3.org/2000/svg\" xmlns:xlink=\"http://www.w3.org/1999/xlink\" width=\"600\" height=\"400\" viewBox=\"0 0 2400 1600\">\n",
       "<defs>\n",
       "  <clipPath id=\"clip920\">\n",
       "    <rect x=\"0\" y=\"0\" width=\"2400\" height=\"1600\"/>\n",
       "  </clipPath>\n",
       "</defs>\n",
       "<path clip-path=\"url(#clip920)\" d=\"\n",
       "M0 1600 L2400 1600 L2400 0 L0 0  Z\n",
       "  \" fill=\"#ffffff\" fill-rule=\"evenodd\" fill-opacity=\"1\"/>\n",
       "<defs>\n",
       "  <clipPath id=\"clip921\">\n",
       "    <rect x=\"480\" y=\"0\" width=\"1681\" height=\"1600\"/>\n",
       "  </clipPath>\n",
       "</defs>\n",
       "<path clip-path=\"url(#clip920)\" d=\"\n",
       "M249.542 1423.18 L2352.76 1423.18 L2352.76 47.2441 L249.542 47.2441  Z\n",
       "  \" fill=\"#ffffff\" fill-rule=\"evenodd\" fill-opacity=\"1\"/>\n",
       "<defs>\n",
       "  <clipPath id=\"clip922\">\n",
       "    <rect x=\"249\" y=\"47\" width=\"2104\" height=\"1377\"/>\n",
       "  </clipPath>\n",
       "</defs>\n",
       "<polyline clip-path=\"url(#clip922)\" style=\"stroke:#000000; stroke-linecap:butt; stroke-linejoin:round; stroke-width:2; stroke-opacity:0.1; fill:none\" points=\"\n",
       "  309.067,1423.18 309.067,47.2441 \n",
       "  \"/>\n",
       "<polyline clip-path=\"url(#clip922)\" style=\"stroke:#000000; stroke-linecap:butt; stroke-linejoin:round; stroke-width:2; stroke-opacity:0.1; fill:none\" points=\"\n",
       "  805.108,1423.18 805.108,47.2441 \n",
       "  \"/>\n",
       "<polyline clip-path=\"url(#clip922)\" style=\"stroke:#000000; stroke-linecap:butt; stroke-linejoin:round; stroke-width:2; stroke-opacity:0.1; fill:none\" points=\"\n",
       "  1301.15,1423.18 1301.15,47.2441 \n",
       "  \"/>\n",
       "<polyline clip-path=\"url(#clip922)\" style=\"stroke:#000000; stroke-linecap:butt; stroke-linejoin:round; stroke-width:2; stroke-opacity:0.1; fill:none\" points=\"\n",
       "  1797.19,1423.18 1797.19,47.2441 \n",
       "  \"/>\n",
       "<polyline clip-path=\"url(#clip922)\" style=\"stroke:#000000; stroke-linecap:butt; stroke-linejoin:round; stroke-width:2; stroke-opacity:0.1; fill:none\" points=\"\n",
       "  2293.23,1423.18 2293.23,47.2441 \n",
       "  \"/>\n",
       "<polyline clip-path=\"url(#clip920)\" style=\"stroke:#000000; stroke-linecap:butt; stroke-linejoin:round; stroke-width:4; stroke-opacity:1; fill:none\" points=\"\n",
       "  249.542,1423.18 2352.76,1423.18 \n",
       "  \"/>\n",
       "<polyline clip-path=\"url(#clip920)\" style=\"stroke:#000000; stroke-linecap:butt; stroke-linejoin:round; stroke-width:4; stroke-opacity:1; fill:none\" points=\"\n",
       "  309.067,1423.18 309.067,1404.28 \n",
       "  \"/>\n",
       "<polyline clip-path=\"url(#clip920)\" style=\"stroke:#000000; stroke-linecap:butt; stroke-linejoin:round; stroke-width:4; stroke-opacity:1; fill:none\" points=\"\n",
       "  805.108,1423.18 805.108,1404.28 \n",
       "  \"/>\n",
       "<polyline clip-path=\"url(#clip920)\" style=\"stroke:#000000; stroke-linecap:butt; stroke-linejoin:round; stroke-width:4; stroke-opacity:1; fill:none\" points=\"\n",
       "  1301.15,1423.18 1301.15,1404.28 \n",
       "  \"/>\n",
       "<polyline clip-path=\"url(#clip920)\" style=\"stroke:#000000; stroke-linecap:butt; stroke-linejoin:round; stroke-width:4; stroke-opacity:1; fill:none\" points=\"\n",
       "  1797.19,1423.18 1797.19,1404.28 \n",
       "  \"/>\n",
       "<polyline clip-path=\"url(#clip920)\" style=\"stroke:#000000; stroke-linecap:butt; stroke-linejoin:round; stroke-width:4; stroke-opacity:1; fill:none\" points=\"\n",
       "  2293.23,1423.18 2293.23,1404.28 \n",
       "  \"/>\n",
       "<path clip-path=\"url(#clip920)\" d=\"M271.37 1454.1 Q267.759 1454.1 265.931 1457.66 Q264.125 1461.2 264.125 1468.33 Q264.125 1475.44 265.931 1479.01 Q267.759 1482.55 271.37 1482.55 Q275.005 1482.55 276.81 1479.01 Q278.639 1475.44 278.639 1468.33 Q278.639 1461.2 276.81 1457.66 Q275.005 1454.1 271.37 1454.1 M271.37 1450.39 Q277.181 1450.39 280.236 1455 Q283.315 1459.58 283.315 1468.33 Q283.315 1477.06 280.236 1481.67 Q277.181 1486.25 271.37 1486.25 Q265.56 1486.25 262.482 1481.67 Q259.426 1477.06 259.426 1468.33 Q259.426 1459.58 262.482 1455 Q265.56 1450.39 271.37 1450.39 Z\" fill=\"#000000\" fill-rule=\"evenodd\" fill-opacity=\"1\" /><path clip-path=\"url(#clip920)\" d=\"M291.532 1479.7 L296.417 1479.7 L296.417 1485.58 L291.532 1485.58 L291.532 1479.7 Z\" fill=\"#000000\" fill-rule=\"evenodd\" fill-opacity=\"1\" /><path clip-path=\"url(#clip920)\" d=\"M316.602 1454.1 Q312.991 1454.1 311.162 1457.66 Q309.356 1461.2 309.356 1468.33 Q309.356 1475.44 311.162 1479.01 Q312.991 1482.55 316.602 1482.55 Q320.236 1482.55 322.041 1479.01 Q323.87 1475.44 323.87 1468.33 Q323.87 1461.2 322.041 1457.66 Q320.236 1454.1 316.602 1454.1 M316.602 1450.39 Q322.412 1450.39 325.467 1455 Q328.546 1459.58 328.546 1468.33 Q328.546 1477.06 325.467 1481.67 Q322.412 1486.25 316.602 1486.25 Q310.791 1486.25 307.713 1481.67 Q304.657 1477.06 304.657 1468.33 Q304.657 1459.58 307.713 1455 Q310.791 1450.39 316.602 1450.39 Z\" fill=\"#000000\" fill-rule=\"evenodd\" fill-opacity=\"1\" /><path clip-path=\"url(#clip920)\" d=\"M346.764 1454.1 Q343.152 1454.1 341.324 1457.66 Q339.518 1461.2 339.518 1468.33 Q339.518 1475.44 341.324 1479.01 Q343.152 1482.55 346.764 1482.55 Q350.398 1482.55 352.203 1479.01 Q354.032 1475.44 354.032 1468.33 Q354.032 1461.2 352.203 1457.66 Q350.398 1454.1 346.764 1454.1 M346.764 1450.39 Q352.574 1450.39 355.629 1455 Q358.708 1459.58 358.708 1468.33 Q358.708 1477.06 355.629 1481.67 Q352.574 1486.25 346.764 1486.25 Q340.953 1486.25 337.875 1481.67 Q334.819 1477.06 334.819 1468.33 Q334.819 1459.58 337.875 1455 Q340.953 1450.39 346.764 1450.39 Z\" fill=\"#000000\" fill-rule=\"evenodd\" fill-opacity=\"1\" /><path clip-path=\"url(#clip920)\" d=\"M767.909 1454.1 Q764.298 1454.1 762.469 1457.66 Q760.664 1461.2 760.664 1468.33 Q760.664 1475.44 762.469 1479.01 Q764.298 1482.55 767.909 1482.55 Q771.543 1482.55 773.349 1479.01 Q775.178 1475.44 775.178 1468.33 Q775.178 1461.2 773.349 1457.66 Q771.543 1454.1 767.909 1454.1 M767.909 1450.39 Q773.719 1450.39 776.775 1455 Q779.853 1459.58 779.853 1468.33 Q779.853 1477.06 776.775 1481.67 Q773.719 1486.25 767.909 1486.25 Q762.099 1486.25 759.02 1481.67 Q755.965 1477.06 755.965 1468.33 Q755.965 1459.58 759.02 1455 Q762.099 1450.39 767.909 1450.39 Z\" fill=\"#000000\" fill-rule=\"evenodd\" fill-opacity=\"1\" /><path clip-path=\"url(#clip920)\" d=\"M788.071 1479.7 L792.955 1479.7 L792.955 1485.58 L788.071 1485.58 L788.071 1479.7 Z\" fill=\"#000000\" fill-rule=\"evenodd\" fill-opacity=\"1\" /><path clip-path=\"url(#clip920)\" d=\"M807.168 1481.64 L823.487 1481.64 L823.487 1485.58 L801.543 1485.58 L801.543 1481.64 Q804.205 1478.89 808.788 1474.26 Q813.395 1469.61 814.576 1468.27 Q816.821 1465.74 817.7 1464.01 Q818.603 1462.25 818.603 1460.56 Q818.603 1457.8 816.659 1456.07 Q814.738 1454.33 811.636 1454.33 Q809.437 1454.33 806.983 1455.09 Q804.552 1455.86 801.775 1457.41 L801.775 1452.69 Q804.599 1451.55 807.052 1450.97 Q809.506 1450.39 811.543 1450.39 Q816.913 1450.39 820.108 1453.08 Q823.302 1455.77 823.302 1460.26 Q823.302 1462.39 822.492 1464.31 Q821.705 1466.2 819.599 1468.8 Q819.02 1469.47 815.918 1472.69 Q812.816 1475.88 807.168 1481.64 Z\" fill=\"#000000\" fill-rule=\"evenodd\" fill-opacity=\"1\" /><path clip-path=\"url(#clip920)\" d=\"M833.349 1451.02 L851.705 1451.02 L851.705 1454.96 L837.631 1454.96 L837.631 1463.43 Q838.649 1463.08 839.668 1462.92 Q840.686 1462.73 841.705 1462.73 Q847.492 1462.73 850.872 1465.9 Q854.251 1469.08 854.251 1474.49 Q854.251 1480.07 850.779 1483.17 Q847.307 1486.25 840.987 1486.25 Q838.811 1486.25 836.543 1485.88 Q834.298 1485.51 831.89 1484.77 L831.89 1480.07 Q833.974 1481.2 836.196 1481.76 Q838.418 1482.32 840.895 1482.32 Q844.899 1482.32 847.237 1480.21 Q849.575 1478.1 849.575 1474.49 Q849.575 1470.88 847.237 1468.77 Q844.899 1466.67 840.895 1466.67 Q839.02 1466.67 837.145 1467.08 Q835.293 1467.5 833.349 1468.38 L833.349 1451.02 Z\" fill=\"#000000\" fill-rule=\"evenodd\" fill-opacity=\"1\" /><path clip-path=\"url(#clip920)\" d=\"M1263.45 1454.1 Q1259.84 1454.1 1258.01 1457.66 Q1256.21 1461.2 1256.21 1468.33 Q1256.21 1475.44 1258.01 1479.01 Q1259.84 1482.55 1263.45 1482.55 Q1267.09 1482.55 1268.89 1479.01 Q1270.72 1475.44 1270.72 1468.33 Q1270.72 1461.2 1268.89 1457.66 Q1267.09 1454.1 1263.45 1454.1 M1263.45 1450.39 Q1269.26 1450.39 1272.32 1455 Q1275.4 1459.58 1275.4 1468.33 Q1275.4 1477.06 1272.32 1481.67 Q1269.26 1486.25 1263.45 1486.25 Q1257.64 1486.25 1254.56 1481.67 Q1251.51 1477.06 1251.51 1468.33 Q1251.51 1459.58 1254.56 1455 Q1257.64 1450.39 1263.45 1450.39 Z\" fill=\"#000000\" fill-rule=\"evenodd\" fill-opacity=\"1\" /><path clip-path=\"url(#clip920)\" d=\"M1283.61 1479.7 L1288.5 1479.7 L1288.5 1485.58 L1283.61 1485.58 L1283.61 1479.7 Z\" fill=\"#000000\" fill-rule=\"evenodd\" fill-opacity=\"1\" /><path clip-path=\"url(#clip920)\" d=\"M1298.73 1451.02 L1317.09 1451.02 L1317.09 1454.96 L1303.01 1454.96 L1303.01 1463.43 Q1304.03 1463.08 1305.05 1462.92 Q1306.07 1462.73 1307.09 1462.73 Q1312.87 1462.73 1316.25 1465.9 Q1319.63 1469.08 1319.63 1474.49 Q1319.63 1480.07 1316.16 1483.17 Q1312.69 1486.25 1306.37 1486.25 Q1304.19 1486.25 1301.92 1485.88 Q1299.68 1485.51 1297.27 1484.77 L1297.27 1480.07 Q1299.35 1481.2 1301.58 1481.76 Q1303.8 1482.32 1306.28 1482.32 Q1310.28 1482.32 1312.62 1480.21 Q1314.96 1478.1 1314.96 1474.49 Q1314.96 1470.88 1312.62 1468.77 Q1310.28 1466.67 1306.28 1466.67 Q1304.4 1466.67 1302.53 1467.08 Q1300.67 1467.5 1298.73 1468.38 L1298.73 1451.02 Z\" fill=\"#000000\" fill-rule=\"evenodd\" fill-opacity=\"1\" /><path clip-path=\"url(#clip920)\" d=\"M1338.85 1454.1 Q1335.23 1454.1 1333.41 1457.66 Q1331.6 1461.2 1331.6 1468.33 Q1331.6 1475.44 1333.41 1479.01 Q1335.23 1482.55 1338.85 1482.55 Q1342.48 1482.55 1344.29 1479.01 Q1346.11 1475.44 1346.11 1468.33 Q1346.11 1461.2 1344.29 1457.66 Q1342.48 1454.1 1338.85 1454.1 M1338.85 1450.39 Q1344.66 1450.39 1347.71 1455 Q1350.79 1459.58 1350.79 1468.33 Q1350.79 1477.06 1347.71 1481.67 Q1344.66 1486.25 1338.85 1486.25 Q1333.04 1486.25 1329.96 1481.67 Q1326.9 1477.06 1326.9 1468.33 Q1326.9 1459.58 1329.96 1455 Q1333.04 1450.39 1338.85 1450.39 Z\" fill=\"#000000\" fill-rule=\"evenodd\" fill-opacity=\"1\" /><path clip-path=\"url(#clip920)\" d=\"M1759.99 1454.1 Q1756.38 1454.1 1754.55 1457.66 Q1752.75 1461.2 1752.75 1468.33 Q1752.75 1475.44 1754.55 1479.01 Q1756.38 1482.55 1759.99 1482.55 Q1763.63 1482.55 1765.43 1479.01 Q1767.26 1475.44 1767.26 1468.33 Q1767.26 1461.2 1765.43 1457.66 Q1763.63 1454.1 1759.99 1454.1 M1759.99 1450.39 Q1765.8 1450.39 1768.86 1455 Q1771.94 1459.58 1771.94 1468.33 Q1771.94 1477.06 1768.86 1481.67 Q1765.8 1486.25 1759.99 1486.25 Q1754.18 1486.25 1751.1 1481.67 Q1748.05 1477.06 1748.05 1468.33 Q1748.05 1459.58 1751.1 1455 Q1754.18 1450.39 1759.99 1450.39 Z\" fill=\"#000000\" fill-rule=\"evenodd\" fill-opacity=\"1\" /><path clip-path=\"url(#clip920)\" d=\"M1780.15 1479.7 L1785.04 1479.7 L1785.04 1485.58 L1780.15 1485.58 L1780.15 1479.7 Z\" fill=\"#000000\" fill-rule=\"evenodd\" fill-opacity=\"1\" /><path clip-path=\"url(#clip920)\" d=\"M1794.04 1451.02 L1816.26 1451.02 L1816.26 1453.01 L1803.72 1485.58 L1798.83 1485.58 L1810.64 1454.96 L1794.04 1454.96 L1794.04 1451.02 Z\" fill=\"#000000\" fill-rule=\"evenodd\" fill-opacity=\"1\" /><path clip-path=\"url(#clip920)\" d=\"M1825.43 1451.02 L1843.79 1451.02 L1843.79 1454.96 L1829.71 1454.96 L1829.71 1463.43 Q1830.73 1463.08 1831.75 1462.92 Q1832.77 1462.73 1833.79 1462.73 Q1839.57 1462.73 1842.95 1465.9 Q1846.33 1469.08 1846.33 1474.49 Q1846.33 1480.07 1842.86 1483.17 Q1839.39 1486.25 1833.07 1486.25 Q1830.89 1486.25 1828.62 1485.88 Q1826.38 1485.51 1823.97 1484.77 L1823.97 1480.07 Q1826.06 1481.2 1828.28 1481.76 Q1830.5 1482.32 1832.98 1482.32 Q1836.98 1482.32 1839.32 1480.21 Q1841.66 1478.1 1841.66 1474.49 Q1841.66 1470.88 1839.32 1468.77 Q1836.98 1466.67 1832.98 1466.67 Q1831.1 1466.67 1829.23 1467.08 Q1827.38 1467.5 1825.43 1468.38 L1825.43 1451.02 Z\" fill=\"#000000\" fill-rule=\"evenodd\" fill-opacity=\"1\" /><path clip-path=\"url(#clip920)\" d=\"M2245.3 1481.64 L2252.94 1481.64 L2252.94 1455.28 L2244.63 1456.95 L2244.63 1452.69 L2252.9 1451.02 L2257.57 1451.02 L2257.57 1481.64 L2265.21 1481.64 L2265.21 1485.58 L2245.3 1485.58 L2245.3 1481.64 Z\" fill=\"#000000\" fill-rule=\"evenodd\" fill-opacity=\"1\" /><path clip-path=\"url(#clip920)\" d=\"M2274.65 1479.7 L2279.54 1479.7 L2279.54 1485.58 L2274.65 1485.58 L2274.65 1479.7 Z\" fill=\"#000000\" fill-rule=\"evenodd\" fill-opacity=\"1\" /><path clip-path=\"url(#clip920)\" d=\"M2299.72 1454.1 Q2296.11 1454.1 2294.28 1457.66 Q2292.48 1461.2 2292.48 1468.33 Q2292.48 1475.44 2294.28 1479.01 Q2296.11 1482.55 2299.72 1482.55 Q2303.36 1482.55 2305.16 1479.01 Q2306.99 1475.44 2306.99 1468.33 Q2306.99 1461.2 2305.16 1457.66 Q2303.36 1454.1 2299.72 1454.1 M2299.72 1450.39 Q2305.53 1450.39 2308.59 1455 Q2311.67 1459.58 2311.67 1468.33 Q2311.67 1477.06 2308.59 1481.67 Q2305.53 1486.25 2299.72 1486.25 Q2293.91 1486.25 2290.84 1481.67 Q2287.78 1477.06 2287.78 1468.33 Q2287.78 1459.58 2290.84 1455 Q2293.91 1450.39 2299.72 1450.39 Z\" fill=\"#000000\" fill-rule=\"evenodd\" fill-opacity=\"1\" /><path clip-path=\"url(#clip920)\" d=\"M2329.89 1454.1 Q2326.27 1454.1 2324.45 1457.66 Q2322.64 1461.2 2322.64 1468.33 Q2322.64 1475.44 2324.45 1479.01 Q2326.27 1482.55 2329.89 1482.55 Q2333.52 1482.55 2335.33 1479.01 Q2337.15 1475.44 2337.15 1468.33 Q2337.15 1461.2 2335.33 1457.66 Q2333.52 1454.1 2329.89 1454.1 M2329.89 1450.39 Q2335.7 1450.39 2338.75 1455 Q2341.83 1459.58 2341.83 1468.33 Q2341.83 1477.06 2338.75 1481.67 Q2335.7 1486.25 2329.89 1486.25 Q2324.08 1486.25 2321 1481.67 Q2317.94 1477.06 2317.94 1468.33 Q2317.94 1459.58 2321 1455 Q2324.08 1450.39 2329.89 1450.39 Z\" fill=\"#000000\" fill-rule=\"evenodd\" fill-opacity=\"1\" /><path clip-path=\"url(#clip920)\" d=\"M1260.82 1562.7 L1260.82 1581.6 L1254.93 1581.6 L1254.93 1532.4 L1260.82 1532.4 L1260.82 1537.81 Q1262.67 1534.62 1265.47 1533.1 Q1268.3 1531.54 1272.22 1531.54 Q1278.71 1531.54 1282.75 1536.69 Q1286.83 1541.85 1286.83 1550.25 Q1286.83 1558.65 1282.75 1563.81 Q1278.71 1568.97 1272.22 1568.97 Q1268.3 1568.97 1265.47 1567.44 Q1262.67 1565.88 1260.82 1562.7 M1280.75 1550.25 Q1280.75 1543.79 1278.07 1540.13 Q1275.43 1536.44 1270.78 1536.44 Q1266.14 1536.44 1263.46 1540.13 Q1260.82 1543.79 1260.82 1550.25 Q1260.82 1556.71 1263.46 1560.4 Q1266.14 1564.07 1270.78 1564.07 Q1275.43 1564.07 1278.07 1560.4 Q1280.75 1556.71 1280.75 1550.25 Z\" fill=\"#000000\" fill-rule=\"evenodd\" fill-opacity=\"1\" /><path clip-path=\"url(#clip920)\" d=\"M1314.58 1518.52 L1314.58 1523.39 L1308.98 1523.39 Q1305.83 1523.39 1304.59 1524.66 Q1303.38 1525.93 1303.38 1529.24 L1303.38 1532.4 L1313.02 1532.4 L1313.02 1536.95 L1303.38 1536.95 L1303.38 1568.04 L1297.49 1568.04 L1297.49 1536.95 L1291.89 1536.95 L1291.89 1532.4 L1297.49 1532.4 L1297.49 1529.91 Q1297.49 1523.96 1300.26 1521.26 Q1303.03 1518.52 1309.04 1518.52 L1314.58 1518.52 Z\" fill=\"#000000\" fill-rule=\"evenodd\" fill-opacity=\"1\" /><path clip-path=\"url(#clip920)\" d=\"M1335.68 1550.12 Q1328.59 1550.12 1325.85 1551.75 Q1323.11 1553.37 1323.11 1557.29 Q1323.11 1560.4 1325.15 1562.25 Q1327.22 1564.07 1330.75 1564.07 Q1335.62 1564.07 1338.55 1560.63 Q1341.51 1557.16 1341.51 1551.43 L1341.51 1550.12 L1335.68 1550.12 M1347.36 1547.71 L1347.36 1568.04 L1341.51 1568.04 L1341.51 1562.63 Q1339.5 1565.88 1336.51 1567.44 Q1333.52 1568.97 1329.19 1568.97 Q1323.72 1568.97 1320.47 1565.91 Q1317.25 1562.82 1317.25 1557.67 Q1317.25 1551.65 1321.26 1548.6 Q1325.31 1545.54 1333.3 1545.54 L1341.51 1545.54 L1341.51 1544.97 Q1341.51 1540.93 1338.83 1538.73 Q1336.19 1536.5 1331.39 1536.5 Q1328.33 1536.5 1325.43 1537.23 Q1322.54 1537.97 1319.86 1539.43 L1319.86 1534.02 Q1323.08 1532.78 1326.1 1532.17 Q1329.13 1531.54 1331.99 1531.54 Q1339.73 1531.54 1343.54 1535.55 Q1347.36 1539.56 1347.36 1547.71 Z\" fill=\"#000000\" fill-rule=\"evenodd\" fill-opacity=\"1\" /><polyline clip-path=\"url(#clip922)\" style=\"stroke:#000000; stroke-linecap:butt; stroke-linejoin:round; stroke-width:2; stroke-opacity:0.1; fill:none\" points=\"\n",
       "  249.542,1384.24 2352.76,1384.24 \n",
       "  \"/>\n",
       "<polyline clip-path=\"url(#clip922)\" style=\"stroke:#000000; stroke-linecap:butt; stroke-linejoin:round; stroke-width:2; stroke-opacity:0.1; fill:none\" points=\"\n",
       "  249.542,1059.73 2352.76,1059.73 \n",
       "  \"/>\n",
       "<polyline clip-path=\"url(#clip922)\" style=\"stroke:#000000; stroke-linecap:butt; stroke-linejoin:round; stroke-width:2; stroke-opacity:0.1; fill:none\" points=\"\n",
       "  249.542,735.212 2352.76,735.212 \n",
       "  \"/>\n",
       "<polyline clip-path=\"url(#clip922)\" style=\"stroke:#000000; stroke-linecap:butt; stroke-linejoin:round; stroke-width:2; stroke-opacity:0.1; fill:none\" points=\"\n",
       "  249.542,410.699 2352.76,410.699 \n",
       "  \"/>\n",
       "<polyline clip-path=\"url(#clip922)\" style=\"stroke:#000000; stroke-linecap:butt; stroke-linejoin:round; stroke-width:2; stroke-opacity:0.1; fill:none\" points=\"\n",
       "  249.542,86.1857 2352.76,86.1857 \n",
       "  \"/>\n",
       "<polyline clip-path=\"url(#clip920)\" style=\"stroke:#000000; stroke-linecap:butt; stroke-linejoin:round; stroke-width:4; stroke-opacity:1; fill:none\" points=\"\n",
       "  249.542,1423.18 249.542,47.2441 \n",
       "  \"/>\n",
       "<polyline clip-path=\"url(#clip920)\" style=\"stroke:#000000; stroke-linecap:butt; stroke-linejoin:round; stroke-width:4; stroke-opacity:1; fill:none\" points=\"\n",
       "  249.542,1384.24 268.44,1384.24 \n",
       "  \"/>\n",
       "<polyline clip-path=\"url(#clip920)\" style=\"stroke:#000000; stroke-linecap:butt; stroke-linejoin:round; stroke-width:4; stroke-opacity:1; fill:none\" points=\"\n",
       "  249.542,1059.73 268.44,1059.73 \n",
       "  \"/>\n",
       "<polyline clip-path=\"url(#clip920)\" style=\"stroke:#000000; stroke-linecap:butt; stroke-linejoin:round; stroke-width:4; stroke-opacity:1; fill:none\" points=\"\n",
       "  249.542,735.212 268.44,735.212 \n",
       "  \"/>\n",
       "<polyline clip-path=\"url(#clip920)\" style=\"stroke:#000000; stroke-linecap:butt; stroke-linejoin:round; stroke-width:4; stroke-opacity:1; fill:none\" points=\"\n",
       "  249.542,410.699 268.44,410.699 \n",
       "  \"/>\n",
       "<polyline clip-path=\"url(#clip920)\" style=\"stroke:#000000; stroke-linecap:butt; stroke-linejoin:round; stroke-width:4; stroke-opacity:1; fill:none\" points=\"\n",
       "  249.542,86.1857 268.44,86.1857 \n",
       "  \"/>\n",
       "<path clip-path=\"url(#clip920)\" d=\"M126.205 1370.04 Q122.593 1370.04 120.765 1373.6 Q118.959 1377.14 118.959 1384.27 Q118.959 1391.38 120.765 1394.94 Q122.593 1398.49 126.205 1398.49 Q129.839 1398.49 131.644 1394.94 Q133.473 1391.38 133.473 1384.27 Q133.473 1377.14 131.644 1373.6 Q129.839 1370.04 126.205 1370.04 M126.205 1366.33 Q132.015 1366.33 135.07 1370.94 Q138.149 1375.52 138.149 1384.27 Q138.149 1393 135.07 1397.61 Q132.015 1402.19 126.205 1402.19 Q120.394 1402.19 117.316 1397.61 Q114.26 1393 114.26 1384.27 Q114.26 1375.52 117.316 1370.94 Q120.394 1366.33 126.205 1366.33 Z\" fill=\"#000000\" fill-rule=\"evenodd\" fill-opacity=\"1\" /><path clip-path=\"url(#clip920)\" d=\"M146.366 1395.64 L151.251 1395.64 L151.251 1401.52 L146.366 1401.52 L146.366 1395.64 Z\" fill=\"#000000\" fill-rule=\"evenodd\" fill-opacity=\"1\" /><path clip-path=\"url(#clip920)\" d=\"M171.436 1370.04 Q167.825 1370.04 165.996 1373.6 Q164.19 1377.14 164.19 1384.27 Q164.19 1391.38 165.996 1394.94 Q167.825 1398.49 171.436 1398.49 Q175.07 1398.49 176.876 1394.94 Q178.704 1391.38 178.704 1384.27 Q178.704 1377.14 176.876 1373.6 Q175.07 1370.04 171.436 1370.04 M171.436 1366.33 Q177.246 1366.33 180.301 1370.94 Q183.38 1375.52 183.38 1384.27 Q183.38 1393 180.301 1397.61 Q177.246 1402.19 171.436 1402.19 Q165.626 1402.19 162.547 1397.61 Q159.491 1393 159.491 1384.27 Q159.491 1375.52 162.547 1370.94 Q165.626 1366.33 171.436 1366.33 Z\" fill=\"#000000\" fill-rule=\"evenodd\" fill-opacity=\"1\" /><path clip-path=\"url(#clip920)\" d=\"M201.598 1370.04 Q197.987 1370.04 196.158 1373.6 Q194.352 1377.14 194.352 1384.27 Q194.352 1391.38 196.158 1394.94 Q197.987 1398.49 201.598 1398.49 Q205.232 1398.49 207.037 1394.94 Q208.866 1391.38 208.866 1384.27 Q208.866 1377.14 207.037 1373.6 Q205.232 1370.04 201.598 1370.04 M201.598 1366.33 Q207.408 1366.33 210.463 1370.94 Q213.542 1375.52 213.542 1384.27 Q213.542 1393 210.463 1397.61 Q207.408 1402.19 201.598 1402.19 Q195.787 1402.19 192.709 1397.61 Q189.653 1393 189.653 1384.27 Q189.653 1375.52 192.709 1370.94 Q195.787 1366.33 201.598 1366.33 Z\" fill=\"#000000\" fill-rule=\"evenodd\" fill-opacity=\"1\" /><path clip-path=\"url(#clip920)\" d=\"M127.2 1045.52 Q123.589 1045.52 121.76 1049.09 Q119.955 1052.63 119.955 1059.76 Q119.955 1066.87 121.76 1070.43 Q123.589 1073.97 127.2 1073.97 Q130.834 1073.97 132.64 1070.43 Q134.468 1066.87 134.468 1059.76 Q134.468 1052.63 132.64 1049.09 Q130.834 1045.52 127.2 1045.52 M127.2 1041.82 Q133.01 1041.82 136.066 1046.43 Q139.144 1051.01 139.144 1059.76 Q139.144 1068.49 136.066 1073.09 Q133.01 1077.68 127.2 1077.68 Q121.39 1077.68 118.311 1073.09 Q115.256 1068.49 115.256 1059.76 Q115.256 1051.01 118.311 1046.43 Q121.39 1041.82 127.2 1041.82 Z\" fill=\"#000000\" fill-rule=\"evenodd\" fill-opacity=\"1\" /><path clip-path=\"url(#clip920)\" d=\"M147.362 1071.13 L152.246 1071.13 L152.246 1077.01 L147.362 1077.01 L147.362 1071.13 Z\" fill=\"#000000\" fill-rule=\"evenodd\" fill-opacity=\"1\" /><path clip-path=\"url(#clip920)\" d=\"M166.459 1073.07 L182.778 1073.07 L182.778 1077.01 L160.834 1077.01 L160.834 1073.07 Q163.496 1070.32 168.079 1065.69 Q172.686 1061.03 173.866 1059.69 Q176.112 1057.17 176.991 1055.43 Q177.894 1053.67 177.894 1051.98 Q177.894 1049.23 175.95 1047.49 Q174.028 1045.76 170.927 1045.76 Q168.727 1045.76 166.274 1046.52 Q163.843 1047.28 161.065 1048.83 L161.065 1044.11 Q163.89 1042.98 166.343 1042.4 Q168.797 1041.82 170.834 1041.82 Q176.204 1041.82 179.399 1044.51 Q182.593 1047.19 182.593 1051.68 Q182.593 1053.81 181.783 1055.73 Q180.996 1057.63 178.889 1060.22 Q178.311 1060.89 175.209 1064.11 Q172.107 1067.31 166.459 1073.07 Z\" fill=\"#000000\" fill-rule=\"evenodd\" fill-opacity=\"1\" /><path clip-path=\"url(#clip920)\" d=\"M192.639 1042.45 L210.996 1042.45 L210.996 1046.38 L196.922 1046.38 L196.922 1054.85 Q197.94 1054.51 198.959 1054.34 Q199.977 1054.16 200.996 1054.16 Q206.783 1054.16 210.162 1057.33 Q213.542 1060.5 213.542 1065.92 Q213.542 1071.5 210.07 1074.6 Q206.598 1077.68 200.278 1077.68 Q198.102 1077.68 195.834 1077.31 Q193.588 1076.94 191.181 1076.19 L191.181 1071.5 Q193.264 1072.63 195.487 1073.19 Q197.709 1073.74 200.186 1073.74 Q204.19 1073.74 206.528 1071.63 Q208.866 1069.53 208.866 1065.92 Q208.866 1062.31 206.528 1060.2 Q204.19 1058.09 200.186 1058.09 Q198.311 1058.09 196.436 1058.51 Q194.584 1058.93 192.639 1059.81 L192.639 1042.45 Z\" fill=\"#000000\" fill-rule=\"evenodd\" fill-opacity=\"1\" /><path clip-path=\"url(#clip920)\" d=\"M126.205 721.011 Q122.593 721.011 120.765 724.575 Q118.959 728.117 118.959 735.247 Q118.959 742.353 120.765 745.918 Q122.593 749.46 126.205 749.46 Q129.839 749.46 131.644 745.918 Q133.473 742.353 133.473 735.247 Q133.473 728.117 131.644 724.575 Q129.839 721.011 126.205 721.011 M126.205 717.307 Q132.015 717.307 135.07 721.913 Q138.149 726.497 138.149 735.247 Q138.149 743.973 135.07 748.58 Q132.015 753.163 126.205 753.163 Q120.394 753.163 117.316 748.58 Q114.26 743.973 114.26 735.247 Q114.26 726.497 117.316 721.913 Q120.394 717.307 126.205 717.307 Z\" fill=\"#000000\" fill-rule=\"evenodd\" fill-opacity=\"1\" /><path clip-path=\"url(#clip920)\" d=\"M146.366 746.612 L151.251 746.612 L151.251 752.492 L146.366 752.492 L146.366 746.612 Z\" fill=\"#000000\" fill-rule=\"evenodd\" fill-opacity=\"1\" /><path clip-path=\"url(#clip920)\" d=\"M161.482 717.932 L179.839 717.932 L179.839 721.867 L165.765 721.867 L165.765 730.339 Q166.783 729.992 167.802 729.83 Q168.82 729.645 169.839 729.645 Q175.626 729.645 179.005 732.816 Q182.385 735.987 182.385 741.404 Q182.385 746.983 178.913 750.085 Q175.44 753.163 169.121 753.163 Q166.945 753.163 164.677 752.793 Q162.431 752.423 160.024 751.682 L160.024 746.983 Q162.107 748.117 164.329 748.673 Q166.552 749.228 169.028 749.228 Q173.033 749.228 175.371 747.122 Q177.709 745.015 177.709 741.404 Q177.709 737.793 175.371 735.687 Q173.033 733.58 169.028 733.58 Q167.153 733.58 165.278 733.997 Q163.427 734.413 161.482 735.293 L161.482 717.932 Z\" fill=\"#000000\" fill-rule=\"evenodd\" fill-opacity=\"1\" /><path clip-path=\"url(#clip920)\" d=\"M201.598 721.011 Q197.987 721.011 196.158 724.575 Q194.352 728.117 194.352 735.247 Q194.352 742.353 196.158 745.918 Q197.987 749.46 201.598 749.46 Q205.232 749.46 207.037 745.918 Q208.866 742.353 208.866 735.247 Q208.866 728.117 207.037 724.575 Q205.232 721.011 201.598 721.011 M201.598 717.307 Q207.408 717.307 210.463 721.913 Q213.542 726.497 213.542 735.247 Q213.542 743.973 210.463 748.58 Q207.408 753.163 201.598 753.163 Q195.787 753.163 192.709 748.58 Q189.653 743.973 189.653 735.247 Q189.653 726.497 192.709 721.913 Q195.787 717.307 201.598 717.307 Z\" fill=\"#000000\" fill-rule=\"evenodd\" fill-opacity=\"1\" /><path clip-path=\"url(#clip920)\" d=\"M127.2 396.498 Q123.589 396.498 121.76 400.062 Q119.955 403.604 119.955 410.734 Q119.955 417.84 121.76 421.405 Q123.589 424.946 127.2 424.946 Q130.834 424.946 132.64 421.405 Q134.468 417.84 134.468 410.734 Q134.468 403.604 132.64 400.062 Q130.834 396.498 127.2 396.498 M127.2 392.794 Q133.01 392.794 136.066 397.4 Q139.144 401.984 139.144 410.734 Q139.144 419.46 136.066 424.067 Q133.01 428.65 127.2 428.65 Q121.39 428.65 118.311 424.067 Q115.256 419.46 115.256 410.734 Q115.256 401.984 118.311 397.4 Q121.39 392.794 127.2 392.794 Z\" fill=\"#000000\" fill-rule=\"evenodd\" fill-opacity=\"1\" /><path clip-path=\"url(#clip920)\" d=\"M147.362 422.099 L152.246 422.099 L152.246 427.979 L147.362 427.979 L147.362 422.099 Z\" fill=\"#000000\" fill-rule=\"evenodd\" fill-opacity=\"1\" /><path clip-path=\"url(#clip920)\" d=\"M161.251 393.419 L183.473 393.419 L183.473 395.41 L170.927 427.979 L166.042 427.979 L177.848 397.354 L161.251 397.354 L161.251 393.419 Z\" fill=\"#000000\" fill-rule=\"evenodd\" fill-opacity=\"1\" /><path clip-path=\"url(#clip920)\" d=\"M192.639 393.419 L210.996 393.419 L210.996 397.354 L196.922 397.354 L196.922 405.826 Q197.94 405.479 198.959 405.317 Q199.977 405.132 200.996 405.132 Q206.783 405.132 210.162 408.303 Q213.542 411.474 213.542 416.891 Q213.542 422.47 210.07 425.571 Q206.598 428.65 200.278 428.65 Q198.102 428.65 195.834 428.28 Q193.588 427.909 191.181 427.169 L191.181 422.47 Q193.264 423.604 195.487 424.159 Q197.709 424.715 200.186 424.715 Q204.19 424.715 206.528 422.608 Q208.866 420.502 208.866 416.891 Q208.866 413.28 206.528 411.173 Q204.19 409.067 200.186 409.067 Q198.311 409.067 196.436 409.484 Q194.584 409.9 192.639 410.78 L192.639 393.419 Z\" fill=\"#000000\" fill-rule=\"evenodd\" fill-opacity=\"1\" /><path clip-path=\"url(#clip920)\" d=\"M117.015 99.5305 L124.654 99.5305 L124.654 73.1649 L116.343 74.8316 L116.343 70.5723 L124.607 68.9057 L129.283 68.9057 L129.283 99.5305 L136.922 99.5305 L136.922 103.466 L117.015 103.466 L117.015 99.5305 Z\" fill=\"#000000\" fill-rule=\"evenodd\" fill-opacity=\"1\" /><path clip-path=\"url(#clip920)\" d=\"M146.366 97.5861 L151.251 97.5861 L151.251 103.466 L146.366 103.466 L146.366 97.5861 Z\" fill=\"#000000\" fill-rule=\"evenodd\" fill-opacity=\"1\" /><path clip-path=\"url(#clip920)\" d=\"M171.436 71.9844 Q167.825 71.9844 165.996 75.5492 Q164.19 79.0908 164.19 86.2204 Q164.19 93.3268 165.996 96.8916 Q167.825 100.433 171.436 100.433 Q175.07 100.433 176.876 96.8916 Q178.704 93.3268 178.704 86.2204 Q178.704 79.0908 176.876 75.5492 Q175.07 71.9844 171.436 71.9844 M171.436 68.2807 Q177.246 68.2807 180.301 72.8871 Q183.38 77.4704 183.38 86.2204 Q183.38 94.9472 180.301 99.5537 Q177.246 104.137 171.436 104.137 Q165.626 104.137 162.547 99.5537 Q159.491 94.9472 159.491 86.2204 Q159.491 77.4704 162.547 72.8871 Q165.626 68.2807 171.436 68.2807 Z\" fill=\"#000000\" fill-rule=\"evenodd\" fill-opacity=\"1\" /><path clip-path=\"url(#clip920)\" d=\"M201.598 71.9844 Q197.987 71.9844 196.158 75.5492 Q194.352 79.0908 194.352 86.2204 Q194.352 93.3268 196.158 96.8916 Q197.987 100.433 201.598 100.433 Q205.232 100.433 207.037 96.8916 Q208.866 93.3268 208.866 86.2204 Q208.866 79.0908 207.037 75.5492 Q205.232 71.9844 201.598 71.9844 M201.598 68.2807 Q207.408 68.2807 210.463 72.8871 Q213.542 77.4704 213.542 86.2204 Q213.542 94.9472 210.463 99.5537 Q207.408 104.137 201.598 104.137 Q195.787 104.137 192.709 99.5537 Q189.653 94.9472 189.653 86.2204 Q189.653 77.4704 192.709 72.8871 Q195.787 68.2807 201.598 68.2807 Z\" fill=\"#000000\" fill-rule=\"evenodd\" fill-opacity=\"1\" /><path clip-path=\"url(#clip920)\" d=\"M58.657 820.226 L77.5631 820.226 L77.5631 826.114 L28.3562 826.114 L28.3562 820.226 L33.7671 820.226 Q30.5842 818.38 29.0564 815.579 Q27.4968 812.746 27.4968 808.831 Q27.4968 802.338 32.6531 798.296 Q37.8093 794.222 46.212 794.222 Q54.6147 794.222 59.771 798.296 Q64.9272 802.338 64.9272 808.831 Q64.9272 812.746 63.3994 815.579 Q61.8398 818.38 58.657 820.226 M46.212 800.301 Q39.7508 800.301 36.0905 802.975 Q32.3984 805.617 32.3984 810.264 Q32.3984 814.911 36.0905 817.584 Q39.7508 820.226 46.212 820.226 Q52.6732 820.226 56.3653 817.584 Q60.0256 814.911 60.0256 810.264 Q60.0256 805.617 56.3653 802.975 Q52.6732 800.301 46.212 800.301 Z\" fill=\"#000000\" fill-rule=\"evenodd\" fill-opacity=\"1\" /><path clip-path=\"url(#clip920)\" d=\"M35.1993 756.76 Q31.2526 754.564 29.3747 751.508 Q27.4968 748.453 27.4968 744.315 Q27.4968 738.745 31.4117 735.721 Q35.2948 732.698 42.4881 732.698 L64.0042 732.698 L64.0042 738.586 L42.679 738.586 Q37.5546 738.586 35.072 740.4 Q32.5894 742.214 32.5894 745.938 Q32.5894 750.49 35.6131 753.131 Q38.6368 755.773 43.8567 755.773 L64.0042 755.773 L64.0042 761.661 L42.679 761.661 Q37.5228 761.661 35.072 763.476 Q32.5894 765.29 32.5894 769.078 Q32.5894 773.565 35.6449 776.207 Q38.6686 778.849 43.8567 778.849 L64.0042 778.849 L64.0042 784.737 L28.3562 784.737 L28.3562 778.849 L33.8944 778.849 Q30.616 776.844 29.0564 774.043 Q27.4968 771.242 27.4968 767.391 Q27.4968 763.508 29.4702 760.802 Q31.4436 758.065 35.1993 756.76 Z\" fill=\"#000000\" fill-rule=\"evenodd\" fill-opacity=\"1\" /><path clip-path=\"url(#clip920)\" d=\"M28.3562 721.016 L28.3562 715.16 L64.0042 715.16 L64.0042 721.016 L28.3562 721.016 M14.479 721.016 L14.479 715.16 L21.895 715.16 L21.895 721.016 L14.479 721.016 Z\" fill=\"#000000\" fill-rule=\"evenodd\" fill-opacity=\"1\" /><path clip-path=\"url(#clip920)\" d=\"M29.4065 680.18 L34.9447 680.18 Q33.6716 682.663 33.035 685.337 Q32.3984 688.01 32.3984 690.875 Q32.3984 695.235 33.7352 697.431 Q35.072 699.596 37.7456 699.596 Q39.7826 699.596 40.9603 698.036 Q42.1061 696.477 43.1565 691.766 L43.6021 689.761 Q44.9389 683.522 47.3897 680.912 Q49.8086 678.271 54.1691 678.271 Q59.1344 678.271 62.0308 682.217 Q64.9272 686.132 64.9272 693.007 Q64.9272 695.872 64.3543 698.991 Q63.8132 702.078 62.6992 705.516 L56.6518 705.516 Q58.3387 702.269 59.198 699.118 Q60.0256 695.967 60.0256 692.88 Q60.0256 688.742 58.6251 686.514 Q57.1929 684.286 54.6147 684.286 Q52.2276 684.286 50.9545 685.91 Q49.6813 687.501 48.5037 692.944 L48.0262 694.981 Q46.8804 700.423 44.5251 702.842 Q42.138 705.261 38.0002 705.261 Q32.9713 705.261 30.2341 701.697 Q27.4968 698.132 27.4968 691.575 Q27.4968 688.329 27.9743 685.464 Q28.4517 682.599 29.4065 680.18 Z\" fill=\"#000000\" fill-rule=\"evenodd\" fill-opacity=\"1\" /><path clip-path=\"url(#clip920)\" d=\"M29.4065 646.219 L34.9447 646.219 Q33.6716 648.702 33.035 651.376 Q32.3984 654.049 32.3984 656.914 Q32.3984 661.274 33.7352 663.47 Q35.072 665.635 37.7456 665.635 Q39.7826 665.635 40.9603 664.075 Q42.1061 662.516 43.1565 657.805 L43.6021 655.8 Q44.9389 649.561 47.3897 646.951 Q49.8086 644.31 54.1691 644.31 Q59.1344 644.31 62.0308 648.256 Q64.9272 652.171 64.9272 659.046 Q64.9272 661.911 64.3543 665.03 Q63.8132 668.117 62.6992 671.555 L56.6518 671.555 Q58.3387 668.308 59.198 665.157 Q60.0256 662.006 60.0256 658.919 Q60.0256 654.781 58.6251 652.553 Q57.1929 650.325 54.6147 650.325 Q52.2276 650.325 50.9545 651.949 Q49.6813 653.54 48.5037 658.983 L48.0262 661.02 Q46.8804 666.462 44.5251 668.881 Q42.138 671.3 38.0002 671.3 Q32.9713 671.3 30.2341 667.735 Q27.4968 664.171 27.4968 657.614 Q27.4968 654.367 27.9743 651.503 Q28.4517 648.638 29.4065 646.219 Z\" fill=\"#000000\" fill-rule=\"evenodd\" fill-opacity=\"1\" /><polyline clip-path=\"url(#clip922)\" style=\"stroke:#000000; stroke-linecap:butt; stroke-linejoin:round; stroke-width:12; stroke-opacity:1; fill:none\" points=\"\n",
       "  2293.23,1384.24 2250.5,1384.24 2247.22,1378.74 2246.12,1378.74 2237.35,1373.24 2235.16,1367.74 2225.3,1367.74 2219.82,1362.24 2188.05,1362.24 2178.19,1356.74 \n",
       "  2139.84,1356.74 2120.12,1351.24 2097.12,1345.74 1796.92,1345.74 1783.77,1340.24 1753.09,1340.24 1736.66,1329.24 1670.92,1323.74 1669.82,1318.24 1633.67,1318.24 \n",
       "  1518.63,1312.74 1400.3,1312.74 1371.82,1296.23 1353.19,1296.23 1344.43,1279.73 1298.41,1246.73 1160.36,1246.73 1099.01,1235.73 880.98,1235.73 865.641,1230.23 \n",
       "  855.78,1219.23 853.589,1213.73 819.625,1213.73 753.888,1208.23 721.019,1202.73 684.864,1186.23 684.864,1175.23 683.768,1169.73 683.768,1164.23 682.673,1164.23 \n",
       "  671.716,1158.73 667.334,1153.23 654.187,1142.23 646.517,1136.73 626.796,1120.23 580.78,1037.72 549.007,971.722 531.477,938.72 501.896,850.717 458.071,779.214 \n",
       "  413.151,713.211 402.194,658.209 372.613,526.204 370.422,526.204 336.457,361.197 332.075,322.695 332.075,273.193 326.597,256.693 325.501,223.691 315.641,146.688 \n",
       "  310.163,113.687 309.067,86.1857 \n",
       "  \"/>\n",
       "<path clip-path=\"url(#clip920)\" d=\"\n",
       "M1620.65 196.789 L2282.65 196.789 L2282.65 93.1086 L1620.65 93.1086  Z\n",
       "  \" fill=\"#ffffff\" fill-rule=\"evenodd\" fill-opacity=\"1\"/>\n",
       "<polyline clip-path=\"url(#clip920)\" style=\"stroke:#000000; stroke-linecap:butt; stroke-linejoin:round; stroke-width:4; stroke-opacity:1; fill:none\" points=\"\n",
       "  1620.65,196.789 2282.65,196.789 2282.65,93.1086 1620.65,93.1086 1620.65,196.789 \n",
       "  \"/>\n",
       "<polyline clip-path=\"url(#clip920)\" style=\"stroke:#000000; stroke-linecap:butt; stroke-linejoin:round; stroke-width:4; stroke-opacity:1; fill:none\" points=\"\n",
       "  1644.02,144.949 1784.23,144.949 \n",
       "  \"/>\n",
       "<path clip-path=\"url(#clip920)\" d=\"M1815.01 128.942 L1815.01 136.303 L1823.78 136.303 L1823.78 139.613 L1815.01 139.613 L1815.01 153.687 Q1815.01 156.858 1815.87 157.761 Q1816.75 158.664 1819.41 158.664 L1823.78 158.664 L1823.78 162.229 L1819.41 162.229 Q1814.48 162.229 1812.6 160.4 Q1810.73 158.548 1810.73 153.687 L1810.73 139.613 L1807.6 139.613 L1807.6 136.303 L1810.73 136.303 L1810.73 128.942 L1815.01 128.942 Z\" fill=\"#000000\" fill-rule=\"evenodd\" fill-opacity=\"1\" /><path clip-path=\"url(#clip920)\" d=\"M1851.56 148.201 L1851.56 150.284 L1831.98 150.284 Q1832.26 154.682 1834.62 156.997 Q1837 159.289 1841.24 159.289 Q1843.69 159.289 1845.98 158.687 Q1848.3 158.085 1850.57 156.881 L1850.57 160.909 Q1848.27 161.881 1845.87 162.391 Q1843.46 162.9 1840.98 162.9 Q1834.78 162.9 1831.14 159.289 Q1827.53 155.678 1827.53 149.52 Q1827.53 143.155 1830.96 139.428 Q1834.41 135.678 1840.24 135.678 Q1845.47 135.678 1848.51 139.057 Q1851.56 142.414 1851.56 148.201 M1847.3 146.951 Q1847.26 143.456 1845.33 141.372 Q1843.44 139.289 1840.29 139.289 Q1836.72 139.289 1834.57 141.303 Q1832.44 143.317 1832.12 146.974 L1847.3 146.951 Z\" fill=\"#000000\" fill-rule=\"evenodd\" fill-opacity=\"1\" /><path clip-path=\"url(#clip920)\" d=\"M1875.08 137.067 L1875.08 141.094 Q1873.27 140.169 1871.33 139.706 Q1869.38 139.243 1867.3 139.243 Q1864.13 139.243 1862.53 140.215 Q1860.96 141.187 1860.96 143.131 Q1860.96 144.613 1862.09 145.469 Q1863.23 146.303 1866.65 147.067 L1868.11 147.391 Q1872.65 148.363 1874.55 150.145 Q1876.47 151.905 1876.47 155.076 Q1876.47 158.687 1873.6 160.793 Q1870.75 162.9 1865.75 162.9 Q1863.67 162.9 1861.4 162.483 Q1859.15 162.09 1856.65 161.28 L1856.65 156.881 Q1859.01 158.108 1861.31 158.733 Q1863.6 159.335 1865.84 159.335 Q1868.85 159.335 1870.47 158.317 Q1872.09 157.275 1872.09 155.4 Q1872.09 153.664 1870.91 152.738 Q1869.76 151.812 1865.8 150.956 L1864.32 150.608 Q1860.36 149.775 1858.6 148.062 Q1856.84 146.326 1856.84 143.317 Q1856.84 139.659 1859.43 137.669 Q1862.02 135.678 1866.79 135.678 Q1869.15 135.678 1871.24 136.025 Q1873.32 136.372 1875.08 137.067 Z\" fill=\"#000000\" fill-rule=\"evenodd\" fill-opacity=\"1\" /><path clip-path=\"url(#clip920)\" d=\"M1887.46 128.942 L1887.46 136.303 L1896.24 136.303 L1896.24 139.613 L1887.46 139.613 L1887.46 153.687 Q1887.46 156.858 1888.32 157.761 Q1889.2 158.664 1891.86 158.664 L1896.24 158.664 L1896.24 162.229 L1891.86 162.229 Q1886.93 162.229 1885.06 160.4 Q1883.18 158.548 1883.18 153.687 L1883.18 139.613 L1880.06 139.613 L1880.06 136.303 L1883.18 136.303 L1883.18 128.942 L1887.46 128.942 Z\" fill=\"#000000\" fill-rule=\"evenodd\" fill-opacity=\"1\" /><path clip-path=\"url(#clip920)\" d=\"M1927.14 126.257 Q1924.04 131.581 1922.53 136.789 Q1921.03 141.997 1921.03 147.344 Q1921.03 152.692 1922.53 157.946 Q1924.06 163.178 1927.14 168.479 L1923.44 168.479 Q1919.96 163.039 1918.23 157.784 Q1916.51 152.53 1916.51 147.344 Q1916.51 142.182 1918.23 136.951 Q1919.94 131.72 1923.44 126.257 L1927.14 126.257 Z\" fill=\"#000000\" fill-rule=\"evenodd\" fill-opacity=\"1\" /><path clip-path=\"url(#clip920)\" d=\"M1947.14 132.275 L1940.8 149.474 L1953.5 149.474 L1947.14 132.275 M1944.5 127.669 L1949.8 127.669 L1962.97 162.229 L1958.11 162.229 L1954.96 153.363 L1939.38 153.363 L1936.24 162.229 L1931.31 162.229 L1944.5 127.669 Z\" fill=\"#000000\" fill-rule=\"evenodd\" fill-opacity=\"1\" /><path clip-path=\"url(#clip920)\" d=\"M1967.49 127.669 L1972.19 127.669 L1972.19 148.664 Q1972.19 154.219 1974.2 156.673 Q1976.21 159.104 1980.73 159.104 Q1985.22 159.104 1987.23 156.673 Q1989.25 154.219 1989.25 148.664 L1989.25 127.669 L1993.94 127.669 L1993.94 149.243 Q1993.94 156.002 1990.59 159.451 Q1987.25 162.9 1980.73 162.9 Q1974.18 162.9 1970.82 159.451 Q1967.49 156.002 1967.49 149.243 L1967.49 127.669 Z\" fill=\"#000000\" fill-rule=\"evenodd\" fill-opacity=\"1\" /><path clip-path=\"url(#clip920)\" d=\"M2028.6 130.331 L2028.6 135.261 Q2026.24 133.062 2023.55 131.974 Q2020.89 130.886 2017.88 130.886 Q2011.95 130.886 2008.81 134.52 Q2005.66 138.132 2005.66 144.983 Q2005.66 151.812 2008.81 155.446 Q2011.95 159.057 2017.88 159.057 Q2020.89 159.057 2023.55 157.969 Q2026.24 156.881 2028.6 154.682 L2028.6 159.567 Q2026.14 161.233 2023.39 162.067 Q2020.66 162.9 2017.6 162.9 Q2009.75 162.9 2005.24 158.108 Q2000.73 153.293 2000.73 144.983 Q2000.73 136.65 2005.24 131.858 Q2009.75 127.044 2017.6 127.044 Q2020.7 127.044 2023.43 127.877 Q2026.19 128.687 2028.6 130.331 Z\" fill=\"#000000\" fill-rule=\"evenodd\" fill-opacity=\"1\" /><path clip-path=\"url(#clip920)\" d=\"M2036.19 140.701 L2065.87 140.701 L2065.87 144.59 L2036.19 144.59 L2036.19 140.701 M2036.19 150.145 L2065.87 150.145 L2065.87 154.081 L2036.19 154.081 L2036.19 150.145 Z\" fill=\"#000000\" fill-rule=\"evenodd\" fill-opacity=\"1\" /><path clip-path=\"url(#clip920)\" d=\"M2076.77 158.293 L2084.41 158.293 L2084.41 131.928 L2076.1 133.595 L2076.1 129.335 L2084.36 127.669 L2089.04 127.669 L2089.04 158.293 L2096.68 158.293 L2096.68 162.229 L2076.77 162.229 L2076.77 158.293 Z\" fill=\"#000000\" fill-rule=\"evenodd\" fill-opacity=\"1\" /><path clip-path=\"url(#clip920)\" d=\"M2120.29 143.594 Q2123.64 144.312 2125.52 146.581 Q2127.42 148.849 2127.42 152.182 Q2127.42 157.298 2123.9 160.099 Q2120.38 162.9 2113.9 162.9 Q2111.72 162.9 2109.41 162.46 Q2107.12 162.043 2104.66 161.187 L2104.66 156.673 Q2106.61 157.807 2108.92 158.386 Q2111.24 158.965 2113.76 158.965 Q2118.16 158.965 2120.45 157.229 Q2122.76 155.493 2122.76 152.182 Q2122.76 149.127 2120.61 147.414 Q2118.48 145.678 2114.66 145.678 L2110.63 145.678 L2110.63 141.835 L2114.85 141.835 Q2118.3 141.835 2120.12 140.469 Q2121.95 139.081 2121.95 136.488 Q2121.95 133.826 2120.05 132.414 Q2118.18 130.979 2114.66 130.979 Q2112.74 130.979 2110.54 131.395 Q2108.34 131.812 2105.7 132.692 L2105.7 128.525 Q2108.37 127.784 2110.68 127.414 Q2113.02 127.044 2115.08 127.044 Q2120.4 127.044 2123.5 129.474 Q2126.61 131.882 2126.61 136.002 Q2126.61 138.872 2124.96 140.863 Q2123.32 142.831 2120.29 143.594 Z\" fill=\"#000000\" fill-rule=\"evenodd\" fill-opacity=\"1\" /><path clip-path=\"url(#clip920)\" d=\"M2136.28 156.349 L2141.17 156.349 L2141.17 162.229 L2136.28 162.229 L2136.28 156.349 Z\" fill=\"#000000\" fill-rule=\"evenodd\" fill-opacity=\"1\" /><path clip-path=\"url(#clip920)\" d=\"M2151.49 161.511 L2151.49 157.252 Q2153.25 158.085 2155.05 158.525 Q2156.86 158.965 2158.6 158.965 Q2163.23 158.965 2165.66 155.863 Q2168.11 152.738 2168.46 146.395 Q2167.11 148.386 2165.05 149.451 Q2162.99 150.516 2160.49 150.516 Q2155.31 150.516 2152.28 147.391 Q2149.27 144.243 2149.27 138.803 Q2149.27 133.479 2152.42 130.261 Q2155.56 127.044 2160.8 127.044 Q2166.79 127.044 2169.94 131.65 Q2173.11 136.233 2173.11 144.983 Q2173.11 153.155 2169.22 158.039 Q2165.36 162.9 2158.8 162.9 Q2157.05 162.9 2155.24 162.553 Q2153.43 162.205 2151.49 161.511 M2160.8 146.858 Q2163.94 146.858 2165.77 144.706 Q2167.62 142.553 2167.62 138.803 Q2167.62 135.076 2165.77 132.923 Q2163.94 130.747 2160.8 130.747 Q2157.65 130.747 2155.8 132.923 Q2153.97 135.076 2153.97 138.803 Q2153.97 142.553 2155.8 144.706 Q2157.65 146.858 2160.8 146.858 Z\" fill=\"#000000\" fill-rule=\"evenodd\" fill-opacity=\"1\" /><path clip-path=\"url(#clip920)\" d=\"M2210.91 147.02 Q2208.9 147.02 2207.74 148.733 Q2206.61 150.446 2206.61 153.502 Q2206.61 156.511 2207.74 158.247 Q2208.9 159.96 2210.91 159.96 Q2212.88 159.96 2214.01 158.247 Q2215.17 156.511 2215.17 153.502 Q2215.17 150.469 2214.01 148.756 Q2212.88 147.02 2210.91 147.02 M2210.91 144.081 Q2214.57 144.081 2216.72 146.627 Q2218.87 149.173 2218.87 153.502 Q2218.87 157.83 2216.7 160.377 Q2214.55 162.9 2210.91 162.9 Q2207.21 162.9 2205.05 160.377 Q2202.9 157.83 2202.9 153.502 Q2202.9 149.15 2205.05 146.627 Q2207.23 144.081 2210.91 144.081 M2187.02 129.983 Q2185.03 129.983 2183.87 131.72 Q2182.74 133.432 2182.74 136.442 Q2182.74 139.497 2183.87 141.21 Q2185.01 142.923 2187.02 142.923 Q2189.04 142.923 2190.17 141.21 Q2191.33 139.497 2191.33 136.442 Q2191.33 133.456 2190.17 131.72 Q2189.01 129.983 2187.02 129.983 M2207.92 127.044 L2211.63 127.044 L2190.01 162.9 L2186.3 162.9 L2207.92 127.044 M2187.02 127.044 Q2190.68 127.044 2192.86 129.59 Q2195.03 132.113 2195.03 136.442 Q2195.03 140.817 2192.86 143.34 Q2190.7 145.863 2187.02 145.863 Q2183.34 145.863 2181.19 143.34 Q2179.06 140.794 2179.06 136.442 Q2179.06 132.136 2181.21 129.59 Q2183.36 127.044 2187.02 127.044 Z\" fill=\"#000000\" fill-rule=\"evenodd\" fill-opacity=\"1\" /><path clip-path=\"url(#clip920)\" d=\"M2225.29 126.257 L2228.99 126.257 Q2232.46 131.72 2234.17 136.951 Q2235.91 142.182 2235.91 147.344 Q2235.91 152.53 2234.17 157.784 Q2232.46 163.039 2228.99 168.479 L2225.29 168.479 Q2228.36 163.178 2229.87 157.946 Q2231.4 152.692 2231.4 147.344 Q2231.4 141.997 2229.87 136.789 Q2228.36 131.581 2225.29 126.257 Z\" fill=\"#000000\" fill-rule=\"evenodd\" fill-opacity=\"1\" /></svg>\n"
      ]
     },
     "execution_count": 76,
     "metadata": {},
     "output_type": "execute_result"
    }
   ],
   "source": [
    "plot(test_roc.pfa, test_roc.pmiss;\n",
    "    color=\"black\", lw=3,\n",
    "    label=\"test (AUC=$(round(100*auc(test_roc), digits=2))%)\",\n",
    "    xlabel=\"pfa\", ylabel=\"pmiss\")"
   ]
  },
  {
   "cell_type": "code",
   "execution_count": 77,
   "id": "96f0a95a",
   "metadata": {},
   "outputs": [
    {
     "data": {
      "text/plain": [
       "ROC curve with 73 points, of which 16 on the convex hull"
      ]
     },
     "execution_count": 77,
     "metadata": {},
     "output_type": "execute_result"
    }
   ],
   "source": [
    "train_roc = roc(train, score=:predict, target=:arrest)"
   ]
  },
  {
   "cell_type": "code",
   "execution_count": 78,
   "id": "2d9ae7c6",
   "metadata": {},
   "outputs": [
    {
     "data": {
      "image/svg+xml": [
       "<?xml version=\"1.0\" encoding=\"utf-8\"?>\n",
       "<svg xmlns=\"http://www.w3.org/2000/svg\" xmlns:xlink=\"http://www.w3.org/1999/xlink\" width=\"600\" height=\"400\" viewBox=\"0 0 2400 1600\">\n",
       "<defs>\n",
       "  <clipPath id=\"clip960\">\n",
       "    <rect x=\"0\" y=\"0\" width=\"2400\" height=\"1600\"/>\n",
       "  </clipPath>\n",
       "</defs>\n",
       "<path clip-path=\"url(#clip960)\" d=\"\n",
       "M0 1600 L2400 1600 L2400 0 L0 0  Z\n",
       "  \" fill=\"#ffffff\" fill-rule=\"evenodd\" fill-opacity=\"1\"/>\n",
       "<defs>\n",
       "  <clipPath id=\"clip961\">\n",
       "    <rect x=\"480\" y=\"0\" width=\"1681\" height=\"1600\"/>\n",
       "  </clipPath>\n",
       "</defs>\n",
       "<path clip-path=\"url(#clip960)\" d=\"\n",
       "M249.542 1423.18 L2352.76 1423.18 L2352.76 47.2441 L249.542 47.2441  Z\n",
       "  \" fill=\"#ffffff\" fill-rule=\"evenodd\" fill-opacity=\"1\"/>\n",
       "<defs>\n",
       "  <clipPath id=\"clip962\">\n",
       "    <rect x=\"249\" y=\"47\" width=\"2104\" height=\"1377\"/>\n",
       "  </clipPath>\n",
       "</defs>\n",
       "<polyline clip-path=\"url(#clip962)\" style=\"stroke:#000000; stroke-linecap:butt; stroke-linejoin:round; stroke-width:2; stroke-opacity:0.1; fill:none\" points=\"\n",
       "  309.067,1423.18 309.067,47.2441 \n",
       "  \"/>\n",
       "<polyline clip-path=\"url(#clip962)\" style=\"stroke:#000000; stroke-linecap:butt; stroke-linejoin:round; stroke-width:2; stroke-opacity:0.1; fill:none\" points=\"\n",
       "  805.108,1423.18 805.108,47.2441 \n",
       "  \"/>\n",
       "<polyline clip-path=\"url(#clip962)\" style=\"stroke:#000000; stroke-linecap:butt; stroke-linejoin:round; stroke-width:2; stroke-opacity:0.1; fill:none\" points=\"\n",
       "  1301.15,1423.18 1301.15,47.2441 \n",
       "  \"/>\n",
       "<polyline clip-path=\"url(#clip962)\" style=\"stroke:#000000; stroke-linecap:butt; stroke-linejoin:round; stroke-width:2; stroke-opacity:0.1; fill:none\" points=\"\n",
       "  1797.19,1423.18 1797.19,47.2441 \n",
       "  \"/>\n",
       "<polyline clip-path=\"url(#clip962)\" style=\"stroke:#000000; stroke-linecap:butt; stroke-linejoin:round; stroke-width:2; stroke-opacity:0.1; fill:none\" points=\"\n",
       "  2293.23,1423.18 2293.23,47.2441 \n",
       "  \"/>\n",
       "<polyline clip-path=\"url(#clip960)\" style=\"stroke:#000000; stroke-linecap:butt; stroke-linejoin:round; stroke-width:4; stroke-opacity:1; fill:none\" points=\"\n",
       "  249.542,1423.18 2352.76,1423.18 \n",
       "  \"/>\n",
       "<polyline clip-path=\"url(#clip960)\" style=\"stroke:#000000; stroke-linecap:butt; stroke-linejoin:round; stroke-width:4; stroke-opacity:1; fill:none\" points=\"\n",
       "  309.067,1423.18 309.067,1404.28 \n",
       "  \"/>\n",
       "<polyline clip-path=\"url(#clip960)\" style=\"stroke:#000000; stroke-linecap:butt; stroke-linejoin:round; stroke-width:4; stroke-opacity:1; fill:none\" points=\"\n",
       "  805.108,1423.18 805.108,1404.28 \n",
       "  \"/>\n",
       "<polyline clip-path=\"url(#clip960)\" style=\"stroke:#000000; stroke-linecap:butt; stroke-linejoin:round; stroke-width:4; stroke-opacity:1; fill:none\" points=\"\n",
       "  1301.15,1423.18 1301.15,1404.28 \n",
       "  \"/>\n",
       "<polyline clip-path=\"url(#clip960)\" style=\"stroke:#000000; stroke-linecap:butt; stroke-linejoin:round; stroke-width:4; stroke-opacity:1; fill:none\" points=\"\n",
       "  1797.19,1423.18 1797.19,1404.28 \n",
       "  \"/>\n",
       "<polyline clip-path=\"url(#clip960)\" style=\"stroke:#000000; stroke-linecap:butt; stroke-linejoin:round; stroke-width:4; stroke-opacity:1; fill:none\" points=\"\n",
       "  2293.23,1423.18 2293.23,1404.28 \n",
       "  \"/>\n",
       "<path clip-path=\"url(#clip960)\" d=\"M271.37 1454.1 Q267.759 1454.1 265.931 1457.66 Q264.125 1461.2 264.125 1468.33 Q264.125 1475.44 265.931 1479.01 Q267.759 1482.55 271.37 1482.55 Q275.005 1482.55 276.81 1479.01 Q278.639 1475.44 278.639 1468.33 Q278.639 1461.2 276.81 1457.66 Q275.005 1454.1 271.37 1454.1 M271.37 1450.39 Q277.181 1450.39 280.236 1455 Q283.315 1459.58 283.315 1468.33 Q283.315 1477.06 280.236 1481.67 Q277.181 1486.25 271.37 1486.25 Q265.56 1486.25 262.482 1481.67 Q259.426 1477.06 259.426 1468.33 Q259.426 1459.58 262.482 1455 Q265.56 1450.39 271.37 1450.39 Z\" fill=\"#000000\" fill-rule=\"evenodd\" fill-opacity=\"1\" /><path clip-path=\"url(#clip960)\" d=\"M291.532 1479.7 L296.417 1479.7 L296.417 1485.58 L291.532 1485.58 L291.532 1479.7 Z\" fill=\"#000000\" fill-rule=\"evenodd\" fill-opacity=\"1\" /><path clip-path=\"url(#clip960)\" d=\"M316.602 1454.1 Q312.991 1454.1 311.162 1457.66 Q309.356 1461.2 309.356 1468.33 Q309.356 1475.44 311.162 1479.01 Q312.991 1482.55 316.602 1482.55 Q320.236 1482.55 322.041 1479.01 Q323.87 1475.44 323.87 1468.33 Q323.87 1461.2 322.041 1457.66 Q320.236 1454.1 316.602 1454.1 M316.602 1450.39 Q322.412 1450.39 325.467 1455 Q328.546 1459.58 328.546 1468.33 Q328.546 1477.06 325.467 1481.67 Q322.412 1486.25 316.602 1486.25 Q310.791 1486.25 307.713 1481.67 Q304.657 1477.06 304.657 1468.33 Q304.657 1459.58 307.713 1455 Q310.791 1450.39 316.602 1450.39 Z\" fill=\"#000000\" fill-rule=\"evenodd\" fill-opacity=\"1\" /><path clip-path=\"url(#clip960)\" d=\"M346.764 1454.1 Q343.152 1454.1 341.324 1457.66 Q339.518 1461.2 339.518 1468.33 Q339.518 1475.44 341.324 1479.01 Q343.152 1482.55 346.764 1482.55 Q350.398 1482.55 352.203 1479.01 Q354.032 1475.44 354.032 1468.33 Q354.032 1461.2 352.203 1457.66 Q350.398 1454.1 346.764 1454.1 M346.764 1450.39 Q352.574 1450.39 355.629 1455 Q358.708 1459.58 358.708 1468.33 Q358.708 1477.06 355.629 1481.67 Q352.574 1486.25 346.764 1486.25 Q340.953 1486.25 337.875 1481.67 Q334.819 1477.06 334.819 1468.33 Q334.819 1459.58 337.875 1455 Q340.953 1450.39 346.764 1450.39 Z\" fill=\"#000000\" fill-rule=\"evenodd\" fill-opacity=\"1\" /><path clip-path=\"url(#clip960)\" d=\"M767.909 1454.1 Q764.298 1454.1 762.469 1457.66 Q760.664 1461.2 760.664 1468.33 Q760.664 1475.44 762.469 1479.01 Q764.298 1482.55 767.909 1482.55 Q771.543 1482.55 773.349 1479.01 Q775.178 1475.44 775.178 1468.33 Q775.178 1461.2 773.349 1457.66 Q771.543 1454.1 767.909 1454.1 M767.909 1450.39 Q773.719 1450.39 776.775 1455 Q779.853 1459.58 779.853 1468.33 Q779.853 1477.06 776.775 1481.67 Q773.719 1486.25 767.909 1486.25 Q762.099 1486.25 759.02 1481.67 Q755.965 1477.06 755.965 1468.33 Q755.965 1459.58 759.02 1455 Q762.099 1450.39 767.909 1450.39 Z\" fill=\"#000000\" fill-rule=\"evenodd\" fill-opacity=\"1\" /><path clip-path=\"url(#clip960)\" d=\"M788.071 1479.7 L792.955 1479.7 L792.955 1485.58 L788.071 1485.58 L788.071 1479.7 Z\" fill=\"#000000\" fill-rule=\"evenodd\" fill-opacity=\"1\" /><path clip-path=\"url(#clip960)\" d=\"M807.168 1481.64 L823.487 1481.64 L823.487 1485.58 L801.543 1485.58 L801.543 1481.64 Q804.205 1478.89 808.788 1474.26 Q813.395 1469.61 814.576 1468.27 Q816.821 1465.74 817.7 1464.01 Q818.603 1462.25 818.603 1460.56 Q818.603 1457.8 816.659 1456.07 Q814.738 1454.33 811.636 1454.33 Q809.437 1454.33 806.983 1455.09 Q804.552 1455.86 801.775 1457.41 L801.775 1452.69 Q804.599 1451.55 807.052 1450.97 Q809.506 1450.39 811.543 1450.39 Q816.913 1450.39 820.108 1453.08 Q823.302 1455.77 823.302 1460.26 Q823.302 1462.39 822.492 1464.31 Q821.705 1466.2 819.599 1468.8 Q819.02 1469.47 815.918 1472.69 Q812.816 1475.88 807.168 1481.64 Z\" fill=\"#000000\" fill-rule=\"evenodd\" fill-opacity=\"1\" /><path clip-path=\"url(#clip960)\" d=\"M833.349 1451.02 L851.705 1451.02 L851.705 1454.96 L837.631 1454.96 L837.631 1463.43 Q838.649 1463.08 839.668 1462.92 Q840.686 1462.73 841.705 1462.73 Q847.492 1462.73 850.872 1465.9 Q854.251 1469.08 854.251 1474.49 Q854.251 1480.07 850.779 1483.17 Q847.307 1486.25 840.987 1486.25 Q838.811 1486.25 836.543 1485.88 Q834.298 1485.51 831.89 1484.77 L831.89 1480.07 Q833.974 1481.2 836.196 1481.76 Q838.418 1482.32 840.895 1482.32 Q844.899 1482.32 847.237 1480.21 Q849.575 1478.1 849.575 1474.49 Q849.575 1470.88 847.237 1468.77 Q844.899 1466.67 840.895 1466.67 Q839.02 1466.67 837.145 1467.08 Q835.293 1467.5 833.349 1468.38 L833.349 1451.02 Z\" fill=\"#000000\" fill-rule=\"evenodd\" fill-opacity=\"1\" /><path clip-path=\"url(#clip960)\" d=\"M1263.45 1454.1 Q1259.84 1454.1 1258.01 1457.66 Q1256.21 1461.2 1256.21 1468.33 Q1256.21 1475.44 1258.01 1479.01 Q1259.84 1482.55 1263.45 1482.55 Q1267.09 1482.55 1268.89 1479.01 Q1270.72 1475.44 1270.72 1468.33 Q1270.72 1461.2 1268.89 1457.66 Q1267.09 1454.1 1263.45 1454.1 M1263.45 1450.39 Q1269.26 1450.39 1272.32 1455 Q1275.4 1459.58 1275.4 1468.33 Q1275.4 1477.06 1272.32 1481.67 Q1269.26 1486.25 1263.45 1486.25 Q1257.64 1486.25 1254.56 1481.67 Q1251.51 1477.06 1251.51 1468.33 Q1251.51 1459.58 1254.56 1455 Q1257.64 1450.39 1263.45 1450.39 Z\" fill=\"#000000\" fill-rule=\"evenodd\" fill-opacity=\"1\" /><path clip-path=\"url(#clip960)\" d=\"M1283.61 1479.7 L1288.5 1479.7 L1288.5 1485.58 L1283.61 1485.58 L1283.61 1479.7 Z\" fill=\"#000000\" fill-rule=\"evenodd\" fill-opacity=\"1\" /><path clip-path=\"url(#clip960)\" d=\"M1298.73 1451.02 L1317.09 1451.02 L1317.09 1454.96 L1303.01 1454.96 L1303.01 1463.43 Q1304.03 1463.08 1305.05 1462.92 Q1306.07 1462.73 1307.09 1462.73 Q1312.87 1462.73 1316.25 1465.9 Q1319.63 1469.08 1319.63 1474.49 Q1319.63 1480.07 1316.16 1483.17 Q1312.69 1486.25 1306.37 1486.25 Q1304.19 1486.25 1301.92 1485.88 Q1299.68 1485.51 1297.27 1484.77 L1297.27 1480.07 Q1299.35 1481.2 1301.58 1481.76 Q1303.8 1482.32 1306.28 1482.32 Q1310.28 1482.32 1312.62 1480.21 Q1314.96 1478.1 1314.96 1474.49 Q1314.96 1470.88 1312.62 1468.77 Q1310.28 1466.67 1306.28 1466.67 Q1304.4 1466.67 1302.53 1467.08 Q1300.67 1467.5 1298.73 1468.38 L1298.73 1451.02 Z\" fill=\"#000000\" fill-rule=\"evenodd\" fill-opacity=\"1\" /><path clip-path=\"url(#clip960)\" d=\"M1338.85 1454.1 Q1335.23 1454.1 1333.41 1457.66 Q1331.6 1461.2 1331.6 1468.33 Q1331.6 1475.44 1333.41 1479.01 Q1335.23 1482.55 1338.85 1482.55 Q1342.48 1482.55 1344.29 1479.01 Q1346.11 1475.44 1346.11 1468.33 Q1346.11 1461.2 1344.29 1457.66 Q1342.48 1454.1 1338.85 1454.1 M1338.85 1450.39 Q1344.66 1450.39 1347.71 1455 Q1350.79 1459.58 1350.79 1468.33 Q1350.79 1477.06 1347.71 1481.67 Q1344.66 1486.25 1338.85 1486.25 Q1333.04 1486.25 1329.96 1481.67 Q1326.9 1477.06 1326.9 1468.33 Q1326.9 1459.58 1329.96 1455 Q1333.04 1450.39 1338.85 1450.39 Z\" fill=\"#000000\" fill-rule=\"evenodd\" fill-opacity=\"1\" /><path clip-path=\"url(#clip960)\" d=\"M1759.99 1454.1 Q1756.38 1454.1 1754.55 1457.66 Q1752.75 1461.2 1752.75 1468.33 Q1752.75 1475.44 1754.55 1479.01 Q1756.38 1482.55 1759.99 1482.55 Q1763.63 1482.55 1765.43 1479.01 Q1767.26 1475.44 1767.26 1468.33 Q1767.26 1461.2 1765.43 1457.66 Q1763.63 1454.1 1759.99 1454.1 M1759.99 1450.39 Q1765.8 1450.39 1768.86 1455 Q1771.94 1459.58 1771.94 1468.33 Q1771.94 1477.06 1768.86 1481.67 Q1765.8 1486.25 1759.99 1486.25 Q1754.18 1486.25 1751.1 1481.67 Q1748.05 1477.06 1748.05 1468.33 Q1748.05 1459.58 1751.1 1455 Q1754.18 1450.39 1759.99 1450.39 Z\" fill=\"#000000\" fill-rule=\"evenodd\" fill-opacity=\"1\" /><path clip-path=\"url(#clip960)\" d=\"M1780.15 1479.7 L1785.04 1479.7 L1785.04 1485.58 L1780.15 1485.58 L1780.15 1479.7 Z\" fill=\"#000000\" fill-rule=\"evenodd\" fill-opacity=\"1\" /><path clip-path=\"url(#clip960)\" d=\"M1794.04 1451.02 L1816.26 1451.02 L1816.26 1453.01 L1803.72 1485.58 L1798.83 1485.58 L1810.64 1454.96 L1794.04 1454.96 L1794.04 1451.02 Z\" fill=\"#000000\" fill-rule=\"evenodd\" fill-opacity=\"1\" /><path clip-path=\"url(#clip960)\" d=\"M1825.43 1451.02 L1843.79 1451.02 L1843.79 1454.96 L1829.71 1454.96 L1829.71 1463.43 Q1830.73 1463.08 1831.75 1462.92 Q1832.77 1462.73 1833.79 1462.73 Q1839.57 1462.73 1842.95 1465.9 Q1846.33 1469.08 1846.33 1474.49 Q1846.33 1480.07 1842.86 1483.17 Q1839.39 1486.25 1833.07 1486.25 Q1830.89 1486.25 1828.62 1485.88 Q1826.38 1485.51 1823.97 1484.77 L1823.97 1480.07 Q1826.06 1481.2 1828.28 1481.76 Q1830.5 1482.32 1832.98 1482.32 Q1836.98 1482.32 1839.32 1480.21 Q1841.66 1478.1 1841.66 1474.49 Q1841.66 1470.88 1839.32 1468.77 Q1836.98 1466.67 1832.98 1466.67 Q1831.1 1466.67 1829.23 1467.08 Q1827.38 1467.5 1825.43 1468.38 L1825.43 1451.02 Z\" fill=\"#000000\" fill-rule=\"evenodd\" fill-opacity=\"1\" /><path clip-path=\"url(#clip960)\" d=\"M2245.3 1481.64 L2252.94 1481.64 L2252.94 1455.28 L2244.63 1456.95 L2244.63 1452.69 L2252.9 1451.02 L2257.57 1451.02 L2257.57 1481.64 L2265.21 1481.64 L2265.21 1485.58 L2245.3 1485.58 L2245.3 1481.64 Z\" fill=\"#000000\" fill-rule=\"evenodd\" fill-opacity=\"1\" /><path clip-path=\"url(#clip960)\" d=\"M2274.65 1479.7 L2279.54 1479.7 L2279.54 1485.58 L2274.65 1485.58 L2274.65 1479.7 Z\" fill=\"#000000\" fill-rule=\"evenodd\" fill-opacity=\"1\" /><path clip-path=\"url(#clip960)\" d=\"M2299.72 1454.1 Q2296.11 1454.1 2294.28 1457.66 Q2292.48 1461.2 2292.48 1468.33 Q2292.48 1475.44 2294.28 1479.01 Q2296.11 1482.55 2299.72 1482.55 Q2303.36 1482.55 2305.16 1479.01 Q2306.99 1475.44 2306.99 1468.33 Q2306.99 1461.2 2305.16 1457.66 Q2303.36 1454.1 2299.72 1454.1 M2299.72 1450.39 Q2305.53 1450.39 2308.59 1455 Q2311.67 1459.58 2311.67 1468.33 Q2311.67 1477.06 2308.59 1481.67 Q2305.53 1486.25 2299.72 1486.25 Q2293.91 1486.25 2290.84 1481.67 Q2287.78 1477.06 2287.78 1468.33 Q2287.78 1459.58 2290.84 1455 Q2293.91 1450.39 2299.72 1450.39 Z\" fill=\"#000000\" fill-rule=\"evenodd\" fill-opacity=\"1\" /><path clip-path=\"url(#clip960)\" d=\"M2329.89 1454.1 Q2326.27 1454.1 2324.45 1457.66 Q2322.64 1461.2 2322.64 1468.33 Q2322.64 1475.44 2324.45 1479.01 Q2326.27 1482.55 2329.89 1482.55 Q2333.52 1482.55 2335.33 1479.01 Q2337.15 1475.44 2337.15 1468.33 Q2337.15 1461.2 2335.33 1457.66 Q2333.52 1454.1 2329.89 1454.1 M2329.89 1450.39 Q2335.7 1450.39 2338.75 1455 Q2341.83 1459.58 2341.83 1468.33 Q2341.83 1477.06 2338.75 1481.67 Q2335.7 1486.25 2329.89 1486.25 Q2324.08 1486.25 2321 1481.67 Q2317.94 1477.06 2317.94 1468.33 Q2317.94 1459.58 2321 1455 Q2324.08 1450.39 2329.89 1450.39 Z\" fill=\"#000000\" fill-rule=\"evenodd\" fill-opacity=\"1\" /><path clip-path=\"url(#clip960)\" d=\"M1260.82 1562.7 L1260.82 1581.6 L1254.93 1581.6 L1254.93 1532.4 L1260.82 1532.4 L1260.82 1537.81 Q1262.67 1534.62 1265.47 1533.1 Q1268.3 1531.54 1272.22 1531.54 Q1278.71 1531.54 1282.75 1536.69 Q1286.83 1541.85 1286.83 1550.25 Q1286.83 1558.65 1282.75 1563.81 Q1278.71 1568.97 1272.22 1568.97 Q1268.3 1568.97 1265.47 1567.44 Q1262.67 1565.88 1260.82 1562.7 M1280.75 1550.25 Q1280.75 1543.79 1278.07 1540.13 Q1275.43 1536.44 1270.78 1536.44 Q1266.14 1536.44 1263.46 1540.13 Q1260.82 1543.79 1260.82 1550.25 Q1260.82 1556.71 1263.46 1560.4 Q1266.14 1564.07 1270.78 1564.07 Q1275.43 1564.07 1278.07 1560.4 Q1280.75 1556.71 1280.75 1550.25 Z\" fill=\"#000000\" fill-rule=\"evenodd\" fill-opacity=\"1\" /><path clip-path=\"url(#clip960)\" d=\"M1314.58 1518.52 L1314.58 1523.39 L1308.98 1523.39 Q1305.83 1523.39 1304.59 1524.66 Q1303.38 1525.93 1303.38 1529.24 L1303.38 1532.4 L1313.02 1532.4 L1313.02 1536.95 L1303.38 1536.95 L1303.38 1568.04 L1297.49 1568.04 L1297.49 1536.95 L1291.89 1536.95 L1291.89 1532.4 L1297.49 1532.4 L1297.49 1529.91 Q1297.49 1523.96 1300.26 1521.26 Q1303.03 1518.52 1309.04 1518.52 L1314.58 1518.52 Z\" fill=\"#000000\" fill-rule=\"evenodd\" fill-opacity=\"1\" /><path clip-path=\"url(#clip960)\" d=\"M1335.68 1550.12 Q1328.59 1550.12 1325.85 1551.75 Q1323.11 1553.37 1323.11 1557.29 Q1323.11 1560.4 1325.15 1562.25 Q1327.22 1564.07 1330.75 1564.07 Q1335.62 1564.07 1338.55 1560.63 Q1341.51 1557.16 1341.51 1551.43 L1341.51 1550.12 L1335.68 1550.12 M1347.36 1547.71 L1347.36 1568.04 L1341.51 1568.04 L1341.51 1562.63 Q1339.5 1565.88 1336.51 1567.44 Q1333.52 1568.97 1329.19 1568.97 Q1323.72 1568.97 1320.47 1565.91 Q1317.25 1562.82 1317.25 1557.67 Q1317.25 1551.65 1321.26 1548.6 Q1325.31 1545.54 1333.3 1545.54 L1341.51 1545.54 L1341.51 1544.97 Q1341.51 1540.93 1338.83 1538.73 Q1336.19 1536.5 1331.39 1536.5 Q1328.33 1536.5 1325.43 1537.23 Q1322.54 1537.97 1319.86 1539.43 L1319.86 1534.02 Q1323.08 1532.78 1326.1 1532.17 Q1329.13 1531.54 1331.99 1531.54 Q1339.73 1531.54 1343.54 1535.55 Q1347.36 1539.56 1347.36 1547.71 Z\" fill=\"#000000\" fill-rule=\"evenodd\" fill-opacity=\"1\" /><polyline clip-path=\"url(#clip962)\" style=\"stroke:#000000; stroke-linecap:butt; stroke-linejoin:round; stroke-width:2; stroke-opacity:0.1; fill:none\" points=\"\n",
       "  249.542,1384.24 2352.76,1384.24 \n",
       "  \"/>\n",
       "<polyline clip-path=\"url(#clip962)\" style=\"stroke:#000000; stroke-linecap:butt; stroke-linejoin:round; stroke-width:2; stroke-opacity:0.1; fill:none\" points=\"\n",
       "  249.542,1059.73 2352.76,1059.73 \n",
       "  \"/>\n",
       "<polyline clip-path=\"url(#clip962)\" style=\"stroke:#000000; stroke-linecap:butt; stroke-linejoin:round; stroke-width:2; stroke-opacity:0.1; fill:none\" points=\"\n",
       "  249.542,735.212 2352.76,735.212 \n",
       "  \"/>\n",
       "<polyline clip-path=\"url(#clip962)\" style=\"stroke:#000000; stroke-linecap:butt; stroke-linejoin:round; stroke-width:2; stroke-opacity:0.1; fill:none\" points=\"\n",
       "  249.542,410.699 2352.76,410.699 \n",
       "  \"/>\n",
       "<polyline clip-path=\"url(#clip962)\" style=\"stroke:#000000; stroke-linecap:butt; stroke-linejoin:round; stroke-width:2; stroke-opacity:0.1; fill:none\" points=\"\n",
       "  249.542,86.1857 2352.76,86.1857 \n",
       "  \"/>\n",
       "<polyline clip-path=\"url(#clip960)\" style=\"stroke:#000000; stroke-linecap:butt; stroke-linejoin:round; stroke-width:4; stroke-opacity:1; fill:none\" points=\"\n",
       "  249.542,1423.18 249.542,47.2441 \n",
       "  \"/>\n",
       "<polyline clip-path=\"url(#clip960)\" style=\"stroke:#000000; stroke-linecap:butt; stroke-linejoin:round; stroke-width:4; stroke-opacity:1; fill:none\" points=\"\n",
       "  249.542,1384.24 268.44,1384.24 \n",
       "  \"/>\n",
       "<polyline clip-path=\"url(#clip960)\" style=\"stroke:#000000; stroke-linecap:butt; stroke-linejoin:round; stroke-width:4; stroke-opacity:1; fill:none\" points=\"\n",
       "  249.542,1059.73 268.44,1059.73 \n",
       "  \"/>\n",
       "<polyline clip-path=\"url(#clip960)\" style=\"stroke:#000000; stroke-linecap:butt; stroke-linejoin:round; stroke-width:4; stroke-opacity:1; fill:none\" points=\"\n",
       "  249.542,735.212 268.44,735.212 \n",
       "  \"/>\n",
       "<polyline clip-path=\"url(#clip960)\" style=\"stroke:#000000; stroke-linecap:butt; stroke-linejoin:round; stroke-width:4; stroke-opacity:1; fill:none\" points=\"\n",
       "  249.542,410.699 268.44,410.699 \n",
       "  \"/>\n",
       "<polyline clip-path=\"url(#clip960)\" style=\"stroke:#000000; stroke-linecap:butt; stroke-linejoin:round; stroke-width:4; stroke-opacity:1; fill:none\" points=\"\n",
       "  249.542,86.1857 268.44,86.1857 \n",
       "  \"/>\n",
       "<path clip-path=\"url(#clip960)\" d=\"M126.205 1370.04 Q122.593 1370.04 120.765 1373.6 Q118.959 1377.14 118.959 1384.27 Q118.959 1391.38 120.765 1394.94 Q122.593 1398.49 126.205 1398.49 Q129.839 1398.49 131.644 1394.94 Q133.473 1391.38 133.473 1384.27 Q133.473 1377.14 131.644 1373.6 Q129.839 1370.04 126.205 1370.04 M126.205 1366.33 Q132.015 1366.33 135.07 1370.94 Q138.149 1375.52 138.149 1384.27 Q138.149 1393 135.07 1397.61 Q132.015 1402.19 126.205 1402.19 Q120.394 1402.19 117.316 1397.61 Q114.26 1393 114.26 1384.27 Q114.26 1375.52 117.316 1370.94 Q120.394 1366.33 126.205 1366.33 Z\" fill=\"#000000\" fill-rule=\"evenodd\" fill-opacity=\"1\" /><path clip-path=\"url(#clip960)\" d=\"M146.366 1395.64 L151.251 1395.64 L151.251 1401.52 L146.366 1401.52 L146.366 1395.64 Z\" fill=\"#000000\" fill-rule=\"evenodd\" fill-opacity=\"1\" /><path clip-path=\"url(#clip960)\" d=\"M171.436 1370.04 Q167.825 1370.04 165.996 1373.6 Q164.19 1377.14 164.19 1384.27 Q164.19 1391.38 165.996 1394.94 Q167.825 1398.49 171.436 1398.49 Q175.07 1398.49 176.876 1394.94 Q178.704 1391.38 178.704 1384.27 Q178.704 1377.14 176.876 1373.6 Q175.07 1370.04 171.436 1370.04 M171.436 1366.33 Q177.246 1366.33 180.301 1370.94 Q183.38 1375.52 183.38 1384.27 Q183.38 1393 180.301 1397.61 Q177.246 1402.19 171.436 1402.19 Q165.626 1402.19 162.547 1397.61 Q159.491 1393 159.491 1384.27 Q159.491 1375.52 162.547 1370.94 Q165.626 1366.33 171.436 1366.33 Z\" fill=\"#000000\" fill-rule=\"evenodd\" fill-opacity=\"1\" /><path clip-path=\"url(#clip960)\" d=\"M201.598 1370.04 Q197.987 1370.04 196.158 1373.6 Q194.352 1377.14 194.352 1384.27 Q194.352 1391.38 196.158 1394.94 Q197.987 1398.49 201.598 1398.49 Q205.232 1398.49 207.037 1394.94 Q208.866 1391.38 208.866 1384.27 Q208.866 1377.14 207.037 1373.6 Q205.232 1370.04 201.598 1370.04 M201.598 1366.33 Q207.408 1366.33 210.463 1370.94 Q213.542 1375.52 213.542 1384.27 Q213.542 1393 210.463 1397.61 Q207.408 1402.19 201.598 1402.19 Q195.787 1402.19 192.709 1397.61 Q189.653 1393 189.653 1384.27 Q189.653 1375.52 192.709 1370.94 Q195.787 1366.33 201.598 1366.33 Z\" fill=\"#000000\" fill-rule=\"evenodd\" fill-opacity=\"1\" /><path clip-path=\"url(#clip960)\" d=\"M127.2 1045.52 Q123.589 1045.52 121.76 1049.09 Q119.955 1052.63 119.955 1059.76 Q119.955 1066.87 121.76 1070.43 Q123.589 1073.97 127.2 1073.97 Q130.834 1073.97 132.64 1070.43 Q134.468 1066.87 134.468 1059.76 Q134.468 1052.63 132.64 1049.09 Q130.834 1045.52 127.2 1045.52 M127.2 1041.82 Q133.01 1041.82 136.066 1046.43 Q139.144 1051.01 139.144 1059.76 Q139.144 1068.49 136.066 1073.09 Q133.01 1077.68 127.2 1077.68 Q121.39 1077.68 118.311 1073.09 Q115.256 1068.49 115.256 1059.76 Q115.256 1051.01 118.311 1046.43 Q121.39 1041.82 127.2 1041.82 Z\" fill=\"#000000\" fill-rule=\"evenodd\" fill-opacity=\"1\" /><path clip-path=\"url(#clip960)\" d=\"M147.362 1071.13 L152.246 1071.13 L152.246 1077.01 L147.362 1077.01 L147.362 1071.13 Z\" fill=\"#000000\" fill-rule=\"evenodd\" fill-opacity=\"1\" /><path clip-path=\"url(#clip960)\" d=\"M166.459 1073.07 L182.778 1073.07 L182.778 1077.01 L160.834 1077.01 L160.834 1073.07 Q163.496 1070.32 168.079 1065.69 Q172.686 1061.03 173.866 1059.69 Q176.112 1057.17 176.991 1055.43 Q177.894 1053.67 177.894 1051.98 Q177.894 1049.23 175.95 1047.49 Q174.028 1045.76 170.927 1045.76 Q168.727 1045.76 166.274 1046.52 Q163.843 1047.28 161.065 1048.83 L161.065 1044.11 Q163.89 1042.98 166.343 1042.4 Q168.797 1041.82 170.834 1041.82 Q176.204 1041.82 179.399 1044.51 Q182.593 1047.19 182.593 1051.68 Q182.593 1053.81 181.783 1055.73 Q180.996 1057.63 178.889 1060.22 Q178.311 1060.89 175.209 1064.11 Q172.107 1067.31 166.459 1073.07 Z\" fill=\"#000000\" fill-rule=\"evenodd\" fill-opacity=\"1\" /><path clip-path=\"url(#clip960)\" d=\"M192.639 1042.45 L210.996 1042.45 L210.996 1046.38 L196.922 1046.38 L196.922 1054.85 Q197.94 1054.51 198.959 1054.34 Q199.977 1054.16 200.996 1054.16 Q206.783 1054.16 210.162 1057.33 Q213.542 1060.5 213.542 1065.92 Q213.542 1071.5 210.07 1074.6 Q206.598 1077.68 200.278 1077.68 Q198.102 1077.68 195.834 1077.31 Q193.588 1076.94 191.181 1076.19 L191.181 1071.5 Q193.264 1072.63 195.487 1073.19 Q197.709 1073.74 200.186 1073.74 Q204.19 1073.74 206.528 1071.63 Q208.866 1069.53 208.866 1065.92 Q208.866 1062.31 206.528 1060.2 Q204.19 1058.09 200.186 1058.09 Q198.311 1058.09 196.436 1058.51 Q194.584 1058.93 192.639 1059.81 L192.639 1042.45 Z\" fill=\"#000000\" fill-rule=\"evenodd\" fill-opacity=\"1\" /><path clip-path=\"url(#clip960)\" d=\"M126.205 721.011 Q122.593 721.011 120.765 724.575 Q118.959 728.117 118.959 735.247 Q118.959 742.353 120.765 745.918 Q122.593 749.46 126.205 749.46 Q129.839 749.46 131.644 745.918 Q133.473 742.353 133.473 735.247 Q133.473 728.117 131.644 724.575 Q129.839 721.011 126.205 721.011 M126.205 717.307 Q132.015 717.307 135.07 721.913 Q138.149 726.497 138.149 735.247 Q138.149 743.973 135.07 748.58 Q132.015 753.163 126.205 753.163 Q120.394 753.163 117.316 748.58 Q114.26 743.973 114.26 735.247 Q114.26 726.497 117.316 721.913 Q120.394 717.307 126.205 717.307 Z\" fill=\"#000000\" fill-rule=\"evenodd\" fill-opacity=\"1\" /><path clip-path=\"url(#clip960)\" d=\"M146.366 746.612 L151.251 746.612 L151.251 752.492 L146.366 752.492 L146.366 746.612 Z\" fill=\"#000000\" fill-rule=\"evenodd\" fill-opacity=\"1\" /><path clip-path=\"url(#clip960)\" d=\"M161.482 717.932 L179.839 717.932 L179.839 721.867 L165.765 721.867 L165.765 730.339 Q166.783 729.992 167.802 729.83 Q168.82 729.645 169.839 729.645 Q175.626 729.645 179.005 732.816 Q182.385 735.987 182.385 741.404 Q182.385 746.983 178.913 750.085 Q175.44 753.163 169.121 753.163 Q166.945 753.163 164.677 752.793 Q162.431 752.423 160.024 751.682 L160.024 746.983 Q162.107 748.117 164.329 748.673 Q166.552 749.228 169.028 749.228 Q173.033 749.228 175.371 747.122 Q177.709 745.015 177.709 741.404 Q177.709 737.793 175.371 735.687 Q173.033 733.58 169.028 733.58 Q167.153 733.58 165.278 733.997 Q163.427 734.413 161.482 735.293 L161.482 717.932 Z\" fill=\"#000000\" fill-rule=\"evenodd\" fill-opacity=\"1\" /><path clip-path=\"url(#clip960)\" d=\"M201.598 721.011 Q197.987 721.011 196.158 724.575 Q194.352 728.117 194.352 735.247 Q194.352 742.353 196.158 745.918 Q197.987 749.46 201.598 749.46 Q205.232 749.46 207.037 745.918 Q208.866 742.353 208.866 735.247 Q208.866 728.117 207.037 724.575 Q205.232 721.011 201.598 721.011 M201.598 717.307 Q207.408 717.307 210.463 721.913 Q213.542 726.497 213.542 735.247 Q213.542 743.973 210.463 748.58 Q207.408 753.163 201.598 753.163 Q195.787 753.163 192.709 748.58 Q189.653 743.973 189.653 735.247 Q189.653 726.497 192.709 721.913 Q195.787 717.307 201.598 717.307 Z\" fill=\"#000000\" fill-rule=\"evenodd\" fill-opacity=\"1\" /><path clip-path=\"url(#clip960)\" d=\"M127.2 396.498 Q123.589 396.498 121.76 400.062 Q119.955 403.604 119.955 410.734 Q119.955 417.84 121.76 421.405 Q123.589 424.946 127.2 424.946 Q130.834 424.946 132.64 421.405 Q134.468 417.84 134.468 410.734 Q134.468 403.604 132.64 400.062 Q130.834 396.498 127.2 396.498 M127.2 392.794 Q133.01 392.794 136.066 397.4 Q139.144 401.984 139.144 410.734 Q139.144 419.46 136.066 424.067 Q133.01 428.65 127.2 428.65 Q121.39 428.65 118.311 424.067 Q115.256 419.46 115.256 410.734 Q115.256 401.984 118.311 397.4 Q121.39 392.794 127.2 392.794 Z\" fill=\"#000000\" fill-rule=\"evenodd\" fill-opacity=\"1\" /><path clip-path=\"url(#clip960)\" d=\"M147.362 422.099 L152.246 422.099 L152.246 427.979 L147.362 427.979 L147.362 422.099 Z\" fill=\"#000000\" fill-rule=\"evenodd\" fill-opacity=\"1\" /><path clip-path=\"url(#clip960)\" d=\"M161.251 393.419 L183.473 393.419 L183.473 395.41 L170.927 427.979 L166.042 427.979 L177.848 397.354 L161.251 397.354 L161.251 393.419 Z\" fill=\"#000000\" fill-rule=\"evenodd\" fill-opacity=\"1\" /><path clip-path=\"url(#clip960)\" d=\"M192.639 393.419 L210.996 393.419 L210.996 397.354 L196.922 397.354 L196.922 405.826 Q197.94 405.479 198.959 405.317 Q199.977 405.132 200.996 405.132 Q206.783 405.132 210.162 408.303 Q213.542 411.474 213.542 416.891 Q213.542 422.47 210.07 425.571 Q206.598 428.65 200.278 428.65 Q198.102 428.65 195.834 428.28 Q193.588 427.909 191.181 427.169 L191.181 422.47 Q193.264 423.604 195.487 424.159 Q197.709 424.715 200.186 424.715 Q204.19 424.715 206.528 422.608 Q208.866 420.502 208.866 416.891 Q208.866 413.28 206.528 411.173 Q204.19 409.067 200.186 409.067 Q198.311 409.067 196.436 409.484 Q194.584 409.9 192.639 410.78 L192.639 393.419 Z\" fill=\"#000000\" fill-rule=\"evenodd\" fill-opacity=\"1\" /><path clip-path=\"url(#clip960)\" d=\"M117.015 99.5305 L124.654 99.5305 L124.654 73.1649 L116.343 74.8316 L116.343 70.5723 L124.607 68.9057 L129.283 68.9057 L129.283 99.5305 L136.922 99.5305 L136.922 103.466 L117.015 103.466 L117.015 99.5305 Z\" fill=\"#000000\" fill-rule=\"evenodd\" fill-opacity=\"1\" /><path clip-path=\"url(#clip960)\" d=\"M146.366 97.5861 L151.251 97.5861 L151.251 103.466 L146.366 103.466 L146.366 97.5861 Z\" fill=\"#000000\" fill-rule=\"evenodd\" fill-opacity=\"1\" /><path clip-path=\"url(#clip960)\" d=\"M171.436 71.9844 Q167.825 71.9844 165.996 75.5492 Q164.19 79.0908 164.19 86.2204 Q164.19 93.3268 165.996 96.8916 Q167.825 100.433 171.436 100.433 Q175.07 100.433 176.876 96.8916 Q178.704 93.3268 178.704 86.2204 Q178.704 79.0908 176.876 75.5492 Q175.07 71.9844 171.436 71.9844 M171.436 68.2807 Q177.246 68.2807 180.301 72.8871 Q183.38 77.4704 183.38 86.2204 Q183.38 94.9472 180.301 99.5537 Q177.246 104.137 171.436 104.137 Q165.626 104.137 162.547 99.5537 Q159.491 94.9472 159.491 86.2204 Q159.491 77.4704 162.547 72.8871 Q165.626 68.2807 171.436 68.2807 Z\" fill=\"#000000\" fill-rule=\"evenodd\" fill-opacity=\"1\" /><path clip-path=\"url(#clip960)\" d=\"M201.598 71.9844 Q197.987 71.9844 196.158 75.5492 Q194.352 79.0908 194.352 86.2204 Q194.352 93.3268 196.158 96.8916 Q197.987 100.433 201.598 100.433 Q205.232 100.433 207.037 96.8916 Q208.866 93.3268 208.866 86.2204 Q208.866 79.0908 207.037 75.5492 Q205.232 71.9844 201.598 71.9844 M201.598 68.2807 Q207.408 68.2807 210.463 72.8871 Q213.542 77.4704 213.542 86.2204 Q213.542 94.9472 210.463 99.5537 Q207.408 104.137 201.598 104.137 Q195.787 104.137 192.709 99.5537 Q189.653 94.9472 189.653 86.2204 Q189.653 77.4704 192.709 72.8871 Q195.787 68.2807 201.598 68.2807 Z\" fill=\"#000000\" fill-rule=\"evenodd\" fill-opacity=\"1\" /><path clip-path=\"url(#clip960)\" d=\"M58.657 820.226 L77.5631 820.226 L77.5631 826.114 L28.3562 826.114 L28.3562 820.226 L33.7671 820.226 Q30.5842 818.38 29.0564 815.579 Q27.4968 812.746 27.4968 808.831 Q27.4968 802.338 32.6531 798.296 Q37.8093 794.222 46.212 794.222 Q54.6147 794.222 59.771 798.296 Q64.9272 802.338 64.9272 808.831 Q64.9272 812.746 63.3994 815.579 Q61.8398 818.38 58.657 820.226 M46.212 800.301 Q39.7508 800.301 36.0905 802.975 Q32.3984 805.617 32.3984 810.264 Q32.3984 814.911 36.0905 817.584 Q39.7508 820.226 46.212 820.226 Q52.6732 820.226 56.3653 817.584 Q60.0256 814.911 60.0256 810.264 Q60.0256 805.617 56.3653 802.975 Q52.6732 800.301 46.212 800.301 Z\" fill=\"#000000\" fill-rule=\"evenodd\" fill-opacity=\"1\" /><path clip-path=\"url(#clip960)\" d=\"M35.1993 756.76 Q31.2526 754.564 29.3747 751.508 Q27.4968 748.453 27.4968 744.315 Q27.4968 738.745 31.4117 735.721 Q35.2948 732.698 42.4881 732.698 L64.0042 732.698 L64.0042 738.586 L42.679 738.586 Q37.5546 738.586 35.072 740.4 Q32.5894 742.214 32.5894 745.938 Q32.5894 750.49 35.6131 753.131 Q38.6368 755.773 43.8567 755.773 L64.0042 755.773 L64.0042 761.661 L42.679 761.661 Q37.5228 761.661 35.072 763.476 Q32.5894 765.29 32.5894 769.078 Q32.5894 773.565 35.6449 776.207 Q38.6686 778.849 43.8567 778.849 L64.0042 778.849 L64.0042 784.737 L28.3562 784.737 L28.3562 778.849 L33.8944 778.849 Q30.616 776.844 29.0564 774.043 Q27.4968 771.242 27.4968 767.391 Q27.4968 763.508 29.4702 760.802 Q31.4436 758.065 35.1993 756.76 Z\" fill=\"#000000\" fill-rule=\"evenodd\" fill-opacity=\"1\" /><path clip-path=\"url(#clip960)\" d=\"M28.3562 721.016 L28.3562 715.16 L64.0042 715.16 L64.0042 721.016 L28.3562 721.016 M14.479 721.016 L14.479 715.16 L21.895 715.16 L21.895 721.016 L14.479 721.016 Z\" fill=\"#000000\" fill-rule=\"evenodd\" fill-opacity=\"1\" /><path clip-path=\"url(#clip960)\" d=\"M29.4065 680.18 L34.9447 680.18 Q33.6716 682.663 33.035 685.337 Q32.3984 688.01 32.3984 690.875 Q32.3984 695.235 33.7352 697.431 Q35.072 699.596 37.7456 699.596 Q39.7826 699.596 40.9603 698.036 Q42.1061 696.477 43.1565 691.766 L43.6021 689.761 Q44.9389 683.522 47.3897 680.912 Q49.8086 678.271 54.1691 678.271 Q59.1344 678.271 62.0308 682.217 Q64.9272 686.132 64.9272 693.007 Q64.9272 695.872 64.3543 698.991 Q63.8132 702.078 62.6992 705.516 L56.6518 705.516 Q58.3387 702.269 59.198 699.118 Q60.0256 695.967 60.0256 692.88 Q60.0256 688.742 58.6251 686.514 Q57.1929 684.286 54.6147 684.286 Q52.2276 684.286 50.9545 685.91 Q49.6813 687.501 48.5037 692.944 L48.0262 694.981 Q46.8804 700.423 44.5251 702.842 Q42.138 705.261 38.0002 705.261 Q32.9713 705.261 30.2341 701.697 Q27.4968 698.132 27.4968 691.575 Q27.4968 688.329 27.9743 685.464 Q28.4517 682.599 29.4065 680.18 Z\" fill=\"#000000\" fill-rule=\"evenodd\" fill-opacity=\"1\" /><path clip-path=\"url(#clip960)\" d=\"M29.4065 646.219 L34.9447 646.219 Q33.6716 648.702 33.035 651.376 Q32.3984 654.049 32.3984 656.914 Q32.3984 661.274 33.7352 663.47 Q35.072 665.635 37.7456 665.635 Q39.7826 665.635 40.9603 664.075 Q42.1061 662.516 43.1565 657.805 L43.6021 655.8 Q44.9389 649.561 47.3897 646.951 Q49.8086 644.31 54.1691 644.31 Q59.1344 644.31 62.0308 648.256 Q64.9272 652.171 64.9272 659.046 Q64.9272 661.911 64.3543 665.03 Q63.8132 668.117 62.6992 671.555 L56.6518 671.555 Q58.3387 668.308 59.198 665.157 Q60.0256 662.006 60.0256 658.919 Q60.0256 654.781 58.6251 652.553 Q57.1929 650.325 54.6147 650.325 Q52.2276 650.325 50.9545 651.949 Q49.6813 653.54 48.5037 658.983 L48.0262 661.02 Q46.8804 666.462 44.5251 668.881 Q42.138 671.3 38.0002 671.3 Q32.9713 671.3 30.2341 667.735 Q27.4968 664.171 27.4968 657.614 Q27.4968 654.367 27.9743 651.503 Q28.4517 648.638 29.4065 646.219 Z\" fill=\"#000000\" fill-rule=\"evenodd\" fill-opacity=\"1\" /><polyline clip-path=\"url(#clip962)\" style=\"stroke:#000000; stroke-linecap:butt; stroke-linejoin:round; stroke-width:12; stroke-opacity:1; fill:none\" points=\"\n",
       "  2293.23,1384.24 2250.5,1384.24 2247.22,1378.74 2246.12,1378.74 2237.35,1373.24 2235.16,1367.74 2225.3,1367.74 2219.82,1362.24 2188.05,1362.24 2178.19,1356.74 \n",
       "  2139.84,1356.74 2120.12,1351.24 2097.12,1345.74 1796.92,1345.74 1783.77,1340.24 1753.09,1340.24 1736.66,1329.24 1670.92,1323.74 1669.82,1318.24 1633.67,1318.24 \n",
       "  1518.63,1312.74 1400.3,1312.74 1371.82,1296.23 1353.19,1296.23 1344.43,1279.73 1298.41,1246.73 1160.36,1246.73 1099.01,1235.73 880.98,1235.73 865.641,1230.23 \n",
       "  855.78,1219.23 853.589,1213.73 819.625,1213.73 753.888,1208.23 721.019,1202.73 684.864,1186.23 684.864,1175.23 683.768,1169.73 683.768,1164.23 682.673,1164.23 \n",
       "  671.716,1158.73 667.334,1153.23 654.187,1142.23 646.517,1136.73 626.796,1120.23 580.78,1037.72 549.007,971.722 531.477,938.72 501.896,850.717 458.071,779.214 \n",
       "  413.151,713.211 402.194,658.209 372.613,526.204 370.422,526.204 336.457,361.197 332.075,322.695 332.075,273.193 326.597,256.693 325.501,223.691 315.641,146.688 \n",
       "  310.163,113.687 309.067,86.1857 \n",
       "  \"/>\n",
       "<polyline clip-path=\"url(#clip962)\" style=\"stroke:#ffd700; stroke-linecap:butt; stroke-linejoin:round; stroke-width:12; stroke-opacity:1; fill:none\" points=\"\n",
       "  2293.23,1384.24 2271.42,1384.24 2268.17,1381.9 2246.83,1381.9 2244.51,1379.57 2242.19,1379.57 2231.98,1377.23 2222.7,1377.23 2218.99,1372.57 2196.25,1372.57 \n",
       "  2196.25,1370.23 2190.68,1367.9 2187.43,1363.23 2147.53,1363.23 2140.57,1360.89 2105.3,1360.89 2060.29,1351.55 2048.23,1349.22 2010.18,1349.22 1995.79,1344.55 \n",
       "  1976.77,1339.88 1956.35,1339.88 1893.71,1337.55 1877.47,1332.88 1831.06,1332.88 1804.15,1325.87 1790.69,1321.2 1761.46,1314.2 1747.54,1302.53 1697.42,1302.53 \n",
       "  1652.88,1295.52 1541.98,1286.18 1521.1,1283.85 1431.54,1274.51 1394.42,1269.84 1376.32,1267.51 1367.5,1262.84 1326.67,1258.17 1172.15,1244.16 1115.54,1237.16 \n",
       "  1007.89,1230.15 902.089,1218.48 886.776,1206.81 876.568,1204.47 870.535,1195.13 825.525,1192.8 756.85,1178.79 725.76,1171.79 688.638,1162.45 688.638,1153.11 \n",
       "  675.645,1150.78 662.653,1150.78 653.836,1146.11 644.556,1134.43 622.747,1118.09 622.747,1115.76 587.017,1036.38 553.143,971.009 538.295,957.002 510.453,884.628 \n",
       "  477.971,788.908 426.001,679.181 410.224,651.165 372.174,504.084 372.174,499.415 342.941,338.325 336.444,300.971 334.588,265.952 328.092,216.925 322.06,181.905 \n",
       "  316.027,144.551 313.243,107.197 309.067,86.1857 \n",
       "  \"/>\n",
       "<path clip-path=\"url(#clip960)\" d=\"\n",
       "M1571.18 248.629 L2282.65 248.629 L2282.65 93.1086 L1571.18 93.1086  Z\n",
       "  \" fill=\"#ffffff\" fill-rule=\"evenodd\" fill-opacity=\"1\"/>\n",
       "<polyline clip-path=\"url(#clip960)\" style=\"stroke:#000000; stroke-linecap:butt; stroke-linejoin:round; stroke-width:4; stroke-opacity:1; fill:none\" points=\"\n",
       "  1571.18,248.629 2282.65,248.629 2282.65,93.1086 1571.18,93.1086 1571.18,248.629 \n",
       "  \"/>\n",
       "<polyline clip-path=\"url(#clip960)\" style=\"stroke:#000000; stroke-linecap:butt; stroke-linejoin:round; stroke-width:4; stroke-opacity:1; fill:none\" points=\"\n",
       "  1594.55,144.949 1734.77,144.949 \n",
       "  \"/>\n",
       "<path clip-path=\"url(#clip960)\" d=\"M1765.54 128.942 L1765.54 136.303 L1774.32 136.303 L1774.32 139.613 L1765.54 139.613 L1765.54 153.687 Q1765.54 156.858 1766.4 157.761 Q1767.28 158.664 1769.94 158.664 L1774.32 158.664 L1774.32 162.229 L1769.94 162.229 Q1765.01 162.229 1763.14 160.4 Q1761.26 158.548 1761.26 153.687 L1761.26 139.613 L1758.14 139.613 L1758.14 136.303 L1761.26 136.303 L1761.26 128.942 L1765.54 128.942 Z\" fill=\"#000000\" fill-rule=\"evenodd\" fill-opacity=\"1\" /><path clip-path=\"url(#clip960)\" d=\"M1802.09 148.201 L1802.09 150.284 L1782.51 150.284 Q1782.79 154.682 1785.15 156.997 Q1787.53 159.289 1791.77 159.289 Q1794.22 159.289 1796.51 158.687 Q1798.83 158.085 1801.1 156.881 L1801.1 160.909 Q1798.81 161.881 1796.4 162.391 Q1793.99 162.9 1791.51 162.9 Q1785.31 162.9 1781.68 159.289 Q1778.07 155.678 1778.07 149.52 Q1778.07 143.155 1781.49 139.428 Q1784.94 135.678 1790.77 135.678 Q1796.01 135.678 1799.04 139.057 Q1802.09 142.414 1802.09 148.201 M1797.83 146.951 Q1797.79 143.456 1795.87 141.372 Q1793.97 139.289 1790.82 139.289 Q1787.26 139.289 1785.1 141.303 Q1782.97 143.317 1782.65 146.974 L1797.83 146.951 Z\" fill=\"#000000\" fill-rule=\"evenodd\" fill-opacity=\"1\" /><path clip-path=\"url(#clip960)\" d=\"M1825.61 137.067 L1825.61 141.094 Q1823.81 140.169 1821.86 139.706 Q1819.92 139.243 1817.83 139.243 Q1814.66 139.243 1813.07 140.215 Q1811.49 141.187 1811.49 143.131 Q1811.49 144.613 1812.63 145.469 Q1813.76 146.303 1817.19 147.067 L1818.64 147.391 Q1823.18 148.363 1825.08 150.145 Q1827 151.905 1827 155.076 Q1827 158.687 1824.13 160.793 Q1821.28 162.9 1816.28 162.9 Q1814.2 162.9 1811.93 162.483 Q1809.69 162.09 1807.19 161.28 L1807.19 156.881 Q1809.55 158.108 1811.84 158.733 Q1814.13 159.335 1816.38 159.335 Q1819.39 159.335 1821.01 158.317 Q1822.63 157.275 1822.63 155.4 Q1822.63 153.664 1821.45 152.738 Q1820.29 151.812 1816.33 150.956 L1814.85 150.608 Q1810.89 149.775 1809.13 148.062 Q1807.37 146.326 1807.37 143.317 Q1807.37 139.659 1809.96 137.669 Q1812.56 135.678 1817.32 135.678 Q1819.69 135.678 1821.77 136.025 Q1823.85 136.372 1825.61 137.067 Z\" fill=\"#000000\" fill-rule=\"evenodd\" fill-opacity=\"1\" /><path clip-path=\"url(#clip960)\" d=\"M1838 128.942 L1838 136.303 L1846.77 136.303 L1846.77 139.613 L1838 139.613 L1838 153.687 Q1838 156.858 1838.85 157.761 Q1839.73 158.664 1842.39 158.664 L1846.77 158.664 L1846.77 162.229 L1842.39 162.229 Q1837.46 162.229 1835.59 160.4 Q1833.71 158.548 1833.71 153.687 L1833.71 139.613 L1830.59 139.613 L1830.59 136.303 L1833.71 136.303 L1833.71 128.942 L1838 128.942 Z\" fill=\"#000000\" fill-rule=\"evenodd\" fill-opacity=\"1\" /><path clip-path=\"url(#clip960)\" d=\"M1877.67 126.257 Q1874.57 131.581 1873.07 136.789 Q1871.56 141.997 1871.56 147.344 Q1871.56 152.692 1873.07 157.946 Q1874.59 163.178 1877.67 168.479 L1873.97 168.479 Q1870.5 163.039 1868.76 157.784 Q1867.05 152.53 1867.05 147.344 Q1867.05 142.182 1868.76 136.951 Q1870.47 131.72 1873.97 126.257 L1877.67 126.257 Z\" fill=\"#000000\" fill-rule=\"evenodd\" fill-opacity=\"1\" /><path clip-path=\"url(#clip960)\" d=\"M1897.67 132.275 L1891.33 149.474 L1904.04 149.474 L1897.67 132.275 M1895.03 127.669 L1900.33 127.669 L1913.51 162.229 L1908.64 162.229 L1905.5 153.363 L1889.92 153.363 L1886.77 162.229 L1881.84 162.229 L1895.03 127.669 Z\" fill=\"#000000\" fill-rule=\"evenodd\" fill-opacity=\"1\" /><path clip-path=\"url(#clip960)\" d=\"M1918.02 127.669 L1922.72 127.669 L1922.72 148.664 Q1922.72 154.219 1924.73 156.673 Q1926.75 159.104 1931.26 159.104 Q1935.75 159.104 1937.76 156.673 Q1939.78 154.219 1939.78 148.664 L1939.78 127.669 L1944.48 127.669 L1944.48 149.243 Q1944.48 156.002 1941.12 159.451 Q1937.79 162.9 1931.26 162.9 Q1924.71 162.9 1921.35 159.451 Q1918.02 156.002 1918.02 149.243 L1918.02 127.669 Z\" fill=\"#000000\" fill-rule=\"evenodd\" fill-opacity=\"1\" /><path clip-path=\"url(#clip960)\" d=\"M1979.13 130.331 L1979.13 135.261 Q1976.77 133.062 1974.08 131.974 Q1971.42 130.886 1968.41 130.886 Q1962.49 130.886 1959.34 134.52 Q1956.19 138.132 1956.19 144.983 Q1956.19 151.812 1959.34 155.446 Q1962.49 159.057 1968.41 159.057 Q1971.42 159.057 1974.08 157.969 Q1976.77 156.881 1979.13 154.682 L1979.13 159.567 Q1976.68 161.233 1973.92 162.067 Q1971.19 162.9 1968.13 162.9 Q1960.29 162.9 1955.77 158.108 Q1951.26 153.293 1951.26 144.983 Q1951.26 136.65 1955.77 131.858 Q1960.29 127.044 1968.13 127.044 Q1971.24 127.044 1973.97 127.877 Q1976.72 128.687 1979.13 130.331 Z\" fill=\"#000000\" fill-rule=\"evenodd\" fill-opacity=\"1\" /><path clip-path=\"url(#clip960)\" d=\"M1986.72 140.701 L2016.4 140.701 L2016.4 144.59 L1986.72 144.59 L1986.72 140.701 M1986.72 150.145 L2016.4 150.145 L2016.4 154.081 L1986.72 154.081 L1986.72 150.145 Z\" fill=\"#000000\" fill-rule=\"evenodd\" fill-opacity=\"1\" /><path clip-path=\"url(#clip960)\" d=\"M2027.3 158.293 L2034.94 158.293 L2034.94 131.928 L2026.63 133.595 L2026.63 129.335 L2034.89 127.669 L2039.57 127.669 L2039.57 158.293 L2047.21 158.293 L2047.21 162.229 L2027.3 162.229 L2027.3 158.293 Z\" fill=\"#000000\" fill-rule=\"evenodd\" fill-opacity=\"1\" /><path clip-path=\"url(#clip960)\" d=\"M2070.82 143.594 Q2074.18 144.312 2076.05 146.581 Q2077.95 148.849 2077.95 152.182 Q2077.95 157.298 2074.43 160.099 Q2070.91 162.9 2064.43 162.9 Q2062.25 162.9 2059.94 162.46 Q2057.65 162.043 2055.19 161.187 L2055.19 156.673 Q2057.14 157.807 2059.45 158.386 Q2061.77 158.965 2064.29 158.965 Q2068.69 158.965 2070.98 157.229 Q2073.3 155.493 2073.3 152.182 Q2073.3 149.127 2071.14 147.414 Q2069.01 145.678 2065.19 145.678 L2061.17 145.678 L2061.17 141.835 L2065.38 141.835 Q2068.83 141.835 2070.66 140.469 Q2072.49 139.081 2072.49 136.488 Q2072.49 133.826 2070.59 132.414 Q2068.71 130.979 2065.19 130.979 Q2063.27 130.979 2061.07 131.395 Q2058.87 131.812 2056.24 132.692 L2056.24 128.525 Q2058.9 127.784 2061.21 127.414 Q2063.55 127.044 2065.61 127.044 Q2070.93 127.044 2074.04 129.474 Q2077.14 131.882 2077.14 136.002 Q2077.14 138.872 2075.49 140.863 Q2073.85 142.831 2070.82 143.594 Z\" fill=\"#000000\" fill-rule=\"evenodd\" fill-opacity=\"1\" /><path clip-path=\"url(#clip960)\" d=\"M2086.81 156.349 L2091.7 156.349 L2091.7 162.229 L2086.81 162.229 L2086.81 156.349 Z\" fill=\"#000000\" fill-rule=\"evenodd\" fill-opacity=\"1\" /><path clip-path=\"url(#clip960)\" d=\"M2102.02 161.511 L2102.02 157.252 Q2103.78 158.085 2105.59 158.525 Q2107.39 158.965 2109.13 158.965 Q2113.76 158.965 2116.19 155.863 Q2118.64 152.738 2118.99 146.395 Q2117.65 148.386 2115.59 149.451 Q2113.53 150.516 2111.03 150.516 Q2105.84 150.516 2102.81 147.391 Q2099.8 144.243 2099.8 138.803 Q2099.8 133.479 2102.95 130.261 Q2106.1 127.044 2111.33 127.044 Q2117.32 127.044 2120.47 131.65 Q2123.64 136.233 2123.64 144.983 Q2123.64 153.155 2119.75 158.039 Q2115.89 162.9 2109.34 162.9 Q2107.58 162.9 2105.77 162.553 Q2103.97 162.205 2102.02 161.511 M2111.33 146.858 Q2114.48 146.858 2116.3 144.706 Q2118.16 142.553 2118.16 138.803 Q2118.16 135.076 2116.3 132.923 Q2114.48 130.747 2111.33 130.747 Q2108.18 130.747 2106.33 132.923 Q2104.5 135.076 2104.5 138.803 Q2104.5 142.553 2106.33 144.706 Q2108.18 146.858 2111.33 146.858 Z\" fill=\"#000000\" fill-rule=\"evenodd\" fill-opacity=\"1\" /><path clip-path=\"url(#clip960)\" d=\"M2161.44 147.02 Q2159.43 147.02 2158.27 148.733 Q2157.14 150.446 2157.14 153.502 Q2157.14 156.511 2158.27 158.247 Q2159.43 159.96 2161.44 159.96 Q2163.41 159.96 2164.55 158.247 Q2165.7 156.511 2165.7 153.502 Q2165.7 150.469 2164.55 148.756 Q2163.41 147.02 2161.44 147.02 M2161.44 144.081 Q2165.1 144.081 2167.25 146.627 Q2169.41 149.173 2169.41 153.502 Q2169.41 157.83 2167.23 160.377 Q2165.08 162.9 2161.44 162.9 Q2157.74 162.9 2155.59 160.377 Q2153.43 157.83 2153.43 153.502 Q2153.43 149.15 2155.59 146.627 Q2157.76 144.081 2161.44 144.081 M2137.55 129.983 Q2135.56 129.983 2134.41 131.72 Q2133.27 133.432 2133.27 136.442 Q2133.27 139.497 2134.41 141.21 Q2135.54 142.923 2137.55 142.923 Q2139.57 142.923 2140.7 141.21 Q2141.86 139.497 2141.86 136.442 Q2141.86 133.456 2140.7 131.72 Q2139.55 129.983 2137.55 129.983 M2158.46 127.044 L2162.16 127.044 L2140.54 162.9 L2136.84 162.9 L2158.46 127.044 M2137.55 127.044 Q2141.21 127.044 2143.39 129.59 Q2145.56 132.113 2145.56 136.442 Q2145.56 140.817 2143.39 143.34 Q2141.24 145.863 2137.55 145.863 Q2133.87 145.863 2131.72 143.34 Q2129.59 140.794 2129.59 136.442 Q2129.59 132.136 2131.74 129.59 Q2133.9 127.044 2137.55 127.044 Z\" fill=\"#000000\" fill-rule=\"evenodd\" fill-opacity=\"1\" /><path clip-path=\"url(#clip960)\" d=\"M2175.82 126.257 L2179.52 126.257 Q2182.99 131.72 2184.71 136.951 Q2186.44 142.182 2186.44 147.344 Q2186.44 152.53 2184.71 157.784 Q2182.99 163.039 2179.52 168.479 L2175.82 168.479 Q2178.9 163.178 2180.4 157.946 Q2181.93 152.692 2181.93 147.344 Q2181.93 141.997 2180.4 136.789 Q2178.9 131.581 2175.82 126.257 Z\" fill=\"#000000\" fill-rule=\"evenodd\" fill-opacity=\"1\" /><polyline clip-path=\"url(#clip960)\" style=\"stroke:#ffd700; stroke-linecap:butt; stroke-linejoin:round; stroke-width:4; stroke-opacity:1; fill:none\" points=\"\n",
       "  1594.55,196.789 1734.77,196.789 \n",
       "  \"/>\n",
       "<path clip-path=\"url(#clip960)\" d=\"M1765.54 180.782 L1765.54 188.143 L1774.32 188.143 L1774.32 191.453 L1765.54 191.453 L1765.54 205.527 Q1765.54 208.698 1766.4 209.601 Q1767.28 210.504 1769.94 210.504 L1774.32 210.504 L1774.32 214.069 L1769.94 214.069 Q1765.01 214.069 1763.14 212.24 Q1761.26 210.388 1761.26 205.527 L1761.26 191.453 L1758.14 191.453 L1758.14 188.143 L1761.26 188.143 L1761.26 180.782 L1765.54 180.782 Z\" fill=\"#000000\" fill-rule=\"evenodd\" fill-opacity=\"1\" /><path clip-path=\"url(#clip960)\" d=\"M1794.94 192.124 Q1794.22 191.708 1793.37 191.522 Q1792.53 191.314 1791.51 191.314 Q1787.9 191.314 1785.96 193.675 Q1784.04 196.013 1784.04 200.411 L1784.04 214.069 L1779.76 214.069 L1779.76 188.143 L1784.04 188.143 L1784.04 192.171 Q1785.38 189.809 1787.53 188.675 Q1789.69 187.518 1792.76 187.518 Q1793.2 187.518 1793.74 187.587 Q1794.27 187.634 1794.92 187.749 L1794.94 192.124 Z\" fill=\"#000000\" fill-rule=\"evenodd\" fill-opacity=\"1\" /><path clip-path=\"url(#clip960)\" d=\"M1811.19 201.036 Q1806.03 201.036 1804.04 202.217 Q1802.05 203.397 1802.05 206.245 Q1802.05 208.513 1803.53 209.856 Q1805.03 211.175 1807.6 211.175 Q1811.14 211.175 1813.27 208.675 Q1815.43 206.152 1815.43 201.985 L1815.43 201.036 L1811.19 201.036 M1819.69 199.277 L1819.69 214.069 L1815.43 214.069 L1815.43 210.133 Q1813.97 212.495 1811.79 213.629 Q1809.62 214.74 1806.47 214.74 Q1802.49 214.74 1800.13 212.518 Q1797.79 210.272 1797.79 206.522 Q1797.79 202.147 1800.7 199.925 Q1803.64 197.703 1809.45 197.703 L1815.43 197.703 L1815.43 197.286 Q1815.43 194.347 1813.48 192.749 Q1811.56 191.129 1808.07 191.129 Q1805.84 191.129 1803.74 191.661 Q1801.63 192.194 1799.69 193.259 L1799.69 189.323 Q1802.02 188.421 1804.22 187.981 Q1806.42 187.518 1808.51 187.518 Q1814.13 187.518 1816.91 190.434 Q1819.69 193.351 1819.69 199.277 Z\" fill=\"#000000\" fill-rule=\"evenodd\" fill-opacity=\"1\" /><path clip-path=\"url(#clip960)\" d=\"M1828.46 188.143 L1832.72 188.143 L1832.72 214.069 L1828.46 214.069 L1828.46 188.143 M1828.46 178.05 L1832.72 178.05 L1832.72 183.444 L1828.46 183.444 L1828.46 178.05 Z\" fill=\"#000000\" fill-rule=\"evenodd\" fill-opacity=\"1\" /><path clip-path=\"url(#clip960)\" d=\"M1863.18 198.421 L1863.18 214.069 L1858.92 214.069 L1858.92 198.559 Q1858.92 194.879 1857.49 193.05 Q1856.05 191.222 1853.18 191.222 Q1849.73 191.222 1847.74 193.421 Q1845.75 195.62 1845.75 199.416 L1845.75 214.069 L1841.47 214.069 L1841.47 188.143 L1845.75 188.143 L1845.75 192.171 Q1847.28 189.833 1849.34 188.675 Q1851.42 187.518 1854.13 187.518 Q1858.6 187.518 1860.89 190.296 Q1863.18 193.05 1863.18 198.421 Z\" fill=\"#000000\" fill-rule=\"evenodd\" fill-opacity=\"1\" /><path clip-path=\"url(#clip960)\" d=\"M1896.98 178.097 Q1893.88 183.421 1892.37 188.629 Q1890.87 193.837 1890.87 199.184 Q1890.87 204.532 1892.37 209.786 Q1893.9 215.018 1896.98 220.319 L1893.27 220.319 Q1889.8 214.879 1888.07 209.624 Q1886.35 204.37 1886.35 199.184 Q1886.35 194.022 1888.07 188.791 Q1889.78 183.56 1893.27 178.097 L1896.98 178.097 Z\" fill=\"#000000\" fill-rule=\"evenodd\" fill-opacity=\"1\" /><path clip-path=\"url(#clip960)\" d=\"M1916.98 184.115 L1910.63 201.314 L1923.34 201.314 L1916.98 184.115 M1914.34 179.509 L1919.64 179.509 L1932.81 214.069 L1927.95 214.069 L1924.8 205.203 L1909.22 205.203 L1906.07 214.069 L1901.14 214.069 L1914.34 179.509 Z\" fill=\"#000000\" fill-rule=\"evenodd\" fill-opacity=\"1\" /><path clip-path=\"url(#clip960)\" d=\"M1937.32 179.509 L1942.02 179.509 L1942.02 200.504 Q1942.02 206.059 1944.04 208.513 Q1946.05 210.944 1950.56 210.944 Q1955.06 210.944 1957.07 208.513 Q1959.08 206.059 1959.08 200.504 L1959.08 179.509 L1963.78 179.509 L1963.78 201.083 Q1963.78 207.842 1960.43 211.291 Q1957.09 214.74 1950.56 214.74 Q1944.01 214.74 1940.66 211.291 Q1937.32 207.842 1937.32 201.083 L1937.32 179.509 Z\" fill=\"#000000\" fill-rule=\"evenodd\" fill-opacity=\"1\" /><path clip-path=\"url(#clip960)\" d=\"M1998.44 182.171 L1998.44 187.101 Q1996.07 184.902 1993.39 183.814 Q1990.73 182.726 1987.72 182.726 Q1981.79 182.726 1978.64 186.36 Q1975.5 189.972 1975.5 196.823 Q1975.5 203.652 1978.64 207.286 Q1981.79 210.897 1987.72 210.897 Q1990.73 210.897 1993.39 209.809 Q1996.07 208.721 1998.44 206.522 L1998.44 211.407 Q1995.98 213.073 1993.23 213.907 Q1990.5 214.74 1987.44 214.74 Q1979.59 214.74 1975.08 209.948 Q1970.56 205.133 1970.56 196.823 Q1970.56 188.49 1975.08 183.698 Q1979.59 178.884 1987.44 178.884 Q1990.54 178.884 1993.27 179.717 Q1996.03 180.527 1998.44 182.171 Z\" fill=\"#000000\" fill-rule=\"evenodd\" fill-opacity=\"1\" /><path clip-path=\"url(#clip960)\" d=\"M2006.03 192.541 L2035.7 192.541 L2035.7 196.43 L2006.03 196.43 L2006.03 192.541 M2006.03 201.985 L2035.7 201.985 L2035.7 205.921 L2006.03 205.921 L2006.03 201.985 Z\" fill=\"#000000\" fill-rule=\"evenodd\" fill-opacity=\"1\" /><path clip-path=\"url(#clip960)\" d=\"M2046.61 210.133 L2054.24 210.133 L2054.24 183.768 L2045.93 185.435 L2045.93 181.175 L2054.2 179.509 L2058.87 179.509 L2058.87 210.133 L2066.51 210.133 L2066.51 214.069 L2046.61 214.069 L2046.61 210.133 Z\" fill=\"#000000\" fill-rule=\"evenodd\" fill-opacity=\"1\" /><path clip-path=\"url(#clip960)\" d=\"M2088.8 183.583 L2077 202.032 L2088.8 202.032 L2088.8 183.583 M2087.58 179.509 L2093.46 179.509 L2093.46 202.032 L2098.39 202.032 L2098.39 205.921 L2093.46 205.921 L2093.46 214.069 L2088.8 214.069 L2088.8 205.921 L2073.2 205.921 L2073.2 201.407 L2087.58 179.509 Z\" fill=\"#000000\" fill-rule=\"evenodd\" fill-opacity=\"1\" /><path clip-path=\"url(#clip960)\" d=\"M2106.12 208.189 L2111 208.189 L2111 214.069 L2106.12 214.069 L2106.12 208.189 Z\" fill=\"#000000\" fill-rule=\"evenodd\" fill-opacity=\"1\" /><path clip-path=\"url(#clip960)\" d=\"M2121.33 213.351 L2121.33 209.092 Q2123.09 209.925 2124.89 210.365 Q2126.7 210.805 2128.43 210.805 Q2133.06 210.805 2135.49 207.703 Q2137.95 204.578 2138.3 198.235 Q2136.95 200.226 2134.89 201.291 Q2132.83 202.356 2130.33 202.356 Q2125.15 202.356 2122.12 199.231 Q2119.11 196.083 2119.11 190.643 Q2119.11 185.319 2122.25 182.101 Q2125.4 178.884 2130.63 178.884 Q2136.63 178.884 2139.78 183.49 Q2142.95 188.073 2142.95 196.823 Q2142.95 204.995 2139.06 209.879 Q2135.19 214.74 2128.64 214.74 Q2126.88 214.74 2125.08 214.393 Q2123.27 214.045 2121.33 213.351 M2130.63 198.698 Q2133.78 198.698 2135.61 196.546 Q2137.46 194.393 2137.46 190.643 Q2137.46 186.916 2135.61 184.763 Q2133.78 182.587 2130.63 182.587 Q2127.49 182.587 2125.63 184.763 Q2123.8 186.916 2123.8 190.643 Q2123.8 194.393 2125.63 196.546 Q2127.49 198.698 2130.63 198.698 Z\" fill=\"#000000\" fill-rule=\"evenodd\" fill-opacity=\"1\" /><path clip-path=\"url(#clip960)\" d=\"M2161.35 197.657 Q2158.02 197.657 2156.1 199.439 Q2154.2 201.221 2154.2 204.346 Q2154.2 207.471 2156.1 209.254 Q2158.02 211.036 2161.35 211.036 Q2164.68 211.036 2166.61 209.254 Q2168.53 207.448 2168.53 204.346 Q2168.53 201.221 2166.61 199.439 Q2164.71 197.657 2161.35 197.657 M2156.68 195.666 Q2153.67 194.925 2151.98 192.865 Q2150.31 190.805 2150.31 187.842 Q2150.31 183.698 2153.25 181.291 Q2156.21 178.884 2161.35 178.884 Q2166.51 178.884 2169.45 181.291 Q2172.39 183.698 2172.39 187.842 Q2172.39 190.805 2170.7 192.865 Q2169.04 194.925 2166.05 195.666 Q2169.43 196.453 2171.3 198.745 Q2173.2 201.036 2173.2 204.346 Q2173.2 209.37 2170.12 212.055 Q2167.07 214.74 2161.35 214.74 Q2155.63 214.74 2152.55 212.055 Q2149.5 209.37 2149.5 204.346 Q2149.5 201.036 2151.4 198.745 Q2153.3 196.453 2156.68 195.666 M2154.96 188.282 Q2154.96 190.967 2156.63 192.472 Q2158.32 193.976 2161.35 193.976 Q2164.36 193.976 2166.05 192.472 Q2167.76 190.967 2167.76 188.282 Q2167.76 185.597 2166.05 184.092 Q2164.36 182.587 2161.35 182.587 Q2158.32 182.587 2156.63 184.092 Q2154.96 185.597 2154.96 188.282 Z\" fill=\"#000000\" fill-rule=\"evenodd\" fill-opacity=\"1\" /><path clip-path=\"url(#clip960)\" d=\"M2210.91 198.86 Q2208.9 198.86 2207.74 200.573 Q2206.61 202.286 2206.61 205.342 Q2206.61 208.351 2207.74 210.087 Q2208.9 211.8 2210.91 211.8 Q2212.88 211.8 2214.01 210.087 Q2215.17 208.351 2215.17 205.342 Q2215.17 202.309 2214.01 200.596 Q2212.88 198.86 2210.91 198.86 M2210.91 195.921 Q2214.57 195.921 2216.72 198.467 Q2218.87 201.013 2218.87 205.342 Q2218.87 209.67 2216.7 212.217 Q2214.55 214.74 2210.91 214.74 Q2207.21 214.74 2205.05 212.217 Q2202.9 209.67 2202.9 205.342 Q2202.9 200.99 2205.05 198.467 Q2207.23 195.921 2210.91 195.921 M2187.02 181.823 Q2185.03 181.823 2183.87 183.56 Q2182.74 185.272 2182.74 188.282 Q2182.74 191.337 2183.87 193.05 Q2185.01 194.763 2187.02 194.763 Q2189.04 194.763 2190.17 193.05 Q2191.33 191.337 2191.33 188.282 Q2191.33 185.296 2190.17 183.56 Q2189.01 181.823 2187.02 181.823 M2207.92 178.884 L2211.63 178.884 L2190.01 214.74 L2186.3 214.74 L2207.92 178.884 M2187.02 178.884 Q2190.68 178.884 2192.86 181.43 Q2195.03 183.953 2195.03 188.282 Q2195.03 192.657 2192.86 195.18 Q2190.7 197.703 2187.02 197.703 Q2183.34 197.703 2181.19 195.18 Q2179.06 192.634 2179.06 188.282 Q2179.06 183.976 2181.21 181.43 Q2183.36 178.884 2187.02 178.884 Z\" fill=\"#000000\" fill-rule=\"evenodd\" fill-opacity=\"1\" /><path clip-path=\"url(#clip960)\" d=\"M2225.29 178.097 L2228.99 178.097 Q2232.46 183.56 2234.17 188.791 Q2235.91 194.022 2235.91 199.184 Q2235.91 204.37 2234.17 209.624 Q2232.46 214.879 2228.99 220.319 L2225.29 220.319 Q2228.36 215.018 2229.87 209.786 Q2231.4 204.532 2231.4 199.184 Q2231.4 193.837 2229.87 188.629 Q2228.36 183.421 2225.29 178.097 Z\" fill=\"#000000\" fill-rule=\"evenodd\" fill-opacity=\"1\" /></svg>\n"
      ]
     },
     "execution_count": 78,
     "metadata": {},
     "output_type": "execute_result"
    }
   ],
   "source": [
    "plot!(train_roc.pfa, train_roc.pmiss;\n",
    "    color=\"gold\", lw=3,\n",
    "    label=\"train (AUC=$(round(100*auc(train_roc), digits=2))%)\")"
   ]
  },
  {
   "cell_type": "markdown",
   "id": "8382dedf",
   "metadata": {},
   "source": [
    "### Handling of duplicate column names in DataFrames.jl"
   ]
  },
  {
   "cell_type": "code",
   "execution_count": 79,
   "id": "dd577d0d",
   "metadata": {},
   "outputs": [
    {
     "ename": "LoadError",
     "evalue": "ArgumentError: Duplicate variable names: :a. Pass makeunique=true to make them unique using a suffix automatically.",
     "output_type": "error",
     "traceback": [
      "ArgumentError: Duplicate variable names: :a. Pass makeunique=true to make them unique using a suffix automatically.",
      "",
      "Stacktrace:",
      " [1] make_unique!(names::Vector{Symbol}, src::Vector{Symbol}; makeunique::Bool)",
      "   @ DataFrames C:\\Users\\bogum\\.julia\\packages\\DataFrames\\zqFGs\\src\\other\\utils.jl:83",
      " [2] #make_unique#2",
      "   @ C:\\Users\\bogum\\.julia\\packages\\DataFrames\\zqFGs\\src\\other\\utils.jl:105 [inlined]",
      " [3] #Index#5",
      "   @ C:\\Users\\bogum\\.julia\\packages\\DataFrames\\zqFGs\\src\\other\\index.jl:27 [inlined]",
      " [4] DataFrame(::Pair{Symbol, Int64}, ::Vararg{Pair{Symbol, Int64}}; makeunique::Bool, copycols::Bool)",
      "   @ DataFrames C:\\Users\\bogum\\.julia\\packages\\DataFrames\\zqFGs\\src\\dataframe\\dataframe.jl:247",
      " [5] DataFrame(::Pair{Symbol, Int64}, ::Vararg{Pair{Symbol, Int64}})",
      "   @ DataFrames C:\\Users\\bogum\\.julia\\packages\\DataFrames\\zqFGs\\src\\dataframe\\dataframe.jl:245",
      " [6] top-level scope",
      "   @ In[79]:1",
      " [7] eval",
      "   @ .\\boot.jl:373 [inlined]",
      " [8] include_string(mapexpr::typeof(REPL.softscope), mod::Module, code::String, filename::String)",
      "   @ Base .\\loading.jl:1196"
     ]
    }
   ],
   "source": [
    "DataFrame(:a=>1, :a=>2)"
   ]
  },
  {
   "cell_type": "code",
   "execution_count": 80,
   "id": "24e55aac",
   "metadata": {},
   "outputs": [
    {
     "data": {
      "text/html": [
       "<div class=\"data-frame\"><p>1 rows × 2 columns</p><table class=\"data-frame\"><thead><tr><th></th><th>a</th><th>a_1</th></tr><tr><th></th><th title=\"Int64\">Int64</th><th title=\"Int64\">Int64</th></tr></thead><tbody><tr><th>1</th><td>1</td><td>2</td></tr></tbody></table></div>"
      ],
      "text/latex": [
       "\\begin{tabular}{r|cc}\n",
       "\t& a & a\\_1\\\\\n",
       "\t\\hline\n",
       "\t& Int64 & Int64\\\\\n",
       "\t\\hline\n",
       "\t1 & 1 & 2 \\\\\n",
       "\\end{tabular}\n"
      ],
      "text/plain": [
       "\u001b[1m1×2 DataFrame\u001b[0m\n",
       "\u001b[1m Row \u001b[0m│\u001b[1m a     \u001b[0m\u001b[1m a_1   \u001b[0m\n",
       "\u001b[1m     \u001b[0m│\u001b[90m Int64 \u001b[0m\u001b[90m Int64 \u001b[0m\n",
       "─────┼──────────────\n",
       "   1 │     1      2"
      ]
     },
     "execution_count": 80,
     "metadata": {},
     "output_type": "execute_result"
    }
   ],
   "source": [
    "DataFrame(:a=>1, :a=>2; makeunique=true)"
   ]
  }
 ],
 "metadata": {
  "kernelspec": {
   "display_name": "Julia 1.7.3",
   "language": "julia",
   "name": "julia-1.7"
  },
  "language_info": {
   "file_extension": ".jl",
   "mimetype": "application/julia",
   "name": "julia",
   "version": "1.7.3"
  }
 },
 "nbformat": 4,
 "nbformat_minor": 5
}
