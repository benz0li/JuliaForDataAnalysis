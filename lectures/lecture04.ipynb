{
 "cells": [
  {
   "cell_type": "markdown",
   "id": "8f88f297",
   "metadata": {},
   "source": [
    "# Julia for Data Analysis\n",
    "\n",
    "## Bogumił Kamiński"
   ]
  },
  {
   "cell_type": "markdown",
   "id": "9cb3e3c8",
   "metadata": {},
   "source": [
    "# Lecture 4. Working with collections in Julia"
   ]
  },
  {
   "cell_type": "markdown",
   "id": "6756c8a6",
   "metadata": {},
   "source": [
    "## Working with arrays"
   ]
  },
  {
   "cell_type": "markdown",
   "id": "b417bd9f",
   "metadata": {},
   "source": [
    "### Anscombe's quartet data"
   ]
  },
  {
   "cell_type": "markdown",
   "id": "b7af2bbf",
   "metadata": {},
   "source": [
    "| Data set 1        | Data set 2           | Data set 3  | Data set 4  |\n",
    "| :-------: |:-------:| :-------:|:-------:|\n",
    "| x , y | x , y | x , y | x , y |\n",
    "| 10.0 , 8.04     |10.0 , 9.14| 10.0 , 7.46 | 8.0 , 6.58|\n",
    "|8.0 , 6.95   |8.0 , 8.14|8.0 , 6.77|8.0 , 5.76|\n",
    "|13.0 , 7.58  |13.0 , 8.74 |13.0 , 12.74|8.0 , 7.71|\n",
    "|9.0 , 8.81  |9.0 , 8.77|9.0 , 7.11| 8.0 , 8.84|\n",
    "|11.0 , 8.33   |11.0 , 9.26|11.0 , 7.81|8.0 , 8.47|\n",
    "|14.0 , 9.96   |14.0 , 8.10|14.0 , 8.84|8.0 , 7.04|\n",
    "|6.0 , 7.24| 6.0 , 6.13  |6.0 , 6.08|8.0 , 5.25|\n",
    "|4.0 , 4.26  |4.0 , 3.10| 4.0 , 5.39|19.0 , 12.50|\n",
    "|12.0 , 10.84  |12.0 , 9.13|12.0 , 8.15|8.0 , 5.56|\n",
    "|7.0 , 4.82  |7.0 , 7.26|7.0 , 6.42|8.0 , 7.91|\n",
    "|5.0 , 5.68   |5.0 , 4.74|5.0 , 5.73|8.0 , 6.89|"
   ]
  },
  {
   "cell_type": "markdown",
   "id": "3d82a9c9",
   "metadata": {},
   "source": [
    "### Getting the data into a matrix"
   ]
  },
  {
   "cell_type": "code",
   "execution_count": null,
   "id": "5e16f874",
   "metadata": {},
   "outputs": [],
   "source": [
    "using Pkg\n",
    "Pkg.activate(Base.current_project())"
   ]
  },
  {
   "cell_type": "code",
   "execution_count": 1,
   "id": "f995ef8b",
   "metadata": {},
   "outputs": [
    {
     "data": {
      "text/plain": [
       "11×8 Matrix{Float64}:\n",
       " 10.0   8.04  10.0  9.14  10.0   7.46   8.0   6.58\n",
       "  8.0   6.95   8.0  8.14   8.0   6.77   8.0   5.76\n",
       " 13.0   7.58  13.0  8.74  13.0  12.74   8.0   7.71\n",
       "  9.0   8.81   9.0  8.77   9.0   7.11   8.0   8.84\n",
       " 11.0   8.33  11.0  9.26  11.0   7.81   8.0   8.47\n",
       " 14.0   9.96  14.0  8.1   14.0   8.84   8.0   7.04\n",
       "  6.0   7.24   6.0  6.13   6.0   6.08   8.0   5.25\n",
       "  4.0   4.26   4.0  3.1    4.0   5.39  19.0  12.5\n",
       " 12.0  10.84  12.0  9.13  12.0   8.15   8.0   5.56\n",
       "  7.0   4.82   7.0  7.26   7.0   6.42   8.0   7.91\n",
       "  5.0   5.68   5.0  4.74   5.0   5.73   8.0   6.89"
      ]
     },
     "execution_count": 1,
     "metadata": {},
     "output_type": "execute_result"
    }
   ],
   "source": [
    "aq = [10.0  8.04 10.0  9.14 10.0  7.46  8.0  6.58\n",
    "       8.0  6.95  8.0  8.14  8.0  6.77  8.0  5.76\n",
    "      13.0  7.58 13.0  8.74 13.0 12.74  8.0  7.71\n",
    "       9.0  8.81  9.0  8.77  9.0  7.11  8.0  8.84\n",
    "      11.0  8.33 11.0  9.26 11.0  7.81  8.0  8.47\n",
    "      14.0  9.96 14.0  8.1  14.0  8.84  8.0  7.04\n",
    "       6.0  7.24  6.0  6.13  6.0  6.08  8.0  5.25\n",
    "       4.0  4.26  4.0  3.1   4.0  5.39 19.0 12.50\n",
    "      12.0 10.84 12.0  9.13 12.0  8.15  8.0  5.56\n",
    "       7.0  4.82  7.0  7.26  7.0  6.42  8.0  7.91\n",
    "       5.0  5.68  5.0  4.74  5.0  5.73  8.0  6.89]"
   ]
  },
  {
   "cell_type": "code",
   "execution_count": 2,
   "id": "4ebfeaf5",
   "metadata": {},
   "outputs": [
    {
     "data": {
      "text/plain": [
       "(11, 8)"
      ]
     },
     "execution_count": 2,
     "metadata": {},
     "output_type": "execute_result"
    }
   ],
   "source": [
    "size(aq)"
   ]
  },
  {
   "cell_type": "code",
   "execution_count": 3,
   "id": "2431aa24",
   "metadata": {},
   "outputs": [
    {
     "data": {
      "text/plain": [
       "11"
      ]
     },
     "execution_count": 3,
     "metadata": {},
     "output_type": "execute_result"
    }
   ],
   "source": [
    "size(aq, 1)"
   ]
  },
  {
   "cell_type": "code",
   "execution_count": 4,
   "id": "daab7899",
   "metadata": {},
   "outputs": [
    {
     "data": {
      "text/plain": [
       "8"
      ]
     },
     "execution_count": 4,
     "metadata": {},
     "output_type": "execute_result"
    }
   ],
   "source": [
    "size(aq, 2)"
   ]
  },
  {
   "cell_type": "markdown",
   "id": "6c8c68bc",
   "metadata": {},
   "source": [
    "### Working with tuples"
   ]
  },
  {
   "cell_type": "code",
   "execution_count": 5,
   "id": "8acbcb18",
   "metadata": {},
   "outputs": [
    {
     "data": {
      "text/plain": [
       "3-element Vector{Int64}:\n",
       " 1\n",
       " 2\n",
       " 3"
      ]
     },
     "execution_count": 5,
     "metadata": {},
     "output_type": "execute_result"
    }
   ],
   "source": [
    "v = [1, 2, 3]"
   ]
  },
  {
   "cell_type": "code",
   "execution_count": 6,
   "id": "5a9a4b22",
   "metadata": {},
   "outputs": [
    {
     "data": {
      "text/plain": [
       "(1, 2, 3)"
      ]
     },
     "execution_count": 6,
     "metadata": {},
     "output_type": "execute_result"
    }
   ],
   "source": [
    "t = (1, 2, 3)"
   ]
  },
  {
   "cell_type": "code",
   "execution_count": 7,
   "id": "bdf942e2",
   "metadata": {},
   "outputs": [
    {
     "data": {
      "text/plain": [
       "1"
      ]
     },
     "execution_count": 7,
     "metadata": {},
     "output_type": "execute_result"
    }
   ],
   "source": [
    "v[1]"
   ]
  },
  {
   "cell_type": "code",
   "execution_count": 8,
   "id": "e7c3df45",
   "metadata": {},
   "outputs": [
    {
     "data": {
      "text/plain": [
       "1"
      ]
     },
     "execution_count": 8,
     "metadata": {},
     "output_type": "execute_result"
    }
   ],
   "source": [
    "t[1]"
   ]
  },
  {
   "cell_type": "code",
   "execution_count": 9,
   "id": "fc6671e9",
   "metadata": {},
   "outputs": [
    {
     "data": {
      "text/plain": [
       "10"
      ]
     },
     "execution_count": 9,
     "metadata": {},
     "output_type": "execute_result"
    }
   ],
   "source": [
    "v[1] = 10"
   ]
  },
  {
   "cell_type": "code",
   "execution_count": 10,
   "id": "0343a45e",
   "metadata": {},
   "outputs": [
    {
     "data": {
      "text/plain": [
       "3-element Vector{Int64}:\n",
       " 10\n",
       "  2\n",
       "  3"
      ]
     },
     "execution_count": 10,
     "metadata": {},
     "output_type": "execute_result"
    }
   ],
   "source": [
    "v"
   ]
  },
  {
   "cell_type": "code",
   "execution_count": 11,
   "id": "fc46d6f9",
   "metadata": {},
   "outputs": [
    {
     "ename": "LoadError",
     "evalue": "MethodError: no method matching setindex!(::Tuple{Int64, Int64, Int64}, ::Int64, ::Int64)",
     "output_type": "error",
     "traceback": [
      "MethodError: no method matching setindex!(::Tuple{Int64, Int64, Int64}, ::Int64, ::Int64)",
      "",
      "Stacktrace:",
      " [1] top-level scope",
      "   @ In[11]:1",
      " [2] eval",
      "   @ .\\boot.jl:373 [inlined]",
      " [3] include_string(mapexpr::typeof(REPL.softscope), mod::Module, code::String, filename::String)",
      "   @ Base .\\loading.jl:1196"
     ]
    }
   ],
   "source": [
    "t[1] = 10"
   ]
  },
  {
   "cell_type": "code",
   "execution_count": 12,
   "id": "88044c76",
   "metadata": {},
   "outputs": [
    {
     "data": {
      "text/plain": [
       "2-element Vector{Float64}:\n",
       " 1.0\n",
       " 2.0"
      ]
     },
     "execution_count": 12,
     "metadata": {},
     "output_type": "execute_result"
    }
   ],
   "source": [
    "[1, 2.0]"
   ]
  },
  {
   "cell_type": "code",
   "execution_count": 13,
   "id": "293ab944",
   "metadata": {},
   "outputs": [
    {
     "data": {
      "text/plain": [
       "(1, 2.0)"
      ]
     },
     "execution_count": 13,
     "metadata": {},
     "output_type": "execute_result"
    }
   ],
   "source": [
    "(1, 2.0)"
   ]
  },
  {
   "cell_type": "markdown",
   "id": "adcc665a",
   "metadata": {},
   "source": [
    "### Computing basic statistics of the data stored in a matrix"
   ]
  },
  {
   "cell_type": "code",
   "execution_count": 14,
   "id": "fad95649",
   "metadata": {},
   "outputs": [
    {
     "data": {
      "text/plain": [
       "1×8 Matrix{Float64}:\n",
       " 9.0  7.50091  9.0  7.50091  9.0  7.5  9.0  7.50091"
      ]
     },
     "execution_count": 14,
     "metadata": {},
     "output_type": "execute_result"
    }
   ],
   "source": [
    "using Statistics\n",
    "mean(aq; dims=1)"
   ]
  },
  {
   "cell_type": "code",
   "execution_count": 15,
   "id": "9d575782",
   "metadata": {},
   "outputs": [
    {
     "data": {
      "text/plain": [
       "1×8 Matrix{Float64}:\n",
       " 3.31662  2.03157  3.31662  2.03166  3.31662  2.03042  3.31662  2.03058"
      ]
     },
     "execution_count": 15,
     "metadata": {},
     "output_type": "execute_result"
    }
   ],
   "source": [
    "std(aq; dims=1)"
   ]
  },
  {
   "cell_type": "code",
   "execution_count": 16,
   "id": "44fa9292",
   "metadata": {},
   "outputs": [
    {
     "data": {
      "text/plain": [
       "8-element Vector{Float64}:\n",
       " 9.0\n",
       " 7.500909090909093\n",
       " 9.0\n",
       " 7.500909090909091\n",
       " 9.0\n",
       " 7.500000000000001\n",
       " 9.0\n",
       " 7.50090909090909"
      ]
     },
     "execution_count": 16,
     "metadata": {},
     "output_type": "execute_result"
    }
   ],
   "source": [
    "map(mean, eachcol(aq))"
   ]
  },
  {
   "cell_type": "code",
   "execution_count": 17,
   "id": "87e8c096",
   "metadata": {},
   "outputs": [
    {
     "data": {
      "text/plain": [
       "8-element Vector{Float64}:\n",
       " 3.3166247903554\n",
       " 2.031568135925815\n",
       " 3.3166247903554\n",
       " 2.0316567355016177\n",
       " 3.3166247903554\n",
       " 2.030423601123667\n",
       " 3.3166247903554\n",
       " 2.0305785113876023"
      ]
     },
     "execution_count": 17,
     "metadata": {},
     "output_type": "execute_result"
    }
   ],
   "source": [
    "map(std, eachcol(aq))"
   ]
  },
  {
   "cell_type": "code",
   "execution_count": 18,
   "id": "f755aea8",
   "metadata": {},
   "outputs": [
    {
     "data": {
      "text/plain": [
       "8-element Vector{Float64}:\n",
       " 9.0\n",
       " 7.500909090909093\n",
       " 9.0\n",
       " 7.500909090909091\n",
       " 9.0\n",
       " 7.500000000000001\n",
       " 9.0\n",
       " 7.50090909090909"
      ]
     },
     "execution_count": 18,
     "metadata": {},
     "output_type": "execute_result"
    }
   ],
   "source": [
    "map(eachcol(aq)) do col\n",
    "    mean(col)\n",
    "end"
   ]
  },
  {
   "cell_type": "code",
   "execution_count": 19,
   "id": "b3c1a6e5",
   "metadata": {},
   "outputs": [
    {
     "data": {
      "text/plain": [
       "8-element Vector{Float64}:\n",
       " 9.0\n",
       " 7.500909090909093\n",
       " 9.0\n",
       " 7.500909090909091\n",
       " 9.0\n",
       " 7.500000000000001\n",
       " 9.0\n",
       " 7.50090909090909"
      ]
     },
     "execution_count": 19,
     "metadata": {},
     "output_type": "execute_result"
    }
   ],
   "source": [
    "[mean(col) for col in eachcol(aq)]"
   ]
  },
  {
   "cell_type": "code",
   "execution_count": 20,
   "id": "55eb5b01",
   "metadata": {},
   "outputs": [
    {
     "data": {
      "text/plain": [
       "8-element Vector{Float64}:\n",
       " 3.3166247903554\n",
       " 2.031568135925815\n",
       " 3.3166247903554\n",
       " 2.0316567355016177\n",
       " 3.3166247903554\n",
       " 2.030423601123667\n",
       " 3.3166247903554\n",
       " 2.0305785113876023"
      ]
     },
     "execution_count": 20,
     "metadata": {},
     "output_type": "execute_result"
    }
   ],
   "source": [
    "[std(col) for col in eachcol(aq)]"
   ]
  },
  {
   "cell_type": "code",
   "execution_count": 21,
   "id": "e6951263",
   "metadata": {},
   "outputs": [
    {
     "data": {
      "text/plain": [
       "(-2, -1, 0, 1, 2)"
      ]
     },
     "execution_count": 21,
     "metadata": {},
     "output_type": "execute_result"
    }
   ],
   "source": [
    "x = (-2, -1, 0, 1, 2)"
   ]
  },
  {
   "cell_type": "code",
   "execution_count": 22,
   "id": "225ed8db",
   "metadata": {},
   "outputs": [
    {
     "data": {
      "text/plain": [
       "5-element Vector{Int64}:\n",
       " 2\n",
       " 1\n",
       " 0\n",
       " 1\n",
       " 2"
      ]
     },
     "execution_count": 22,
     "metadata": {},
     "output_type": "execute_result"
    }
   ],
   "source": [
    "[abs(v) for v in x]"
   ]
  },
  {
   "cell_type": "code",
   "execution_count": 23,
   "id": "8a335da1",
   "metadata": {},
   "outputs": [
    {
     "data": {
      "text/plain": [
       "(2, 1, 0, 1, 2)"
      ]
     },
     "execution_count": 23,
     "metadata": {},
     "output_type": "execute_result"
    }
   ],
   "source": [
    "map(abs, x)"
   ]
  },
  {
   "cell_type": "markdown",
   "id": "03f63fa6",
   "metadata": {},
   "source": [
    "### Indexing into arrays"
   ]
  },
  {
   "cell_type": "code",
   "execution_count": 24,
   "id": "d33bddf9",
   "metadata": {},
   "outputs": [
    {
     "data": {
      "text/plain": [
       "8-element Vector{Float64}:\n",
       " 9.0\n",
       " 7.500909090909093\n",
       " 9.0\n",
       " 7.500909090909091\n",
       " 9.0\n",
       " 7.500000000000001\n",
       " 9.0\n",
       " 7.50090909090909"
      ]
     },
     "execution_count": 24,
     "metadata": {},
     "output_type": "execute_result"
    }
   ],
   "source": [
    "[mean(aq[:, j]) for j in axes(aq, 2)]"
   ]
  },
  {
   "cell_type": "code",
   "execution_count": 25,
   "id": "18d090fa",
   "metadata": {},
   "outputs": [
    {
     "data": {
      "text/plain": [
       "8-element Vector{Float64}:\n",
       " 3.3166247903554\n",
       " 2.031568135925815\n",
       " 3.3166247903554\n",
       " 2.0316567355016177\n",
       " 3.3166247903554\n",
       " 2.030423601123667\n",
       " 3.3166247903554\n",
       " 2.0305785113876023"
      ]
     },
     "execution_count": 25,
     "metadata": {},
     "output_type": "execute_result"
    }
   ],
   "source": [
    "[std(aq[:, j]) for j in axes(aq, 2)]"
   ]
  },
  {
   "cell_type": "code",
   "execution_count": 26,
   "id": "75177f6b",
   "metadata": {},
   "outputs": [
    {
     "data": {
      "text/plain": [
       "Base.OneTo(8)"
      ]
     },
     "execution_count": 26,
     "metadata": {},
     "output_type": "execute_result"
    }
   ],
   "source": [
    "axes(aq, 2)"
   ]
  },
  {
   "cell_type": "code",
   "execution_count": 27,
   "id": "6eb54b9a",
   "metadata": {},
   "outputs": [
    {
     "data": {
      "text/latex": [
       "\\begin{verbatim}\n",
       "Base.OneTo(n)\n",
       "\\end{verbatim}\n",
       "Define an \\texttt{AbstractUnitRange} that behaves like \\texttt{1:n}, with the added distinction that the lower limit is guaranteed (by the type system) to be 1.\n",
       "\n"
      ],
      "text/markdown": [
       "```\n",
       "Base.OneTo(n)\n",
       "```\n",
       "\n",
       "Define an `AbstractUnitRange` that behaves like `1:n`, with the added distinction that the lower limit is guaranteed (by the type system) to be 1.\n"
      ],
      "text/plain": [
       "\u001b[36m  Base.OneTo(n)\u001b[39m\n",
       "\n",
       "  Define an \u001b[36mAbstractUnitRange\u001b[39m that behaves like \u001b[36m1:n\u001b[39m, with the added\n",
       "  distinction that the lower limit is guaranteed (by the type system) to be 1."
      ]
     },
     "execution_count": 27,
     "metadata": {},
     "output_type": "execute_result"
    }
   ],
   "source": [
    "? Base.OneTo"
   ]
  },
  {
   "cell_type": "markdown",
   "id": "59cae069",
   "metadata": {},
   "source": [
    "### Using views"
   ]
  },
  {
   "cell_type": "code",
   "execution_count": 28,
   "id": "2a94881c",
   "metadata": {},
   "outputs": [
    {
     "data": {
      "text/plain": [
       "8-element Vector{Float64}:\n",
       " 9.0\n",
       " 7.500909090909093\n",
       " 9.0\n",
       " 7.500909090909091\n",
       " 9.0\n",
       " 7.500000000000001\n",
       " 9.0\n",
       " 7.50090909090909"
      ]
     },
     "execution_count": 28,
     "metadata": {},
     "output_type": "execute_result"
    }
   ],
   "source": [
    "[mean(view(aq, :, j)) for j in axes(aq, 2)]"
   ]
  },
  {
   "cell_type": "code",
   "execution_count": 29,
   "id": "23738771",
   "metadata": {},
   "outputs": [
    {
     "data": {
      "text/plain": [
       "8-element Vector{Float64}:\n",
       " 3.3166247903554\n",
       " 2.031568135925815\n",
       " 3.3166247903554\n",
       " 2.0316567355016177\n",
       " 3.3166247903554\n",
       " 2.030423601123667\n",
       " 3.3166247903554\n",
       " 2.0305785113876023"
      ]
     },
     "execution_count": 29,
     "metadata": {},
     "output_type": "execute_result"
    }
   ],
   "source": [
    "[std(@view aq[:, j]) for j in axes(aq, 2)]"
   ]
  },
  {
   "cell_type": "code",
   "execution_count": 30,
   "id": "1e0f7b27",
   "metadata": {},
   "outputs": [
    {
     "data": {
      "text/plain": [
       "4-element Vector{Int64}:\n",
       " 1\n",
       " 2\n",
       " 3\n",
       " 4"
      ]
     },
     "execution_count": 30,
     "metadata": {},
     "output_type": "execute_result"
    }
   ],
   "source": [
    "x = [1, 2, 3, 4]"
   ]
  },
  {
   "cell_type": "code",
   "execution_count": 31,
   "id": "1edbffb4",
   "metadata": {},
   "outputs": [
    {
     "ename": "LoadError",
     "evalue": "LoadError: ArgumentError: Invalid use of @view macro: argument must be a reference expression A[...].\nin expression starting at In[31]:1",
     "output_type": "error",
     "traceback": [
      "LoadError: ArgumentError: Invalid use of @view macro: argument must be a reference expression A[...].\nin expression starting at In[31]:1",
      "",
      "Stacktrace:",
      " [1] var\"@view\"(__source__::LineNumberNode, __module__::Module, ex::Any)",
      "   @ Base .\\views.jl:136",
      " [2] eval",
      "   @ .\\boot.jl:373 [inlined]",
      " [3] include_string(mapexpr::typeof(REPL.softscope), mod::Module, code::String, filename::String)",
      "   @ Base .\\loading.jl:1196"
     ]
    }
   ],
   "source": [
    "(@view x[1:2], @view x[3:4])"
   ]
  },
  {
   "cell_type": "code",
   "execution_count": 32,
   "id": "8235e23a",
   "metadata": {},
   "outputs": [
    {
     "data": {
      "text/plain": [
       "([1, 2], [3, 4])"
      ]
     },
     "execution_count": 32,
     "metadata": {},
     "output_type": "execute_result"
    }
   ],
   "source": [
    "(@view(x[1:2]), @view(x[3:4]))"
   ]
  },
  {
   "cell_type": "markdown",
   "id": "deae21b2",
   "metadata": {},
   "source": [
    "### Performance considerations of copying vs. making a view"
   ]
  },
  {
   "cell_type": "code",
   "execution_count": 33,
   "id": "5099923a",
   "metadata": {},
   "outputs": [
    {
     "name": "stdout",
     "output_type": "stream",
     "text": [
      "  38.776 ms (1 allocation: 144 bytes)\n",
      "  203.292 ms (21 allocations: 762.94 MiB)\n",
      "  38.630 ms (7 allocations: 688 bytes)\n"
     ]
    }
   ],
   "source": [
    "using BenchmarkTools\n",
    "x = ones(10^7, 10)\n",
    "@btime [mean(@view $x[:, j]) for j in axes($x, 2)];\n",
    "@btime [mean($x[:, j]) for j in axes($x, 2)];\n",
    "@btime mean($x, dims=1);"
   ]
  },
  {
   "cell_type": "markdown",
   "id": "050ccd2d",
   "metadata": {},
   "source": [
    "### Calculation of correlations between variables"
   ]
  },
  {
   "cell_type": "code",
   "execution_count": 34,
   "id": "80e0f201",
   "metadata": {},
   "outputs": [
    {
     "data": {
      "text/plain": [
       "4-element Vector{Float64}:\n",
       " 0.8164205163448398\n",
       " 0.8162365060002429\n",
       " 0.8162867394895983\n",
       " 0.8165214368885028"
      ]
     },
     "execution_count": 34,
     "metadata": {},
     "output_type": "execute_result"
    }
   ],
   "source": [
    "[cor(aq[:, i], aq[:, i+1]) for i in 1:2:7]"
   ]
  },
  {
   "cell_type": "code",
   "execution_count": 35,
   "id": "00b1b708",
   "metadata": {},
   "outputs": [
    {
     "data": {
      "text/plain": [
       "4-element Vector{Int64}:\n",
       " 1\n",
       " 3\n",
       " 5\n",
       " 7"
      ]
     },
     "execution_count": 35,
     "metadata": {},
     "output_type": "execute_result"
    }
   ],
   "source": [
    "collect(1:2:7)"
   ]
  },
  {
   "cell_type": "markdown",
   "id": "56c0eb91",
   "metadata": {},
   "source": [
    "### Fitting a linear regression"
   ]
  },
  {
   "cell_type": "code",
   "execution_count": 36,
   "id": "e2d71e68",
   "metadata": {},
   "outputs": [
    {
     "data": {
      "text/plain": [
       "11-element Vector{Float64}:\n",
       "  8.04\n",
       "  6.95\n",
       "  7.58\n",
       "  8.81\n",
       "  8.33\n",
       "  9.96\n",
       "  7.24\n",
       "  4.26\n",
       " 10.84\n",
       "  4.82\n",
       "  5.68"
      ]
     },
     "execution_count": 36,
     "metadata": {},
     "output_type": "execute_result"
    }
   ],
   "source": [
    "y = aq[:, 2]"
   ]
  },
  {
   "cell_type": "code",
   "execution_count": 37,
   "id": "84a19995",
   "metadata": {},
   "outputs": [
    {
     "data": {
      "text/plain": [
       "11×2 Matrix{Float64}:\n",
       " 1.0  10.0\n",
       " 1.0   8.0\n",
       " 1.0  13.0\n",
       " 1.0   9.0\n",
       " 1.0  11.0\n",
       " 1.0  14.0\n",
       " 1.0   6.0\n",
       " 1.0   4.0\n",
       " 1.0  12.0\n",
       " 1.0   7.0\n",
       " 1.0   5.0"
      ]
     },
     "execution_count": 37,
     "metadata": {},
     "output_type": "execute_result"
    }
   ],
   "source": [
    "X = [ones(11) aq[:, 1]]"
   ]
  },
  {
   "cell_type": "code",
   "execution_count": 38,
   "id": "54465a97",
   "metadata": {},
   "outputs": [
    {
     "data": {
      "text/plain": [
       "2-element Vector{Float64}:\n",
       " 3.000090909090908\n",
       " 0.5000909090909091"
      ]
     },
     "execution_count": 38,
     "metadata": {},
     "output_type": "execute_result"
    }
   ],
   "source": [
    "X \\ y"
   ]
  },
  {
   "cell_type": "code",
   "execution_count": 39,
   "id": "88d1fa2e",
   "metadata": {},
   "outputs": [
    {
     "data": {
      "text/plain": [
       "4-element Vector{Vector{Float64}}:\n",
       " [3.000090909090908, 0.5000909090909091]\n",
       " [3.000909090909089, 0.5000000000000001]\n",
       " [3.0024545454545444, 0.4997272727272728]\n",
       " [3.001727272727272, 0.49990909090909097]"
      ]
     },
     "execution_count": 39,
     "metadata": {},
     "output_type": "execute_result"
    }
   ],
   "source": [
    "[[ones(11) aq[:, i]] \\ aq[:, i+1] for i in 1:2:7]"
   ]
  },
  {
   "cell_type": "code",
   "execution_count": 40,
   "id": "07f96fd0",
   "metadata": {},
   "outputs": [
    {
     "data": {
      "text/plain": [
       "R² (generic function with 1 method)"
      ]
     },
     "execution_count": 40,
     "metadata": {},
     "output_type": "execute_result"
    }
   ],
   "source": [
    "function R²(x, y)\n",
    "    X = [ones(11) x]\n",
    "    model = X \\ y\n",
    "    prediction = X * model\n",
    "    error = y - prediction\n",
    "    SS_res = sum(v -> v ^ 2, error)\n",
    "    mean_y = mean(y)\n",
    "    SS_tot = sum(v -> (v - mean_y) ^ 2, y)\n",
    "    return 1 - SS_res / SS_tot\n",
    "end"
   ]
  },
  {
   "cell_type": "code",
   "execution_count": 41,
   "id": "a3507ee5",
   "metadata": {},
   "outputs": [
    {
     "data": {
      "text/plain": [
       "4-element Vector{Float64}:\n",
       " 0.666542459508775\n",
       " 0.6662420337274844\n",
       " 0.6663240410665593\n",
       " 0.6667072568984652"
      ]
     },
     "execution_count": 41,
     "metadata": {},
     "output_type": "execute_result"
    }
   ],
   "source": [
    "[R²(aq[:, i], aq[:, i+1]) for i in 1:2:7]"
   ]
  },
  {
   "cell_type": "code",
   "execution_count": 42,
   "id": "6c9732e6",
   "metadata": {},
   "outputs": [
    {
     "name": "stdout",
     "output_type": "stream",
     "text": [
      "\"\u001b[36m²\u001b[39m\" can be typed by \u001b[36m\\^2<tab>\u001b[39m\n",
      "\n",
      "search: R\u001b[0m\u001b[1m²\u001b[22m\n",
      "\n",
      "Couldn't find \u001b[36m²\u001b[39m\n",
      "Perhaps you meant R², X, t, v, x, y, !, %, &, ', *, +, -, /, :, <, >, \\, ^ or |\n"
     ]
    },
    {
     "data": {
      "text/latex": [
       "No documentation found.\n",
       "\n",
       "Binding \\texttt{²} does not exist.\n",
       "\n"
      ],
      "text/markdown": [
       "No documentation found.\n",
       "\n",
       "Binding `²` does not exist.\n"
      ],
      "text/plain": [
       "  No documentation found.\n",
       "\n",
       "  Binding \u001b[36m²\u001b[39m does not exist."
      ]
     },
     "execution_count": 42,
     "metadata": {},
     "output_type": "execute_result"
    }
   ],
   "source": [
    "? ²"
   ]
  },
  {
   "cell_type": "markdown",
   "id": "9428560e",
   "metadata": {},
   "source": [
    "### Plotting the Anscombe's quartet data"
   ]
  },
  {
   "cell_type": "code",
   "execution_count": 43,
   "id": "88659b0f",
   "metadata": {},
   "outputs": [
    {
     "data": {
      "image/svg+xml": [
       "<?xml version=\"1.0\" encoding=\"utf-8\"?>\n",
       "<svg xmlns=\"http://www.w3.org/2000/svg\" xmlns:xlink=\"http://www.w3.org/1999/xlink\" width=\"600\" height=\"400\" viewBox=\"0 0 2400 1600\">\n",
       "<defs>\n",
       "  <clipPath id=\"clip230\">\n",
       "    <rect x=\"0\" y=\"0\" width=\"2400\" height=\"1600\"/>\n",
       "  </clipPath>\n",
       "</defs>\n",
       "<path clip-path=\"url(#clip230)\" d=\"\n",
       "M0 1600 L2400 1600 L2400 0 L0 0  Z\n",
       "  \" fill=\"#ffffff\" fill-rule=\"evenodd\" fill-opacity=\"1\"/>\n",
       "<defs>\n",
       "  <clipPath id=\"clip231\">\n",
       "    <rect x=\"480\" y=\"0\" width=\"1681\" height=\"1600\"/>\n",
       "  </clipPath>\n",
       "</defs>\n",
       "<path clip-path=\"url(#clip230)\" d=\"\n",
       "M138.959 1486.45 L2352.76 1486.45 L2352.76 47.2441 L138.959 47.2441  Z\n",
       "  \" fill=\"#ffffff\" fill-rule=\"evenodd\" fill-opacity=\"1\"/>\n",
       "<defs>\n",
       "  <clipPath id=\"clip232\">\n",
       "    <rect x=\"138\" y=\"47\" width=\"2215\" height=\"1440\"/>\n",
       "  </clipPath>\n",
       "</defs>\n",
       "<polyline clip-path=\"url(#clip232)\" style=\"stroke:#000000; stroke-linecap:butt; stroke-linejoin:round; stroke-width:2; stroke-opacity:0.1; fill:none\" points=\"\n",
       "  410.463,1486.45 410.463,47.2441 \n",
       "  \"/>\n",
       "<polyline clip-path=\"url(#clip232)\" style=\"stroke:#000000; stroke-linecap:butt; stroke-linejoin:round; stroke-width:2; stroke-opacity:0.1; fill:none\" points=\"\n",
       "  932.585,1486.45 932.585,47.2441 \n",
       "  \"/>\n",
       "<polyline clip-path=\"url(#clip232)\" style=\"stroke:#000000; stroke-linecap:butt; stroke-linejoin:round; stroke-width:2; stroke-opacity:0.1; fill:none\" points=\"\n",
       "  1454.71,1486.45 1454.71,47.2441 \n",
       "  \"/>\n",
       "<polyline clip-path=\"url(#clip232)\" style=\"stroke:#000000; stroke-linecap:butt; stroke-linejoin:round; stroke-width:2; stroke-opacity:0.1; fill:none\" points=\"\n",
       "  1976.83,1486.45 1976.83,47.2441 \n",
       "  \"/>\n",
       "<polyline clip-path=\"url(#clip230)\" style=\"stroke:#000000; stroke-linecap:butt; stroke-linejoin:round; stroke-width:4; stroke-opacity:1; fill:none\" points=\"\n",
       "  138.959,1486.45 2352.76,1486.45 \n",
       "  \"/>\n",
       "<polyline clip-path=\"url(#clip230)\" style=\"stroke:#000000; stroke-linecap:butt; stroke-linejoin:round; stroke-width:4; stroke-opacity:1; fill:none\" points=\"\n",
       "  410.463,1486.45 410.463,1467.55 \n",
       "  \"/>\n",
       "<polyline clip-path=\"url(#clip230)\" style=\"stroke:#000000; stroke-linecap:butt; stroke-linejoin:round; stroke-width:4; stroke-opacity:1; fill:none\" points=\"\n",
       "  932.585,1486.45 932.585,1467.55 \n",
       "  \"/>\n",
       "<polyline clip-path=\"url(#clip230)\" style=\"stroke:#000000; stroke-linecap:butt; stroke-linejoin:round; stroke-width:4; stroke-opacity:1; fill:none\" points=\"\n",
       "  1454.71,1486.45 1454.71,1467.55 \n",
       "  \"/>\n",
       "<polyline clip-path=\"url(#clip230)\" style=\"stroke:#000000; stroke-linecap:butt; stroke-linejoin:round; stroke-width:4; stroke-opacity:1; fill:none\" points=\"\n",
       "  1976.83,1486.45 1976.83,1467.55 \n",
       "  \"/>\n",
       "<path clip-path=\"url(#clip230)\" d=\"M377.627 1514.29 L395.984 1514.29 L395.984 1518.22 L381.91 1518.22 L381.91 1526.7 Q382.928 1526.35 383.947 1526.19 Q384.965 1526 385.984 1526 Q391.771 1526 395.15 1529.17 Q398.53 1532.34 398.53 1537.76 Q398.53 1543.34 395.058 1546.44 Q391.586 1549.52 385.266 1549.52 Q383.09 1549.52 380.822 1549.15 Q378.576 1548.78 376.169 1548.04 L376.169 1543.34 Q378.252 1544.47 380.475 1545.03 Q382.697 1545.58 385.174 1545.58 Q389.178 1545.58 391.516 1543.48 Q393.854 1541.37 393.854 1537.76 Q393.854 1534.15 391.516 1532.04 Q389.178 1529.94 385.174 1529.94 Q383.299 1529.94 381.424 1530.35 Q379.572 1530.77 377.627 1531.65 L377.627 1514.29 Z\" fill=\"#000000\" fill-rule=\"evenodd\" fill-opacity=\"1\" /><path clip-path=\"url(#clip230)\" d=\"M407.743 1542.97 L412.627 1542.97 L412.627 1548.85 L407.743 1548.85 L407.743 1542.97 Z\" fill=\"#000000\" fill-rule=\"evenodd\" fill-opacity=\"1\" /><path clip-path=\"url(#clip230)\" d=\"M432.812 1517.37 Q429.201 1517.37 427.372 1520.93 Q425.567 1524.47 425.567 1531.6 Q425.567 1538.71 427.372 1542.27 Q429.201 1545.82 432.812 1545.82 Q436.446 1545.82 438.252 1542.27 Q440.081 1538.71 440.081 1531.6 Q440.081 1524.47 438.252 1520.93 Q436.446 1517.37 432.812 1517.37 M432.812 1513.66 Q438.622 1513.66 441.678 1518.27 Q444.757 1522.85 444.757 1531.6 Q444.757 1540.33 441.678 1544.94 Q438.622 1549.52 432.812 1549.52 Q427.002 1549.52 423.923 1544.94 Q420.868 1540.33 420.868 1531.6 Q420.868 1522.85 423.923 1518.27 Q427.002 1513.66 432.812 1513.66 Z\" fill=\"#000000\" fill-rule=\"evenodd\" fill-opacity=\"1\" /><path clip-path=\"url(#clip230)\" d=\"M898.904 1514.29 L921.126 1514.29 L921.126 1516.28 L908.58 1548.85 L903.696 1548.85 L915.501 1518.22 L898.904 1518.22 L898.904 1514.29 Z\" fill=\"#000000\" fill-rule=\"evenodd\" fill-opacity=\"1\" /><path clip-path=\"url(#clip230)\" d=\"M930.247 1542.97 L935.131 1542.97 L935.131 1548.85 L930.247 1548.85 L930.247 1542.97 Z\" fill=\"#000000\" fill-rule=\"evenodd\" fill-opacity=\"1\" /><path clip-path=\"url(#clip230)\" d=\"M945.362 1514.29 L963.719 1514.29 L963.719 1518.22 L949.645 1518.22 L949.645 1526.7 Q950.663 1526.35 951.682 1526.19 Q952.7 1526 953.719 1526 Q959.506 1526 962.885 1529.17 Q966.265 1532.34 966.265 1537.76 Q966.265 1543.34 962.793 1546.44 Q959.321 1549.52 953.001 1549.52 Q950.825 1549.52 948.557 1549.15 Q946.311 1548.78 943.904 1548.04 L943.904 1543.34 Q945.987 1544.47 948.21 1545.03 Q950.432 1545.58 952.909 1545.58 Q956.913 1545.58 959.251 1543.48 Q961.589 1541.37 961.589 1537.76 Q961.589 1534.15 959.251 1532.04 Q956.913 1529.94 952.909 1529.94 Q951.034 1529.94 949.159 1530.35 Q947.307 1530.77 945.362 1531.65 L945.362 1514.29 Z\" fill=\"#000000\" fill-rule=\"evenodd\" fill-opacity=\"1\" /><path clip-path=\"url(#clip230)\" d=\"M1406.78 1544.91 L1414.42 1544.91 L1414.42 1518.55 L1406.11 1520.21 L1406.11 1515.95 L1414.37 1514.29 L1419.05 1514.29 L1419.05 1544.91 L1426.69 1544.91 L1426.69 1548.85 L1406.78 1548.85 L1406.78 1544.91 Z\" fill=\"#000000\" fill-rule=\"evenodd\" fill-opacity=\"1\" /><path clip-path=\"url(#clip230)\" d=\"M1446.13 1517.37 Q1442.52 1517.37 1440.69 1520.93 Q1438.88 1524.47 1438.88 1531.6 Q1438.88 1538.71 1440.69 1542.27 Q1442.52 1545.82 1446.13 1545.82 Q1449.76 1545.82 1451.57 1542.27 Q1453.4 1538.71 1453.4 1531.6 Q1453.4 1524.47 1451.57 1520.93 Q1449.76 1517.37 1446.13 1517.37 M1446.13 1513.66 Q1451.94 1513.66 1455 1518.27 Q1458.07 1522.85 1458.07 1531.6 Q1458.07 1540.33 1455 1544.94 Q1451.94 1549.52 1446.13 1549.52 Q1440.32 1549.52 1437.24 1544.94 Q1434.19 1540.33 1434.19 1531.6 Q1434.19 1522.85 1437.24 1518.27 Q1440.32 1513.66 1446.13 1513.66 Z\" fill=\"#000000\" fill-rule=\"evenodd\" fill-opacity=\"1\" /><path clip-path=\"url(#clip230)\" d=\"M1466.29 1542.97 L1471.18 1542.97 L1471.18 1548.85 L1466.29 1548.85 L1466.29 1542.97 Z\" fill=\"#000000\" fill-rule=\"evenodd\" fill-opacity=\"1\" /><path clip-path=\"url(#clip230)\" d=\"M1491.36 1517.37 Q1487.75 1517.37 1485.92 1520.93 Q1484.12 1524.47 1484.12 1531.6 Q1484.12 1538.71 1485.92 1542.27 Q1487.75 1545.82 1491.36 1545.82 Q1495 1545.82 1496.8 1542.27 Q1498.63 1538.71 1498.63 1531.6 Q1498.63 1524.47 1496.8 1520.93 Q1495 1517.37 1491.36 1517.37 M1491.36 1513.66 Q1497.17 1513.66 1500.23 1518.27 Q1503.31 1522.85 1503.31 1531.6 Q1503.31 1540.33 1500.23 1544.94 Q1497.17 1549.52 1491.36 1549.52 Q1485.55 1549.52 1482.47 1544.94 Q1479.42 1540.33 1479.42 1531.6 Q1479.42 1522.85 1482.47 1518.27 Q1485.55 1513.66 1491.36 1513.66 Z\" fill=\"#000000\" fill-rule=\"evenodd\" fill-opacity=\"1\" /><path clip-path=\"url(#clip230)\" d=\"M1929.4 1544.91 L1937.04 1544.91 L1937.04 1518.55 L1928.73 1520.21 L1928.73 1515.95 L1936.99 1514.29 L1941.67 1514.29 L1941.67 1544.91 L1949.31 1544.91 L1949.31 1548.85 L1929.4 1548.85 L1929.4 1544.91 Z\" fill=\"#000000\" fill-rule=\"evenodd\" fill-opacity=\"1\" /><path clip-path=\"url(#clip230)\" d=\"M1962.78 1544.91 L1979.1 1544.91 L1979.1 1548.85 L1957.15 1548.85 L1957.15 1544.91 Q1959.81 1542.16 1964.4 1537.53 Q1969 1532.88 1970.18 1531.53 Q1972.43 1529.01 1973.31 1527.27 Q1974.21 1525.51 1974.21 1523.82 Q1974.21 1521.07 1972.27 1519.33 Q1970.35 1517.6 1967.24 1517.6 Q1965.05 1517.6 1962.59 1518.36 Q1960.16 1519.13 1957.38 1520.68 L1957.38 1515.95 Q1960.21 1514.82 1962.66 1514.24 Q1965.12 1513.66 1967.15 1513.66 Q1972.52 1513.66 1975.72 1516.35 Q1978.91 1519.03 1978.91 1523.52 Q1978.91 1525.65 1978.1 1527.57 Q1977.31 1529.47 1975.21 1532.07 Q1974.63 1532.74 1971.53 1535.95 Q1968.43 1539.15 1962.78 1544.91 Z\" fill=\"#000000\" fill-rule=\"evenodd\" fill-opacity=\"1\" /><path clip-path=\"url(#clip230)\" d=\"M1988.91 1542.97 L1993.8 1542.97 L1993.8 1548.85 L1988.91 1548.85 L1988.91 1542.97 Z\" fill=\"#000000\" fill-rule=\"evenodd\" fill-opacity=\"1\" /><path clip-path=\"url(#clip230)\" d=\"M2004.03 1514.29 L2022.38 1514.29 L2022.38 1518.22 L2008.31 1518.22 L2008.31 1526.7 Q2009.33 1526.35 2010.35 1526.19 Q2011.37 1526 2012.38 1526 Q2018.17 1526 2021.55 1529.17 Q2024.93 1532.34 2024.93 1537.76 Q2024.93 1543.34 2021.46 1546.44 Q2017.99 1549.52 2011.67 1549.52 Q2009.49 1549.52 2007.22 1549.15 Q2004.98 1548.78 2002.57 1548.04 L2002.57 1543.34 Q2004.65 1544.47 2006.87 1545.03 Q2009.1 1545.58 2011.57 1545.58 Q2015.58 1545.58 2017.92 1543.48 Q2020.25 1541.37 2020.25 1537.76 Q2020.25 1534.15 2017.92 1532.04 Q2015.58 1529.94 2011.57 1529.94 Q2009.7 1529.94 2007.82 1530.35 Q2005.97 1530.77 2004.03 1531.65 L2004.03 1514.29 Z\" fill=\"#000000\" fill-rule=\"evenodd\" fill-opacity=\"1\" /><polyline clip-path=\"url(#clip232)\" style=\"stroke:#000000; stroke-linecap:butt; stroke-linejoin:round; stroke-width:2; stroke-opacity:0.1; fill:none\" points=\"\n",
       "  138.959,1293.02 2352.76,1293.02 \n",
       "  \"/>\n",
       "<polyline clip-path=\"url(#clip232)\" style=\"stroke:#000000; stroke-linecap:butt; stroke-linejoin:round; stroke-width:2; stroke-opacity:0.1; fill:none\" points=\"\n",
       "  138.959,1086.68 2352.76,1086.68 \n",
       "  \"/>\n",
       "<polyline clip-path=\"url(#clip232)\" style=\"stroke:#000000; stroke-linecap:butt; stroke-linejoin:round; stroke-width:2; stroke-opacity:0.1; fill:none\" points=\"\n",
       "  138.959,880.335 2352.76,880.335 \n",
       "  \"/>\n",
       "<polyline clip-path=\"url(#clip232)\" style=\"stroke:#000000; stroke-linecap:butt; stroke-linejoin:round; stroke-width:2; stroke-opacity:0.1; fill:none\" points=\"\n",
       "  138.959,673.991 2352.76,673.991 \n",
       "  \"/>\n",
       "<polyline clip-path=\"url(#clip232)\" style=\"stroke:#000000; stroke-linecap:butt; stroke-linejoin:round; stroke-width:2; stroke-opacity:0.1; fill:none\" points=\"\n",
       "  138.959,467.648 2352.76,467.648 \n",
       "  \"/>\n",
       "<polyline clip-path=\"url(#clip232)\" style=\"stroke:#000000; stroke-linecap:butt; stroke-linejoin:round; stroke-width:2; stroke-opacity:0.1; fill:none\" points=\"\n",
       "  138.959,261.305 2352.76,261.305 \n",
       "  \"/>\n",
       "<polyline clip-path=\"url(#clip232)\" style=\"stroke:#000000; stroke-linecap:butt; stroke-linejoin:round; stroke-width:2; stroke-opacity:0.1; fill:none\" points=\"\n",
       "  138.959,54.9613 2352.76,54.9613 \n",
       "  \"/>\n",
       "<polyline clip-path=\"url(#clip230)\" style=\"stroke:#000000; stroke-linecap:butt; stroke-linejoin:round; stroke-width:4; stroke-opacity:1; fill:none\" points=\"\n",
       "  138.959,1486.45 138.959,47.2441 \n",
       "  \"/>\n",
       "<polyline clip-path=\"url(#clip230)\" style=\"stroke:#000000; stroke-linecap:butt; stroke-linejoin:round; stroke-width:4; stroke-opacity:1; fill:none\" points=\"\n",
       "  138.959,1293.02 157.857,1293.02 \n",
       "  \"/>\n",
       "<polyline clip-path=\"url(#clip230)\" style=\"stroke:#000000; stroke-linecap:butt; stroke-linejoin:round; stroke-width:4; stroke-opacity:1; fill:none\" points=\"\n",
       "  138.959,1086.68 157.857,1086.68 \n",
       "  \"/>\n",
       "<polyline clip-path=\"url(#clip230)\" style=\"stroke:#000000; stroke-linecap:butt; stroke-linejoin:round; stroke-width:4; stroke-opacity:1; fill:none\" points=\"\n",
       "  138.959,880.335 157.857,880.335 \n",
       "  \"/>\n",
       "<polyline clip-path=\"url(#clip230)\" style=\"stroke:#000000; stroke-linecap:butt; stroke-linejoin:round; stroke-width:4; stroke-opacity:1; fill:none\" points=\"\n",
       "  138.959,673.991 157.857,673.991 \n",
       "  \"/>\n",
       "<polyline clip-path=\"url(#clip230)\" style=\"stroke:#000000; stroke-linecap:butt; stroke-linejoin:round; stroke-width:4; stroke-opacity:1; fill:none\" points=\"\n",
       "  138.959,467.648 157.857,467.648 \n",
       "  \"/>\n",
       "<polyline clip-path=\"url(#clip230)\" style=\"stroke:#000000; stroke-linecap:butt; stroke-linejoin:round; stroke-width:4; stroke-opacity:1; fill:none\" points=\"\n",
       "  138.959,261.305 157.857,261.305 \n",
       "  \"/>\n",
       "<polyline clip-path=\"url(#clip230)\" style=\"stroke:#000000; stroke-linecap:butt; stroke-linejoin:round; stroke-width:4; stroke-opacity:1; fill:none\" points=\"\n",
       "  138.959,54.9613 157.857,54.9613 \n",
       "  \"/>\n",
       "<path clip-path=\"url(#clip230)\" d=\"M82.0568 1275.74 L100.413 1275.74 L100.413 1279.68 L86.3392 1279.68 L86.3392 1288.15 Q87.3577 1287.8 88.3762 1287.64 Q89.3947 1287.45 90.4132 1287.45 Q96.2002 1287.45 99.5798 1290.63 Q102.959 1293.8 102.959 1299.21 Q102.959 1304.79 99.4872 1307.89 Q96.015 1310.97 89.6956 1310.97 Q87.5197 1310.97 85.2512 1310.6 Q83.0058 1310.23 80.5984 1309.49 L80.5984 1304.79 Q82.6818 1305.93 84.904 1306.48 Q87.1262 1307.04 89.603 1307.04 Q93.6076 1307.04 95.9456 1304.93 Q98.2835 1302.82 98.2835 1299.21 Q98.2835 1295.6 95.9456 1293.5 Q93.6076 1291.39 89.603 1291.39 Q87.728 1291.39 85.8531 1291.81 Q84.0012 1292.22 82.0568 1293.1 L82.0568 1275.74 Z\" fill=\"#000000\" fill-rule=\"evenodd\" fill-opacity=\"1\" /><path clip-path=\"url(#clip230)\" d=\"M91.4317 1084.81 Q88.2836 1084.81 86.4318 1086.97 Q84.6031 1089.12 84.6031 1092.87 Q84.6031 1096.6 86.4318 1098.77 Q88.2836 1100.93 91.4317 1100.93 Q94.5799 1100.93 96.4085 1098.77 Q98.2604 1096.6 98.2604 1092.87 Q98.2604 1089.12 96.4085 1086.97 Q94.5799 1084.81 91.4317 1084.81 M100.714 1070.16 L100.714 1074.42 Q98.9548 1073.59 97.1493 1073.15 Q95.3669 1072.71 93.6076 1072.71 Q88.978 1072.71 86.5243 1075.83 Q84.0938 1078.96 83.7466 1085.28 Q85.1123 1083.26 87.1725 1082.2 Q89.2327 1081.11 91.7095 1081.11 Q96.9178 1081.11 99.927 1084.28 Q102.959 1087.43 102.959 1092.87 Q102.959 1098.19 99.8113 1101.41 Q96.6632 1104.63 91.4317 1104.63 Q85.4364 1104.63 82.2651 1100.05 Q79.0938 1095.44 79.0938 1086.71 Q79.0938 1078.52 82.9827 1073.66 Q86.8716 1068.77 93.4225 1068.77 Q95.1817 1068.77 96.9641 1069.12 Q98.7696 1069.47 100.714 1070.16 Z\" fill=\"#000000\" fill-rule=\"evenodd\" fill-opacity=\"1\" /><path clip-path=\"url(#clip230)\" d=\"M80.7373 863.055 L102.959 863.055 L102.959 865.046 L90.4132 897.615 L85.529 897.615 L97.3345 866.99 L80.7373 866.99 L80.7373 863.055 Z\" fill=\"#000000\" fill-rule=\"evenodd\" fill-opacity=\"1\" /><path clip-path=\"url(#clip230)\" d=\"M91.1077 674.86 Q87.7743 674.86 85.8531 676.642 Q83.9549 678.424 83.9549 681.549 Q83.9549 684.674 85.8531 686.457 Q87.7743 688.239 91.1077 688.239 Q94.441 688.239 96.3623 686.457 Q98.2835 684.651 98.2835 681.549 Q98.2835 678.424 96.3623 676.642 Q94.4641 674.86 91.1077 674.86 M86.4318 672.869 Q83.4225 672.128 81.7327 670.068 Q80.066 668.008 80.066 665.045 Q80.066 660.901 83.0058 658.494 Q85.9688 656.086 91.1077 656.086 Q96.2697 656.086 99.2095 658.494 Q102.149 660.901 102.149 665.045 Q102.149 668.008 100.459 670.068 Q98.7928 672.128 95.8067 672.869 Q99.1863 673.656 101.061 675.947 Q102.959 678.239 102.959 681.549 Q102.959 686.572 99.8808 689.258 Q96.8252 691.943 91.1077 691.943 Q85.3901 691.943 82.3114 689.258 Q79.2559 686.572 79.2559 681.549 Q79.2559 678.239 81.154 675.947 Q83.0521 673.656 86.4318 672.869 M84.7188 665.485 Q84.7188 668.17 86.3855 669.674 Q88.0753 671.179 91.1077 671.179 Q94.1169 671.179 95.8067 669.674 Q97.5197 668.17 97.5197 665.485 Q97.5197 662.799 95.8067 661.295 Q94.1169 659.79 91.1077 659.79 Q88.0753 659.79 86.3855 661.295 Q84.7188 662.799 84.7188 665.485 Z\" fill=\"#000000\" fill-rule=\"evenodd\" fill-opacity=\"1\" /><path clip-path=\"url(#clip230)\" d=\"M81.3392 484.211 L81.3392 479.951 Q83.0984 480.785 84.904 481.224 Q86.7095 481.664 88.4456 481.664 Q93.0752 481.664 95.5058 478.562 Q97.9595 475.437 98.3067 469.095 Q96.9641 471.086 94.9039 472.15 Q92.8438 473.215 90.3438 473.215 Q85.1586 473.215 82.1262 470.09 Q79.117 466.942 79.117 461.502 Q79.117 456.178 82.2651 452.961 Q85.4132 449.743 90.6447 449.743 Q96.64 449.743 99.7882 454.35 Q102.959 458.933 102.959 467.683 Q102.959 475.854 99.0706 480.738 Q95.2049 485.599 88.654 485.599 Q86.8947 485.599 85.0892 485.252 Q83.2836 484.905 81.3392 484.211 M90.6447 469.558 Q93.7928 469.558 95.6215 467.405 Q97.4734 465.252 97.4734 461.502 Q97.4734 457.775 95.6215 455.623 Q93.7928 453.447 90.6447 453.447 Q87.4966 453.447 85.6447 455.623 Q83.816 457.775 83.816 461.502 Q83.816 465.252 85.6447 467.405 Q87.4966 469.558 90.6447 469.558 Z\" fill=\"#000000\" fill-rule=\"evenodd\" fill-opacity=\"1\" /><path clip-path=\"url(#clip230)\" d=\"M51.6634 274.65 L59.3023 274.65 L59.3023 248.284 L50.9921 249.951 L50.9921 245.691 L59.256 244.025 L63.9319 244.025 L63.9319 274.65 L71.5707 274.65 L71.5707 278.585 L51.6634 278.585 L51.6634 274.65 Z\" fill=\"#000000\" fill-rule=\"evenodd\" fill-opacity=\"1\" /><path clip-path=\"url(#clip230)\" d=\"M91.0151 247.103 Q87.404 247.103 85.5753 250.668 Q83.7697 254.21 83.7697 261.339 Q83.7697 268.446 85.5753 272.011 Q87.404 275.552 91.0151 275.552 Q94.6493 275.552 96.4548 272.011 Q98.2835 268.446 98.2835 261.339 Q98.2835 254.21 96.4548 250.668 Q94.6493 247.103 91.0151 247.103 M91.0151 243.4 Q96.8252 243.4 99.8808 248.006 Q102.959 252.589 102.959 261.339 Q102.959 270.066 99.8808 274.673 Q96.8252 279.256 91.0151 279.256 Q85.2049 279.256 82.1262 274.673 Q79.0707 270.066 79.0707 261.339 Q79.0707 252.589 82.1262 248.006 Q85.2049 243.4 91.0151 243.4 Z\" fill=\"#000000\" fill-rule=\"evenodd\" fill-opacity=\"1\" /><path clip-path=\"url(#clip230)\" d=\"M52.8903 68.3062 L60.5291 68.3062 L60.5291 41.9406 L52.219 43.6072 L52.219 39.348 L60.4828 37.6813 L65.1587 37.6813 L65.1587 68.3062 L72.7976 68.3062 L72.7976 72.2413 L52.8903 72.2413 L52.8903 68.3062 Z\" fill=\"#000000\" fill-rule=\"evenodd\" fill-opacity=\"1\" /><path clip-path=\"url(#clip230)\" d=\"M83.0521 68.3062 L90.691 68.3062 L90.691 41.9406 L82.3808 43.6072 L82.3808 39.348 L90.6447 37.6813 L95.3206 37.6813 L95.3206 68.3062 L102.959 68.3062 L102.959 72.2413 L83.0521 72.2413 L83.0521 68.3062 Z\" fill=\"#000000\" fill-rule=\"evenodd\" fill-opacity=\"1\" /><circle clip-path=\"url(#clip232)\" cx=\"1454.71\" cy=\"665.738\" r=\"14.4\" fill=\"#009af9\" fill-rule=\"evenodd\" fill-opacity=\"1\" stroke=\"#000000\" stroke-opacity=\"1\" stroke-width=\"3.2\"/>\n",
       "<circle clip-path=\"url(#clip232)\" cx=\"1037.01\" cy=\"890.652\" r=\"14.4\" fill=\"#009af9\" fill-rule=\"evenodd\" fill-opacity=\"1\" stroke=\"#000000\" stroke-opacity=\"1\" stroke-width=\"3.2\"/>\n",
       "<circle clip-path=\"url(#clip232)\" cx=\"2081.25\" cy=\"760.656\" r=\"14.4\" fill=\"#009af9\" fill-rule=\"evenodd\" fill-opacity=\"1\" stroke=\"#000000\" stroke-opacity=\"1\" stroke-width=\"3.2\"/>\n",
       "<circle clip-path=\"url(#clip232)\" cx=\"1245.86\" cy=\"506.853\" r=\"14.4\" fill=\"#009af9\" fill-rule=\"evenodd\" fill-opacity=\"1\" stroke=\"#000000\" stroke-opacity=\"1\" stroke-width=\"3.2\"/>\n",
       "<circle clip-path=\"url(#clip232)\" cx=\"1663.56\" cy=\"605.898\" r=\"14.4\" fill=\"#009af9\" fill-rule=\"evenodd\" fill-opacity=\"1\" stroke=\"#000000\" stroke-opacity=\"1\" stroke-width=\"3.2\"/>\n",
       "<circle clip-path=\"url(#clip232)\" cx=\"2290.1\" cy=\"269.558\" r=\"14.4\" fill=\"#009af9\" fill-rule=\"evenodd\" fill-opacity=\"1\" stroke=\"#000000\" stroke-opacity=\"1\" stroke-width=\"3.2\"/>\n",
       "<circle clip-path=\"url(#clip232)\" cx=\"619.312\" cy=\"830.812\" r=\"14.4\" fill=\"#009af9\" fill-rule=\"evenodd\" fill-opacity=\"1\" stroke=\"#000000\" stroke-opacity=\"1\" stroke-width=\"3.2\"/>\n",
       "<circle clip-path=\"url(#clip232)\" cx=\"201.614\" cy=\"1445.72\" r=\"14.4\" fill=\"#009af9\" fill-rule=\"evenodd\" fill-opacity=\"1\" stroke=\"#000000\" stroke-opacity=\"1\" stroke-width=\"3.2\"/>\n",
       "<circle clip-path=\"url(#clip232)\" cx=\"1872.4\" cy=\"87.9763\" r=\"14.4\" fill=\"#009af9\" fill-rule=\"evenodd\" fill-opacity=\"1\" stroke=\"#000000\" stroke-opacity=\"1\" stroke-width=\"3.2\"/>\n",
       "<circle clip-path=\"url(#clip232)\" cx=\"828.16\" cy=\"1330.16\" r=\"14.4\" fill=\"#009af9\" fill-rule=\"evenodd\" fill-opacity=\"1\" stroke=\"#000000\" stroke-opacity=\"1\" stroke-width=\"3.2\"/>\n",
       "<circle clip-path=\"url(#clip232)\" cx=\"410.463\" cy=\"1152.71\" r=\"14.4\" fill=\"#009af9\" fill-rule=\"evenodd\" fill-opacity=\"1\" stroke=\"#000000\" stroke-opacity=\"1\" stroke-width=\"3.2\"/>\n",
       "</svg>\n"
      ]
     },
     "execution_count": 43,
     "metadata": {},
     "output_type": "execute_result"
    }
   ],
   "source": [
    "using Plots\n",
    "scatter(aq[:, 1], aq[:, 2]; legend=false)"
   ]
  },
  {
   "cell_type": "code",
   "execution_count": 44,
   "id": "d87d602a",
   "metadata": {},
   "outputs": [
    {
     "data": {
      "image/svg+xml": [
       "<?xml version=\"1.0\" encoding=\"utf-8\"?>\n",
       "<svg xmlns=\"http://www.w3.org/2000/svg\" xmlns:xlink=\"http://www.w3.org/1999/xlink\" width=\"600\" height=\"400\" viewBox=\"0 0 2400 1600\">\n",
       "<defs>\n",
       "  <clipPath id=\"clip270\">\n",
       "    <rect x=\"0\" y=\"0\" width=\"2400\" height=\"1600\"/>\n",
       "  </clipPath>\n",
       "</defs>\n",
       "<path clip-path=\"url(#clip270)\" d=\"\n",
       "M0 1600 L2400 1600 L2400 0 L0 0  Z\n",
       "  \" fill=\"#ffffff\" fill-rule=\"evenodd\" fill-opacity=\"1\"/>\n",
       "<defs>\n",
       "  <clipPath id=\"clip271\">\n",
       "    <rect x=\"480\" y=\"0\" width=\"1681\" height=\"1600\"/>\n",
       "  </clipPath>\n",
       "</defs>\n",
       "<path clip-path=\"url(#clip270)\" d=\"\n",
       "M138.959 686.448 L1152.76 686.448 L1152.76 47.2441 L138.959 47.2441  Z\n",
       "  \" fill=\"#ffffff\" fill-rule=\"evenodd\" fill-opacity=\"1\"/>\n",
       "<defs>\n",
       "  <clipPath id=\"clip272\">\n",
       "    <rect x=\"138\" y=\"47\" width=\"1015\" height=\"640\"/>\n",
       "  </clipPath>\n",
       "</defs>\n",
       "<polyline clip-path=\"url(#clip272)\" style=\"stroke:#000000; stroke-linecap:butt; stroke-linejoin:round; stroke-width:2; stroke-opacity:0.1; fill:none\" points=\"\n",
       "  263.293,686.448 263.293,47.2441 \n",
       "  \"/>\n",
       "<polyline clip-path=\"url(#clip272)\" style=\"stroke:#000000; stroke-linecap:butt; stroke-linejoin:round; stroke-width:2; stroke-opacity:0.1; fill:none\" points=\"\n",
       "  502.396,686.448 502.396,47.2441 \n",
       "  \"/>\n",
       "<polyline clip-path=\"url(#clip272)\" style=\"stroke:#000000; stroke-linecap:butt; stroke-linejoin:round; stroke-width:2; stroke-opacity:0.1; fill:none\" points=\"\n",
       "  741.499,686.448 741.499,47.2441 \n",
       "  \"/>\n",
       "<polyline clip-path=\"url(#clip272)\" style=\"stroke:#000000; stroke-linecap:butt; stroke-linejoin:round; stroke-width:2; stroke-opacity:0.1; fill:none\" points=\"\n",
       "  980.602,686.448 980.602,47.2441 \n",
       "  \"/>\n",
       "<polyline clip-path=\"url(#clip270)\" style=\"stroke:#000000; stroke-linecap:butt; stroke-linejoin:round; stroke-width:4; stroke-opacity:1; fill:none\" points=\"\n",
       "  138.959,686.448 1152.76,686.448 \n",
       "  \"/>\n",
       "<polyline clip-path=\"url(#clip270)\" style=\"stroke:#000000; stroke-linecap:butt; stroke-linejoin:round; stroke-width:4; stroke-opacity:1; fill:none\" points=\"\n",
       "  263.293,686.448 263.293,667.55 \n",
       "  \"/>\n",
       "<polyline clip-path=\"url(#clip270)\" style=\"stroke:#000000; stroke-linecap:butt; stroke-linejoin:round; stroke-width:4; stroke-opacity:1; fill:none\" points=\"\n",
       "  502.396,686.448 502.396,667.55 \n",
       "  \"/>\n",
       "<polyline clip-path=\"url(#clip270)\" style=\"stroke:#000000; stroke-linecap:butt; stroke-linejoin:round; stroke-width:4; stroke-opacity:1; fill:none\" points=\"\n",
       "  741.499,686.448 741.499,667.55 \n",
       "  \"/>\n",
       "<polyline clip-path=\"url(#clip270)\" style=\"stroke:#000000; stroke-linecap:butt; stroke-linejoin:round; stroke-width:4; stroke-opacity:1; fill:none\" points=\"\n",
       "  980.602,686.448 980.602,667.55 \n",
       "  \"/>\n",
       "<path clip-path=\"url(#clip270)\" d=\"M230.457 714.288 L248.814 714.288 L248.814 718.223 L234.74 718.223 L234.74 726.695 Q235.758 726.348 236.777 726.186 Q237.795 726.001 238.814 726.001 Q244.601 726.001 247.981 729.172 Q251.36 732.343 251.36 737.76 Q251.36 743.339 247.888 746.44 Q244.416 749.519 238.096 749.519 Q235.92 749.519 233.652 749.149 Q231.407 748.778 228.999 748.038 L228.999 743.339 Q231.082 744.473 233.305 745.028 Q235.527 745.584 238.004 745.584 Q242.008 745.584 244.346 743.478 Q246.684 741.371 246.684 737.76 Q246.684 734.149 244.346 732.042 Q242.008 729.936 238.004 729.936 Q236.129 729.936 234.254 730.353 Q232.402 730.769 230.457 731.649 L230.457 714.288 Z\" fill=\"#000000\" fill-rule=\"evenodd\" fill-opacity=\"1\" /><path clip-path=\"url(#clip270)\" d=\"M260.573 742.968 L265.457 742.968 L265.457 748.848 L260.573 748.848 L260.573 742.968 Z\" fill=\"#000000\" fill-rule=\"evenodd\" fill-opacity=\"1\" /><path clip-path=\"url(#clip270)\" d=\"M285.642 717.367 Q282.031 717.367 280.203 720.931 Q278.397 724.473 278.397 731.603 Q278.397 738.709 280.203 742.274 Q282.031 745.815 285.642 745.815 Q289.277 745.815 291.082 742.274 Q292.911 738.709 292.911 731.603 Q292.911 724.473 291.082 720.931 Q289.277 717.367 285.642 717.367 M285.642 713.663 Q291.453 713.663 294.508 718.269 Q297.587 722.853 297.587 731.603 Q297.587 740.329 294.508 744.936 Q291.453 749.519 285.642 749.519 Q279.832 749.519 276.754 744.936 Q273.698 740.329 273.698 731.603 Q273.698 722.853 276.754 718.269 Q279.832 713.663 285.642 713.663 Z\" fill=\"#000000\" fill-rule=\"evenodd\" fill-opacity=\"1\" /><path clip-path=\"url(#clip270)\" d=\"M468.716 714.288 L490.938 714.288 L490.938 716.279 L478.391 748.848 L473.507 748.848 L485.313 718.223 L468.716 718.223 L468.716 714.288 Z\" fill=\"#000000\" fill-rule=\"evenodd\" fill-opacity=\"1\" /><path clip-path=\"url(#clip270)\" d=\"M500.058 742.968 L504.942 742.968 L504.942 748.848 L500.058 748.848 L500.058 742.968 Z\" fill=\"#000000\" fill-rule=\"evenodd\" fill-opacity=\"1\" /><path clip-path=\"url(#clip270)\" d=\"M515.174 714.288 L533.53 714.288 L533.53 718.223 L519.456 718.223 L519.456 726.695 Q520.475 726.348 521.493 726.186 Q522.512 726.001 523.53 726.001 Q529.317 726.001 532.697 729.172 Q536.076 732.343 536.076 737.76 Q536.076 743.339 532.604 746.44 Q529.132 749.519 522.812 749.519 Q520.637 749.519 518.368 749.149 Q516.123 748.778 513.715 748.038 L513.715 743.339 Q515.799 744.473 518.021 745.028 Q520.243 745.584 522.72 745.584 Q526.724 745.584 529.062 743.478 Q531.4 741.371 531.4 737.76 Q531.4 734.149 529.062 732.042 Q526.724 729.936 522.72 729.936 Q520.845 729.936 518.97 730.353 Q517.118 730.769 515.174 731.649 L515.174 714.288 Z\" fill=\"#000000\" fill-rule=\"evenodd\" fill-opacity=\"1\" /><path clip-path=\"url(#clip270)\" d=\"M693.571 744.913 L701.21 744.913 L701.21 718.547 L692.9 720.214 L692.9 715.955 L701.163 714.288 L705.839 714.288 L705.839 744.913 L713.478 744.913 L713.478 748.848 L693.571 748.848 L693.571 744.913 Z\" fill=\"#000000\" fill-rule=\"evenodd\" fill-opacity=\"1\" /><path clip-path=\"url(#clip270)\" d=\"M732.923 717.367 Q729.311 717.367 727.483 720.931 Q725.677 724.473 725.677 731.603 Q725.677 738.709 727.483 742.274 Q729.311 745.815 732.923 745.815 Q736.557 745.815 738.362 742.274 Q740.191 738.709 740.191 731.603 Q740.191 724.473 738.362 720.931 Q736.557 717.367 732.923 717.367 M732.923 713.663 Q738.733 713.663 741.788 718.269 Q744.867 722.853 744.867 731.603 Q744.867 740.329 741.788 744.936 Q738.733 749.519 732.923 749.519 Q727.112 749.519 724.034 744.936 Q720.978 740.329 720.978 731.603 Q720.978 722.853 724.034 718.269 Q727.112 713.663 732.923 713.663 Z\" fill=\"#000000\" fill-rule=\"evenodd\" fill-opacity=\"1\" /><path clip-path=\"url(#clip270)\" d=\"M753.084 742.968 L757.969 742.968 L757.969 748.848 L753.084 748.848 L753.084 742.968 Z\" fill=\"#000000\" fill-rule=\"evenodd\" fill-opacity=\"1\" /><path clip-path=\"url(#clip270)\" d=\"M778.154 717.367 Q774.543 717.367 772.714 720.931 Q770.908 724.473 770.908 731.603 Q770.908 738.709 772.714 742.274 Q774.543 745.815 778.154 745.815 Q781.788 745.815 783.594 742.274 Q785.422 738.709 785.422 731.603 Q785.422 724.473 783.594 720.931 Q781.788 717.367 778.154 717.367 M778.154 713.663 Q783.964 713.663 787.019 718.269 Q790.098 722.853 790.098 731.603 Q790.098 740.329 787.019 744.936 Q783.964 749.519 778.154 749.519 Q772.344 749.519 769.265 744.936 Q766.209 740.329 766.209 731.603 Q766.209 722.853 769.265 718.269 Q772.344 713.663 778.154 713.663 Z\" fill=\"#000000\" fill-rule=\"evenodd\" fill-opacity=\"1\" /><path clip-path=\"url(#clip270)\" d=\"M933.171 744.913 L940.81 744.913 L940.81 718.547 L932.5 720.214 L932.5 715.955 L940.764 714.288 L945.44 714.288 L945.44 744.913 L953.079 744.913 L953.079 748.848 L933.171 748.848 L933.171 744.913 Z\" fill=\"#000000\" fill-rule=\"evenodd\" fill-opacity=\"1\" /><path clip-path=\"url(#clip270)\" d=\"M966.551 744.913 L982.87 744.913 L982.87 748.848 L960.926 748.848 L960.926 744.913 Q963.588 742.158 968.171 737.528 Q972.778 732.876 973.958 731.533 Q976.204 729.01 977.083 727.274 Q977.986 725.515 977.986 723.825 Q977.986 721.07 976.042 719.334 Q974.12 717.598 971.019 717.598 Q968.819 717.598 966.366 718.362 Q963.935 719.126 961.157 720.677 L961.157 715.955 Q963.982 714.82 966.435 714.242 Q968.889 713.663 970.926 713.663 Q976.296 713.663 979.491 716.348 Q982.685 719.033 982.685 723.524 Q982.685 725.654 981.875 727.575 Q981.088 729.473 978.981 732.066 Q978.403 732.737 975.301 735.954 Q972.199 739.149 966.551 744.913 Z\" fill=\"#000000\" fill-rule=\"evenodd\" fill-opacity=\"1\" /><path clip-path=\"url(#clip270)\" d=\"M992.685 742.968 L997.569 742.968 L997.569 748.848 L992.685 748.848 L992.685 742.968 Z\" fill=\"#000000\" fill-rule=\"evenodd\" fill-opacity=\"1\" /><path clip-path=\"url(#clip270)\" d=\"M1007.8 714.288 L1026.16 714.288 L1026.16 718.223 L1012.08 718.223 L1012.08 726.695 Q1013.1 726.348 1014.12 726.186 Q1015.14 726.001 1016.16 726.001 Q1021.94 726.001 1025.32 729.172 Q1028.7 732.343 1028.7 737.76 Q1028.7 743.339 1025.23 746.44 Q1021.76 749.519 1015.44 749.519 Q1013.26 749.519 1011 749.149 Q1008.75 748.778 1006.34 748.038 L1006.34 743.339 Q1008.43 744.473 1010.65 745.028 Q1012.87 745.584 1015.35 745.584 Q1019.35 745.584 1021.69 743.478 Q1024.03 741.371 1024.03 737.76 Q1024.03 734.149 1021.69 732.042 Q1019.35 729.936 1015.35 729.936 Q1013.47 729.936 1011.6 730.353 Q1009.75 730.769 1007.8 731.649 L1007.8 714.288 Z\" fill=\"#000000\" fill-rule=\"evenodd\" fill-opacity=\"1\" /><polyline clip-path=\"url(#clip272)\" style=\"stroke:#000000; stroke-linecap:butt; stroke-linejoin:round; stroke-width:2; stroke-opacity:0.1; fill:none\" points=\"\n",
       "  138.959,600.54 1152.76,600.54 \n",
       "  \"/>\n",
       "<polyline clip-path=\"url(#clip272)\" style=\"stroke:#000000; stroke-linecap:butt; stroke-linejoin:round; stroke-width:2; stroke-opacity:0.1; fill:none\" points=\"\n",
       "  138.959,508.895 1152.76,508.895 \n",
       "  \"/>\n",
       "<polyline clip-path=\"url(#clip272)\" style=\"stroke:#000000; stroke-linecap:butt; stroke-linejoin:round; stroke-width:2; stroke-opacity:0.1; fill:none\" points=\"\n",
       "  138.959,417.251 1152.76,417.251 \n",
       "  \"/>\n",
       "<polyline clip-path=\"url(#clip272)\" style=\"stroke:#000000; stroke-linecap:butt; stroke-linejoin:round; stroke-width:2; stroke-opacity:0.1; fill:none\" points=\"\n",
       "  138.959,325.606 1152.76,325.606 \n",
       "  \"/>\n",
       "<polyline clip-path=\"url(#clip272)\" style=\"stroke:#000000; stroke-linecap:butt; stroke-linejoin:round; stroke-width:2; stroke-opacity:0.1; fill:none\" points=\"\n",
       "  138.959,233.961 1152.76,233.961 \n",
       "  \"/>\n",
       "<polyline clip-path=\"url(#clip272)\" style=\"stroke:#000000; stroke-linecap:butt; stroke-linejoin:round; stroke-width:2; stroke-opacity:0.1; fill:none\" points=\"\n",
       "  138.959,142.316 1152.76,142.316 \n",
       "  \"/>\n",
       "<polyline clip-path=\"url(#clip272)\" style=\"stroke:#000000; stroke-linecap:butt; stroke-linejoin:round; stroke-width:2; stroke-opacity:0.1; fill:none\" points=\"\n",
       "  138.959,50.6716 1152.76,50.6716 \n",
       "  \"/>\n",
       "<polyline clip-path=\"url(#clip270)\" style=\"stroke:#000000; stroke-linecap:butt; stroke-linejoin:round; stroke-width:4; stroke-opacity:1; fill:none\" points=\"\n",
       "  138.959,686.448 138.959,47.2441 \n",
       "  \"/>\n",
       "<polyline clip-path=\"url(#clip270)\" style=\"stroke:#000000; stroke-linecap:butt; stroke-linejoin:round; stroke-width:4; stroke-opacity:1; fill:none\" points=\"\n",
       "  138.959,600.54 157.857,600.54 \n",
       "  \"/>\n",
       "<polyline clip-path=\"url(#clip270)\" style=\"stroke:#000000; stroke-linecap:butt; stroke-linejoin:round; stroke-width:4; stroke-opacity:1; fill:none\" points=\"\n",
       "  138.959,508.895 157.857,508.895 \n",
       "  \"/>\n",
       "<polyline clip-path=\"url(#clip270)\" style=\"stroke:#000000; stroke-linecap:butt; stroke-linejoin:round; stroke-width:4; stroke-opacity:1; fill:none\" points=\"\n",
       "  138.959,417.251 157.857,417.251 \n",
       "  \"/>\n",
       "<polyline clip-path=\"url(#clip270)\" style=\"stroke:#000000; stroke-linecap:butt; stroke-linejoin:round; stroke-width:4; stroke-opacity:1; fill:none\" points=\"\n",
       "  138.959,325.606 157.857,325.606 \n",
       "  \"/>\n",
       "<polyline clip-path=\"url(#clip270)\" style=\"stroke:#000000; stroke-linecap:butt; stroke-linejoin:round; stroke-width:4; stroke-opacity:1; fill:none\" points=\"\n",
       "  138.959,233.961 157.857,233.961 \n",
       "  \"/>\n",
       "<polyline clip-path=\"url(#clip270)\" style=\"stroke:#000000; stroke-linecap:butt; stroke-linejoin:round; stroke-width:4; stroke-opacity:1; fill:none\" points=\"\n",
       "  138.959,142.316 157.857,142.316 \n",
       "  \"/>\n",
       "<polyline clip-path=\"url(#clip270)\" style=\"stroke:#000000; stroke-linecap:butt; stroke-linejoin:round; stroke-width:4; stroke-opacity:1; fill:none\" points=\"\n",
       "  138.959,50.6716 157.857,50.6716 \n",
       "  \"/>\n",
       "<path clip-path=\"url(#clip270)\" d=\"M82.0568 583.26 L100.413 583.26 L100.413 587.195 L86.3392 587.195 L86.3392 595.667 Q87.3577 595.32 88.3762 595.158 Q89.3947 594.973 90.4132 594.973 Q96.2002 594.973 99.5798 598.144 Q102.959 601.316 102.959 606.732 Q102.959 612.311 99.4872 615.413 Q96.015 618.491 89.6956 618.491 Q87.5197 618.491 85.2512 618.121 Q83.0058 617.751 80.5984 617.01 L80.5984 612.311 Q82.6818 613.445 84.904 614.001 Q87.1262 614.556 89.603 614.556 Q93.6076 614.556 95.9456 612.45 Q98.2835 610.343 98.2835 606.732 Q98.2835 603.121 95.9456 601.015 Q93.6076 598.908 89.603 598.908 Q87.728 598.908 85.8531 599.325 Q84.0012 599.741 82.0568 600.621 L82.0568 583.26 Z\" fill=\"#000000\" fill-rule=\"evenodd\" fill-opacity=\"1\" /><path clip-path=\"url(#clip270)\" d=\"M91.4317 507.032 Q88.2836 507.032 86.4318 509.185 Q84.6031 511.337 84.6031 515.087 Q84.6031 518.814 86.4318 520.99 Q88.2836 523.143 91.4317 523.143 Q94.5799 523.143 96.4085 520.99 Q98.2604 518.814 98.2604 515.087 Q98.2604 511.337 96.4085 509.185 Q94.5799 507.032 91.4317 507.032 M100.714 492.379 L100.714 496.638 Q98.9548 495.805 97.1493 495.365 Q95.3669 494.926 93.6076 494.926 Q88.978 494.926 86.5243 498.05 Q84.0938 501.175 83.7466 507.495 Q85.1123 505.481 87.1725 504.416 Q89.2327 503.328 91.7095 503.328 Q96.9178 503.328 99.927 506.5 Q102.959 509.648 102.959 515.087 Q102.959 520.411 99.8113 523.629 Q96.6632 526.847 91.4317 526.847 Q85.4364 526.847 82.2651 522.263 Q79.0938 517.657 79.0938 508.93 Q79.0938 500.736 82.9827 495.875 Q86.8716 490.99 93.4225 490.99 Q95.1817 490.99 96.9641 491.338 Q98.7696 491.685 100.714 492.379 Z\" fill=\"#000000\" fill-rule=\"evenodd\" fill-opacity=\"1\" /><path clip-path=\"url(#clip270)\" d=\"M80.7373 399.971 L102.959 399.971 L102.959 401.961 L90.4132 434.531 L85.529 434.531 L97.3345 403.906 L80.7373 403.906 L80.7373 399.971 Z\" fill=\"#000000\" fill-rule=\"evenodd\" fill-opacity=\"1\" /><path clip-path=\"url(#clip270)\" d=\"M91.1077 326.474 Q87.7743 326.474 85.8531 328.256 Q83.9549 330.039 83.9549 333.164 Q83.9549 336.289 85.8531 338.071 Q87.7743 339.853 91.1077 339.853 Q94.441 339.853 96.3623 338.071 Q98.2835 336.266 98.2835 333.164 Q98.2835 330.039 96.3623 328.256 Q94.4641 326.474 91.1077 326.474 M86.4318 324.483 Q83.4225 323.742 81.7327 321.682 Q80.066 319.622 80.066 316.659 Q80.066 312.516 83.0058 310.108 Q85.9688 307.701 91.1077 307.701 Q96.2697 307.701 99.2095 310.108 Q102.149 312.516 102.149 316.659 Q102.149 319.622 100.459 321.682 Q98.7928 323.742 95.8067 324.483 Q99.1863 325.27 101.061 327.562 Q102.959 329.854 102.959 333.164 Q102.959 338.187 99.8808 340.872 Q96.8252 343.557 91.1077 343.557 Q85.3901 343.557 82.3114 340.872 Q79.2559 338.187 79.2559 333.164 Q79.2559 329.854 81.154 327.562 Q83.0521 325.27 86.4318 324.483 M84.7188 317.099 Q84.7188 319.784 86.3855 321.289 Q88.0753 322.793 91.1077 322.793 Q94.1169 322.793 95.8067 321.289 Q97.5197 319.784 97.5197 317.099 Q97.5197 314.414 95.8067 312.909 Q94.1169 311.405 91.1077 311.405 Q88.0753 311.405 86.3855 312.909 Q84.7188 314.414 84.7188 317.099 Z\" fill=\"#000000\" fill-rule=\"evenodd\" fill-opacity=\"1\" /><path clip-path=\"url(#clip270)\" d=\"M81.3392 250.524 L81.3392 246.264 Q83.0984 247.098 84.904 247.537 Q86.7095 247.977 88.4456 247.977 Q93.0752 247.977 95.5058 244.875 Q97.9595 241.75 98.3067 235.408 Q96.9641 237.399 94.9039 238.463 Q92.8438 239.528 90.3438 239.528 Q85.1586 239.528 82.1262 236.403 Q79.117 233.255 79.117 227.815 Q79.117 222.491 82.2651 219.274 Q85.4132 216.056 90.6447 216.056 Q96.64 216.056 99.7882 220.663 Q102.959 225.246 102.959 233.996 Q102.959 242.167 99.0706 247.051 Q95.2049 251.912 88.654 251.912 Q86.8947 251.912 85.0892 251.565 Q83.2836 251.218 81.3392 250.524 M90.6447 235.871 Q93.7928 235.871 95.6215 233.718 Q97.4734 231.565 97.4734 227.815 Q97.4734 224.088 95.6215 221.936 Q93.7928 219.76 90.6447 219.76 Q87.4966 219.76 85.6447 221.936 Q83.816 224.088 83.816 227.815 Q83.816 231.565 85.6447 233.718 Q87.4966 235.871 90.6447 235.871 Z\" fill=\"#000000\" fill-rule=\"evenodd\" fill-opacity=\"1\" /><path clip-path=\"url(#clip270)\" d=\"M51.6634 155.661 L59.3023 155.661 L59.3023 129.296 L50.9921 130.962 L50.9921 126.703 L59.256 125.036 L63.9319 125.036 L63.9319 155.661 L71.5707 155.661 L71.5707 159.596 L51.6634 159.596 L51.6634 155.661 Z\" fill=\"#000000\" fill-rule=\"evenodd\" fill-opacity=\"1\" /><path clip-path=\"url(#clip270)\" d=\"M91.0151 128.115 Q87.404 128.115 85.5753 131.68 Q83.7697 135.221 83.7697 142.351 Q83.7697 149.458 85.5753 153.022 Q87.404 156.564 91.0151 156.564 Q94.6493 156.564 96.4548 153.022 Q98.2835 149.458 98.2835 142.351 Q98.2835 135.221 96.4548 131.68 Q94.6493 128.115 91.0151 128.115 M91.0151 124.411 Q96.8252 124.411 99.8808 129.018 Q102.959 133.601 102.959 142.351 Q102.959 151.078 99.8808 155.684 Q96.8252 160.268 91.0151 160.268 Q85.2049 160.268 82.1262 155.684 Q79.0707 151.078 79.0707 142.351 Q79.0707 133.601 82.1262 129.018 Q85.2049 124.411 91.0151 124.411 Z\" fill=\"#000000\" fill-rule=\"evenodd\" fill-opacity=\"1\" /><path clip-path=\"url(#clip270)\" d=\"M52.8903 64.0164 L60.5291 64.0164 L60.5291 37.6508 L52.219 39.3175 L52.219 35.0583 L60.4828 33.3916 L65.1587 33.3916 L65.1587 64.0164 L72.7976 64.0164 L72.7976 67.9516 L52.8903 67.9516 L52.8903 64.0164 Z\" fill=\"#000000\" fill-rule=\"evenodd\" fill-opacity=\"1\" /><path clip-path=\"url(#clip270)\" d=\"M83.0521 64.0164 L90.691 64.0164 L90.691 37.6508 L82.3808 39.3175 L82.3808 35.0583 L90.6447 33.3916 L95.3206 33.3916 L95.3206 64.0164 L102.959 64.0164 L102.959 67.9516 L83.0521 67.9516 L83.0521 64.0164 Z\" fill=\"#000000\" fill-rule=\"evenodd\" fill-opacity=\"1\" /><circle clip-path=\"url(#clip272)\" cx=\"741.499\" cy=\"321.94\" r=\"14.4\" fill=\"#009af9\" fill-rule=\"evenodd\" fill-opacity=\"1\" stroke=\"#000000\" stroke-opacity=\"1\" stroke-width=\"3.2\"/>\n",
       "<circle clip-path=\"url(#clip272)\" cx=\"550.216\" cy=\"421.833\" r=\"14.4\" fill=\"#009af9\" fill-rule=\"evenodd\" fill-opacity=\"1\" stroke=\"#000000\" stroke-opacity=\"1\" stroke-width=\"3.2\"/>\n",
       "<circle clip-path=\"url(#clip272)\" cx=\"1028.42\" cy=\"364.097\" r=\"14.4\" fill=\"#009af9\" fill-rule=\"evenodd\" fill-opacity=\"1\" stroke=\"#000000\" stroke-opacity=\"1\" stroke-width=\"3.2\"/>\n",
       "<circle clip-path=\"url(#clip272)\" cx=\"645.858\" cy=\"251.374\" r=\"14.4\" fill=\"#009af9\" fill-rule=\"evenodd\" fill-opacity=\"1\" stroke=\"#000000\" stroke-opacity=\"1\" stroke-width=\"3.2\"/>\n",
       "<circle clip-path=\"url(#clip272)\" cx=\"837.14\" cy=\"295.363\" r=\"14.4\" fill=\"#009af9\" fill-rule=\"evenodd\" fill-opacity=\"1\" stroke=\"#000000\" stroke-opacity=\"1\" stroke-width=\"3.2\"/>\n",
       "<circle clip-path=\"url(#clip272)\" cx=\"1124.06\" cy=\"145.982\" r=\"14.4\" fill=\"#009af9\" fill-rule=\"evenodd\" fill-opacity=\"1\" stroke=\"#000000\" stroke-opacity=\"1\" stroke-width=\"3.2\"/>\n",
       "<circle clip-path=\"url(#clip272)\" cx=\"358.934\" cy=\"395.256\" r=\"14.4\" fill=\"#009af9\" fill-rule=\"evenodd\" fill-opacity=\"1\" stroke=\"#000000\" stroke-opacity=\"1\" stroke-width=\"3.2\"/>\n",
       "<circle clip-path=\"url(#clip272)\" cx=\"167.652\" cy=\"668.357\" r=\"14.4\" fill=\"#009af9\" fill-rule=\"evenodd\" fill-opacity=\"1\" stroke=\"#000000\" stroke-opacity=\"1\" stroke-width=\"3.2\"/>\n",
       "<circle clip-path=\"url(#clip272)\" cx=\"932.781\" cy=\"65.3348\" r=\"14.4\" fill=\"#009af9\" fill-rule=\"evenodd\" fill-opacity=\"1\" stroke=\"#000000\" stroke-opacity=\"1\" stroke-width=\"3.2\"/>\n",
       "<circle clip-path=\"url(#clip272)\" cx=\"454.575\" cy=\"617.036\" r=\"14.4\" fill=\"#009af9\" fill-rule=\"evenodd\" fill-opacity=\"1\" stroke=\"#000000\" stroke-opacity=\"1\" stroke-width=\"3.2\"/>\n",
       "<circle clip-path=\"url(#clip272)\" cx=\"263.293\" cy=\"538.222\" r=\"14.4\" fill=\"#009af9\" fill-rule=\"evenodd\" fill-opacity=\"1\" stroke=\"#000000\" stroke-opacity=\"1\" stroke-width=\"3.2\"/>\n",
       "<path clip-path=\"url(#clip270)\" d=\"\n",
       "M1338.96 686.448 L2352.76 686.448 L2352.76 47.2441 L1338.96 47.2441  Z\n",
       "  \" fill=\"#ffffff\" fill-rule=\"evenodd\" fill-opacity=\"1\"/>\n",
       "<defs>\n",
       "  <clipPath id=\"clip273\">\n",
       "    <rect x=\"1338\" y=\"47\" width=\"1015\" height=\"640\"/>\n",
       "  </clipPath>\n",
       "</defs>\n",
       "<polyline clip-path=\"url(#clip273)\" style=\"stroke:#000000; stroke-linecap:butt; stroke-linejoin:round; stroke-width:2; stroke-opacity:0.1; fill:none\" points=\"\n",
       "  1463.29,686.448 1463.29,47.2441 \n",
       "  \"/>\n",
       "<polyline clip-path=\"url(#clip273)\" style=\"stroke:#000000; stroke-linecap:butt; stroke-linejoin:round; stroke-width:2; stroke-opacity:0.1; fill:none\" points=\"\n",
       "  1702.4,686.448 1702.4,47.2441 \n",
       "  \"/>\n",
       "<polyline clip-path=\"url(#clip273)\" style=\"stroke:#000000; stroke-linecap:butt; stroke-linejoin:round; stroke-width:2; stroke-opacity:0.1; fill:none\" points=\"\n",
       "  1941.5,686.448 1941.5,47.2441 \n",
       "  \"/>\n",
       "<polyline clip-path=\"url(#clip273)\" style=\"stroke:#000000; stroke-linecap:butt; stroke-linejoin:round; stroke-width:2; stroke-opacity:0.1; fill:none\" points=\"\n",
       "  2180.6,686.448 2180.6,47.2441 \n",
       "  \"/>\n",
       "<polyline clip-path=\"url(#clip270)\" style=\"stroke:#000000; stroke-linecap:butt; stroke-linejoin:round; stroke-width:4; stroke-opacity:1; fill:none\" points=\"\n",
       "  1338.96,686.448 2352.76,686.448 \n",
       "  \"/>\n",
       "<polyline clip-path=\"url(#clip270)\" style=\"stroke:#000000; stroke-linecap:butt; stroke-linejoin:round; stroke-width:4; stroke-opacity:1; fill:none\" points=\"\n",
       "  1463.29,686.448 1463.29,667.55 \n",
       "  \"/>\n",
       "<polyline clip-path=\"url(#clip270)\" style=\"stroke:#000000; stroke-linecap:butt; stroke-linejoin:round; stroke-width:4; stroke-opacity:1; fill:none\" points=\"\n",
       "  1702.4,686.448 1702.4,667.55 \n",
       "  \"/>\n",
       "<polyline clip-path=\"url(#clip270)\" style=\"stroke:#000000; stroke-linecap:butt; stroke-linejoin:round; stroke-width:4; stroke-opacity:1; fill:none\" points=\"\n",
       "  1941.5,686.448 1941.5,667.55 \n",
       "  \"/>\n",
       "<polyline clip-path=\"url(#clip270)\" style=\"stroke:#000000; stroke-linecap:butt; stroke-linejoin:round; stroke-width:4; stroke-opacity:1; fill:none\" points=\"\n",
       "  2180.6,686.448 2180.6,667.55 \n",
       "  \"/>\n",
       "<path clip-path=\"url(#clip270)\" d=\"M1430.46 714.288 L1448.81 714.288 L1448.81 718.223 L1434.74 718.223 L1434.74 726.695 Q1435.76 726.348 1436.78 726.186 Q1437.8 726.001 1438.81 726.001 Q1444.6 726.001 1447.98 729.172 Q1451.36 732.343 1451.36 737.76 Q1451.36 743.339 1447.89 746.44 Q1444.42 749.519 1438.1 749.519 Q1435.92 749.519 1433.65 749.149 Q1431.41 748.778 1429 748.038 L1429 743.339 Q1431.08 744.473 1433.3 745.028 Q1435.53 745.584 1438 745.584 Q1442.01 745.584 1444.35 743.478 Q1446.68 741.371 1446.68 737.76 Q1446.68 734.149 1444.35 732.042 Q1442.01 729.936 1438 729.936 Q1436.13 729.936 1434.25 730.353 Q1432.4 730.769 1430.46 731.649 L1430.46 714.288 Z\" fill=\"#000000\" fill-rule=\"evenodd\" fill-opacity=\"1\" /><path clip-path=\"url(#clip270)\" d=\"M1460.57 742.968 L1465.46 742.968 L1465.46 748.848 L1460.57 748.848 L1460.57 742.968 Z\" fill=\"#000000\" fill-rule=\"evenodd\" fill-opacity=\"1\" /><path clip-path=\"url(#clip270)\" d=\"M1485.64 717.367 Q1482.03 717.367 1480.2 720.931 Q1478.4 724.473 1478.4 731.603 Q1478.4 738.709 1480.2 742.274 Q1482.03 745.815 1485.64 745.815 Q1489.28 745.815 1491.08 742.274 Q1492.91 738.709 1492.91 731.603 Q1492.91 724.473 1491.08 720.931 Q1489.28 717.367 1485.64 717.367 M1485.64 713.663 Q1491.45 713.663 1494.51 718.269 Q1497.59 722.853 1497.59 731.603 Q1497.59 740.329 1494.51 744.936 Q1491.45 749.519 1485.64 749.519 Q1479.83 749.519 1476.75 744.936 Q1473.7 740.329 1473.7 731.603 Q1473.7 722.853 1476.75 718.269 Q1479.83 713.663 1485.64 713.663 Z\" fill=\"#000000\" fill-rule=\"evenodd\" fill-opacity=\"1\" /><path clip-path=\"url(#clip270)\" d=\"M1668.72 714.288 L1690.94 714.288 L1690.94 716.279 L1678.39 748.848 L1673.51 748.848 L1685.31 718.223 L1668.72 718.223 L1668.72 714.288 Z\" fill=\"#000000\" fill-rule=\"evenodd\" fill-opacity=\"1\" /><path clip-path=\"url(#clip270)\" d=\"M1700.06 742.968 L1704.94 742.968 L1704.94 748.848 L1700.06 748.848 L1700.06 742.968 Z\" fill=\"#000000\" fill-rule=\"evenodd\" fill-opacity=\"1\" /><path clip-path=\"url(#clip270)\" d=\"M1715.17 714.288 L1733.53 714.288 L1733.53 718.223 L1719.46 718.223 L1719.46 726.695 Q1720.47 726.348 1721.49 726.186 Q1722.51 726.001 1723.53 726.001 Q1729.32 726.001 1732.7 729.172 Q1736.08 732.343 1736.08 737.76 Q1736.08 743.339 1732.6 746.44 Q1729.13 749.519 1722.81 749.519 Q1720.64 749.519 1718.37 749.149 Q1716.12 748.778 1713.72 748.038 L1713.72 743.339 Q1715.8 744.473 1718.02 745.028 Q1720.24 745.584 1722.72 745.584 Q1726.72 745.584 1729.06 743.478 Q1731.4 741.371 1731.4 737.76 Q1731.4 734.149 1729.06 732.042 Q1726.72 729.936 1722.72 729.936 Q1720.84 729.936 1718.97 730.353 Q1717.12 730.769 1715.17 731.649 L1715.17 714.288 Z\" fill=\"#000000\" fill-rule=\"evenodd\" fill-opacity=\"1\" /><path clip-path=\"url(#clip270)\" d=\"M1893.57 744.913 L1901.21 744.913 L1901.21 718.547 L1892.9 720.214 L1892.9 715.955 L1901.16 714.288 L1905.84 714.288 L1905.84 744.913 L1913.48 744.913 L1913.48 748.848 L1893.57 748.848 L1893.57 744.913 Z\" fill=\"#000000\" fill-rule=\"evenodd\" fill-opacity=\"1\" /><path clip-path=\"url(#clip270)\" d=\"M1932.92 717.367 Q1929.31 717.367 1927.48 720.931 Q1925.68 724.473 1925.68 731.603 Q1925.68 738.709 1927.48 742.274 Q1929.31 745.815 1932.92 745.815 Q1936.56 745.815 1938.36 742.274 Q1940.19 738.709 1940.19 731.603 Q1940.19 724.473 1938.36 720.931 Q1936.56 717.367 1932.92 717.367 M1932.92 713.663 Q1938.73 713.663 1941.79 718.269 Q1944.87 722.853 1944.87 731.603 Q1944.87 740.329 1941.79 744.936 Q1938.73 749.519 1932.92 749.519 Q1927.11 749.519 1924.03 744.936 Q1920.98 740.329 1920.98 731.603 Q1920.98 722.853 1924.03 718.269 Q1927.11 713.663 1932.92 713.663 Z\" fill=\"#000000\" fill-rule=\"evenodd\" fill-opacity=\"1\" /><path clip-path=\"url(#clip270)\" d=\"M1953.08 742.968 L1957.97 742.968 L1957.97 748.848 L1953.08 748.848 L1953.08 742.968 Z\" fill=\"#000000\" fill-rule=\"evenodd\" fill-opacity=\"1\" /><path clip-path=\"url(#clip270)\" d=\"M1978.15 717.367 Q1974.54 717.367 1972.71 720.931 Q1970.91 724.473 1970.91 731.603 Q1970.91 738.709 1972.71 742.274 Q1974.54 745.815 1978.15 745.815 Q1981.79 745.815 1983.59 742.274 Q1985.42 738.709 1985.42 731.603 Q1985.42 724.473 1983.59 720.931 Q1981.79 717.367 1978.15 717.367 M1978.15 713.663 Q1983.96 713.663 1987.02 718.269 Q1990.1 722.853 1990.1 731.603 Q1990.1 740.329 1987.02 744.936 Q1983.96 749.519 1978.15 749.519 Q1972.34 749.519 1969.26 744.936 Q1966.21 740.329 1966.21 731.603 Q1966.21 722.853 1969.26 718.269 Q1972.34 713.663 1978.15 713.663 Z\" fill=\"#000000\" fill-rule=\"evenodd\" fill-opacity=\"1\" /><path clip-path=\"url(#clip270)\" d=\"M2133.17 744.913 L2140.81 744.913 L2140.81 718.547 L2132.5 720.214 L2132.5 715.955 L2140.76 714.288 L2145.44 714.288 L2145.44 744.913 L2153.08 744.913 L2153.08 748.848 L2133.17 748.848 L2133.17 744.913 Z\" fill=\"#000000\" fill-rule=\"evenodd\" fill-opacity=\"1\" /><path clip-path=\"url(#clip270)\" d=\"M2166.55 744.913 L2182.87 744.913 L2182.87 748.848 L2160.93 748.848 L2160.93 744.913 Q2163.59 742.158 2168.17 737.528 Q2172.78 732.876 2173.96 731.533 Q2176.2 729.01 2177.08 727.274 Q2177.99 725.515 2177.99 723.825 Q2177.99 721.07 2176.04 719.334 Q2174.12 717.598 2171.02 717.598 Q2168.82 717.598 2166.37 718.362 Q2163.94 719.126 2161.16 720.677 L2161.16 715.955 Q2163.98 714.82 2166.44 714.242 Q2168.89 713.663 2170.93 713.663 Q2176.3 713.663 2179.49 716.348 Q2182.69 719.033 2182.69 723.524 Q2182.69 725.654 2181.87 727.575 Q2181.09 729.473 2178.98 732.066 Q2178.4 732.737 2175.3 735.954 Q2172.2 739.149 2166.55 744.913 Z\" fill=\"#000000\" fill-rule=\"evenodd\" fill-opacity=\"1\" /><path clip-path=\"url(#clip270)\" d=\"M2192.69 742.968 L2197.57 742.968 L2197.57 748.848 L2192.69 748.848 L2192.69 742.968 Z\" fill=\"#000000\" fill-rule=\"evenodd\" fill-opacity=\"1\" /><path clip-path=\"url(#clip270)\" d=\"M2207.8 714.288 L2226.16 714.288 L2226.16 718.223 L2212.08 718.223 L2212.08 726.695 Q2213.1 726.348 2214.12 726.186 Q2215.14 726.001 2216.16 726.001 Q2221.94 726.001 2225.32 729.172 Q2228.7 732.343 2228.7 737.76 Q2228.7 743.339 2225.23 746.44 Q2221.76 749.519 2215.44 749.519 Q2213.26 749.519 2211 749.149 Q2208.75 748.778 2206.34 748.038 L2206.34 743.339 Q2208.43 744.473 2210.65 745.028 Q2212.87 745.584 2215.35 745.584 Q2219.35 745.584 2221.69 743.478 Q2224.03 741.371 2224.03 737.76 Q2224.03 734.149 2221.69 732.042 Q2219.35 729.936 2215.35 729.936 Q2213.47 729.936 2211.6 730.353 Q2209.75 730.769 2207.8 731.649 L2207.8 714.288 Z\" fill=\"#000000\" fill-rule=\"evenodd\" fill-opacity=\"1\" /><polyline clip-path=\"url(#clip273)\" style=\"stroke:#000000; stroke-linecap:butt; stroke-linejoin:round; stroke-width:2; stroke-opacity:0.1; fill:none\" points=\"\n",
       "  1338.96,678.147 2352.76,678.147 \n",
       "  \"/>\n",
       "<polyline clip-path=\"url(#clip273)\" style=\"stroke:#000000; stroke-linecap:butt; stroke-linejoin:round; stroke-width:2; stroke-opacity:0.1; fill:none\" points=\"\n",
       "  1338.96,580.253 2352.76,580.253 \n",
       "  \"/>\n",
       "<polyline clip-path=\"url(#clip273)\" style=\"stroke:#000000; stroke-linecap:butt; stroke-linejoin:round; stroke-width:2; stroke-opacity:0.1; fill:none\" points=\"\n",
       "  1338.96,482.36 2352.76,482.36 \n",
       "  \"/>\n",
       "<polyline clip-path=\"url(#clip273)\" style=\"stroke:#000000; stroke-linecap:butt; stroke-linejoin:round; stroke-width:2; stroke-opacity:0.1; fill:none\" points=\"\n",
       "  1338.96,384.467 2352.76,384.467 \n",
       "  \"/>\n",
       "<polyline clip-path=\"url(#clip273)\" style=\"stroke:#000000; stroke-linecap:butt; stroke-linejoin:round; stroke-width:2; stroke-opacity:0.1; fill:none\" points=\"\n",
       "  1338.96,286.574 2352.76,286.574 \n",
       "  \"/>\n",
       "<polyline clip-path=\"url(#clip273)\" style=\"stroke:#000000; stroke-linecap:butt; stroke-linejoin:round; stroke-width:2; stroke-opacity:0.1; fill:none\" points=\"\n",
       "  1338.96,188.68 2352.76,188.68 \n",
       "  \"/>\n",
       "<polyline clip-path=\"url(#clip273)\" style=\"stroke:#000000; stroke-linecap:butt; stroke-linejoin:round; stroke-width:2; stroke-opacity:0.1; fill:none\" points=\"\n",
       "  1338.96,90.787 2352.76,90.787 \n",
       "  \"/>\n",
       "<polyline clip-path=\"url(#clip270)\" style=\"stroke:#000000; stroke-linecap:butt; stroke-linejoin:round; stroke-width:4; stroke-opacity:1; fill:none\" points=\"\n",
       "  1338.96,686.448 1338.96,47.2441 \n",
       "  \"/>\n",
       "<polyline clip-path=\"url(#clip270)\" style=\"stroke:#000000; stroke-linecap:butt; stroke-linejoin:round; stroke-width:4; stroke-opacity:1; fill:none\" points=\"\n",
       "  1338.96,678.147 1357.86,678.147 \n",
       "  \"/>\n",
       "<polyline clip-path=\"url(#clip270)\" style=\"stroke:#000000; stroke-linecap:butt; stroke-linejoin:round; stroke-width:4; stroke-opacity:1; fill:none\" points=\"\n",
       "  1338.96,580.253 1357.86,580.253 \n",
       "  \"/>\n",
       "<polyline clip-path=\"url(#clip270)\" style=\"stroke:#000000; stroke-linecap:butt; stroke-linejoin:round; stroke-width:4; stroke-opacity:1; fill:none\" points=\"\n",
       "  1338.96,482.36 1357.86,482.36 \n",
       "  \"/>\n",
       "<polyline clip-path=\"url(#clip270)\" style=\"stroke:#000000; stroke-linecap:butt; stroke-linejoin:round; stroke-width:4; stroke-opacity:1; fill:none\" points=\"\n",
       "  1338.96,384.467 1357.86,384.467 \n",
       "  \"/>\n",
       "<polyline clip-path=\"url(#clip270)\" style=\"stroke:#000000; stroke-linecap:butt; stroke-linejoin:round; stroke-width:4; stroke-opacity:1; fill:none\" points=\"\n",
       "  1338.96,286.574 1357.86,286.574 \n",
       "  \"/>\n",
       "<polyline clip-path=\"url(#clip270)\" style=\"stroke:#000000; stroke-linecap:butt; stroke-linejoin:round; stroke-width:4; stroke-opacity:1; fill:none\" points=\"\n",
       "  1338.96,188.68 1357.86,188.68 \n",
       "  \"/>\n",
       "<polyline clip-path=\"url(#clip270)\" style=\"stroke:#000000; stroke-linecap:butt; stroke-linejoin:round; stroke-width:4; stroke-opacity:1; fill:none\" points=\"\n",
       "  1338.96,90.787 1357.86,90.787 \n",
       "  \"/>\n",
       "<path clip-path=\"url(#clip270)\" d=\"M1295.83 676.792 Q1299.19 677.51 1301.06 679.778 Q1302.96 682.047 1302.96 685.38 Q1302.96 690.496 1299.44 693.297 Q1295.92 696.098 1289.44 696.098 Q1287.27 696.098 1284.95 695.658 Q1282.66 695.241 1280.2 694.385 L1280.2 689.871 Q1282.15 691.005 1284.46 691.584 Q1286.78 692.163 1289.3 692.163 Q1293.7 692.163 1295.99 690.427 Q1298.31 688.69 1298.31 685.38 Q1298.31 682.325 1296.15 680.612 Q1294.02 678.876 1290.2 678.876 L1286.18 678.876 L1286.18 675.033 L1290.39 675.033 Q1293.84 675.033 1295.67 673.667 Q1297.5 672.279 1297.5 669.686 Q1297.5 667.024 1295.6 665.612 Q1293.72 664.177 1290.2 664.177 Q1288.28 664.177 1286.08 664.593 Q1283.89 665.01 1281.25 665.89 L1281.25 661.723 Q1283.91 660.982 1286.22 660.612 Q1288.56 660.242 1290.62 660.242 Q1295.95 660.242 1299.05 662.672 Q1302.15 665.079 1302.15 669.2 Q1302.15 672.07 1300.51 674.061 Q1298.86 676.028 1295.83 676.792 Z\" fill=\"#000000\" fill-rule=\"evenodd\" fill-opacity=\"1\" /><path clip-path=\"url(#clip270)\" d=\"M1293.38 567.047 L1281.57 585.496 L1293.38 585.496 L1293.38 567.047 M1292.15 562.973 L1298.03 562.973 L1298.03 585.496 L1302.96 585.496 L1302.96 589.385 L1298.03 589.385 L1298.03 597.533 L1293.38 597.533 L1293.38 589.385 L1277.77 589.385 L1277.77 584.871 L1292.15 562.973 Z\" fill=\"#000000\" fill-rule=\"evenodd\" fill-opacity=\"1\" /><path clip-path=\"url(#clip270)\" d=\"M1282.06 465.08 L1300.41 465.08 L1300.41 469.015 L1286.34 469.015 L1286.34 477.487 Q1287.36 477.14 1288.38 476.978 Q1289.39 476.793 1290.41 476.793 Q1296.2 476.793 1299.58 479.964 Q1302.96 483.135 1302.96 488.552 Q1302.96 494.131 1299.49 497.233 Q1296.02 500.311 1289.7 500.311 Q1287.52 500.311 1285.25 499.941 Q1283.01 499.571 1280.6 498.83 L1280.6 494.131 Q1282.68 495.265 1284.9 495.821 Q1287.13 496.376 1289.6 496.376 Q1293.61 496.376 1295.95 494.27 Q1298.28 492.163 1298.28 488.552 Q1298.28 484.941 1295.95 482.835 Q1293.61 480.728 1289.6 480.728 Q1287.73 480.728 1285.85 481.145 Q1284 481.561 1282.06 482.441 L1282.06 465.08 Z\" fill=\"#000000\" fill-rule=\"evenodd\" fill-opacity=\"1\" /><path clip-path=\"url(#clip270)\" d=\"M1291.43 382.603 Q1288.28 382.603 1286.43 384.756 Q1284.6 386.909 1284.6 390.659 Q1284.6 394.386 1286.43 396.562 Q1288.28 398.714 1291.43 398.714 Q1294.58 398.714 1296.41 396.562 Q1298.26 394.386 1298.26 390.659 Q1298.26 386.909 1296.41 384.756 Q1294.58 382.603 1291.43 382.603 M1300.71 367.951 L1300.71 372.21 Q1298.95 371.377 1297.15 370.937 Q1295.37 370.497 1293.61 370.497 Q1288.98 370.497 1286.52 373.622 Q1284.09 376.747 1283.75 383.066 Q1285.11 381.052 1287.17 379.988 Q1289.23 378.9 1291.71 378.9 Q1296.92 378.9 1299.93 382.071 Q1302.96 385.219 1302.96 390.659 Q1302.96 395.983 1299.81 399.2 Q1296.66 402.418 1291.43 402.418 Q1285.44 402.418 1282.27 397.835 Q1279.09 393.228 1279.09 384.501 Q1279.09 376.307 1282.98 371.446 Q1286.87 366.562 1293.42 366.562 Q1295.18 366.562 1296.96 366.909 Q1298.77 367.256 1300.71 367.951 Z\" fill=\"#000000\" fill-rule=\"evenodd\" fill-opacity=\"1\" /><path clip-path=\"url(#clip270)\" d=\"M1280.74 269.294 L1302.96 269.294 L1302.96 271.284 L1290.41 303.854 L1285.53 303.854 L1297.33 273.229 L1280.74 273.229 L1280.74 269.294 Z\" fill=\"#000000\" fill-rule=\"evenodd\" fill-opacity=\"1\" /><path clip-path=\"url(#clip270)\" d=\"M1291.11 189.548 Q1287.77 189.548 1285.85 191.331 Q1283.95 193.113 1283.95 196.238 Q1283.95 199.363 1285.85 201.145 Q1287.77 202.928 1291.11 202.928 Q1294.44 202.928 1296.36 201.145 Q1298.28 199.34 1298.28 196.238 Q1298.28 193.113 1296.36 191.331 Q1294.46 189.548 1291.11 189.548 M1286.43 187.558 Q1283.42 186.817 1281.73 184.757 Q1280.07 182.697 1280.07 179.734 Q1280.07 175.59 1283.01 173.183 Q1285.97 170.775 1291.11 170.775 Q1296.27 170.775 1299.21 173.183 Q1302.15 175.59 1302.15 179.734 Q1302.15 182.697 1300.46 184.757 Q1298.79 186.817 1295.81 187.558 Q1299.19 188.345 1301.06 190.636 Q1302.96 192.928 1302.96 196.238 Q1302.96 201.261 1299.88 203.946 Q1296.83 206.632 1291.11 206.632 Q1285.39 206.632 1282.31 203.946 Q1279.26 201.261 1279.26 196.238 Q1279.26 192.928 1281.15 190.636 Q1283.05 188.345 1286.43 187.558 M1284.72 180.173 Q1284.72 182.859 1286.39 184.363 Q1288.08 185.868 1291.11 185.868 Q1294.12 185.868 1295.81 184.363 Q1297.52 182.859 1297.52 180.173 Q1297.52 177.488 1295.81 175.984 Q1294.12 174.479 1291.11 174.479 Q1288.08 174.479 1286.39 175.984 Q1284.72 177.488 1284.72 180.173 Z\" fill=\"#000000\" fill-rule=\"evenodd\" fill-opacity=\"1\" /><path clip-path=\"url(#clip270)\" d=\"M1281.34 107.349 L1281.34 103.09 Q1283.1 103.924 1284.9 104.363 Q1286.71 104.803 1288.45 104.803 Q1293.08 104.803 1295.51 101.701 Q1297.96 98.5763 1298.31 92.2338 Q1296.96 94.2245 1294.9 95.2893 Q1292.84 96.3541 1290.34 96.3541 Q1285.16 96.3541 1282.13 93.2291 Q1279.12 90.081 1279.12 84.6412 Q1279.12 79.3172 1282.27 76.0996 Q1285.41 72.882 1290.64 72.882 Q1296.64 72.882 1299.79 77.4885 Q1302.96 82.0718 1302.96 90.8217 Q1302.96 98.993 1299.07 103.877 Q1295.2 108.738 1288.65 108.738 Q1286.89 108.738 1285.09 108.391 Q1283.28 108.044 1281.34 107.349 M1290.64 92.6967 Q1293.79 92.6967 1295.62 90.544 Q1297.47 88.3912 1297.47 84.6412 Q1297.47 80.9144 1295.62 78.7616 Q1293.79 76.5857 1290.64 76.5857 Q1287.5 76.5857 1285.64 78.7616 Q1283.82 80.9144 1283.82 84.6412 Q1283.82 88.3912 1285.64 90.544 Q1287.5 92.6967 1290.64 92.6967 Z\" fill=\"#000000\" fill-rule=\"evenodd\" fill-opacity=\"1\" /><circle clip-path=\"url(#clip273)\" cx=\"1941.5\" cy=\"77.082\" r=\"14.4\" fill=\"#009af9\" fill-rule=\"evenodd\" fill-opacity=\"1\" stroke=\"#000000\" stroke-opacity=\"1\" stroke-width=\"3.2\"/>\n",
       "<circle clip-path=\"url(#clip273)\" cx=\"1750.22\" cy=\"174.975\" r=\"14.4\" fill=\"#009af9\" fill-rule=\"evenodd\" fill-opacity=\"1\" stroke=\"#000000\" stroke-opacity=\"1\" stroke-width=\"3.2\"/>\n",
       "<circle clip-path=\"url(#clip273)\" cx=\"2228.42\" cy=\"116.239\" r=\"14.4\" fill=\"#009af9\" fill-rule=\"evenodd\" fill-opacity=\"1\" stroke=\"#000000\" stroke-opacity=\"1\" stroke-width=\"3.2\"/>\n",
       "<circle clip-path=\"url(#clip273)\" cx=\"1845.86\" cy=\"113.302\" r=\"14.4\" fill=\"#009af9\" fill-rule=\"evenodd\" fill-opacity=\"1\" stroke=\"#000000\" stroke-opacity=\"1\" stroke-width=\"3.2\"/>\n",
       "<circle clip-path=\"url(#clip273)\" cx=\"2037.14\" cy=\"65.3348\" r=\"14.4\" fill=\"#009af9\" fill-rule=\"evenodd\" fill-opacity=\"1\" stroke=\"#000000\" stroke-opacity=\"1\" stroke-width=\"3.2\"/>\n",
       "<circle clip-path=\"url(#clip273)\" cx=\"2324.06\" cy=\"178.891\" r=\"14.4\" fill=\"#009af9\" fill-rule=\"evenodd\" fill-opacity=\"1\" stroke=\"#000000\" stroke-opacity=\"1\" stroke-width=\"3.2\"/>\n",
       "<circle clip-path=\"url(#clip273)\" cx=\"1558.93\" cy=\"371.741\" r=\"14.4\" fill=\"#009af9\" fill-rule=\"evenodd\" fill-opacity=\"1\" stroke=\"#000000\" stroke-opacity=\"1\" stroke-width=\"3.2\"/>\n",
       "<circle clip-path=\"url(#clip273)\" cx=\"1367.65\" cy=\"668.357\" r=\"14.4\" fill=\"#009af9\" fill-rule=\"evenodd\" fill-opacity=\"1\" stroke=\"#000000\" stroke-opacity=\"1\" stroke-width=\"3.2\"/>\n",
       "<circle clip-path=\"url(#clip273)\" cx=\"2132.78\" cy=\"78.0609\" r=\"14.4\" fill=\"#009af9\" fill-rule=\"evenodd\" fill-opacity=\"1\" stroke=\"#000000\" stroke-opacity=\"1\" stroke-width=\"3.2\"/>\n",
       "<circle clip-path=\"url(#clip273)\" cx=\"1654.58\" cy=\"261.121\" r=\"14.4\" fill=\"#009af9\" fill-rule=\"evenodd\" fill-opacity=\"1\" stroke=\"#000000\" stroke-opacity=\"1\" stroke-width=\"3.2\"/>\n",
       "<circle clip-path=\"url(#clip273)\" cx=\"1463.29\" cy=\"507.812\" r=\"14.4\" fill=\"#009af9\" fill-rule=\"evenodd\" fill-opacity=\"1\" stroke=\"#000000\" stroke-opacity=\"1\" stroke-width=\"3.2\"/>\n",
       "<path clip-path=\"url(#clip270)\" d=\"\n",
       "M138.959 1486.45 L1152.76 1486.45 L1152.76 847.244 L138.959 847.244  Z\n",
       "  \" fill=\"#ffffff\" fill-rule=\"evenodd\" fill-opacity=\"1\"/>\n",
       "<defs>\n",
       "  <clipPath id=\"clip274\">\n",
       "    <rect x=\"138\" y=\"847\" width=\"1015\" height=\"640\"/>\n",
       "  </clipPath>\n",
       "</defs>\n",
       "<polyline clip-path=\"url(#clip274)\" style=\"stroke:#000000; stroke-linecap:butt; stroke-linejoin:round; stroke-width:2; stroke-opacity:0.1; fill:none\" points=\"\n",
       "  263.293,1486.45 263.293,847.244 \n",
       "  \"/>\n",
       "<polyline clip-path=\"url(#clip274)\" style=\"stroke:#000000; stroke-linecap:butt; stroke-linejoin:round; stroke-width:2; stroke-opacity:0.1; fill:none\" points=\"\n",
       "  502.396,1486.45 502.396,847.244 \n",
       "  \"/>\n",
       "<polyline clip-path=\"url(#clip274)\" style=\"stroke:#000000; stroke-linecap:butt; stroke-linejoin:round; stroke-width:2; stroke-opacity:0.1; fill:none\" points=\"\n",
       "  741.499,1486.45 741.499,847.244 \n",
       "  \"/>\n",
       "<polyline clip-path=\"url(#clip274)\" style=\"stroke:#000000; stroke-linecap:butt; stroke-linejoin:round; stroke-width:2; stroke-opacity:0.1; fill:none\" points=\"\n",
       "  980.602,1486.45 980.602,847.244 \n",
       "  \"/>\n",
       "<polyline clip-path=\"url(#clip270)\" style=\"stroke:#000000; stroke-linecap:butt; stroke-linejoin:round; stroke-width:4; stroke-opacity:1; fill:none\" points=\"\n",
       "  138.959,1486.45 1152.76,1486.45 \n",
       "  \"/>\n",
       "<polyline clip-path=\"url(#clip270)\" style=\"stroke:#000000; stroke-linecap:butt; stroke-linejoin:round; stroke-width:4; stroke-opacity:1; fill:none\" points=\"\n",
       "  263.293,1486.45 263.293,1467.55 \n",
       "  \"/>\n",
       "<polyline clip-path=\"url(#clip270)\" style=\"stroke:#000000; stroke-linecap:butt; stroke-linejoin:round; stroke-width:4; stroke-opacity:1; fill:none\" points=\"\n",
       "  502.396,1486.45 502.396,1467.55 \n",
       "  \"/>\n",
       "<polyline clip-path=\"url(#clip270)\" style=\"stroke:#000000; stroke-linecap:butt; stroke-linejoin:round; stroke-width:4; stroke-opacity:1; fill:none\" points=\"\n",
       "  741.499,1486.45 741.499,1467.55 \n",
       "  \"/>\n",
       "<polyline clip-path=\"url(#clip270)\" style=\"stroke:#000000; stroke-linecap:butt; stroke-linejoin:round; stroke-width:4; stroke-opacity:1; fill:none\" points=\"\n",
       "  980.602,1486.45 980.602,1467.55 \n",
       "  \"/>\n",
       "<path clip-path=\"url(#clip270)\" d=\"M230.457 1514.29 L248.814 1514.29 L248.814 1518.22 L234.74 1518.22 L234.74 1526.7 Q235.758 1526.35 236.777 1526.19 Q237.795 1526 238.814 1526 Q244.601 1526 247.981 1529.17 Q251.36 1532.34 251.36 1537.76 Q251.36 1543.34 247.888 1546.44 Q244.416 1549.52 238.096 1549.52 Q235.92 1549.52 233.652 1549.15 Q231.407 1548.78 228.999 1548.04 L228.999 1543.34 Q231.082 1544.47 233.305 1545.03 Q235.527 1545.58 238.004 1545.58 Q242.008 1545.58 244.346 1543.48 Q246.684 1541.37 246.684 1537.76 Q246.684 1534.15 244.346 1532.04 Q242.008 1529.94 238.004 1529.94 Q236.129 1529.94 234.254 1530.35 Q232.402 1530.77 230.457 1531.65 L230.457 1514.29 Z\" fill=\"#000000\" fill-rule=\"evenodd\" fill-opacity=\"1\" /><path clip-path=\"url(#clip270)\" d=\"M260.573 1542.97 L265.457 1542.97 L265.457 1548.85 L260.573 1548.85 L260.573 1542.97 Z\" fill=\"#000000\" fill-rule=\"evenodd\" fill-opacity=\"1\" /><path clip-path=\"url(#clip270)\" d=\"M285.642 1517.37 Q282.031 1517.37 280.203 1520.93 Q278.397 1524.47 278.397 1531.6 Q278.397 1538.71 280.203 1542.27 Q282.031 1545.82 285.642 1545.82 Q289.277 1545.82 291.082 1542.27 Q292.911 1538.71 292.911 1531.6 Q292.911 1524.47 291.082 1520.93 Q289.277 1517.37 285.642 1517.37 M285.642 1513.66 Q291.453 1513.66 294.508 1518.27 Q297.587 1522.85 297.587 1531.6 Q297.587 1540.33 294.508 1544.94 Q291.453 1549.52 285.642 1549.52 Q279.832 1549.52 276.754 1544.94 Q273.698 1540.33 273.698 1531.6 Q273.698 1522.85 276.754 1518.27 Q279.832 1513.66 285.642 1513.66 Z\" fill=\"#000000\" fill-rule=\"evenodd\" fill-opacity=\"1\" /><path clip-path=\"url(#clip270)\" d=\"M468.716 1514.29 L490.938 1514.29 L490.938 1516.28 L478.391 1548.85 L473.507 1548.85 L485.313 1518.22 L468.716 1518.22 L468.716 1514.29 Z\" fill=\"#000000\" fill-rule=\"evenodd\" fill-opacity=\"1\" /><path clip-path=\"url(#clip270)\" d=\"M500.058 1542.97 L504.942 1542.97 L504.942 1548.85 L500.058 1548.85 L500.058 1542.97 Z\" fill=\"#000000\" fill-rule=\"evenodd\" fill-opacity=\"1\" /><path clip-path=\"url(#clip270)\" d=\"M515.174 1514.29 L533.53 1514.29 L533.53 1518.22 L519.456 1518.22 L519.456 1526.7 Q520.475 1526.35 521.493 1526.19 Q522.512 1526 523.53 1526 Q529.317 1526 532.697 1529.17 Q536.076 1532.34 536.076 1537.76 Q536.076 1543.34 532.604 1546.44 Q529.132 1549.52 522.812 1549.52 Q520.637 1549.52 518.368 1549.15 Q516.123 1548.78 513.715 1548.04 L513.715 1543.34 Q515.799 1544.47 518.021 1545.03 Q520.243 1545.58 522.72 1545.58 Q526.724 1545.58 529.062 1543.48 Q531.4 1541.37 531.4 1537.76 Q531.4 1534.15 529.062 1532.04 Q526.724 1529.94 522.72 1529.94 Q520.845 1529.94 518.97 1530.35 Q517.118 1530.77 515.174 1531.65 L515.174 1514.29 Z\" fill=\"#000000\" fill-rule=\"evenodd\" fill-opacity=\"1\" /><path clip-path=\"url(#clip270)\" d=\"M693.571 1544.91 L701.21 1544.91 L701.21 1518.55 L692.9 1520.21 L692.9 1515.95 L701.163 1514.29 L705.839 1514.29 L705.839 1544.91 L713.478 1544.91 L713.478 1548.85 L693.571 1548.85 L693.571 1544.91 Z\" fill=\"#000000\" fill-rule=\"evenodd\" fill-opacity=\"1\" /><path clip-path=\"url(#clip270)\" d=\"M732.923 1517.37 Q729.311 1517.37 727.483 1520.93 Q725.677 1524.47 725.677 1531.6 Q725.677 1538.71 727.483 1542.27 Q729.311 1545.82 732.923 1545.82 Q736.557 1545.82 738.362 1542.27 Q740.191 1538.71 740.191 1531.6 Q740.191 1524.47 738.362 1520.93 Q736.557 1517.37 732.923 1517.37 M732.923 1513.66 Q738.733 1513.66 741.788 1518.27 Q744.867 1522.85 744.867 1531.6 Q744.867 1540.33 741.788 1544.94 Q738.733 1549.52 732.923 1549.52 Q727.112 1549.52 724.034 1544.94 Q720.978 1540.33 720.978 1531.6 Q720.978 1522.85 724.034 1518.27 Q727.112 1513.66 732.923 1513.66 Z\" fill=\"#000000\" fill-rule=\"evenodd\" fill-opacity=\"1\" /><path clip-path=\"url(#clip270)\" d=\"M753.084 1542.97 L757.969 1542.97 L757.969 1548.85 L753.084 1548.85 L753.084 1542.97 Z\" fill=\"#000000\" fill-rule=\"evenodd\" fill-opacity=\"1\" /><path clip-path=\"url(#clip270)\" d=\"M778.154 1517.37 Q774.543 1517.37 772.714 1520.93 Q770.908 1524.47 770.908 1531.6 Q770.908 1538.71 772.714 1542.27 Q774.543 1545.82 778.154 1545.82 Q781.788 1545.82 783.594 1542.27 Q785.422 1538.71 785.422 1531.6 Q785.422 1524.47 783.594 1520.93 Q781.788 1517.37 778.154 1517.37 M778.154 1513.66 Q783.964 1513.66 787.019 1518.27 Q790.098 1522.85 790.098 1531.6 Q790.098 1540.33 787.019 1544.94 Q783.964 1549.52 778.154 1549.52 Q772.344 1549.52 769.265 1544.94 Q766.209 1540.33 766.209 1531.6 Q766.209 1522.85 769.265 1518.27 Q772.344 1513.66 778.154 1513.66 Z\" fill=\"#000000\" fill-rule=\"evenodd\" fill-opacity=\"1\" /><path clip-path=\"url(#clip270)\" d=\"M933.171 1544.91 L940.81 1544.91 L940.81 1518.55 L932.5 1520.21 L932.5 1515.95 L940.764 1514.29 L945.44 1514.29 L945.44 1544.91 L953.079 1544.91 L953.079 1548.85 L933.171 1548.85 L933.171 1544.91 Z\" fill=\"#000000\" fill-rule=\"evenodd\" fill-opacity=\"1\" /><path clip-path=\"url(#clip270)\" d=\"M966.551 1544.91 L982.87 1544.91 L982.87 1548.85 L960.926 1548.85 L960.926 1544.91 Q963.588 1542.16 968.171 1537.53 Q972.778 1532.88 973.958 1531.53 Q976.204 1529.01 977.083 1527.27 Q977.986 1525.51 977.986 1523.82 Q977.986 1521.07 976.042 1519.33 Q974.12 1517.6 971.019 1517.6 Q968.819 1517.6 966.366 1518.36 Q963.935 1519.13 961.157 1520.68 L961.157 1515.95 Q963.982 1514.82 966.435 1514.24 Q968.889 1513.66 970.926 1513.66 Q976.296 1513.66 979.491 1516.35 Q982.685 1519.03 982.685 1523.52 Q982.685 1525.65 981.875 1527.57 Q981.088 1529.47 978.981 1532.07 Q978.403 1532.74 975.301 1535.95 Q972.199 1539.15 966.551 1544.91 Z\" fill=\"#000000\" fill-rule=\"evenodd\" fill-opacity=\"1\" /><path clip-path=\"url(#clip270)\" d=\"M992.685 1542.97 L997.569 1542.97 L997.569 1548.85 L992.685 1548.85 L992.685 1542.97 Z\" fill=\"#000000\" fill-rule=\"evenodd\" fill-opacity=\"1\" /><path clip-path=\"url(#clip270)\" d=\"M1007.8 1514.29 L1026.16 1514.29 L1026.16 1518.22 L1012.08 1518.22 L1012.08 1526.7 Q1013.1 1526.35 1014.12 1526.19 Q1015.14 1526 1016.16 1526 Q1021.94 1526 1025.32 1529.17 Q1028.7 1532.34 1028.7 1537.76 Q1028.7 1543.34 1025.23 1546.44 Q1021.76 1549.52 1015.44 1549.52 Q1013.26 1549.52 1011 1549.15 Q1008.75 1548.78 1006.34 1548.04 L1006.34 1543.34 Q1008.43 1544.47 1010.65 1545.03 Q1012.87 1545.58 1015.35 1545.58 Q1019.35 1545.58 1021.69 1543.48 Q1024.03 1541.37 1024.03 1537.76 Q1024.03 1534.15 1021.69 1532.04 Q1019.35 1529.94 1015.35 1529.94 Q1013.47 1529.94 1011.6 1530.35 Q1009.75 1530.77 1007.8 1531.65 L1007.8 1514.29 Z\" fill=\"#000000\" fill-rule=\"evenodd\" fill-opacity=\"1\" /><polyline clip-path=\"url(#clip274)\" style=\"stroke:#000000; stroke-linecap:butt; stroke-linejoin:round; stroke-width:2; stroke-opacity:0.1; fill:none\" points=\"\n",
       "  138.959,1418.31 1152.76,1418.31 \n",
       "  \"/>\n",
       "<polyline clip-path=\"url(#clip274)\" style=\"stroke:#000000; stroke-linecap:butt; stroke-linejoin:round; stroke-width:2; stroke-opacity:0.1; fill:none\" points=\"\n",
       "  138.959,1336.27 1152.76,1336.27 \n",
       "  \"/>\n",
       "<polyline clip-path=\"url(#clip274)\" style=\"stroke:#000000; stroke-linecap:butt; stroke-linejoin:round; stroke-width:2; stroke-opacity:0.1; fill:none\" points=\"\n",
       "  138.959,1254.22 1152.76,1254.22 \n",
       "  \"/>\n",
       "<polyline clip-path=\"url(#clip274)\" style=\"stroke:#000000; stroke-linecap:butt; stroke-linejoin:round; stroke-width:2; stroke-opacity:0.1; fill:none\" points=\"\n",
       "  138.959,1172.18 1152.76,1172.18 \n",
       "  \"/>\n",
       "<polyline clip-path=\"url(#clip274)\" style=\"stroke:#000000; stroke-linecap:butt; stroke-linejoin:round; stroke-width:2; stroke-opacity:0.1; fill:none\" points=\"\n",
       "  138.959,1090.13 1152.76,1090.13 \n",
       "  \"/>\n",
       "<polyline clip-path=\"url(#clip274)\" style=\"stroke:#000000; stroke-linecap:butt; stroke-linejoin:round; stroke-width:2; stroke-opacity:0.1; fill:none\" points=\"\n",
       "  138.959,1008.09 1152.76,1008.09 \n",
       "  \"/>\n",
       "<polyline clip-path=\"url(#clip274)\" style=\"stroke:#000000; stroke-linecap:butt; stroke-linejoin:round; stroke-width:2; stroke-opacity:0.1; fill:none\" points=\"\n",
       "  138.959,926.047 1152.76,926.047 \n",
       "  \"/>\n",
       "<polyline clip-path=\"url(#clip270)\" style=\"stroke:#000000; stroke-linecap:butt; stroke-linejoin:round; stroke-width:4; stroke-opacity:1; fill:none\" points=\"\n",
       "  138.959,1486.45 138.959,847.244 \n",
       "  \"/>\n",
       "<polyline clip-path=\"url(#clip270)\" style=\"stroke:#000000; stroke-linecap:butt; stroke-linejoin:round; stroke-width:4; stroke-opacity:1; fill:none\" points=\"\n",
       "  138.959,1418.31 157.857,1418.31 \n",
       "  \"/>\n",
       "<polyline clip-path=\"url(#clip270)\" style=\"stroke:#000000; stroke-linecap:butt; stroke-linejoin:round; stroke-width:4; stroke-opacity:1; fill:none\" points=\"\n",
       "  138.959,1336.27 157.857,1336.27 \n",
       "  \"/>\n",
       "<polyline clip-path=\"url(#clip270)\" style=\"stroke:#000000; stroke-linecap:butt; stroke-linejoin:round; stroke-width:4; stroke-opacity:1; fill:none\" points=\"\n",
       "  138.959,1254.22 157.857,1254.22 \n",
       "  \"/>\n",
       "<polyline clip-path=\"url(#clip270)\" style=\"stroke:#000000; stroke-linecap:butt; stroke-linejoin:round; stroke-width:4; stroke-opacity:1; fill:none\" points=\"\n",
       "  138.959,1172.18 157.857,1172.18 \n",
       "  \"/>\n",
       "<polyline clip-path=\"url(#clip270)\" style=\"stroke:#000000; stroke-linecap:butt; stroke-linejoin:round; stroke-width:4; stroke-opacity:1; fill:none\" points=\"\n",
       "  138.959,1090.13 157.857,1090.13 \n",
       "  \"/>\n",
       "<polyline clip-path=\"url(#clip270)\" style=\"stroke:#000000; stroke-linecap:butt; stroke-linejoin:round; stroke-width:4; stroke-opacity:1; fill:none\" points=\"\n",
       "  138.959,1008.09 157.857,1008.09 \n",
       "  \"/>\n",
       "<polyline clip-path=\"url(#clip270)\" style=\"stroke:#000000; stroke-linecap:butt; stroke-linejoin:round; stroke-width:4; stroke-opacity:1; fill:none\" points=\"\n",
       "  138.959,926.047 157.857,926.047 \n",
       "  \"/>\n",
       "<path clip-path=\"url(#clip270)\" d=\"M91.4317 1416.45 Q88.2836 1416.45 86.4318 1418.6 Q84.6031 1420.75 84.6031 1424.5 Q84.6031 1428.23 86.4318 1430.41 Q88.2836 1432.56 91.4317 1432.56 Q94.5799 1432.56 96.4085 1430.41 Q98.2604 1428.23 98.2604 1424.5 Q98.2604 1420.75 96.4085 1418.6 Q94.5799 1416.45 91.4317 1416.45 M100.714 1401.79 L100.714 1406.05 Q98.9548 1405.22 97.1493 1404.78 Q95.3669 1404.34 93.6076 1404.34 Q88.978 1404.34 86.5243 1407.47 Q84.0938 1410.59 83.7466 1416.91 Q85.1123 1414.9 87.1725 1413.83 Q89.2327 1412.74 91.7095 1412.74 Q96.9178 1412.74 99.927 1415.91 Q102.959 1419.06 102.959 1424.5 Q102.959 1429.83 99.8113 1433.04 Q96.6632 1436.26 91.4317 1436.26 Q85.4364 1436.26 82.2651 1431.68 Q79.0938 1427.07 79.0938 1418.35 Q79.0938 1410.15 82.9827 1405.29 Q86.8716 1400.41 93.4225 1400.41 Q95.1817 1400.41 96.9641 1400.75 Q98.7696 1401.1 100.714 1401.79 Z\" fill=\"#000000\" fill-rule=\"evenodd\" fill-opacity=\"1\" /><path clip-path=\"url(#clip270)\" d=\"M80.7373 1318.99 L102.959 1318.99 L102.959 1320.98 L90.4132 1353.55 L85.529 1353.55 L97.3345 1322.92 L80.7373 1322.92 L80.7373 1318.99 Z\" fill=\"#000000\" fill-rule=\"evenodd\" fill-opacity=\"1\" /><path clip-path=\"url(#clip270)\" d=\"M91.1077 1255.09 Q87.7743 1255.09 85.8531 1256.87 Q83.9549 1258.66 83.9549 1261.78 Q83.9549 1264.91 85.8531 1266.69 Q87.7743 1268.47 91.1077 1268.47 Q94.441 1268.47 96.3623 1266.69 Q98.2835 1264.88 98.2835 1261.78 Q98.2835 1258.66 96.3623 1256.87 Q94.4641 1255.09 91.1077 1255.09 M86.4318 1253.1 Q83.4225 1252.36 81.7327 1250.3 Q80.066 1248.24 80.066 1245.28 Q80.066 1241.13 83.0058 1238.73 Q85.9688 1236.32 91.1077 1236.32 Q96.2697 1236.32 99.2095 1238.73 Q102.149 1241.13 102.149 1245.28 Q102.149 1248.24 100.459 1250.3 Q98.7928 1252.36 95.8067 1253.1 Q99.1863 1253.89 101.061 1256.18 Q102.959 1258.47 102.959 1261.78 Q102.959 1266.8 99.8808 1269.49 Q96.8252 1272.17 91.1077 1272.17 Q85.3901 1272.17 82.3114 1269.49 Q79.2559 1266.8 79.2559 1261.78 Q79.2559 1258.47 81.154 1256.18 Q83.0521 1253.89 86.4318 1253.1 M84.7188 1245.72 Q84.7188 1248.4 86.3855 1249.91 Q88.0753 1251.41 91.1077 1251.41 Q94.1169 1251.41 95.8067 1249.91 Q97.5197 1248.4 97.5197 1245.72 Q97.5197 1243.03 95.8067 1241.53 Q94.1169 1240.02 91.1077 1240.02 Q88.0753 1240.02 86.3855 1241.53 Q84.7188 1243.03 84.7188 1245.72 Z\" fill=\"#000000\" fill-rule=\"evenodd\" fill-opacity=\"1\" /><path clip-path=\"url(#clip270)\" d=\"M81.3392 1188.74 L81.3392 1184.48 Q83.0984 1185.32 84.904 1185.76 Q86.7095 1186.19 88.4456 1186.19 Q93.0752 1186.19 95.5058 1183.09 Q97.9595 1179.97 98.3067 1173.63 Q96.9641 1175.62 94.9039 1176.68 Q92.8438 1177.75 90.3438 1177.75 Q85.1586 1177.75 82.1262 1174.62 Q79.117 1171.47 79.117 1166.03 Q79.117 1160.71 82.2651 1157.49 Q85.4132 1154.27 90.6447 1154.27 Q96.64 1154.27 99.7882 1158.88 Q102.959 1163.46 102.959 1172.21 Q102.959 1180.38 99.0706 1185.27 Q95.2049 1190.13 88.654 1190.13 Q86.8947 1190.13 85.0892 1189.78 Q83.2836 1189.44 81.3392 1188.74 M90.6447 1174.09 Q93.7928 1174.09 95.6215 1171.94 Q97.4734 1169.78 97.4734 1166.03 Q97.4734 1162.31 95.6215 1160.15 Q93.7928 1157.98 90.6447 1157.98 Q87.4966 1157.98 85.6447 1160.15 Q83.816 1162.31 83.816 1166.03 Q83.816 1169.78 85.6447 1171.94 Q87.4966 1174.09 90.6447 1174.09 Z\" fill=\"#000000\" fill-rule=\"evenodd\" fill-opacity=\"1\" /><path clip-path=\"url(#clip270)\" d=\"M51.6634 1103.48 L59.3023 1103.48 L59.3023 1077.11 L50.9921 1078.78 L50.9921 1074.52 L59.256 1072.85 L63.9319 1072.85 L63.9319 1103.48 L71.5707 1103.48 L71.5707 1107.41 L51.6634 1107.41 L51.6634 1103.48 Z\" fill=\"#000000\" fill-rule=\"evenodd\" fill-opacity=\"1\" /><path clip-path=\"url(#clip270)\" d=\"M91.0151 1075.93 Q87.404 1075.93 85.5753 1079.5 Q83.7697 1083.04 83.7697 1090.17 Q83.7697 1097.28 85.5753 1100.84 Q87.404 1104.38 91.0151 1104.38 Q94.6493 1104.38 96.4548 1100.84 Q98.2835 1097.28 98.2835 1090.17 Q98.2835 1083.04 96.4548 1079.5 Q94.6493 1075.93 91.0151 1075.93 M91.0151 1072.23 Q96.8252 1072.23 99.8808 1076.84 Q102.959 1081.42 102.959 1090.17 Q102.959 1098.9 99.8808 1103.5 Q96.8252 1108.09 91.0151 1108.09 Q85.2049 1108.09 82.1262 1103.5 Q79.0707 1098.9 79.0707 1090.17 Q79.0707 1081.42 82.1262 1076.84 Q85.2049 1072.23 91.0151 1072.23 Z\" fill=\"#000000\" fill-rule=\"evenodd\" fill-opacity=\"1\" /><path clip-path=\"url(#clip270)\" d=\"M52.8903 1021.44 L60.5291 1021.44 L60.5291 995.07 L52.219 996.737 L52.219 992.478 L60.4828 990.811 L65.1587 990.811 L65.1587 1021.44 L72.7976 1021.44 L72.7976 1025.37 L52.8903 1025.37 L52.8903 1021.44 Z\" fill=\"#000000\" fill-rule=\"evenodd\" fill-opacity=\"1\" /><path clip-path=\"url(#clip270)\" d=\"M83.0521 1021.44 L90.691 1021.44 L90.691 995.07 L82.3808 996.737 L82.3808 992.478 L90.6447 990.811 L95.3206 990.811 L95.3206 1021.44 L102.959 1021.44 L102.959 1025.37 L83.0521 1025.37 L83.0521 1021.44 Z\" fill=\"#000000\" fill-rule=\"evenodd\" fill-opacity=\"1\" /><path clip-path=\"url(#clip270)\" d=\"M53.2606 939.392 L60.8995 939.392 L60.8995 913.026 L52.5893 914.693 L52.5893 910.434 L60.8532 908.767 L65.5291 908.767 L65.5291 939.392 L73.1679 939.392 L73.1679 943.327 L53.2606 943.327 L53.2606 939.392 Z\" fill=\"#000000\" fill-rule=\"evenodd\" fill-opacity=\"1\" /><path clip-path=\"url(#clip270)\" d=\"M86.6401 939.392 L102.959 939.392 L102.959 943.327 L81.0151 943.327 L81.0151 939.392 Q83.6771 936.637 88.2604 932.008 Q92.8669 927.355 94.0475 926.013 Q96.2928 923.489 97.1724 921.753 Q98.0752 919.994 98.0752 918.304 Q98.0752 915.55 96.1308 913.813 Q94.2095 912.077 91.1077 912.077 Q88.9086 912.077 86.4549 912.841 Q84.0244 913.605 81.2466 915.156 L81.2466 910.434 Q84.0707 909.3 86.5243 908.721 Q88.978 908.142 91.0151 908.142 Q96.3854 908.142 99.5798 910.827 Q102.774 913.513 102.774 918.003 Q102.774 920.133 101.964 922.054 Q101.177 923.952 99.0706 926.545 Q98.4919 927.216 95.39 930.434 Q92.2882 933.628 86.6401 939.392 Z\" fill=\"#000000\" fill-rule=\"evenodd\" fill-opacity=\"1\" /><circle clip-path=\"url(#clip274)\" cx=\"741.499\" cy=\"1298.53\" r=\"14.4\" fill=\"#009af9\" fill-rule=\"evenodd\" fill-opacity=\"1\" stroke=\"#000000\" stroke-opacity=\"1\" stroke-width=\"3.2\"/>\n",
       "<circle clip-path=\"url(#clip274)\" cx=\"550.216\" cy=\"1355.14\" r=\"14.4\" fill=\"#009af9\" fill-rule=\"evenodd\" fill-opacity=\"1\" stroke=\"#000000\" stroke-opacity=\"1\" stroke-width=\"3.2\"/>\n",
       "<circle clip-path=\"url(#clip274)\" cx=\"1028.42\" cy=\"865.335\" r=\"14.4\" fill=\"#009af9\" fill-rule=\"evenodd\" fill-opacity=\"1\" stroke=\"#000000\" stroke-opacity=\"1\" stroke-width=\"3.2\"/>\n",
       "<circle clip-path=\"url(#clip274)\" cx=\"645.858\" cy=\"1327.24\" r=\"14.4\" fill=\"#009af9\" fill-rule=\"evenodd\" fill-opacity=\"1\" stroke=\"#000000\" stroke-opacity=\"1\" stroke-width=\"3.2\"/>\n",
       "<circle clip-path=\"url(#clip274)\" cx=\"837.14\" cy=\"1269.81\" r=\"14.4\" fill=\"#009af9\" fill-rule=\"evenodd\" fill-opacity=\"1\" stroke=\"#000000\" stroke-opacity=\"1\" stroke-width=\"3.2\"/>\n",
       "<circle clip-path=\"url(#clip274)\" cx=\"1124.06\" cy=\"1185.31\" r=\"14.4\" fill=\"#009af9\" fill-rule=\"evenodd\" fill-opacity=\"1\" stroke=\"#000000\" stroke-opacity=\"1\" stroke-width=\"3.2\"/>\n",
       "<circle clip-path=\"url(#clip274)\" cx=\"358.934\" cy=\"1411.75\" r=\"14.4\" fill=\"#009af9\" fill-rule=\"evenodd\" fill-opacity=\"1\" stroke=\"#000000\" stroke-opacity=\"1\" stroke-width=\"3.2\"/>\n",
       "<circle clip-path=\"url(#clip274)\" cx=\"167.652\" cy=\"1468.36\" r=\"14.4\" fill=\"#009af9\" fill-rule=\"evenodd\" fill-opacity=\"1\" stroke=\"#000000\" stroke-opacity=\"1\" stroke-width=\"3.2\"/>\n",
       "<circle clip-path=\"url(#clip274)\" cx=\"932.781\" cy=\"1241.92\" r=\"14.4\" fill=\"#009af9\" fill-rule=\"evenodd\" fill-opacity=\"1\" stroke=\"#000000\" stroke-opacity=\"1\" stroke-width=\"3.2\"/>\n",
       "<circle clip-path=\"url(#clip274)\" cx=\"454.575\" cy=\"1383.85\" r=\"14.4\" fill=\"#009af9\" fill-rule=\"evenodd\" fill-opacity=\"1\" stroke=\"#000000\" stroke-opacity=\"1\" stroke-width=\"3.2\"/>\n",
       "<circle clip-path=\"url(#clip274)\" cx=\"263.293\" cy=\"1440.46\" r=\"14.4\" fill=\"#009af9\" fill-rule=\"evenodd\" fill-opacity=\"1\" stroke=\"#000000\" stroke-opacity=\"1\" stroke-width=\"3.2\"/>\n",
       "<path clip-path=\"url(#clip270)\" d=\"\n",
       "M1338.96 1486.45 L2352.76 1486.45 L2352.76 847.244 L1338.96 847.244  Z\n",
       "  \" fill=\"#ffffff\" fill-rule=\"evenodd\" fill-opacity=\"1\"/>\n",
       "<defs>\n",
       "  <clipPath id=\"clip275\">\n",
       "    <rect x=\"1338\" y=\"847\" width=\"1015\" height=\"640\"/>\n",
       "  </clipPath>\n",
       "</defs>\n",
       "<polyline clip-path=\"url(#clip275)\" style=\"stroke:#000000; stroke-linecap:butt; stroke-linejoin:round; stroke-width:2; stroke-opacity:0.1; fill:none\" points=\"\n",
       "  1541.54,1486.45 1541.54,847.244 \n",
       "  \"/>\n",
       "<polyline clip-path=\"url(#clip275)\" style=\"stroke:#000000; stroke-linecap:butt; stroke-linejoin:round; stroke-width:2; stroke-opacity:0.1; fill:none\" points=\"\n",
       "  1758.91,1486.45 1758.91,847.244 \n",
       "  \"/>\n",
       "<polyline clip-path=\"url(#clip275)\" style=\"stroke:#000000; stroke-linecap:butt; stroke-linejoin:round; stroke-width:2; stroke-opacity:0.1; fill:none\" points=\"\n",
       "  1976.28,1486.45 1976.28,847.244 \n",
       "  \"/>\n",
       "<polyline clip-path=\"url(#clip275)\" style=\"stroke:#000000; stroke-linecap:butt; stroke-linejoin:round; stroke-width:2; stroke-opacity:0.1; fill:none\" points=\"\n",
       "  2193.64,1486.45 2193.64,847.244 \n",
       "  \"/>\n",
       "<polyline clip-path=\"url(#clip270)\" style=\"stroke:#000000; stroke-linecap:butt; stroke-linejoin:round; stroke-width:4; stroke-opacity:1; fill:none\" points=\"\n",
       "  1338.96,1486.45 2352.76,1486.45 \n",
       "  \"/>\n",
       "<polyline clip-path=\"url(#clip270)\" style=\"stroke:#000000; stroke-linecap:butt; stroke-linejoin:round; stroke-width:4; stroke-opacity:1; fill:none\" points=\"\n",
       "  1541.54,1486.45 1541.54,1467.55 \n",
       "  \"/>\n",
       "<polyline clip-path=\"url(#clip270)\" style=\"stroke:#000000; stroke-linecap:butt; stroke-linejoin:round; stroke-width:4; stroke-opacity:1; fill:none\" points=\"\n",
       "  1758.91,1486.45 1758.91,1467.55 \n",
       "  \"/>\n",
       "<polyline clip-path=\"url(#clip270)\" style=\"stroke:#000000; stroke-linecap:butt; stroke-linejoin:round; stroke-width:4; stroke-opacity:1; fill:none\" points=\"\n",
       "  1976.28,1486.45 1976.28,1467.55 \n",
       "  \"/>\n",
       "<polyline clip-path=\"url(#clip270)\" style=\"stroke:#000000; stroke-linecap:butt; stroke-linejoin:round; stroke-width:4; stroke-opacity:1; fill:none\" points=\"\n",
       "  2193.64,1486.45 2193.64,1467.55 \n",
       "  \"/>\n",
       "<path clip-path=\"url(#clip270)\" d=\"M1493.62 1544.91 L1501.26 1544.91 L1501.26 1518.55 L1492.95 1520.21 L1492.95 1515.95 L1501.21 1514.29 L1505.89 1514.29 L1505.89 1544.91 L1513.52 1544.91 L1513.52 1548.85 L1493.62 1548.85 L1493.62 1544.91 Z\" fill=\"#000000\" fill-rule=\"evenodd\" fill-opacity=\"1\" /><path clip-path=\"url(#clip270)\" d=\"M1532.97 1517.37 Q1529.36 1517.37 1527.53 1520.93 Q1525.72 1524.47 1525.72 1531.6 Q1525.72 1538.71 1527.53 1542.27 Q1529.36 1545.82 1532.97 1545.82 Q1536.6 1545.82 1538.41 1542.27 Q1540.24 1538.71 1540.24 1531.6 Q1540.24 1524.47 1538.41 1520.93 Q1536.6 1517.37 1532.97 1517.37 M1532.97 1513.66 Q1538.78 1513.66 1541.83 1518.27 Q1544.91 1522.85 1544.91 1531.6 Q1544.91 1540.33 1541.83 1544.94 Q1538.78 1549.52 1532.97 1549.52 Q1527.16 1549.52 1524.08 1544.94 Q1521.02 1540.33 1521.02 1531.6 Q1521.02 1522.85 1524.08 1518.27 Q1527.16 1513.66 1532.97 1513.66 Z\" fill=\"#000000\" fill-rule=\"evenodd\" fill-opacity=\"1\" /><path clip-path=\"url(#clip270)\" d=\"M1553.13 1542.97 L1558.01 1542.97 L1558.01 1548.85 L1553.13 1548.85 L1553.13 1542.97 Z\" fill=\"#000000\" fill-rule=\"evenodd\" fill-opacity=\"1\" /><path clip-path=\"url(#clip270)\" d=\"M1578.2 1517.37 Q1574.59 1517.37 1572.76 1520.93 Q1570.95 1524.47 1570.95 1531.6 Q1570.95 1538.71 1572.76 1542.27 Q1574.59 1545.82 1578.2 1545.82 Q1581.83 1545.82 1583.64 1542.27 Q1585.47 1538.71 1585.47 1531.6 Q1585.47 1524.47 1583.64 1520.93 Q1581.83 1517.37 1578.2 1517.37 M1578.2 1513.66 Q1584.01 1513.66 1587.07 1518.27 Q1590.14 1522.85 1590.14 1531.6 Q1590.14 1540.33 1587.07 1544.94 Q1584.01 1549.52 1578.2 1549.52 Q1572.39 1549.52 1569.31 1544.94 Q1566.26 1540.33 1566.26 1531.6 Q1566.26 1522.85 1569.31 1518.27 Q1572.39 1513.66 1578.2 1513.66 Z\" fill=\"#000000\" fill-rule=\"evenodd\" fill-opacity=\"1\" /><path clip-path=\"url(#clip270)\" d=\"M1711.48 1544.91 L1719.12 1544.91 L1719.12 1518.55 L1710.81 1520.21 L1710.81 1515.95 L1719.07 1514.29 L1723.75 1514.29 L1723.75 1544.91 L1731.39 1544.91 L1731.39 1548.85 L1711.48 1548.85 L1711.48 1544.91 Z\" fill=\"#000000\" fill-rule=\"evenodd\" fill-opacity=\"1\" /><path clip-path=\"url(#clip270)\" d=\"M1744.86 1544.91 L1761.18 1544.91 L1761.18 1548.85 L1739.24 1548.85 L1739.24 1544.91 Q1741.9 1542.16 1746.48 1537.53 Q1751.09 1532.88 1752.27 1531.53 Q1754.51 1529.01 1755.39 1527.27 Q1756.3 1525.51 1756.3 1523.82 Q1756.3 1521.07 1754.35 1519.33 Q1752.43 1517.6 1749.33 1517.6 Q1747.13 1517.6 1744.68 1518.36 Q1742.24 1519.13 1739.47 1520.68 L1739.47 1515.95 Q1742.29 1514.82 1744.74 1514.24 Q1747.2 1513.66 1749.24 1513.66 Q1754.61 1513.66 1757.8 1516.35 Q1760.99 1519.03 1760.99 1523.52 Q1760.99 1525.65 1760.18 1527.57 Q1759.4 1529.47 1757.29 1532.07 Q1756.71 1532.74 1753.61 1535.95 Q1750.51 1539.15 1744.86 1544.91 Z\" fill=\"#000000\" fill-rule=\"evenodd\" fill-opacity=\"1\" /><path clip-path=\"url(#clip270)\" d=\"M1770.99 1542.97 L1775.88 1542.97 L1775.88 1548.85 L1770.99 1548.85 L1770.99 1542.97 Z\" fill=\"#000000\" fill-rule=\"evenodd\" fill-opacity=\"1\" /><path clip-path=\"url(#clip270)\" d=\"M1786.11 1514.29 L1804.47 1514.29 L1804.47 1518.22 L1790.39 1518.22 L1790.39 1526.7 Q1791.41 1526.35 1792.43 1526.19 Q1793.45 1526 1794.47 1526 Q1800.25 1526 1803.63 1529.17 Q1807.01 1532.34 1807.01 1537.76 Q1807.01 1543.34 1803.54 1546.44 Q1800.07 1549.52 1793.75 1549.52 Q1791.57 1549.52 1789.3 1549.15 Q1787.06 1548.78 1784.65 1548.04 L1784.65 1543.34 Q1786.74 1544.47 1788.96 1545.03 Q1791.18 1545.58 1793.66 1545.58 Q1797.66 1545.58 1800 1543.48 Q1802.34 1541.37 1802.34 1537.76 Q1802.34 1534.15 1800 1532.04 Q1797.66 1529.94 1793.66 1529.94 Q1791.78 1529.94 1789.91 1530.35 Q1788.05 1530.77 1786.11 1531.65 L1786.11 1514.29 Z\" fill=\"#000000\" fill-rule=\"evenodd\" fill-opacity=\"1\" /><path clip-path=\"url(#clip270)\" d=\"M1928.35 1544.91 L1935.99 1544.91 L1935.99 1518.55 L1927.68 1520.21 L1927.68 1515.95 L1935.94 1514.29 L1940.62 1514.29 L1940.62 1544.91 L1948.26 1544.91 L1948.26 1548.85 L1928.35 1548.85 L1928.35 1544.91 Z\" fill=\"#000000\" fill-rule=\"evenodd\" fill-opacity=\"1\" /><path clip-path=\"url(#clip270)\" d=\"M1957.75 1514.29 L1976.1 1514.29 L1976.1 1518.22 L1962.03 1518.22 L1962.03 1526.7 Q1963.05 1526.35 1964.07 1526.19 Q1965.09 1526 1966.1 1526 Q1971.89 1526 1975.27 1529.17 Q1978.65 1532.34 1978.65 1537.76 Q1978.65 1543.34 1975.18 1546.44 Q1971.71 1549.52 1965.39 1549.52 Q1963.21 1549.52 1960.94 1549.15 Q1958.7 1548.78 1956.29 1548.04 L1956.29 1543.34 Q1958.37 1544.47 1960.59 1545.03 Q1962.82 1545.58 1965.29 1545.58 Q1969.3 1545.58 1971.64 1543.48 Q1973.97 1541.37 1973.97 1537.76 Q1973.97 1534.15 1971.64 1532.04 Q1969.3 1529.94 1965.29 1529.94 Q1963.42 1529.94 1961.54 1530.35 Q1959.69 1530.77 1957.75 1531.65 L1957.75 1514.29 Z\" fill=\"#000000\" fill-rule=\"evenodd\" fill-opacity=\"1\" /><path clip-path=\"url(#clip270)\" d=\"M1987.86 1542.97 L1992.75 1542.97 L1992.75 1548.85 L1987.86 1548.85 L1987.86 1542.97 Z\" fill=\"#000000\" fill-rule=\"evenodd\" fill-opacity=\"1\" /><path clip-path=\"url(#clip270)\" d=\"M2012.93 1517.37 Q2009.32 1517.37 2007.49 1520.93 Q2005.69 1524.47 2005.69 1531.6 Q2005.69 1538.71 2007.49 1542.27 Q2009.32 1545.82 2012.93 1545.82 Q2016.57 1545.82 2018.37 1542.27 Q2020.2 1538.71 2020.2 1531.6 Q2020.2 1524.47 2018.37 1520.93 Q2016.57 1517.37 2012.93 1517.37 M2012.93 1513.66 Q2018.74 1513.66 2021.8 1518.27 Q2024.88 1522.85 2024.88 1531.6 Q2024.88 1540.33 2021.8 1544.94 Q2018.74 1549.52 2012.93 1549.52 Q2007.12 1549.52 2004.04 1544.94 Q2000.99 1540.33 2000.99 1531.6 Q2000.99 1522.85 2004.04 1518.27 Q2007.12 1513.66 2012.93 1513.66 Z\" fill=\"#000000\" fill-rule=\"evenodd\" fill-opacity=\"1\" /><path clip-path=\"url(#clip270)\" d=\"M2146.21 1544.91 L2153.85 1544.91 L2153.85 1518.55 L2145.54 1520.21 L2145.54 1515.95 L2153.81 1514.29 L2158.48 1514.29 L2158.48 1544.91 L2166.12 1544.91 L2166.12 1548.85 L2146.21 1548.85 L2146.21 1544.91 Z\" fill=\"#000000\" fill-rule=\"evenodd\" fill-opacity=\"1\" /><path clip-path=\"url(#clip270)\" d=\"M2174.38 1514.29 L2196.61 1514.29 L2196.61 1516.28 L2184.06 1548.85 L2179.18 1548.85 L2190.98 1518.22 L2174.38 1518.22 L2174.38 1514.29 Z\" fill=\"#000000\" fill-rule=\"evenodd\" fill-opacity=\"1\" /><path clip-path=\"url(#clip270)\" d=\"M2205.73 1542.97 L2210.61 1542.97 L2210.61 1548.85 L2205.73 1548.85 L2205.73 1542.97 Z\" fill=\"#000000\" fill-rule=\"evenodd\" fill-opacity=\"1\" /><path clip-path=\"url(#clip270)\" d=\"M2220.84 1514.29 L2239.2 1514.29 L2239.2 1518.22 L2225.13 1518.22 L2225.13 1526.7 Q2226.14 1526.35 2227.16 1526.19 Q2228.18 1526 2229.2 1526 Q2234.99 1526 2238.37 1529.17 Q2241.75 1532.34 2241.75 1537.76 Q2241.75 1543.34 2238.27 1546.44 Q2234.8 1549.52 2228.48 1549.52 Q2226.31 1549.52 2224.04 1549.15 Q2221.79 1548.78 2219.38 1548.04 L2219.38 1543.34 Q2221.47 1544.47 2223.69 1545.03 Q2225.91 1545.58 2228.39 1545.58 Q2232.39 1545.58 2234.73 1543.48 Q2237.07 1541.37 2237.07 1537.76 Q2237.07 1534.15 2234.73 1532.04 Q2232.39 1529.94 2228.39 1529.94 Q2226.51 1529.94 2224.64 1530.35 Q2222.79 1530.77 2220.84 1531.65 L2220.84 1514.29 Z\" fill=\"#000000\" fill-rule=\"evenodd\" fill-opacity=\"1\" /><polyline clip-path=\"url(#clip275)\" style=\"stroke:#000000; stroke-linecap:butt; stroke-linejoin:round; stroke-width:2; stroke-opacity:0.1; fill:none\" points=\"\n",
       "  1338.96,1405.98 2352.76,1405.98 \n",
       "  \"/>\n",
       "<polyline clip-path=\"url(#clip275)\" style=\"stroke:#000000; stroke-linecap:butt; stroke-linejoin:round; stroke-width:2; stroke-opacity:0.1; fill:none\" points=\"\n",
       "  1338.96,1322.8 2352.76,1322.8 \n",
       "  \"/>\n",
       "<polyline clip-path=\"url(#clip275)\" style=\"stroke:#000000; stroke-linecap:butt; stroke-linejoin:round; stroke-width:2; stroke-opacity:0.1; fill:none\" points=\"\n",
       "  1338.96,1239.62 2352.76,1239.62 \n",
       "  \"/>\n",
       "<polyline clip-path=\"url(#clip275)\" style=\"stroke:#000000; stroke-linecap:butt; stroke-linejoin:round; stroke-width:2; stroke-opacity:0.1; fill:none\" points=\"\n",
       "  1338.96,1156.45 2352.76,1156.45 \n",
       "  \"/>\n",
       "<polyline clip-path=\"url(#clip275)\" style=\"stroke:#000000; stroke-linecap:butt; stroke-linejoin:round; stroke-width:2; stroke-opacity:0.1; fill:none\" points=\"\n",
       "  1338.96,1073.27 2352.76,1073.27 \n",
       "  \"/>\n",
       "<polyline clip-path=\"url(#clip275)\" style=\"stroke:#000000; stroke-linecap:butt; stroke-linejoin:round; stroke-width:2; stroke-opacity:0.1; fill:none\" points=\"\n",
       "  1338.96,990.098 2352.76,990.098 \n",
       "  \"/>\n",
       "<polyline clip-path=\"url(#clip275)\" style=\"stroke:#000000; stroke-linecap:butt; stroke-linejoin:round; stroke-width:2; stroke-opacity:0.1; fill:none\" points=\"\n",
       "  1338.96,906.923 2352.76,906.923 \n",
       "  \"/>\n",
       "<polyline clip-path=\"url(#clip270)\" style=\"stroke:#000000; stroke-linecap:butt; stroke-linejoin:round; stroke-width:4; stroke-opacity:1; fill:none\" points=\"\n",
       "  1338.96,1486.45 1338.96,847.244 \n",
       "  \"/>\n",
       "<polyline clip-path=\"url(#clip270)\" style=\"stroke:#000000; stroke-linecap:butt; stroke-linejoin:round; stroke-width:4; stroke-opacity:1; fill:none\" points=\"\n",
       "  1338.96,1405.98 1357.86,1405.98 \n",
       "  \"/>\n",
       "<polyline clip-path=\"url(#clip270)\" style=\"stroke:#000000; stroke-linecap:butt; stroke-linejoin:round; stroke-width:4; stroke-opacity:1; fill:none\" points=\"\n",
       "  1338.96,1322.8 1357.86,1322.8 \n",
       "  \"/>\n",
       "<polyline clip-path=\"url(#clip270)\" style=\"stroke:#000000; stroke-linecap:butt; stroke-linejoin:round; stroke-width:4; stroke-opacity:1; fill:none\" points=\"\n",
       "  1338.96,1239.62 1357.86,1239.62 \n",
       "  \"/>\n",
       "<polyline clip-path=\"url(#clip270)\" style=\"stroke:#000000; stroke-linecap:butt; stroke-linejoin:round; stroke-width:4; stroke-opacity:1; fill:none\" points=\"\n",
       "  1338.96,1156.45 1357.86,1156.45 \n",
       "  \"/>\n",
       "<polyline clip-path=\"url(#clip270)\" style=\"stroke:#000000; stroke-linecap:butt; stroke-linejoin:round; stroke-width:4; stroke-opacity:1; fill:none\" points=\"\n",
       "  1338.96,1073.27 1357.86,1073.27 \n",
       "  \"/>\n",
       "<polyline clip-path=\"url(#clip270)\" style=\"stroke:#000000; stroke-linecap:butt; stroke-linejoin:round; stroke-width:4; stroke-opacity:1; fill:none\" points=\"\n",
       "  1338.96,990.098 1357.86,990.098 \n",
       "  \"/>\n",
       "<polyline clip-path=\"url(#clip270)\" style=\"stroke:#000000; stroke-linecap:butt; stroke-linejoin:round; stroke-width:4; stroke-opacity:1; fill:none\" points=\"\n",
       "  1338.96,906.923 1357.86,906.923 \n",
       "  \"/>\n",
       "<path clip-path=\"url(#clip270)\" d=\"M1291.43 1404.11 Q1288.28 1404.11 1286.43 1406.26 Q1284.6 1408.42 1284.6 1412.17 Q1284.6 1415.89 1286.43 1418.07 Q1288.28 1420.22 1291.43 1420.22 Q1294.58 1420.22 1296.41 1418.07 Q1298.26 1415.89 1298.26 1412.17 Q1298.26 1408.42 1296.41 1406.26 Q1294.58 1404.11 1291.43 1404.11 M1300.71 1389.46 L1300.71 1393.72 Q1298.95 1392.89 1297.15 1392.45 Q1295.37 1392.01 1293.61 1392.01 Q1288.98 1392.01 1286.52 1395.13 Q1284.09 1398.26 1283.75 1404.58 Q1285.11 1402.56 1287.17 1401.5 Q1289.23 1400.41 1291.71 1400.41 Q1296.92 1400.41 1299.93 1403.58 Q1302.96 1406.73 1302.96 1412.17 Q1302.96 1417.49 1299.81 1420.71 Q1296.66 1423.93 1291.43 1423.93 Q1285.44 1423.93 1282.27 1419.34 Q1279.09 1414.74 1279.09 1406.01 Q1279.09 1397.82 1282.98 1392.95 Q1286.87 1388.07 1293.42 1388.07 Q1295.18 1388.07 1296.96 1388.42 Q1298.77 1388.77 1300.71 1389.46 Z\" fill=\"#000000\" fill-rule=\"evenodd\" fill-opacity=\"1\" /><path clip-path=\"url(#clip270)\" d=\"M1280.74 1305.52 L1302.96 1305.52 L1302.96 1307.51 L1290.41 1340.08 L1285.53 1340.08 L1297.33 1309.46 L1280.74 1309.46 L1280.74 1305.52 Z\" fill=\"#000000\" fill-rule=\"evenodd\" fill-opacity=\"1\" /><path clip-path=\"url(#clip270)\" d=\"M1291.11 1240.49 Q1287.77 1240.49 1285.85 1242.28 Q1283.95 1244.06 1283.95 1247.18 Q1283.95 1250.31 1285.85 1252.09 Q1287.77 1253.87 1291.11 1253.87 Q1294.44 1253.87 1296.36 1252.09 Q1298.28 1250.28 1298.28 1247.18 Q1298.28 1244.06 1296.36 1242.28 Q1294.46 1240.49 1291.11 1240.49 M1286.43 1238.5 Q1283.42 1237.76 1281.73 1235.7 Q1280.07 1233.64 1280.07 1230.68 Q1280.07 1226.53 1283.01 1224.13 Q1285.97 1221.72 1291.11 1221.72 Q1296.27 1221.72 1299.21 1224.13 Q1302.15 1226.53 1302.15 1230.68 Q1302.15 1233.64 1300.46 1235.7 Q1298.79 1237.76 1295.81 1238.5 Q1299.19 1239.29 1301.06 1241.58 Q1302.96 1243.87 1302.96 1247.18 Q1302.96 1252.21 1299.88 1254.89 Q1296.83 1257.58 1291.11 1257.58 Q1285.39 1257.58 1282.31 1254.89 Q1279.26 1252.21 1279.26 1247.18 Q1279.26 1243.87 1281.15 1241.58 Q1283.05 1239.29 1286.43 1238.5 M1284.72 1231.12 Q1284.72 1233.8 1286.39 1235.31 Q1288.08 1236.81 1291.11 1236.81 Q1294.12 1236.81 1295.81 1235.31 Q1297.52 1233.8 1297.52 1231.12 Q1297.52 1228.43 1295.81 1226.93 Q1294.12 1225.42 1291.11 1225.42 Q1288.08 1225.42 1286.39 1226.93 Q1284.72 1228.43 1284.72 1231.12 Z\" fill=\"#000000\" fill-rule=\"evenodd\" fill-opacity=\"1\" /><path clip-path=\"url(#clip270)\" d=\"M1281.34 1173.01 L1281.34 1168.75 Q1283.1 1169.59 1284.9 1170.03 Q1286.71 1170.47 1288.45 1170.47 Q1293.08 1170.47 1295.51 1167.36 Q1297.96 1164.24 1298.31 1157.9 Q1296.96 1159.89 1294.9 1160.95 Q1292.84 1162.02 1290.34 1162.02 Q1285.16 1162.02 1282.13 1158.89 Q1279.12 1155.74 1279.12 1150.3 Q1279.12 1144.98 1282.27 1141.76 Q1285.41 1138.54 1290.64 1138.54 Q1296.64 1138.54 1299.79 1143.15 Q1302.96 1147.73 1302.96 1156.48 Q1302.96 1164.66 1299.07 1169.54 Q1295.2 1174.4 1288.65 1174.4 Q1286.89 1174.4 1285.09 1174.05 Q1283.28 1173.71 1281.34 1173.01 M1290.64 1158.36 Q1293.79 1158.36 1295.62 1156.21 Q1297.47 1154.05 1297.47 1150.3 Q1297.47 1146.58 1295.62 1144.42 Q1293.79 1142.25 1290.64 1142.25 Q1287.5 1142.25 1285.64 1144.42 Q1283.82 1146.58 1283.82 1150.3 Q1283.82 1154.05 1285.64 1156.21 Q1287.5 1158.36 1290.64 1158.36 Z\" fill=\"#000000\" fill-rule=\"evenodd\" fill-opacity=\"1\" /><path clip-path=\"url(#clip270)\" d=\"M1251.66 1086.62 L1259.3 1086.62 L1259.3 1060.25 L1250.99 1061.92 L1250.99 1057.66 L1259.26 1055.99 L1263.93 1055.99 L1263.93 1086.62 L1271.57 1086.62 L1271.57 1090.55 L1251.66 1090.55 L1251.66 1086.62 Z\" fill=\"#000000\" fill-rule=\"evenodd\" fill-opacity=\"1\" /><path clip-path=\"url(#clip270)\" d=\"M1291.02 1059.07 Q1287.4 1059.07 1285.58 1062.64 Q1283.77 1066.18 1283.77 1073.31 Q1283.77 1080.41 1285.58 1083.98 Q1287.4 1087.52 1291.02 1087.52 Q1294.65 1087.52 1296.45 1083.98 Q1298.28 1080.41 1298.28 1073.31 Q1298.28 1066.18 1296.45 1062.64 Q1294.65 1059.07 1291.02 1059.07 M1291.02 1055.37 Q1296.83 1055.37 1299.88 1059.97 Q1302.96 1064.56 1302.96 1073.31 Q1302.96 1082.04 1299.88 1086.64 Q1296.83 1091.22 1291.02 1091.22 Q1285.2 1091.22 1282.13 1086.64 Q1279.07 1082.04 1279.07 1073.31 Q1279.07 1064.56 1282.13 1059.97 Q1285.2 1055.37 1291.02 1055.37 Z\" fill=\"#000000\" fill-rule=\"evenodd\" fill-opacity=\"1\" /><path clip-path=\"url(#clip270)\" d=\"M1252.89 1003.44 L1260.53 1003.44 L1260.53 977.077 L1252.22 978.744 L1252.22 974.485 L1260.48 972.818 L1265.16 972.818 L1265.16 1003.44 L1272.8 1003.44 L1272.8 1007.38 L1252.89 1007.38 L1252.89 1003.44 Z\" fill=\"#000000\" fill-rule=\"evenodd\" fill-opacity=\"1\" /><path clip-path=\"url(#clip270)\" d=\"M1283.05 1003.44 L1290.69 1003.44 L1290.69 977.077 L1282.38 978.744 L1282.38 974.485 L1290.64 972.818 L1295.32 972.818 L1295.32 1003.44 L1302.96 1003.44 L1302.96 1007.38 L1283.05 1007.38 L1283.05 1003.44 Z\" fill=\"#000000\" fill-rule=\"evenodd\" fill-opacity=\"1\" /><path clip-path=\"url(#clip270)\" d=\"M1253.26 920.267 L1260.9 920.267 L1260.9 893.902 L1252.59 895.568 L1252.59 891.309 L1260.85 889.643 L1265.53 889.643 L1265.53 920.267 L1273.17 920.267 L1273.17 924.203 L1253.26 924.203 L1253.26 920.267 Z\" fill=\"#000000\" fill-rule=\"evenodd\" fill-opacity=\"1\" /><path clip-path=\"url(#clip270)\" d=\"M1286.64 920.267 L1302.96 920.267 L1302.96 924.203 L1281.02 924.203 L1281.02 920.267 Q1283.68 917.513 1288.26 912.883 Q1292.87 908.23 1294.05 906.888 Q1296.29 904.365 1297.17 902.629 Q1298.08 900.869 1298.08 899.18 Q1298.08 896.425 1296.13 894.689 Q1294.21 892.953 1291.11 892.953 Q1288.91 892.953 1286.45 893.717 Q1284.02 894.48 1281.25 896.031 L1281.25 891.309 Q1284.07 890.175 1286.52 889.596 Q1288.98 889.018 1291.02 889.018 Q1296.39 889.018 1299.58 891.703 Q1302.77 894.388 1302.77 898.879 Q1302.77 901.008 1301.96 902.929 Q1301.18 904.828 1299.07 907.42 Q1298.49 908.091 1295.39 911.309 Q1292.29 914.503 1286.64 920.267 Z\" fill=\"#000000\" fill-rule=\"evenodd\" fill-opacity=\"1\" /><circle clip-path=\"url(#clip275)\" cx=\"1367.65\" cy=\"1357.73\" r=\"14.4\" fill=\"#009af9\" fill-rule=\"evenodd\" fill-opacity=\"1\" stroke=\"#000000\" stroke-opacity=\"1\" stroke-width=\"3.2\"/>\n",
       "<circle clip-path=\"url(#clip275)\" cx=\"1367.65\" cy=\"1425.94\" r=\"14.4\" fill=\"#009af9\" fill-rule=\"evenodd\" fill-opacity=\"1\" stroke=\"#000000\" stroke-opacity=\"1\" stroke-width=\"3.2\"/>\n",
       "<circle clip-path=\"url(#clip275)\" cx=\"1367.65\" cy=\"1263.75\" r=\"14.4\" fill=\"#009af9\" fill-rule=\"evenodd\" fill-opacity=\"1\" stroke=\"#000000\" stroke-opacity=\"1\" stroke-width=\"3.2\"/>\n",
       "<circle clip-path=\"url(#clip275)\" cx=\"1367.65\" cy=\"1169.76\" r=\"14.4\" fill=\"#009af9\" fill-rule=\"evenodd\" fill-opacity=\"1\" stroke=\"#000000\" stroke-opacity=\"1\" stroke-width=\"3.2\"/>\n",
       "<circle clip-path=\"url(#clip275)\" cx=\"1367.65\" cy=\"1200.53\" r=\"14.4\" fill=\"#009af9\" fill-rule=\"evenodd\" fill-opacity=\"1\" stroke=\"#000000\" stroke-opacity=\"1\" stroke-width=\"3.2\"/>\n",
       "<circle clip-path=\"url(#clip275)\" cx=\"1367.65\" cy=\"1319.47\" r=\"14.4\" fill=\"#009af9\" fill-rule=\"evenodd\" fill-opacity=\"1\" stroke=\"#000000\" stroke-opacity=\"1\" stroke-width=\"3.2\"/>\n",
       "<circle clip-path=\"url(#clip275)\" cx=\"1367.65\" cy=\"1468.36\" r=\"14.4\" fill=\"#009af9\" fill-rule=\"evenodd\" fill-opacity=\"1\" stroke=\"#000000\" stroke-opacity=\"1\" stroke-width=\"3.2\"/>\n",
       "<circle clip-path=\"url(#clip275)\" cx=\"2324.06\" cy=\"865.335\" r=\"14.4\" fill=\"#009af9\" fill-rule=\"evenodd\" fill-opacity=\"1\" stroke=\"#000000\" stroke-opacity=\"1\" stroke-width=\"3.2\"/>\n",
       "<circle clip-path=\"url(#clip275)\" cx=\"1367.65\" cy=\"1442.57\" r=\"14.4\" fill=\"#009af9\" fill-rule=\"evenodd\" fill-opacity=\"1\" stroke=\"#000000\" stroke-opacity=\"1\" stroke-width=\"3.2\"/>\n",
       "<circle clip-path=\"url(#clip275)\" cx=\"1367.65\" cy=\"1247.11\" r=\"14.4\" fill=\"#009af9\" fill-rule=\"evenodd\" fill-opacity=\"1\" stroke=\"#000000\" stroke-opacity=\"1\" stroke-width=\"3.2\"/>\n",
       "<circle clip-path=\"url(#clip275)\" cx=\"1367.65\" cy=\"1331.95\" r=\"14.4\" fill=\"#009af9\" fill-rule=\"evenodd\" fill-opacity=\"1\" stroke=\"#000000\" stroke-opacity=\"1\" stroke-width=\"3.2\"/>\n",
       "</svg>\n"
      ]
     },
     "execution_count": 44,
     "metadata": {},
     "output_type": "execute_result"
    }
   ],
   "source": [
    "plot(scatter(aq[:, 1], aq[:, 2]; legend=false),\n",
    "     scatter(aq[:, 3], aq[:, 4]; legend=false),\n",
    "     scatter(aq[:, 5], aq[:, 6]; legend=false),\n",
    "     scatter(aq[:, 7], aq[:, 8]; legend=false))"
   ]
  },
  {
   "cell_type": "code",
   "execution_count": 45,
   "id": "b87b23ff",
   "metadata": {},
   "outputs": [
    {
     "data": {
      "image/svg+xml": [
       "<?xml version=\"1.0\" encoding=\"utf-8\"?>\n",
       "<svg xmlns=\"http://www.w3.org/2000/svg\" xmlns:xlink=\"http://www.w3.org/1999/xlink\" width=\"600\" height=\"400\" viewBox=\"0 0 2400 1600\">\n",
       "<defs>\n",
       "  <clipPath id=\"clip310\">\n",
       "    <rect x=\"0\" y=\"0\" width=\"2400\" height=\"1600\"/>\n",
       "  </clipPath>\n",
       "</defs>\n",
       "<path clip-path=\"url(#clip310)\" d=\"\n",
       "M0 1600 L2400 1600 L2400 0 L0 0  Z\n",
       "  \" fill=\"#ffffff\" fill-rule=\"evenodd\" fill-opacity=\"1\"/>\n",
       "<defs>\n",
       "  <clipPath id=\"clip311\">\n",
       "    <rect x=\"480\" y=\"0\" width=\"1681\" height=\"1600\"/>\n",
       "  </clipPath>\n",
       "</defs>\n",
       "<path clip-path=\"url(#clip310)\" d=\"\n",
       "M138.959 686.448 L1152.76 686.448 L1152.76 47.2441 L138.959 47.2441  Z\n",
       "  \" fill=\"#ffffff\" fill-rule=\"evenodd\" fill-opacity=\"1\"/>\n",
       "<defs>\n",
       "  <clipPath id=\"clip312\">\n",
       "    <rect x=\"138\" y=\"47\" width=\"1015\" height=\"640\"/>\n",
       "  </clipPath>\n",
       "</defs>\n",
       "<polyline clip-path=\"url(#clip312)\" style=\"stroke:#000000; stroke-linecap:butt; stroke-linejoin:round; stroke-width:2; stroke-opacity:0.1; fill:none\" points=\"\n",
       "  263.293,686.448 263.293,47.2441 \n",
       "  \"/>\n",
       "<polyline clip-path=\"url(#clip312)\" style=\"stroke:#000000; stroke-linecap:butt; stroke-linejoin:round; stroke-width:2; stroke-opacity:0.1; fill:none\" points=\"\n",
       "  502.396,686.448 502.396,47.2441 \n",
       "  \"/>\n",
       "<polyline clip-path=\"url(#clip312)\" style=\"stroke:#000000; stroke-linecap:butt; stroke-linejoin:round; stroke-width:2; stroke-opacity:0.1; fill:none\" points=\"\n",
       "  741.499,686.448 741.499,47.2441 \n",
       "  \"/>\n",
       "<polyline clip-path=\"url(#clip312)\" style=\"stroke:#000000; stroke-linecap:butt; stroke-linejoin:round; stroke-width:2; stroke-opacity:0.1; fill:none\" points=\"\n",
       "  980.602,686.448 980.602,47.2441 \n",
       "  \"/>\n",
       "<polyline clip-path=\"url(#clip310)\" style=\"stroke:#000000; stroke-linecap:butt; stroke-linejoin:round; stroke-width:4; stroke-opacity:1; fill:none\" points=\"\n",
       "  138.959,686.448 1152.76,686.448 \n",
       "  \"/>\n",
       "<polyline clip-path=\"url(#clip310)\" style=\"stroke:#000000; stroke-linecap:butt; stroke-linejoin:round; stroke-width:4; stroke-opacity:1; fill:none\" points=\"\n",
       "  263.293,686.448 263.293,667.55 \n",
       "  \"/>\n",
       "<polyline clip-path=\"url(#clip310)\" style=\"stroke:#000000; stroke-linecap:butt; stroke-linejoin:round; stroke-width:4; stroke-opacity:1; fill:none\" points=\"\n",
       "  502.396,686.448 502.396,667.55 \n",
       "  \"/>\n",
       "<polyline clip-path=\"url(#clip310)\" style=\"stroke:#000000; stroke-linecap:butt; stroke-linejoin:round; stroke-width:4; stroke-opacity:1; fill:none\" points=\"\n",
       "  741.499,686.448 741.499,667.55 \n",
       "  \"/>\n",
       "<polyline clip-path=\"url(#clip310)\" style=\"stroke:#000000; stroke-linecap:butt; stroke-linejoin:round; stroke-width:4; stroke-opacity:1; fill:none\" points=\"\n",
       "  980.602,686.448 980.602,667.55 \n",
       "  \"/>\n",
       "<path clip-path=\"url(#clip310)\" d=\"M230.457 714.288 L248.814 714.288 L248.814 718.223 L234.74 718.223 L234.74 726.695 Q235.758 726.348 236.777 726.186 Q237.795 726.001 238.814 726.001 Q244.601 726.001 247.981 729.172 Q251.36 732.343 251.36 737.76 Q251.36 743.339 247.888 746.44 Q244.416 749.519 238.096 749.519 Q235.92 749.519 233.652 749.149 Q231.407 748.778 228.999 748.038 L228.999 743.339 Q231.082 744.473 233.305 745.028 Q235.527 745.584 238.004 745.584 Q242.008 745.584 244.346 743.478 Q246.684 741.371 246.684 737.76 Q246.684 734.149 244.346 732.042 Q242.008 729.936 238.004 729.936 Q236.129 729.936 234.254 730.353 Q232.402 730.769 230.457 731.649 L230.457 714.288 Z\" fill=\"#000000\" fill-rule=\"evenodd\" fill-opacity=\"1\" /><path clip-path=\"url(#clip310)\" d=\"M260.573 742.968 L265.457 742.968 L265.457 748.848 L260.573 748.848 L260.573 742.968 Z\" fill=\"#000000\" fill-rule=\"evenodd\" fill-opacity=\"1\" /><path clip-path=\"url(#clip310)\" d=\"M285.642 717.367 Q282.031 717.367 280.203 720.931 Q278.397 724.473 278.397 731.603 Q278.397 738.709 280.203 742.274 Q282.031 745.815 285.642 745.815 Q289.277 745.815 291.082 742.274 Q292.911 738.709 292.911 731.603 Q292.911 724.473 291.082 720.931 Q289.277 717.367 285.642 717.367 M285.642 713.663 Q291.453 713.663 294.508 718.269 Q297.587 722.853 297.587 731.603 Q297.587 740.329 294.508 744.936 Q291.453 749.519 285.642 749.519 Q279.832 749.519 276.754 744.936 Q273.698 740.329 273.698 731.603 Q273.698 722.853 276.754 718.269 Q279.832 713.663 285.642 713.663 Z\" fill=\"#000000\" fill-rule=\"evenodd\" fill-opacity=\"1\" /><path clip-path=\"url(#clip310)\" d=\"M468.716 714.288 L490.938 714.288 L490.938 716.279 L478.391 748.848 L473.507 748.848 L485.313 718.223 L468.716 718.223 L468.716 714.288 Z\" fill=\"#000000\" fill-rule=\"evenodd\" fill-opacity=\"1\" /><path clip-path=\"url(#clip310)\" d=\"M500.058 742.968 L504.942 742.968 L504.942 748.848 L500.058 748.848 L500.058 742.968 Z\" fill=\"#000000\" fill-rule=\"evenodd\" fill-opacity=\"1\" /><path clip-path=\"url(#clip310)\" d=\"M515.174 714.288 L533.53 714.288 L533.53 718.223 L519.456 718.223 L519.456 726.695 Q520.475 726.348 521.493 726.186 Q522.512 726.001 523.53 726.001 Q529.317 726.001 532.697 729.172 Q536.076 732.343 536.076 737.76 Q536.076 743.339 532.604 746.44 Q529.132 749.519 522.812 749.519 Q520.637 749.519 518.368 749.149 Q516.123 748.778 513.715 748.038 L513.715 743.339 Q515.799 744.473 518.021 745.028 Q520.243 745.584 522.72 745.584 Q526.724 745.584 529.062 743.478 Q531.4 741.371 531.4 737.76 Q531.4 734.149 529.062 732.042 Q526.724 729.936 522.72 729.936 Q520.845 729.936 518.97 730.353 Q517.118 730.769 515.174 731.649 L515.174 714.288 Z\" fill=\"#000000\" fill-rule=\"evenodd\" fill-opacity=\"1\" /><path clip-path=\"url(#clip310)\" d=\"M693.571 744.913 L701.21 744.913 L701.21 718.547 L692.9 720.214 L692.9 715.955 L701.163 714.288 L705.839 714.288 L705.839 744.913 L713.478 744.913 L713.478 748.848 L693.571 748.848 L693.571 744.913 Z\" fill=\"#000000\" fill-rule=\"evenodd\" fill-opacity=\"1\" /><path clip-path=\"url(#clip310)\" d=\"M732.923 717.367 Q729.311 717.367 727.483 720.931 Q725.677 724.473 725.677 731.603 Q725.677 738.709 727.483 742.274 Q729.311 745.815 732.923 745.815 Q736.557 745.815 738.362 742.274 Q740.191 738.709 740.191 731.603 Q740.191 724.473 738.362 720.931 Q736.557 717.367 732.923 717.367 M732.923 713.663 Q738.733 713.663 741.788 718.269 Q744.867 722.853 744.867 731.603 Q744.867 740.329 741.788 744.936 Q738.733 749.519 732.923 749.519 Q727.112 749.519 724.034 744.936 Q720.978 740.329 720.978 731.603 Q720.978 722.853 724.034 718.269 Q727.112 713.663 732.923 713.663 Z\" fill=\"#000000\" fill-rule=\"evenodd\" fill-opacity=\"1\" /><path clip-path=\"url(#clip310)\" d=\"M753.084 742.968 L757.969 742.968 L757.969 748.848 L753.084 748.848 L753.084 742.968 Z\" fill=\"#000000\" fill-rule=\"evenodd\" fill-opacity=\"1\" /><path clip-path=\"url(#clip310)\" d=\"M778.154 717.367 Q774.543 717.367 772.714 720.931 Q770.908 724.473 770.908 731.603 Q770.908 738.709 772.714 742.274 Q774.543 745.815 778.154 745.815 Q781.788 745.815 783.594 742.274 Q785.422 738.709 785.422 731.603 Q785.422 724.473 783.594 720.931 Q781.788 717.367 778.154 717.367 M778.154 713.663 Q783.964 713.663 787.019 718.269 Q790.098 722.853 790.098 731.603 Q790.098 740.329 787.019 744.936 Q783.964 749.519 778.154 749.519 Q772.344 749.519 769.265 744.936 Q766.209 740.329 766.209 731.603 Q766.209 722.853 769.265 718.269 Q772.344 713.663 778.154 713.663 Z\" fill=\"#000000\" fill-rule=\"evenodd\" fill-opacity=\"1\" /><path clip-path=\"url(#clip310)\" d=\"M933.171 744.913 L940.81 744.913 L940.81 718.547 L932.5 720.214 L932.5 715.955 L940.764 714.288 L945.44 714.288 L945.44 744.913 L953.079 744.913 L953.079 748.848 L933.171 748.848 L933.171 744.913 Z\" fill=\"#000000\" fill-rule=\"evenodd\" fill-opacity=\"1\" /><path clip-path=\"url(#clip310)\" d=\"M966.551 744.913 L982.87 744.913 L982.87 748.848 L960.926 748.848 L960.926 744.913 Q963.588 742.158 968.171 737.528 Q972.778 732.876 973.958 731.533 Q976.204 729.01 977.083 727.274 Q977.986 725.515 977.986 723.825 Q977.986 721.07 976.042 719.334 Q974.12 717.598 971.019 717.598 Q968.819 717.598 966.366 718.362 Q963.935 719.126 961.157 720.677 L961.157 715.955 Q963.982 714.82 966.435 714.242 Q968.889 713.663 970.926 713.663 Q976.296 713.663 979.491 716.348 Q982.685 719.033 982.685 723.524 Q982.685 725.654 981.875 727.575 Q981.088 729.473 978.981 732.066 Q978.403 732.737 975.301 735.954 Q972.199 739.149 966.551 744.913 Z\" fill=\"#000000\" fill-rule=\"evenodd\" fill-opacity=\"1\" /><path clip-path=\"url(#clip310)\" d=\"M992.685 742.968 L997.569 742.968 L997.569 748.848 L992.685 748.848 L992.685 742.968 Z\" fill=\"#000000\" fill-rule=\"evenodd\" fill-opacity=\"1\" /><path clip-path=\"url(#clip310)\" d=\"M1007.8 714.288 L1026.16 714.288 L1026.16 718.223 L1012.08 718.223 L1012.08 726.695 Q1013.1 726.348 1014.12 726.186 Q1015.14 726.001 1016.16 726.001 Q1021.94 726.001 1025.32 729.172 Q1028.7 732.343 1028.7 737.76 Q1028.7 743.339 1025.23 746.44 Q1021.76 749.519 1015.44 749.519 Q1013.26 749.519 1011 749.149 Q1008.75 748.778 1006.34 748.038 L1006.34 743.339 Q1008.43 744.473 1010.65 745.028 Q1012.87 745.584 1015.35 745.584 Q1019.35 745.584 1021.69 743.478 Q1024.03 741.371 1024.03 737.76 Q1024.03 734.149 1021.69 732.042 Q1019.35 729.936 1015.35 729.936 Q1013.47 729.936 1011.6 730.353 Q1009.75 730.769 1007.8 731.649 L1007.8 714.288 Z\" fill=\"#000000\" fill-rule=\"evenodd\" fill-opacity=\"1\" /><polyline clip-path=\"url(#clip312)\" style=\"stroke:#000000; stroke-linecap:butt; stroke-linejoin:round; stroke-width:2; stroke-opacity:0.1; fill:none\" points=\"\n",
       "  138.959,600.54 1152.76,600.54 \n",
       "  \"/>\n",
       "<polyline clip-path=\"url(#clip312)\" style=\"stroke:#000000; stroke-linecap:butt; stroke-linejoin:round; stroke-width:2; stroke-opacity:0.1; fill:none\" points=\"\n",
       "  138.959,508.895 1152.76,508.895 \n",
       "  \"/>\n",
       "<polyline clip-path=\"url(#clip312)\" style=\"stroke:#000000; stroke-linecap:butt; stroke-linejoin:round; stroke-width:2; stroke-opacity:0.1; fill:none\" points=\"\n",
       "  138.959,417.251 1152.76,417.251 \n",
       "  \"/>\n",
       "<polyline clip-path=\"url(#clip312)\" style=\"stroke:#000000; stroke-linecap:butt; stroke-linejoin:round; stroke-width:2; stroke-opacity:0.1; fill:none\" points=\"\n",
       "  138.959,325.606 1152.76,325.606 \n",
       "  \"/>\n",
       "<polyline clip-path=\"url(#clip312)\" style=\"stroke:#000000; stroke-linecap:butt; stroke-linejoin:round; stroke-width:2; stroke-opacity:0.1; fill:none\" points=\"\n",
       "  138.959,233.961 1152.76,233.961 \n",
       "  \"/>\n",
       "<polyline clip-path=\"url(#clip312)\" style=\"stroke:#000000; stroke-linecap:butt; stroke-linejoin:round; stroke-width:2; stroke-opacity:0.1; fill:none\" points=\"\n",
       "  138.959,142.316 1152.76,142.316 \n",
       "  \"/>\n",
       "<polyline clip-path=\"url(#clip312)\" style=\"stroke:#000000; stroke-linecap:butt; stroke-linejoin:round; stroke-width:2; stroke-opacity:0.1; fill:none\" points=\"\n",
       "  138.959,50.6716 1152.76,50.6716 \n",
       "  \"/>\n",
       "<polyline clip-path=\"url(#clip310)\" style=\"stroke:#000000; stroke-linecap:butt; stroke-linejoin:round; stroke-width:4; stroke-opacity:1; fill:none\" points=\"\n",
       "  138.959,686.448 138.959,47.2441 \n",
       "  \"/>\n",
       "<polyline clip-path=\"url(#clip310)\" style=\"stroke:#000000; stroke-linecap:butt; stroke-linejoin:round; stroke-width:4; stroke-opacity:1; fill:none\" points=\"\n",
       "  138.959,600.54 157.857,600.54 \n",
       "  \"/>\n",
       "<polyline clip-path=\"url(#clip310)\" style=\"stroke:#000000; stroke-linecap:butt; stroke-linejoin:round; stroke-width:4; stroke-opacity:1; fill:none\" points=\"\n",
       "  138.959,508.895 157.857,508.895 \n",
       "  \"/>\n",
       "<polyline clip-path=\"url(#clip310)\" style=\"stroke:#000000; stroke-linecap:butt; stroke-linejoin:round; stroke-width:4; stroke-opacity:1; fill:none\" points=\"\n",
       "  138.959,417.251 157.857,417.251 \n",
       "  \"/>\n",
       "<polyline clip-path=\"url(#clip310)\" style=\"stroke:#000000; stroke-linecap:butt; stroke-linejoin:round; stroke-width:4; stroke-opacity:1; fill:none\" points=\"\n",
       "  138.959,325.606 157.857,325.606 \n",
       "  \"/>\n",
       "<polyline clip-path=\"url(#clip310)\" style=\"stroke:#000000; stroke-linecap:butt; stroke-linejoin:round; stroke-width:4; stroke-opacity:1; fill:none\" points=\"\n",
       "  138.959,233.961 157.857,233.961 \n",
       "  \"/>\n",
       "<polyline clip-path=\"url(#clip310)\" style=\"stroke:#000000; stroke-linecap:butt; stroke-linejoin:round; stroke-width:4; stroke-opacity:1; fill:none\" points=\"\n",
       "  138.959,142.316 157.857,142.316 \n",
       "  \"/>\n",
       "<polyline clip-path=\"url(#clip310)\" style=\"stroke:#000000; stroke-linecap:butt; stroke-linejoin:round; stroke-width:4; stroke-opacity:1; fill:none\" points=\"\n",
       "  138.959,50.6716 157.857,50.6716 \n",
       "  \"/>\n",
       "<path clip-path=\"url(#clip310)\" d=\"M82.0568 583.26 L100.413 583.26 L100.413 587.195 L86.3392 587.195 L86.3392 595.667 Q87.3577 595.32 88.3762 595.158 Q89.3947 594.973 90.4132 594.973 Q96.2002 594.973 99.5798 598.144 Q102.959 601.316 102.959 606.732 Q102.959 612.311 99.4872 615.413 Q96.015 618.491 89.6956 618.491 Q87.5197 618.491 85.2512 618.121 Q83.0058 617.751 80.5984 617.01 L80.5984 612.311 Q82.6818 613.445 84.904 614.001 Q87.1262 614.556 89.603 614.556 Q93.6076 614.556 95.9456 612.45 Q98.2835 610.343 98.2835 606.732 Q98.2835 603.121 95.9456 601.015 Q93.6076 598.908 89.603 598.908 Q87.728 598.908 85.8531 599.325 Q84.0012 599.741 82.0568 600.621 L82.0568 583.26 Z\" fill=\"#000000\" fill-rule=\"evenodd\" fill-opacity=\"1\" /><path clip-path=\"url(#clip310)\" d=\"M91.4317 507.032 Q88.2836 507.032 86.4318 509.185 Q84.6031 511.337 84.6031 515.087 Q84.6031 518.814 86.4318 520.99 Q88.2836 523.143 91.4317 523.143 Q94.5799 523.143 96.4085 520.99 Q98.2604 518.814 98.2604 515.087 Q98.2604 511.337 96.4085 509.185 Q94.5799 507.032 91.4317 507.032 M100.714 492.379 L100.714 496.638 Q98.9548 495.805 97.1493 495.365 Q95.3669 494.926 93.6076 494.926 Q88.978 494.926 86.5243 498.05 Q84.0938 501.175 83.7466 507.495 Q85.1123 505.481 87.1725 504.416 Q89.2327 503.328 91.7095 503.328 Q96.9178 503.328 99.927 506.5 Q102.959 509.648 102.959 515.087 Q102.959 520.411 99.8113 523.629 Q96.6632 526.847 91.4317 526.847 Q85.4364 526.847 82.2651 522.263 Q79.0938 517.657 79.0938 508.93 Q79.0938 500.736 82.9827 495.875 Q86.8716 490.99 93.4225 490.99 Q95.1817 490.99 96.9641 491.338 Q98.7696 491.685 100.714 492.379 Z\" fill=\"#000000\" fill-rule=\"evenodd\" fill-opacity=\"1\" /><path clip-path=\"url(#clip310)\" d=\"M80.7373 399.971 L102.959 399.971 L102.959 401.961 L90.4132 434.531 L85.529 434.531 L97.3345 403.906 L80.7373 403.906 L80.7373 399.971 Z\" fill=\"#000000\" fill-rule=\"evenodd\" fill-opacity=\"1\" /><path clip-path=\"url(#clip310)\" d=\"M91.1077 326.474 Q87.7743 326.474 85.8531 328.256 Q83.9549 330.039 83.9549 333.164 Q83.9549 336.289 85.8531 338.071 Q87.7743 339.853 91.1077 339.853 Q94.441 339.853 96.3623 338.071 Q98.2835 336.266 98.2835 333.164 Q98.2835 330.039 96.3623 328.256 Q94.4641 326.474 91.1077 326.474 M86.4318 324.483 Q83.4225 323.742 81.7327 321.682 Q80.066 319.622 80.066 316.659 Q80.066 312.516 83.0058 310.108 Q85.9688 307.701 91.1077 307.701 Q96.2697 307.701 99.2095 310.108 Q102.149 312.516 102.149 316.659 Q102.149 319.622 100.459 321.682 Q98.7928 323.742 95.8067 324.483 Q99.1863 325.27 101.061 327.562 Q102.959 329.854 102.959 333.164 Q102.959 338.187 99.8808 340.872 Q96.8252 343.557 91.1077 343.557 Q85.3901 343.557 82.3114 340.872 Q79.2559 338.187 79.2559 333.164 Q79.2559 329.854 81.154 327.562 Q83.0521 325.27 86.4318 324.483 M84.7188 317.099 Q84.7188 319.784 86.3855 321.289 Q88.0753 322.793 91.1077 322.793 Q94.1169 322.793 95.8067 321.289 Q97.5197 319.784 97.5197 317.099 Q97.5197 314.414 95.8067 312.909 Q94.1169 311.405 91.1077 311.405 Q88.0753 311.405 86.3855 312.909 Q84.7188 314.414 84.7188 317.099 Z\" fill=\"#000000\" fill-rule=\"evenodd\" fill-opacity=\"1\" /><path clip-path=\"url(#clip310)\" d=\"M81.3392 250.524 L81.3392 246.264 Q83.0984 247.098 84.904 247.537 Q86.7095 247.977 88.4456 247.977 Q93.0752 247.977 95.5058 244.875 Q97.9595 241.75 98.3067 235.408 Q96.9641 237.399 94.9039 238.463 Q92.8438 239.528 90.3438 239.528 Q85.1586 239.528 82.1262 236.403 Q79.117 233.255 79.117 227.815 Q79.117 222.491 82.2651 219.274 Q85.4132 216.056 90.6447 216.056 Q96.64 216.056 99.7882 220.663 Q102.959 225.246 102.959 233.996 Q102.959 242.167 99.0706 247.051 Q95.2049 251.912 88.654 251.912 Q86.8947 251.912 85.0892 251.565 Q83.2836 251.218 81.3392 250.524 M90.6447 235.871 Q93.7928 235.871 95.6215 233.718 Q97.4734 231.565 97.4734 227.815 Q97.4734 224.088 95.6215 221.936 Q93.7928 219.76 90.6447 219.76 Q87.4966 219.76 85.6447 221.936 Q83.816 224.088 83.816 227.815 Q83.816 231.565 85.6447 233.718 Q87.4966 235.871 90.6447 235.871 Z\" fill=\"#000000\" fill-rule=\"evenodd\" fill-opacity=\"1\" /><path clip-path=\"url(#clip310)\" d=\"M51.6634 155.661 L59.3023 155.661 L59.3023 129.296 L50.9921 130.962 L50.9921 126.703 L59.256 125.036 L63.9319 125.036 L63.9319 155.661 L71.5707 155.661 L71.5707 159.596 L51.6634 159.596 L51.6634 155.661 Z\" fill=\"#000000\" fill-rule=\"evenodd\" fill-opacity=\"1\" /><path clip-path=\"url(#clip310)\" d=\"M91.0151 128.115 Q87.404 128.115 85.5753 131.68 Q83.7697 135.221 83.7697 142.351 Q83.7697 149.458 85.5753 153.022 Q87.404 156.564 91.0151 156.564 Q94.6493 156.564 96.4548 153.022 Q98.2835 149.458 98.2835 142.351 Q98.2835 135.221 96.4548 131.68 Q94.6493 128.115 91.0151 128.115 M91.0151 124.411 Q96.8252 124.411 99.8808 129.018 Q102.959 133.601 102.959 142.351 Q102.959 151.078 99.8808 155.684 Q96.8252 160.268 91.0151 160.268 Q85.2049 160.268 82.1262 155.684 Q79.0707 151.078 79.0707 142.351 Q79.0707 133.601 82.1262 129.018 Q85.2049 124.411 91.0151 124.411 Z\" fill=\"#000000\" fill-rule=\"evenodd\" fill-opacity=\"1\" /><path clip-path=\"url(#clip310)\" d=\"M52.8903 64.0164 L60.5291 64.0164 L60.5291 37.6508 L52.219 39.3175 L52.219 35.0583 L60.4828 33.3916 L65.1587 33.3916 L65.1587 64.0164 L72.7976 64.0164 L72.7976 67.9516 L52.8903 67.9516 L52.8903 64.0164 Z\" fill=\"#000000\" fill-rule=\"evenodd\" fill-opacity=\"1\" /><path clip-path=\"url(#clip310)\" d=\"M83.0521 64.0164 L90.691 64.0164 L90.691 37.6508 L82.3808 39.3175 L82.3808 35.0583 L90.6447 33.3916 L95.3206 33.3916 L95.3206 64.0164 L102.959 64.0164 L102.959 67.9516 L83.0521 67.9516 L83.0521 64.0164 Z\" fill=\"#000000\" fill-rule=\"evenodd\" fill-opacity=\"1\" /><circle clip-path=\"url(#clip312)\" cx=\"741.499\" cy=\"321.94\" r=\"14.4\" fill=\"#009af9\" fill-rule=\"evenodd\" fill-opacity=\"1\" stroke=\"#000000\" stroke-opacity=\"1\" stroke-width=\"3.2\"/>\n",
       "<circle clip-path=\"url(#clip312)\" cx=\"550.216\" cy=\"421.833\" r=\"14.4\" fill=\"#009af9\" fill-rule=\"evenodd\" fill-opacity=\"1\" stroke=\"#000000\" stroke-opacity=\"1\" stroke-width=\"3.2\"/>\n",
       "<circle clip-path=\"url(#clip312)\" cx=\"1028.42\" cy=\"364.097\" r=\"14.4\" fill=\"#009af9\" fill-rule=\"evenodd\" fill-opacity=\"1\" stroke=\"#000000\" stroke-opacity=\"1\" stroke-width=\"3.2\"/>\n",
       "<circle clip-path=\"url(#clip312)\" cx=\"645.858\" cy=\"251.374\" r=\"14.4\" fill=\"#009af9\" fill-rule=\"evenodd\" fill-opacity=\"1\" stroke=\"#000000\" stroke-opacity=\"1\" stroke-width=\"3.2\"/>\n",
       "<circle clip-path=\"url(#clip312)\" cx=\"837.14\" cy=\"295.363\" r=\"14.4\" fill=\"#009af9\" fill-rule=\"evenodd\" fill-opacity=\"1\" stroke=\"#000000\" stroke-opacity=\"1\" stroke-width=\"3.2\"/>\n",
       "<circle clip-path=\"url(#clip312)\" cx=\"1124.06\" cy=\"145.982\" r=\"14.4\" fill=\"#009af9\" fill-rule=\"evenodd\" fill-opacity=\"1\" stroke=\"#000000\" stroke-opacity=\"1\" stroke-width=\"3.2\"/>\n",
       "<circle clip-path=\"url(#clip312)\" cx=\"358.934\" cy=\"395.256\" r=\"14.4\" fill=\"#009af9\" fill-rule=\"evenodd\" fill-opacity=\"1\" stroke=\"#000000\" stroke-opacity=\"1\" stroke-width=\"3.2\"/>\n",
       "<circle clip-path=\"url(#clip312)\" cx=\"167.652\" cy=\"668.357\" r=\"14.4\" fill=\"#009af9\" fill-rule=\"evenodd\" fill-opacity=\"1\" stroke=\"#000000\" stroke-opacity=\"1\" stroke-width=\"3.2\"/>\n",
       "<circle clip-path=\"url(#clip312)\" cx=\"932.781\" cy=\"65.3348\" r=\"14.4\" fill=\"#009af9\" fill-rule=\"evenodd\" fill-opacity=\"1\" stroke=\"#000000\" stroke-opacity=\"1\" stroke-width=\"3.2\"/>\n",
       "<circle clip-path=\"url(#clip312)\" cx=\"454.575\" cy=\"617.036\" r=\"14.4\" fill=\"#009af9\" fill-rule=\"evenodd\" fill-opacity=\"1\" stroke=\"#000000\" stroke-opacity=\"1\" stroke-width=\"3.2\"/>\n",
       "<circle clip-path=\"url(#clip312)\" cx=\"263.293\" cy=\"538.222\" r=\"14.4\" fill=\"#009af9\" fill-rule=\"evenodd\" fill-opacity=\"1\" stroke=\"#000000\" stroke-opacity=\"1\" stroke-width=\"3.2\"/>\n",
       "<path clip-path=\"url(#clip310)\" d=\"\n",
       "M1338.96 686.448 L2352.76 686.448 L2352.76 47.2441 L1338.96 47.2441  Z\n",
       "  \" fill=\"#ffffff\" fill-rule=\"evenodd\" fill-opacity=\"1\"/>\n",
       "<defs>\n",
       "  <clipPath id=\"clip313\">\n",
       "    <rect x=\"1338\" y=\"47\" width=\"1015\" height=\"640\"/>\n",
       "  </clipPath>\n",
       "</defs>\n",
       "<polyline clip-path=\"url(#clip313)\" style=\"stroke:#000000; stroke-linecap:butt; stroke-linejoin:round; stroke-width:2; stroke-opacity:0.1; fill:none\" points=\"\n",
       "  1463.29,686.448 1463.29,47.2441 \n",
       "  \"/>\n",
       "<polyline clip-path=\"url(#clip313)\" style=\"stroke:#000000; stroke-linecap:butt; stroke-linejoin:round; stroke-width:2; stroke-opacity:0.1; fill:none\" points=\"\n",
       "  1702.4,686.448 1702.4,47.2441 \n",
       "  \"/>\n",
       "<polyline clip-path=\"url(#clip313)\" style=\"stroke:#000000; stroke-linecap:butt; stroke-linejoin:round; stroke-width:2; stroke-opacity:0.1; fill:none\" points=\"\n",
       "  1941.5,686.448 1941.5,47.2441 \n",
       "  \"/>\n",
       "<polyline clip-path=\"url(#clip313)\" style=\"stroke:#000000; stroke-linecap:butt; stroke-linejoin:round; stroke-width:2; stroke-opacity:0.1; fill:none\" points=\"\n",
       "  2180.6,686.448 2180.6,47.2441 \n",
       "  \"/>\n",
       "<polyline clip-path=\"url(#clip310)\" style=\"stroke:#000000; stroke-linecap:butt; stroke-linejoin:round; stroke-width:4; stroke-opacity:1; fill:none\" points=\"\n",
       "  1338.96,686.448 2352.76,686.448 \n",
       "  \"/>\n",
       "<polyline clip-path=\"url(#clip310)\" style=\"stroke:#000000; stroke-linecap:butt; stroke-linejoin:round; stroke-width:4; stroke-opacity:1; fill:none\" points=\"\n",
       "  1463.29,686.448 1463.29,667.55 \n",
       "  \"/>\n",
       "<polyline clip-path=\"url(#clip310)\" style=\"stroke:#000000; stroke-linecap:butt; stroke-linejoin:round; stroke-width:4; stroke-opacity:1; fill:none\" points=\"\n",
       "  1702.4,686.448 1702.4,667.55 \n",
       "  \"/>\n",
       "<polyline clip-path=\"url(#clip310)\" style=\"stroke:#000000; stroke-linecap:butt; stroke-linejoin:round; stroke-width:4; stroke-opacity:1; fill:none\" points=\"\n",
       "  1941.5,686.448 1941.5,667.55 \n",
       "  \"/>\n",
       "<polyline clip-path=\"url(#clip310)\" style=\"stroke:#000000; stroke-linecap:butt; stroke-linejoin:round; stroke-width:4; stroke-opacity:1; fill:none\" points=\"\n",
       "  2180.6,686.448 2180.6,667.55 \n",
       "  \"/>\n",
       "<path clip-path=\"url(#clip310)\" d=\"M1430.46 714.288 L1448.81 714.288 L1448.81 718.223 L1434.74 718.223 L1434.74 726.695 Q1435.76 726.348 1436.78 726.186 Q1437.8 726.001 1438.81 726.001 Q1444.6 726.001 1447.98 729.172 Q1451.36 732.343 1451.36 737.76 Q1451.36 743.339 1447.89 746.44 Q1444.42 749.519 1438.1 749.519 Q1435.92 749.519 1433.65 749.149 Q1431.41 748.778 1429 748.038 L1429 743.339 Q1431.08 744.473 1433.3 745.028 Q1435.53 745.584 1438 745.584 Q1442.01 745.584 1444.35 743.478 Q1446.68 741.371 1446.68 737.76 Q1446.68 734.149 1444.35 732.042 Q1442.01 729.936 1438 729.936 Q1436.13 729.936 1434.25 730.353 Q1432.4 730.769 1430.46 731.649 L1430.46 714.288 Z\" fill=\"#000000\" fill-rule=\"evenodd\" fill-opacity=\"1\" /><path clip-path=\"url(#clip310)\" d=\"M1460.57 742.968 L1465.46 742.968 L1465.46 748.848 L1460.57 748.848 L1460.57 742.968 Z\" fill=\"#000000\" fill-rule=\"evenodd\" fill-opacity=\"1\" /><path clip-path=\"url(#clip310)\" d=\"M1485.64 717.367 Q1482.03 717.367 1480.2 720.931 Q1478.4 724.473 1478.4 731.603 Q1478.4 738.709 1480.2 742.274 Q1482.03 745.815 1485.64 745.815 Q1489.28 745.815 1491.08 742.274 Q1492.91 738.709 1492.91 731.603 Q1492.91 724.473 1491.08 720.931 Q1489.28 717.367 1485.64 717.367 M1485.64 713.663 Q1491.45 713.663 1494.51 718.269 Q1497.59 722.853 1497.59 731.603 Q1497.59 740.329 1494.51 744.936 Q1491.45 749.519 1485.64 749.519 Q1479.83 749.519 1476.75 744.936 Q1473.7 740.329 1473.7 731.603 Q1473.7 722.853 1476.75 718.269 Q1479.83 713.663 1485.64 713.663 Z\" fill=\"#000000\" fill-rule=\"evenodd\" fill-opacity=\"1\" /><path clip-path=\"url(#clip310)\" d=\"M1668.72 714.288 L1690.94 714.288 L1690.94 716.279 L1678.39 748.848 L1673.51 748.848 L1685.31 718.223 L1668.72 718.223 L1668.72 714.288 Z\" fill=\"#000000\" fill-rule=\"evenodd\" fill-opacity=\"1\" /><path clip-path=\"url(#clip310)\" d=\"M1700.06 742.968 L1704.94 742.968 L1704.94 748.848 L1700.06 748.848 L1700.06 742.968 Z\" fill=\"#000000\" fill-rule=\"evenodd\" fill-opacity=\"1\" /><path clip-path=\"url(#clip310)\" d=\"M1715.17 714.288 L1733.53 714.288 L1733.53 718.223 L1719.46 718.223 L1719.46 726.695 Q1720.47 726.348 1721.49 726.186 Q1722.51 726.001 1723.53 726.001 Q1729.32 726.001 1732.7 729.172 Q1736.08 732.343 1736.08 737.76 Q1736.08 743.339 1732.6 746.44 Q1729.13 749.519 1722.81 749.519 Q1720.64 749.519 1718.37 749.149 Q1716.12 748.778 1713.72 748.038 L1713.72 743.339 Q1715.8 744.473 1718.02 745.028 Q1720.24 745.584 1722.72 745.584 Q1726.72 745.584 1729.06 743.478 Q1731.4 741.371 1731.4 737.76 Q1731.4 734.149 1729.06 732.042 Q1726.72 729.936 1722.72 729.936 Q1720.84 729.936 1718.97 730.353 Q1717.12 730.769 1715.17 731.649 L1715.17 714.288 Z\" fill=\"#000000\" fill-rule=\"evenodd\" fill-opacity=\"1\" /><path clip-path=\"url(#clip310)\" d=\"M1893.57 744.913 L1901.21 744.913 L1901.21 718.547 L1892.9 720.214 L1892.9 715.955 L1901.16 714.288 L1905.84 714.288 L1905.84 744.913 L1913.48 744.913 L1913.48 748.848 L1893.57 748.848 L1893.57 744.913 Z\" fill=\"#000000\" fill-rule=\"evenodd\" fill-opacity=\"1\" /><path clip-path=\"url(#clip310)\" d=\"M1932.92 717.367 Q1929.31 717.367 1927.48 720.931 Q1925.68 724.473 1925.68 731.603 Q1925.68 738.709 1927.48 742.274 Q1929.31 745.815 1932.92 745.815 Q1936.56 745.815 1938.36 742.274 Q1940.19 738.709 1940.19 731.603 Q1940.19 724.473 1938.36 720.931 Q1936.56 717.367 1932.92 717.367 M1932.92 713.663 Q1938.73 713.663 1941.79 718.269 Q1944.87 722.853 1944.87 731.603 Q1944.87 740.329 1941.79 744.936 Q1938.73 749.519 1932.92 749.519 Q1927.11 749.519 1924.03 744.936 Q1920.98 740.329 1920.98 731.603 Q1920.98 722.853 1924.03 718.269 Q1927.11 713.663 1932.92 713.663 Z\" fill=\"#000000\" fill-rule=\"evenodd\" fill-opacity=\"1\" /><path clip-path=\"url(#clip310)\" d=\"M1953.08 742.968 L1957.97 742.968 L1957.97 748.848 L1953.08 748.848 L1953.08 742.968 Z\" fill=\"#000000\" fill-rule=\"evenodd\" fill-opacity=\"1\" /><path clip-path=\"url(#clip310)\" d=\"M1978.15 717.367 Q1974.54 717.367 1972.71 720.931 Q1970.91 724.473 1970.91 731.603 Q1970.91 738.709 1972.71 742.274 Q1974.54 745.815 1978.15 745.815 Q1981.79 745.815 1983.59 742.274 Q1985.42 738.709 1985.42 731.603 Q1985.42 724.473 1983.59 720.931 Q1981.79 717.367 1978.15 717.367 M1978.15 713.663 Q1983.96 713.663 1987.02 718.269 Q1990.1 722.853 1990.1 731.603 Q1990.1 740.329 1987.02 744.936 Q1983.96 749.519 1978.15 749.519 Q1972.34 749.519 1969.26 744.936 Q1966.21 740.329 1966.21 731.603 Q1966.21 722.853 1969.26 718.269 Q1972.34 713.663 1978.15 713.663 Z\" fill=\"#000000\" fill-rule=\"evenodd\" fill-opacity=\"1\" /><path clip-path=\"url(#clip310)\" d=\"M2133.17 744.913 L2140.81 744.913 L2140.81 718.547 L2132.5 720.214 L2132.5 715.955 L2140.76 714.288 L2145.44 714.288 L2145.44 744.913 L2153.08 744.913 L2153.08 748.848 L2133.17 748.848 L2133.17 744.913 Z\" fill=\"#000000\" fill-rule=\"evenodd\" fill-opacity=\"1\" /><path clip-path=\"url(#clip310)\" d=\"M2166.55 744.913 L2182.87 744.913 L2182.87 748.848 L2160.93 748.848 L2160.93 744.913 Q2163.59 742.158 2168.17 737.528 Q2172.78 732.876 2173.96 731.533 Q2176.2 729.01 2177.08 727.274 Q2177.99 725.515 2177.99 723.825 Q2177.99 721.07 2176.04 719.334 Q2174.12 717.598 2171.02 717.598 Q2168.82 717.598 2166.37 718.362 Q2163.94 719.126 2161.16 720.677 L2161.16 715.955 Q2163.98 714.82 2166.44 714.242 Q2168.89 713.663 2170.93 713.663 Q2176.3 713.663 2179.49 716.348 Q2182.69 719.033 2182.69 723.524 Q2182.69 725.654 2181.87 727.575 Q2181.09 729.473 2178.98 732.066 Q2178.4 732.737 2175.3 735.954 Q2172.2 739.149 2166.55 744.913 Z\" fill=\"#000000\" fill-rule=\"evenodd\" fill-opacity=\"1\" /><path clip-path=\"url(#clip310)\" d=\"M2192.69 742.968 L2197.57 742.968 L2197.57 748.848 L2192.69 748.848 L2192.69 742.968 Z\" fill=\"#000000\" fill-rule=\"evenodd\" fill-opacity=\"1\" /><path clip-path=\"url(#clip310)\" d=\"M2207.8 714.288 L2226.16 714.288 L2226.16 718.223 L2212.08 718.223 L2212.08 726.695 Q2213.1 726.348 2214.12 726.186 Q2215.14 726.001 2216.16 726.001 Q2221.94 726.001 2225.32 729.172 Q2228.7 732.343 2228.7 737.76 Q2228.7 743.339 2225.23 746.44 Q2221.76 749.519 2215.44 749.519 Q2213.26 749.519 2211 749.149 Q2208.75 748.778 2206.34 748.038 L2206.34 743.339 Q2208.43 744.473 2210.65 745.028 Q2212.87 745.584 2215.35 745.584 Q2219.35 745.584 2221.69 743.478 Q2224.03 741.371 2224.03 737.76 Q2224.03 734.149 2221.69 732.042 Q2219.35 729.936 2215.35 729.936 Q2213.47 729.936 2211.6 730.353 Q2209.75 730.769 2207.8 731.649 L2207.8 714.288 Z\" fill=\"#000000\" fill-rule=\"evenodd\" fill-opacity=\"1\" /><polyline clip-path=\"url(#clip313)\" style=\"stroke:#000000; stroke-linecap:butt; stroke-linejoin:round; stroke-width:2; stroke-opacity:0.1; fill:none\" points=\"\n",
       "  1338.96,678.147 2352.76,678.147 \n",
       "  \"/>\n",
       "<polyline clip-path=\"url(#clip313)\" style=\"stroke:#000000; stroke-linecap:butt; stroke-linejoin:round; stroke-width:2; stroke-opacity:0.1; fill:none\" points=\"\n",
       "  1338.96,580.253 2352.76,580.253 \n",
       "  \"/>\n",
       "<polyline clip-path=\"url(#clip313)\" style=\"stroke:#000000; stroke-linecap:butt; stroke-linejoin:round; stroke-width:2; stroke-opacity:0.1; fill:none\" points=\"\n",
       "  1338.96,482.36 2352.76,482.36 \n",
       "  \"/>\n",
       "<polyline clip-path=\"url(#clip313)\" style=\"stroke:#000000; stroke-linecap:butt; stroke-linejoin:round; stroke-width:2; stroke-opacity:0.1; fill:none\" points=\"\n",
       "  1338.96,384.467 2352.76,384.467 \n",
       "  \"/>\n",
       "<polyline clip-path=\"url(#clip313)\" style=\"stroke:#000000; stroke-linecap:butt; stroke-linejoin:round; stroke-width:2; stroke-opacity:0.1; fill:none\" points=\"\n",
       "  1338.96,286.574 2352.76,286.574 \n",
       "  \"/>\n",
       "<polyline clip-path=\"url(#clip313)\" style=\"stroke:#000000; stroke-linecap:butt; stroke-linejoin:round; stroke-width:2; stroke-opacity:0.1; fill:none\" points=\"\n",
       "  1338.96,188.68 2352.76,188.68 \n",
       "  \"/>\n",
       "<polyline clip-path=\"url(#clip313)\" style=\"stroke:#000000; stroke-linecap:butt; stroke-linejoin:round; stroke-width:2; stroke-opacity:0.1; fill:none\" points=\"\n",
       "  1338.96,90.787 2352.76,90.787 \n",
       "  \"/>\n",
       "<polyline clip-path=\"url(#clip310)\" style=\"stroke:#000000; stroke-linecap:butt; stroke-linejoin:round; stroke-width:4; stroke-opacity:1; fill:none\" points=\"\n",
       "  1338.96,686.448 1338.96,47.2441 \n",
       "  \"/>\n",
       "<polyline clip-path=\"url(#clip310)\" style=\"stroke:#000000; stroke-linecap:butt; stroke-linejoin:round; stroke-width:4; stroke-opacity:1; fill:none\" points=\"\n",
       "  1338.96,678.147 1357.86,678.147 \n",
       "  \"/>\n",
       "<polyline clip-path=\"url(#clip310)\" style=\"stroke:#000000; stroke-linecap:butt; stroke-linejoin:round; stroke-width:4; stroke-opacity:1; fill:none\" points=\"\n",
       "  1338.96,580.253 1357.86,580.253 \n",
       "  \"/>\n",
       "<polyline clip-path=\"url(#clip310)\" style=\"stroke:#000000; stroke-linecap:butt; stroke-linejoin:round; stroke-width:4; stroke-opacity:1; fill:none\" points=\"\n",
       "  1338.96,482.36 1357.86,482.36 \n",
       "  \"/>\n",
       "<polyline clip-path=\"url(#clip310)\" style=\"stroke:#000000; stroke-linecap:butt; stroke-linejoin:round; stroke-width:4; stroke-opacity:1; fill:none\" points=\"\n",
       "  1338.96,384.467 1357.86,384.467 \n",
       "  \"/>\n",
       "<polyline clip-path=\"url(#clip310)\" style=\"stroke:#000000; stroke-linecap:butt; stroke-linejoin:round; stroke-width:4; stroke-opacity:1; fill:none\" points=\"\n",
       "  1338.96,286.574 1357.86,286.574 \n",
       "  \"/>\n",
       "<polyline clip-path=\"url(#clip310)\" style=\"stroke:#000000; stroke-linecap:butt; stroke-linejoin:round; stroke-width:4; stroke-opacity:1; fill:none\" points=\"\n",
       "  1338.96,188.68 1357.86,188.68 \n",
       "  \"/>\n",
       "<polyline clip-path=\"url(#clip310)\" style=\"stroke:#000000; stroke-linecap:butt; stroke-linejoin:round; stroke-width:4; stroke-opacity:1; fill:none\" points=\"\n",
       "  1338.96,90.787 1357.86,90.787 \n",
       "  \"/>\n",
       "<path clip-path=\"url(#clip310)\" d=\"M1295.83 676.792 Q1299.19 677.51 1301.06 679.778 Q1302.96 682.047 1302.96 685.38 Q1302.96 690.496 1299.44 693.297 Q1295.92 696.098 1289.44 696.098 Q1287.27 696.098 1284.95 695.658 Q1282.66 695.241 1280.2 694.385 L1280.2 689.871 Q1282.15 691.005 1284.46 691.584 Q1286.78 692.163 1289.3 692.163 Q1293.7 692.163 1295.99 690.427 Q1298.31 688.69 1298.31 685.38 Q1298.31 682.325 1296.15 680.612 Q1294.02 678.876 1290.2 678.876 L1286.18 678.876 L1286.18 675.033 L1290.39 675.033 Q1293.84 675.033 1295.67 673.667 Q1297.5 672.279 1297.5 669.686 Q1297.5 667.024 1295.6 665.612 Q1293.72 664.177 1290.2 664.177 Q1288.28 664.177 1286.08 664.593 Q1283.89 665.01 1281.25 665.89 L1281.25 661.723 Q1283.91 660.982 1286.22 660.612 Q1288.56 660.242 1290.62 660.242 Q1295.95 660.242 1299.05 662.672 Q1302.15 665.079 1302.15 669.2 Q1302.15 672.07 1300.51 674.061 Q1298.86 676.028 1295.83 676.792 Z\" fill=\"#000000\" fill-rule=\"evenodd\" fill-opacity=\"1\" /><path clip-path=\"url(#clip310)\" d=\"M1293.38 567.047 L1281.57 585.496 L1293.38 585.496 L1293.38 567.047 M1292.15 562.973 L1298.03 562.973 L1298.03 585.496 L1302.96 585.496 L1302.96 589.385 L1298.03 589.385 L1298.03 597.533 L1293.38 597.533 L1293.38 589.385 L1277.77 589.385 L1277.77 584.871 L1292.15 562.973 Z\" fill=\"#000000\" fill-rule=\"evenodd\" fill-opacity=\"1\" /><path clip-path=\"url(#clip310)\" d=\"M1282.06 465.08 L1300.41 465.08 L1300.41 469.015 L1286.34 469.015 L1286.34 477.487 Q1287.36 477.14 1288.38 476.978 Q1289.39 476.793 1290.41 476.793 Q1296.2 476.793 1299.58 479.964 Q1302.96 483.135 1302.96 488.552 Q1302.96 494.131 1299.49 497.233 Q1296.02 500.311 1289.7 500.311 Q1287.52 500.311 1285.25 499.941 Q1283.01 499.571 1280.6 498.83 L1280.6 494.131 Q1282.68 495.265 1284.9 495.821 Q1287.13 496.376 1289.6 496.376 Q1293.61 496.376 1295.95 494.27 Q1298.28 492.163 1298.28 488.552 Q1298.28 484.941 1295.95 482.835 Q1293.61 480.728 1289.6 480.728 Q1287.73 480.728 1285.85 481.145 Q1284 481.561 1282.06 482.441 L1282.06 465.08 Z\" fill=\"#000000\" fill-rule=\"evenodd\" fill-opacity=\"1\" /><path clip-path=\"url(#clip310)\" d=\"M1291.43 382.603 Q1288.28 382.603 1286.43 384.756 Q1284.6 386.909 1284.6 390.659 Q1284.6 394.386 1286.43 396.562 Q1288.28 398.714 1291.43 398.714 Q1294.58 398.714 1296.41 396.562 Q1298.26 394.386 1298.26 390.659 Q1298.26 386.909 1296.41 384.756 Q1294.58 382.603 1291.43 382.603 M1300.71 367.951 L1300.71 372.21 Q1298.95 371.377 1297.15 370.937 Q1295.37 370.497 1293.61 370.497 Q1288.98 370.497 1286.52 373.622 Q1284.09 376.747 1283.75 383.066 Q1285.11 381.052 1287.17 379.988 Q1289.23 378.9 1291.71 378.9 Q1296.92 378.9 1299.93 382.071 Q1302.96 385.219 1302.96 390.659 Q1302.96 395.983 1299.81 399.2 Q1296.66 402.418 1291.43 402.418 Q1285.44 402.418 1282.27 397.835 Q1279.09 393.228 1279.09 384.501 Q1279.09 376.307 1282.98 371.446 Q1286.87 366.562 1293.42 366.562 Q1295.18 366.562 1296.96 366.909 Q1298.77 367.256 1300.71 367.951 Z\" fill=\"#000000\" fill-rule=\"evenodd\" fill-opacity=\"1\" /><path clip-path=\"url(#clip310)\" d=\"M1280.74 269.294 L1302.96 269.294 L1302.96 271.284 L1290.41 303.854 L1285.53 303.854 L1297.33 273.229 L1280.74 273.229 L1280.74 269.294 Z\" fill=\"#000000\" fill-rule=\"evenodd\" fill-opacity=\"1\" /><path clip-path=\"url(#clip310)\" d=\"M1291.11 189.548 Q1287.77 189.548 1285.85 191.331 Q1283.95 193.113 1283.95 196.238 Q1283.95 199.363 1285.85 201.145 Q1287.77 202.928 1291.11 202.928 Q1294.44 202.928 1296.36 201.145 Q1298.28 199.34 1298.28 196.238 Q1298.28 193.113 1296.36 191.331 Q1294.46 189.548 1291.11 189.548 M1286.43 187.558 Q1283.42 186.817 1281.73 184.757 Q1280.07 182.697 1280.07 179.734 Q1280.07 175.59 1283.01 173.183 Q1285.97 170.775 1291.11 170.775 Q1296.27 170.775 1299.21 173.183 Q1302.15 175.59 1302.15 179.734 Q1302.15 182.697 1300.46 184.757 Q1298.79 186.817 1295.81 187.558 Q1299.19 188.345 1301.06 190.636 Q1302.96 192.928 1302.96 196.238 Q1302.96 201.261 1299.88 203.946 Q1296.83 206.632 1291.11 206.632 Q1285.39 206.632 1282.31 203.946 Q1279.26 201.261 1279.26 196.238 Q1279.26 192.928 1281.15 190.636 Q1283.05 188.345 1286.43 187.558 M1284.72 180.173 Q1284.72 182.859 1286.39 184.363 Q1288.08 185.868 1291.11 185.868 Q1294.12 185.868 1295.81 184.363 Q1297.52 182.859 1297.52 180.173 Q1297.52 177.488 1295.81 175.984 Q1294.12 174.479 1291.11 174.479 Q1288.08 174.479 1286.39 175.984 Q1284.72 177.488 1284.72 180.173 Z\" fill=\"#000000\" fill-rule=\"evenodd\" fill-opacity=\"1\" /><path clip-path=\"url(#clip310)\" d=\"M1281.34 107.349 L1281.34 103.09 Q1283.1 103.924 1284.9 104.363 Q1286.71 104.803 1288.45 104.803 Q1293.08 104.803 1295.51 101.701 Q1297.96 98.5763 1298.31 92.2338 Q1296.96 94.2245 1294.9 95.2893 Q1292.84 96.3541 1290.34 96.3541 Q1285.16 96.3541 1282.13 93.2291 Q1279.12 90.081 1279.12 84.6412 Q1279.12 79.3172 1282.27 76.0996 Q1285.41 72.882 1290.64 72.882 Q1296.64 72.882 1299.79 77.4885 Q1302.96 82.0718 1302.96 90.8217 Q1302.96 98.993 1299.07 103.877 Q1295.2 108.738 1288.65 108.738 Q1286.89 108.738 1285.09 108.391 Q1283.28 108.044 1281.34 107.349 M1290.64 92.6967 Q1293.79 92.6967 1295.62 90.544 Q1297.47 88.3912 1297.47 84.6412 Q1297.47 80.9144 1295.62 78.7616 Q1293.79 76.5857 1290.64 76.5857 Q1287.5 76.5857 1285.64 78.7616 Q1283.82 80.9144 1283.82 84.6412 Q1283.82 88.3912 1285.64 90.544 Q1287.5 92.6967 1290.64 92.6967 Z\" fill=\"#000000\" fill-rule=\"evenodd\" fill-opacity=\"1\" /><circle clip-path=\"url(#clip313)\" cx=\"1941.5\" cy=\"77.082\" r=\"14.4\" fill=\"#009af9\" fill-rule=\"evenodd\" fill-opacity=\"1\" stroke=\"#000000\" stroke-opacity=\"1\" stroke-width=\"3.2\"/>\n",
       "<circle clip-path=\"url(#clip313)\" cx=\"1750.22\" cy=\"174.975\" r=\"14.4\" fill=\"#009af9\" fill-rule=\"evenodd\" fill-opacity=\"1\" stroke=\"#000000\" stroke-opacity=\"1\" stroke-width=\"3.2\"/>\n",
       "<circle clip-path=\"url(#clip313)\" cx=\"2228.42\" cy=\"116.239\" r=\"14.4\" fill=\"#009af9\" fill-rule=\"evenodd\" fill-opacity=\"1\" stroke=\"#000000\" stroke-opacity=\"1\" stroke-width=\"3.2\"/>\n",
       "<circle clip-path=\"url(#clip313)\" cx=\"1845.86\" cy=\"113.302\" r=\"14.4\" fill=\"#009af9\" fill-rule=\"evenodd\" fill-opacity=\"1\" stroke=\"#000000\" stroke-opacity=\"1\" stroke-width=\"3.2\"/>\n",
       "<circle clip-path=\"url(#clip313)\" cx=\"2037.14\" cy=\"65.3348\" r=\"14.4\" fill=\"#009af9\" fill-rule=\"evenodd\" fill-opacity=\"1\" stroke=\"#000000\" stroke-opacity=\"1\" stroke-width=\"3.2\"/>\n",
       "<circle clip-path=\"url(#clip313)\" cx=\"2324.06\" cy=\"178.891\" r=\"14.4\" fill=\"#009af9\" fill-rule=\"evenodd\" fill-opacity=\"1\" stroke=\"#000000\" stroke-opacity=\"1\" stroke-width=\"3.2\"/>\n",
       "<circle clip-path=\"url(#clip313)\" cx=\"1558.93\" cy=\"371.741\" r=\"14.4\" fill=\"#009af9\" fill-rule=\"evenodd\" fill-opacity=\"1\" stroke=\"#000000\" stroke-opacity=\"1\" stroke-width=\"3.2\"/>\n",
       "<circle clip-path=\"url(#clip313)\" cx=\"1367.65\" cy=\"668.357\" r=\"14.4\" fill=\"#009af9\" fill-rule=\"evenodd\" fill-opacity=\"1\" stroke=\"#000000\" stroke-opacity=\"1\" stroke-width=\"3.2\"/>\n",
       "<circle clip-path=\"url(#clip313)\" cx=\"2132.78\" cy=\"78.0609\" r=\"14.4\" fill=\"#009af9\" fill-rule=\"evenodd\" fill-opacity=\"1\" stroke=\"#000000\" stroke-opacity=\"1\" stroke-width=\"3.2\"/>\n",
       "<circle clip-path=\"url(#clip313)\" cx=\"1654.58\" cy=\"261.121\" r=\"14.4\" fill=\"#009af9\" fill-rule=\"evenodd\" fill-opacity=\"1\" stroke=\"#000000\" stroke-opacity=\"1\" stroke-width=\"3.2\"/>\n",
       "<circle clip-path=\"url(#clip313)\" cx=\"1463.29\" cy=\"507.812\" r=\"14.4\" fill=\"#009af9\" fill-rule=\"evenodd\" fill-opacity=\"1\" stroke=\"#000000\" stroke-opacity=\"1\" stroke-width=\"3.2\"/>\n",
       "<path clip-path=\"url(#clip310)\" d=\"\n",
       "M138.959 1486.45 L1152.76 1486.45 L1152.76 847.244 L138.959 847.244  Z\n",
       "  \" fill=\"#ffffff\" fill-rule=\"evenodd\" fill-opacity=\"1\"/>\n",
       "<defs>\n",
       "  <clipPath id=\"clip314\">\n",
       "    <rect x=\"138\" y=\"847\" width=\"1015\" height=\"640\"/>\n",
       "  </clipPath>\n",
       "</defs>\n",
       "<polyline clip-path=\"url(#clip314)\" style=\"stroke:#000000; stroke-linecap:butt; stroke-linejoin:round; stroke-width:2; stroke-opacity:0.1; fill:none\" points=\"\n",
       "  263.293,1486.45 263.293,847.244 \n",
       "  \"/>\n",
       "<polyline clip-path=\"url(#clip314)\" style=\"stroke:#000000; stroke-linecap:butt; stroke-linejoin:round; stroke-width:2; stroke-opacity:0.1; fill:none\" points=\"\n",
       "  502.396,1486.45 502.396,847.244 \n",
       "  \"/>\n",
       "<polyline clip-path=\"url(#clip314)\" style=\"stroke:#000000; stroke-linecap:butt; stroke-linejoin:round; stroke-width:2; stroke-opacity:0.1; fill:none\" points=\"\n",
       "  741.499,1486.45 741.499,847.244 \n",
       "  \"/>\n",
       "<polyline clip-path=\"url(#clip314)\" style=\"stroke:#000000; stroke-linecap:butt; stroke-linejoin:round; stroke-width:2; stroke-opacity:0.1; fill:none\" points=\"\n",
       "  980.602,1486.45 980.602,847.244 \n",
       "  \"/>\n",
       "<polyline clip-path=\"url(#clip310)\" style=\"stroke:#000000; stroke-linecap:butt; stroke-linejoin:round; stroke-width:4; stroke-opacity:1; fill:none\" points=\"\n",
       "  138.959,1486.45 1152.76,1486.45 \n",
       "  \"/>\n",
       "<polyline clip-path=\"url(#clip310)\" style=\"stroke:#000000; stroke-linecap:butt; stroke-linejoin:round; stroke-width:4; stroke-opacity:1; fill:none\" points=\"\n",
       "  263.293,1486.45 263.293,1467.55 \n",
       "  \"/>\n",
       "<polyline clip-path=\"url(#clip310)\" style=\"stroke:#000000; stroke-linecap:butt; stroke-linejoin:round; stroke-width:4; stroke-opacity:1; fill:none\" points=\"\n",
       "  502.396,1486.45 502.396,1467.55 \n",
       "  \"/>\n",
       "<polyline clip-path=\"url(#clip310)\" style=\"stroke:#000000; stroke-linecap:butt; stroke-linejoin:round; stroke-width:4; stroke-opacity:1; fill:none\" points=\"\n",
       "  741.499,1486.45 741.499,1467.55 \n",
       "  \"/>\n",
       "<polyline clip-path=\"url(#clip310)\" style=\"stroke:#000000; stroke-linecap:butt; stroke-linejoin:round; stroke-width:4; stroke-opacity:1; fill:none\" points=\"\n",
       "  980.602,1486.45 980.602,1467.55 \n",
       "  \"/>\n",
       "<path clip-path=\"url(#clip310)\" d=\"M230.457 1514.29 L248.814 1514.29 L248.814 1518.22 L234.74 1518.22 L234.74 1526.7 Q235.758 1526.35 236.777 1526.19 Q237.795 1526 238.814 1526 Q244.601 1526 247.981 1529.17 Q251.36 1532.34 251.36 1537.76 Q251.36 1543.34 247.888 1546.44 Q244.416 1549.52 238.096 1549.52 Q235.92 1549.52 233.652 1549.15 Q231.407 1548.78 228.999 1548.04 L228.999 1543.34 Q231.082 1544.47 233.305 1545.03 Q235.527 1545.58 238.004 1545.58 Q242.008 1545.58 244.346 1543.48 Q246.684 1541.37 246.684 1537.76 Q246.684 1534.15 244.346 1532.04 Q242.008 1529.94 238.004 1529.94 Q236.129 1529.94 234.254 1530.35 Q232.402 1530.77 230.457 1531.65 L230.457 1514.29 Z\" fill=\"#000000\" fill-rule=\"evenodd\" fill-opacity=\"1\" /><path clip-path=\"url(#clip310)\" d=\"M260.573 1542.97 L265.457 1542.97 L265.457 1548.85 L260.573 1548.85 L260.573 1542.97 Z\" fill=\"#000000\" fill-rule=\"evenodd\" fill-opacity=\"1\" /><path clip-path=\"url(#clip310)\" d=\"M285.642 1517.37 Q282.031 1517.37 280.203 1520.93 Q278.397 1524.47 278.397 1531.6 Q278.397 1538.71 280.203 1542.27 Q282.031 1545.82 285.642 1545.82 Q289.277 1545.82 291.082 1542.27 Q292.911 1538.71 292.911 1531.6 Q292.911 1524.47 291.082 1520.93 Q289.277 1517.37 285.642 1517.37 M285.642 1513.66 Q291.453 1513.66 294.508 1518.27 Q297.587 1522.85 297.587 1531.6 Q297.587 1540.33 294.508 1544.94 Q291.453 1549.52 285.642 1549.52 Q279.832 1549.52 276.754 1544.94 Q273.698 1540.33 273.698 1531.6 Q273.698 1522.85 276.754 1518.27 Q279.832 1513.66 285.642 1513.66 Z\" fill=\"#000000\" fill-rule=\"evenodd\" fill-opacity=\"1\" /><path clip-path=\"url(#clip310)\" d=\"M468.716 1514.29 L490.938 1514.29 L490.938 1516.28 L478.391 1548.85 L473.507 1548.85 L485.313 1518.22 L468.716 1518.22 L468.716 1514.29 Z\" fill=\"#000000\" fill-rule=\"evenodd\" fill-opacity=\"1\" /><path clip-path=\"url(#clip310)\" d=\"M500.058 1542.97 L504.942 1542.97 L504.942 1548.85 L500.058 1548.85 L500.058 1542.97 Z\" fill=\"#000000\" fill-rule=\"evenodd\" fill-opacity=\"1\" /><path clip-path=\"url(#clip310)\" d=\"M515.174 1514.29 L533.53 1514.29 L533.53 1518.22 L519.456 1518.22 L519.456 1526.7 Q520.475 1526.35 521.493 1526.19 Q522.512 1526 523.53 1526 Q529.317 1526 532.697 1529.17 Q536.076 1532.34 536.076 1537.76 Q536.076 1543.34 532.604 1546.44 Q529.132 1549.52 522.812 1549.52 Q520.637 1549.52 518.368 1549.15 Q516.123 1548.78 513.715 1548.04 L513.715 1543.34 Q515.799 1544.47 518.021 1545.03 Q520.243 1545.58 522.72 1545.58 Q526.724 1545.58 529.062 1543.48 Q531.4 1541.37 531.4 1537.76 Q531.4 1534.15 529.062 1532.04 Q526.724 1529.94 522.72 1529.94 Q520.845 1529.94 518.97 1530.35 Q517.118 1530.77 515.174 1531.65 L515.174 1514.29 Z\" fill=\"#000000\" fill-rule=\"evenodd\" fill-opacity=\"1\" /><path clip-path=\"url(#clip310)\" d=\"M693.571 1544.91 L701.21 1544.91 L701.21 1518.55 L692.9 1520.21 L692.9 1515.95 L701.163 1514.29 L705.839 1514.29 L705.839 1544.91 L713.478 1544.91 L713.478 1548.85 L693.571 1548.85 L693.571 1544.91 Z\" fill=\"#000000\" fill-rule=\"evenodd\" fill-opacity=\"1\" /><path clip-path=\"url(#clip310)\" d=\"M732.923 1517.37 Q729.311 1517.37 727.483 1520.93 Q725.677 1524.47 725.677 1531.6 Q725.677 1538.71 727.483 1542.27 Q729.311 1545.82 732.923 1545.82 Q736.557 1545.82 738.362 1542.27 Q740.191 1538.71 740.191 1531.6 Q740.191 1524.47 738.362 1520.93 Q736.557 1517.37 732.923 1517.37 M732.923 1513.66 Q738.733 1513.66 741.788 1518.27 Q744.867 1522.85 744.867 1531.6 Q744.867 1540.33 741.788 1544.94 Q738.733 1549.52 732.923 1549.52 Q727.112 1549.52 724.034 1544.94 Q720.978 1540.33 720.978 1531.6 Q720.978 1522.85 724.034 1518.27 Q727.112 1513.66 732.923 1513.66 Z\" fill=\"#000000\" fill-rule=\"evenodd\" fill-opacity=\"1\" /><path clip-path=\"url(#clip310)\" d=\"M753.084 1542.97 L757.969 1542.97 L757.969 1548.85 L753.084 1548.85 L753.084 1542.97 Z\" fill=\"#000000\" fill-rule=\"evenodd\" fill-opacity=\"1\" /><path clip-path=\"url(#clip310)\" d=\"M778.154 1517.37 Q774.543 1517.37 772.714 1520.93 Q770.908 1524.47 770.908 1531.6 Q770.908 1538.71 772.714 1542.27 Q774.543 1545.82 778.154 1545.82 Q781.788 1545.82 783.594 1542.27 Q785.422 1538.71 785.422 1531.6 Q785.422 1524.47 783.594 1520.93 Q781.788 1517.37 778.154 1517.37 M778.154 1513.66 Q783.964 1513.66 787.019 1518.27 Q790.098 1522.85 790.098 1531.6 Q790.098 1540.33 787.019 1544.94 Q783.964 1549.52 778.154 1549.52 Q772.344 1549.52 769.265 1544.94 Q766.209 1540.33 766.209 1531.6 Q766.209 1522.85 769.265 1518.27 Q772.344 1513.66 778.154 1513.66 Z\" fill=\"#000000\" fill-rule=\"evenodd\" fill-opacity=\"1\" /><path clip-path=\"url(#clip310)\" d=\"M933.171 1544.91 L940.81 1544.91 L940.81 1518.55 L932.5 1520.21 L932.5 1515.95 L940.764 1514.29 L945.44 1514.29 L945.44 1544.91 L953.079 1544.91 L953.079 1548.85 L933.171 1548.85 L933.171 1544.91 Z\" fill=\"#000000\" fill-rule=\"evenodd\" fill-opacity=\"1\" /><path clip-path=\"url(#clip310)\" d=\"M966.551 1544.91 L982.87 1544.91 L982.87 1548.85 L960.926 1548.85 L960.926 1544.91 Q963.588 1542.16 968.171 1537.53 Q972.778 1532.88 973.958 1531.53 Q976.204 1529.01 977.083 1527.27 Q977.986 1525.51 977.986 1523.82 Q977.986 1521.07 976.042 1519.33 Q974.12 1517.6 971.019 1517.6 Q968.819 1517.6 966.366 1518.36 Q963.935 1519.13 961.157 1520.68 L961.157 1515.95 Q963.982 1514.82 966.435 1514.24 Q968.889 1513.66 970.926 1513.66 Q976.296 1513.66 979.491 1516.35 Q982.685 1519.03 982.685 1523.52 Q982.685 1525.65 981.875 1527.57 Q981.088 1529.47 978.981 1532.07 Q978.403 1532.74 975.301 1535.95 Q972.199 1539.15 966.551 1544.91 Z\" fill=\"#000000\" fill-rule=\"evenodd\" fill-opacity=\"1\" /><path clip-path=\"url(#clip310)\" d=\"M992.685 1542.97 L997.569 1542.97 L997.569 1548.85 L992.685 1548.85 L992.685 1542.97 Z\" fill=\"#000000\" fill-rule=\"evenodd\" fill-opacity=\"1\" /><path clip-path=\"url(#clip310)\" d=\"M1007.8 1514.29 L1026.16 1514.29 L1026.16 1518.22 L1012.08 1518.22 L1012.08 1526.7 Q1013.1 1526.35 1014.12 1526.19 Q1015.14 1526 1016.16 1526 Q1021.94 1526 1025.32 1529.17 Q1028.7 1532.34 1028.7 1537.76 Q1028.7 1543.34 1025.23 1546.44 Q1021.76 1549.52 1015.44 1549.52 Q1013.26 1549.52 1011 1549.15 Q1008.75 1548.78 1006.34 1548.04 L1006.34 1543.34 Q1008.43 1544.47 1010.65 1545.03 Q1012.87 1545.58 1015.35 1545.58 Q1019.35 1545.58 1021.69 1543.48 Q1024.03 1541.37 1024.03 1537.76 Q1024.03 1534.15 1021.69 1532.04 Q1019.35 1529.94 1015.35 1529.94 Q1013.47 1529.94 1011.6 1530.35 Q1009.75 1530.77 1007.8 1531.65 L1007.8 1514.29 Z\" fill=\"#000000\" fill-rule=\"evenodd\" fill-opacity=\"1\" /><polyline clip-path=\"url(#clip314)\" style=\"stroke:#000000; stroke-linecap:butt; stroke-linejoin:round; stroke-width:2; stroke-opacity:0.1; fill:none\" points=\"\n",
       "  138.959,1418.31 1152.76,1418.31 \n",
       "  \"/>\n",
       "<polyline clip-path=\"url(#clip314)\" style=\"stroke:#000000; stroke-linecap:butt; stroke-linejoin:round; stroke-width:2; stroke-opacity:0.1; fill:none\" points=\"\n",
       "  138.959,1336.27 1152.76,1336.27 \n",
       "  \"/>\n",
       "<polyline clip-path=\"url(#clip314)\" style=\"stroke:#000000; stroke-linecap:butt; stroke-linejoin:round; stroke-width:2; stroke-opacity:0.1; fill:none\" points=\"\n",
       "  138.959,1254.22 1152.76,1254.22 \n",
       "  \"/>\n",
       "<polyline clip-path=\"url(#clip314)\" style=\"stroke:#000000; stroke-linecap:butt; stroke-linejoin:round; stroke-width:2; stroke-opacity:0.1; fill:none\" points=\"\n",
       "  138.959,1172.18 1152.76,1172.18 \n",
       "  \"/>\n",
       "<polyline clip-path=\"url(#clip314)\" style=\"stroke:#000000; stroke-linecap:butt; stroke-linejoin:round; stroke-width:2; stroke-opacity:0.1; fill:none\" points=\"\n",
       "  138.959,1090.13 1152.76,1090.13 \n",
       "  \"/>\n",
       "<polyline clip-path=\"url(#clip314)\" style=\"stroke:#000000; stroke-linecap:butt; stroke-linejoin:round; stroke-width:2; stroke-opacity:0.1; fill:none\" points=\"\n",
       "  138.959,1008.09 1152.76,1008.09 \n",
       "  \"/>\n",
       "<polyline clip-path=\"url(#clip314)\" style=\"stroke:#000000; stroke-linecap:butt; stroke-linejoin:round; stroke-width:2; stroke-opacity:0.1; fill:none\" points=\"\n",
       "  138.959,926.047 1152.76,926.047 \n",
       "  \"/>\n",
       "<polyline clip-path=\"url(#clip310)\" style=\"stroke:#000000; stroke-linecap:butt; stroke-linejoin:round; stroke-width:4; stroke-opacity:1; fill:none\" points=\"\n",
       "  138.959,1486.45 138.959,847.244 \n",
       "  \"/>\n",
       "<polyline clip-path=\"url(#clip310)\" style=\"stroke:#000000; stroke-linecap:butt; stroke-linejoin:round; stroke-width:4; stroke-opacity:1; fill:none\" points=\"\n",
       "  138.959,1418.31 157.857,1418.31 \n",
       "  \"/>\n",
       "<polyline clip-path=\"url(#clip310)\" style=\"stroke:#000000; stroke-linecap:butt; stroke-linejoin:round; stroke-width:4; stroke-opacity:1; fill:none\" points=\"\n",
       "  138.959,1336.27 157.857,1336.27 \n",
       "  \"/>\n",
       "<polyline clip-path=\"url(#clip310)\" style=\"stroke:#000000; stroke-linecap:butt; stroke-linejoin:round; stroke-width:4; stroke-opacity:1; fill:none\" points=\"\n",
       "  138.959,1254.22 157.857,1254.22 \n",
       "  \"/>\n",
       "<polyline clip-path=\"url(#clip310)\" style=\"stroke:#000000; stroke-linecap:butt; stroke-linejoin:round; stroke-width:4; stroke-opacity:1; fill:none\" points=\"\n",
       "  138.959,1172.18 157.857,1172.18 \n",
       "  \"/>\n",
       "<polyline clip-path=\"url(#clip310)\" style=\"stroke:#000000; stroke-linecap:butt; stroke-linejoin:round; stroke-width:4; stroke-opacity:1; fill:none\" points=\"\n",
       "  138.959,1090.13 157.857,1090.13 \n",
       "  \"/>\n",
       "<polyline clip-path=\"url(#clip310)\" style=\"stroke:#000000; stroke-linecap:butt; stroke-linejoin:round; stroke-width:4; stroke-opacity:1; fill:none\" points=\"\n",
       "  138.959,1008.09 157.857,1008.09 \n",
       "  \"/>\n",
       "<polyline clip-path=\"url(#clip310)\" style=\"stroke:#000000; stroke-linecap:butt; stroke-linejoin:round; stroke-width:4; stroke-opacity:1; fill:none\" points=\"\n",
       "  138.959,926.047 157.857,926.047 \n",
       "  \"/>\n",
       "<path clip-path=\"url(#clip310)\" d=\"M91.4317 1416.45 Q88.2836 1416.45 86.4318 1418.6 Q84.6031 1420.75 84.6031 1424.5 Q84.6031 1428.23 86.4318 1430.41 Q88.2836 1432.56 91.4317 1432.56 Q94.5799 1432.56 96.4085 1430.41 Q98.2604 1428.23 98.2604 1424.5 Q98.2604 1420.75 96.4085 1418.6 Q94.5799 1416.45 91.4317 1416.45 M100.714 1401.79 L100.714 1406.05 Q98.9548 1405.22 97.1493 1404.78 Q95.3669 1404.34 93.6076 1404.34 Q88.978 1404.34 86.5243 1407.47 Q84.0938 1410.59 83.7466 1416.91 Q85.1123 1414.9 87.1725 1413.83 Q89.2327 1412.74 91.7095 1412.74 Q96.9178 1412.74 99.927 1415.91 Q102.959 1419.06 102.959 1424.5 Q102.959 1429.83 99.8113 1433.04 Q96.6632 1436.26 91.4317 1436.26 Q85.4364 1436.26 82.2651 1431.68 Q79.0938 1427.07 79.0938 1418.35 Q79.0938 1410.15 82.9827 1405.29 Q86.8716 1400.41 93.4225 1400.41 Q95.1817 1400.41 96.9641 1400.75 Q98.7696 1401.1 100.714 1401.79 Z\" fill=\"#000000\" fill-rule=\"evenodd\" fill-opacity=\"1\" /><path clip-path=\"url(#clip310)\" d=\"M80.7373 1318.99 L102.959 1318.99 L102.959 1320.98 L90.4132 1353.55 L85.529 1353.55 L97.3345 1322.92 L80.7373 1322.92 L80.7373 1318.99 Z\" fill=\"#000000\" fill-rule=\"evenodd\" fill-opacity=\"1\" /><path clip-path=\"url(#clip310)\" d=\"M91.1077 1255.09 Q87.7743 1255.09 85.8531 1256.87 Q83.9549 1258.66 83.9549 1261.78 Q83.9549 1264.91 85.8531 1266.69 Q87.7743 1268.47 91.1077 1268.47 Q94.441 1268.47 96.3623 1266.69 Q98.2835 1264.88 98.2835 1261.78 Q98.2835 1258.66 96.3623 1256.87 Q94.4641 1255.09 91.1077 1255.09 M86.4318 1253.1 Q83.4225 1252.36 81.7327 1250.3 Q80.066 1248.24 80.066 1245.28 Q80.066 1241.13 83.0058 1238.73 Q85.9688 1236.32 91.1077 1236.32 Q96.2697 1236.32 99.2095 1238.73 Q102.149 1241.13 102.149 1245.28 Q102.149 1248.24 100.459 1250.3 Q98.7928 1252.36 95.8067 1253.1 Q99.1863 1253.89 101.061 1256.18 Q102.959 1258.47 102.959 1261.78 Q102.959 1266.8 99.8808 1269.49 Q96.8252 1272.17 91.1077 1272.17 Q85.3901 1272.17 82.3114 1269.49 Q79.2559 1266.8 79.2559 1261.78 Q79.2559 1258.47 81.154 1256.18 Q83.0521 1253.89 86.4318 1253.1 M84.7188 1245.72 Q84.7188 1248.4 86.3855 1249.91 Q88.0753 1251.41 91.1077 1251.41 Q94.1169 1251.41 95.8067 1249.91 Q97.5197 1248.4 97.5197 1245.72 Q97.5197 1243.03 95.8067 1241.53 Q94.1169 1240.02 91.1077 1240.02 Q88.0753 1240.02 86.3855 1241.53 Q84.7188 1243.03 84.7188 1245.72 Z\" fill=\"#000000\" fill-rule=\"evenodd\" fill-opacity=\"1\" /><path clip-path=\"url(#clip310)\" d=\"M81.3392 1188.74 L81.3392 1184.48 Q83.0984 1185.32 84.904 1185.76 Q86.7095 1186.19 88.4456 1186.19 Q93.0752 1186.19 95.5058 1183.09 Q97.9595 1179.97 98.3067 1173.63 Q96.9641 1175.62 94.9039 1176.68 Q92.8438 1177.75 90.3438 1177.75 Q85.1586 1177.75 82.1262 1174.62 Q79.117 1171.47 79.117 1166.03 Q79.117 1160.71 82.2651 1157.49 Q85.4132 1154.27 90.6447 1154.27 Q96.64 1154.27 99.7882 1158.88 Q102.959 1163.46 102.959 1172.21 Q102.959 1180.38 99.0706 1185.27 Q95.2049 1190.13 88.654 1190.13 Q86.8947 1190.13 85.0892 1189.78 Q83.2836 1189.44 81.3392 1188.74 M90.6447 1174.09 Q93.7928 1174.09 95.6215 1171.94 Q97.4734 1169.78 97.4734 1166.03 Q97.4734 1162.31 95.6215 1160.15 Q93.7928 1157.98 90.6447 1157.98 Q87.4966 1157.98 85.6447 1160.15 Q83.816 1162.31 83.816 1166.03 Q83.816 1169.78 85.6447 1171.94 Q87.4966 1174.09 90.6447 1174.09 Z\" fill=\"#000000\" fill-rule=\"evenodd\" fill-opacity=\"1\" /><path clip-path=\"url(#clip310)\" d=\"M51.6634 1103.48 L59.3023 1103.48 L59.3023 1077.11 L50.9921 1078.78 L50.9921 1074.52 L59.256 1072.85 L63.9319 1072.85 L63.9319 1103.48 L71.5707 1103.48 L71.5707 1107.41 L51.6634 1107.41 L51.6634 1103.48 Z\" fill=\"#000000\" fill-rule=\"evenodd\" fill-opacity=\"1\" /><path clip-path=\"url(#clip310)\" d=\"M91.0151 1075.93 Q87.404 1075.93 85.5753 1079.5 Q83.7697 1083.04 83.7697 1090.17 Q83.7697 1097.28 85.5753 1100.84 Q87.404 1104.38 91.0151 1104.38 Q94.6493 1104.38 96.4548 1100.84 Q98.2835 1097.28 98.2835 1090.17 Q98.2835 1083.04 96.4548 1079.5 Q94.6493 1075.93 91.0151 1075.93 M91.0151 1072.23 Q96.8252 1072.23 99.8808 1076.84 Q102.959 1081.42 102.959 1090.17 Q102.959 1098.9 99.8808 1103.5 Q96.8252 1108.09 91.0151 1108.09 Q85.2049 1108.09 82.1262 1103.5 Q79.0707 1098.9 79.0707 1090.17 Q79.0707 1081.42 82.1262 1076.84 Q85.2049 1072.23 91.0151 1072.23 Z\" fill=\"#000000\" fill-rule=\"evenodd\" fill-opacity=\"1\" /><path clip-path=\"url(#clip310)\" d=\"M52.8903 1021.44 L60.5291 1021.44 L60.5291 995.07 L52.219 996.737 L52.219 992.478 L60.4828 990.811 L65.1587 990.811 L65.1587 1021.44 L72.7976 1021.44 L72.7976 1025.37 L52.8903 1025.37 L52.8903 1021.44 Z\" fill=\"#000000\" fill-rule=\"evenodd\" fill-opacity=\"1\" /><path clip-path=\"url(#clip310)\" d=\"M83.0521 1021.44 L90.691 1021.44 L90.691 995.07 L82.3808 996.737 L82.3808 992.478 L90.6447 990.811 L95.3206 990.811 L95.3206 1021.44 L102.959 1021.44 L102.959 1025.37 L83.0521 1025.37 L83.0521 1021.44 Z\" fill=\"#000000\" fill-rule=\"evenodd\" fill-opacity=\"1\" /><path clip-path=\"url(#clip310)\" d=\"M53.2606 939.392 L60.8995 939.392 L60.8995 913.026 L52.5893 914.693 L52.5893 910.434 L60.8532 908.767 L65.5291 908.767 L65.5291 939.392 L73.1679 939.392 L73.1679 943.327 L53.2606 943.327 L53.2606 939.392 Z\" fill=\"#000000\" fill-rule=\"evenodd\" fill-opacity=\"1\" /><path clip-path=\"url(#clip310)\" d=\"M86.6401 939.392 L102.959 939.392 L102.959 943.327 L81.0151 943.327 L81.0151 939.392 Q83.6771 936.637 88.2604 932.008 Q92.8669 927.355 94.0475 926.013 Q96.2928 923.489 97.1724 921.753 Q98.0752 919.994 98.0752 918.304 Q98.0752 915.55 96.1308 913.813 Q94.2095 912.077 91.1077 912.077 Q88.9086 912.077 86.4549 912.841 Q84.0244 913.605 81.2466 915.156 L81.2466 910.434 Q84.0707 909.3 86.5243 908.721 Q88.978 908.142 91.0151 908.142 Q96.3854 908.142 99.5798 910.827 Q102.774 913.513 102.774 918.003 Q102.774 920.133 101.964 922.054 Q101.177 923.952 99.0706 926.545 Q98.4919 927.216 95.39 930.434 Q92.2882 933.628 86.6401 939.392 Z\" fill=\"#000000\" fill-rule=\"evenodd\" fill-opacity=\"1\" /><circle clip-path=\"url(#clip314)\" cx=\"741.499\" cy=\"1298.53\" r=\"14.4\" fill=\"#009af9\" fill-rule=\"evenodd\" fill-opacity=\"1\" stroke=\"#000000\" stroke-opacity=\"1\" stroke-width=\"3.2\"/>\n",
       "<circle clip-path=\"url(#clip314)\" cx=\"550.216\" cy=\"1355.14\" r=\"14.4\" fill=\"#009af9\" fill-rule=\"evenodd\" fill-opacity=\"1\" stroke=\"#000000\" stroke-opacity=\"1\" stroke-width=\"3.2\"/>\n",
       "<circle clip-path=\"url(#clip314)\" cx=\"1028.42\" cy=\"865.335\" r=\"14.4\" fill=\"#009af9\" fill-rule=\"evenodd\" fill-opacity=\"1\" stroke=\"#000000\" stroke-opacity=\"1\" stroke-width=\"3.2\"/>\n",
       "<circle clip-path=\"url(#clip314)\" cx=\"645.858\" cy=\"1327.24\" r=\"14.4\" fill=\"#009af9\" fill-rule=\"evenodd\" fill-opacity=\"1\" stroke=\"#000000\" stroke-opacity=\"1\" stroke-width=\"3.2\"/>\n",
       "<circle clip-path=\"url(#clip314)\" cx=\"837.14\" cy=\"1269.81\" r=\"14.4\" fill=\"#009af9\" fill-rule=\"evenodd\" fill-opacity=\"1\" stroke=\"#000000\" stroke-opacity=\"1\" stroke-width=\"3.2\"/>\n",
       "<circle clip-path=\"url(#clip314)\" cx=\"1124.06\" cy=\"1185.31\" r=\"14.4\" fill=\"#009af9\" fill-rule=\"evenodd\" fill-opacity=\"1\" stroke=\"#000000\" stroke-opacity=\"1\" stroke-width=\"3.2\"/>\n",
       "<circle clip-path=\"url(#clip314)\" cx=\"358.934\" cy=\"1411.75\" r=\"14.4\" fill=\"#009af9\" fill-rule=\"evenodd\" fill-opacity=\"1\" stroke=\"#000000\" stroke-opacity=\"1\" stroke-width=\"3.2\"/>\n",
       "<circle clip-path=\"url(#clip314)\" cx=\"167.652\" cy=\"1468.36\" r=\"14.4\" fill=\"#009af9\" fill-rule=\"evenodd\" fill-opacity=\"1\" stroke=\"#000000\" stroke-opacity=\"1\" stroke-width=\"3.2\"/>\n",
       "<circle clip-path=\"url(#clip314)\" cx=\"932.781\" cy=\"1241.92\" r=\"14.4\" fill=\"#009af9\" fill-rule=\"evenodd\" fill-opacity=\"1\" stroke=\"#000000\" stroke-opacity=\"1\" stroke-width=\"3.2\"/>\n",
       "<circle clip-path=\"url(#clip314)\" cx=\"454.575\" cy=\"1383.85\" r=\"14.4\" fill=\"#009af9\" fill-rule=\"evenodd\" fill-opacity=\"1\" stroke=\"#000000\" stroke-opacity=\"1\" stroke-width=\"3.2\"/>\n",
       "<circle clip-path=\"url(#clip314)\" cx=\"263.293\" cy=\"1440.46\" r=\"14.4\" fill=\"#009af9\" fill-rule=\"evenodd\" fill-opacity=\"1\" stroke=\"#000000\" stroke-opacity=\"1\" stroke-width=\"3.2\"/>\n",
       "<path clip-path=\"url(#clip310)\" d=\"\n",
       "M1338.96 1486.45 L2352.76 1486.45 L2352.76 847.244 L1338.96 847.244  Z\n",
       "  \" fill=\"#ffffff\" fill-rule=\"evenodd\" fill-opacity=\"1\"/>\n",
       "<defs>\n",
       "  <clipPath id=\"clip315\">\n",
       "    <rect x=\"1338\" y=\"847\" width=\"1015\" height=\"640\"/>\n",
       "  </clipPath>\n",
       "</defs>\n",
       "<polyline clip-path=\"url(#clip315)\" style=\"stroke:#000000; stroke-linecap:butt; stroke-linejoin:round; stroke-width:2; stroke-opacity:0.1; fill:none\" points=\"\n",
       "  1541.54,1486.45 1541.54,847.244 \n",
       "  \"/>\n",
       "<polyline clip-path=\"url(#clip315)\" style=\"stroke:#000000; stroke-linecap:butt; stroke-linejoin:round; stroke-width:2; stroke-opacity:0.1; fill:none\" points=\"\n",
       "  1758.91,1486.45 1758.91,847.244 \n",
       "  \"/>\n",
       "<polyline clip-path=\"url(#clip315)\" style=\"stroke:#000000; stroke-linecap:butt; stroke-linejoin:round; stroke-width:2; stroke-opacity:0.1; fill:none\" points=\"\n",
       "  1976.28,1486.45 1976.28,847.244 \n",
       "  \"/>\n",
       "<polyline clip-path=\"url(#clip315)\" style=\"stroke:#000000; stroke-linecap:butt; stroke-linejoin:round; stroke-width:2; stroke-opacity:0.1; fill:none\" points=\"\n",
       "  2193.64,1486.45 2193.64,847.244 \n",
       "  \"/>\n",
       "<polyline clip-path=\"url(#clip310)\" style=\"stroke:#000000; stroke-linecap:butt; stroke-linejoin:round; stroke-width:4; stroke-opacity:1; fill:none\" points=\"\n",
       "  1338.96,1486.45 2352.76,1486.45 \n",
       "  \"/>\n",
       "<polyline clip-path=\"url(#clip310)\" style=\"stroke:#000000; stroke-linecap:butt; stroke-linejoin:round; stroke-width:4; stroke-opacity:1; fill:none\" points=\"\n",
       "  1541.54,1486.45 1541.54,1467.55 \n",
       "  \"/>\n",
       "<polyline clip-path=\"url(#clip310)\" style=\"stroke:#000000; stroke-linecap:butt; stroke-linejoin:round; stroke-width:4; stroke-opacity:1; fill:none\" points=\"\n",
       "  1758.91,1486.45 1758.91,1467.55 \n",
       "  \"/>\n",
       "<polyline clip-path=\"url(#clip310)\" style=\"stroke:#000000; stroke-linecap:butt; stroke-linejoin:round; stroke-width:4; stroke-opacity:1; fill:none\" points=\"\n",
       "  1976.28,1486.45 1976.28,1467.55 \n",
       "  \"/>\n",
       "<polyline clip-path=\"url(#clip310)\" style=\"stroke:#000000; stroke-linecap:butt; stroke-linejoin:round; stroke-width:4; stroke-opacity:1; fill:none\" points=\"\n",
       "  2193.64,1486.45 2193.64,1467.55 \n",
       "  \"/>\n",
       "<path clip-path=\"url(#clip310)\" d=\"M1493.62 1544.91 L1501.26 1544.91 L1501.26 1518.55 L1492.95 1520.21 L1492.95 1515.95 L1501.21 1514.29 L1505.89 1514.29 L1505.89 1544.91 L1513.52 1544.91 L1513.52 1548.85 L1493.62 1548.85 L1493.62 1544.91 Z\" fill=\"#000000\" fill-rule=\"evenodd\" fill-opacity=\"1\" /><path clip-path=\"url(#clip310)\" d=\"M1532.97 1517.37 Q1529.36 1517.37 1527.53 1520.93 Q1525.72 1524.47 1525.72 1531.6 Q1525.72 1538.71 1527.53 1542.27 Q1529.36 1545.82 1532.97 1545.82 Q1536.6 1545.82 1538.41 1542.27 Q1540.24 1538.71 1540.24 1531.6 Q1540.24 1524.47 1538.41 1520.93 Q1536.6 1517.37 1532.97 1517.37 M1532.97 1513.66 Q1538.78 1513.66 1541.83 1518.27 Q1544.91 1522.85 1544.91 1531.6 Q1544.91 1540.33 1541.83 1544.94 Q1538.78 1549.52 1532.97 1549.52 Q1527.16 1549.52 1524.08 1544.94 Q1521.02 1540.33 1521.02 1531.6 Q1521.02 1522.85 1524.08 1518.27 Q1527.16 1513.66 1532.97 1513.66 Z\" fill=\"#000000\" fill-rule=\"evenodd\" fill-opacity=\"1\" /><path clip-path=\"url(#clip310)\" d=\"M1553.13 1542.97 L1558.01 1542.97 L1558.01 1548.85 L1553.13 1548.85 L1553.13 1542.97 Z\" fill=\"#000000\" fill-rule=\"evenodd\" fill-opacity=\"1\" /><path clip-path=\"url(#clip310)\" d=\"M1578.2 1517.37 Q1574.59 1517.37 1572.76 1520.93 Q1570.95 1524.47 1570.95 1531.6 Q1570.95 1538.71 1572.76 1542.27 Q1574.59 1545.82 1578.2 1545.82 Q1581.83 1545.82 1583.64 1542.27 Q1585.47 1538.71 1585.47 1531.6 Q1585.47 1524.47 1583.64 1520.93 Q1581.83 1517.37 1578.2 1517.37 M1578.2 1513.66 Q1584.01 1513.66 1587.07 1518.27 Q1590.14 1522.85 1590.14 1531.6 Q1590.14 1540.33 1587.07 1544.94 Q1584.01 1549.52 1578.2 1549.52 Q1572.39 1549.52 1569.31 1544.94 Q1566.26 1540.33 1566.26 1531.6 Q1566.26 1522.85 1569.31 1518.27 Q1572.39 1513.66 1578.2 1513.66 Z\" fill=\"#000000\" fill-rule=\"evenodd\" fill-opacity=\"1\" /><path clip-path=\"url(#clip310)\" d=\"M1711.48 1544.91 L1719.12 1544.91 L1719.12 1518.55 L1710.81 1520.21 L1710.81 1515.95 L1719.07 1514.29 L1723.75 1514.29 L1723.75 1544.91 L1731.39 1544.91 L1731.39 1548.85 L1711.48 1548.85 L1711.48 1544.91 Z\" fill=\"#000000\" fill-rule=\"evenodd\" fill-opacity=\"1\" /><path clip-path=\"url(#clip310)\" d=\"M1744.86 1544.91 L1761.18 1544.91 L1761.18 1548.85 L1739.24 1548.85 L1739.24 1544.91 Q1741.9 1542.16 1746.48 1537.53 Q1751.09 1532.88 1752.27 1531.53 Q1754.51 1529.01 1755.39 1527.27 Q1756.3 1525.51 1756.3 1523.82 Q1756.3 1521.07 1754.35 1519.33 Q1752.43 1517.6 1749.33 1517.6 Q1747.13 1517.6 1744.68 1518.36 Q1742.24 1519.13 1739.47 1520.68 L1739.47 1515.95 Q1742.29 1514.82 1744.74 1514.24 Q1747.2 1513.66 1749.24 1513.66 Q1754.61 1513.66 1757.8 1516.35 Q1760.99 1519.03 1760.99 1523.52 Q1760.99 1525.65 1760.18 1527.57 Q1759.4 1529.47 1757.29 1532.07 Q1756.71 1532.74 1753.61 1535.95 Q1750.51 1539.15 1744.86 1544.91 Z\" fill=\"#000000\" fill-rule=\"evenodd\" fill-opacity=\"1\" /><path clip-path=\"url(#clip310)\" d=\"M1770.99 1542.97 L1775.88 1542.97 L1775.88 1548.85 L1770.99 1548.85 L1770.99 1542.97 Z\" fill=\"#000000\" fill-rule=\"evenodd\" fill-opacity=\"1\" /><path clip-path=\"url(#clip310)\" d=\"M1786.11 1514.29 L1804.47 1514.29 L1804.47 1518.22 L1790.39 1518.22 L1790.39 1526.7 Q1791.41 1526.35 1792.43 1526.19 Q1793.45 1526 1794.47 1526 Q1800.25 1526 1803.63 1529.17 Q1807.01 1532.34 1807.01 1537.76 Q1807.01 1543.34 1803.54 1546.44 Q1800.07 1549.52 1793.75 1549.52 Q1791.57 1549.52 1789.3 1549.15 Q1787.06 1548.78 1784.65 1548.04 L1784.65 1543.34 Q1786.74 1544.47 1788.96 1545.03 Q1791.18 1545.58 1793.66 1545.58 Q1797.66 1545.58 1800 1543.48 Q1802.34 1541.37 1802.34 1537.76 Q1802.34 1534.15 1800 1532.04 Q1797.66 1529.94 1793.66 1529.94 Q1791.78 1529.94 1789.91 1530.35 Q1788.05 1530.77 1786.11 1531.65 L1786.11 1514.29 Z\" fill=\"#000000\" fill-rule=\"evenodd\" fill-opacity=\"1\" /><path clip-path=\"url(#clip310)\" d=\"M1928.35 1544.91 L1935.99 1544.91 L1935.99 1518.55 L1927.68 1520.21 L1927.68 1515.95 L1935.94 1514.29 L1940.62 1514.29 L1940.62 1544.91 L1948.26 1544.91 L1948.26 1548.85 L1928.35 1548.85 L1928.35 1544.91 Z\" fill=\"#000000\" fill-rule=\"evenodd\" fill-opacity=\"1\" /><path clip-path=\"url(#clip310)\" d=\"M1957.75 1514.29 L1976.1 1514.29 L1976.1 1518.22 L1962.03 1518.22 L1962.03 1526.7 Q1963.05 1526.35 1964.07 1526.19 Q1965.09 1526 1966.1 1526 Q1971.89 1526 1975.27 1529.17 Q1978.65 1532.34 1978.65 1537.76 Q1978.65 1543.34 1975.18 1546.44 Q1971.71 1549.52 1965.39 1549.52 Q1963.21 1549.52 1960.94 1549.15 Q1958.7 1548.78 1956.29 1548.04 L1956.29 1543.34 Q1958.37 1544.47 1960.59 1545.03 Q1962.82 1545.58 1965.29 1545.58 Q1969.3 1545.58 1971.64 1543.48 Q1973.97 1541.37 1973.97 1537.76 Q1973.97 1534.15 1971.64 1532.04 Q1969.3 1529.94 1965.29 1529.94 Q1963.42 1529.94 1961.54 1530.35 Q1959.69 1530.77 1957.75 1531.65 L1957.75 1514.29 Z\" fill=\"#000000\" fill-rule=\"evenodd\" fill-opacity=\"1\" /><path clip-path=\"url(#clip310)\" d=\"M1987.86 1542.97 L1992.75 1542.97 L1992.75 1548.85 L1987.86 1548.85 L1987.86 1542.97 Z\" fill=\"#000000\" fill-rule=\"evenodd\" fill-opacity=\"1\" /><path clip-path=\"url(#clip310)\" d=\"M2012.93 1517.37 Q2009.32 1517.37 2007.49 1520.93 Q2005.69 1524.47 2005.69 1531.6 Q2005.69 1538.71 2007.49 1542.27 Q2009.32 1545.82 2012.93 1545.82 Q2016.57 1545.82 2018.37 1542.27 Q2020.2 1538.71 2020.2 1531.6 Q2020.2 1524.47 2018.37 1520.93 Q2016.57 1517.37 2012.93 1517.37 M2012.93 1513.66 Q2018.74 1513.66 2021.8 1518.27 Q2024.88 1522.85 2024.88 1531.6 Q2024.88 1540.33 2021.8 1544.94 Q2018.74 1549.52 2012.93 1549.52 Q2007.12 1549.52 2004.04 1544.94 Q2000.99 1540.33 2000.99 1531.6 Q2000.99 1522.85 2004.04 1518.27 Q2007.12 1513.66 2012.93 1513.66 Z\" fill=\"#000000\" fill-rule=\"evenodd\" fill-opacity=\"1\" /><path clip-path=\"url(#clip310)\" d=\"M2146.21 1544.91 L2153.85 1544.91 L2153.85 1518.55 L2145.54 1520.21 L2145.54 1515.95 L2153.81 1514.29 L2158.48 1514.29 L2158.48 1544.91 L2166.12 1544.91 L2166.12 1548.85 L2146.21 1548.85 L2146.21 1544.91 Z\" fill=\"#000000\" fill-rule=\"evenodd\" fill-opacity=\"1\" /><path clip-path=\"url(#clip310)\" d=\"M2174.38 1514.29 L2196.61 1514.29 L2196.61 1516.28 L2184.06 1548.85 L2179.18 1548.85 L2190.98 1518.22 L2174.38 1518.22 L2174.38 1514.29 Z\" fill=\"#000000\" fill-rule=\"evenodd\" fill-opacity=\"1\" /><path clip-path=\"url(#clip310)\" d=\"M2205.73 1542.97 L2210.61 1542.97 L2210.61 1548.85 L2205.73 1548.85 L2205.73 1542.97 Z\" fill=\"#000000\" fill-rule=\"evenodd\" fill-opacity=\"1\" /><path clip-path=\"url(#clip310)\" d=\"M2220.84 1514.29 L2239.2 1514.29 L2239.2 1518.22 L2225.13 1518.22 L2225.13 1526.7 Q2226.14 1526.35 2227.16 1526.19 Q2228.18 1526 2229.2 1526 Q2234.99 1526 2238.37 1529.17 Q2241.75 1532.34 2241.75 1537.76 Q2241.75 1543.34 2238.27 1546.44 Q2234.8 1549.52 2228.48 1549.52 Q2226.31 1549.52 2224.04 1549.15 Q2221.79 1548.78 2219.38 1548.04 L2219.38 1543.34 Q2221.47 1544.47 2223.69 1545.03 Q2225.91 1545.58 2228.39 1545.58 Q2232.39 1545.58 2234.73 1543.48 Q2237.07 1541.37 2237.07 1537.76 Q2237.07 1534.15 2234.73 1532.04 Q2232.39 1529.94 2228.39 1529.94 Q2226.51 1529.94 2224.64 1530.35 Q2222.79 1530.77 2220.84 1531.65 L2220.84 1514.29 Z\" fill=\"#000000\" fill-rule=\"evenodd\" fill-opacity=\"1\" /><polyline clip-path=\"url(#clip315)\" style=\"stroke:#000000; stroke-linecap:butt; stroke-linejoin:round; stroke-width:2; stroke-opacity:0.1; fill:none\" points=\"\n",
       "  1338.96,1405.98 2352.76,1405.98 \n",
       "  \"/>\n",
       "<polyline clip-path=\"url(#clip315)\" style=\"stroke:#000000; stroke-linecap:butt; stroke-linejoin:round; stroke-width:2; stroke-opacity:0.1; fill:none\" points=\"\n",
       "  1338.96,1322.8 2352.76,1322.8 \n",
       "  \"/>\n",
       "<polyline clip-path=\"url(#clip315)\" style=\"stroke:#000000; stroke-linecap:butt; stroke-linejoin:round; stroke-width:2; stroke-opacity:0.1; fill:none\" points=\"\n",
       "  1338.96,1239.62 2352.76,1239.62 \n",
       "  \"/>\n",
       "<polyline clip-path=\"url(#clip315)\" style=\"stroke:#000000; stroke-linecap:butt; stroke-linejoin:round; stroke-width:2; stroke-opacity:0.1; fill:none\" points=\"\n",
       "  1338.96,1156.45 2352.76,1156.45 \n",
       "  \"/>\n",
       "<polyline clip-path=\"url(#clip315)\" style=\"stroke:#000000; stroke-linecap:butt; stroke-linejoin:round; stroke-width:2; stroke-opacity:0.1; fill:none\" points=\"\n",
       "  1338.96,1073.27 2352.76,1073.27 \n",
       "  \"/>\n",
       "<polyline clip-path=\"url(#clip315)\" style=\"stroke:#000000; stroke-linecap:butt; stroke-linejoin:round; stroke-width:2; stroke-opacity:0.1; fill:none\" points=\"\n",
       "  1338.96,990.098 2352.76,990.098 \n",
       "  \"/>\n",
       "<polyline clip-path=\"url(#clip315)\" style=\"stroke:#000000; stroke-linecap:butt; stroke-linejoin:round; stroke-width:2; stroke-opacity:0.1; fill:none\" points=\"\n",
       "  1338.96,906.923 2352.76,906.923 \n",
       "  \"/>\n",
       "<polyline clip-path=\"url(#clip310)\" style=\"stroke:#000000; stroke-linecap:butt; stroke-linejoin:round; stroke-width:4; stroke-opacity:1; fill:none\" points=\"\n",
       "  1338.96,1486.45 1338.96,847.244 \n",
       "  \"/>\n",
       "<polyline clip-path=\"url(#clip310)\" style=\"stroke:#000000; stroke-linecap:butt; stroke-linejoin:round; stroke-width:4; stroke-opacity:1; fill:none\" points=\"\n",
       "  1338.96,1405.98 1357.86,1405.98 \n",
       "  \"/>\n",
       "<polyline clip-path=\"url(#clip310)\" style=\"stroke:#000000; stroke-linecap:butt; stroke-linejoin:round; stroke-width:4; stroke-opacity:1; fill:none\" points=\"\n",
       "  1338.96,1322.8 1357.86,1322.8 \n",
       "  \"/>\n",
       "<polyline clip-path=\"url(#clip310)\" style=\"stroke:#000000; stroke-linecap:butt; stroke-linejoin:round; stroke-width:4; stroke-opacity:1; fill:none\" points=\"\n",
       "  1338.96,1239.62 1357.86,1239.62 \n",
       "  \"/>\n",
       "<polyline clip-path=\"url(#clip310)\" style=\"stroke:#000000; stroke-linecap:butt; stroke-linejoin:round; stroke-width:4; stroke-opacity:1; fill:none\" points=\"\n",
       "  1338.96,1156.45 1357.86,1156.45 \n",
       "  \"/>\n",
       "<polyline clip-path=\"url(#clip310)\" style=\"stroke:#000000; stroke-linecap:butt; stroke-linejoin:round; stroke-width:4; stroke-opacity:1; fill:none\" points=\"\n",
       "  1338.96,1073.27 1357.86,1073.27 \n",
       "  \"/>\n",
       "<polyline clip-path=\"url(#clip310)\" style=\"stroke:#000000; stroke-linecap:butt; stroke-linejoin:round; stroke-width:4; stroke-opacity:1; fill:none\" points=\"\n",
       "  1338.96,990.098 1357.86,990.098 \n",
       "  \"/>\n",
       "<polyline clip-path=\"url(#clip310)\" style=\"stroke:#000000; stroke-linecap:butt; stroke-linejoin:round; stroke-width:4; stroke-opacity:1; fill:none\" points=\"\n",
       "  1338.96,906.923 1357.86,906.923 \n",
       "  \"/>\n",
       "<path clip-path=\"url(#clip310)\" d=\"M1291.43 1404.11 Q1288.28 1404.11 1286.43 1406.26 Q1284.6 1408.42 1284.6 1412.17 Q1284.6 1415.89 1286.43 1418.07 Q1288.28 1420.22 1291.43 1420.22 Q1294.58 1420.22 1296.41 1418.07 Q1298.26 1415.89 1298.26 1412.17 Q1298.26 1408.42 1296.41 1406.26 Q1294.58 1404.11 1291.43 1404.11 M1300.71 1389.46 L1300.71 1393.72 Q1298.95 1392.89 1297.15 1392.45 Q1295.37 1392.01 1293.61 1392.01 Q1288.98 1392.01 1286.52 1395.13 Q1284.09 1398.26 1283.75 1404.58 Q1285.11 1402.56 1287.17 1401.5 Q1289.23 1400.41 1291.71 1400.41 Q1296.92 1400.41 1299.93 1403.58 Q1302.96 1406.73 1302.96 1412.17 Q1302.96 1417.49 1299.81 1420.71 Q1296.66 1423.93 1291.43 1423.93 Q1285.44 1423.93 1282.27 1419.34 Q1279.09 1414.74 1279.09 1406.01 Q1279.09 1397.82 1282.98 1392.95 Q1286.87 1388.07 1293.42 1388.07 Q1295.18 1388.07 1296.96 1388.42 Q1298.77 1388.77 1300.71 1389.46 Z\" fill=\"#000000\" fill-rule=\"evenodd\" fill-opacity=\"1\" /><path clip-path=\"url(#clip310)\" d=\"M1280.74 1305.52 L1302.96 1305.52 L1302.96 1307.51 L1290.41 1340.08 L1285.53 1340.08 L1297.33 1309.46 L1280.74 1309.46 L1280.74 1305.52 Z\" fill=\"#000000\" fill-rule=\"evenodd\" fill-opacity=\"1\" /><path clip-path=\"url(#clip310)\" d=\"M1291.11 1240.49 Q1287.77 1240.49 1285.85 1242.28 Q1283.95 1244.06 1283.95 1247.18 Q1283.95 1250.31 1285.85 1252.09 Q1287.77 1253.87 1291.11 1253.87 Q1294.44 1253.87 1296.36 1252.09 Q1298.28 1250.28 1298.28 1247.18 Q1298.28 1244.06 1296.36 1242.28 Q1294.46 1240.49 1291.11 1240.49 M1286.43 1238.5 Q1283.42 1237.76 1281.73 1235.7 Q1280.07 1233.64 1280.07 1230.68 Q1280.07 1226.53 1283.01 1224.13 Q1285.97 1221.72 1291.11 1221.72 Q1296.27 1221.72 1299.21 1224.13 Q1302.15 1226.53 1302.15 1230.68 Q1302.15 1233.64 1300.46 1235.7 Q1298.79 1237.76 1295.81 1238.5 Q1299.19 1239.29 1301.06 1241.58 Q1302.96 1243.87 1302.96 1247.18 Q1302.96 1252.21 1299.88 1254.89 Q1296.83 1257.58 1291.11 1257.58 Q1285.39 1257.58 1282.31 1254.89 Q1279.26 1252.21 1279.26 1247.18 Q1279.26 1243.87 1281.15 1241.58 Q1283.05 1239.29 1286.43 1238.5 M1284.72 1231.12 Q1284.72 1233.8 1286.39 1235.31 Q1288.08 1236.81 1291.11 1236.81 Q1294.12 1236.81 1295.81 1235.31 Q1297.52 1233.8 1297.52 1231.12 Q1297.52 1228.43 1295.81 1226.93 Q1294.12 1225.42 1291.11 1225.42 Q1288.08 1225.42 1286.39 1226.93 Q1284.72 1228.43 1284.72 1231.12 Z\" fill=\"#000000\" fill-rule=\"evenodd\" fill-opacity=\"1\" /><path clip-path=\"url(#clip310)\" d=\"M1281.34 1173.01 L1281.34 1168.75 Q1283.1 1169.59 1284.9 1170.03 Q1286.71 1170.47 1288.45 1170.47 Q1293.08 1170.47 1295.51 1167.36 Q1297.96 1164.24 1298.31 1157.9 Q1296.96 1159.89 1294.9 1160.95 Q1292.84 1162.02 1290.34 1162.02 Q1285.16 1162.02 1282.13 1158.89 Q1279.12 1155.74 1279.12 1150.3 Q1279.12 1144.98 1282.27 1141.76 Q1285.41 1138.54 1290.64 1138.54 Q1296.64 1138.54 1299.79 1143.15 Q1302.96 1147.73 1302.96 1156.48 Q1302.96 1164.66 1299.07 1169.54 Q1295.2 1174.4 1288.65 1174.4 Q1286.89 1174.4 1285.09 1174.05 Q1283.28 1173.71 1281.34 1173.01 M1290.64 1158.36 Q1293.79 1158.36 1295.62 1156.21 Q1297.47 1154.05 1297.47 1150.3 Q1297.47 1146.58 1295.62 1144.42 Q1293.79 1142.25 1290.64 1142.25 Q1287.5 1142.25 1285.64 1144.42 Q1283.82 1146.58 1283.82 1150.3 Q1283.82 1154.05 1285.64 1156.21 Q1287.5 1158.36 1290.64 1158.36 Z\" fill=\"#000000\" fill-rule=\"evenodd\" fill-opacity=\"1\" /><path clip-path=\"url(#clip310)\" d=\"M1251.66 1086.62 L1259.3 1086.62 L1259.3 1060.25 L1250.99 1061.92 L1250.99 1057.66 L1259.26 1055.99 L1263.93 1055.99 L1263.93 1086.62 L1271.57 1086.62 L1271.57 1090.55 L1251.66 1090.55 L1251.66 1086.62 Z\" fill=\"#000000\" fill-rule=\"evenodd\" fill-opacity=\"1\" /><path clip-path=\"url(#clip310)\" d=\"M1291.02 1059.07 Q1287.4 1059.07 1285.58 1062.64 Q1283.77 1066.18 1283.77 1073.31 Q1283.77 1080.41 1285.58 1083.98 Q1287.4 1087.52 1291.02 1087.52 Q1294.65 1087.52 1296.45 1083.98 Q1298.28 1080.41 1298.28 1073.31 Q1298.28 1066.18 1296.45 1062.64 Q1294.65 1059.07 1291.02 1059.07 M1291.02 1055.37 Q1296.83 1055.37 1299.88 1059.97 Q1302.96 1064.56 1302.96 1073.31 Q1302.96 1082.04 1299.88 1086.64 Q1296.83 1091.22 1291.02 1091.22 Q1285.2 1091.22 1282.13 1086.64 Q1279.07 1082.04 1279.07 1073.31 Q1279.07 1064.56 1282.13 1059.97 Q1285.2 1055.37 1291.02 1055.37 Z\" fill=\"#000000\" fill-rule=\"evenodd\" fill-opacity=\"1\" /><path clip-path=\"url(#clip310)\" d=\"M1252.89 1003.44 L1260.53 1003.44 L1260.53 977.077 L1252.22 978.744 L1252.22 974.485 L1260.48 972.818 L1265.16 972.818 L1265.16 1003.44 L1272.8 1003.44 L1272.8 1007.38 L1252.89 1007.38 L1252.89 1003.44 Z\" fill=\"#000000\" fill-rule=\"evenodd\" fill-opacity=\"1\" /><path clip-path=\"url(#clip310)\" d=\"M1283.05 1003.44 L1290.69 1003.44 L1290.69 977.077 L1282.38 978.744 L1282.38 974.485 L1290.64 972.818 L1295.32 972.818 L1295.32 1003.44 L1302.96 1003.44 L1302.96 1007.38 L1283.05 1007.38 L1283.05 1003.44 Z\" fill=\"#000000\" fill-rule=\"evenodd\" fill-opacity=\"1\" /><path clip-path=\"url(#clip310)\" d=\"M1253.26 920.267 L1260.9 920.267 L1260.9 893.902 L1252.59 895.568 L1252.59 891.309 L1260.85 889.643 L1265.53 889.643 L1265.53 920.267 L1273.17 920.267 L1273.17 924.203 L1253.26 924.203 L1253.26 920.267 Z\" fill=\"#000000\" fill-rule=\"evenodd\" fill-opacity=\"1\" /><path clip-path=\"url(#clip310)\" d=\"M1286.64 920.267 L1302.96 920.267 L1302.96 924.203 L1281.02 924.203 L1281.02 920.267 Q1283.68 917.513 1288.26 912.883 Q1292.87 908.23 1294.05 906.888 Q1296.29 904.365 1297.17 902.629 Q1298.08 900.869 1298.08 899.18 Q1298.08 896.425 1296.13 894.689 Q1294.21 892.953 1291.11 892.953 Q1288.91 892.953 1286.45 893.717 Q1284.02 894.48 1281.25 896.031 L1281.25 891.309 Q1284.07 890.175 1286.52 889.596 Q1288.98 889.018 1291.02 889.018 Q1296.39 889.018 1299.58 891.703 Q1302.77 894.388 1302.77 898.879 Q1302.77 901.008 1301.96 902.929 Q1301.18 904.828 1299.07 907.42 Q1298.49 908.091 1295.39 911.309 Q1292.29 914.503 1286.64 920.267 Z\" fill=\"#000000\" fill-rule=\"evenodd\" fill-opacity=\"1\" /><circle clip-path=\"url(#clip315)\" cx=\"1367.65\" cy=\"1357.73\" r=\"14.4\" fill=\"#009af9\" fill-rule=\"evenodd\" fill-opacity=\"1\" stroke=\"#000000\" stroke-opacity=\"1\" stroke-width=\"3.2\"/>\n",
       "<circle clip-path=\"url(#clip315)\" cx=\"1367.65\" cy=\"1425.94\" r=\"14.4\" fill=\"#009af9\" fill-rule=\"evenodd\" fill-opacity=\"1\" stroke=\"#000000\" stroke-opacity=\"1\" stroke-width=\"3.2\"/>\n",
       "<circle clip-path=\"url(#clip315)\" cx=\"1367.65\" cy=\"1263.75\" r=\"14.4\" fill=\"#009af9\" fill-rule=\"evenodd\" fill-opacity=\"1\" stroke=\"#000000\" stroke-opacity=\"1\" stroke-width=\"3.2\"/>\n",
       "<circle clip-path=\"url(#clip315)\" cx=\"1367.65\" cy=\"1169.76\" r=\"14.4\" fill=\"#009af9\" fill-rule=\"evenodd\" fill-opacity=\"1\" stroke=\"#000000\" stroke-opacity=\"1\" stroke-width=\"3.2\"/>\n",
       "<circle clip-path=\"url(#clip315)\" cx=\"1367.65\" cy=\"1200.53\" r=\"14.4\" fill=\"#009af9\" fill-rule=\"evenodd\" fill-opacity=\"1\" stroke=\"#000000\" stroke-opacity=\"1\" stroke-width=\"3.2\"/>\n",
       "<circle clip-path=\"url(#clip315)\" cx=\"1367.65\" cy=\"1319.47\" r=\"14.4\" fill=\"#009af9\" fill-rule=\"evenodd\" fill-opacity=\"1\" stroke=\"#000000\" stroke-opacity=\"1\" stroke-width=\"3.2\"/>\n",
       "<circle clip-path=\"url(#clip315)\" cx=\"1367.65\" cy=\"1468.36\" r=\"14.4\" fill=\"#009af9\" fill-rule=\"evenodd\" fill-opacity=\"1\" stroke=\"#000000\" stroke-opacity=\"1\" stroke-width=\"3.2\"/>\n",
       "<circle clip-path=\"url(#clip315)\" cx=\"2324.06\" cy=\"865.335\" r=\"14.4\" fill=\"#009af9\" fill-rule=\"evenodd\" fill-opacity=\"1\" stroke=\"#000000\" stroke-opacity=\"1\" stroke-width=\"3.2\"/>\n",
       "<circle clip-path=\"url(#clip315)\" cx=\"1367.65\" cy=\"1442.57\" r=\"14.4\" fill=\"#009af9\" fill-rule=\"evenodd\" fill-opacity=\"1\" stroke=\"#000000\" stroke-opacity=\"1\" stroke-width=\"3.2\"/>\n",
       "<circle clip-path=\"url(#clip315)\" cx=\"1367.65\" cy=\"1247.11\" r=\"14.4\" fill=\"#009af9\" fill-rule=\"evenodd\" fill-opacity=\"1\" stroke=\"#000000\" stroke-opacity=\"1\" stroke-width=\"3.2\"/>\n",
       "<circle clip-path=\"url(#clip315)\" cx=\"1367.65\" cy=\"1331.95\" r=\"14.4\" fill=\"#009af9\" fill-rule=\"evenodd\" fill-opacity=\"1\" stroke=\"#000000\" stroke-opacity=\"1\" stroke-width=\"3.2\"/>\n",
       "</svg>\n"
      ]
     },
     "execution_count": 45,
     "metadata": {},
     "output_type": "execute_result"
    }
   ],
   "source": [
    "plot([scatter(aq[:, i], aq[:, i+1]; legend=false) for i in 1:2:7]...)"
   ]
  },
  {
   "cell_type": "markdown",
   "id": "217f0a82",
   "metadata": {},
   "source": [
    "## Mapping key-value pairs with dictionaries"
   ]
  },
  {
   "cell_type": "markdown",
   "id": "3cd09931",
   "metadata": {},
   "source": [
    "### The Sicherman puzzle"
   ]
  },
  {
   "cell_type": "markdown",
   "id": "98c9db64",
   "metadata": {},
   "source": [
    "### Creating a dictionary"
   ]
  },
  {
   "cell_type": "code",
   "execution_count": 46,
   "id": "31ee4671",
   "metadata": {},
   "outputs": [
    {
     "data": {
      "text/plain": [
       "Dict{Int64, Int64}()"
      ]
     },
     "execution_count": 46,
     "metadata": {},
     "output_type": "execute_result"
    }
   ],
   "source": [
    "two_standard = Dict{Int, Int}()"
   ]
  },
  {
   "cell_type": "code",
   "execution_count": 47,
   "id": "58f1d6c3",
   "metadata": {},
   "outputs": [],
   "source": [
    "for i in [1, 2, 3, 4, 5, 6]\n",
    "    for j in [1, 2, 3, 4, 5, 6]\n",
    "        s = i + j\n",
    "        if haskey(two_standard, s)\n",
    "            two_standard[s] += 1\n",
    "        else\n",
    "            two_standard[s] = 1\n",
    "        end\n",
    "    end\n",
    "end"
   ]
  },
  {
   "cell_type": "code",
   "execution_count": 48,
   "id": "16c8d993",
   "metadata": {},
   "outputs": [
    {
     "data": {
      "text/plain": [
       "Dict{Int64, Int64} with 11 entries:\n",
       "  5  => 4\n",
       "  12 => 1\n",
       "  8  => 5\n",
       "  6  => 5\n",
       "  11 => 2\n",
       "  9  => 4\n",
       "  3  => 2\n",
       "  7  => 6\n",
       "  4  => 3\n",
       "  2  => 1\n",
       "  10 => 3"
      ]
     },
     "execution_count": 48,
     "metadata": {},
     "output_type": "execute_result"
    }
   ],
   "source": [
    "two_standard"
   ]
  },
  {
   "cell_type": "code",
   "execution_count": 49,
   "id": "926d601b",
   "metadata": {},
   "outputs": [
    {
     "data": {
      "text/plain": [
       "KeySet for a Dict{Int64, Int64} with 11 entries. Keys:\n",
       "  5\n",
       "  12\n",
       "  8\n",
       "  6\n",
       "  11\n",
       "  9\n",
       "  3\n",
       "  7\n",
       "  4\n",
       "  2\n",
       "  10"
      ]
     },
     "execution_count": 49,
     "metadata": {},
     "output_type": "execute_result"
    }
   ],
   "source": [
    "keys(two_standard)"
   ]
  },
  {
   "cell_type": "code",
   "execution_count": 50,
   "id": "53355b5d",
   "metadata": {},
   "outputs": [
    {
     "data": {
      "text/plain": [
       "ValueIterator for a Dict{Int64, Int64} with 11 entries. Values:\n",
       "  4\n",
       "  1\n",
       "  5\n",
       "  5\n",
       "  2\n",
       "  4\n",
       "  2\n",
       "  6\n",
       "  3\n",
       "  1\n",
       "  3"
      ]
     },
     "execution_count": 50,
     "metadata": {},
     "output_type": "execute_result"
    }
   ],
   "source": [
    "values(two_standard)"
   ]
  },
  {
   "cell_type": "code",
   "execution_count": 51,
   "id": "6b361440",
   "metadata": {},
   "outputs": [
    {
     "data": {
      "image/svg+xml": [
       "<?xml version=\"1.0\" encoding=\"utf-8\"?>\n",
       "<svg xmlns=\"http://www.w3.org/2000/svg\" xmlns:xlink=\"http://www.w3.org/1999/xlink\" width=\"600\" height=\"400\" viewBox=\"0 0 2400 1600\">\n",
       "<defs>\n",
       "  <clipPath id=\"clip350\">\n",
       "    <rect x=\"0\" y=\"0\" width=\"2400\" height=\"1600\"/>\n",
       "  </clipPath>\n",
       "</defs>\n",
       "<path clip-path=\"url(#clip350)\" d=\"\n",
       "M0 1600 L2400 1600 L2400 0 L0 0  Z\n",
       "  \" fill=\"#ffffff\" fill-rule=\"evenodd\" fill-opacity=\"1\"/>\n",
       "<defs>\n",
       "  <clipPath id=\"clip351\">\n",
       "    <rect x=\"480\" y=\"0\" width=\"1681\" height=\"1600\"/>\n",
       "  </clipPath>\n",
       "</defs>\n",
       "<path clip-path=\"url(#clip350)\" d=\"\n",
       "M112.177 1486.45 L2352.76 1486.45 L2352.76 47.2441 L112.177 47.2441  Z\n",
       "  \" fill=\"#ffffff\" fill-rule=\"evenodd\" fill-opacity=\"1\"/>\n",
       "<defs>\n",
       "  <clipPath id=\"clip352\">\n",
       "    <rect x=\"112\" y=\"47\" width=\"2242\" height=\"1440\"/>\n",
       "  </clipPath>\n",
       "</defs>\n",
       "<polyline clip-path=\"url(#clip352)\" style=\"stroke:#000000; stroke-linecap:butt; stroke-linejoin:round; stroke-width:2; stroke-opacity:0.1; fill:none\" points=\"\n",
       "  175.59,1486.45 175.59,47.2441 \n",
       "  \"/>\n",
       "<polyline clip-path=\"url(#clip352)\" style=\"stroke:#000000; stroke-linecap:butt; stroke-linejoin:round; stroke-width:2; stroke-opacity:0.1; fill:none\" points=\"\n",
       "  386.965,1486.45 386.965,47.2441 \n",
       "  \"/>\n",
       "<polyline clip-path=\"url(#clip352)\" style=\"stroke:#000000; stroke-linecap:butt; stroke-linejoin:round; stroke-width:2; stroke-opacity:0.1; fill:none\" points=\"\n",
       "  598.34,1486.45 598.34,47.2441 \n",
       "  \"/>\n",
       "<polyline clip-path=\"url(#clip352)\" style=\"stroke:#000000; stroke-linecap:butt; stroke-linejoin:round; stroke-width:2; stroke-opacity:0.1; fill:none\" points=\"\n",
       "  809.716,1486.45 809.716,47.2441 \n",
       "  \"/>\n",
       "<polyline clip-path=\"url(#clip352)\" style=\"stroke:#000000; stroke-linecap:butt; stroke-linejoin:round; stroke-width:2; stroke-opacity:0.1; fill:none\" points=\"\n",
       "  1021.09,1486.45 1021.09,47.2441 \n",
       "  \"/>\n",
       "<polyline clip-path=\"url(#clip352)\" style=\"stroke:#000000; stroke-linecap:butt; stroke-linejoin:round; stroke-width:2; stroke-opacity:0.1; fill:none\" points=\"\n",
       "  1232.47,1486.45 1232.47,47.2441 \n",
       "  \"/>\n",
       "<polyline clip-path=\"url(#clip352)\" style=\"stroke:#000000; stroke-linecap:butt; stroke-linejoin:round; stroke-width:2; stroke-opacity:0.1; fill:none\" points=\"\n",
       "  1443.84,1486.45 1443.84,47.2441 \n",
       "  \"/>\n",
       "<polyline clip-path=\"url(#clip352)\" style=\"stroke:#000000; stroke-linecap:butt; stroke-linejoin:round; stroke-width:2; stroke-opacity:0.1; fill:none\" points=\"\n",
       "  1655.22,1486.45 1655.22,47.2441 \n",
       "  \"/>\n",
       "<polyline clip-path=\"url(#clip352)\" style=\"stroke:#000000; stroke-linecap:butt; stroke-linejoin:round; stroke-width:2; stroke-opacity:0.1; fill:none\" points=\"\n",
       "  1866.59,1486.45 1866.59,47.2441 \n",
       "  \"/>\n",
       "<polyline clip-path=\"url(#clip352)\" style=\"stroke:#000000; stroke-linecap:butt; stroke-linejoin:round; stroke-width:2; stroke-opacity:0.1; fill:none\" points=\"\n",
       "  2077.97,1486.45 2077.97,47.2441 \n",
       "  \"/>\n",
       "<polyline clip-path=\"url(#clip352)\" style=\"stroke:#000000; stroke-linecap:butt; stroke-linejoin:round; stroke-width:2; stroke-opacity:0.1; fill:none\" points=\"\n",
       "  2289.34,1486.45 2289.34,47.2441 \n",
       "  \"/>\n",
       "<polyline clip-path=\"url(#clip350)\" style=\"stroke:#000000; stroke-linecap:butt; stroke-linejoin:round; stroke-width:4; stroke-opacity:1; fill:none\" points=\"\n",
       "  112.177,1486.45 2352.76,1486.45 \n",
       "  \"/>\n",
       "<polyline clip-path=\"url(#clip350)\" style=\"stroke:#000000; stroke-linecap:butt; stroke-linejoin:round; stroke-width:4; stroke-opacity:1; fill:none\" points=\"\n",
       "  175.59,1486.45 175.59,1467.55 \n",
       "  \"/>\n",
       "<polyline clip-path=\"url(#clip350)\" style=\"stroke:#000000; stroke-linecap:butt; stroke-linejoin:round; stroke-width:4; stroke-opacity:1; fill:none\" points=\"\n",
       "  386.965,1486.45 386.965,1467.55 \n",
       "  \"/>\n",
       "<polyline clip-path=\"url(#clip350)\" style=\"stroke:#000000; stroke-linecap:butt; stroke-linejoin:round; stroke-width:4; stroke-opacity:1; fill:none\" points=\"\n",
       "  598.34,1486.45 598.34,1467.55 \n",
       "  \"/>\n",
       "<polyline clip-path=\"url(#clip350)\" style=\"stroke:#000000; stroke-linecap:butt; stroke-linejoin:round; stroke-width:4; stroke-opacity:1; fill:none\" points=\"\n",
       "  809.716,1486.45 809.716,1467.55 \n",
       "  \"/>\n",
       "<polyline clip-path=\"url(#clip350)\" style=\"stroke:#000000; stroke-linecap:butt; stroke-linejoin:round; stroke-width:4; stroke-opacity:1; fill:none\" points=\"\n",
       "  1021.09,1486.45 1021.09,1467.55 \n",
       "  \"/>\n",
       "<polyline clip-path=\"url(#clip350)\" style=\"stroke:#000000; stroke-linecap:butt; stroke-linejoin:round; stroke-width:4; stroke-opacity:1; fill:none\" points=\"\n",
       "  1232.47,1486.45 1232.47,1467.55 \n",
       "  \"/>\n",
       "<polyline clip-path=\"url(#clip350)\" style=\"stroke:#000000; stroke-linecap:butt; stroke-linejoin:round; stroke-width:4; stroke-opacity:1; fill:none\" points=\"\n",
       "  1443.84,1486.45 1443.84,1467.55 \n",
       "  \"/>\n",
       "<polyline clip-path=\"url(#clip350)\" style=\"stroke:#000000; stroke-linecap:butt; stroke-linejoin:round; stroke-width:4; stroke-opacity:1; fill:none\" points=\"\n",
       "  1655.22,1486.45 1655.22,1467.55 \n",
       "  \"/>\n",
       "<polyline clip-path=\"url(#clip350)\" style=\"stroke:#000000; stroke-linecap:butt; stroke-linejoin:round; stroke-width:4; stroke-opacity:1; fill:none\" points=\"\n",
       "  1866.59,1486.45 1866.59,1467.55 \n",
       "  \"/>\n",
       "<polyline clip-path=\"url(#clip350)\" style=\"stroke:#000000; stroke-linecap:butt; stroke-linejoin:round; stroke-width:4; stroke-opacity:1; fill:none\" points=\"\n",
       "  2077.97,1486.45 2077.97,1467.55 \n",
       "  \"/>\n",
       "<polyline clip-path=\"url(#clip350)\" style=\"stroke:#000000; stroke-linecap:butt; stroke-linejoin:round; stroke-width:4; stroke-opacity:1; fill:none\" points=\"\n",
       "  2289.34,1486.45 2289.34,1467.55 \n",
       "  \"/>\n",
       "<path clip-path=\"url(#clip350)\" d=\"M170.243 1544.91 L186.562 1544.91 L186.562 1548.85 L164.618 1548.85 L164.618 1544.91 Q167.28 1542.16 171.863 1537.53 Q176.469 1532.88 177.65 1531.53 Q179.895 1529.01 180.775 1527.27 Q181.678 1525.51 181.678 1523.82 Q181.678 1521.07 179.733 1519.33 Q177.812 1517.6 174.71 1517.6 Q172.511 1517.6 170.057 1518.36 Q167.627 1519.13 164.849 1520.68 L164.849 1515.95 Q167.673 1514.82 170.127 1514.24 Q172.581 1513.66 174.618 1513.66 Q179.988 1513.66 183.182 1516.35 Q186.377 1519.03 186.377 1523.52 Q186.377 1525.65 185.567 1527.57 Q184.78 1529.47 182.673 1532.07 Q182.094 1532.74 178.993 1535.95 Q175.891 1539.15 170.243 1544.91 Z\" fill=\"#000000\" fill-rule=\"evenodd\" fill-opacity=\"1\" /><path clip-path=\"url(#clip350)\" d=\"M391.213 1530.21 Q394.569 1530.93 396.444 1533.2 Q398.342 1535.47 398.342 1538.8 Q398.342 1543.92 394.824 1546.72 Q391.305 1549.52 384.824 1549.52 Q382.648 1549.52 380.333 1549.08 Q378.042 1548.66 375.588 1547.81 L375.588 1543.29 Q377.532 1544.43 379.847 1545.01 Q382.162 1545.58 384.685 1545.58 Q389.083 1545.58 391.375 1543.85 Q393.69 1542.11 393.69 1538.8 Q393.69 1535.75 391.537 1534.03 Q389.407 1532.3 385.588 1532.3 L381.56 1532.3 L381.56 1528.45 L385.773 1528.45 Q389.222 1528.45 391.051 1527.09 Q392.879 1525.7 392.879 1523.11 Q392.879 1520.45 390.981 1519.03 Q389.106 1517.6 385.588 1517.6 Q383.667 1517.6 381.467 1518.01 Q379.268 1518.43 376.63 1519.31 L376.63 1515.14 Q379.292 1514.4 381.606 1514.03 Q383.944 1513.66 386.004 1513.66 Q391.329 1513.66 394.43 1516.09 Q397.532 1518.5 397.532 1522.62 Q397.532 1525.49 395.889 1527.48 Q394.245 1529.45 391.213 1530.21 Z\" fill=\"#000000\" fill-rule=\"evenodd\" fill-opacity=\"1\" /><path clip-path=\"url(#clip350)\" d=\"M601.35 1518.36 L589.544 1536.81 L601.35 1536.81 L601.35 1518.36 M600.123 1514.29 L606.002 1514.29 L606.002 1536.81 L610.933 1536.81 L610.933 1540.7 L606.002 1540.7 L606.002 1548.85 L601.35 1548.85 L601.35 1540.7 L585.748 1540.7 L585.748 1536.19 L600.123 1514.29 Z\" fill=\"#000000\" fill-rule=\"evenodd\" fill-opacity=\"1\" /><path clip-path=\"url(#clip350)\" d=\"M799.994 1514.29 L818.35 1514.29 L818.35 1518.22 L804.276 1518.22 L804.276 1526.7 Q805.295 1526.35 806.313 1526.19 Q807.332 1526 808.35 1526 Q814.137 1526 817.517 1529.17 Q820.896 1532.34 820.896 1537.76 Q820.896 1543.34 817.424 1546.44 Q813.952 1549.52 807.633 1549.52 Q805.457 1549.52 803.188 1549.15 Q800.943 1548.78 798.535 1548.04 L798.535 1543.34 Q800.619 1544.47 802.841 1545.03 Q805.063 1545.58 807.54 1545.58 Q811.545 1545.58 813.882 1543.48 Q816.22 1541.37 816.22 1537.76 Q816.22 1534.15 813.882 1532.04 Q811.545 1529.94 807.54 1529.94 Q805.665 1529.94 803.79 1530.35 Q801.938 1530.77 799.994 1531.65 L799.994 1514.29 Z\" fill=\"#000000\" fill-rule=\"evenodd\" fill-opacity=\"1\" /><path clip-path=\"url(#clip350)\" d=\"M1021.5 1529.7 Q1018.35 1529.7 1016.5 1531.86 Q1014.67 1534.01 1014.67 1537.76 Q1014.67 1541.49 1016.5 1543.66 Q1018.35 1545.82 1021.5 1545.82 Q1024.64 1545.82 1026.47 1543.66 Q1028.32 1541.49 1028.32 1537.76 Q1028.32 1534.01 1026.47 1531.86 Q1024.64 1529.7 1021.5 1529.7 M1030.78 1515.05 L1030.78 1519.31 Q1029.02 1518.48 1027.21 1518.04 Q1025.43 1517.6 1023.67 1517.6 Q1019.04 1517.6 1016.59 1520.72 Q1014.16 1523.85 1013.81 1530.17 Q1015.18 1528.15 1017.24 1527.09 Q1019.3 1526 1021.77 1526 Q1026.98 1526 1029.99 1529.17 Q1033.02 1532.32 1033.02 1537.76 Q1033.02 1543.08 1029.88 1546.3 Q1026.73 1549.52 1021.5 1549.52 Q1015.5 1549.52 1012.33 1544.94 Q1009.16 1540.33 1009.16 1531.6 Q1009.16 1523.41 1013.05 1518.55 Q1016.94 1513.66 1023.49 1513.66 Q1025.25 1513.66 1027.03 1514.01 Q1028.83 1514.36 1030.78 1515.05 Z\" fill=\"#000000\" fill-rule=\"evenodd\" fill-opacity=\"1\" /><path clip-path=\"url(#clip350)\" d=\"M1221.36 1514.29 L1243.58 1514.29 L1243.58 1516.28 L1231.03 1548.85 L1226.15 1548.85 L1237.95 1518.22 L1221.36 1518.22 L1221.36 1514.29 Z\" fill=\"#000000\" fill-rule=\"evenodd\" fill-opacity=\"1\" /><path clip-path=\"url(#clip350)\" d=\"M1443.84 1532.44 Q1440.51 1532.44 1438.59 1534.22 Q1436.69 1536 1436.69 1539.13 Q1436.69 1542.25 1438.59 1544.03 Q1440.51 1545.82 1443.84 1545.82 Q1447.18 1545.82 1449.1 1544.03 Q1451.02 1542.23 1451.02 1539.13 Q1451.02 1536 1449.1 1534.22 Q1447.2 1532.44 1443.84 1532.44 M1439.17 1530.45 Q1436.16 1529.7 1434.47 1527.64 Q1432.8 1525.58 1432.8 1522.62 Q1432.8 1518.48 1435.74 1516.07 Q1438.7 1513.66 1443.84 1513.66 Q1449 1513.66 1451.94 1516.07 Q1454.88 1518.48 1454.88 1522.62 Q1454.88 1525.58 1453.19 1527.64 Q1451.53 1529.7 1448.54 1530.45 Q1451.92 1531.23 1453.8 1533.52 Q1455.69 1535.82 1455.69 1539.13 Q1455.69 1544.15 1452.61 1546.83 Q1449.56 1549.52 1443.84 1549.52 Q1438.12 1549.52 1435.05 1546.83 Q1431.99 1544.15 1431.99 1539.13 Q1431.99 1535.82 1433.89 1533.52 Q1435.79 1531.23 1439.17 1530.45 M1437.45 1523.06 Q1437.45 1525.75 1439.12 1527.25 Q1440.81 1528.76 1443.84 1528.76 Q1446.85 1528.76 1448.54 1527.25 Q1450.25 1525.75 1450.25 1523.06 Q1450.25 1520.38 1448.54 1518.87 Q1446.85 1517.37 1443.84 1517.37 Q1440.81 1517.37 1439.12 1518.87 Q1437.45 1520.38 1437.45 1523.06 Z\" fill=\"#000000\" fill-rule=\"evenodd\" fill-opacity=\"1\" /><path clip-path=\"url(#clip350)\" d=\"M1645.52 1548.13 L1645.52 1543.87 Q1647.28 1544.7 1649.08 1545.14 Q1650.89 1545.58 1652.62 1545.58 Q1657.25 1545.58 1659.68 1542.48 Q1662.14 1539.36 1662.49 1533.01 Q1661.14 1535.01 1659.08 1536.07 Q1657.02 1537.13 1654.52 1537.13 Q1649.34 1537.13 1646.31 1534.01 Q1643.3 1530.86 1643.3 1525.42 Q1643.3 1520.1 1646.44 1516.88 Q1649.59 1513.66 1654.82 1513.66 Q1660.82 1513.66 1663.97 1518.27 Q1667.14 1522.85 1667.14 1531.6 Q1667.14 1539.77 1663.25 1544.66 Q1659.38 1549.52 1652.83 1549.52 Q1651.07 1549.52 1649.27 1549.17 Q1647.46 1548.82 1645.52 1548.13 M1654.82 1533.48 Q1657.97 1533.48 1659.8 1531.32 Q1661.65 1529.17 1661.65 1525.42 Q1661.65 1521.7 1659.8 1519.54 Q1657.97 1517.37 1654.82 1517.37 Q1651.68 1517.37 1649.82 1519.54 Q1648 1521.7 1648 1525.42 Q1648 1529.17 1649.82 1531.32 Q1651.68 1533.48 1654.82 1533.48 Z\" fill=\"#000000\" fill-rule=\"evenodd\" fill-opacity=\"1\" /><path clip-path=\"url(#clip350)\" d=\"M1841.28 1544.91 L1848.92 1544.91 L1848.92 1518.55 L1840.61 1520.21 L1840.61 1515.95 L1848.87 1514.29 L1853.55 1514.29 L1853.55 1544.91 L1861.19 1544.91 L1861.19 1548.85 L1841.28 1548.85 L1841.28 1544.91 Z\" fill=\"#000000\" fill-rule=\"evenodd\" fill-opacity=\"1\" /><path clip-path=\"url(#clip350)\" d=\"M1880.63 1517.37 Q1877.02 1517.37 1875.19 1520.93 Q1873.39 1524.47 1873.39 1531.6 Q1873.39 1538.71 1875.19 1542.27 Q1877.02 1545.82 1880.63 1545.82 Q1884.27 1545.82 1886.07 1542.27 Q1887.9 1538.71 1887.9 1531.6 Q1887.9 1524.47 1886.07 1520.93 Q1884.27 1517.37 1880.63 1517.37 M1880.63 1513.66 Q1886.44 1513.66 1889.5 1518.27 Q1892.58 1522.85 1892.58 1531.6 Q1892.58 1540.33 1889.5 1544.94 Q1886.44 1549.52 1880.63 1549.52 Q1874.82 1549.52 1871.74 1544.94 Q1868.69 1540.33 1868.69 1531.6 Q1868.69 1522.85 1871.74 1518.27 Q1874.82 1513.66 1880.63 1513.66 Z\" fill=\"#000000\" fill-rule=\"evenodd\" fill-opacity=\"1\" /><path clip-path=\"url(#clip350)\" d=\"M2053.27 1544.91 L2060.91 1544.91 L2060.91 1518.55 L2052.6 1520.21 L2052.6 1515.95 L2060.86 1514.29 L2065.54 1514.29 L2065.54 1544.91 L2073.18 1544.91 L2073.18 1548.85 L2053.27 1548.85 L2053.27 1544.91 Z\" fill=\"#000000\" fill-rule=\"evenodd\" fill-opacity=\"1\" /><path clip-path=\"url(#clip350)\" d=\"M2083.43 1544.91 L2091.07 1544.91 L2091.07 1518.55 L2082.76 1520.21 L2082.76 1515.95 L2091.02 1514.29 L2095.7 1514.29 L2095.7 1544.91 L2103.34 1544.91 L2103.34 1548.85 L2083.43 1548.85 L2083.43 1544.91 Z\" fill=\"#000000\" fill-rule=\"evenodd\" fill-opacity=\"1\" /><path clip-path=\"url(#clip350)\" d=\"M2264.83 1544.91 L2272.47 1544.91 L2272.47 1518.55 L2264.16 1520.21 L2264.16 1515.95 L2272.42 1514.29 L2277.1 1514.29 L2277.1 1544.91 L2284.74 1544.91 L2284.74 1548.85 L2264.83 1548.85 L2264.83 1544.91 Z\" fill=\"#000000\" fill-rule=\"evenodd\" fill-opacity=\"1\" /><path clip-path=\"url(#clip350)\" d=\"M2298.21 1544.91 L2314.53 1544.91 L2314.53 1548.85 L2292.58 1548.85 L2292.58 1544.91 Q2295.25 1542.16 2299.83 1537.53 Q2304.44 1532.88 2305.62 1531.53 Q2307.86 1529.01 2308.74 1527.27 Q2309.64 1525.51 2309.64 1523.82 Q2309.64 1521.07 2307.7 1519.33 Q2305.78 1517.6 2302.68 1517.6 Q2300.48 1517.6 2298.02 1518.36 Q2295.59 1519.13 2292.82 1520.68 L2292.82 1515.95 Q2295.64 1514.82 2298.09 1514.24 Q2300.55 1513.66 2302.58 1513.66 Q2307.95 1513.66 2311.15 1516.35 Q2314.34 1519.03 2314.34 1523.52 Q2314.34 1525.65 2313.53 1527.57 Q2312.75 1529.47 2310.64 1532.07 Q2310.06 1532.74 2306.96 1535.95 Q2303.86 1539.15 2298.21 1544.91 Z\" fill=\"#000000\" fill-rule=\"evenodd\" fill-opacity=\"1\" /><polyline clip-path=\"url(#clip352)\" style=\"stroke:#000000; stroke-linecap:butt; stroke-linejoin:round; stroke-width:2; stroke-opacity:0.1; fill:none\" points=\"\n",
       "  112.177,1445.72 2352.76,1445.72 \n",
       "  \"/>\n",
       "<polyline clip-path=\"url(#clip352)\" style=\"stroke:#000000; stroke-linecap:butt; stroke-linejoin:round; stroke-width:2; stroke-opacity:0.1; fill:none\" points=\"\n",
       "  112.177,1174.17 2352.76,1174.17 \n",
       "  \"/>\n",
       "<polyline clip-path=\"url(#clip352)\" style=\"stroke:#000000; stroke-linecap:butt; stroke-linejoin:round; stroke-width:2; stroke-opacity:0.1; fill:none\" points=\"\n",
       "  112.177,902.62 2352.76,902.62 \n",
       "  \"/>\n",
       "<polyline clip-path=\"url(#clip352)\" style=\"stroke:#000000; stroke-linecap:butt; stroke-linejoin:round; stroke-width:2; stroke-opacity:0.1; fill:none\" points=\"\n",
       "  112.177,631.072 2352.76,631.072 \n",
       "  \"/>\n",
       "<polyline clip-path=\"url(#clip352)\" style=\"stroke:#000000; stroke-linecap:butt; stroke-linejoin:round; stroke-width:2; stroke-opacity:0.1; fill:none\" points=\"\n",
       "  112.177,359.524 2352.76,359.524 \n",
       "  \"/>\n",
       "<polyline clip-path=\"url(#clip352)\" style=\"stroke:#000000; stroke-linecap:butt; stroke-linejoin:round; stroke-width:2; stroke-opacity:0.1; fill:none\" points=\"\n",
       "  112.177,87.9763 2352.76,87.9763 \n",
       "  \"/>\n",
       "<polyline clip-path=\"url(#clip350)\" style=\"stroke:#000000; stroke-linecap:butt; stroke-linejoin:round; stroke-width:4; stroke-opacity:1; fill:none\" points=\"\n",
       "  112.177,1486.45 112.177,47.2441 \n",
       "  \"/>\n",
       "<polyline clip-path=\"url(#clip350)\" style=\"stroke:#000000; stroke-linecap:butt; stroke-linejoin:round; stroke-width:4; stroke-opacity:1; fill:none\" points=\"\n",
       "  112.177,1445.72 131.075,1445.72 \n",
       "  \"/>\n",
       "<polyline clip-path=\"url(#clip350)\" style=\"stroke:#000000; stroke-linecap:butt; stroke-linejoin:round; stroke-width:4; stroke-opacity:1; fill:none\" points=\"\n",
       "  112.177,1174.17 131.075,1174.17 \n",
       "  \"/>\n",
       "<polyline clip-path=\"url(#clip350)\" style=\"stroke:#000000; stroke-linecap:butt; stroke-linejoin:round; stroke-width:4; stroke-opacity:1; fill:none\" points=\"\n",
       "  112.177,902.62 131.075,902.62 \n",
       "  \"/>\n",
       "<polyline clip-path=\"url(#clip350)\" style=\"stroke:#000000; stroke-linecap:butt; stroke-linejoin:round; stroke-width:4; stroke-opacity:1; fill:none\" points=\"\n",
       "  112.177,631.072 131.075,631.072 \n",
       "  \"/>\n",
       "<polyline clip-path=\"url(#clip350)\" style=\"stroke:#000000; stroke-linecap:butt; stroke-linejoin:round; stroke-width:4; stroke-opacity:1; fill:none\" points=\"\n",
       "  112.177,359.524 131.075,359.524 \n",
       "  \"/>\n",
       "<polyline clip-path=\"url(#clip350)\" style=\"stroke:#000000; stroke-linecap:butt; stroke-linejoin:round; stroke-width:4; stroke-opacity:1; fill:none\" points=\"\n",
       "  112.177,87.9763 131.075,87.9763 \n",
       "  \"/>\n",
       "<path clip-path=\"url(#clip350)\" d=\"M56.2699 1459.06 L63.9087 1459.06 L63.9087 1432.69 L55.5986 1434.36 L55.5986 1430.1 L63.8624 1428.44 L68.5383 1428.44 L68.5383 1459.06 L76.1772 1459.06 L76.1772 1463 L56.2699 1463 L56.2699 1459.06 Z\" fill=\"#000000\" fill-rule=\"evenodd\" fill-opacity=\"1\" /><path clip-path=\"url(#clip350)\" d=\"M59.8578 1187.51 L76.1772 1187.51 L76.1772 1191.45 L54.2328 1191.45 L54.2328 1187.51 Q56.8949 1184.76 61.4782 1180.13 Q66.0846 1175.48 67.2652 1174.13 Q69.5105 1171.61 70.3902 1169.87 Q71.2929 1168.11 71.2929 1166.42 Q71.2929 1163.67 69.3485 1161.93 Q67.4272 1160.2 64.3254 1160.2 Q62.1263 1160.2 59.6726 1160.96 Q57.2421 1161.73 54.4643 1163.28 L54.4643 1158.55 Q57.2884 1157.42 59.7421 1156.84 Q62.1958 1156.26 64.2328 1156.26 Q69.6031 1156.26 72.7976 1158.95 Q75.992 1161.63 75.992 1166.12 Q75.992 1168.25 75.1818 1170.17 Q74.3948 1172.07 72.2883 1174.67 Q71.7096 1175.34 68.6078 1178.55 Q65.5059 1181.75 59.8578 1187.51 Z\" fill=\"#000000\" fill-rule=\"evenodd\" fill-opacity=\"1\" /><path clip-path=\"url(#clip350)\" d=\"M69.0476 901.266 Q72.404 901.983 74.279 904.252 Q76.1772 906.52 76.1772 909.854 Q76.1772 914.969 72.6587 917.77 Q69.1402 920.571 62.6587 920.571 Q60.4828 920.571 58.168 920.131 Q55.8764 919.715 53.4227 918.858 L53.4227 914.344 Q55.3671 915.479 57.6819 916.057 Q59.9967 916.636 62.5198 916.636 Q66.918 916.636 69.2096 914.9 Q71.5244 913.164 71.5244 909.854 Q71.5244 906.798 69.3717 905.085 Q67.242 903.349 63.4226 903.349 L59.3949 903.349 L59.3949 899.507 L63.6078 899.507 Q67.0569 899.507 68.8855 898.141 Q70.7142 896.752 70.7142 894.159 Q70.7142 891.497 68.8161 890.085 Q66.9411 888.65 63.4226 888.65 Q61.5013 888.65 59.3023 889.067 Q57.1032 889.483 54.4643 890.363 L54.4643 886.196 Q57.1264 885.456 59.4412 885.085 Q61.7791 884.715 63.8393 884.715 Q69.1633 884.715 72.2652 887.145 Q75.367 889.553 75.367 893.673 Q75.367 896.544 73.7235 898.534 Q72.08 900.502 69.0476 901.266 Z\" fill=\"#000000\" fill-rule=\"evenodd\" fill-opacity=\"1\" /><path clip-path=\"url(#clip350)\" d=\"M66.5939 617.866 L54.7884 636.315 L66.5939 636.315 L66.5939 617.866 M65.367 613.792 L71.2466 613.792 L71.2466 636.315 L76.1772 636.315 L76.1772 640.204 L71.2466 640.204 L71.2466 648.352 L66.5939 648.352 L66.5939 640.204 L50.9921 640.204 L50.9921 635.69 L65.367 613.792 Z\" fill=\"#000000\" fill-rule=\"evenodd\" fill-opacity=\"1\" /><path clip-path=\"url(#clip350)\" d=\"M55.2745 342.244 L73.6309 342.244 L73.6309 346.179 L59.5569 346.179 L59.5569 354.652 Q60.5754 354.304 61.5939 354.142 Q62.6124 353.957 63.6309 353.957 Q69.418 353.957 72.7976 357.128 Q76.1772 360.3 76.1772 365.716 Q76.1772 371.295 72.705 374.397 Q69.2328 377.475 62.9134 377.475 Q60.7374 377.475 58.4689 377.105 Q56.2236 376.735 53.8162 375.994 L53.8162 371.295 Q55.8995 372.429 58.1217 372.985 Q60.3439 373.54 62.8208 373.54 Q66.8254 373.54 69.1633 371.434 Q71.5013 369.327 71.5013 365.716 Q71.5013 362.105 69.1633 359.999 Q66.8254 357.892 62.8208 357.892 Q60.9458 357.892 59.0708 358.309 Q57.2189 358.726 55.2745 359.605 L55.2745 342.244 Z\" fill=\"#000000\" fill-rule=\"evenodd\" fill-opacity=\"1\" /><path clip-path=\"url(#clip350)\" d=\"M64.6495 86.1129 Q61.5013 86.1129 59.6495 88.2656 Q57.8208 90.4184 57.8208 94.1684 Q57.8208 97.8952 59.6495 100.071 Q61.5013 102.224 64.6495 102.224 Q67.7976 102.224 69.6263 100.071 Q71.4781 97.8952 71.4781 94.1684 Q71.4781 90.4184 69.6263 88.2656 Q67.7976 86.1129 64.6495 86.1129 M73.9318 71.4602 L73.9318 75.7194 Q72.1726 74.8861 70.367 74.4463 Q68.5846 74.0064 66.8254 74.0064 Q62.1958 74.0064 59.7421 77.1314 Q57.3115 80.2564 56.9643 86.5758 Q58.33 84.5619 60.3902 83.4971 Q62.4504 82.4092 64.9272 82.4092 Q70.1355 82.4092 73.1448 85.5805 Q76.1772 88.7286 76.1772 94.1684 Q76.1772 99.4924 73.029 102.71 Q69.8809 105.928 64.6495 105.928 Q58.6541 105.928 55.4828 101.344 Q52.3116 96.7378 52.3116 88.011 Q52.3116 79.8166 56.2004 74.9555 Q60.0893 70.0713 66.6402 70.0713 Q68.3994 70.0713 70.1818 70.4185 Q71.9874 70.7657 73.9318 71.4602 Z\" fill=\"#000000\" fill-rule=\"evenodd\" fill-opacity=\"1\" /><circle clip-path=\"url(#clip352)\" cx=\"809.716\" cy=\"631.072\" r=\"14.4\" fill=\"#009af9\" fill-rule=\"evenodd\" fill-opacity=\"1\" stroke=\"#000000\" stroke-opacity=\"1\" stroke-width=\"3.2\"/>\n",
       "<circle clip-path=\"url(#clip352)\" cx=\"2289.34\" cy=\"1445.72\" r=\"14.4\" fill=\"#009af9\" fill-rule=\"evenodd\" fill-opacity=\"1\" stroke=\"#000000\" stroke-opacity=\"1\" stroke-width=\"3.2\"/>\n",
       "<circle clip-path=\"url(#clip352)\" cx=\"1443.84\" cy=\"359.524\" r=\"14.4\" fill=\"#009af9\" fill-rule=\"evenodd\" fill-opacity=\"1\" stroke=\"#000000\" stroke-opacity=\"1\" stroke-width=\"3.2\"/>\n",
       "<circle clip-path=\"url(#clip352)\" cx=\"1021.09\" cy=\"359.524\" r=\"14.4\" fill=\"#009af9\" fill-rule=\"evenodd\" fill-opacity=\"1\" stroke=\"#000000\" stroke-opacity=\"1\" stroke-width=\"3.2\"/>\n",
       "<circle clip-path=\"url(#clip352)\" cx=\"2077.97\" cy=\"1174.17\" r=\"14.4\" fill=\"#009af9\" fill-rule=\"evenodd\" fill-opacity=\"1\" stroke=\"#000000\" stroke-opacity=\"1\" stroke-width=\"3.2\"/>\n",
       "<circle clip-path=\"url(#clip352)\" cx=\"1655.22\" cy=\"631.072\" r=\"14.4\" fill=\"#009af9\" fill-rule=\"evenodd\" fill-opacity=\"1\" stroke=\"#000000\" stroke-opacity=\"1\" stroke-width=\"3.2\"/>\n",
       "<circle clip-path=\"url(#clip352)\" cx=\"386.965\" cy=\"1174.17\" r=\"14.4\" fill=\"#009af9\" fill-rule=\"evenodd\" fill-opacity=\"1\" stroke=\"#000000\" stroke-opacity=\"1\" stroke-width=\"3.2\"/>\n",
       "<circle clip-path=\"url(#clip352)\" cx=\"1232.47\" cy=\"87.9763\" r=\"14.4\" fill=\"#009af9\" fill-rule=\"evenodd\" fill-opacity=\"1\" stroke=\"#000000\" stroke-opacity=\"1\" stroke-width=\"3.2\"/>\n",
       "<circle clip-path=\"url(#clip352)\" cx=\"598.34\" cy=\"902.62\" r=\"14.4\" fill=\"#009af9\" fill-rule=\"evenodd\" fill-opacity=\"1\" stroke=\"#000000\" stroke-opacity=\"1\" stroke-width=\"3.2\"/>\n",
       "<circle clip-path=\"url(#clip352)\" cx=\"175.59\" cy=\"1445.72\" r=\"14.4\" fill=\"#009af9\" fill-rule=\"evenodd\" fill-opacity=\"1\" stroke=\"#000000\" stroke-opacity=\"1\" stroke-width=\"3.2\"/>\n",
       "<circle clip-path=\"url(#clip352)\" cx=\"1866.59\" cy=\"902.62\" r=\"14.4\" fill=\"#009af9\" fill-rule=\"evenodd\" fill-opacity=\"1\" stroke=\"#000000\" stroke-opacity=\"1\" stroke-width=\"3.2\"/>\n",
       "</svg>\n"
      ]
     },
     "execution_count": 51,
     "metadata": {},
     "output_type": "execute_result"
    }
   ],
   "source": [
    "using Plots\n",
    "scatter(collect(keys(two_standard)),\n",
    "        collect(values(two_standard));\n",
    "        legend=false, xaxis=2:12)"
   ]
  },
  {
   "cell_type": "code",
   "execution_count": 52,
   "id": "2398ee81",
   "metadata": {},
   "outputs": [
    {
     "data": {
      "image/svg+xml": [
       "<?xml version=\"1.0\" encoding=\"utf-8\"?>\n",
       "<svg xmlns=\"http://www.w3.org/2000/svg\" xmlns:xlink=\"http://www.w3.org/1999/xlink\" width=\"600\" height=\"400\" viewBox=\"0 0 2400 1600\">\n",
       "<defs>\n",
       "  <clipPath id=\"clip390\">\n",
       "    <rect x=\"0\" y=\"0\" width=\"2400\" height=\"1600\"/>\n",
       "  </clipPath>\n",
       "</defs>\n",
       "<path clip-path=\"url(#clip390)\" d=\"\n",
       "M0 1600 L2400 1600 L2400 0 L0 0  Z\n",
       "  \" fill=\"#ffffff\" fill-rule=\"evenodd\" fill-opacity=\"1\"/>\n",
       "<defs>\n",
       "  <clipPath id=\"clip391\">\n",
       "    <rect x=\"480\" y=\"0\" width=\"1681\" height=\"1600\"/>\n",
       "  </clipPath>\n",
       "</defs>\n",
       "<path clip-path=\"url(#clip390)\" d=\"\n",
       "M112.177 1486.45 L2352.76 1486.45 L2352.76 47.2441 L112.177 47.2441  Z\n",
       "  \" fill=\"#ffffff\" fill-rule=\"evenodd\" fill-opacity=\"1\"/>\n",
       "<defs>\n",
       "  <clipPath id=\"clip392\">\n",
       "    <rect x=\"112\" y=\"47\" width=\"2242\" height=\"1440\"/>\n",
       "  </clipPath>\n",
       "</defs>\n",
       "<polyline clip-path=\"url(#clip392)\" style=\"stroke:#000000; stroke-linecap:butt; stroke-linejoin:round; stroke-width:2; stroke-opacity:0.1; fill:none\" points=\"\n",
       "  175.59,1486.45 175.59,47.2441 \n",
       "  \"/>\n",
       "<polyline clip-path=\"url(#clip392)\" style=\"stroke:#000000; stroke-linecap:butt; stroke-linejoin:round; stroke-width:2; stroke-opacity:0.1; fill:none\" points=\"\n",
       "  386.965,1486.45 386.965,47.2441 \n",
       "  \"/>\n",
       "<polyline clip-path=\"url(#clip392)\" style=\"stroke:#000000; stroke-linecap:butt; stroke-linejoin:round; stroke-width:2; stroke-opacity:0.1; fill:none\" points=\"\n",
       "  598.34,1486.45 598.34,47.2441 \n",
       "  \"/>\n",
       "<polyline clip-path=\"url(#clip392)\" style=\"stroke:#000000; stroke-linecap:butt; stroke-linejoin:round; stroke-width:2; stroke-opacity:0.1; fill:none\" points=\"\n",
       "  809.716,1486.45 809.716,47.2441 \n",
       "  \"/>\n",
       "<polyline clip-path=\"url(#clip392)\" style=\"stroke:#000000; stroke-linecap:butt; stroke-linejoin:round; stroke-width:2; stroke-opacity:0.1; fill:none\" points=\"\n",
       "  1021.09,1486.45 1021.09,47.2441 \n",
       "  \"/>\n",
       "<polyline clip-path=\"url(#clip392)\" style=\"stroke:#000000; stroke-linecap:butt; stroke-linejoin:round; stroke-width:2; stroke-opacity:0.1; fill:none\" points=\"\n",
       "  1232.47,1486.45 1232.47,47.2441 \n",
       "  \"/>\n",
       "<polyline clip-path=\"url(#clip392)\" style=\"stroke:#000000; stroke-linecap:butt; stroke-linejoin:round; stroke-width:2; stroke-opacity:0.1; fill:none\" points=\"\n",
       "  1443.84,1486.45 1443.84,47.2441 \n",
       "  \"/>\n",
       "<polyline clip-path=\"url(#clip392)\" style=\"stroke:#000000; stroke-linecap:butt; stroke-linejoin:round; stroke-width:2; stroke-opacity:0.1; fill:none\" points=\"\n",
       "  1655.22,1486.45 1655.22,47.2441 \n",
       "  \"/>\n",
       "<polyline clip-path=\"url(#clip392)\" style=\"stroke:#000000; stroke-linecap:butt; stroke-linejoin:round; stroke-width:2; stroke-opacity:0.1; fill:none\" points=\"\n",
       "  1866.59,1486.45 1866.59,47.2441 \n",
       "  \"/>\n",
       "<polyline clip-path=\"url(#clip392)\" style=\"stroke:#000000; stroke-linecap:butt; stroke-linejoin:round; stroke-width:2; stroke-opacity:0.1; fill:none\" points=\"\n",
       "  2077.97,1486.45 2077.97,47.2441 \n",
       "  \"/>\n",
       "<polyline clip-path=\"url(#clip392)\" style=\"stroke:#000000; stroke-linecap:butt; stroke-linejoin:round; stroke-width:2; stroke-opacity:0.1; fill:none\" points=\"\n",
       "  2289.34,1486.45 2289.34,47.2441 \n",
       "  \"/>\n",
       "<polyline clip-path=\"url(#clip390)\" style=\"stroke:#000000; stroke-linecap:butt; stroke-linejoin:round; stroke-width:4; stroke-opacity:1; fill:none\" points=\"\n",
       "  112.177,1486.45 2352.76,1486.45 \n",
       "  \"/>\n",
       "<polyline clip-path=\"url(#clip390)\" style=\"stroke:#000000; stroke-linecap:butt; stroke-linejoin:round; stroke-width:4; stroke-opacity:1; fill:none\" points=\"\n",
       "  175.59,1486.45 175.59,1467.55 \n",
       "  \"/>\n",
       "<polyline clip-path=\"url(#clip390)\" style=\"stroke:#000000; stroke-linecap:butt; stroke-linejoin:round; stroke-width:4; stroke-opacity:1; fill:none\" points=\"\n",
       "  386.965,1486.45 386.965,1467.55 \n",
       "  \"/>\n",
       "<polyline clip-path=\"url(#clip390)\" style=\"stroke:#000000; stroke-linecap:butt; stroke-linejoin:round; stroke-width:4; stroke-opacity:1; fill:none\" points=\"\n",
       "  598.34,1486.45 598.34,1467.55 \n",
       "  \"/>\n",
       "<polyline clip-path=\"url(#clip390)\" style=\"stroke:#000000; stroke-linecap:butt; stroke-linejoin:round; stroke-width:4; stroke-opacity:1; fill:none\" points=\"\n",
       "  809.716,1486.45 809.716,1467.55 \n",
       "  \"/>\n",
       "<polyline clip-path=\"url(#clip390)\" style=\"stroke:#000000; stroke-linecap:butt; stroke-linejoin:round; stroke-width:4; stroke-opacity:1; fill:none\" points=\"\n",
       "  1021.09,1486.45 1021.09,1467.55 \n",
       "  \"/>\n",
       "<polyline clip-path=\"url(#clip390)\" style=\"stroke:#000000; stroke-linecap:butt; stroke-linejoin:round; stroke-width:4; stroke-opacity:1; fill:none\" points=\"\n",
       "  1232.47,1486.45 1232.47,1467.55 \n",
       "  \"/>\n",
       "<polyline clip-path=\"url(#clip390)\" style=\"stroke:#000000; stroke-linecap:butt; stroke-linejoin:round; stroke-width:4; stroke-opacity:1; fill:none\" points=\"\n",
       "  1443.84,1486.45 1443.84,1467.55 \n",
       "  \"/>\n",
       "<polyline clip-path=\"url(#clip390)\" style=\"stroke:#000000; stroke-linecap:butt; stroke-linejoin:round; stroke-width:4; stroke-opacity:1; fill:none\" points=\"\n",
       "  1655.22,1486.45 1655.22,1467.55 \n",
       "  \"/>\n",
       "<polyline clip-path=\"url(#clip390)\" style=\"stroke:#000000; stroke-linecap:butt; stroke-linejoin:round; stroke-width:4; stroke-opacity:1; fill:none\" points=\"\n",
       "  1866.59,1486.45 1866.59,1467.55 \n",
       "  \"/>\n",
       "<polyline clip-path=\"url(#clip390)\" style=\"stroke:#000000; stroke-linecap:butt; stroke-linejoin:round; stroke-width:4; stroke-opacity:1; fill:none\" points=\"\n",
       "  2077.97,1486.45 2077.97,1467.55 \n",
       "  \"/>\n",
       "<polyline clip-path=\"url(#clip390)\" style=\"stroke:#000000; stroke-linecap:butt; stroke-linejoin:round; stroke-width:4; stroke-opacity:1; fill:none\" points=\"\n",
       "  2289.34,1486.45 2289.34,1467.55 \n",
       "  \"/>\n",
       "<path clip-path=\"url(#clip390)\" d=\"M170.243 1544.91 L186.562 1544.91 L186.562 1548.85 L164.618 1548.85 L164.618 1544.91 Q167.28 1542.16 171.863 1537.53 Q176.469 1532.88 177.65 1531.53 Q179.895 1529.01 180.775 1527.27 Q181.678 1525.51 181.678 1523.82 Q181.678 1521.07 179.733 1519.33 Q177.812 1517.6 174.71 1517.6 Q172.511 1517.6 170.057 1518.36 Q167.627 1519.13 164.849 1520.68 L164.849 1515.95 Q167.673 1514.82 170.127 1514.24 Q172.581 1513.66 174.618 1513.66 Q179.988 1513.66 183.182 1516.35 Q186.377 1519.03 186.377 1523.52 Q186.377 1525.65 185.567 1527.57 Q184.78 1529.47 182.673 1532.07 Q182.094 1532.74 178.993 1535.95 Q175.891 1539.15 170.243 1544.91 Z\" fill=\"#000000\" fill-rule=\"evenodd\" fill-opacity=\"1\" /><path clip-path=\"url(#clip390)\" d=\"M391.213 1530.21 Q394.569 1530.93 396.444 1533.2 Q398.342 1535.47 398.342 1538.8 Q398.342 1543.92 394.824 1546.72 Q391.305 1549.52 384.824 1549.52 Q382.648 1549.52 380.333 1549.08 Q378.042 1548.66 375.588 1547.81 L375.588 1543.29 Q377.532 1544.43 379.847 1545.01 Q382.162 1545.58 384.685 1545.58 Q389.083 1545.58 391.375 1543.85 Q393.69 1542.11 393.69 1538.8 Q393.69 1535.75 391.537 1534.03 Q389.407 1532.3 385.588 1532.3 L381.56 1532.3 L381.56 1528.45 L385.773 1528.45 Q389.222 1528.45 391.051 1527.09 Q392.879 1525.7 392.879 1523.11 Q392.879 1520.45 390.981 1519.03 Q389.106 1517.6 385.588 1517.6 Q383.667 1517.6 381.467 1518.01 Q379.268 1518.43 376.63 1519.31 L376.63 1515.14 Q379.292 1514.4 381.606 1514.03 Q383.944 1513.66 386.004 1513.66 Q391.329 1513.66 394.43 1516.09 Q397.532 1518.5 397.532 1522.62 Q397.532 1525.49 395.889 1527.48 Q394.245 1529.45 391.213 1530.21 Z\" fill=\"#000000\" fill-rule=\"evenodd\" fill-opacity=\"1\" /><path clip-path=\"url(#clip390)\" d=\"M601.35 1518.36 L589.544 1536.81 L601.35 1536.81 L601.35 1518.36 M600.123 1514.29 L606.002 1514.29 L606.002 1536.81 L610.933 1536.81 L610.933 1540.7 L606.002 1540.7 L606.002 1548.85 L601.35 1548.85 L601.35 1540.7 L585.748 1540.7 L585.748 1536.19 L600.123 1514.29 Z\" fill=\"#000000\" fill-rule=\"evenodd\" fill-opacity=\"1\" /><path clip-path=\"url(#clip390)\" d=\"M799.994 1514.29 L818.35 1514.29 L818.35 1518.22 L804.276 1518.22 L804.276 1526.7 Q805.295 1526.35 806.313 1526.19 Q807.332 1526 808.35 1526 Q814.137 1526 817.517 1529.17 Q820.896 1532.34 820.896 1537.76 Q820.896 1543.34 817.424 1546.44 Q813.952 1549.52 807.633 1549.52 Q805.457 1549.52 803.188 1549.15 Q800.943 1548.78 798.535 1548.04 L798.535 1543.34 Q800.619 1544.47 802.841 1545.03 Q805.063 1545.58 807.54 1545.58 Q811.545 1545.58 813.882 1543.48 Q816.22 1541.37 816.22 1537.76 Q816.22 1534.15 813.882 1532.04 Q811.545 1529.94 807.54 1529.94 Q805.665 1529.94 803.79 1530.35 Q801.938 1530.77 799.994 1531.65 L799.994 1514.29 Z\" fill=\"#000000\" fill-rule=\"evenodd\" fill-opacity=\"1\" /><path clip-path=\"url(#clip390)\" d=\"M1021.5 1529.7 Q1018.35 1529.7 1016.5 1531.86 Q1014.67 1534.01 1014.67 1537.76 Q1014.67 1541.49 1016.5 1543.66 Q1018.35 1545.82 1021.5 1545.82 Q1024.64 1545.82 1026.47 1543.66 Q1028.32 1541.49 1028.32 1537.76 Q1028.32 1534.01 1026.47 1531.86 Q1024.64 1529.7 1021.5 1529.7 M1030.78 1515.05 L1030.78 1519.31 Q1029.02 1518.48 1027.21 1518.04 Q1025.43 1517.6 1023.67 1517.6 Q1019.04 1517.6 1016.59 1520.72 Q1014.16 1523.85 1013.81 1530.17 Q1015.18 1528.15 1017.24 1527.09 Q1019.3 1526 1021.77 1526 Q1026.98 1526 1029.99 1529.17 Q1033.02 1532.32 1033.02 1537.76 Q1033.02 1543.08 1029.88 1546.3 Q1026.73 1549.52 1021.5 1549.52 Q1015.5 1549.52 1012.33 1544.94 Q1009.16 1540.33 1009.16 1531.6 Q1009.16 1523.41 1013.05 1518.55 Q1016.94 1513.66 1023.49 1513.66 Q1025.25 1513.66 1027.03 1514.01 Q1028.83 1514.36 1030.78 1515.05 Z\" fill=\"#000000\" fill-rule=\"evenodd\" fill-opacity=\"1\" /><path clip-path=\"url(#clip390)\" d=\"M1221.36 1514.29 L1243.58 1514.29 L1243.58 1516.28 L1231.03 1548.85 L1226.15 1548.85 L1237.95 1518.22 L1221.36 1518.22 L1221.36 1514.29 Z\" fill=\"#000000\" fill-rule=\"evenodd\" fill-opacity=\"1\" /><path clip-path=\"url(#clip390)\" d=\"M1443.84 1532.44 Q1440.51 1532.44 1438.59 1534.22 Q1436.69 1536 1436.69 1539.13 Q1436.69 1542.25 1438.59 1544.03 Q1440.51 1545.82 1443.84 1545.82 Q1447.18 1545.82 1449.1 1544.03 Q1451.02 1542.23 1451.02 1539.13 Q1451.02 1536 1449.1 1534.22 Q1447.2 1532.44 1443.84 1532.44 M1439.17 1530.45 Q1436.16 1529.7 1434.47 1527.64 Q1432.8 1525.58 1432.8 1522.62 Q1432.8 1518.48 1435.74 1516.07 Q1438.7 1513.66 1443.84 1513.66 Q1449 1513.66 1451.94 1516.07 Q1454.88 1518.48 1454.88 1522.62 Q1454.88 1525.58 1453.19 1527.64 Q1451.53 1529.7 1448.54 1530.45 Q1451.92 1531.23 1453.8 1533.52 Q1455.69 1535.82 1455.69 1539.13 Q1455.69 1544.15 1452.61 1546.83 Q1449.56 1549.52 1443.84 1549.52 Q1438.12 1549.52 1435.05 1546.83 Q1431.99 1544.15 1431.99 1539.13 Q1431.99 1535.82 1433.89 1533.52 Q1435.79 1531.23 1439.17 1530.45 M1437.45 1523.06 Q1437.45 1525.75 1439.12 1527.25 Q1440.81 1528.76 1443.84 1528.76 Q1446.85 1528.76 1448.54 1527.25 Q1450.25 1525.75 1450.25 1523.06 Q1450.25 1520.38 1448.54 1518.87 Q1446.85 1517.37 1443.84 1517.37 Q1440.81 1517.37 1439.12 1518.87 Q1437.45 1520.38 1437.45 1523.06 Z\" fill=\"#000000\" fill-rule=\"evenodd\" fill-opacity=\"1\" /><path clip-path=\"url(#clip390)\" d=\"M1645.52 1548.13 L1645.52 1543.87 Q1647.28 1544.7 1649.08 1545.14 Q1650.89 1545.58 1652.62 1545.58 Q1657.25 1545.58 1659.68 1542.48 Q1662.14 1539.36 1662.49 1533.01 Q1661.14 1535.01 1659.08 1536.07 Q1657.02 1537.13 1654.52 1537.13 Q1649.34 1537.13 1646.31 1534.01 Q1643.3 1530.86 1643.3 1525.42 Q1643.3 1520.1 1646.44 1516.88 Q1649.59 1513.66 1654.82 1513.66 Q1660.82 1513.66 1663.97 1518.27 Q1667.14 1522.85 1667.14 1531.6 Q1667.14 1539.77 1663.25 1544.66 Q1659.38 1549.52 1652.83 1549.52 Q1651.07 1549.52 1649.27 1549.17 Q1647.46 1548.82 1645.52 1548.13 M1654.82 1533.48 Q1657.97 1533.48 1659.8 1531.32 Q1661.65 1529.17 1661.65 1525.42 Q1661.65 1521.7 1659.8 1519.54 Q1657.97 1517.37 1654.82 1517.37 Q1651.68 1517.37 1649.82 1519.54 Q1648 1521.7 1648 1525.42 Q1648 1529.17 1649.82 1531.32 Q1651.68 1533.48 1654.82 1533.48 Z\" fill=\"#000000\" fill-rule=\"evenodd\" fill-opacity=\"1\" /><path clip-path=\"url(#clip390)\" d=\"M1841.28 1544.91 L1848.92 1544.91 L1848.92 1518.55 L1840.61 1520.21 L1840.61 1515.95 L1848.87 1514.29 L1853.55 1514.29 L1853.55 1544.91 L1861.19 1544.91 L1861.19 1548.85 L1841.28 1548.85 L1841.28 1544.91 Z\" fill=\"#000000\" fill-rule=\"evenodd\" fill-opacity=\"1\" /><path clip-path=\"url(#clip390)\" d=\"M1880.63 1517.37 Q1877.02 1517.37 1875.19 1520.93 Q1873.39 1524.47 1873.39 1531.6 Q1873.39 1538.71 1875.19 1542.27 Q1877.02 1545.82 1880.63 1545.82 Q1884.27 1545.82 1886.07 1542.27 Q1887.9 1538.71 1887.9 1531.6 Q1887.9 1524.47 1886.07 1520.93 Q1884.27 1517.37 1880.63 1517.37 M1880.63 1513.66 Q1886.44 1513.66 1889.5 1518.27 Q1892.58 1522.85 1892.58 1531.6 Q1892.58 1540.33 1889.5 1544.94 Q1886.44 1549.52 1880.63 1549.52 Q1874.82 1549.52 1871.74 1544.94 Q1868.69 1540.33 1868.69 1531.6 Q1868.69 1522.85 1871.74 1518.27 Q1874.82 1513.66 1880.63 1513.66 Z\" fill=\"#000000\" fill-rule=\"evenodd\" fill-opacity=\"1\" /><path clip-path=\"url(#clip390)\" d=\"M2053.27 1544.91 L2060.91 1544.91 L2060.91 1518.55 L2052.6 1520.21 L2052.6 1515.95 L2060.86 1514.29 L2065.54 1514.29 L2065.54 1544.91 L2073.18 1544.91 L2073.18 1548.85 L2053.27 1548.85 L2053.27 1544.91 Z\" fill=\"#000000\" fill-rule=\"evenodd\" fill-opacity=\"1\" /><path clip-path=\"url(#clip390)\" d=\"M2083.43 1544.91 L2091.07 1544.91 L2091.07 1518.55 L2082.76 1520.21 L2082.76 1515.95 L2091.02 1514.29 L2095.7 1514.29 L2095.7 1544.91 L2103.34 1544.91 L2103.34 1548.85 L2083.43 1548.85 L2083.43 1544.91 Z\" fill=\"#000000\" fill-rule=\"evenodd\" fill-opacity=\"1\" /><path clip-path=\"url(#clip390)\" d=\"M2264.83 1544.91 L2272.47 1544.91 L2272.47 1518.55 L2264.16 1520.21 L2264.16 1515.95 L2272.42 1514.29 L2277.1 1514.29 L2277.1 1544.91 L2284.74 1544.91 L2284.74 1548.85 L2264.83 1548.85 L2264.83 1544.91 Z\" fill=\"#000000\" fill-rule=\"evenodd\" fill-opacity=\"1\" /><path clip-path=\"url(#clip390)\" d=\"M2298.21 1544.91 L2314.53 1544.91 L2314.53 1548.85 L2292.58 1548.85 L2292.58 1544.91 Q2295.25 1542.16 2299.83 1537.53 Q2304.44 1532.88 2305.62 1531.53 Q2307.86 1529.01 2308.74 1527.27 Q2309.64 1525.51 2309.64 1523.82 Q2309.64 1521.07 2307.7 1519.33 Q2305.78 1517.6 2302.68 1517.6 Q2300.48 1517.6 2298.02 1518.36 Q2295.59 1519.13 2292.82 1520.68 L2292.82 1515.95 Q2295.64 1514.82 2298.09 1514.24 Q2300.55 1513.66 2302.58 1513.66 Q2307.95 1513.66 2311.15 1516.35 Q2314.34 1519.03 2314.34 1523.52 Q2314.34 1525.65 2313.53 1527.57 Q2312.75 1529.47 2310.64 1532.07 Q2310.06 1532.74 2306.96 1535.95 Q2303.86 1539.15 2298.21 1544.91 Z\" fill=\"#000000\" fill-rule=\"evenodd\" fill-opacity=\"1\" /><polyline clip-path=\"url(#clip392)\" style=\"stroke:#000000; stroke-linecap:butt; stroke-linejoin:round; stroke-width:2; stroke-opacity:0.1; fill:none\" points=\"\n",
       "  112.177,1445.72 2352.76,1445.72 \n",
       "  \"/>\n",
       "<polyline clip-path=\"url(#clip392)\" style=\"stroke:#000000; stroke-linecap:butt; stroke-linejoin:round; stroke-width:2; stroke-opacity:0.1; fill:none\" points=\"\n",
       "  112.177,1174.17 2352.76,1174.17 \n",
       "  \"/>\n",
       "<polyline clip-path=\"url(#clip392)\" style=\"stroke:#000000; stroke-linecap:butt; stroke-linejoin:round; stroke-width:2; stroke-opacity:0.1; fill:none\" points=\"\n",
       "  112.177,902.62 2352.76,902.62 \n",
       "  \"/>\n",
       "<polyline clip-path=\"url(#clip392)\" style=\"stroke:#000000; stroke-linecap:butt; stroke-linejoin:round; stroke-width:2; stroke-opacity:0.1; fill:none\" points=\"\n",
       "  112.177,631.072 2352.76,631.072 \n",
       "  \"/>\n",
       "<polyline clip-path=\"url(#clip392)\" style=\"stroke:#000000; stroke-linecap:butt; stroke-linejoin:round; stroke-width:2; stroke-opacity:0.1; fill:none\" points=\"\n",
       "  112.177,359.524 2352.76,359.524 \n",
       "  \"/>\n",
       "<polyline clip-path=\"url(#clip392)\" style=\"stroke:#000000; stroke-linecap:butt; stroke-linejoin:round; stroke-width:2; stroke-opacity:0.1; fill:none\" points=\"\n",
       "  112.177,87.9763 2352.76,87.9763 \n",
       "  \"/>\n",
       "<polyline clip-path=\"url(#clip390)\" style=\"stroke:#000000; stroke-linecap:butt; stroke-linejoin:round; stroke-width:4; stroke-opacity:1; fill:none\" points=\"\n",
       "  112.177,1486.45 112.177,47.2441 \n",
       "  \"/>\n",
       "<polyline clip-path=\"url(#clip390)\" style=\"stroke:#000000; stroke-linecap:butt; stroke-linejoin:round; stroke-width:4; stroke-opacity:1; fill:none\" points=\"\n",
       "  112.177,1445.72 131.075,1445.72 \n",
       "  \"/>\n",
       "<polyline clip-path=\"url(#clip390)\" style=\"stroke:#000000; stroke-linecap:butt; stroke-linejoin:round; stroke-width:4; stroke-opacity:1; fill:none\" points=\"\n",
       "  112.177,1174.17 131.075,1174.17 \n",
       "  \"/>\n",
       "<polyline clip-path=\"url(#clip390)\" style=\"stroke:#000000; stroke-linecap:butt; stroke-linejoin:round; stroke-width:4; stroke-opacity:1; fill:none\" points=\"\n",
       "  112.177,902.62 131.075,902.62 \n",
       "  \"/>\n",
       "<polyline clip-path=\"url(#clip390)\" style=\"stroke:#000000; stroke-linecap:butt; stroke-linejoin:round; stroke-width:4; stroke-opacity:1; fill:none\" points=\"\n",
       "  112.177,631.072 131.075,631.072 \n",
       "  \"/>\n",
       "<polyline clip-path=\"url(#clip390)\" style=\"stroke:#000000; stroke-linecap:butt; stroke-linejoin:round; stroke-width:4; stroke-opacity:1; fill:none\" points=\"\n",
       "  112.177,359.524 131.075,359.524 \n",
       "  \"/>\n",
       "<polyline clip-path=\"url(#clip390)\" style=\"stroke:#000000; stroke-linecap:butt; stroke-linejoin:round; stroke-width:4; stroke-opacity:1; fill:none\" points=\"\n",
       "  112.177,87.9763 131.075,87.9763 \n",
       "  \"/>\n",
       "<path clip-path=\"url(#clip390)\" d=\"M56.2699 1459.06 L63.9087 1459.06 L63.9087 1432.69 L55.5986 1434.36 L55.5986 1430.1 L63.8624 1428.44 L68.5383 1428.44 L68.5383 1459.06 L76.1772 1459.06 L76.1772 1463 L56.2699 1463 L56.2699 1459.06 Z\" fill=\"#000000\" fill-rule=\"evenodd\" fill-opacity=\"1\" /><path clip-path=\"url(#clip390)\" d=\"M59.8578 1187.51 L76.1772 1187.51 L76.1772 1191.45 L54.2328 1191.45 L54.2328 1187.51 Q56.8949 1184.76 61.4782 1180.13 Q66.0846 1175.48 67.2652 1174.13 Q69.5105 1171.61 70.3902 1169.87 Q71.2929 1168.11 71.2929 1166.42 Q71.2929 1163.67 69.3485 1161.93 Q67.4272 1160.2 64.3254 1160.2 Q62.1263 1160.2 59.6726 1160.96 Q57.2421 1161.73 54.4643 1163.28 L54.4643 1158.55 Q57.2884 1157.42 59.7421 1156.84 Q62.1958 1156.26 64.2328 1156.26 Q69.6031 1156.26 72.7976 1158.95 Q75.992 1161.63 75.992 1166.12 Q75.992 1168.25 75.1818 1170.17 Q74.3948 1172.07 72.2883 1174.67 Q71.7096 1175.34 68.6078 1178.55 Q65.5059 1181.75 59.8578 1187.51 Z\" fill=\"#000000\" fill-rule=\"evenodd\" fill-opacity=\"1\" /><path clip-path=\"url(#clip390)\" d=\"M69.0476 901.266 Q72.404 901.983 74.279 904.252 Q76.1772 906.52 76.1772 909.854 Q76.1772 914.969 72.6587 917.77 Q69.1402 920.571 62.6587 920.571 Q60.4828 920.571 58.168 920.131 Q55.8764 919.715 53.4227 918.858 L53.4227 914.344 Q55.3671 915.479 57.6819 916.057 Q59.9967 916.636 62.5198 916.636 Q66.918 916.636 69.2096 914.9 Q71.5244 913.164 71.5244 909.854 Q71.5244 906.798 69.3717 905.085 Q67.242 903.349 63.4226 903.349 L59.3949 903.349 L59.3949 899.507 L63.6078 899.507 Q67.0569 899.507 68.8855 898.141 Q70.7142 896.752 70.7142 894.159 Q70.7142 891.497 68.8161 890.085 Q66.9411 888.65 63.4226 888.65 Q61.5013 888.65 59.3023 889.067 Q57.1032 889.483 54.4643 890.363 L54.4643 886.196 Q57.1264 885.456 59.4412 885.085 Q61.7791 884.715 63.8393 884.715 Q69.1633 884.715 72.2652 887.145 Q75.367 889.553 75.367 893.673 Q75.367 896.544 73.7235 898.534 Q72.08 900.502 69.0476 901.266 Z\" fill=\"#000000\" fill-rule=\"evenodd\" fill-opacity=\"1\" /><path clip-path=\"url(#clip390)\" d=\"M66.5939 617.866 L54.7884 636.315 L66.5939 636.315 L66.5939 617.866 M65.367 613.792 L71.2466 613.792 L71.2466 636.315 L76.1772 636.315 L76.1772 640.204 L71.2466 640.204 L71.2466 648.352 L66.5939 648.352 L66.5939 640.204 L50.9921 640.204 L50.9921 635.69 L65.367 613.792 Z\" fill=\"#000000\" fill-rule=\"evenodd\" fill-opacity=\"1\" /><path clip-path=\"url(#clip390)\" d=\"M55.2745 342.244 L73.6309 342.244 L73.6309 346.179 L59.5569 346.179 L59.5569 354.652 Q60.5754 354.304 61.5939 354.142 Q62.6124 353.957 63.6309 353.957 Q69.418 353.957 72.7976 357.128 Q76.1772 360.3 76.1772 365.716 Q76.1772 371.295 72.705 374.397 Q69.2328 377.475 62.9134 377.475 Q60.7374 377.475 58.4689 377.105 Q56.2236 376.735 53.8162 375.994 L53.8162 371.295 Q55.8995 372.429 58.1217 372.985 Q60.3439 373.54 62.8208 373.54 Q66.8254 373.54 69.1633 371.434 Q71.5013 369.327 71.5013 365.716 Q71.5013 362.105 69.1633 359.999 Q66.8254 357.892 62.8208 357.892 Q60.9458 357.892 59.0708 358.309 Q57.2189 358.726 55.2745 359.605 L55.2745 342.244 Z\" fill=\"#000000\" fill-rule=\"evenodd\" fill-opacity=\"1\" /><path clip-path=\"url(#clip390)\" d=\"M64.6495 86.1129 Q61.5013 86.1129 59.6495 88.2656 Q57.8208 90.4184 57.8208 94.1684 Q57.8208 97.8952 59.6495 100.071 Q61.5013 102.224 64.6495 102.224 Q67.7976 102.224 69.6263 100.071 Q71.4781 97.8952 71.4781 94.1684 Q71.4781 90.4184 69.6263 88.2656 Q67.7976 86.1129 64.6495 86.1129 M73.9318 71.4602 L73.9318 75.7194 Q72.1726 74.8861 70.367 74.4463 Q68.5846 74.0064 66.8254 74.0064 Q62.1958 74.0064 59.7421 77.1314 Q57.3115 80.2564 56.9643 86.5758 Q58.33 84.5619 60.3902 83.4971 Q62.4504 82.4092 64.9272 82.4092 Q70.1355 82.4092 73.1448 85.5805 Q76.1772 88.7286 76.1772 94.1684 Q76.1772 99.4924 73.029 102.71 Q69.8809 105.928 64.6495 105.928 Q58.6541 105.928 55.4828 101.344 Q52.3116 96.7378 52.3116 88.011 Q52.3116 79.8166 56.2004 74.9555 Q60.0893 70.0713 66.6402 70.0713 Q68.3994 70.0713 70.1818 70.4185 Q71.9874 70.7657 73.9318 71.4602 Z\" fill=\"#000000\" fill-rule=\"evenodd\" fill-opacity=\"1\" /><circle clip-path=\"url(#clip392)\" cx=\"809.716\" cy=\"631.072\" r=\"14.4\" fill=\"#009af9\" fill-rule=\"evenodd\" fill-opacity=\"1\" stroke=\"#000000\" stroke-opacity=\"1\" stroke-width=\"3.2\"/>\n",
       "<circle clip-path=\"url(#clip392)\" cx=\"2289.34\" cy=\"1445.72\" r=\"14.4\" fill=\"#009af9\" fill-rule=\"evenodd\" fill-opacity=\"1\" stroke=\"#000000\" stroke-opacity=\"1\" stroke-width=\"3.2\"/>\n",
       "<circle clip-path=\"url(#clip392)\" cx=\"1443.84\" cy=\"359.524\" r=\"14.4\" fill=\"#009af9\" fill-rule=\"evenodd\" fill-opacity=\"1\" stroke=\"#000000\" stroke-opacity=\"1\" stroke-width=\"3.2\"/>\n",
       "<circle clip-path=\"url(#clip392)\" cx=\"1021.09\" cy=\"359.524\" r=\"14.4\" fill=\"#009af9\" fill-rule=\"evenodd\" fill-opacity=\"1\" stroke=\"#000000\" stroke-opacity=\"1\" stroke-width=\"3.2\"/>\n",
       "<circle clip-path=\"url(#clip392)\" cx=\"2077.97\" cy=\"1174.17\" r=\"14.4\" fill=\"#009af9\" fill-rule=\"evenodd\" fill-opacity=\"1\" stroke=\"#000000\" stroke-opacity=\"1\" stroke-width=\"3.2\"/>\n",
       "<circle clip-path=\"url(#clip392)\" cx=\"1655.22\" cy=\"631.072\" r=\"14.4\" fill=\"#009af9\" fill-rule=\"evenodd\" fill-opacity=\"1\" stroke=\"#000000\" stroke-opacity=\"1\" stroke-width=\"3.2\"/>\n",
       "<circle clip-path=\"url(#clip392)\" cx=\"386.965\" cy=\"1174.17\" r=\"14.4\" fill=\"#009af9\" fill-rule=\"evenodd\" fill-opacity=\"1\" stroke=\"#000000\" stroke-opacity=\"1\" stroke-width=\"3.2\"/>\n",
       "<circle clip-path=\"url(#clip392)\" cx=\"1232.47\" cy=\"87.9763\" r=\"14.4\" fill=\"#009af9\" fill-rule=\"evenodd\" fill-opacity=\"1\" stroke=\"#000000\" stroke-opacity=\"1\" stroke-width=\"3.2\"/>\n",
       "<circle clip-path=\"url(#clip392)\" cx=\"598.34\" cy=\"902.62\" r=\"14.4\" fill=\"#009af9\" fill-rule=\"evenodd\" fill-opacity=\"1\" stroke=\"#000000\" stroke-opacity=\"1\" stroke-width=\"3.2\"/>\n",
       "<circle clip-path=\"url(#clip392)\" cx=\"175.59\" cy=\"1445.72\" r=\"14.4\" fill=\"#009af9\" fill-rule=\"evenodd\" fill-opacity=\"1\" stroke=\"#000000\" stroke-opacity=\"1\" stroke-width=\"3.2\"/>\n",
       "<circle clip-path=\"url(#clip392)\" cx=\"1866.59\" cy=\"902.62\" r=\"14.4\" fill=\"#009af9\" fill-rule=\"evenodd\" fill-opacity=\"1\" stroke=\"#000000\" stroke-opacity=\"1\" stroke-width=\"3.2\"/>\n",
       "</svg>\n"
      ]
     },
     "execution_count": 52,
     "metadata": {},
     "output_type": "execute_result"
    }
   ],
   "source": [
    "scatter(two_standard; legend=false, xaxis=2:12)"
   ]
  },
  {
   "cell_type": "markdown",
   "id": "db461696",
   "metadata": {},
   "source": [
    "### Solving the Sicherman puzzle"
   ]
  },
  {
   "cell_type": "code",
   "execution_count": 53,
   "id": "49c26b7e",
   "metadata": {},
   "outputs": [
    {
     "data": {
      "text/plain": [
       "2002-element Vector{Vector{Int64}}:\n",
       " [1, 2, 2, 2, 2, 2]\n",
       " [1, 2, 2, 2, 2, 3]\n",
       " [1, 2, 2, 2, 2, 4]\n",
       " [1, 2, 2, 2, 2, 5]\n",
       " [1, 2, 2, 2, 2, 6]\n",
       " [1, 2, 2, 2, 2, 7]\n",
       " [1, 2, 2, 2, 2, 8]\n",
       " [1, 2, 2, 2, 2, 9]\n",
       " [1, 2, 2, 2, 2, 10]\n",
       " [1, 2, 2, 2, 2, 11]\n",
       " [1, 2, 2, 2, 3, 3]\n",
       " [1, 2, 2, 2, 3, 4]\n",
       " [1, 2, 2, 2, 3, 5]\n",
       " ⋮\n",
       " [1, 9, 9, 11, 11, 11]\n",
       " [1, 9, 10, 10, 10, 10]\n",
       " [1, 9, 10, 10, 10, 11]\n",
       " [1, 9, 10, 10, 11, 11]\n",
       " [1, 9, 10, 11, 11, 11]\n",
       " [1, 9, 11, 11, 11, 11]\n",
       " [1, 10, 10, 10, 10, 10]\n",
       " [1, 10, 10, 10, 10, 11]\n",
       " [1, 10, 10, 10, 11, 11]\n",
       " [1, 10, 10, 11, 11, 11]\n",
       " [1, 10, 11, 11, 11, 11]\n",
       " [1, 11, 11, 11, 11, 11]"
      ]
     },
     "execution_count": 53,
     "metadata": {},
     "output_type": "execute_result"
    }
   ],
   "source": [
    "all_dice = [[1, x2, x3, x4, x5, x6]\n",
    "            for x2 in 2:11\n",
    "            for x3 in x2:11\n",
    "            for x4 in x3:11\n",
    "            for x5 in x4:11\n",
    "            for x6 in x5:11]"
   ]
  },
  {
   "cell_type": "code",
   "execution_count": 54,
   "id": "8211d956",
   "metadata": {},
   "outputs": [
    {
     "name": "stdout",
     "output_type": "stream",
     "text": [
      "[1, 2, 2, 3, 3, 4] [1, 3, 4, 5, 6, 8]\n",
      "[1, 2, 3, 4, 5, 6] [1, 2, 3, 4, 5, 6]\n",
      "[1, 3, 4, 5, 6, 8] [1, 2, 2, 3, 3, 4]\n"
     ]
    }
   ],
   "source": [
    "for d1 in all_dice, d2 in all_dice\n",
    "    test = Dict{Int, Int}()\n",
    "    for i in d1, j in d2\n",
    "        s = i + j\n",
    "        if haskey(test, s)\n",
    "            test[s] += 1\n",
    "        else\n",
    "            test[s] = 1\n",
    "        end\n",
    "    end\n",
    "    if test == two_standard\n",
    "        println(d1, \" \", d2)\n",
    "    end\n",
    "end"
   ]
  },
  {
   "cell_type": "markdown",
   "id": "e6285b3d",
   "metadata": {},
   "source": [
    "## Structuring your data using named tuples"
   ]
  },
  {
   "cell_type": "markdown",
   "id": "d00c65ce",
   "metadata": {},
   "source": [
    "### Defining named tuples and accessing their contents"
   ]
  },
  {
   "cell_type": "code",
   "execution_count": 55,
   "id": "70e8710d",
   "metadata": {},
   "outputs": [
    {
     "data": {
      "text/plain": [
       "(x = [10.0, 8.0, 13.0, 9.0, 11.0, 14.0, 6.0, 4.0, 12.0, 7.0, 5.0], y = [8.04, 6.95, 7.58, 8.81, 8.33, 9.96, 7.24, 4.26, 10.84, 4.82, 5.68])"
      ]
     },
     "execution_count": 55,
     "metadata": {},
     "output_type": "execute_result"
    }
   ],
   "source": [
    "dataset1 = (x=aq[:, 1], y=aq[:, 2])"
   ]
  },
  {
   "cell_type": "code",
   "execution_count": 56,
   "id": "e4f5cf1b",
   "metadata": {},
   "outputs": [
    {
     "data": {
      "text/plain": [
       "11-element Vector{Float64}:\n",
       " 10.0\n",
       "  8.0\n",
       " 13.0\n",
       "  9.0\n",
       " 11.0\n",
       " 14.0\n",
       "  6.0\n",
       "  4.0\n",
       " 12.0\n",
       "  7.0\n",
       "  5.0"
      ]
     },
     "execution_count": 56,
     "metadata": {},
     "output_type": "execute_result"
    }
   ],
   "source": [
    "dataset1[1]"
   ]
  },
  {
   "cell_type": "code",
   "execution_count": 57,
   "id": "ae72f1e7",
   "metadata": {},
   "outputs": [
    {
     "data": {
      "text/plain": [
       "11-element Vector{Float64}:\n",
       " 10.0\n",
       "  8.0\n",
       " 13.0\n",
       "  9.0\n",
       " 11.0\n",
       " 14.0\n",
       "  6.0\n",
       "  4.0\n",
       " 12.0\n",
       "  7.0\n",
       "  5.0"
      ]
     },
     "execution_count": 57,
     "metadata": {},
     "output_type": "execute_result"
    }
   ],
   "source": [
    "dataset1.x"
   ]
  },
  {
   "cell_type": "code",
   "execution_count": 58,
   "id": "c3bdae8a",
   "metadata": {},
   "outputs": [
    {
     "data": {
      "text/plain": [
       "(set1 = (x = [10.0, 8.0, 13.0, 9.0, 11.0, 14.0, 6.0, 4.0, 12.0, 7.0, 5.0], y = [8.04, 6.95, 7.58, 8.81, 8.33, 9.96, 7.24, 4.26, 10.84, 4.82, 5.68]), set2 = (x = [10.0, 8.0, 13.0, 9.0, 11.0, 14.0, 6.0, 4.0, 12.0, 7.0, 5.0], y = [9.14, 8.14, 8.74, 8.77, 9.26, 8.1, 6.13, 3.1, 9.13, 7.26, 4.74]), set3 = (x = [10.0, 8.0, 13.0, 9.0, 11.0, 14.0, 6.0, 4.0, 12.0, 7.0, 5.0], y = [7.46, 6.77, 12.74, 7.11, 7.81, 8.84, 6.08, 5.39, 8.15, 6.42, 5.73]), set4 = (x = [8.0, 8.0, 8.0, 8.0, 8.0, 8.0, 8.0, 19.0, 8.0, 8.0, 8.0], y = [6.58, 5.76, 7.71, 8.84, 8.47, 7.04, 5.25, 12.5, 5.56, 7.91, 6.89]))"
      ]
     },
     "execution_count": 58,
     "metadata": {},
     "output_type": "execute_result"
    }
   ],
   "source": [
    "data = (set1=(x=aq[:, 1], y=aq[:, 2]),\n",
    "        set2=(x=aq[:, 3], y=aq[:, 4]),\n",
    "        set3=(x=aq[:, 5], y=aq[:, 6]),\n",
    "        set4=(x=aq[:, 7], y=aq[:, 8]))"
   ]
  },
  {
   "cell_type": "code",
   "execution_count": 59,
   "id": "a3e0b213",
   "metadata": {},
   "outputs": [
    {
     "data": {
      "text/plain": [
       "(x = [10.0, 8.0, 13.0, 9.0, 11.0, 14.0, 6.0, 4.0, 12.0, 7.0, 5.0], y = [8.04, 6.95, 7.58, 8.81, 8.33, 9.96, 7.24, 4.26, 10.84, 4.82, 5.68])"
      ]
     },
     "execution_count": 59,
     "metadata": {},
     "output_type": "execute_result"
    }
   ],
   "source": [
    "data.set1"
   ]
  },
  {
   "cell_type": "code",
   "execution_count": 60,
   "id": "65d280e1",
   "metadata": {},
   "outputs": [
    {
     "data": {
      "text/plain": [
       "11-element Vector{Float64}:\n",
       " 10.0\n",
       "  8.0\n",
       " 13.0\n",
       "  9.0\n",
       " 11.0\n",
       " 14.0\n",
       "  6.0\n",
       "  4.0\n",
       " 12.0\n",
       "  7.0\n",
       "  5.0"
      ]
     },
     "execution_count": 60,
     "metadata": {},
     "output_type": "execute_result"
    }
   ],
   "source": [
    "data.set1.x"
   ]
  },
  {
   "cell_type": "markdown",
   "id": "407baa35",
   "metadata": {},
   "source": [
    "### Analyzing Anscombe's quartet data stored in a named tuple"
   ]
  },
  {
   "cell_type": "code",
   "execution_count": 61,
   "id": "dd2411c8",
   "metadata": {},
   "outputs": [
    {
     "data": {
      "text/plain": [
       "(set1 = 9.0, set2 = 9.0, set3 = 9.0, set4 = 9.0)"
      ]
     },
     "execution_count": 61,
     "metadata": {},
     "output_type": "execute_result"
    }
   ],
   "source": [
    "using Statistics\n",
    "map(s -> mean(s.x), data)"
   ]
  },
  {
   "cell_type": "code",
   "execution_count": 62,
   "id": "cfe15eaf",
   "metadata": {},
   "outputs": [
    {
     "data": {
      "text/plain": [
       "(set1 = 0.8164205163448398, set2 = 0.8162365060002429, set3 = 0.8162867394895983, set4 = 0.8165214368885028)"
      ]
     },
     "execution_count": 62,
     "metadata": {},
     "output_type": "execute_result"
    }
   ],
   "source": [
    "map(s -> cor(s.x, s.y), data)"
   ]
  },
  {
   "cell_type": "code",
   "execution_count": 63,
   "id": "daf223cb",
   "metadata": {},
   "outputs": [
    {
     "data": {
      "text/plain": [
       "StatsModels.TableRegressionModel{LinearModel{GLM.LmResp{Vector{Float64}}, GLM.DensePredChol{Float64, LinearAlgebra.CholeskyPivoted{Float64, Matrix{Float64}}}}, Matrix{Float64}}\n",
       "\n",
       "y ~ 1 + x\n",
       "\n",
       "Coefficients:\n",
       "───────────────────────────────────────────────────────────────────────\n",
       "                Coef.  Std. Error     t  Pr(>|t|)  Lower 95%  Upper 95%\n",
       "───────────────────────────────────────────────────────────────────────\n",
       "(Intercept)  3.00009     1.12475   2.67    0.0257   0.455737   5.54444\n",
       "x            0.500091    0.117906  4.24    0.0022   0.23337    0.766812\n",
       "───────────────────────────────────────────────────────────────────────"
      ]
     },
     "execution_count": 63,
     "metadata": {},
     "output_type": "execute_result"
    }
   ],
   "source": [
    "using GLM\n",
    "model = lm(@formula(y ~ x), data.set1)"
   ]
  },
  {
   "cell_type": "code",
   "execution_count": 64,
   "id": "67d57da0",
   "metadata": {},
   "outputs": [
    {
     "data": {
      "text/plain": [
       "0.666542459508775"
      ]
     },
     "execution_count": 64,
     "metadata": {},
     "output_type": "execute_result"
    }
   ],
   "source": [
    "r2(model)"
   ]
  },
  {
   "cell_type": "markdown",
   "id": "62f7d996",
   "metadata": {},
   "source": [
    "## Understanding composite types and mutability of values in Julia"
   ]
  },
  {
   "cell_type": "markdown",
   "id": "b627efba",
   "metadata": {},
   "source": [
    "### Composite types"
   ]
  },
  {
   "cell_type": "raw",
   "id": "f7f71b2b",
   "metadata": {},
   "source": [
    "struct TableRegressionModel{M,T} <: RegressionModel\n",
    "    model::M\n",
    "    mf::ModelFrame\n",
    "    mm::ModelMatrix{T}\n",
    "end"
   ]
  },
  {
   "cell_type": "code",
   "execution_count": 65,
   "id": "3d030329",
   "metadata": {},
   "outputs": [
    {
     "data": {
      "text/plain": [
       "ModelMatrix{Matrix{Float64}}([1.0 10.0; 1.0 8.0; … ; 1.0 7.0; 1.0 5.0], [1, 2])"
      ]
     },
     "execution_count": 65,
     "metadata": {},
     "output_type": "execute_result"
    }
   ],
   "source": [
    "model.mm"
   ]
  },
  {
   "cell_type": "markdown",
   "id": "5a6b3e7c",
   "metadata": {},
   "source": [
    "### Mutability of values"
   ]
  },
  {
   "cell_type": "code",
   "execution_count": 66,
   "id": "f0a8ca7b",
   "metadata": {},
   "outputs": [
    {
     "data": {
      "text/plain": [
       "4-element Vector{Int64}:\n",
       " 3\n",
       " 1\n",
       " 3\n",
       " 2"
      ]
     },
     "execution_count": 66,
     "metadata": {},
     "output_type": "execute_result"
    }
   ],
   "source": [
    "x = [3, 1, 3, 2] "
   ]
  },
  {
   "cell_type": "code",
   "execution_count": 67,
   "id": "2d13bf46",
   "metadata": {},
   "outputs": [
    {
     "data": {
      "text/plain": [
       "3-element Vector{Int64}:\n",
       " 3\n",
       " 1\n",
       " 2"
      ]
     },
     "execution_count": 67,
     "metadata": {},
     "output_type": "execute_result"
    }
   ],
   "source": [
    "unique(x)"
   ]
  },
  {
   "cell_type": "code",
   "execution_count": 68,
   "id": "f76f2835",
   "metadata": {},
   "outputs": [
    {
     "data": {
      "text/plain": [
       "4-element Vector{Int64}:\n",
       " 3\n",
       " 1\n",
       " 3\n",
       " 2"
      ]
     },
     "execution_count": 68,
     "metadata": {},
     "output_type": "execute_result"
    }
   ],
   "source": [
    "x"
   ]
  },
  {
   "cell_type": "code",
   "execution_count": 69,
   "id": "93aaa537",
   "metadata": {},
   "outputs": [
    {
     "data": {
      "text/plain": [
       "3-element Vector{Int64}:\n",
       " 3\n",
       " 1\n",
       " 2"
      ]
     },
     "execution_count": 69,
     "metadata": {},
     "output_type": "execute_result"
    }
   ],
   "source": [
    "unique!(x)"
   ]
  },
  {
   "cell_type": "code",
   "execution_count": 70,
   "id": "bdf52007",
   "metadata": {},
   "outputs": [
    {
     "data": {
      "text/plain": [
       "3-element Vector{Int64}:\n",
       " 3\n",
       " 1\n",
       " 2"
      ]
     },
     "execution_count": 70,
     "metadata": {},
     "output_type": "execute_result"
    }
   ],
   "source": [
    "x"
   ]
  },
  {
   "cell_type": "code",
   "execution_count": 71,
   "id": "1ccadaaf",
   "metadata": {},
   "outputs": [
    {
     "data": {
      "text/plain": [
       "empty_field! (generic function with 1 method)"
      ]
     },
     "execution_count": 71,
     "metadata": {},
     "output_type": "execute_result"
    }
   ],
   "source": [
    "empty_field!(nt, i) = empty!(nt[i])"
   ]
  },
  {
   "cell_type": "code",
   "execution_count": 72,
   "id": "450c9343",
   "metadata": {},
   "outputs": [
    {
     "data": {
      "text/plain": [
       "(dict = Dict(\"b\" => 2, \"a\" => 1), int = 10)"
      ]
     },
     "execution_count": 72,
     "metadata": {},
     "output_type": "execute_result"
    }
   ],
   "source": [
    "nt = (dict = Dict(\"a\" => 1, \"b\" => 2), int=10)"
   ]
  },
  {
   "cell_type": "code",
   "execution_count": 73,
   "id": "4e7310b8",
   "metadata": {},
   "outputs": [
    {
     "data": {
      "text/plain": [
       "(dict = Dict(\"b\" => 2, \"a\" => 1), int = 10)"
      ]
     },
     "execution_count": 73,
     "metadata": {},
     "output_type": "execute_result"
    }
   ],
   "source": [
    "nt"
   ]
  }
 ],
 "metadata": {
  "kernelspec": {
   "display_name": "Julia 1.7.3",
   "language": "julia",
   "name": "julia-1.7"
  },
  "language_info": {
   "file_extension": ".jl",
   "mimetype": "application/julia",
   "name": "julia",
   "version": "1.7.3"
  }
 },
 "nbformat": 4,
 "nbformat_minor": 5
}
